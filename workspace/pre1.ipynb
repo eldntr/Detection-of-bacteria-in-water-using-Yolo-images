{
 "cells": [
  {
   "cell_type": "code",
   "execution_count": 1,
   "metadata": {},
   "outputs": [
    {
     "name": "stdout",
     "output_type": "stream",
     "text": [
      "Requirement already satisfied: onnxruntime in c:\\users\\feers\\anaconda3\\envs\\bacteri\\lib\\site-packages (1.19.2)\n",
      "Requirement already satisfied: coloredlogs in c:\\users\\feers\\anaconda3\\envs\\bacteri\\lib\\site-packages (from onnxruntime) (15.0.1)\n",
      "Requirement already satisfied: flatbuffers in c:\\users\\feers\\anaconda3\\envs\\bacteri\\lib\\site-packages (from onnxruntime) (24.3.25)\n",
      "Requirement already satisfied: numpy>=1.21.6 in c:\\users\\feers\\anaconda3\\envs\\bacteri\\lib\\site-packages (from onnxruntime) (2.0.1)\n",
      "Requirement already satisfied: packaging in c:\\users\\feers\\anaconda3\\envs\\bacteri\\lib\\site-packages (from onnxruntime) (24.1)\n",
      "Requirement already satisfied: protobuf in c:\\users\\feers\\anaconda3\\envs\\bacteri\\lib\\site-packages (from onnxruntime) (5.28.3)\n",
      "Requirement already satisfied: sympy in c:\\users\\feers\\anaconda3\\envs\\bacteri\\lib\\site-packages (from onnxruntime) (1.13.1)\n",
      "Requirement already satisfied: humanfriendly>=9.1 in c:\\users\\feers\\anaconda3\\envs\\bacteri\\lib\\site-packages (from coloredlogs->onnxruntime) (10.0)\n",
      "Requirement already satisfied: mpmath<1.4,>=1.1.0 in c:\\users\\feers\\anaconda3\\envs\\bacteri\\lib\\site-packages (from sympy->onnxruntime) (1.3.0)\n",
      "Requirement already satisfied: pyreadline3 in c:\\users\\feers\\anaconda3\\envs\\bacteri\\lib\\site-packages (from humanfriendly>=9.1->coloredlogs->onnxruntime) (3.5.4)\n",
      "Note: you may need to restart the kernel to use updated packages.\n",
      "Requirement already satisfied: scikit-image in c:\\users\\feers\\anaconda3\\envs\\bacteri\\lib\\site-packages (0.24.0)\n",
      "Requirement already satisfied: numpy>=1.23 in c:\\users\\feers\\anaconda3\\envs\\bacteri\\lib\\site-packages (from scikit-image) (2.0.1)\n",
      "Requirement already satisfied: scipy>=1.9 in c:\\users\\feers\\anaconda3\\envs\\bacteri\\lib\\site-packages (from scikit-image) (1.13.1)\n",
      "Requirement already satisfied: networkx>=2.8 in c:\\users\\feers\\anaconda3\\envs\\bacteri\\lib\\site-packages (from scikit-image) (3.2.1)\n",
      "Requirement already satisfied: pillow>=9.1 in c:\\users\\feers\\anaconda3\\envs\\bacteri\\lib\\site-packages (from scikit-image) (10.4.0)\n",
      "Requirement already satisfied: imageio>=2.33 in c:\\users\\feers\\anaconda3\\envs\\bacteri\\lib\\site-packages (from scikit-image) (2.36.0)\n",
      "Requirement already satisfied: tifffile>=2022.8.12 in c:\\users\\feers\\anaconda3\\envs\\bacteri\\lib\\site-packages (from scikit-image) (2024.8.30)\n",
      "Requirement already satisfied: packaging>=21 in c:\\users\\feers\\anaconda3\\envs\\bacteri\\lib\\site-packages (from scikit-image) (24.1)\n",
      "Requirement already satisfied: lazy-loader>=0.4 in c:\\users\\feers\\anaconda3\\envs\\bacteri\\lib\\site-packages (from scikit-image) (0.4)\n",
      "Note: you may need to restart the kernel to use updated packages.\n"
     ]
    }
   ],
   "source": [
    "%pip install onnxruntime\n",
    "\n",
    "%pip install -U scikit-image"
   ]
  },
  {
   "cell_type": "code",
   "execution_count": 2,
   "metadata": {},
   "outputs": [
    {
     "name": "stdout",
     "output_type": "stream",
     "text": [
      "Requirement already satisfied: albumentations in c:\\users\\feers\\anaconda3\\envs\\bacteri\\lib\\site-packages (1.4.21)\n",
      "Requirement already satisfied: numpy>=1.24.4 in c:\\users\\feers\\anaconda3\\envs\\bacteri\\lib\\site-packages (from albumentations) (2.0.1)\n",
      "Requirement already satisfied: scipy>=1.10.0 in c:\\users\\feers\\anaconda3\\envs\\bacteri\\lib\\site-packages (from albumentations) (1.13.1)\n",
      "Requirement already satisfied: PyYAML in c:\\users\\feers\\anaconda3\\envs\\bacteri\\lib\\site-packages (from albumentations) (6.0.2)\n",
      "Requirement already satisfied: pydantic>=2.7.0 in c:\\users\\feers\\anaconda3\\envs\\bacteri\\lib\\site-packages (from albumentations) (2.9.2)\n",
      "Requirement already satisfied: albucore==0.0.21 in c:\\users\\feers\\anaconda3\\envs\\bacteri\\lib\\site-packages (from albumentations) (0.0.21)\n",
      "Requirement already satisfied: eval-type-backport in c:\\users\\feers\\anaconda3\\envs\\bacteri\\lib\\site-packages (from albumentations) (0.2.0)\n",
      "Requirement already satisfied: opencv-python-headless>=4.9.0.80 in c:\\users\\feers\\anaconda3\\envs\\bacteri\\lib\\site-packages (from albumentations) (4.10.0.84)\n",
      "Requirement already satisfied: typing-extensions>=4.9.0 in c:\\users\\feers\\anaconda3\\envs\\bacteri\\lib\\site-packages (from albumentations) (4.11.0)\n",
      "Requirement already satisfied: stringzilla>=3.10.4 in c:\\users\\feers\\anaconda3\\envs\\bacteri\\lib\\site-packages (from albucore==0.0.21->albumentations) (3.10.10)\n",
      "Requirement already satisfied: simsimd>=5.9.2 in c:\\users\\feers\\anaconda3\\envs\\bacteri\\lib\\site-packages (from albucore==0.0.21->albumentations) (6.0.5)\n",
      "Requirement already satisfied: annotated-types>=0.6.0 in c:\\users\\feers\\anaconda3\\envs\\bacteri\\lib\\site-packages (from pydantic>=2.7.0->albumentations) (0.7.0)\n",
      "Requirement already satisfied: pydantic-core==2.23.4 in c:\\users\\feers\\anaconda3\\envs\\bacteri\\lib\\site-packages (from pydantic>=2.7.0->albumentations) (2.23.4)\n",
      "Note: you may need to restart the kernel to use updated packages.\n"
     ]
    }
   ],
   "source": [
    "%pip install --upgrade albumentations"
   ]
  },
  {
   "cell_type": "code",
   "execution_count": 3,
   "metadata": {},
   "outputs": [
    {
     "name": "stdout",
     "output_type": "stream",
     "text": [
      "Augmented Image saved to: D:\\KULIAH\\SEMESTER 5\\RSBP\\Bacteri\\Detection-of-bacteria-in-water-using-Yolo-images\\Detect\\Detection-of-bacteria-in-water-using-Yolo-images\\temp\\images/train\\EMDS7-G022-122-0400_aug.png\n",
      "Augmented Image saved to: D:\\KULIAH\\SEMESTER 5\\RSBP\\Bacteri\\Detection-of-bacteria-in-water-using-Yolo-images\\Detect\\Detection-of-bacteria-in-water-using-Yolo-images\\temp\\images/train\\EMDS7-G025-029-0400_aug.png\n",
      "Augmented Image saved to: D:\\KULIAH\\SEMESTER 5\\RSBP\\Bacteri\\Detection-of-bacteria-in-water-using-Yolo-images\\Detect\\Detection-of-bacteria-in-water-using-Yolo-images\\temp\\images/train\\EMDS7-G036-047-0400_aug.png\n",
      "Augmented Image saved to: D:\\KULIAH\\SEMESTER 5\\RSBP\\Bacteri\\Detection-of-bacteria-in-water-using-Yolo-images\\Detect\\Detection-of-bacteria-in-water-using-Yolo-images\\temp\\images/train\\EMDS7-G017-058-0400_aug.png\n",
      "Augmented Image saved to: D:\\KULIAH\\SEMESTER 5\\RSBP\\Bacteri\\Detection-of-bacteria-in-water-using-Yolo-images\\Detect\\Detection-of-bacteria-in-water-using-Yolo-images\\temp\\images/train\\EMDS7-G038-032-0400_aug.png\n",
      "Augmented Image saved to: D:\\KULIAH\\SEMESTER 5\\RSBP\\Bacteri\\Detection-of-bacteria-in-water-using-Yolo-images\\Detect\\Detection-of-bacteria-in-water-using-Yolo-images\\temp\\images/train\\EMDS7-G003-038-0400_aug.png\n",
      "Augmented Image saved to: D:\\KULIAH\\SEMESTER 5\\RSBP\\Bacteri\\Detection-of-bacteria-in-water-using-Yolo-images\\Detect\\Detection-of-bacteria-in-water-using-Yolo-images\\temp\\images/train\\EMDS7-G003-049-0400_aug.png\n",
      "Augmented Image saved to: D:\\KULIAH\\SEMESTER 5\\RSBP\\Bacteri\\Detection-of-bacteria-in-water-using-Yolo-images\\Detect\\Detection-of-bacteria-in-water-using-Yolo-images\\temp\\images/train\\EMDS7-G032-040-0400_aug.png\n",
      "Augmented Image saved to: D:\\KULIAH\\SEMESTER 5\\RSBP\\Bacteri\\Detection-of-bacteria-in-water-using-Yolo-images\\Detect\\Detection-of-bacteria-in-water-using-Yolo-images\\temp\\images/train\\EMDS7-G002-003-0400_aug.png\n",
      "Augmented Image saved to: D:\\KULIAH\\SEMESTER 5\\RSBP\\Bacteri\\Detection-of-bacteria-in-water-using-Yolo-images\\Detect\\Detection-of-bacteria-in-water-using-Yolo-images\\temp\\images/train\\EMDS7-G028-073-0400_aug.png\n",
      "Augmented Image saved to: D:\\KULIAH\\SEMESTER 5\\RSBP\\Bacteri\\Detection-of-bacteria-in-water-using-Yolo-images\\Detect\\Detection-of-bacteria-in-water-using-Yolo-images\\temp\\images/train\\EMDS7-G035-020-0400_aug.png\n",
      "Augmented Image saved to: D:\\KULIAH\\SEMESTER 5\\RSBP\\Bacteri\\Detection-of-bacteria-in-water-using-Yolo-images\\Detect\\Detection-of-bacteria-in-water-using-Yolo-images\\temp\\images/train\\EMDS7-G019-021-0400_aug.png\n",
      "Augmented Image saved to: D:\\KULIAH\\SEMESTER 5\\RSBP\\Bacteri\\Detection-of-bacteria-in-water-using-Yolo-images\\Detect\\Detection-of-bacteria-in-water-using-Yolo-images\\temp\\images/train\\EMDS7-G011-009-0400_aug.png\n",
      "Augmented Image saved to: D:\\KULIAH\\SEMESTER 5\\RSBP\\Bacteri\\Detection-of-bacteria-in-water-using-Yolo-images\\Detect\\Detection-of-bacteria-in-water-using-Yolo-images\\temp\\images/train\\EMDS7-G039-026-0400_aug.png\n",
      "Augmented Image saved to: D:\\KULIAH\\SEMESTER 5\\RSBP\\Bacteri\\Detection-of-bacteria-in-water-using-Yolo-images\\Detect\\Detection-of-bacteria-in-water-using-Yolo-images\\temp\\images/train\\EMDS7-G022-244-0400_aug.png\n",
      "Augmented Image saved to: D:\\KULIAH\\SEMESTER 5\\RSBP\\Bacteri\\Detection-of-bacteria-in-water-using-Yolo-images\\Detect\\Detection-of-bacteria-in-water-using-Yolo-images\\temp\\images/train\\EMDS7-G033-016-0400_aug.png\n",
      "Augmented Image saved to: D:\\KULIAH\\SEMESTER 5\\RSBP\\Bacteri\\Detection-of-bacteria-in-water-using-Yolo-images\\Detect\\Detection-of-bacteria-in-water-using-Yolo-images\\temp\\images/train\\EMDS7-G018-051-0400_aug.png\n",
      "Augmented Image saved to: D:\\KULIAH\\SEMESTER 5\\RSBP\\Bacteri\\Detection-of-bacteria-in-water-using-Yolo-images\\Detect\\Detection-of-bacteria-in-water-using-Yolo-images\\temp\\images/train\\EMDS7-G024-003-0400_aug.png\n",
      "Augmented Image saved to: D:\\KULIAH\\SEMESTER 5\\RSBP\\Bacteri\\Detection-of-bacteria-in-water-using-Yolo-images\\Detect\\Detection-of-bacteria-in-water-using-Yolo-images\\temp\\images/train\\EMDS7-G001-022-0400_aug.png\n",
      "Augmented Image saved to: D:\\KULIAH\\SEMESTER 5\\RSBP\\Bacteri\\Detection-of-bacteria-in-water-using-Yolo-images\\Detect\\Detection-of-bacteria-in-water-using-Yolo-images\\temp\\images/train\\EMDS7-G018-058-0400_aug.png\n",
      "Augmented Image saved to: D:\\KULIAH\\SEMESTER 5\\RSBP\\Bacteri\\Detection-of-bacteria-in-water-using-Yolo-images\\Detect\\Detection-of-bacteria-in-water-using-Yolo-images\\temp\\images/train\\EMDS7-G030-014-0400_aug.png\n",
      "Augmented Image saved to: D:\\KULIAH\\SEMESTER 5\\RSBP\\Bacteri\\Detection-of-bacteria-in-water-using-Yolo-images\\Detect\\Detection-of-bacteria-in-water-using-Yolo-images\\temp\\images/train\\EMDS7-G014-007-0400_aug.png\n",
      "Augmented Image saved to: D:\\KULIAH\\SEMESTER 5\\RSBP\\Bacteri\\Detection-of-bacteria-in-water-using-Yolo-images\\Detect\\Detection-of-bacteria-in-water-using-Yolo-images\\temp\\images/train\\EMDS7-G030-015-0400_aug.png\n",
      "Augmented Image saved to: D:\\KULIAH\\SEMESTER 5\\RSBP\\Bacteri\\Detection-of-bacteria-in-water-using-Yolo-images\\Detect\\Detection-of-bacteria-in-water-using-Yolo-images\\temp\\images/train\\EMDS7-G022-238-0400_aug.png\n",
      "Augmented Image saved to: D:\\KULIAH\\SEMESTER 5\\RSBP\\Bacteri\\Detection-of-bacteria-in-water-using-Yolo-images\\Detect\\Detection-of-bacteria-in-water-using-Yolo-images\\temp\\images/train\\EMDS7-G005-039-0400_aug.png\n",
      "Augmented Image saved to: D:\\KULIAH\\SEMESTER 5\\RSBP\\Bacteri\\Detection-of-bacteria-in-water-using-Yolo-images\\Detect\\Detection-of-bacteria-in-water-using-Yolo-images\\temp\\images/train\\EMDS7-G014-087-0400_aug.png\n",
      "Augmented Image saved to: D:\\KULIAH\\SEMESTER 5\\RSBP\\Bacteri\\Detection-of-bacteria-in-water-using-Yolo-images\\Detect\\Detection-of-bacteria-in-water-using-Yolo-images\\temp\\images/train\\EMDS7-G017-073-0400_aug.png\n",
      "Augmented Image saved to: D:\\KULIAH\\SEMESTER 5\\RSBP\\Bacteri\\Detection-of-bacteria-in-water-using-Yolo-images\\Detect\\Detection-of-bacteria-in-water-using-Yolo-images\\temp\\images/train\\EMDS7-G039-007-0400_aug.png\n",
      "Augmented Image saved to: D:\\KULIAH\\SEMESTER 5\\RSBP\\Bacteri\\Detection-of-bacteria-in-water-using-Yolo-images\\Detect\\Detection-of-bacteria-in-water-using-Yolo-images\\temp\\images/train\\EMDS7-G022-256-0400_aug.png\n",
      "Augmented Image saved to: D:\\KULIAH\\SEMESTER 5\\RSBP\\Bacteri\\Detection-of-bacteria-in-water-using-Yolo-images\\Detect\\Detection-of-bacteria-in-water-using-Yolo-images\\temp\\images/train\\EMDS7-G010-005-0400_aug.png\n",
      "Augmented Image saved to: D:\\KULIAH\\SEMESTER 5\\RSBP\\Bacteri\\Detection-of-bacteria-in-water-using-Yolo-images\\Detect\\Detection-of-bacteria-in-water-using-Yolo-images\\temp\\images/train\\EMDS7-G025-047-0400_aug.png\n",
      "Augmented Image saved to: D:\\KULIAH\\SEMESTER 5\\RSBP\\Bacteri\\Detection-of-bacteria-in-water-using-Yolo-images\\Detect\\Detection-of-bacteria-in-water-using-Yolo-images\\temp\\images/train\\EMDS7-G011-022-0400_aug.png\n",
      "Augmented Image saved to: D:\\KULIAH\\SEMESTER 5\\RSBP\\Bacteri\\Detection-of-bacteria-in-water-using-Yolo-images\\Detect\\Detection-of-bacteria-in-water-using-Yolo-images\\temp\\images/train\\EMDS7-G030-035-0400_aug.png\n",
      "Augmented Image saved to: D:\\KULIAH\\SEMESTER 5\\RSBP\\Bacteri\\Detection-of-bacteria-in-water-using-Yolo-images\\Detect\\Detection-of-bacteria-in-water-using-Yolo-images\\temp\\images/train\\EMDS7-G040-008-0400_aug.png\n",
      "Augmented Image saved to: D:\\KULIAH\\SEMESTER 5\\RSBP\\Bacteri\\Detection-of-bacteria-in-water-using-Yolo-images\\Detect\\Detection-of-bacteria-in-water-using-Yolo-images\\temp\\images/train\\EMDS7-G023-008-0400_aug.png\n",
      "Augmented Image saved to: D:\\KULIAH\\SEMESTER 5\\RSBP\\Bacteri\\Detection-of-bacteria-in-water-using-Yolo-images\\Detect\\Detection-of-bacteria-in-water-using-Yolo-images\\temp\\images/train\\EMDS7-G023-035-0400_aug.png\n",
      "Augmented Image saved to: D:\\KULIAH\\SEMESTER 5\\RSBP\\Bacteri\\Detection-of-bacteria-in-water-using-Yolo-images\\Detect\\Detection-of-bacteria-in-water-using-Yolo-images\\temp\\images/train\\EMDS7-G022-045-0400_aug.png\n",
      "Augmented Image saved to: D:\\KULIAH\\SEMESTER 5\\RSBP\\Bacteri\\Detection-of-bacteria-in-water-using-Yolo-images\\Detect\\Detection-of-bacteria-in-water-using-Yolo-images\\temp\\images/train\\EMDS7-G025-020-0400_aug.png\n",
      "Augmented Image saved to: D:\\KULIAH\\SEMESTER 5\\RSBP\\Bacteri\\Detection-of-bacteria-in-water-using-Yolo-images\\Detect\\Detection-of-bacteria-in-water-using-Yolo-images\\temp\\images/train\\EMDS7-G033-023-0400_aug.png\n",
      "Augmented Image saved to: D:\\KULIAH\\SEMESTER 5\\RSBP\\Bacteri\\Detection-of-bacteria-in-water-using-Yolo-images\\Detect\\Detection-of-bacteria-in-water-using-Yolo-images\\temp\\images/train\\EMDS7-G035-023-0400_aug.png\n",
      "Augmented Image saved to: D:\\KULIAH\\SEMESTER 5\\RSBP\\Bacteri\\Detection-of-bacteria-in-water-using-Yolo-images\\Detect\\Detection-of-bacteria-in-water-using-Yolo-images\\temp\\images/train\\EMDS7-G003-070-0400_aug.png\n",
      "Augmented Image saved to: D:\\KULIAH\\SEMESTER 5\\RSBP\\Bacteri\\Detection-of-bacteria-in-water-using-Yolo-images\\Detect\\Detection-of-bacteria-in-water-using-Yolo-images\\temp\\images/train\\EMDS7-G023-012-0400_aug.png\n",
      "Augmented Image saved to: D:\\KULIAH\\SEMESTER 5\\RSBP\\Bacteri\\Detection-of-bacteria-in-water-using-Yolo-images\\Detect\\Detection-of-bacteria-in-water-using-Yolo-images\\temp\\images/train\\EMDS7-G012-068-0400_aug.png\n",
      "Augmented Image saved to: D:\\KULIAH\\SEMESTER 5\\RSBP\\Bacteri\\Detection-of-bacteria-in-water-using-Yolo-images\\Detect\\Detection-of-bacteria-in-water-using-Yolo-images\\temp\\images/train\\EMDS7-G003-132-0400_aug.png\n",
      "Augmented Image saved to: D:\\KULIAH\\SEMESTER 5\\RSBP\\Bacteri\\Detection-of-bacteria-in-water-using-Yolo-images\\Detect\\Detection-of-bacteria-in-water-using-Yolo-images\\temp\\images/train\\EMDS7-G036-058-0400_aug.png\n",
      "Augmented Image saved to: D:\\KULIAH\\SEMESTER 5\\RSBP\\Bacteri\\Detection-of-bacteria-in-water-using-Yolo-images\\Detect\\Detection-of-bacteria-in-water-using-Yolo-images\\temp\\images/train\\EMDS7-G039-040-0400_aug.png\n",
      "Augmented Image saved to: D:\\KULIAH\\SEMESTER 5\\RSBP\\Bacteri\\Detection-of-bacteria-in-water-using-Yolo-images\\Detect\\Detection-of-bacteria-in-water-using-Yolo-images\\temp\\images/train\\EMDS7-G028-077-0400_aug.png\n",
      "Augmented Image saved to: D:\\KULIAH\\SEMESTER 5\\RSBP\\Bacteri\\Detection-of-bacteria-in-water-using-Yolo-images\\Detect\\Detection-of-bacteria-in-water-using-Yolo-images\\temp\\images/train\\EMDS7-G040-001-0400_aug.png\n",
      "Augmented Image saved to: D:\\KULIAH\\SEMESTER 5\\RSBP\\Bacteri\\Detection-of-bacteria-in-water-using-Yolo-images\\Detect\\Detection-of-bacteria-in-water-using-Yolo-images\\temp\\images/train\\EMDS7-G011-027-0400_aug.png\n",
      "Augmented Image saved to: D:\\KULIAH\\SEMESTER 5\\RSBP\\Bacteri\\Detection-of-bacteria-in-water-using-Yolo-images\\Detect\\Detection-of-bacteria-in-water-using-Yolo-images\\temp\\images/train\\EMDS7-G022-251-0400_aug.png\n",
      "Augmented Image saved to: D:\\KULIAH\\SEMESTER 5\\RSBP\\Bacteri\\Detection-of-bacteria-in-water-using-Yolo-images\\Detect\\Detection-of-bacteria-in-water-using-Yolo-images\\temp\\images/train\\EMDS7-G003-249-0400_aug.png\n",
      "Augmented Image saved to: D:\\KULIAH\\SEMESTER 5\\RSBP\\Bacteri\\Detection-of-bacteria-in-water-using-Yolo-images\\Detect\\Detection-of-bacteria-in-water-using-Yolo-images\\temp\\images/train\\EMDS7-G025-073-0400_aug.png\n",
      "Augmented Image saved to: D:\\KULIAH\\SEMESTER 5\\RSBP\\Bacteri\\Detection-of-bacteria-in-water-using-Yolo-images\\Detect\\Detection-of-bacteria-in-water-using-Yolo-images\\temp\\images/train\\EMDS7-G030-011-0400_aug.png\n",
      "Augmented Image saved to: D:\\KULIAH\\SEMESTER 5\\RSBP\\Bacteri\\Detection-of-bacteria-in-water-using-Yolo-images\\Detect\\Detection-of-bacteria-in-water-using-Yolo-images\\temp\\images/train\\EMDS7-G022-063-0400_aug.png\n",
      "Augmented Image saved to: D:\\KULIAH\\SEMESTER 5\\RSBP\\Bacteri\\Detection-of-bacteria-in-water-using-Yolo-images\\Detect\\Detection-of-bacteria-in-water-using-Yolo-images\\temp\\images/train\\EMDS7-G011-054-0400_aug.png\n",
      "Augmented Image saved to: D:\\KULIAH\\SEMESTER 5\\RSBP\\Bacteri\\Detection-of-bacteria-in-water-using-Yolo-images\\Detect\\Detection-of-bacteria-in-water-using-Yolo-images\\temp\\images/train\\EMDS7-G014-064-0400_aug.png\n",
      "Augmented Image saved to: D:\\KULIAH\\SEMESTER 5\\RSBP\\Bacteri\\Detection-of-bacteria-in-water-using-Yolo-images\\Detect\\Detection-of-bacteria-in-water-using-Yolo-images\\temp\\images/train\\EMDS7-G038-011-0400_aug.png\n",
      "Augmented Image saved to: D:\\KULIAH\\SEMESTER 5\\RSBP\\Bacteri\\Detection-of-bacteria-in-water-using-Yolo-images\\Detect\\Detection-of-bacteria-in-water-using-Yolo-images\\temp\\images/train\\EMDS7-G022-159-0400_aug.png\n",
      "Augmented Image saved to: D:\\KULIAH\\SEMESTER 5\\RSBP\\Bacteri\\Detection-of-bacteria-in-water-using-Yolo-images\\Detect\\Detection-of-bacteria-in-water-using-Yolo-images\\temp\\images/train\\EMDS7-G003-231-0400_aug.png\n",
      "Augmented Image saved to: D:\\KULIAH\\SEMESTER 5\\RSBP\\Bacteri\\Detection-of-bacteria-in-water-using-Yolo-images\\Detect\\Detection-of-bacteria-in-water-using-Yolo-images\\temp\\images/train\\EMDS7-G011-001-0400_aug.png\n",
      "Augmented Image saved to: D:\\KULIAH\\SEMESTER 5\\RSBP\\Bacteri\\Detection-of-bacteria-in-water-using-Yolo-images\\Detect\\Detection-of-bacteria-in-water-using-Yolo-images\\temp\\images/train\\EMDS7-G022-030-0400_aug.png\n",
      "Augmented Image saved to: D:\\KULIAH\\SEMESTER 5\\RSBP\\Bacteri\\Detection-of-bacteria-in-water-using-Yolo-images\\Detect\\Detection-of-bacteria-in-water-using-Yolo-images\\temp\\images/train\\EMDS7-G011-023-0400_aug.png\n",
      "Augmented Image saved to: D:\\KULIAH\\SEMESTER 5\\RSBP\\Bacteri\\Detection-of-bacteria-in-water-using-Yolo-images\\Detect\\Detection-of-bacteria-in-water-using-Yolo-images\\temp\\images/train\\EMDS7-G008-023-0400_aug.png\n",
      "Augmented Image saved to: D:\\KULIAH\\SEMESTER 5\\RSBP\\Bacteri\\Detection-of-bacteria-in-water-using-Yolo-images\\Detect\\Detection-of-bacteria-in-water-using-Yolo-images\\temp\\images/train\\EMDS7-G022-056-0400_aug.png\n",
      "Augmented Image saved to: D:\\KULIAH\\SEMESTER 5\\RSBP\\Bacteri\\Detection-of-bacteria-in-water-using-Yolo-images\\Detect\\Detection-of-bacteria-in-water-using-Yolo-images\\temp\\images/train\\EMDS7-G028-066-0400_aug.png\n",
      "Augmented Image saved to: D:\\KULIAH\\SEMESTER 5\\RSBP\\Bacteri\\Detection-of-bacteria-in-water-using-Yolo-images\\Detect\\Detection-of-bacteria-in-water-using-Yolo-images\\temp\\images/train\\EMDS7-G014-074-0400_aug.png\n",
      "Augmented Image saved to: D:\\KULIAH\\SEMESTER 5\\RSBP\\Bacteri\\Detection-of-bacteria-in-water-using-Yolo-images\\Detect\\Detection-of-bacteria-in-water-using-Yolo-images\\temp\\images/train\\EMDS7-G035-017-0400_aug.png\n",
      "Augmented Image saved to: D:\\KULIAH\\SEMESTER 5\\RSBP\\Bacteri\\Detection-of-bacteria-in-water-using-Yolo-images\\Detect\\Detection-of-bacteria-in-water-using-Yolo-images\\temp\\images/train\\EMDS7-G014-088-0400_aug.png\n",
      "Augmented Image saved to: D:\\KULIAH\\SEMESTER 5\\RSBP\\Bacteri\\Detection-of-bacteria-in-water-using-Yolo-images\\Detect\\Detection-of-bacteria-in-water-using-Yolo-images\\temp\\images/train\\EMDS7-G039-017-0400_aug.png\n",
      "Augmented Image saved to: D:\\KULIAH\\SEMESTER 5\\RSBP\\Bacteri\\Detection-of-bacteria-in-water-using-Yolo-images\\Detect\\Detection-of-bacteria-in-water-using-Yolo-images\\temp\\images/train\\EMDS7-G022-165-0400_aug.png\n",
      "Augmented Image saved to: D:\\KULIAH\\SEMESTER 5\\RSBP\\Bacteri\\Detection-of-bacteria-in-water-using-Yolo-images\\Detect\\Detection-of-bacteria-in-water-using-Yolo-images\\temp\\images/train\\EMDS7-G004-016-0400_aug.png\n",
      "Augmented Image saved to: D:\\KULIAH\\SEMESTER 5\\RSBP\\Bacteri\\Detection-of-bacteria-in-water-using-Yolo-images\\Detect\\Detection-of-bacteria-in-water-using-Yolo-images\\temp\\images/train\\EMDS7-G007-001-0400_aug.png\n",
      "Augmented Image saved to: D:\\KULIAH\\SEMESTER 5\\RSBP\\Bacteri\\Detection-of-bacteria-in-water-using-Yolo-images\\Detect\\Detection-of-bacteria-in-water-using-Yolo-images\\temp\\images/train\\EMDS7-G009-025-0400_aug.png\n",
      "Augmented Image saved to: D:\\KULIAH\\SEMESTER 5\\RSBP\\Bacteri\\Detection-of-bacteria-in-water-using-Yolo-images\\Detect\\Detection-of-bacteria-in-water-using-Yolo-images\\temp\\images/train\\EMDS7-G005-021-0400_aug.png\n",
      "Augmented Image saved to: D:\\KULIAH\\SEMESTER 5\\RSBP\\Bacteri\\Detection-of-bacteria-in-water-using-Yolo-images\\Detect\\Detection-of-bacteria-in-water-using-Yolo-images\\temp\\images/train\\EMDS7-G011-020-0400_aug.png\n",
      "Augmented Image saved to: D:\\KULIAH\\SEMESTER 5\\RSBP\\Bacteri\\Detection-of-bacteria-in-water-using-Yolo-images\\Detect\\Detection-of-bacteria-in-water-using-Yolo-images\\temp\\images/train\\EMDS7-G022-195-0400_aug.png\n",
      "Augmented Image saved to: D:\\KULIAH\\SEMESTER 5\\RSBP\\Bacteri\\Detection-of-bacteria-in-water-using-Yolo-images\\Detect\\Detection-of-bacteria-in-water-using-Yolo-images\\temp\\images/train\\EMDS7-G011-008-0400_aug.png\n",
      "Augmented Image saved to: D:\\KULIAH\\SEMESTER 5\\RSBP\\Bacteri\\Detection-of-bacteria-in-water-using-Yolo-images\\Detect\\Detection-of-bacteria-in-water-using-Yolo-images\\temp\\images/train\\EMDS7-G003-226-0400_aug.png\n",
      "Augmented Image saved to: D:\\KULIAH\\SEMESTER 5\\RSBP\\Bacteri\\Detection-of-bacteria-in-water-using-Yolo-images\\Detect\\Detection-of-bacteria-in-water-using-Yolo-images\\temp\\images/train\\EMDS7-G003-081-0400_aug.png\n",
      "Augmented Image saved to: D:\\KULIAH\\SEMESTER 5\\RSBP\\Bacteri\\Detection-of-bacteria-in-water-using-Yolo-images\\Detect\\Detection-of-bacteria-in-water-using-Yolo-images\\temp\\images/train\\EMDS7-G012-105-0400_aug.png\n",
      "Augmented Image saved to: D:\\KULIAH\\SEMESTER 5\\RSBP\\Bacteri\\Detection-of-bacteria-in-water-using-Yolo-images\\Detect\\Detection-of-bacteria-in-water-using-Yolo-images\\temp\\images/train\\EMDS7-G010-009-0400_aug.png\n",
      "Augmented Image saved to: D:\\KULIAH\\SEMESTER 5\\RSBP\\Bacteri\\Detection-of-bacteria-in-water-using-Yolo-images\\Detect\\Detection-of-bacteria-in-water-using-Yolo-images\\temp\\images/train\\EMDS7-G022-223-0400_aug.png\n",
      "Augmented Image saved to: D:\\KULIAH\\SEMESTER 5\\RSBP\\Bacteri\\Detection-of-bacteria-in-water-using-Yolo-images\\Detect\\Detection-of-bacteria-in-water-using-Yolo-images\\temp\\images/train\\EMDS7-G017-026-0400_aug.png\n",
      "Augmented Image saved to: D:\\KULIAH\\SEMESTER 5\\RSBP\\Bacteri\\Detection-of-bacteria-in-water-using-Yolo-images\\Detect\\Detection-of-bacteria-in-water-using-Yolo-images\\temp\\images/train\\EMDS7-G033-013-0400_aug.png\n",
      "Augmented Image saved to: D:\\KULIAH\\SEMESTER 5\\RSBP\\Bacteri\\Detection-of-bacteria-in-water-using-Yolo-images\\Detect\\Detection-of-bacteria-in-water-using-Yolo-images\\temp\\images/train\\EMDS7-G017-041-0400_aug.png\n",
      "Augmented Image saved to: D:\\KULIAH\\SEMESTER 5\\RSBP\\Bacteri\\Detection-of-bacteria-in-water-using-Yolo-images\\Detect\\Detection-of-bacteria-in-water-using-Yolo-images\\temp\\images/train\\EMDS7-G009-071-0400_aug.png\n",
      "Augmented Image saved to: D:\\KULIAH\\SEMESTER 5\\RSBP\\Bacteri\\Detection-of-bacteria-in-water-using-Yolo-images\\Detect\\Detection-of-bacteria-in-water-using-Yolo-images\\temp\\images/train\\EMDS7-G022-066-0400_aug.png\n",
      "Augmented Image saved to: D:\\KULIAH\\SEMESTER 5\\RSBP\\Bacteri\\Detection-of-bacteria-in-water-using-Yolo-images\\Detect\\Detection-of-bacteria-in-water-using-Yolo-images\\temp\\images/train\\EMDS7-G023-001-0400_aug.png\n",
      "Augmented Image saved to: D:\\KULIAH\\SEMESTER 5\\RSBP\\Bacteri\\Detection-of-bacteria-in-water-using-Yolo-images\\Detect\\Detection-of-bacteria-in-water-using-Yolo-images\\temp\\images/train\\EMDS7-G001-015-0400_aug.png\n",
      "Augmented Image saved to: D:\\KULIAH\\SEMESTER 5\\RSBP\\Bacteri\\Detection-of-bacteria-in-water-using-Yolo-images\\Detect\\Detection-of-bacteria-in-water-using-Yolo-images\\temp\\images/train\\EMDS7-G009-028-0400_aug.png\n",
      "Augmented Image saved to: D:\\KULIAH\\SEMESTER 5\\RSBP\\Bacteri\\Detection-of-bacteria-in-water-using-Yolo-images\\Detect\\Detection-of-bacteria-in-water-using-Yolo-images\\temp\\images/train\\EMDS7-G028-019-0400_aug.png\n",
      "Augmented Image saved to: D:\\KULIAH\\SEMESTER 5\\RSBP\\Bacteri\\Detection-of-bacteria-in-water-using-Yolo-images\\Detect\\Detection-of-bacteria-in-water-using-Yolo-images\\temp\\images/train\\EMDS7-G020-016-0400_aug.png\n",
      "Augmented Image saved to: D:\\KULIAH\\SEMESTER 5\\RSBP\\Bacteri\\Detection-of-bacteria-in-water-using-Yolo-images\\Detect\\Detection-of-bacteria-in-water-using-Yolo-images\\temp\\images/train\\EMDS7-G035-045-0400_aug.png\n",
      "Augmented Image saved to: D:\\KULIAH\\SEMESTER 5\\RSBP\\Bacteri\\Detection-of-bacteria-in-water-using-Yolo-images\\Detect\\Detection-of-bacteria-in-water-using-Yolo-images\\temp\\images/train\\EMDS7-G032-088-0400_aug.png\n",
      "Augmented Image saved to: D:\\KULIAH\\SEMESTER 5\\RSBP\\Bacteri\\Detection-of-bacteria-in-water-using-Yolo-images\\Detect\\Detection-of-bacteria-in-water-using-Yolo-images\\temp\\images/train\\EMDS7-G005-041-0400_aug.png\n",
      "Augmented Image saved to: D:\\KULIAH\\SEMESTER 5\\RSBP\\Bacteri\\Detection-of-bacteria-in-water-using-Yolo-images\\Detect\\Detection-of-bacteria-in-water-using-Yolo-images\\temp\\images/train\\EMDS7-G022-205-0400_aug.png\n",
      "Augmented Image saved to: D:\\KULIAH\\SEMESTER 5\\RSBP\\Bacteri\\Detection-of-bacteria-in-water-using-Yolo-images\\Detect\\Detection-of-bacteria-in-water-using-Yolo-images\\temp\\images/train\\EMDS7-G039-012-0400_aug.png\n",
      "Augmented Image saved to: D:\\KULIAH\\SEMESTER 5\\RSBP\\Bacteri\\Detection-of-bacteria-in-water-using-Yolo-images\\Detect\\Detection-of-bacteria-in-water-using-Yolo-images\\temp\\images/train\\EMDS7-G009-033-0400_aug.png\n",
      "Augmented Image saved to: D:\\KULIAH\\SEMESTER 5\\RSBP\\Bacteri\\Detection-of-bacteria-in-water-using-Yolo-images\\Detect\\Detection-of-bacteria-in-water-using-Yolo-images\\temp\\images/train\\EMDS7-G014-040-0400_aug.png\n",
      "Augmented Image saved to: D:\\KULIAH\\SEMESTER 5\\RSBP\\Bacteri\\Detection-of-bacteria-in-water-using-Yolo-images\\Detect\\Detection-of-bacteria-in-water-using-Yolo-images\\temp\\images/train\\EMDS7-G004-072-0400_aug.png\n",
      "Augmented Image saved to: D:\\KULIAH\\SEMESTER 5\\RSBP\\Bacteri\\Detection-of-bacteria-in-water-using-Yolo-images\\Detect\\Detection-of-bacteria-in-water-using-Yolo-images\\temp\\images/train\\EMDS7-G003-263-0400_aug.png\n",
      "Augmented Image saved to: D:\\KULIAH\\SEMESTER 5\\RSBP\\Bacteri\\Detection-of-bacteria-in-water-using-Yolo-images\\Detect\\Detection-of-bacteria-in-water-using-Yolo-images\\temp\\images/train\\EMDS7-G019-001-0400_aug.png\n",
      "Augmented Image saved to: D:\\KULIAH\\SEMESTER 5\\RSBP\\Bacteri\\Detection-of-bacteria-in-water-using-Yolo-images\\Detect\\Detection-of-bacteria-in-water-using-Yolo-images\\temp\\images/train\\EMDS7-G017-014-0400_aug.png\n",
      "Augmented Image saved to: D:\\KULIAH\\SEMESTER 5\\RSBP\\Bacteri\\Detection-of-bacteria-in-water-using-Yolo-images\\Detect\\Detection-of-bacteria-in-water-using-Yolo-images\\temp\\images/train\\EMDS7-G003-304-0400_aug.png\n",
      "Augmented Image saved to: D:\\KULIAH\\SEMESTER 5\\RSBP\\Bacteri\\Detection-of-bacteria-in-water-using-Yolo-images\\Detect\\Detection-of-bacteria-in-water-using-Yolo-images\\temp\\images/train\\EMDS7-G031-024-0400_aug.png\n",
      "Augmented Image saved to: D:\\KULIAH\\SEMESTER 5\\RSBP\\Bacteri\\Detection-of-bacteria-in-water-using-Yolo-images\\Detect\\Detection-of-bacteria-in-water-using-Yolo-images\\temp\\images/train\\EMDS7-G005-016-0400_aug.png\n",
      "Augmented Image saved to: D:\\KULIAH\\SEMESTER 5\\RSBP\\Bacteri\\Detection-of-bacteria-in-water-using-Yolo-images\\Detect\\Detection-of-bacteria-in-water-using-Yolo-images\\temp\\images/train\\EMDS7-G036-022-0400_aug.png\n",
      "Augmented Image saved to: D:\\KULIAH\\SEMESTER 5\\RSBP\\Bacteri\\Detection-of-bacteria-in-water-using-Yolo-images\\Detect\\Detection-of-bacteria-in-water-using-Yolo-images\\temp\\images/train\\EMDS7-G025-024-0400_aug.png\n",
      "Augmented Image saved to: D:\\KULIAH\\SEMESTER 5\\RSBP\\Bacteri\\Detection-of-bacteria-in-water-using-Yolo-images\\Detect\\Detection-of-bacteria-in-water-using-Yolo-images\\temp\\images/train\\EMDS7-G018-070-0400_aug.png\n",
      "Augmented Image saved to: D:\\KULIAH\\SEMESTER 5\\RSBP\\Bacteri\\Detection-of-bacteria-in-water-using-Yolo-images\\Detect\\Detection-of-bacteria-in-water-using-Yolo-images\\temp\\images/train\\EMDS7-G036-043-0400_aug.png\n",
      "Augmented Image saved to: D:\\KULIAH\\SEMESTER 5\\RSBP\\Bacteri\\Detection-of-bacteria-in-water-using-Yolo-images\\Detect\\Detection-of-bacteria-in-water-using-Yolo-images\\temp\\images/train\\EMDS7-G004-003-0400_aug.png\n",
      "Augmented Image saved to: D:\\KULIAH\\SEMESTER 5\\RSBP\\Bacteri\\Detection-of-bacteria-in-water-using-Yolo-images\\Detect\\Detection-of-bacteria-in-water-using-Yolo-images\\temp\\images/train\\EMDS7-G041-001-0400_aug.png\n",
      "Augmented Image saved to: D:\\KULIAH\\SEMESTER 5\\RSBP\\Bacteri\\Detection-of-bacteria-in-water-using-Yolo-images\\Detect\\Detection-of-bacteria-in-water-using-Yolo-images\\temp\\images/train\\EMDS7-G017-034-0400_aug.png\n",
      "Augmented Image saved to: D:\\KULIAH\\SEMESTER 5\\RSBP\\Bacteri\\Detection-of-bacteria-in-water-using-Yolo-images\\Detect\\Detection-of-bacteria-in-water-using-Yolo-images\\temp\\images/train\\EMDS7-G039-015-0400_aug.png\n",
      "Augmented Image saved to: D:\\KULIAH\\SEMESTER 5\\RSBP\\Bacteri\\Detection-of-bacteria-in-water-using-Yolo-images\\Detect\\Detection-of-bacteria-in-water-using-Yolo-images\\temp\\images/train\\EMDS7-G020-032-0400_aug.png\n",
      "Augmented Image saved to: D:\\KULIAH\\SEMESTER 5\\RSBP\\Bacteri\\Detection-of-bacteria-in-water-using-Yolo-images\\Detect\\Detection-of-bacteria-in-water-using-Yolo-images\\temp\\images/train\\EMDS7-G025-049-0400_aug.png\n",
      "Augmented Image saved to: D:\\KULIAH\\SEMESTER 5\\RSBP\\Bacteri\\Detection-of-bacteria-in-water-using-Yolo-images\\Detect\\Detection-of-bacteria-in-water-using-Yolo-images\\temp\\images/train\\EMDS7-G006-010-0400_aug.png\n",
      "Augmented Image saved to: D:\\KULIAH\\SEMESTER 5\\RSBP\\Bacteri\\Detection-of-bacteria-in-water-using-Yolo-images\\Detect\\Detection-of-bacteria-in-water-using-Yolo-images\\temp\\images/train\\EMDS7-G009-065-0400_aug.png\n",
      "Augmented Image saved to: D:\\KULIAH\\SEMESTER 5\\RSBP\\Bacteri\\Detection-of-bacteria-in-water-using-Yolo-images\\Detect\\Detection-of-bacteria-in-water-using-Yolo-images\\temp\\images/train\\EMDS7-G035-042-0400_aug.png\n",
      "Augmented Image saved to: D:\\KULIAH\\SEMESTER 5\\RSBP\\Bacteri\\Detection-of-bacteria-in-water-using-Yolo-images\\Detect\\Detection-of-bacteria-in-water-using-Yolo-images\\temp\\images/train\\EMDS7-G024-020-0400_aug.png\n",
      "Augmented Image saved to: D:\\KULIAH\\SEMESTER 5\\RSBP\\Bacteri\\Detection-of-bacteria-in-water-using-Yolo-images\\Detect\\Detection-of-bacteria-in-water-using-Yolo-images\\temp\\images/train\\EMDS7-G012-083-0400_aug.png\n",
      "Augmented Image saved to: D:\\KULIAH\\SEMESTER 5\\RSBP\\Bacteri\\Detection-of-bacteria-in-water-using-Yolo-images\\Detect\\Detection-of-bacteria-in-water-using-Yolo-images\\temp\\images/train\\EMDS7-G008-011-0400_aug.png\n",
      "Augmented Image saved to: D:\\KULIAH\\SEMESTER 5\\RSBP\\Bacteri\\Detection-of-bacteria-in-water-using-Yolo-images\\Detect\\Detection-of-bacteria-in-water-using-Yolo-images\\temp\\images/train\\EMDS7-G015-005-0400_aug.png\n",
      "Augmented Image saved to: D:\\KULIAH\\SEMESTER 5\\RSBP\\Bacteri\\Detection-of-bacteria-in-water-using-Yolo-images\\Detect\\Detection-of-bacteria-in-water-using-Yolo-images\\temp\\images/train\\EMDS7-G028-061-0400_aug.png\n",
      "Augmented Image saved to: D:\\KULIAH\\SEMESTER 5\\RSBP\\Bacteri\\Detection-of-bacteria-in-water-using-Yolo-images\\Detect\\Detection-of-bacteria-in-water-using-Yolo-images\\temp\\images/train\\EMDS7-G014-075-0400_aug.png\n",
      "Augmented Image saved to: D:\\KULIAH\\SEMESTER 5\\RSBP\\Bacteri\\Detection-of-bacteria-in-water-using-Yolo-images\\Detect\\Detection-of-bacteria-in-water-using-Yolo-images\\temp\\images/train\\EMDS7-G038-027-0400_aug.png\n",
      "Augmented Image saved to: D:\\KULIAH\\SEMESTER 5\\RSBP\\Bacteri\\Detection-of-bacteria-in-water-using-Yolo-images\\Detect\\Detection-of-bacteria-in-water-using-Yolo-images\\temp\\images/train\\EMDS7-G032-069-0400_aug.png\n",
      "Augmented Image saved to: D:\\KULIAH\\SEMESTER 5\\RSBP\\Bacteri\\Detection-of-bacteria-in-water-using-Yolo-images\\Detect\\Detection-of-bacteria-in-water-using-Yolo-images\\temp\\images/train\\EMDS7-G016-013-0400_aug.png\n",
      "Augmented Image saved to: D:\\KULIAH\\SEMESTER 5\\RSBP\\Bacteri\\Detection-of-bacteria-in-water-using-Yolo-images\\Detect\\Detection-of-bacteria-in-water-using-Yolo-images\\temp\\images/train\\EMDS7-G030-006-0400_aug.png\n",
      "Augmented Image saved to: D:\\KULIAH\\SEMESTER 5\\RSBP\\Bacteri\\Detection-of-bacteria-in-water-using-Yolo-images\\Detect\\Detection-of-bacteria-in-water-using-Yolo-images\\temp\\images/train\\EMDS7-G026-004-0400_aug.png\n",
      "Augmented Image saved to: D:\\KULIAH\\SEMESTER 5\\RSBP\\Bacteri\\Detection-of-bacteria-in-water-using-Yolo-images\\Detect\\Detection-of-bacteria-in-water-using-Yolo-images\\temp\\images/train\\EMDS7-G017-046-0400_aug.png\n",
      "Augmented Image saved to: D:\\KULIAH\\SEMESTER 5\\RSBP\\Bacteri\\Detection-of-bacteria-in-water-using-Yolo-images\\Detect\\Detection-of-bacteria-in-water-using-Yolo-images\\temp\\images/train\\EMDS7-G040-009-0400_aug.png\n",
      "Augmented Image saved to: D:\\KULIAH\\SEMESTER 5\\RSBP\\Bacteri\\Detection-of-bacteria-in-water-using-Yolo-images\\Detect\\Detection-of-bacteria-in-water-using-Yolo-images\\temp\\images/train\\EMDS7-G004-036-0400_aug.png\n",
      "Augmented Image saved to: D:\\KULIAH\\SEMESTER 5\\RSBP\\Bacteri\\Detection-of-bacteria-in-water-using-Yolo-images\\Detect\\Detection-of-bacteria-in-water-using-Yolo-images\\temp\\images/train\\EMDS7-G033-024-0400_aug.png\n",
      "Augmented Image saved to: D:\\KULIAH\\SEMESTER 5\\RSBP\\Bacteri\\Detection-of-bacteria-in-water-using-Yolo-images\\Detect\\Detection-of-bacteria-in-water-using-Yolo-images\\temp\\images/train\\EMDS7-G039-014-0400_aug.png\n",
      "Augmented Image saved to: D:\\KULIAH\\SEMESTER 5\\RSBP\\Bacteri\\Detection-of-bacteria-in-water-using-Yolo-images\\Detect\\Detection-of-bacteria-in-water-using-Yolo-images\\temp\\images/train\\EMDS7-G020-006-0400_aug.png\n",
      "Augmented Image saved to: D:\\KULIAH\\SEMESTER 5\\RSBP\\Bacteri\\Detection-of-bacteria-in-water-using-Yolo-images\\Detect\\Detection-of-bacteria-in-water-using-Yolo-images\\temp\\images/train\\EMDS7-G030-016-0400_aug.png\n",
      "Augmented Image saved to: D:\\KULIAH\\SEMESTER 5\\RSBP\\Bacteri\\Detection-of-bacteria-in-water-using-Yolo-images\\Detect\\Detection-of-bacteria-in-water-using-Yolo-images\\temp\\images/train\\EMDS7-G038-015-0400_aug.png\n",
      "Augmented Image saved to: D:\\KULIAH\\SEMESTER 5\\RSBP\\Bacteri\\Detection-of-bacteria-in-water-using-Yolo-images\\Detect\\Detection-of-bacteria-in-water-using-Yolo-images\\temp\\images/train\\EMDS7-G003-196-0400_aug.png\n",
      "Augmented Image saved to: D:\\KULIAH\\SEMESTER 5\\RSBP\\Bacteri\\Detection-of-bacteria-in-water-using-Yolo-images\\Detect\\Detection-of-bacteria-in-water-using-Yolo-images\\temp\\images/train\\EMDS7-G028-035-0400_aug.png\n",
      "Augmented Image saved to: D:\\KULIAH\\SEMESTER 5\\RSBP\\Bacteri\\Detection-of-bacteria-in-water-using-Yolo-images\\Detect\\Detection-of-bacteria-in-water-using-Yolo-images\\temp\\images/train\\EMDS7-G019-025-0400_aug.png\n",
      "Augmented Image saved to: D:\\KULIAH\\SEMESTER 5\\RSBP\\Bacteri\\Detection-of-bacteria-in-water-using-Yolo-images\\Detect\\Detection-of-bacteria-in-water-using-Yolo-images\\temp\\images/train\\EMDS7-G019-048-0400_aug.png\n",
      "Augmented Image saved to: D:\\KULIAH\\SEMESTER 5\\RSBP\\Bacteri\\Detection-of-bacteria-in-water-using-Yolo-images\\Detect\\Detection-of-bacteria-in-water-using-Yolo-images\\temp\\images/train\\EMDS7-G014-054-0400_aug.png\n",
      "Augmented Image saved to: D:\\KULIAH\\SEMESTER 5\\RSBP\\Bacteri\\Detection-of-bacteria-in-water-using-Yolo-images\\Detect\\Detection-of-bacteria-in-water-using-Yolo-images\\temp\\images/train\\EMDS7-G028-017-0400_aug.png\n",
      "Augmented Image saved to: D:\\KULIAH\\SEMESTER 5\\RSBP\\Bacteri\\Detection-of-bacteria-in-water-using-Yolo-images\\Detect\\Detection-of-bacteria-in-water-using-Yolo-images\\temp\\images/train\\EMDS7-G024-009-0400_aug.png\n",
      "Augmented Image saved to: D:\\KULIAH\\SEMESTER 5\\RSBP\\Bacteri\\Detection-of-bacteria-in-water-using-Yolo-images\\Detect\\Detection-of-bacteria-in-water-using-Yolo-images\\temp\\images/train\\EMDS7-G022-197-0400_aug.png\n",
      "Augmented Image saved to: D:\\KULIAH\\SEMESTER 5\\RSBP\\Bacteri\\Detection-of-bacteria-in-water-using-Yolo-images\\Detect\\Detection-of-bacteria-in-water-using-Yolo-images\\temp\\images/train\\EMDS7-G001-009-0400_aug.png\n",
      "Augmented Image saved to: D:\\KULIAH\\SEMESTER 5\\RSBP\\Bacteri\\Detection-of-bacteria-in-water-using-Yolo-images\\Detect\\Detection-of-bacteria-in-water-using-Yolo-images\\temp\\images/train\\EMDS7-G039-004-0400_aug.png\n",
      "Augmented Image saved to: D:\\KULIAH\\SEMESTER 5\\RSBP\\Bacteri\\Detection-of-bacteria-in-water-using-Yolo-images\\Detect\\Detection-of-bacteria-in-water-using-Yolo-images\\temp\\images/train\\EMDS7-G030-036-0400_aug.png\n",
      "Augmented Image saved to: D:\\KULIAH\\SEMESTER 5\\RSBP\\Bacteri\\Detection-of-bacteria-in-water-using-Yolo-images\\Detect\\Detection-of-bacteria-in-water-using-Yolo-images\\temp\\images/train\\EMDS7-G032-053-0400_aug.png\n",
      "Augmented Image saved to: D:\\KULIAH\\SEMESTER 5\\RSBP\\Bacteri\\Detection-of-bacteria-in-water-using-Yolo-images\\Detect\\Detection-of-bacteria-in-water-using-Yolo-images\\temp\\images/train\\EMDS7-G009-023-0400_aug.png\n",
      "Augmented Image saved to: D:\\KULIAH\\SEMESTER 5\\RSBP\\Bacteri\\Detection-of-bacteria-in-water-using-Yolo-images\\Detect\\Detection-of-bacteria-in-water-using-Yolo-images\\temp\\images/train\\EMDS7-G005-055-0400_aug.png\n",
      "Augmented Image saved to: D:\\KULIAH\\SEMESTER 5\\RSBP\\Bacteri\\Detection-of-bacteria-in-water-using-Yolo-images\\Detect\\Detection-of-bacteria-in-water-using-Yolo-images\\temp\\images/train\\EMDS7-G018-049-0400_aug.png\n",
      "Augmented Image saved to: D:\\KULIAH\\SEMESTER 5\\RSBP\\Bacteri\\Detection-of-bacteria-in-water-using-Yolo-images\\Detect\\Detection-of-bacteria-in-water-using-Yolo-images\\temp\\images/train\\EMDS7-G027-009-0400_aug.png\n",
      "Augmented Image saved to: D:\\KULIAH\\SEMESTER 5\\RSBP\\Bacteri\\Detection-of-bacteria-in-water-using-Yolo-images\\Detect\\Detection-of-bacteria-in-water-using-Yolo-images\\temp\\images/train\\EMDS7-G028-034-0400_aug.png\n",
      "Augmented Image saved to: D:\\KULIAH\\SEMESTER 5\\RSBP\\Bacteri\\Detection-of-bacteria-in-water-using-Yolo-images\\Detect\\Detection-of-bacteria-in-water-using-Yolo-images\\temp\\images/train\\EMDS7-G007-002-0400_aug.png\n",
      "Augmented Image saved to: D:\\KULIAH\\SEMESTER 5\\RSBP\\Bacteri\\Detection-of-bacteria-in-water-using-Yolo-images\\Detect\\Detection-of-bacteria-in-water-using-Yolo-images\\temp\\images/train\\EMDS7-G023-003-0400_aug.png\n",
      "Augmented Image saved to: D:\\KULIAH\\SEMESTER 5\\RSBP\\Bacteri\\Detection-of-bacteria-in-water-using-Yolo-images\\Detect\\Detection-of-bacteria-in-water-using-Yolo-images\\temp\\images/train\\EMDS7-G030-029-0400_aug.png\n",
      "Augmented Image saved to: D:\\KULIAH\\SEMESTER 5\\RSBP\\Bacteri\\Detection-of-bacteria-in-water-using-Yolo-images\\Detect\\Detection-of-bacteria-in-water-using-Yolo-images\\temp\\images/train\\EMDS7-G039-059-0400_aug.png\n",
      "Augmented Image saved to: D:\\KULIAH\\SEMESTER 5\\RSBP\\Bacteri\\Detection-of-bacteria-in-water-using-Yolo-images\\Detect\\Detection-of-bacteria-in-water-using-Yolo-images\\temp\\images/train\\EMDS7-G014-089-0400_aug.png\n",
      "Augmented Image saved to: D:\\KULIAH\\SEMESTER 5\\RSBP\\Bacteri\\Detection-of-bacteria-in-water-using-Yolo-images\\Detect\\Detection-of-bacteria-in-water-using-Yolo-images\\temp\\images/train\\EMDS7-G025-037-0400_aug.png\n",
      "Augmented Image saved to: D:\\KULIAH\\SEMESTER 5\\RSBP\\Bacteri\\Detection-of-bacteria-in-water-using-Yolo-images\\Detect\\Detection-of-bacteria-in-water-using-Yolo-images\\temp\\images/train\\EMDS7-G004-022-0400_aug.png\n",
      "Augmented Image saved to: D:\\KULIAH\\SEMESTER 5\\RSBP\\Bacteri\\Detection-of-bacteria-in-water-using-Yolo-images\\Detect\\Detection-of-bacteria-in-water-using-Yolo-images\\temp\\images/train\\EMDS7-G003-158-0400_aug.png\n",
      "Augmented Image saved to: D:\\KULIAH\\SEMESTER 5\\RSBP\\Bacteri\\Detection-of-bacteria-in-water-using-Yolo-images\\Detect\\Detection-of-bacteria-in-water-using-Yolo-images\\temp\\images/train\\EMDS7-G014-020-0400_aug.png\n",
      "Augmented Image saved to: D:\\KULIAH\\SEMESTER 5\\RSBP\\Bacteri\\Detection-of-bacteria-in-water-using-Yolo-images\\Detect\\Detection-of-bacteria-in-water-using-Yolo-images\\temp\\images/train\\EMDS7-G005-017-0400_aug.png\n",
      "Augmented Image saved to: D:\\KULIAH\\SEMESTER 5\\RSBP\\Bacteri\\Detection-of-bacteria-in-water-using-Yolo-images\\Detect\\Detection-of-bacteria-in-water-using-Yolo-images\\temp\\images/train\\EMDS7-G039-054-0400_aug.png\n",
      "Augmented Image saved to: D:\\KULIAH\\SEMESTER 5\\RSBP\\Bacteri\\Detection-of-bacteria-in-water-using-Yolo-images\\Detect\\Detection-of-bacteria-in-water-using-Yolo-images\\temp\\images/train\\EMDS7-G009-044-0400_aug.png\n",
      "Augmented Image saved to: D:\\KULIAH\\SEMESTER 5\\RSBP\\Bacteri\\Detection-of-bacteria-in-water-using-Yolo-images\\Detect\\Detection-of-bacteria-in-water-using-Yolo-images\\temp\\images/train\\EMDS7-G035-025-0400_aug.png\n",
      "Augmented Image saved to: D:\\KULIAH\\SEMESTER 5\\RSBP\\Bacteri\\Detection-of-bacteria-in-water-using-Yolo-images\\Detect\\Detection-of-bacteria-in-water-using-Yolo-images\\temp\\images/train\\EMDS7-G005-027-0400_aug.png\n",
      "Augmented Image saved to: D:\\KULIAH\\SEMESTER 5\\RSBP\\Bacteri\\Detection-of-bacteria-in-water-using-Yolo-images\\Detect\\Detection-of-bacteria-in-water-using-Yolo-images\\temp\\images/train\\EMDS7-G004-015-0400_aug.png\n",
      "Augmented Image saved to: D:\\KULIAH\\SEMESTER 5\\RSBP\\Bacteri\\Detection-of-bacteria-in-water-using-Yolo-images\\Detect\\Detection-of-bacteria-in-water-using-Yolo-images\\temp\\images/train\\EMDS7-G036-078-0400_aug.png\n",
      "Augmented Image saved to: D:\\KULIAH\\SEMESTER 5\\RSBP\\Bacteri\\Detection-of-bacteria-in-water-using-Yolo-images\\Detect\\Detection-of-bacteria-in-water-using-Yolo-images\\temp\\images/train\\EMDS7-G035-009-0400_aug.png\n",
      "Augmented Image saved to: D:\\KULIAH\\SEMESTER 5\\RSBP\\Bacteri\\Detection-of-bacteria-in-water-using-Yolo-images\\Detect\\Detection-of-bacteria-in-water-using-Yolo-images\\temp\\images/train\\EMDS7-G024-011-0400_aug.png\n",
      "Augmented Image saved to: D:\\KULIAH\\SEMESTER 5\\RSBP\\Bacteri\\Detection-of-bacteria-in-water-using-Yolo-images\\Detect\\Detection-of-bacteria-in-water-using-Yolo-images\\temp\\images/train\\EMDS7-G017-023-0400_aug.png\n",
      "Augmented Image saved to: D:\\KULIAH\\SEMESTER 5\\RSBP\\Bacteri\\Detection-of-bacteria-in-water-using-Yolo-images\\Detect\\Detection-of-bacteria-in-water-using-Yolo-images\\temp\\images/train\\EMDS7-G005-046-0400_aug.png\n",
      "Augmented Image saved to: D:\\KULIAH\\SEMESTER 5\\RSBP\\Bacteri\\Detection-of-bacteria-in-water-using-Yolo-images\\Detect\\Detection-of-bacteria-in-water-using-Yolo-images\\temp\\images/train\\EMDS7-G012-034-0400_aug.png\n",
      "Augmented Image saved to: D:\\KULIAH\\SEMESTER 5\\RSBP\\Bacteri\\Detection-of-bacteria-in-water-using-Yolo-images\\Detect\\Detection-of-bacteria-in-water-using-Yolo-images\\temp\\images/train\\EMDS7-G023-014-0400_aug.png\n",
      "Augmented Image saved to: D:\\KULIAH\\SEMESTER 5\\RSBP\\Bacteri\\Detection-of-bacteria-in-water-using-Yolo-images\\Detect\\Detection-of-bacteria-in-water-using-Yolo-images\\temp\\images/train\\EMDS7-G027-014-0400_aug.png\n",
      "Augmented Image saved to: D:\\KULIAH\\SEMESTER 5\\RSBP\\Bacteri\\Detection-of-bacteria-in-water-using-Yolo-images\\Detect\\Detection-of-bacteria-in-water-using-Yolo-images\\temp\\images/train\\EMDS7-G028-054-0400_aug.png\n",
      "Augmented Image saved to: D:\\KULIAH\\SEMESTER 5\\RSBP\\Bacteri\\Detection-of-bacteria-in-water-using-Yolo-images\\Detect\\Detection-of-bacteria-in-water-using-Yolo-images\\temp\\images/train\\EMDS7-G038-017-0400_aug.png\n",
      "Augmented Image saved to: D:\\KULIAH\\SEMESTER 5\\RSBP\\Bacteri\\Detection-of-bacteria-in-water-using-Yolo-images\\Detect\\Detection-of-bacteria-in-water-using-Yolo-images\\temp\\images/train\\EMDS7-G032-070-0400_aug.png\n",
      "Augmented Image saved to: D:\\KULIAH\\SEMESTER 5\\RSBP\\Bacteri\\Detection-of-bacteria-in-water-using-Yolo-images\\Detect\\Detection-of-bacteria-in-water-using-Yolo-images\\temp\\images/train\\EMDS7-G025-060-0400_aug.png\n",
      "Augmented Image saved to: D:\\KULIAH\\SEMESTER 5\\RSBP\\Bacteri\\Detection-of-bacteria-in-water-using-Yolo-images\\Detect\\Detection-of-bacteria-in-water-using-Yolo-images\\temp\\images/train\\EMDS7-G003-087-0400_aug.png\n",
      "Augmented Image saved to: D:\\KULIAH\\SEMESTER 5\\RSBP\\Bacteri\\Detection-of-bacteria-in-water-using-Yolo-images\\Detect\\Detection-of-bacteria-in-water-using-Yolo-images\\temp\\images/train\\EMDS7-G003-141-0400_aug.png\n",
      "Augmented Image saved to: D:\\KULIAH\\SEMESTER 5\\RSBP\\Bacteri\\Detection-of-bacteria-in-water-using-Yolo-images\\Detect\\Detection-of-bacteria-in-water-using-Yolo-images\\temp\\images/train\\EMDS7-G036-023-0400_aug.png\n",
      "Augmented Image saved to: D:\\KULIAH\\SEMESTER 5\\RSBP\\Bacteri\\Detection-of-bacteria-in-water-using-Yolo-images\\Detect\\Detection-of-bacteria-in-water-using-Yolo-images\\temp\\images/train\\EMDS7-G022-149-0400_aug.png\n",
      "Augmented Image saved to: D:\\KULIAH\\SEMESTER 5\\RSBP\\Bacteri\\Detection-of-bacteria-in-water-using-Yolo-images\\Detect\\Detection-of-bacteria-in-water-using-Yolo-images\\temp\\images/train\\EMDS7-G031-023-0400_aug.png\n",
      "Augmented Image saved to: D:\\KULIAH\\SEMESTER 5\\RSBP\\Bacteri\\Detection-of-bacteria-in-water-using-Yolo-images\\Detect\\Detection-of-bacteria-in-water-using-Yolo-images\\temp\\images/train\\EMDS7-G009-004-0400_aug.png\n",
      "Augmented Image saved to: D:\\KULIAH\\SEMESTER 5\\RSBP\\Bacteri\\Detection-of-bacteria-in-water-using-Yolo-images\\Detect\\Detection-of-bacteria-in-water-using-Yolo-images\\temp\\images/train\\EMDS7-G039-003-0400_aug.png\n",
      "Augmented Image saved to: D:\\KULIAH\\SEMESTER 5\\RSBP\\Bacteri\\Detection-of-bacteria-in-water-using-Yolo-images\\Detect\\Detection-of-bacteria-in-water-using-Yolo-images\\temp\\images/train\\EMDS7-G026-002-0400_aug.png\n",
      "Augmented Image saved to: D:\\KULIAH\\SEMESTER 5\\RSBP\\Bacteri\\Detection-of-bacteria-in-water-using-Yolo-images\\Detect\\Detection-of-bacteria-in-water-using-Yolo-images\\temp\\images/train\\EMDS7-G009-077-0400_aug.png\n",
      "Augmented Image saved to: D:\\KULIAH\\SEMESTER 5\\RSBP\\Bacteri\\Detection-of-bacteria-in-water-using-Yolo-images\\Detect\\Detection-of-bacteria-in-water-using-Yolo-images\\temp\\images/train\\EMDS7-G003-285-0400_aug.png\n",
      "Augmented Image saved to: D:\\KULIAH\\SEMESTER 5\\RSBP\\Bacteri\\Detection-of-bacteria-in-water-using-Yolo-images\\Detect\\Detection-of-bacteria-in-water-using-Yolo-images\\temp\\images/train\\EMDS7-G022-011-0400_aug.png\n",
      "Augmented Image saved to: D:\\KULIAH\\SEMESTER 5\\RSBP\\Bacteri\\Detection-of-bacteria-in-water-using-Yolo-images\\Detect\\Detection-of-bacteria-in-water-using-Yolo-images\\temp\\images/train\\EMDS7-G002-001-0400_aug.png\n",
      "Augmented Image saved to: D:\\KULIAH\\SEMESTER 5\\RSBP\\Bacteri\\Detection-of-bacteria-in-water-using-Yolo-images\\Detect\\Detection-of-bacteria-in-water-using-Yolo-images\\temp\\images/train\\EMDS7-G036-048-0400_aug.png\n",
      "Augmented Image saved to: D:\\KULIAH\\SEMESTER 5\\RSBP\\Bacteri\\Detection-of-bacteria-in-water-using-Yolo-images\\Detect\\Detection-of-bacteria-in-water-using-Yolo-images\\temp\\images/train\\EMDS7-G033-015-0400_aug.png\n",
      "Augmented Image saved to: D:\\KULIAH\\SEMESTER 5\\RSBP\\Bacteri\\Detection-of-bacteria-in-water-using-Yolo-images\\Detect\\Detection-of-bacteria-in-water-using-Yolo-images\\temp\\images/train\\EMDS7-G004-011-0400_aug.png\n",
      "Augmented Image saved to: D:\\KULIAH\\SEMESTER 5\\RSBP\\Bacteri\\Detection-of-bacteria-in-water-using-Yolo-images\\Detect\\Detection-of-bacteria-in-water-using-Yolo-images\\temp\\images/train\\EMDS7-G003-177-0400_aug.png\n",
      "Augmented Image saved to: D:\\KULIAH\\SEMESTER 5\\RSBP\\Bacteri\\Detection-of-bacteria-in-water-using-Yolo-images\\Detect\\Detection-of-bacteria-in-water-using-Yolo-images\\temp\\images/train\\EMDS7-G003-126-0400_aug.png\n",
      "Augmented Image saved to: D:\\KULIAH\\SEMESTER 5\\RSBP\\Bacteri\\Detection-of-bacteria-in-water-using-Yolo-images\\Detect\\Detection-of-bacteria-in-water-using-Yolo-images\\temp\\images/train\\EMDS7-G022-217-0400_aug.png\n",
      "Augmented Image saved to: D:\\KULIAH\\SEMESTER 5\\RSBP\\Bacteri\\Detection-of-bacteria-in-water-using-Yolo-images\\Detect\\Detection-of-bacteria-in-water-using-Yolo-images\\temp\\images/train\\EMDS7-G031-018-0400_aug.png\n",
      "Augmented Image saved to: D:\\KULIAH\\SEMESTER 5\\RSBP\\Bacteri\\Detection-of-bacteria-in-water-using-Yolo-images\\Detect\\Detection-of-bacteria-in-water-using-Yolo-images\\temp\\images/train\\EMDS7-G039-037-0400_aug.png\n",
      "Augmented Image saved to: D:\\KULIAH\\SEMESTER 5\\RSBP\\Bacteri\\Detection-of-bacteria-in-water-using-Yolo-images\\Detect\\Detection-of-bacteria-in-water-using-Yolo-images\\temp\\images/train\\EMDS7-G036-024-0400_aug.png\n",
      "Augmented Image saved to: D:\\KULIAH\\SEMESTER 5\\RSBP\\Bacteri\\Detection-of-bacteria-in-water-using-Yolo-images\\Detect\\Detection-of-bacteria-in-water-using-Yolo-images\\temp\\images/train\\EMDS7-G018-004-0400_aug.png\n",
      "Augmented Image saved to: D:\\KULIAH\\SEMESTER 5\\RSBP\\Bacteri\\Detection-of-bacteria-in-water-using-Yolo-images\\Detect\\Detection-of-bacteria-in-water-using-Yolo-images\\temp\\images/train\\EMDS7-G017-017-0400_aug.png\n",
      "Augmented Image saved to: D:\\KULIAH\\SEMESTER 5\\RSBP\\Bacteri\\Detection-of-bacteria-in-water-using-Yolo-images\\Detect\\Detection-of-bacteria-in-water-using-Yolo-images\\temp\\images/train\\EMDS7-G023-024-0400_aug.png\n",
      "Augmented Image saved to: D:\\KULIAH\\SEMESTER 5\\RSBP\\Bacteri\\Detection-of-bacteria-in-water-using-Yolo-images\\Detect\\Detection-of-bacteria-in-water-using-Yolo-images\\temp\\images/train\\EMDS7-G022-157-0400_aug.png\n",
      "Augmented Image saved to: D:\\KULIAH\\SEMESTER 5\\RSBP\\Bacteri\\Detection-of-bacteria-in-water-using-Yolo-images\\Detect\\Detection-of-bacteria-in-water-using-Yolo-images\\temp\\images/train\\EMDS7-G039-071-0400_aug.png\n",
      "Augmented Image saved to: D:\\KULIAH\\SEMESTER 5\\RSBP\\Bacteri\\Detection-of-bacteria-in-water-using-Yolo-images\\Detect\\Detection-of-bacteria-in-water-using-Yolo-images\\temp\\images/train\\EMDS7-G003-086-0400_aug.png\n",
      "Augmented Image saved to: D:\\KULIAH\\SEMESTER 5\\RSBP\\Bacteri\\Detection-of-bacteria-in-water-using-Yolo-images\\Detect\\Detection-of-bacteria-in-water-using-Yolo-images\\temp\\images/train\\EMDS7-G012-035-0400_aug.png\n",
      "Augmented Image saved to: D:\\KULIAH\\SEMESTER 5\\RSBP\\Bacteri\\Detection-of-bacteria-in-water-using-Yolo-images\\Detect\\Detection-of-bacteria-in-water-using-Yolo-images\\temp\\images/train\\EMDS7-G003-091-0400_aug.png\n",
      "Augmented Image saved to: D:\\KULIAH\\SEMESTER 5\\RSBP\\Bacteri\\Detection-of-bacteria-in-water-using-Yolo-images\\Detect\\Detection-of-bacteria-in-water-using-Yolo-images\\temp\\images/train\\EMDS7-G014-081-0400_aug.png\n",
      "Augmented Image saved to: D:\\KULIAH\\SEMESTER 5\\RSBP\\Bacteri\\Detection-of-bacteria-in-water-using-Yolo-images\\Detect\\Detection-of-bacteria-in-water-using-Yolo-images\\temp\\images/train\\EMDS7-G014-042-0400_aug.png\n",
      "Augmented Image saved to: D:\\KULIAH\\SEMESTER 5\\RSBP\\Bacteri\\Detection-of-bacteria-in-water-using-Yolo-images\\Detect\\Detection-of-bacteria-in-water-using-Yolo-images\\temp\\images/train\\EMDS7-G038-050-0400_aug.png\n",
      "Augmented Image saved to: D:\\KULIAH\\SEMESTER 5\\RSBP\\Bacteri\\Detection-of-bacteria-in-water-using-Yolo-images\\Detect\\Detection-of-bacteria-in-water-using-Yolo-images\\temp\\images/train\\EMDS7-G012-075-0400_aug.png\n",
      "Augmented Image saved to: D:\\KULIAH\\SEMESTER 5\\RSBP\\Bacteri\\Detection-of-bacteria-in-water-using-Yolo-images\\Detect\\Detection-of-bacteria-in-water-using-Yolo-images\\temp\\images/train\\EMDS7-G014-032-0400_aug.png\n",
      "Augmented Image saved to: D:\\KULIAH\\SEMESTER 5\\RSBP\\Bacteri\\Detection-of-bacteria-in-water-using-Yolo-images\\Detect\\Detection-of-bacteria-in-water-using-Yolo-images\\temp\\images/train\\EMDS7-G022-075-0400_aug.png\n",
      "Augmented Image saved to: D:\\KULIAH\\SEMESTER 5\\RSBP\\Bacteri\\Detection-of-bacteria-in-water-using-Yolo-images\\Detect\\Detection-of-bacteria-in-water-using-Yolo-images\\temp\\images/train\\EMDS7-G028-055-0400_aug.png\n",
      "Augmented Image saved to: D:\\KULIAH\\SEMESTER 5\\RSBP\\Bacteri\\Detection-of-bacteria-in-water-using-Yolo-images\\Detect\\Detection-of-bacteria-in-water-using-Yolo-images\\temp\\images/train\\EMDS7-G023-040-0400_aug.png\n",
      "Augmented Image saved to: D:\\KULIAH\\SEMESTER 5\\RSBP\\Bacteri\\Detection-of-bacteria-in-water-using-Yolo-images\\Detect\\Detection-of-bacteria-in-water-using-Yolo-images\\temp\\images/train\\EMDS7-G003-293-0400_aug.png\n",
      "Augmented Image saved to: D:\\KULIAH\\SEMESTER 5\\RSBP\\Bacteri\\Detection-of-bacteria-in-water-using-Yolo-images\\Detect\\Detection-of-bacteria-in-water-using-Yolo-images\\temp\\images/train\\EMDS7-G032-082-0400_aug.png\n",
      "Augmented Image saved to: D:\\KULIAH\\SEMESTER 5\\RSBP\\Bacteri\\Detection-of-bacteria-in-water-using-Yolo-images\\Detect\\Detection-of-bacteria-in-water-using-Yolo-images\\temp\\images/train\\EMDS7-G003-021-0400_aug.png\n",
      "Augmented Image saved to: D:\\KULIAH\\SEMESTER 5\\RSBP\\Bacteri\\Detection-of-bacteria-in-water-using-Yolo-images\\Detect\\Detection-of-bacteria-in-water-using-Yolo-images\\temp\\images/train\\EMDS7-G018-077-0400_aug.png\n",
      "Augmented Image saved to: D:\\KULIAH\\SEMESTER 5\\RSBP\\Bacteri\\Detection-of-bacteria-in-water-using-Yolo-images\\Detect\\Detection-of-bacteria-in-water-using-Yolo-images\\temp\\images/train\\EMDS7-G009-020-0400_aug.png\n",
      "Augmented Image saved to: D:\\KULIAH\\SEMESTER 5\\RSBP\\Bacteri\\Detection-of-bacteria-in-water-using-Yolo-images\\Detect\\Detection-of-bacteria-in-water-using-Yolo-images\\temp\\images/train\\EMDS7-G028-060-0400_aug.png\n",
      "Augmented Image saved to: D:\\KULIAH\\SEMESTER 5\\RSBP\\Bacteri\\Detection-of-bacteria-in-water-using-Yolo-images\\Detect\\Detection-of-bacteria-in-water-using-Yolo-images\\temp\\images/train\\EMDS7-G003-051-0400_aug.png\n",
      "Augmented Image saved to: D:\\KULIAH\\SEMESTER 5\\RSBP\\Bacteri\\Detection-of-bacteria-in-water-using-Yolo-images\\Detect\\Detection-of-bacteria-in-water-using-Yolo-images\\temp\\images/train\\EMDS7-G003-133-0400_aug.png\n",
      "Augmented Image saved to: D:\\KULIAH\\SEMESTER 5\\RSBP\\Bacteri\\Detection-of-bacteria-in-water-using-Yolo-images\\Detect\\Detection-of-bacteria-in-water-using-Yolo-images\\temp\\images/train\\EMDS7-G035-048-0400_aug.png\n",
      "Augmented Image saved to: D:\\KULIAH\\SEMESTER 5\\RSBP\\Bacteri\\Detection-of-bacteria-in-water-using-Yolo-images\\Detect\\Detection-of-bacteria-in-water-using-Yolo-images\\temp\\images/train\\EMDS7-G028-005-0400_aug.png\n",
      "Augmented Image saved to: D:\\KULIAH\\SEMESTER 5\\RSBP\\Bacteri\\Detection-of-bacteria-in-water-using-Yolo-images\\Detect\\Detection-of-bacteria-in-water-using-Yolo-images\\temp\\images/train\\EMDS7-G033-022-0400_aug.png\n",
      "Augmented Image saved to: D:\\KULIAH\\SEMESTER 5\\RSBP\\Bacteri\\Detection-of-bacteria-in-water-using-Yolo-images\\Detect\\Detection-of-bacteria-in-water-using-Yolo-images\\temp\\images/train\\EMDS7-G004-034-0400_aug.png\n",
      "Augmented Image saved to: D:\\KULIAH\\SEMESTER 5\\RSBP\\Bacteri\\Detection-of-bacteria-in-water-using-Yolo-images\\Detect\\Detection-of-bacteria-in-water-using-Yolo-images\\temp\\images/train\\EMDS7-G035-007-0400_aug.png\n",
      "Augmented Image saved to: D:\\KULIAH\\SEMESTER 5\\RSBP\\Bacteri\\Detection-of-bacteria-in-water-using-Yolo-images\\Detect\\Detection-of-bacteria-in-water-using-Yolo-images\\temp\\images/train\\EMDS7-G035-022-0400_aug.png\n",
      "Augmented Image saved to: D:\\KULIAH\\SEMESTER 5\\RSBP\\Bacteri\\Detection-of-bacteria-in-water-using-Yolo-images\\Detect\\Detection-of-bacteria-in-water-using-Yolo-images\\temp\\images/train\\EMDS7-G039-027-0400_aug.png\n",
      "Augmented Image saved to: D:\\KULIAH\\SEMESTER 5\\RSBP\\Bacteri\\Detection-of-bacteria-in-water-using-Yolo-images\\Detect\\Detection-of-bacteria-in-water-using-Yolo-images\\temp\\images/train\\EMDS7-G014-051-0400_aug.png\n",
      "Augmented Image saved to: D:\\KULIAH\\SEMESTER 5\\RSBP\\Bacteri\\Detection-of-bacteria-in-water-using-Yolo-images\\Detect\\Detection-of-bacteria-in-water-using-Yolo-images\\temp\\images/train\\EMDS7-G009-080-0400_aug.png\n",
      "Augmented Image saved to: D:\\KULIAH\\SEMESTER 5\\RSBP\\Bacteri\\Detection-of-bacteria-in-water-using-Yolo-images\\Detect\\Detection-of-bacteria-in-water-using-Yolo-images\\temp\\images/train\\EMDS7-G012-080-0400_aug.png\n",
      "Augmented Image saved to: D:\\KULIAH\\SEMESTER 5\\RSBP\\Bacteri\\Detection-of-bacteria-in-water-using-Yolo-images\\Detect\\Detection-of-bacteria-in-water-using-Yolo-images\\temp\\images/train\\EMDS7-G005-045-0400_aug.png\n",
      "Augmented Image saved to: D:\\KULIAH\\SEMESTER 5\\RSBP\\Bacteri\\Detection-of-bacteria-in-water-using-Yolo-images\\Detect\\Detection-of-bacteria-in-water-using-Yolo-images\\temp\\images/train\\EMDS7-G032-021-0400_aug.png\n",
      "Augmented Image saved to: D:\\KULIAH\\SEMESTER 5\\RSBP\\Bacteri\\Detection-of-bacteria-in-water-using-Yolo-images\\Detect\\Detection-of-bacteria-in-water-using-Yolo-images\\temp\\images/train\\EMDS7-G031-031-0400_aug.png\n",
      "Augmented Image saved to: D:\\KULIAH\\SEMESTER 5\\RSBP\\Bacteri\\Detection-of-bacteria-in-water-using-Yolo-images\\Detect\\Detection-of-bacteria-in-water-using-Yolo-images\\temp\\images/train\\EMDS7-G012-066-0400_aug.png\n",
      "Augmented Image saved to: D:\\KULIAH\\SEMESTER 5\\RSBP\\Bacteri\\Detection-of-bacteria-in-water-using-Yolo-images\\Detect\\Detection-of-bacteria-in-water-using-Yolo-images\\temp\\images/train\\EMDS7-G008-006-0400_aug.png\n",
      "Augmented Image saved to: D:\\KULIAH\\SEMESTER 5\\RSBP\\Bacteri\\Detection-of-bacteria-in-water-using-Yolo-images\\Detect\\Detection-of-bacteria-in-water-using-Yolo-images\\temp\\images/train\\EMDS7-G018-012-0400_aug.png\n",
      "Augmented Image saved to: D:\\KULIAH\\SEMESTER 5\\RSBP\\Bacteri\\Detection-of-bacteria-in-water-using-Yolo-images\\Detect\\Detection-of-bacteria-in-water-using-Yolo-images\\temp\\images/train\\EMDS7-G023-020-0400_aug.png\n",
      "Augmented Image saved to: D:\\KULIAH\\SEMESTER 5\\RSBP\\Bacteri\\Detection-of-bacteria-in-water-using-Yolo-images\\Detect\\Detection-of-bacteria-in-water-using-Yolo-images\\temp\\images/train\\EMDS7-G016-003-0400_aug.png\n",
      "Augmented Image saved to: D:\\KULIAH\\SEMESTER 5\\RSBP\\Bacteri\\Detection-of-bacteria-in-water-using-Yolo-images\\Detect\\Detection-of-bacteria-in-water-using-Yolo-images\\temp\\images/train\\EMDS7-G014-079-0400_aug.png\n",
      "Augmented Image saved to: D:\\KULIAH\\SEMESTER 5\\RSBP\\Bacteri\\Detection-of-bacteria-in-water-using-Yolo-images\\Detect\\Detection-of-bacteria-in-water-using-Yolo-images\\temp\\images/train\\EMDS7-G012-063-0400_aug.png\n",
      "Augmented Image saved to: D:\\KULIAH\\SEMESTER 5\\RSBP\\Bacteri\\Detection-of-bacteria-in-water-using-Yolo-images\\Detect\\Detection-of-bacteria-in-water-using-Yolo-images\\temp\\images/train\\EMDS7-G036-056-0400_aug.png\n",
      "Augmented Image saved to: D:\\KULIAH\\SEMESTER 5\\RSBP\\Bacteri\\Detection-of-bacteria-in-water-using-Yolo-images\\Detect\\Detection-of-bacteria-in-water-using-Yolo-images\\temp\\images/train\\EMDS7-G022-139-0400_aug.png\n",
      "Augmented Image saved to: D:\\KULIAH\\SEMESTER 5\\RSBP\\Bacteri\\Detection-of-bacteria-in-water-using-Yolo-images\\Detect\\Detection-of-bacteria-in-water-using-Yolo-images\\temp\\images/train\\EMDS7-G025-061-0400_aug.png\n",
      "Augmented Image saved to: D:\\KULIAH\\SEMESTER 5\\RSBP\\Bacteri\\Detection-of-bacteria-in-water-using-Yolo-images\\Detect\\Detection-of-bacteria-in-water-using-Yolo-images\\temp\\images/train\\EMDS7-G022-136-0400_aug.png\n",
      "Augmented Image saved to: D:\\KULIAH\\SEMESTER 5\\RSBP\\Bacteri\\Detection-of-bacteria-in-water-using-Yolo-images\\Detect\\Detection-of-bacteria-in-water-using-Yolo-images\\temp\\images/train\\EMDS7-G012-039-0400_aug.png\n",
      "Augmented Image saved to: D:\\KULIAH\\SEMESTER 5\\RSBP\\Bacteri\\Detection-of-bacteria-in-water-using-Yolo-images\\Detect\\Detection-of-bacteria-in-water-using-Yolo-images\\temp\\images/train\\EMDS7-G012-106-0400_aug.png\n",
      "Augmented Image saved to: D:\\KULIAH\\SEMESTER 5\\RSBP\\Bacteri\\Detection-of-bacteria-in-water-using-Yolo-images\\Detect\\Detection-of-bacteria-in-water-using-Yolo-images\\temp\\images/train\\EMDS7-G020-028-0400_aug.png\n",
      "Augmented Image saved to: D:\\KULIAH\\SEMESTER 5\\RSBP\\Bacteri\\Detection-of-bacteria-in-water-using-Yolo-images\\Detect\\Detection-of-bacteria-in-water-using-Yolo-images\\temp\\images/train\\EMDS7-G032-024-0400_aug.png\n",
      "Augmented Image saved to: D:\\KULIAH\\SEMESTER 5\\RSBP\\Bacteri\\Detection-of-bacteria-in-water-using-Yolo-images\\Detect\\Detection-of-bacteria-in-water-using-Yolo-images\\temp\\images/train\\EMDS7-G021-005-0400_aug.png\n",
      "Augmented Image saved to: D:\\KULIAH\\SEMESTER 5\\RSBP\\Bacteri\\Detection-of-bacteria-in-water-using-Yolo-images\\Detect\\Detection-of-bacteria-in-water-using-Yolo-images\\temp\\images/train\\EMDS7-G003-089-0400_aug.png\n",
      "Augmented Image saved to: D:\\KULIAH\\SEMESTER 5\\RSBP\\Bacteri\\Detection-of-bacteria-in-water-using-Yolo-images\\Detect\\Detection-of-bacteria-in-water-using-Yolo-images\\temp\\images/train\\EMDS7-G005-023-0400_aug.png\n",
      "Augmented Image saved to: D:\\KULIAH\\SEMESTER 5\\RSBP\\Bacteri\\Detection-of-bacteria-in-water-using-Yolo-images\\Detect\\Detection-of-bacteria-in-water-using-Yolo-images\\temp\\images/train\\EMDS7-G016-014-0400_aug.png\n",
      "Augmented Image saved to: D:\\KULIAH\\SEMESTER 5\\RSBP\\Bacteri\\Detection-of-bacteria-in-water-using-Yolo-images\\Detect\\Detection-of-bacteria-in-water-using-Yolo-images\\temp\\images/train\\EMDS7-G031-012-0400_aug.png\n",
      "Augmented Image saved to: D:\\KULIAH\\SEMESTER 5\\RSBP\\Bacteri\\Detection-of-bacteria-in-water-using-Yolo-images\\Detect\\Detection-of-bacteria-in-water-using-Yolo-images\\temp\\images/train\\EMDS7-G022-097-0400_aug.png\n",
      "Augmented Image saved to: D:\\KULIAH\\SEMESTER 5\\RSBP\\Bacteri\\Detection-of-bacteria-in-water-using-Yolo-images\\Detect\\Detection-of-bacteria-in-water-using-Yolo-images\\temp\\images/train\\EMDS7-G038-010-0400_aug.png\n",
      "Augmented Image saved to: D:\\KULIAH\\SEMESTER 5\\RSBP\\Bacteri\\Detection-of-bacteria-in-water-using-Yolo-images\\Detect\\Detection-of-bacteria-in-water-using-Yolo-images\\temp\\images/train\\EMDS7-G009-070-0400_aug.png\n",
      "Augmented Image saved to: D:\\KULIAH\\SEMESTER 5\\RSBP\\Bacteri\\Detection-of-bacteria-in-water-using-Yolo-images\\Detect\\Detection-of-bacteria-in-water-using-Yolo-images\\temp\\images/train\\EMDS7-G018-052-0400_aug.png\n",
      "Augmented Image saved to: D:\\KULIAH\\SEMESTER 5\\RSBP\\Bacteri\\Detection-of-bacteria-in-water-using-Yolo-images\\Detect\\Detection-of-bacteria-in-water-using-Yolo-images\\temp\\images/train\\EMDS7-G036-050-0400_aug.png\n",
      "Augmented Image saved to: D:\\KULIAH\\SEMESTER 5\\RSBP\\Bacteri\\Detection-of-bacteria-in-water-using-Yolo-images\\Detect\\Detection-of-bacteria-in-water-using-Yolo-images\\temp\\images/train\\EMDS7-G004-004-0400_aug.png\n",
      "Augmented Image saved to: D:\\KULIAH\\SEMESTER 5\\RSBP\\Bacteri\\Detection-of-bacteria-in-water-using-Yolo-images\\Detect\\Detection-of-bacteria-in-water-using-Yolo-images\\temp\\images/train\\EMDS7-G003-171-0400_aug.png\n",
      "Augmented Image saved to: D:\\KULIAH\\SEMESTER 5\\RSBP\\Bacteri\\Detection-of-bacteria-in-water-using-Yolo-images\\Detect\\Detection-of-bacteria-in-water-using-Yolo-images\\temp\\images/train\\EMDS7-G003-264-0400_aug.png\n",
      "Augmented Image saved to: D:\\KULIAH\\SEMESTER 5\\RSBP\\Bacteri\\Detection-of-bacteria-in-water-using-Yolo-images\\Detect\\Detection-of-bacteria-in-water-using-Yolo-images\\temp\\images/train\\EMDS7-G022-049-0400_aug.png\n",
      "Augmented Image saved to: D:\\KULIAH\\SEMESTER 5\\RSBP\\Bacteri\\Detection-of-bacteria-in-water-using-Yolo-images\\Detect\\Detection-of-bacteria-in-water-using-Yolo-images\\temp\\images/train\\EMDS7-G001-030-0400_aug.png\n",
      "Augmented Image saved to: D:\\KULIAH\\SEMESTER 5\\RSBP\\Bacteri\\Detection-of-bacteria-in-water-using-Yolo-images\\Detect\\Detection-of-bacteria-in-water-using-Yolo-images\\temp\\images/train\\EMDS7-G004-018-0400_aug.png\n",
      "Augmented Image saved to: D:\\KULIAH\\SEMESTER 5\\RSBP\\Bacteri\\Detection-of-bacteria-in-water-using-Yolo-images\\Detect\\Detection-of-bacteria-in-water-using-Yolo-images\\temp\\images/train\\EMDS7-G038-054-0400_aug.png\n",
      "Augmented Image saved to: D:\\KULIAH\\SEMESTER 5\\RSBP\\Bacteri\\Detection-of-bacteria-in-water-using-Yolo-images\\Detect\\Detection-of-bacteria-in-water-using-Yolo-images\\temp\\images/train\\EMDS7-G012-102-0400_aug.png\n",
      "Augmented Image saved to: D:\\KULIAH\\SEMESTER 5\\RSBP\\Bacteri\\Detection-of-bacteria-in-water-using-Yolo-images\\Detect\\Detection-of-bacteria-in-water-using-Yolo-images\\temp\\images/train\\EMDS7-G041-002-0400_aug.png\n",
      "Augmented Image saved to: D:\\KULIAH\\SEMESTER 5\\RSBP\\Bacteri\\Detection-of-bacteria-in-water-using-Yolo-images\\Detect\\Detection-of-bacteria-in-water-using-Yolo-images\\temp\\images/train\\EMDS7-G003-108-0400_aug.png\n",
      "Augmented Image saved to: D:\\KULIAH\\SEMESTER 5\\RSBP\\Bacteri\\Detection-of-bacteria-in-water-using-Yolo-images\\Detect\\Detection-of-bacteria-in-water-using-Yolo-images\\temp\\images/train\\EMDS7-G011-064-0400_aug.png\n",
      "Augmented Image saved to: D:\\KULIAH\\SEMESTER 5\\RSBP\\Bacteri\\Detection-of-bacteria-in-water-using-Yolo-images\\Detect\\Detection-of-bacteria-in-water-using-Yolo-images\\temp\\images/train\\EMDS7-G023-051-0400_aug.png\n",
      "Augmented Image saved to: D:\\KULIAH\\SEMESTER 5\\RSBP\\Bacteri\\Detection-of-bacteria-in-water-using-Yolo-images\\Detect\\Detection-of-bacteria-in-water-using-Yolo-images\\temp\\images/train\\EMDS7-G010-025-0400_aug.png\n",
      "Augmented Image saved to: D:\\KULIAH\\SEMESTER 5\\RSBP\\Bacteri\\Detection-of-bacteria-in-water-using-Yolo-images\\Detect\\Detection-of-bacteria-in-water-using-Yolo-images\\temp\\images/train\\EMDS7-G003-262-0400_aug.png\n",
      "Augmented Image saved to: D:\\KULIAH\\SEMESTER 5\\RSBP\\Bacteri\\Detection-of-bacteria-in-water-using-Yolo-images\\Detect\\Detection-of-bacteria-in-water-using-Yolo-images\\temp\\images/train\\EMDS7-G038-037-0400_aug.png\n",
      "Augmented Image saved to: D:\\KULIAH\\SEMESTER 5\\RSBP\\Bacteri\\Detection-of-bacteria-in-water-using-Yolo-images\\Detect\\Detection-of-bacteria-in-water-using-Yolo-images\\temp\\images/train\\EMDS7-G036-029-0400_aug.png\n",
      "Augmented Image saved to: D:\\KULIAH\\SEMESTER 5\\RSBP\\Bacteri\\Detection-of-bacteria-in-water-using-Yolo-images\\Detect\\Detection-of-bacteria-in-water-using-Yolo-images\\temp\\images/train\\EMDS7-G032-068-0400_aug.png\n",
      "Augmented Image saved to: D:\\KULIAH\\SEMESTER 5\\RSBP\\Bacteri\\Detection-of-bacteria-in-water-using-Yolo-images\\Detect\\Detection-of-bacteria-in-water-using-Yolo-images\\temp\\images/train\\EMDS7-G003-167-0400_aug.png\n",
      "Augmented Image saved to: D:\\KULIAH\\SEMESTER 5\\RSBP\\Bacteri\\Detection-of-bacteria-in-water-using-Yolo-images\\Detect\\Detection-of-bacteria-in-water-using-Yolo-images\\temp\\images/train\\EMDS7-G032-036-0400_aug.png\n",
      "Augmented Image saved to: D:\\KULIAH\\SEMESTER 5\\RSBP\\Bacteri\\Detection-of-bacteria-in-water-using-Yolo-images\\Detect\\Detection-of-bacteria-in-water-using-Yolo-images\\temp\\images/train\\EMDS7-G006-009-0400_aug.png\n",
      "Augmented Image saved to: D:\\KULIAH\\SEMESTER 5\\RSBP\\Bacteri\\Detection-of-bacteria-in-water-using-Yolo-images\\Detect\\Detection-of-bacteria-in-water-using-Yolo-images\\temp\\images/train\\EMDS7-G014-052-0400_aug.png\n",
      "Augmented Image saved to: D:\\KULIAH\\SEMESTER 5\\RSBP\\Bacteri\\Detection-of-bacteria-in-water-using-Yolo-images\\Detect\\Detection-of-bacteria-in-water-using-Yolo-images\\temp\\images/train\\EMDS7-G003-286-0400_aug.png\n",
      "Augmented Image saved to: D:\\KULIAH\\SEMESTER 5\\RSBP\\Bacteri\\Detection-of-bacteria-in-water-using-Yolo-images\\Detect\\Detection-of-bacteria-in-water-using-Yolo-images\\temp\\images/train\\EMDS7-G022-138-0400_aug.png\n",
      "Augmented Image saved to: D:\\KULIAH\\SEMESTER 5\\RSBP\\Bacteri\\Detection-of-bacteria-in-water-using-Yolo-images\\Detect\\Detection-of-bacteria-in-water-using-Yolo-images\\temp\\images/train\\EMDS7-G037-005-0400_aug.png\n",
      "Augmented Image saved to: D:\\KULIAH\\SEMESTER 5\\RSBP\\Bacteri\\Detection-of-bacteria-in-water-using-Yolo-images\\Detect\\Detection-of-bacteria-in-water-using-Yolo-images\\temp\\images/train\\EMDS7-G022-218-0400_aug.png\n",
      "Augmented Image saved to: D:\\KULIAH\\SEMESTER 5\\RSBP\\Bacteri\\Detection-of-bacteria-in-water-using-Yolo-images\\Detect\\Detection-of-bacteria-in-water-using-Yolo-images\\temp\\images/train\\EMDS7-G039-002-0400_aug.png\n",
      "Augmented Image saved to: D:\\KULIAH\\SEMESTER 5\\RSBP\\Bacteri\\Detection-of-bacteria-in-water-using-Yolo-images\\Detect\\Detection-of-bacteria-in-water-using-Yolo-images\\temp\\images/train\\EMDS7-G011-004-0400_aug.png\n",
      "Augmented Image saved to: D:\\KULIAH\\SEMESTER 5\\RSBP\\Bacteri\\Detection-of-bacteria-in-water-using-Yolo-images\\Detect\\Detection-of-bacteria-in-water-using-Yolo-images\\temp\\images/train\\EMDS7-G019-008-0400_aug.png\n",
      "Augmented Image saved to: D:\\KULIAH\\SEMESTER 5\\RSBP\\Bacteri\\Detection-of-bacteria-in-water-using-Yolo-images\\Detect\\Detection-of-bacteria-in-water-using-Yolo-images\\temp\\images/train\\EMDS7-G039-034-0400_aug.png\n",
      "Augmented Image saved to: D:\\KULIAH\\SEMESTER 5\\RSBP\\Bacteri\\Detection-of-bacteria-in-water-using-Yolo-images\\Detect\\Detection-of-bacteria-in-water-using-Yolo-images\\temp\\images/train\\EMDS7-G011-011-0400_aug.png\n",
      "Augmented Image saved to: D:\\KULIAH\\SEMESTER 5\\RSBP\\Bacteri\\Detection-of-bacteria-in-water-using-Yolo-images\\Detect\\Detection-of-bacteria-in-water-using-Yolo-images\\temp\\images/train\\EMDS7-G017-061-0400_aug.png\n",
      "Augmented Image saved to: D:\\KULIAH\\SEMESTER 5\\RSBP\\Bacteri\\Detection-of-bacteria-in-water-using-Yolo-images\\Detect\\Detection-of-bacteria-in-water-using-Yolo-images\\temp\\images/train\\EMDS7-G015-008-0400_aug.png\n",
      "Augmented Image saved to: D:\\KULIAH\\SEMESTER 5\\RSBP\\Bacteri\\Detection-of-bacteria-in-water-using-Yolo-images\\Detect\\Detection-of-bacteria-in-water-using-Yolo-images\\temp\\images/train\\EMDS7-G035-038-0400_aug.png\n",
      "Augmented Image saved to: D:\\KULIAH\\SEMESTER 5\\RSBP\\Bacteri\\Detection-of-bacteria-in-water-using-Yolo-images\\Detect\\Detection-of-bacteria-in-water-using-Yolo-images\\temp\\images/train\\EMDS7-G022-096-0400_aug.png\n",
      "Augmented Image saved to: D:\\KULIAH\\SEMESTER 5\\RSBP\\Bacteri\\Detection-of-bacteria-in-water-using-Yolo-images\\Detect\\Detection-of-bacteria-in-water-using-Yolo-images\\temp\\images/train\\EMDS7-G003-260-0400_aug.png\n",
      "Augmented Image saved to: D:\\KULIAH\\SEMESTER 5\\RSBP\\Bacteri\\Detection-of-bacteria-in-water-using-Yolo-images\\Detect\\Detection-of-bacteria-in-water-using-Yolo-images\\temp\\images/train\\EMDS7-G028-003-0400_aug.png\n",
      "Augmented Image saved to: D:\\KULIAH\\SEMESTER 5\\RSBP\\Bacteri\\Detection-of-bacteria-in-water-using-Yolo-images\\Detect\\Detection-of-bacteria-in-water-using-Yolo-images\\temp\\images/train\\EMDS7-G038-057-0400_aug.png\n",
      "Augmented Image saved to: D:\\KULIAH\\SEMESTER 5\\RSBP\\Bacteri\\Detection-of-bacteria-in-water-using-Yolo-images\\Detect\\Detection-of-bacteria-in-water-using-Yolo-images\\temp\\images/train\\EMDS7-G012-060-0400_aug.png\n",
      "Augmented Image saved to: D:\\KULIAH\\SEMESTER 5\\RSBP\\Bacteri\\Detection-of-bacteria-in-water-using-Yolo-images\\Detect\\Detection-of-bacteria-in-water-using-Yolo-images\\temp\\images/train\\EMDS7-G036-077-0400_aug.png\n",
      "Augmented Image saved to: D:\\KULIAH\\SEMESTER 5\\RSBP\\Bacteri\\Detection-of-bacteria-in-water-using-Yolo-images\\Detect\\Detection-of-bacteria-in-water-using-Yolo-images\\temp\\images/train\\EMDS7-G022-201-0400_aug.png\n",
      "Augmented Image saved to: D:\\KULIAH\\SEMESTER 5\\RSBP\\Bacteri\\Detection-of-bacteria-in-water-using-Yolo-images\\Detect\\Detection-of-bacteria-in-water-using-Yolo-images\\temp\\images/train\\EMDS7-G003-150-0400_aug.png\n",
      "Augmented Image saved to: D:\\KULIAH\\SEMESTER 5\\RSBP\\Bacteri\\Detection-of-bacteria-in-water-using-Yolo-images\\Detect\\Detection-of-bacteria-in-water-using-Yolo-images\\temp\\images/train\\EMDS7-G022-154-0400_aug.png\n",
      "Augmented Image saved to: D:\\KULIAH\\SEMESTER 5\\RSBP\\Bacteri\\Detection-of-bacteria-in-water-using-Yolo-images\\Detect\\Detection-of-bacteria-in-water-using-Yolo-images\\temp\\images/train\\EMDS7-G022-084-0400_aug.png\n",
      "Augmented Image saved to: D:\\KULIAH\\SEMESTER 5\\RSBP\\Bacteri\\Detection-of-bacteria-in-water-using-Yolo-images\\Detect\\Detection-of-bacteria-in-water-using-Yolo-images\\temp\\images/train\\EMDS7-G022-221-0400_aug.png\n",
      "Augmented Image saved to: D:\\KULIAH\\SEMESTER 5\\RSBP\\Bacteri\\Detection-of-bacteria-in-water-using-Yolo-images\\Detect\\Detection-of-bacteria-in-water-using-Yolo-images\\temp\\images/train\\EMDS7-G025-005-0400_aug.png\n",
      "Augmented Image saved to: D:\\KULIAH\\SEMESTER 5\\RSBP\\Bacteri\\Detection-of-bacteria-in-water-using-Yolo-images\\Detect\\Detection-of-bacteria-in-water-using-Yolo-images\\temp\\images/train\\EMDS7-G015-014-0400_aug.png\n",
      "Augmented Image saved to: D:\\KULIAH\\SEMESTER 5\\RSBP\\Bacteri\\Detection-of-bacteria-in-water-using-Yolo-images\\Detect\\Detection-of-bacteria-in-water-using-Yolo-images\\temp\\images/train\\EMDS7-G011-003-0400_aug.png\n",
      "Augmented Image saved to: D:\\KULIAH\\SEMESTER 5\\RSBP\\Bacteri\\Detection-of-bacteria-in-water-using-Yolo-images\\Detect\\Detection-of-bacteria-in-water-using-Yolo-images\\temp\\images/train\\EMDS7-G035-024-0400_aug.png\n",
      "Augmented Image saved to: D:\\KULIAH\\SEMESTER 5\\RSBP\\Bacteri\\Detection-of-bacteria-in-water-using-Yolo-images\\Detect\\Detection-of-bacteria-in-water-using-Yolo-images\\temp\\images/train\\EMDS7-G019-029-0400_aug.png\n",
      "Augmented Image saved to: D:\\KULIAH\\SEMESTER 5\\RSBP\\Bacteri\\Detection-of-bacteria-in-water-using-Yolo-images\\Detect\\Detection-of-bacteria-in-water-using-Yolo-images\\temp\\images/train\\EMDS7-G036-045-0400_aug.png\n",
      "Augmented Image saved to: D:\\KULIAH\\SEMESTER 5\\RSBP\\Bacteri\\Detection-of-bacteria-in-water-using-Yolo-images\\Detect\\Detection-of-bacteria-in-water-using-Yolo-images\\temp\\images/train\\EMDS7-G008-041-0400_aug.png\n",
      "Augmented Image saved to: D:\\KULIAH\\SEMESTER 5\\RSBP\\Bacteri\\Detection-of-bacteria-in-water-using-Yolo-images\\Detect\\Detection-of-bacteria-in-water-using-Yolo-images\\temp\\images/train\\EMDS7-G003-235-0400_aug.png\n",
      "Augmented Image saved to: D:\\KULIAH\\SEMESTER 5\\RSBP\\Bacteri\\Detection-of-bacteria-in-water-using-Yolo-images\\Detect\\Detection-of-bacteria-in-water-using-Yolo-images\\temp\\images/train\\EMDS7-G004-009-0400_aug.png\n",
      "Augmented Image saved to: D:\\KULIAH\\SEMESTER 5\\RSBP\\Bacteri\\Detection-of-bacteria-in-water-using-Yolo-images\\Detect\\Detection-of-bacteria-in-water-using-Yolo-images\\temp\\images/train\\EMDS7-G012-041-0400_aug.png\n",
      "Augmented Image saved to: D:\\KULIAH\\SEMESTER 5\\RSBP\\Bacteri\\Detection-of-bacteria-in-water-using-Yolo-images\\Detect\\Detection-of-bacteria-in-water-using-Yolo-images\\temp\\images/train\\EMDS7-G023-046-0400_aug.png\n",
      "Augmented Image saved to: D:\\KULIAH\\SEMESTER 5\\RSBP\\Bacteri\\Detection-of-bacteria-in-water-using-Yolo-images\\Detect\\Detection-of-bacteria-in-water-using-Yolo-images\\temp\\images/train\\EMDS7-G029-021-0400_aug.png\n",
      "Augmented Image saved to: D:\\KULIAH\\SEMESTER 5\\RSBP\\Bacteri\\Detection-of-bacteria-in-water-using-Yolo-images\\Detect\\Detection-of-bacteria-in-water-using-Yolo-images\\temp\\images/train\\EMDS7-G005-022-0400_aug.png\n",
      "Augmented Image saved to: D:\\KULIAH\\SEMESTER 5\\RSBP\\Bacteri\\Detection-of-bacteria-in-water-using-Yolo-images\\Detect\\Detection-of-bacteria-in-water-using-Yolo-images\\temp\\images/train\\EMDS7-G022-156-0400_aug.png\n",
      "Augmented Image saved to: D:\\KULIAH\\SEMESTER 5\\RSBP\\Bacteri\\Detection-of-bacteria-in-water-using-Yolo-images\\Detect\\Detection-of-bacteria-in-water-using-Yolo-images\\temp\\images/train\\EMDS7-G011-047-0400_aug.png\n",
      "Augmented Image saved to: D:\\KULIAH\\SEMESTER 5\\RSBP\\Bacteri\\Detection-of-bacteria-in-water-using-Yolo-images\\Detect\\Detection-of-bacteria-in-water-using-Yolo-images\\temp\\images/train\\EMDS7-G003-205-0400_aug.png\n",
      "Augmented Image saved to: D:\\KULIAH\\SEMESTER 5\\RSBP\\Bacteri\\Detection-of-bacteria-in-water-using-Yolo-images\\Detect\\Detection-of-bacteria-in-water-using-Yolo-images\\temp\\images/train\\EMDS7-G003-006-0400_aug.png\n",
      "Augmented Image saved to: D:\\KULIAH\\SEMESTER 5\\RSBP\\Bacteri\\Detection-of-bacteria-in-water-using-Yolo-images\\Detect\\Detection-of-bacteria-in-water-using-Yolo-images\\temp\\images/train\\EMDS7-G005-025-0400_aug.png\n",
      "Augmented Image saved to: D:\\KULIAH\\SEMESTER 5\\RSBP\\Bacteri\\Detection-of-bacteria-in-water-using-Yolo-images\\Detect\\Detection-of-bacteria-in-water-using-Yolo-images\\temp\\images/train\\EMDS7-G008-037-0400_aug.png\n",
      "Augmented Image saved to: D:\\KULIAH\\SEMESTER 5\\RSBP\\Bacteri\\Detection-of-bacteria-in-water-using-Yolo-images\\Detect\\Detection-of-bacteria-in-water-using-Yolo-images\\temp\\images/train\\EMDS7-G012-085-0400_aug.png\n",
      "Augmented Image saved to: D:\\KULIAH\\SEMESTER 5\\RSBP\\Bacteri\\Detection-of-bacteria-in-water-using-Yolo-images\\Detect\\Detection-of-bacteria-in-water-using-Yolo-images\\temp\\images/train\\EMDS7-G015-016-0400_aug.png\n",
      "Augmented Image saved to: D:\\KULIAH\\SEMESTER 5\\RSBP\\Bacteri\\Detection-of-bacteria-in-water-using-Yolo-images\\Detect\\Detection-of-bacteria-in-water-using-Yolo-images\\temp\\images/train\\EMDS7-G005-029-0400_aug.png\n",
      "Augmented Image saved to: D:\\KULIAH\\SEMESTER 5\\RSBP\\Bacteri\\Detection-of-bacteria-in-water-using-Yolo-images\\Detect\\Detection-of-bacteria-in-water-using-Yolo-images\\temp\\images/train\\EMDS7-G003-008-0400_aug.png\n",
      "Augmented Image saved to: D:\\KULIAH\\SEMESTER 5\\RSBP\\Bacteri\\Detection-of-bacteria-in-water-using-Yolo-images\\Detect\\Detection-of-bacteria-in-water-using-Yolo-images\\temp\\images/train\\EMDS7-G019-009-0400_aug.png\n",
      "Augmented Image saved to: D:\\KULIAH\\SEMESTER 5\\RSBP\\Bacteri\\Detection-of-bacteria-in-water-using-Yolo-images\\Detect\\Detection-of-bacteria-in-water-using-Yolo-images\\temp\\images/train\\EMDS7-G004-057-0400_aug.png\n",
      "Augmented Image saved to: D:\\KULIAH\\SEMESTER 5\\RSBP\\Bacteri\\Detection-of-bacteria-in-water-using-Yolo-images\\Detect\\Detection-of-bacteria-in-water-using-Yolo-images\\temp\\images/train\\EMDS7-G022-058-0400_aug.png\n",
      "Augmented Image saved to: D:\\KULIAH\\SEMESTER 5\\RSBP\\Bacteri\\Detection-of-bacteria-in-water-using-Yolo-images\\Detect\\Detection-of-bacteria-in-water-using-Yolo-images\\temp\\images/train\\EMDS7-G012-062-0400_aug.png\n",
      "Augmented Image saved to: D:\\KULIAH\\SEMESTER 5\\RSBP\\Bacteri\\Detection-of-bacteria-in-water-using-Yolo-images\\Detect\\Detection-of-bacteria-in-water-using-Yolo-images\\temp\\images/train\\EMDS7-G009-006-0400_aug.png\n",
      "Augmented Image saved to: D:\\KULIAH\\SEMESTER 5\\RSBP\\Bacteri\\Detection-of-bacteria-in-water-using-Yolo-images\\Detect\\Detection-of-bacteria-in-water-using-Yolo-images\\temp\\images/train\\EMDS7-G008-009-0400_aug.png\n",
      "Augmented Image saved to: D:\\KULIAH\\SEMESTER 5\\RSBP\\Bacteri\\Detection-of-bacteria-in-water-using-Yolo-images\\Detect\\Detection-of-bacteria-in-water-using-Yolo-images\\temp\\images/train\\EMDS7-G029-013-0400_aug.png\n",
      "Augmented Image saved to: D:\\KULIAH\\SEMESTER 5\\RSBP\\Bacteri\\Detection-of-bacteria-in-water-using-Yolo-images\\Detect\\Detection-of-bacteria-in-water-using-Yolo-images\\temp\\images/train\\EMDS7-G022-023-0400_aug.png\n",
      "Augmented Image saved to: D:\\KULIAH\\SEMESTER 5\\RSBP\\Bacteri\\Detection-of-bacteria-in-water-using-Yolo-images\\Detect\\Detection-of-bacteria-in-water-using-Yolo-images\\temp\\images/train\\EMDS7-G022-036-0400_aug.png\n",
      "Augmented Image saved to: D:\\KULIAH\\SEMESTER 5\\RSBP\\Bacteri\\Detection-of-bacteria-in-water-using-Yolo-images\\Detect\\Detection-of-bacteria-in-water-using-Yolo-images\\temp\\images/train\\EMDS7-G032-011-0400_aug.png\n",
      "Augmented Image saved to: D:\\KULIAH\\SEMESTER 5\\RSBP\\Bacteri\\Detection-of-bacteria-in-water-using-Yolo-images\\Detect\\Detection-of-bacteria-in-water-using-Yolo-images\\temp\\images/train\\EMDS7-G019-034-0400_aug.png\n",
      "Augmented Image saved to: D:\\KULIAH\\SEMESTER 5\\RSBP\\Bacteri\\Detection-of-bacteria-in-water-using-Yolo-images\\Detect\\Detection-of-bacteria-in-water-using-Yolo-images\\temp\\images/train\\EMDS7-G038-040-0400_aug.png\n",
      "Augmented Image saved to: D:\\KULIAH\\SEMESTER 5\\RSBP\\Bacteri\\Detection-of-bacteria-in-water-using-Yolo-images\\Detect\\Detection-of-bacteria-in-water-using-Yolo-images\\temp\\images/train\\EMDS7-G030-037-0400_aug.png\n",
      "Augmented Image saved to: D:\\KULIAH\\SEMESTER 5\\RSBP\\Bacteri\\Detection-of-bacteria-in-water-using-Yolo-images\\Detect\\Detection-of-bacteria-in-water-using-Yolo-images\\temp\\images/train\\EMDS7-G031-028-0400_aug.png\n",
      "Augmented Image saved to: D:\\KULIAH\\SEMESTER 5\\RSBP\\Bacteri\\Detection-of-bacteria-in-water-using-Yolo-images\\Detect\\Detection-of-bacteria-in-water-using-Yolo-images\\temp\\images/train\\EMDS7-G014-061-0400_aug.png\n",
      "Augmented Image saved to: D:\\KULIAH\\SEMESTER 5\\RSBP\\Bacteri\\Detection-of-bacteria-in-water-using-Yolo-images\\Detect\\Detection-of-bacteria-in-water-using-Yolo-images\\temp\\images/train\\EMDS7-G030-027-0400_aug.png\n",
      "Augmented Image saved to: D:\\KULIAH\\SEMESTER 5\\RSBP\\Bacteri\\Detection-of-bacteria-in-water-using-Yolo-images\\Detect\\Detection-of-bacteria-in-water-using-Yolo-images\\temp\\images/train\\EMDS7-G013-002-0400_aug.png\n",
      "Augmented Image saved to: D:\\KULIAH\\SEMESTER 5\\RSBP\\Bacteri\\Detection-of-bacteria-in-water-using-Yolo-images\\Detect\\Detection-of-bacteria-in-water-using-Yolo-images\\temp\\images/train\\EMDS7-G022-070-0400_aug.png\n",
      "Augmented Image saved to: D:\\KULIAH\\SEMESTER 5\\RSBP\\Bacteri\\Detection-of-bacteria-in-water-using-Yolo-images\\Detect\\Detection-of-bacteria-in-water-using-Yolo-images\\temp\\images/train\\EMDS7-G014-084-0400_aug.png\n",
      "Augmented Image saved to: D:\\KULIAH\\SEMESTER 5\\RSBP\\Bacteri\\Detection-of-bacteria-in-water-using-Yolo-images\\Detect\\Detection-of-bacteria-in-water-using-Yolo-images\\temp\\images/train\\EMDS7-G032-048-0400_aug.png\n",
      "Augmented Image saved to: D:\\KULIAH\\SEMESTER 5\\RSBP\\Bacteri\\Detection-of-bacteria-in-water-using-Yolo-images\\Detect\\Detection-of-bacteria-in-water-using-Yolo-images\\temp\\images/train\\EMDS7-G022-209-0400_aug.png\n",
      "Augmented Image saved to: D:\\KULIAH\\SEMESTER 5\\RSBP\\Bacteri\\Detection-of-bacteria-in-water-using-Yolo-images\\Detect\\Detection-of-bacteria-in-water-using-Yolo-images\\temp\\images/train\\EMDS7-G020-022-0400_aug.png\n",
      "Augmented Image saved to: D:\\KULIAH\\SEMESTER 5\\RSBP\\Bacteri\\Detection-of-bacteria-in-water-using-Yolo-images\\Detect\\Detection-of-bacteria-in-water-using-Yolo-images\\temp\\images/train\\EMDS7-G004-031-0400_aug.png\n",
      "Augmented Image saved to: D:\\KULIAH\\SEMESTER 5\\RSBP\\Bacteri\\Detection-of-bacteria-in-water-using-Yolo-images\\Detect\\Detection-of-bacteria-in-water-using-Yolo-images\\temp\\images/train\\EMDS7-G009-057-0400_aug.png\n",
      "Augmented Image saved to: D:\\KULIAH\\SEMESTER 5\\RSBP\\Bacteri\\Detection-of-bacteria-in-water-using-Yolo-images\\Detect\\Detection-of-bacteria-in-water-using-Yolo-images\\temp\\images/train\\EMDS7-G005-052-0400_aug.png\n",
      "Augmented Image saved to: D:\\KULIAH\\SEMESTER 5\\RSBP\\Bacteri\\Detection-of-bacteria-in-water-using-Yolo-images\\Detect\\Detection-of-bacteria-in-water-using-Yolo-images\\temp\\images/train\\EMDS7-G003-004-0400_aug.png\n",
      "Augmented Image saved to: D:\\KULIAH\\SEMESTER 5\\RSBP\\Bacteri\\Detection-of-bacteria-in-water-using-Yolo-images\\Detect\\Detection-of-bacteria-in-water-using-Yolo-images\\temp\\images/train\\EMDS7-G032-042-0400_aug.png\n",
      "Augmented Image saved to: D:\\KULIAH\\SEMESTER 5\\RSBP\\Bacteri\\Detection-of-bacteria-in-water-using-Yolo-images\\Detect\\Detection-of-bacteria-in-water-using-Yolo-images\\temp\\images/train\\EMDS7-G031-007-0400_aug.png\n",
      "Augmented Image saved to: D:\\KULIAH\\SEMESTER 5\\RSBP\\Bacteri\\Detection-of-bacteria-in-water-using-Yolo-images\\Detect\\Detection-of-bacteria-in-water-using-Yolo-images\\temp\\images/train\\EMDS7-G001-007-0400_aug.png\n",
      "Augmented Image saved to: D:\\KULIAH\\SEMESTER 5\\RSBP\\Bacteri\\Detection-of-bacteria-in-water-using-Yolo-images\\Detect\\Detection-of-bacteria-in-water-using-Yolo-images\\temp\\images/train\\EMDS7-G003-291-0400_aug.png\n",
      "Augmented Image saved to: D:\\KULIAH\\SEMESTER 5\\RSBP\\Bacteri\\Detection-of-bacteria-in-water-using-Yolo-images\\Detect\\Detection-of-bacteria-in-water-using-Yolo-images\\temp\\images/train\\EMDS7-G022-172-0400_aug.png\n",
      "Augmented Image saved to: D:\\KULIAH\\SEMESTER 5\\RSBP\\Bacteri\\Detection-of-bacteria-in-water-using-Yolo-images\\Detect\\Detection-of-bacteria-in-water-using-Yolo-images\\temp\\images/train\\EMDS7-G022-143-0400_aug.png\n",
      "Augmented Image saved to: D:\\KULIAH\\SEMESTER 5\\RSBP\\Bacteri\\Detection-of-bacteria-in-water-using-Yolo-images\\Detect\\Detection-of-bacteria-in-water-using-Yolo-images\\temp\\images/train\\EMDS7-G022-261-0400_aug.png\n",
      "Augmented Image saved to: D:\\KULIAH\\SEMESTER 5\\RSBP\\Bacteri\\Detection-of-bacteria-in-water-using-Yolo-images\\Detect\\Detection-of-bacteria-in-water-using-Yolo-images\\temp\\images/train\\EMDS7-G003-007-0400_aug.png\n",
      "Augmented Image saved to: D:\\KULIAH\\SEMESTER 5\\RSBP\\Bacteri\\Detection-of-bacteria-in-water-using-Yolo-images\\Detect\\Detection-of-bacteria-in-water-using-Yolo-images\\temp\\images/train\\EMDS7-G022-173-0400_aug.png\n",
      "Augmented Image saved to: D:\\KULIAH\\SEMESTER 5\\RSBP\\Bacteri\\Detection-of-bacteria-in-water-using-Yolo-images\\Detect\\Detection-of-bacteria-in-water-using-Yolo-images\\temp\\images/train\\EMDS7-G003-222-0400_aug.png\n",
      "Augmented Image saved to: D:\\KULIAH\\SEMESTER 5\\RSBP\\Bacteri\\Detection-of-bacteria-in-water-using-Yolo-images\\Detect\\Detection-of-bacteria-in-water-using-Yolo-images\\temp\\images/train\\EMDS7-G032-025-0400_aug.png\n",
      "Augmented Image saved to: D:\\KULIAH\\SEMESTER 5\\RSBP\\Bacteri\\Detection-of-bacteria-in-water-using-Yolo-images\\Detect\\Detection-of-bacteria-in-water-using-Yolo-images\\temp\\images/train\\EMDS7-G030-041-0400_aug.png\n",
      "Augmented Image saved to: D:\\KULIAH\\SEMESTER 5\\RSBP\\Bacteri\\Detection-of-bacteria-in-water-using-Yolo-images\\Detect\\Detection-of-bacteria-in-water-using-Yolo-images\\temp\\images/train\\EMDS7-G022-148-0400_aug.png\n",
      "Augmented Image saved to: D:\\KULIAH\\SEMESTER 5\\RSBP\\Bacteri\\Detection-of-bacteria-in-water-using-Yolo-images\\Detect\\Detection-of-bacteria-in-water-using-Yolo-images\\temp\\images/train\\EMDS7-G009-013-0400_aug.png\n",
      "Augmented Image saved to: D:\\KULIAH\\SEMESTER 5\\RSBP\\Bacteri\\Detection-of-bacteria-in-water-using-Yolo-images\\Detect\\Detection-of-bacteria-in-water-using-Yolo-images\\temp\\images/train\\EMDS7-G008-036-0400_aug.png\n",
      "Augmented Image saved to: D:\\KULIAH\\SEMESTER 5\\RSBP\\Bacteri\\Detection-of-bacteria-in-water-using-Yolo-images\\Detect\\Detection-of-bacteria-in-water-using-Yolo-images\\temp\\images/train\\EMDS7-G022-009-0400_aug.png\n",
      "Augmented Image saved to: D:\\KULIAH\\SEMESTER 5\\RSBP\\Bacteri\\Detection-of-bacteria-in-water-using-Yolo-images\\Detect\\Detection-of-bacteria-in-water-using-Yolo-images\\temp\\images/train\\EMDS7-G003-183-0400_aug.png\n",
      "Augmented Image saved to: D:\\KULIAH\\SEMESTER 5\\RSBP\\Bacteri\\Detection-of-bacteria-in-water-using-Yolo-images\\Detect\\Detection-of-bacteria-in-water-using-Yolo-images\\temp\\images/train\\EMDS7-G022-134-0400_aug.png\n",
      "Augmented Image saved to: D:\\KULIAH\\SEMESTER 5\\RSBP\\Bacteri\\Detection-of-bacteria-in-water-using-Yolo-images\\Detect\\Detection-of-bacteria-in-water-using-Yolo-images\\temp\\images/train\\EMDS7-G022-158-0400_aug.png\n",
      "Augmented Image saved to: D:\\KULIAH\\SEMESTER 5\\RSBP\\Bacteri\\Detection-of-bacteria-in-water-using-Yolo-images\\Detect\\Detection-of-bacteria-in-water-using-Yolo-images\\temp\\images/train\\EMDS7-G012-028-0400_aug.png\n",
      "Augmented Image saved to: D:\\KULIAH\\SEMESTER 5\\RSBP\\Bacteri\\Detection-of-bacteria-in-water-using-Yolo-images\\Detect\\Detection-of-bacteria-in-water-using-Yolo-images\\temp\\images/train\\EMDS7-G021-004-0400_aug.png\n",
      "Augmented Image saved to: D:\\KULIAH\\SEMESTER 5\\RSBP\\Bacteri\\Detection-of-bacteria-in-water-using-Yolo-images\\Detect\\Detection-of-bacteria-in-water-using-Yolo-images\\temp\\images/train\\EMDS7-G022-240-0400_aug.png\n",
      "Augmented Image saved to: D:\\KULIAH\\SEMESTER 5\\RSBP\\Bacteri\\Detection-of-bacteria-in-water-using-Yolo-images\\Detect\\Detection-of-bacteria-in-water-using-Yolo-images\\temp\\images/train\\EMDS7-G005-044-0400_aug.png\n",
      "Augmented Image saved to: D:\\KULIAH\\SEMESTER 5\\RSBP\\Bacteri\\Detection-of-bacteria-in-water-using-Yolo-images\\Detect\\Detection-of-bacteria-in-water-using-Yolo-images\\temp\\images/train\\EMDS7-G004-035-0400_aug.png\n",
      "Augmented Image saved to: D:\\KULIAH\\SEMESTER 5\\RSBP\\Bacteri\\Detection-of-bacteria-in-water-using-Yolo-images\\Detect\\Detection-of-bacteria-in-water-using-Yolo-images\\temp\\images/train\\EMDS7-G012-018-0400_aug.png\n",
      "Augmented Image saved to: D:\\KULIAH\\SEMESTER 5\\RSBP\\Bacteri\\Detection-of-bacteria-in-water-using-Yolo-images\\Detect\\Detection-of-bacteria-in-water-using-Yolo-images\\temp\\images/train\\EMDS7-G008-025-0400_aug.png\n",
      "Augmented Image saved to: D:\\KULIAH\\SEMESTER 5\\RSBP\\Bacteri\\Detection-of-bacteria-in-water-using-Yolo-images\\Detect\\Detection-of-bacteria-in-water-using-Yolo-images\\temp\\images/train\\EMDS7-G029-005-0400_aug.png\n",
      "Augmented Image saved to: D:\\KULIAH\\SEMESTER 5\\RSBP\\Bacteri\\Detection-of-bacteria-in-water-using-Yolo-images\\Detect\\Detection-of-bacteria-in-water-using-Yolo-images\\temp\\images/train\\EMDS7-G009-075-0400_aug.png\n",
      "Augmented Image saved to: D:\\KULIAH\\SEMESTER 5\\RSBP\\Bacteri\\Detection-of-bacteria-in-water-using-Yolo-images\\Detect\\Detection-of-bacteria-in-water-using-Yolo-images\\temp\\images/train\\EMDS7-G018-034-0400_aug.png\n",
      "Augmented Image saved to: D:\\KULIAH\\SEMESTER 5\\RSBP\\Bacteri\\Detection-of-bacteria-in-water-using-Yolo-images\\Detect\\Detection-of-bacteria-in-water-using-Yolo-images\\temp\\images/train\\EMDS7-G003-115-0400_aug.png\n",
      "Augmented Image saved to: D:\\KULIAH\\SEMESTER 5\\RSBP\\Bacteri\\Detection-of-bacteria-in-water-using-Yolo-images\\Detect\\Detection-of-bacteria-in-water-using-Yolo-images\\temp\\images/train\\EMDS7-G012-108-0400_aug.png\n",
      "Augmented Image saved to: D:\\KULIAH\\SEMESTER 5\\RSBP\\Bacteri\\Detection-of-bacteria-in-water-using-Yolo-images\\Detect\\Detection-of-bacteria-in-water-using-Yolo-images\\temp\\images/train\\EMDS7-G005-007-0400_aug.png\n",
      "Augmented Image saved to: D:\\KULIAH\\SEMESTER 5\\RSBP\\Bacteri\\Detection-of-bacteria-in-water-using-Yolo-images\\Detect\\Detection-of-bacteria-in-water-using-Yolo-images\\temp\\images/train\\EMDS7-G024-008-0400_aug.png\n",
      "Augmented Image saved to: D:\\KULIAH\\SEMESTER 5\\RSBP\\Bacteri\\Detection-of-bacteria-in-water-using-Yolo-images\\Detect\\Detection-of-bacteria-in-water-using-Yolo-images\\temp\\images/train\\EMDS7-G027-016-0400_aug.png\n",
      "Augmented Image saved to: D:\\KULIAH\\SEMESTER 5\\RSBP\\Bacteri\\Detection-of-bacteria-in-water-using-Yolo-images\\Detect\\Detection-of-bacteria-in-water-using-Yolo-images\\temp\\images/train\\EMDS7-G019-053-0400_aug.png\n",
      "Augmented Image saved to: D:\\KULIAH\\SEMESTER 5\\RSBP\\Bacteri\\Detection-of-bacteria-in-water-using-Yolo-images\\Detect\\Detection-of-bacteria-in-water-using-Yolo-images\\temp\\images/train\\EMDS7-G012-107-0400_aug.png\n",
      "Augmented Image saved to: D:\\KULIAH\\SEMESTER 5\\RSBP\\Bacteri\\Detection-of-bacteria-in-water-using-Yolo-images\\Detect\\Detection-of-bacteria-in-water-using-Yolo-images\\temp\\images/train\\EMDS7-G022-085-0400_aug.png\n",
      "Augmented Image saved to: D:\\KULIAH\\SEMESTER 5\\RSBP\\Bacteri\\Detection-of-bacteria-in-water-using-Yolo-images\\Detect\\Detection-of-bacteria-in-water-using-Yolo-images\\temp\\images/train\\EMDS7-G009-026-0400_aug.png\n",
      "Augmented Image saved to: D:\\KULIAH\\SEMESTER 5\\RSBP\\Bacteri\\Detection-of-bacteria-in-water-using-Yolo-images\\Detect\\Detection-of-bacteria-in-water-using-Yolo-images\\temp\\images/train\\EMDS7-G009-056-0400_aug.png\n",
      "Augmented Image saved to: D:\\KULIAH\\SEMESTER 5\\RSBP\\Bacteri\\Detection-of-bacteria-in-water-using-Yolo-images\\Detect\\Detection-of-bacteria-in-water-using-Yolo-images\\temp\\images/train\\EMDS7-G028-012-0400_aug.png\n",
      "Augmented Image saved to: D:\\KULIAH\\SEMESTER 5\\RSBP\\Bacteri\\Detection-of-bacteria-in-water-using-Yolo-images\\Detect\\Detection-of-bacteria-in-water-using-Yolo-images\\temp\\images/train\\EMDS7-G022-147-0400_aug.png\n",
      "Augmented Image saved to: D:\\KULIAH\\SEMESTER 5\\RSBP\\Bacteri\\Detection-of-bacteria-in-water-using-Yolo-images\\Detect\\Detection-of-bacteria-in-water-using-Yolo-images\\temp\\images/train\\EMDS7-G003-289-0400_aug.png\n",
      "Augmented Image saved to: D:\\KULIAH\\SEMESTER 5\\RSBP\\Bacteri\\Detection-of-bacteria-in-water-using-Yolo-images\\Detect\\Detection-of-bacteria-in-water-using-Yolo-images\\temp\\images/train\\EMDS7-G008-031-0400_aug.png\n",
      "Augmented Image saved to: D:\\KULIAH\\SEMESTER 5\\RSBP\\Bacteri\\Detection-of-bacteria-in-water-using-Yolo-images\\Detect\\Detection-of-bacteria-in-water-using-Yolo-images\\temp\\images/train\\EMDS7-G035-034-0400_aug.png\n",
      "Augmented Image saved to: D:\\KULIAH\\SEMESTER 5\\RSBP\\Bacteri\\Detection-of-bacteria-in-water-using-Yolo-images\\Detect\\Detection-of-bacteria-in-water-using-Yolo-images\\temp\\images/train\\EMDS7-G018-043-0400_aug.png\n",
      "Augmented Image saved to: D:\\KULIAH\\SEMESTER 5\\RSBP\\Bacteri\\Detection-of-bacteria-in-water-using-Yolo-images\\Detect\\Detection-of-bacteria-in-water-using-Yolo-images\\temp\\images/train\\EMDS7-G022-141-0400_aug.png\n",
      "Augmented Image saved to: D:\\KULIAH\\SEMESTER 5\\RSBP\\Bacteri\\Detection-of-bacteria-in-water-using-Yolo-images\\Detect\\Detection-of-bacteria-in-water-using-Yolo-images\\temp\\images/train\\EMDS7-G004-079-0400_aug.png\n",
      "Augmented Image saved to: D:\\KULIAH\\SEMESTER 5\\RSBP\\Bacteri\\Detection-of-bacteria-in-water-using-Yolo-images\\Detect\\Detection-of-bacteria-in-water-using-Yolo-images\\temp\\images/train\\EMDS7-G003-225-0400_aug.png\n",
      "Augmented Image saved to: D:\\KULIAH\\SEMESTER 5\\RSBP\\Bacteri\\Detection-of-bacteria-in-water-using-Yolo-images\\Detect\\Detection-of-bacteria-in-water-using-Yolo-images\\temp\\images/train\\EMDS7-G025-057-0400_aug.png\n",
      "Augmented Image saved to: D:\\KULIAH\\SEMESTER 5\\RSBP\\Bacteri\\Detection-of-bacteria-in-water-using-Yolo-images\\Detect\\Detection-of-bacteria-in-water-using-Yolo-images\\temp\\images/train\\EMDS7-G018-039-0400_aug.png\n",
      "Augmented Image saved to: D:\\KULIAH\\SEMESTER 5\\RSBP\\Bacteri\\Detection-of-bacteria-in-water-using-Yolo-images\\Detect\\Detection-of-bacteria-in-water-using-Yolo-images\\temp\\images/train\\EMDS7-G033-010-0400_aug.png\n",
      "Augmented Image saved to: D:\\KULIAH\\SEMESTER 5\\RSBP\\Bacteri\\Detection-of-bacteria-in-water-using-Yolo-images\\Detect\\Detection-of-bacteria-in-water-using-Yolo-images\\temp\\images/train\\EMDS7-G036-014-0400_aug.png\n",
      "Augmented Image saved to: D:\\KULIAH\\SEMESTER 5\\RSBP\\Bacteri\\Detection-of-bacteria-in-water-using-Yolo-images\\Detect\\Detection-of-bacteria-in-water-using-Yolo-images\\temp\\images/train\\EMDS7-G003-060-0400_aug.png\n",
      "Augmented Image saved to: D:\\KULIAH\\SEMESTER 5\\RSBP\\Bacteri\\Detection-of-bacteria-in-water-using-Yolo-images\\Detect\\Detection-of-bacteria-in-water-using-Yolo-images\\temp\\images/train\\EMDS7-G003-195-0400_aug.png\n",
      "Augmented Image saved to: D:\\KULIAH\\SEMESTER 5\\RSBP\\Bacteri\\Detection-of-bacteria-in-water-using-Yolo-images\\Detect\\Detection-of-bacteria-in-water-using-Yolo-images\\temp\\images/train\\EMDS7-G010-004-0400_aug.png\n",
      "Augmented Image saved to: D:\\KULIAH\\SEMESTER 5\\RSBP\\Bacteri\\Detection-of-bacteria-in-water-using-Yolo-images\\Detect\\Detection-of-bacteria-in-water-using-Yolo-images\\temp\\images/train\\EMDS7-G024-012-0400_aug.png\n",
      "Augmented Image saved to: D:\\KULIAH\\SEMESTER 5\\RSBP\\Bacteri\\Detection-of-bacteria-in-water-using-Yolo-images\\Detect\\Detection-of-bacteria-in-water-using-Yolo-images\\temp\\images/train\\EMDS7-G003-152-0400_aug.png\n",
      "Augmented Image saved to: D:\\KULIAH\\SEMESTER 5\\RSBP\\Bacteri\\Detection-of-bacteria-in-water-using-Yolo-images\\Detect\\Detection-of-bacteria-in-water-using-Yolo-images\\temp\\images/train\\EMDS7-G010-019-0400_aug.png\n",
      "Augmented Image saved to: D:\\KULIAH\\SEMESTER 5\\RSBP\\Bacteri\\Detection-of-bacteria-in-water-using-Yolo-images\\Detect\\Detection-of-bacteria-in-water-using-Yolo-images\\temp\\images/train\\EMDS7-G037-012-0400_aug.png\n",
      "Augmented Image saved to: D:\\KULIAH\\SEMESTER 5\\RSBP\\Bacteri\\Detection-of-bacteria-in-water-using-Yolo-images\\Detect\\Detection-of-bacteria-in-water-using-Yolo-images\\temp\\images/train\\EMDS7-G009-031-0400_aug.png\n",
      "Augmented Image saved to: D:\\KULIAH\\SEMESTER 5\\RSBP\\Bacteri\\Detection-of-bacteria-in-water-using-Yolo-images\\Detect\\Detection-of-bacteria-in-water-using-Yolo-images\\temp\\images/train\\EMDS7-G011-005-0400_aug.png\n",
      "Augmented Image saved to: D:\\KULIAH\\SEMESTER 5\\RSBP\\Bacteri\\Detection-of-bacteria-in-water-using-Yolo-images\\Detect\\Detection-of-bacteria-in-water-using-Yolo-images\\temp\\images/train\\EMDS7-G039-024-0400_aug.png\n",
      "Augmented Image saved to: D:\\KULIAH\\SEMESTER 5\\RSBP\\Bacteri\\Detection-of-bacteria-in-water-using-Yolo-images\\Detect\\Detection-of-bacteria-in-water-using-Yolo-images\\temp\\images/train\\EMDS7-G036-059-0400_aug.png\n",
      "Augmented Image saved to: D:\\KULIAH\\SEMESTER 5\\RSBP\\Bacteri\\Detection-of-bacteria-in-water-using-Yolo-images\\Detect\\Detection-of-bacteria-in-water-using-Yolo-images\\temp\\images/train\\EMDS7-G009-035-0400_aug.png\n",
      "Augmented Image saved to: D:\\KULIAH\\SEMESTER 5\\RSBP\\Bacteri\\Detection-of-bacteria-in-water-using-Yolo-images\\Detect\\Detection-of-bacteria-in-water-using-Yolo-images\\temp\\images/train\\EMDS7-G014-009-0400_aug.png\n",
      "Augmented Image saved to: D:\\KULIAH\\SEMESTER 5\\RSBP\\Bacteri\\Detection-of-bacteria-in-water-using-Yolo-images\\Detect\\Detection-of-bacteria-in-water-using-Yolo-images\\temp\\images/train\\EMDS7-G012-036-0400_aug.png\n",
      "Augmented Image saved to: D:\\KULIAH\\SEMESTER 5\\RSBP\\Bacteri\\Detection-of-bacteria-in-water-using-Yolo-images\\Detect\\Detection-of-bacteria-in-water-using-Yolo-images\\temp\\images/train\\EMDS7-G003-214-0400_aug.png\n",
      "Augmented Image saved to: D:\\KULIAH\\SEMESTER 5\\RSBP\\Bacteri\\Detection-of-bacteria-in-water-using-Yolo-images\\Detect\\Detection-of-bacteria-in-water-using-Yolo-images\\temp\\images/train\\EMDS7-G011-006-0400_aug.png\n",
      "Augmented Image saved to: D:\\KULIAH\\SEMESTER 5\\RSBP\\Bacteri\\Detection-of-bacteria-in-water-using-Yolo-images\\Detect\\Detection-of-bacteria-in-water-using-Yolo-images\\temp\\images/train\\EMDS7-G004-073-0400_aug.png\n",
      "Augmented Image saved to: D:\\KULIAH\\SEMESTER 5\\RSBP\\Bacteri\\Detection-of-bacteria-in-water-using-Yolo-images\\Detect\\Detection-of-bacteria-in-water-using-Yolo-images\\temp\\images/train\\EMDS7-G037-011-0400_aug.png\n",
      "Augmented Image saved to: D:\\KULIAH\\SEMESTER 5\\RSBP\\Bacteri\\Detection-of-bacteria-in-water-using-Yolo-images\\Detect\\Detection-of-bacteria-in-water-using-Yolo-images\\temp\\images/train\\EMDS7-G038-052-0400_aug.png\n",
      "Augmented Image saved to: D:\\KULIAH\\SEMESTER 5\\RSBP\\Bacteri\\Detection-of-bacteria-in-water-using-Yolo-images\\Detect\\Detection-of-bacteria-in-water-using-Yolo-images\\temp\\images/train\\EMDS7-G032-063-0400_aug.png\n",
      "Augmented Image saved to: D:\\KULIAH\\SEMESTER 5\\RSBP\\Bacteri\\Detection-of-bacteria-in-water-using-Yolo-images\\Detect\\Detection-of-bacteria-in-water-using-Yolo-images\\temp\\images/train\\EMDS7-G022-229-0400_aug.png\n",
      "Augmented Image saved to: D:\\KULIAH\\SEMESTER 5\\RSBP\\Bacteri\\Detection-of-bacteria-in-water-using-Yolo-images\\Detect\\Detection-of-bacteria-in-water-using-Yolo-images\\temp\\images/train\\EMDS7-G028-016-0400_aug.png\n",
      "Augmented Image saved to: D:\\KULIAH\\SEMESTER 5\\RSBP\\Bacteri\\Detection-of-bacteria-in-water-using-Yolo-images\\Detect\\Detection-of-bacteria-in-water-using-Yolo-images\\temp\\images/train\\EMDS7-G018-068-0400_aug.png\n",
      "Augmented Image saved to: D:\\KULIAH\\SEMESTER 5\\RSBP\\Bacteri\\Detection-of-bacteria-in-water-using-Yolo-images\\Detect\\Detection-of-bacteria-in-water-using-Yolo-images\\temp\\images/train\\EMDS7-G008-034-0400_aug.png\n",
      "Augmented Image saved to: D:\\KULIAH\\SEMESTER 5\\RSBP\\Bacteri\\Detection-of-bacteria-in-water-using-Yolo-images\\Detect\\Detection-of-bacteria-in-water-using-Yolo-images\\temp\\images/train\\EMDS7-G037-006-0400_aug.png\n",
      "Augmented Image saved to: D:\\KULIAH\\SEMESTER 5\\RSBP\\Bacteri\\Detection-of-bacteria-in-water-using-Yolo-images\\Detect\\Detection-of-bacteria-in-water-using-Yolo-images\\temp\\images/train\\EMDS7-G003-253-0400_aug.png\n",
      "Augmented Image saved to: D:\\KULIAH\\SEMESTER 5\\RSBP\\Bacteri\\Detection-of-bacteria-in-water-using-Yolo-images\\Detect\\Detection-of-bacteria-in-water-using-Yolo-images\\temp\\images/train\\EMDS7-G011-048-0400_aug.png\n",
      "Augmented Image saved to: D:\\KULIAH\\SEMESTER 5\\RSBP\\Bacteri\\Detection-of-bacteria-in-water-using-Yolo-images\\Detect\\Detection-of-bacteria-in-water-using-Yolo-images\\temp\\images/train\\EMDS7-G034-002-0400_aug.png\n",
      "Augmented Image saved to: D:\\KULIAH\\SEMESTER 5\\RSBP\\Bacteri\\Detection-of-bacteria-in-water-using-Yolo-images\\Detect\\Detection-of-bacteria-in-water-using-Yolo-images\\temp\\images/train\\EMDS7-G003-181-0400_aug.png\n",
      "Augmented Image saved to: D:\\KULIAH\\SEMESTER 5\\RSBP\\Bacteri\\Detection-of-bacteria-in-water-using-Yolo-images\\Detect\\Detection-of-bacteria-in-water-using-Yolo-images\\temp\\images/train\\EMDS7-G017-018-0400_aug.png\n",
      "Augmented Image saved to: D:\\KULIAH\\SEMESTER 5\\RSBP\\Bacteri\\Detection-of-bacteria-in-water-using-Yolo-images\\Detect\\Detection-of-bacteria-in-water-using-Yolo-images\\temp\\images/train\\EMDS7-G019-023-0400_aug.png\n",
      "Augmented Image saved to: D:\\KULIAH\\SEMESTER 5\\RSBP\\Bacteri\\Detection-of-bacteria-in-water-using-Yolo-images\\Detect\\Detection-of-bacteria-in-water-using-Yolo-images\\temp\\images/train\\EMDS7-G003-159-0400_aug.png\n",
      "Augmented Image saved to: D:\\KULIAH\\SEMESTER 5\\RSBP\\Bacteri\\Detection-of-bacteria-in-water-using-Yolo-images\\Detect\\Detection-of-bacteria-in-water-using-Yolo-images\\temp\\images/train\\EMDS7-G012-091-0400_aug.png\n",
      "Augmented Image saved to: D:\\KULIAH\\SEMESTER 5\\RSBP\\Bacteri\\Detection-of-bacteria-in-water-using-Yolo-images\\Detect\\Detection-of-bacteria-in-water-using-Yolo-images\\temp\\images/train\\EMDS7-G032-008-0400_aug.png\n",
      "Augmented Image saved to: D:\\KULIAH\\SEMESTER 5\\RSBP\\Bacteri\\Detection-of-bacteria-in-water-using-Yolo-images\\Detect\\Detection-of-bacteria-in-water-using-Yolo-images\\temp\\images/train\\EMDS7-G033-011-0400_aug.png\n",
      "Augmented Image saved to: D:\\KULIAH\\SEMESTER 5\\RSBP\\Bacteri\\Detection-of-bacteria-in-water-using-Yolo-images\\Detect\\Detection-of-bacteria-in-water-using-Yolo-images\\temp\\images/train\\EMDS7-G036-012-0400_aug.png\n",
      "Augmented Image saved to: D:\\KULIAH\\SEMESTER 5\\RSBP\\Bacteri\\Detection-of-bacteria-in-water-using-Yolo-images\\Detect\\Detection-of-bacteria-in-water-using-Yolo-images\\temp\\images/train\\EMDS7-G005-038-0400_aug.png\n",
      "Augmented Image saved to: D:\\KULIAH\\SEMESTER 5\\RSBP\\Bacteri\\Detection-of-bacteria-in-water-using-Yolo-images\\Detect\\Detection-of-bacteria-in-water-using-Yolo-images\\temp\\images/train\\EMDS7-G012-099-0400_aug.png\n",
      "Augmented Image saved to: D:\\KULIAH\\SEMESTER 5\\RSBP\\Bacteri\\Detection-of-bacteria-in-water-using-Yolo-images\\Detect\\Detection-of-bacteria-in-water-using-Yolo-images\\temp\\images/train\\EMDS7-G022-269-0400_aug.png\n",
      "Augmented Image saved to: D:\\KULIAH\\SEMESTER 5\\RSBP\\Bacteri\\Detection-of-bacteria-in-water-using-Yolo-images\\Detect\\Detection-of-bacteria-in-water-using-Yolo-images\\temp\\images/train\\EMDS7-G005-028-0400_aug.png\n",
      "Augmented Image saved to: D:\\KULIAH\\SEMESTER 5\\RSBP\\Bacteri\\Detection-of-bacteria-in-water-using-Yolo-images\\Detect\\Detection-of-bacteria-in-water-using-Yolo-images\\temp\\images/train\\EMDS7-G035-032-0400_aug.png\n",
      "Augmented Image saved to: D:\\KULIAH\\SEMESTER 5\\RSBP\\Bacteri\\Detection-of-bacteria-in-water-using-Yolo-images\\Detect\\Detection-of-bacteria-in-water-using-Yolo-images\\temp\\images/train\\EMDS7-G025-072-0400_aug.png\n",
      "Augmented Image saved to: D:\\KULIAH\\SEMESTER 5\\RSBP\\Bacteri\\Detection-of-bacteria-in-water-using-Yolo-images\\Detect\\Detection-of-bacteria-in-water-using-Yolo-images\\temp\\images/train\\EMDS7-G036-036-0400_aug.png\n",
      "Augmented Image saved to: D:\\KULIAH\\SEMESTER 5\\RSBP\\Bacteri\\Detection-of-bacteria-in-water-using-Yolo-images\\Detect\\Detection-of-bacteria-in-water-using-Yolo-images\\temp\\images/train\\EMDS7-G039-031-0400_aug.png\n",
      "Augmented Image saved to: D:\\KULIAH\\SEMESTER 5\\RSBP\\Bacteri\\Detection-of-bacteria-in-water-using-Yolo-images\\Detect\\Detection-of-bacteria-in-water-using-Yolo-images\\temp\\images/train\\EMDS7-G032-017-0400_aug.png\n",
      "Augmented Image saved to: D:\\KULIAH\\SEMESTER 5\\RSBP\\Bacteri\\Detection-of-bacteria-in-water-using-Yolo-images\\Detect\\Detection-of-bacteria-in-water-using-Yolo-images\\temp\\images/train\\EMDS7-G022-202-0400_aug.png\n",
      "Augmented Image saved to: D:\\KULIAH\\SEMESTER 5\\RSBP\\Bacteri\\Detection-of-bacteria-in-water-using-Yolo-images\\Detect\\Detection-of-bacteria-in-water-using-Yolo-images\\temp\\images/train\\EMDS7-G022-128-0400_aug.png\n",
      "Augmented Image saved to: D:\\KULIAH\\SEMESTER 5\\RSBP\\Bacteri\\Detection-of-bacteria-in-water-using-Yolo-images\\Detect\\Detection-of-bacteria-in-water-using-Yolo-images\\temp\\images/train\\EMDS7-G018-044-0400_aug.png\n",
      "Augmented Image saved to: D:\\KULIAH\\SEMESTER 5\\RSBP\\Bacteri\\Detection-of-bacteria-in-water-using-Yolo-images\\Detect\\Detection-of-bacteria-in-water-using-Yolo-images\\temp\\images/train\\EMDS7-G004-070-0400_aug.png\n",
      "Augmented Image saved to: D:\\KULIAH\\SEMESTER 5\\RSBP\\Bacteri\\Detection-of-bacteria-in-water-using-Yolo-images\\Detect\\Detection-of-bacteria-in-water-using-Yolo-images\\temp\\images/train\\EMDS7-G033-019-0400_aug.png\n",
      "Augmented Image saved to: D:\\KULIAH\\SEMESTER 5\\RSBP\\Bacteri\\Detection-of-bacteria-in-water-using-Yolo-images\\Detect\\Detection-of-bacteria-in-water-using-Yolo-images\\temp\\images/train\\EMDS7-G032-044-0400_aug.png\n",
      "Augmented Image saved to: D:\\KULIAH\\SEMESTER 5\\RSBP\\Bacteri\\Detection-of-bacteria-in-water-using-Yolo-images\\Detect\\Detection-of-bacteria-in-water-using-Yolo-images\\temp\\images/train\\EMDS7-G015-017-0400_aug.png\n",
      "Augmented Image saved to: D:\\KULIAH\\SEMESTER 5\\RSBP\\Bacteri\\Detection-of-bacteria-in-water-using-Yolo-images\\Detect\\Detection-of-bacteria-in-water-using-Yolo-images\\temp\\images/train\\EMDS7-G022-226-0400_aug.png\n",
      "Augmented Image saved to: D:\\KULIAH\\SEMESTER 5\\RSBP\\Bacteri\\Detection-of-bacteria-in-water-using-Yolo-images\\Detect\\Detection-of-bacteria-in-water-using-Yolo-images\\temp\\images/train\\EMDS7-G004-052-0400_aug.png\n",
      "Augmented Image saved to: D:\\KULIAH\\SEMESTER 5\\RSBP\\Bacteri\\Detection-of-bacteria-in-water-using-Yolo-images\\Detect\\Detection-of-bacteria-in-water-using-Yolo-images\\temp\\images/train\\EMDS7-G036-060-0400_aug.png\n",
      "Augmented Image saved to: D:\\KULIAH\\SEMESTER 5\\RSBP\\Bacteri\\Detection-of-bacteria-in-water-using-Yolo-images\\Detect\\Detection-of-bacteria-in-water-using-Yolo-images\\temp\\images/train\\EMDS7-G009-063-0400_aug.png\n",
      "Augmented Image saved to: D:\\KULIAH\\SEMESTER 5\\RSBP\\Bacteri\\Detection-of-bacteria-in-water-using-Yolo-images\\Detect\\Detection-of-bacteria-in-water-using-Yolo-images\\temp\\images/train\\EMDS7-G017-047-0400_aug.png\n",
      "Augmented Image saved to: D:\\KULIAH\\SEMESTER 5\\RSBP\\Bacteri\\Detection-of-bacteria-in-water-using-Yolo-images\\Detect\\Detection-of-bacteria-in-water-using-Yolo-images\\temp\\images/train\\EMDS7-G036-003-0400_aug.png\n",
      "Augmented Image saved to: D:\\KULIAH\\SEMESTER 5\\RSBP\\Bacteri\\Detection-of-bacteria-in-water-using-Yolo-images\\Detect\\Detection-of-bacteria-in-water-using-Yolo-images\\temp\\images/train\\EMDS7-G017-057-0400_aug.png\n",
      "Augmented Image saved to: D:\\KULIAH\\SEMESTER 5\\RSBP\\Bacteri\\Detection-of-bacteria-in-water-using-Yolo-images\\Detect\\Detection-of-bacteria-in-water-using-Yolo-images\\temp\\images/train\\EMDS7-G001-038-0400_aug.png\n",
      "Augmented Image saved to: D:\\KULIAH\\SEMESTER 5\\RSBP\\Bacteri\\Detection-of-bacteria-in-water-using-Yolo-images\\Detect\\Detection-of-bacteria-in-water-using-Yolo-images\\temp\\images/train\\EMDS7-G006-006-0400_aug.png\n",
      "Augmented Image saved to: D:\\KULIAH\\SEMESTER 5\\RSBP\\Bacteri\\Detection-of-bacteria-in-water-using-Yolo-images\\Detect\\Detection-of-bacteria-in-water-using-Yolo-images\\temp\\images/train\\EMDS7-G009-064-0400_aug.png\n",
      "Augmented Image saved to: D:\\KULIAH\\SEMESTER 5\\RSBP\\Bacteri\\Detection-of-bacteria-in-water-using-Yolo-images\\Detect\\Detection-of-bacteria-in-water-using-Yolo-images\\temp\\images/train\\EMDS7-G025-031-0400_aug.png\n",
      "Augmented Image saved to: D:\\KULIAH\\SEMESTER 5\\RSBP\\Bacteri\\Detection-of-bacteria-in-water-using-Yolo-images\\Detect\\Detection-of-bacteria-in-water-using-Yolo-images\\temp\\images/train\\EMDS7-G027-017-0400_aug.png\n",
      "Augmented Image saved to: D:\\KULIAH\\SEMESTER 5\\RSBP\\Bacteri\\Detection-of-bacteria-in-water-using-Yolo-images\\Detect\\Detection-of-bacteria-in-water-using-Yolo-images\\temp\\images/train\\EMDS7-G009-032-0400_aug.png\n",
      "Augmented Image saved to: D:\\KULIAH\\SEMESTER 5\\RSBP\\Bacteri\\Detection-of-bacteria-in-water-using-Yolo-images\\Detect\\Detection-of-bacteria-in-water-using-Yolo-images\\temp\\images/train\\EMDS7-G019-043-0400_aug.png\n",
      "Augmented Image saved to: D:\\KULIAH\\SEMESTER 5\\RSBP\\Bacteri\\Detection-of-bacteria-in-water-using-Yolo-images\\Detect\\Detection-of-bacteria-in-water-using-Yolo-images\\temp\\images/train\\EMDS7-G039-058-0400_aug.png\n",
      "Augmented Image saved to: D:\\KULIAH\\SEMESTER 5\\RSBP\\Bacteri\\Detection-of-bacteria-in-water-using-Yolo-images\\Detect\\Detection-of-bacteria-in-water-using-Yolo-images\\temp\\images/train\\EMDS7-G022-137-0400_aug.png\n",
      "Augmented Image saved to: D:\\KULIAH\\SEMESTER 5\\RSBP\\Bacteri\\Detection-of-bacteria-in-water-using-Yolo-images\\Detect\\Detection-of-bacteria-in-water-using-Yolo-images\\temp\\images/train\\EMDS7-G036-072-0400_aug.png\n",
      "Augmented Image saved to: D:\\KULIAH\\SEMESTER 5\\RSBP\\Bacteri\\Detection-of-bacteria-in-water-using-Yolo-images\\Detect\\Detection-of-bacteria-in-water-using-Yolo-images\\temp\\images/train\\EMDS7-G029-004-0400_aug.png\n",
      "Augmented Image saved to: D:\\KULIAH\\SEMESTER 5\\RSBP\\Bacteri\\Detection-of-bacteria-in-water-using-Yolo-images\\Detect\\Detection-of-bacteria-in-water-using-Yolo-images\\temp\\images/train\\EMDS7-G019-051-0400_aug.png\n",
      "Augmented Image saved to: D:\\KULIAH\\SEMESTER 5\\RSBP\\Bacteri\\Detection-of-bacteria-in-water-using-Yolo-images\\Detect\\Detection-of-bacteria-in-water-using-Yolo-images\\temp\\images/train\\EMDS7-G027-011-0400_aug.png\n",
      "Augmented Image saved to: D:\\KULIAH\\SEMESTER 5\\RSBP\\Bacteri\\Detection-of-bacteria-in-water-using-Yolo-images\\Detect\\Detection-of-bacteria-in-water-using-Yolo-images\\temp\\images/train\\EMDS7-G003-273-0400_aug.png\n",
      "Augmented Image saved to: D:\\KULIAH\\SEMESTER 5\\RSBP\\Bacteri\\Detection-of-bacteria-in-water-using-Yolo-images\\Detect\\Detection-of-bacteria-in-water-using-Yolo-images\\temp\\images/train\\EMDS7-G008-012-0400_aug.png\n",
      "Augmented Image saved to: D:\\KULIAH\\SEMESTER 5\\RSBP\\Bacteri\\Detection-of-bacteria-in-water-using-Yolo-images\\Detect\\Detection-of-bacteria-in-water-using-Yolo-images\\temp\\images/train\\EMDS7-G022-272-0400_aug.png\n",
      "Augmented Image saved to: D:\\KULIAH\\SEMESTER 5\\RSBP\\Bacteri\\Detection-of-bacteria-in-water-using-Yolo-images\\Detect\\Detection-of-bacteria-in-water-using-Yolo-images\\temp\\images/train\\EMDS7-G033-014-0400_aug.png\n",
      "Augmented Image saved to: D:\\KULIAH\\SEMESTER 5\\RSBP\\Bacteri\\Detection-of-bacteria-in-water-using-Yolo-images\\Detect\\Detection-of-bacteria-in-water-using-Yolo-images\\temp\\images/train\\EMDS7-G035-016-0400_aug.png\n",
      "Augmented Image saved to: D:\\KULIAH\\SEMESTER 5\\RSBP\\Bacteri\\Detection-of-bacteria-in-water-using-Yolo-images\\Detect\\Detection-of-bacteria-in-water-using-Yolo-images\\temp\\images/train\\EMDS7-G031-006-0400_aug.png\n",
      "Augmented Image saved to: D:\\KULIAH\\SEMESTER 5\\RSBP\\Bacteri\\Detection-of-bacteria-in-water-using-Yolo-images\\Detect\\Detection-of-bacteria-in-water-using-Yolo-images\\temp\\images/train\\EMDS7-G038-028-0400_aug.png\n",
      "Augmented Image saved to: D:\\KULIAH\\SEMESTER 5\\RSBP\\Bacteri\\Detection-of-bacteria-in-water-using-Yolo-images\\Detect\\Detection-of-bacteria-in-water-using-Yolo-images\\temp\\images/train\\EMDS7-G038-045-0400_aug.png\n",
      "Augmented Image saved to: D:\\KULIAH\\SEMESTER 5\\RSBP\\Bacteri\\Detection-of-bacteria-in-water-using-Yolo-images\\Detect\\Detection-of-bacteria-in-water-using-Yolo-images\\temp\\images/train\\EMDS7-G010-023-0400_aug.png\n",
      "Augmented Image saved to: D:\\KULIAH\\SEMESTER 5\\RSBP\\Bacteri\\Detection-of-bacteria-in-water-using-Yolo-images\\Detect\\Detection-of-bacteria-in-water-using-Yolo-images\\temp\\images/train\\EMDS7-G012-024-0400_aug.png\n",
      "Augmented Image saved to: D:\\KULIAH\\SEMESTER 5\\RSBP\\Bacteri\\Detection-of-bacteria-in-water-using-Yolo-images\\Detect\\Detection-of-bacteria-in-water-using-Yolo-images\\temp\\images/train\\EMDS7-G035-039-0400_aug.png\n",
      "Augmented Image saved to: D:\\KULIAH\\SEMESTER 5\\RSBP\\Bacteri\\Detection-of-bacteria-in-water-using-Yolo-images\\Detect\\Detection-of-bacteria-in-water-using-Yolo-images\\temp\\images/train\\EMDS7-G016-021-0400_aug.png\n",
      "Augmented Image saved to: D:\\KULIAH\\SEMESTER 5\\RSBP\\Bacteri\\Detection-of-bacteria-in-water-using-Yolo-images\\Detect\\Detection-of-bacteria-in-water-using-Yolo-images\\temp\\images/train\\EMDS7-G039-073-0400_aug.png\n",
      "Augmented Image saved to: D:\\KULIAH\\SEMESTER 5\\RSBP\\Bacteri\\Detection-of-bacteria-in-water-using-Yolo-images\\Detect\\Detection-of-bacteria-in-water-using-Yolo-images\\temp\\images/train\\EMDS7-G012-073-0400_aug.png\n",
      "Augmented Image saved to: D:\\KULIAH\\SEMESTER 5\\RSBP\\Bacteri\\Detection-of-bacteria-in-water-using-Yolo-images\\Detect\\Detection-of-bacteria-in-water-using-Yolo-images\\temp\\images/train\\EMDS7-G003-179-0400_aug.png\n",
      "Augmented Image saved to: D:\\KULIAH\\SEMESTER 5\\RSBP\\Bacteri\\Detection-of-bacteria-in-water-using-Yolo-images\\Detect\\Detection-of-bacteria-in-water-using-Yolo-images\\temp\\images/train\\EMDS7-G008-024-0400_aug.png\n",
      "Augmented Image saved to: D:\\KULIAH\\SEMESTER 5\\RSBP\\Bacteri\\Detection-of-bacteria-in-water-using-Yolo-images\\Detect\\Detection-of-bacteria-in-water-using-Yolo-images\\temp\\images/train\\EMDS7-G015-009-0400_aug.png\n",
      "Augmented Image saved to: D:\\KULIAH\\SEMESTER 5\\RSBP\\Bacteri\\Detection-of-bacteria-in-water-using-Yolo-images\\Detect\\Detection-of-bacteria-in-water-using-Yolo-images\\temp\\images/train\\EMDS7-G010-011-0400_aug.png\n",
      "Augmented Image saved to: D:\\KULIAH\\SEMESTER 5\\RSBP\\Bacteri\\Detection-of-bacteria-in-water-using-Yolo-images\\Detect\\Detection-of-bacteria-in-water-using-Yolo-images\\temp\\images/train\\EMDS7-G032-009-0400_aug.png\n",
      "Augmented Image saved to: D:\\KULIAH\\SEMESTER 5\\RSBP\\Bacteri\\Detection-of-bacteria-in-water-using-Yolo-images\\Detect\\Detection-of-bacteria-in-water-using-Yolo-images\\temp\\images/train\\EMDS7-G029-011-0400_aug.png\n",
      "Augmented Image saved to: D:\\KULIAH\\SEMESTER 5\\RSBP\\Bacteri\\Detection-of-bacteria-in-water-using-Yolo-images\\Detect\\Detection-of-bacteria-in-water-using-Yolo-images\\temp\\images/train\\EMDS7-G022-182-0400_aug.png\n",
      "Augmented Image saved to: D:\\KULIAH\\SEMESTER 5\\RSBP\\Bacteri\\Detection-of-bacteria-in-water-using-Yolo-images\\Detect\\Detection-of-bacteria-in-water-using-Yolo-images\\temp\\images/train\\EMDS7-G018-007-0400_aug.png\n",
      "Augmented Image saved to: D:\\KULIAH\\SEMESTER 5\\RSBP\\Bacteri\\Detection-of-bacteria-in-water-using-Yolo-images\\Detect\\Detection-of-bacteria-in-water-using-Yolo-images\\temp\\images/train\\EMDS7-G005-034-0400_aug.png\n",
      "Augmented Image saved to: D:\\KULIAH\\SEMESTER 5\\RSBP\\Bacteri\\Detection-of-bacteria-in-water-using-Yolo-images\\Detect\\Detection-of-bacteria-in-water-using-Yolo-images\\temp\\images/train\\EMDS7-G022-089-0400_aug.png\n",
      "Augmented Image saved to: D:\\KULIAH\\SEMESTER 5\\RSBP\\Bacteri\\Detection-of-bacteria-in-water-using-Yolo-images\\Detect\\Detection-of-bacteria-in-water-using-Yolo-images\\temp\\images/train\\EMDS7-G022-082-0400_aug.png\n",
      "Augmented Image saved to: D:\\KULIAH\\SEMESTER 5\\RSBP\\Bacteri\\Detection-of-bacteria-in-water-using-Yolo-images\\Detect\\Detection-of-bacteria-in-water-using-Yolo-images\\temp\\images/train\\EMDS7-G035-054-0400_aug.png\n",
      "Augmented Image saved to: D:\\KULIAH\\SEMESTER 5\\RSBP\\Bacteri\\Detection-of-bacteria-in-water-using-Yolo-images\\Detect\\Detection-of-bacteria-in-water-using-Yolo-images\\temp\\images/train\\EMDS7-G036-038-0400_aug.png\n",
      "Augmented Image saved to: D:\\KULIAH\\SEMESTER 5\\RSBP\\Bacteri\\Detection-of-bacteria-in-water-using-Yolo-images\\Detect\\Detection-of-bacteria-in-water-using-Yolo-images\\temp\\images/train\\EMDS7-G022-167-0400_aug.png\n",
      "Augmented Image saved to: D:\\KULIAH\\SEMESTER 5\\RSBP\\Bacteri\\Detection-of-bacteria-in-water-using-Yolo-images\\Detect\\Detection-of-bacteria-in-water-using-Yolo-images\\temp\\images/train\\EMDS7-G022-237-0400_aug.png\n",
      "Augmented Image saved to: D:\\KULIAH\\SEMESTER 5\\RSBP\\Bacteri\\Detection-of-bacteria-in-water-using-Yolo-images\\Detect\\Detection-of-bacteria-in-water-using-Yolo-images\\temp\\images/train\\EMDS7-G003-157-0400_aug.png\n",
      "Augmented Image saved to: D:\\KULIAH\\SEMESTER 5\\RSBP\\Bacteri\\Detection-of-bacteria-in-water-using-Yolo-images\\Detect\\Detection-of-bacteria-in-water-using-Yolo-images\\temp\\images/train\\EMDS7-G017-072-0400_aug.png\n",
      "Augmented Image saved to: D:\\KULIAH\\SEMESTER 5\\RSBP\\Bacteri\\Detection-of-bacteria-in-water-using-Yolo-images\\Detect\\Detection-of-bacteria-in-water-using-Yolo-images\\temp\\images/train\\EMDS7-G012-094-0400_aug.png\n",
      "Augmented Image saved to: D:\\KULIAH\\SEMESTER 5\\RSBP\\Bacteri\\Detection-of-bacteria-in-water-using-Yolo-images\\Detect\\Detection-of-bacteria-in-water-using-Yolo-images\\temp\\images/train\\EMDS7-G030-013-0400_aug.png\n",
      "Augmented Image saved to: D:\\KULIAH\\SEMESTER 5\\RSBP\\Bacteri\\Detection-of-bacteria-in-water-using-Yolo-images\\Detect\\Detection-of-bacteria-in-water-using-Yolo-images\\temp\\images/train\\EMDS7-G022-178-0400_aug.png\n",
      "Augmented Image saved to: D:\\KULIAH\\SEMESTER 5\\RSBP\\Bacteri\\Detection-of-bacteria-in-water-using-Yolo-images\\Detect\\Detection-of-bacteria-in-water-using-Yolo-images\\temp\\images/train\\EMDS7-G006-016-0400_aug.png\n",
      "Augmented Image saved to: D:\\KULIAH\\SEMESTER 5\\RSBP\\Bacteri\\Detection-of-bacteria-in-water-using-Yolo-images\\Detect\\Detection-of-bacteria-in-water-using-Yolo-images\\temp\\images/train\\EMDS7-G031-027-0400_aug.png\n",
      "Augmented Image saved to: D:\\KULIAH\\SEMESTER 5\\RSBP\\Bacteri\\Detection-of-bacteria-in-water-using-Yolo-images\\Detect\\Detection-of-bacteria-in-water-using-Yolo-images\\temp\\images/train\\EMDS7-G025-054-0400_aug.png\n",
      "Augmented Image saved to: D:\\KULIAH\\SEMESTER 5\\RSBP\\Bacteri\\Detection-of-bacteria-in-water-using-Yolo-images\\Detect\\Detection-of-bacteria-in-water-using-Yolo-images\\temp\\images/train\\EMDS7-G012-097-0400_aug.png\n",
      "Augmented Image saved to: D:\\KULIAH\\SEMESTER 5\\RSBP\\Bacteri\\Detection-of-bacteria-in-water-using-Yolo-images\\Detect\\Detection-of-bacteria-in-water-using-Yolo-images\\temp\\images/train\\EMDS7-G012-092-0400_aug.png\n",
      "Augmented Image saved to: D:\\KULIAH\\SEMESTER 5\\RSBP\\Bacteri\\Detection-of-bacteria-in-water-using-Yolo-images\\Detect\\Detection-of-bacteria-in-water-using-Yolo-images\\temp\\images/train\\EMDS7-G012-042-0400_aug.png\n",
      "Augmented Image saved to: D:\\KULIAH\\SEMESTER 5\\RSBP\\Bacteri\\Detection-of-bacteria-in-water-using-Yolo-images\\Detect\\Detection-of-bacteria-in-water-using-Yolo-images\\temp\\images/train\\EMDS7-G025-062-0400_aug.png\n",
      "Augmented Image saved to: D:\\KULIAH\\SEMESTER 5\\RSBP\\Bacteri\\Detection-of-bacteria-in-water-using-Yolo-images\\Detect\\Detection-of-bacteria-in-water-using-Yolo-images\\temp\\images/train\\EMDS7-G003-020-0400_aug.png\n",
      "Augmented Image saved to: D:\\KULIAH\\SEMESTER 5\\RSBP\\Bacteri\\Detection-of-bacteria-in-water-using-Yolo-images\\Detect\\Detection-of-bacteria-in-water-using-Yolo-images\\temp\\images/train\\EMDS7-G018-085-0400_aug.png\n",
      "Augmented Image saved to: D:\\KULIAH\\SEMESTER 5\\RSBP\\Bacteri\\Detection-of-bacteria-in-water-using-Yolo-images\\Detect\\Detection-of-bacteria-in-water-using-Yolo-images\\temp\\images/train\\EMDS7-G004-064-0400_aug.png\n",
      "Augmented Image saved to: D:\\KULIAH\\SEMESTER 5\\RSBP\\Bacteri\\Detection-of-bacteria-in-water-using-Yolo-images\\Detect\\Detection-of-bacteria-in-water-using-Yolo-images\\temp\\images/train\\EMDS7-G003-065-0400_aug.png\n",
      "Augmented Image saved to: D:\\KULIAH\\SEMESTER 5\\RSBP\\Bacteri\\Detection-of-bacteria-in-water-using-Yolo-images\\Detect\\Detection-of-bacteria-in-water-using-Yolo-images\\temp\\images/train\\EMDS7-G023-030-0400_aug.png\n",
      "Augmented Image saved to: D:\\KULIAH\\SEMESTER 5\\RSBP\\Bacteri\\Detection-of-bacteria-in-water-using-Yolo-images\\Detect\\Detection-of-bacteria-in-water-using-Yolo-images\\temp\\images/train\\EMDS7-G020-017-0400_aug.png\n",
      "Augmented Image saved to: D:\\KULIAH\\SEMESTER 5\\RSBP\\Bacteri\\Detection-of-bacteria-in-water-using-Yolo-images\\Detect\\Detection-of-bacteria-in-water-using-Yolo-images\\temp\\images/train\\EMDS7-G028-058-0400_aug.png\n",
      "Augmented Image saved to: D:\\KULIAH\\SEMESTER 5\\RSBP\\Bacteri\\Detection-of-bacteria-in-water-using-Yolo-images\\Detect\\Detection-of-bacteria-in-water-using-Yolo-images\\temp\\images/train\\EMDS7-G008-008-0400_aug.png\n",
      "Augmented Image saved to: D:\\KULIAH\\SEMESTER 5\\RSBP\\Bacteri\\Detection-of-bacteria-in-water-using-Yolo-images\\Detect\\Detection-of-bacteria-in-water-using-Yolo-images\\temp\\images/train\\EMDS7-G014-018-0400_aug.png\n",
      "Augmented Image saved to: D:\\KULIAH\\SEMESTER 5\\RSBP\\Bacteri\\Detection-of-bacteria-in-water-using-Yolo-images\\Detect\\Detection-of-bacteria-in-water-using-Yolo-images\\temp\\images/train\\EMDS7-G009-049-0400_aug.png\n",
      "Augmented Image saved to: D:\\KULIAH\\SEMESTER 5\\RSBP\\Bacteri\\Detection-of-bacteria-in-water-using-Yolo-images\\Detect\\Detection-of-bacteria-in-water-using-Yolo-images\\temp\\images/train\\EMDS7-G014-012-0400_aug.png\n",
      "Augmented Image saved to: D:\\KULIAH\\SEMESTER 5\\RSBP\\Bacteri\\Detection-of-bacteria-in-water-using-Yolo-images\\Detect\\Detection-of-bacteria-in-water-using-Yolo-images\\temp\\images/train\\EMDS7-G012-030-0400_aug.png\n",
      "Augmented Image saved to: D:\\KULIAH\\SEMESTER 5\\RSBP\\Bacteri\\Detection-of-bacteria-in-water-using-Yolo-images\\Detect\\Detection-of-bacteria-in-water-using-Yolo-images\\temp\\images/train\\EMDS7-G003-135-0400_aug.png\n",
      "Augmented Image saved to: D:\\KULIAH\\SEMESTER 5\\RSBP\\Bacteri\\Detection-of-bacteria-in-water-using-Yolo-images\\Detect\\Detection-of-bacteria-in-water-using-Yolo-images\\temp\\images/train\\EMDS7-G035-028-0400_aug.png\n",
      "Augmented Image saved to: D:\\KULIAH\\SEMESTER 5\\RSBP\\Bacteri\\Detection-of-bacteria-in-water-using-Yolo-images\\Detect\\Detection-of-bacteria-in-water-using-Yolo-images\\temp\\images/train\\EMDS7-G025-046-0400_aug.png\n",
      "Augmented Image saved to: D:\\KULIAH\\SEMESTER 5\\RSBP\\Bacteri\\Detection-of-bacteria-in-water-using-Yolo-images\\Detect\\Detection-of-bacteria-in-water-using-Yolo-images\\temp\\images/train\\EMDS7-G005-012-0400_aug.png\n",
      "Augmented Image saved to: D:\\KULIAH\\SEMESTER 5\\RSBP\\Bacteri\\Detection-of-bacteria-in-water-using-Yolo-images\\Detect\\Detection-of-bacteria-in-water-using-Yolo-images\\temp\\images/train\\EMDS7-G009-043-0400_aug.png\n",
      "Augmented Image saved to: D:\\KULIAH\\SEMESTER 5\\RSBP\\Bacteri\\Detection-of-bacteria-in-water-using-Yolo-images\\Detect\\Detection-of-bacteria-in-water-using-Yolo-images\\temp\\images/train\\EMDS7-G022-054-0400_aug.png\n",
      "Augmented Image saved to: D:\\KULIAH\\SEMESTER 5\\RSBP\\Bacteri\\Detection-of-bacteria-in-water-using-Yolo-images\\Detect\\Detection-of-bacteria-in-water-using-Yolo-images\\temp\\images/train\\EMDS7-G022-010-0400_aug.png\n",
      "Augmented Image saved to: D:\\KULIAH\\SEMESTER 5\\RSBP\\Bacteri\\Detection-of-bacteria-in-water-using-Yolo-images\\Detect\\Detection-of-bacteria-in-water-using-Yolo-images\\temp\\images/train\\EMDS7-G018-011-0400_aug.png\n",
      "Augmented Image saved to: D:\\KULIAH\\SEMESTER 5\\RSBP\\Bacteri\\Detection-of-bacteria-in-water-using-Yolo-images\\Detect\\Detection-of-bacteria-in-water-using-Yolo-images\\temp\\images/train\\EMDS7-G023-028-0400_aug.png\n",
      "Augmented Image saved to: D:\\KULIAH\\SEMESTER 5\\RSBP\\Bacteri\\Detection-of-bacteria-in-water-using-Yolo-images\\Detect\\Detection-of-bacteria-in-water-using-Yolo-images\\temp\\images/train\\EMDS7-G004-063-0400_aug.png\n",
      "Augmented Image saved to: D:\\KULIAH\\SEMESTER 5\\RSBP\\Bacteri\\Detection-of-bacteria-in-water-using-Yolo-images\\Detect\\Detection-of-bacteria-in-water-using-Yolo-images\\temp\\images/train\\EMDS7-G003-175-0400_aug.png\n",
      "Augmented Image saved to: D:\\KULIAH\\SEMESTER 5\\RSBP\\Bacteri\\Detection-of-bacteria-in-water-using-Yolo-images\\Detect\\Detection-of-bacteria-in-water-using-Yolo-images\\temp\\images/train\\EMDS7-G029-008-0400_aug.png\n",
      "Augmented Image saved to: D:\\KULIAH\\SEMESTER 5\\RSBP\\Bacteri\\Detection-of-bacteria-in-water-using-Yolo-images\\Detect\\Detection-of-bacteria-in-water-using-Yolo-images\\temp\\images/train\\EMDS7-G017-074-0400_aug.png\n",
      "Augmented Image saved to: D:\\KULIAH\\SEMESTER 5\\RSBP\\Bacteri\\Detection-of-bacteria-in-water-using-Yolo-images\\Detect\\Detection-of-bacteria-in-water-using-Yolo-images\\temp\\images/train\\EMDS7-G030-034-0400_aug.png\n",
      "Augmented Image saved to: D:\\KULIAH\\SEMESTER 5\\RSBP\\Bacteri\\Detection-of-bacteria-in-water-using-Yolo-images\\Detect\\Detection-of-bacteria-in-water-using-Yolo-images\\temp\\images/train\\EMDS7-G039-041-0400_aug.png\n",
      "Augmented Image saved to: D:\\KULIAH\\SEMESTER 5\\RSBP\\Bacteri\\Detection-of-bacteria-in-water-using-Yolo-images\\Detect\\Detection-of-bacteria-in-water-using-Yolo-images\\temp\\images/train\\EMDS7-G022-250-0400_aug.png\n",
      "Augmented Image saved to: D:\\KULIAH\\SEMESTER 5\\RSBP\\Bacteri\\Detection-of-bacteria-in-water-using-Yolo-images\\Detect\\Detection-of-bacteria-in-water-using-Yolo-images\\temp\\images/train\\EMDS7-G022-212-0400_aug.png\n",
      "Augmented Image saved to: D:\\KULIAH\\SEMESTER 5\\RSBP\\Bacteri\\Detection-of-bacteria-in-water-using-Yolo-images\\Detect\\Detection-of-bacteria-in-water-using-Yolo-images\\temp\\images/train\\EMDS7-G032-078-0400_aug.png\n",
      "Augmented Image saved to: D:\\KULIAH\\SEMESTER 5\\RSBP\\Bacteri\\Detection-of-bacteria-in-water-using-Yolo-images\\Detect\\Detection-of-bacteria-in-water-using-Yolo-images\\temp\\images/train\\EMDS7-G032-061-0400_aug.png\n",
      "Augmented Image saved to: D:\\KULIAH\\SEMESTER 5\\RSBP\\Bacteri\\Detection-of-bacteria-in-water-using-Yolo-images\\Detect\\Detection-of-bacteria-in-water-using-Yolo-images\\temp\\images/train\\EMDS7-G020-029-0400_aug.png\n",
      "Augmented Image saved to: D:\\KULIAH\\SEMESTER 5\\RSBP\\Bacteri\\Detection-of-bacteria-in-water-using-Yolo-images\\Detect\\Detection-of-bacteria-in-water-using-Yolo-images\\temp\\images/train\\EMDS7-G011-042-0400_aug.png\n",
      "Augmented Image saved to: D:\\KULIAH\\SEMESTER 5\\RSBP\\Bacteri\\Detection-of-bacteria-in-water-using-Yolo-images\\Detect\\Detection-of-bacteria-in-water-using-Yolo-images\\temp\\images/train\\EMDS7-G012-044-0400_aug.png\n",
      "Augmented Image saved to: D:\\KULIAH\\SEMESTER 5\\RSBP\\Bacteri\\Detection-of-bacteria-in-water-using-Yolo-images\\Detect\\Detection-of-bacteria-in-water-using-Yolo-images\\temp\\images/train\\EMDS7-G022-233-0400_aug.png\n",
      "Augmented Image saved to: D:\\KULIAH\\SEMESTER 5\\RSBP\\Bacteri\\Detection-of-bacteria-in-water-using-Yolo-images\\Detect\\Detection-of-bacteria-in-water-using-Yolo-images\\temp\\images/train\\EMDS7-G017-009-0400_aug.png\n",
      "Augmented Image saved to: D:\\KULIAH\\SEMESTER 5\\RSBP\\Bacteri\\Detection-of-bacteria-in-water-using-Yolo-images\\Detect\\Detection-of-bacteria-in-water-using-Yolo-images\\temp\\images/train\\EMDS7-G014-034-0400_aug.png\n",
      "Augmented Image saved to: D:\\KULIAH\\SEMESTER 5\\RSBP\\Bacteri\\Detection-of-bacteria-in-water-using-Yolo-images\\Detect\\Detection-of-bacteria-in-water-using-Yolo-images\\temp\\images/train\\EMDS7-G012-089-0400_aug.png\n",
      "Augmented Image saved to: D:\\KULIAH\\SEMESTER 5\\RSBP\\Bacteri\\Detection-of-bacteria-in-water-using-Yolo-images\\Detect\\Detection-of-bacteria-in-water-using-Yolo-images\\temp\\images/train\\EMDS7-G003-047-0400_aug.png\n",
      "Augmented Image saved to: D:\\KULIAH\\SEMESTER 5\\RSBP\\Bacteri\\Detection-of-bacteria-in-water-using-Yolo-images\\Detect\\Detection-of-bacteria-in-water-using-Yolo-images\\temp\\images/train\\EMDS7-G025-034-0400_aug.png\n",
      "Augmented Image saved to: D:\\KULIAH\\SEMESTER 5\\RSBP\\Bacteri\\Detection-of-bacteria-in-water-using-Yolo-images\\Detect\\Detection-of-bacteria-in-water-using-Yolo-images\\temp\\images/train\\EMDS7-G001-024-0400_aug.png\n",
      "Augmented Image saved to: D:\\KULIAH\\SEMESTER 5\\RSBP\\Bacteri\\Detection-of-bacteria-in-water-using-Yolo-images\\Detect\\Detection-of-bacteria-in-water-using-Yolo-images\\temp\\images/train\\EMDS7-G003-009-0400_aug.png\n",
      "Augmented Image saved to: D:\\KULIAH\\SEMESTER 5\\RSBP\\Bacteri\\Detection-of-bacteria-in-water-using-Yolo-images\\Detect\\Detection-of-bacteria-in-water-using-Yolo-images\\temp\\images/train\\EMDS7-G003-215-0400_aug.png\n",
      "Augmented Image saved to: D:\\KULIAH\\SEMESTER 5\\RSBP\\Bacteri\\Detection-of-bacteria-in-water-using-Yolo-images\\Detect\\Detection-of-bacteria-in-water-using-Yolo-images\\temp\\images/train\\EMDS7-G004-059-0400_aug.png\n",
      "Augmented Image saved to: D:\\KULIAH\\SEMESTER 5\\RSBP\\Bacteri\\Detection-of-bacteria-in-water-using-Yolo-images\\Detect\\Detection-of-bacteria-in-water-using-Yolo-images\\temp\\images/train\\EMDS7-G005-018-0400_aug.png\n",
      "Augmented Image saved to: D:\\KULIAH\\SEMESTER 5\\RSBP\\Bacteri\\Detection-of-bacteria-in-water-using-Yolo-images\\Detect\\Detection-of-bacteria-in-water-using-Yolo-images\\temp\\images/train\\EMDS7-G025-039-0400_aug.png\n",
      "Augmented Image saved to: D:\\KULIAH\\SEMESTER 5\\RSBP\\Bacteri\\Detection-of-bacteria-in-water-using-Yolo-images\\Detect\\Detection-of-bacteria-in-water-using-Yolo-images\\temp\\images/train\\EMDS7-G036-004-0400_aug.png\n",
      "Augmented Image saved to: D:\\KULIAH\\SEMESTER 5\\RSBP\\Bacteri\\Detection-of-bacteria-in-water-using-Yolo-images\\Detect\\Detection-of-bacteria-in-water-using-Yolo-images\\temp\\images/train\\EMDS7-G012-109-0400_aug.png\n",
      "Augmented Image saved to: D:\\KULIAH\\SEMESTER 5\\RSBP\\Bacteri\\Detection-of-bacteria-in-water-using-Yolo-images\\Detect\\Detection-of-bacteria-in-water-using-Yolo-images\\temp\\images/train\\EMDS7-G017-016-0400_aug.png\n",
      "Augmented Image saved to: D:\\KULIAH\\SEMESTER 5\\RSBP\\Bacteri\\Detection-of-bacteria-in-water-using-Yolo-images\\Detect\\Detection-of-bacteria-in-water-using-Yolo-images\\temp\\images/train\\EMDS7-G039-048-0400_aug.png\n",
      "Augmented Image saved to: D:\\KULIAH\\SEMESTER 5\\RSBP\\Bacteri\\Detection-of-bacteria-in-water-using-Yolo-images\\Detect\\Detection-of-bacteria-in-water-using-Yolo-images\\temp\\images/train\\EMDS7-G039-006-0400_aug.png\n",
      "Augmented Image saved to: D:\\KULIAH\\SEMESTER 5\\RSBP\\Bacteri\\Detection-of-bacteria-in-water-using-Yolo-images\\Detect\\Detection-of-bacteria-in-water-using-Yolo-images\\temp\\images/train\\EMDS7-G022-145-0400_aug.png\n",
      "Augmented Image saved to: D:\\KULIAH\\SEMESTER 5\\RSBP\\Bacteri\\Detection-of-bacteria-in-water-using-Yolo-images\\Detect\\Detection-of-bacteria-in-water-using-Yolo-images\\temp\\images/train\\EMDS7-G036-027-0400_aug.png\n",
      "Augmented Image saved to: D:\\KULIAH\\SEMESTER 5\\RSBP\\Bacteri\\Detection-of-bacteria-in-water-using-Yolo-images\\Detect\\Detection-of-bacteria-in-water-using-Yolo-images\\temp\\images/train\\EMDS7-G038-058-0400_aug.png\n",
      "Augmented Image saved to: D:\\KULIAH\\SEMESTER 5\\RSBP\\Bacteri\\Detection-of-bacteria-in-water-using-Yolo-images\\Detect\\Detection-of-bacteria-in-water-using-Yolo-images\\temp\\images/train\\EMDS7-G010-024-0400_aug.png\n",
      "Augmented Image saved to: D:\\KULIAH\\SEMESTER 5\\RSBP\\Bacteri\\Detection-of-bacteria-in-water-using-Yolo-images\\Detect\\Detection-of-bacteria-in-water-using-Yolo-images\\temp\\images/train\\EMDS7-G039-064-0400_aug.png\n",
      "Augmented Image saved to: D:\\KULIAH\\SEMESTER 5\\RSBP\\Bacteri\\Detection-of-bacteria-in-water-using-Yolo-images\\Detect\\Detection-of-bacteria-in-water-using-Yolo-images\\temp\\images/train\\EMDS7-G022-117-0400_aug.png\n",
      "Augmented Image saved to: D:\\KULIAH\\SEMESTER 5\\RSBP\\Bacteri\\Detection-of-bacteria-in-water-using-Yolo-images\\Detect\\Detection-of-bacteria-in-water-using-Yolo-images\\temp\\images/train\\EMDS7-G004-066-0400_aug.png\n",
      "Augmented Image saved to: D:\\KULIAH\\SEMESTER 5\\RSBP\\Bacteri\\Detection-of-bacteria-in-water-using-Yolo-images\\Detect\\Detection-of-bacteria-in-water-using-Yolo-images\\temp\\images/train\\EMDS7-G018-001-0400_aug.png\n",
      "Augmented Image saved to: D:\\KULIAH\\SEMESTER 5\\RSBP\\Bacteri\\Detection-of-bacteria-in-water-using-Yolo-images\\Detect\\Detection-of-bacteria-in-water-using-Yolo-images\\temp\\images/train\\EMDS7-G031-032-0400_aug.png\n",
      "Augmented Image saved to: D:\\KULIAH\\SEMESTER 5\\RSBP\\Bacteri\\Detection-of-bacteria-in-water-using-Yolo-images\\Detect\\Detection-of-bacteria-in-water-using-Yolo-images\\temp\\images/train\\EMDS7-G004-046-0400_aug.png\n",
      "Augmented Image saved to: D:\\KULIAH\\SEMESTER 5\\RSBP\\Bacteri\\Detection-of-bacteria-in-water-using-Yolo-images\\Detect\\Detection-of-bacteria-in-water-using-Yolo-images\\temp\\images/train\\EMDS7-G036-070-0400_aug.png\n",
      "Augmented Image saved to: D:\\KULIAH\\SEMESTER 5\\RSBP\\Bacteri\\Detection-of-bacteria-in-water-using-Yolo-images\\Detect\\Detection-of-bacteria-in-water-using-Yolo-images\\temp\\images/train\\EMDS7-G022-069-0400_aug.png\n",
      "Augmented Image saved to: D:\\KULIAH\\SEMESTER 5\\RSBP\\Bacteri\\Detection-of-bacteria-in-water-using-Yolo-images\\Detect\\Detection-of-bacteria-in-water-using-Yolo-images\\temp\\images/train\\EMDS7-G009-016-0400_aug.png\n",
      "Augmented Image saved to: D:\\KULIAH\\SEMESTER 5\\RSBP\\Bacteri\\Detection-of-bacteria-in-water-using-Yolo-images\\Detect\\Detection-of-bacteria-in-water-using-Yolo-images\\temp\\images/train\\EMDS7-G020-025-0400_aug.png\n",
      "Augmented Image saved to: D:\\KULIAH\\SEMESTER 5\\RSBP\\Bacteri\\Detection-of-bacteria-in-water-using-Yolo-images\\Detect\\Detection-of-bacteria-in-water-using-Yolo-images\\temp\\images/train\\EMDS7-G022-088-0400_aug.png\n",
      "Augmented Image saved to: D:\\KULIAH\\SEMESTER 5\\RSBP\\Bacteri\\Detection-of-bacteria-in-water-using-Yolo-images\\Detect\\Detection-of-bacteria-in-water-using-Yolo-images\\temp\\images/train\\EMDS7-G012-101-0400_aug.png\n",
      "Augmented Image saved to: D:\\KULIAH\\SEMESTER 5\\RSBP\\Bacteri\\Detection-of-bacteria-in-water-using-Yolo-images\\Detect\\Detection-of-bacteria-in-water-using-Yolo-images\\temp\\images/train\\EMDS7-G003-257-0400_aug.png\n",
      "Augmented Image saved to: D:\\KULIAH\\SEMESTER 5\\RSBP\\Bacteri\\Detection-of-bacteria-in-water-using-Yolo-images\\Detect\\Detection-of-bacteria-in-water-using-Yolo-images\\temp\\images/train\\EMDS7-G009-046-0400_aug.png\n",
      "Augmented Image saved to: D:\\KULIAH\\SEMESTER 5\\RSBP\\Bacteri\\Detection-of-bacteria-in-water-using-Yolo-images\\Detect\\Detection-of-bacteria-in-water-using-Yolo-images\\temp\\images/train\\EMDS7-G038-048-0400_aug.png\n",
      "Augmented Image saved to: D:\\KULIAH\\SEMESTER 5\\RSBP\\Bacteri\\Detection-of-bacteria-in-water-using-Yolo-images\\Detect\\Detection-of-bacteria-in-water-using-Yolo-images\\temp\\images/train\\EMDS7-G012-055-0400_aug.png\n",
      "Augmented Image saved to: D:\\KULIAH\\SEMESTER 5\\RSBP\\Bacteri\\Detection-of-bacteria-in-water-using-Yolo-images\\Detect\\Detection-of-bacteria-in-water-using-Yolo-images\\temp\\images/train\\EMDS7-G017-021-0400_aug.png\n",
      "Augmented Image saved to: D:\\KULIAH\\SEMESTER 5\\RSBP\\Bacteri\\Detection-of-bacteria-in-water-using-Yolo-images\\Detect\\Detection-of-bacteria-in-water-using-Yolo-images\\temp\\images/train\\EMDS7-G003-193-0400_aug.png\n",
      "Augmented Image saved to: D:\\KULIAH\\SEMESTER 5\\RSBP\\Bacteri\\Detection-of-bacteria-in-water-using-Yolo-images\\Detect\\Detection-of-bacteria-in-water-using-Yolo-images\\temp\\images/train\\EMDS7-G032-047-0400_aug.png\n",
      "Augmented Image saved to: D:\\KULIAH\\SEMESTER 5\\RSBP\\Bacteri\\Detection-of-bacteria-in-water-using-Yolo-images\\Detect\\Detection-of-bacteria-in-water-using-Yolo-images\\temp\\images/train\\EMDS7-G005-019-0400_aug.png\n",
      "Augmented Image saved to: D:\\KULIAH\\SEMESTER 5\\RSBP\\Bacteri\\Detection-of-bacteria-in-water-using-Yolo-images\\Detect\\Detection-of-bacteria-in-water-using-Yolo-images\\temp\\images/train\\EMDS7-G007-014-0400_aug.png\n",
      "Augmented Image saved to: D:\\KULIAH\\SEMESTER 5\\RSBP\\Bacteri\\Detection-of-bacteria-in-water-using-Yolo-images\\Detect\\Detection-of-bacteria-in-water-using-Yolo-images\\temp\\images/train\\EMDS7-G025-048-0400_aug.png\n",
      "Augmented Image saved to: D:\\KULIAH\\SEMESTER 5\\RSBP\\Bacteri\\Detection-of-bacteria-in-water-using-Yolo-images\\Detect\\Detection-of-bacteria-in-water-using-Yolo-images\\temp\\images/train\\EMDS7-G022-204-0400_aug.png\n",
      "Augmented Image saved to: D:\\KULIAH\\SEMESTER 5\\RSBP\\Bacteri\\Detection-of-bacteria-in-water-using-Yolo-images\\Detect\\Detection-of-bacteria-in-water-using-Yolo-images\\temp\\images/train\\EMDS7-G001-032-0400_aug.png\n",
      "Augmented Image saved to: D:\\KULIAH\\SEMESTER 5\\RSBP\\Bacteri\\Detection-of-bacteria-in-water-using-Yolo-images\\Detect\\Detection-of-bacteria-in-water-using-Yolo-images\\temp\\images/train\\EMDS7-G022-129-0400_aug.png\n",
      "Augmented Image saved to: D:\\KULIAH\\SEMESTER 5\\RSBP\\Bacteri\\Detection-of-bacteria-in-water-using-Yolo-images\\Detect\\Detection-of-bacteria-in-water-using-Yolo-images\\temp\\images/train\\EMDS7-G008-027-0400_aug.png\n",
      "Augmented Image saved to: D:\\KULIAH\\SEMESTER 5\\RSBP\\Bacteri\\Detection-of-bacteria-in-water-using-Yolo-images\\Detect\\Detection-of-bacteria-in-water-using-Yolo-images\\temp\\images/train\\EMDS7-G022-234-0400_aug.png\n",
      "Augmented Image saved to: D:\\KULIAH\\SEMESTER 5\\RSBP\\Bacteri\\Detection-of-bacteria-in-water-using-Yolo-images\\Detect\\Detection-of-bacteria-in-water-using-Yolo-images\\temp\\images/train\\EMDS7-G036-028-0400_aug.png\n",
      "Augmented Image saved to: D:\\KULIAH\\SEMESTER 5\\RSBP\\Bacteri\\Detection-of-bacteria-in-water-using-Yolo-images\\Detect\\Detection-of-bacteria-in-water-using-Yolo-images\\temp\\images/train\\EMDS7-G003-073-0400_aug.png\n",
      "Augmented Image saved to: D:\\KULIAH\\SEMESTER 5\\RSBP\\Bacteri\\Detection-of-bacteria-in-water-using-Yolo-images\\Detect\\Detection-of-bacteria-in-water-using-Yolo-images\\temp\\images/train\\EMDS7-G005-054-0400_aug.png\n",
      "Augmented Image saved to: D:\\KULIAH\\SEMESTER 5\\RSBP\\Bacteri\\Detection-of-bacteria-in-water-using-Yolo-images\\Detect\\Detection-of-bacteria-in-water-using-Yolo-images\\temp\\images/train\\EMDS7-G020-034-0400_aug.png\n",
      "Augmented Image saved to: D:\\KULIAH\\SEMESTER 5\\RSBP\\Bacteri\\Detection-of-bacteria-in-water-using-Yolo-images\\Detect\\Detection-of-bacteria-in-water-using-Yolo-images\\temp\\images/train\\EMDS7-G033-002-0400_aug.png\n",
      "Augmented Image saved to: D:\\KULIAH\\SEMESTER 5\\RSBP\\Bacteri\\Detection-of-bacteria-in-water-using-Yolo-images\\Detect\\Detection-of-bacteria-in-water-using-Yolo-images\\temp\\images/train\\EMDS7-G009-059-0400_aug.png\n",
      "Augmented Image saved to: D:\\KULIAH\\SEMESTER 5\\RSBP\\Bacteri\\Detection-of-bacteria-in-water-using-Yolo-images\\Detect\\Detection-of-bacteria-in-water-using-Yolo-images\\temp\\images/train\\EMDS7-G014-029-0400_aug.png\n",
      "Augmented Image saved to: D:\\KULIAH\\SEMESTER 5\\RSBP\\Bacteri\\Detection-of-bacteria-in-water-using-Yolo-images\\Detect\\Detection-of-bacteria-in-water-using-Yolo-images\\temp\\images/train\\EMDS7-G030-018-0400_aug.png\n",
      "Augmented Image saved to: D:\\KULIAH\\SEMESTER 5\\RSBP\\Bacteri\\Detection-of-bacteria-in-water-using-Yolo-images\\Detect\\Detection-of-bacteria-in-water-using-Yolo-images\\temp\\images/train\\EMDS7-G023-002-0400_aug.png\n",
      "Augmented Image saved to: D:\\KULIAH\\SEMESTER 5\\RSBP\\Bacteri\\Detection-of-bacteria-in-water-using-Yolo-images\\Detect\\Detection-of-bacteria-in-water-using-Yolo-images\\temp\\images/train\\EMDS7-G003-041-0400_aug.png\n",
      "Augmented Image saved to: D:\\KULIAH\\SEMESTER 5\\RSBP\\Bacteri\\Detection-of-bacteria-in-water-using-Yolo-images\\Detect\\Detection-of-bacteria-in-water-using-Yolo-images\\temp\\images/train\\EMDS7-G025-045-0400_aug.png\n",
      "Augmented Image saved to: D:\\KULIAH\\SEMESTER 5\\RSBP\\Bacteri\\Detection-of-bacteria-in-water-using-Yolo-images\\Detect\\Detection-of-bacteria-in-water-using-Yolo-images\\temp\\images/train\\EMDS7-G003-244-0400_aug.png\n",
      "Augmented Image saved to: D:\\KULIAH\\SEMESTER 5\\RSBP\\Bacteri\\Detection-of-bacteria-in-water-using-Yolo-images\\Detect\\Detection-of-bacteria-in-water-using-Yolo-images\\temp\\images/train\\EMDS7-G010-001-0400_aug.png\n",
      "Augmented Image saved to: D:\\KULIAH\\SEMESTER 5\\RSBP\\Bacteri\\Detection-of-bacteria-in-water-using-Yolo-images\\Detect\\Detection-of-bacteria-in-water-using-Yolo-images\\temp\\images/train\\EMDS7-G022-092-0400_aug.png\n",
      "Augmented Image saved to: D:\\KULIAH\\SEMESTER 5\\RSBP\\Bacteri\\Detection-of-bacteria-in-water-using-Yolo-images\\Detect\\Detection-of-bacteria-in-water-using-Yolo-images\\temp\\images/train\\EMDS7-G033-026-0400_aug.png\n",
      "Augmented Image saved to: D:\\KULIAH\\SEMESTER 5\\RSBP\\Bacteri\\Detection-of-bacteria-in-water-using-Yolo-images\\Detect\\Detection-of-bacteria-in-water-using-Yolo-images\\temp\\images/train\\EMDS7-G012-057-0400_aug.png\n",
      "Augmented Image saved to: D:\\KULIAH\\SEMESTER 5\\RSBP\\Bacteri\\Detection-of-bacteria-in-water-using-Yolo-images\\Detect\\Detection-of-bacteria-in-water-using-Yolo-images\\temp\\images/train\\EMDS7-G022-059-0400_aug.png\n",
      "Augmented Image saved to: D:\\KULIAH\\SEMESTER 5\\RSBP\\Bacteri\\Detection-of-bacteria-in-water-using-Yolo-images\\Detect\\Detection-of-bacteria-in-water-using-Yolo-images\\temp\\images/train\\EMDS7-G003-138-0400_aug.png\n",
      "Augmented Image saved to: D:\\KULIAH\\SEMESTER 5\\RSBP\\Bacteri\\Detection-of-bacteria-in-water-using-Yolo-images\\Detect\\Detection-of-bacteria-in-water-using-Yolo-images\\temp\\images/train\\EMDS7-G036-053-0400_aug.png\n",
      "Augmented Image saved to: D:\\KULIAH\\SEMESTER 5\\RSBP\\Bacteri\\Detection-of-bacteria-in-water-using-Yolo-images\\Detect\\Detection-of-bacteria-in-water-using-Yolo-images\\temp\\images/train\\EMDS7-G019-049-0400_aug.png\n",
      "Augmented Image saved to: D:\\KULIAH\\SEMESTER 5\\RSBP\\Bacteri\\Detection-of-bacteria-in-water-using-Yolo-images\\Detect\\Detection-of-bacteria-in-water-using-Yolo-images\\temp\\images/train\\EMDS7-G022-161-0400_aug.png\n",
      "Augmented Image saved to: D:\\KULIAH\\SEMESTER 5\\RSBP\\Bacteri\\Detection-of-bacteria-in-water-using-Yolo-images\\Detect\\Detection-of-bacteria-in-water-using-Yolo-images\\temp\\images/train\\EMDS7-G038-013-0400_aug.png\n",
      "Augmented Image saved to: D:\\KULIAH\\SEMESTER 5\\RSBP\\Bacteri\\Detection-of-bacteria-in-water-using-Yolo-images\\Detect\\Detection-of-bacteria-in-water-using-Yolo-images\\temp\\images/train\\EMDS7-G022-077-0400_aug.png\n",
      "Augmented Image saved to: D:\\KULIAH\\SEMESTER 5\\RSBP\\Bacteri\\Detection-of-bacteria-in-water-using-Yolo-images\\Detect\\Detection-of-bacteria-in-water-using-Yolo-images\\temp\\images/train\\EMDS7-G032-003-0400_aug.png\n",
      "Augmented Image saved to: D:\\KULIAH\\SEMESTER 5\\RSBP\\Bacteri\\Detection-of-bacteria-in-water-using-Yolo-images\\Detect\\Detection-of-bacteria-in-water-using-Yolo-images\\temp\\images/train\\EMDS7-G022-127-0400_aug.png\n",
      "Augmented Image saved to: D:\\KULIAH\\SEMESTER 5\\RSBP\\Bacteri\\Detection-of-bacteria-in-water-using-Yolo-images\\Detect\\Detection-of-bacteria-in-water-using-Yolo-images\\temp\\images/train\\EMDS7-G020-003-0400_aug.png\n",
      "Augmented Image saved to: D:\\KULIAH\\SEMESTER 5\\RSBP\\Bacteri\\Detection-of-bacteria-in-water-using-Yolo-images\\Detect\\Detection-of-bacteria-in-water-using-Yolo-images\\temp\\images/train\\EMDS7-G011-018-0400_aug.png\n",
      "Augmented Image saved to: D:\\KULIAH\\SEMESTER 5\\RSBP\\Bacteri\\Detection-of-bacteria-in-water-using-Yolo-images\\Detect\\Detection-of-bacteria-in-water-using-Yolo-images\\temp\\images/train\\EMDS7-G018-084-0400_aug.png\n",
      "Augmented Image saved to: D:\\KULIAH\\SEMESTER 5\\RSBP\\Bacteri\\Detection-of-bacteria-in-water-using-Yolo-images\\Detect\\Detection-of-bacteria-in-water-using-Yolo-images\\temp\\images/train\\EMDS7-G022-160-0400_aug.png\n",
      "Augmented Image saved to: D:\\KULIAH\\SEMESTER 5\\RSBP\\Bacteri\\Detection-of-bacteria-in-water-using-Yolo-images\\Detect\\Detection-of-bacteria-in-water-using-Yolo-images\\temp\\images/train\\EMDS7-G032-030-0400_aug.png\n",
      "Augmented Image saved to: D:\\KULIAH\\SEMESTER 5\\RSBP\\Bacteri\\Detection-of-bacteria-in-water-using-Yolo-images\\Detect\\Detection-of-bacteria-in-water-using-Yolo-images\\temp\\images/train\\EMDS7-G008-026-0400_aug.png\n",
      "Augmented Image saved to: D:\\KULIAH\\SEMESTER 5\\RSBP\\Bacteri\\Detection-of-bacteria-in-water-using-Yolo-images\\Detect\\Detection-of-bacteria-in-water-using-Yolo-images\\temp\\images/train\\EMDS7-G030-031-0400_aug.png\n",
      "Augmented Image saved to: D:\\KULIAH\\SEMESTER 5\\RSBP\\Bacteri\\Detection-of-bacteria-in-water-using-Yolo-images\\Detect\\Detection-of-bacteria-in-water-using-Yolo-images\\temp\\images/train\\EMDS7-G039-067-0400_aug.png\n",
      "Augmented Image saved to: D:\\KULIAH\\SEMESTER 5\\RSBP\\Bacteri\\Detection-of-bacteria-in-water-using-Yolo-images\\Detect\\Detection-of-bacteria-in-water-using-Yolo-images\\temp\\images/train\\EMDS7-G039-043-0400_aug.png\n",
      "Augmented Image saved to: D:\\KULIAH\\SEMESTER 5\\RSBP\\Bacteri\\Detection-of-bacteria-in-water-using-Yolo-images\\Detect\\Detection-of-bacteria-in-water-using-Yolo-images\\temp\\images/train\\EMDS7-G027-007-0400_aug.png\n",
      "Augmented Image saved to: D:\\KULIAH\\SEMESTER 5\\RSBP\\Bacteri\\Detection-of-bacteria-in-water-using-Yolo-images\\Detect\\Detection-of-bacteria-in-water-using-Yolo-images\\temp\\images/train\\EMDS7-G017-070-0400_aug.png\n",
      "Augmented Image saved to: D:\\KULIAH\\SEMESTER 5\\RSBP\\Bacteri\\Detection-of-bacteria-in-water-using-Yolo-images\\Detect\\Detection-of-bacteria-in-water-using-Yolo-images\\temp\\images/train\\EMDS7-G010-013-0400_aug.png\n",
      "Augmented Image saved to: D:\\KULIAH\\SEMESTER 5\\RSBP\\Bacteri\\Detection-of-bacteria-in-water-using-Yolo-images\\Detect\\Detection-of-bacteria-in-water-using-Yolo-images\\temp\\images/train\\EMDS7-G028-057-0400_aug.png\n",
      "Augmented Image saved to: D:\\KULIAH\\SEMESTER 5\\RSBP\\Bacteri\\Detection-of-bacteria-in-water-using-Yolo-images\\Detect\\Detection-of-bacteria-in-water-using-Yolo-images\\temp\\images/train\\EMDS7-G004-032-0400_aug.png\n",
      "Augmented Image saved to: D:\\KULIAH\\SEMESTER 5\\RSBP\\Bacteri\\Detection-of-bacteria-in-water-using-Yolo-images\\Detect\\Detection-of-bacteria-in-water-using-Yolo-images\\temp\\images/train\\EMDS7-G003-137-0400_aug.png\n",
      "Augmented Image saved to: D:\\KULIAH\\SEMESTER 5\\RSBP\\Bacteri\\Detection-of-bacteria-in-water-using-Yolo-images\\Detect\\Detection-of-bacteria-in-water-using-Yolo-images\\temp\\images/train\\EMDS7-G017-067-0400_aug.png\n",
      "Augmented Image saved to: D:\\KULIAH\\SEMESTER 5\\RSBP\\Bacteri\\Detection-of-bacteria-in-water-using-Yolo-images\\Detect\\Detection-of-bacteria-in-water-using-Yolo-images\\temp\\images/train\\EMDS7-G028-031-0400_aug.png\n",
      "Augmented Image saved to: D:\\KULIAH\\SEMESTER 5\\RSBP\\Bacteri\\Detection-of-bacteria-in-water-using-Yolo-images\\Detect\\Detection-of-bacteria-in-water-using-Yolo-images\\temp\\images/train\\EMDS7-G024-016-0400_aug.png\n",
      "Augmented Image saved to: D:\\KULIAH\\SEMESTER 5\\RSBP\\Bacteri\\Detection-of-bacteria-in-water-using-Yolo-images\\Detect\\Detection-of-bacteria-in-water-using-Yolo-images\\temp\\images/train\\EMDS7-G018-066-0400_aug.png\n",
      "Augmented Image saved to: D:\\KULIAH\\SEMESTER 5\\RSBP\\Bacteri\\Detection-of-bacteria-in-water-using-Yolo-images\\Detect\\Detection-of-bacteria-in-water-using-Yolo-images\\temp\\images/train\\EMDS7-G019-003-0400_aug.png\n",
      "Augmented Image saved to: D:\\KULIAH\\SEMESTER 5\\RSBP\\Bacteri\\Detection-of-bacteria-in-water-using-Yolo-images\\Detect\\Detection-of-bacteria-in-water-using-Yolo-images\\temp\\images/train\\EMDS7-G018-005-0400_aug.png\n",
      "Augmented Image saved to: D:\\KULIAH\\SEMESTER 5\\RSBP\\Bacteri\\Detection-of-bacteria-in-water-using-Yolo-images\\Detect\\Detection-of-bacteria-in-water-using-Yolo-images\\temp\\images/train\\EMDS7-G017-010-0400_aug.png\n",
      "Augmented Image saved to: D:\\KULIAH\\SEMESTER 5\\RSBP\\Bacteri\\Detection-of-bacteria-in-water-using-Yolo-images\\Detect\\Detection-of-bacteria-in-water-using-Yolo-images\\temp\\images/train\\EMDS7-G032-043-0400_aug.png\n",
      "Augmented Image saved to: D:\\KULIAH\\SEMESTER 5\\RSBP\\Bacteri\\Detection-of-bacteria-in-water-using-Yolo-images\\Detect\\Detection-of-bacteria-in-water-using-Yolo-images\\temp\\images/train\\EMDS7-G038-029-0400_aug.png\n",
      "Augmented Image saved to: D:\\KULIAH\\SEMESTER 5\\RSBP\\Bacteri\\Detection-of-bacteria-in-water-using-Yolo-images\\Detect\\Detection-of-bacteria-in-water-using-Yolo-images\\temp\\images/train\\EMDS7-G030-046-0400_aug.png\n",
      "Augmented Image saved to: D:\\KULIAH\\SEMESTER 5\\RSBP\\Bacteri\\Detection-of-bacteria-in-water-using-Yolo-images\\Detect\\Detection-of-bacteria-in-water-using-Yolo-images\\temp\\images/train\\EMDS7-G022-177-0400_aug.png\n",
      "Augmented Image saved to: D:\\KULIAH\\SEMESTER 5\\RSBP\\Bacteri\\Detection-of-bacteria-in-water-using-Yolo-images\\Detect\\Detection-of-bacteria-in-water-using-Yolo-images\\temp\\images/train\\EMDS7-G003-030-0400_aug.png\n",
      "Augmented Image saved to: D:\\KULIAH\\SEMESTER 5\\RSBP\\Bacteri\\Detection-of-bacteria-in-water-using-Yolo-images\\Detect\\Detection-of-bacteria-in-water-using-Yolo-images\\temp\\images/train\\EMDS7-G004-017-0400_aug.png\n",
      "Augmented Image saved to: D:\\KULIAH\\SEMESTER 5\\RSBP\\Bacteri\\Detection-of-bacteria-in-water-using-Yolo-images\\Detect\\Detection-of-bacteria-in-water-using-Yolo-images\\temp\\images/train\\EMDS7-G024-010-0400_aug.png\n",
      "Augmented Image saved to: D:\\KULIAH\\SEMESTER 5\\RSBP\\Bacteri\\Detection-of-bacteria-in-water-using-Yolo-images\\Detect\\Detection-of-bacteria-in-water-using-Yolo-images\\temp\\images/train\\EMDS7-G003-250-0400_aug.png\n",
      "Augmented Image saved to: D:\\KULIAH\\SEMESTER 5\\RSBP\\Bacteri\\Detection-of-bacteria-in-water-using-Yolo-images\\Detect\\Detection-of-bacteria-in-water-using-Yolo-images\\temp\\images/train\\EMDS7-G016-011-0400_aug.png\n",
      "Augmented Image saved to: D:\\KULIAH\\SEMESTER 5\\RSBP\\Bacteri\\Detection-of-bacteria-in-water-using-Yolo-images\\Detect\\Detection-of-bacteria-in-water-using-Yolo-images\\temp\\images/train\\EMDS7-G009-047-0400_aug.png\n",
      "Augmented Image saved to: D:\\KULIAH\\SEMESTER 5\\RSBP\\Bacteri\\Detection-of-bacteria-in-water-using-Yolo-images\\Detect\\Detection-of-bacteria-in-water-using-Yolo-images\\temp\\images/train\\EMDS7-G030-012-0400_aug.png\n",
      "Augmented Image saved to: D:\\KULIAH\\SEMESTER 5\\RSBP\\Bacteri\\Detection-of-bacteria-in-water-using-Yolo-images\\Detect\\Detection-of-bacteria-in-water-using-Yolo-images\\temp\\images/train\\EMDS7-G008-020-0400_aug.png\n",
      "Augmented Image saved to: D:\\KULIAH\\SEMESTER 5\\RSBP\\Bacteri\\Detection-of-bacteria-in-water-using-Yolo-images\\Detect\\Detection-of-bacteria-in-water-using-Yolo-images\\temp\\images/train\\EMDS7-G012-025-0400_aug.png\n",
      "Augmented Image saved to: D:\\KULIAH\\SEMESTER 5\\RSBP\\Bacteri\\Detection-of-bacteria-in-water-using-Yolo-images\\Detect\\Detection-of-bacteria-in-water-using-Yolo-images\\temp\\images/train\\EMDS7-G014-068-0400_aug.png\n",
      "Augmented Image saved to: D:\\KULIAH\\SEMESTER 5\\RSBP\\Bacteri\\Detection-of-bacteria-in-water-using-Yolo-images\\Detect\\Detection-of-bacteria-in-water-using-Yolo-images\\temp\\images/train\\EMDS7-G011-043-0400_aug.png\n",
      "Augmented Image saved to: D:\\KULIAH\\SEMESTER 5\\RSBP\\Bacteri\\Detection-of-bacteria-in-water-using-Yolo-images\\Detect\\Detection-of-bacteria-in-water-using-Yolo-images\\temp\\images/train\\EMDS7-G038-039-0400_aug.png\n",
      "Augmented Image saved to: D:\\KULIAH\\SEMESTER 5\\RSBP\\Bacteri\\Detection-of-bacteria-in-water-using-Yolo-images\\Detect\\Detection-of-bacteria-in-water-using-Yolo-images\\temp\\images/train\\EMDS7-G019-024-0400_aug.png\n",
      "Augmented Image saved to: D:\\KULIAH\\SEMESTER 5\\RSBP\\Bacteri\\Detection-of-bacteria-in-water-using-Yolo-images\\Detect\\Detection-of-bacteria-in-water-using-Yolo-images\\temp\\images/train\\EMDS7-G003-209-0400_aug.png\n",
      "Augmented Image saved to: D:\\KULIAH\\SEMESTER 5\\RSBP\\Bacteri\\Detection-of-bacteria-in-water-using-Yolo-images\\Detect\\Detection-of-bacteria-in-water-using-Yolo-images\\temp\\images/train\\EMDS7-G009-037-0400_aug.png\n",
      "Augmented Image saved to: D:\\KULIAH\\SEMESTER 5\\RSBP\\Bacteri\\Detection-of-bacteria-in-water-using-Yolo-images\\Detect\\Detection-of-bacteria-in-water-using-Yolo-images\\temp\\images/train\\EMDS7-G028-004-0400_aug.png\n",
      "Augmented Image saved to: D:\\KULIAH\\SEMESTER 5\\RSBP\\Bacteri\\Detection-of-bacteria-in-water-using-Yolo-images\\Detect\\Detection-of-bacteria-in-water-using-Yolo-images\\temp\\images/train\\EMDS7-G029-017-0400_aug.png\n",
      "Augmented Image saved to: D:\\KULIAH\\SEMESTER 5\\RSBP\\Bacteri\\Detection-of-bacteria-in-water-using-Yolo-images\\Detect\\Detection-of-bacteria-in-water-using-Yolo-images\\temp\\images/train\\EMDS7-G017-040-0400_aug.png\n",
      "Augmented Image saved to: D:\\KULIAH\\SEMESTER 5\\RSBP\\Bacteri\\Detection-of-bacteria-in-water-using-Yolo-images\\Detect\\Detection-of-bacteria-in-water-using-Yolo-images\\temp\\images/train\\EMDS7-G011-030-0400_aug.png\n",
      "Augmented Image saved to: D:\\KULIAH\\SEMESTER 5\\RSBP\\Bacteri\\Detection-of-bacteria-in-water-using-Yolo-images\\Detect\\Detection-of-bacteria-in-water-using-Yolo-images\\temp\\images/train\\EMDS7-G032-085-0400_aug.png\n",
      "Augmented Image saved to: D:\\KULIAH\\SEMESTER 5\\RSBP\\Bacteri\\Detection-of-bacteria-in-water-using-Yolo-images\\Detect\\Detection-of-bacteria-in-water-using-Yolo-images\\temp\\images/train\\EMDS7-G030-003-0400_aug.png\n",
      "Augmented Image saved to: D:\\KULIAH\\SEMESTER 5\\RSBP\\Bacteri\\Detection-of-bacteria-in-water-using-Yolo-images\\Detect\\Detection-of-bacteria-in-water-using-Yolo-images\\temp\\images/train\\EMDS7-G018-048-0400_aug.png\n",
      "Augmented Image saved to: D:\\KULIAH\\SEMESTER 5\\RSBP\\Bacteri\\Detection-of-bacteria-in-water-using-Yolo-images\\Detect\\Detection-of-bacteria-in-water-using-Yolo-images\\temp\\images/train\\EMDS7-G009-007-0400_aug.png\n",
      "Augmented Image saved to: D:\\KULIAH\\SEMESTER 5\\RSBP\\Bacteri\\Detection-of-bacteria-in-water-using-Yolo-images\\Detect\\Detection-of-bacteria-in-water-using-Yolo-images\\temp\\images/train\\EMDS7-G003-097-0400_aug.png\n",
      "Augmented Image saved to: D:\\KULIAH\\SEMESTER 5\\RSBP\\Bacteri\\Detection-of-bacteria-in-water-using-Yolo-images\\Detect\\Detection-of-bacteria-in-water-using-Yolo-images\\temp\\images/train\\EMDS7-G036-080-0400_aug.png\n",
      "Augmented Image saved to: D:\\KULIAH\\SEMESTER 5\\RSBP\\Bacteri\\Detection-of-bacteria-in-water-using-Yolo-images\\Detect\\Detection-of-bacteria-in-water-using-Yolo-images\\temp\\images/train\\EMDS7-G022-001-0400_aug.png\n",
      "Augmented Image saved to: D:\\KULIAH\\SEMESTER 5\\RSBP\\Bacteri\\Detection-of-bacteria-in-water-using-Yolo-images\\Detect\\Detection-of-bacteria-in-water-using-Yolo-images\\temp\\images/train\\EMDS7-G022-227-0400_aug.png\n",
      "Augmented Image saved to: D:\\KULIAH\\SEMESTER 5\\RSBP\\Bacteri\\Detection-of-bacteria-in-water-using-Yolo-images\\Detect\\Detection-of-bacteria-in-water-using-Yolo-images\\temp\\images/train\\EMDS7-G012-050-0400_aug.png\n",
      "Augmented Image saved to: D:\\KULIAH\\SEMESTER 5\\RSBP\\Bacteri\\Detection-of-bacteria-in-water-using-Yolo-images\\Detect\\Detection-of-bacteria-in-water-using-Yolo-images\\temp\\images/train\\EMDS7-G023-049-0400_aug.png\n",
      "Augmented Image saved to: D:\\KULIAH\\SEMESTER 5\\RSBP\\Bacteri\\Detection-of-bacteria-in-water-using-Yolo-images\\Detect\\Detection-of-bacteria-in-water-using-Yolo-images\\temp\\images/train\\EMDS7-G003-246-0400_aug.png\n",
      "Augmented Image saved to: D:\\KULIAH\\SEMESTER 5\\RSBP\\Bacteri\\Detection-of-bacteria-in-water-using-Yolo-images\\Detect\\Detection-of-bacteria-in-water-using-Yolo-images\\temp\\images/train\\EMDS7-G019-019-0400_aug.png\n",
      "Augmented Image saved to: D:\\KULIAH\\SEMESTER 5\\RSBP\\Bacteri\\Detection-of-bacteria-in-water-using-Yolo-images\\Detect\\Detection-of-bacteria-in-water-using-Yolo-images\\temp\\images/train\\EMDS7-G028-044-0400_aug.png\n",
      "Augmented Image saved to: D:\\KULIAH\\SEMESTER 5\\RSBP\\Bacteri\\Detection-of-bacteria-in-water-using-Yolo-images\\Detect\\Detection-of-bacteria-in-water-using-Yolo-images\\temp\\images/train\\EMDS7-G001-016-0400_aug.png\n",
      "Augmented Image saved to: D:\\KULIAH\\SEMESTER 5\\RSBP\\Bacteri\\Detection-of-bacteria-in-water-using-Yolo-images\\Detect\\Detection-of-bacteria-in-water-using-Yolo-images\\temp\\images/train\\EMDS7-G025-013-0400_aug.png\n",
      "Augmented Image saved to: D:\\KULIAH\\SEMESTER 5\\RSBP\\Bacteri\\Detection-of-bacteria-in-water-using-Yolo-images\\Detect\\Detection-of-bacteria-in-water-using-Yolo-images\\temp\\images/train\\EMDS7-G014-047-0400_aug.png\n",
      "Augmented Image saved to: D:\\KULIAH\\SEMESTER 5\\RSBP\\Bacteri\\Detection-of-bacteria-in-water-using-Yolo-images\\Detect\\Detection-of-bacteria-in-water-using-Yolo-images\\temp\\images/train\\EMDS7-G035-027-0400_aug.png\n",
      "Augmented Image saved to: D:\\KULIAH\\SEMESTER 5\\RSBP\\Bacteri\\Detection-of-bacteria-in-water-using-Yolo-images\\Detect\\Detection-of-bacteria-in-water-using-Yolo-images\\temp\\images/train\\EMDS7-G002-002-0400_aug.png\n",
      "Augmented Image saved to: D:\\KULIAH\\SEMESTER 5\\RSBP\\Bacteri\\Detection-of-bacteria-in-water-using-Yolo-images\\Detect\\Detection-of-bacteria-in-water-using-Yolo-images\\temp\\images/train\\EMDS7-G025-056-0400_aug.png\n",
      "Augmented Image saved to: D:\\KULIAH\\SEMESTER 5\\RSBP\\Bacteri\\Detection-of-bacteria-in-water-using-Yolo-images\\Detect\\Detection-of-bacteria-in-water-using-Yolo-images\\temp\\images/train\\EMDS7-G034-009-0400_aug.png\n",
      "Augmented Image saved to: D:\\KULIAH\\SEMESTER 5\\RSBP\\Bacteri\\Detection-of-bacteria-in-water-using-Yolo-images\\Detect\\Detection-of-bacteria-in-water-using-Yolo-images\\temp\\images/train\\EMDS7-G033-020-0400_aug.png\n",
      "Augmented Image saved to: D:\\KULIAH\\SEMESTER 5\\RSBP\\Bacteri\\Detection-of-bacteria-in-water-using-Yolo-images\\Detect\\Detection-of-bacteria-in-water-using-Yolo-images\\temp\\images/train\\EMDS7-G023-027-0400_aug.png\n",
      "Augmented Image saved to: D:\\KULIAH\\SEMESTER 5\\RSBP\\Bacteri\\Detection-of-bacteria-in-water-using-Yolo-images\\Detect\\Detection-of-bacteria-in-water-using-Yolo-images\\temp\\images/train\\EMDS7-G020-030-0400_aug.png\n",
      "Augmented Image saved to: D:\\KULIAH\\SEMESTER 5\\RSBP\\Bacteri\\Detection-of-bacteria-in-water-using-Yolo-images\\Detect\\Detection-of-bacteria-in-water-using-Yolo-images\\temp\\images/train\\EMDS7-G024-021-0400_aug.png\n",
      "Augmented Image saved to: D:\\KULIAH\\SEMESTER 5\\RSBP\\Bacteri\\Detection-of-bacteria-in-water-using-Yolo-images\\Detect\\Detection-of-bacteria-in-water-using-Yolo-images\\temp\\images/train\\EMDS7-G017-064-0400_aug.png\n",
      "Augmented Image saved to: D:\\KULIAH\\SEMESTER 5\\RSBP\\Bacteri\\Detection-of-bacteria-in-water-using-Yolo-images\\Detect\\Detection-of-bacteria-in-water-using-Yolo-images\\temp\\images/train\\EMDS7-G001-002-0400_aug.png\n",
      "Augmented Image saved to: D:\\KULIAH\\SEMESTER 5\\RSBP\\Bacteri\\Detection-of-bacteria-in-water-using-Yolo-images\\Detect\\Detection-of-bacteria-in-water-using-Yolo-images\\temp\\images/train\\EMDS7-G003-092-0400_aug.png\n",
      "Augmented Image saved to: D:\\KULIAH\\SEMESTER 5\\RSBP\\Bacteri\\Detection-of-bacteria-in-water-using-Yolo-images\\Detect\\Detection-of-bacteria-in-water-using-Yolo-images\\temp\\images/train\\EMDS7-G022-100-0400_aug.png\n",
      "Augmented Image saved to: D:\\KULIAH\\SEMESTER 5\\RSBP\\Bacteri\\Detection-of-bacteria-in-water-using-Yolo-images\\Detect\\Detection-of-bacteria-in-water-using-Yolo-images\\temp\\images/train\\EMDS7-G012-048-0400_aug.png\n",
      "Augmented Image saved to: D:\\KULIAH\\SEMESTER 5\\RSBP\\Bacteri\\Detection-of-bacteria-in-water-using-Yolo-images\\Detect\\Detection-of-bacteria-in-water-using-Yolo-images\\temp\\images/train\\EMDS7-G003-243-0400_aug.png\n",
      "Augmented Image saved to: D:\\KULIAH\\SEMESTER 5\\RSBP\\Bacteri\\Detection-of-bacteria-in-water-using-Yolo-images\\Detect\\Detection-of-bacteria-in-water-using-Yolo-images\\temp\\images/train\\EMDS7-G028-065-0400_aug.png\n",
      "Augmented Image saved to: D:\\KULIAH\\SEMESTER 5\\RSBP\\Bacteri\\Detection-of-bacteria-in-water-using-Yolo-images\\Detect\\Detection-of-bacteria-in-water-using-Yolo-images\\temp\\images/train\\EMDS7-G003-036-0400_aug.png\n",
      "Augmented Image saved to: D:\\KULIAH\\SEMESTER 5\\RSBP\\Bacteri\\Detection-of-bacteria-in-water-using-Yolo-images\\Detect\\Detection-of-bacteria-in-water-using-Yolo-images\\temp\\images/train\\EMDS7-G022-029-0400_aug.png\n",
      "Augmented Image saved to: D:\\KULIAH\\SEMESTER 5\\RSBP\\Bacteri\\Detection-of-bacteria-in-water-using-Yolo-images\\Detect\\Detection-of-bacteria-in-water-using-Yolo-images\\temp\\images/train\\EMDS7-G002-004-0400_aug.png\n",
      "Augmented Image saved to: D:\\KULIAH\\SEMESTER 5\\RSBP\\Bacteri\\Detection-of-bacteria-in-water-using-Yolo-images\\Detect\\Detection-of-bacteria-in-water-using-Yolo-images\\temp\\images/train\\EMDS7-G023-034-0400_aug.png\n",
      "Augmented Image saved to: D:\\KULIAH\\SEMESTER 5\\RSBP\\Bacteri\\Detection-of-bacteria-in-water-using-Yolo-images\\Detect\\Detection-of-bacteria-in-water-using-Yolo-images\\temp\\images/train\\EMDS7-G028-048-0400_aug.png\n",
      "Augmented Image saved to: D:\\KULIAH\\SEMESTER 5\\RSBP\\Bacteri\\Detection-of-bacteria-in-water-using-Yolo-images\\Detect\\Detection-of-bacteria-in-water-using-Yolo-images\\temp\\images/train\\EMDS7-G008-001-0400_aug.png\n",
      "Augmented Image saved to: D:\\KULIAH\\SEMESTER 5\\RSBP\\Bacteri\\Detection-of-bacteria-in-water-using-Yolo-images\\Detect\\Detection-of-bacteria-in-water-using-Yolo-images\\temp\\images/train\\EMDS7-G009-041-0400_aug.png\n",
      "Augmented Image saved to: D:\\KULIAH\\SEMESTER 5\\RSBP\\Bacteri\\Detection-of-bacteria-in-water-using-Yolo-images\\Detect\\Detection-of-bacteria-in-water-using-Yolo-images\\temp\\images/train\\EMDS7-G022-079-0400_aug.png\n",
      "Augmented Image saved to: D:\\KULIAH\\SEMESTER 5\\RSBP\\Bacteri\\Detection-of-bacteria-in-water-using-Yolo-images\\Detect\\Detection-of-bacteria-in-water-using-Yolo-images\\temp\\images/train\\EMDS7-G003-118-0400_aug.png\n",
      "Augmented Image saved to: D:\\KULIAH\\SEMESTER 5\\RSBP\\Bacteri\\Detection-of-bacteria-in-water-using-Yolo-images\\Detect\\Detection-of-bacteria-in-water-using-Yolo-images\\temp\\images/train\\EMDS7-G032-067-0400_aug.png\n",
      "Augmented Image saved to: D:\\KULIAH\\SEMESTER 5\\RSBP\\Bacteri\\Detection-of-bacteria-in-water-using-Yolo-images\\Detect\\Detection-of-bacteria-in-water-using-Yolo-images\\temp\\images/train\\EMDS7-G009-076-0400_aug.png\n",
      "Augmented Image saved to: D:\\KULIAH\\SEMESTER 5\\RSBP\\Bacteri\\Detection-of-bacteria-in-water-using-Yolo-images\\Detect\\Detection-of-bacteria-in-water-using-Yolo-images\\temp\\images/train\\EMDS7-G001-008-0400_aug.png\n",
      "Augmented Image saved to: D:\\KULIAH\\SEMESTER 5\\RSBP\\Bacteri\\Detection-of-bacteria-in-water-using-Yolo-images\\Detect\\Detection-of-bacteria-in-water-using-Yolo-images\\temp\\images/train\\EMDS7-G036-018-0400_aug.png\n",
      "Augmented Image saved to: D:\\KULIAH\\SEMESTER 5\\RSBP\\Bacteri\\Detection-of-bacteria-in-water-using-Yolo-images\\Detect\\Detection-of-bacteria-in-water-using-Yolo-images\\temp\\images/train\\EMDS7-G003-256-0400_aug.png\n",
      "Augmented Image saved to: D:\\KULIAH\\SEMESTER 5\\RSBP\\Bacteri\\Detection-of-bacteria-in-water-using-Yolo-images\\Detect\\Detection-of-bacteria-in-water-using-Yolo-images\\temp\\images/train\\EMDS7-G012-008-0400_aug.png\n",
      "Augmented Image saved to: D:\\KULIAH\\SEMESTER 5\\RSBP\\Bacteri\\Detection-of-bacteria-in-water-using-Yolo-images\\Detect\\Detection-of-bacteria-in-water-using-Yolo-images\\temp\\images/train\\EMDS7-G022-219-0400_aug.png\n",
      "Augmented Image saved to: D:\\KULIAH\\SEMESTER 5\\RSBP\\Bacteri\\Detection-of-bacteria-in-water-using-Yolo-images\\Detect\\Detection-of-bacteria-in-water-using-Yolo-images\\temp\\images/train\\EMDS7-G023-053-0400_aug.png\n",
      "Augmented Image saved to: D:\\KULIAH\\SEMESTER 5\\RSBP\\Bacteri\\Detection-of-bacteria-in-water-using-Yolo-images\\Detect\\Detection-of-bacteria-in-water-using-Yolo-images\\temp\\images/train\\EMDS7-G003-204-0400_aug.png\n",
      "Augmented Image saved to: D:\\KULIAH\\SEMESTER 5\\RSBP\\Bacteri\\Detection-of-bacteria-in-water-using-Yolo-images\\Detect\\Detection-of-bacteria-in-water-using-Yolo-images\\temp\\images/train\\EMDS7-G008-017-0400_aug.png\n",
      "Augmented Image saved to: D:\\KULIAH\\SEMESTER 5\\RSBP\\Bacteri\\Detection-of-bacteria-in-water-using-Yolo-images\\Detect\\Detection-of-bacteria-in-water-using-Yolo-images\\temp\\images/train\\EMDS7-G024-005-0400_aug.png\n",
      "Augmented Image saved to: D:\\KULIAH\\SEMESTER 5\\RSBP\\Bacteri\\Detection-of-bacteria-in-water-using-Yolo-images\\Detect\\Detection-of-bacteria-in-water-using-Yolo-images\\temp\\images/train\\EMDS7-G039-060-0400_aug.png\n",
      "Augmented Image saved to: D:\\KULIAH\\SEMESTER 5\\RSBP\\Bacteri\\Detection-of-bacteria-in-water-using-Yolo-images\\Detect\\Detection-of-bacteria-in-water-using-Yolo-images\\temp\\images/train\\EMDS7-G019-014-0400_aug.png\n",
      "Augmented Image saved to: D:\\KULIAH\\SEMESTER 5\\RSBP\\Bacteri\\Detection-of-bacteria-in-water-using-Yolo-images\\Detect\\Detection-of-bacteria-in-water-using-Yolo-images\\temp\\images/train\\EMDS7-G040-004-0400_aug.png\n",
      "Augmented Image saved to: D:\\KULIAH\\SEMESTER 5\\RSBP\\Bacteri\\Detection-of-bacteria-in-water-using-Yolo-images\\Detect\\Detection-of-bacteria-in-water-using-Yolo-images\\temp\\images/train\\EMDS7-G022-094-0400_aug.png\n",
      "Augmented Image saved to: D:\\KULIAH\\SEMESTER 5\\RSBP\\Bacteri\\Detection-of-bacteria-in-water-using-Yolo-images\\Detect\\Detection-of-bacteria-in-water-using-Yolo-images\\temp\\images/train\\EMDS7-G009-001-0400_aug.png\n",
      "Augmented Image saved to: D:\\KULIAH\\SEMESTER 5\\RSBP\\Bacteri\\Detection-of-bacteria-in-water-using-Yolo-images\\Detect\\Detection-of-bacteria-in-water-using-Yolo-images\\temp\\images/train\\EMDS7-G010-017-0400_aug.png\n",
      "Augmented Image saved to: D:\\KULIAH\\SEMESTER 5\\RSBP\\Bacteri\\Detection-of-bacteria-in-water-using-Yolo-images\\Detect\\Detection-of-bacteria-in-water-using-Yolo-images\\temp\\images/train\\EMDS7-G019-037-0400_aug.png\n",
      "Augmented Image saved to: D:\\KULIAH\\SEMESTER 5\\RSBP\\Bacteri\\Detection-of-bacteria-in-water-using-Yolo-images\\Detect\\Detection-of-bacteria-in-water-using-Yolo-images\\temp\\images/train\\EMDS7-G022-140-0400_aug.png\n",
      "Augmented Image saved to: D:\\KULIAH\\SEMESTER 5\\RSBP\\Bacteri\\Detection-of-bacteria-in-water-using-Yolo-images\\Detect\\Detection-of-bacteria-in-water-using-Yolo-images\\temp\\images/train\\EMDS7-G029-022-0400_aug.png\n",
      "Augmented Image saved to: D:\\KULIAH\\SEMESTER 5\\RSBP\\Bacteri\\Detection-of-bacteria-in-water-using-Yolo-images\\Detect\\Detection-of-bacteria-in-water-using-Yolo-images\\temp\\images/train\\EMDS7-G011-049-0400_aug.png\n",
      "Augmented Image saved to: D:\\KULIAH\\SEMESTER 5\\RSBP\\Bacteri\\Detection-of-bacteria-in-water-using-Yolo-images\\Detect\\Detection-of-bacteria-in-water-using-Yolo-images\\temp\\images/train\\EMDS7-G004-082-0400_aug.png\n",
      "Augmented Image saved to: D:\\KULIAH\\SEMESTER 5\\RSBP\\Bacteri\\Detection-of-bacteria-in-water-using-Yolo-images\\Detect\\Detection-of-bacteria-in-water-using-Yolo-images\\temp\\images/train\\EMDS7-G035-053-0400_aug.png\n",
      "Augmented Image saved to: D:\\KULIAH\\SEMESTER 5\\RSBP\\Bacteri\\Detection-of-bacteria-in-water-using-Yolo-images\\Detect\\Detection-of-bacteria-in-water-using-Yolo-images\\temp\\images/train\\EMDS7-G023-037-0400_aug.png\n",
      "Augmented Image saved to: D:\\KULIAH\\SEMESTER 5\\RSBP\\Bacteri\\Detection-of-bacteria-in-water-using-Yolo-images\\Detect\\Detection-of-bacteria-in-water-using-Yolo-images\\temp\\images/train\\EMDS7-G018-050-0400_aug.png\n",
      "Augmented Image saved to: D:\\KULIAH\\SEMESTER 5\\RSBP\\Bacteri\\Detection-of-bacteria-in-water-using-Yolo-images\\Detect\\Detection-of-bacteria-in-water-using-Yolo-images\\temp\\images/train\\EMDS7-G039-035-0400_aug.png\n",
      "Augmented Image saved to: D:\\KULIAH\\SEMESTER 5\\RSBP\\Bacteri\\Detection-of-bacteria-in-water-using-Yolo-images\\Detect\\Detection-of-bacteria-in-water-using-Yolo-images\\temp\\images/train\\EMDS7-G023-026-0400_aug.png\n",
      "Augmented Image saved to: D:\\KULIAH\\SEMESTER 5\\RSBP\\Bacteri\\Detection-of-bacteria-in-water-using-Yolo-images\\Detect\\Detection-of-bacteria-in-water-using-Yolo-images\\temp\\images/train\\EMDS7-G011-012-0400_aug.png\n",
      "Augmented Image saved to: D:\\KULIAH\\SEMESTER 5\\RSBP\\Bacteri\\Detection-of-bacteria-in-water-using-Yolo-images\\Detect\\Detection-of-bacteria-in-water-using-Yolo-images\\temp\\images/train\\EMDS7-G011-024-0400_aug.png\n",
      "Augmented Image saved to: D:\\KULIAH\\SEMESTER 5\\RSBP\\Bacteri\\Detection-of-bacteria-in-water-using-Yolo-images\\Detect\\Detection-of-bacteria-in-water-using-Yolo-images\\temp\\images/train\\EMDS7-G007-010-0400_aug.png\n",
      "Augmented Image saved to: D:\\KULIAH\\SEMESTER 5\\RSBP\\Bacteri\\Detection-of-bacteria-in-water-using-Yolo-images\\Detect\\Detection-of-bacteria-in-water-using-Yolo-images\\temp\\images/train\\EMDS7-G003-119-0400_aug.png\n",
      "Augmented Image saved to: D:\\KULIAH\\SEMESTER 5\\RSBP\\Bacteri\\Detection-of-bacteria-in-water-using-Yolo-images\\Detect\\Detection-of-bacteria-in-water-using-Yolo-images\\temp\\images/train\\EMDS7-G022-107-0400_aug.png\n",
      "Augmented Image saved to: D:\\KULIAH\\SEMESTER 5\\RSBP\\Bacteri\\Detection-of-bacteria-in-water-using-Yolo-images\\Detect\\Detection-of-bacteria-in-water-using-Yolo-images\\temp\\images/train\\EMDS7-G034-007-0400_aug.png\n",
      "Augmented Image saved to: D:\\KULIAH\\SEMESTER 5\\RSBP\\Bacteri\\Detection-of-bacteria-in-water-using-Yolo-images\\Detect\\Detection-of-bacteria-in-water-using-Yolo-images\\temp\\images/train\\EMDS7-G032-052-0400_aug.png\n",
      "Augmented Image saved to: D:\\KULIAH\\SEMESTER 5\\RSBP\\Bacteri\\Detection-of-bacteria-in-water-using-Yolo-images\\Detect\\Detection-of-bacteria-in-water-using-Yolo-images\\temp\\images/train\\EMDS7-G023-010-0400_aug.png\n",
      "Augmented Image saved to: D:\\KULIAH\\SEMESTER 5\\RSBP\\Bacteri\\Detection-of-bacteria-in-water-using-Yolo-images\\Detect\\Detection-of-bacteria-in-water-using-Yolo-images\\temp\\images/train\\EMDS7-G025-009-0400_aug.png\n",
      "Augmented Image saved to: D:\\KULIAH\\SEMESTER 5\\RSBP\\Bacteri\\Detection-of-bacteria-in-water-using-Yolo-images\\Detect\\Detection-of-bacteria-in-water-using-Yolo-images\\temp\\images/train\\EMDS7-G014-041-0400_aug.png\n",
      "Augmented Image saved to: D:\\KULIAH\\SEMESTER 5\\RSBP\\Bacteri\\Detection-of-bacteria-in-water-using-Yolo-images\\Detect\\Detection-of-bacteria-in-water-using-Yolo-images\\temp\\images/train\\EMDS7-G022-191-0400_aug.png\n",
      "Augmented Image saved to: D:\\KULIAH\\SEMESTER 5\\RSBP\\Bacteri\\Detection-of-bacteria-in-water-using-Yolo-images\\Detect\\Detection-of-bacteria-in-water-using-Yolo-images\\temp\\images/train\\EMDS7-G036-037-0400_aug.png\n",
      "Augmented Image saved to: D:\\KULIAH\\SEMESTER 5\\RSBP\\Bacteri\\Detection-of-bacteria-in-water-using-Yolo-images\\Detect\\Detection-of-bacteria-in-water-using-Yolo-images\\temp\\images/train\\EMDS7-G014-027-0400_aug.png\n",
      "Augmented Image saved to: D:\\KULIAH\\SEMESTER 5\\RSBP\\Bacteri\\Detection-of-bacteria-in-water-using-Yolo-images\\Detect\\Detection-of-bacteria-in-water-using-Yolo-images\\temp\\images/train\\EMDS7-G035-035-0400_aug.png\n",
      "Augmented Image saved to: D:\\KULIAH\\SEMESTER 5\\RSBP\\Bacteri\\Detection-of-bacteria-in-water-using-Yolo-images\\Detect\\Detection-of-bacteria-in-water-using-Yolo-images\\temp\\images/train\\EMDS7-G028-020-0400_aug.png\n",
      "Augmented Image saved to: D:\\KULIAH\\SEMESTER 5\\RSBP\\Bacteri\\Detection-of-bacteria-in-water-using-Yolo-images\\Detect\\Detection-of-bacteria-in-water-using-Yolo-images\\temp\\images/train\\EMDS7-G022-194-0400_aug.png\n",
      "Augmented Image saved to: D:\\KULIAH\\SEMESTER 5\\RSBP\\Bacteri\\Detection-of-bacteria-in-water-using-Yolo-images\\Detect\\Detection-of-bacteria-in-water-using-Yolo-images\\temp\\images/train\\EMDS7-G014-048-0400_aug.png\n",
      "Augmented Image saved to: D:\\KULIAH\\SEMESTER 5\\RSBP\\Bacteri\\Detection-of-bacteria-in-water-using-Yolo-images\\Detect\\Detection-of-bacteria-in-water-using-Yolo-images\\temp\\images/train\\EMDS7-G034-003-0400_aug.png\n",
      "Augmented Image saved to: D:\\KULIAH\\SEMESTER 5\\RSBP\\Bacteri\\Detection-of-bacteria-in-water-using-Yolo-images\\Detect\\Detection-of-bacteria-in-water-using-Yolo-images\\temp\\images/train\\EMDS7-G009-005-0400_aug.png\n",
      "Augmented Image saved to: D:\\KULIAH\\SEMESTER 5\\RSBP\\Bacteri\\Detection-of-bacteria-in-water-using-Yolo-images\\Detect\\Detection-of-bacteria-in-water-using-Yolo-images\\temp\\images/train\\EMDS7-G011-026-0400_aug.png\n",
      "Augmented Image saved to: D:\\KULIAH\\SEMESTER 5\\RSBP\\Bacteri\\Detection-of-bacteria-in-water-using-Yolo-images\\Detect\\Detection-of-bacteria-in-water-using-Yolo-images\\temp\\images/train\\EMDS7-G041-005-0400_aug.png\n",
      "Augmented Image saved to: D:\\KULIAH\\SEMESTER 5\\RSBP\\Bacteri\\Detection-of-bacteria-in-water-using-Yolo-images\\Detect\\Detection-of-bacteria-in-water-using-Yolo-images\\temp\\images/train\\EMDS7-G032-010-0400_aug.png\n",
      "Augmented Image saved to: D:\\KULIAH\\SEMESTER 5\\RSBP\\Bacteri\\Detection-of-bacteria-in-water-using-Yolo-images\\Detect\\Detection-of-bacteria-in-water-using-Yolo-images\\temp\\images/train\\EMDS7-G038-001-0400_aug.png\n",
      "Augmented Image saved to: D:\\KULIAH\\SEMESTER 5\\RSBP\\Bacteri\\Detection-of-bacteria-in-water-using-Yolo-images\\Detect\\Detection-of-bacteria-in-water-using-Yolo-images\\temp\\images/train\\EMDS7-G028-018-0400_aug.png\n",
      "Augmented Image saved to: D:\\KULIAH\\SEMESTER 5\\RSBP\\Bacteri\\Detection-of-bacteria-in-water-using-Yolo-images\\Detect\\Detection-of-bacteria-in-water-using-Yolo-images\\temp\\images/train\\EMDS7-G018-083-0400_aug.png\n",
      "Augmented Image saved to: D:\\KULIAH\\SEMESTER 5\\RSBP\\Bacteri\\Detection-of-bacteria-in-water-using-Yolo-images\\Detect\\Detection-of-bacteria-in-water-using-Yolo-images\\temp\\images/train\\EMDS7-G036-025-0400_aug.png\n",
      "Augmented Image saved to: D:\\KULIAH\\SEMESTER 5\\RSBP\\Bacteri\\Detection-of-bacteria-in-water-using-Yolo-images\\Detect\\Detection-of-bacteria-in-water-using-Yolo-images\\temp\\images/train\\EMDS7-G031-017-0400_aug.png\n",
      "Augmented Image saved to: D:\\KULIAH\\SEMESTER 5\\RSBP\\Bacteri\\Detection-of-bacteria-in-water-using-Yolo-images\\Detect\\Detection-of-bacteria-in-water-using-Yolo-images\\temp\\images/train\\EMDS7-G018-031-0400_aug.png\n",
      "Augmented Image saved to: D:\\KULIAH\\SEMESTER 5\\RSBP\\Bacteri\\Detection-of-bacteria-in-water-using-Yolo-images\\Detect\\Detection-of-bacteria-in-water-using-Yolo-images\\temp\\images/train\\EMDS7-G003-148-0400_aug.png\n",
      "Augmented Image saved to: D:\\KULIAH\\SEMESTER 5\\RSBP\\Bacteri\\Detection-of-bacteria-in-water-using-Yolo-images\\Detect\\Detection-of-bacteria-in-water-using-Yolo-images\\temp\\images/train\\EMDS7-G003-265-0400_aug.png\n",
      "Augmented Image saved to: D:\\KULIAH\\SEMESTER 5\\RSBP\\Bacteri\\Detection-of-bacteria-in-water-using-Yolo-images\\Detect\\Detection-of-bacteria-in-water-using-Yolo-images\\temp\\images/train\\EMDS7-G009-009-0400_aug.png\n",
      "Augmented Image saved to: D:\\KULIAH\\SEMESTER 5\\RSBP\\Bacteri\\Detection-of-bacteria-in-water-using-Yolo-images\\Detect\\Detection-of-bacteria-in-water-using-Yolo-images\\temp\\images/train\\EMDS7-G022-184-0400_aug.png\n",
      "Augmented Image saved to: D:\\KULIAH\\SEMESTER 5\\RSBP\\Bacteri\\Detection-of-bacteria-in-water-using-Yolo-images\\Detect\\Detection-of-bacteria-in-water-using-Yolo-images\\temp\\images/train\\EMDS7-G005-011-0400_aug.png\n",
      "Augmented Image saved to: D:\\KULIAH\\SEMESTER 5\\RSBP\\Bacteri\\Detection-of-bacteria-in-water-using-Yolo-images\\Detect\\Detection-of-bacteria-in-water-using-Yolo-images\\temp\\images/train\\EMDS7-G040-018-0400_aug.png\n",
      "Augmented Image saved to: D:\\KULIAH\\SEMESTER 5\\RSBP\\Bacteri\\Detection-of-bacteria-in-water-using-Yolo-images\\Detect\\Detection-of-bacteria-in-water-using-Yolo-images\\temp\\images/train\\EMDS7-G004-053-0400_aug.png\n",
      "Augmented Image saved to: D:\\KULIAH\\SEMESTER 5\\RSBP\\Bacteri\\Detection-of-bacteria-in-water-using-Yolo-images\\Detect\\Detection-of-bacteria-in-water-using-Yolo-images\\temp\\images/train\\EMDS7-G032-086-0400_aug.png\n",
      "Augmented Image saved to: D:\\KULIAH\\SEMESTER 5\\RSBP\\Bacteri\\Detection-of-bacteria-in-water-using-Yolo-images\\Detect\\Detection-of-bacteria-in-water-using-Yolo-images\\temp\\images/train\\EMDS7-G020-018-0400_aug.png\n",
      "Augmented Image saved to: D:\\KULIAH\\SEMESTER 5\\RSBP\\Bacteri\\Detection-of-bacteria-in-water-using-Yolo-images\\Detect\\Detection-of-bacteria-in-water-using-Yolo-images\\temp\\images/train\\EMDS7-G003-078-0400_aug.png\n",
      "Augmented Image saved to: D:\\KULIAH\\SEMESTER 5\\RSBP\\Bacteri\\Detection-of-bacteria-in-water-using-Yolo-images\\Detect\\Detection-of-bacteria-in-water-using-Yolo-images\\temp\\images/train\\EMDS7-G018-028-0400_aug.png\n",
      "Augmented Image saved to: D:\\KULIAH\\SEMESTER 5\\RSBP\\Bacteri\\Detection-of-bacteria-in-water-using-Yolo-images\\Detect\\Detection-of-bacteria-in-water-using-Yolo-images\\temp\\images/train\\EMDS7-G039-076-0400_aug.png\n",
      "Augmented Image saved to: D:\\KULIAH\\SEMESTER 5\\RSBP\\Bacteri\\Detection-of-bacteria-in-water-using-Yolo-images\\Detect\\Detection-of-bacteria-in-water-using-Yolo-images\\temp\\images/train\\EMDS7-G035-046-0400_aug.png\n",
      "Augmented Image saved to: D:\\KULIAH\\SEMESTER 5\\RSBP\\Bacteri\\Detection-of-bacteria-in-water-using-Yolo-images\\Detect\\Detection-of-bacteria-in-water-using-Yolo-images\\temp\\images/train\\EMDS7-G003-063-0400_aug.png\n",
      "Augmented Image saved to: D:\\KULIAH\\SEMESTER 5\\RSBP\\Bacteri\\Detection-of-bacteria-in-water-using-Yolo-images\\Detect\\Detection-of-bacteria-in-water-using-Yolo-images\\temp\\images/train\\EMDS7-G003-017-0400_aug.png\n",
      "Augmented Image saved to: D:\\KULIAH\\SEMESTER 5\\RSBP\\Bacteri\\Detection-of-bacteria-in-water-using-Yolo-images\\Detect\\Detection-of-bacteria-in-water-using-Yolo-images\\temp\\images/train\\EMDS7-G028-053-0400_aug.png\n",
      "Augmented Image saved to: D:\\KULIAH\\SEMESTER 5\\RSBP\\Bacteri\\Detection-of-bacteria-in-water-using-Yolo-images\\Detect\\Detection-of-bacteria-in-water-using-Yolo-images\\temp\\images/train\\EMDS7-G004-055-0400_aug.png\n",
      "Augmented Image saved to: D:\\KULIAH\\SEMESTER 5\\RSBP\\Bacteri\\Detection-of-bacteria-in-water-using-Yolo-images\\Detect\\Detection-of-bacteria-in-water-using-Yolo-images\\temp\\images/train\\EMDS7-G003-001-0400_aug.png\n",
      "Augmented Image saved to: D:\\KULIAH\\SEMESTER 5\\RSBP\\Bacteri\\Detection-of-bacteria-in-water-using-Yolo-images\\Detect\\Detection-of-bacteria-in-water-using-Yolo-images\\temp\\images/train\\EMDS7-G012-053-0400_aug.png\n",
      "Augmented Image saved to: D:\\KULIAH\\SEMESTER 5\\RSBP\\Bacteri\\Detection-of-bacteria-in-water-using-Yolo-images\\Detect\\Detection-of-bacteria-in-water-using-Yolo-images\\temp\\images/train\\EMDS7-G022-004-0400_aug.png\n",
      "Augmented Image saved to: D:\\KULIAH\\SEMESTER 5\\RSBP\\Bacteri\\Detection-of-bacteria-in-water-using-Yolo-images\\Detect\\Detection-of-bacteria-in-water-using-Yolo-images\\temp\\images/train\\EMDS7-G039-063-0400_aug.png\n",
      "Augmented Image saved to: D:\\KULIAH\\SEMESTER 5\\RSBP\\Bacteri\\Detection-of-bacteria-in-water-using-Yolo-images\\Detect\\Detection-of-bacteria-in-water-using-Yolo-images\\temp\\images/train\\EMDS7-G038-041-0400_aug.png\n",
      "Augmented Image saved to: D:\\KULIAH\\SEMESTER 5\\RSBP\\Bacteri\\Detection-of-bacteria-in-water-using-Yolo-images\\Detect\\Detection-of-bacteria-in-water-using-Yolo-images\\temp\\images/train\\EMDS7-G020-001-0400_aug.png\n",
      "Augmented Image saved to: D:\\KULIAH\\SEMESTER 5\\RSBP\\Bacteri\\Detection-of-bacteria-in-water-using-Yolo-images\\Detect\\Detection-of-bacteria-in-water-using-Yolo-images\\temp\\images/train\\EMDS7-G039-030-0400_aug.png\n",
      "Augmented Image saved to: D:\\KULIAH\\SEMESTER 5\\RSBP\\Bacteri\\Detection-of-bacteria-in-water-using-Yolo-images\\Detect\\Detection-of-bacteria-in-water-using-Yolo-images\\temp\\images/train\\EMDS7-G009-014-0400_aug.png\n",
      "Augmented Image saved to: D:\\KULIAH\\SEMESTER 5\\RSBP\\Bacteri\\Detection-of-bacteria-in-water-using-Yolo-images\\Detect\\Detection-of-bacteria-in-water-using-Yolo-images\\temp\\images/train\\EMDS7-G005-026-0400_aug.png\n",
      "Augmented Image saved to: D:\\KULIAH\\SEMESTER 5\\RSBP\\Bacteri\\Detection-of-bacteria-in-water-using-Yolo-images\\Detect\\Detection-of-bacteria-in-water-using-Yolo-images\\temp\\images/train\\EMDS7-G025-032-0400_aug.png\n",
      "Augmented Image saved to: D:\\KULIAH\\SEMESTER 5\\RSBP\\Bacteri\\Detection-of-bacteria-in-water-using-Yolo-images\\Detect\\Detection-of-bacteria-in-water-using-Yolo-images\\temp\\images/train\\EMDS7-G038-031-0400_aug.png\n",
      "Augmented Image saved to: D:\\KULIAH\\SEMESTER 5\\RSBP\\Bacteri\\Detection-of-bacteria-in-water-using-Yolo-images\\Detect\\Detection-of-bacteria-in-water-using-Yolo-images\\temp\\images/train\\EMDS7-G004-054-0400_aug.png\n",
      "Augmented Image saved to: D:\\KULIAH\\SEMESTER 5\\RSBP\\Bacteri\\Detection-of-bacteria-in-water-using-Yolo-images\\Detect\\Detection-of-bacteria-in-water-using-Yolo-images\\temp\\images/train\\EMDS7-G012-029-0400_aug.png\n",
      "Augmented Image saved to: D:\\KULIAH\\SEMESTER 5\\RSBP\\Bacteri\\Detection-of-bacteria-in-water-using-Yolo-images\\Detect\\Detection-of-bacteria-in-water-using-Yolo-images\\temp\\images/train\\EMDS7-G022-072-0400_aug.png\n",
      "Augmented Image saved to: D:\\KULIAH\\SEMESTER 5\\RSBP\\Bacteri\\Detection-of-bacteria-in-water-using-Yolo-images\\Detect\\Detection-of-bacteria-in-water-using-Yolo-images\\temp\\images/train\\EMDS7-G023-032-0400_aug.png\n",
      "Augmented Image saved to: D:\\KULIAH\\SEMESTER 5\\RSBP\\Bacteri\\Detection-of-bacteria-in-water-using-Yolo-images\\Detect\\Detection-of-bacteria-in-water-using-Yolo-images\\temp\\images/train\\EMDS7-G023-055-0400_aug.png\n",
      "Augmented Image saved to: D:\\KULIAH\\SEMESTER 5\\RSBP\\Bacteri\\Detection-of-bacteria-in-water-using-Yolo-images\\Detect\\Detection-of-bacteria-in-water-using-Yolo-images\\temp\\images/train\\EMDS7-G036-076-0400_aug.png\n",
      "Augmented Image saved to: D:\\KULIAH\\SEMESTER 5\\RSBP\\Bacteri\\Detection-of-bacteria-in-water-using-Yolo-images\\Detect\\Detection-of-bacteria-in-water-using-Yolo-images\\temp\\images/train\\EMDS7-G019-056-0400_aug.png\n",
      "Augmented Image saved to: D:\\KULIAH\\SEMESTER 5\\RSBP\\Bacteri\\Detection-of-bacteria-in-water-using-Yolo-images\\Detect\\Detection-of-bacteria-in-water-using-Yolo-images\\temp\\images/train\\EMDS7-G022-032-0400_aug.png\n",
      "Augmented Image saved to: D:\\KULIAH\\SEMESTER 5\\RSBP\\Bacteri\\Detection-of-bacteria-in-water-using-Yolo-images\\Detect\\Detection-of-bacteria-in-water-using-Yolo-images\\temp\\images/train\\EMDS7-G026-006-0400_aug.png\n",
      "Augmented Image saved to: D:\\KULIAH\\SEMESTER 5\\RSBP\\Bacteri\\Detection-of-bacteria-in-water-using-Yolo-images\\Detect\\Detection-of-bacteria-in-water-using-Yolo-images\\temp\\images/train\\EMDS7-G040-011-0400_aug.png\n",
      "Augmented Image saved to: D:\\KULIAH\\SEMESTER 5\\RSBP\\Bacteri\\Detection-of-bacteria-in-water-using-Yolo-images\\Detect\\Detection-of-bacteria-in-water-using-Yolo-images\\temp\\images/train\\EMDS7-G014-046-0400_aug.png\n",
      "Augmented Image saved to: D:\\KULIAH\\SEMESTER 5\\RSBP\\Bacteri\\Detection-of-bacteria-in-water-using-Yolo-images\\Detect\\Detection-of-bacteria-in-water-using-Yolo-images\\temp\\images/train\\EMDS7-G032-033-0400_aug.png\n",
      "Augmented Image saved to: D:\\KULIAH\\SEMESTER 5\\RSBP\\Bacteri\\Detection-of-bacteria-in-water-using-Yolo-images\\Detect\\Detection-of-bacteria-in-water-using-Yolo-images\\temp\\images/train\\EMDS7-G027-002-0400_aug.png\n",
      "Augmented Image saved to: D:\\KULIAH\\SEMESTER 5\\RSBP\\Bacteri\\Detection-of-bacteria-in-water-using-Yolo-images\\Detect\\Detection-of-bacteria-in-water-using-Yolo-images\\temp\\images/train\\EMDS7-G022-130-0400_aug.png\n",
      "Augmented Image saved to: D:\\KULIAH\\SEMESTER 5\\RSBP\\Bacteri\\Detection-of-bacteria-in-water-using-Yolo-images\\Detect\\Detection-of-bacteria-in-water-using-Yolo-images\\temp\\images/train\\EMDS7-G011-015-0400_aug.png\n",
      "Augmented Image saved to: D:\\KULIAH\\SEMESTER 5\\RSBP\\Bacteri\\Detection-of-bacteria-in-water-using-Yolo-images\\Detect\\Detection-of-bacteria-in-water-using-Yolo-images\\temp\\images/train\\EMDS7-G003-154-0400_aug.png\n",
      "Augmented Image saved to: D:\\KULIAH\\SEMESTER 5\\RSBP\\Bacteri\\Detection-of-bacteria-in-water-using-Yolo-images\\Detect\\Detection-of-bacteria-in-water-using-Yolo-images\\temp\\images/train\\EMDS7-G007-011-0400_aug.png\n",
      "Augmented Image saved to: D:\\KULIAH\\SEMESTER 5\\RSBP\\Bacteri\\Detection-of-bacteria-in-water-using-Yolo-images\\Detect\\Detection-of-bacteria-in-water-using-Yolo-images\\temp\\images/train\\EMDS7-G003-088-0400_aug.png\n",
      "Augmented Image saved to: D:\\KULIAH\\SEMESTER 5\\RSBP\\Bacteri\\Detection-of-bacteria-in-water-using-Yolo-images\\Detect\\Detection-of-bacteria-in-water-using-Yolo-images\\temp\\images/train\\EMDS7-G019-040-0400_aug.png\n",
      "Augmented Image saved to: D:\\KULIAH\\SEMESTER 5\\RSBP\\Bacteri\\Detection-of-bacteria-in-water-using-Yolo-images\\Detect\\Detection-of-bacteria-in-water-using-Yolo-images\\temp\\images/train\\EMDS7-G022-260-0400_aug.png\n",
      "Augmented Image saved to: D:\\KULIAH\\SEMESTER 5\\RSBP\\Bacteri\\Detection-of-bacteria-in-water-using-Yolo-images\\Detect\\Detection-of-bacteria-in-water-using-Yolo-images\\temp\\images/train\\EMDS7-G016-012-0400_aug.png\n",
      "Augmented Image saved to: D:\\KULIAH\\SEMESTER 5\\RSBP\\Bacteri\\Detection-of-bacteria-in-water-using-Yolo-images\\Detect\\Detection-of-bacteria-in-water-using-Yolo-images\\temp\\images/train\\EMDS7-G011-060-0400_aug.png\n",
      "Augmented Image saved to: D:\\KULIAH\\SEMESTER 5\\RSBP\\Bacteri\\Detection-of-bacteria-in-water-using-Yolo-images\\Detect\\Detection-of-bacteria-in-water-using-Yolo-images\\temp\\images/train\\EMDS7-G020-027-0400_aug.png\n",
      "Augmented Image saved to: D:\\KULIAH\\SEMESTER 5\\RSBP\\Bacteri\\Detection-of-bacteria-in-water-using-Yolo-images\\Detect\\Detection-of-bacteria-in-water-using-Yolo-images\\temp\\images/train\\EMDS7-G005-020-0400_aug.png\n",
      "Augmented Image saved to: D:\\KULIAH\\SEMESTER 5\\RSBP\\Bacteri\\Detection-of-bacteria-in-water-using-Yolo-images\\Detect\\Detection-of-bacteria-in-water-using-Yolo-images\\temp\\images/train\\EMDS7-G025-010-0400_aug.png\n",
      "Augmented Image saved to: D:\\KULIAH\\SEMESTER 5\\RSBP\\Bacteri\\Detection-of-bacteria-in-water-using-Yolo-images\\Detect\\Detection-of-bacteria-in-water-using-Yolo-images\\temp\\images/train\\EMDS7-G038-049-0400_aug.png\n",
      "Augmented Image saved to: D:\\KULIAH\\SEMESTER 5\\RSBP\\Bacteri\\Detection-of-bacteria-in-water-using-Yolo-images\\Detect\\Detection-of-bacteria-in-water-using-Yolo-images\\temp\\images/train\\EMDS7-G022-074-0400_aug.png\n",
      "Augmented Image saved to: D:\\KULIAH\\SEMESTER 5\\RSBP\\Bacteri\\Detection-of-bacteria-in-water-using-Yolo-images\\Detect\\Detection-of-bacteria-in-water-using-Yolo-images\\temp\\images/train\\EMDS7-G003-269-0400_aug.png\n",
      "Augmented Image saved to: D:\\KULIAH\\SEMESTER 5\\RSBP\\Bacteri\\Detection-of-bacteria-in-water-using-Yolo-images\\Detect\\Detection-of-bacteria-in-water-using-Yolo-images\\temp\\images/train\\EMDS7-G011-046-0400_aug.png\n",
      "Augmented Image saved to: D:\\KULIAH\\SEMESTER 5\\RSBP\\Bacteri\\Detection-of-bacteria-in-water-using-Yolo-images\\Detect\\Detection-of-bacteria-in-water-using-Yolo-images\\temp\\images/train\\EMDS7-G011-021-0400_aug.png\n",
      "Augmented Image saved to: D:\\KULIAH\\SEMESTER 5\\RSBP\\Bacteri\\Detection-of-bacteria-in-water-using-Yolo-images\\Detect\\Detection-of-bacteria-in-water-using-Yolo-images\\temp\\images/train\\EMDS7-G009-018-0400_aug.png\n",
      "Augmented Image saved to: D:\\KULIAH\\SEMESTER 5\\RSBP\\Bacteri\\Detection-of-bacteria-in-water-using-Yolo-images\\Detect\\Detection-of-bacteria-in-water-using-Yolo-images\\temp\\images/train\\EMDS7-G003-271-0400_aug.png\n",
      "Augmented Image saved to: D:\\KULIAH\\SEMESTER 5\\RSBP\\Bacteri\\Detection-of-bacteria-in-water-using-Yolo-images\\Detect\\Detection-of-bacteria-in-water-using-Yolo-images\\temp\\images/train\\EMDS7-G025-030-0400_aug.png\n",
      "Augmented Image saved to: D:\\KULIAH\\SEMESTER 5\\RSBP\\Bacteri\\Detection-of-bacteria-in-water-using-Yolo-images\\Detect\\Detection-of-bacteria-in-water-using-Yolo-images\\temp\\images/train\\EMDS7-G003-101-0400_aug.png\n",
      "Augmented Image saved to: D:\\KULIAH\\SEMESTER 5\\RSBP\\Bacteri\\Detection-of-bacteria-in-water-using-Yolo-images\\Detect\\Detection-of-bacteria-in-water-using-Yolo-images\\temp\\images/train\\EMDS7-G020-007-0400_aug.png\n",
      "Augmented Image saved to: D:\\KULIAH\\SEMESTER 5\\RSBP\\Bacteri\\Detection-of-bacteria-in-water-using-Yolo-images\\Detect\\Detection-of-bacteria-in-water-using-Yolo-images\\temp\\images/train\\EMDS7-G039-084-0400_aug.png\n",
      "Augmented Image saved to: D:\\KULIAH\\SEMESTER 5\\RSBP\\Bacteri\\Detection-of-bacteria-in-water-using-Yolo-images\\Detect\\Detection-of-bacteria-in-water-using-Yolo-images\\temp\\images/train\\EMDS7-G012-006-0400_aug.png\n",
      "Augmented Image saved to: D:\\KULIAH\\SEMESTER 5\\RSBP\\Bacteri\\Detection-of-bacteria-in-water-using-Yolo-images\\Detect\\Detection-of-bacteria-in-water-using-Yolo-images\\temp\\images/train\\EMDS7-G001-018-0400_aug.png\n",
      "Augmented Image saved to: D:\\KULIAH\\SEMESTER 5\\RSBP\\Bacteri\\Detection-of-bacteria-in-water-using-Yolo-images\\Detect\\Detection-of-bacteria-in-water-using-Yolo-images\\temp\\images/train\\EMDS7-G031-030-0400_aug.png\n",
      "Augmented Image saved to: D:\\KULIAH\\SEMESTER 5\\RSBP\\Bacteri\\Detection-of-bacteria-in-water-using-Yolo-images\\Detect\\Detection-of-bacteria-in-water-using-Yolo-images\\temp\\images/train\\EMDS7-G039-069-0400_aug.png\n",
      "Augmented Image saved to: D:\\KULIAH\\SEMESTER 5\\RSBP\\Bacteri\\Detection-of-bacteria-in-water-using-Yolo-images\\Detect\\Detection-of-bacteria-in-water-using-Yolo-images\\temp\\images/train\\EMDS7-G039-019-0400_aug.png\n",
      "Augmented Image saved to: D:\\KULIAH\\SEMESTER 5\\RSBP\\Bacteri\\Detection-of-bacteria-in-water-using-Yolo-images\\Detect\\Detection-of-bacteria-in-water-using-Yolo-images\\temp\\images/train\\EMDS7-G022-264-0400_aug.png\n",
      "Augmented Image saved to: D:\\KULIAH\\SEMESTER 5\\RSBP\\Bacteri\\Detection-of-bacteria-in-water-using-Yolo-images\\Detect\\Detection-of-bacteria-in-water-using-Yolo-images\\temp\\images/train\\EMDS7-G019-055-0400_aug.png\n",
      "Augmented Image saved to: D:\\KULIAH\\SEMESTER 5\\RSBP\\Bacteri\\Detection-of-bacteria-in-water-using-Yolo-images\\Detect\\Detection-of-bacteria-in-water-using-Yolo-images\\temp\\images/train\\EMDS7-G022-230-0400_aug.png\n",
      "Augmented Image saved to: D:\\KULIAH\\SEMESTER 5\\RSBP\\Bacteri\\Detection-of-bacteria-in-water-using-Yolo-images\\Detect\\Detection-of-bacteria-in-water-using-Yolo-images\\temp\\images/train\\EMDS7-G025-075-0400_aug.png\n",
      "Augmented Image saved to: D:\\KULIAH\\SEMESTER 5\\RSBP\\Bacteri\\Detection-of-bacteria-in-water-using-Yolo-images\\Detect\\Detection-of-bacteria-in-water-using-Yolo-images\\temp\\images/train\\EMDS7-G022-180-0400_aug.png\n",
      "Augmented Image saved to: D:\\KULIAH\\SEMESTER 5\\RSBP\\Bacteri\\Detection-of-bacteria-in-water-using-Yolo-images\\Detect\\Detection-of-bacteria-in-water-using-Yolo-images\\temp\\images/train\\EMDS7-G009-034-0400_aug.png\n",
      "Augmented Image saved to: D:\\KULIAH\\SEMESTER 5\\RSBP\\Bacteri\\Detection-of-bacteria-in-water-using-Yolo-images\\Detect\\Detection-of-bacteria-in-water-using-Yolo-images\\temp\\images/train\\EMDS7-G028-068-0400_aug.png\n",
      "Augmented Image saved to: D:\\KULIAH\\SEMESTER 5\\RSBP\\Bacteri\\Detection-of-bacteria-in-water-using-Yolo-images\\Detect\\Detection-of-bacteria-in-water-using-Yolo-images\\temp\\images/train\\EMDS7-G035-008-0400_aug.png\n",
      "Augmented Image saved to: D:\\KULIAH\\SEMESTER 5\\RSBP\\Bacteri\\Detection-of-bacteria-in-water-using-Yolo-images\\Detect\\Detection-of-bacteria-in-water-using-Yolo-images\\temp\\images/train\\EMDS7-G038-043-0400_aug.png\n",
      "Augmented Image saved to: D:\\KULIAH\\SEMESTER 5\\RSBP\\Bacteri\\Detection-of-bacteria-in-water-using-Yolo-images\\Detect\\Detection-of-bacteria-in-water-using-Yolo-images\\temp\\images/train\\EMDS7-G028-056-0400_aug.png\n",
      "Augmented Image saved to: D:\\KULIAH\\SEMESTER 5\\RSBP\\Bacteri\\Detection-of-bacteria-in-water-using-Yolo-images\\Detect\\Detection-of-bacteria-in-water-using-Yolo-images\\temp\\images/train\\EMDS7-G001-033-0400_aug.png\n",
      "Augmented Image saved to: D:\\KULIAH\\SEMESTER 5\\RSBP\\Bacteri\\Detection-of-bacteria-in-water-using-Yolo-images\\Detect\\Detection-of-bacteria-in-water-using-Yolo-images\\temp\\images/train\\EMDS7-G020-026-0400_aug.png\n",
      "Augmented Image saved to: D:\\KULIAH\\SEMESTER 5\\RSBP\\Bacteri\\Detection-of-bacteria-in-water-using-Yolo-images\\Detect\\Detection-of-bacteria-in-water-using-Yolo-images\\temp\\images/train\\EMDS7-G025-050-0400_aug.png\n",
      "Augmented Image saved to: D:\\KULIAH\\SEMESTER 5\\RSBP\\Bacteri\\Detection-of-bacteria-in-water-using-Yolo-images\\Detect\\Detection-of-bacteria-in-water-using-Yolo-images\\temp\\images/train\\EMDS7-G023-039-0400_aug.png\n",
      "Augmented Image saved to: D:\\KULIAH\\SEMESTER 5\\RSBP\\Bacteri\\Detection-of-bacteria-in-water-using-Yolo-images\\Detect\\Detection-of-bacteria-in-water-using-Yolo-images\\temp\\images/train\\EMDS7-G006-012-0400_aug.png\n",
      "Augmented Image saved to: D:\\KULIAH\\SEMESTER 5\\RSBP\\Bacteri\\Detection-of-bacteria-in-water-using-Yolo-images\\Detect\\Detection-of-bacteria-in-water-using-Yolo-images\\temp\\images/train\\EMDS7-G025-018-0400_aug.png\n",
      "Augmented Image saved to: D:\\KULIAH\\SEMESTER 5\\RSBP\\Bacteri\\Detection-of-bacteria-in-water-using-Yolo-images\\Detect\\Detection-of-bacteria-in-water-using-Yolo-images\\temp\\images/train\\EMDS7-G028-059-0400_aug.png\n",
      "Augmented Image saved to: D:\\KULIAH\\SEMESTER 5\\RSBP\\Bacteri\\Detection-of-bacteria-in-water-using-Yolo-images\\Detect\\Detection-of-bacteria-in-water-using-Yolo-images\\temp\\images/train\\EMDS7-G019-011-0400_aug.png\n",
      "Augmented Image saved to: D:\\KULIAH\\SEMESTER 5\\RSBP\\Bacteri\\Detection-of-bacteria-in-water-using-Yolo-images\\Detect\\Detection-of-bacteria-in-water-using-Yolo-images\\temp\\images/train\\EMDS7-G012-059-0400_aug.png\n",
      "Augmented Image saved to: D:\\KULIAH\\SEMESTER 5\\RSBP\\Bacteri\\Detection-of-bacteria-in-water-using-Yolo-images\\Detect\\Detection-of-bacteria-in-water-using-Yolo-images\\temp\\images/train\\EMDS7-G038-065-0400_aug.png\n",
      "Augmented Image saved to: D:\\KULIAH\\SEMESTER 5\\RSBP\\Bacteri\\Detection-of-bacteria-in-water-using-Yolo-images\\Detect\\Detection-of-bacteria-in-water-using-Yolo-images\\temp\\images/train\\EMDS7-G014-067-0400_aug.png\n",
      "Augmented Image saved to: D:\\KULIAH\\SEMESTER 5\\RSBP\\Bacteri\\Detection-of-bacteria-in-water-using-Yolo-images\\Detect\\Detection-of-bacteria-in-water-using-Yolo-images\\temp\\images/train\\EMDS7-G008-005-0400_aug.png\n",
      "Augmented Image saved to: D:\\KULIAH\\SEMESTER 5\\RSBP\\Bacteri\\Detection-of-bacteria-in-water-using-Yolo-images\\Detect\\Detection-of-bacteria-in-water-using-Yolo-images\\temp\\images/train\\EMDS7-G005-053-0400_aug.png\n",
      "Augmented Image saved to: D:\\KULIAH\\SEMESTER 5\\RSBP\\Bacteri\\Detection-of-bacteria-in-water-using-Yolo-images\\Detect\\Detection-of-bacteria-in-water-using-Yolo-images\\temp\\images/train\\EMDS7-G009-021-0400_aug.png\n",
      "Augmented Image saved to: D:\\KULIAH\\SEMESTER 5\\RSBP\\Bacteri\\Detection-of-bacteria-in-water-using-Yolo-images\\Detect\\Detection-of-bacteria-in-water-using-Yolo-images\\temp\\images/train\\EMDS7-G022-053-0400_aug.png\n",
      "Augmented Image saved to: D:\\KULIAH\\SEMESTER 5\\RSBP\\Bacteri\\Detection-of-bacteria-in-water-using-Yolo-images\\Detect\\Detection-of-bacteria-in-water-using-Yolo-images\\temp\\images/train\\EMDS7-G014-035-0400_aug.png\n",
      "Augmented Image saved to: D:\\KULIAH\\SEMESTER 5\\RSBP\\Bacteri\\Detection-of-bacteria-in-water-using-Yolo-images\\Detect\\Detection-of-bacteria-in-water-using-Yolo-images\\temp\\images/train\\EMDS7-G006-015-0400_aug.png\n",
      "Augmented Image saved to: D:\\KULIAH\\SEMESTER 5\\RSBP\\Bacteri\\Detection-of-bacteria-in-water-using-Yolo-images\\Detect\\Detection-of-bacteria-in-water-using-Yolo-images\\temp\\images/train\\EMDS7-G020-035-0400_aug.png\n",
      "Augmented Image saved to: D:\\KULIAH\\SEMESTER 5\\RSBP\\Bacteri\\Detection-of-bacteria-in-water-using-Yolo-images\\Detect\\Detection-of-bacteria-in-water-using-Yolo-images\\temp\\images/train\\EMDS7-G022-123-0400_aug.png\n",
      "Augmented Image saved to: D:\\KULIAH\\SEMESTER 5\\RSBP\\Bacteri\\Detection-of-bacteria-in-water-using-Yolo-images\\Detect\\Detection-of-bacteria-in-water-using-Yolo-images\\temp\\images/train\\EMDS7-G006-017-0400_aug.png\n",
      "Augmented Image saved to: D:\\KULIAH\\SEMESTER 5\\RSBP\\Bacteri\\Detection-of-bacteria-in-water-using-Yolo-images\\Detect\\Detection-of-bacteria-in-water-using-Yolo-images\\temp\\images/train\\EMDS7-G016-004-0400_aug.png\n",
      "Augmented Image saved to: D:\\KULIAH\\SEMESTER 5\\RSBP\\Bacteri\\Detection-of-bacteria-in-water-using-Yolo-images\\Detect\\Detection-of-bacteria-in-water-using-Yolo-images\\temp\\images/train\\EMDS7-G038-025-0400_aug.png\n",
      "Augmented Image saved to: D:\\KULIAH\\SEMESTER 5\\RSBP\\Bacteri\\Detection-of-bacteria-in-water-using-Yolo-images\\Detect\\Detection-of-bacteria-in-water-using-Yolo-images\\temp\\images/train\\EMDS7-G015-010-0400_aug.png\n",
      "Augmented Image saved to: D:\\KULIAH\\SEMESTER 5\\RSBP\\Bacteri\\Detection-of-bacteria-in-water-using-Yolo-images\\Detect\\Detection-of-bacteria-in-water-using-Yolo-images\\temp\\images/train\\EMDS7-G007-008-0400_aug.png\n",
      "Augmented Image saved to: D:\\KULIAH\\SEMESTER 5\\RSBP\\Bacteri\\Detection-of-bacteria-in-water-using-Yolo-images\\Detect\\Detection-of-bacteria-in-water-using-Yolo-images\\temp\\images/train\\EMDS7-G033-005-0400_aug.png\n",
      "Augmented Image saved to: D:\\KULIAH\\SEMESTER 5\\RSBP\\Bacteri\\Detection-of-bacteria-in-water-using-Yolo-images\\Detect\\Detection-of-bacteria-in-water-using-Yolo-images\\temp\\images/train\\EMDS7-G030-030-0400_aug.png\n",
      "Augmented Image saved to: D:\\KULIAH\\SEMESTER 5\\RSBP\\Bacteri\\Detection-of-bacteria-in-water-using-Yolo-images\\Detect\\Detection-of-bacteria-in-water-using-Yolo-images\\temp\\images/train\\EMDS7-G003-052-0400_aug.png\n",
      "Augmented Image saved to: D:\\KULIAH\\SEMESTER 5\\RSBP\\Bacteri\\Detection-of-bacteria-in-water-using-Yolo-images\\Detect\\Detection-of-bacteria-in-water-using-Yolo-images\\temp\\images/train\\EMDS7-G033-003-0400_aug.png\n",
      "Augmented Image saved to: D:\\KULIAH\\SEMESTER 5\\RSBP\\Bacteri\\Detection-of-bacteria-in-water-using-Yolo-images\\Detect\\Detection-of-bacteria-in-water-using-Yolo-images\\temp\\images/train\\EMDS7-G004-061-0400_aug.png\n",
      "Augmented Image saved to: D:\\KULIAH\\SEMESTER 5\\RSBP\\Bacteri\\Detection-of-bacteria-in-water-using-Yolo-images\\Detect\\Detection-of-bacteria-in-water-using-Yolo-images\\temp\\images/train\\EMDS7-G036-075-0400_aug.png\n",
      "Augmented Image saved to: D:\\KULIAH\\SEMESTER 5\\RSBP\\Bacteri\\Detection-of-bacteria-in-water-using-Yolo-images\\Detect\\Detection-of-bacteria-in-water-using-Yolo-images\\temp\\images/train\\EMDS7-G003-111-0400_aug.png\n",
      "Augmented Image saved to: D:\\KULIAH\\SEMESTER 5\\RSBP\\Bacteri\\Detection-of-bacteria-in-water-using-Yolo-images\\Detect\\Detection-of-bacteria-in-water-using-Yolo-images\\temp\\images/train\\EMDS7-G008-013-0400_aug.png\n",
      "Augmented Image saved to: D:\\KULIAH\\SEMESTER 5\\RSBP\\Bacteri\\Detection-of-bacteria-in-water-using-Yolo-images\\Detect\\Detection-of-bacteria-in-water-using-Yolo-images\\temp\\images/train\\EMDS7-G038-023-0400_aug.png\n",
      "Augmented Image saved to: D:\\KULIAH\\SEMESTER 5\\RSBP\\Bacteri\\Detection-of-bacteria-in-water-using-Yolo-images\\Detect\\Detection-of-bacteria-in-water-using-Yolo-images\\temp\\images/train\\EMDS7-G035-036-0400_aug.png\n",
      "Augmented Image saved to: D:\\KULIAH\\SEMESTER 5\\RSBP\\Bacteri\\Detection-of-bacteria-in-water-using-Yolo-images\\Detect\\Detection-of-bacteria-in-water-using-Yolo-images\\temp\\images/train\\EMDS7-G003-302-0400_aug.png\n",
      "Augmented Image saved to: D:\\KULIAH\\SEMESTER 5\\RSBP\\Bacteri\\Detection-of-bacteria-in-water-using-Yolo-images\\Detect\\Detection-of-bacteria-in-water-using-Yolo-images\\temp\\images/train\\EMDS7-G003-012-0400_aug.png\n",
      "Augmented Image saved to: D:\\KULIAH\\SEMESTER 5\\RSBP\\Bacteri\\Detection-of-bacteria-in-water-using-Yolo-images\\Detect\\Detection-of-bacteria-in-water-using-Yolo-images\\temp\\images/train\\EMDS7-G032-076-0400_aug.png\n",
      "Augmented Image saved to: D:\\KULIAH\\SEMESTER 5\\RSBP\\Bacteri\\Detection-of-bacteria-in-water-using-Yolo-images\\Detect\\Detection-of-bacteria-in-water-using-Yolo-images\\temp\\images/train\\EMDS7-G017-042-0400_aug.png\n",
      "Augmented Image saved to: D:\\KULIAH\\SEMESTER 5\\RSBP\\Bacteri\\Detection-of-bacteria-in-water-using-Yolo-images\\Detect\\Detection-of-bacteria-in-water-using-Yolo-images\\temp\\images/train\\EMDS7-G032-013-0400_aug.png\n",
      "Augmented Image saved to: D:\\KULIAH\\SEMESTER 5\\RSBP\\Bacteri\\Detection-of-bacteria-in-water-using-Yolo-images\\Detect\\Detection-of-bacteria-in-water-using-Yolo-images\\temp\\images/train\\EMDS7-G039-050-0400_aug.png\n",
      "Augmented Image saved to: D:\\KULIAH\\SEMESTER 5\\RSBP\\Bacteri\\Detection-of-bacteria-in-water-using-Yolo-images\\Detect\\Detection-of-bacteria-in-water-using-Yolo-images\\temp\\images/train\\EMDS7-G009-036-0400_aug.png\n",
      "Augmented Image saved to: D:\\KULIAH\\SEMESTER 5\\RSBP\\Bacteri\\Detection-of-bacteria-in-water-using-Yolo-images\\Detect\\Detection-of-bacteria-in-water-using-Yolo-images\\temp\\images/train\\EMDS7-G011-016-0400_aug.png\n",
      "Augmented Image saved to: D:\\KULIAH\\SEMESTER 5\\RSBP\\Bacteri\\Detection-of-bacteria-in-water-using-Yolo-images\\Detect\\Detection-of-bacteria-in-water-using-Yolo-images\\temp\\images/train\\EMDS7-G005-036-0400_aug.png\n",
      "Augmented Image saved to: D:\\KULIAH\\SEMESTER 5\\RSBP\\Bacteri\\Detection-of-bacteria-in-water-using-Yolo-images\\Detect\\Detection-of-bacteria-in-water-using-Yolo-images\\temp\\images/train\\EMDS7-G018-060-0400_aug.png\n",
      "Augmented Image saved to: D:\\KULIAH\\SEMESTER 5\\RSBP\\Bacteri\\Detection-of-bacteria-in-water-using-Yolo-images\\Detect\\Detection-of-bacteria-in-water-using-Yolo-images\\temp\\images/train\\EMDS7-G003-306-0400_aug.png\n",
      "Augmented Image saved to: D:\\KULIAH\\SEMESTER 5\\RSBP\\Bacteri\\Detection-of-bacteria-in-water-using-Yolo-images\\Detect\\Detection-of-bacteria-in-water-using-Yolo-images\\temp\\images/train\\EMDS7-G030-008-0400_aug.png\n",
      "Augmented Image saved to: D:\\KULIAH\\SEMESTER 5\\RSBP\\Bacteri\\Detection-of-bacteria-in-water-using-Yolo-images\\Detect\\Detection-of-bacteria-in-water-using-Yolo-images\\temp\\images/train\\EMDS7-G023-052-0400_aug.png\n",
      "Augmented Image saved to: D:\\KULIAH\\SEMESTER 5\\RSBP\\Bacteri\\Detection-of-bacteria-in-water-using-Yolo-images\\Detect\\Detection-of-bacteria-in-water-using-Yolo-images\\temp\\images/train\\EMDS7-G019-050-0400_aug.png\n",
      "Augmented Image saved to: D:\\KULIAH\\SEMESTER 5\\RSBP\\Bacteri\\Detection-of-bacteria-in-water-using-Yolo-images\\Detect\\Detection-of-bacteria-in-water-using-Yolo-images\\temp\\images/train\\EMDS7-G035-051-0400_aug.png\n",
      "Augmented Image saved to: D:\\KULIAH\\SEMESTER 5\\RSBP\\Bacteri\\Detection-of-bacteria-in-water-using-Yolo-images\\Detect\\Detection-of-bacteria-in-water-using-Yolo-images\\temp\\images/train\\EMDS7-G019-010-0400_aug.png\n",
      "Augmented Image saved to: D:\\KULIAH\\SEMESTER 5\\RSBP\\Bacteri\\Detection-of-bacteria-in-water-using-Yolo-images\\Detect\\Detection-of-bacteria-in-water-using-Yolo-images\\temp\\images/train\\EMDS7-G032-049-0400_aug.png\n",
      "Augmented Image saved to: D:\\KULIAH\\SEMESTER 5\\RSBP\\Bacteri\\Detection-of-bacteria-in-water-using-Yolo-images\\Detect\\Detection-of-bacteria-in-water-using-Yolo-images\\temp\\images/train\\EMDS7-G017-004-0400_aug.png\n",
      "Augmented Image saved to: D:\\KULIAH\\SEMESTER 5\\RSBP\\Bacteri\\Detection-of-bacteria-in-water-using-Yolo-images\\Detect\\Detection-of-bacteria-in-water-using-Yolo-images\\temp\\images/train\\EMDS7-G029-020-0400_aug.png\n",
      "Augmented Image saved to: D:\\KULIAH\\SEMESTER 5\\RSBP\\Bacteri\\Detection-of-bacteria-in-water-using-Yolo-images\\Detect\\Detection-of-bacteria-in-water-using-Yolo-images\\temp\\images/train\\EMDS7-G003-057-0400_aug.png\n",
      "Augmented Image saved to: D:\\KULIAH\\SEMESTER 5\\RSBP\\Bacteri\\Detection-of-bacteria-in-water-using-Yolo-images\\Detect\\Detection-of-bacteria-in-water-using-Yolo-images\\temp\\images/train\\EMDS7-G032-051-0400_aug.png\n",
      "Augmented Image saved to: D:\\KULIAH\\SEMESTER 5\\RSBP\\Bacteri\\Detection-of-bacteria-in-water-using-Yolo-images\\Detect\\Detection-of-bacteria-in-water-using-Yolo-images\\temp\\images/train\\EMDS7-G004-077-0400_aug.png\n",
      "Augmented Image saved to: D:\\KULIAH\\SEMESTER 5\\RSBP\\Bacteri\\Detection-of-bacteria-in-water-using-Yolo-images\\Detect\\Detection-of-bacteria-in-water-using-Yolo-images\\temp\\images/train\\EMDS7-G031-003-0400_aug.png\n",
      "Augmented Image saved to: D:\\KULIAH\\SEMESTER 5\\RSBP\\Bacteri\\Detection-of-bacteria-in-water-using-Yolo-images\\Detect\\Detection-of-bacteria-in-water-using-Yolo-images\\temp\\images/train\\EMDS7-G012-013-0400_aug.png\n",
      "Augmented Image saved to: D:\\KULIAH\\SEMESTER 5\\RSBP\\Bacteri\\Detection-of-bacteria-in-water-using-Yolo-images\\Detect\\Detection-of-bacteria-in-water-using-Yolo-images\\temp\\images/train\\EMDS7-G001-003-0400_aug.png\n",
      "Augmented Image saved to: D:\\KULIAH\\SEMESTER 5\\RSBP\\Bacteri\\Detection-of-bacteria-in-water-using-Yolo-images\\Detect\\Detection-of-bacteria-in-water-using-Yolo-images\\temp\\images/train\\EMDS7-G037-008-0400_aug.png\n",
      "Augmented Image saved to: D:\\KULIAH\\SEMESTER 5\\RSBP\\Bacteri\\Detection-of-bacteria-in-water-using-Yolo-images\\Detect\\Detection-of-bacteria-in-water-using-Yolo-images\\temp\\images/train\\EMDS7-G011-055-0400_aug.png\n",
      "Augmented Image saved to: D:\\KULIAH\\SEMESTER 5\\RSBP\\Bacteri\\Detection-of-bacteria-in-water-using-Yolo-images\\Detect\\Detection-of-bacteria-in-water-using-Yolo-images\\temp\\images/train\\EMDS7-G036-031-0400_aug.png\n",
      "Augmented Image saved to: D:\\KULIAH\\SEMESTER 5\\RSBP\\Bacteri\\Detection-of-bacteria-in-water-using-Yolo-images\\Detect\\Detection-of-bacteria-in-water-using-Yolo-images\\temp\\images/train\\EMDS7-G030-025-0400_aug.png\n",
      "Augmented Image saved to: D:\\KULIAH\\SEMESTER 5\\RSBP\\Bacteri\\Detection-of-bacteria-in-water-using-Yolo-images\\Detect\\Detection-of-bacteria-in-water-using-Yolo-images\\temp\\images/train\\EMDS7-G012-031-0400_aug.png\n",
      "Augmented Image saved to: D:\\KULIAH\\SEMESTER 5\\RSBP\\Bacteri\\Detection-of-bacteria-in-water-using-Yolo-images\\Detect\\Detection-of-bacteria-in-water-using-Yolo-images\\temp\\images/train\\EMDS7-G037-002-0400_aug.png\n",
      "Augmented Image saved to: D:\\KULIAH\\SEMESTER 5\\RSBP\\Bacteri\\Detection-of-bacteria-in-water-using-Yolo-images\\Detect\\Detection-of-bacteria-in-water-using-Yolo-images\\temp\\images/train\\EMDS7-G003-224-0400_aug.png\n",
      "Augmented Image saved to: D:\\KULIAH\\SEMESTER 5\\RSBP\\Bacteri\\Detection-of-bacteria-in-water-using-Yolo-images\\Detect\\Detection-of-bacteria-in-water-using-Yolo-images\\temp\\images/train\\EMDS7-G036-021-0400_aug.png\n",
      "Augmented Image saved to: D:\\KULIAH\\SEMESTER 5\\RSBP\\Bacteri\\Detection-of-bacteria-in-water-using-Yolo-images\\Detect\\Detection-of-bacteria-in-water-using-Yolo-images\\temp\\images/train\\EMDS7-G028-046-0400_aug.png\n",
      "Augmented Image saved to: D:\\KULIAH\\SEMESTER 5\\RSBP\\Bacteri\\Detection-of-bacteria-in-water-using-Yolo-images\\Detect\\Detection-of-bacteria-in-water-using-Yolo-images\\temp\\images/train\\EMDS7-G022-188-0400_aug.png\n",
      "Augmented Image saved to: D:\\KULIAH\\SEMESTER 5\\RSBP\\Bacteri\\Detection-of-bacteria-in-water-using-Yolo-images\\Detect\\Detection-of-bacteria-in-water-using-Yolo-images\\temp\\images/train\\EMDS7-G012-046-0400_aug.png\n",
      "Augmented Image saved to: D:\\KULIAH\\SEMESTER 5\\RSBP\\Bacteri\\Detection-of-bacteria-in-water-using-Yolo-images\\Detect\\Detection-of-bacteria-in-water-using-Yolo-images\\temp\\images/train\\EMDS7-G014-028-0400_aug.png\n",
      "Augmented Image saved to: D:\\KULIAH\\SEMESTER 5\\RSBP\\Bacteri\\Detection-of-bacteria-in-water-using-Yolo-images\\Detect\\Detection-of-bacteria-in-water-using-Yolo-images\\temp\\images/train\\EMDS7-G025-051-0400_aug.png\n",
      "Augmented Image saved to: D:\\KULIAH\\SEMESTER 5\\RSBP\\Bacteri\\Detection-of-bacteria-in-water-using-Yolo-images\\Detect\\Detection-of-bacteria-in-water-using-Yolo-images\\temp\\images/train\\EMDS7-G032-027-0400_aug.png\n",
      "Augmented Image saved to: D:\\KULIAH\\SEMESTER 5\\RSBP\\Bacteri\\Detection-of-bacteria-in-water-using-Yolo-images\\Detect\\Detection-of-bacteria-in-water-using-Yolo-images\\temp\\images/train\\EMDS7-G017-049-0400_aug.png\n",
      "Augmented Image saved to: D:\\KULIAH\\SEMESTER 5\\RSBP\\Bacteri\\Detection-of-bacteria-in-water-using-Yolo-images\\Detect\\Detection-of-bacteria-in-water-using-Yolo-images\\temp\\images/train\\EMDS7-G025-071-0400_aug.png\n",
      "Augmented Image saved to: D:\\KULIAH\\SEMESTER 5\\RSBP\\Bacteri\\Detection-of-bacteria-in-water-using-Yolo-images\\Detect\\Detection-of-bacteria-in-water-using-Yolo-images\\temp\\images/train\\EMDS7-G022-259-0400_aug.png\n",
      "Augmented Image saved to: D:\\KULIAH\\SEMESTER 5\\RSBP\\Bacteri\\Detection-of-bacteria-in-water-using-Yolo-images\\Detect\\Detection-of-bacteria-in-water-using-Yolo-images\\temp\\images/train\\EMDS7-G003-210-0400_aug.png\n",
      "Augmented Image saved to: D:\\KULIAH\\SEMESTER 5\\RSBP\\Bacteri\\Detection-of-bacteria-in-water-using-Yolo-images\\Detect\\Detection-of-bacteria-in-water-using-Yolo-images\\temp\\images/train\\EMDS7-G023-025-0400_aug.png\n",
      "Augmented Image saved to: D:\\KULIAH\\SEMESTER 5\\RSBP\\Bacteri\\Detection-of-bacteria-in-water-using-Yolo-images\\Detect\\Detection-of-bacteria-in-water-using-Yolo-images\\temp\\images/train\\EMDS7-G040-016-0400_aug.png\n",
      "Augmented Image saved to: D:\\KULIAH\\SEMESTER 5\\RSBP\\Bacteri\\Detection-of-bacteria-in-water-using-Yolo-images\\Detect\\Detection-of-bacteria-in-water-using-Yolo-images\\temp\\images/train\\EMDS7-G017-037-0400_aug.png\n",
      "Augmented Image saved to: D:\\KULIAH\\SEMESTER 5\\RSBP\\Bacteri\\Detection-of-bacteria-in-water-using-Yolo-images\\Detect\\Detection-of-bacteria-in-water-using-Yolo-images\\temp\\images/train\\EMDS7-G004-010-0400_aug.png\n",
      "Augmented Image saved to: D:\\KULIAH\\SEMESTER 5\\RSBP\\Bacteri\\Detection-of-bacteria-in-water-using-Yolo-images\\Detect\\Detection-of-bacteria-in-water-using-Yolo-images\\temp\\images/train\\EMDS7-G020-019-0400_aug.png\n",
      "Augmented Image saved to: D:\\KULIAH\\SEMESTER 5\\RSBP\\Bacteri\\Detection-of-bacteria-in-water-using-Yolo-images\\Detect\\Detection-of-bacteria-in-water-using-Yolo-images\\temp\\images/train\\EMDS7-G032-074-0400_aug.png\n",
      "Augmented Image saved to: D:\\KULIAH\\SEMESTER 5\\RSBP\\Bacteri\\Detection-of-bacteria-in-water-using-Yolo-images\\Detect\\Detection-of-bacteria-in-water-using-Yolo-images\\temp\\images/train\\EMDS7-G035-030-0400_aug.png\n",
      "Augmented Image saved to: D:\\KULIAH\\SEMESTER 5\\RSBP\\Bacteri\\Detection-of-bacteria-in-water-using-Yolo-images\\Detect\\Detection-of-bacteria-in-water-using-Yolo-images\\temp\\images/train\\EMDS7-G038-014-0400_aug.png\n",
      "Augmented Image saved to: D:\\KULIAH\\SEMESTER 5\\RSBP\\Bacteri\\Detection-of-bacteria-in-water-using-Yolo-images\\Detect\\Detection-of-bacteria-in-water-using-Yolo-images\\temp\\images/train\\EMDS7-G039-085-0400_aug.png\n",
      "Augmented Image saved to: D:\\KULIAH\\SEMESTER 5\\RSBP\\Bacteri\\Detection-of-bacteria-in-water-using-Yolo-images\\Detect\\Detection-of-bacteria-in-water-using-Yolo-images\\temp\\images/train\\EMDS7-G041-004-0400_aug.png\n",
      "Augmented Image saved to: D:\\KULIAH\\SEMESTER 5\\RSBP\\Bacteri\\Detection-of-bacteria-in-water-using-Yolo-images\\Detect\\Detection-of-bacteria-in-water-using-Yolo-images\\temp\\images/train\\EMDS7-G012-112-0400_aug.png\n",
      "Augmented Image saved to: D:\\KULIAH\\SEMESTER 5\\RSBP\\Bacteri\\Detection-of-bacteria-in-water-using-Yolo-images\\Detect\\Detection-of-bacteria-in-water-using-Yolo-images\\temp\\images/train\\EMDS7-G019-017-0400_aug.png\n",
      "Augmented Image saved to: D:\\KULIAH\\SEMESTER 5\\RSBP\\Bacteri\\Detection-of-bacteria-in-water-using-Yolo-images\\Detect\\Detection-of-bacteria-in-water-using-Yolo-images\\temp\\images/train\\EMDS7-G032-005-0400_aug.png\n",
      "Augmented Image saved to: D:\\KULIAH\\SEMESTER 5\\RSBP\\Bacteri\\Detection-of-bacteria-in-water-using-Yolo-images\\Detect\\Detection-of-bacteria-in-water-using-Yolo-images\\temp\\images/train\\EMDS7-G022-055-0400_aug.png\n",
      "Augmented Image saved to: D:\\KULIAH\\SEMESTER 5\\RSBP\\Bacteri\\Detection-of-bacteria-in-water-using-Yolo-images\\Detect\\Detection-of-bacteria-in-water-using-Yolo-images\\temp\\images/train\\EMDS7-G039-022-0400_aug.png\n",
      "Augmented Image saved to: D:\\KULIAH\\SEMESTER 5\\RSBP\\Bacteri\\Detection-of-bacteria-in-water-using-Yolo-images\\Detect\\Detection-of-bacteria-in-water-using-Yolo-images\\temp\\images/train\\EMDS7-G004-002-0400_aug.png\n",
      "Augmented Image saved to: D:\\KULIAH\\SEMESTER 5\\RSBP\\Bacteri\\Detection-of-bacteria-in-water-using-Yolo-images\\Detect\\Detection-of-bacteria-in-water-using-Yolo-images\\temp\\images/train\\EMDS7-G002-005-0400_aug.png\n",
      "Augmented Image saved to: D:\\KULIAH\\SEMESTER 5\\RSBP\\Bacteri\\Detection-of-bacteria-in-water-using-Yolo-images\\Detect\\Detection-of-bacteria-in-water-using-Yolo-images\\temp\\images/train\\EMDS7-G003-136-0400_aug.png\n",
      "Augmented Image saved to: D:\\KULIAH\\SEMESTER 5\\RSBP\\Bacteri\\Detection-of-bacteria-in-water-using-Yolo-images\\Detect\\Detection-of-bacteria-in-water-using-Yolo-images\\temp\\images/train\\EMDS7-G031-005-0400_aug.png\n",
      "Augmented Image saved to: D:\\KULIAH\\SEMESTER 5\\RSBP\\Bacteri\\Detection-of-bacteria-in-water-using-Yolo-images\\Detect\\Detection-of-bacteria-in-water-using-Yolo-images\\temp\\images/train\\EMDS7-G039-089-0400_aug.png\n",
      "Augmented Image saved to: D:\\KULIAH\\SEMESTER 5\\RSBP\\Bacteri\\Detection-of-bacteria-in-water-using-Yolo-images\\Detect\\Detection-of-bacteria-in-water-using-Yolo-images\\temp\\images/train\\EMDS7-G028-069-0400_aug.png\n",
      "Augmented Image saved to: D:\\KULIAH\\SEMESTER 5\\RSBP\\Bacteri\\Detection-of-bacteria-in-water-using-Yolo-images\\Detect\\Detection-of-bacteria-in-water-using-Yolo-images\\temp\\images/train\\EMDS7-G003-037-0400_aug.png\n",
      "Augmented Image saved to: D:\\KULIAH\\SEMESTER 5\\RSBP\\Bacteri\\Detection-of-bacteria-in-water-using-Yolo-images\\Detect\\Detection-of-bacteria-in-water-using-Yolo-images\\temp\\images/train\\EMDS7-G019-016-0400_aug.png\n",
      "Augmented Image saved to: D:\\KULIAH\\SEMESTER 5\\RSBP\\Bacteri\\Detection-of-bacteria-in-water-using-Yolo-images\\Detect\\Detection-of-bacteria-in-water-using-Yolo-images\\temp\\images/train\\EMDS7-G005-035-0400_aug.png\n",
      "Augmented Image saved to: D:\\KULIAH\\SEMESTER 5\\RSBP\\Bacteri\\Detection-of-bacteria-in-water-using-Yolo-images\\Detect\\Detection-of-bacteria-in-water-using-Yolo-images\\temp\\images/train\\EMDS7-G003-099-0400_aug.png\n",
      "Augmented Image saved to: D:\\KULIAH\\SEMESTER 5\\RSBP\\Bacteri\\Detection-of-bacteria-in-water-using-Yolo-images\\Detect\\Detection-of-bacteria-in-water-using-Yolo-images\\temp\\images/train\\EMDS7-G022-031-0400_aug.png\n",
      "Augmented Image saved to: D:\\KULIAH\\SEMESTER 5\\RSBP\\Bacteri\\Detection-of-bacteria-in-water-using-Yolo-images\\Detect\\Detection-of-bacteria-in-water-using-Yolo-images\\temp\\images/train\\EMDS7-G003-218-0400_aug.png\n",
      "Augmented Image saved to: D:\\KULIAH\\SEMESTER 5\\RSBP\\Bacteri\\Detection-of-bacteria-in-water-using-Yolo-images\\Detect\\Detection-of-bacteria-in-water-using-Yolo-images\\temp\\images/train\\EMDS7-G022-047-0400_aug.png\n",
      "Augmented Image saved to: D:\\KULIAH\\SEMESTER 5\\RSBP\\Bacteri\\Detection-of-bacteria-in-water-using-Yolo-images\\Detect\\Detection-of-bacteria-in-water-using-Yolo-images\\temp\\images/train\\EMDS7-G028-064-0400_aug.png\n",
      "Augmented Image saved to: D:\\KULIAH\\SEMESTER 5\\RSBP\\Bacteri\\Detection-of-bacteria-in-water-using-Yolo-images\\Detect\\Detection-of-bacteria-in-water-using-Yolo-images\\temp\\images/train\\EMDS7-G037-007-0400_aug.png\n",
      "Augmented Image saved to: D:\\KULIAH\\SEMESTER 5\\RSBP\\Bacteri\\Detection-of-bacteria-in-water-using-Yolo-images\\Detect\\Detection-of-bacteria-in-water-using-Yolo-images\\temp\\images/train\\EMDS7-G018-055-0400_aug.png\n",
      "Augmented Image saved to: D:\\KULIAH\\SEMESTER 5\\RSBP\\Bacteri\\Detection-of-bacteria-in-water-using-Yolo-images\\Detect\\Detection-of-bacteria-in-water-using-Yolo-images\\temp\\images/train\\EMDS7-G009-015-0400_aug.png\n",
      "Augmented Image saved to: D:\\KULIAH\\SEMESTER 5\\RSBP\\Bacteri\\Detection-of-bacteria-in-water-using-Yolo-images\\Detect\\Detection-of-bacteria-in-water-using-Yolo-images\\temp\\images/train\\EMDS7-G004-037-0400_aug.png\n",
      "Augmented Image saved to: D:\\KULIAH\\SEMESTER 5\\RSBP\\Bacteri\\Detection-of-bacteria-in-water-using-Yolo-images\\Detect\\Detection-of-bacteria-in-water-using-Yolo-images\\temp\\images/train\\EMDS7-G018-042-0400_aug.png\n",
      "Augmented Image saved to: D:\\KULIAH\\SEMESTER 5\\RSBP\\Bacteri\\Detection-of-bacteria-in-water-using-Yolo-images\\Detect\\Detection-of-bacteria-in-water-using-Yolo-images\\temp\\images/train\\EMDS7-G025-021-0400_aug.png\n",
      "Augmented Image saved to: D:\\KULIAH\\SEMESTER 5\\RSBP\\Bacteri\\Detection-of-bacteria-in-water-using-Yolo-images\\Detect\\Detection-of-bacteria-in-water-using-Yolo-images\\temp\\images/train\\EMDS7-G003-184-0400_aug.png\n",
      "Augmented Image saved to: D:\\KULIAH\\SEMESTER 5\\RSBP\\Bacteri\\Detection-of-bacteria-in-water-using-Yolo-images\\Detect\\Detection-of-bacteria-in-water-using-Yolo-images\\temp\\images/train\\EMDS7-G012-043-0400_aug.png\n",
      "Augmented Image saved to: D:\\KULIAH\\SEMESTER 5\\RSBP\\Bacteri\\Detection-of-bacteria-in-water-using-Yolo-images\\Detect\\Detection-of-bacteria-in-water-using-Yolo-images\\temp\\images/train\\EMDS7-G040-003-0400_aug.png\n",
      "Augmented Image saved to: D:\\KULIAH\\SEMESTER 5\\RSBP\\Bacteri\\Detection-of-bacteria-in-water-using-Yolo-images\\Detect\\Detection-of-bacteria-in-water-using-Yolo-images\\temp\\images/train\\EMDS7-G022-005-0400_aug.png\n",
      "Augmented Image saved to: D:\\KULIAH\\SEMESTER 5\\RSBP\\Bacteri\\Detection-of-bacteria-in-water-using-Yolo-images\\Detect\\Detection-of-bacteria-in-water-using-Yolo-images\\temp\\images/train\\EMDS7-G029-016-0400_aug.png\n",
      "Augmented Image saved to: D:\\KULIAH\\SEMESTER 5\\RSBP\\Bacteri\\Detection-of-bacteria-in-water-using-Yolo-images\\Detect\\Detection-of-bacteria-in-water-using-Yolo-images\\temp\\images/train\\EMDS7-G028-010-0400_aug.png\n",
      "Augmented Image saved to: D:\\KULIAH\\SEMESTER 5\\RSBP\\Bacteri\\Detection-of-bacteria-in-water-using-Yolo-images\\Detect\\Detection-of-bacteria-in-water-using-Yolo-images\\temp\\images/train\\EMDS7-G020-011-0400_aug.png\n",
      "Augmented Image saved to: D:\\KULIAH\\SEMESTER 5\\RSBP\\Bacteri\\Detection-of-bacteria-in-water-using-Yolo-images\\Detect\\Detection-of-bacteria-in-water-using-Yolo-images\\temp\\images/train\\EMDS7-G018-056-0400_aug.png\n",
      "Augmented Image saved to: D:\\KULIAH\\SEMESTER 5\\RSBP\\Bacteri\\Detection-of-bacteria-in-water-using-Yolo-images\\Detect\\Detection-of-bacteria-in-water-using-Yolo-images\\temp\\images/train\\EMDS7-G021-006-0400_aug.png\n",
      "Augmented Image saved to: D:\\KULIAH\\SEMESTER 5\\RSBP\\Bacteri\\Detection-of-bacteria-in-water-using-Yolo-images\\Detect\\Detection-of-bacteria-in-water-using-Yolo-images\\temp\\images/train\\EMDS7-G003-261-0400_aug.png\n",
      "Augmented Image saved to: D:\\KULIAH\\SEMESTER 5\\RSBP\\Bacteri\\Detection-of-bacteria-in-water-using-Yolo-images\\Detect\\Detection-of-bacteria-in-water-using-Yolo-images\\temp\\images/train\\EMDS7-G003-013-0400_aug.png\n",
      "Augmented Image saved to: D:\\KULIAH\\SEMESTER 5\\RSBP\\Bacteri\\Detection-of-bacteria-in-water-using-Yolo-images\\Detect\\Detection-of-bacteria-in-water-using-Yolo-images\\temp\\images/train\\EMDS7-G023-016-0400_aug.png\n",
      "Augmented Image saved to: D:\\KULIAH\\SEMESTER 5\\RSBP\\Bacteri\\Detection-of-bacteria-in-water-using-Yolo-images\\Detect\\Detection-of-bacteria-in-water-using-Yolo-images\\temp\\images/train\\EMDS7-G029-015-0400_aug.png\n",
      "Augmented Image saved to: D:\\KULIAH\\SEMESTER 5\\RSBP\\Bacteri\\Detection-of-bacteria-in-water-using-Yolo-images\\Detect\\Detection-of-bacteria-in-water-using-Yolo-images\\temp\\images/train\\EMDS7-G009-008-0400_aug.png\n",
      "Augmented Image saved to: D:\\KULIAH\\SEMESTER 5\\RSBP\\Bacteri\\Detection-of-bacteria-in-water-using-Yolo-images\\Detect\\Detection-of-bacteria-in-water-using-Yolo-images\\temp\\images/train\\EMDS7-G001-025-0400_aug.png\n",
      "Augmented Image saved to: D:\\KULIAH\\SEMESTER 5\\RSBP\\Bacteri\\Detection-of-bacteria-in-water-using-Yolo-images\\Detect\\Detection-of-bacteria-in-water-using-Yolo-images\\temp\\images/train\\EMDS7-G022-243-0400_aug.png\n",
      "Augmented Image saved to: D:\\KULIAH\\SEMESTER 5\\RSBP\\Bacteri\\Detection-of-bacteria-in-water-using-Yolo-images\\Detect\\Detection-of-bacteria-in-water-using-Yolo-images\\temp\\images/train\\EMDS7-G011-002-0400_aug.png\n",
      "Augmented Image saved to: D:\\KULIAH\\SEMESTER 5\\RSBP\\Bacteri\\Detection-of-bacteria-in-water-using-Yolo-images\\Detect\\Detection-of-bacteria-in-water-using-Yolo-images\\temp\\images/train\\EMDS7-G036-030-0400_aug.png\n",
      "Augmented Image saved to: D:\\KULIAH\\SEMESTER 5\\RSBP\\Bacteri\\Detection-of-bacteria-in-water-using-Yolo-images\\Detect\\Detection-of-bacteria-in-water-using-Yolo-images\\temp\\images/train\\EMDS7-G012-072-0400_aug.png\n",
      "Augmented Image saved to: D:\\KULIAH\\SEMESTER 5\\RSBP\\Bacteri\\Detection-of-bacteria-in-water-using-Yolo-images\\Detect\\Detection-of-bacteria-in-water-using-Yolo-images\\temp\\images/train\\EMDS7-G035-058-0400_aug.png\n",
      "Augmented Image saved to: D:\\KULIAH\\SEMESTER 5\\RSBP\\Bacteri\\Detection-of-bacteria-in-water-using-Yolo-images\\Detect\\Detection-of-bacteria-in-water-using-Yolo-images\\temp\\images/train\\EMDS7-G022-109-0400_aug.png\n",
      "Augmented Image saved to: D:\\KULIAH\\SEMESTER 5\\RSBP\\Bacteri\\Detection-of-bacteria-in-water-using-Yolo-images\\Detect\\Detection-of-bacteria-in-water-using-Yolo-images\\temp\\images/train\\EMDS7-G004-058-0400_aug.png\n",
      "Augmented Image saved to: D:\\KULIAH\\SEMESTER 5\\RSBP\\Bacteri\\Detection-of-bacteria-in-water-using-Yolo-images\\Detect\\Detection-of-bacteria-in-water-using-Yolo-images\\temp\\images/train\\EMDS7-G005-051-0400_aug.png\n",
      "Augmented Image saved to: D:\\KULIAH\\SEMESTER 5\\RSBP\\Bacteri\\Detection-of-bacteria-in-water-using-Yolo-images\\Detect\\Detection-of-bacteria-in-water-using-Yolo-images\\temp\\images/train\\EMDS7-G022-193-0400_aug.png\n",
      "Augmented Image saved to: D:\\KULIAH\\SEMESTER 5\\RSBP\\Bacteri\\Detection-of-bacteria-in-water-using-Yolo-images\\Detect\\Detection-of-bacteria-in-water-using-Yolo-images\\temp\\images/train\\EMDS7-G003-026-0400_aug.png\n",
      "Augmented Image saved to: D:\\KULIAH\\SEMESTER 5\\RSBP\\Bacteri\\Detection-of-bacteria-in-water-using-Yolo-images\\Detect\\Detection-of-bacteria-in-water-using-Yolo-images\\temp\\images/train\\EMDS7-G004-028-0400_aug.png\n",
      "Augmented Image saved to: D:\\KULIAH\\SEMESTER 5\\RSBP\\Bacteri\\Detection-of-bacteria-in-water-using-Yolo-images\\Detect\\Detection-of-bacteria-in-water-using-Yolo-images\\temp\\images/train\\EMDS7-G003-107-0400_aug.png\n",
      "Augmented Image saved to: D:\\KULIAH\\SEMESTER 5\\RSBP\\Bacteri\\Detection-of-bacteria-in-water-using-Yolo-images\\Detect\\Detection-of-bacteria-in-water-using-Yolo-images\\temp\\images/train\\EMDS7-G032-019-0400_aug.png\n",
      "Augmented Image saved to: D:\\KULIAH\\SEMESTER 5\\RSBP\\Bacteri\\Detection-of-bacteria-in-water-using-Yolo-images\\Detect\\Detection-of-bacteria-in-water-using-Yolo-images\\temp\\images/train\\EMDS7-G003-180-0400_aug.png\n",
      "Augmented Image saved to: D:\\KULIAH\\SEMESTER 5\\RSBP\\Bacteri\\Detection-of-bacteria-in-water-using-Yolo-images\\Detect\\Detection-of-bacteria-in-water-using-Yolo-images\\temp\\images/train\\EMDS7-G014-060-0400_aug.png\n",
      "Augmented Image saved to: D:\\KULIAH\\SEMESTER 5\\RSBP\\Bacteri\\Detection-of-bacteria-in-water-using-Yolo-images\\Detect\\Detection-of-bacteria-in-water-using-Yolo-images\\temp\\images/train\\EMDS7-G023-007-0400_aug.png\n",
      "Augmented Image saved to: D:\\KULIAH\\SEMESTER 5\\RSBP\\Bacteri\\Detection-of-bacteria-in-water-using-Yolo-images\\Detect\\Detection-of-bacteria-in-water-using-Yolo-images\\temp\\images/train\\EMDS7-G017-013-0400_aug.png\n",
      "Augmented Image saved to: D:\\KULIAH\\SEMESTER 5\\RSBP\\Bacteri\\Detection-of-bacteria-in-water-using-Yolo-images\\Detect\\Detection-of-bacteria-in-water-using-Yolo-images\\temp\\images/train\\EMDS7-G004-085-0400_aug.png\n",
      "Augmented Image saved to: D:\\KULIAH\\SEMESTER 5\\RSBP\\Bacteri\\Detection-of-bacteria-in-water-using-Yolo-images\\Detect\\Detection-of-bacteria-in-water-using-Yolo-images\\temp\\images/train\\EMDS7-G004-074-0400_aug.png\n",
      "Augmented Image saved to: D:\\KULIAH\\SEMESTER 5\\RSBP\\Bacteri\\Detection-of-bacteria-in-water-using-Yolo-images\\Detect\\Detection-of-bacteria-in-water-using-Yolo-images\\temp\\images/train\\EMDS7-G003-095-0400_aug.png\n",
      "Augmented Image saved to: D:\\KULIAH\\SEMESTER 5\\RSBP\\Bacteri\\Detection-of-bacteria-in-water-using-Yolo-images\\Detect\\Detection-of-bacteria-in-water-using-Yolo-images\\temp\\images/train\\EMDS7-G027-018-0400_aug.png\n",
      "Augmented Image saved to: D:\\KULIAH\\SEMESTER 5\\RSBP\\Bacteri\\Detection-of-bacteria-in-water-using-Yolo-images\\Detect\\Detection-of-bacteria-in-water-using-Yolo-images\\temp\\images/train\\EMDS7-G025-042-0400_aug.png\n",
      "Augmented Image saved to: D:\\KULIAH\\SEMESTER 5\\RSBP\\Bacteri\\Detection-of-bacteria-in-water-using-Yolo-images\\Detect\\Detection-of-bacteria-in-water-using-Yolo-images\\temp\\images/train\\EMDS7-G003-029-0400_aug.png\n",
      "Augmented Image saved to: D:\\KULIAH\\SEMESTER 5\\RSBP\\Bacteri\\Detection-of-bacteria-in-water-using-Yolo-images\\Detect\\Detection-of-bacteria-in-water-using-Yolo-images\\temp\\images/train\\EMDS7-G003-093-0400_aug.png\n",
      "Augmented Image saved to: D:\\KULIAH\\SEMESTER 5\\RSBP\\Bacteri\\Detection-of-bacteria-in-water-using-Yolo-images\\Detect\\Detection-of-bacteria-in-water-using-Yolo-images\\temp\\images/train\\EMDS7-G017-006-0400_aug.png\n",
      "Augmented Image saved to: D:\\KULIAH\\SEMESTER 5\\RSBP\\Bacteri\\Detection-of-bacteria-in-water-using-Yolo-images\\Detect\\Detection-of-bacteria-in-water-using-Yolo-images\\temp\\images/train\\EMDS7-G008-016-0400_aug.png\n",
      "Augmented Image saved to: D:\\KULIAH\\SEMESTER 5\\RSBP\\Bacteri\\Detection-of-bacteria-in-water-using-Yolo-images\\Detect\\Detection-of-bacteria-in-water-using-Yolo-images\\temp\\images/train\\EMDS7-G022-125-0400_aug.png\n",
      "Augmented Image saved to: D:\\KULIAH\\SEMESTER 5\\RSBP\\Bacteri\\Detection-of-bacteria-in-water-using-Yolo-images\\Detect\\Detection-of-bacteria-in-water-using-Yolo-images\\temp\\images/train\\EMDS7-G032-062-0400_aug.png\n",
      "Augmented Image saved to: D:\\KULIAH\\SEMESTER 5\\RSBP\\Bacteri\\Detection-of-bacteria-in-water-using-Yolo-images\\Detect\\Detection-of-bacteria-in-water-using-Yolo-images\\temp\\images/train\\EMDS7-G008-049-0400_aug.png\n",
      "Augmented Image saved to: D:\\KULIAH\\SEMESTER 5\\RSBP\\Bacteri\\Detection-of-bacteria-in-water-using-Yolo-images\\Detect\\Detection-of-bacteria-in-water-using-Yolo-images\\temp\\images/train\\EMDS7-G017-027-0400_aug.png\n",
      "Augmented Image saved to: D:\\KULIAH\\SEMESTER 5\\RSBP\\Bacteri\\Detection-of-bacteria-in-water-using-Yolo-images\\Detect\\Detection-of-bacteria-in-water-using-Yolo-images\\temp\\images/train\\EMDS7-G018-078-0400_aug.png\n",
      "Augmented Image saved to: D:\\KULIAH\\SEMESTER 5\\RSBP\\Bacteri\\Detection-of-bacteria-in-water-using-Yolo-images\\Detect\\Detection-of-bacteria-in-water-using-Yolo-images\\temp\\images/train\\EMDS7-G017-025-0400_aug.png\n",
      "Augmented Image saved to: D:\\KULIAH\\SEMESTER 5\\RSBP\\Bacteri\\Detection-of-bacteria-in-water-using-Yolo-images\\Detect\\Detection-of-bacteria-in-water-using-Yolo-images\\temp\\images/train\\EMDS7-G003-156-0400_aug.png\n",
      "Augmented Image saved to: D:\\KULIAH\\SEMESTER 5\\RSBP\\Bacteri\\Detection-of-bacteria-in-water-using-Yolo-images\\Detect\\Detection-of-bacteria-in-water-using-Yolo-images\\temp\\images/train\\EMDS7-G022-073-0400_aug.png\n",
      "Augmented Image saved to: D:\\KULIAH\\SEMESTER 5\\RSBP\\Bacteri\\Detection-of-bacteria-in-water-using-Yolo-images\\Detect\\Detection-of-bacteria-in-water-using-Yolo-images\\temp\\images/train\\EMDS7-G004-068-0400_aug.png\n",
      "Augmented Image saved to: D:\\KULIAH\\SEMESTER 5\\RSBP\\Bacteri\\Detection-of-bacteria-in-water-using-Yolo-images\\Detect\\Detection-of-bacteria-in-water-using-Yolo-images\\temp\\images/train\\EMDS7-G004-065-0400_aug.png\n",
      "Augmented Image saved to: D:\\KULIAH\\SEMESTER 5\\RSBP\\Bacteri\\Detection-of-bacteria-in-water-using-Yolo-images\\Detect\\Detection-of-bacteria-in-water-using-Yolo-images\\temp\\images/train\\EMDS7-G003-247-0400_aug.png\n",
      "Augmented Image saved to: D:\\KULIAH\\SEMESTER 5\\RSBP\\Bacteri\\Detection-of-bacteria-in-water-using-Yolo-images\\Detect\\Detection-of-bacteria-in-water-using-Yolo-images\\temp\\images/train\\EMDS7-G009-061-0400_aug.png\n",
      "Augmented Image saved to: D:\\KULIAH\\SEMESTER 5\\RSBP\\Bacteri\\Detection-of-bacteria-in-water-using-Yolo-images\\Detect\\Detection-of-bacteria-in-water-using-Yolo-images\\temp\\images/train\\EMDS7-G001-021-0400_aug.png\n",
      "Augmented Image saved to: D:\\KULIAH\\SEMESTER 5\\RSBP\\Bacteri\\Detection-of-bacteria-in-water-using-Yolo-images\\Detect\\Detection-of-bacteria-in-water-using-Yolo-images\\temp\\images/train\\EMDS7-G031-015-0400_aug.png\n",
      "Augmented Image saved to: D:\\KULIAH\\SEMESTER 5\\RSBP\\Bacteri\\Detection-of-bacteria-in-water-using-Yolo-images\\Detect\\Detection-of-bacteria-in-water-using-Yolo-images\\temp\\images/train\\EMDS7-G003-272-0400_aug.png\n",
      "Augmented Image saved to: D:\\KULIAH\\SEMESTER 5\\RSBP\\Bacteri\\Detection-of-bacteria-in-water-using-Yolo-images\\Detect\\Detection-of-bacteria-in-water-using-Yolo-images\\temp\\images/train\\EMDS7-G022-080-0400_aug.png\n",
      "Augmented Image saved to: D:\\KULIAH\\SEMESTER 5\\RSBP\\Bacteri\\Detection-of-bacteria-in-water-using-Yolo-images\\Detect\\Detection-of-bacteria-in-water-using-Yolo-images\\temp\\images/train\\EMDS7-G038-012-0400_aug.png\n",
      "Augmented Image saved to: D:\\KULIAH\\SEMESTER 5\\RSBP\\Bacteri\\Detection-of-bacteria-in-water-using-Yolo-images\\Detect\\Detection-of-bacteria-in-water-using-Yolo-images\\temp\\images/train\\EMDS7-G018-010-0400_aug.png\n",
      "Augmented Image saved to: D:\\KULIAH\\SEMESTER 5\\RSBP\\Bacteri\\Detection-of-bacteria-in-water-using-Yolo-images\\Detect\\Detection-of-bacteria-in-water-using-Yolo-images\\temp\\images/train\\EMDS7-G004-075-0400_aug.png\n",
      "Augmented Image saved to: D:\\KULIAH\\SEMESTER 5\\RSBP\\Bacteri\\Detection-of-bacteria-in-water-using-Yolo-images\\Detect\\Detection-of-bacteria-in-water-using-Yolo-images\\temp\\images/train\\EMDS7-G019-031-0400_aug.png\n",
      "Augmented Image saved to: D:\\KULIAH\\SEMESTER 5\\RSBP\\Bacteri\\Detection-of-bacteria-in-water-using-Yolo-images\\Detect\\Detection-of-bacteria-in-water-using-Yolo-images\\temp\\images/train\\EMDS7-G039-046-0400_aug.png\n",
      "Augmented Image saved to: D:\\KULIAH\\SEMESTER 5\\RSBP\\Bacteri\\Detection-of-bacteria-in-water-using-Yolo-images\\Detect\\Detection-of-bacteria-in-water-using-Yolo-images\\temp\\images/train\\EMDS7-G023-041-0400_aug.png\n",
      "Augmented Image saved to: D:\\KULIAH\\SEMESTER 5\\RSBP\\Bacteri\\Detection-of-bacteria-in-water-using-Yolo-images\\Detect\\Detection-of-bacteria-in-water-using-Yolo-images\\temp\\images/train\\EMDS7-G018-081-0400_aug.png\n",
      "Augmented Image saved to: D:\\KULIAH\\SEMESTER 5\\RSBP\\Bacteri\\Detection-of-bacteria-in-water-using-Yolo-images\\Detect\\Detection-of-bacteria-in-water-using-Yolo-images\\temp\\images/train\\EMDS7-G018-017-0400_aug.png\n",
      "Augmented Image saved to: D:\\KULIAH\\SEMESTER 5\\RSBP\\Bacteri\\Detection-of-bacteria-in-water-using-Yolo-images\\Detect\\Detection-of-bacteria-in-water-using-Yolo-images\\temp\\images/train\\EMDS7-G005-015-0400_aug.png\n",
      "Augmented Image saved to: D:\\KULIAH\\SEMESTER 5\\RSBP\\Bacteri\\Detection-of-bacteria-in-water-using-Yolo-images\\Detect\\Detection-of-bacteria-in-water-using-Yolo-images\\temp\\images/train\\EMDS7-G017-060-0400_aug.png\n",
      "Augmented Image saved to: D:\\KULIAH\\SEMESTER 5\\RSBP\\Bacteri\\Detection-of-bacteria-in-water-using-Yolo-images\\Detect\\Detection-of-bacteria-in-water-using-Yolo-images\\temp\\images/train\\EMDS7-G003-233-0400_aug.png\n",
      "Augmented Image saved to: D:\\KULIAH\\SEMESTER 5\\RSBP\\Bacteri\\Detection-of-bacteria-in-water-using-Yolo-images\\Detect\\Detection-of-bacteria-in-water-using-Yolo-images\\temp\\images/train\\EMDS7-G004-008-0400_aug.png\n",
      "Augmented Image saved to: D:\\KULIAH\\SEMESTER 5\\RSBP\\Bacteri\\Detection-of-bacteria-in-water-using-Yolo-images\\Detect\\Detection-of-bacteria-in-water-using-Yolo-images\\temp\\images/train\\EMDS7-G022-247-0400_aug.png\n",
      "Augmented Image saved to: D:\\KULIAH\\SEMESTER 5\\RSBP\\Bacteri\\Detection-of-bacteria-in-water-using-Yolo-images\\Detect\\Detection-of-bacteria-in-water-using-Yolo-images\\temp\\images/train\\EMDS7-G019-033-0400_aug.png\n",
      "Augmented Image saved to: D:\\KULIAH\\SEMESTER 5\\RSBP\\Bacteri\\Detection-of-bacteria-in-water-using-Yolo-images\\Detect\\Detection-of-bacteria-in-water-using-Yolo-images\\temp\\images/train\\EMDS7-G032-028-0400_aug.png\n",
      "Augmented Image saved to: D:\\KULIAH\\SEMESTER 5\\RSBP\\Bacteri\\Detection-of-bacteria-in-water-using-Yolo-images\\Detect\\Detection-of-bacteria-in-water-using-Yolo-images\\temp\\images/train\\EMDS7-G028-045-0400_aug.png\n",
      "Augmented Image saved to: D:\\KULIAH\\SEMESTER 5\\RSBP\\Bacteri\\Detection-of-bacteria-in-water-using-Yolo-images\\Detect\\Detection-of-bacteria-in-water-using-Yolo-images\\temp\\images/train\\EMDS7-G035-021-0400_aug.png\n",
      "Augmented Image saved to: D:\\KULIAH\\SEMESTER 5\\RSBP\\Bacteri\\Detection-of-bacteria-in-water-using-Yolo-images\\Detect\\Detection-of-bacteria-in-water-using-Yolo-images\\temp\\images/train\\EMDS7-G039-005-0400_aug.png\n",
      "Augmented Image saved to: D:\\KULIAH\\SEMESTER 5\\RSBP\\Bacteri\\Detection-of-bacteria-in-water-using-Yolo-images\\Detect\\Detection-of-bacteria-in-water-using-Yolo-images\\temp\\images/train\\EMDS7-G018-065-0400_aug.png\n",
      "Augmented Image saved to: D:\\KULIAH\\SEMESTER 5\\RSBP\\Bacteri\\Detection-of-bacteria-in-water-using-Yolo-images\\Detect\\Detection-of-bacteria-in-water-using-Yolo-images\\temp\\images/train\\EMDS7-G036-015-0400_aug.png\n",
      "Augmented Image saved to: D:\\KULIAH\\SEMESTER 5\\RSBP\\Bacteri\\Detection-of-bacteria-in-water-using-Yolo-images\\Detect\\Detection-of-bacteria-in-water-using-Yolo-images\\temp\\images/train\\EMDS7-G019-059-0400_aug.png\n",
      "Augmented Image saved to: D:\\KULIAH\\SEMESTER 5\\RSBP\\Bacteri\\Detection-of-bacteria-in-water-using-Yolo-images\\Detect\\Detection-of-bacteria-in-water-using-Yolo-images\\temp\\images/train\\EMDS7-G022-076-0400_aug.png\n",
      "Augmented Image saved to: D:\\KULIAH\\SEMESTER 5\\RSBP\\Bacteri\\Detection-of-bacteria-in-water-using-Yolo-images\\Detect\\Detection-of-bacteria-in-water-using-Yolo-images\\temp\\images/train\\EMDS7-G005-033-0400_aug.png\n",
      "Augmented Image saved to: D:\\KULIAH\\SEMESTER 5\\RSBP\\Bacteri\\Detection-of-bacteria-in-water-using-Yolo-images\\Detect\\Detection-of-bacteria-in-water-using-Yolo-images\\temp\\images/train\\EMDS7-G018-072-0400_aug.png\n",
      "Augmented Image saved to: D:\\KULIAH\\SEMESTER 5\\RSBP\\Bacteri\\Detection-of-bacteria-in-water-using-Yolo-images\\Detect\\Detection-of-bacteria-in-water-using-Yolo-images\\temp\\images/train\\EMDS7-G016-022-0400_aug.png\n",
      "Augmented Image saved to: D:\\KULIAH\\SEMESTER 5\\RSBP\\Bacteri\\Detection-of-bacteria-in-water-using-Yolo-images\\Detect\\Detection-of-bacteria-in-water-using-Yolo-images\\temp\\images/train\\EMDS7-G008-035-0400_aug.png\n",
      "Augmented Image saved to: D:\\KULIAH\\SEMESTER 5\\RSBP\\Bacteri\\Detection-of-bacteria-in-water-using-Yolo-images\\Detect\\Detection-of-bacteria-in-water-using-Yolo-images\\temp\\images/train\\EMDS7-G028-002-0400_aug.png\n",
      "Augmented Image saved to: D:\\KULIAH\\SEMESTER 5\\RSBP\\Bacteri\\Detection-of-bacteria-in-water-using-Yolo-images\\Detect\\Detection-of-bacteria-in-water-using-Yolo-images\\temp\\images/train\\EMDS7-G039-044-0400_aug.png\n",
      "Augmented Image saved to: D:\\KULIAH\\SEMESTER 5\\RSBP\\Bacteri\\Detection-of-bacteria-in-water-using-Yolo-images\\Detect\\Detection-of-bacteria-in-water-using-Yolo-images\\temp\\images/train\\EMDS7-G019-035-0400_aug.png\n",
      "Augmented Image saved to: D:\\KULIAH\\SEMESTER 5\\RSBP\\Bacteri\\Detection-of-bacteria-in-water-using-Yolo-images\\Detect\\Detection-of-bacteria-in-water-using-Yolo-images\\temp\\images/train\\EMDS7-G022-215-0400_aug.png\n",
      "Augmented Image saved to: D:\\KULIAH\\SEMESTER 5\\RSBP\\Bacteri\\Detection-of-bacteria-in-water-using-Yolo-images\\Detect\\Detection-of-bacteria-in-water-using-Yolo-images\\temp\\images/train\\EMDS7-G022-206-0400_aug.png\n",
      "Augmented Image saved to: D:\\KULIAH\\SEMESTER 5\\RSBP\\Bacteri\\Detection-of-bacteria-in-water-using-Yolo-images\\Detect\\Detection-of-bacteria-in-water-using-Yolo-images\\temp\\images/train\\EMDS7-G022-040-0400_aug.png\n",
      "Augmented Image saved to: D:\\KULIAH\\SEMESTER 5\\RSBP\\Bacteri\\Detection-of-bacteria-in-water-using-Yolo-images\\Detect\\Detection-of-bacteria-in-water-using-Yolo-images\\temp\\images/train\\EMDS7-G019-047-0400_aug.png\n",
      "Augmented Image saved to: D:\\KULIAH\\SEMESTER 5\\RSBP\\Bacteri\\Detection-of-bacteria-in-water-using-Yolo-images\\Detect\\Detection-of-bacteria-in-water-using-Yolo-images\\temp\\images/train\\EMDS7-G009-066-0400_aug.png\n",
      "Augmented Image saved to: D:\\KULIAH\\SEMESTER 5\\RSBP\\Bacteri\\Detection-of-bacteria-in-water-using-Yolo-images\\Detect\\Detection-of-bacteria-in-water-using-Yolo-images\\temp\\images/train\\EMDS7-G035-011-0400_aug.png\n",
      "Augmented Image saved to: D:\\KULIAH\\SEMESTER 5\\RSBP\\Bacteri\\Detection-of-bacteria-in-water-using-Yolo-images\\Detect\\Detection-of-bacteria-in-water-using-Yolo-images\\temp\\images/train\\EMDS7-G036-057-0400_aug.png\n",
      "Augmented Image saved to: D:\\KULIAH\\SEMESTER 5\\RSBP\\Bacteri\\Detection-of-bacteria-in-water-using-Yolo-images\\Detect\\Detection-of-bacteria-in-water-using-Yolo-images\\temp\\images/train\\EMDS7-G018-037-0400_aug.png\n",
      "Augmented Image saved to: D:\\KULIAH\\SEMESTER 5\\RSBP\\Bacteri\\Detection-of-bacteria-in-water-using-Yolo-images\\Detect\\Detection-of-bacteria-in-water-using-Yolo-images\\temp\\images/train\\EMDS7-G039-020-0400_aug.png\n",
      "Augmented Image saved to: D:\\KULIAH\\SEMESTER 5\\RSBP\\Bacteri\\Detection-of-bacteria-in-water-using-Yolo-images\\Detect\\Detection-of-bacteria-in-water-using-Yolo-images\\temp\\images/train\\EMDS7-G030-004-0400_aug.png\n",
      "Augmented Image saved to: D:\\KULIAH\\SEMESTER 5\\RSBP\\Bacteri\\Detection-of-bacteria-in-water-using-Yolo-images\\Detect\\Detection-of-bacteria-in-water-using-Yolo-images\\temp\\images/train\\EMDS7-G022-267-0400_aug.png\n",
      "Augmented Image saved to: D:\\KULIAH\\SEMESTER 5\\RSBP\\Bacteri\\Detection-of-bacteria-in-water-using-Yolo-images\\Detect\\Detection-of-bacteria-in-water-using-Yolo-images\\temp\\images/train\\EMDS7-G003-288-0400_aug.png\n",
      "Augmented Image saved to: D:\\KULIAH\\SEMESTER 5\\RSBP\\Bacteri\\Detection-of-bacteria-in-water-using-Yolo-images\\Detect\\Detection-of-bacteria-in-water-using-Yolo-images\\temp\\images/train\\EMDS7-G032-045-0400_aug.png\n",
      "Augmented Image saved to: D:\\KULIAH\\SEMESTER 5\\RSBP\\Bacteri\\Detection-of-bacteria-in-water-using-Yolo-images\\Detect\\Detection-of-bacteria-in-water-using-Yolo-images\\temp\\images/train\\EMDS7-G010-002-0400_aug.png\n",
      "Augmented Image saved to: D:\\KULIAH\\SEMESTER 5\\RSBP\\Bacteri\\Detection-of-bacteria-in-water-using-Yolo-images\\Detect\\Detection-of-bacteria-in-water-using-Yolo-images\\temp\\images/train\\EMDS7-G012-038-0400_aug.png\n",
      "Augmented Image saved to: D:\\KULIAH\\SEMESTER 5\\RSBP\\Bacteri\\Detection-of-bacteria-in-water-using-Yolo-images\\Detect\\Detection-of-bacteria-in-water-using-Yolo-images\\temp\\images/train\\EMDS7-G040-012-0400_aug.png\n",
      "Augmented Image saved to: D:\\KULIAH\\SEMESTER 5\\RSBP\\Bacteri\\Detection-of-bacteria-in-water-using-Yolo-images\\Detect\\Detection-of-bacteria-in-water-using-Yolo-images\\temp\\images/train\\EMDS7-G018-020-0400_aug.png\n",
      "Augmented Image saved to: D:\\KULIAH\\SEMESTER 5\\RSBP\\Bacteri\\Detection-of-bacteria-in-water-using-Yolo-images\\Detect\\Detection-of-bacteria-in-water-using-Yolo-images\\temp\\images/train\\EMDS7-G003-199-0400_aug.png\n",
      "Augmented Image saved to: D:\\KULIAH\\SEMESTER 5\\RSBP\\Bacteri\\Detection-of-bacteria-in-water-using-Yolo-images\\Detect\\Detection-of-bacteria-in-water-using-Yolo-images\\temp\\images/train\\EMDS7-G022-014-0400_aug.png\n",
      "Augmented Image saved to: D:\\KULIAH\\SEMESTER 5\\RSBP\\Bacteri\\Detection-of-bacteria-in-water-using-Yolo-images\\Detect\\Detection-of-bacteria-in-water-using-Yolo-images\\temp\\images/train\\EMDS7-G038-030-0400_aug.png\n",
      "Augmented Image saved to: D:\\KULIAH\\SEMESTER 5\\RSBP\\Bacteri\\Detection-of-bacteria-in-water-using-Yolo-images\\Detect\\Detection-of-bacteria-in-water-using-Yolo-images\\temp\\images/train\\EMDS7-G035-052-0400_aug.png\n",
      "Augmented Image saved to: D:\\KULIAH\\SEMESTER 5\\RSBP\\Bacteri\\Detection-of-bacteria-in-water-using-Yolo-images\\Detect\\Detection-of-bacteria-in-water-using-Yolo-images\\temp\\images/train\\EMDS7-G028-013-0400_aug.png\n",
      "Augmented Image saved to: D:\\KULIAH\\SEMESTER 5\\RSBP\\Bacteri\\Detection-of-bacteria-in-water-using-Yolo-images\\Detect\\Detection-of-bacteria-in-water-using-Yolo-images\\temp\\images/train\\EMDS7-G028-025-0400_aug.png\n",
      "Augmented Image saved to: D:\\KULIAH\\SEMESTER 5\\RSBP\\Bacteri\\Detection-of-bacteria-in-water-using-Yolo-images\\Detect\\Detection-of-bacteria-in-water-using-Yolo-images\\temp\\images/train\\EMDS7-G022-002-0400_aug.png\n",
      "Augmented Image saved to: D:\\KULIAH\\SEMESTER 5\\RSBP\\Bacteri\\Detection-of-bacteria-in-water-using-Yolo-images\\Detect\\Detection-of-bacteria-in-water-using-Yolo-images\\temp\\images/train\\EMDS7-G003-121-0400_aug.png\n",
      "Augmented Image saved to: D:\\KULIAH\\SEMESTER 5\\RSBP\\Bacteri\\Detection-of-bacteria-in-water-using-Yolo-images\\Detect\\Detection-of-bacteria-in-water-using-Yolo-images\\temp\\images/train\\EMDS7-G028-015-0400_aug.png\n",
      "Augmented Image saved to: D:\\KULIAH\\SEMESTER 5\\RSBP\\Bacteri\\Detection-of-bacteria-in-water-using-Yolo-images\\Detect\\Detection-of-bacteria-in-water-using-Yolo-images\\temp\\images/train\\EMDS7-G036-034-0400_aug.png\n",
      "Augmented Image saved to: D:\\KULIAH\\SEMESTER 5\\RSBP\\Bacteri\\Detection-of-bacteria-in-water-using-Yolo-images\\Detect\\Detection-of-bacteria-in-water-using-Yolo-images\\temp\\images/train\\EMDS7-G003-003-0400_aug.png\n",
      "Augmented Image saved to: D:\\KULIAH\\SEMESTER 5\\RSBP\\Bacteri\\Detection-of-bacteria-in-water-using-Yolo-images\\Detect\\Detection-of-bacteria-in-water-using-Yolo-images\\temp\\images/train\\EMDS7-G009-012-0400_aug.png\n",
      "Augmented Image saved to: D:\\KULIAH\\SEMESTER 5\\RSBP\\Bacteri\\Detection-of-bacteria-in-water-using-Yolo-images\\Detect\\Detection-of-bacteria-in-water-using-Yolo-images\\temp\\images/train\\EMDS7-G003-061-0400_aug.png\n",
      "Augmented Image saved to: D:\\KULIAH\\SEMESTER 5\\RSBP\\Bacteri\\Detection-of-bacteria-in-water-using-Yolo-images\\Detect\\Detection-of-bacteria-in-water-using-Yolo-images\\temp\\images/train\\EMDS7-G024-017-0400_aug.png\n",
      "Augmented Image saved to: D:\\KULIAH\\SEMESTER 5\\RSBP\\Bacteri\\Detection-of-bacteria-in-water-using-Yolo-images\\Detect\\Detection-of-bacteria-in-water-using-Yolo-images\\temp\\images/train\\EMDS7-G018-013-0400_aug.png\n",
      "Augmented Image saved to: D:\\KULIAH\\SEMESTER 5\\RSBP\\Bacteri\\Detection-of-bacteria-in-water-using-Yolo-images\\Detect\\Detection-of-bacteria-in-water-using-Yolo-images\\temp\\images/train\\EMDS7-G011-014-0400_aug.png\n",
      "Augmented Image saved to: D:\\KULIAH\\SEMESTER 5\\RSBP\\Bacteri\\Detection-of-bacteria-in-water-using-Yolo-images\\Detect\\Detection-of-bacteria-in-water-using-Yolo-images\\temp\\images/train\\EMDS7-G003-219-0400_aug.png\n",
      "Augmented Image saved to: D:\\KULIAH\\SEMESTER 5\\RSBP\\Bacteri\\Detection-of-bacteria-in-water-using-Yolo-images\\Detect\\Detection-of-bacteria-in-water-using-Yolo-images\\temp\\images/train\\EMDS7-G014-092-0400_aug.png\n",
      "Augmented Image saved to: D:\\KULIAH\\SEMESTER 5\\RSBP\\Bacteri\\Detection-of-bacteria-in-water-using-Yolo-images\\Detect\\Detection-of-bacteria-in-water-using-Yolo-images\\temp\\images/train\\EMDS7-G011-058-0400_aug.png\n",
      "Augmented Image saved to: D:\\KULIAH\\SEMESTER 5\\RSBP\\Bacteri\\Detection-of-bacteria-in-water-using-Yolo-images\\Detect\\Detection-of-bacteria-in-water-using-Yolo-images\\temp\\images/train\\EMDS7-G038-044-0400_aug.png\n",
      "Augmented Image saved to: D:\\KULIAH\\SEMESTER 5\\RSBP\\Bacteri\\Detection-of-bacteria-in-water-using-Yolo-images\\Detect\\Detection-of-bacteria-in-water-using-Yolo-images\\temp\\images/train\\EMDS7-G014-072-0400_aug.png\n",
      "Augmented Image saved to: D:\\KULIAH\\SEMESTER 5\\RSBP\\Bacteri\\Detection-of-bacteria-in-water-using-Yolo-images\\Detect\\Detection-of-bacteria-in-water-using-Yolo-images\\temp\\images/train\\EMDS7-G032-065-0400_aug.png\n",
      "Augmented Image saved to: D:\\KULIAH\\SEMESTER 5\\RSBP\\Bacteri\\Detection-of-bacteria-in-water-using-Yolo-images\\Detect\\Detection-of-bacteria-in-water-using-Yolo-images\\temp\\images/train\\EMDS7-G036-063-0400_aug.png\n",
      "Augmented Image saved to: D:\\KULIAH\\SEMESTER 5\\RSBP\\Bacteri\\Detection-of-bacteria-in-water-using-Yolo-images\\Detect\\Detection-of-bacteria-in-water-using-Yolo-images\\temp\\images/train\\EMDS7-G001-036-0400_aug.png\n",
      "Augmented Image saved to: D:\\KULIAH\\SEMESTER 5\\RSBP\\Bacteri\\Detection-of-bacteria-in-water-using-Yolo-images\\Detect\\Detection-of-bacteria-in-water-using-Yolo-images\\temp\\images/train\\EMDS7-G009-030-0400_aug.png\n",
      "Augmented Image saved to: D:\\KULIAH\\SEMESTER 5\\RSBP\\Bacteri\\Detection-of-bacteria-in-water-using-Yolo-images\\Detect\\Detection-of-bacteria-in-water-using-Yolo-images\\temp\\images/train\\EMDS7-G022-152-0400_aug.png\n",
      "Augmented Image saved to: D:\\KULIAH\\SEMESTER 5\\RSBP\\Bacteri\\Detection-of-bacteria-in-water-using-Yolo-images\\Detect\\Detection-of-bacteria-in-water-using-Yolo-images\\temp\\images/train\\EMDS7-G005-031-0400_aug.png\n",
      "Augmented Image saved to: D:\\KULIAH\\SEMESTER 5\\RSBP\\Bacteri\\Detection-of-bacteria-in-water-using-Yolo-images\\Detect\\Detection-of-bacteria-in-water-using-Yolo-images\\temp\\images/train\\EMDS7-G030-038-0400_aug.png\n",
      "Augmented Image saved to: D:\\KULIAH\\SEMESTER 5\\RSBP\\Bacteri\\Detection-of-bacteria-in-water-using-Yolo-images\\Detect\\Detection-of-bacteria-in-water-using-Yolo-images\\temp\\images/train\\EMDS7-G011-044-0400_aug.png\n",
      "Augmented Image saved to: D:\\KULIAH\\SEMESTER 5\\RSBP\\Bacteri\\Detection-of-bacteria-in-water-using-Yolo-images\\Detect\\Detection-of-bacteria-in-water-using-Yolo-images\\temp\\images/train\\EMDS7-G022-112-0400_aug.png\n",
      "Augmented Image saved to: D:\\KULIAH\\SEMESTER 5\\RSBP\\Bacteri\\Detection-of-bacteria-in-water-using-Yolo-images\\Detect\\Detection-of-bacteria-in-water-using-Yolo-images\\temp\\images/train\\EMDS7-G017-056-0400_aug.png\n",
      "Augmented Image saved to: D:\\KULIAH\\SEMESTER 5\\RSBP\\Bacteri\\Detection-of-bacteria-in-water-using-Yolo-images\\Detect\\Detection-of-bacteria-in-water-using-Yolo-images\\temp\\images/train\\EMDS7-G016-009-0400_aug.png\n",
      "Augmented Image saved to: D:\\KULIAH\\SEMESTER 5\\RSBP\\Bacteri\\Detection-of-bacteria-in-water-using-Yolo-images\\Detect\\Detection-of-bacteria-in-water-using-Yolo-images\\temp\\images/train\\EMDS7-G003-207-0400_aug.png\n",
      "Augmented Image saved to: D:\\KULIAH\\SEMESTER 5\\RSBP\\Bacteri\\Detection-of-bacteria-in-water-using-Yolo-images\\Detect\\Detection-of-bacteria-in-water-using-Yolo-images\\temp\\images/train\\EMDS7-G022-034-0400_aug.png\n",
      "Augmented Image saved to: D:\\KULIAH\\SEMESTER 5\\RSBP\\Bacteri\\Detection-of-bacteria-in-water-using-Yolo-images\\Detect\\Detection-of-bacteria-in-water-using-Yolo-images\\temp\\images/train\\EMDS7-G003-294-0400_aug.png\n",
      "Augmented Image saved to: D:\\KULIAH\\SEMESTER 5\\RSBP\\Bacteri\\Detection-of-bacteria-in-water-using-Yolo-images\\Detect\\Detection-of-bacteria-in-water-using-Yolo-images\\temp\\images/train\\EMDS7-G005-047-0400_aug.png\n",
      "Augmented Image saved to: D:\\KULIAH\\SEMESTER 5\\RSBP\\Bacteri\\Detection-of-bacteria-in-water-using-Yolo-images\\Detect\\Detection-of-bacteria-in-water-using-Yolo-images\\temp\\images/train\\EMDS7-G032-012-0400_aug.png\n",
      "Augmented Image saved to: D:\\KULIAH\\SEMESTER 5\\RSBP\\Bacteri\\Detection-of-bacteria-in-water-using-Yolo-images\\Detect\\Detection-of-bacteria-in-water-using-Yolo-images\\temp\\images/train\\EMDS7-G031-009-0400_aug.png\n",
      "Augmented Image saved to: D:\\KULIAH\\SEMESTER 5\\RSBP\\Bacteri\\Detection-of-bacteria-in-water-using-Yolo-images\\Detect\\Detection-of-bacteria-in-water-using-Yolo-images\\temp\\images/train\\EMDS7-G019-039-0400_aug.png\n",
      "Augmented Image saved to: D:\\KULIAH\\SEMESTER 5\\RSBP\\Bacteri\\Detection-of-bacteria-in-water-using-Yolo-images\\Detect\\Detection-of-bacteria-in-water-using-Yolo-images\\temp\\images/train\\EMDS7-G032-035-0400_aug.png\n",
      "Augmented Image saved to: D:\\KULIAH\\SEMESTER 5\\RSBP\\Bacteri\\Detection-of-bacteria-in-water-using-Yolo-images\\Detect\\Detection-of-bacteria-in-water-using-Yolo-images\\temp\\images/train\\EMDS7-G028-030-0400_aug.png\n",
      "Augmented Image saved to: D:\\KULIAH\\SEMESTER 5\\RSBP\\Bacteri\\Detection-of-bacteria-in-water-using-Yolo-images\\Detect\\Detection-of-bacteria-in-water-using-Yolo-images\\temp\\images/train\\EMDS7-G017-019-0400_aug.png\n",
      "Augmented Image saved to: D:\\KULIAH\\SEMESTER 5\\RSBP\\Bacteri\\Detection-of-bacteria-in-water-using-Yolo-images\\Detect\\Detection-of-bacteria-in-water-using-Yolo-images\\temp\\images/train\\EMDS7-G014-005-0400_aug.png\n",
      "Augmented Image saved to: D:\\KULIAH\\SEMESTER 5\\RSBP\\Bacteri\\Detection-of-bacteria-in-water-using-Yolo-images\\Detect\\Detection-of-bacteria-in-water-using-Yolo-images\\temp\\images/train\\EMDS7-G036-049-0400_aug.png\n",
      "Augmented Image saved to: D:\\KULIAH\\SEMESTER 5\\RSBP\\Bacteri\\Detection-of-bacteria-in-water-using-Yolo-images\\Detect\\Detection-of-bacteria-in-water-using-Yolo-images\\temp\\images/train\\EMDS7-G035-047-0400_aug.png\n",
      "Augmented Image saved to: D:\\KULIAH\\SEMESTER 5\\RSBP\\Bacteri\\Detection-of-bacteria-in-water-using-Yolo-images\\Detect\\Detection-of-bacteria-in-water-using-Yolo-images\\temp\\images/train\\EMDS7-G038-061-0400_aug.png\n",
      "Augmented Image saved to: D:\\KULIAH\\SEMESTER 5\\RSBP\\Bacteri\\Detection-of-bacteria-in-water-using-Yolo-images\\Detect\\Detection-of-bacteria-in-water-using-Yolo-images\\temp\\images/train\\EMDS7-G029-018-0400_aug.png\n",
      "Augmented Image saved to: D:\\KULIAH\\SEMESTER 5\\RSBP\\Bacteri\\Detection-of-bacteria-in-water-using-Yolo-images\\Detect\\Detection-of-bacteria-in-water-using-Yolo-images\\temp\\images/train\\EMDS7-G004-029-0400_aug.png\n",
      "Augmented Image saved to: D:\\KULIAH\\SEMESTER 5\\RSBP\\Bacteri\\Detection-of-bacteria-in-water-using-Yolo-images\\Detect\\Detection-of-bacteria-in-water-using-Yolo-images\\temp\\images/train\\EMDS7-G009-045-0400_aug.png\n",
      "Augmented Image saved to: D:\\KULIAH\\SEMESTER 5\\RSBP\\Bacteri\\Detection-of-bacteria-in-water-using-Yolo-images\\Detect\\Detection-of-bacteria-in-water-using-Yolo-images\\temp\\images/train\\EMDS7-G022-067-0400_aug.png\n",
      "Augmented Image saved to: D:\\KULIAH\\SEMESTER 5\\RSBP\\Bacteri\\Detection-of-bacteria-in-water-using-Yolo-images\\Detect\\Detection-of-bacteria-in-water-using-Yolo-images\\temp\\images/train\\EMDS7-G005-040-0400_aug.png\n",
      "Augmented Image saved to: D:\\KULIAH\\SEMESTER 5\\RSBP\\Bacteri\\Detection-of-bacteria-in-water-using-Yolo-images\\Detect\\Detection-of-bacteria-in-water-using-Yolo-images\\temp\\images/train\\EMDS7-G003-059-0400_aug.png\n",
      "Augmented Image saved to: D:\\KULIAH\\SEMESTER 5\\RSBP\\Bacteri\\Detection-of-bacteria-in-water-using-Yolo-images\\Detect\\Detection-of-bacteria-in-water-using-Yolo-images\\temp\\images/train\\EMDS7-G003-117-0400_aug.png\n",
      "Augmented Image saved to: D:\\KULIAH\\SEMESTER 5\\RSBP\\Bacteri\\Detection-of-bacteria-in-water-using-Yolo-images\\Detect\\Detection-of-bacteria-in-water-using-Yolo-images\\temp\\images/train\\EMDS7-G025-006-0400_aug.png\n",
      "Augmented Image saved to: D:\\KULIAH\\SEMESTER 5\\RSBP\\Bacteri\\Detection-of-bacteria-in-water-using-Yolo-images\\Detect\\Detection-of-bacteria-in-water-using-Yolo-images\\temp\\images/train\\EMDS7-G027-013-0400_aug.png\n",
      "Augmented Image saved to: D:\\KULIAH\\SEMESTER 5\\RSBP\\Bacteri\\Detection-of-bacteria-in-water-using-Yolo-images\\Detect\\Detection-of-bacteria-in-water-using-Yolo-images\\temp\\images/train\\EMDS7-G003-307-0400_aug.png\n",
      "Augmented Image saved to: D:\\KULIAH\\SEMESTER 5\\RSBP\\Bacteri\\Detection-of-bacteria-in-water-using-Yolo-images\\Detect\\Detection-of-bacteria-in-water-using-Yolo-images\\temp\\images/train\\EMDS7-G018-061-0400_aug.png\n",
      "Augmented Image saved to: D:\\KULIAH\\SEMESTER 5\\RSBP\\Bacteri\\Detection-of-bacteria-in-water-using-Yolo-images\\Detect\\Detection-of-bacteria-in-water-using-Yolo-images\\temp\\images/train\\EMDS7-G019-057-0400_aug.png\n",
      "Augmented Image saved to: D:\\KULIAH\\SEMESTER 5\\RSBP\\Bacteri\\Detection-of-bacteria-in-water-using-Yolo-images\\Detect\\Detection-of-bacteria-in-water-using-Yolo-images\\temp\\images/train\\EMDS7-G030-028-0400_aug.png\n",
      "Augmented Image saved to: D:\\KULIAH\\SEMESTER 5\\RSBP\\Bacteri\\Detection-of-bacteria-in-water-using-Yolo-images\\Detect\\Detection-of-bacteria-in-water-using-Yolo-images\\temp\\images/train\\EMDS7-G022-253-0400_aug.png\n",
      "Augmented Image saved to: D:\\KULIAH\\SEMESTER 5\\RSBP\\Bacteri\\Detection-of-bacteria-in-water-using-Yolo-images\\Detect\\Detection-of-bacteria-in-water-using-Yolo-images\\temp\\images/train\\EMDS7-G036-061-0400_aug.png\n",
      "Augmented Image saved to: D:\\KULIAH\\SEMESTER 5\\RSBP\\Bacteri\\Detection-of-bacteria-in-water-using-Yolo-images\\Detect\\Detection-of-bacteria-in-water-using-Yolo-images\\temp\\images/train\\EMDS7-G030-021-0400_aug.png\n",
      "Augmented Image saved to: D:\\KULIAH\\SEMESTER 5\\RSBP\\Bacteri\\Detection-of-bacteria-in-water-using-Yolo-images\\Detect\\Detection-of-bacteria-in-water-using-Yolo-images\\temp\\images/train\\EMDS7-G012-012-0400_aug.png\n",
      "Augmented Image saved to: D:\\KULIAH\\SEMESTER 5\\RSBP\\Bacteri\\Detection-of-bacteria-in-water-using-Yolo-images\\Detect\\Detection-of-bacteria-in-water-using-Yolo-images\\temp\\images/train\\EMDS7-G008-019-0400_aug.png\n",
      "Augmented Image saved to: D:\\KULIAH\\SEMESTER 5\\RSBP\\Bacteri\\Detection-of-bacteria-in-water-using-Yolo-images\\Detect\\Detection-of-bacteria-in-water-using-Yolo-images\\temp\\images/train\\EMDS7-G017-069-0400_aug.png\n",
      "Augmented Image saved to: D:\\KULIAH\\SEMESTER 5\\RSBP\\Bacteri\\Detection-of-bacteria-in-water-using-Yolo-images\\Detect\\Detection-of-bacteria-in-water-using-Yolo-images\\temp\\images/train\\EMDS7-G030-020-0400_aug.png\n",
      "Augmented Image saved to: D:\\KULIAH\\SEMESTER 5\\RSBP\\Bacteri\\Detection-of-bacteria-in-water-using-Yolo-images\\Detect\\Detection-of-bacteria-in-water-using-Yolo-images\\temp\\images/train\\EMDS7-G025-001-0400_aug.png\n",
      "Augmented Image saved to: D:\\KULIAH\\SEMESTER 5\\RSBP\\Bacteri\\Detection-of-bacteria-in-water-using-Yolo-images\\Detect\\Detection-of-bacteria-in-water-using-Yolo-images\\temp\\images/train\\EMDS7-G022-151-0400_aug.png\n",
      "Augmented Image saved to: D:\\KULIAH\\SEMESTER 5\\RSBP\\Bacteri\\Detection-of-bacteria-in-water-using-Yolo-images\\Detect\\Detection-of-bacteria-in-water-using-Yolo-images\\temp\\images/train\\EMDS7-G003-033-0400_aug.png\n",
      "Augmented Image saved to: D:\\KULIAH\\SEMESTER 5\\RSBP\\Bacteri\\Detection-of-bacteria-in-water-using-Yolo-images\\Detect\\Detection-of-bacteria-in-water-using-Yolo-images\\temp\\images/train\\EMDS7-G018-075-0400_aug.png\n",
      "Augmented Image saved to: D:\\KULIAH\\SEMESTER 5\\RSBP\\Bacteri\\Detection-of-bacteria-in-water-using-Yolo-images\\Detect\\Detection-of-bacteria-in-water-using-Yolo-images\\temp\\images/train\\EMDS7-G012-049-0400_aug.png\n",
      "Augmented Image saved to: D:\\KULIAH\\SEMESTER 5\\RSBP\\Bacteri\\Detection-of-bacteria-in-water-using-Yolo-images\\Detect\\Detection-of-bacteria-in-water-using-Yolo-images\\temp\\images/train\\EMDS7-G020-004-0400_aug.png\n",
      "Augmented Image saved to: D:\\KULIAH\\SEMESTER 5\\RSBP\\Bacteri\\Detection-of-bacteria-in-water-using-Yolo-images\\Detect\\Detection-of-bacteria-in-water-using-Yolo-images\\temp\\images/train\\EMDS7-G022-018-0400_aug.png\n",
      "Augmented Image saved to: D:\\KULIAH\\SEMESTER 5\\RSBP\\Bacteri\\Detection-of-bacteria-in-water-using-Yolo-images\\Detect\\Detection-of-bacteria-in-water-using-Yolo-images\\temp\\images/train\\EMDS7-G011-031-0400_aug.png\n",
      "Augmented Image saved to: D:\\KULIAH\\SEMESTER 5\\RSBP\\Bacteri\\Detection-of-bacteria-in-water-using-Yolo-images\\Detect\\Detection-of-bacteria-in-water-using-Yolo-images\\temp\\images/train\\EMDS7-G019-012-0400_aug.png\n",
      "Augmented Image saved to: D:\\KULIAH\\SEMESTER 5\\RSBP\\Bacteri\\Detection-of-bacteria-in-water-using-Yolo-images\\Detect\\Detection-of-bacteria-in-water-using-Yolo-images\\temp\\images/train\\EMDS7-G037-003-0400_aug.png\n",
      "Augmented Image saved to: D:\\KULIAH\\SEMESTER 5\\RSBP\\Bacteri\\Detection-of-bacteria-in-water-using-Yolo-images\\Detect\\Detection-of-bacteria-in-water-using-Yolo-images\\temp\\images/train\\EMDS7-G013-003-0400_aug.png\n",
      "Augmented Image saved to: D:\\KULIAH\\SEMESTER 5\\RSBP\\Bacteri\\Detection-of-bacteria-in-water-using-Yolo-images\\Detect\\Detection-of-bacteria-in-water-using-Yolo-images\\temp\\images/train\\EMDS7-G035-006-0400_aug.png\n",
      "Augmented Image saved to: D:\\KULIAH\\SEMESTER 5\\RSBP\\Bacteri\\Detection-of-bacteria-in-water-using-Yolo-images\\Detect\\Detection-of-bacteria-in-water-using-Yolo-images\\temp\\images/train\\EMDS7-G001-004-0400_aug.png\n",
      "Augmented Image saved to: D:\\KULIAH\\SEMESTER 5\\RSBP\\Bacteri\\Detection-of-bacteria-in-water-using-Yolo-images\\Detect\\Detection-of-bacteria-in-water-using-Yolo-images\\temp\\images/train\\EMDS7-G003-283-0400_aug.png\n",
      "Augmented Image saved to: D:\\KULIAH\\SEMESTER 5\\RSBP\\Bacteri\\Detection-of-bacteria-in-water-using-Yolo-images\\Detect\\Detection-of-bacteria-in-water-using-Yolo-images\\temp\\images/train\\EMDS7-G003-105-0400_aug.png\n",
      "Augmented Image saved to: D:\\KULIAH\\SEMESTER 5\\RSBP\\Bacteri\\Detection-of-bacteria-in-water-using-Yolo-images\\Detect\\Detection-of-bacteria-in-water-using-Yolo-images\\temp\\images/train\\EMDS7-G031-033-0400_aug.png\n",
      "Augmented Image saved to: D:\\KULIAH\\SEMESTER 5\\RSBP\\Bacteri\\Detection-of-bacteria-in-water-using-Yolo-images\\Detect\\Detection-of-bacteria-in-water-using-Yolo-images\\temp\\images/train\\EMDS7-G032-034-0400_aug.png\n",
      "Augmented Image saved to: D:\\KULIAH\\SEMESTER 5\\RSBP\\Bacteri\\Detection-of-bacteria-in-water-using-Yolo-images\\Detect\\Detection-of-bacteria-in-water-using-Yolo-images\\temp\\images/train\\EMDS7-G038-042-0400_aug.png\n",
      "Augmented Image saved to: D:\\KULIAH\\SEMESTER 5\\RSBP\\Bacteri\\Detection-of-bacteria-in-water-using-Yolo-images\\Detect\\Detection-of-bacteria-in-water-using-Yolo-images\\temp\\images/train\\EMDS7-G022-051-0400_aug.png\n",
      "Augmented Image saved to: D:\\KULIAH\\SEMESTER 5\\RSBP\\Bacteri\\Detection-of-bacteria-in-water-using-Yolo-images\\Detect\\Detection-of-bacteria-in-water-using-Yolo-images\\temp\\images/train\\EMDS7-G041-003-0400_aug.png\n",
      "Augmented Image saved to: D:\\KULIAH\\SEMESTER 5\\RSBP\\Bacteri\\Detection-of-bacteria-in-water-using-Yolo-images\\Detect\\Detection-of-bacteria-in-water-using-Yolo-images\\temp\\images/train\\EMDS7-G003-127-0400_aug.png\n",
      "Augmented Image saved to: D:\\KULIAH\\SEMESTER 5\\RSBP\\Bacteri\\Detection-of-bacteria-in-water-using-Yolo-images\\Detect\\Detection-of-bacteria-in-water-using-Yolo-images\\temp\\images/train\\EMDS7-G003-240-0400_aug.png\n",
      "Augmented Image saved to: D:\\KULIAH\\SEMESTER 5\\RSBP\\Bacteri\\Detection-of-bacteria-in-water-using-Yolo-images\\Detect\\Detection-of-bacteria-in-water-using-Yolo-images\\temp\\images/train\\EMDS7-G019-036-0400_aug.png\n",
      "Augmented Image saved to: D:\\KULIAH\\SEMESTER 5\\RSBP\\Bacteri\\Detection-of-bacteria-in-water-using-Yolo-images\\Detect\\Detection-of-bacteria-in-water-using-Yolo-images\\temp\\images/train\\EMDS7-G021-003-0400_aug.png\n",
      "Augmented Image saved to: D:\\KULIAH\\SEMESTER 5\\RSBP\\Bacteri\\Detection-of-bacteria-in-water-using-Yolo-images\\Detect\\Detection-of-bacteria-in-water-using-Yolo-images\\temp\\images/train\\EMDS7-G018-053-0400_aug.png\n",
      "Augmented Image saved to: D:\\KULIAH\\SEMESTER 5\\RSBP\\Bacteri\\Detection-of-bacteria-in-water-using-Yolo-images\\Detect\\Detection-of-bacteria-in-water-using-Yolo-images\\temp\\images/train\\EMDS7-G009-073-0400_aug.png\n",
      "Augmented Image saved to: D:\\KULIAH\\SEMESTER 5\\RSBP\\Bacteri\\Detection-of-bacteria-in-water-using-Yolo-images\\Detect\\Detection-of-bacteria-in-water-using-Yolo-images\\temp\\images/train\\EMDS7-G022-016-0400_aug.png\n",
      "Augmented Image saved to: D:\\KULIAH\\SEMESTER 5\\RSBP\\Bacteri\\Detection-of-bacteria-in-water-using-Yolo-images\\Detect\\Detection-of-bacteria-in-water-using-Yolo-images\\temp\\images/train\\EMDS7-G033-012-0400_aug.png\n",
      "Augmented Image saved to: D:\\KULIAH\\SEMESTER 5\\RSBP\\Bacteri\\Detection-of-bacteria-in-water-using-Yolo-images\\Detect\\Detection-of-bacteria-in-water-using-Yolo-images\\temp\\images/train\\EMDS7-G012-095-0400_aug.png\n",
      "Augmented Image saved to: D:\\KULIAH\\SEMESTER 5\\RSBP\\Bacteri\\Detection-of-bacteria-in-water-using-Yolo-images\\Detect\\Detection-of-bacteria-in-water-using-Yolo-images\\temp\\images/train\\EMDS7-G009-078-0400_aug.png\n",
      "Augmented Image saved to: D:\\KULIAH\\SEMESTER 5\\RSBP\\Bacteri\\Detection-of-bacteria-in-water-using-Yolo-images\\Detect\\Detection-of-bacteria-in-water-using-Yolo-images\\temp\\images/train\\EMDS7-G009-042-0400_aug.png\n",
      "Augmented Image saved to: D:\\KULIAH\\SEMESTER 5\\RSBP\\Bacteri\\Detection-of-bacteria-in-water-using-Yolo-images\\Detect\\Detection-of-bacteria-in-water-using-Yolo-images\\temp\\images/train\\EMDS7-G033-028-0400_aug.png\n",
      "Augmented Image saved to: D:\\KULIAH\\SEMESTER 5\\RSBP\\Bacteri\\Detection-of-bacteria-in-water-using-Yolo-images\\Detect\\Detection-of-bacteria-in-water-using-Yolo-images\\temp\\images/train\\EMDS7-G003-268-0400_aug.png\n",
      "Augmented Image saved to: D:\\KULIAH\\SEMESTER 5\\RSBP\\Bacteri\\Detection-of-bacteria-in-water-using-Yolo-images\\Detect\\Detection-of-bacteria-in-water-using-Yolo-images\\temp\\images/train\\EMDS7-G032-089-0400_aug.png\n",
      "Augmented Image saved to: D:\\KULIAH\\SEMESTER 5\\RSBP\\Bacteri\\Detection-of-bacteria-in-water-using-Yolo-images\\Detect\\Detection-of-bacteria-in-water-using-Yolo-images\\temp\\images/train\\EMDS7-G022-008-0400_aug.png\n",
      "Augmented Image saved to: D:\\KULIAH\\SEMESTER 5\\RSBP\\Bacteri\\Detection-of-bacteria-in-water-using-Yolo-images\\Detect\\Detection-of-bacteria-in-water-using-Yolo-images\\temp\\images/train\\EMDS7-G003-245-0400_aug.png\n",
      "Augmented Image saved to: D:\\KULIAH\\SEMESTER 5\\RSBP\\Bacteri\\Detection-of-bacteria-in-water-using-Yolo-images\\Detect\\Detection-of-bacteria-in-water-using-Yolo-images\\temp\\images/train\\EMDS7-G006-013-0400_aug.png\n",
      "Augmented Image saved to: D:\\KULIAH\\SEMESTER 5\\RSBP\\Bacteri\\Detection-of-bacteria-in-water-using-Yolo-images\\Detect\\Detection-of-bacteria-in-water-using-Yolo-images\\temp\\images/train\\EMDS7-G019-027-0400_aug.png\n",
      "Augmented Image saved to: D:\\KULIAH\\SEMESTER 5\\RSBP\\Bacteri\\Detection-of-bacteria-in-water-using-Yolo-images\\Detect\\Detection-of-bacteria-in-water-using-Yolo-images\\temp\\images/train\\EMDS7-G039-053-0400_aug.png\n",
      "Augmented Image saved to: D:\\KULIAH\\SEMESTER 5\\RSBP\\Bacteri\\Detection-of-bacteria-in-water-using-Yolo-images\\Detect\\Detection-of-bacteria-in-water-using-Yolo-images\\temp\\images/train\\EMDS7-G014-045-0400_aug.png\n",
      "Augmented Image saved to: D:\\KULIAH\\SEMESTER 5\\RSBP\\Bacteri\\Detection-of-bacteria-in-water-using-Yolo-images\\Detect\\Detection-of-bacteria-in-water-using-Yolo-images\\temp\\images/train\\EMDS7-G022-095-0400_aug.png\n",
      "Augmented Image saved to: D:\\KULIAH\\SEMESTER 5\\RSBP\\Bacteri\\Detection-of-bacteria-in-water-using-Yolo-images\\Detect\\Detection-of-bacteria-in-water-using-Yolo-images\\temp\\images/train\\EMDS7-G011-063-0400_aug.png\n",
      "Augmented Image saved to: D:\\KULIAH\\SEMESTER 5\\RSBP\\Bacteri\\Detection-of-bacteria-in-water-using-Yolo-images\\Detect\\Detection-of-bacteria-in-water-using-Yolo-images\\temp\\images/train\\EMDS7-G014-083-0400_aug.png\n",
      "Augmented Image saved to: D:\\KULIAH\\SEMESTER 5\\RSBP\\Bacteri\\Detection-of-bacteria-in-water-using-Yolo-images\\Detect\\Detection-of-bacteria-in-water-using-Yolo-images\\temp\\images/train\\EMDS7-G009-060-0400_aug.png\n",
      "Augmented Image saved to: D:\\KULIAH\\SEMESTER 5\\RSBP\\Bacteri\\Detection-of-bacteria-in-water-using-Yolo-images\\Detect\\Detection-of-bacteria-in-water-using-Yolo-images\\temp\\images/train\\EMDS7-G022-042-0400_aug.png\n",
      "Augmented Image saved to: D:\\KULIAH\\SEMESTER 5\\RSBP\\Bacteri\\Detection-of-bacteria-in-water-using-Yolo-images\\Detect\\Detection-of-bacteria-in-water-using-Yolo-images\\temp\\images/train\\EMDS7-G035-049-0400_aug.png\n",
      "Augmented Image saved to: D:\\KULIAH\\SEMESTER 5\\RSBP\\Bacteri\\Detection-of-bacteria-in-water-using-Yolo-images\\Detect\\Detection-of-bacteria-in-water-using-Yolo-images\\temp\\images/train\\EMDS7-G028-037-0400_aug.png\n",
      "Augmented Image saved to: D:\\KULIAH\\SEMESTER 5\\RSBP\\Bacteri\\Detection-of-bacteria-in-water-using-Yolo-images\\Detect\\Detection-of-bacteria-in-water-using-Yolo-images\\temp\\images/train\\EMDS7-G017-001-0400_aug.png\n",
      "Augmented Image saved to: D:\\KULIAH\\SEMESTER 5\\RSBP\\Bacteri\\Detection-of-bacteria-in-water-using-Yolo-images\\Detect\\Detection-of-bacteria-in-water-using-Yolo-images\\temp\\images/train\\EMDS7-G022-171-0400_aug.png\n",
      "Augmented Image saved to: D:\\KULIAH\\SEMESTER 5\\RSBP\\Bacteri\\Detection-of-bacteria-in-water-using-Yolo-images\\Detect\\Detection-of-bacteria-in-water-using-Yolo-images\\temp\\images/train\\EMDS7-G017-028-0400_aug.png\n",
      "Augmented Image saved to: D:\\KULIAH\\SEMESTER 5\\RSBP\\Bacteri\\Detection-of-bacteria-in-water-using-Yolo-images\\Detect\\Detection-of-bacteria-in-water-using-Yolo-images\\temp\\images/train\\EMDS7-G017-048-0400_aug.png\n",
      "Augmented Image saved to: D:\\KULIAH\\SEMESTER 5\\RSBP\\Bacteri\\Detection-of-bacteria-in-water-using-Yolo-images\\Detect\\Detection-of-bacteria-in-water-using-Yolo-images\\temp\\images/train\\EMDS7-G014-053-0400_aug.png\n",
      "Augmented Image saved to: D:\\KULIAH\\SEMESTER 5\\RSBP\\Bacteri\\Detection-of-bacteria-in-water-using-Yolo-images\\Detect\\Detection-of-bacteria-in-water-using-Yolo-images\\temp\\images/train\\EMDS7-G036-042-0400_aug.png\n",
      "Augmented Image saved to: D:\\KULIAH\\SEMESTER 5\\RSBP\\Bacteri\\Detection-of-bacteria-in-water-using-Yolo-images\\Detect\\Detection-of-bacteria-in-water-using-Yolo-images\\temp\\images/train\\EMDS7-G018-076-0400_aug.png\n",
      "Augmented Image saved to: D:\\KULIAH\\SEMESTER 5\\RSBP\\Bacteri\\Detection-of-bacteria-in-water-using-Yolo-images\\Detect\\Detection-of-bacteria-in-water-using-Yolo-images\\temp\\images/train\\EMDS7-G017-051-0400_aug.png\n",
      "Augmented Image saved to: D:\\KULIAH\\SEMESTER 5\\RSBP\\Bacteri\\Detection-of-bacteria-in-water-using-Yolo-images\\Detect\\Detection-of-bacteria-in-water-using-Yolo-images\\temp\\images/train\\EMDS7-G005-013-0400_aug.png\n",
      "Augmented Image saved to: D:\\KULIAH\\SEMESTER 5\\RSBP\\Bacteri\\Detection-of-bacteria-in-water-using-Yolo-images\\Detect\\Detection-of-bacteria-in-water-using-Yolo-images\\temp\\images/train\\EMDS7-G012-016-0400_aug.png\n",
      "Augmented Image saved to: D:\\KULIAH\\SEMESTER 5\\RSBP\\Bacteri\\Detection-of-bacteria-in-water-using-Yolo-images\\Detect\\Detection-of-bacteria-in-water-using-Yolo-images\\temp\\images/train\\EMDS7-G018-035-0400_aug.png\n",
      "Augmented Image saved to: D:\\KULIAH\\SEMESTER 5\\RSBP\\Bacteri\\Detection-of-bacteria-in-water-using-Yolo-images\\Detect\\Detection-of-bacteria-in-water-using-Yolo-images\\temp\\images/train\\EMDS7-G003-005-0400_aug.png\n",
      "Augmented Image saved to: D:\\KULIAH\\SEMESTER 5\\RSBP\\Bacteri\\Detection-of-bacteria-in-water-using-Yolo-images\\Detect\\Detection-of-bacteria-in-water-using-Yolo-images\\temp\\images/train\\EMDS7-G022-162-0400_aug.png\n",
      "Augmented Image saved to: D:\\KULIAH\\SEMESTER 5\\RSBP\\Bacteri\\Detection-of-bacteria-in-water-using-Yolo-images\\Detect\\Detection-of-bacteria-in-water-using-Yolo-images\\temp\\images/train\\EMDS7-G008-038-0400_aug.png\n",
      "Augmented Image saved to: D:\\KULIAH\\SEMESTER 5\\RSBP\\Bacteri\\Detection-of-bacteria-in-water-using-Yolo-images\\Detect\\Detection-of-bacteria-in-water-using-Yolo-images\\temp\\images/train\\EMDS7-G014-062-0400_aug.png\n",
      "Augmented Image saved to: D:\\KULIAH\\SEMESTER 5\\RSBP\\Bacteri\\Detection-of-bacteria-in-water-using-Yolo-images\\Detect\\Detection-of-bacteria-in-water-using-Yolo-images\\temp\\images/train\\EMDS7-G030-047-0400_aug.png\n",
      "Augmented Image saved to: D:\\KULIAH\\SEMESTER 5\\RSBP\\Bacteri\\Detection-of-bacteria-in-water-using-Yolo-images\\Detect\\Detection-of-bacteria-in-water-using-Yolo-images\\temp\\images/train\\EMDS7-G008-048-0400_aug.png\n",
      "Augmented Image saved to: D:\\KULIAH\\SEMESTER 5\\RSBP\\Bacteri\\Detection-of-bacteria-in-water-using-Yolo-images\\Detect\\Detection-of-bacteria-in-water-using-Yolo-images\\temp\\images/train\\EMDS7-G022-021-0400_aug.png\n",
      "Augmented Image saved to: D:\\KULIAH\\SEMESTER 5\\RSBP\\Bacteri\\Detection-of-bacteria-in-water-using-Yolo-images\\Detect\\Detection-of-bacteria-in-water-using-Yolo-images\\temp\\images/train\\EMDS7-G023-050-0400_aug.png\n",
      "Augmented Image saved to: D:\\KULIAH\\SEMESTER 5\\RSBP\\Bacteri\\Detection-of-bacteria-in-water-using-Yolo-images\\Detect\\Detection-of-bacteria-in-water-using-Yolo-images\\temp\\images/train\\EMDS7-G004-080-0400_aug.png\n",
      "Augmented Image saved to: D:\\KULIAH\\SEMESTER 5\\RSBP\\Bacteri\\Detection-of-bacteria-in-water-using-Yolo-images\\Detect\\Detection-of-bacteria-in-water-using-Yolo-images\\temp\\images/train\\EMDS7-G022-183-0400_aug.png\n",
      "Augmented Image saved to: D:\\KULIAH\\SEMESTER 5\\RSBP\\Bacteri\\Detection-of-bacteria-in-water-using-Yolo-images\\Detect\\Detection-of-bacteria-in-water-using-Yolo-images\\temp\\images/train\\EMDS7-G035-019-0400_aug.png\n",
      "Augmented Image saved to: D:\\KULIAH\\SEMESTER 5\\RSBP\\Bacteri\\Detection-of-bacteria-in-water-using-Yolo-images\\Detect\\Detection-of-bacteria-in-water-using-Yolo-images\\temp\\images/train\\EMDS7-G039-078-0400_aug.png\n",
      "Augmented Image saved to: D:\\KULIAH\\SEMESTER 5\\RSBP\\Bacteri\\Detection-of-bacteria-in-water-using-Yolo-images\\Detect\\Detection-of-bacteria-in-water-using-Yolo-images\\temp\\images/train\\EMDS7-G012-093-0400_aug.png\n",
      "Augmented Image saved to: D:\\KULIAH\\SEMESTER 5\\RSBP\\Bacteri\\Detection-of-bacteria-in-water-using-Yolo-images\\Detect\\Detection-of-bacteria-in-water-using-Yolo-images\\temp\\images/train\\EMDS7-G031-022-0400_aug.png\n",
      "Augmented Image saved to: D:\\KULIAH\\SEMESTER 5\\RSBP\\Bacteri\\Detection-of-bacteria-in-water-using-Yolo-images\\Detect\\Detection-of-bacteria-in-water-using-Yolo-images\\temp\\images/train\\EMDS7-G029-012-0400_aug.png\n",
      "Augmented Image saved to: D:\\KULIAH\\SEMESTER 5\\RSBP\\Bacteri\\Detection-of-bacteria-in-water-using-Yolo-images\\Detect\\Detection-of-bacteria-in-water-using-Yolo-images\\temp\\images/train\\EMDS7-G007-003-0400_aug.png\n",
      "Augmented Image saved to: D:\\KULIAH\\SEMESTER 5\\RSBP\\Bacteri\\Detection-of-bacteria-in-water-using-Yolo-images\\Detect\\Detection-of-bacteria-in-water-using-Yolo-images\\temp\\images/train\\EMDS7-G020-012-0400_aug.png\n",
      "Augmented Image saved to: D:\\KULIAH\\SEMESTER 5\\RSBP\\Bacteri\\Detection-of-bacteria-in-water-using-Yolo-images\\Detect\\Detection-of-bacteria-in-water-using-Yolo-images\\temp\\images/train\\EMDS7-G018-046-0400_aug.png\n",
      "Augmented Image saved to: D:\\KULIAH\\SEMESTER 5\\RSBP\\Bacteri\\Detection-of-bacteria-in-water-using-Yolo-images\\Detect\\Detection-of-bacteria-in-water-using-Yolo-images\\temp\\images/train\\EMDS7-G004-041-0400_aug.png\n",
      "Augmented Image saved to: D:\\KULIAH\\SEMESTER 5\\RSBP\\Bacteri\\Detection-of-bacteria-in-water-using-Yolo-images\\Detect\\Detection-of-bacteria-in-water-using-Yolo-images\\temp\\images/train\\EMDS7-G008-022-0400_aug.png\n",
      "Augmented Image saved to: D:\\KULIAH\\SEMESTER 5\\RSBP\\Bacteri\\Detection-of-bacteria-in-water-using-Yolo-images\\Detect\\Detection-of-bacteria-in-water-using-Yolo-images\\temp\\images/train\\EMDS7-G022-081-0400_aug.png\n",
      "Augmented Image saved to: D:\\KULIAH\\SEMESTER 5\\RSBP\\Bacteri\\Detection-of-bacteria-in-water-using-Yolo-images\\Detect\\Detection-of-bacteria-in-water-using-Yolo-images\\temp\\images/train\\EMDS7-G003-189-0400_aug.png\n",
      "Augmented Image saved to: D:\\KULIAH\\SEMESTER 5\\RSBP\\Bacteri\\Detection-of-bacteria-in-water-using-Yolo-images\\Detect\\Detection-of-bacteria-in-water-using-Yolo-images\\temp\\images/train\\EMDS7-G003-281-0400_aug.png\n",
      "Augmented Image saved to: D:\\KULIAH\\SEMESTER 5\\RSBP\\Bacteri\\Detection-of-bacteria-in-water-using-Yolo-images\\Detect\\Detection-of-bacteria-in-water-using-Yolo-images\\temp\\images/train\\EMDS7-G039-080-0400_aug.png\n",
      "Augmented Image saved to: D:\\KULIAH\\SEMESTER 5\\RSBP\\Bacteri\\Detection-of-bacteria-in-water-using-Yolo-images\\Detect\\Detection-of-bacteria-in-water-using-Yolo-images\\temp\\images/train\\EMDS7-G011-037-0400_aug.png\n",
      "Augmented Image saved to: D:\\KULIAH\\SEMESTER 5\\RSBP\\Bacteri\\Detection-of-bacteria-in-water-using-Yolo-images\\Detect\\Detection-of-bacteria-in-water-using-Yolo-images\\temp\\images/train\\EMDS7-G022-163-0400_aug.png\n",
      "Augmented Image saved to: D:\\KULIAH\\SEMESTER 5\\RSBP\\Bacteri\\Detection-of-bacteria-in-water-using-Yolo-images\\Detect\\Detection-of-bacteria-in-water-using-Yolo-images\\temp\\images/train\\EMDS7-G031-008-0400_aug.png\n",
      "Augmented Image saved to: D:\\KULIAH\\SEMESTER 5\\RSBP\\Bacteri\\Detection-of-bacteria-in-water-using-Yolo-images\\Detect\\Detection-of-bacteria-in-water-using-Yolo-images\\temp\\images/train\\EMDS7-G039-011-0400_aug.png\n",
      "Augmented Image saved to: D:\\KULIAH\\SEMESTER 5\\RSBP\\Bacteri\\Detection-of-bacteria-in-water-using-Yolo-images\\Detect\\Detection-of-bacteria-in-water-using-Yolo-images\\temp\\images/train\\EMDS7-G020-024-0400_aug.png\n",
      "Augmented Image saved to: D:\\KULIAH\\SEMESTER 5\\RSBP\\Bacteri\\Detection-of-bacteria-in-water-using-Yolo-images\\Detect\\Detection-of-bacteria-in-water-using-Yolo-images\\temp\\images/train\\EMDS7-G025-019-0400_aug.png\n",
      "Augmented Image saved to: D:\\KULIAH\\SEMESTER 5\\RSBP\\Bacteri\\Detection-of-bacteria-in-water-using-Yolo-images\\Detect\\Detection-of-bacteria-in-water-using-Yolo-images\\temp\\images/train\\EMDS7-G036-011-0400_aug.png\n",
      "Augmented Image saved to: D:\\KULIAH\\SEMESTER 5\\RSBP\\Bacteri\\Detection-of-bacteria-in-water-using-Yolo-images\\Detect\\Detection-of-bacteria-in-water-using-Yolo-images\\temp\\images/train\\EMDS7-G022-039-0400_aug.png\n",
      "Augmented Image saved to: D:\\KULIAH\\SEMESTER 5\\RSBP\\Bacteri\\Detection-of-bacteria-in-water-using-Yolo-images\\Detect\\Detection-of-bacteria-in-water-using-Yolo-images\\temp\\images/train\\EMDS7-G029-009-0400_aug.png\n",
      "Augmented Image saved to: D:\\KULIAH\\SEMESTER 5\\RSBP\\Bacteri\\Detection-of-bacteria-in-water-using-Yolo-images\\Detect\\Detection-of-bacteria-in-water-using-Yolo-images\\temp\\images/train\\EMDS7-G028-006-0400_aug.png\n",
      "Augmented Image saved to: D:\\KULIAH\\SEMESTER 5\\RSBP\\Bacteri\\Detection-of-bacteria-in-water-using-Yolo-images\\Detect\\Detection-of-bacteria-in-water-using-Yolo-images\\temp\\images/train\\EMDS7-G017-054-0400_aug.png\n",
      "Augmented Image saved to: D:\\KULIAH\\SEMESTER 5\\RSBP\\Bacteri\\Detection-of-bacteria-in-water-using-Yolo-images\\Detect\\Detection-of-bacteria-in-water-using-Yolo-images\\temp\\images/train\\EMDS7-G039-055-0400_aug.png\n",
      "Augmented Image saved to: D:\\KULIAH\\SEMESTER 5\\RSBP\\Bacteri\\Detection-of-bacteria-in-water-using-Yolo-images\\Detect\\Detection-of-bacteria-in-water-using-Yolo-images\\temp\\images/train\\EMDS7-G022-110-0400_aug.png\n",
      "Augmented Image saved to: D:\\KULIAH\\SEMESTER 5\\RSBP\\Bacteri\\Detection-of-bacteria-in-water-using-Yolo-images\\Detect\\Detection-of-bacteria-in-water-using-Yolo-images\\temp\\images/train\\EMDS7-G023-005-0400_aug.png\n",
      "Augmented Image saved to: D:\\KULIAH\\SEMESTER 5\\RSBP\\Bacteri\\Detection-of-bacteria-in-water-using-Yolo-images\\Detect\\Detection-of-bacteria-in-water-using-Yolo-images\\temp\\images/train\\EMDS7-G014-004-0400_aug.png\n",
      "Augmented Image saved to: D:\\KULIAH\\SEMESTER 5\\RSBP\\Bacteri\\Detection-of-bacteria-in-water-using-Yolo-images\\Detect\\Detection-of-bacteria-in-water-using-Yolo-images\\temp\\images/train\\EMDS7-G014-036-0400_aug.png\n",
      "Augmented Image saved to: D:\\KULIAH\\SEMESTER 5\\RSBP\\Bacteri\\Detection-of-bacteria-in-water-using-Yolo-images\\Detect\\Detection-of-bacteria-in-water-using-Yolo-images\\temp\\images/train\\EMDS7-G032-073-0400_aug.png\n",
      "Augmented Image saved to: D:\\KULIAH\\SEMESTER 5\\RSBP\\Bacteri\\Detection-of-bacteria-in-water-using-Yolo-images\\Detect\\Detection-of-bacteria-in-water-using-Yolo-images\\temp\\images/train\\EMDS7-G018-025-0400_aug.png\n",
      "Augmented Image saved to: D:\\KULIAH\\SEMESTER 5\\RSBP\\Bacteri\\Detection-of-bacteria-in-water-using-Yolo-images\\Detect\\Detection-of-bacteria-in-water-using-Yolo-images\\temp\\images/train\\EMDS7-G018-006-0400_aug.png\n",
      "Augmented Image saved to: D:\\KULIAH\\SEMESTER 5\\RSBP\\Bacteri\\Detection-of-bacteria-in-water-using-Yolo-images\\Detect\\Detection-of-bacteria-in-water-using-Yolo-images\\temp\\images/train\\EMDS7-G022-246-0400_aug.png\n",
      "Augmented Image saved to: D:\\KULIAH\\SEMESTER 5\\RSBP\\Bacteri\\Detection-of-bacteria-in-water-using-Yolo-images\\Detect\\Detection-of-bacteria-in-water-using-Yolo-images\\temp\\images/train\\EMDS7-G022-266-0400_aug.png\n",
      "Augmented Image saved to: D:\\KULIAH\\SEMESTER 5\\RSBP\\Bacteri\\Detection-of-bacteria-in-water-using-Yolo-images\\Detect\\Detection-of-bacteria-in-water-using-Yolo-images\\temp\\images/train\\EMDS7-G020-010-0400_aug.png\n",
      "Augmented Image saved to: D:\\KULIAH\\SEMESTER 5\\RSBP\\Bacteri\\Detection-of-bacteria-in-water-using-Yolo-images\\Detect\\Detection-of-bacteria-in-water-using-Yolo-images\\temp\\images/train\\EMDS7-G028-039-0400_aug.png\n",
      "Augmented Image saved to: D:\\KULIAH\\SEMESTER 5\\RSBP\\Bacteri\\Detection-of-bacteria-in-water-using-Yolo-images\\Detect\\Detection-of-bacteria-in-water-using-Yolo-images\\temp\\images/train\\EMDS7-G003-191-0400_aug.png\n",
      "Augmented Image saved to: D:\\KULIAH\\SEMESTER 5\\RSBP\\Bacteri\\Detection-of-bacteria-in-water-using-Yolo-images\\Detect\\Detection-of-bacteria-in-water-using-Yolo-images\\temp\\images/train\\EMDS7-G028-021-0400_aug.png\n",
      "Augmented Image saved to: D:\\KULIAH\\SEMESTER 5\\RSBP\\Bacteri\\Detection-of-bacteria-in-water-using-Yolo-images\\Detect\\Detection-of-bacteria-in-water-using-Yolo-images\\temp\\images/train\\EMDS7-G003-297-0400_aug.png\n",
      "Augmented Image saved to: D:\\KULIAH\\SEMESTER 5\\RSBP\\Bacteri\\Detection-of-bacteria-in-water-using-Yolo-images\\Detect\\Detection-of-bacteria-in-water-using-Yolo-images\\temp\\images/train\\EMDS7-G036-074-0400_aug.png\n",
      "Augmented Image saved to: D:\\KULIAH\\SEMESTER 5\\RSBP\\Bacteri\\Detection-of-bacteria-in-water-using-Yolo-images\\Detect\\Detection-of-bacteria-in-water-using-Yolo-images\\temp\\images/train\\EMDS7-G035-003-0400_aug.png\n",
      "Augmented Image saved to: D:\\KULIAH\\SEMESTER 5\\RSBP\\Bacteri\\Detection-of-bacteria-in-water-using-Yolo-images\\Detect\\Detection-of-bacteria-in-water-using-Yolo-images\\temp\\images/train\\EMDS7-G036-039-0400_aug.png\n",
      "Augmented Image saved to: D:\\KULIAH\\SEMESTER 5\\RSBP\\Bacteri\\Detection-of-bacteria-in-water-using-Yolo-images\\Detect\\Detection-of-bacteria-in-water-using-Yolo-images\\temp\\images/train\\EMDS7-G003-279-0400_aug.png\n",
      "Augmented Image saved to: D:\\KULIAH\\SEMESTER 5\\RSBP\\Bacteri\\Detection-of-bacteria-in-water-using-Yolo-images\\Detect\\Detection-of-bacteria-in-water-using-Yolo-images\\temp\\images/train\\EMDS7-G028-052-0400_aug.png\n",
      "Augmented Image saved to: D:\\KULIAH\\SEMESTER 5\\RSBP\\Bacteri\\Detection-of-bacteria-in-water-using-Yolo-images\\Detect\\Detection-of-bacteria-in-water-using-Yolo-images\\temp\\images/train\\EMDS7-G004-044-0400_aug.png\n",
      "Augmented Image saved to: D:\\KULIAH\\SEMESTER 5\\RSBP\\Bacteri\\Detection-of-bacteria-in-water-using-Yolo-images\\Detect\\Detection-of-bacteria-in-water-using-Yolo-images\\temp\\images/train\\EMDS7-G012-052-0400_aug.png\n",
      "Augmented Image saved to: D:\\KULIAH\\SEMESTER 5\\RSBP\\Bacteri\\Detection-of-bacteria-in-water-using-Yolo-images\\Detect\\Detection-of-bacteria-in-water-using-Yolo-images\\temp\\images/train\\EMDS7-G032-029-0400_aug.png\n",
      "Augmented Image saved to: D:\\KULIAH\\SEMESTER 5\\RSBP\\Bacteri\\Detection-of-bacteria-in-water-using-Yolo-images\\Detect\\Detection-of-bacteria-in-water-using-Yolo-images\\temp\\images/train\\EMDS7-G009-050-0400_aug.png\n",
      "Augmented Image saved to: D:\\KULIAH\\SEMESTER 5\\RSBP\\Bacteri\\Detection-of-bacteria-in-water-using-Yolo-images\\Detect\\Detection-of-bacteria-in-water-using-Yolo-images\\temp\\images/train\\EMDS7-G014-056-0400_aug.png\n",
      "Augmented Image saved to: D:\\KULIAH\\SEMESTER 5\\RSBP\\Bacteri\\Detection-of-bacteria-in-water-using-Yolo-images\\Detect\\Detection-of-bacteria-in-water-using-Yolo-images\\temp\\images/train\\EMDS7-G001-029-0400_aug.png\n",
      "Augmented Image saved to: D:\\KULIAH\\SEMESTER 5\\RSBP\\Bacteri\\Detection-of-bacteria-in-water-using-Yolo-images\\Detect\\Detection-of-bacteria-in-water-using-Yolo-images\\temp\\images/train\\EMDS7-G025-023-0400_aug.png\n",
      "Augmented Image saved to: D:\\KULIAH\\SEMESTER 5\\RSBP\\Bacteri\\Detection-of-bacteria-in-water-using-Yolo-images\\Detect\\Detection-of-bacteria-in-water-using-Yolo-images\\temp\\images/train\\EMDS7-G010-014-0400_aug.png\n",
      "Augmented Image saved to: D:\\KULIAH\\SEMESTER 5\\RSBP\\Bacteri\\Detection-of-bacteria-in-water-using-Yolo-images\\Detect\\Detection-of-bacteria-in-water-using-Yolo-images\\temp\\images/train\\EMDS7-G032-057-0400_aug.png\n",
      "Augmented Image saved to: D:\\KULIAH\\SEMESTER 5\\RSBP\\Bacteri\\Detection-of-bacteria-in-water-using-Yolo-images\\Detect\\Detection-of-bacteria-in-water-using-Yolo-images\\temp\\images/train\\EMDS7-G012-001-0400_aug.png\n",
      "Augmented Image saved to: D:\\KULIAH\\SEMESTER 5\\RSBP\\Bacteri\\Detection-of-bacteria-in-water-using-Yolo-images\\Detect\\Detection-of-bacteria-in-water-using-Yolo-images\\temp\\images/train\\EMDS7-G017-066-0400_aug.png\n",
      "Augmented Image saved to: D:\\KULIAH\\SEMESTER 5\\RSBP\\Bacteri\\Detection-of-bacteria-in-water-using-Yolo-images\\Detect\\Detection-of-bacteria-in-water-using-Yolo-images\\temp\\images/train\\EMDS7-G039-066-0400_aug.png\n",
      "Augmented Image saved to: D:\\KULIAH\\SEMESTER 5\\RSBP\\Bacteri\\Detection-of-bacteria-in-water-using-Yolo-images\\Detect\\Detection-of-bacteria-in-water-using-Yolo-images\\temp\\images/train\\EMDS7-G020-005-0400_aug.png\n",
      "Augmented Image saved to: D:\\KULIAH\\SEMESTER 5\\RSBP\\Bacteri\\Detection-of-bacteria-in-water-using-Yolo-images\\Detect\\Detection-of-bacteria-in-water-using-Yolo-images\\temp\\images/train\\EMDS7-G025-052-0400_aug.png\n",
      "Augmented Image saved to: D:\\KULIAH\\SEMESTER 5\\RSBP\\Bacteri\\Detection-of-bacteria-in-water-using-Yolo-images\\Detect\\Detection-of-bacteria-in-water-using-Yolo-images\\temp\\images/train\\EMDS7-G028-038-0400_aug.png\n",
      "Augmented Image saved to: D:\\KULIAH\\SEMESTER 5\\RSBP\\Bacteri\\Detection-of-bacteria-in-water-using-Yolo-images\\Detect\\Detection-of-bacteria-in-water-using-Yolo-images\\temp\\images/train\\EMDS7-G014-008-0400_aug.png\n",
      "Augmented Image saved to: D:\\KULIAH\\SEMESTER 5\\RSBP\\Bacteri\\Detection-of-bacteria-in-water-using-Yolo-images\\Detect\\Detection-of-bacteria-in-water-using-Yolo-images\\temp\\images/train\\EMDS7-G001-013-0400_aug.png\n",
      "Augmented Image saved to: D:\\KULIAH\\SEMESTER 5\\RSBP\\Bacteri\\Detection-of-bacteria-in-water-using-Yolo-images\\Detect\\Detection-of-bacteria-in-water-using-Yolo-images\\temp\\images/train\\EMDS7-G028-014-0400_aug.png\n",
      "Augmented Image saved to: D:\\KULIAH\\SEMESTER 5\\RSBP\\Bacteri\\Detection-of-bacteria-in-water-using-Yolo-images\\Detect\\Detection-of-bacteria-in-water-using-Yolo-images\\temp\\images/train\\EMDS7-G025-012-0400_aug.png\n",
      "Augmented Image saved to: D:\\KULIAH\\SEMESTER 5\\RSBP\\Bacteri\\Detection-of-bacteria-in-water-using-Yolo-images\\Detect\\Detection-of-bacteria-in-water-using-Yolo-images\\temp\\images/train\\EMDS7-G003-160-0400_aug.png\n",
      "Augmented Image saved to: D:\\KULIAH\\SEMESTER 5\\RSBP\\Bacteri\\Detection-of-bacteria-in-water-using-Yolo-images\\Detect\\Detection-of-bacteria-in-water-using-Yolo-images\\temp\\images/train\\EMDS7-G012-084-0400_aug.png\n",
      "Augmented Image saved to: D:\\KULIAH\\SEMESTER 5\\RSBP\\Bacteri\\Detection-of-bacteria-in-water-using-Yolo-images\\Detect\\Detection-of-bacteria-in-water-using-Yolo-images\\temp\\images/train\\EMDS7-G003-197-0400_aug.png\n",
      "Augmented Image saved to: D:\\KULIAH\\SEMESTER 5\\RSBP\\Bacteri\\Detection-of-bacteria-in-water-using-Yolo-images\\Detect\\Detection-of-bacteria-in-water-using-Yolo-images\\temp\\images/train\\EMDS7-G012-026-0400_aug.png\n",
      "Augmented Image saved to: D:\\KULIAH\\SEMESTER 5\\RSBP\\Bacteri\\Detection-of-bacteria-in-water-using-Yolo-images\\Detect\\Detection-of-bacteria-in-water-using-Yolo-images\\temp\\images/train\\EMDS7-G003-172-0400_aug.png\n",
      "Augmented Image saved to: D:\\KULIAH\\SEMESTER 5\\RSBP\\Bacteri\\Detection-of-bacteria-in-water-using-Yolo-images\\Detect\\Detection-of-bacteria-in-water-using-Yolo-images\\temp\\images/train\\EMDS7-G023-044-0400_aug.png\n",
      "Augmented Image saved to: D:\\KULIAH\\SEMESTER 5\\RSBP\\Bacteri\\Detection-of-bacteria-in-water-using-Yolo-images\\Detect\\Detection-of-bacteria-in-water-using-Yolo-images\\temp\\images/train\\EMDS7-G032-056-0400_aug.png\n",
      "Augmented Image saved to: D:\\KULIAH\\SEMESTER 5\\RSBP\\Bacteri\\Detection-of-bacteria-in-water-using-Yolo-images\\Detect\\Detection-of-bacteria-in-water-using-Yolo-images\\temp\\images/train\\EMDS7-G022-258-0400_aug.png\n",
      "Augmented Image saved to: D:\\KULIAH\\SEMESTER 5\\RSBP\\Bacteri\\Detection-of-bacteria-in-water-using-Yolo-images\\Detect\\Detection-of-bacteria-in-water-using-Yolo-images\\temp\\images/train\\EMDS7-G019-041-0400_aug.png\n",
      "Augmented Image saved to: D:\\KULIAH\\SEMESTER 5\\RSBP\\Bacteri\\Detection-of-bacteria-in-water-using-Yolo-images\\Detect\\Detection-of-bacteria-in-water-using-Yolo-images\\temp\\images/train\\EMDS7-G003-100-0400_aug.png\n",
      "Augmented Image saved to: D:\\KULIAH\\SEMESTER 5\\RSBP\\Bacteri\\Detection-of-bacteria-in-water-using-Yolo-images\\Detect\\Detection-of-bacteria-in-water-using-Yolo-images\\temp\\images/train\\EMDS7-G001-037-0400_aug.png\n",
      "Augmented Image saved to: D:\\KULIAH\\SEMESTER 5\\RSBP\\Bacteri\\Detection-of-bacteria-in-water-using-Yolo-images\\Detect\\Detection-of-bacteria-in-water-using-Yolo-images\\temp\\images/train\\EMDS7-G003-104-0400_aug.png\n",
      "Augmented Image saved to: D:\\KULIAH\\SEMESTER 5\\RSBP\\Bacteri\\Detection-of-bacteria-in-water-using-Yolo-images\\Detect\\Detection-of-bacteria-in-water-using-Yolo-images\\temp\\images/train\\EMDS7-G018-063-0400_aug.png\n",
      "Augmented Image saved to: D:\\KULIAH\\SEMESTER 5\\RSBP\\Bacteri\\Detection-of-bacteria-in-water-using-Yolo-images\\Detect\\Detection-of-bacteria-in-water-using-Yolo-images\\temp\\images/train\\EMDS7-G023-042-0400_aug.png\n",
      "Augmented Image saved to: D:\\KULIAH\\SEMESTER 5\\RSBP\\Bacteri\\Detection-of-bacteria-in-water-using-Yolo-images\\Detect\\Detection-of-bacteria-in-water-using-Yolo-images\\temp\\images/train\\EMDS7-G033-001-0400_aug.png\n",
      "Augmented Image saved to: D:\\KULIAH\\SEMESTER 5\\RSBP\\Bacteri\\Detection-of-bacteria-in-water-using-Yolo-images\\Detect\\Detection-of-bacteria-in-water-using-Yolo-images\\temp\\images/train\\EMDS7-G003-165-0400_aug.png\n",
      "Augmented Image saved to: D:\\KULIAH\\SEMESTER 5\\RSBP\\Bacteri\\Detection-of-bacteria-in-water-using-Yolo-images\\Detect\\Detection-of-bacteria-in-water-using-Yolo-images\\temp\\images/train\\EMDS7-G039-062-0400_aug.png\n",
      "Augmented Image saved to: D:\\KULIAH\\SEMESTER 5\\RSBP\\Bacteri\\Detection-of-bacteria-in-water-using-Yolo-images\\Detect\\Detection-of-bacteria-in-water-using-Yolo-images\\temp\\images/train\\EMDS7-G018-079-0400_aug.png\n",
      "Augmented Image saved to: D:\\KULIAH\\SEMESTER 5\\RSBP\\Bacteri\\Detection-of-bacteria-in-water-using-Yolo-images\\Detect\\Detection-of-bacteria-in-water-using-Yolo-images\\temp\\images/train\\EMDS7-G013-005-0400_aug.png\n",
      "Augmented Image saved to: D:\\KULIAH\\SEMESTER 5\\RSBP\\Bacteri\\Detection-of-bacteria-in-water-using-Yolo-images\\Detect\\Detection-of-bacteria-in-water-using-Yolo-images\\temp\\images/train\\EMDS7-G009-002-0400_aug.png\n",
      "Augmented Image saved to: D:\\KULIAH\\SEMESTER 5\\RSBP\\Bacteri\\Detection-of-bacteria-in-water-using-Yolo-images\\Detect\\Detection-of-bacteria-in-water-using-Yolo-images\\temp\\images/train\\EMDS7-G018-086-0400_aug.png\n",
      "Augmented Image saved to: D:\\KULIAH\\SEMESTER 5\\RSBP\\Bacteri\\Detection-of-bacteria-in-water-using-Yolo-images\\Detect\\Detection-of-bacteria-in-water-using-Yolo-images\\temp\\images/train\\EMDS7-G022-041-0400_aug.png\n",
      "Augmented Image saved to: D:\\KULIAH\\SEMESTER 5\\RSBP\\Bacteri\\Detection-of-bacteria-in-water-using-Yolo-images\\Detect\\Detection-of-bacteria-in-water-using-Yolo-images\\temp\\images/train\\EMDS7-G003-103-0400_aug.png\n",
      "Augmented Image saved to: D:\\KULIAH\\SEMESTER 5\\RSBP\\Bacteri\\Detection-of-bacteria-in-water-using-Yolo-images\\Detect\\Detection-of-bacteria-in-water-using-Yolo-images\\temp\\images/train\\EMDS7-G003-046-0400_aug.png\n",
      "Augmented Image saved to: D:\\KULIAH\\SEMESTER 5\\RSBP\\Bacteri\\Detection-of-bacteria-in-water-using-Yolo-images\\Detect\\Detection-of-bacteria-in-water-using-Yolo-images\\temp\\images/train\\EMDS7-G005-024-0400_aug.png\n",
      "Augmented Image saved to: D:\\KULIAH\\SEMESTER 5\\RSBP\\Bacteri\\Detection-of-bacteria-in-water-using-Yolo-images\\Detect\\Detection-of-bacteria-in-water-using-Yolo-images\\temp\\images/train\\EMDS7-G003-212-0400_aug.png\n",
      "Augmented Image saved to: D:\\KULIAH\\SEMESTER 5\\RSBP\\Bacteri\\Detection-of-bacteria-in-water-using-Yolo-images\\Detect\\Detection-of-bacteria-in-water-using-Yolo-images\\temp\\images/train\\EMDS7-G023-009-0400_aug.png\n",
      "Augmented Image saved to: D:\\KULIAH\\SEMESTER 5\\RSBP\\Bacteri\\Detection-of-bacteria-in-water-using-Yolo-images\\Detect\\Detection-of-bacteria-in-water-using-Yolo-images\\temp\\images/train\\EMDS7-G035-056-0400_aug.png\n",
      "Augmented Image saved to: D:\\KULIAH\\SEMESTER 5\\RSBP\\Bacteri\\Detection-of-bacteria-in-water-using-Yolo-images\\Detect\\Detection-of-bacteria-in-water-using-Yolo-images\\temp\\images/train\\EMDS7-G004-045-0400_aug.png\n",
      "Augmented Image saved to: D:\\KULIAH\\SEMESTER 5\\RSBP\\Bacteri\\Detection-of-bacteria-in-water-using-Yolo-images\\Detect\\Detection-of-bacteria-in-water-using-Yolo-images\\temp\\images/train\\EMDS7-G037-001-0400_aug.png\n",
      "Augmented Image saved to: D:\\KULIAH\\SEMESTER 5\\RSBP\\Bacteri\\Detection-of-bacteria-in-water-using-Yolo-images\\Detect\\Detection-of-bacteria-in-water-using-Yolo-images\\temp\\images/train\\EMDS7-G009-003-0400_aug.png\n",
      "Augmented Image saved to: D:\\KULIAH\\SEMESTER 5\\RSBP\\Bacteri\\Detection-of-bacteria-in-water-using-Yolo-images\\Detect\\Detection-of-bacteria-in-water-using-Yolo-images\\temp\\images/train\\EMDS7-G014-025-0400_aug.png\n",
      "Augmented Image saved to: D:\\KULIAH\\SEMESTER 5\\RSBP\\Bacteri\\Detection-of-bacteria-in-water-using-Yolo-images\\Detect\\Detection-of-bacteria-in-water-using-Yolo-images\\temp\\images/train\\EMDS7-G039-083-0400_aug.png\n",
      "Augmented Image saved to: D:\\KULIAH\\SEMESTER 5\\RSBP\\Bacteri\\Detection-of-bacteria-in-water-using-Yolo-images\\Detect\\Detection-of-bacteria-in-water-using-Yolo-images\\temp\\images/train\\EMDS7-G003-282-0400_aug.png\n",
      "Augmented Image saved to: D:\\KULIAH\\SEMESTER 5\\RSBP\\Bacteri\\Detection-of-bacteria-in-water-using-Yolo-images\\Detect\\Detection-of-bacteria-in-water-using-Yolo-images\\temp\\images/train\\EMDS7-G003-153-0400_aug.png\n",
      "Augmented Image saved to: D:\\KULIAH\\SEMESTER 5\\RSBP\\Bacteri\\Detection-of-bacteria-in-water-using-Yolo-images\\Detect\\Detection-of-bacteria-in-water-using-Yolo-images\\temp\\images/train\\EMDS7-G003-058-0400_aug.png\n",
      "Augmented Image saved to: D:\\KULIAH\\SEMESTER 5\\RSBP\\Bacteri\\Detection-of-bacteria-in-water-using-Yolo-images\\Detect\\Detection-of-bacteria-in-water-using-Yolo-images\\temp\\images/train\\EMDS7-G012-023-0400_aug.png\n",
      "Augmented Image saved to: D:\\KULIAH\\SEMESTER 5\\RSBP\\Bacteri\\Detection-of-bacteria-in-water-using-Yolo-images\\Detect\\Detection-of-bacteria-in-water-using-Yolo-images\\temp\\images/train\\EMDS7-G013-006-0400_aug.png\n",
      "Augmented Image saved to: D:\\KULIAH\\SEMESTER 5\\RSBP\\Bacteri\\Detection-of-bacteria-in-water-using-Yolo-images\\Detect\\Detection-of-bacteria-in-water-using-Yolo-images\\temp\\images/train\\EMDS7-G008-039-0400_aug.png\n",
      "Augmented Image saved to: D:\\KULIAH\\SEMESTER 5\\RSBP\\Bacteri\\Detection-of-bacteria-in-water-using-Yolo-images\\Detect\\Detection-of-bacteria-in-water-using-Yolo-images\\temp\\images/train\\EMDS7-G005-030-0400_aug.png\n",
      "Augmented Image saved to: D:\\KULIAH\\SEMESTER 5\\RSBP\\Bacteri\\Detection-of-bacteria-in-water-using-Yolo-images\\Detect\\Detection-of-bacteria-in-water-using-Yolo-images\\temp\\images/train\\EMDS7-G032-001-0400_aug.png\n",
      "Augmented Image saved to: D:\\KULIAH\\SEMESTER 5\\RSBP\\Bacteri\\Detection-of-bacteria-in-water-using-Yolo-images\\Detect\\Detection-of-bacteria-in-water-using-Yolo-images\\temp\\images/train\\EMDS7-G022-181-0400_aug.png\n",
      "Augmented Image saved to: D:\\KULIAH\\SEMESTER 5\\RSBP\\Bacteri\\Detection-of-bacteria-in-water-using-Yolo-images\\Detect\\Detection-of-bacteria-in-water-using-Yolo-images\\temp\\images/train\\EMDS7-G003-187-0400_aug.png\n",
      "Augmented Image saved to: D:\\KULIAH\\SEMESTER 5\\RSBP\\Bacteri\\Detection-of-bacteria-in-water-using-Yolo-images\\Detect\\Detection-of-bacteria-in-water-using-Yolo-images\\temp\\images/train\\EMDS7-G014-071-0400_aug.png\n",
      "Augmented Image saved to: D:\\KULIAH\\SEMESTER 5\\RSBP\\Bacteri\\Detection-of-bacteria-in-water-using-Yolo-images\\Detect\\Detection-of-bacteria-in-water-using-Yolo-images\\temp\\images/train\\EMDS7-G040-006-0400_aug.png\n",
      "Augmented Image saved to: D:\\KULIAH\\SEMESTER 5\\RSBP\\Bacteri\\Detection-of-bacteria-in-water-using-Yolo-images\\Detect\\Detection-of-bacteria-in-water-using-Yolo-images\\temp\\images/train\\EMDS7-G014-010-0400_aug.png\n",
      "Augmented Image saved to: D:\\KULIAH\\SEMESTER 5\\RSBP\\Bacteri\\Detection-of-bacteria-in-water-using-Yolo-images\\Detect\\Detection-of-bacteria-in-water-using-Yolo-images\\temp\\images/train\\EMDS7-G019-038-0400_aug.png\n",
      "Augmented Image saved to: D:\\KULIAH\\SEMESTER 5\\RSBP\\Bacteri\\Detection-of-bacteria-in-water-using-Yolo-images\\Detect\\Detection-of-bacteria-in-water-using-Yolo-images\\temp\\images/train\\EMDS7-G010-012-0400_aug.png\n",
      "Augmented Image saved to: D:\\KULIAH\\SEMESTER 5\\RSBP\\Bacteri\\Detection-of-bacteria-in-water-using-Yolo-images\\Detect\\Detection-of-bacteria-in-water-using-Yolo-images\\temp\\images/train\\EMDS7-G039-070-0400_aug.png\n",
      "Augmented Image saved to: D:\\KULIAH\\SEMESTER 5\\RSBP\\Bacteri\\Detection-of-bacteria-in-water-using-Yolo-images\\Detect\\Detection-of-bacteria-in-water-using-Yolo-images\\temp\\images/train\\EMDS7-G018-059-0400_aug.png\n",
      "Augmented Image saved to: D:\\KULIAH\\SEMESTER 5\\RSBP\\Bacteri\\Detection-of-bacteria-in-water-using-Yolo-images\\Detect\\Detection-of-bacteria-in-water-using-Yolo-images\\temp\\images/train\\EMDS7-G038-060-0400_aug.png\n",
      "Augmented Image saved to: D:\\KULIAH\\SEMESTER 5\\RSBP\\Bacteri\\Detection-of-bacteria-in-water-using-Yolo-images\\Detect\\Detection-of-bacteria-in-water-using-Yolo-images\\temp\\images/train\\EMDS7-G014-024-0400_aug.png\n",
      "Augmented Image saved to: D:\\KULIAH\\SEMESTER 5\\RSBP\\Bacteri\\Detection-of-bacteria-in-water-using-Yolo-images\\Detect\\Detection-of-bacteria-in-water-using-Yolo-images\\temp\\images/train\\EMDS7-G024-015-0400_aug.png\n",
      "Augmented Image saved to: D:\\KULIAH\\SEMESTER 5\\RSBP\\Bacteri\\Detection-of-bacteria-in-water-using-Yolo-images\\Detect\\Detection-of-bacteria-in-water-using-Yolo-images\\temp\\images/train\\EMDS7-G019-020-0400_aug.png\n",
      "Augmented Image saved to: D:\\KULIAH\\SEMESTER 5\\RSBP\\Bacteri\\Detection-of-bacteria-in-water-using-Yolo-images\\Detect\\Detection-of-bacteria-in-water-using-Yolo-images\\temp\\images/train\\EMDS7-G028-036-0400_aug.png\n",
      "Augmented Image saved to: D:\\KULIAH\\SEMESTER 5\\RSBP\\Bacteri\\Detection-of-bacteria-in-water-using-Yolo-images\\Detect\\Detection-of-bacteria-in-water-using-Yolo-images\\temp\\images/train\\EMDS7-G022-265-0400_aug.png\n",
      "Augmented Image saved to: D:\\KULIAH\\SEMESTER 5\\RSBP\\Bacteri\\Detection-of-bacteria-in-water-using-Yolo-images\\Detect\\Detection-of-bacteria-in-water-using-Yolo-images\\temp\\images/train\\EMDS7-G019-022-0400_aug.png\n",
      "Augmented Image saved to: D:\\KULIAH\\SEMESTER 5\\RSBP\\Bacteri\\Detection-of-bacteria-in-water-using-Yolo-images\\Detect\\Detection-of-bacteria-in-water-using-Yolo-images\\temp\\images/train\\EMDS7-G019-007-0400_aug.png\n",
      "Augmented Image saved to: D:\\KULIAH\\SEMESTER 5\\RSBP\\Bacteri\\Detection-of-bacteria-in-water-using-Yolo-images\\Detect\\Detection-of-bacteria-in-water-using-Yolo-images\\temp\\images/train\\EMDS7-G003-140-0400_aug.png\n",
      "Augmented Image saved to: D:\\KULIAH\\SEMESTER 5\\RSBP\\Bacteri\\Detection-of-bacteria-in-water-using-Yolo-images\\Detect\\Detection-of-bacteria-in-water-using-Yolo-images\\temp\\images/train\\EMDS7-G003-064-0400_aug.png\n",
      "Augmented Image saved to: D:\\KULIAH\\SEMESTER 5\\RSBP\\Bacteri\\Detection-of-bacteria-in-water-using-Yolo-images\\Detect\\Detection-of-bacteria-in-water-using-Yolo-images\\temp\\images/train\\EMDS7-G003-075-0400_aug.png\n",
      "Augmented Image saved to: D:\\KULIAH\\SEMESTER 5\\RSBP\\Bacteri\\Detection-of-bacteria-in-water-using-Yolo-images\\Detect\\Detection-of-bacteria-in-water-using-Yolo-images\\temp\\images/train\\EMDS7-G014-021-0400_aug.png\n",
      "Augmented Image saved to: D:\\KULIAH\\SEMESTER 5\\RSBP\\Bacteri\\Detection-of-bacteria-in-water-using-Yolo-images\\Detect\\Detection-of-bacteria-in-water-using-Yolo-images\\temp\\images/train\\EMDS7-G003-200-0400_aug.png\n",
      "Augmented Image saved to: D:\\KULIAH\\SEMESTER 5\\RSBP\\Bacteri\\Detection-of-bacteria-in-water-using-Yolo-images\\Detect\\Detection-of-bacteria-in-water-using-Yolo-images\\temp\\images/train\\EMDS7-G001-034-0400_aug.png\n",
      "Augmented Image saved to: D:\\KULIAH\\SEMESTER 5\\RSBP\\Bacteri\\Detection-of-bacteria-in-water-using-Yolo-images\\Detect\\Detection-of-bacteria-in-water-using-Yolo-images\\temp\\images/train\\EMDS7-G001-023-0400_aug.png\n",
      "Augmented Image saved to: D:\\KULIAH\\SEMESTER 5\\RSBP\\Bacteri\\Detection-of-bacteria-in-water-using-Yolo-images\\Detect\\Detection-of-bacteria-in-water-using-Yolo-images\\temp\\images/train\\EMDS7-G003-076-0400_aug.png\n",
      "Augmented Image saved to: D:\\KULIAH\\SEMESTER 5\\RSBP\\Bacteri\\Detection-of-bacteria-in-water-using-Yolo-images\\Detect\\Detection-of-bacteria-in-water-using-Yolo-images\\temp\\images/train\\EMDS7-G014-006-0400_aug.png\n",
      "Augmented Image saved to: D:\\KULIAH\\SEMESTER 5\\RSBP\\Bacteri\\Detection-of-bacteria-in-water-using-Yolo-images\\Detect\\Detection-of-bacteria-in-water-using-Yolo-images\\temp\\images/train\\EMDS7-G022-115-0400_aug.png\n",
      "Augmented Image saved to: D:\\KULIAH\\SEMESTER 5\\RSBP\\Bacteri\\Detection-of-bacteria-in-water-using-Yolo-images\\Detect\\Detection-of-bacteria-in-water-using-Yolo-images\\temp\\images/train\\EMDS7-G040-007-0400_aug.png\n",
      "Augmented Image saved to: D:\\KULIAH\\SEMESTER 5\\RSBP\\Bacteri\\Detection-of-bacteria-in-water-using-Yolo-images\\Detect\\Detection-of-bacteria-in-water-using-Yolo-images\\temp\\images/train\\EMDS7-G030-048-0400_aug.png\n",
      "Augmented Image saved to: D:\\KULIAH\\SEMESTER 5\\RSBP\\Bacteri\\Detection-of-bacteria-in-water-using-Yolo-images\\Detect\\Detection-of-bacteria-in-water-using-Yolo-images\\temp\\images/train\\EMDS7-G032-004-0400_aug.png\n",
      "Augmented Image saved to: D:\\KULIAH\\SEMESTER 5\\RSBP\\Bacteri\\Detection-of-bacteria-in-water-using-Yolo-images\\Detect\\Detection-of-bacteria-in-water-using-Yolo-images\\temp\\images/train\\EMDS7-G008-044-0400_aug.png\n",
      "Augmented Image saved to: D:\\KULIAH\\SEMESTER 5\\RSBP\\Bacteri\\Detection-of-bacteria-in-water-using-Yolo-images\\Detect\\Detection-of-bacteria-in-water-using-Yolo-images\\temp\\images/train\\EMDS7-G011-050-0400_aug.png\n",
      "Augmented Image saved to: D:\\KULIAH\\SEMESTER 5\\RSBP\\Bacteri\\Detection-of-bacteria-in-water-using-Yolo-images\\Detect\\Detection-of-bacteria-in-water-using-Yolo-images\\temp\\images/train\\EMDS7-G017-063-0400_aug.png\n",
      "Augmented Image saved to: D:\\KULIAH\\SEMESTER 5\\RSBP\\Bacteri\\Detection-of-bacteria-in-water-using-Yolo-images\\Detect\\Detection-of-bacteria-in-water-using-Yolo-images\\temp\\images/train\\EMDS7-G003-080-0400_aug.png\n",
      "Augmented Image saved to: D:\\KULIAH\\SEMESTER 5\\RSBP\\Bacteri\\Detection-of-bacteria-in-water-using-Yolo-images\\Detect\\Detection-of-bacteria-in-water-using-Yolo-images\\temp\\images/train\\EMDS7-G003-242-0400_aug.png\n",
      "Augmented Image saved to: D:\\KULIAH\\SEMESTER 5\\RSBP\\Bacteri\\Detection-of-bacteria-in-water-using-Yolo-images\\Detect\\Detection-of-bacteria-in-water-using-Yolo-images\\temp\\images/train\\EMDS7-G022-153-0400_aug.png\n",
      "Augmented Image saved to: D:\\KULIAH\\SEMESTER 5\\RSBP\\Bacteri\\Detection-of-bacteria-in-water-using-Yolo-images\\Detect\\Detection-of-bacteria-in-water-using-Yolo-images\\temp\\images/train\\EMDS7-G040-002-0400_aug.png\n",
      "Augmented Image saved to: D:\\KULIAH\\SEMESTER 5\\RSBP\\Bacteri\\Detection-of-bacteria-in-water-using-Yolo-images\\Detect\\Detection-of-bacteria-in-water-using-Yolo-images\\temp\\images/train\\EMDS7-G012-077-0400_aug.png\n",
      "Augmented Image saved to: D:\\KULIAH\\SEMESTER 5\\RSBP\\Bacteri\\Detection-of-bacteria-in-water-using-Yolo-images\\Detect\\Detection-of-bacteria-in-water-using-Yolo-images\\temp\\images/train\\EMDS7-G004-026-0400_aug.png\n",
      "Augmented Image saved to: D:\\KULIAH\\SEMESTER 5\\RSBP\\Bacteri\\Detection-of-bacteria-in-water-using-Yolo-images\\Detect\\Detection-of-bacteria-in-water-using-Yolo-images\\temp\\images/train\\EMDS7-G003-143-0400_aug.png\n",
      "Augmented Image saved to: D:\\KULIAH\\SEMESTER 5\\RSBP\\Bacteri\\Detection-of-bacteria-in-water-using-Yolo-images\\Detect\\Detection-of-bacteria-in-water-using-Yolo-images\\temp\\images/train\\EMDS7-G004-076-0400_aug.png\n",
      "Augmented Image saved to: D:\\KULIAH\\SEMESTER 5\\RSBP\\Bacteri\\Detection-of-bacteria-in-water-using-Yolo-images\\Detect\\Detection-of-bacteria-in-water-using-Yolo-images\\temp\\images/train\\EMDS7-G011-019-0400_aug.png\n",
      "Augmented Image saved to: D:\\KULIAH\\SEMESTER 5\\RSBP\\Bacteri\\Detection-of-bacteria-in-water-using-Yolo-images\\Detect\\Detection-of-bacteria-in-water-using-Yolo-images\\temp\\images/train\\EMDS7-G019-054-0400_aug.png\n",
      "Augmented Image saved to: D:\\KULIAH\\SEMESTER 5\\RSBP\\Bacteri\\Detection-of-bacteria-in-water-using-Yolo-images\\Detect\\Detection-of-bacteria-in-water-using-Yolo-images\\temp\\images/train\\EMDS7-G023-047-0400_aug.png\n",
      "Augmented Image saved to: D:\\KULIAH\\SEMESTER 5\\RSBP\\Bacteri\\Detection-of-bacteria-in-water-using-Yolo-images\\Detect\\Detection-of-bacteria-in-water-using-Yolo-images\\temp\\images/train\\EMDS7-G008-033-0400_aug.png\n",
      "Augmented Image saved to: D:\\KULIAH\\SEMESTER 5\\RSBP\\Bacteri\\Detection-of-bacteria-in-water-using-Yolo-images\\Detect\\Detection-of-bacteria-in-water-using-Yolo-images\\temp\\images/train\\EMDS7-G003-174-0400_aug.png\n",
      "Augmented Image saved to: D:\\KULIAH\\SEMESTER 5\\RSBP\\Bacteri\\Detection-of-bacteria-in-water-using-Yolo-images\\Detect\\Detection-of-bacteria-in-water-using-Yolo-images\\temp\\images/train\\EMDS7-G008-040-0400_aug.png\n",
      "Augmented Image saved to: D:\\KULIAH\\SEMESTER 5\\RSBP\\Bacteri\\Detection-of-bacteria-in-water-using-Yolo-images\\Detect\\Detection-of-bacteria-in-water-using-Yolo-images\\temp\\images/train\\EMDS7-G003-229-0400_aug.png\n",
      "Augmented Image saved to: D:\\KULIAH\\SEMESTER 5\\RSBP\\Bacteri\\Detection-of-bacteria-in-water-using-Yolo-images\\Detect\\Detection-of-bacteria-in-water-using-Yolo-images\\temp\\images/train\\EMDS7-G028-072-0400_aug.png\n",
      "Augmented Image saved to: D:\\KULIAH\\SEMESTER 5\\RSBP\\Bacteri\\Detection-of-bacteria-in-water-using-Yolo-images\\Detect\\Detection-of-bacteria-in-water-using-Yolo-images\\temp\\images/train\\EMDS7-G028-042-0400_aug.png\n",
      "Augmented Image saved to: D:\\KULIAH\\SEMESTER 5\\RSBP\\Bacteri\\Detection-of-bacteria-in-water-using-Yolo-images\\Detect\\Detection-of-bacteria-in-water-using-Yolo-images\\temp\\images/train\\EMDS7-G018-014-0400_aug.png\n",
      "Augmented Image saved to: D:\\KULIAH\\SEMESTER 5\\RSBP\\Bacteri\\Detection-of-bacteria-in-water-using-Yolo-images\\Detect\\Detection-of-bacteria-in-water-using-Yolo-images\\temp\\images/train\\EMDS7-G003-198-0400_aug.png\n",
      "Augmented Image saved to: D:\\KULIAH\\SEMESTER 5\\RSBP\\Bacteri\\Detection-of-bacteria-in-water-using-Yolo-images\\Detect\\Detection-of-bacteria-in-water-using-Yolo-images\\temp\\images/train\\EMDS7-G032-014-0400_aug.png\n",
      "Augmented Image saved to: D:\\KULIAH\\SEMESTER 5\\RSBP\\Bacteri\\Detection-of-bacteria-in-water-using-Yolo-images\\Detect\\Detection-of-bacteria-in-water-using-Yolo-images\\temp\\images/train\\EMDS7-G022-179-0400_aug.png\n",
      "Augmented Image saved to: D:\\KULIAH\\SEMESTER 5\\RSBP\\Bacteri\\Detection-of-bacteria-in-water-using-Yolo-images\\Detect\\Detection-of-bacteria-in-water-using-Yolo-images\\temp\\images/train\\EMDS7-G027-010-0400_aug.png\n",
      "Augmented Image saved to: D:\\KULIAH\\SEMESTER 5\\RSBP\\Bacteri\\Detection-of-bacteria-in-water-using-Yolo-images\\Detect\\Detection-of-bacteria-in-water-using-Yolo-images\\temp\\images/train\\EMDS7-G030-039-0400_aug.png\n",
      "Augmented Image saved to: D:\\KULIAH\\SEMESTER 5\\RSBP\\Bacteri\\Detection-of-bacteria-in-water-using-Yolo-images\\Detect\\Detection-of-bacteria-in-water-using-Yolo-images\\temp\\images/train\\EMDS7-G003-128-0400_aug.png\n",
      "Augmented Image saved to: D:\\KULIAH\\SEMESTER 5\\RSBP\\Bacteri\\Detection-of-bacteria-in-water-using-Yolo-images\\Detect\\Detection-of-bacteria-in-water-using-Yolo-images\\temp\\images/train\\EMDS7-G009-069-0400_aug.png\n",
      "Augmented Image saved to: D:\\KULIAH\\SEMESTER 5\\RSBP\\Bacteri\\Detection-of-bacteria-in-water-using-Yolo-images\\Detect\\Detection-of-bacteria-in-water-using-Yolo-images\\temp\\images/train\\EMDS7-G038-035-0400_aug.png\n",
      "Augmented Image saved to: D:\\KULIAH\\SEMESTER 5\\RSBP\\Bacteri\\Detection-of-bacteria-in-water-using-Yolo-images\\Detect\\Detection-of-bacteria-in-water-using-Yolo-images\\temp\\images/train\\EMDS7-G036-079-0400_aug.png\n",
      "Augmented Image saved to: D:\\KULIAH\\SEMESTER 5\\RSBP\\Bacteri\\Detection-of-bacteria-in-water-using-Yolo-images\\Detect\\Detection-of-bacteria-in-water-using-Yolo-images\\temp\\images/train\\EMDS7-G006-0011-0400_aug.png\n",
      "Augmented Image saved to: D:\\KULIAH\\SEMESTER 5\\RSBP\\Bacteri\\Detection-of-bacteria-in-water-using-Yolo-images\\Detect\\Detection-of-bacteria-in-water-using-Yolo-images\\temp\\images/train\\EMDS7-G036-007-0400_aug.png\n",
      "Augmented Image saved to: D:\\KULIAH\\SEMESTER 5\\RSBP\\Bacteri\\Detection-of-bacteria-in-water-using-Yolo-images\\Detect\\Detection-of-bacteria-in-water-using-Yolo-images\\temp\\images/train\\EMDS7-G020-033-0400_aug.png\n",
      "Augmented Image saved to: D:\\KULIAH\\SEMESTER 5\\RSBP\\Bacteri\\Detection-of-bacteria-in-water-using-Yolo-images\\Detect\\Detection-of-bacteria-in-water-using-Yolo-images\\temp\\images/train\\EMDS7-G003-066-0400_aug.png\n",
      "Augmented Image saved to: D:\\KULIAH\\SEMESTER 5\\RSBP\\Bacteri\\Detection-of-bacteria-in-water-using-Yolo-images\\Detect\\Detection-of-bacteria-in-water-using-Yolo-images\\temp\\images/train\\EMDS7-G024-014-0400_aug.png\n",
      "Augmented Image saved to: D:\\KULIAH\\SEMESTER 5\\RSBP\\Bacteri\\Detection-of-bacteria-in-water-using-Yolo-images\\Detect\\Detection-of-bacteria-in-water-using-Yolo-images\\temp\\images/train\\EMDS7-G028-043-0400_aug.png\n",
      "Augmented Image saved to: D:\\KULIAH\\SEMESTER 5\\RSBP\\Bacteri\\Detection-of-bacteria-in-water-using-Yolo-images\\Detect\\Detection-of-bacteria-in-water-using-Yolo-images\\temp\\images/train\\EMDS7-G022-245-0400_aug.png\n",
      "Augmented Image saved to: D:\\KULIAH\\SEMESTER 5\\RSBP\\Bacteri\\Detection-of-bacteria-in-water-using-Yolo-images\\Detect\\Detection-of-bacteria-in-water-using-Yolo-images\\temp\\images/train\\EMDS7-G036-052-0400_aug.png\n",
      "Augmented Image saved to: D:\\KULIAH\\SEMESTER 5\\RSBP\\Bacteri\\Detection-of-bacteria-in-water-using-Yolo-images\\Detect\\Detection-of-bacteria-in-water-using-Yolo-images\\temp\\images/train\\EMDS7-G022-275-0400_aug.png\n",
      "Augmented Image saved to: D:\\KULIAH\\SEMESTER 5\\RSBP\\Bacteri\\Detection-of-bacteria-in-water-using-Yolo-images\\Detect\\Detection-of-bacteria-in-water-using-Yolo-images\\temp\\images/train\\EMDS7-G026-008-0400_aug.png\n",
      "Augmented Image saved to: D:\\KULIAH\\SEMESTER 5\\RSBP\\Bacteri\\Detection-of-bacteria-in-water-using-Yolo-images\\Detect\\Detection-of-bacteria-in-water-using-Yolo-images\\temp\\images/train\\EMDS7-G039-082-0400_aug.png\n",
      "Augmented Image saved to: D:\\KULIAH\\SEMESTER 5\\RSBP\\Bacteri\\Detection-of-bacteria-in-water-using-Yolo-images\\Detect\\Detection-of-bacteria-in-water-using-Yolo-images\\temp\\images/train\\EMDS7-G003-300-0400_aug.png\n",
      "Augmented Image saved to: D:\\KULIAH\\SEMESTER 5\\RSBP\\Bacteri\\Detection-of-bacteria-in-water-using-Yolo-images\\Detect\\Detection-of-bacteria-in-water-using-Yolo-images\\temp\\images/train\\EMDS7-G008-003-0400_aug.png\n",
      "Augmented Image saved to: D:\\KULIAH\\SEMESTER 5\\RSBP\\Bacteri\\Detection-of-bacteria-in-water-using-Yolo-images\\Detect\\Detection-of-bacteria-in-water-using-Yolo-images\\temp\\images/train\\EMDS7-G026-005-0400_aug.png\n",
      "Augmented Image saved to: D:\\KULIAH\\SEMESTER 5\\RSBP\\Bacteri\\Detection-of-bacteria-in-water-using-Yolo-images\\Detect\\Detection-of-bacteria-in-water-using-Yolo-images\\temp\\images/train\\EMDS7-G003-098-0400_aug.png\n",
      "Augmented Image saved to: D:\\KULIAH\\SEMESTER 5\\RSBP\\Bacteri\\Detection-of-bacteria-in-water-using-Yolo-images\\Detect\\Detection-of-bacteria-in-water-using-Yolo-images\\temp\\images/train\\EMDS7-G026-003-0400_aug.png\n",
      "Augmented Image saved to: D:\\KULIAH\\SEMESTER 5\\RSBP\\Bacteri\\Detection-of-bacteria-in-water-using-Yolo-images\\Detect\\Detection-of-bacteria-in-water-using-Yolo-images\\temp\\images/train\\EMDS7-G014-037-0400_aug.png\n",
      "Augmented Image saved to: D:\\KULIAH\\SEMESTER 5\\RSBP\\Bacteri\\Detection-of-bacteria-in-water-using-Yolo-images\\Detect\\Detection-of-bacteria-in-water-using-Yolo-images\\temp\\images/train\\EMDS7-G003-238-0400_aug.png\n",
      "Augmented Image saved to: D:\\KULIAH\\SEMESTER 5\\RSBP\\Bacteri\\Detection-of-bacteria-in-water-using-Yolo-images\\Detect\\Detection-of-bacteria-in-water-using-Yolo-images\\temp\\images/train\\EMDS7-G036-069-0400_aug.png\n",
      "Augmented Image saved to: D:\\KULIAH\\SEMESTER 5\\RSBP\\Bacteri\\Detection-of-bacteria-in-water-using-Yolo-images\\Detect\\Detection-of-bacteria-in-water-using-Yolo-images\\temp\\images/train\\EMDS7-G004-020-0400_aug.png\n",
      "Augmented Image saved to: D:\\KULIAH\\SEMESTER 5\\RSBP\\Bacteri\\Detection-of-bacteria-in-water-using-Yolo-images\\Detect\\Detection-of-bacteria-in-water-using-Yolo-images\\temp\\images/train\\EMDS7-G003-039-0400_aug.png\n",
      "Augmented Image saved to: D:\\KULIAH\\SEMESTER 5\\RSBP\\Bacteri\\Detection-of-bacteria-in-water-using-Yolo-images\\Detect\\Detection-of-bacteria-in-water-using-Yolo-images\\temp\\images/train\\EMDS7-G023-043-0400_aug.png\n",
      "Augmented Image saved to: D:\\KULIAH\\SEMESTER 5\\RSBP\\Bacteri\\Detection-of-bacteria-in-water-using-Yolo-images\\Detect\\Detection-of-bacteria-in-water-using-Yolo-images\\temp\\images/train\\EMDS7-G019-042-0400_aug.png\n",
      "Augmented Image saved to: D:\\KULIAH\\SEMESTER 5\\RSBP\\Bacteri\\Detection-of-bacteria-in-water-using-Yolo-images\\Detect\\Detection-of-bacteria-in-water-using-Yolo-images\\temp\\images/train\\EMDS7-G040-020-0400_aug.png\n",
      "Augmented Image saved to: D:\\KULIAH\\SEMESTER 5\\RSBP\\Bacteri\\Detection-of-bacteria-in-water-using-Yolo-images\\Detect\\Detection-of-bacteria-in-water-using-Yolo-images\\temp\\images/train\\EMDS7-G039-036-0400_aug.png\n",
      "Augmented Image saved to: D:\\KULIAH\\SEMESTER 5\\RSBP\\Bacteri\\Detection-of-bacteria-in-water-using-Yolo-images\\Detect\\Detection-of-bacteria-in-water-using-Yolo-images\\temp\\images/train\\EMDS7-G004-001-0400_aug.png\n",
      "Augmented Image saved to: D:\\KULIAH\\SEMESTER 5\\RSBP\\Bacteri\\Detection-of-bacteria-in-water-using-Yolo-images\\Detect\\Detection-of-bacteria-in-water-using-Yolo-images\\temp\\images/train\\EMDS7-G007-012-0400_aug.png\n",
      "Augmented Image saved to: D:\\KULIAH\\SEMESTER 5\\RSBP\\Bacteri\\Detection-of-bacteria-in-water-using-Yolo-images\\Detect\\Detection-of-bacteria-in-water-using-Yolo-images\\temp\\images/train\\EMDS7-G009-054-0400_aug.png\n",
      "Augmented Image saved to: D:\\KULIAH\\SEMESTER 5\\RSBP\\Bacteri\\Detection-of-bacteria-in-water-using-Yolo-images\\Detect\\Detection-of-bacteria-in-water-using-Yolo-images\\temp\\images/train\\EMDS7-G003-278-0400_aug.png\n",
      "Augmented Image saved to: D:\\KULIAH\\SEMESTER 5\\RSBP\\Bacteri\\Detection-of-bacteria-in-water-using-Yolo-images\\Detect\\Detection-of-bacteria-in-water-using-Yolo-images\\temp\\images/train\\EMDS7-G022-235-0400_aug.png\n",
      "Augmented Image saved to: D:\\KULIAH\\SEMESTER 5\\RSBP\\Bacteri\\Detection-of-bacteria-in-water-using-Yolo-images\\Detect\\Detection-of-bacteria-in-water-using-Yolo-images\\temp\\images/train\\EMDS7-G003-236-0400_aug.png\n",
      "Augmented Image saved to: D:\\KULIAH\\SEMESTER 5\\RSBP\\Bacteri\\Detection-of-bacteria-in-water-using-Yolo-images\\Detect\\Detection-of-bacteria-in-water-using-Yolo-images\\temp\\images/train\\EMDS7-G014-049-0400_aug.png\n",
      "Augmented Image saved to: D:\\KULIAH\\SEMESTER 5\\RSBP\\Bacteri\\Detection-of-bacteria-in-water-using-Yolo-images\\Detect\\Detection-of-bacteria-in-water-using-Yolo-images\\temp\\images/train\\EMDS7-G003-267-0400_aug.png\n",
      "Augmented Image saved to: D:\\KULIAH\\SEMESTER 5\\RSBP\\Bacteri\\Detection-of-bacteria-in-water-using-Yolo-images\\Detect\\Detection-of-bacteria-in-water-using-Yolo-images\\temp\\images/train\\EMDS7-G022-071-0400_aug.png\n",
      "Augmented Image saved to: D:\\KULIAH\\SEMESTER 5\\RSBP\\Bacteri\\Detection-of-bacteria-in-water-using-Yolo-images\\Detect\\Detection-of-bacteria-in-water-using-Yolo-images\\temp\\images/train\\EMDS7-G003-025-0400_aug.png\n",
      "Augmented Image saved to: D:\\KULIAH\\SEMESTER 5\\RSBP\\Bacteri\\Detection-of-bacteria-in-water-using-Yolo-images\\Detect\\Detection-of-bacteria-in-water-using-Yolo-images\\temp\\images/train\\EMDS7-G003-028-0400_aug.png\n",
      "Augmented Image saved to: D:\\KULIAH\\SEMESTER 5\\RSBP\\Bacteri\\Detection-of-bacteria-in-water-using-Yolo-images\\Detect\\Detection-of-bacteria-in-water-using-Yolo-images\\temp\\images/train\\EMDS7-G036-071-0400_aug.png\n",
      "Augmented Image saved to: D:\\KULIAH\\SEMESTER 5\\RSBP\\Bacteri\\Detection-of-bacteria-in-water-using-Yolo-images\\Detect\\Detection-of-bacteria-in-water-using-Yolo-images\\temp\\images/train\\EMDS7-G023-036-0400_aug.png\n",
      "Augmented Image saved to: D:\\KULIAH\\SEMESTER 5\\RSBP\\Bacteri\\Detection-of-bacteria-in-water-using-Yolo-images\\Detect\\Detection-of-bacteria-in-water-using-Yolo-images\\temp\\images/train\\EMDS7-G003-290-0400_aug.png\n",
      "Augmented Image saved to: D:\\KULIAH\\SEMESTER 5\\RSBP\\Bacteri\\Detection-of-bacteria-in-water-using-Yolo-images\\Detect\\Detection-of-bacteria-in-water-using-Yolo-images\\temp\\images/train\\EMDS7-G032-020-0400_aug.png\n",
      "Augmented Image saved to: D:\\KULIAH\\SEMESTER 5\\RSBP\\Bacteri\\Detection-of-bacteria-in-water-using-Yolo-images\\Detect\\Detection-of-bacteria-in-water-using-Yolo-images\\temp\\images/train\\EMDS7-G028-022-0400_aug.png\n",
      "Augmented Image saved to: D:\\KULIAH\\SEMESTER 5\\RSBP\\Bacteri\\Detection-of-bacteria-in-water-using-Yolo-images\\Detect\\Detection-of-bacteria-in-water-using-Yolo-images\\temp\\images/train\\EMDS7-G012-027-0400_aug.png\n",
      "Augmented Image saved to: D:\\KULIAH\\SEMESTER 5\\RSBP\\Bacteri\\Detection-of-bacteria-in-water-using-Yolo-images\\Detect\\Detection-of-bacteria-in-water-using-Yolo-images\\temp\\images/train\\EMDS7-G028-071-0400_aug.png\n",
      "Augmented Image saved to: D:\\KULIAH\\SEMESTER 5\\RSBP\\Bacteri\\Detection-of-bacteria-in-water-using-Yolo-images\\Detect\\Detection-of-bacteria-in-water-using-Yolo-images\\temp\\images/train\\EMDS7-G022-175-0400_aug.png\n",
      "Augmented Image saved to: D:\\KULIAH\\SEMESTER 5\\RSBP\\Bacteri\\Detection-of-bacteria-in-water-using-Yolo-images\\Detect\\Detection-of-bacteria-in-water-using-Yolo-images\\temp\\images/train\\EMDS7-G003-295-0400_aug.png\n",
      "Augmented Image saved to: D:\\KULIAH\\SEMESTER 5\\RSBP\\Bacteri\\Detection-of-bacteria-in-water-using-Yolo-images\\Detect\\Detection-of-bacteria-in-water-using-Yolo-images\\temp\\images/train\\EMDS7-G022-241-0400_aug.png\n",
      "Augmented Image saved to: D:\\KULIAH\\SEMESTER 5\\RSBP\\Bacteri\\Detection-of-bacteria-in-water-using-Yolo-images\\Detect\\Detection-of-bacteria-in-water-using-Yolo-images\\temp\\images/train\\EMDS7-G020-014-0400_aug.png\n",
      "Augmented Image saved to: D:\\KULIAH\\SEMESTER 5\\RSBP\\Bacteri\\Detection-of-bacteria-in-water-using-Yolo-images\\Detect\\Detection-of-bacteria-in-water-using-Yolo-images\\temp\\images/train\\EMDS7-G003-056-0400_aug.png\n",
      "Augmented Image saved to: D:\\KULIAH\\SEMESTER 5\\RSBP\\Bacteri\\Detection-of-bacteria-in-water-using-Yolo-images\\Detect\\Detection-of-bacteria-in-water-using-Yolo-images\\temp\\images/train\\EMDS7-G012-074-0400_aug.png\n",
      "Augmented Image saved to: D:\\KULIAH\\SEMESTER 5\\RSBP\\Bacteri\\Detection-of-bacteria-in-water-using-Yolo-images\\Detect\\Detection-of-bacteria-in-water-using-Yolo-images\\temp\\images/train\\EMDS7-G003-255-0400_aug.png\n",
      "Augmented Image saved to: D:\\KULIAH\\SEMESTER 5\\RSBP\\Bacteri\\Detection-of-bacteria-in-water-using-Yolo-images\\Detect\\Detection-of-bacteria-in-water-using-Yolo-images\\temp\\images/train\\EMDS7-G010-015-0400_aug.png\n",
      "Augmented Image saved to: D:\\KULIAH\\SEMESTER 5\\RSBP\\Bacteri\\Detection-of-bacteria-in-water-using-Yolo-images\\Detect\\Detection-of-bacteria-in-water-using-Yolo-images\\temp\\images/train\\EMDS7-G003-068-0400_aug.png\n",
      "Augmented Image saved to: D:\\KULIAH\\SEMESTER 5\\RSBP\\Bacteri\\Detection-of-bacteria-in-water-using-Yolo-images\\Detect\\Detection-of-bacteria-in-water-using-Yolo-images\\temp\\images/train\\EMDS7-G022-150-0400_aug.png\n",
      "Augmented Image saved to: D:\\KULIAH\\SEMESTER 5\\RSBP\\Bacteri\\Detection-of-bacteria-in-water-using-Yolo-images\\Detect\\Detection-of-bacteria-in-water-using-Yolo-images\\temp\\images/train\\EMDS7-G004-025-0400_aug.png\n",
      "Augmented Image saved to: D:\\KULIAH\\SEMESTER 5\\RSBP\\Bacteri\\Detection-of-bacteria-in-water-using-Yolo-images\\Detect\\Detection-of-bacteria-in-water-using-Yolo-images\\temp\\images/train\\EMDS7-G035-050-0400_aug.png\n",
      "Augmented Image saved to: D:\\KULIAH\\SEMESTER 5\\RSBP\\Bacteri\\Detection-of-bacteria-in-water-using-Yolo-images\\Detect\\Detection-of-bacteria-in-water-using-Yolo-images\\temp\\images/train\\EMDS7-G003-034-0400_aug.png\n",
      "Augmented Image saved to: D:\\KULIAH\\SEMESTER 5\\RSBP\\Bacteri\\Detection-of-bacteria-in-water-using-Yolo-images\\Detect\\Detection-of-bacteria-in-water-using-Yolo-images\\temp\\images/train\\EMDS7-G014-080-0400_aug.png\n",
      "Augmented Image saved to: D:\\KULIAH\\SEMESTER 5\\RSBP\\Bacteri\\Detection-of-bacteria-in-water-using-Yolo-images\\Detect\\Detection-of-bacteria-in-water-using-Yolo-images\\temp\\images/train\\EMDS7-G034-006-0400_aug.png\n",
      "Augmented Image saved to: D:\\KULIAH\\SEMESTER 5\\RSBP\\Bacteri\\Detection-of-bacteria-in-water-using-Yolo-images\\Detect\\Detection-of-bacteria-in-water-using-Yolo-images\\temp\\images/train\\EMDS7-G024-019-0400_aug.png\n",
      "Augmented Image saved to: D:\\KULIAH\\SEMESTER 5\\RSBP\\Bacteri\\Detection-of-bacteria-in-water-using-Yolo-images\\Detect\\Detection-of-bacteria-in-water-using-Yolo-images\\temp\\images/train\\EMDS7-G035-031-0400_aug.png\n",
      "Augmented Image saved to: D:\\KULIAH\\SEMESTER 5\\RSBP\\Bacteri\\Detection-of-bacteria-in-water-using-Yolo-images\\Detect\\Detection-of-bacteria-in-water-using-Yolo-images\\temp\\images/train\\EMDS7-G004-006-0400_aug.png\n",
      "Augmented Image saved to: D:\\KULIAH\\SEMESTER 5\\RSBP\\Bacteri\\Detection-of-bacteria-in-water-using-Yolo-images\\Detect\\Detection-of-bacteria-in-water-using-Yolo-images\\temp\\images/train\\EMDS7-G022-189-0400_aug.png\n",
      "Augmented Image saved to: D:\\KULIAH\\SEMESTER 5\\RSBP\\Bacteri\\Detection-of-bacteria-in-water-using-Yolo-images\\Detect\\Detection-of-bacteria-in-water-using-Yolo-images\\temp\\images/train\\EMDS7-G010-018-0400_aug.png\n",
      "Augmented Image saved to: D:\\KULIAH\\SEMESTER 5\\RSBP\\Bacteri\\Detection-of-bacteria-in-water-using-Yolo-images\\Detect\\Detection-of-bacteria-in-water-using-Yolo-images\\temp\\images/train\\EMDS7-G003-120-0400_aug.png\n",
      "Augmented Image saved to: D:\\KULIAH\\SEMESTER 5\\RSBP\\Bacteri\\Detection-of-bacteria-in-water-using-Yolo-images\\Detect\\Detection-of-bacteria-in-water-using-Yolo-images\\temp\\images/train\\EMDS7-G028-001-0400_aug.png\n",
      "Augmented Image saved to: D:\\KULIAH\\SEMESTER 5\\RSBP\\Bacteri\\Detection-of-bacteria-in-water-using-Yolo-images\\Detect\\Detection-of-bacteria-in-water-using-Yolo-images\\temp\\images/train\\EMDS7-G003-074-0400_aug.png\n",
      "Augmented Image saved to: D:\\KULIAH\\SEMESTER 5\\RSBP\\Bacteri\\Detection-of-bacteria-in-water-using-Yolo-images\\Detect\\Detection-of-bacteria-in-water-using-Yolo-images\\temp\\images/train\\EMDS7-G012-058-0400_aug.png\n",
      "Augmented Image saved to: D:\\KULIAH\\SEMESTER 5\\RSBP\\Bacteri\\Detection-of-bacteria-in-water-using-Yolo-images\\Detect\\Detection-of-bacteria-in-water-using-Yolo-images\\temp\\images/train\\EMDS7-G038-009-0400_aug.png\n",
      "Augmented Image saved to: D:\\KULIAH\\SEMESTER 5\\RSBP\\Bacteri\\Detection-of-bacteria-in-water-using-Yolo-images\\Detect\\Detection-of-bacteria-in-water-using-Yolo-images\\temp\\images/train\\EMDS7-G032-022-0400_aug.png\n",
      "Augmented Image saved to: D:\\KULIAH\\SEMESTER 5\\RSBP\\Bacteri\\Detection-of-bacteria-in-water-using-Yolo-images\\Detect\\Detection-of-bacteria-in-water-using-Yolo-images\\temp\\images/train\\EMDS7-G003-124-0400_aug.png\n",
      "Augmented Image saved to: D:\\KULIAH\\SEMESTER 5\\RSBP\\Bacteri\\Detection-of-bacteria-in-water-using-Yolo-images\\Detect\\Detection-of-bacteria-in-water-using-Yolo-images\\temp\\images/train\\EMDS7-G003-015-0400_aug.png\n",
      "Augmented Image saved to: D:\\KULIAH\\SEMESTER 5\\RSBP\\Bacteri\\Detection-of-bacteria-in-water-using-Yolo-images\\Detect\\Detection-of-bacteria-in-water-using-Yolo-images\\temp\\images/train\\EMDS7-G003-002-0400_aug.png\n",
      "Augmented Image saved to: D:\\KULIAH\\SEMESTER 5\\RSBP\\Bacteri\\Detection-of-bacteria-in-water-using-Yolo-images\\Detect\\Detection-of-bacteria-in-water-using-Yolo-images\\temp\\images/train\\EMDS7-G036-006-0400_aug.png\n",
      "Augmented Image saved to: D:\\KULIAH\\SEMESTER 5\\RSBP\\Bacteri\\Detection-of-bacteria-in-water-using-Yolo-images\\Detect\\Detection-of-bacteria-in-water-using-Yolo-images\\temp\\images/train\\EMDS7-G031-014-0400_aug.png\n",
      "Augmented Image saved to: D:\\KULIAH\\SEMESTER 5\\RSBP\\Bacteri\\Detection-of-bacteria-in-water-using-Yolo-images\\Detect\\Detection-of-bacteria-in-water-using-Yolo-images\\temp\\images/train\\EMDS7-G022-048-0400_aug.png\n",
      "Augmented Image saved to: D:\\KULIAH\\SEMESTER 5\\RSBP\\Bacteri\\Detection-of-bacteria-in-water-using-Yolo-images\\Detect\\Detection-of-bacteria-in-water-using-Yolo-images\\temp\\images/train\\EMDS7-G035-041-0400_aug.png\n",
      "Augmented Image saved to: D:\\KULIAH\\SEMESTER 5\\RSBP\\Bacteri\\Detection-of-bacteria-in-water-using-Yolo-images\\Detect\\Detection-of-bacteria-in-water-using-Yolo-images\\temp\\images/train\\EMDS7-G022-232-0400_aug.png\n",
      "Augmented Image saved to: D:\\KULIAH\\SEMESTER 5\\RSBP\\Bacteri\\Detection-of-bacteria-in-water-using-Yolo-images\\Detect\\Detection-of-bacteria-in-water-using-Yolo-images\\temp\\images/train\\EMDS7-G003-168-0400_aug.png\n",
      "Augmented Image saved to: D:\\KULIAH\\SEMESTER 5\\RSBP\\Bacteri\\Detection-of-bacteria-in-water-using-Yolo-images\\Detect\\Detection-of-bacteria-in-water-using-Yolo-images\\temp\\images/train\\EMDS7-G028-074-0400_aug.png\n",
      "Augmented Image saved to: D:\\KULIAH\\SEMESTER 5\\RSBP\\Bacteri\\Detection-of-bacteria-in-water-using-Yolo-images\\Detect\\Detection-of-bacteria-in-water-using-Yolo-images\\temp\\images/train\\EMDS7-G020-002-0400_aug.png\n",
      "Augmented Image saved to: D:\\KULIAH\\SEMESTER 5\\RSBP\\Bacteri\\Detection-of-bacteria-in-water-using-Yolo-images\\Detect\\Detection-of-bacteria-in-water-using-Yolo-images\\temp\\images/train\\EMDS7-G039-042-0400_aug.png\n",
      "Augmented Image saved to: D:\\KULIAH\\SEMESTER 5\\RSBP\\Bacteri\\Detection-of-bacteria-in-water-using-Yolo-images\\Detect\\Detection-of-bacteria-in-water-using-Yolo-images\\temp\\images/train\\EMDS7-G025-063-0400_aug.png\n",
      "Augmented Image saved to: D:\\KULIAH\\SEMESTER 5\\RSBP\\Bacteri\\Detection-of-bacteria-in-water-using-Yolo-images\\Detect\\Detection-of-bacteria-in-water-using-Yolo-images\\temp\\images/train\\EMDS7-G025-028-0400_aug.png\n",
      "Augmented Image saved to: D:\\KULIAH\\SEMESTER 5\\RSBP\\Bacteri\\Detection-of-bacteria-in-water-using-Yolo-images\\Detect\\Detection-of-bacteria-in-water-using-Yolo-images\\temp\\images/train\\EMDS7-G022-211-0400_aug.png\n",
      "Augmented Image saved to: D:\\KULIAH\\SEMESTER 5\\RSBP\\Bacteri\\Detection-of-bacteria-in-water-using-Yolo-images\\Detect\\Detection-of-bacteria-in-water-using-Yolo-images\\temp\\images/train\\EMDS7-G023-011-0400_aug.png\n",
      "Augmented Image saved to: D:\\KULIAH\\SEMESTER 5\\RSBP\\Bacteri\\Detection-of-bacteria-in-water-using-Yolo-images\\Detect\\Detection-of-bacteria-in-water-using-Yolo-images\\temp\\images/train\\EMDS7-G009-052-0400_aug.png\n",
      "Augmented Image saved to: D:\\KULIAH\\SEMESTER 5\\RSBP\\Bacteri\\Detection-of-bacteria-in-water-using-Yolo-images\\Detect\\Detection-of-bacteria-in-water-using-Yolo-images\\temp\\images/train\\EMDS7-G005-008-0400_aug.png\n",
      "Augmented Image saved to: D:\\KULIAH\\SEMESTER 5\\RSBP\\Bacteri\\Detection-of-bacteria-in-water-using-Yolo-images\\Detect\\Detection-of-bacteria-in-water-using-Yolo-images\\temp\\images/train\\EMDS7-G036-009-0400_aug.png\n",
      "Augmented Image saved to: D:\\KULIAH\\SEMESTER 5\\RSBP\\Bacteri\\Detection-of-bacteria-in-water-using-Yolo-images\\Detect\\Detection-of-bacteria-in-water-using-Yolo-images\\temp\\images/train\\EMDS7-G039-047-0400_aug.png\n",
      "Augmented Image saved to: D:\\KULIAH\\SEMESTER 5\\RSBP\\Bacteri\\Detection-of-bacteria-in-water-using-Yolo-images\\Detect\\Detection-of-bacteria-in-water-using-Yolo-images\\temp\\images/train\\EMDS7-G022-164-0400_aug.png\n",
      "Augmented Image saved to: D:\\KULIAH\\SEMESTER 5\\RSBP\\Bacteri\\Detection-of-bacteria-in-water-using-Yolo-images\\Detect\\Detection-of-bacteria-in-water-using-Yolo-images\\temp\\images/train\\EMDS7-G003-079-0400_aug.png\n",
      "Augmented Image saved to: D:\\KULIAH\\SEMESTER 5\\RSBP\\Bacteri\\Detection-of-bacteria-in-water-using-Yolo-images\\Detect\\Detection-of-bacteria-in-water-using-Yolo-images\\temp\\images/train\\EMDS7-G033-025-0400_aug.png\n",
      "Augmented Image saved to: D:\\KULIAH\\SEMESTER 5\\RSBP\\Bacteri\\Detection-of-bacteria-in-water-using-Yolo-images\\Detect\\Detection-of-bacteria-in-water-using-Yolo-images\\temp\\images/train\\EMDS7-G009-051-0400_aug.png\n",
      "Augmented Image saved to: D:\\KULIAH\\SEMESTER 5\\RSBP\\Bacteri\\Detection-of-bacteria-in-water-using-Yolo-images\\Detect\\Detection-of-bacteria-in-water-using-Yolo-images\\temp\\images/train\\EMDS7-G039-075-0400_aug.png\n",
      "Augmented Image saved to: D:\\KULIAH\\SEMESTER 5\\RSBP\\Bacteri\\Detection-of-bacteria-in-water-using-Yolo-images\\Detect\\Detection-of-bacteria-in-water-using-Yolo-images\\temp\\images/train\\EMDS7-G017-020-0400_aug.png\n",
      "Augmented Image saved to: D:\\KULIAH\\SEMESTER 5\\RSBP\\Bacteri\\Detection-of-bacteria-in-water-using-Yolo-images\\Detect\\Detection-of-bacteria-in-water-using-Yolo-images\\temp\\images/train\\EMDS7-G038-062-0400_aug.png\n",
      "Augmented Image saved to: D:\\KULIAH\\SEMESTER 5\\RSBP\\Bacteri\\Detection-of-bacteria-in-water-using-Yolo-images\\Detect\\Detection-of-bacteria-in-water-using-Yolo-images\\temp\\images/train\\EMDS7-G039-051-0400_aug.png\n",
      "Augmented Image saved to: D:\\KULIAH\\SEMESTER 5\\RSBP\\Bacteri\\Detection-of-bacteria-in-water-using-Yolo-images\\Detect\\Detection-of-bacteria-in-water-using-Yolo-images\\temp\\images/train\\EMDS7-G032-026-0400_aug.png\n",
      "Augmented Image saved to: D:\\KULIAH\\SEMESTER 5\\RSBP\\Bacteri\\Detection-of-bacteria-in-water-using-Yolo-images\\Detect\\Detection-of-bacteria-in-water-using-Yolo-images\\temp\\images/train\\EMDS7-G003-237-0400_aug.png\n",
      "Augmented Image saved to: D:\\KULIAH\\SEMESTER 5\\RSBP\\Bacteri\\Detection-of-bacteria-in-water-using-Yolo-images\\Detect\\Detection-of-bacteria-in-water-using-Yolo-images\\temp\\images/train\\EMDS7-G031-025-0400_aug.png\n",
      "Augmented Image saved to: D:\\KULIAH\\SEMESTER 5\\RSBP\\Bacteri\\Detection-of-bacteria-in-water-using-Yolo-images\\Detect\\Detection-of-bacteria-in-water-using-Yolo-images\\temp\\images/train\\EMDS7-G032-007-0400_aug.png\n",
      "Augmented Image saved to: D:\\KULIAH\\SEMESTER 5\\RSBP\\Bacteri\\Detection-of-bacteria-in-water-using-Yolo-images\\Detect\\Detection-of-bacteria-in-water-using-Yolo-images\\temp\\images/train\\EMDS7-G030-040-0400_aug.png\n",
      "Augmented Image saved to: D:\\KULIAH\\SEMESTER 5\\RSBP\\Bacteri\\Detection-of-bacteria-in-water-using-Yolo-images\\Detect\\Detection-of-bacteria-in-water-using-Yolo-images\\temp\\images/train\\EMDS7-G001-040-0400_aug.png\n",
      "Augmented Image saved to: D:\\KULIAH\\SEMESTER 5\\RSBP\\Bacteri\\Detection-of-bacteria-in-water-using-Yolo-images\\Detect\\Detection-of-bacteria-in-water-using-Yolo-images\\temp\\images/train\\EMDS7-G020-020-0400_aug.png\n",
      "Augmented Image saved to: D:\\KULIAH\\SEMESTER 5\\RSBP\\Bacteri\\Detection-of-bacteria-in-water-using-Yolo-images\\Detect\\Detection-of-bacteria-in-water-using-Yolo-images\\temp\\images/train\\EMDS7-G032-064-0400_aug.png\n",
      "Augmented Image saved to: D:\\KULIAH\\SEMESTER 5\\RSBP\\Bacteri\\Detection-of-bacteria-in-water-using-Yolo-images\\Detect\\Detection-of-bacteria-in-water-using-Yolo-images\\temp\\images/train\\EMDS7-G028-027-0400_aug.png\n",
      "Augmented Image saved to: D:\\KULIAH\\SEMESTER 5\\RSBP\\Bacteri\\Detection-of-bacteria-in-water-using-Yolo-images\\Detect\\Detection-of-bacteria-in-water-using-Yolo-images\\temp\\images/train\\EMDS7-G006-002-0400_aug.png\n",
      "Augmented Image saved to: D:\\KULIAH\\SEMESTER 5\\RSBP\\Bacteri\\Detection-of-bacteria-in-water-using-Yolo-images\\Detect\\Detection-of-bacteria-in-water-using-Yolo-images\\temp\\images/train\\EMDS7-G022-044-0400_aug.png\n",
      "Augmented Image saved to: D:\\KULIAH\\SEMESTER 5\\RSBP\\Bacteri\\Detection-of-bacteria-in-water-using-Yolo-images\\Detect\\Detection-of-bacteria-in-water-using-Yolo-images\\temp\\images/train\\EMDS7-G018-054-0400_aug.png\n",
      "Augmented Image saved to: D:\\KULIAH\\SEMESTER 5\\RSBP\\Bacteri\\Detection-of-bacteria-in-water-using-Yolo-images\\Detect\\Detection-of-bacteria-in-water-using-Yolo-images\\temp\\images/train\\EMDS7-G025-008-0400_aug.png\n",
      "Augmented Image saved to: D:\\KULIAH\\SEMESTER 5\\RSBP\\Bacteri\\Detection-of-bacteria-in-water-using-Yolo-images\\Detect\\Detection-of-bacteria-in-water-using-Yolo-images\\temp\\images/train\\EMDS7-G039-016-0400_aug.png\n",
      "Augmented Image saved to: D:\\KULIAH\\SEMESTER 5\\RSBP\\Bacteri\\Detection-of-bacteria-in-water-using-Yolo-images\\Detect\\Detection-of-bacteria-in-water-using-Yolo-images\\temp\\images/train\\EMDS7-G004-005-0400_aug.png\n",
      "Augmented Image saved to: D:\\KULIAH\\SEMESTER 5\\RSBP\\Bacteri\\Detection-of-bacteria-in-water-using-Yolo-images\\Detect\\Detection-of-bacteria-in-water-using-Yolo-images\\temp\\images/train\\EMDS7-G009-039-0400_aug.png\n",
      "Augmented Image saved to: D:\\KULIAH\\SEMESTER 5\\RSBP\\Bacteri\\Detection-of-bacteria-in-water-using-Yolo-images\\Detect\\Detection-of-bacteria-in-water-using-Yolo-images\\temp\\images/train\\EMDS7-G022-012-0400_aug.png\n",
      "Augmented Image saved to: D:\\KULIAH\\SEMESTER 5\\RSBP\\Bacteri\\Detection-of-bacteria-in-water-using-Yolo-images\\Detect\\Detection-of-bacteria-in-water-using-Yolo-images\\temp\\images/train\\EMDS7-G020-015-0400_aug.png\n",
      "Augmented Image saved to: D:\\KULIAH\\SEMESTER 5\\RSBP\\Bacteri\\Detection-of-bacteria-in-water-using-Yolo-images\\Detect\\Detection-of-bacteria-in-water-using-Yolo-images\\temp\\images/train\\EMDS7-G008-042-0400_aug.png\n",
      "Augmented Image saved to: D:\\KULIAH\\SEMESTER 5\\RSBP\\Bacteri\\Detection-of-bacteria-in-water-using-Yolo-images\\Detect\\Detection-of-bacteria-in-water-using-Yolo-images\\temp\\images/train\\EMDS7-G004-013-0400_aug.png\n",
      "Augmented Image saved to: D:\\KULIAH\\SEMESTER 5\\RSBP\\Bacteri\\Detection-of-bacteria-in-water-using-Yolo-images\\Detect\\Detection-of-bacteria-in-water-using-Yolo-images\\temp\\images/train\\EMDS7-G017-005-0400_aug.png\n",
      "Augmented Image saved to: D:\\KULIAH\\SEMESTER 5\\RSBP\\Bacteri\\Detection-of-bacteria-in-water-using-Yolo-images\\Detect\\Detection-of-bacteria-in-water-using-Yolo-images\\temp\\images/train\\EMDS7-G016-006-0400_aug.png\n",
      "Augmented Image saved to: D:\\KULIAH\\SEMESTER 5\\RSBP\\Bacteri\\Detection-of-bacteria-in-water-using-Yolo-images\\Detect\\Detection-of-bacteria-in-water-using-Yolo-images\\temp\\images/train\\EMDS7-G036-046-0400_aug.png\n",
      "Augmented Image saved to: D:\\KULIAH\\SEMESTER 5\\RSBP\\Bacteri\\Detection-of-bacteria-in-water-using-Yolo-images\\Detect\\Detection-of-bacteria-in-water-using-Yolo-images\\temp\\images/train\\EMDS7-G036-026-0400_aug.png\n",
      "Augmented Image saved to: D:\\KULIAH\\SEMESTER 5\\RSBP\\Bacteri\\Detection-of-bacteria-in-water-using-Yolo-images\\Detect\\Detection-of-bacteria-in-water-using-Yolo-images\\temp\\images/train\\EMDS7-G022-124-0400_aug.png\n",
      "Augmented Image saved to: D:\\KULIAH\\SEMESTER 5\\RSBP\\Bacteri\\Detection-of-bacteria-in-water-using-Yolo-images\\Detect\\Detection-of-bacteria-in-water-using-Yolo-images\\temp\\images/train\\EMDS7-G001-028-0400_aug.png\n",
      "Augmented Image saved to: D:\\KULIAH\\SEMESTER 5\\RSBP\\Bacteri\\Detection-of-bacteria-in-water-using-Yolo-images\\Detect\\Detection-of-bacteria-in-water-using-Yolo-images\\temp\\images/train\\EMDS7-G019-026-0400_aug.png\n",
      "Augmented Image saved to: D:\\KULIAH\\SEMESTER 5\\RSBP\\Bacteri\\Detection-of-bacteria-in-water-using-Yolo-images\\Detect\\Detection-of-bacteria-in-water-using-Yolo-images\\temp\\images/train\\EMDS7-G022-213-0400_aug.png\n",
      "Augmented Image saved to: D:\\KULIAH\\SEMESTER 5\\RSBP\\Bacteri\\Detection-of-bacteria-in-water-using-Yolo-images\\Detect\\Detection-of-bacteria-in-water-using-Yolo-images\\temp\\images/train\\EMDS7-G038-047-0400_aug.png\n",
      "Augmented Image saved to: D:\\KULIAH\\SEMESTER 5\\RSBP\\Bacteri\\Detection-of-bacteria-in-water-using-Yolo-images\\Detect\\Detection-of-bacteria-in-water-using-Yolo-images\\temp\\images/train\\EMDS7-G031-021-0400_aug.png\n",
      "Augmented Image saved to: D:\\KULIAH\\SEMESTER 5\\RSBP\\Bacteri\\Detection-of-bacteria-in-water-using-Yolo-images\\Detect\\Detection-of-bacteria-in-water-using-Yolo-images\\temp\\images/train\\EMDS7-G016-017-0400_aug.png\n",
      "Augmented Image saved to: D:\\KULIAH\\SEMESTER 5\\RSBP\\Bacteri\\Detection-of-bacteria-in-water-using-Yolo-images\\Detect\\Detection-of-bacteria-in-water-using-Yolo-images\\temp\\images/train\\EMDS7-G028-009-0400_aug.png\n",
      "Augmented Image saved to: D:\\KULIAH\\SEMESTER 5\\RSBP\\Bacteri\\Detection-of-bacteria-in-water-using-Yolo-images\\Detect\\Detection-of-bacteria-in-water-using-Yolo-images\\temp\\images/train\\EMDS7-G010-007-0400_aug.png\n",
      "Augmented Image saved to: D:\\KULIAH\\SEMESTER 5\\RSBP\\Bacteri\\Detection-of-bacteria-in-water-using-Yolo-images\\Detect\\Detection-of-bacteria-in-water-using-Yolo-images\\temp\\images/train\\EMDS7-G017-032-0400_aug.png\n",
      "Augmented Image saved to: D:\\KULIAH\\SEMESTER 5\\RSBP\\Bacteri\\Detection-of-bacteria-in-water-using-Yolo-images\\Detect\\Detection-of-bacteria-in-water-using-Yolo-images\\temp\\images/train\\EMDS7-G008-010-0400_aug.png\n",
      "Augmented Image saved to: D:\\KULIAH\\SEMESTER 5\\RSBP\\Bacteri\\Detection-of-bacteria-in-water-using-Yolo-images\\Detect\\Detection-of-bacteria-in-water-using-Yolo-images\\temp\\images/train\\EMDS7-G032-055-0400_aug.png\n",
      "Augmented Image saved to: D:\\KULIAH\\SEMESTER 5\\RSBP\\Bacteri\\Detection-of-bacteria-in-water-using-Yolo-images\\Detect\\Detection-of-bacteria-in-water-using-Yolo-images\\temp\\images/train\\EMDS7-G018-016-0400_aug.png\n",
      "Augmented Image saved to: D:\\KULIAH\\SEMESTER 5\\RSBP\\Bacteri\\Detection-of-bacteria-in-water-using-Yolo-images\\Detect\\Detection-of-bacteria-in-water-using-Yolo-images\\temp\\images/train\\EMDS7-G004-042-0400_aug.png\n",
      "Augmented Image saved to: D:\\KULIAH\\SEMESTER 5\\RSBP\\Bacteri\\Detection-of-bacteria-in-water-using-Yolo-images\\Detect\\Detection-of-bacteria-in-water-using-Yolo-images\\temp\\images/train\\EMDS7-G038-005-0400_aug.png\n",
      "Augmented Image saved to: D:\\KULIAH\\SEMESTER 5\\RSBP\\Bacteri\\Detection-of-bacteria-in-water-using-Yolo-images\\Detect\\Detection-of-bacteria-in-water-using-Yolo-images\\temp\\images/train\\EMDS7-G039-045-0400_aug.png\n",
      "Augmented Image saved to: D:\\KULIAH\\SEMESTER 5\\RSBP\\Bacteri\\Detection-of-bacteria-in-water-using-Yolo-images\\Detect\\Detection-of-bacteria-in-water-using-Yolo-images\\temp\\images/train\\EMDS7-G036-067-0400_aug.png\n",
      "Augmented Image saved to: D:\\KULIAH\\SEMESTER 5\\RSBP\\Bacteri\\Detection-of-bacteria-in-water-using-Yolo-images\\Detect\\Detection-of-bacteria-in-water-using-Yolo-images\\temp\\images/train\\EMDS7-G025-022-0400_aug.png\n",
      "Augmented Image saved to: D:\\KULIAH\\SEMESTER 5\\RSBP\\Bacteri\\Detection-of-bacteria-in-water-using-Yolo-images\\Detect\\Detection-of-bacteria-in-water-using-Yolo-images\\temp\\images/train\\EMDS7-G017-053-0400_aug.png\n",
      "Augmented Image saved to: D:\\KULIAH\\SEMESTER 5\\RSBP\\Bacteri\\Detection-of-bacteria-in-water-using-Yolo-images\\Detect\\Detection-of-bacteria-in-water-using-Yolo-images\\temp\\images/train\\EMDS7-G003-040-0400_aug.png\n",
      "Augmented Image saved to: D:\\KULIAH\\SEMESTER 5\\RSBP\\Bacteri\\Detection-of-bacteria-in-water-using-Yolo-images\\Detect\\Detection-of-bacteria-in-water-using-Yolo-images\\temp\\images/train\\EMDS7-G009-027-0400_aug.png\n",
      "Augmented Image saved to: D:\\KULIAH\\SEMESTER 5\\RSBP\\Bacteri\\Detection-of-bacteria-in-water-using-Yolo-images\\Detect\\Detection-of-bacteria-in-water-using-Yolo-images\\temp\\images/train\\EMDS7-G003-134-0400_aug.png\n",
      "Augmented Image saved to: D:\\KULIAH\\SEMESTER 5\\RSBP\\Bacteri\\Detection-of-bacteria-in-water-using-Yolo-images\\Detect\\Detection-of-bacteria-in-water-using-Yolo-images\\temp\\images/train\\EMDS7-G031-019-0400_aug.png\n",
      "Augmented Image saved to: D:\\KULIAH\\SEMESTER 5\\RSBP\\Bacteri\\Detection-of-bacteria-in-water-using-Yolo-images\\Detect\\Detection-of-bacteria-in-water-using-Yolo-images\\temp\\images/train\\EMDS7-G015-006-0400_aug.png\n",
      "Augmented Image saved to: D:\\KULIAH\\SEMESTER 5\\RSBP\\Bacteri\\Detection-of-bacteria-in-water-using-Yolo-images\\Detect\\Detection-of-bacteria-in-water-using-Yolo-images\\temp\\images/train\\EMDS7-G022-273-0400_aug.png\n",
      "Augmented Image saved to: D:\\KULIAH\\SEMESTER 5\\RSBP\\Bacteri\\Detection-of-bacteria-in-water-using-Yolo-images\\Detect\\Detection-of-bacteria-in-water-using-Yolo-images\\temp\\images/train\\EMDS7-G035-029-0400_aug.png\n",
      "Augmented Image saved to: D:\\KULIAH\\SEMESTER 5\\RSBP\\Bacteri\\Detection-of-bacteria-in-water-using-Yolo-images\\Detect\\Detection-of-bacteria-in-water-using-Yolo-images\\temp\\images/train\\EMDS7-G019-030-0400_aug.png\n",
      "Augmented Image saved to: D:\\KULIAH\\SEMESTER 5\\RSBP\\Bacteri\\Detection-of-bacteria-in-water-using-Yolo-images\\Detect\\Detection-of-bacteria-in-water-using-Yolo-images\\temp\\images/train\\EMDS7-G034-008-0400_aug.png\n",
      "Augmented Image saved to: D:\\KULIAH\\SEMESTER 5\\RSBP\\Bacteri\\Detection-of-bacteria-in-water-using-Yolo-images\\Detect\\Detection-of-bacteria-in-water-using-Yolo-images\\temp\\images/train\\EMDS7-G025-017-0400_aug.png\n",
      "Augmented Image saved to: D:\\KULIAH\\SEMESTER 5\\RSBP\\Bacteri\\Detection-of-bacteria-in-water-using-Yolo-images\\Detect\\Detection-of-bacteria-in-water-using-Yolo-images\\temp\\images/train\\EMDS7-G032-081-0400_aug.png\n",
      "Augmented Image saved to: D:\\KULIAH\\SEMESTER 5\\RSBP\\Bacteri\\Detection-of-bacteria-in-water-using-Yolo-images\\Detect\\Detection-of-bacteria-in-water-using-Yolo-images\\temp\\images/train\\EMDS7-G012-111-0400_aug.png\n",
      "Augmented Image saved to: D:\\KULIAH\\SEMESTER 5\\RSBP\\Bacteri\\Detection-of-bacteria-in-water-using-Yolo-images\\Detect\\Detection-of-bacteria-in-water-using-Yolo-images\\temp\\images/train\\EMDS7-G017-007-0400_aug.png\n",
      "Augmented Image saved to: D:\\KULIAH\\SEMESTER 5\\RSBP\\Bacteri\\Detection-of-bacteria-in-water-using-Yolo-images\\Detect\\Detection-of-bacteria-in-water-using-Yolo-images\\temp\\images/train\\EMDS7-G004-021-0400_aug.png\n",
      "Augmented Image saved to: D:\\KULIAH\\SEMESTER 5\\RSBP\\Bacteri\\Detection-of-bacteria-in-water-using-Yolo-images\\Detect\\Detection-of-bacteria-in-water-using-Yolo-images\\temp\\images/train\\EMDS7-G023-029-0400_aug.png\n",
      "Augmented Image saved to: D:\\KULIAH\\SEMESTER 5\\RSBP\\Bacteri\\Detection-of-bacteria-in-water-using-Yolo-images\\Detect\\Detection-of-bacteria-in-water-using-Yolo-images\\temp\\images/train\\EMDS7-G018-024-0400_aug.png\n",
      "Augmented Image saved to: D:\\KULIAH\\SEMESTER 5\\RSBP\\Bacteri\\Detection-of-bacteria-in-water-using-Yolo-images\\Detect\\Detection-of-bacteria-in-water-using-Yolo-images\\temp\\images/train\\EMDS7-G017-044-0400_aug.png\n",
      "Augmented Image saved to: D:\\KULIAH\\SEMESTER 5\\RSBP\\Bacteri\\Detection-of-bacteria-in-water-using-Yolo-images\\Detect\\Detection-of-bacteria-in-water-using-Yolo-images\\temp\\images/train\\EMDS7-G004-067-0400_aug.png\n",
      "Augmented Image saved to: D:\\KULIAH\\SEMESTER 5\\RSBP\\Bacteri\\Detection-of-bacteria-in-water-using-Yolo-images\\Detect\\Detection-of-bacteria-in-water-using-Yolo-images\\temp\\images/train\\EMDS7-G027-005-0400_aug.png\n",
      "Augmented Image saved to: D:\\KULIAH\\SEMESTER 5\\RSBP\\Bacteri\\Detection-of-bacteria-in-water-using-Yolo-images\\Detect\\Detection-of-bacteria-in-water-using-Yolo-images\\temp\\images/train\\EMDS7-G035-005-0400_aug.png\n",
      "Augmented Image saved to: D:\\KULIAH\\SEMESTER 5\\RSBP\\Bacteri\\Detection-of-bacteria-in-water-using-Yolo-images\\Detect\\Detection-of-bacteria-in-water-using-Yolo-images\\temp\\images/train\\EMDS7-G003-221-0400_aug.png\n",
      "Augmented Image saved to: D:\\KULIAH\\SEMESTER 5\\RSBP\\Bacteri\\Detection-of-bacteria-in-water-using-Yolo-images\\Detect\\Detection-of-bacteria-in-water-using-Yolo-images\\temp\\images/train\\EMDS7-G012-113-0400_aug.png\n",
      "Augmented Image saved to: D:\\KULIAH\\SEMESTER 5\\RSBP\\Bacteri\\Detection-of-bacteria-in-water-using-Yolo-images\\Detect\\Detection-of-bacteria-in-water-using-Yolo-images\\temp\\images/train\\EMDS7-G007-004-0400_aug.png\n",
      "Augmented Image saved to: D:\\KULIAH\\SEMESTER 5\\RSBP\\Bacteri\\Detection-of-bacteria-in-water-using-Yolo-images\\Detect\\Detection-of-bacteria-in-water-using-Yolo-images\\temp\\images/train\\EMDS7-G015-013-0400_aug.png\n",
      "Augmented Image saved to: D:\\KULIAH\\SEMESTER 5\\RSBP\\Bacteri\\Detection-of-bacteria-in-water-using-Yolo-images\\Detect\\Detection-of-bacteria-in-water-using-Yolo-images\\temp\\images/train\\EMDS7-G022-006-0400_aug.png\n",
      "Augmented Image saved to: D:\\KULIAH\\SEMESTER 5\\RSBP\\Bacteri\\Detection-of-bacteria-in-water-using-Yolo-images\\Detect\\Detection-of-bacteria-in-water-using-Yolo-images\\temp\\images/train\\EMDS7-G022-216-0400_aug.png\n",
      "Augmented Image saved to: D:\\KULIAH\\SEMESTER 5\\RSBP\\Bacteri\\Detection-of-bacteria-in-water-using-Yolo-images\\Detect\\Detection-of-bacteria-in-water-using-Yolo-images\\temp\\images/train\\EMDS7-G017-043-0400_aug.png\n",
      "Augmented Image saved to: D:\\KULIAH\\SEMESTER 5\\RSBP\\Bacteri\\Detection-of-bacteria-in-water-using-Yolo-images\\Detect\\Detection-of-bacteria-in-water-using-Yolo-images\\temp\\images/train\\EMDS7-G022-214-0400_aug.png\n",
      "Augmented Image saved to: D:\\KULIAH\\SEMESTER 5\\RSBP\\Bacteri\\Detection-of-bacteria-in-water-using-Yolo-images\\Detect\\Detection-of-bacteria-in-water-using-Yolo-images\\temp\\images/train\\EMDS7-G014-082-0400_aug.png\n",
      "Augmented Image saved to: D:\\KULIAH\\SEMESTER 5\\RSBP\\Bacteri\\Detection-of-bacteria-in-water-using-Yolo-images\\Detect\\Detection-of-bacteria-in-water-using-Yolo-images\\temp\\images/train\\EMDS7-G022-263-0400_aug.png\n",
      "Augmented Image saved to: D:\\KULIAH\\SEMESTER 5\\RSBP\\Bacteri\\Detection-of-bacteria-in-water-using-Yolo-images\\Detect\\Detection-of-bacteria-in-water-using-Yolo-images\\temp\\images/train\\EMDS7-G039-061-0400_aug.png\n",
      "Augmented Image saved to: D:\\KULIAH\\SEMESTER 5\\RSBP\\Bacteri\\Detection-of-bacteria-in-water-using-Yolo-images\\Detect\\Detection-of-bacteria-in-water-using-Yolo-images\\temp\\images/train\\EMDS7-G022-015-0400_aug.png\n",
      "Augmented Image saved to: D:\\KULIAH\\SEMESTER 5\\RSBP\\Bacteri\\Detection-of-bacteria-in-water-using-Yolo-images\\Detect\\Detection-of-bacteria-in-water-using-Yolo-images\\temp\\images/train\\EMDS7-G003-164-0400_aug.png\n",
      "Augmented Image saved to: D:\\KULIAH\\SEMESTER 5\\RSBP\\Bacteri\\Detection-of-bacteria-in-water-using-Yolo-images\\Detect\\Detection-of-bacteria-in-water-using-Yolo-images\\temp\\images/train\\EMDS7-G028-063-0400_aug.png\n",
      "Augmented Image saved to: D:\\KULIAH\\SEMESTER 5\\RSBP\\Bacteri\\Detection-of-bacteria-in-water-using-Yolo-images\\Detect\\Detection-of-bacteria-in-water-using-Yolo-images\\temp\\images/train\\EMDS7-G014-015-0400_aug.png\n",
      "Augmented Image saved to: D:\\KULIAH\\SEMESTER 5\\RSBP\\Bacteri\\Detection-of-bacteria-in-water-using-Yolo-images\\Detect\\Detection-of-bacteria-in-water-using-Yolo-images\\temp\\images/train\\EMDS7-G022-119-0400_aug.png\n",
      "Augmented Image saved to: D:\\KULIAH\\SEMESTER 5\\RSBP\\Bacteri\\Detection-of-bacteria-in-water-using-Yolo-images\\Detect\\Detection-of-bacteria-in-water-using-Yolo-images\\temp\\images/train\\EMDS7-G027-003-0400_aug.png\n",
      "Augmented Image saved to: D:\\KULIAH\\SEMESTER 5\\RSBP\\Bacteri\\Detection-of-bacteria-in-water-using-Yolo-images\\Detect\\Detection-of-bacteria-in-water-using-Yolo-images\\temp\\images/train\\EMDS7-G004-007-0400_aug.png\n",
      "Augmented Image saved to: D:\\KULIAH\\SEMESTER 5\\RSBP\\Bacteri\\Detection-of-bacteria-in-water-using-Yolo-images\\Detect\\Detection-of-bacteria-in-water-using-Yolo-images\\temp\\images/train\\EMDS7-G025-004-0400_aug.png\n",
      "Augmented Image saved to: D:\\KULIAH\\SEMESTER 5\\RSBP\\Bacteri\\Detection-of-bacteria-in-water-using-Yolo-images\\Detect\\Detection-of-bacteria-in-water-using-Yolo-images\\temp\\images/train\\EMDS7-G007-007-0400_aug.png\n",
      "Augmented Image saved to: D:\\KULIAH\\SEMESTER 5\\RSBP\\Bacteri\\Detection-of-bacteria-in-water-using-Yolo-images\\Detect\\Detection-of-bacteria-in-water-using-Yolo-images\\temp\\images/train\\EMDS7-G018-074-0400_aug.png\n",
      "Augmented Image saved to: D:\\KULIAH\\SEMESTER 5\\RSBP\\Bacteri\\Detection-of-bacteria-in-water-using-Yolo-images\\Detect\\Detection-of-bacteria-in-water-using-Yolo-images\\temp\\images/train\\EMDS7-G032-023-0400_aug.png\n",
      "Augmented Image saved to: D:\\KULIAH\\SEMESTER 5\\RSBP\\Bacteri\\Detection-of-bacteria-in-water-using-Yolo-images\\Detect\\Detection-of-bacteria-in-water-using-Yolo-images\\temp\\images/train\\EMDS7-G025-053-0400_aug.png\n",
      "Augmented Image saved to: D:\\KULIAH\\SEMESTER 5\\RSBP\\Bacteri\\Detection-of-bacteria-in-water-using-Yolo-images\\Detect\\Detection-of-bacteria-in-water-using-Yolo-images\\temp\\images/train\\EMDS7-G039-001-0400_aug.png\n",
      "Augmented Image saved to: D:\\KULIAH\\SEMESTER 5\\RSBP\\Bacteri\\Detection-of-bacteria-in-water-using-Yolo-images\\Detect\\Detection-of-bacteria-in-water-using-Yolo-images\\temp\\images/train\\EMDS7-G032-075-0400_aug.png\n",
      "Augmented Image saved to: D:\\KULIAH\\SEMESTER 5\\RSBP\\Bacteri\\Detection-of-bacteria-in-water-using-Yolo-images\\Detect\\Detection-of-bacteria-in-water-using-Yolo-images\\temp\\images/train\\EMDS7-G028-033-0400_aug.png\n",
      "Augmented Image saved to: D:\\KULIAH\\SEMESTER 5\\RSBP\\Bacteri\\Detection-of-bacteria-in-water-using-Yolo-images\\Detect\\Detection-of-bacteria-in-water-using-Yolo-images\\temp\\images/train\\EMDS7-G004-047-0400_aug.png\n",
      "Augmented Image saved to: D:\\KULIAH\\SEMESTER 5\\RSBP\\Bacteri\\Detection-of-bacteria-in-water-using-Yolo-images\\Detect\\Detection-of-bacteria-in-water-using-Yolo-images\\temp\\images/train\\EMDS7-G025-040-0400_aug.png\n",
      "Augmented Image saved to: D:\\KULIAH\\SEMESTER 5\\RSBP\\Bacteri\\Detection-of-bacteria-in-water-using-Yolo-images\\Detect\\Detection-of-bacteria-in-water-using-Yolo-images\\temp\\images/train\\EMDS7-G022-052-0400_aug.png\n",
      "Augmented Image saved to: D:\\KULIAH\\SEMESTER 5\\RSBP\\Bacteri\\Detection-of-bacteria-in-water-using-Yolo-images\\Detect\\Detection-of-bacteria-in-water-using-Yolo-images\\temp\\images/train\\EMDS7-G003-085-0400_aug.png\n",
      "Augmented Image saved to: D:\\KULIAH\\SEMESTER 5\\RSBP\\Bacteri\\Detection-of-bacteria-in-water-using-Yolo-images\\Detect\\Detection-of-bacteria-in-water-using-Yolo-images\\temp\\images/train\\EMDS7-G011-059-0400_aug.png\n",
      "Augmented Image saved to: D:\\KULIAH\\SEMESTER 5\\RSBP\\Bacteri\\Detection-of-bacteria-in-water-using-Yolo-images\\Detect\\Detection-of-bacteria-in-water-using-Yolo-images\\temp\\images/train\\EMDS7-G003-071-0400_aug.png\n",
      "Augmented Image saved to: D:\\KULIAH\\SEMESTER 5\\RSBP\\Bacteri\\Detection-of-bacteria-in-water-using-Yolo-images\\Detect\\Detection-of-bacteria-in-water-using-Yolo-images\\temp\\images/train\\EMDS7-G022-271-0400_aug.png\n",
      "Augmented Image saved to: D:\\KULIAH\\SEMESTER 5\\RSBP\\Bacteri\\Detection-of-bacteria-in-water-using-Yolo-images\\Detect\\Detection-of-bacteria-in-water-using-Yolo-images\\temp\\images/train\\EMDS7-G014-030-0400_aug.png\n",
      "Augmented Image saved to: D:\\KULIAH\\SEMESTER 5\\RSBP\\Bacteri\\Detection-of-bacteria-in-water-using-Yolo-images\\Detect\\Detection-of-bacteria-in-water-using-Yolo-images\\temp\\images/train\\EMDS7-G008-004-0400_aug.png\n",
      "Augmented Image saved to: D:\\KULIAH\\SEMESTER 5\\RSBP\\Bacteri\\Detection-of-bacteria-in-water-using-Yolo-images\\Detect\\Detection-of-bacteria-in-water-using-Yolo-images\\temp\\images/train\\EMDS7-G014-058-0400_aug.png\n",
      "Augmented Image saved to: D:\\KULIAH\\SEMESTER 5\\RSBP\\Bacteri\\Detection-of-bacteria-in-water-using-Yolo-images\\Detect\\Detection-of-bacteria-in-water-using-Yolo-images\\temp\\images/train\\EMDS7-G013-001-0400_aug.png\n",
      "Augmented Image saved to: D:\\KULIAH\\SEMESTER 5\\RSBP\\Bacteri\\Detection-of-bacteria-in-water-using-Yolo-images\\Detect\\Detection-of-bacteria-in-water-using-Yolo-images\\temp\\images/train\\EMDS7-G028-041-0400_aug.png\n",
      "Augmented Image saved to: D:\\KULIAH\\SEMESTER 5\\RSBP\\Bacteri\\Detection-of-bacteria-in-water-using-Yolo-images\\Detect\\Detection-of-bacteria-in-water-using-Yolo-images\\temp\\images/train\\EMDS7-G016-007-0400_aug.png\n",
      "Augmented Image saved to: D:\\KULIAH\\SEMESTER 5\\RSBP\\Bacteri\\Detection-of-bacteria-in-water-using-Yolo-images\\Detect\\Detection-of-bacteria-in-water-using-Yolo-images\\temp\\images/train\\EMDS7-G036-017-0400_aug.png\n",
      "Augmented Image saved to: D:\\KULIAH\\SEMESTER 5\\RSBP\\Bacteri\\Detection-of-bacteria-in-water-using-Yolo-images\\Detect\\Detection-of-bacteria-in-water-using-Yolo-images\\temp\\images/train\\EMDS7-G012-069-0400_aug.png\n",
      "Augmented Image saved to: D:\\KULIAH\\SEMESTER 5\\RSBP\\Bacteri\\Detection-of-bacteria-in-water-using-Yolo-images\\Detect\\Detection-of-bacteria-in-water-using-Yolo-images\\temp\\images/train\\EMDS7-G012-067-0400_aug.png\n",
      "Augmented Image saved to: D:\\KULIAH\\SEMESTER 5\\RSBP\\Bacteri\\Detection-of-bacteria-in-water-using-Yolo-images\\Detect\\Detection-of-bacteria-in-water-using-Yolo-images\\temp\\images/train\\EMDS7-G032-071-0400_aug.png\n",
      "Augmented Image saved to: D:\\KULIAH\\SEMESTER 5\\RSBP\\Bacteri\\Detection-of-bacteria-in-water-using-Yolo-images\\Detect\\Detection-of-bacteria-in-water-using-Yolo-images\\temp\\images/train\\EMDS7-G036-065-0400_aug.png\n",
      "Augmented Image saved to: D:\\KULIAH\\SEMESTER 5\\RSBP\\Bacteri\\Detection-of-bacteria-in-water-using-Yolo-images\\Detect\\Detection-of-bacteria-in-water-using-Yolo-images\\temp\\images/train\\EMDS7-G022-093-0400_aug.png\n",
      "Augmented Image saved to: D:\\KULIAH\\SEMESTER 5\\RSBP\\Bacteri\\Detection-of-bacteria-in-water-using-Yolo-images\\Detect\\Detection-of-bacteria-in-water-using-Yolo-images\\temp\\images/train\\EMDS7-G022-098-0400_aug.png\n",
      "Augmented Image saved to: D:\\KULIAH\\SEMESTER 5\\RSBP\\Bacteri\\Detection-of-bacteria-in-water-using-Yolo-images\\Detect\\Detection-of-bacteria-in-water-using-Yolo-images\\temp\\images/train\\EMDS7-G026-009-0400_aug.png\n",
      "Augmented Image saved to: D:\\KULIAH\\SEMESTER 5\\RSBP\\Bacteri\\Detection-of-bacteria-in-water-using-Yolo-images\\Detect\\Detection-of-bacteria-in-water-using-Yolo-images\\temp\\images/train\\EMDS7-G030-032-0400_aug.png\n",
      "Augmented Image saved to: D:\\KULIAH\\SEMESTER 5\\RSBP\\Bacteri\\Detection-of-bacteria-in-water-using-Yolo-images\\Detect\\Detection-of-bacteria-in-water-using-Yolo-images\\temp\\images/train\\EMDS7-G017-022-0400_aug.png\n",
      "Augmented Image saved to: D:\\KULIAH\\SEMESTER 5\\RSBP\\Bacteri\\Detection-of-bacteria-in-water-using-Yolo-images\\Detect\\Detection-of-bacteria-in-water-using-Yolo-images\\temp\\images/train\\EMDS7-G022-035-0400_aug.png\n",
      "Augmented Image saved to: D:\\KULIAH\\SEMESTER 5\\RSBP\\Bacteri\\Detection-of-bacteria-in-water-using-Yolo-images\\Detect\\Detection-of-bacteria-in-water-using-Yolo-images\\temp\\images/train\\EMDS7-G036-081-0400_aug.png\n",
      "Augmented Image saved to: D:\\KULIAH\\SEMESTER 5\\RSBP\\Bacteri\\Detection-of-bacteria-in-water-using-Yolo-images\\Detect\\Detection-of-bacteria-in-water-using-Yolo-images\\temp\\images/train\\EMDS7-G022-131-0400_aug.png\n",
      "Augmented Image saved to: D:\\KULIAH\\SEMESTER 5\\RSBP\\Bacteri\\Detection-of-bacteria-in-water-using-Yolo-images\\Detect\\Detection-of-bacteria-in-water-using-Yolo-images\\temp\\images/train\\EMDS7-G031-029-0400_aug.png\n",
      "Augmented Image saved to: D:\\KULIAH\\SEMESTER 5\\RSBP\\Bacteri\\Detection-of-bacteria-in-water-using-Yolo-images\\Detect\\Detection-of-bacteria-in-water-using-Yolo-images\\temp\\images/train\\EMDS7-G012-005-0400_aug.png\n",
      "Augmented Image saved to: D:\\KULIAH\\SEMESTER 5\\RSBP\\Bacteri\\Detection-of-bacteria-in-water-using-Yolo-images\\Detect\\Detection-of-bacteria-in-water-using-Yolo-images\\temp\\images/train\\EMDS7-G014-095-0400_aug.png\n",
      "Augmented Image saved to: D:\\KULIAH\\SEMESTER 5\\RSBP\\Bacteri\\Detection-of-bacteria-in-water-using-Yolo-images\\Detect\\Detection-of-bacteria-in-water-using-Yolo-images\\temp\\images/train\\EMDS7-G008-021-0400_aug.png\n",
      "Augmented Image saved to: D:\\KULIAH\\SEMESTER 5\\RSBP\\Bacteri\\Detection-of-bacteria-in-water-using-Yolo-images\\Detect\\Detection-of-bacteria-in-water-using-Yolo-images\\temp\\images/train\\EMDS7-G014-085-0400_aug.png\n",
      "Augmented Image saved to: D:\\KULIAH\\SEMESTER 5\\RSBP\\Bacteri\\Detection-of-bacteria-in-water-using-Yolo-images\\Detect\\Detection-of-bacteria-in-water-using-Yolo-images\\temp\\images/train\\EMDS7-G012-056-0400_aug.png\n",
      "Augmented Image saved to: D:\\KULIAH\\SEMESTER 5\\RSBP\\Bacteri\\Detection-of-bacteria-in-water-using-Yolo-images\\Detect\\Detection-of-bacteria-in-water-using-Yolo-images\\temp\\images/train\\EMDS7-G022-065-0400_aug.png\n",
      "Augmented Image saved to: D:\\KULIAH\\SEMESTER 5\\RSBP\\Bacteri\\Detection-of-bacteria-in-water-using-Yolo-images\\Detect\\Detection-of-bacteria-in-water-using-Yolo-images\\temp\\images/train\\EMDS7-G005-005-0400_aug.png\n",
      "Augmented Image saved to: D:\\KULIAH\\SEMESTER 5\\RSBP\\Bacteri\\Detection-of-bacteria-in-water-using-Yolo-images\\Detect\\Detection-of-bacteria-in-water-using-Yolo-images\\temp\\images/train\\EMDS7-G003-114-0400_aug.png\n",
      "Augmented Image saved to: D:\\KULIAH\\SEMESTER 5\\RSBP\\Bacteri\\Detection-of-bacteria-in-water-using-Yolo-images\\Detect\\Detection-of-bacteria-in-water-using-Yolo-images\\temp\\images/train\\EMDS7-G031-010-0400_aug.png\n",
      "Augmented Image saved to: D:\\KULIAH\\SEMESTER 5\\RSBP\\Bacteri\\Detection-of-bacteria-in-water-using-Yolo-images\\Detect\\Detection-of-bacteria-in-water-using-Yolo-images\\temp\\images/train\\EMDS7-G035-037-0400_aug.png\n",
      "Augmented Image saved to: D:\\KULIAH\\SEMESTER 5\\RSBP\\Bacteri\\Detection-of-bacteria-in-water-using-Yolo-images\\Detect\\Detection-of-bacteria-in-water-using-Yolo-images\\temp\\images/train\\EMDS7-G022-248-0400_aug.png\n",
      "Augmented Image saved to: D:\\KULIAH\\SEMESTER 5\\RSBP\\Bacteri\\Detection-of-bacteria-in-water-using-Yolo-images\\Detect\\Detection-of-bacteria-in-water-using-Yolo-images\\temp\\images/train\\EMDS7-G022-276-0400_aug.png\n",
      "Augmented Image saved to: D:\\KULIAH\\SEMESTER 5\\RSBP\\Bacteri\\Detection-of-bacteria-in-water-using-Yolo-images\\Detect\\Detection-of-bacteria-in-water-using-Yolo-images\\temp\\images/train\\EMDS7-G030-024-0400_aug.png\n",
      "Augmented Image saved to: D:\\KULIAH\\SEMESTER 5\\RSBP\\Bacteri\\Detection-of-bacteria-in-water-using-Yolo-images\\Detect\\Detection-of-bacteria-in-water-using-Yolo-images\\temp\\images/train\\EMDS7-G022-003-0400_aug.png\n",
      "Augmented Image saved to: D:\\KULIAH\\SEMESTER 5\\RSBP\\Bacteri\\Detection-of-bacteria-in-water-using-Yolo-images\\Detect\\Detection-of-bacteria-in-water-using-Yolo-images\\temp\\images/train\\EMDS7-G014-033-0400_aug.png\n",
      "Augmented Image saved to: D:\\KULIAH\\SEMESTER 5\\RSBP\\Bacteri\\Detection-of-bacteria-in-water-using-Yolo-images\\Detect\\Detection-of-bacteria-in-water-using-Yolo-images\\temp\\images/train\\EMDS7-G019-028-0400_aug.png\n",
      "Augmented Image saved to: D:\\KULIAH\\SEMESTER 5\\RSBP\\Bacteri\\Detection-of-bacteria-in-water-using-Yolo-images\\Detect\\Detection-of-bacteria-in-water-using-Yolo-images\\temp\\images/train\\EMDS7-G025-025-0400_aug.png\n",
      "Augmented Image saved to: D:\\KULIAH\\SEMESTER 5\\RSBP\\Bacteri\\Detection-of-bacteria-in-water-using-Yolo-images\\Detect\\Detection-of-bacteria-in-water-using-Yolo-images\\temp\\images/train\\EMDS7-G025-044-0400_aug.png\n",
      "Augmented Image saved to: D:\\KULIAH\\SEMESTER 5\\RSBP\\Bacteri\\Detection-of-bacteria-in-water-using-Yolo-images\\Detect\\Detection-of-bacteria-in-water-using-Yolo-images\\temp\\images/train\\EMDS7-G003-182-0400_aug.png\n",
      "Augmented Image saved to: D:\\KULIAH\\SEMESTER 5\\RSBP\\Bacteri\\Detection-of-bacteria-in-water-using-Yolo-images\\Detect\\Detection-of-bacteria-in-water-using-Yolo-images\\temp\\images/train\\EMDS7-G024-002-0400_aug.png\n",
      "Augmented Image saved to: D:\\KULIAH\\SEMESTER 5\\RSBP\\Bacteri\\Detection-of-bacteria-in-water-using-Yolo-images\\Detect\\Detection-of-bacteria-in-water-using-Yolo-images\\temp\\images/train\\EMDS7-G004-056-0400_aug.png\n",
      "Augmented Image saved to: D:\\KULIAH\\SEMESTER 5\\RSBP\\Bacteri\\Detection-of-bacteria-in-water-using-Yolo-images\\Detect\\Detection-of-bacteria-in-water-using-Yolo-images\\temp\\images/train\\EMDS7-G003-178-0400_aug.png\n",
      "Augmented Image saved to: D:\\KULIAH\\SEMESTER 5\\RSBP\\Bacteri\\Detection-of-bacteria-in-water-using-Yolo-images\\Detect\\Detection-of-bacteria-in-water-using-Yolo-images\\temp\\images/train\\EMDS7-G017-055-0400_aug.png\n",
      "Augmented Image saved to: D:\\KULIAH\\SEMESTER 5\\RSBP\\Bacteri\\Detection-of-bacteria-in-water-using-Yolo-images\\Detect\\Detection-of-bacteria-in-water-using-Yolo-images\\temp\\images/train\\EMDS7-G019-013-0400_aug.png\n",
      "Augmented Image saved to: D:\\KULIAH\\SEMESTER 5\\RSBP\\Bacteri\\Detection-of-bacteria-in-water-using-Yolo-images\\Detect\\Detection-of-bacteria-in-water-using-Yolo-images\\temp\\images/train\\EMDS7-G022-013-0400_aug.png\n",
      "Augmented Image saved to: D:\\KULIAH\\SEMESTER 5\\RSBP\\Bacteri\\Detection-of-bacteria-in-water-using-Yolo-images\\Detect\\Detection-of-bacteria-in-water-using-Yolo-images\\temp\\images/train\\EMDS7-G017-059-0400_aug.png\n",
      "Augmented Image saved to: D:\\KULIAH\\SEMESTER 5\\RSBP\\Bacteri\\Detection-of-bacteria-in-water-using-Yolo-images\\Detect\\Detection-of-bacteria-in-water-using-Yolo-images\\temp\\images/train\\EMDS7-G012-054-0400_aug.png\n",
      "Augmented Image saved to: D:\\KULIAH\\SEMESTER 5\\RSBP\\Bacteri\\Detection-of-bacteria-in-water-using-Yolo-images\\Detect\\Detection-of-bacteria-in-water-using-Yolo-images\\temp\\images/train\\EMDS7-G012-033-0400_aug.png\n",
      "Augmented Image saved to: D:\\KULIAH\\SEMESTER 5\\RSBP\\Bacteri\\Detection-of-bacteria-in-water-using-Yolo-images\\Detect\\Detection-of-bacteria-in-water-using-Yolo-images\\temp\\images/train\\EMDS7-G003-055-0400_aug.png\n",
      "Augmented Image saved to: D:\\KULIAH\\SEMESTER 5\\RSBP\\Bacteri\\Detection-of-bacteria-in-water-using-Yolo-images\\Detect\\Detection-of-bacteria-in-water-using-Yolo-images\\temp\\images/train\\EMDS7-G022-239-0400_aug.png\n",
      "Augmented Image saved to: D:\\KULIAH\\SEMESTER 5\\RSBP\\Bacteri\\Detection-of-bacteria-in-water-using-Yolo-images\\Detect\\Detection-of-bacteria-in-water-using-Yolo-images\\temp\\images/train\\EMDS7-G030-022-0400_aug.png\n",
      "Augmented Image saved to: D:\\KULIAH\\SEMESTER 5\\RSBP\\Bacteri\\Detection-of-bacteria-in-water-using-Yolo-images\\Detect\\Detection-of-bacteria-in-water-using-Yolo-images\\temp\\images/train\\EMDS7-G028-067-0400_aug.png\n",
      "Augmented Image saved to: D:\\KULIAH\\SEMESTER 5\\RSBP\\Bacteri\\Detection-of-bacteria-in-water-using-Yolo-images\\Detect\\Detection-of-bacteria-in-water-using-Yolo-images\\temp\\images/train\\EMDS7-G022-198-0400_aug.png\n",
      "Augmented Image saved to: D:\\KULIAH\\SEMESTER 5\\RSBP\\Bacteri\\Detection-of-bacteria-in-water-using-Yolo-images\\Detect\\Detection-of-bacteria-in-water-using-Yolo-images\\temp\\images/train\\EMDS7-G008-014-0400_aug.png\n",
      "Augmented Image saved to: D:\\KULIAH\\SEMESTER 5\\RSBP\\Bacteri\\Detection-of-bacteria-in-water-using-Yolo-images\\Detect\\Detection-of-bacteria-in-water-using-Yolo-images\\temp\\images/train\\EMDS7-G025-033-0400_aug.png\n",
      "Augmented Image saved to: D:\\KULIAH\\SEMESTER 5\\RSBP\\Bacteri\\Detection-of-bacteria-in-water-using-Yolo-images\\Detect\\Detection-of-bacteria-in-water-using-Yolo-images\\temp\\images/train\\EMDS7-G003-083-0400_aug.png\n",
      "Augmented Image saved to: D:\\KULIAH\\SEMESTER 5\\RSBP\\Bacteri\\Detection-of-bacteria-in-water-using-Yolo-images\\Detect\\Detection-of-bacteria-in-water-using-Yolo-images\\temp\\images/train\\EMDS7-G022-168-0400_aug.png\n",
      "Augmented Image saved to: D:\\KULIAH\\SEMESTER 5\\RSBP\\Bacteri\\Detection-of-bacteria-in-water-using-Yolo-images\\Detect\\Detection-of-bacteria-in-water-using-Yolo-images\\temp\\images/train\\EMDS7-G031-004-0400_aug.png\n",
      "Augmented Image saved to: D:\\KULIAH\\SEMESTER 5\\RSBP\\Bacteri\\Detection-of-bacteria-in-water-using-Yolo-images\\Detect\\Detection-of-bacteria-in-water-using-Yolo-images\\temp\\images/train\\EMDS7-G035-013-0400_aug.png\n",
      "Augmented Image saved to: D:\\KULIAH\\SEMESTER 5\\RSBP\\Bacteri\\Detection-of-bacteria-in-water-using-Yolo-images\\Detect\\Detection-of-bacteria-in-water-using-Yolo-images\\temp\\images/train\\EMDS7-G017-050-0400_aug.png\n",
      "Augmented Image saved to: D:\\KULIAH\\SEMESTER 5\\RSBP\\Bacteri\\Detection-of-bacteria-in-water-using-Yolo-images\\Detect\\Detection-of-bacteria-in-water-using-Yolo-images\\temp\\images/train\\EMDS7-G004-081-0400_aug.png\n",
      "Augmented Image saved to: D:\\KULIAH\\SEMESTER 5\\RSBP\\Bacteri\\Detection-of-bacteria-in-water-using-Yolo-images\\Detect\\Detection-of-bacteria-in-water-using-Yolo-images\\temp\\images/train\\EMDS7-G012-002-0400_aug.png\n",
      "Augmented Image saved to: D:\\KULIAH\\SEMESTER 5\\RSBP\\Bacteri\\Detection-of-bacteria-in-water-using-Yolo-images\\Detect\\Detection-of-bacteria-in-water-using-Yolo-images\\temp\\images/train\\EMDS7-G025-070-0400_aug.png\n",
      "Augmented Image saved to: D:\\KULIAH\\SEMESTER 5\\RSBP\\Bacteri\\Detection-of-bacteria-in-water-using-Yolo-images\\Detect\\Detection-of-bacteria-in-water-using-Yolo-images\\temp\\images/train\\EMDS7-G022-087-0400_aug.png\n",
      "Augmented Image saved to: D:\\KULIAH\\SEMESTER 5\\RSBP\\Bacteri\\Detection-of-bacteria-in-water-using-Yolo-images\\Detect\\Detection-of-bacteria-in-water-using-Yolo-images\\temp\\images/train\\EMDS7-G014-039-0400_aug.png\n",
      "Augmented Image saved to: D:\\KULIAH\\SEMESTER 5\\RSBP\\Bacteri\\Detection-of-bacteria-in-water-using-Yolo-images\\Detect\\Detection-of-bacteria-in-water-using-Yolo-images\\temp\\images/train\\EMDS7-G038-019-0400_aug.png\n",
      "Augmented Image saved to: D:\\KULIAH\\SEMESTER 5\\RSBP\\Bacteri\\Detection-of-bacteria-in-water-using-Yolo-images\\Detect\\Detection-of-bacteria-in-water-using-Yolo-images\\temp\\images/train\\EMDS7-G003-014-0400_aug.png\n",
      "Augmented Image saved to: D:\\KULIAH\\SEMESTER 5\\RSBP\\Bacteri\\Detection-of-bacteria-in-water-using-Yolo-images\\Detect\\Detection-of-bacteria-in-water-using-Yolo-images\\temp\\images/train\\EMDS7-G003-011-0400_aug.png\n",
      "Augmented Image saved to: D:\\KULIAH\\SEMESTER 5\\RSBP\\Bacteri\\Detection-of-bacteria-in-water-using-Yolo-images\\Detect\\Detection-of-bacteria-in-water-using-Yolo-images\\temp\\images/train\\EMDS7-G018-029-0400_aug.png\n",
      "Augmented Image saved to: D:\\KULIAH\\SEMESTER 5\\RSBP\\Bacteri\\Detection-of-bacteria-in-water-using-Yolo-images\\Detect\\Detection-of-bacteria-in-water-using-Yolo-images\\temp\\images/train\\EMDS7-G018-064-0400_aug.png\n",
      "Augmented Image saved to: D:\\KULIAH\\SEMESTER 5\\RSBP\\Bacteri\\Detection-of-bacteria-in-water-using-Yolo-images\\Detect\\Detection-of-bacteria-in-water-using-Yolo-images\\temp\\images/train\\EMDS7-G022-090-0400_aug.png\n",
      "Augmented Image saved to: D:\\KULIAH\\SEMESTER 5\\RSBP\\Bacteri\\Detection-of-bacteria-in-water-using-Yolo-images\\Detect\\Detection-of-bacteria-in-water-using-Yolo-images\\temp\\images/train\\EMDS7-G033-009-0400_aug.png\n",
      "Augmented Image saved to: D:\\KULIAH\\SEMESTER 5\\RSBP\\Bacteri\\Detection-of-bacteria-in-water-using-Yolo-images\\Detect\\Detection-of-bacteria-in-water-using-Yolo-images\\temp\\images/train\\EMDS7-G014-001-0400_aug.png\n",
      "Augmented Image saved to: D:\\KULIAH\\SEMESTER 5\\RSBP\\Bacteri\\Detection-of-bacteria-in-water-using-Yolo-images\\Detect\\Detection-of-bacteria-in-water-using-Yolo-images\\temp\\images/train\\EMDS7-G038-018-0400_aug.png\n",
      "Augmented Image saved to: D:\\KULIAH\\SEMESTER 5\\RSBP\\Bacteri\\Detection-of-bacteria-in-water-using-Yolo-images\\Detect\\Detection-of-bacteria-in-water-using-Yolo-images\\temp\\images/train\\EMDS7-G009-067-0400_aug.png\n",
      "Augmented Image saved to: D:\\KULIAH\\SEMESTER 5\\RSBP\\Bacteri\\Detection-of-bacteria-in-water-using-Yolo-images\\Detect\\Detection-of-bacteria-in-water-using-Yolo-images\\temp\\images/train\\EMDS7-G020-036-0400_aug.png\n",
      "Augmented Image saved to: D:\\KULIAH\\SEMESTER 5\\RSBP\\Bacteri\\Detection-of-bacteria-in-water-using-Yolo-images\\Detect\\Detection-of-bacteria-in-water-using-Yolo-images\\temp\\images/train\\EMDS7-G028-028-0400_aug.png\n",
      "Augmented Image saved to: D:\\KULIAH\\SEMESTER 5\\RSBP\\Bacteri\\Detection-of-bacteria-in-water-using-Yolo-images\\Detect\\Detection-of-bacteria-in-water-using-Yolo-images\\temp\\images/train\\EMDS7-G035-055-0400_aug.png\n",
      "Augmented Image saved to: D:\\KULIAH\\SEMESTER 5\\RSBP\\Bacteri\\Detection-of-bacteria-in-water-using-Yolo-images\\Detect\\Detection-of-bacteria-in-water-using-Yolo-images\\temp\\images/train\\EMDS7-G011-017-0400_aug.png\n",
      "Augmented Image saved to: D:\\KULIAH\\SEMESTER 5\\RSBP\\Bacteri\\Detection-of-bacteria-in-water-using-Yolo-images\\Detect\\Detection-of-bacteria-in-water-using-Yolo-images\\temp\\images/train\\EMDS7-G005-014-0400_aug.png\n",
      "Augmented Image saved to: D:\\KULIAH\\SEMESTER 5\\RSBP\\Bacteri\\Detection-of-bacteria-in-water-using-Yolo-images\\Detect\\Detection-of-bacteria-in-water-using-Yolo-images\\temp\\images/train\\EMDS7-G025-015-0400_aug.png\n",
      "Augmented Image saved to: D:\\KULIAH\\SEMESTER 5\\RSBP\\Bacteri\\Detection-of-bacteria-in-water-using-Yolo-images\\Detect\\Detection-of-bacteria-in-water-using-Yolo-images\\temp\\images/train\\EMDS7-G022-170-0400_aug.png\n",
      "Augmented Image saved to: D:\\KULIAH\\SEMESTER 5\\RSBP\\Bacteri\\Detection-of-bacteria-in-water-using-Yolo-images\\Detect\\Detection-of-bacteria-in-water-using-Yolo-images\\temp\\images/train\\EMDS7-G039-065-0400_aug.png\n",
      "Augmented Image saved to: D:\\KULIAH\\SEMESTER 5\\RSBP\\Bacteri\\Detection-of-bacteria-in-water-using-Yolo-images\\Detect\\Detection-of-bacteria-in-water-using-Yolo-images\\temp\\images/train\\EMDS7-G022-024-0400_aug.png\n",
      "Augmented Image saved to: D:\\KULIAH\\SEMESTER 5\\RSBP\\Bacteri\\Detection-of-bacteria-in-water-using-Yolo-images\\Detect\\Detection-of-bacteria-in-water-using-Yolo-images\\temp\\images/train\\EMDS7-G038-033-0400_aug.png\n",
      "Augmented Image saved to: D:\\KULIAH\\SEMESTER 5\\RSBP\\Bacteri\\Detection-of-bacteria-in-water-using-Yolo-images\\Detect\\Detection-of-bacteria-in-water-using-Yolo-images\\temp\\images/train\\EMDS7-G005-001-0400_aug.png\n",
      "Augmented Image saved to: D:\\KULIAH\\SEMESTER 5\\RSBP\\Bacteri\\Detection-of-bacteria-in-water-using-Yolo-images\\Detect\\Detection-of-bacteria-in-water-using-Yolo-images\\temp\\images/train\\EMDS7-G011-007-0400_aug.png\n",
      "Augmented Image saved to: D:\\KULIAH\\SEMESTER 5\\RSBP\\Bacteri\\Detection-of-bacteria-in-water-using-Yolo-images\\Detect\\Detection-of-bacteria-in-water-using-Yolo-images\\temp\\images/train\\EMDS7-G012-037-0400_aug.png\n",
      "Augmented Image saved to: D:\\KULIAH\\SEMESTER 5\\RSBP\\Bacteri\\Detection-of-bacteria-in-water-using-Yolo-images\\Detect\\Detection-of-bacteria-in-water-using-Yolo-images\\temp\\images/train\\EMDS7-G004-049-0400_aug.png\n",
      "Augmented Image saved to: D:\\KULIAH\\SEMESTER 5\\RSBP\\Bacteri\\Detection-of-bacteria-in-water-using-Yolo-images\\Detect\\Detection-of-bacteria-in-water-using-Yolo-images\\temp\\images/train\\EMDS7-G014-003-0400_aug.png\n",
      "Augmented Image saved to: D:\\KULIAH\\SEMESTER 5\\RSBP\\Bacteri\\Detection-of-bacteria-in-water-using-Yolo-images\\Detect\\Detection-of-bacteria-in-water-using-Yolo-images\\temp\\images/train\\EMDS7-G012-003-0400_aug.png\n",
      "Augmented Image saved to: D:\\KULIAH\\SEMESTER 5\\RSBP\\Bacteri\\Detection-of-bacteria-in-water-using-Yolo-images\\Detect\\Detection-of-bacteria-in-water-using-Yolo-images\\temp\\images/train\\EMDS7-G005-042-0400_aug.png\n",
      "Augmented Image saved to: D:\\KULIAH\\SEMESTER 5\\RSBP\\Bacteri\\Detection-of-bacteria-in-water-using-Yolo-images\\Detect\\Detection-of-bacteria-in-water-using-Yolo-images\\temp\\images/train\\EMDS7-G017-045-0400_aug.png\n",
      "Augmented Image saved to: D:\\KULIAH\\SEMESTER 5\\RSBP\\Bacteri\\Detection-of-bacteria-in-water-using-Yolo-images\\Detect\\Detection-of-bacteria-in-water-using-Yolo-images\\temp\\images/train\\EMDS7-G032-060-0400_aug.png\n",
      "Augmented Image saved to: D:\\KULIAH\\SEMESTER 5\\RSBP\\Bacteri\\Detection-of-bacteria-in-water-using-Yolo-images\\Detect\\Detection-of-bacteria-in-water-using-Yolo-images\\temp\\images/train\\EMDS7-G012-009-0400_aug.png\n",
      "Augmented Image saved to: D:\\KULIAH\\SEMESTER 5\\RSBP\\Bacteri\\Detection-of-bacteria-in-water-using-Yolo-images\\Detect\\Detection-of-bacteria-in-water-using-Yolo-images\\temp\\images/train\\EMDS7-G022-155-0400_aug.png\n",
      "Augmented Image saved to: D:\\KULIAH\\SEMESTER 5\\RSBP\\Bacteri\\Detection-of-bacteria-in-water-using-Yolo-images\\Detect\\Detection-of-bacteria-in-water-using-Yolo-images\\temp\\images/train\\EMDS7-G010-003-0400_aug.png\n",
      "Augmented Image saved to: D:\\KULIAH\\SEMESTER 5\\RSBP\\Bacteri\\Detection-of-bacteria-in-water-using-Yolo-images\\Detect\\Detection-of-bacteria-in-water-using-Yolo-images\\temp\\images/train\\EMDS7-G015-012-0400_aug.png\n",
      "Augmented Image saved to: D:\\KULIAH\\SEMESTER 5\\RSBP\\Bacteri\\Detection-of-bacteria-in-water-using-Yolo-images\\Detect\\Detection-of-bacteria-in-water-using-Yolo-images\\temp\\images/train\\EMDS7-G025-066-0400_aug.png\n",
      "Augmented Image saved to: D:\\KULIAH\\SEMESTER 5\\RSBP\\Bacteri\\Detection-of-bacteria-in-water-using-Yolo-images\\Detect\\Detection-of-bacteria-in-water-using-Yolo-images\\temp\\images/train\\EMDS7-G011-045-0400_aug.png\n",
      "Augmented Image saved to: D:\\KULIAH\\SEMESTER 5\\RSBP\\Bacteri\\Detection-of-bacteria-in-water-using-Yolo-images\\Detect\\Detection-of-bacteria-in-water-using-Yolo-images\\temp\\images/train\\EMDS7-G039-032-0400_aug.png\n",
      "Augmented Image saved to: D:\\KULIAH\\SEMESTER 5\\RSBP\\Bacteri\\Detection-of-bacteria-in-water-using-Yolo-images\\Detect\\Detection-of-bacteria-in-water-using-Yolo-images\\temp\\images/train\\EMDS7-G039-056-0400_aug.png\n",
      "Augmented Image saved to: D:\\KULIAH\\SEMESTER 5\\RSBP\\Bacteri\\Detection-of-bacteria-in-water-using-Yolo-images\\Detect\\Detection-of-bacteria-in-water-using-Yolo-images\\temp\\images/train\\EMDS7-G005-037-0400_aug.png\n",
      "Augmented Image saved to: D:\\KULIAH\\SEMESTER 5\\RSBP\\Bacteri\\Detection-of-bacteria-in-water-using-Yolo-images\\Detect\\Detection-of-bacteria-in-water-using-Yolo-images\\temp\\images/train\\EMDS7-G022-231-0400_aug.png\n",
      "Augmented Image saved to: D:\\KULIAH\\SEMESTER 5\\RSBP\\Bacteri\\Detection-of-bacteria-in-water-using-Yolo-images\\Detect\\Detection-of-bacteria-in-water-using-Yolo-images\\temp\\images/train\\EMDS7-G011-052-0400_aug.png\n",
      "Augmented Image saved to: D:\\KULIAH\\SEMESTER 5\\RSBP\\Bacteri\\Detection-of-bacteria-in-water-using-Yolo-images\\Detect\\Detection-of-bacteria-in-water-using-Yolo-images\\temp\\images/train\\EMDS7-G029-006-0400_aug.png\n",
      "Augmented Image saved to: D:\\KULIAH\\SEMESTER 5\\RSBP\\Bacteri\\Detection-of-bacteria-in-water-using-Yolo-images\\Detect\\Detection-of-bacteria-in-water-using-Yolo-images\\temp\\images/train\\EMDS7-G005-004-0400_aug.png\n",
      "Augmented Image saved to: D:\\KULIAH\\SEMESTER 5\\RSBP\\Bacteri\\Detection-of-bacteria-in-water-using-Yolo-images\\Detect\\Detection-of-bacteria-in-water-using-Yolo-images\\temp\\images/train\\EMDS7-G003-254-0400_aug.png\n",
      "Augmented Image saved to: D:\\KULIAH\\SEMESTER 5\\RSBP\\Bacteri\\Detection-of-bacteria-in-water-using-Yolo-images\\Detect\\Detection-of-bacteria-in-water-using-Yolo-images\\temp\\images/train\\EMDS7-G012-098-0400_aug.png\n",
      "Augmented Image saved to: D:\\KULIAH\\SEMESTER 5\\RSBP\\Bacteri\\Detection-of-bacteria-in-water-using-Yolo-images\\Detect\\Detection-of-bacteria-in-water-using-Yolo-images\\temp\\images/train\\EMDS7-G018-036-0400_aug.png\n",
      "Augmented Image saved to: D:\\KULIAH\\SEMESTER 5\\RSBP\\Bacteri\\Detection-of-bacteria-in-water-using-Yolo-images\\Detect\\Detection-of-bacteria-in-water-using-Yolo-images\\temp\\images/train\\EMDS7-G003-106-0400_aug.png\n",
      "Augmented Image saved to: D:\\KULIAH\\SEMESTER 5\\RSBP\\Bacteri\\Detection-of-bacteria-in-water-using-Yolo-images\\Detect\\Detection-of-bacteria-in-water-using-Yolo-images\\temp\\images/train\\EMDS7-G003-116-0400_aug.png\n",
      "Augmented Image saved to: D:\\KULIAH\\SEMESTER 5\\RSBP\\Bacteri\\Detection-of-bacteria-in-water-using-Yolo-images\\Detect\\Detection-of-bacteria-in-water-using-Yolo-images\\temp\\images/train\\EMDS7-G009-011-0400_aug.png\n",
      "Augmented Image saved to: D:\\KULIAH\\SEMESTER 5\\RSBP\\Bacteri\\Detection-of-bacteria-in-water-using-Yolo-images\\Detect\\Detection-of-bacteria-in-water-using-Yolo-images\\temp\\images/train\\EMDS7-G025-014-0400_aug.png\n",
      "Augmented Image saved to: D:\\KULIAH\\SEMESTER 5\\RSBP\\Bacteri\\Detection-of-bacteria-in-water-using-Yolo-images\\Detect\\Detection-of-bacteria-in-water-using-Yolo-images\\temp\\images/train\\EMDS7-G029-010-0400_aug.png\n",
      "Augmented Image saved to: D:\\KULIAH\\SEMESTER 5\\RSBP\\Bacteri\\Detection-of-bacteria-in-water-using-Yolo-images\\Detect\\Detection-of-bacteria-in-water-using-Yolo-images\\temp\\images/train\\EMDS7-G012-011-0400_aug.png\n",
      "Augmented Image saved to: D:\\KULIAH\\SEMESTER 5\\RSBP\\Bacteri\\Detection-of-bacteria-in-water-using-Yolo-images\\Detect\\Detection-of-bacteria-in-water-using-Yolo-images\\temp\\images/train\\EMDS7-G004-014-0400_aug.png\n",
      "Augmented Image saved to: D:\\KULIAH\\SEMESTER 5\\RSBP\\Bacteri\\Detection-of-bacteria-in-water-using-Yolo-images\\Detect\\Detection-of-bacteria-in-water-using-Yolo-images\\temp\\images/train\\EMDS7-G012-040-0400_aug.png\n",
      "Augmented Image saved to: D:\\KULIAH\\SEMESTER 5\\RSBP\\Bacteri\\Detection-of-bacteria-in-water-using-Yolo-images\\Detect\\Detection-of-bacteria-in-water-using-Yolo-images\\temp\\images/train\\EMDS7-G003-110-0400_aug.png\n",
      "Augmented Image saved to: D:\\KULIAH\\SEMESTER 5\\RSBP\\Bacteri\\Detection-of-bacteria-in-water-using-Yolo-images\\Detect\\Detection-of-bacteria-in-water-using-Yolo-images\\temp\\images/train\\EMDS7-G033-018-0400_aug.png\n",
      "Augmented Image saved to: D:\\KULIAH\\SEMESTER 5\\RSBP\\Bacteri\\Detection-of-bacteria-in-water-using-Yolo-images\\Detect\\Detection-of-bacteria-in-water-using-Yolo-images\\temp\\images/train\\EMDS7-G032-080-0400_aug.png\n",
      "Augmented Image saved to: D:\\KULIAH\\SEMESTER 5\\RSBP\\Bacteri\\Detection-of-bacteria-in-water-using-Yolo-images\\Detect\\Detection-of-bacteria-in-water-using-Yolo-images\\temp\\images/train\\EMDS7-G040-010-0400_aug.png\n",
      "Augmented Image saved to: D:\\KULIAH\\SEMESTER 5\\RSBP\\Bacteri\\Detection-of-bacteria-in-water-using-Yolo-images\\Detect\\Detection-of-bacteria-in-water-using-Yolo-images\\temp\\images/train\\EMDS7-G012-104-0400_aug.png\n",
      "Augmented Image saved to: D:\\KULIAH\\SEMESTER 5\\RSBP\\Bacteri\\Detection-of-bacteria-in-water-using-Yolo-images\\Detect\\Detection-of-bacteria-in-water-using-Yolo-images\\temp\\images/train\\EMDS7-G022-083-0400_aug.png\n",
      "Augmented Image saved to: D:\\KULIAH\\SEMESTER 5\\RSBP\\Bacteri\\Detection-of-bacteria-in-water-using-Yolo-images\\Detect\\Detection-of-bacteria-in-water-using-Yolo-images\\temp\\images/train\\EMDS7-G004-027-0400_aug.png\n",
      "Augmented Image saved to: D:\\KULIAH\\SEMESTER 5\\RSBP\\Bacteri\\Detection-of-bacteria-in-water-using-Yolo-images\\Detect\\Detection-of-bacteria-in-water-using-Yolo-images\\temp\\images/train\\EMDS7-G023-018-0400_aug.png\n",
      "Augmented Image saved to: D:\\KULIAH\\SEMESTER 5\\RSBP\\Bacteri\\Detection-of-bacteria-in-water-using-Yolo-images\\Detect\\Detection-of-bacteria-in-water-using-Yolo-images\\temp\\images/train\\EMDS7-G003-082-0400_aug.png\n",
      "Augmented Image saved to: D:\\KULIAH\\SEMESTER 5\\RSBP\\Bacteri\\Detection-of-bacteria-in-water-using-Yolo-images\\Detect\\Detection-of-bacteria-in-water-using-Yolo-images\\temp\\images/train\\EMDS7-G019-044-0400_aug.png\n",
      "Augmented Image saved to: D:\\KULIAH\\SEMESTER 5\\RSBP\\Bacteri\\Detection-of-bacteria-in-water-using-Yolo-images\\Detect\\Detection-of-bacteria-in-water-using-Yolo-images\\temp\\images/train\\EMDS7-G022-046-0400_aug.png\n",
      "Augmented Image saved to: D:\\KULIAH\\SEMESTER 5\\RSBP\\Bacteri\\Detection-of-bacteria-in-water-using-Yolo-images\\Detect\\Detection-of-bacteria-in-water-using-Yolo-images\\temp\\images/train\\EMDS7-G004-030-0400_aug.png\n",
      "Augmented Image saved to: D:\\KULIAH\\SEMESTER 5\\RSBP\\Bacteri\\Detection-of-bacteria-in-water-using-Yolo-images\\Detect\\Detection-of-bacteria-in-water-using-Yolo-images\\temp\\images/train\\EMDS7-G038-051-0400_aug.png\n",
      "Augmented Image saved to: D:\\KULIAH\\SEMESTER 5\\RSBP\\Bacteri\\Detection-of-bacteria-in-water-using-Yolo-images\\Detect\\Detection-of-bacteria-in-water-using-Yolo-images\\temp\\images/train\\EMDS7-G009-017-0400_aug.png\n",
      "Augmented Image saved to: D:\\KULIAH\\SEMESTER 5\\RSBP\\Bacteri\\Detection-of-bacteria-in-water-using-Yolo-images\\Detect\\Detection-of-bacteria-in-water-using-Yolo-images\\temp\\images/train\\EMDS7-G035-043-0400_aug.png\n",
      "Augmented Image saved to: D:\\KULIAH\\SEMESTER 5\\RSBP\\Bacteri\\Detection-of-bacteria-in-water-using-Yolo-images\\Detect\\Detection-of-bacteria-in-water-using-Yolo-images\\temp\\images/train\\EMDS7-G022-220-0400_aug.png\n",
      "Augmented Image saved to: D:\\KULIAH\\SEMESTER 5\\RSBP\\Bacteri\\Detection-of-bacteria-in-water-using-Yolo-images\\Detect\\Detection-of-bacteria-in-water-using-Yolo-images\\temp\\images/train\\EMDS7-G003-216-0400_aug.png\n",
      "Augmented Image saved to: D:\\KULIAH\\SEMESTER 5\\RSBP\\Bacteri\\Detection-of-bacteria-in-water-using-Yolo-images\\Detect\\Detection-of-bacteria-in-water-using-Yolo-images\\temp\\images/train\\EMDS7-G020-021-0400_aug.png\n",
      "Augmented Image saved to: D:\\KULIAH\\SEMESTER 5\\RSBP\\Bacteri\\Detection-of-bacteria-in-water-using-Yolo-images\\Detect\\Detection-of-bacteria-in-water-using-Yolo-images\\temp\\images/train\\EMDS7-G031-020-0400_aug.png\n",
      "Augmented Image saved to: D:\\KULIAH\\SEMESTER 5\\RSBP\\Bacteri\\Detection-of-bacteria-in-water-using-Yolo-images\\Detect\\Detection-of-bacteria-in-water-using-Yolo-images\\temp\\images/train\\EMDS7-G017-065-0400_aug.png\n",
      "Augmented Image saved to: D:\\KULIAH\\SEMESTER 5\\RSBP\\Bacteri\\Detection-of-bacteria-in-water-using-Yolo-images\\Detect\\Detection-of-bacteria-in-water-using-Yolo-images\\temp\\images/train\\EMDS7-G014-013-0400_aug.png\n",
      "Augmented Image saved to: D:\\KULIAH\\SEMESTER 5\\RSBP\\Bacteri\\Detection-of-bacteria-in-water-using-Yolo-images\\Detect\\Detection-of-bacteria-in-water-using-Yolo-images\\temp\\images/train\\EMDS7-G017-068-0400_aug.png\n",
      "Augmented Image saved to: D:\\KULIAH\\SEMESTER 5\\RSBP\\Bacteri\\Detection-of-bacteria-in-water-using-Yolo-images\\Detect\\Detection-of-bacteria-in-water-using-Yolo-images\\temp\\images/train\\EMDS7-G016-020-0400_aug.png\n",
      "Augmented Image saved to: D:\\KULIAH\\SEMESTER 5\\RSBP\\Bacteri\\Detection-of-bacteria-in-water-using-Yolo-images\\Detect\\Detection-of-bacteria-in-water-using-Yolo-images\\temp\\images/train\\EMDS7-G014-014-0400_aug.png\n",
      "Augmented Image saved to: D:\\KULIAH\\SEMESTER 5\\RSBP\\Bacteri\\Detection-of-bacteria-in-water-using-Yolo-images\\Detect\\Detection-of-bacteria-in-water-using-Yolo-images\\temp\\images/train\\EMDS7-G035-026-0400_aug.png\n",
      "Augmented Image saved to: D:\\KULIAH\\SEMESTER 5\\RSBP\\Bacteri\\Detection-of-bacteria-in-water-using-Yolo-images\\Detect\\Detection-of-bacteria-in-water-using-Yolo-images\\temp\\images/train\\EMDS7-G036-016-0400_aug.png\n",
      "Augmented Image saved to: D:\\KULIAH\\SEMESTER 5\\RSBP\\Bacteri\\Detection-of-bacteria-in-water-using-Yolo-images\\Detect\\Detection-of-bacteria-in-water-using-Yolo-images\\temp\\images/train\\EMDS7-G012-081-0400_aug.png\n",
      "Augmented Image saved to: D:\\KULIAH\\SEMESTER 5\\RSBP\\Bacteri\\Detection-of-bacteria-in-water-using-Yolo-images\\Detect\\Detection-of-bacteria-in-water-using-Yolo-images\\temp\\images/train\\EMDS7-G038-020-0400_aug.png\n",
      "Augmented Image saved to: D:\\KULIAH\\SEMESTER 5\\RSBP\\Bacteri\\Detection-of-bacteria-in-water-using-Yolo-images\\Detect\\Detection-of-bacteria-in-water-using-Yolo-images\\temp\\images/train\\EMDS7-G022-028-0400_aug.png\n",
      "Augmented Image saved to: D:\\KULIAH\\SEMESTER 5\\RSBP\\Bacteri\\Detection-of-bacteria-in-water-using-Yolo-images\\Detect\\Detection-of-bacteria-in-water-using-Yolo-images\\temp\\images/train\\EMDS7-G017-015-0400_aug.png\n",
      "Augmented Image saved to: D:\\KULIAH\\SEMESTER 5\\RSBP\\Bacteri\\Detection-of-bacteria-in-water-using-Yolo-images\\Detect\\Detection-of-bacteria-in-water-using-Yolo-images\\temp\\images/train\\EMDS7-G009-019-0400_aug.png\n",
      "Augmented Image saved to: D:\\KULIAH\\SEMESTER 5\\RSBP\\Bacteri\\Detection-of-bacteria-in-water-using-Yolo-images\\Detect\\Detection-of-bacteria-in-water-using-Yolo-images\\temp\\images/train\\EMDS7-G010-021-0400_aug.png\n",
      "Augmented Image saved to: D:\\KULIAH\\SEMESTER 5\\RSBP\\Bacteri\\Detection-of-bacteria-in-water-using-Yolo-images\\Detect\\Detection-of-bacteria-in-water-using-Yolo-images\\temp\\images/train\\EMDS7-G030-049-0400_aug.png\n",
      "Augmented Image saved to: D:\\KULIAH\\SEMESTER 5\\RSBP\\Bacteri\\Detection-of-bacteria-in-water-using-Yolo-images\\Detect\\Detection-of-bacteria-in-water-using-Yolo-images\\temp\\images/train\\EMDS7-G019-046-0400_aug.png\n",
      "Augmented Image saved to: D:\\KULIAH\\SEMESTER 5\\RSBP\\Bacteri\\Detection-of-bacteria-in-water-using-Yolo-images\\Detect\\Detection-of-bacteria-in-water-using-Yolo-images\\temp\\images/train\\EMDS7-G036-054-0400_aug.png\n",
      "Augmented Image saved to: D:\\KULIAH\\SEMESTER 5\\RSBP\\Bacteri\\Detection-of-bacteria-in-water-using-Yolo-images\\Detect\\Detection-of-bacteria-in-water-using-Yolo-images\\temp\\images/train\\EMDS7-G009-079-0400_aug.png\n",
      "Augmented Image saved to: D:\\KULIAH\\SEMESTER 5\\RSBP\\Bacteri\\Detection-of-bacteria-in-water-using-Yolo-images\\Detect\\Detection-of-bacteria-in-water-using-Yolo-images\\temp\\images/train\\EMDS7-G009-053-0400_aug.png\n",
      "Augmented Image saved to: D:\\KULIAH\\SEMESTER 5\\RSBP\\Bacteri\\Detection-of-bacteria-in-water-using-Yolo-images\\Detect\\Detection-of-bacteria-in-water-using-Yolo-images\\temp\\images/train\\EMDS7-G012-079-0400_aug.png\n",
      "Augmented Image saved to: D:\\KULIAH\\SEMESTER 5\\RSBP\\Bacteri\\Detection-of-bacteria-in-water-using-Yolo-images\\Detect\\Detection-of-bacteria-in-water-using-Yolo-images\\temp\\images/train\\EMDS7-G006-004-0400_aug.png\n",
      "Augmented Image saved to: D:\\KULIAH\\SEMESTER 5\\RSBP\\Bacteri\\Detection-of-bacteria-in-water-using-Yolo-images\\Detect\\Detection-of-bacteria-in-water-using-Yolo-images\\temp\\images/train\\EMDS7-G028-040-0400_aug.png\n",
      "Augmented Image saved to: D:\\KULIAH\\SEMESTER 5\\RSBP\\Bacteri\\Detection-of-bacteria-in-water-using-Yolo-images\\Detect\\Detection-of-bacteria-in-water-using-Yolo-images\\temp\\images/train\\EMDS7-G011-029-0400_aug.png\n",
      "Augmented Image saved to: D:\\KULIAH\\SEMESTER 5\\RSBP\\Bacteri\\Detection-of-bacteria-in-water-using-Yolo-images\\Detect\\Detection-of-bacteria-in-water-using-Yolo-images\\temp\\images/train\\EMDS7-G028-047-0400_aug.png\n",
      "Augmented Image saved to: D:\\KULIAH\\SEMESTER 5\\RSBP\\Bacteri\\Detection-of-bacteria-in-water-using-Yolo-images\\Detect\\Detection-of-bacteria-in-water-using-Yolo-images\\temp\\images/train\\EMDS7-G015-011-0400_aug.png\n",
      "Augmented Image saved to: D:\\KULIAH\\SEMESTER 5\\RSBP\\Bacteri\\Detection-of-bacteria-in-water-using-Yolo-images\\Detect\\Detection-of-bacteria-in-water-using-Yolo-images\\temp\\images/train\\EMDS7-G025-069-0400_aug.png\n",
      "Augmented Image saved to: D:\\KULIAH\\SEMESTER 5\\RSBP\\Bacteri\\Detection-of-bacteria-in-water-using-Yolo-images\\Detect\\Detection-of-bacteria-in-water-using-Yolo-images\\temp\\images/train\\EMDS7-G003-206-0400_aug.png\n",
      "Augmented Image saved to: D:\\KULIAH\\SEMESTER 5\\RSBP\\Bacteri\\Detection-of-bacteria-in-water-using-Yolo-images\\Detect\\Detection-of-bacteria-in-water-using-Yolo-images\\temp\\images/train\\EMDS7-G024-013-0400_aug.png\n",
      "Augmented Image saved to: D:\\KULIAH\\SEMESTER 5\\RSBP\\Bacteri\\Detection-of-bacteria-in-water-using-Yolo-images\\Detect\\Detection-of-bacteria-in-water-using-Yolo-images\\temp\\images/train\\EMDS7-G025-077-0400_aug.png\n",
      "Augmented Image saved to: D:\\KULIAH\\SEMESTER 5\\RSBP\\Bacteri\\Detection-of-bacteria-in-water-using-Yolo-images\\Detect\\Detection-of-bacteria-in-water-using-Yolo-images\\temp\\images/train\\EMDS7-G038-034-0400_aug.png\n",
      "Augmented Image saved to: D:\\KULIAH\\SEMESTER 5\\RSBP\\Bacteri\\Detection-of-bacteria-in-water-using-Yolo-images\\Detect\\Detection-of-bacteria-in-water-using-Yolo-images\\temp\\images/train\\EMDS7-G022-225-0400_aug.png\n",
      "Augmented Image saved to: D:\\KULIAH\\SEMESTER 5\\RSBP\\Bacteri\\Detection-of-bacteria-in-water-using-Yolo-images\\Detect\\Detection-of-bacteria-in-water-using-Yolo-images\\temp\\images/train\\EMDS7-G008-046-0400_aug.png\n",
      "Augmented Image saved to: D:\\KULIAH\\SEMESTER 5\\RSBP\\Bacteri\\Detection-of-bacteria-in-water-using-Yolo-images\\Detect\\Detection-of-bacteria-in-water-using-Yolo-images\\temp\\images/train\\EMDS7-G017-031-0400_aug.png\n",
      "Augmented Image saved to: D:\\KULIAH\\SEMESTER 5\\RSBP\\Bacteri\\Detection-of-bacteria-in-water-using-Yolo-images\\Detect\\Detection-of-bacteria-in-water-using-Yolo-images\\temp\\images/train\\EMDS7-G036-010-0400_aug.png\n",
      "Augmented Image saved to: D:\\KULIAH\\SEMESTER 5\\RSBP\\Bacteri\\Detection-of-bacteria-in-water-using-Yolo-images\\Detect\\Detection-of-bacteria-in-water-using-Yolo-images\\temp\\images/train\\EMDS7-G024-022-0400_aug.png\n",
      "Augmented Image saved to: D:\\KULIAH\\SEMESTER 5\\RSBP\\Bacteri\\Detection-of-bacteria-in-water-using-Yolo-images\\Detect\\Detection-of-bacteria-in-water-using-Yolo-images\\temp\\images/train\\EMDS7-G011-061-0400_aug.png\n",
      "Augmented Image saved to: D:\\KULIAH\\SEMESTER 5\\RSBP\\Bacteri\\Detection-of-bacteria-in-water-using-Yolo-images\\Detect\\Detection-of-bacteria-in-water-using-Yolo-images\\temp\\images/train\\EMDS7-G030-009-0400_aug.png\n",
      "Augmented Image saved to: D:\\KULIAH\\SEMESTER 5\\RSBP\\Bacteri\\Detection-of-bacteria-in-water-using-Yolo-images\\Detect\\Detection-of-bacteria-in-water-using-Yolo-images\\temp\\images/train\\EMDS7-G036-041-0400_aug.png\n",
      "Augmented Image saved to: D:\\KULIAH\\SEMESTER 5\\RSBP\\Bacteri\\Detection-of-bacteria-in-water-using-Yolo-images\\Detect\\Detection-of-bacteria-in-water-using-Yolo-images\\temp\\images/train\\EMDS7-G003-203-0400_aug.png\n",
      "Augmented Image saved to: D:\\KULIAH\\SEMESTER 5\\RSBP\\Bacteri\\Detection-of-bacteria-in-water-using-Yolo-images\\Detect\\Detection-of-bacteria-in-water-using-Yolo-images\\temp\\images/train\\EMDS7-G023-054-0400_aug.png\n",
      "Augmented Image saved to: D:\\KULIAH\\SEMESTER 5\\RSBP\\Bacteri\\Detection-of-bacteria-in-water-using-Yolo-images\\Detect\\Detection-of-bacteria-in-water-using-Yolo-images\\temp\\images/train\\EMDS7-G011-062-0400_aug.png\n",
      "Augmented Image saved to: D:\\KULIAH\\SEMESTER 5\\RSBP\\Bacteri\\Detection-of-bacteria-in-water-using-Yolo-images\\Detect\\Detection-of-bacteria-in-water-using-Yolo-images\\temp\\images/train\\EMDS7-G011-025-0400_aug.png\n",
      "Augmented Image saved to: D:\\KULIAH\\SEMESTER 5\\RSBP\\Bacteri\\Detection-of-bacteria-in-water-using-Yolo-images\\Detect\\Detection-of-bacteria-in-water-using-Yolo-images\\temp\\images/train\\EMDS7-G003-217-0400_aug.png\n",
      "Augmented Image saved to: D:\\KULIAH\\SEMESTER 5\\RSBP\\Bacteri\\Detection-of-bacteria-in-water-using-Yolo-images\\Detect\\Detection-of-bacteria-in-water-using-Yolo-images\\temp\\images/train\\EMDS7-G019-005-0400_aug.png\n",
      "Augmented Image saved to: D:\\KULIAH\\SEMESTER 5\\RSBP\\Bacteri\\Detection-of-bacteria-in-water-using-Yolo-images\\Detect\\Detection-of-bacteria-in-water-using-Yolo-images\\temp\\images/train\\EMDS7-G019-052-0400_aug.png\n",
      "Augmented Image saved to: D:\\KULIAH\\SEMESTER 5\\RSBP\\Bacteri\\Detection-of-bacteria-in-water-using-Yolo-images\\Detect\\Detection-of-bacteria-in-water-using-Yolo-images\\temp\\images/train\\EMDS7-G001-031-0400_aug.png\n",
      "Augmented Image saved to: D:\\KULIAH\\SEMESTER 5\\RSBP\\Bacteri\\Detection-of-bacteria-in-water-using-Yolo-images\\Detect\\Detection-of-bacteria-in-water-using-Yolo-images\\temp\\images/train\\EMDS7-G022-057-0400_aug.png\n",
      "Augmented Image saved to: D:\\KULIAH\\SEMESTER 5\\RSBP\\Bacteri\\Detection-of-bacteria-in-water-using-Yolo-images\\Detect\\Detection-of-bacteria-in-water-using-Yolo-images\\temp\\images/train\\EMDS7-G017-038-0400_aug.png\n",
      "Augmented Image saved to: D:\\KULIAH\\SEMESTER 5\\RSBP\\Bacteri\\Detection-of-bacteria-in-water-using-Yolo-images\\Detect\\Detection-of-bacteria-in-water-using-Yolo-images\\temp\\images/train\\EMDS7-G005-050-0400_aug.png\n",
      "Augmented Image saved to: D:\\KULIAH\\SEMESTER 5\\RSBP\\Bacteri\\Detection-of-bacteria-in-water-using-Yolo-images\\Detect\\Detection-of-bacteria-in-water-using-Yolo-images\\temp\\images/train\\EMDS7-G022-255-0400_aug.png\n",
      "Augmented Image saved to: D:\\KULIAH\\SEMESTER 5\\RSBP\\Bacteri\\Detection-of-bacteria-in-water-using-Yolo-images\\Detect\\Detection-of-bacteria-in-water-using-Yolo-images\\temp\\images/train\\EMDS7-G022-114-0400_aug.png\n",
      "Augmented Image saved to: D:\\KULIAH\\SEMESTER 5\\RSBP\\Bacteri\\Detection-of-bacteria-in-water-using-Yolo-images\\Detect\\Detection-of-bacteria-in-water-using-Yolo-images\\temp\\images/train\\EMDS7-G023-015-0400_aug.png\n",
      "Augmented Image saved to: D:\\KULIAH\\SEMESTER 5\\RSBP\\Bacteri\\Detection-of-bacteria-in-water-using-Yolo-images\\Detect\\Detection-of-bacteria-in-water-using-Yolo-images\\temp\\images/train\\EMDS7-G038-002-0400_aug.png\n",
      "Augmented Image saved to: D:\\KULIAH\\SEMESTER 5\\RSBP\\Bacteri\\Detection-of-bacteria-in-water-using-Yolo-images\\Detect\\Detection-of-bacteria-in-water-using-Yolo-images\\temp\\images/train\\EMDS7-G018-067-0400_aug.png\n",
      "Augmented Image saved to: D:\\KULIAH\\SEMESTER 5\\RSBP\\Bacteri\\Detection-of-bacteria-in-water-using-Yolo-images\\Detect\\Detection-of-bacteria-in-water-using-Yolo-images\\temp\\images/train\\EMDS7-G016-002-0400_aug.png\n",
      "Augmented Image saved to: D:\\KULIAH\\SEMESTER 5\\RSBP\\Bacteri\\Detection-of-bacteria-in-water-using-Yolo-images\\Detect\\Detection-of-bacteria-in-water-using-Yolo-images\\temp\\images/train\\EMDS7-G036-066-0400_aug.png\n",
      "Augmented Image saved to: D:\\KULIAH\\SEMESTER 5\\RSBP\\Bacteri\\Detection-of-bacteria-in-water-using-Yolo-images\\Detect\\Detection-of-bacteria-in-water-using-Yolo-images\\temp\\images/train\\EMDS7-G015-001-0400_aug.png\n",
      "Augmented Image saved to: D:\\KULIAH\\SEMESTER 5\\RSBP\\Bacteri\\Detection-of-bacteria-in-water-using-Yolo-images\\Detect\\Detection-of-bacteria-in-water-using-Yolo-images\\temp\\images/train\\EMDS7-G028-051-0400_aug.png\n",
      "Augmented Image saved to: D:\\KULIAH\\SEMESTER 5\\RSBP\\Bacteri\\Detection-of-bacteria-in-water-using-Yolo-images\\Detect\\Detection-of-bacteria-in-water-using-Yolo-images\\temp\\images/train\\EMDS7-G036-020-0400_aug.png\n",
      "Augmented Image saved to: D:\\KULIAH\\SEMESTER 5\\RSBP\\Bacteri\\Detection-of-bacteria-in-water-using-Yolo-images\\Detect\\Detection-of-bacteria-in-water-using-Yolo-images\\temp\\images/train\\EMDS7-G018-073-0400_aug.png\n",
      "Augmented Image saved to: D:\\KULIAH\\SEMESTER 5\\RSBP\\Bacteri\\Detection-of-bacteria-in-water-using-Yolo-images\\Detect\\Detection-of-bacteria-in-water-using-Yolo-images\\temp\\images/train\\EMDS7-G017-008-0400_aug.png\n",
      "Augmented Image saved to: D:\\KULIAH\\SEMESTER 5\\RSBP\\Bacteri\\Detection-of-bacteria-in-water-using-Yolo-images\\Detect\\Detection-of-bacteria-in-water-using-Yolo-images\\temp\\images/train\\EMDS7-G022-249-0400_aug.png\n",
      "Augmented Image saved to: D:\\KULIAH\\SEMESTER 5\\RSBP\\Bacteri\\Detection-of-bacteria-in-water-using-Yolo-images\\Detect\\Detection-of-bacteria-in-water-using-Yolo-images\\temp\\images/train\\EMDS7-G009-058-0400_aug.png\n",
      "Augmented Image saved to: D:\\KULIAH\\SEMESTER 5\\RSBP\\Bacteri\\Detection-of-bacteria-in-water-using-Yolo-images\\Detect\\Detection-of-bacteria-in-water-using-Yolo-images\\temp\\images/train\\EMDS7-G003-155-0400_aug.png\n",
      "Augmented Image saved to: D:\\KULIAH\\SEMESTER 5\\RSBP\\Bacteri\\Detection-of-bacteria-in-water-using-Yolo-images\\Detect\\Detection-of-bacteria-in-water-using-Yolo-images\\temp\\images/train\\EMDS7-G022-037-0400_aug.png\n",
      "Augmented Image saved to: D:\\KULIAH\\SEMESTER 5\\RSBP\\Bacteri\\Detection-of-bacteria-in-water-using-Yolo-images\\Detect\\Detection-of-bacteria-in-water-using-Yolo-images\\temp\\images/train\\EMDS7-G014-017-0400_aug.png\n",
      "Augmented Image saved to: D:\\KULIAH\\SEMESTER 5\\RSBP\\Bacteri\\Detection-of-bacteria-in-water-using-Yolo-images\\Detect\\Detection-of-bacteria-in-water-using-Yolo-images\\temp\\images/train\\EMDS7-G012-061-0400_aug.png\n",
      "Augmented Image saved to: D:\\KULIAH\\SEMESTER 5\\RSBP\\Bacteri\\Detection-of-bacteria-in-water-using-Yolo-images\\Detect\\Detection-of-bacteria-in-water-using-Yolo-images\\temp\\images/train\\EMDS7-G035-010-0400_aug.png\n",
      "Augmented Image saved to: D:\\KULIAH\\SEMESTER 5\\RSBP\\Bacteri\\Detection-of-bacteria-in-water-using-Yolo-images\\Detect\\Detection-of-bacteria-in-water-using-Yolo-images\\temp\\images/train\\EMDS7-G036-013-0400_aug.png\n",
      "Augmented Image saved to: D:\\KULIAH\\SEMESTER 5\\RSBP\\Bacteri\\Detection-of-bacteria-in-water-using-Yolo-images\\Detect\\Detection-of-bacteria-in-water-using-Yolo-images\\temp\\images/train\\EMDS7-G036-002-0400_aug.png\n",
      "Augmented Image saved to: D:\\KULIAH\\SEMESTER 5\\RSBP\\Bacteri\\Detection-of-bacteria-in-water-using-Yolo-images\\Detect\\Detection-of-bacteria-in-water-using-Yolo-images\\temp\\images/train\\EMDS7-G030-043-0400_aug.png\n",
      "Augmented Image saved to: D:\\KULIAH\\SEMESTER 5\\RSBP\\Bacteri\\Detection-of-bacteria-in-water-using-Yolo-images\\Detect\\Detection-of-bacteria-in-water-using-Yolo-images\\temp\\images/train\\EMDS7-G014-050-0400_aug.png\n",
      "Augmented Image saved to: D:\\KULIAH\\SEMESTER 5\\RSBP\\Bacteri\\Detection-of-bacteria-in-water-using-Yolo-images\\Detect\\Detection-of-bacteria-in-water-using-Yolo-images\\temp\\images/train\\EMDS7-G003-050-0400_aug.png\n",
      "Augmented Image saved to: D:\\KULIAH\\SEMESTER 5\\RSBP\\Bacteri\\Detection-of-bacteria-in-water-using-Yolo-images\\Detect\\Detection-of-bacteria-in-water-using-Yolo-images\\temp\\images/train\\EMDS7-G012-090-0400_aug.png\n",
      "Augmented Image saved to: D:\\KULIAH\\SEMESTER 5\\RSBP\\Bacteri\\Detection-of-bacteria-in-water-using-Yolo-images\\Detect\\Detection-of-bacteria-in-water-using-Yolo-images\\temp\\images/train\\EMDS7-G030-042-0400_aug.png\n",
      "Augmented Image saved to: D:\\KULIAH\\SEMESTER 5\\RSBP\\Bacteri\\Detection-of-bacteria-in-water-using-Yolo-images\\Detect\\Detection-of-bacteria-in-water-using-Yolo-images\\temp\\images/train\\EMDS7-G004-051-0400_aug.png\n",
      "Augmented Image saved to: D:\\KULIAH\\SEMESTER 5\\RSBP\\Bacteri\\Detection-of-bacteria-in-water-using-Yolo-images\\Detect\\Detection-of-bacteria-in-water-using-Yolo-images\\temp\\images/train\\EMDS7-G004-087-0400_aug.png\n",
      "Augmented Image saved to: D:\\KULIAH\\SEMESTER 5\\RSBP\\Bacteri\\Detection-of-bacteria-in-water-using-Yolo-images\\Detect\\Detection-of-bacteria-in-water-using-Yolo-images\\temp\\images/train\\EMDS7-G018-057-0400_aug.png\n",
      "Augmented Image saved to: D:\\KULIAH\\SEMESTER 5\\RSBP\\Bacteri\\Detection-of-bacteria-in-water-using-Yolo-images\\Detect\\Detection-of-bacteria-in-water-using-Yolo-images\\temp\\images/train\\EMDS7-G005-048-0400_aug.png\n",
      "Augmented Image saved to: D:\\KULIAH\\SEMESTER 5\\RSBP\\Bacteri\\Detection-of-bacteria-in-water-using-Yolo-images\\Detect\\Detection-of-bacteria-in-water-using-Yolo-images\\temp\\images/train\\EMDS7-G025-036-0400_aug.png\n",
      "Augmented Image saved to: D:\\KULIAH\\SEMESTER 5\\RSBP\\Bacteri\\Detection-of-bacteria-in-water-using-Yolo-images\\Detect\\Detection-of-bacteria-in-water-using-Yolo-images\\temp\\images/train\\EMDS7-G003-223-0400_aug.png\n",
      "Augmented Image saved to: D:\\KULIAH\\SEMESTER 5\\RSBP\\Bacteri\\Detection-of-bacteria-in-water-using-Yolo-images\\Detect\\Detection-of-bacteria-in-water-using-Yolo-images\\temp\\images/train\\EMDS7-G035-004-0400_aug.png\n",
      "Augmented Image saved to: D:\\KULIAH\\SEMESTER 5\\RSBP\\Bacteri\\Detection-of-bacteria-in-water-using-Yolo-images\\Detect\\Detection-of-bacteria-in-water-using-Yolo-images\\temp\\images/train\\EMDS7-G003-129-0400_aug.png\n",
      "Augmented Image saved to: D:\\KULIAH\\SEMESTER 5\\RSBP\\Bacteri\\Detection-of-bacteria-in-water-using-Yolo-images\\Detect\\Detection-of-bacteria-in-water-using-Yolo-images\\temp\\images/train\\EMDS7-G003-016-0400_aug.png\n",
      "Augmented Image saved to: D:\\KULIAH\\SEMESTER 5\\RSBP\\Bacteri\\Detection-of-bacteria-in-water-using-Yolo-images\\Detect\\Detection-of-bacteria-in-water-using-Yolo-images\\temp\\images/train\\EMDS7-G039-049-0400_aug.png\n",
      "Augmented Image saved to: D:\\KULIAH\\SEMESTER 5\\RSBP\\Bacteri\\Detection-of-bacteria-in-water-using-Yolo-images\\Detect\\Detection-of-bacteria-in-water-using-Yolo-images\\temp\\images/train\\EMDS7-G001-012-0400_aug.png\n",
      "Augmented Image saved to: D:\\KULIAH\\SEMESTER 5\\RSBP\\Bacteri\\Detection-of-bacteria-in-water-using-Yolo-images\\Detect\\Detection-of-bacteria-in-water-using-Yolo-images\\temp\\images/train\\EMDS7-G003-142-0400_aug.png\n",
      "Augmented Image saved to: D:\\KULIAH\\SEMESTER 5\\RSBP\\Bacteri\\Detection-of-bacteria-in-water-using-Yolo-images\\Detect\\Detection-of-bacteria-in-water-using-Yolo-images\\temp\\images/train\\EMDS7-G004-019-0400_aug.png\n",
      "Augmented Image saved to: D:\\KULIAH\\SEMESTER 5\\RSBP\\Bacteri\\Detection-of-bacteria-in-water-using-Yolo-images\\Detect\\Detection-of-bacteria-in-water-using-Yolo-images\\temp\\images/train\\EMDS7-G022-257-0400_aug.png\n",
      "Augmented Image saved to: D:\\KULIAH\\SEMESTER 5\\RSBP\\Bacteri\\Detection-of-bacteria-in-water-using-Yolo-images\\Detect\\Detection-of-bacteria-in-water-using-Yolo-images\\temp\\images/train\\EMDS7-G032-046-0400_aug.png\n",
      "Augmented Image saved to: D:\\KULIAH\\SEMESTER 5\\RSBP\\Bacteri\\Detection-of-bacteria-in-water-using-Yolo-images\\Detect\\Detection-of-bacteria-in-water-using-Yolo-images\\temp\\images/train\\EMDS7-G039-010-0400_aug.png\n",
      "Augmented Image saved to: D:\\KULIAH\\SEMESTER 5\\RSBP\\Bacteri\\Detection-of-bacteria-in-water-using-Yolo-images\\Detect\\Detection-of-bacteria-in-water-using-Yolo-images\\temp\\images/train\\EMDS7-G022-111-0400_aug.png\n",
      "Augmented Image saved to: D:\\KULIAH\\SEMESTER 5\\RSBP\\Bacteri\\Detection-of-bacteria-in-water-using-Yolo-images\\Detect\\Detection-of-bacteria-in-water-using-Yolo-images\\temp\\images/train\\EMDS7-G001-014-0400_aug.png\n",
      "Augmented Image saved to: D:\\KULIAH\\SEMESTER 5\\RSBP\\Bacteri\\Detection-of-bacteria-in-water-using-Yolo-images\\Detect\\Detection-of-bacteria-in-water-using-Yolo-images\\temp\\images/train\\EMDS7-G009-072-0400_aug.png\n",
      "Augmented Image saved to: D:\\KULIAH\\SEMESTER 5\\RSBP\\Bacteri\\Detection-of-bacteria-in-water-using-Yolo-images\\Detect\\Detection-of-bacteria-in-water-using-Yolo-images\\temp\\images/train\\EMDS7-G031-002-0400_aug.png\n",
      "Augmented Image saved to: D:\\KULIAH\\SEMESTER 5\\RSBP\\Bacteri\\Detection-of-bacteria-in-water-using-Yolo-images\\Detect\\Detection-of-bacteria-in-water-using-Yolo-images\\temp\\images/train\\EMDS7-G008-047-0400_aug.png\n",
      "Augmented Image saved to: D:\\KULIAH\\SEMESTER 5\\RSBP\\Bacteri\\Detection-of-bacteria-in-water-using-Yolo-images\\Detect\\Detection-of-bacteria-in-water-using-Yolo-images\\temp\\images/train\\EMDS7-G016-019-0400_aug.png\n",
      "Augmented Image saved to: D:\\KULIAH\\SEMESTER 5\\RSBP\\Bacteri\\Detection-of-bacteria-in-water-using-Yolo-images\\Detect\\Detection-of-bacteria-in-water-using-Yolo-images\\temp\\images/train\\EMDS7-G018-040-0400_aug.png\n",
      "Augmented Image saved to: D:\\KULIAH\\SEMESTER 5\\RSBP\\Bacteri\\Detection-of-bacteria-in-water-using-Yolo-images\\Detect\\Detection-of-bacteria-in-water-using-Yolo-images\\temp\\images/train\\EMDS7-G014-002-0400_aug.png\n",
      "Augmented Image saved to: D:\\KULIAH\\SEMESTER 5\\RSBP\\Bacteri\\Detection-of-bacteria-in-water-using-Yolo-images\\Detect\\Detection-of-bacteria-in-water-using-Yolo-images\\temp\\images/train\\EMDS7-G012-014-0400_aug.png\n",
      "Augmented Image saved to: D:\\KULIAH\\SEMESTER 5\\RSBP\\Bacteri\\Detection-of-bacteria-in-water-using-Yolo-images\\Detect\\Detection-of-bacteria-in-water-using-Yolo-images\\temp\\images/train\\EMDS7-G018-030-0400_aug.png\n",
      "Augmented Image saved to: D:\\KULIAH\\SEMESTER 5\\RSBP\\Bacteri\\Detection-of-bacteria-in-water-using-Yolo-images\\Detect\\Detection-of-bacteria-in-water-using-Yolo-images\\temp\\images/train\\EMDS7-G025-027-0400_aug.png\n",
      "Augmented Image saved to: D:\\KULIAH\\SEMESTER 5\\RSBP\\Bacteri\\Detection-of-bacteria-in-water-using-Yolo-images\\Detect\\Detection-of-bacteria-in-water-using-Yolo-images\\temp\\images/train\\EMDS7-G036-051-0400_aug.png\n",
      "Augmented Image saved to: D:\\KULIAH\\SEMESTER 5\\RSBP\\Bacteri\\Detection-of-bacteria-in-water-using-Yolo-images\\Detect\\Detection-of-bacteria-in-water-using-Yolo-images\\temp\\images/train\\EMDS7-G015-003-0400_aug.png\n",
      "Augmented Image saved to: D:\\KULIAH\\SEMESTER 5\\RSBP\\Bacteri\\Detection-of-bacteria-in-water-using-Yolo-images\\Detect\\Detection-of-bacteria-in-water-using-Yolo-images\\temp\\images/train\\EMDS7-G010-016-0400_aug.png\n",
      "Augmented Image saved to: D:\\KULIAH\\SEMESTER 5\\RSBP\\Bacteri\\Detection-of-bacteria-in-water-using-Yolo-images\\Detect\\Detection-of-bacteria-in-water-using-Yolo-images\\temp\\images/train\\EMDS7-G018-047-0400_aug.png\n",
      "Augmented Image saved to: D:\\KULIAH\\SEMESTER 5\\RSBP\\Bacteri\\Detection-of-bacteria-in-water-using-Yolo-images\\Detect\\Detection-of-bacteria-in-water-using-Yolo-images\\temp\\images/train\\EMDS7-G003-296-0400_aug.png\n",
      "Augmented Image saved to: D:\\KULIAH\\SEMESTER 5\\RSBP\\Bacteri\\Detection-of-bacteria-in-water-using-Yolo-images\\Detect\\Detection-of-bacteria-in-water-using-Yolo-images\\temp\\images/train\\EMDS7-G003-018-0400_aug.png\n",
      "Augmented Image saved to: D:\\KULIAH\\SEMESTER 5\\RSBP\\Bacteri\\Detection-of-bacteria-in-water-using-Yolo-images\\Detect\\Detection-of-bacteria-in-water-using-Yolo-images\\temp\\images/train\\EMDS7-G014-019-0400_aug.png\n",
      "Augmented Image saved to: D:\\KULIAH\\SEMESTER 5\\RSBP\\Bacteri\\Detection-of-bacteria-in-water-using-Yolo-images\\Detect\\Detection-of-bacteria-in-water-using-Yolo-images\\temp\\images/train\\EMDS7-G017-003-0400_aug.png\n",
      "Augmented Image saved to: D:\\KULIAH\\SEMESTER 5\\RSBP\\Bacteri\\Detection-of-bacteria-in-water-using-Yolo-images\\Detect\\Detection-of-bacteria-in-water-using-Yolo-images\\temp\\images/train\\EMDS7-G010-022-0400_aug.png\n",
      "Augmented Image saved to: D:\\KULIAH\\SEMESTER 5\\RSBP\\Bacteri\\Detection-of-bacteria-in-water-using-Yolo-images\\Detect\\Detection-of-bacteria-in-water-using-Yolo-images\\temp\\images/train\\EMDS7-G035-001-0400_aug.png\n",
      "Augmented Image saved to: D:\\KULIAH\\SEMESTER 5\\RSBP\\Bacteri\\Detection-of-bacteria-in-water-using-Yolo-images\\Detect\\Detection-of-bacteria-in-water-using-Yolo-images\\temp\\images/train\\EMDS7-G038-022-0400_aug.png\n",
      "Augmented Image saved to: D:\\KULIAH\\SEMESTER 5\\RSBP\\Bacteri\\Detection-of-bacteria-in-water-using-Yolo-images\\Detect\\Detection-of-bacteria-in-water-using-Yolo-images\\temp\\images/train\\EMDS7-G003-054-0400_aug.png\n",
      "Augmented Image saved to: D:\\KULIAH\\SEMESTER 5\\RSBP\\Bacteri\\Detection-of-bacteria-in-water-using-Yolo-images\\Detect\\Detection-of-bacteria-in-water-using-Yolo-images\\temp\\images/train\\EMDS7-G028-075-0400_aug.png\n",
      "Augmented Image saved to: D:\\KULIAH\\SEMESTER 5\\RSBP\\Bacteri\\Detection-of-bacteria-in-water-using-Yolo-images\\Detect\\Detection-of-bacteria-in-water-using-Yolo-images\\temp\\images/train\\EMDS7-G023-023-0400_aug.png\n",
      "Augmented Image saved to: D:\\KULIAH\\SEMESTER 5\\RSBP\\Bacteri\\Detection-of-bacteria-in-water-using-Yolo-images\\Detect\\Detection-of-bacteria-in-water-using-Yolo-images\\temp\\images/train\\EMDS7-G036-005-0400_aug.png\n",
      "Augmented Image saved to: D:\\KULIAH\\SEMESTER 5\\RSBP\\Bacteri\\Detection-of-bacteria-in-water-using-Yolo-images\\Detect\\Detection-of-bacteria-in-water-using-Yolo-images\\temp\\images/train\\EMDS7-G040-013-0400_aug.png\n",
      "Augmented Image saved to: D:\\KULIAH\\SEMESTER 5\\RSBP\\Bacteri\\Detection-of-bacteria-in-water-using-Yolo-images\\Detect\\Detection-of-bacteria-in-water-using-Yolo-images\\temp\\images/train\\EMDS7-G032-087-0400_aug.png\n",
      "Augmented Image saved to: D:\\KULIAH\\SEMESTER 5\\RSBP\\Bacteri\\Detection-of-bacteria-in-water-using-Yolo-images\\Detect\\Detection-of-bacteria-in-water-using-Yolo-images\\temp\\images/train\\EMDS7-G030-045-0400_aug.png\n",
      "Augmented Image saved to: D:\\KULIAH\\SEMESTER 5\\RSBP\\Bacteri\\Detection-of-bacteria-in-water-using-Yolo-images\\Detect\\Detection-of-bacteria-in-water-using-Yolo-images\\temp\\images/train\\EMDS7-G005-002-0400_aug.png\n",
      "Augmented Image saved to: D:\\KULIAH\\SEMESTER 5\\RSBP\\Bacteri\\Detection-of-bacteria-in-water-using-Yolo-images\\Detect\\Detection-of-bacteria-in-water-using-Yolo-images\\temp\\images/train\\EMDS7-G015-015-0400_aug.png\n",
      "Augmented Image saved to: D:\\KULIAH\\SEMESTER 5\\RSBP\\Bacteri\\Detection-of-bacteria-in-water-using-Yolo-images\\Detect\\Detection-of-bacteria-in-water-using-Yolo-images\\temp\\images/train\\EMDS7-G040-021-0400_aug.png\n",
      "Augmented Image saved to: D:\\KULIAH\\SEMESTER 5\\RSBP\\Bacteri\\Detection-of-bacteria-in-water-using-Yolo-images\\Detect\\Detection-of-bacteria-in-water-using-Yolo-images\\temp\\images/train\\EMDS7-G014-086-0400_aug.png\n",
      "Augmented Image saved to: D:\\KULIAH\\SEMESTER 5\\RSBP\\Bacteri\\Detection-of-bacteria-in-water-using-Yolo-images\\Detect\\Detection-of-bacteria-in-water-using-Yolo-images\\temp\\images/train\\EMDS7-G003-277-0400_aug.png\n",
      "Augmented Image saved to: D:\\KULIAH\\SEMESTER 5\\RSBP\\Bacteri\\Detection-of-bacteria-in-water-using-Yolo-images\\Detect\\Detection-of-bacteria-in-water-using-Yolo-images\\temp\\images/train\\EMDS7-G029-003-0400_aug.png\n",
      "Augmented Image saved to: D:\\KULIAH\\SEMESTER 5\\RSBP\\Bacteri\\Detection-of-bacteria-in-water-using-Yolo-images\\Detect\\Detection-of-bacteria-in-water-using-Yolo-images\\temp\\images/train\\EMDS7-G001-017-0400_aug.png\n",
      "Augmented Image saved to: D:\\KULIAH\\SEMESTER 5\\RSBP\\Bacteri\\Detection-of-bacteria-in-water-using-Yolo-images\\Detect\\Detection-of-bacteria-in-water-using-Yolo-images\\temp\\images/train\\EMDS7-G006-001-0400_aug.png\n",
      "Augmented Image saved to: D:\\KULIAH\\SEMESTER 5\\RSBP\\Bacteri\\Detection-of-bacteria-in-water-using-Yolo-images\\Detect\\Detection-of-bacteria-in-water-using-Yolo-images\\temp\\images/train\\EMDS7-G004-086-0400_aug.png\n",
      "Augmented Image saved to: D:\\KULIAH\\SEMESTER 5\\RSBP\\Bacteri\\Detection-of-bacteria-in-water-using-Yolo-images\\Detect\\Detection-of-bacteria-in-water-using-Yolo-images\\temp\\images/train\\EMDS7-G019-015-0400_aug.png\n",
      "Augmented Image saved to: D:\\KULIAH\\SEMESTER 5\\RSBP\\Bacteri\\Detection-of-bacteria-in-water-using-Yolo-images\\Detect\\Detection-of-bacteria-in-water-using-Yolo-images\\temp\\images/train\\EMDS7-G003-130-0400_aug.png\n",
      "Augmented Image saved to: D:\\KULIAH\\SEMESTER 5\\RSBP\\Bacteri\\Detection-of-bacteria-in-water-using-Yolo-images\\Detect\\Detection-of-bacteria-in-water-using-Yolo-images\\temp\\images/train\\EMDS7-G015-004-0400_aug.png\n",
      "Augmented Image saved to: D:\\KULIAH\\SEMESTER 5\\RSBP\\Bacteri\\Detection-of-bacteria-in-water-using-Yolo-images\\Detect\\Detection-of-bacteria-in-water-using-Yolo-images\\temp\\images/train\\EMDS7-G004-024-0400_aug.png\n",
      "Augmented Image saved to: D:\\KULIAH\\SEMESTER 5\\RSBP\\Bacteri\\Detection-of-bacteria-in-water-using-Yolo-images\\Detect\\Detection-of-bacteria-in-water-using-Yolo-images\\temp\\images/train\\EMDS7-G035-018-0400_aug.png\n",
      "Augmented Image saved to: D:\\KULIAH\\SEMESTER 5\\RSBP\\Bacteri\\Detection-of-bacteria-in-water-using-Yolo-images\\Detect\\Detection-of-bacteria-in-water-using-Yolo-images\\temp\\images/train\\EMDS7-G012-100-0400_aug.png\n",
      "Augmented Image saved to: D:\\KULIAH\\SEMESTER 5\\RSBP\\Bacteri\\Detection-of-bacteria-in-water-using-Yolo-images\\Detect\\Detection-of-bacteria-in-water-using-Yolo-images\\temp\\images/train\\EMDS7-G031-013-0400_aug.png\n",
      "Augmented Image saved to: D:\\KULIAH\\SEMESTER 5\\RSBP\\Bacteri\\Detection-of-bacteria-in-water-using-Yolo-images\\Detect\\Detection-of-bacteria-in-water-using-Yolo-images\\temp\\images/train\\EMDS7-G038-016-0400_aug.png\n",
      "Augmented Image saved to: D:\\KULIAH\\SEMESTER 5\\RSBP\\Bacteri\\Detection-of-bacteria-in-water-using-Yolo-images\\Detect\\Detection-of-bacteria-in-water-using-Yolo-images\\temp\\images/train\\EMDS7-G032-054-0400_aug.png\n",
      "Augmented Image saved to: D:\\KULIAH\\SEMESTER 5\\RSBP\\Bacteri\\Detection-of-bacteria-in-water-using-Yolo-images\\Detect\\Detection-of-bacteria-in-water-using-Yolo-images\\temp\\images/train\\EMDS7-G038-063-0400_aug.png\n",
      "Augmented Image saved to: D:\\KULIAH\\SEMESTER 5\\RSBP\\Bacteri\\Detection-of-bacteria-in-water-using-Yolo-images\\Detect\\Detection-of-bacteria-in-water-using-Yolo-images\\temp\\images/train\\EMDS7-G038-055-0400_aug.png\n",
      "Augmented Image saved to: D:\\KULIAH\\SEMESTER 5\\RSBP\\Bacteri\\Detection-of-bacteria-in-water-using-Yolo-images\\Detect\\Detection-of-bacteria-in-water-using-Yolo-images\\temp\\images/train\\EMDS7-G005-043-0400_aug.png\n",
      "Augmented Image saved to: D:\\KULIAH\\SEMESTER 5\\RSBP\\Bacteri\\Detection-of-bacteria-in-water-using-Yolo-images\\Detect\\Detection-of-bacteria-in-water-using-Yolo-images\\temp\\images/train\\EMDS7-G022-242-0400_aug.png\n",
      "Augmented Image saved to: D:\\KULIAH\\SEMESTER 5\\RSBP\\Bacteri\\Detection-of-bacteria-in-water-using-Yolo-images\\Detect\\Detection-of-bacteria-in-water-using-Yolo-images\\temp\\images/train\\EMDS7-G003-228-0400_aug.png\n",
      "Augmented Image saved to: D:\\KULIAH\\SEMESTER 5\\RSBP\\Bacteri\\Detection-of-bacteria-in-water-using-Yolo-images\\Detect\\Detection-of-bacteria-in-water-using-Yolo-images\\temp\\images/train\\EMDS7-G019-045-0400_aug.png\n",
      "Augmented Image saved to: D:\\KULIAH\\SEMESTER 5\\RSBP\\Bacteri\\Detection-of-bacteria-in-water-using-Yolo-images\\Detect\\Detection-of-bacteria-in-water-using-Yolo-images\\temp\\images/train\\EMDS7-G007-013-0400_aug.png\n",
      "Augmented Image saved to: D:\\KULIAH\\SEMESTER 5\\RSBP\\Bacteri\\Detection-of-bacteria-in-water-using-Yolo-images\\Detect\\Detection-of-bacteria-in-water-using-Yolo-images\\temp\\images/train\\EMDS7-G038-038-0400_aug.png\n",
      "Augmented Image saved to: D:\\KULIAH\\SEMESTER 5\\RSBP\\Bacteri\\Detection-of-bacteria-in-water-using-Yolo-images\\Detect\\Detection-of-bacteria-in-water-using-Yolo-images\\temp\\images/train\\EMDS7-G033-027-0400_aug.png\n",
      "Augmented Image saved to: D:\\KULIAH\\SEMESTER 5\\RSBP\\Bacteri\\Detection-of-bacteria-in-water-using-Yolo-images\\Detect\\Detection-of-bacteria-in-water-using-Yolo-images\\temp\\images/train\\EMDS7-G014-022-0400_aug.png\n",
      "Augmented Image saved to: D:\\KULIAH\\SEMESTER 5\\RSBP\\Bacteri\\Detection-of-bacteria-in-water-using-Yolo-images\\Detect\\Detection-of-bacteria-in-water-using-Yolo-images\\temp\\images/train\\EMDS7-G018-021-0400_aug.png\n",
      "Augmented Image saved to: D:\\KULIAH\\SEMESTER 5\\RSBP\\Bacteri\\Detection-of-bacteria-in-water-using-Yolo-images\\Detect\\Detection-of-bacteria-in-water-using-Yolo-images\\temp\\images/train\\EMDS7-G009-055-0400_aug.png\n",
      "Augmented Image saved to: D:\\KULIAH\\SEMESTER 5\\RSBP\\Bacteri\\Detection-of-bacteria-in-water-using-Yolo-images\\Detect\\Detection-of-bacteria-in-water-using-Yolo-images\\temp\\images/train\\EMDS7-G022-196-0400_aug.png\n",
      "Augmented Image saved to: D:\\KULIAH\\SEMESTER 5\\RSBP\\Bacteri\\Detection-of-bacteria-in-water-using-Yolo-images\\Detect\\Detection-of-bacteria-in-water-using-Yolo-images\\temp\\images/train\\EMDS7-G001-026-0400_aug.png\n",
      "Augmented Image saved to: D:\\KULIAH\\SEMESTER 5\\RSBP\\Bacteri\\Detection-of-bacteria-in-water-using-Yolo-images\\Detect\\Detection-of-bacteria-in-water-using-Yolo-images\\temp\\images/train\\EMDS7-G030-026-0400_aug.png\n",
      "Augmented Image saved to: D:\\KULIAH\\SEMESTER 5\\RSBP\\Bacteri\\Detection-of-bacteria-in-water-using-Yolo-images\\Detect\\Detection-of-bacteria-in-water-using-Yolo-images\\temp\\images/train\\EMDS7-G032-006-0400_aug.png\n",
      "Augmented Image saved to: D:\\KULIAH\\SEMESTER 5\\RSBP\\Bacteri\\Detection-of-bacteria-in-water-using-Yolo-images\\Detect\\Detection-of-bacteria-in-water-using-Yolo-images\\temp\\images/train\\EMDS7-G012-070-0400_aug.png\n",
      "Augmented Image saved to: D:\\KULIAH\\SEMESTER 5\\RSBP\\Bacteri\\Detection-of-bacteria-in-water-using-Yolo-images\\Detect\\Detection-of-bacteria-in-water-using-Yolo-images\\temp\\images/train\\EMDS7-G037-004-0400_aug.png\n",
      "Augmented Image saved to: D:\\KULIAH\\SEMESTER 5\\RSBP\\Bacteri\\Detection-of-bacteria-in-water-using-Yolo-images\\Detect\\Detection-of-bacteria-in-water-using-Yolo-images\\temp\\images/train\\EMDS7-G008-002-0400_aug.png\n",
      "Augmented Image saved to: D:\\KULIAH\\SEMESTER 5\\RSBP\\Bacteri\\Detection-of-bacteria-in-water-using-Yolo-images\\Detect\\Detection-of-bacteria-in-water-using-Yolo-images\\temp\\images/train\\EMDS7-G012-047-0400_aug.png\n",
      "Augmented Image saved to: D:\\KULIAH\\SEMESTER 5\\RSBP\\Bacteri\\Detection-of-bacteria-in-water-using-Yolo-images\\Detect\\Detection-of-bacteria-in-water-using-Yolo-images\\temp\\images/train\\EMDS7-G022-038-0400_aug.png\n",
      "Augmented Image saved to: D:\\KULIAH\\SEMESTER 5\\RSBP\\Bacteri\\Detection-of-bacteria-in-water-using-Yolo-images\\Detect\\Detection-of-bacteria-in-water-using-Yolo-images\\temp\\images/train\\EMDS7-G014-090-0400_aug.png\n",
      "Augmented Image saved to: D:\\KULIAH\\SEMESTER 5\\RSBP\\Bacteri\\Detection-of-bacteria-in-water-using-Yolo-images\\Detect\\Detection-of-bacteria-in-water-using-Yolo-images\\temp\\images/train\\EMDS7-G012-015-0400_aug.png\n",
      "Augmented Image saved to: D:\\KULIAH\\SEMESTER 5\\RSBP\\Bacteri\\Detection-of-bacteria-in-water-using-Yolo-images\\Detect\\Detection-of-bacteria-in-water-using-Yolo-images\\temp\\images/train\\EMDS7-G022-210-0400_aug.png\n",
      "Augmented Image saved to: D:\\KULIAH\\SEMESTER 5\\RSBP\\Bacteri\\Detection-of-bacteria-in-water-using-Yolo-images\\Detect\\Detection-of-bacteria-in-water-using-Yolo-images\\temp\\images/train\\EMDS7-G019-032-0400_aug.png\n",
      "Augmented Image saved to: D:\\KULIAH\\SEMESTER 5\\RSBP\\Bacteri\\Detection-of-bacteria-in-water-using-Yolo-images\\Detect\\Detection-of-bacteria-in-water-using-Yolo-images\\temp\\images/train\\EMDS7-G018-062-0400_aug.png\n",
      "Augmented Image saved to: D:\\KULIAH\\SEMESTER 5\\RSBP\\Bacteri\\Detection-of-bacteria-in-water-using-Yolo-images\\Detect\\Detection-of-bacteria-in-water-using-Yolo-images\\temp\\images/train\\EMDS7-G038-026-0400_aug.png\n",
      "Augmented Image saved to: D:\\KULIAH\\SEMESTER 5\\RSBP\\Bacteri\\Detection-of-bacteria-in-water-using-Yolo-images\\Detect\\Detection-of-bacteria-in-water-using-Yolo-images\\temp\\images/train\\EMDS7-G011-039-0400_aug.png\n",
      "Augmented Image saved to: D:\\KULIAH\\SEMESTER 5\\RSBP\\Bacteri\\Detection-of-bacteria-in-water-using-Yolo-images\\Detect\\Detection-of-bacteria-in-water-using-Yolo-images\\temp\\images/train\\EMDS7-G033-017-0400_aug.png\n",
      "Augmented Image saved to: D:\\KULIAH\\SEMESTER 5\\RSBP\\Bacteri\\Detection-of-bacteria-in-water-using-Yolo-images\\Detect\\Detection-of-bacteria-in-water-using-Yolo-images\\temp\\images/train\\EMDS7-G008-015-0400_aug.png\n",
      "Augmented Image saved to: D:\\KULIAH\\SEMESTER 5\\RSBP\\Bacteri\\Detection-of-bacteria-in-water-using-Yolo-images\\Detect\\Detection-of-bacteria-in-water-using-Yolo-images\\temp\\images/train\\EMDS7-G015-007-0400_aug.png\n",
      "Augmented Image saved to: D:\\KULIAH\\SEMESTER 5\\RSBP\\Bacteri\\Detection-of-bacteria-in-water-using-Yolo-images\\Detect\\Detection-of-bacteria-in-water-using-Yolo-images\\temp\\images/train\\EMDS7-G003-163-0400_aug.png\n",
      "Augmented Image saved to: D:\\KULIAH\\SEMESTER 5\\RSBP\\Bacteri\\Detection-of-bacteria-in-water-using-Yolo-images\\Detect\\Detection-of-bacteria-in-water-using-Yolo-images\\temp\\images/train\\EMDS7-G025-058-0400_aug.png\n",
      "Augmented Image saved to: D:\\KULIAH\\SEMESTER 5\\RSBP\\Bacteri\\Detection-of-bacteria-in-water-using-Yolo-images\\Detect\\Detection-of-bacteria-in-water-using-Yolo-images\\temp\\images/train\\EMDS7-G040-015-0400_aug.png\n",
      "Augmented Image saved to: D:\\KULIAH\\SEMESTER 5\\RSBP\\Bacteri\\Detection-of-bacteria-in-water-using-Yolo-images\\Detect\\Detection-of-bacteria-in-water-using-Yolo-images\\temp\\images/train\\EMDS7-G027-006-0400_aug.png\n",
      "Augmented Image saved to: D:\\KULIAH\\SEMESTER 5\\RSBP\\Bacteri\\Detection-of-bacteria-in-water-using-Yolo-images\\Detect\\Detection-of-bacteria-in-water-using-Yolo-images\\temp\\images/train\\EMDS7-G003-139-0400_aug.png\n",
      "Augmented Image saved to: D:\\KULIAH\\SEMESTER 5\\RSBP\\Bacteri\\Detection-of-bacteria-in-water-using-Yolo-images\\Detect\\Detection-of-bacteria-in-water-using-Yolo-images\\temp\\images/train\\EMDS7-G036-001-0400_aug.png\n",
      "Augmented Image saved to: D:\\KULIAH\\SEMESTER 5\\RSBP\\Bacteri\\Detection-of-bacteria-in-water-using-Yolo-images\\Detect\\Detection-of-bacteria-in-water-using-Yolo-images\\temp\\images/train\\EMDS7-G022-033-0400_aug.png\n",
      "Augmented Image saved to: D:\\KULIAH\\SEMESTER 5\\RSBP\\Bacteri\\Detection-of-bacteria-in-water-using-Yolo-images\\Detect\\Detection-of-bacteria-in-water-using-Yolo-images\\temp\\images/train\\EMDS7-G014-044-0400_aug.png\n",
      "Augmented Image saved to: D:\\KULIAH\\SEMESTER 5\\RSBP\\Bacteri\\Detection-of-bacteria-in-water-using-Yolo-images\\Detect\\Detection-of-bacteria-in-water-using-Yolo-images\\temp\\images/train\\EMDS7-G013-004-0400_aug.png\n",
      "Augmented Image saved to: D:\\KULIAH\\SEMESTER 5\\RSBP\\Bacteri\\Detection-of-bacteria-in-water-using-Yolo-images\\Detect\\Detection-of-bacteria-in-water-using-Yolo-images\\temp\\images/train\\EMDS7-G022-113-0400_aug.png\n",
      "Augmented Image saved to: D:\\KULIAH\\SEMESTER 5\\RSBP\\Bacteri\\Detection-of-bacteria-in-water-using-Yolo-images\\Detect\\Detection-of-bacteria-in-water-using-Yolo-images\\temp\\images/train\\EMDS7-G022-062-0400_aug.png\n",
      "Augmented Image saved to: D:\\KULIAH\\SEMESTER 5\\RSBP\\Bacteri\\Detection-of-bacteria-in-water-using-Yolo-images\\Detect\\Detection-of-bacteria-in-water-using-Yolo-images\\temp\\images/train\\EMDS7-G019-004-0400_aug.png\n",
      "Augmented Image saved to: D:\\KULIAH\\SEMESTER 5\\RSBP\\Bacteri\\Detection-of-bacteria-in-water-using-Yolo-images\\Detect\\Detection-of-bacteria-in-water-using-Yolo-images\\temp\\images/train\\EMDS7-G018-041-0400_aug.png\n",
      "Augmented Image saved to: D:\\KULIAH\\SEMESTER 5\\RSBP\\Bacteri\\Detection-of-bacteria-in-water-using-Yolo-images\\Detect\\Detection-of-bacteria-in-water-using-Yolo-images\\temp\\images/train\\EMDS7-G023-048-0400_aug.png\n",
      "Augmented Image saved to: D:\\KULIAH\\SEMESTER 5\\RSBP\\Bacteri\\Detection-of-bacteria-in-water-using-Yolo-images\\Detect\\Detection-of-bacteria-in-water-using-Yolo-images\\temp\\images/train\\EMDS7-G017-033-0400_aug.png\n",
      "Augmented Image saved to: D:\\KULIAH\\SEMESTER 5\\RSBP\\Bacteri\\Detection-of-bacteria-in-water-using-Yolo-images\\Detect\\Detection-of-bacteria-in-water-using-Yolo-images\\temp\\images/train\\EMDS7-G011-010-0400_aug.png\n",
      "Augmented Image saved to: D:\\KULIAH\\SEMESTER 5\\RSBP\\Bacteri\\Detection-of-bacteria-in-water-using-Yolo-images\\Detect\\Detection-of-bacteria-in-water-using-Yolo-images\\temp\\images/train\\EMDS7-G012-110-0400_aug.png\n",
      "Augmented Image saved to: D:\\KULIAH\\SEMESTER 5\\RSBP\\Bacteri\\Detection-of-bacteria-in-water-using-Yolo-images\\Detect\\Detection-of-bacteria-in-water-using-Yolo-images\\temp\\images/train\\EMDS7-G017-024-0400_aug.png\n",
      "Augmented Image saved to: D:\\KULIAH\\SEMESTER 5\\RSBP\\Bacteri\\Detection-of-bacteria-in-water-using-Yolo-images\\Detect\\Detection-of-bacteria-in-water-using-Yolo-images\\temp\\images/train\\EMDS7-G003-069-0400_aug.png\n",
      "Augmented Image saved to: D:\\KULIAH\\SEMESTER 5\\RSBP\\Bacteri\\Detection-of-bacteria-in-water-using-Yolo-images\\Detect\\Detection-of-bacteria-in-water-using-Yolo-images\\temp\\images/train\\EMDS7-G022-099-0400_aug.png\n",
      "Augmented Image saved to: D:\\KULIAH\\SEMESTER 5\\RSBP\\Bacteri\\Detection-of-bacteria-in-water-using-Yolo-images\\Detect\\Detection-of-bacteria-in-water-using-Yolo-images\\temp\\images/train\\EMDS7-G009-074-0400_aug.png\n",
      "Augmented Image saved to: D:\\KULIAH\\SEMESTER 5\\RSBP\\Bacteri\\Detection-of-bacteria-in-water-using-Yolo-images\\Detect\\Detection-of-bacteria-in-water-using-Yolo-images\\temp\\images/train\\EMDS7-G003-232-0400_aug.png\n",
      "Augmented Image saved to: D:\\KULIAH\\SEMESTER 5\\RSBP\\Bacteri\\Detection-of-bacteria-in-water-using-Yolo-images\\Detect\\Detection-of-bacteria-in-water-using-Yolo-images\\temp\\images/train\\EMDS7-G003-122-0400_aug.png\n",
      "Augmented Image saved to: D:\\KULIAH\\SEMESTER 5\\RSBP\\Bacteri\\Detection-of-bacteria-in-water-using-Yolo-images\\Detect\\Detection-of-bacteria-in-water-using-Yolo-images\\temp\\images/train\\EMDS7-G005-009-0400_aug.png\n",
      "Augmented Image saved to: D:\\KULIAH\\SEMESTER 5\\RSBP\\Bacteri\\Detection-of-bacteria-in-water-using-Yolo-images\\Detect\\Detection-of-bacteria-in-water-using-Yolo-images\\temp\\images/train\\EMDS7-G005-003-0400_aug.png\n",
      "Augmented Image saved to: D:\\KULIAH\\SEMESTER 5\\RSBP\\Bacteri\\Detection-of-bacteria-in-water-using-Yolo-images\\Detect\\Detection-of-bacteria-in-water-using-Yolo-images\\temp\\images/train\\EMDS7-G014-066-0400_aug.png\n",
      "Augmented Image saved to: D:\\KULIAH\\SEMESTER 5\\RSBP\\Bacteri\\Detection-of-bacteria-in-water-using-Yolo-images\\Detect\\Detection-of-bacteria-in-water-using-Yolo-images\\temp\\images/train\\EMDS7-G016-010-0400_aug.png\n",
      "Augmented Image saved to: D:\\KULIAH\\SEMESTER 5\\RSBP\\Bacteri\\Detection-of-bacteria-in-water-using-Yolo-images\\Detect\\Detection-of-bacteria-in-water-using-Yolo-images\\temp\\images/train\\EMDS7-G036-035-0400_aug.png\n",
      "Augmented Image saved to: D:\\KULIAH\\SEMESTER 5\\RSBP\\Bacteri\\Detection-of-bacteria-in-water-using-Yolo-images\\Detect\\Detection-of-bacteria-in-water-using-Yolo-images\\temp\\images/train\\EMDS7-G014-026-0400_aug.png\n",
      "Augmented Image saved to: D:\\KULIAH\\SEMESTER 5\\RSBP\\Bacteri\\Detection-of-bacteria-in-water-using-Yolo-images\\Detect\\Detection-of-bacteria-in-water-using-Yolo-images\\temp\\images/train\\EMDS7-G022-007-0400_aug.png\n",
      "Augmented Image saved to: D:\\KULIAH\\SEMESTER 5\\RSBP\\Bacteri\\Detection-of-bacteria-in-water-using-Yolo-images\\Detect\\Detection-of-bacteria-in-water-using-Yolo-images\\temp\\images/train\\EMDS7-G011-040-0400_aug.png\n",
      "Original Image saved to: D:\\KULIAH\\SEMESTER 5\\RSBP\\Bacteri\\Detection-of-bacteria-in-water-using-Yolo-images\\Detect\\Detection-of-bacteria-in-water-using-Yolo-images\\temp\\images/val\\EMDS7-G035-057-0400.png\n",
      "Original Image saved to: D:\\KULIAH\\SEMESTER 5\\RSBP\\Bacteri\\Detection-of-bacteria-in-water-using-Yolo-images\\Detect\\Detection-of-bacteria-in-water-using-Yolo-images\\temp\\images/val\\EMDS7-G012-088-0400.png\n",
      "Original Image saved to: D:\\KULIAH\\SEMESTER 5\\RSBP\\Bacteri\\Detection-of-bacteria-in-water-using-Yolo-images\\Detect\\Detection-of-bacteria-in-water-using-Yolo-images\\temp\\images/val\\EMDS7-G027-015-0400.png\n",
      "Original Image saved to: D:\\KULIAH\\SEMESTER 5\\RSBP\\Bacteri\\Detection-of-bacteria-in-water-using-Yolo-images\\Detect\\Detection-of-bacteria-in-water-using-Yolo-images\\temp\\images/val\\EMDS7-G040-017-0400.png\n",
      "Original Image saved to: D:\\KULIAH\\SEMESTER 5\\RSBP\\Bacteri\\Detection-of-bacteria-in-water-using-Yolo-images\\Detect\\Detection-of-bacteria-in-water-using-Yolo-images\\temp\\images/val\\EMDS7-G003-305-0400.png\n",
      "Original Image saved to: D:\\KULIAH\\SEMESTER 5\\RSBP\\Bacteri\\Detection-of-bacteria-in-water-using-Yolo-images\\Detect\\Detection-of-bacteria-in-water-using-Yolo-images\\temp\\images/val\\EMDS7-G032-079-0400.png\n",
      "Original Image saved to: D:\\KULIAH\\SEMESTER 5\\RSBP\\Bacteri\\Detection-of-bacteria-in-water-using-Yolo-images\\Detect\\Detection-of-bacteria-in-water-using-Yolo-images\\temp\\images/val\\EMDS7-G038-046-0400.png\n",
      "Original Image saved to: D:\\KULIAH\\SEMESTER 5\\RSBP\\Bacteri\\Detection-of-bacteria-in-water-using-Yolo-images\\Detect\\Detection-of-bacteria-in-water-using-Yolo-images\\temp\\images/val\\EMDS7-G022-121-0400.png\n",
      "Original Image saved to: D:\\KULIAH\\SEMESTER 5\\RSBP\\Bacteri\\Detection-of-bacteria-in-water-using-Yolo-images\\Detect\\Detection-of-bacteria-in-water-using-Yolo-images\\temp\\images/val\\EMDS7-G025-007-0400.png\n",
      "Original Image saved to: D:\\KULIAH\\SEMESTER 5\\RSBP\\Bacteri\\Detection-of-bacteria-in-water-using-Yolo-images\\Detect\\Detection-of-bacteria-in-water-using-Yolo-images\\temp\\images/val\\EMDS7-G022-174-0400.png\n",
      "Original Image saved to: D:\\KULIAH\\SEMESTER 5\\RSBP\\Bacteri\\Detection-of-bacteria-in-water-using-Yolo-images\\Detect\\Detection-of-bacteria-in-water-using-Yolo-images\\temp\\images/val\\EMDS7-G029-001-0400.png\n",
      "Original Image saved to: D:\\KULIAH\\SEMESTER 5\\RSBP\\Bacteri\\Detection-of-bacteria-in-water-using-Yolo-images\\Detect\\Detection-of-bacteria-in-water-using-Yolo-images\\temp\\images/val\\EMDS7-G008-030-0400.png\n",
      "Original Image saved to: D:\\KULIAH\\SEMESTER 5\\RSBP\\Bacteri\\Detection-of-bacteria-in-water-using-Yolo-images\\Detect\\Detection-of-bacteria-in-water-using-Yolo-images\\temp\\images/val\\EMDS7-G017-012-0400.png\n",
      "Original Image saved to: D:\\KULIAH\\SEMESTER 5\\RSBP\\Bacteri\\Detection-of-bacteria-in-water-using-Yolo-images\\Detect\\Detection-of-bacteria-in-water-using-Yolo-images\\temp\\images/val\\EMDS7-G022-027-0400.png\n",
      "Original Image saved to: D:\\KULIAH\\SEMESTER 5\\RSBP\\Bacteri\\Detection-of-bacteria-in-water-using-Yolo-images\\Detect\\Detection-of-bacteria-in-water-using-Yolo-images\\temp\\images/val\\EMDS7-G030-005-0400.png\n",
      "Original Image saved to: D:\\KULIAH\\SEMESTER 5\\RSBP\\Bacteri\\Detection-of-bacteria-in-water-using-Yolo-images\\Detect\\Detection-of-bacteria-in-water-using-Yolo-images\\temp\\images/val\\EMDS7-G009-024-0400.png\n",
      "Original Image saved to: D:\\KULIAH\\SEMESTER 5\\RSBP\\Bacteri\\Detection-of-bacteria-in-water-using-Yolo-images\\Detect\\Detection-of-bacteria-in-water-using-Yolo-images\\temp\\images/val\\EMDS7-G027-004-0400.png\n",
      "Original Image saved to: D:\\KULIAH\\SEMESTER 5\\RSBP\\Bacteri\\Detection-of-bacteria-in-water-using-Yolo-images\\Detect\\Detection-of-bacteria-in-water-using-Yolo-images\\temp\\images/val\\EMDS7-G003-094-0400.png\n",
      "Original Image saved to: D:\\KULIAH\\SEMESTER 5\\RSBP\\Bacteri\\Detection-of-bacteria-in-water-using-Yolo-images\\Detect\\Detection-of-bacteria-in-water-using-Yolo-images\\temp\\images/val\\EMDS7-G003-123-0400.png\n",
      "Original Image saved to: D:\\KULIAH\\SEMESTER 5\\RSBP\\Bacteri\\Detection-of-bacteria-in-water-using-Yolo-images\\Detect\\Detection-of-bacteria-in-water-using-Yolo-images\\temp\\images/val\\EMDS7-G036-068-0400.png\n",
      "Original Image saved to: D:\\KULIAH\\SEMESTER 5\\RSBP\\Bacteri\\Detection-of-bacteria-in-water-using-Yolo-images\\Detect\\Detection-of-bacteria-in-water-using-Yolo-images\\temp\\images/val\\EMDS7-G001-020-0400.png\n",
      "Original Image saved to: D:\\KULIAH\\SEMESTER 5\\RSBP\\Bacteri\\Detection-of-bacteria-in-water-using-Yolo-images\\Detect\\Detection-of-bacteria-in-water-using-Yolo-images\\temp\\images/val\\EMDS7-G001-005-0400.png\n",
      "Original Image saved to: D:\\KULIAH\\SEMESTER 5\\RSBP\\Bacteri\\Detection-of-bacteria-in-water-using-Yolo-images\\Detect\\Detection-of-bacteria-in-water-using-Yolo-images\\temp\\images/val\\EMDS7-G003-112-0400.png\n",
      "Original Image saved to: D:\\KULIAH\\SEMESTER 5\\RSBP\\Bacteri\\Detection-of-bacteria-in-water-using-Yolo-images\\Detect\\Detection-of-bacteria-in-water-using-Yolo-images\\temp\\images/val\\EMDS7-G014-094-0400.png\n",
      "Original Image saved to: D:\\KULIAH\\SEMESTER 5\\RSBP\\Bacteri\\Detection-of-bacteria-in-water-using-Yolo-images\\Detect\\Detection-of-bacteria-in-water-using-Yolo-images\\temp\\images/val\\EMDS7-G027-001-0400.png\n",
      "Original Image saved to: D:\\KULIAH\\SEMESTER 5\\RSBP\\Bacteri\\Detection-of-bacteria-in-water-using-Yolo-images\\Detect\\Detection-of-bacteria-in-water-using-Yolo-images\\temp\\images/val\\EMDS7-G003-062-0400.png\n",
      "Original Image saved to: D:\\KULIAH\\SEMESTER 5\\RSBP\\Bacteri\\Detection-of-bacteria-in-water-using-Yolo-images\\Detect\\Detection-of-bacteria-in-water-using-Yolo-images\\temp\\images/val\\EMDS7-G038-036-0400.png\n",
      "Original Image saved to: D:\\KULIAH\\SEMESTER 5\\RSBP\\Bacteri\\Detection-of-bacteria-in-water-using-Yolo-images\\Detect\\Detection-of-bacteria-in-water-using-Yolo-images\\temp\\images/val\\EMDS7-G003-043-0400.png\n",
      "Original Image saved to: D:\\KULIAH\\SEMESTER 5\\RSBP\\Bacteri\\Detection-of-bacteria-in-water-using-Yolo-images\\Detect\\Detection-of-bacteria-in-water-using-Yolo-images\\temp\\images/val\\EMDS7-G014-055-0400.png\n",
      "Original Image saved to: D:\\KULIAH\\SEMESTER 5\\RSBP\\Bacteri\\Detection-of-bacteria-in-water-using-Yolo-images\\Detect\\Detection-of-bacteria-in-water-using-Yolo-images\\temp\\images/val\\EMDS7-G011-033-0400.png\n",
      "Original Image saved to: D:\\KULIAH\\SEMESTER 5\\RSBP\\Bacteri\\Detection-of-bacteria-in-water-using-Yolo-images\\Detect\\Detection-of-bacteria-in-water-using-Yolo-images\\temp\\images/val\\EMDS7-G039-025-0400.png\n",
      "Original Image saved to: D:\\KULIAH\\SEMESTER 5\\RSBP\\Bacteri\\Detection-of-bacteria-in-water-using-Yolo-images\\Detect\\Detection-of-bacteria-in-water-using-Yolo-images\\temp\\images/val\\EMDS7-G022-102-0400.png\n",
      "Original Image saved to: D:\\KULIAH\\SEMESTER 5\\RSBP\\Bacteri\\Detection-of-bacteria-in-water-using-Yolo-images\\Detect\\Detection-of-bacteria-in-water-using-Yolo-images\\temp\\images/val\\EMDS7-G003-299-0400.png\n",
      "Original Image saved to: D:\\KULIAH\\SEMESTER 5\\RSBP\\Bacteri\\Detection-of-bacteria-in-water-using-Yolo-images\\Detect\\Detection-of-bacteria-in-water-using-Yolo-images\\temp\\images/val\\EMDS7-G038-064-0400.png\n",
      "Original Image saved to: D:\\KULIAH\\SEMESTER 5\\RSBP\\Bacteri\\Detection-of-bacteria-in-water-using-Yolo-images\\Detect\\Detection-of-bacteria-in-water-using-Yolo-images\\temp\\images/val\\EMDS7-G028-007-0400.png\n",
      "Original Image saved to: D:\\KULIAH\\SEMESTER 5\\RSBP\\Bacteri\\Detection-of-bacteria-in-water-using-Yolo-images\\Detect\\Detection-of-bacteria-in-water-using-Yolo-images\\temp\\images/val\\EMDS7-G022-190-0400.png\n",
      "Original Image saved to: D:\\KULIAH\\SEMESTER 5\\RSBP\\Bacteri\\Detection-of-bacteria-in-water-using-Yolo-images\\Detect\\Detection-of-bacteria-in-water-using-Yolo-images\\temp\\images/val\\EMDS7-G039-081-0400.png\n",
      "Original Image saved to: D:\\KULIAH\\SEMESTER 5\\RSBP\\Bacteri\\Detection-of-bacteria-in-water-using-Yolo-images\\Detect\\Detection-of-bacteria-in-water-using-Yolo-images\\temp\\images/val\\EMDS7-G011-028-0400.png\n",
      "Original Image saved to: D:\\KULIAH\\SEMESTER 5\\RSBP\\Bacteri\\Detection-of-bacteria-in-water-using-Yolo-images\\Detect\\Detection-of-bacteria-in-water-using-Yolo-images\\temp\\images/val\\EMDS7-G004-078-0400.png\n",
      "Original Image saved to: D:\\KULIAH\\SEMESTER 5\\RSBP\\Bacteri\\Detection-of-bacteria-in-water-using-Yolo-images\\Detect\\Detection-of-bacteria-in-water-using-Yolo-images\\temp\\images/val\\EMDS7-G022-043-0400.png\n",
      "Original Image saved to: D:\\KULIAH\\SEMESTER 5\\RSBP\\Bacteri\\Detection-of-bacteria-in-water-using-Yolo-images\\Detect\\Detection-of-bacteria-in-water-using-Yolo-images\\temp\\images/val\\EMDS7-G007-006-0400.png\n",
      "Original Image saved to: D:\\KULIAH\\SEMESTER 5\\RSBP\\Bacteri\\Detection-of-bacteria-in-water-using-Yolo-images\\Detect\\Detection-of-bacteria-in-water-using-Yolo-images\\temp\\images/val\\EMDS7-G016-016-0400.png\n",
      "Original Image saved to: D:\\KULIAH\\SEMESTER 5\\RSBP\\Bacteri\\Detection-of-bacteria-in-water-using-Yolo-images\\Detect\\Detection-of-bacteria-in-water-using-Yolo-images\\temp\\images/val\\EMDS7-G001-001-0400.png\n",
      "Original Image saved to: D:\\KULIAH\\SEMESTER 5\\RSBP\\Bacteri\\Detection-of-bacteria-in-water-using-Yolo-images\\Detect\\Detection-of-bacteria-in-water-using-Yolo-images\\temp\\images/val\\EMDS7-G025-055-0400.png\n",
      "Original Image saved to: D:\\KULIAH\\SEMESTER 5\\RSBP\\Bacteri\\Detection-of-bacteria-in-water-using-Yolo-images\\Detect\\Detection-of-bacteria-in-water-using-Yolo-images\\temp\\images/val\\EMDS7-G012-087-0400.png\n",
      "Original Image saved to: D:\\KULIAH\\SEMESTER 5\\RSBP\\Bacteri\\Detection-of-bacteria-in-water-using-Yolo-images\\Detect\\Detection-of-bacteria-in-water-using-Yolo-images\\temp\\images/val\\EMDS7-G003-259-0400.png\n",
      "Original Image saved to: D:\\KULIAH\\SEMESTER 5\\RSBP\\Bacteri\\Detection-of-bacteria-in-water-using-Yolo-images\\Detect\\Detection-of-bacteria-in-water-using-Yolo-images\\temp\\images/val\\EMDS7-G032-072-0400.png\n",
      "Original Image saved to: D:\\KULIAH\\SEMESTER 5\\RSBP\\Bacteri\\Detection-of-bacteria-in-water-using-Yolo-images\\Detect\\Detection-of-bacteria-in-water-using-Yolo-images\\temp\\images/val\\EMDS7-G022-185-0400.png\n",
      "Original Image saved to: D:\\KULIAH\\SEMESTER 5\\RSBP\\Bacteri\\Detection-of-bacteria-in-water-using-Yolo-images\\Detect\\Detection-of-bacteria-in-water-using-Yolo-images\\temp\\images/val\\EMDS7-G022-169-0400.png\n",
      "Original Image saved to: D:\\KULIAH\\SEMESTER 5\\RSBP\\Bacteri\\Detection-of-bacteria-in-water-using-Yolo-images\\Detect\\Detection-of-bacteria-in-water-using-Yolo-images\\temp\\images/val\\EMDS7-G018-027-0400.png\n",
      "Original Image saved to: D:\\KULIAH\\SEMESTER 5\\RSBP\\Bacteri\\Detection-of-bacteria-in-water-using-Yolo-images\\Detect\\Detection-of-bacteria-in-water-using-Yolo-images\\temp\\images/val\\EMDS7-G039-018-0400.png\n",
      "Original Image saved to: D:\\KULIAH\\SEMESTER 5\\RSBP\\Bacteri\\Detection-of-bacteria-in-water-using-Yolo-images\\Detect\\Detection-of-bacteria-in-water-using-Yolo-images\\temp\\images/val\\EMDS7-G003-192-0400.png\n",
      "Original Image saved to: D:\\KULIAH\\SEMESTER 5\\RSBP\\Bacteri\\Detection-of-bacteria-in-water-using-Yolo-images\\Detect\\Detection-of-bacteria-in-water-using-Yolo-images\\temp\\images/val\\EMDS7-G014-031-0400.png\n",
      "Original Image saved to: D:\\KULIAH\\SEMESTER 5\\RSBP\\Bacteri\\Detection-of-bacteria-in-water-using-Yolo-images\\Detect\\Detection-of-bacteria-in-water-using-Yolo-images\\temp\\images/val\\EMDS7-G019-018-0400.png\n",
      "Original Image saved to: D:\\KULIAH\\SEMESTER 5\\RSBP\\Bacteri\\Detection-of-bacteria-in-water-using-Yolo-images\\Detect\\Detection-of-bacteria-in-water-using-Yolo-images\\temp\\images/val\\EMDS7-G003-275-0400.png\n",
      "Original Image saved to: D:\\KULIAH\\SEMESTER 5\\RSBP\\Bacteri\\Detection-of-bacteria-in-water-using-Yolo-images\\Detect\\Detection-of-bacteria-in-water-using-Yolo-images\\temp\\images/val\\EMDS7-G003-166-0400.png\n",
      "Original Image saved to: D:\\KULIAH\\SEMESTER 5\\RSBP\\Bacteri\\Detection-of-bacteria-in-water-using-Yolo-images\\Detect\\Detection-of-bacteria-in-water-using-Yolo-images\\temp\\images/val\\EMDS7-G031-001-0400.png\n",
      "Original Image saved to: D:\\KULIAH\\SEMESTER 5\\RSBP\\Bacteri\\Detection-of-bacteria-in-water-using-Yolo-images\\Detect\\Detection-of-bacteria-in-water-using-Yolo-images\\temp\\images/val\\EMDS7-G014-043-0400.png\n",
      "Original Image saved to: D:\\KULIAH\\SEMESTER 5\\RSBP\\Bacteri\\Detection-of-bacteria-in-water-using-Yolo-images\\Detect\\Detection-of-bacteria-in-water-using-Yolo-images\\temp\\images/val\\EMDS7-G039-068-0400.png\n",
      "Original Image saved to: D:\\KULIAH\\SEMESTER 5\\RSBP\\Bacteri\\Detection-of-bacteria-in-water-using-Yolo-images\\Detect\\Detection-of-bacteria-in-water-using-Yolo-images\\temp\\images/val\\EMDS7-G039-021-0400.png\n",
      "Original Image saved to: D:\\KULIAH\\SEMESTER 5\\RSBP\\Bacteri\\Detection-of-bacteria-in-water-using-Yolo-images\\Detect\\Detection-of-bacteria-in-water-using-Yolo-images\\temp\\images/val\\EMDS7-G022-017-0400.png\n",
      "Original Image saved to: D:\\KULIAH\\SEMESTER 5\\RSBP\\Bacteri\\Detection-of-bacteria-in-water-using-Yolo-images\\Detect\\Detection-of-bacteria-in-water-using-Yolo-images\\temp\\images/val\\EMDS7-G003-102-0400.png\n",
      "Original Image saved to: D:\\KULIAH\\SEMESTER 5\\RSBP\\Bacteri\\Detection-of-bacteria-in-water-using-Yolo-images\\Detect\\Detection-of-bacteria-in-water-using-Yolo-images\\temp\\images/val\\EMDS7-G028-070-0400.png\n",
      "Original Image saved to: D:\\KULIAH\\SEMESTER 5\\RSBP\\Bacteri\\Detection-of-bacteria-in-water-using-Yolo-images\\Detect\\Detection-of-bacteria-in-water-using-Yolo-images\\temp\\images/val\\EMDS7-G004-062-0400.png\n",
      "Original Image saved to: D:\\KULIAH\\SEMESTER 5\\RSBP\\Bacteri\\Detection-of-bacteria-in-water-using-Yolo-images\\Detect\\Detection-of-bacteria-in-water-using-Yolo-images\\temp\\images/val\\EMDS7-G017-075-0400.png\n",
      "Original Image saved to: D:\\KULIAH\\SEMESTER 5\\RSBP\\Bacteri\\Detection-of-bacteria-in-water-using-Yolo-images\\Detect\\Detection-of-bacteria-in-water-using-Yolo-images\\temp\\images/val\\EMDS7-G039-072-0400.png\n",
      "Original Image saved to: D:\\KULIAH\\SEMESTER 5\\RSBP\\Bacteri\\Detection-of-bacteria-in-water-using-Yolo-images\\Detect\\Detection-of-bacteria-in-water-using-Yolo-images\\temp\\images/val\\EMDS7-G003-031-0400.png\n",
      "Original Image saved to: D:\\KULIAH\\SEMESTER 5\\RSBP\\Bacteri\\Detection-of-bacteria-in-water-using-Yolo-images\\Detect\\Detection-of-bacteria-in-water-using-Yolo-images\\temp\\images/val\\EMDS7-G030-001-0400.png\n",
      "Original Image saved to: D:\\KULIAH\\SEMESTER 5\\RSBP\\Bacteri\\Detection-of-bacteria-in-water-using-Yolo-images\\Detect\\Detection-of-bacteria-in-water-using-Yolo-images\\temp\\images/val\\EMDS7-G003-045-0400.png\n",
      "Original Image saved to: D:\\KULIAH\\SEMESTER 5\\RSBP\\Bacteri\\Detection-of-bacteria-in-water-using-Yolo-images\\Detect\\Detection-of-bacteria-in-water-using-Yolo-images\\temp\\images/val\\EMDS7-G022-126-0400.png\n",
      "Original Image saved to: D:\\KULIAH\\SEMESTER 5\\RSBP\\Bacteri\\Detection-of-bacteria-in-water-using-Yolo-images\\Detect\\Detection-of-bacteria-in-water-using-Yolo-images\\temp\\images/val\\EMDS7-G004-084-0400.png\n",
      "Original Image saved to: D:\\KULIAH\\SEMESTER 5\\RSBP\\Bacteri\\Detection-of-bacteria-in-water-using-Yolo-images\\Detect\\Detection-of-bacteria-in-water-using-Yolo-images\\temp\\images/val\\EMDS7-G003-072-0400.png\n",
      "Original Image saved to: D:\\KULIAH\\SEMESTER 5\\RSBP\\Bacteri\\Detection-of-bacteria-in-water-using-Yolo-images\\Detect\\Detection-of-bacteria-in-water-using-Yolo-images\\temp\\images/val\\EMDS7-G024-007-0400.png\n",
      "Original Image saved to: D:\\KULIAH\\SEMESTER 5\\RSBP\\Bacteri\\Detection-of-bacteria-in-water-using-Yolo-images\\Detect\\Detection-of-bacteria-in-water-using-Yolo-images\\temp\\images/val\\EMDS7-G003-151-0400.png\n",
      "Original Image saved to: D:\\KULIAH\\SEMESTER 5\\RSBP\\Bacteri\\Detection-of-bacteria-in-water-using-Yolo-images\\Detect\\Detection-of-bacteria-in-water-using-Yolo-images\\temp\\images/val\\EMDS7-G012-078-0400.png\n",
      "Original Image saved to: D:\\KULIAH\\SEMESTER 5\\RSBP\\Bacteri\\Detection-of-bacteria-in-water-using-Yolo-images\\Detect\\Detection-of-bacteria-in-water-using-Yolo-images\\temp\\images/val\\EMDS7-G001-019-0400.png\n",
      "Original Image saved to: D:\\KULIAH\\SEMESTER 5\\RSBP\\Bacteri\\Detection-of-bacteria-in-water-using-Yolo-images\\Detect\\Detection-of-bacteria-in-water-using-Yolo-images\\temp\\images/val\\EMDS7-G031-011-0400.png\n",
      "Original Image saved to: D:\\KULIAH\\SEMESTER 5\\RSBP\\Bacteri\\Detection-of-bacteria-in-water-using-Yolo-images\\Detect\\Detection-of-bacteria-in-water-using-Yolo-images\\temp\\images/val\\EMDS7-G004-039-0400.png\n",
      "Original Image saved to: D:\\KULIAH\\SEMESTER 5\\RSBP\\Bacteri\\Detection-of-bacteria-in-water-using-Yolo-images\\Detect\\Detection-of-bacteria-in-water-using-Yolo-images\\temp\\images/val\\EMDS7-G003-201-0400.png\n",
      "Original Image saved to: D:\\KULIAH\\SEMESTER 5\\RSBP\\Bacteri\\Detection-of-bacteria-in-water-using-Yolo-images\\Detect\\Detection-of-bacteria-in-water-using-Yolo-images\\temp\\images/val\\EMDS7-G022-132-0400.png\n",
      "Original Image saved to: D:\\KULIAH\\SEMESTER 5\\RSBP\\Bacteri\\Detection-of-bacteria-in-water-using-Yolo-images\\Detect\\Detection-of-bacteria-in-water-using-Yolo-images\\temp\\images/val\\EMDS7-G018-082-0400.png\n",
      "Original Image saved to: D:\\KULIAH\\SEMESTER 5\\RSBP\\Bacteri\\Detection-of-bacteria-in-water-using-Yolo-images\\Detect\\Detection-of-bacteria-in-water-using-Yolo-images\\temp\\images/val\\EMDS7-G014-011-0400.png\n",
      "Original Image saved to: D:\\KULIAH\\SEMESTER 5\\RSBP\\Bacteri\\Detection-of-bacteria-in-water-using-Yolo-images\\Detect\\Detection-of-bacteria-in-water-using-Yolo-images\\temp\\images/val\\EMDS7-G003-211-0400.png\n",
      "Original Image saved to: D:\\KULIAH\\SEMESTER 5\\RSBP\\Bacteri\\Detection-of-bacteria-in-water-using-Yolo-images\\Detect\\Detection-of-bacteria-in-water-using-Yolo-images\\temp\\images/val\\EMDS7-G035-015-0400.png\n",
      "Original Image saved to: D:\\KULIAH\\SEMESTER 5\\RSBP\\Bacteri\\Detection-of-bacteria-in-water-using-Yolo-images\\Detect\\Detection-of-bacteria-in-water-using-Yolo-images\\temp\\images/val\\EMDS7-G022-026-0400.png\n",
      "Original Image saved to: D:\\KULIAH\\SEMESTER 5\\RSBP\\Bacteri\\Detection-of-bacteria-in-water-using-Yolo-images\\Detect\\Detection-of-bacteria-in-water-using-Yolo-images\\temp\\images/val\\EMDS7-G005-049-0400.png\n",
      "Original Image saved to: D:\\KULIAH\\SEMESTER 5\\RSBP\\Bacteri\\Detection-of-bacteria-in-water-using-Yolo-images\\Detect\\Detection-of-bacteria-in-water-using-Yolo-images\\temp\\images/val\\EMDS7-G005-032-0400.png\n",
      "Original Image saved to: D:\\KULIAH\\SEMESTER 5\\RSBP\\Bacteri\\Detection-of-bacteria-in-water-using-Yolo-images\\Detect\\Detection-of-bacteria-in-water-using-Yolo-images\\temp\\images/val\\EMDS7-G022-228-0400.png\n",
      "Original Image saved to: D:\\KULIAH\\SEMESTER 5\\RSBP\\Bacteri\\Detection-of-bacteria-in-water-using-Yolo-images\\Detect\\Detection-of-bacteria-in-water-using-Yolo-images\\temp\\images/val\\EMDS7-G039-052-0400.png\n",
      "Original Image saved to: D:\\KULIAH\\SEMESTER 5\\RSBP\\Bacteri\\Detection-of-bacteria-in-water-using-Yolo-images\\Detect\\Detection-of-bacteria-in-water-using-Yolo-images\\temp\\images/val\\EMDS7-G035-002-0400.png\n",
      "Original Image saved to: D:\\KULIAH\\SEMESTER 5\\RSBP\\Bacteri\\Detection-of-bacteria-in-water-using-Yolo-images\\Detect\\Detection-of-bacteria-in-water-using-Yolo-images\\temp\\images/val\\EMDS7-G018-008-0400.png\n",
      "Original Image saved to: D:\\KULIAH\\SEMESTER 5\\RSBP\\Bacteri\\Detection-of-bacteria-in-water-using-Yolo-images\\Detect\\Detection-of-bacteria-in-water-using-Yolo-images\\temp\\images/val\\EMDS7-G019-002-0400.png\n",
      "Original Image saved to: D:\\KULIAH\\SEMESTER 5\\RSBP\\Bacteri\\Detection-of-bacteria-in-water-using-Yolo-images\\Detect\\Detection-of-bacteria-in-water-using-Yolo-images\\temp\\images/val\\EMDS7-G001-011-0400.png\n",
      "Original Image saved to: D:\\KULIAH\\SEMESTER 5\\RSBP\\Bacteri\\Detection-of-bacteria-in-water-using-Yolo-images\\Detect\\Detection-of-bacteria-in-water-using-Yolo-images\\temp\\images/val\\EMDS7-G004-033-0400.png\n",
      "Original Image saved to: D:\\KULIAH\\SEMESTER 5\\RSBP\\Bacteri\\Detection-of-bacteria-in-water-using-Yolo-images\\Detect\\Detection-of-bacteria-in-water-using-Yolo-images\\temp\\images/val\\EMDS7-G029-002-0400.png\n",
      "Original Image saved to: D:\\KULIAH\\SEMESTER 5\\RSBP\\Bacteri\\Detection-of-bacteria-in-water-using-Yolo-images\\Detect\\Detection-of-bacteria-in-water-using-Yolo-images\\temp\\images/val\\EMDS7-G003-298-0400.png\n",
      "Original Image saved to: D:\\KULIAH\\SEMESTER 5\\RSBP\\Bacteri\\Detection-of-bacteria-in-water-using-Yolo-images\\Detect\\Detection-of-bacteria-in-water-using-Yolo-images\\temp\\images/val\\EMDS7-G022-192-0400.png\n",
      "Original Image saved to: D:\\KULIAH\\SEMESTER 5\\RSBP\\Bacteri\\Detection-of-bacteria-in-water-using-Yolo-images\\Detect\\Detection-of-bacteria-in-water-using-Yolo-images\\temp\\images/val\\EMDS7-G031-016-0400.png\n",
      "Original Image saved to: D:\\KULIAH\\SEMESTER 5\\RSBP\\Bacteri\\Detection-of-bacteria-in-water-using-Yolo-images\\Detect\\Detection-of-bacteria-in-water-using-Yolo-images\\temp\\images/val\\EMDS7-G003-266-0400.png\n",
      "Original Image saved to: D:\\KULIAH\\SEMESTER 5\\RSBP\\Bacteri\\Detection-of-bacteria-in-water-using-Yolo-images\\Detect\\Detection-of-bacteria-in-water-using-Yolo-images\\temp\\images/val\\EMDS7-G037-010-0400.png\n",
      "Original Image saved to: D:\\KULIAH\\SEMESTER 5\\RSBP\\Bacteri\\Detection-of-bacteria-in-water-using-Yolo-images\\Detect\\Detection-of-bacteria-in-water-using-Yolo-images\\temp\\images/val\\EMDS7-G014-078-0400.png\n",
      "Original Image saved to: D:\\KULIAH\\SEMESTER 5\\RSBP\\Bacteri\\Detection-of-bacteria-in-water-using-Yolo-images\\Detect\\Detection-of-bacteria-in-water-using-Yolo-images\\temp\\images/val\\EMDS7-G036-033-0400.png\n",
      "Original Image saved to: D:\\KULIAH\\SEMESTER 5\\RSBP\\Bacteri\\Detection-of-bacteria-in-water-using-Yolo-images\\Detect\\Detection-of-bacteria-in-water-using-Yolo-images\\temp\\images/val\\EMDS7-G003-239-0400.png\n",
      "Original Image saved to: D:\\KULIAH\\SEMESTER 5\\RSBP\\Bacteri\\Detection-of-bacteria-in-water-using-Yolo-images\\Detect\\Detection-of-bacteria-in-water-using-Yolo-images\\temp\\images/val\\EMDS7-G008-029-0400.png\n",
      "Original Image saved to: D:\\KULIAH\\SEMESTER 5\\RSBP\\Bacteri\\Detection-of-bacteria-in-water-using-Yolo-images\\Detect\\Detection-of-bacteria-in-water-using-Yolo-images\\temp\\images/val\\EMDS7-G022-025-0400.png\n",
      "Original Image saved to: D:\\KULIAH\\SEMESTER 5\\RSBP\\Bacteri\\Detection-of-bacteria-in-water-using-Yolo-images\\Detect\\Detection-of-bacteria-in-water-using-Yolo-images\\temp\\images/val\\EMDS7-G017-029-0400.png\n",
      "Original Image saved to: D:\\KULIAH\\SEMESTER 5\\RSBP\\Bacteri\\Detection-of-bacteria-in-water-using-Yolo-images\\Detect\\Detection-of-bacteria-in-water-using-Yolo-images\\temp\\images/val\\EMDS7-G009-062-0400.png\n",
      "Original Image saved to: D:\\KULIAH\\SEMESTER 5\\RSBP\\Bacteri\\Detection-of-bacteria-in-water-using-Yolo-images\\Detect\\Detection-of-bacteria-in-water-using-Yolo-images\\temp\\images/val\\EMDS7-G003-186-0400.png\n",
      "Original Image saved to: D:\\KULIAH\\SEMESTER 5\\RSBP\\Bacteri\\Detection-of-bacteria-in-water-using-Yolo-images\\Detect\\Detection-of-bacteria-in-water-using-Yolo-images\\temp\\images/val\\EMDS7-G003-173-0400.png\n",
      "Original Image saved to: D:\\KULIAH\\SEMESTER 5\\RSBP\\Bacteri\\Detection-of-bacteria-in-water-using-Yolo-images\\Detect\\Detection-of-bacteria-in-water-using-Yolo-images\\temp\\images/val\\EMDS7-G036-008-0400.png\n",
      "Original Image saved to: D:\\KULIAH\\SEMESTER 5\\RSBP\\Bacteri\\Detection-of-bacteria-in-water-using-Yolo-images\\Detect\\Detection-of-bacteria-in-water-using-Yolo-images\\temp\\images/val\\EMDS7-G003-022-0400.png\n",
      "Original Image saved to: D:\\KULIAH\\SEMESTER 5\\RSBP\\Bacteri\\Detection-of-bacteria-in-water-using-Yolo-images\\Detect\\Detection-of-bacteria-in-water-using-Yolo-images\\temp\\images/val\\EMDS7-G018-003-0400.png\n",
      "Original Image saved to: D:\\KULIAH\\SEMESTER 5\\RSBP\\Bacteri\\Detection-of-bacteria-in-water-using-Yolo-images\\Detect\\Detection-of-bacteria-in-water-using-Yolo-images\\temp\\images/val\\EMDS7-G003-276-0400.png\n",
      "Original Image saved to: D:\\KULIAH\\SEMESTER 5\\RSBP\\Bacteri\\Detection-of-bacteria-in-water-using-Yolo-images\\Detect\\Detection-of-bacteria-in-water-using-Yolo-images\\temp\\images/val\\EMDS7-G003-149-0400.png\n",
      "Original Image saved to: D:\\KULIAH\\SEMESTER 5\\RSBP\\Bacteri\\Detection-of-bacteria-in-water-using-Yolo-images\\Detect\\Detection-of-bacteria-in-water-using-Yolo-images\\temp\\images/val\\EMDS7-G022-091-0400.png\n",
      "Original Image saved to: D:\\KULIAH\\SEMESTER 5\\RSBP\\Bacteri\\Detection-of-bacteria-in-water-using-Yolo-images\\Detect\\Detection-of-bacteria-in-water-using-Yolo-images\\temp\\images/val\\EMDS7-G003-125-0400.png\n",
      "Original Image saved to: D:\\KULIAH\\SEMESTER 5\\RSBP\\Bacteri\\Detection-of-bacteria-in-water-using-Yolo-images\\Detect\\Detection-of-bacteria-in-water-using-Yolo-images\\temp\\images/val\\EMDS7-G025-076-0400.png\n",
      "Original Image saved to: D:\\KULIAH\\SEMESTER 5\\RSBP\\Bacteri\\Detection-of-bacteria-in-water-using-Yolo-images\\Detect\\Detection-of-bacteria-in-water-using-Yolo-images\\temp\\images/val\\EMDS7-G038-004-0400.png\n",
      "Original Image saved to: D:\\KULIAH\\SEMESTER 5\\RSBP\\Bacteri\\Detection-of-bacteria-in-water-using-Yolo-images\\Detect\\Detection-of-bacteria-in-water-using-Yolo-images\\temp\\images/val\\EMDS7-G022-187-0400.png\n",
      "Original Image saved to: D:\\KULIAH\\SEMESTER 5\\RSBP\\Bacteri\\Detection-of-bacteria-in-water-using-Yolo-images\\Detect\\Detection-of-bacteria-in-water-using-Yolo-images\\temp\\images/val\\EMDS7-G003-010-0400.png\n",
      "Original Image saved to: D:\\KULIAH\\SEMESTER 5\\RSBP\\Bacteri\\Detection-of-bacteria-in-water-using-Yolo-images\\Detect\\Detection-of-bacteria-in-water-using-Yolo-images\\temp\\images/val\\EMDS7-G024-006-0400.png\n",
      "Original Image saved to: D:\\KULIAH\\SEMESTER 5\\RSBP\\Bacteri\\Detection-of-bacteria-in-water-using-Yolo-images\\Detect\\Detection-of-bacteria-in-water-using-Yolo-images\\temp\\images/val\\EMDS7-G011-032-0400.png\n",
      "Original Image saved to: D:\\KULIAH\\SEMESTER 5\\RSBP\\Bacteri\\Detection-of-bacteria-in-water-using-Yolo-images\\Detect\\Detection-of-bacteria-in-water-using-Yolo-images\\temp\\images/val\\EMDS7-G016-005-0400.png\n",
      "Original Image saved to: D:\\KULIAH\\SEMESTER 5\\RSBP\\Bacteri\\Detection-of-bacteria-in-water-using-Yolo-images\\Detect\\Detection-of-bacteria-in-water-using-Yolo-images\\temp\\images/val\\EMDS7-G022-105-0400.png\n",
      "Original Image saved to: D:\\KULIAH\\SEMESTER 5\\RSBP\\Bacteri\\Detection-of-bacteria-in-water-using-Yolo-images\\Detect\\Detection-of-bacteria-in-water-using-Yolo-images\\temp\\images/val\\EMDS7-G039-009-0400.png\n",
      "Original Image saved to: D:\\KULIAH\\SEMESTER 5\\RSBP\\Bacteri\\Detection-of-bacteria-in-water-using-Yolo-images\\Detect\\Detection-of-bacteria-in-water-using-Yolo-images\\temp\\images/val\\EMDS7-G024-018-0400.png\n",
      "Original Image saved to: D:\\KULIAH\\SEMESTER 5\\RSBP\\Bacteri\\Detection-of-bacteria-in-water-using-Yolo-images\\Detect\\Detection-of-bacteria-in-water-using-Yolo-images\\temp\\images/val\\EMDS7-G033-029-0400.png\n",
      "Original Image saved to: D:\\KULIAH\\SEMESTER 5\\RSBP\\Bacteri\\Detection-of-bacteria-in-water-using-Yolo-images\\Detect\\Detection-of-bacteria-in-water-using-Yolo-images\\temp\\images/val\\EMDS7-G040-022-0400.png\n",
      "Original Image saved to: D:\\KULIAH\\SEMESTER 5\\RSBP\\Bacteri\\Detection-of-bacteria-in-water-using-Yolo-images\\Detect\\Detection-of-bacteria-in-water-using-Yolo-images\\temp\\images/val\\EMDS7-G014-091-0400.png\n",
      "Original Image saved to: D:\\KULIAH\\SEMESTER 5\\RSBP\\Bacteri\\Detection-of-bacteria-in-water-using-Yolo-images\\Detect\\Detection-of-bacteria-in-water-using-Yolo-images\\temp\\images/val\\EMDS7-G016-015-0400.png\n",
      "Original Image saved to: D:\\KULIAH\\SEMESTER 5\\RSBP\\Bacteri\\Detection-of-bacteria-in-water-using-Yolo-images\\Detect\\Detection-of-bacteria-in-water-using-Yolo-images\\temp\\images/val\\EMDS7-G003-241-0400.png\n",
      "Original Image saved to: D:\\KULIAH\\SEMESTER 5\\RSBP\\Bacteri\\Detection-of-bacteria-in-water-using-Yolo-images\\Detect\\Detection-of-bacteria-in-water-using-Yolo-images\\temp\\images/val\\EMDS7-G032-038-0400.png\n",
      "Original Image saved to: D:\\KULIAH\\SEMESTER 5\\RSBP\\Bacteri\\Detection-of-bacteria-in-water-using-Yolo-images\\Detect\\Detection-of-bacteria-in-water-using-Yolo-images\\temp\\images/val\\EMDS7-G023-013-0400.png\n",
      "Original Image saved to: D:\\KULIAH\\SEMESTER 5\\RSBP\\Bacteri\\Detection-of-bacteria-in-water-using-Yolo-images\\Detect\\Detection-of-bacteria-in-water-using-Yolo-images\\temp\\images/val\\EMDS7-G003-067-0400.png\n",
      "Original Image saved to: D:\\KULIAH\\SEMESTER 5\\RSBP\\Bacteri\\Detection-of-bacteria-in-water-using-Yolo-images\\Detect\\Detection-of-bacteria-in-water-using-Yolo-images\\temp\\images/val\\EMDS7-G028-029-0400.png\n",
      "Original Image saved to: D:\\KULIAH\\SEMESTER 5\\RSBP\\Bacteri\\Detection-of-bacteria-in-water-using-Yolo-images\\Detect\\Detection-of-bacteria-in-water-using-Yolo-images\\temp\\images/val\\EMDS7-G014-038-0400.png\n",
      "Original Image saved to: D:\\KULIAH\\SEMESTER 5\\RSBP\\Bacteri\\Detection-of-bacteria-in-water-using-Yolo-images\\Detect\\Detection-of-bacteria-in-water-using-Yolo-images\\temp\\images/val\\EMDS7-G022-252-0400.png\n",
      "Original Image saved to: D:\\KULIAH\\SEMESTER 5\\RSBP\\Bacteri\\Detection-of-bacteria-in-water-using-Yolo-images\\Detect\\Detection-of-bacteria-in-water-using-Yolo-images\\temp\\images/val\\EMDS7-G018-019-0400.png\n",
      "Original Image saved to: D:\\KULIAH\\SEMESTER 5\\RSBP\\Bacteri\\Detection-of-bacteria-in-water-using-Yolo-images\\Detect\\Detection-of-bacteria-in-water-using-Yolo-images\\temp\\images/val\\EMDS7-G022-118-0400.png\n",
      "Original Image saved to: D:\\KULIAH\\SEMESTER 5\\RSBP\\Bacteri\\Detection-of-bacteria-in-water-using-Yolo-images\\Detect\\Detection-of-bacteria-in-water-using-Yolo-images\\temp\\images/val\\EMDS7-G039-039-0400.png\n",
      "Original Image saved to: D:\\KULIAH\\SEMESTER 5\\RSBP\\Bacteri\\Detection-of-bacteria-in-water-using-Yolo-images\\Detect\\Detection-of-bacteria-in-water-using-Yolo-images\\temp\\images/val\\EMDS7-G032-015-0400.png\n",
      "Original Image saved to: D:\\KULIAH\\SEMESTER 5\\RSBP\\Bacteri\\Detection-of-bacteria-in-water-using-Yolo-images\\Detect\\Detection-of-bacteria-in-water-using-Yolo-images\\temp\\images/val\\EMDS7-G014-093-0400.png\n",
      "Original Image saved to: D:\\KULIAH\\SEMESTER 5\\RSBP\\Bacteri\\Detection-of-bacteria-in-water-using-Yolo-images\\Detect\\Detection-of-bacteria-in-water-using-Yolo-images\\temp\\images/val\\EMDS7-G003-287-0400.png\n",
      "Original Image saved to: D:\\KULIAH\\SEMESTER 5\\RSBP\\Bacteri\\Detection-of-bacteria-in-water-using-Yolo-images\\Detect\\Detection-of-bacteria-in-water-using-Yolo-images\\temp\\images/val\\EMDS7-G010-006-0400.png\n",
      "Original Image saved to: D:\\KULIAH\\SEMESTER 5\\RSBP\\Bacteri\\Detection-of-bacteria-in-water-using-Yolo-images\\Detect\\Detection-of-bacteria-in-water-using-Yolo-images\\temp\\images/val\\EMDS7-G006-003-0400.png\n",
      "Original Image saved to: D:\\KULIAH\\SEMESTER 5\\RSBP\\Bacteri\\Detection-of-bacteria-in-water-using-Yolo-images\\Detect\\Detection-of-bacteria-in-water-using-Yolo-images\\temp\\images/val\\EMDS7-G032-084-0400.png\n",
      "Original Image saved to: D:\\KULIAH\\SEMESTER 5\\RSBP\\Bacteri\\Detection-of-bacteria-in-water-using-Yolo-images\\Detect\\Detection-of-bacteria-in-water-using-Yolo-images\\temp\\images/val\\EMDS7-G022-101-0400.png\n",
      "Original Image saved to: D:\\KULIAH\\SEMESTER 5\\RSBP\\Bacteri\\Detection-of-bacteria-in-water-using-Yolo-images\\Detect\\Detection-of-bacteria-in-water-using-Yolo-images\\temp\\images/val\\EMDS7-G023-021-0400.png\n",
      "Original Image saved to: D:\\KULIAH\\SEMESTER 5\\RSBP\\Bacteri\\Detection-of-bacteria-in-water-using-Yolo-images\\Detect\\Detection-of-bacteria-in-water-using-Yolo-images\\temp\\images/val\\EMDS7-G017-039-0400.png\n",
      "Original Image saved to: D:\\KULIAH\\SEMESTER 5\\RSBP\\Bacteri\\Detection-of-bacteria-in-water-using-Yolo-images\\Detect\\Detection-of-bacteria-in-water-using-Yolo-images\\temp\\images/val\\EMDS7-G001-035-0400.png\n",
      "Original Image saved to: D:\\KULIAH\\SEMESTER 5\\RSBP\\Bacteri\\Detection-of-bacteria-in-water-using-Yolo-images\\Detect\\Detection-of-bacteria-in-water-using-Yolo-images\\temp\\images/val\\EMDS7-G003-270-0400.png\n",
      "Original Image saved to: D:\\KULIAH\\SEMESTER 5\\RSBP\\Bacteri\\Detection-of-bacteria-in-water-using-Yolo-images\\Detect\\Detection-of-bacteria-in-water-using-Yolo-images\\temp\\images/val\\EMDS7-G035-044-0400.png\n",
      "Original Image saved to: D:\\KULIAH\\SEMESTER 5\\RSBP\\Bacteri\\Detection-of-bacteria-in-water-using-Yolo-images\\Detect\\Detection-of-bacteria-in-water-using-Yolo-images\\temp\\images/val\\EMDS7-G003-194-0400.png\n",
      "Original Image saved to: D:\\KULIAH\\SEMESTER 5\\RSBP\\Bacteri\\Detection-of-bacteria-in-water-using-Yolo-images\\Detect\\Detection-of-bacteria-in-water-using-Yolo-images\\temp\\images/val\\EMDS7-G024-004-0400.png\n",
      "Original Image saved to: D:\\KULIAH\\SEMESTER 5\\RSBP\\Bacteri\\Detection-of-bacteria-in-water-using-Yolo-images\\Detect\\Detection-of-bacteria-in-water-using-Yolo-images\\temp\\images/val\\EMDS7-G029-023-0400.png\n",
      "Original Image saved to: D:\\KULIAH\\SEMESTER 5\\RSBP\\Bacteri\\Detection-of-bacteria-in-water-using-Yolo-images\\Detect\\Detection-of-bacteria-in-water-using-Yolo-images\\temp\\images/val\\EMDS7-G035-012-0400.png\n",
      "Original Image saved to: D:\\KULIAH\\SEMESTER 5\\RSBP\\Bacteri\\Detection-of-bacteria-in-water-using-Yolo-images\\Detect\\Detection-of-bacteria-in-water-using-Yolo-images\\temp\\images/val\\EMDS7-G016-018-0400.png\n",
      "Original Image saved to: D:\\KULIAH\\SEMESTER 5\\RSBP\\Bacteri\\Detection-of-bacteria-in-water-using-Yolo-images\\Detect\\Detection-of-bacteria-in-water-using-Yolo-images\\temp\\images/val\\EMDS7-G039-013-0400.png\n",
      "Original Image saved to: D:\\KULIAH\\SEMESTER 5\\RSBP\\Bacteri\\Detection-of-bacteria-in-water-using-Yolo-images\\Detect\\Detection-of-bacteria-in-water-using-Yolo-images\\temp\\images/val\\EMDS7-G001-010-0400.pngOriginal Image saved to: D:\\KULIAH\\SEMESTER 5\\RSBP\\Bacteri\\Detection-of-bacteria-in-water-using-Yolo-images\\Detect\\Detection-of-bacteria-in-water-using-Yolo-images\\temp\\images/val\\EMDS7-G039-029-0400.png\n",
      "\n",
      "Original Image saved to: D:\\KULIAH\\SEMESTER 5\\RSBP\\Bacteri\\Detection-of-bacteria-in-water-using-Yolo-images\\Detect\\Detection-of-bacteria-in-water-using-Yolo-images\\temp\\images/val\\EMDS7-G030-002-0400.png\n",
      "Original Image saved to: D:\\KULIAH\\SEMESTER 5\\RSBP\\Bacteri\\Detection-of-bacteria-in-water-using-Yolo-images\\Detect\\Detection-of-bacteria-in-water-using-Yolo-images\\temp\\images/val\\EMDS7-G039-028-0400.png\n",
      "Original Image saved to: D:\\KULIAH\\SEMESTER 5\\RSBP\\Bacteri\\Detection-of-bacteria-in-water-using-Yolo-images\\Detect\\Detection-of-bacteria-in-water-using-Yolo-images\\temp\\images/val\\EMDS7-G022-268-0400.png\n",
      "Original Image saved to: D:\\KULIAH\\SEMESTER 5\\RSBP\\Bacteri\\Detection-of-bacteria-in-water-using-Yolo-images\\Detect\\Detection-of-bacteria-in-water-using-Yolo-images\\temp\\images/val\\EMDS7-G009-010-0400.png\n",
      "Original Image saved to: D:\\KULIAH\\SEMESTER 5\\RSBP\\Bacteri\\Detection-of-bacteria-in-water-using-Yolo-images\\Detect\\Detection-of-bacteria-in-water-using-Yolo-images\\temp\\images/val\\EMDS7-G010-010-0400.png\n",
      "Original Image saved to: D:\\KULIAH\\SEMESTER 5\\RSBP\\Bacteri\\Detection-of-bacteria-in-water-using-Yolo-images\\Detect\\Detection-of-bacteria-in-water-using-Yolo-images\\temp\\images/val\\EMDS7-G017-071-0400.png\n",
      "Original Image saved to: D:\\KULIAH\\SEMESTER 5\\RSBP\\Bacteri\\Detection-of-bacteria-in-water-using-Yolo-images\\Detect\\Detection-of-bacteria-in-water-using-Yolo-images\\temp\\images/val\\EMDS7-G030-019-0400.png\n",
      "Original Image saved to: D:\\KULIAH\\SEMESTER 5\\RSBP\\Bacteri\\Detection-of-bacteria-in-water-using-Yolo-images\\Detect\\Detection-of-bacteria-in-water-using-Yolo-images\\temp\\images/val\\EMDS7-G018-069-0400.png\n",
      "Original Image saved to: D:\\KULIAH\\SEMESTER 5\\RSBP\\Bacteri\\Detection-of-bacteria-in-water-using-Yolo-images\\Detect\\Detection-of-bacteria-in-water-using-Yolo-images\\temp\\images/val\\EMDS7-G035-033-0400.png\n",
      "Original Image saved to: D:\\KULIAH\\SEMESTER 5\\RSBP\\Bacteri\\Detection-of-bacteria-in-water-using-Yolo-images\\Detect\\Detection-of-bacteria-in-water-using-Yolo-images\\temp\\images/val\\EMDS7-G016-001-0400.png\n",
      "Original Image saved to: D:\\KULIAH\\SEMESTER 5\\RSBP\\Bacteri\\Detection-of-bacteria-in-water-using-Yolo-images\\Detect\\Detection-of-bacteria-in-water-using-Yolo-images\\temp\\images/val\\EMDS7-G030-033-0400.png\n",
      "Original Image saved to: D:\\KULIAH\\SEMESTER 5\\RSBP\\Bacteri\\Detection-of-bacteria-in-water-using-Yolo-images\\Detect\\Detection-of-bacteria-in-water-using-Yolo-images\\temp\\images/val\\EMDS7-G028-008-0400.png\n",
      "Original Image saved to: D:\\KULIAH\\SEMESTER 5\\RSBP\\Bacteri\\Detection-of-bacteria-in-water-using-Yolo-images\\Detect\\Detection-of-bacteria-in-water-using-Yolo-images\\temp\\images/val\\EMDS7-G025-002-0400.png\n",
      "Original Image saved to: D:\\KULIAH\\SEMESTER 5\\RSBP\\Bacteri\\Detection-of-bacteria-in-water-using-Yolo-images\\Detect\\Detection-of-bacteria-in-water-using-Yolo-images\\temp\\images/val\\EMDS7-G017-035-0400.png\n",
      "Original Image saved to: D:\\KULIAH\\SEMESTER 5\\RSBP\\Bacteri\\Detection-of-bacteria-in-water-using-Yolo-images\\Detect\\Detection-of-bacteria-in-water-using-Yolo-images\\temp\\images/val\\EMDS7-G003-162-0400.png\n",
      "Original Image saved to: D:\\KULIAH\\SEMESTER 5\\RSBP\\Bacteri\\Detection-of-bacteria-in-water-using-Yolo-images\\Detect\\Detection-of-bacteria-in-water-using-Yolo-images\\temp\\images/val\\EMDS7-G012-010-0400.png\n",
      "Original Image saved to: D:\\KULIAH\\SEMESTER 5\\RSBP\\Bacteri\\Detection-of-bacteria-in-water-using-Yolo-images\\Detect\\Detection-of-bacteria-in-water-using-Yolo-images\\temp\\images/val\\EMDS7-G004-048-0400.png\n",
      "Original Image saved to: D:\\KULIAH\\SEMESTER 5\\RSBP\\Bacteri\\Detection-of-bacteria-in-water-using-Yolo-images\\Detect\\Detection-of-bacteria-in-water-using-Yolo-images\\temp\\images/val\\EMDS7-G015-018-0400.png\n",
      "Original Image saved to: D:\\KULIAH\\SEMESTER 5\\RSBP\\Bacteri\\Detection-of-bacteria-in-water-using-Yolo-images\\Detect\\Detection-of-bacteria-in-water-using-Yolo-images\\temp\\images/val\\EMDS7-G022-176-0400.png\n",
      "Original Image saved to: D:\\KULIAH\\SEMESTER 5\\RSBP\\Bacteri\\Detection-of-bacteria-in-water-using-Yolo-images\\Detect\\Detection-of-bacteria-in-water-using-Yolo-images\\temp\\images/val\\EMDS7-G023-017-0400.png\n",
      "Original Image saved to: D:\\KULIAH\\SEMESTER 5\\RSBP\\Bacteri\\Detection-of-bacteria-in-water-using-Yolo-images\\Detect\\Detection-of-bacteria-in-water-using-Yolo-images\\temp\\images/val\\EMDS7-G001-006-0400.png\n",
      "Original Image saved to: D:\\KULIAH\\SEMESTER 5\\RSBP\\Bacteri\\Detection-of-bacteria-in-water-using-Yolo-images\\Detect\\Detection-of-bacteria-in-water-using-Yolo-images\\temp\\images/val\\EMDS7-G019-058-0400.png\n",
      "Original Image saved to: D:\\KULIAH\\SEMESTER 5\\RSBP\\Bacteri\\Detection-of-bacteria-in-water-using-Yolo-images\\Detect\\Detection-of-bacteria-in-water-using-Yolo-images\\temp\\images/val\\EMDS7-G026-007-0400.png\n",
      "Original Image saved to: D:\\KULIAH\\SEMESTER 5\\RSBP\\Bacteri\\Detection-of-bacteria-in-water-using-Yolo-images\\Detect\\Detection-of-bacteria-in-water-using-Yolo-images\\temp\\images/val\\EMDS7-G028-023-0400.png\n",
      "Original Image saved to: D:\\KULIAH\\SEMESTER 5\\RSBP\\Bacteri\\Detection-of-bacteria-in-water-using-Yolo-images\\Detect\\Detection-of-bacteria-in-water-using-Yolo-images\\temp\\images/val\\EMDS7-G012-019-0400.png\n",
      "Original Image saved to: D:\\KULIAH\\SEMESTER 5\\RSBP\\Bacteri\\Detection-of-bacteria-in-water-using-Yolo-images\\Detect\\Detection-of-bacteria-in-water-using-Yolo-images\\temp\\images/val\\EMDS7-G022-022-0400.png\n",
      "Original Image saved to: D:\\KULIAH\\SEMESTER 5\\RSBP\\Bacteri\\Detection-of-bacteria-in-water-using-Yolo-images\\Detect\\Detection-of-bacteria-in-water-using-Yolo-images\\temp\\images/val\\EMDS7-G003-301-0400.png\n",
      "Original Image saved to: D:\\KULIAH\\SEMESTER 5\\RSBP\\Bacteri\\Detection-of-bacteria-in-water-using-Yolo-images\\Detect\\Detection-of-bacteria-in-water-using-Yolo-images\\temp\\images/val\\EMDS7-G014-023-0400.png\n",
      "Original Image saved to: D:\\KULIAH\\SEMESTER 5\\RSBP\\Bacteri\\Detection-of-bacteria-in-water-using-Yolo-images\\Detect\\Detection-of-bacteria-in-water-using-Yolo-images\\temp\\images/val\\EMDS7-G012-051-0400.png\n",
      "Original Image saved to: D:\\KULIAH\\SEMESTER 5\\RSBP\\Bacteri\\Detection-of-bacteria-in-water-using-Yolo-images\\Detect\\Detection-of-bacteria-in-water-using-Yolo-images\\temp\\images/val\\EMDS7-G022-274-0400.png\n",
      "Original Image saved to: D:\\KULIAH\\SEMESTER 5\\RSBP\\Bacteri\\Detection-of-bacteria-in-water-using-Yolo-images\\Detect\\Detection-of-bacteria-in-water-using-Yolo-images\\temp\\images/val\\EMDS7-G011-057-0400.png\n",
      "Original Image saved to: D:\\KULIAH\\SEMESTER 5\\RSBP\\Bacteri\\Detection-of-bacteria-in-water-using-Yolo-images\\Detect\\Detection-of-bacteria-in-water-using-Yolo-images\\temp\\images/val\\EMDS7-G039-033-0400.png\n",
      "Original Image saved to: D:\\KULIAH\\SEMESTER 5\\RSBP\\Bacteri\\Detection-of-bacteria-in-water-using-Yolo-images\\Detect\\Detection-of-bacteria-in-water-using-Yolo-images\\temp\\images/val\\EMDS7-G022-120-0400.png\n",
      "Original Image saved to: D:\\KULIAH\\SEMESTER 5\\RSBP\\Bacteri\\Detection-of-bacteria-in-water-using-Yolo-images\\Detect\\Detection-of-bacteria-in-water-using-Yolo-images\\temp\\images/val\\EMDS7-G019-006-0400.png\n",
      "Original Image saved to: D:\\KULIAH\\SEMESTER 5\\RSBP\\Bacteri\\Detection-of-bacteria-in-water-using-Yolo-images\\Detect\\Detection-of-bacteria-in-water-using-Yolo-images\\temp\\images/val\\EMDS7-G004-012-0400.png\n",
      "Original Image saved to: D:\\KULIAH\\SEMESTER 5\\RSBP\\Bacteri\\Detection-of-bacteria-in-water-using-Yolo-images\\Detect\\Detection-of-bacteria-in-water-using-Yolo-images\\temp\\images/val\\EMDS7-G003-234-0400.png\n",
      "Original Image saved to: D:\\KULIAH\\SEMESTER 5\\RSBP\\Bacteri\\Detection-of-bacteria-in-water-using-Yolo-images\\Detect\\Detection-of-bacteria-in-water-using-Yolo-images\\temp\\images/val\\EMDS7-G022-142-0400.png\n",
      "Original Image saved to: D:\\KULIAH\\SEMESTER 5\\RSBP\\Bacteri\\Detection-of-bacteria-in-water-using-Yolo-images\\Detect\\Detection-of-bacteria-in-water-using-Yolo-images\\temp\\images/val\\EMDS7-G028-011-0400.png\n",
      "Original Image saved to: D:\\KULIAH\\SEMESTER 5\\RSBP\\Bacteri\\Detection-of-bacteria-in-water-using-Yolo-images\\Detect\\Detection-of-bacteria-in-water-using-Yolo-images\\temp\\images/val\\EMDS7-G003-048-0400.png\n",
      "Original Image saved to: D:\\KULIAH\\SEMESTER 5\\RSBP\\Bacteri\\Detection-of-bacteria-in-water-using-Yolo-images\\Detect\\Detection-of-bacteria-in-water-using-Yolo-images\\temp\\images/val\\EMDS7-G032-041-0400.png\n",
      "Original Image saved to: D:\\KULIAH\\SEMESTER 5\\RSBP\\Bacteri\\Detection-of-bacteria-in-water-using-Yolo-images\\Detect\\Detection-of-bacteria-in-water-using-Yolo-images\\temp\\images/val\\EMDS7-G009-048-0400.png\n",
      "Original Image saved to: D:\\KULIAH\\SEMESTER 5\\RSBP\\Bacteri\\Detection-of-bacteria-in-water-using-Yolo-images\\Detect\\Detection-of-bacteria-in-water-using-Yolo-images\\temp\\images/val\\EMDS7-G032-058-0400.png\n",
      "Original Image saved to: D:\\KULIAH\\SEMESTER 5\\RSBP\\Bacteri\\Detection-of-bacteria-in-water-using-Yolo-images\\Detect\\Detection-of-bacteria-in-water-using-Yolo-images\\temp\\images/val\\EMDS7-G003-284-0400.png\n",
      "Original Image saved to: D:\\KULIAH\\SEMESTER 5\\RSBP\\Bacteri\\Detection-of-bacteria-in-water-using-Yolo-images\\Detect\\Detection-of-bacteria-in-water-using-Yolo-images\\temp\\images/val\\EMDS7-G004-043-0400.png\n",
      "Original Image saved to: D:\\KULIAH\\SEMESTER 5\\RSBP\\Bacteri\\Detection-of-bacteria-in-water-using-Yolo-images\\Detect\\Detection-of-bacteria-in-water-using-Yolo-images\\temp\\images/val\\EMDS7-G022-208-0400.png\n",
      "Original Image saved to: D:\\KULIAH\\SEMESTER 5\\RSBP\\Bacteri\\Detection-of-bacteria-in-water-using-Yolo-images\\Detect\\Detection-of-bacteria-in-water-using-Yolo-images\\temp\\images/val\\EMDS7-G028-032-0400.png\n",
      "Original Image saved to: D:\\KULIAH\\SEMESTER 5\\RSBP\\Bacteri\\Detection-of-bacteria-in-water-using-Yolo-images\\Detect\\Detection-of-bacteria-in-water-using-Yolo-images\\temp\\images/val\\EMDS7-G003-188-0400.png\n",
      "Original Image saved to: D:\\KULIAH\\SEMESTER 5\\RSBP\\Bacteri\\Detection-of-bacteria-in-water-using-Yolo-images\\Detect\\Detection-of-bacteria-in-water-using-Yolo-images\\temp\\images/val\\EMDS7-G003-230-0400.png\n",
      "Original Image saved to: D:\\KULIAH\\SEMESTER 5\\RSBP\\Bacteri\\Detection-of-bacteria-in-water-using-Yolo-images\\Detect\\Detection-of-bacteria-in-water-using-Yolo-images\\temp\\images/val\\EMDS7-G003-208-0400.png\n",
      "Original Image saved to: D:\\KULIAH\\SEMESTER 5\\RSBP\\Bacteri\\Detection-of-bacteria-in-water-using-Yolo-images\\Detect\\Detection-of-bacteria-in-water-using-Yolo-images\\temp\\images/val\\EMDS7-G003-131-0400.png\n",
      "Original Image saved to: D:\\KULIAH\\SEMESTER 5\\RSBP\\Bacteri\\Detection-of-bacteria-in-water-using-Yolo-images\\Detect\\Detection-of-bacteria-in-water-using-Yolo-images\\temp\\images/val\\EMDS7-G036-032-0400.png\n",
      "Original Image saved to: D:\\KULIAH\\SEMESTER 5\\RSBP\\Bacteri\\Detection-of-bacteria-in-water-using-Yolo-images\\Detect\\Detection-of-bacteria-in-water-using-Yolo-images\\temp\\images/val\\EMDS7-G034-005-0400.png\n",
      "Original Image saved to: D:\\KULIAH\\SEMESTER 5\\RSBP\\Bacteri\\Detection-of-bacteria-in-water-using-Yolo-images\\Detect\\Detection-of-bacteria-in-water-using-Yolo-images\\temp\\images/val\\EMDS7-G029-019-0400.png\n",
      "Original Image saved to: D:\\KULIAH\\SEMESTER 5\\RSBP\\Bacteri\\Detection-of-bacteria-in-water-using-Yolo-images\\Detect\\Detection-of-bacteria-in-water-using-Yolo-images\\temp\\images/val\\EMDS7-G039-023-0400.png\n",
      "Original Image saved to: D:\\KULIAH\\SEMESTER 5\\RSBP\\Bacteri\\Detection-of-bacteria-in-water-using-Yolo-images\\Detect\\Detection-of-bacteria-in-water-using-Yolo-images\\temp\\images/val\\EMDS7-G039-077-0400.png\n",
      "Original Image saved to: D:\\KULIAH\\SEMESTER 5\\RSBP\\Bacteri\\Detection-of-bacteria-in-water-using-Yolo-images\\Detect\\Detection-of-bacteria-in-water-using-Yolo-images\\temp\\images/val\\EMDS7-G003-202-0400.png\n",
      "Original Image saved to: D:\\KULIAH\\SEMESTER 5\\RSBP\\Bacteri\\Detection-of-bacteria-in-water-using-Yolo-images\\Detect\\Detection-of-bacteria-in-water-using-Yolo-images\\temp\\images/val\\EMDS7-G038-053-0400.png\n",
      "Original Image saved to: D:\\KULIAH\\SEMESTER 5\\RSBP\\Bacteri\\Detection-of-bacteria-in-water-using-Yolo-images\\Detect\\Detection-of-bacteria-in-water-using-Yolo-images\\temp\\images/val\\EMDS7-G022-050-0400.png\n",
      "Original Image saved to: D:\\KULIAH\\SEMESTER 5\\RSBP\\Bacteri\\Detection-of-bacteria-in-water-using-Yolo-images\\Detect\\Detection-of-bacteria-in-water-using-Yolo-images\\temp\\images/val\\EMDS7-G012-065-0400.png\n",
      "Original Image saved to: D:\\KULIAH\\SEMESTER 5\\RSBP\\Bacteri\\Detection-of-bacteria-in-water-using-Yolo-images\\Detect\\Detection-of-bacteria-in-water-using-Yolo-images\\temp\\images/val\\EMDS7-G025-041-0400.png\n",
      "Original Image saved to: D:\\KULIAH\\SEMESTER 5\\RSBP\\Bacteri\\Detection-of-bacteria-in-water-using-Yolo-images\\Detect\\Detection-of-bacteria-in-water-using-Yolo-images\\temp\\images/val\\EMDS7-G039-008-0400.png\n",
      "Original Image saved to: D:\\KULIAH\\SEMESTER 5\\RSBP\\Bacteri\\Detection-of-bacteria-in-water-using-Yolo-images\\Detect\\Detection-of-bacteria-in-water-using-Yolo-images\\temp\\images/val\\EMDS7-G012-017-0400.png\n",
      "Original Image saved to: D:\\KULIAH\\SEMESTER 5\\RSBP\\Bacteri\\Detection-of-bacteria-in-water-using-Yolo-images\\Detect\\Detection-of-bacteria-in-water-using-Yolo-images\\temp\\images/val\\EMDS7-G022-146-0400.png\n",
      "Original Image saved to: D:\\KULIAH\\SEMESTER 5\\RSBP\\Bacteri\\Detection-of-bacteria-in-water-using-Yolo-images\\Detect\\Detection-of-bacteria-in-water-using-Yolo-images\\temp\\images/val\\EMDS7-G012-071-0400.png\n",
      "Original Image saved to: D:\\KULIAH\\SEMESTER 5\\RSBP\\Bacteri\\Detection-of-bacteria-in-water-using-Yolo-images\\Detect\\Detection-of-bacteria-in-water-using-Yolo-images\\temp\\images/val\\EMDS7-G012-064-0400.png\n",
      "Original Image saved to: D:\\KULIAH\\SEMESTER 5\\RSBP\\Bacteri\\Detection-of-bacteria-in-water-using-Yolo-images\\Detect\\Detection-of-bacteria-in-water-using-Yolo-images\\temp\\images/val\\EMDS7-G039-079-0400.png\n",
      "Original Image saved to: D:\\KULIAH\\SEMESTER 5\\RSBP\\Bacteri\\Detection-of-bacteria-in-water-using-Yolo-images\\Detect\\Detection-of-bacteria-in-water-using-Yolo-images\\temp\\images/val\\EMDS7-G022-133-0400.png\n",
      "Original Image saved to: D:\\KULIAH\\SEMESTER 5\\RSBP\\Bacteri\\Detection-of-bacteria-in-water-using-Yolo-images\\Detect\\Detection-of-bacteria-in-water-using-Yolo-images\\temp\\images/val\\EMDS7-G003-161-0400.png\n",
      "Original Image saved to: D:\\KULIAH\\SEMESTER 5\\RSBP\\Bacteri\\Detection-of-bacteria-in-water-using-Yolo-images\\Detect\\Detection-of-bacteria-in-water-using-Yolo-images\\temp\\images/val\\EMDS7-G018-009-0400.png\n",
      "Original Image saved to: D:\\KULIAH\\SEMESTER 5\\RSBP\\Bacteri\\Detection-of-bacteria-in-water-using-Yolo-images\\Detect\\Detection-of-bacteria-in-water-using-Yolo-images\\temp\\images/val\\EMDS7-G009-068-0400.png\n",
      "Original Image saved to: D:\\KULIAH\\SEMESTER 5\\RSBP\\Bacteri\\Detection-of-bacteria-in-water-using-Yolo-images\\Detect\\Detection-of-bacteria-in-water-using-Yolo-images\\temp\\images/val\\EMDS7-G030-044-0400.png\n",
      "Original Image saved to: D:\\KULIAH\\SEMESTER 5\\RSBP\\Bacteri\\Detection-of-bacteria-in-water-using-Yolo-images\\Detect\\Detection-of-bacteria-in-water-using-Yolo-images\\temp\\images/val\\EMDS7-G022-270-0400.png\n",
      "Original Image saved to: D:\\KULIAH\\SEMESTER 5\\RSBP\\Bacteri\\Detection-of-bacteria-in-water-using-Yolo-images\\Detect\\Detection-of-bacteria-in-water-using-Yolo-images\\temp\\images/val\\EMDS7-G029-007-0400.png\n",
      "Original Image saved to: D:\\KULIAH\\SEMESTER 5\\RSBP\\Bacteri\\Detection-of-bacteria-in-water-using-Yolo-images\\Detect\\Detection-of-bacteria-in-water-using-Yolo-images\\temp\\images/val\\EMDS7-G025-035-0400.png\n",
      "Original Image saved to: D:\\KULIAH\\SEMESTER 5\\RSBP\\Bacteri\\Detection-of-bacteria-in-water-using-Yolo-images\\Detect\\Detection-of-bacteria-in-water-using-Yolo-images\\temp\\images/val\\EMDS7-G009-029-0400.png\n",
      "Original Image saved to: D:\\KULIAH\\SEMESTER 5\\RSBP\\Bacteri\\Detection-of-bacteria-in-water-using-Yolo-images\\Detect\\Detection-of-bacteria-in-water-using-Yolo-images\\temp\\images/val\\EMDS7-G037-013-0400.png\n",
      "Original Image saved to: D:\\KULIAH\\SEMESTER 5\\RSBP\\Bacteri\\Detection-of-bacteria-in-water-using-Yolo-images\\Detect\\Detection-of-bacteria-in-water-using-Yolo-images\\temp\\images/val\\EMDS7-G012-007-0400.png\n",
      "Original Image saved to: D:\\KULIAH\\SEMESTER 5\\RSBP\\Bacteri\\Detection-of-bacteria-in-water-using-Yolo-images\\Detect\\Detection-of-bacteria-in-water-using-Yolo-images\\temp\\images/val\\EMDS7-G003-292-0400.png\n",
      "Original Image saved to: D:\\KULIAH\\SEMESTER 5\\RSBP\\Bacteri\\Detection-of-bacteria-in-water-using-Yolo-images\\Detect\\Detection-of-bacteria-in-water-using-Yolo-images\\temp\\images/val\\EMDS7-G006-008-0400.png\n",
      "Original Image saved to: D:\\KULIAH\\SEMESTER 5\\RSBP\\Bacteri\\Detection-of-bacteria-in-water-using-Yolo-images\\Detect\\Detection-of-bacteria-in-water-using-Yolo-images\\temp\\images/val\\EMDS7-G025-016-0400.png\n",
      "Original Image saved to: D:\\KULIAH\\SEMESTER 5\\RSBP\\Bacteri\\Detection-of-bacteria-in-water-using-Yolo-images\\Detect\\Detection-of-bacteria-in-water-using-Yolo-images\\temp\\images/val\\EMDS7-G033-007-0400.png\n",
      "Original Image saved to: D:\\KULIAH\\SEMESTER 5\\RSBP\\Bacteri\\Detection-of-bacteria-in-water-using-Yolo-images\\Detect\\Detection-of-bacteria-in-water-using-Yolo-images\\temp\\images/val\\EMDS7-G032-032-0400.png\n",
      "Original Image saved to: D:\\KULIAH\\SEMESTER 5\\RSBP\\Bacteri\\Detection-of-bacteria-in-water-using-Yolo-images\\Detect\\Detection-of-bacteria-in-water-using-Yolo-images\\temp\\images/val\\EMDS7-G030-023-0400.png\n",
      "Original Image saved to: D:\\KULIAH\\SEMESTER 5\\RSBP\\Bacteri\\Detection-of-bacteria-in-water-using-Yolo-images\\Detect\\Detection-of-bacteria-in-water-using-Yolo-images\\temp\\images/val\\EMDS7-G037-014-0400.png\n",
      "Original Image saved to: D:\\KULIAH\\SEMESTER 5\\RSBP\\Bacteri\\Detection-of-bacteria-in-water-using-Yolo-images\\Detect\\Detection-of-bacteria-in-water-using-Yolo-images\\temp\\images/val\\EMDS7-G020-023-0400.png\n",
      "Original Image saved to: D:\\KULIAH\\SEMESTER 5\\RSBP\\Bacteri\\Detection-of-bacteria-in-water-using-Yolo-images\\Detect\\Detection-of-bacteria-in-water-using-Yolo-images\\temp\\images/val\\EMDS7-G027-008-0400.png\n",
      "Original Image saved to: D:\\KULIAH\\SEMESTER 5\\RSBP\\Bacteri\\Detection-of-bacteria-in-water-using-Yolo-images\\Detect\\Detection-of-bacteria-in-water-using-Yolo-images\\temp\\images/val\\EMDS7-G012-082-0400.png\n",
      "Original Image saved to: D:\\KULIAH\\SEMESTER 5\\RSBP\\Bacteri\\Detection-of-bacteria-in-water-using-Yolo-images\\Detect\\Detection-of-bacteria-in-water-using-Yolo-images\\temp\\images/val\\EMDS7-G022-068-0400.png\n",
      "Original Image saved to: D:\\KULIAH\\SEMESTER 5\\RSBP\\Bacteri\\Detection-of-bacteria-in-water-using-Yolo-images\\Detect\\Detection-of-bacteria-in-water-using-Yolo-images\\temp\\images/val\\EMDS7-G022-086-0400.png\n",
      "Original Image saved to: D:\\KULIAH\\SEMESTER 5\\RSBP\\Bacteri\\Detection-of-bacteria-in-water-using-Yolo-images\\Detect\\Detection-of-bacteria-in-water-using-Yolo-images\\temp\\images/val\\EMDS7-G006-014-0400.png\n",
      "Original Image saved to: D:\\KULIAH\\SEMESTER 5\\RSBP\\Bacteri\\Detection-of-bacteria-in-water-using-Yolo-images\\Detect\\Detection-of-bacteria-in-water-using-Yolo-images\\temp\\images/val\\EMDS7-G001-027-0400.png\n",
      "Original Image saved to: D:\\KULIAH\\SEMESTER 5\\RSBP\\Bacteri\\Detection-of-bacteria-in-water-using-Yolo-images\\Detect\\Detection-of-bacteria-in-water-using-Yolo-images\\temp\\images/val\\EMDS7-G014-069-0400.png\n",
      "Original Image saved to: D:\\KULIAH\\SEMESTER 5\\RSBP\\Bacteri\\Detection-of-bacteria-in-water-using-Yolo-images\\Detect\\Detection-of-bacteria-in-water-using-Yolo-images\\temp\\images/val\\EMDS7-G028-062-0400.png\n",
      "Original Image saved to: D:\\KULIAH\\SEMESTER 5\\RSBP\\Bacteri\\Detection-of-bacteria-in-water-using-Yolo-images\\Detect\\Detection-of-bacteria-in-water-using-Yolo-images\\temp\\images/val\\EMDS7-G039-057-0400.png\n",
      "Original Image saved to: D:\\KULIAH\\SEMESTER 5\\RSBP\\Bacteri\\Detection-of-bacteria-in-water-using-Yolo-images\\Detect\\Detection-of-bacteria-in-water-using-Yolo-images\\temp\\images/val\\EMDS7-G036-062-0400.png\n",
      "Original Image saved to: D:\\KULIAH\\SEMESTER 5\\RSBP\\Bacteri\\Detection-of-bacteria-in-water-using-Yolo-images\\Detect\\Detection-of-bacteria-in-water-using-Yolo-images\\temp\\images/val\\EMDS7-G023-033-0400.png\n",
      "Original Image saved to: D:\\KULIAH\\SEMESTER 5\\RSBP\\Bacteri\\Detection-of-bacteria-in-water-using-Yolo-images\\Detect\\Detection-of-bacteria-in-water-using-Yolo-images\\temp\\images/val\\EMDS7-G032-050-0400.png\n",
      "Original Image saved to: D:\\KULIAH\\SEMESTER 5\\RSBP\\Bacteri\\Detection-of-bacteria-in-water-using-Yolo-images\\Detect\\Detection-of-bacteria-in-water-using-Yolo-images\\temp\\images/val\\EMDS7-G003-176-0400.png\n",
      "Original Image saved to: D:\\KULIAH\\SEMESTER 5\\RSBP\\Bacteri\\Detection-of-bacteria-in-water-using-Yolo-images\\Detect\\Detection-of-bacteria-in-water-using-Yolo-images\\temp\\images/val\\EMDS7-G034-004-0400.png\n",
      "Original Image saved to: D:\\KULIAH\\SEMESTER 5\\RSBP\\Bacteri\\Detection-of-bacteria-in-water-using-Yolo-images\\Detect\\Detection-of-bacteria-in-water-using-Yolo-images\\temp\\images/val\\EMDS7-G003-042-0400.png\n",
      "Original Image saved to: D:\\KULIAH\\SEMESTER 5\\RSBP\\Bacteri\\Detection-of-bacteria-in-water-using-Yolo-images\\Detect\\Detection-of-bacteria-in-water-using-Yolo-images\\temp\\images/val\\EMDS7-G032-066-0400.png\n",
      "Original Image saved to: D:\\KULIAH\\SEMESTER 5\\RSBP\\Bacteri\\Detection-of-bacteria-in-water-using-Yolo-images\\Detect\\Detection-of-bacteria-in-water-using-Yolo-images\\temp\\images/val\\EMDS7-G004-083-0400.png\n",
      "Original Image saved to: D:\\KULIAH\\SEMESTER 5\\RSBP\\Bacteri\\Detection-of-bacteria-in-water-using-Yolo-images\\Detect\\Detection-of-bacteria-in-water-using-Yolo-images\\temp\\images/val\\EMDS7-G022-199-0400.png\n",
      "Original Image saved to: D:\\KULIAH\\SEMESTER 5\\RSBP\\Bacteri\\Detection-of-bacteria-in-water-using-Yolo-images\\Detect\\Detection-of-bacteria-in-water-using-Yolo-images\\temp\\images/val\\EMDS7-G008-043-0400.png\n",
      "Original Image saved to: D:\\KULIAH\\SEMESTER 5\\RSBP\\Bacteri\\Detection-of-bacteria-in-water-using-Yolo-images\\Detect\\Detection-of-bacteria-in-water-using-Yolo-images\\temp\\images/val\\EMDS7-G003-024-0400.png\n",
      "Original Image saved to: D:\\KULIAH\\SEMESTER 5\\RSBP\\Bacteri\\Detection-of-bacteria-in-water-using-Yolo-images\\Detect\\Detection-of-bacteria-in-water-using-Yolo-images\\temp\\images/val\\EMDS7-G003-220-0400.png\n",
      "Original Image saved to: D:\\KULIAH\\SEMESTER 5\\RSBP\\Bacteri\\Detection-of-bacteria-in-water-using-Yolo-images\\Detect\\Detection-of-bacteria-in-water-using-Yolo-images\\temp\\images/val\\EMDS7-G003-213-0400.png\n",
      "Original Image saved to: D:\\KULIAH\\SEMESTER 5\\RSBP\\Bacteri\\Detection-of-bacteria-in-water-using-Yolo-images\\Detect\\Detection-of-bacteria-in-water-using-Yolo-images\\temp\\images/val\\EMDS7-G011-013-0400.png\n",
      "Original Image saved to: D:\\KULIAH\\SEMESTER 5\\RSBP\\Bacteri\\Detection-of-bacteria-in-water-using-Yolo-images\\Detect\\Detection-of-bacteria-in-water-using-Yolo-images\\temp\\images/val\\EMDS7-G003-280-0400.png\n",
      "Original Image saved to: D:\\KULIAH\\SEMESTER 5\\RSBP\\Bacteri\\Detection-of-bacteria-in-water-using-Yolo-images\\Detect\\Detection-of-bacteria-in-water-using-Yolo-images\\temp\\images/val\\EMDS7-G003-251-0400.png\n",
      "Original Image saved to: D:\\KULIAH\\SEMESTER 5\\RSBP\\Bacteri\\Detection-of-bacteria-in-water-using-Yolo-images\\Detect\\Detection-of-bacteria-in-water-using-Yolo-images\\temp\\images/val\\EMDS7-G022-200-0400.png\n",
      "Original Image saved to: D:\\KULIAH\\SEMESTER 5\\RSBP\\Bacteri\\Detection-of-bacteria-in-water-using-Yolo-images\\Detect\\Detection-of-bacteria-in-water-using-Yolo-images\\temp\\images/val\\EMDS7-G004-040-0400.png\n",
      "Original Image saved to: D:\\KULIAH\\SEMESTER 5\\RSBP\\Bacteri\\Detection-of-bacteria-in-water-using-Yolo-images\\Detect\\Detection-of-bacteria-in-water-using-Yolo-images\\temp\\images/val\\EMDS7-G006-007-0400.png\n",
      "Original Image saved to: D:\\KULIAH\\SEMESTER 5\\RSBP\\Bacteri\\Detection-of-bacteria-in-water-using-Yolo-images\\Detect\\Detection-of-bacteria-in-water-using-Yolo-images\\temp\\images/val\\EMDS7-G025-074-0400.png\n",
      "Original Image saved to: D:\\KULIAH\\SEMESTER 5\\RSBP\\Bacteri\\Detection-of-bacteria-in-water-using-Yolo-images\\Detect\\Detection-of-bacteria-in-water-using-Yolo-images\\temp\\images/val\\EMDS7-G007-009-0400.png\n",
      "Original Image saved to: D:\\KULIAH\\SEMESTER 5\\RSBP\\Bacteri\\Detection-of-bacteria-in-water-using-Yolo-images\\Detect\\Detection-of-bacteria-in-water-using-Yolo-images\\temp\\images/val\\EMDS7-G014-077-0400.png\n",
      "Original Image saved to: D:\\KULIAH\\SEMESTER 5\\RSBP\\Bacteri\\Detection-of-bacteria-in-water-using-Yolo-images\\Detect\\Detection-of-bacteria-in-water-using-Yolo-images\\temp\\images/val\\EMDS7-G003-077-0400.png\n",
      "Original Image saved to: D:\\KULIAH\\SEMESTER 5\\RSBP\\Bacteri\\Detection-of-bacteria-in-water-using-Yolo-images\\Detect\\Detection-of-bacteria-in-water-using-Yolo-images\\temp\\images/val\\EMDS7-G012-021-0400.png\n",
      "Original Image saved to: D:\\KULIAH\\SEMESTER 5\\RSBP\\Bacteri\\Detection-of-bacteria-in-water-using-Yolo-images\\Detect\\Detection-of-bacteria-in-water-using-Yolo-images\\temp\\images/val\\EMDS7-G017-062-0400.png\n",
      "Original Image saved to: D:\\KULIAH\\SEMESTER 5\\RSBP\\Bacteri\\Detection-of-bacteria-in-water-using-Yolo-images\\Detect\\Detection-of-bacteria-in-water-using-Yolo-images\\temp\\images/val\\EMDS7-G004-069-0400.png\n",
      "Original Image saved to: D:\\KULIAH\\SEMESTER 5\\RSBP\\Bacteri\\Detection-of-bacteria-in-water-using-Yolo-images\\Detect\\Detection-of-bacteria-in-water-using-Yolo-images\\temp\\images/val\\EMDS7-G027-012-0400.png\n",
      "Original Image saved to: D:\\KULIAH\\SEMESTER 5\\RSBP\\Bacteri\\Detection-of-bacteria-in-water-using-Yolo-images\\Detect\\Detection-of-bacteria-in-water-using-Yolo-images\\temp\\images/val\\EMDS7-G003-303-0400.png\n",
      "Original Image saved to: D:\\KULIAH\\SEMESTER 5\\RSBP\\Bacteri\\Detection-of-bacteria-in-water-using-Yolo-images\\Detect\\Detection-of-bacteria-in-water-using-Yolo-images\\temp\\images/val\\EMDS7-G023-019-0400.png\n",
      "Original Image saved to: D:\\KULIAH\\SEMESTER 5\\RSBP\\Bacteri\\Detection-of-bacteria-in-water-using-Yolo-images\\Detect\\Detection-of-bacteria-in-water-using-Yolo-images\\temp\\images/val\\EMDS7-G008-028-0400.png\n",
      "Original Image saved to: D:\\KULIAH\\SEMESTER 5\\RSBP\\Bacteri\\Detection-of-bacteria-in-water-using-Yolo-images\\Detect\\Detection-of-bacteria-in-water-using-Yolo-images\\temp\\images/val\\EMDS7-G025-043-0400.png\n",
      "Original Image saved to: D:\\KULIAH\\SEMESTER 5\\RSBP\\Bacteri\\Detection-of-bacteria-in-water-using-Yolo-images\\Detect\\Detection-of-bacteria-in-water-using-Yolo-images\\temp\\images/val\\EMDS7-G012-076-0400.png\n",
      "Original Image saved to: D:\\KULIAH\\SEMESTER 5\\RSBP\\Bacteri\\Detection-of-bacteria-in-water-using-Yolo-images\\Detect\\Detection-of-bacteria-in-water-using-Yolo-images\\temp\\images/val\\EMDS7-G040-005-0400.png\n",
      "Original Image saved to: D:\\KULIAH\\SEMESTER 5\\RSBP\\Bacteri\\Detection-of-bacteria-in-water-using-Yolo-images\\Detect\\Detection-of-bacteria-in-water-using-Yolo-images\\temp\\images/val\\EMDS7-G021-001-0400.png\n",
      "Original Image saved to: D:\\KULIAH\\SEMESTER 5\\RSBP\\Bacteri\\Detection-of-bacteria-in-water-using-Yolo-images\\Detect\\Detection-of-bacteria-in-water-using-Yolo-images\\temp\\images/val\\EMDS7-G025-059-0400.png\n",
      "Original Image saved to: D:\\KULIAH\\SEMESTER 5\\RSBP\\Bacteri\\Detection-of-bacteria-in-water-using-Yolo-images\\Detect\\Detection-of-bacteria-in-water-using-Yolo-images\\temp\\images/val\\EMDS7-G040-019-0400.png\n",
      "Original Image saved to: D:\\KULIAH\\SEMESTER 5\\RSBP\\Bacteri\\Detection-of-bacteria-in-water-using-Yolo-images\\Detect\\Detection-of-bacteria-in-water-using-Yolo-images\\temp\\images/val\\EMDS7-G022-203-0400.png\n",
      "Original Image saved to: D:\\KULIAH\\SEMESTER 5\\RSBP\\Bacteri\\Detection-of-bacteria-in-water-using-Yolo-images\\Detect\\Detection-of-bacteria-in-water-using-Yolo-images\\temp\\images/val\\EMDS7-G003-084-0400.png\n",
      "Original Image saved to: D:\\KULIAH\\SEMESTER 5\\RSBP\\Bacteri\\Detection-of-bacteria-in-water-using-Yolo-images\\Detect\\Detection-of-bacteria-in-water-using-Yolo-images\\temp\\images/val\\EMDS7-G032-002-0400.png\n",
      "Original Image saved to: D:\\KULIAH\\SEMESTER 5\\RSBP\\Bacteri\\Detection-of-bacteria-in-water-using-Yolo-images\\Detect\\Detection-of-bacteria-in-water-using-Yolo-images\\temp\\images/val\\EMDS7-G031-026-0400.png\n",
      "Original Image saved to: D:\\KULIAH\\SEMESTER 5\\RSBP\\Bacteri\\Detection-of-bacteria-in-water-using-Yolo-images\\Detect\\Detection-of-bacteria-in-water-using-Yolo-images\\temp\\images/val\\EMDS7-G039-088-0400.png\n",
      "Original Image saved to: D:\\KULIAH\\SEMESTER 5\\RSBP\\Bacteri\\Detection-of-bacteria-in-water-using-Yolo-images\\Detect\\Detection-of-bacteria-in-water-using-Yolo-images\\temp\\images/val\\EMDS7-G021-008-0400.png\n",
      "Original Image saved to: D:\\KULIAH\\SEMESTER 5\\RSBP\\Bacteri\\Detection-of-bacteria-in-water-using-Yolo-images\\Detect\\Detection-of-bacteria-in-water-using-Yolo-images\\temp\\images/val\\EMDS7-G035-040-0400.png\n",
      "Original Image saved to: D:\\KULIAH\\SEMESTER 5\\RSBP\\Bacteri\\Detection-of-bacteria-in-water-using-Yolo-images\\Detect\\Detection-of-bacteria-in-water-using-Yolo-images\\temp\\images/val\\EMDS7-G012-086-0400.png\n",
      "Original Image saved to: D:\\KULIAH\\SEMESTER 5\\RSBP\\Bacteri\\Detection-of-bacteria-in-water-using-Yolo-images\\Detect\\Detection-of-bacteria-in-water-using-Yolo-images\\temp\\images/val\\EMDS7-G028-050-0400.png\n",
      "Original Image saved to: D:\\KULIAH\\SEMESTER 5\\RSBP\\Bacteri\\Detection-of-bacteria-in-water-using-Yolo-images\\Detect\\Detection-of-bacteria-in-water-using-Yolo-images\\temp\\images/val\\EMDS7-G003-258-0400.png\n",
      "Original Image saved to: D:\\KULIAH\\SEMESTER 5\\RSBP\\Bacteri\\Detection-of-bacteria-in-water-using-Yolo-images\\Detect\\Detection-of-bacteria-in-water-using-Yolo-images\\temp\\images/val\\EMDS7-G023-031-0400.png\n",
      "Original Image saved to: D:\\KULIAH\\SEMESTER 5\\RSBP\\Bacteri\\Detection-of-bacteria-in-water-using-Yolo-images\\Detect\\Detection-of-bacteria-in-water-using-Yolo-images\\temp\\images/val\\EMDS7-G032-018-0400.png\n",
      "Original Image saved to: D:\\KULIAH\\SEMESTER 5\\RSBP\\Bacteri\\Detection-of-bacteria-in-water-using-Yolo-images\\Detect\\Detection-of-bacteria-in-water-using-Yolo-images\\temp\\images/val\\EMDS7-G012-045-0400.png\n",
      "Original Image saved to: D:\\KULIAH\\SEMESTER 5\\RSBP\\Bacteri\\Detection-of-bacteria-in-water-using-Yolo-images\\Detect\\Detection-of-bacteria-in-water-using-Yolo-images\\temp\\images/val\\EMDS7-G025-038-0400.png\n",
      "Original Image saved to: D:\\KULIAH\\SEMESTER 5\\RSBP\\Bacteri\\Detection-of-bacteria-in-water-using-Yolo-images\\Detect\\Detection-of-bacteria-in-water-using-Yolo-images\\temp\\images/val\\EMDS7-G003-248-0400.png\n",
      "Original Image saved to: D:\\KULIAH\\SEMESTER 5\\RSBP\\Bacteri\\Detection-of-bacteria-in-water-using-Yolo-images\\Detect\\Detection-of-bacteria-in-water-using-Yolo-images\\temp\\images/val\\EMDS7-G022-020-0400.png\n",
      "Original Image saved to: D:\\KULIAH\\SEMESTER 5\\RSBP\\Bacteri\\Detection-of-bacteria-in-water-using-Yolo-images\\Detect\\Detection-of-bacteria-in-water-using-Yolo-images\\temp\\images/val\\EMDS7-G025-065-0400.png\n",
      "Original Image saved to: D:\\KULIAH\\SEMESTER 5\\RSBP\\Bacteri\\Detection-of-bacteria-in-water-using-Yolo-images\\Detect\\Detection-of-bacteria-in-water-using-Yolo-images\\temp\\images/val\\EMDS7-G037-009-0400.png\n",
      "Original Image saved to: D:\\KULIAH\\SEMESTER 5\\RSBP\\Bacteri\\Detection-of-bacteria-in-water-using-Yolo-images\\Detect\\Detection-of-bacteria-in-water-using-Yolo-images\\temp\\images/val\\EMDS7-G021-009-0400.png\n",
      "Original Image saved to: D:\\KULIAH\\SEMESTER 5\\RSBP\\Bacteri\\Detection-of-bacteria-in-water-using-Yolo-images\\Detect\\Detection-of-bacteria-in-water-using-Yolo-images\\temp\\images/val\\EMDS7-G033-008-0400.png\n",
      "Original Image saved to: D:\\KULIAH\\SEMESTER 5\\RSBP\\Bacteri\\Detection-of-bacteria-in-water-using-Yolo-images\\Detect\\Detection-of-bacteria-in-water-using-Yolo-images\\temp\\images/val\\EMDS7-G032-037-0400.png\n",
      "Original Image saved to: D:\\KULIAH\\SEMESTER 5\\RSBP\\Bacteri\\Detection-of-bacteria-in-water-using-Yolo-images\\Detect\\Detection-of-bacteria-in-water-using-Yolo-images\\temp\\images/val\\EMDS7-G022-106-0400.png\n",
      "Original Image saved to: D:\\KULIAH\\SEMESTER 5\\RSBP\\Bacteri\\Detection-of-bacteria-in-water-using-Yolo-images\\Detect\\Detection-of-bacteria-in-water-using-Yolo-images\\temp\\images/val\\EMDS7-G025-068-0400.png\n",
      "Original Image saved to: D:\\KULIAH\\SEMESTER 5\\RSBP\\Bacteri\\Detection-of-bacteria-in-water-using-Yolo-images\\Detect\\Detection-of-bacteria-in-water-using-Yolo-images\\temp\\images/val\\EMDS7-G018-080-0400.png\n",
      "Original Image saved to: D:\\KULIAH\\SEMESTER 5\\RSBP\\Bacteri\\Detection-of-bacteria-in-water-using-Yolo-images\\Detect\\Detection-of-bacteria-in-water-using-Yolo-images\\temp\\images/val\\EMDS7-G022-135-0400.png\n",
      "Original Image saved to: D:\\KULIAH\\SEMESTER 5\\RSBP\\Bacteri\\Detection-of-bacteria-in-water-using-Yolo-images\\Detect\\Detection-of-bacteria-in-water-using-Yolo-images\\temp\\images/val\\EMDS7-G003-113-0400.png\n",
      "Original Image saved to: D:\\KULIAH\\SEMESTER 5\\RSBP\\Bacteri\\Detection-of-bacteria-in-water-using-Yolo-images\\Detect\\Detection-of-bacteria-in-water-using-Yolo-images\\temp\\images/val\\EMDS7-G022-116-0400.png\n",
      "Original Image saved to: D:\\KULIAH\\SEMESTER 5\\RSBP\\Bacteri\\Detection-of-bacteria-in-water-using-Yolo-images\\Detect\\Detection-of-bacteria-in-water-using-Yolo-images\\temp\\images/val\\EMDS7-G011-051-0400.png\n",
      "Original Image saved to: D:\\KULIAH\\SEMESTER 5\\RSBP\\Bacteri\\Detection-of-bacteria-in-water-using-Yolo-images\\Detect\\Detection-of-bacteria-in-water-using-Yolo-images\\temp\\images/val\\EMDS7-G025-064-0400.png\n",
      "Original Image saved to: D:\\KULIAH\\SEMESTER 5\\RSBP\\Bacteri\\Detection-of-bacteria-in-water-using-Yolo-images\\Detect\\Detection-of-bacteria-in-water-using-Yolo-images\\temp\\images/val\\EMDS7-G003-096-0400.png\n",
      "Original Image saved to: D:\\KULIAH\\SEMESTER 5\\RSBP\\Bacteri\\Detection-of-bacteria-in-water-using-Yolo-images\\Detect\\Detection-of-bacteria-in-water-using-Yolo-images\\temp\\images/val\\EMDS7-G004-038-0400.png\n",
      "Original Image saved to: D:\\KULIAH\\SEMESTER 5\\RSBP\\Bacteri\\Detection-of-bacteria-in-water-using-Yolo-images\\Detect\\Detection-of-bacteria-in-water-using-Yolo-images\\temp\\images/val\\EMDS7-G003-027-0400.png\n",
      "Original Image saved to: D:\\KULIAH\\SEMESTER 5\\RSBP\\Bacteri\\Detection-of-bacteria-in-water-using-Yolo-images\\Detect\\Detection-of-bacteria-in-water-using-Yolo-images\\temp\\images/val\\EMDS7-G005-006-0400.png\n",
      "Original Image saved to: D:\\KULIAH\\SEMESTER 5\\RSBP\\Bacteri\\Detection-of-bacteria-in-water-using-Yolo-images\\Detect\\Detection-of-bacteria-in-water-using-Yolo-images\\temp\\images/val\\EMDS7-G022-061-0400.png\n",
      "Original Image saved to: D:\\KULIAH\\SEMESTER 5\\RSBP\\Bacteri\\Detection-of-bacteria-in-water-using-Yolo-images\\Detect\\Detection-of-bacteria-in-water-using-Yolo-images\\temp\\images/val\\EMDS7-G009-038-0400.png\n",
      "Original Image saved to: D:\\KULIAH\\SEMESTER 5\\RSBP\\Bacteri\\Detection-of-bacteria-in-water-using-Yolo-images\\Detect\\Detection-of-bacteria-in-water-using-Yolo-images\\temp\\images/val\\EMDS7-G003-035-0400.png\n",
      "Original Image saved to: D:\\KULIAH\\SEMESTER 5\\RSBP\\Bacteri\\Detection-of-bacteria-in-water-using-Yolo-images\\Detect\\Detection-of-bacteria-in-water-using-Yolo-images\\temp\\images/val\\EMDS7-G003-274-0400.png\n",
      "Original Image saved to: D:\\KULIAH\\SEMESTER 5\\RSBP\\Bacteri\\Detection-of-bacteria-in-water-using-Yolo-images\\Detect\\Detection-of-bacteria-in-water-using-Yolo-images\\temp\\images/val\\EMDS7-G003-227-0400.png\n",
      "Original Image saved to: D:\\KULIAH\\SEMESTER 5\\RSBP\\Bacteri\\Detection-of-bacteria-in-water-using-Yolo-images\\Detect\\Detection-of-bacteria-in-water-using-Yolo-images\\temp\\images/val\\EMDS7-G003-145-0400.png\n",
      "Original Image saved to: D:\\KULIAH\\SEMESTER 5\\RSBP\\Bacteri\\Detection-of-bacteria-in-water-using-Yolo-images\\Detect\\Detection-of-bacteria-in-water-using-Yolo-images\\temp\\images/val\\EMDS7-G038-006-0400.png\n",
      "Original Image saved to: D:\\KULIAH\\SEMESTER 5\\RSBP\\Bacteri\\Detection-of-bacteria-in-water-using-Yolo-images\\Detect\\Detection-of-bacteria-in-water-using-Yolo-images\\temp\\images/val\\EMDS7-G012-020-0400.png\n",
      "Original Image saved to: D:\\KULIAH\\SEMESTER 5\\RSBP\\Bacteri\\Detection-of-bacteria-in-water-using-Yolo-images\\Detect\\Detection-of-bacteria-in-water-using-Yolo-images\\temp\\images/val\\EMDS7-G030-007-0400.png\n",
      "Original Image saved to: D:\\KULIAH\\SEMESTER 5\\RSBP\\Bacteri\\Detection-of-bacteria-in-water-using-Yolo-images\\Detect\\Detection-of-bacteria-in-water-using-Yolo-images\\temp\\images/val\\EMDS7-G032-039-0400.png\n",
      "Original Image saved to: D:\\KULIAH\\SEMESTER 5\\RSBP\\Bacteri\\Detection-of-bacteria-in-water-using-Yolo-images\\Detect\\Detection-of-bacteria-in-water-using-Yolo-images\\temp\\images/val\\EMDS7-G016-023-0400.png\n",
      "Original Image saved to: D:\\KULIAH\\SEMESTER 5\\RSBP\\Bacteri\\Detection-of-bacteria-in-water-using-Yolo-images\\Detect\\Detection-of-bacteria-in-water-using-Yolo-images\\temp\\images/val\\EMDS7-G035-014-0400.png\n",
      "Original Image saved to: D:\\KULIAH\\SEMESTER 5\\RSBP\\Bacteri\\Detection-of-bacteria-in-water-using-Yolo-images\\Detect\\Detection-of-bacteria-in-water-using-Yolo-images\\temp\\images/val\\EMDS7-G014-059-0400.png\n",
      "Original Image saved to: D:\\KULIAH\\SEMESTER 5\\RSBP\\Bacteri\\Detection-of-bacteria-in-water-using-Yolo-images\\Detect\\Detection-of-bacteria-in-water-using-Yolo-images\\temp\\images/val\\EMDS7-G022-144-0400.png\n",
      "Original Image saved to: D:\\KULIAH\\SEMESTER 5\\RSBP\\Bacteri\\Detection-of-bacteria-in-water-using-Yolo-images\\Detect\\Detection-of-bacteria-in-water-using-Yolo-images\\temp\\images/val\\EMDS7-G017-011-0400.png\n",
      "Original Image saved to: D:\\KULIAH\\SEMESTER 5\\RSBP\\Bacteri\\Detection-of-bacteria-in-water-using-Yolo-images\\Detect\\Detection-of-bacteria-in-water-using-Yolo-images\\temp\\images/val\\EMDS7-G004-060-0400.png\n",
      "Original Image saved to: D:\\KULIAH\\SEMESTER 5\\RSBP\\Bacteri\\Detection-of-bacteria-in-water-using-Yolo-images\\Detect\\Detection-of-bacteria-in-water-using-Yolo-images\\temp\\images/val\\EMDS7-G014-057-0400.png\n",
      "Original Image saved to: D:\\KULIAH\\SEMESTER 5\\RSBP\\Bacteri\\Detection-of-bacteria-in-water-using-Yolo-images\\Detect\\Detection-of-bacteria-in-water-using-Yolo-images\\temp\\images/val\\EMDS7-G028-024-0400.png\n",
      "Original Image saved to: D:\\KULIAH\\SEMESTER 5\\RSBP\\Bacteri\\Detection-of-bacteria-in-water-using-Yolo-images\\Detect\\Detection-of-bacteria-in-water-using-Yolo-images\\temp\\images/val\\EMDS7-G003-109-0400.png\n",
      "Original Image saved to: D:\\KULIAH\\SEMESTER 5\\RSBP\\Bacteri\\Detection-of-bacteria-in-water-using-Yolo-images\\Detect\\Detection-of-bacteria-in-water-using-Yolo-images\\temp\\images/val\\EMDS7-G022-078-0400.png\n",
      "Original Image saved to: D:\\KULIAH\\SEMESTER 5\\RSBP\\Bacteri\\Detection-of-bacteria-in-water-using-Yolo-images\\Detect\\Detection-of-bacteria-in-water-using-Yolo-images\\temp\\images/val\\EMDS7-G036-019-0400.png\n",
      "Original Image saved to: D:\\KULIAH\\SEMESTER 5\\RSBP\\Bacteri\\Detection-of-bacteria-in-water-using-Yolo-images\\Detect\\Detection-of-bacteria-in-water-using-Yolo-images\\temp\\images/val\\EMDS7-G003-147-0400.png\n",
      "Original Image saved to: D:\\KULIAH\\SEMESTER 5\\RSBP\\Bacteri\\Detection-of-bacteria-in-water-using-Yolo-images\\Detect\\Detection-of-bacteria-in-water-using-Yolo-images\\temp\\images/val\\EMDS7-G010-008-0400.png\n",
      "Original Image saved to: D:\\KULIAH\\SEMESTER 5\\RSBP\\Bacteri\\Detection-of-bacteria-in-water-using-Yolo-images\\Detect\\Detection-of-bacteria-in-water-using-Yolo-images\\temp\\images/val\\EMDS7-G036-073-0400.png\n",
      "Original Image saved to: D:\\KULIAH\\SEMESTER 5\\RSBP\\Bacteri\\Detection-of-bacteria-in-water-using-Yolo-images\\Detect\\Detection-of-bacteria-in-water-using-Yolo-images\\temp\\images/val\\EMDS7-G017-036-0400.png\n",
      "Original Image saved to: D:\\KULIAH\\SEMESTER 5\\RSBP\\Bacteri\\Detection-of-bacteria-in-water-using-Yolo-images\\Detect\\Detection-of-bacteria-in-water-using-Yolo-images\\temp\\images/val\\EMDS7-G022-103-0400.png\n",
      "Original Image saved to: D:\\KULIAH\\SEMESTER 5\\RSBP\\Bacteri\\Detection-of-bacteria-in-water-using-Yolo-images\\Detect\\Detection-of-bacteria-in-water-using-Yolo-images\\temp\\images/val\\EMDS7-G038-021-0400.png\n",
      "Original Image saved to: D:\\KULIAH\\SEMESTER 5\\RSBP\\Bacteri\\Detection-of-bacteria-in-water-using-Yolo-images\\Detect\\Detection-of-bacteria-in-water-using-Yolo-images\\temp\\images/val\\EMDS7-G032-016-0400.png\n",
      "Original Image saved to: D:\\KULIAH\\SEMESTER 5\\RSBP\\Bacteri\\Detection-of-bacteria-in-water-using-Yolo-images\\Detect\\Detection-of-bacteria-in-water-using-Yolo-images\\temp\\images/val\\EMDS7-G007-005-0400.png\n",
      "Original Image saved to: D:\\KULIAH\\SEMESTER 5\\RSBP\\Bacteri\\Detection-of-bacteria-in-water-using-Yolo-images\\Detect\\Detection-of-bacteria-in-water-using-Yolo-images\\temp\\images/val\\EMDS7-G003-170-0400.png\n",
      "Original Image saved to: D:\\KULIAH\\SEMESTER 5\\RSBP\\Bacteri\\Detection-of-bacteria-in-water-using-Yolo-images\\Detect\\Detection-of-bacteria-in-water-using-Yolo-images\\temp\\images/val\\EMDS7-G003-090-0400.png\n",
      "Original Image saved to: D:\\KULIAH\\SEMESTER 5\\RSBP\\Bacteri\\Detection-of-bacteria-in-water-using-Yolo-images\\Detect\\Detection-of-bacteria-in-water-using-Yolo-images\\temp\\images/val\\EMDS7-G028-026-0400.png\n",
      "Original Image saved to: D:\\KULIAH\\SEMESTER 5\\RSBP\\Bacteri\\Detection-of-bacteria-in-water-using-Yolo-images\\Detect\\Detection-of-bacteria-in-water-using-Yolo-images\\temp\\images/val\\EMDS7-G025-011-0400.png\n",
      "Original Image saved to: D:\\KULIAH\\SEMESTER 5\\RSBP\\Bacteri\\Detection-of-bacteria-in-water-using-Yolo-images\\Detect\\Detection-of-bacteria-in-water-using-Yolo-images\\temp\\images/val\\EMDS7-G003-190-0400.png\n",
      "Original Image saved to: D:\\KULIAH\\SEMESTER 5\\RSBP\\Bacteri\\Detection-of-bacteria-in-water-using-Yolo-images\\Detect\\Detection-of-bacteria-in-water-using-Yolo-images\\temp\\images/val\\EMDS7-G018-033-0400.png\n",
      "Original Image saved to: D:\\KULIAH\\SEMESTER 5\\RSBP\\Bacteri\\Detection-of-bacteria-in-water-using-Yolo-images\\Detect\\Detection-of-bacteria-in-water-using-Yolo-images\\temp\\images/val\\EMDS7-G038-059-0400.png\n",
      "Original Image saved to: D:\\KULIAH\\SEMESTER 5\\RSBP\\Bacteri\\Detection-of-bacteria-in-water-using-Yolo-images\\Detect\\Detection-of-bacteria-in-water-using-Yolo-images\\temp\\images/val\\EMDS7-G025-026-0400.png\n",
      "Original Image saved to: D:\\KULIAH\\SEMESTER 5\\RSBP\\Bacteri\\Detection-of-bacteria-in-water-using-Yolo-images\\Detect\\Detection-of-bacteria-in-water-using-Yolo-images\\temp\\images/val\\EMDS7-G038-056-0400.png\n",
      "Original Image saved to: D:\\KULIAH\\SEMESTER 5\\RSBP\\Bacteri\\Detection-of-bacteria-in-water-using-Yolo-images\\Detect\\Detection-of-bacteria-in-water-using-Yolo-images\\temp\\images/val\\EMDS7-G006-005-0400.png\n",
      "Original Image saved to: D:\\KULIAH\\SEMESTER 5\\RSBP\\Bacteri\\Detection-of-bacteria-in-water-using-Yolo-images\\Detect\\Detection-of-bacteria-in-water-using-Yolo-images\\temp\\images/val\\EMDS7-G022-224-0400.png\n",
      "Original Image saved to: D:\\KULIAH\\SEMESTER 5\\RSBP\\Bacteri\\Detection-of-bacteria-in-water-using-Yolo-images\\Detect\\Detection-of-bacteria-in-water-using-Yolo-images\\temp\\images/val\\EMDS7-G012-004-0400.png\n",
      "Original Image saved to: D:\\KULIAH\\SEMESTER 5\\RSBP\\Bacteri\\Detection-of-bacteria-in-water-using-Yolo-images\\Detect\\Detection-of-bacteria-in-water-using-Yolo-images\\temp\\images/val\\EMDS7-G018-071-0400.png\n",
      "Original Image saved to: D:\\KULIAH\\SEMESTER 5\\RSBP\\Bacteri\\Detection-of-bacteria-in-water-using-Yolo-images\\Detect\\Detection-of-bacteria-in-water-using-Yolo-images\\temp\\images/val\\EMDS7-G026-001-0400.png\n",
      "Original Image saved to: D:\\KULIAH\\SEMESTER 5\\RSBP\\Bacteri\\Detection-of-bacteria-in-water-using-Yolo-images\\Detect\\Detection-of-bacteria-in-water-using-Yolo-images\\temp\\images/val\\EMDS7-G022-207-0400.png\n",
      "Original Image saved to: D:\\KULIAH\\SEMESTER 5\\RSBP\\Bacteri\\Detection-of-bacteria-in-water-using-Yolo-images\\Detect\\Detection-of-bacteria-in-water-using-Yolo-images\\temp\\images/val\\EMDS7-G014-065-0400.png\n",
      "Original Image saved to: D:\\KULIAH\\SEMESTER 5\\RSBP\\Bacteri\\Detection-of-bacteria-in-water-using-Yolo-images\\Detect\\Detection-of-bacteria-in-water-using-Yolo-images\\temp\\images/val\\EMDS7-G029-014-0400.png\n",
      "Original Image saved to: D:\\KULIAH\\SEMESTER 5\\RSBP\\Bacteri\\Detection-of-bacteria-in-water-using-Yolo-images\\Detect\\Detection-of-bacteria-in-water-using-Yolo-images\\temp\\images/val\\EMDS7-G011-053-0400.png\n",
      "Original Image saved to: D:\\KULIAH\\SEMESTER 5\\RSBP\\Bacteri\\Detection-of-bacteria-in-water-using-Yolo-images\\Detect\\Detection-of-bacteria-in-water-using-Yolo-images\\temp\\images/val\\EMDS7-G028-049-0400.png\n",
      "Original Image saved to: D:\\KULIAH\\SEMESTER 5\\RSBP\\Bacteri\\Detection-of-bacteria-in-water-using-Yolo-images\\Detect\\Detection-of-bacteria-in-water-using-Yolo-images\\temp\\images/val\\EMDS7-G022-186-0400.png\n",
      "Original Image saved to: D:\\KULIAH\\SEMESTER 5\\RSBP\\Bacteri\\Detection-of-bacteria-in-water-using-Yolo-images\\Detect\\Detection-of-bacteria-in-water-using-Yolo-images\\temp\\images/val\\EMDS7-G018-026-0400.png\n",
      "Original Image saved to: D:\\KULIAH\\SEMESTER 5\\RSBP\\Bacteri\\Detection-of-bacteria-in-water-using-Yolo-images\\Detect\\Detection-of-bacteria-in-water-using-Yolo-images\\temp\\images/val\\EMDS7-G032-077-0400.png\n",
      "Original Image saved to: D:\\KULIAH\\SEMESTER 5\\RSBP\\Bacteri\\Detection-of-bacteria-in-water-using-Yolo-images\\Detect\\Detection-of-bacteria-in-water-using-Yolo-images\\temp\\images/val\\EMDS7-G001-039-0400.png\n",
      "Original Image saved to: D:\\KULIAH\\SEMESTER 5\\RSBP\\Bacteri\\Detection-of-bacteria-in-water-using-Yolo-images\\Detect\\Detection-of-bacteria-in-water-using-Yolo-images\\temp\\images/val\\EMDS7-G024-001-0400.png\n",
      "Original Image saved to: D:\\KULIAH\\SEMESTER 5\\RSBP\\Bacteri\\Detection-of-bacteria-in-water-using-Yolo-images\\Detect\\Detection-of-bacteria-in-water-using-Yolo-images\\temp\\images/val\\EMDS7-G009-040-0400.png\n",
      "Original Image saved to: D:\\KULIAH\\SEMESTER 5\\RSBP\\Bacteri\\Detection-of-bacteria-in-water-using-Yolo-images\\Detect\\Detection-of-bacteria-in-water-using-Yolo-images\\temp\\images/val\\EMDS7-G028-076-0400.png\n",
      "Original Image saved to: D:\\KULIAH\\SEMESTER 5\\RSBP\\Bacteri\\Detection-of-bacteria-in-water-using-Yolo-images\\Detect\\Detection-of-bacteria-in-water-using-Yolo-images\\temp\\images/val\\EMDS7-G008-032-0400.png\n",
      "Original Image saved to: D:\\KULIAH\\SEMESTER 5\\RSBP\\Bacteri\\Detection-of-bacteria-in-water-using-Yolo-images\\Detect\\Detection-of-bacteria-in-water-using-Yolo-images\\temp\\images/val\\EMDS7-G008-007-0400.png\n",
      "Original Image saved to: D:\\KULIAH\\SEMESTER 5\\RSBP\\Bacteri\\Detection-of-bacteria-in-water-using-Yolo-images\\Detect\\Detection-of-bacteria-in-water-using-Yolo-images\\temp\\images/val\\EMDS7-G020-031-0400.png\n",
      "Original Image saved to: D:\\KULIAH\\SEMESTER 5\\RSBP\\Bacteri\\Detection-of-bacteria-in-water-using-Yolo-images\\Detect\\Detection-of-bacteria-in-water-using-Yolo-images\\temp\\images/val\\EMDS7-G033-004-0400.png\n",
      "Original Image saved to: D:\\KULIAH\\SEMESTER 5\\RSBP\\Bacteri\\Detection-of-bacteria-in-water-using-Yolo-images\\Detect\\Detection-of-bacteria-in-water-using-Yolo-images\\temp\\images/val\\EMDS7-G020-013-0400.png\n",
      "Original Image saved to: D:\\KULIAH\\SEMESTER 5\\RSBP\\Bacteri\\Detection-of-bacteria-in-water-using-Yolo-images\\Detect\\Detection-of-bacteria-in-water-using-Yolo-images\\temp\\images/val\\EMDS7-G033-006-0400.png\n",
      "Original Image saved to: D:\\KULIAH\\SEMESTER 5\\RSBP\\Bacteri\\Detection-of-bacteria-in-water-using-Yolo-images\\Detect\\Detection-of-bacteria-in-water-using-Yolo-images\\temp\\images/val\\EMDS7-G038-008-0400.png\n",
      "Original Image saved to: D:\\KULIAH\\SEMESTER 5\\RSBP\\Bacteri\\Detection-of-bacteria-in-water-using-Yolo-images\\Detect\\Detection-of-bacteria-in-water-using-Yolo-images\\temp\\images/val\\EMDS7-G004-023-0400.png\n",
      "Original Image saved to: D:\\KULIAH\\SEMESTER 5\\RSBP\\Bacteri\\Detection-of-bacteria-in-water-using-Yolo-images\\Detect\\Detection-of-bacteria-in-water-using-Yolo-images\\temp\\images/val\\EMDS7-G004-050-0400.png\n",
      "Original Image saved to: D:\\KULIAH\\SEMESTER 5\\RSBP\\Bacteri\\Detection-of-bacteria-in-water-using-Yolo-images\\Detect\\Detection-of-bacteria-in-water-using-Yolo-images\\temp\\images/val\\EMDS7-G039-086-0400.png\n",
      "Original Image saved to: D:\\KULIAH\\SEMESTER 5\\RSBP\\Bacteri\\Detection-of-bacteria-in-water-using-Yolo-images\\Detect\\Detection-of-bacteria-in-water-using-Yolo-images\\temp\\images/val\\EMDS7-G004-071-0400.png\n",
      "Original Image saved to: D:\\KULIAH\\SEMESTER 5\\RSBP\\Bacteri\\Detection-of-bacteria-in-water-using-Yolo-images\\Detect\\Detection-of-bacteria-in-water-using-Yolo-images\\temp\\images/val\\EMDS7-G022-222-0400.png\n",
      "Original Image saved to: D:\\KULIAH\\SEMESTER 5\\RSBP\\Bacteri\\Detection-of-bacteria-in-water-using-Yolo-images\\Detect\\Detection-of-bacteria-in-water-using-Yolo-images\\temp\\images/val\\EMDS7-G014-063-0400.png\n",
      "Original Image saved to: D:\\KULIAH\\SEMESTER 5\\RSBP\\Bacteri\\Detection-of-bacteria-in-water-using-Yolo-images\\Detect\\Detection-of-bacteria-in-water-using-Yolo-images\\temp\\images/val\\EMDS7-G003-032-0400.png\n",
      "Original Image saved to: D:\\KULIAH\\SEMESTER 5\\RSBP\\Bacteri\\Detection-of-bacteria-in-water-using-Yolo-images\\Detect\\Detection-of-bacteria-in-water-using-Yolo-images\\temp\\images/val\\EMDS7-G017-002-0400.png\n",
      "Original Image saved to: D:\\KULIAH\\SEMESTER 5\\RSBP\\Bacteri\\Detection-of-bacteria-in-water-using-Yolo-images\\Detect\\Detection-of-bacteria-in-water-using-Yolo-images\\temp\\images/val\\EMDS7-G033-021-0400.png\n",
      "Original Image saved to: D:\\KULIAH\\SEMESTER 5\\RSBP\\Bacteri\\Detection-of-bacteria-in-water-using-Yolo-images\\Detect\\Detection-of-bacteria-in-water-using-Yolo-images\\temp\\images/val\\EMDS7-G011-041-0400.png\n",
      "Original Image saved to: D:\\KULIAH\\SEMESTER 5\\RSBP\\Bacteri\\Detection-of-bacteria-in-water-using-Yolo-images\\Detect\\Detection-of-bacteria-in-water-using-Yolo-images\\temp\\images/val\\EMDS7-G018-015-0400.png\n",
      "Original Image saved to: D:\\KULIAH\\SEMESTER 5\\RSBP\\Bacteri\\Detection-of-bacteria-in-water-using-Yolo-images\\Detect\\Detection-of-bacteria-in-water-using-Yolo-images\\temp\\images/val\\EMDS7-G023-006-0400.png\n",
      "Original Image saved to: D:\\KULIAH\\SEMESTER 5\\RSBP\\Bacteri\\Detection-of-bacteria-in-water-using-Yolo-images\\Detect\\Detection-of-bacteria-in-water-using-Yolo-images\\temp\\images/val\\EMDS7-G038-003-0400.png\n",
      "Original Image saved to: D:\\KULIAH\\SEMESTER 5\\RSBP\\Bacteri\\Detection-of-bacteria-in-water-using-Yolo-images\\Detect\\Detection-of-bacteria-in-water-using-Yolo-images\\temp\\images/val\\EMDS7-G039-074-0400.png\n",
      "Original Image saved to: D:\\KULIAH\\SEMESTER 5\\RSBP\\Bacteri\\Detection-of-bacteria-in-water-using-Yolo-images\\Detect\\Detection-of-bacteria-in-water-using-Yolo-images\\temp\\images/val\\EMDS7-G003-044-0400.png\n",
      "Original Image saved to: D:\\KULIAH\\SEMESTER 5\\RSBP\\Bacteri\\Detection-of-bacteria-in-water-using-Yolo-images\\Detect\\Detection-of-bacteria-in-water-using-Yolo-images\\temp\\images/val\\EMDS7-G023-022-0400.png\n",
      "Original Image saved to: D:\\KULIAH\\SEMESTER 5\\RSBP\\Bacteri\\Detection-of-bacteria-in-water-using-Yolo-images\\Detect\\Detection-of-bacteria-in-water-using-Yolo-images\\temp\\images/val\\EMDS7-G019-060-0400.png\n",
      "Original Image saved to: D:\\KULIAH\\SEMESTER 5\\RSBP\\Bacteri\\Detection-of-bacteria-in-water-using-Yolo-images\\Detect\\Detection-of-bacteria-in-water-using-Yolo-images\\temp\\images/val\\EMDS7-G040-014-0400.png\n",
      "Original Image saved to: D:\\KULIAH\\SEMESTER 5\\RSBP\\Bacteri\\Detection-of-bacteria-in-water-using-Yolo-images\\Detect\\Detection-of-bacteria-in-water-using-Yolo-images\\temp\\images/val\\EMDS7-G003-019-0400.png\n",
      "Original Image saved to: D:\\KULIAH\\SEMESTER 5\\RSBP\\Bacteri\\Detection-of-bacteria-in-water-using-Yolo-images\\Detect\\Detection-of-bacteria-in-water-using-Yolo-images\\temp\\images/val\\EMDS7-G015-002-0400.png\n",
      "Original Image saved to: D:\\KULIAH\\SEMESTER 5\\RSBP\\Bacteri\\Detection-of-bacteria-in-water-using-Yolo-images\\Detect\\Detection-of-bacteria-in-water-using-Yolo-images\\temp\\images/val\\EMDS7-G021-002-0400.png\n",
      "Original Image saved to: D:\\KULIAH\\SEMESTER 5\\RSBP\\Bacteri\\Detection-of-bacteria-in-water-using-Yolo-images\\Detect\\Detection-of-bacteria-in-water-using-Yolo-images\\temp\\images/val\\EMDS7-G014-070-0400.png\n",
      "Original Image saved to: D:\\KULIAH\\SEMESTER 5\\RSBP\\Bacteri\\Detection-of-bacteria-in-water-using-Yolo-images\\Detect\\Detection-of-bacteria-in-water-using-Yolo-images\\temp\\images/val\\EMDS7-G003-252-0400.png\n",
      "Original Image saved to: D:\\KULIAH\\SEMESTER 5\\RSBP\\Bacteri\\Detection-of-bacteria-in-water-using-Yolo-images\\Detect\\Detection-of-bacteria-in-water-using-Yolo-images\\temp\\images/val\\EMDS7-G018-018-0400.png\n",
      "Original Image saved to: D:\\KULIAH\\SEMESTER 5\\RSBP\\Bacteri\\Detection-of-bacteria-in-water-using-Yolo-images\\Detect\\Detection-of-bacteria-in-water-using-Yolo-images\\temp\\images/val\\EMDS7-G005-010-0400.png\n",
      "Original Image saved to: D:\\KULIAH\\SEMESTER 5\\RSBP\\Bacteri\\Detection-of-bacteria-in-water-using-Yolo-images\\Detect\\Detection-of-bacteria-in-water-using-Yolo-images\\temp\\images/val\\EMDS7-G023-004-0400.png\n",
      "Original Image saved to: D:\\KULIAH\\SEMESTER 5\\RSBP\\Bacteri\\Detection-of-bacteria-in-water-using-Yolo-images\\Detect\\Detection-of-bacteria-in-water-using-Yolo-images\\temp\\images/val\\EMDS7-G022-104-0400.png\n",
      "Original Image saved to: D:\\KULIAH\\SEMESTER 5\\RSBP\\Bacteri\\Detection-of-bacteria-in-water-using-Yolo-images\\Detect\\Detection-of-bacteria-in-water-using-Yolo-images\\temp\\images/val\\EMDS7-G039-087-0400.png\n",
      "Original Image saved to: D:\\KULIAH\\SEMESTER 5\\RSBP\\Bacteri\\Detection-of-bacteria-in-water-using-Yolo-images\\Detect\\Detection-of-bacteria-in-water-using-Yolo-images\\temp\\images/val\\EMDS7-G030-017-0400.png\n",
      "Original Image saved to: D:\\KULIAH\\SEMESTER 5\\RSBP\\Bacteri\\Detection-of-bacteria-in-water-using-Yolo-images\\Detect\\Detection-of-bacteria-in-water-using-Yolo-images\\temp\\images/val\\EMDS7-G018-023-0400.png\n",
      "Original Image saved to: D:\\KULIAH\\SEMESTER 5\\RSBP\\Bacteri\\Detection-of-bacteria-in-water-using-Yolo-images\\Detect\\Detection-of-bacteria-in-water-using-Yolo-images\\temp\\images/val\\EMDS7-G017-030-0400.png\n",
      "Original Image saved to: D:\\KULIAH\\SEMESTER 5\\RSBP\\Bacteri\\Detection-of-bacteria-in-water-using-Yolo-images\\Detect\\Detection-of-bacteria-in-water-using-Yolo-images\\temp\\images/val\\EMDS7-G034-001-0400.png\n",
      "Original Image saved to: D:\\KULIAH\\SEMESTER 5\\RSBP\\Bacteri\\Detection-of-bacteria-in-water-using-Yolo-images\\Detect\\Detection-of-bacteria-in-water-using-Yolo-images\\temp\\images/val\\EMDS7-G038-007-0400.png\n",
      "Original Image saved to: D:\\KULIAH\\SEMESTER 5\\RSBP\\Bacteri\\Detection-of-bacteria-in-water-using-Yolo-images\\Detect\\Detection-of-bacteria-in-water-using-Yolo-images\\temp\\images/val\\EMDS7-G022-019-0400.png\n",
      "Original Image saved to: D:\\KULIAH\\SEMESTER 5\\RSBP\\Bacteri\\Detection-of-bacteria-in-water-using-Yolo-images\\Detect\\Detection-of-bacteria-in-water-using-Yolo-images\\temp\\images/val\\EMDS7-G032-059-0400.png\n",
      "Original Image saved to: D:\\KULIAH\\SEMESTER 5\\RSBP\\Bacteri\\Detection-of-bacteria-in-water-using-Yolo-images\\Detect\\Detection-of-bacteria-in-water-using-Yolo-images\\temp\\images/val\\EMDS7-G022-064-0400.png\n",
      "Original Image saved to: D:\\KULIAH\\SEMESTER 5\\RSBP\\Bacteri\\Detection-of-bacteria-in-water-using-Yolo-images\\Detect\\Detection-of-bacteria-in-water-using-Yolo-images\\temp\\images/val\\EMDS7-G036-044-0400.png\n",
      "Original Image saved to: D:\\KULIAH\\SEMESTER 5\\RSBP\\Bacteri\\Detection-of-bacteria-in-water-using-Yolo-images\\Detect\\Detection-of-bacteria-in-water-using-Yolo-images\\temp\\images/val\\EMDS7-G012-022-0400.png\n",
      "Original Image saved to: D:\\KULIAH\\SEMESTER 5\\RSBP\\Bacteri\\Detection-of-bacteria-in-water-using-Yolo-images\\Detect\\Detection-of-bacteria-in-water-using-Yolo-images\\temp\\images/val\\EMDS7-G012-096-0400.png\n",
      "Original Image saved to: D:\\KULIAH\\SEMESTER 5\\RSBP\\Bacteri\\Detection-of-bacteria-in-water-using-Yolo-images\\Detect\\Detection-of-bacteria-in-water-using-Yolo-images\\temp\\images/val\\EMDS7-G003-023-0400.png\n",
      "Original Image saved to: D:\\KULIAH\\SEMESTER 5\\RSBP\\Bacteri\\Detection-of-bacteria-in-water-using-Yolo-images\\Detect\\Detection-of-bacteria-in-water-using-Yolo-images\\temp\\images/val\\EMDS7-G022-060-0400.png\n",
      "Original Image saved to: D:\\KULIAH\\SEMESTER 5\\RSBP\\Bacteri\\Detection-of-bacteria-in-water-using-Yolo-images\\Detect\\Detection-of-bacteria-in-water-using-Yolo-images\\temp\\images/val\\EMDS7-G022-236-0400.png\n",
      "Original Image saved to: D:\\KULIAH\\SEMESTER 5\\RSBP\\Bacteri\\Detection-of-bacteria-in-water-using-Yolo-images\\Detect\\Detection-of-bacteria-in-water-using-Yolo-images\\temp\\images/val\\EMDS7-G023-038-0400.png\n",
      "Original Image saved to: D:\\KULIAH\\SEMESTER 5\\RSBP\\Bacteri\\Detection-of-bacteria-in-water-using-Yolo-images\\Detect\\Detection-of-bacteria-in-water-using-Yolo-images\\temp\\images/val\\EMDS7-G030-010-0400.png\n",
      "Original Image saved to: D:\\KULIAH\\SEMESTER 5\\RSBP\\Bacteri\\Detection-of-bacteria-in-water-using-Yolo-images\\Detect\\Detection-of-bacteria-in-water-using-Yolo-images\\temp\\images/val\\EMDS7-G003-169-0400.png\n",
      "Original Image saved to: D:\\KULIAH\\SEMESTER 5\\RSBP\\Bacteri\\Detection-of-bacteria-in-water-using-Yolo-images\\Detect\\Detection-of-bacteria-in-water-using-Yolo-images\\temp\\images/val\\EMDS7-G011-056-0400.png\n",
      "Original Image saved to: D:\\KULIAH\\SEMESTER 5\\RSBP\\Bacteri\\Detection-of-bacteria-in-water-using-Yolo-images\\Detect\\Detection-of-bacteria-in-water-using-Yolo-images\\temp\\images/val\\EMDS7-G022-262-0400.png\n",
      "Original Image saved to: D:\\KULIAH\\SEMESTER 5\\RSBP\\Bacteri\\Detection-of-bacteria-in-water-using-Yolo-images\\Detect\\Detection-of-bacteria-in-water-using-Yolo-images\\temp\\images/val\\EMDS7-G032-083-0400.png\n",
      "Original Image saved to: D:\\KULIAH\\SEMESTER 5\\RSBP\\Bacteri\\Detection-of-bacteria-in-water-using-Yolo-images\\Detect\\Detection-of-bacteria-in-water-using-Yolo-images\\temp\\images/val\\EMDS7-G017-052-0400.png\n",
      "Original Image saved to: D:\\KULIAH\\SEMESTER 5\\RSBP\\Bacteri\\Detection-of-bacteria-in-water-using-Yolo-images\\Detect\\Detection-of-bacteria-in-water-using-Yolo-images\\temp\\images/val\\EMDS7-G036-064-0400.png\n",
      "Original Image saved to: D:\\KULIAH\\SEMESTER 5\\RSBP\\Bacteri\\Detection-of-bacteria-in-water-using-Yolo-images\\Detect\\Detection-of-bacteria-in-water-using-Yolo-images\\temp\\images/val\\EMDS7-G022-254-0400.png\n",
      "Original Image saved to: D:\\KULIAH\\SEMESTER 5\\RSBP\\Bacteri\\Detection-of-bacteria-in-water-using-Yolo-images\\Detect\\Detection-of-bacteria-in-water-using-Yolo-images\\temp\\images/val\\EMDS7-G025-067-0400.png\n",
      "Original Image saved to: D:\\KULIAH\\SEMESTER 5\\RSBP\\Bacteri\\Detection-of-bacteria-in-water-using-Yolo-images\\Detect\\Detection-of-bacteria-in-water-using-Yolo-images\\temp\\images/val\\EMDS7-G014-076-0400.png\n",
      "Original Image saved to: D:\\KULIAH\\SEMESTER 5\\RSBP\\Bacteri\\Detection-of-bacteria-in-water-using-Yolo-images\\Detect\\Detection-of-bacteria-in-water-using-Yolo-images\\temp\\images/val\\EMDS7-G003-185-0400.png\n",
      "Original Image saved to: D:\\KULIAH\\SEMESTER 5\\RSBP\\Bacteri\\Detection-of-bacteria-in-water-using-Yolo-images\\Detect\\Detection-of-bacteria-in-water-using-Yolo-images\\temp\\images/val\\EMDS7-G022-108-0400.png\n",
      "Original Image saved to: D:\\KULIAH\\SEMESTER 5\\RSBP\\Bacteri\\Detection-of-bacteria-in-water-using-Yolo-images\\Detect\\Detection-of-bacteria-in-water-using-Yolo-images\\temp\\images/val\\EMDS7-G012-103-0400.png\n",
      "Original Image saved to: D:\\KULIAH\\SEMESTER 5\\RSBP\\Bacteri\\Detection-of-bacteria-in-water-using-Yolo-images\\Detect\\Detection-of-bacteria-in-water-using-Yolo-images\\temp\\images/val\\EMDS7-G008-018-0400.png\n",
      "Original Image saved to: D:\\KULIAH\\SEMESTER 5\\RSBP\\Bacteri\\Detection-of-bacteria-in-water-using-Yolo-images\\Detect\\Detection-of-bacteria-in-water-using-Yolo-images\\temp\\images/val\\EMDS7-G009-022-0400.png\n",
      "Original Image saved to: D:\\KULIAH\\SEMESTER 5\\RSBP\\Bacteri\\Detection-of-bacteria-in-water-using-Yolo-images\\Detect\\Detection-of-bacteria-in-water-using-Yolo-images\\temp\\images/val\\EMDS7-G014-016-0400.png\n",
      "Original Image saved to: D:\\KULIAH\\SEMESTER 5\\RSBP\\Bacteri\\Detection-of-bacteria-in-water-using-Yolo-images\\Detect\\Detection-of-bacteria-in-water-using-Yolo-images\\temp\\images/val\\EMDS7-G011-038-0400.png\n",
      "Original Image saved to: D:\\KULIAH\\SEMESTER 5\\RSBP\\Bacteri\\Detection-of-bacteria-in-water-using-Yolo-images\\Detect\\Detection-of-bacteria-in-water-using-Yolo-images\\temp\\images/val\\EMDS7-G039-038-0400.png\n",
      "Original Image saved to: D:\\KULIAH\\SEMESTER 5\\RSBP\\Bacteri\\Detection-of-bacteria-in-water-using-Yolo-images\\Detect\\Detection-of-bacteria-in-water-using-Yolo-images\\temp\\images/val\\EMDS7-G003-146-0400.png\n",
      "Original Image saved to: D:\\KULIAH\\SEMESTER 5\\RSBP\\Bacteri\\Detection-of-bacteria-in-water-using-Yolo-images\\Detect\\Detection-of-bacteria-in-water-using-Yolo-images\\temp\\images/val\\EMDS7-G038-024-0400.png\n",
      "Original Image saved to: D:\\KULIAH\\SEMESTER 5\\RSBP\\Bacteri\\Detection-of-bacteria-in-water-using-Yolo-images\\Detect\\Detection-of-bacteria-in-water-using-Yolo-images\\temp\\images/val\\EMDS7-G001-041-0400.png\n",
      "Original Image saved to: D:\\KULIAH\\SEMESTER 5\\RSBP\\Bacteri\\Detection-of-bacteria-in-water-using-Yolo-images\\Detect\\Detection-of-bacteria-in-water-using-Yolo-images\\temp\\images/val\\EMDS7-G003-144-0400.png\n",
      "Original Image saved to: D:\\KULIAH\\SEMESTER 5\\RSBP\\Bacteri\\Detection-of-bacteria-in-water-using-Yolo-images\\Detect\\Detection-of-bacteria-in-water-using-Yolo-images\\temp\\images/val\\EMDS7-G018-038-0400.png\n",
      "Original Image saved to: D:\\KULIAH\\SEMESTER 5\\RSBP\\Bacteri\\Detection-of-bacteria-in-water-using-Yolo-images\\Detect\\Detection-of-bacteria-in-water-using-Yolo-images\\temp\\images/val\\EMDS7-G018-032-0400.png\n",
      "Original Image saved to: D:\\KULIAH\\SEMESTER 5\\RSBP\\Bacteri\\Detection-of-bacteria-in-water-using-Yolo-images\\Detect\\Detection-of-bacteria-in-water-using-Yolo-images\\temp\\images/val\\EMDS7-G022-166-0400.png\n",
      "Original Image saved to: D:\\KULIAH\\SEMESTER 5\\RSBP\\Bacteri\\Detection-of-bacteria-in-water-using-Yolo-images\\Detect\\Detection-of-bacteria-in-water-using-Yolo-images\\temp\\images/val\\EMDS7-G018-022-0400.png\n",
      "Original Image saved to: D:\\KULIAH\\SEMESTER 5\\RSBP\\Bacteri\\Detection-of-bacteria-in-water-using-Yolo-images\\Detect\\Detection-of-bacteria-in-water-using-Yolo-images\\temp\\images/val\\EMDS7-G016-008-0400.png\n",
      "Original Image saved to: D:\\KULIAH\\SEMESTER 5\\RSBP\\Bacteri\\Detection-of-bacteria-in-water-using-Yolo-images\\Detect\\Detection-of-bacteria-in-water-using-Yolo-images\\temp\\images/val\\EMDS7-G008-045-0400.png\n",
      "Original Image saved to: D:\\KULIAH\\SEMESTER 5\\RSBP\\Bacteri\\Detection-of-bacteria-in-water-using-Yolo-images\\Detect\\Detection-of-bacteria-in-water-using-Yolo-images\\temp\\images/val\\EMDS7-G032-031-0400.png\n",
      "Original Image saved to: D:\\KULIAH\\SEMESTER 5\\RSBP\\Bacteri\\Detection-of-bacteria-in-water-using-Yolo-images\\Detect\\Detection-of-bacteria-in-water-using-Yolo-images\\temp\\images/val\\EMDS7-G036-055-0400.png\n",
      "Original Image saved to: D:\\KULIAH\\SEMESTER 5\\RSBP\\Bacteri\\Detection-of-bacteria-in-water-using-Yolo-images\\Detect\\Detection-of-bacteria-in-water-using-Yolo-images\\temp\\images/val\\EMDS7-G036-040-0400.png\n",
      "Original Image saved to: D:\\KULIAH\\SEMESTER 5\\RSBP\\Bacteri\\Detection-of-bacteria-in-water-using-Yolo-images\\Detect\\Detection-of-bacteria-in-water-using-Yolo-images\\temp\\images/val\\EMDS7-G012-032-0400.png\n",
      "Original Image saved to: D:\\KULIAH\\SEMESTER 5\\RSBP\\Bacteri\\Detection-of-bacteria-in-water-using-Yolo-images\\Detect\\Detection-of-bacteria-in-water-using-Yolo-images\\temp\\images/val\\EMDS7-G011-036-0400.png\n",
      "Original Image saved to: D:\\KULIAH\\SEMESTER 5\\RSBP\\Bacteri\\Detection-of-bacteria-in-water-using-Yolo-images\\Detect\\Detection-of-bacteria-in-water-using-Yolo-images\\temp\\images/val\\EMDS7-G003-053-0400.png\n",
      "Original Image saved to: D:\\KULIAH\\SEMESTER 5\\RSBP\\Bacteri\\Detection-of-bacteria-in-water-using-Yolo-images\\Detect\\Detection-of-bacteria-in-water-using-Yolo-images\\temp\\images/val\\EMDS7-G021-007-0400.png\n",
      "Original Image saved to: D:\\KULIAH\\SEMESTER 5\\RSBP\\Bacteri\\Detection-of-bacteria-in-water-using-Yolo-images\\Detect\\Detection-of-bacteria-in-water-using-Yolo-images\\temp\\images/val\\EMDS7-G011-035-0400.png\n",
      "Original Image saved to: D:\\KULIAH\\SEMESTER 5\\RSBP\\Bacteri\\Detection-of-bacteria-in-water-using-Yolo-images\\Detect\\Detection-of-bacteria-in-water-using-Yolo-images\\temp\\images/val\\EMDS7-G018-002-0400.png\n",
      "Original Image saved to: D:\\KULIAH\\SEMESTER 5\\RSBP\\Bacteri\\Detection-of-bacteria-in-water-using-Yolo-images\\Detect\\Detection-of-bacteria-in-water-using-Yolo-images\\temp\\images/val\\EMDS7-G020-008-0400.png\n",
      "Original Image saved to: D:\\KULIAH\\SEMESTER 5\\RSBP\\Bacteri\\Detection-of-bacteria-in-water-using-Yolo-images\\Detect\\Detection-of-bacteria-in-water-using-Yolo-images\\temp\\images/val\\EMDS7-G018-045-0400.png\n",
      "Original Image saved to: D:\\KULIAH\\SEMESTER 5\\RSBP\\Bacteri\\Detection-of-bacteria-in-water-using-Yolo-images\\Detect\\Detection-of-bacteria-in-water-using-Yolo-images\\temp\\images/val\\EMDS7-G020-009-0400.png\n",
      "Original Image saved to: D:\\KULIAH\\SEMESTER 5\\RSBP\\Bacteri\\Detection-of-bacteria-in-water-using-Yolo-images\\Detect\\Detection-of-bacteria-in-water-using-Yolo-images\\temp\\images/val\\EMDS7-G025-003-0400.png\n",
      "Original Image saved to: D:\\KULIAH\\SEMESTER 5\\RSBP\\Bacteri\\Detection-of-bacteria-in-water-using-Yolo-images\\Detect\\Detection-of-bacteria-in-water-using-Yolo-images\\temp\\images/val\\EMDS7-G010-020-0400.png\n",
      "Original Image saved to: D:\\KULIAH\\SEMESTER 5\\RSBP\\Bacteri\\Detection-of-bacteria-in-water-using-Yolo-images\\Detect\\Detection-of-bacteria-in-water-using-Yolo-images\\temp\\images/val\\EMDS7-G011-034-0400.png\n",
      "Original Image saved to: D:\\KULIAH\\SEMESTER 5\\RSBP\\Bacteri\\Detection-of-bacteria-in-water-using-Yolo-images\\Detect\\Detection-of-bacteria-in-water-using-Yolo-images\\temp\\images/val\\EMDS7-G023-045-0400.png\n",
      "Original Image saved to: D:\\KULIAH\\SEMESTER 5\\RSBP\\Bacteri\\Detection-of-bacteria-in-water-using-Yolo-images\\Detect\\Detection-of-bacteria-in-water-using-Yolo-images\\temp\\images/val\\EMDS7-G014-073-0400.png\n",
      "Data berhasil dipisah, dikonversi, dan diaugmentasi ke format YOLO! Contoh gambar disimpan di folder sample_output.\n"
     ]
    }
   ],
   "source": [
    "import os\n",
    "import random\n",
    "import shutil\n",
    "import albumentations as A\n",
    "import cv2\n",
    "import numpy as np\n",
    "import xml.etree.ElementTree as ET\n",
    "from concurrent.futures import ThreadPoolExecutor, as_completed\n",
    "from skimage.io import imread\n",
    "from threading import Lock\n",
    "\n",
    "# Path ke folder data\n",
    "images_dir = \"D:\\KULIAH\\SEMESTER 5\\RSBP\\Bacteri\\Detection-of-bacteria-in-water-using-Yolo-images\\Detect\\Detection-of-bacteria-in-water-using-Yolo-images\\EMDS7\"\n",
    "labels_dir = \"D:\\KULIAH\\SEMESTER 5\\RSBP\\Bacteri\\Detection-of-bacteria-in-water-using-Yolo-images\\Detect\\Detection-of-bacteria-in-water-using-Yolo-images\\EMDS7xml\"\n",
    "output_dir = \"D:\\KULIAH\\SEMESTER 5\\RSBP\\Bacteri\\Detection-of-bacteria-in-water-using-Yolo-images\\Detect\\Detection-of-bacteria-in-water-using-Yolo-images\\\\temp\"\n",
    "sample_output_dir = \"D:\\KULIAH\\SEMESTER 5\\RSBP\\Bacteri\\Detection-of-bacteria-in-water-using-Yolo-images\\Detect\\Detection-of-bacteria-in-water-using-Yolo-images\\sample_output\"\n",
    "\n",
    "train_val_split = 0.8  # Rasio data train/validation\n",
    "\n",
    "# Cek apakah path gambar dan label ada\n",
    "if not os.path.exists(images_dir):\n",
    "    raise FileNotFoundError(f\"Path gambar tidak ditemukan: {images_dir}\")\n",
    "if not os.path.exists(labels_dir):\n",
    "    raise FileNotFoundError(f\"Path label tidak ditemukan: {labels_dir}\")\n",
    "\n",
    "# Remove output directory if it exists and create fresh output folders\n",
    "if os.path.exists(output_dir):\n",
    "    shutil.rmtree(output_dir)\n",
    "\n",
    "if os.path.exists(sample_output_dir):\n",
    "    shutil.rmtree(sample_output_dir)\n",
    "\n",
    "# Buat ulang folder output yang fresh\n",
    "os.makedirs(os.path.join(output_dir, 'images/train'), exist_ok=True)\n",
    "os.makedirs(os.path.join(output_dir, 'images/val'), exist_ok=True)\n",
    "os.makedirs(os.path.join(output_dir, 'labels/train'), exist_ok=True)\n",
    "os.makedirs(os.path.join(output_dir, 'labels/val'), exist_ok=True)\n",
    "os.makedirs(sample_output_dir, exist_ok=True)\n",
    "\n",
    "# Daftar semua gambar dan annotations\n",
    "image_files = [f for f in os.listdir(images_dir) if f.endswith('.png')]\n",
    "label_files = [f.replace('.png', '.xml') for f in image_files]\n",
    "\n",
    "# Shuffle data for randomness\n",
    "data = list(zip(image_files, label_files))\n",
    "random.shuffle(data)\n",
    "\n",
    "# Split data into training and validation sets\n",
    "split_index = int(train_val_split * len(data))\n",
    "train_data = data[:split_index]\n",
    "val_data = data[split_index:]\n",
    "\n",
    "class_mapping = {\n",
    "    'G001': 0, 'G002': 1, 'G003': 2, 'G004': 3, 'G005': 4, 'G006': 5, 'G007': 6, 'G008': 7, 'G009': 8, 'G010': 9,\n",
    "    'G011': 10, 'G012': 11, 'G013': 12, 'G014': 13, 'G015': 14, 'G016': 15, 'G017': 16, 'G018': 17, 'G019': 18, 'G020': 19,\n",
    "    'G021': 20, 'G022': 21, 'G023': 22, 'G024': 23, 'G025': 24, 'G026': 25, 'G027': 26, 'G028': 27, 'G029': 28, 'G030': 29,\n",
    "    'G031': 30, 'G032': 31, 'G033': 32, 'G034': 33, 'G035': 34, 'G036': 35, 'G037': 36, 'G038': 37, 'G039': 38, 'G040': 39,\n",
    "    'G041': 40, 'G042': 41, 'G043': 42, 'G044': 43, 'G045': 44, 'G046': 45, 'G047': 46, 'G048': 47, 'G049': 48, 'G050': 49,\n",
    "    'G051': 50, 'G052': 51, 'G053': 52\n",
    "}\n",
    "\n",
    "# Augmentasi gambar dan bounding box tanpa mirroring, mengisi area kosong dengan putih\n",
    "augmentor = A.Compose([\n",
    "    A.Rotate(limit=30, p=0.3),\n",
    "    A.RandomBrightnessContrast(p=0.2),\n",
    "    A.HorizontalFlip(p=0.5),\n",
    "    A.VerticalFlip(p=0.5),\n",
    "    A.Resize(512, 512, p=1.0)\n",
    "], bbox_params=A.BboxParams(format='yolo', label_fields=['class_labels']))\n",
    "\n",
    "sample_counter_lock = Lock()\n",
    "\n",
    "def draw_bboxes(image, bboxes, class_labels):\n",
    "    \"\"\"Gambar bounding box pada gambar.\"\"\"\n",
    "    for bbox, class_id in zip(bboxes, class_labels):\n",
    "        x_center, y_center, width, height = bbox\n",
    "        img_h, img_w = image.shape[:2]\n",
    "        xmin = int((x_center - width / 2) * img_w)\n",
    "        ymin = int((y_center - height / 2) * img_h)\n",
    "        xmax = int((x_center + width / 2) * img_w)\n",
    "        ymax = int((y_center + height / 2) * img_h)\n",
    "        cv2.rectangle(image, (xmin, ymin), (xmax, ymax), (0, 255, 0), 2)\n",
    "        cv2.putText(image, str(class_id), (xmin, ymin - 10), cv2.FONT_HERSHEY_SIMPLEX, 0.9, (0, 255, 0), 2)\n",
    "\n",
    "def convert_xml_to_txt(xml_path, txt_output_path, augment=False, img=None):\n",
    "    \"\"\"Fungsi ini akan mengonversi format XML ke format YOLO (txt).\"\"\"\n",
    "    tree = ET.parse(xml_path)\n",
    "    root = tree.getroot()\n",
    "    width = int(root.find('size/width').text)\n",
    "    height = int(root.find('size/height').text)\n",
    "    bboxes = []\n",
    "    class_labels = []\n",
    "\n",
    "    for obj in root.findall('object'):\n",
    "        class_name = obj.find('name').text\n",
    "        class_id = class_mapping.get(class_name, -1)\n",
    "        if class_id == -1:\n",
    "            continue\n",
    "        bndbox = obj.find('bndbox')\n",
    "        xmin = int(bndbox.find('xmin').text)\n",
    "        ymin = int(bndbox.find('ymin').text)\n",
    "        xmax = int(bndbox.find('xmax').text)\n",
    "        ymax = int(bndbox.find('ymax').text)\n",
    "        x_center = (xmin + xmax) / 2.0 / width\n",
    "        y_center = (ymin + ymax) / 2.0 / height\n",
    "        box_width = (xmax - xmin) / width\n",
    "        box_height = (ymax - ymin) / height\n",
    "        bboxes.append([x_center, y_center, box_width, box_height])\n",
    "        class_labels.append(class_id)\n",
    "\n",
    "    with open(txt_output_path, 'w') as txt_file:\n",
    "        for bbox, label in zip(bboxes, class_labels):\n",
    "            txt_file.write(f\"{label} {' '.join(map(str, bbox))}\\n\")\n",
    "\n",
    "    return img, bboxes, class_labels\n",
    "\n",
    "def apply_morphology(img, kernel_size=(10, 10), blur_kernel=(5, 5)):\n",
    "    \"\"\"Terapkan deteksi tepi Canny dengan beberapa langkah pra-pemrosesan.\"\"\"\n",
    "    # Jika gambar berwarna, konversi ke grayscale\n",
    "    if len(img.shape) == 3:\n",
    "        gray = cv2.cvtColor(img, cv2.COLOR_BGR2GRAY)\n",
    "    else:\n",
    "        gray = img.copy()\n",
    "    \n",
    "    # Image preprocessing - Gaussian Blur untuk mengurangi noise awal\n",
    "    blurred = cv2.GaussianBlur(gray, blur_kernel, 0)\n",
    "    \n",
    "    # Gradient calculation - menggunakan deteksi tepi Canny\n",
    "    edges = cv2.Canny(blurred, threshold1=50, threshold2=150)\n",
    "    \n",
    "    # Non-max suppression dilakukan secara internal oleh fungsi Canny\n",
    "    # Double thresholding dan edge tracking by hysteresis juga dilakukan oleh fungsi Canny\n",
    "    \n",
    "    return edges\n",
    "\n",
    "def process_data(img_file, lbl_file, img_dest_folder, lbl_dest_folder, augment=False, sample_output_count=15):\n",
    "    img_src_path = os.path.join(images_dir, img_file)\n",
    "    lbl_src_path = os.path.join(labels_dir, lbl_file)\n",
    "\n",
    "    # Baca gambar dan konversi ke grayscale\n",
    "    img = imread(img_src_path)\n",
    "    img = apply_morphology(img)\n",
    "    \n",
    "    if augment:\n",
    "        img_dest_path = os.path.join(img_dest_folder, img_file.replace('.png', '_aug.png'))\n",
    "        lbl_dest_path = os.path.join(lbl_dest_folder, lbl_file.replace('.xml', '_aug.txt'))\n",
    "        augmented_img, augmented_bboxes, class_labels = convert_xml_to_txt(lbl_src_path, lbl_dest_path, augment=True, img=img)\n",
    "\n",
    "        augmented = augmentor(image=augmented_img, bboxes=augmented_bboxes, class_labels=class_labels)\n",
    "        augmented_img = augmented['image']\n",
    "        augmented_bboxes = augmented['bboxes']\n",
    "\n",
    "        # Draw bounding boxes on augmented image and save to sample output\n",
    "        with sample_counter_lock:\n",
    "            if sample_output_count > 0:\n",
    "                sample_img = augmented_img.copy()\n",
    "                draw_bboxes(sample_img, augmented_bboxes, class_labels)\n",
    "                cv2.imwrite(os.path.join(sample_output_dir, f\"{img_file.replace('.png', '_aug_sample.png')}\") , sample_img)\n",
    "                sample_output_count -= 1\n",
    "\n",
    "        # Save the augmented image in the train directory\n",
    "        cv2.imwrite(img_dest_path, augmented_img)\n",
    "        print(f\"Augmented Image saved to: {img_dest_path}\")\n",
    "    else:\n",
    "        img_dest_path = os.path.join(img_dest_folder, img_file)\n",
    "        lbl_dest_path = os.path.join(lbl_dest_folder, lbl_file.replace('.xml', '.txt'))\n",
    "        img = apply_morphology(img)\n",
    "        cv2.imwrite(img_dest_path, img)\n",
    "        convert_xml_to_txt(lbl_src_path, lbl_dest_path)\n",
    "        print(f\"Original Image saved to: {img_dest_path}\")\n",
    "\n",
    "def copy_and_convert_data(data, img_dest_folder, lbl_dest_folder, augment=False, sample_output_count=30):\n",
    "    with ThreadPoolExecutor() as executor:\n",
    "        futures = []\n",
    "        for img_file, lbl_file in data:\n",
    "            futures.append(executor.submit(process_data, img_file, lbl_file, img_dest_folder, lbl_dest_folder, augment, sample_output_count))\n",
    "        for future in as_completed(futures):\n",
    "            future.result()\n",
    "\n",
    "copy_and_convert_data(train_data, os.path.join(output_dir, 'images/train'), os.path.join(output_dir, 'labels/train'), augment=True)\n",
    "copy_and_convert_data(val_data, os.path.join(output_dir, 'images/val'), os.path.join(output_dir, 'labels/val'))\n",
    "\n",
    "print(\"Data berhasil dipisah, dikonversi, dan diaugmentasi ke format YOLO! Contoh gambar disimpan di folder sample_output.\")"
   ]
  },
  {
   "cell_type": "code",
   "execution_count": 4,
   "metadata": {},
   "outputs": [
    {
     "name": "stdout",
     "output_type": "stream",
     "text": [
      "Class Weights sesuai urutan kelas: [1.0, 1.0, 1.0, 1.0, 1.0, 1.0, 1.0, 1.0, 1.0, 1.0, 1.0, 1.0, 1.0, 1.0, 1.0, 1.0, 1.0, 1.0, 1.0, 1.0, 1.0, 1.0, 1.0, 1.0, 1.0, 1.0, 1.0, 1.0, 1.0, 1.0, 1.0, 1.0, 1.0, 1.0, 1.0, 1.0, 1.0, 1.0, 1.0, 1.0, 1.0]\n"
     ]
    }
   ],
   "source": [
    "import os\n",
    "import numpy as np\n",
    "from collections import Counter\n",
    "\n",
    "# Path ke folder label YOLO\n",
    "label_dir = \"D:\\KULIAH\\SEMESTER 5\\RSBP\\Bacteri\\Detection-of-bacteria-in-water-using-Yolo-images\\Detect\\Detection-of-bacteria-in-water-using-Yolo-images\\\\runs\\\\train\"\n",
    "\n",
    "# Daftar nama kelas sesuai urutan dalam konfigurasi `names`\n",
    "class_names = [\n",
    "    'Oscillatoria', 'Ankistrodesmus', 'Microcystis', 'Gomphonema', \n",
    "    'Sphaerocystis', 'Cosmarium', 'Cocconeis', 'Tribonema', \n",
    "    'Chlorella', 'Tetraedron', 'Ankistrodesmus', 'Brachionus', \n",
    "    'Chaenea', 'Pediastrum', 'Spirulina', 'Actinastrum', \n",
    "    'Navicula', 'Scenedesmus', 'Golenkinia', 'Pinnularia', \n",
    "    'Staurastrum', 'Phormidium', 'Fragilaria', 'Anabaenopsis', \n",
    "    'Coelosphaerium', 'Crucigenia', 'Achnanthes', 'Synedra', \n",
    "    'Ceratium', 'Pompholyx', 'Merismopedia', 'Spirogyra', \n",
    "    'Coelastrum', 'Raphidiopsis', 'Gomphosphaeria', 'Euglena', \n",
    "    'Euclanis', 'Keratella', 'diversicornis', 'Surirella', \n",
    "    'Characium'\n",
    "]\n",
    "\n",
    "# Fungsi menghitung class weights\n",
    "def calculate_class_weights(label_dir, class_names):\n",
    "    class_counts = Counter()\n",
    "    \n",
    "    for label_file in os.listdir(label_dir):\n",
    "        if label_file.endswith('.txt'):\n",
    "            with open(os.path.join(label_dir, label_file), 'r') as f:\n",
    "                for line in f:\n",
    "                    try:\n",
    "                        class_id = int(float(line.split()[0]))  # Mengonversi ke float dahulu\n",
    "                        class_counts[class_id] += 1\n",
    "                    except ValueError as e:\n",
    "                        print(f\"Error parsing line '{line.strip()}' in file '{label_file}': {e}\")\n",
    "                        continue\n",
    "\n",
    "    # Hitung bobot berbasis inverse frequency\n",
    "    total_instances = sum(class_counts.values())\n",
    "    class_weights = {class_id: total_instances / count for class_id, count in class_counts.items()}\n",
    "    \n",
    "    # Normalisasi bobot agar proporsional\n",
    "    max_weight = max(class_weights.values(), default=1.0)\n",
    "    normalized_weights = {class_id: weight / max_weight for class_id, weight in class_weights.items()}\n",
    "    \n",
    "    # Memastikan urutan sesuai `class_names`\n",
    "    weights_list = [normalized_weights.get(i, 1.0) for i in range(len(class_names))]\n",
    "    \n",
    "    return weights_list\n",
    "\n",
    "# Hitung class weights dan cetak\n",
    "class_weights = calculate_class_weights(label_dir, class_names)\n",
    "print(\"Class Weights sesuai urutan kelas:\", class_weights)\n"
   ]
  },
  {
   "cell_type": "code",
   "execution_count": 3,
   "metadata": {},
   "outputs": [],
   "source": [
    "import os\n",
    "os.environ[\"KMP_DUPLICATE_LIB_OK\"] = \"TRUE\""
   ]
  },
  {
   "cell_type": "code",
   "execution_count": 4,
   "metadata": {},
   "outputs": [
    {
     "name": "stdout",
     "output_type": "stream",
     "text": [
      "WARNING  Python>=3.10 is required, but Python==3.9.20 is currently installed \n",
      "New https://pypi.org/project/ultralytics/8.3.29 available  Update with 'pip install -U ultralytics'\n",
      "Ultralytics 8.3.21  Python-3.9.20 torch-2.5.0 CUDA:0 (NVIDIA GeForce RTX 4060 Laptop GPU, 8188MiB)\n",
      "\u001b[34m\u001b[1mengine\\trainer: \u001b[0mtask=detect, mode=train, model=yolov8n.pt, data=../data.yaml, epochs=100, time=None, patience=100, batch=16, imgsz=640, save=True, save_period=-1, cache=False, device=0, workers=12, project=runs/train/it2, name=it211, exist_ok=False, pretrained=True, optimizer=auto, verbose=True, seed=0, deterministic=True, single_cls=False, rect=False, cos_lr=False, close_mosaic=10, resume=False, amp=True, fraction=1.0, profile=False, freeze=None, multi_scale=False, overlap_mask=True, mask_ratio=4, dropout=0.0, val=True, split=val, save_json=False, save_hybrid=False, conf=None, iou=0.7, max_det=300, half=False, dnn=False, plots=True, source=None, vid_stride=1, stream_buffer=False, visualize=False, augment=False, agnostic_nms=False, classes=None, retina_masks=False, embed=None, show=False, save_frames=False, save_txt=False, save_conf=False, save_crop=False, show_labels=True, show_conf=True, show_boxes=True, line_width=None, format=torchscript, keras=False, optimize=False, int8=False, dynamic=False, simplify=True, opset=None, workspace=4, nms=False, lr0=0.01, lrf=0.01, momentum=0.937, weight_decay=0.0005, warmup_epochs=3.0, warmup_momentum=0.8, warmup_bias_lr=0.1, box=7.5, cls=0.5, dfl=1.5, pose=12.0, kobj=1.0, label_smoothing=0.1, nbs=64, hsv_h=0.015, hsv_s=0.7, hsv_v=0.4, degrees=0.0, translate=0.1, scale=0.5, shear=0.0, perspective=0.0, flipud=0.0, fliplr=0.5, bgr=0.0, mosaic=1.0, mixup=0.0, copy_paste=0.0, copy_paste_mode=flip, auto_augment=randaugment, erasing=0.4, crop_fraction=1.0, cfg=None, tracker=botsort.yaml, save_dir=runs\\train\\it2\\it211\n",
      "Overriding model.yaml nc=80 with nc=41\n",
      "\n",
      "                   from  n    params  module                                       arguments                     \n",
      "  0                  -1  1       464  ultralytics.nn.modules.conv.Conv             [3, 16, 3, 2]                 \n",
      "  1                  -1  1      4672  ultralytics.nn.modules.conv.Conv             [16, 32, 3, 2]                \n",
      "  2                  -1  1      7360  ultralytics.nn.modules.block.C2f             [32, 32, 1, True]             \n",
      "  3                  -1  1     18560  ultralytics.nn.modules.conv.Conv             [32, 64, 3, 2]                \n",
      "  4                  -1  2     49664  ultralytics.nn.modules.block.C2f             [64, 64, 2, True]             \n",
      "  5                  -1  1     73984  ultralytics.nn.modules.conv.Conv             [64, 128, 3, 2]               \n",
      "  6                  -1  2    197632  ultralytics.nn.modules.block.C2f             [128, 128, 2, True]           \n",
      "  7                  -1  1    295424  ultralytics.nn.modules.conv.Conv             [128, 256, 3, 2]              \n",
      "  8                  -1  1    460288  ultralytics.nn.modules.block.C2f             [256, 256, 1, True]           \n",
      "  9                  -1  1    164608  ultralytics.nn.modules.block.SPPF            [256, 256, 5]                 \n",
      " 10                  -1  1         0  torch.nn.modules.upsampling.Upsample         [None, 2, 'nearest']          \n",
      " 11             [-1, 6]  1         0  ultralytics.nn.modules.conv.Concat           [1]                           \n",
      " 12                  -1  1    148224  ultralytics.nn.modules.block.C2f             [384, 128, 1]                 \n",
      " 13                  -1  1         0  torch.nn.modules.upsampling.Upsample         [None, 2, 'nearest']          \n",
      " 14             [-1, 4]  1         0  ultralytics.nn.modules.conv.Concat           [1]                           \n",
      " 15                  -1  1     37248  ultralytics.nn.modules.block.C2f             [192, 64, 1]                  \n",
      " 16                  -1  1     36992  ultralytics.nn.modules.conv.Conv             [64, 64, 3, 2]                \n",
      " 17            [-1, 12]  1         0  ultralytics.nn.modules.conv.Concat           [1]                           \n",
      " 18                  -1  1    123648  ultralytics.nn.modules.block.C2f             [192, 128, 1]                 \n",
      " 19                  -1  1    147712  ultralytics.nn.modules.conv.Conv             [128, 128, 3, 2]              \n",
      " 20             [-1, 9]  1         0  ultralytics.nn.modules.conv.Concat           [1]                           \n",
      " 21                  -1  1    493056  ultralytics.nn.modules.block.C2f             [384, 256, 1]                 \n",
      " 22        [15, 18, 21]  1    759307  ultralytics.nn.modules.head.Detect           [41, [64, 128, 256]]          \n",
      "Model summary: 225 layers, 3,018,843 parameters, 3,018,827 gradients, 8.2 GFLOPs\n",
      "\n",
      "Transferred 319/355 items from pretrained weights\n",
      "Freezing layer 'model.22.dfl.conv.weight'\n",
      "\u001b[34m\u001b[1mAMP: \u001b[0mrunning Automatic Mixed Precision (AMP) checks...\n",
      "\u001b[34m\u001b[1mAMP: \u001b[0mchecks passed \n"
     ]
    },
    {
     "name": "stderr",
     "output_type": "stream",
     "text": [
      "\u001b[34m\u001b[1mtrain: \u001b[0mScanning D:\\KULIAH\\SEMESTER 5\\RSBP\\Bacteri\\Detection-of-bacteria-in-water-using-Yolo-images\\Detect\\Detection-of-bacteria-in-water-using-Yolo-images\\temp\\labels\\train... 1892 images, 21 backgrounds, 0 corrupt: 100%|██████████| 1892/1892 [00:04<00:00, 453.25it/s]\n"
     ]
    },
    {
     "name": "stdout",
     "output_type": "stream",
     "text": [
      "\u001b[34m\u001b[1mtrain: \u001b[0mNew cache created: D:\\KULIAH\\SEMESTER 5\\RSBP\\Bacteri\\Detection-of-bacteria-in-water-using-Yolo-images\\Detect\\Detection-of-bacteria-in-water-using-Yolo-images\\temp\\labels\\train.cache\n",
      "\u001b[34m\u001b[1malbumentations: \u001b[0mBlur(p=0.01, blur_limit=(3, 7)), MedianBlur(p=0.01, blur_limit=(3, 7)), ToGray(p=0.01, num_output_channels=3, method='weighted_average'), CLAHE(p=0.01, clip_limit=(1.0, 4.0), tile_grid_size=(8, 8))\n"
     ]
    },
    {
     "name": "stderr",
     "output_type": "stream",
     "text": [
      "\u001b[34m\u001b[1mval: \u001b[0mScanning D:\\KULIAH\\SEMESTER 5\\RSBP\\Bacteri\\Detection-of-bacteria-in-water-using-Yolo-images\\Detect\\Detection-of-bacteria-in-water-using-Yolo-images\\temp\\labels\\val... 473 images, 5 backgrounds, 0 corrupt: 100%|██████████| 473/473 [00:01<00:00, 452.78it/s]"
     ]
    },
    {
     "name": "stdout",
     "output_type": "stream",
     "text": [
      "\u001b[34m\u001b[1mval: \u001b[0mNew cache created: D:\\KULIAH\\SEMESTER 5\\RSBP\\Bacteri\\Detection-of-bacteria-in-water-using-Yolo-images\\Detect\\Detection-of-bacteria-in-water-using-Yolo-images\\temp\\labels\\val.cache\n"
     ]
    },
    {
     "name": "stderr",
     "output_type": "stream",
     "text": [
      "\n"
     ]
    },
    {
     "name": "stdout",
     "output_type": "stream",
     "text": [
      "Plotting labels to runs\\train\\it2\\it211\\labels.jpg... \n",
      "\u001b[34m\u001b[1moptimizer:\u001b[0m 'optimizer=auto' found, ignoring 'lr0=0.01' and 'momentum=0.937' and determining best 'optimizer', 'lr0' and 'momentum' automatically... \n",
      "\u001b[34m\u001b[1moptimizer:\u001b[0m AdamW(lr=0.000222, momentum=0.9) with parameter groups 57 weight(decay=0.0), 64 weight(decay=0.0005), 63 bias(decay=0.0)\n",
      "Image sizes 640 train, 640 val\n",
      "Using 12 dataloader workers\n",
      "Logging results to \u001b[1mruns\\train\\it2\\it211\u001b[0m\n",
      "Starting training for 100 epochs...\n",
      "\n",
      "      Epoch    GPU_mem   box_loss   cls_loss   dfl_loss  Instances       Size\n"
     ]
    },
    {
     "name": "stderr",
     "output_type": "stream",
     "text": [
      "      1/100      2.24G      2.546      5.479      2.337         20        640: 100%|██████████| 119/119 [00:16<00:00,  7.27it/s]\n",
      "                 Class     Images  Instances      Box(P          R      mAP50  mAP50-95): 100%|██████████| 15/15 [00:01<00:00,  8.57it/s]"
     ]
    },
    {
     "name": "stdout",
     "output_type": "stream",
     "text": [
      "                   all        473       1082     0.0148     0.0767      0.018      0.012\n"
     ]
    },
    {
     "name": "stderr",
     "output_type": "stream",
     "text": [
      "\n"
     ]
    },
    {
     "name": "stdout",
     "output_type": "stream",
     "text": [
      "\n",
      "      Epoch    GPU_mem   box_loss   cls_loss   dfl_loss  Instances       Size\n"
     ]
    },
    {
     "name": "stderr",
     "output_type": "stream",
     "text": [
      "      2/100      2.24G      2.439      5.223      2.224         12        640: 100%|██████████| 119/119 [00:14<00:00,  8.01it/s]\n",
      "                 Class     Images  Instances      Box(P          R      mAP50  mAP50-95): 100%|██████████| 15/15 [00:01<00:00,  7.78it/s]"
     ]
    },
    {
     "name": "stdout",
     "output_type": "stream",
     "text": [
      "                   all        473       1082       0.81     0.0329     0.0317     0.0217\n"
     ]
    },
    {
     "name": "stderr",
     "output_type": "stream",
     "text": [
      "\n"
     ]
    },
    {
     "name": "stdout",
     "output_type": "stream",
     "text": [
      "\n",
      "      Epoch    GPU_mem   box_loss   cls_loss   dfl_loss  Instances       Size\n"
     ]
    },
    {
     "name": "stderr",
     "output_type": "stream",
     "text": [
      "      3/100      2.26G       2.46      5.092      2.254          9        640: 100%|██████████| 119/119 [00:14<00:00,  8.29it/s]\n",
      "                 Class     Images  Instances      Box(P          R      mAP50  mAP50-95): 100%|██████████| 15/15 [00:01<00:00,  7.76it/s]"
     ]
    },
    {
     "name": "stdout",
     "output_type": "stream",
     "text": [
      "                   all        473       1082      0.679     0.0402     0.0413     0.0276\n"
     ]
    },
    {
     "name": "stderr",
     "output_type": "stream",
     "text": [
      "\n"
     ]
    },
    {
     "name": "stdout",
     "output_type": "stream",
     "text": [
      "\n",
      "      Epoch    GPU_mem   box_loss   cls_loss   dfl_loss  Instances       Size\n"
     ]
    },
    {
     "name": "stderr",
     "output_type": "stream",
     "text": [
      "      4/100      2.28G      2.399      4.913      2.223         18        640: 100%|██████████| 119/119 [00:14<00:00,  8.28it/s]\n",
      "                 Class     Images  Instances      Box(P          R      mAP50  mAP50-95): 100%|██████████| 15/15 [00:01<00:00,  7.54it/s]"
     ]
    },
    {
     "name": "stdout",
     "output_type": "stream",
     "text": [
      "                   all        473       1082      0.501      0.057     0.0561     0.0362\n"
     ]
    },
    {
     "name": "stderr",
     "output_type": "stream",
     "text": [
      "\n"
     ]
    },
    {
     "name": "stdout",
     "output_type": "stream",
     "text": [
      "\n",
      "      Epoch    GPU_mem   box_loss   cls_loss   dfl_loss  Instances       Size\n"
     ]
    },
    {
     "name": "stderr",
     "output_type": "stream",
     "text": [
      "      5/100      2.23G      2.391      4.889       2.22          5        640: 100%|██████████| 119/119 [00:14<00:00,  8.03it/s]\n",
      "                 Class     Images  Instances      Box(P          R      mAP50  mAP50-95): 100%|██████████| 15/15 [00:02<00:00,  7.47it/s]"
     ]
    },
    {
     "name": "stdout",
     "output_type": "stream",
     "text": [
      "                   all        473       1082      0.447      0.065     0.0659     0.0461\n"
     ]
    },
    {
     "name": "stderr",
     "output_type": "stream",
     "text": [
      "\n"
     ]
    },
    {
     "name": "stdout",
     "output_type": "stream",
     "text": [
      "\n",
      "      Epoch    GPU_mem   box_loss   cls_loss   dfl_loss  Instances       Size\n"
     ]
    },
    {
     "name": "stderr",
     "output_type": "stream",
     "text": [
      "      6/100      2.23G      2.364      4.769      2.198         11        640: 100%|██████████| 119/119 [00:14<00:00,  8.21it/s]\n",
      "                 Class     Images  Instances      Box(P          R      mAP50  mAP50-95): 100%|██████████| 15/15 [00:02<00:00,  7.20it/s]"
     ]
    },
    {
     "name": "stdout",
     "output_type": "stream",
     "text": [
      "                   all        473       1082      0.495     0.0484     0.0663     0.0436\n"
     ]
    },
    {
     "name": "stderr",
     "output_type": "stream",
     "text": [
      "\n"
     ]
    },
    {
     "name": "stdout",
     "output_type": "stream",
     "text": [
      "\n",
      "      Epoch    GPU_mem   box_loss   cls_loss   dfl_loss  Instances       Size\n"
     ]
    },
    {
     "name": "stderr",
     "output_type": "stream",
     "text": [
      "      7/100      2.24G      2.361      4.691      2.201         11        640: 100%|██████████| 119/119 [00:14<00:00,  8.18it/s]\n",
      "                 Class     Images  Instances      Box(P          R      mAP50  mAP50-95): 100%|██████████| 15/15 [00:02<00:00,  7.40it/s]"
     ]
    },
    {
     "name": "stdout",
     "output_type": "stream",
     "text": [
      "                   all        473       1082       0.54     0.0847     0.0889     0.0613\n"
     ]
    },
    {
     "name": "stderr",
     "output_type": "stream",
     "text": [
      "\n"
     ]
    },
    {
     "name": "stdout",
     "output_type": "stream",
     "text": [
      "\n",
      "      Epoch    GPU_mem   box_loss   cls_loss   dfl_loss  Instances       Size\n"
     ]
    },
    {
     "name": "stderr",
     "output_type": "stream",
     "text": [
      "      8/100      2.23G      2.316      4.573      2.155         14        640: 100%|██████████| 119/119 [00:14<00:00,  8.25it/s]\n",
      "                 Class     Images  Instances      Box(P          R      mAP50  mAP50-95): 100%|██████████| 15/15 [00:02<00:00,  6.99it/s]"
     ]
    },
    {
     "name": "stdout",
     "output_type": "stream",
     "text": [
      "                   all        473       1082      0.582      0.108     0.0823     0.0549\n"
     ]
    },
    {
     "name": "stderr",
     "output_type": "stream",
     "text": [
      "\n"
     ]
    },
    {
     "name": "stdout",
     "output_type": "stream",
     "text": [
      "\n",
      "      Epoch    GPU_mem   box_loss   cls_loss   dfl_loss  Instances       Size\n"
     ]
    },
    {
     "name": "stderr",
     "output_type": "stream",
     "text": [
      "      9/100      2.24G      2.293      4.512      2.138         19        640: 100%|██████████| 119/119 [00:14<00:00,  8.38it/s]\n",
      "                 Class     Images  Instances      Box(P          R      mAP50  mAP50-95): 100%|██████████| 15/15 [00:02<00:00,  7.23it/s]"
     ]
    },
    {
     "name": "stdout",
     "output_type": "stream",
     "text": [
      "                   all        473       1082      0.527      0.108      0.121     0.0849\n"
     ]
    },
    {
     "name": "stderr",
     "output_type": "stream",
     "text": [
      "\n"
     ]
    },
    {
     "name": "stdout",
     "output_type": "stream",
     "text": [
      "\n",
      "      Epoch    GPU_mem   box_loss   cls_loss   dfl_loss  Instances       Size\n"
     ]
    },
    {
     "name": "stderr",
     "output_type": "stream",
     "text": [
      "     10/100      2.22G      2.286       4.46      2.154         15        640: 100%|██████████| 119/119 [00:14<00:00,  8.46it/s]\n",
      "                 Class     Images  Instances      Box(P          R      mAP50  mAP50-95): 100%|██████████| 15/15 [00:02<00:00,  7.16it/s]"
     ]
    },
    {
     "name": "stdout",
     "output_type": "stream",
     "text": [
      "                   all        473       1082      0.504     0.0906      0.123     0.0861\n"
     ]
    },
    {
     "name": "stderr",
     "output_type": "stream",
     "text": [
      "\n"
     ]
    },
    {
     "name": "stdout",
     "output_type": "stream",
     "text": [
      "\n",
      "      Epoch    GPU_mem   box_loss   cls_loss   dfl_loss  Instances       Size\n"
     ]
    },
    {
     "name": "stderr",
     "output_type": "stream",
     "text": [
      "     11/100      2.22G      2.282      4.445      2.144          8        640: 100%|██████████| 119/119 [00:14<00:00,  8.41it/s]\n",
      "                 Class     Images  Instances      Box(P          R      mAP50  mAP50-95): 100%|██████████| 15/15 [00:02<00:00,  7.00it/s]"
     ]
    },
    {
     "name": "stdout",
     "output_type": "stream",
     "text": [
      "                   all        473       1082       0.51     0.0968      0.108     0.0778\n"
     ]
    },
    {
     "name": "stderr",
     "output_type": "stream",
     "text": [
      "\n"
     ]
    },
    {
     "name": "stdout",
     "output_type": "stream",
     "text": [
      "\n",
      "      Epoch    GPU_mem   box_loss   cls_loss   dfl_loss  Instances       Size\n"
     ]
    },
    {
     "name": "stderr",
     "output_type": "stream",
     "text": [
      "     12/100      2.25G      2.275      4.407      2.136         11        640: 100%|██████████| 119/119 [00:14<00:00,  8.26it/s]\n",
      "                 Class     Images  Instances      Box(P          R      mAP50  mAP50-95): 100%|██████████| 15/15 [00:02<00:00,  6.70it/s]"
     ]
    },
    {
     "name": "stdout",
     "output_type": "stream",
     "text": [
      "                   all        473       1082      0.451      0.117      0.129     0.0912\n"
     ]
    },
    {
     "name": "stderr",
     "output_type": "stream",
     "text": [
      "\n"
     ]
    },
    {
     "name": "stdout",
     "output_type": "stream",
     "text": [
      "\n",
      "      Epoch    GPU_mem   box_loss   cls_loss   dfl_loss  Instances       Size\n"
     ]
    },
    {
     "name": "stderr",
     "output_type": "stream",
     "text": [
      "     13/100      2.24G       2.26      4.355      2.136         11        640: 100%|██████████| 119/119 [00:14<00:00,  8.41it/s]\n",
      "                 Class     Images  Instances      Box(P          R      mAP50  mAP50-95): 100%|██████████| 15/15 [00:02<00:00,  6.30it/s]"
     ]
    },
    {
     "name": "stdout",
     "output_type": "stream",
     "text": [
      "                   all        473       1082       0.43      0.122      0.121     0.0861\n"
     ]
    },
    {
     "name": "stderr",
     "output_type": "stream",
     "text": [
      "\n"
     ]
    },
    {
     "name": "stdout",
     "output_type": "stream",
     "text": [
      "\n",
      "      Epoch    GPU_mem   box_loss   cls_loss   dfl_loss  Instances       Size\n"
     ]
    },
    {
     "name": "stderr",
     "output_type": "stream",
     "text": [
      "     14/100      2.25G       2.25      4.287      2.124         12        640: 100%|██████████| 119/119 [00:14<00:00,  8.49it/s]\n",
      "                 Class     Images  Instances      Box(P          R      mAP50  mAP50-95): 100%|██████████| 15/15 [00:02<00:00,  7.00it/s]"
     ]
    },
    {
     "name": "stdout",
     "output_type": "stream",
     "text": [
      "                   all        473       1082      0.407     0.0994      0.111     0.0809\n"
     ]
    },
    {
     "name": "stderr",
     "output_type": "stream",
     "text": [
      "\n"
     ]
    },
    {
     "name": "stdout",
     "output_type": "stream",
     "text": [
      "\n",
      "      Epoch    GPU_mem   box_loss   cls_loss   dfl_loss  Instances       Size\n"
     ]
    },
    {
     "name": "stderr",
     "output_type": "stream",
     "text": [
      "     15/100      2.23G      2.262      4.324      2.136         12        640: 100%|██████████| 119/119 [00:14<00:00,  8.40it/s]\n",
      "                 Class     Images  Instances      Box(P          R      mAP50  mAP50-95): 100%|██████████| 15/15 [00:02<00:00,  7.32it/s]"
     ]
    },
    {
     "name": "stdout",
     "output_type": "stream",
     "text": [
      "                   all        473       1082      0.497      0.117      0.107     0.0779\n"
     ]
    },
    {
     "name": "stderr",
     "output_type": "stream",
     "text": [
      "\n"
     ]
    },
    {
     "name": "stdout",
     "output_type": "stream",
     "text": [
      "\n",
      "      Epoch    GPU_mem   box_loss   cls_loss   dfl_loss  Instances       Size\n"
     ]
    },
    {
     "name": "stderr",
     "output_type": "stream",
     "text": [
      "     16/100      2.25G      2.211      4.219      2.103         18        640: 100%|██████████| 119/119 [00:14<00:00,  8.44it/s]\n",
      "                 Class     Images  Instances      Box(P          R      mAP50  mAP50-95): 100%|██████████| 15/15 [00:01<00:00,  7.59it/s]"
     ]
    },
    {
     "name": "stdout",
     "output_type": "stream",
     "text": [
      "                   all        473       1082       0.39      0.104        0.1     0.0716\n"
     ]
    },
    {
     "name": "stderr",
     "output_type": "stream",
     "text": [
      "\n"
     ]
    },
    {
     "name": "stdout",
     "output_type": "stream",
     "text": [
      "\n",
      "      Epoch    GPU_mem   box_loss   cls_loss   dfl_loss  Instances       Size\n"
     ]
    },
    {
     "name": "stderr",
     "output_type": "stream",
     "text": [
      "     17/100      2.21G      2.262      4.313      2.137         22        640: 100%|██████████| 119/119 [00:14<00:00,  8.42it/s]\n",
      "                 Class     Images  Instances      Box(P          R      mAP50  mAP50-95): 100%|██████████| 15/15 [00:02<00:00,  7.24it/s]"
     ]
    },
    {
     "name": "stdout",
     "output_type": "stream",
     "text": [
      "                   all        473       1082      0.433      0.128      0.116     0.0837\n"
     ]
    },
    {
     "name": "stderr",
     "output_type": "stream",
     "text": [
      "\n"
     ]
    },
    {
     "name": "stdout",
     "output_type": "stream",
     "text": [
      "\n",
      "      Epoch    GPU_mem   box_loss   cls_loss   dfl_loss  Instances       Size\n"
     ]
    },
    {
     "name": "stderr",
     "output_type": "stream",
     "text": [
      "     18/100      2.24G      2.216      4.228      2.103          8        640: 100%|██████████| 119/119 [00:13<00:00,  8.52it/s]\n",
      "                 Class     Images  Instances      Box(P          R      mAP50  mAP50-95): 100%|██████████| 15/15 [00:02<00:00,  7.21it/s]"
     ]
    },
    {
     "name": "stdout",
     "output_type": "stream",
     "text": [
      "                   all        473       1082      0.415      0.146      0.152      0.109\n"
     ]
    },
    {
     "name": "stderr",
     "output_type": "stream",
     "text": [
      "\n"
     ]
    },
    {
     "name": "stdout",
     "output_type": "stream",
     "text": [
      "\n",
      "      Epoch    GPU_mem   box_loss   cls_loss   dfl_loss  Instances       Size\n"
     ]
    },
    {
     "name": "stderr",
     "output_type": "stream",
     "text": [
      "     19/100      2.23G      2.181      4.186      2.096         13        640: 100%|██████████| 119/119 [00:14<00:00,  8.44it/s]\n",
      "                 Class     Images  Instances      Box(P          R      mAP50  mAP50-95): 100%|██████████| 15/15 [00:02<00:00,  7.35it/s]"
     ]
    },
    {
     "name": "stdout",
     "output_type": "stream",
     "text": [
      "                   all        473       1082      0.455      0.133      0.139        0.1\n"
     ]
    },
    {
     "name": "stderr",
     "output_type": "stream",
     "text": [
      "\n"
     ]
    },
    {
     "name": "stdout",
     "output_type": "stream",
     "text": [
      "\n",
      "      Epoch    GPU_mem   box_loss   cls_loss   dfl_loss  Instances       Size\n"
     ]
    },
    {
     "name": "stderr",
     "output_type": "stream",
     "text": [
      "     20/100      2.23G      2.197      4.152      2.106          9        640: 100%|██████████| 119/119 [00:14<00:00,  8.43it/s]\n",
      "                 Class     Images  Instances      Box(P          R      mAP50  mAP50-95): 100%|██████████| 15/15 [00:02<00:00,  7.18it/s]"
     ]
    },
    {
     "name": "stdout",
     "output_type": "stream",
     "text": [
      "                   all        473       1082      0.572      0.143      0.163      0.116\n"
     ]
    },
    {
     "name": "stderr",
     "output_type": "stream",
     "text": [
      "\n"
     ]
    },
    {
     "name": "stdout",
     "output_type": "stream",
     "text": [
      "\n",
      "      Epoch    GPU_mem   box_loss   cls_loss   dfl_loss  Instances       Size\n"
     ]
    },
    {
     "name": "stderr",
     "output_type": "stream",
     "text": [
      "     21/100      2.19G       2.18       4.17      2.079          6        640: 100%|██████████| 119/119 [00:13<00:00,  8.65it/s]\n",
      "                 Class     Images  Instances      Box(P          R      mAP50  mAP50-95): 100%|██████████| 15/15 [00:02<00:00,  7.14it/s]"
     ]
    },
    {
     "name": "stdout",
     "output_type": "stream",
     "text": [
      "                   all        473       1082       0.45      0.127      0.133     0.0995\n"
     ]
    },
    {
     "name": "stderr",
     "output_type": "stream",
     "text": [
      "\n"
     ]
    },
    {
     "name": "stdout",
     "output_type": "stream",
     "text": [
      "\n",
      "      Epoch    GPU_mem   box_loss   cls_loss   dfl_loss  Instances       Size\n"
     ]
    },
    {
     "name": "stderr",
     "output_type": "stream",
     "text": [
      "     22/100      2.23G      2.156      4.149      2.085          5        640: 100%|██████████| 119/119 [00:14<00:00,  8.16it/s]\n",
      "                 Class     Images  Instances      Box(P          R      mAP50  mAP50-95): 100%|██████████| 15/15 [00:02<00:00,  6.91it/s]"
     ]
    },
    {
     "name": "stdout",
     "output_type": "stream",
     "text": [
      "                   all        473       1082      0.452      0.138      0.158      0.113\n"
     ]
    },
    {
     "name": "stderr",
     "output_type": "stream",
     "text": [
      "\n"
     ]
    },
    {
     "name": "stdout",
     "output_type": "stream",
     "text": [
      "\n",
      "      Epoch    GPU_mem   box_loss   cls_loss   dfl_loss  Instances       Size\n"
     ]
    },
    {
     "name": "stderr",
     "output_type": "stream",
     "text": [
      "     23/100      2.25G      2.173      4.103      2.077         16        640: 100%|██████████| 119/119 [00:14<00:00,  8.49it/s]\n",
      "                 Class     Images  Instances      Box(P          R      mAP50  mAP50-95): 100%|██████████| 15/15 [00:02<00:00,  7.06it/s]"
     ]
    },
    {
     "name": "stdout",
     "output_type": "stream",
     "text": [
      "                   all        473       1082      0.436      0.133      0.133     0.0933\n"
     ]
    },
    {
     "name": "stderr",
     "output_type": "stream",
     "text": [
      "\n"
     ]
    },
    {
     "name": "stdout",
     "output_type": "stream",
     "text": [
      "\n",
      "      Epoch    GPU_mem   box_loss   cls_loss   dfl_loss  Instances       Size\n"
     ]
    },
    {
     "name": "stderr",
     "output_type": "stream",
     "text": [
      "     24/100      2.28G      2.145      4.041      2.055         11        640: 100%|██████████| 119/119 [00:14<00:00,  8.33it/s]\n",
      "                 Class     Images  Instances      Box(P          R      mAP50  mAP50-95): 100%|██████████| 15/15 [00:02<00:00,  6.94it/s]"
     ]
    },
    {
     "name": "stdout",
     "output_type": "stream",
     "text": [
      "                   all        473       1082      0.483      0.123      0.145      0.104\n"
     ]
    },
    {
     "name": "stderr",
     "output_type": "stream",
     "text": [
      "\n"
     ]
    },
    {
     "name": "stdout",
     "output_type": "stream",
     "text": [
      "\n",
      "      Epoch    GPU_mem   box_loss   cls_loss   dfl_loss  Instances       Size\n"
     ]
    },
    {
     "name": "stderr",
     "output_type": "stream",
     "text": [
      "     25/100      2.24G      2.154      4.073       2.07         15        640: 100%|██████████| 119/119 [00:13<00:00,  8.52it/s]\n",
      "                 Class     Images  Instances      Box(P          R      mAP50  mAP50-95): 100%|██████████| 15/15 [00:02<00:00,  7.22it/s]"
     ]
    },
    {
     "name": "stdout",
     "output_type": "stream",
     "text": [
      "                   all        473       1082      0.458      0.145      0.147      0.105\n"
     ]
    },
    {
     "name": "stderr",
     "output_type": "stream",
     "text": [
      "\n"
     ]
    },
    {
     "name": "stdout",
     "output_type": "stream",
     "text": [
      "\n",
      "      Epoch    GPU_mem   box_loss   cls_loss   dfl_loss  Instances       Size\n"
     ]
    },
    {
     "name": "stderr",
     "output_type": "stream",
     "text": [
      "     26/100      2.23G      2.146      4.018      2.053         13        640: 100%|██████████| 119/119 [00:14<00:00,  8.48it/s]\n",
      "                 Class     Images  Instances      Box(P          R      mAP50  mAP50-95): 100%|██████████| 15/15 [00:02<00:00,  7.36it/s]"
     ]
    },
    {
     "name": "stdout",
     "output_type": "stream",
     "text": [
      "                   all        473       1082      0.585      0.149       0.16      0.115\n"
     ]
    },
    {
     "name": "stderr",
     "output_type": "stream",
     "text": [
      "\n"
     ]
    },
    {
     "name": "stdout",
     "output_type": "stream",
     "text": [
      "\n",
      "      Epoch    GPU_mem   box_loss   cls_loss   dfl_loss  Instances       Size\n"
     ]
    },
    {
     "name": "stderr",
     "output_type": "stream",
     "text": [
      "     27/100      2.25G      2.147      4.034      2.071         13        640: 100%|██████████| 119/119 [00:13<00:00,  8.57it/s]\n",
      "                 Class     Images  Instances      Box(P          R      mAP50  mAP50-95): 100%|██████████| 15/15 [00:02<00:00,  7.26it/s]"
     ]
    },
    {
     "name": "stdout",
     "output_type": "stream",
     "text": [
      "                   all        473       1082      0.444      0.143      0.153      0.111\n"
     ]
    },
    {
     "name": "stderr",
     "output_type": "stream",
     "text": [
      "\n"
     ]
    },
    {
     "name": "stdout",
     "output_type": "stream",
     "text": [
      "\n",
      "      Epoch    GPU_mem   box_loss   cls_loss   dfl_loss  Instances       Size\n"
     ]
    },
    {
     "name": "stderr",
     "output_type": "stream",
     "text": [
      "     28/100      2.23G      2.112      3.974      2.027         13        640: 100%|██████████| 119/119 [00:14<00:00,  8.26it/s]\n",
      "                 Class     Images  Instances      Box(P          R      mAP50  mAP50-95): 100%|██████████| 15/15 [00:02<00:00,  6.77it/s]"
     ]
    },
    {
     "name": "stdout",
     "output_type": "stream",
     "text": [
      "                   all        473       1082      0.365      0.155      0.147      0.104\n"
     ]
    },
    {
     "name": "stderr",
     "output_type": "stream",
     "text": [
      "\n"
     ]
    },
    {
     "name": "stdout",
     "output_type": "stream",
     "text": [
      "\n",
      "      Epoch    GPU_mem   box_loss   cls_loss   dfl_loss  Instances       Size\n"
     ]
    },
    {
     "name": "stderr",
     "output_type": "stream",
     "text": [
      "     29/100      2.24G      2.127      3.975       2.06         16        640: 100%|██████████| 119/119 [00:14<00:00,  8.28it/s]\n",
      "                 Class     Images  Instances      Box(P          R      mAP50  mAP50-95): 100%|██████████| 15/15 [00:02<00:00,  7.09it/s]"
     ]
    },
    {
     "name": "stdout",
     "output_type": "stream",
     "text": [
      "                   all        473       1082      0.414      0.151      0.154      0.114\n"
     ]
    },
    {
     "name": "stderr",
     "output_type": "stream",
     "text": [
      "\n"
     ]
    },
    {
     "name": "stdout",
     "output_type": "stream",
     "text": [
      "\n",
      "      Epoch    GPU_mem   box_loss   cls_loss   dfl_loss  Instances       Size\n"
     ]
    },
    {
     "name": "stderr",
     "output_type": "stream",
     "text": [
      "     30/100      2.25G      2.128      3.995      2.048          8        640: 100%|██████████| 119/119 [00:14<00:00,  8.34it/s]\n",
      "                 Class     Images  Instances      Box(P          R      mAP50  mAP50-95): 100%|██████████| 15/15 [00:02<00:00,  6.85it/s]"
     ]
    },
    {
     "name": "stdout",
     "output_type": "stream",
     "text": [
      "                   all        473       1082      0.374      0.143      0.169      0.122\n"
     ]
    },
    {
     "name": "stderr",
     "output_type": "stream",
     "text": [
      "\n"
     ]
    },
    {
     "name": "stdout",
     "output_type": "stream",
     "text": [
      "\n",
      "      Epoch    GPU_mem   box_loss   cls_loss   dfl_loss  Instances       Size\n"
     ]
    },
    {
     "name": "stderr",
     "output_type": "stream",
     "text": [
      "     31/100      2.23G      2.123      3.974      2.054         29        640: 100%|██████████| 119/119 [00:14<00:00,  8.44it/s]\n",
      "                 Class     Images  Instances      Box(P          R      mAP50  mAP50-95): 100%|██████████| 15/15 [00:02<00:00,  7.08it/s]"
     ]
    },
    {
     "name": "stdout",
     "output_type": "stream",
     "text": [
      "                   all        473       1082      0.497      0.155      0.163       0.12\n"
     ]
    },
    {
     "name": "stderr",
     "output_type": "stream",
     "text": [
      "\n"
     ]
    },
    {
     "name": "stdout",
     "output_type": "stream",
     "text": [
      "\n",
      "      Epoch    GPU_mem   box_loss   cls_loss   dfl_loss  Instances       Size\n"
     ]
    },
    {
     "name": "stderr",
     "output_type": "stream",
     "text": [
      "     32/100      2.24G      2.075      3.926      2.017          9        640: 100%|██████████| 119/119 [00:14<00:00,  8.37it/s]\n",
      "                 Class     Images  Instances      Box(P          R      mAP50  mAP50-95): 100%|██████████| 15/15 [00:02<00:00,  6.87it/s]"
     ]
    },
    {
     "name": "stdout",
     "output_type": "stream",
     "text": [
      "                   all        473       1082      0.408      0.126      0.125     0.0915\n"
     ]
    },
    {
     "name": "stderr",
     "output_type": "stream",
     "text": [
      "\n"
     ]
    },
    {
     "name": "stdout",
     "output_type": "stream",
     "text": [
      "\n",
      "      Epoch    GPU_mem   box_loss   cls_loss   dfl_loss  Instances       Size\n"
     ]
    },
    {
     "name": "stderr",
     "output_type": "stream",
     "text": [
      "     33/100      2.23G      2.084      3.908      2.011         10        640: 100%|██████████| 119/119 [00:14<00:00,  8.45it/s]\n",
      "                 Class     Images  Instances      Box(P          R      mAP50  mAP50-95): 100%|██████████| 15/15 [00:02<00:00,  6.92it/s]"
     ]
    },
    {
     "name": "stdout",
     "output_type": "stream",
     "text": [
      "                   all        473       1082       0.37      0.145      0.158      0.114\n"
     ]
    },
    {
     "name": "stderr",
     "output_type": "stream",
     "text": [
      "\n"
     ]
    },
    {
     "name": "stdout",
     "output_type": "stream",
     "text": [
      "\n",
      "      Epoch    GPU_mem   box_loss   cls_loss   dfl_loss  Instances       Size\n"
     ]
    },
    {
     "name": "stderr",
     "output_type": "stream",
     "text": [
      "     34/100      2.24G      2.122      3.953      2.048         16        640: 100%|██████████| 119/119 [00:14<00:00,  8.46it/s]\n",
      "                 Class     Images  Instances      Box(P          R      mAP50  mAP50-95): 100%|██████████| 15/15 [00:02<00:00,  6.56it/s]"
     ]
    },
    {
     "name": "stdout",
     "output_type": "stream",
     "text": [
      "                   all        473       1082       0.35      0.148      0.149      0.111\n"
     ]
    },
    {
     "name": "stderr",
     "output_type": "stream",
     "text": [
      "\n"
     ]
    },
    {
     "name": "stdout",
     "output_type": "stream",
     "text": [
      "\n",
      "      Epoch    GPU_mem   box_loss   cls_loss   dfl_loss  Instances       Size\n"
     ]
    },
    {
     "name": "stderr",
     "output_type": "stream",
     "text": [
      "     35/100      2.25G      2.092      3.885      2.024         12        640: 100%|██████████| 119/119 [00:14<00:00,  8.42it/s]\n",
      "                 Class     Images  Instances      Box(P          R      mAP50  mAP50-95): 100%|██████████| 15/15 [00:02<00:00,  6.76it/s]"
     ]
    },
    {
     "name": "stdout",
     "output_type": "stream",
     "text": [
      "                   all        473       1082      0.375      0.178      0.173       0.13\n"
     ]
    },
    {
     "name": "stderr",
     "output_type": "stream",
     "text": [
      "\n"
     ]
    },
    {
     "name": "stdout",
     "output_type": "stream",
     "text": [
      "\n",
      "      Epoch    GPU_mem   box_loss   cls_loss   dfl_loss  Instances       Size\n"
     ]
    },
    {
     "name": "stderr",
     "output_type": "stream",
     "text": [
      "     36/100      2.25G      2.067      3.829      2.006         12        640: 100%|██████████| 119/119 [00:14<00:00,  8.05it/s]\n",
      "                 Class     Images  Instances      Box(P          R      mAP50  mAP50-95): 100%|██████████| 15/15 [00:02<00:00,  6.99it/s]"
     ]
    },
    {
     "name": "stdout",
     "output_type": "stream",
     "text": [
      "                   all        473       1082      0.366      0.149      0.159      0.116\n"
     ]
    },
    {
     "name": "stderr",
     "output_type": "stream",
     "text": [
      "\n"
     ]
    },
    {
     "name": "stdout",
     "output_type": "stream",
     "text": [
      "\n",
      "      Epoch    GPU_mem   box_loss   cls_loss   dfl_loss  Instances       Size\n"
     ]
    },
    {
     "name": "stderr",
     "output_type": "stream",
     "text": [
      "     37/100      2.22G      2.049      3.835      2.001         12        640: 100%|██████████| 119/119 [00:14<00:00,  8.34it/s]\n",
      "                 Class     Images  Instances      Box(P          R      mAP50  mAP50-95): 100%|██████████| 15/15 [00:02<00:00,  6.86it/s]"
     ]
    },
    {
     "name": "stdout",
     "output_type": "stream",
     "text": [
      "                   all        473       1082      0.331      0.156      0.157      0.115\n"
     ]
    },
    {
     "name": "stderr",
     "output_type": "stream",
     "text": [
      "\n"
     ]
    },
    {
     "name": "stdout",
     "output_type": "stream",
     "text": [
      "\n",
      "      Epoch    GPU_mem   box_loss   cls_loss   dfl_loss  Instances       Size\n"
     ]
    },
    {
     "name": "stderr",
     "output_type": "stream",
     "text": [
      "     38/100      2.24G      2.065       3.82      2.003         14        640: 100%|██████████| 119/119 [00:14<00:00,  8.33it/s]\n",
      "                 Class     Images  Instances      Box(P          R      mAP50  mAP50-95): 100%|██████████| 15/15 [00:02<00:00,  7.15it/s]"
     ]
    },
    {
     "name": "stdout",
     "output_type": "stream",
     "text": [
      "                   all        473       1082      0.369      0.188      0.152      0.111\n"
     ]
    },
    {
     "name": "stderr",
     "output_type": "stream",
     "text": [
      "\n"
     ]
    },
    {
     "name": "stdout",
     "output_type": "stream",
     "text": [
      "\n",
      "      Epoch    GPU_mem   box_loss   cls_loss   dfl_loss  Instances       Size\n"
     ]
    },
    {
     "name": "stderr",
     "output_type": "stream",
     "text": [
      "     39/100      2.24G      2.049      3.772      2.002         17        640: 100%|██████████| 119/119 [00:14<00:00,  8.40it/s]\n",
      "                 Class     Images  Instances      Box(P          R      mAP50  mAP50-95): 100%|██████████| 15/15 [00:02<00:00,  6.88it/s]"
     ]
    },
    {
     "name": "stdout",
     "output_type": "stream",
     "text": [
      "                   all        473       1082      0.262      0.151      0.132     0.0949\n"
     ]
    },
    {
     "name": "stderr",
     "output_type": "stream",
     "text": [
      "\n"
     ]
    },
    {
     "name": "stdout",
     "output_type": "stream",
     "text": [
      "\n",
      "      Epoch    GPU_mem   box_loss   cls_loss   dfl_loss  Instances       Size\n"
     ]
    },
    {
     "name": "stderr",
     "output_type": "stream",
     "text": [
      "     40/100      2.25G      2.044      3.806      1.989          8        640: 100%|██████████| 119/119 [00:13<00:00,  8.53it/s]\n",
      "                 Class     Images  Instances      Box(P          R      mAP50  mAP50-95): 100%|██████████| 15/15 [00:02<00:00,  7.05it/s]"
     ]
    },
    {
     "name": "stdout",
     "output_type": "stream",
     "text": [
      "                   all        473       1082      0.446       0.19      0.191       0.14\n"
     ]
    },
    {
     "name": "stderr",
     "output_type": "stream",
     "text": [
      "\n"
     ]
    },
    {
     "name": "stdout",
     "output_type": "stream",
     "text": [
      "\n",
      "      Epoch    GPU_mem   box_loss   cls_loss   dfl_loss  Instances       Size\n"
     ]
    },
    {
     "name": "stderr",
     "output_type": "stream",
     "text": [
      "     41/100      2.24G      2.061      3.802      2.017          5        640: 100%|██████████| 119/119 [00:13<00:00,  8.52it/s]\n",
      "                 Class     Images  Instances      Box(P          R      mAP50  mAP50-95): 100%|██████████| 15/15 [00:02<00:00,  7.13it/s]"
     ]
    },
    {
     "name": "stdout",
     "output_type": "stream",
     "text": [
      "                   all        473       1082       0.44       0.16      0.182      0.137\n"
     ]
    },
    {
     "name": "stderr",
     "output_type": "stream",
     "text": [
      "\n"
     ]
    },
    {
     "name": "stdout",
     "output_type": "stream",
     "text": [
      "\n",
      "      Epoch    GPU_mem   box_loss   cls_loss   dfl_loss  Instances       Size\n"
     ]
    },
    {
     "name": "stderr",
     "output_type": "stream",
     "text": [
      "     42/100      2.23G      2.055      3.832      2.023          9        640: 100%|██████████| 119/119 [00:13<00:00,  8.54it/s]\n",
      "                 Class     Images  Instances      Box(P          R      mAP50  mAP50-95): 100%|██████████| 15/15 [00:02<00:00,  6.87it/s]"
     ]
    },
    {
     "name": "stdout",
     "output_type": "stream",
     "text": [
      "                   all        473       1082      0.388      0.168       0.17      0.125\n"
     ]
    },
    {
     "name": "stderr",
     "output_type": "stream",
     "text": [
      "\n"
     ]
    },
    {
     "name": "stdout",
     "output_type": "stream",
     "text": [
      "\n",
      "      Epoch    GPU_mem   box_loss   cls_loss   dfl_loss  Instances       Size\n"
     ]
    },
    {
     "name": "stderr",
     "output_type": "stream",
     "text": [
      "     43/100      2.25G      1.996      3.722      1.961          9        640: 100%|██████████| 119/119 [00:13<00:00,  8.63it/s]\n",
      "                 Class     Images  Instances      Box(P          R      mAP50  mAP50-95): 100%|██████████| 15/15 [00:02<00:00,  6.61it/s]"
     ]
    },
    {
     "name": "stdout",
     "output_type": "stream",
     "text": [
      "                   all        473       1082      0.368      0.174      0.165      0.117\n"
     ]
    },
    {
     "name": "stderr",
     "output_type": "stream",
     "text": [
      "\n"
     ]
    },
    {
     "name": "stdout",
     "output_type": "stream",
     "text": [
      "\n",
      "      Epoch    GPU_mem   box_loss   cls_loss   dfl_loss  Instances       Size\n"
     ]
    },
    {
     "name": "stderr",
     "output_type": "stream",
     "text": [
      "     44/100      2.23G      2.015       3.76      1.984         18        640: 100%|██████████| 119/119 [00:14<00:00,  8.24it/s]\n",
      "                 Class     Images  Instances      Box(P          R      mAP50  mAP50-95): 100%|██████████| 15/15 [00:02<00:00,  6.66it/s]"
     ]
    },
    {
     "name": "stdout",
     "output_type": "stream",
     "text": [
      "                   all        473       1082      0.418      0.158      0.173       0.12\n"
     ]
    },
    {
     "name": "stderr",
     "output_type": "stream",
     "text": [
      "\n"
     ]
    },
    {
     "name": "stdout",
     "output_type": "stream",
     "text": [
      "\n",
      "      Epoch    GPU_mem   box_loss   cls_loss   dfl_loss  Instances       Size\n"
     ]
    },
    {
     "name": "stderr",
     "output_type": "stream",
     "text": [
      "     45/100      2.26G      1.991      3.652      1.964         18        640: 100%|██████████| 119/119 [00:14<00:00,  8.44it/s]\n",
      "                 Class     Images  Instances      Box(P          R      mAP50  mAP50-95): 100%|██████████| 15/15 [00:02<00:00,  6.87it/s]"
     ]
    },
    {
     "name": "stdout",
     "output_type": "stream",
     "text": [
      "                   all        473       1082      0.325      0.169      0.169      0.117\n"
     ]
    },
    {
     "name": "stderr",
     "output_type": "stream",
     "text": [
      "\n"
     ]
    },
    {
     "name": "stdout",
     "output_type": "stream",
     "text": [
      "\n",
      "      Epoch    GPU_mem   box_loss   cls_loss   dfl_loss  Instances       Size\n"
     ]
    },
    {
     "name": "stderr",
     "output_type": "stream",
     "text": [
      "     46/100      2.24G      2.052      3.794      2.011          6        640: 100%|██████████| 119/119 [00:14<00:00,  8.39it/s]\n",
      "                 Class     Images  Instances      Box(P          R      mAP50  mAP50-95): 100%|██████████| 15/15 [00:02<00:00,  6.89it/s]"
     ]
    },
    {
     "name": "stdout",
     "output_type": "stream",
     "text": [
      "                   all        473       1082      0.392      0.183      0.174      0.124\n"
     ]
    },
    {
     "name": "stderr",
     "output_type": "stream",
     "text": [
      "\n"
     ]
    },
    {
     "name": "stdout",
     "output_type": "stream",
     "text": [
      "\n",
      "      Epoch    GPU_mem   box_loss   cls_loss   dfl_loss  Instances       Size\n"
     ]
    },
    {
     "name": "stderr",
     "output_type": "stream",
     "text": [
      "     47/100      2.24G      1.986      3.707      1.969         13        640: 100%|██████████| 119/119 [00:14<00:00,  8.40it/s]\n",
      "                 Class     Images  Instances      Box(P          R      mAP50  mAP50-95): 100%|██████████| 15/15 [00:02<00:00,  6.77it/s]"
     ]
    },
    {
     "name": "stdout",
     "output_type": "stream",
     "text": [
      "                   all        473       1082      0.389      0.175      0.172      0.121\n"
     ]
    },
    {
     "name": "stderr",
     "output_type": "stream",
     "text": [
      "\n"
     ]
    },
    {
     "name": "stdout",
     "output_type": "stream",
     "text": [
      "\n",
      "      Epoch    GPU_mem   box_loss   cls_loss   dfl_loss  Instances       Size\n"
     ]
    },
    {
     "name": "stderr",
     "output_type": "stream",
     "text": [
      "     48/100      2.25G       1.99      3.728      1.967         17        640: 100%|██████████| 119/119 [00:13<00:00,  8.51it/s]\n",
      "                 Class     Images  Instances      Box(P          R      mAP50  mAP50-95): 100%|██████████| 15/15 [00:02<00:00,  7.07it/s]"
     ]
    },
    {
     "name": "stdout",
     "output_type": "stream",
     "text": [
      "                   all        473       1082      0.382      0.193      0.175      0.124\n"
     ]
    },
    {
     "name": "stderr",
     "output_type": "stream",
     "text": [
      "\n"
     ]
    },
    {
     "name": "stdout",
     "output_type": "stream",
     "text": [
      "\n",
      "      Epoch    GPU_mem   box_loss   cls_loss   dfl_loss  Instances       Size\n"
     ]
    },
    {
     "name": "stderr",
     "output_type": "stream",
     "text": [
      "     49/100      2.22G      2.021      3.723      1.978         12        640: 100%|██████████| 119/119 [00:14<00:00,  8.40it/s]\n",
      "                 Class     Images  Instances      Box(P          R      mAP50  mAP50-95): 100%|██████████| 15/15 [00:02<00:00,  6.81it/s]"
     ]
    },
    {
     "name": "stdout",
     "output_type": "stream",
     "text": [
      "                   all        473       1082      0.441      0.183       0.19      0.138\n"
     ]
    },
    {
     "name": "stderr",
     "output_type": "stream",
     "text": [
      "\n"
     ]
    },
    {
     "name": "stdout",
     "output_type": "stream",
     "text": [
      "\n",
      "      Epoch    GPU_mem   box_loss   cls_loss   dfl_loss  Instances       Size\n"
     ]
    },
    {
     "name": "stderr",
     "output_type": "stream",
     "text": [
      "     50/100      2.24G       1.98      3.666      1.956         24        640: 100%|██████████| 119/119 [00:14<00:00,  8.41it/s]\n",
      "                 Class     Images  Instances      Box(P          R      mAP50  mAP50-95): 100%|██████████| 15/15 [00:02<00:00,  6.76it/s]"
     ]
    },
    {
     "name": "stdout",
     "output_type": "stream",
     "text": [
      "                   all        473       1082      0.396       0.19      0.187      0.135\n"
     ]
    },
    {
     "name": "stderr",
     "output_type": "stream",
     "text": [
      "\n"
     ]
    },
    {
     "name": "stdout",
     "output_type": "stream",
     "text": [
      "\n",
      "      Epoch    GPU_mem   box_loss   cls_loss   dfl_loss  Instances       Size\n"
     ]
    },
    {
     "name": "stderr",
     "output_type": "stream",
     "text": [
      "     51/100      2.23G      1.996       3.71      1.972          8        640: 100%|██████████| 119/119 [00:14<00:00,  8.33it/s]\n",
      "                 Class     Images  Instances      Box(P          R      mAP50  mAP50-95): 100%|██████████| 15/15 [00:02<00:00,  6.80it/s]"
     ]
    },
    {
     "name": "stdout",
     "output_type": "stream",
     "text": [
      "                   all        473       1082       0.37      0.176      0.173      0.125\n"
     ]
    },
    {
     "name": "stderr",
     "output_type": "stream",
     "text": [
      "\n"
     ]
    },
    {
     "name": "stdout",
     "output_type": "stream",
     "text": [
      "\n",
      "      Epoch    GPU_mem   box_loss   cls_loss   dfl_loss  Instances       Size\n"
     ]
    },
    {
     "name": "stderr",
     "output_type": "stream",
     "text": [
      "     52/100      2.25G      1.967      3.623      1.943         10        640: 100%|██████████| 119/119 [00:13<00:00,  8.56it/s]\n",
      "                 Class     Images  Instances      Box(P          R      mAP50  mAP50-95): 100%|██████████| 15/15 [00:02<00:00,  7.03it/s]"
     ]
    },
    {
     "name": "stdout",
     "output_type": "stream",
     "text": [
      "                   all        473       1082      0.423       0.22      0.221      0.162\n"
     ]
    },
    {
     "name": "stderr",
     "output_type": "stream",
     "text": [
      "\n"
     ]
    },
    {
     "name": "stdout",
     "output_type": "stream",
     "text": [
      "\n",
      "      Epoch    GPU_mem   box_loss   cls_loss   dfl_loss  Instances       Size\n"
     ]
    },
    {
     "name": "stderr",
     "output_type": "stream",
     "text": [
      "     53/100      2.22G      1.984      3.672      1.955         16        640: 100%|██████████| 119/119 [00:13<00:00,  8.56it/s]\n",
      "                 Class     Images  Instances      Box(P          R      mAP50  mAP50-95): 100%|██████████| 15/15 [00:02<00:00,  7.04it/s]"
     ]
    },
    {
     "name": "stdout",
     "output_type": "stream",
     "text": [
      "                   all        473       1082      0.357      0.202      0.192       0.14\n"
     ]
    },
    {
     "name": "stderr",
     "output_type": "stream",
     "text": [
      "\n"
     ]
    },
    {
     "name": "stdout",
     "output_type": "stream",
     "text": [
      "\n",
      "      Epoch    GPU_mem   box_loss   cls_loss   dfl_loss  Instances       Size\n"
     ]
    },
    {
     "name": "stderr",
     "output_type": "stream",
     "text": [
      "     54/100      2.26G      1.956      3.632      1.944         19        640: 100%|██████████| 119/119 [00:14<00:00,  8.34it/s]\n",
      "                 Class     Images  Instances      Box(P          R      mAP50  mAP50-95): 100%|██████████| 15/15 [00:02<00:00,  6.19it/s]"
     ]
    },
    {
     "name": "stdout",
     "output_type": "stream",
     "text": [
      "                   all        473       1082      0.425      0.189       0.18      0.133\n"
     ]
    },
    {
     "name": "stderr",
     "output_type": "stream",
     "text": [
      "\n"
     ]
    },
    {
     "name": "stdout",
     "output_type": "stream",
     "text": [
      "\n",
      "      Epoch    GPU_mem   box_loss   cls_loss   dfl_loss  Instances       Size\n"
     ]
    },
    {
     "name": "stderr",
     "output_type": "stream",
     "text": [
      "     55/100      2.25G      1.957      3.622       1.95         15        640: 100%|██████████| 119/119 [00:14<00:00,  8.20it/s]\n",
      "                 Class     Images  Instances      Box(P          R      mAP50  mAP50-95): 100%|██████████| 15/15 [00:02<00:00,  6.64it/s]"
     ]
    },
    {
     "name": "stdout",
     "output_type": "stream",
     "text": [
      "                   all        473       1082      0.353      0.194      0.183      0.136\n"
     ]
    },
    {
     "name": "stderr",
     "output_type": "stream",
     "text": [
      "\n"
     ]
    },
    {
     "name": "stdout",
     "output_type": "stream",
     "text": [
      "\n",
      "      Epoch    GPU_mem   box_loss   cls_loss   dfl_loss  Instances       Size\n"
     ]
    },
    {
     "name": "stderr",
     "output_type": "stream",
     "text": [
      "     56/100      2.25G      1.969      3.623      1.946          8        640: 100%|██████████| 119/119 [00:14<00:00,  8.40it/s]\n",
      "                 Class     Images  Instances      Box(P          R      mAP50  mAP50-95): 100%|██████████| 15/15 [00:02<00:00,  6.53it/s]"
     ]
    },
    {
     "name": "stdout",
     "output_type": "stream",
     "text": [
      "                   all        473       1082      0.324      0.169      0.172      0.119\n"
     ]
    },
    {
     "name": "stderr",
     "output_type": "stream",
     "text": [
      "\n"
     ]
    },
    {
     "name": "stdout",
     "output_type": "stream",
     "text": [
      "\n",
      "      Epoch    GPU_mem   box_loss   cls_loss   dfl_loss  Instances       Size\n"
     ]
    },
    {
     "name": "stderr",
     "output_type": "stream",
     "text": [
      "     57/100      2.22G      1.964      3.581      1.924         13        640: 100%|██████████| 119/119 [00:14<00:00,  8.39it/s]\n",
      "                 Class     Images  Instances      Box(P          R      mAP50  mAP50-95): 100%|██████████| 15/15 [00:02<00:00,  6.54it/s]"
     ]
    },
    {
     "name": "stdout",
     "output_type": "stream",
     "text": [
      "                   all        473       1082      0.458      0.194      0.186      0.133\n"
     ]
    },
    {
     "name": "stderr",
     "output_type": "stream",
     "text": [
      "\n"
     ]
    },
    {
     "name": "stdout",
     "output_type": "stream",
     "text": [
      "\n",
      "      Epoch    GPU_mem   box_loss   cls_loss   dfl_loss  Instances       Size\n"
     ]
    },
    {
     "name": "stderr",
     "output_type": "stream",
     "text": [
      "     58/100      2.23G       1.95      3.586      1.925         10        640: 100%|██████████| 119/119 [00:13<00:00,  8.59it/s]\n",
      "                 Class     Images  Instances      Box(P          R      mAP50  mAP50-95): 100%|██████████| 15/15 [00:02<00:00,  7.04it/s]"
     ]
    },
    {
     "name": "stdout",
     "output_type": "stream",
     "text": [
      "                   all        473       1082      0.435      0.197      0.206      0.145\n"
     ]
    },
    {
     "name": "stderr",
     "output_type": "stream",
     "text": [
      "\n"
     ]
    },
    {
     "name": "stdout",
     "output_type": "stream",
     "text": [
      "\n",
      "      Epoch    GPU_mem   box_loss   cls_loss   dfl_loss  Instances       Size\n"
     ]
    },
    {
     "name": "stderr",
     "output_type": "stream",
     "text": [
      "     59/100      2.23G      1.954      3.636      1.945          7        640: 100%|██████████| 119/119 [00:14<00:00,  8.44it/s]\n",
      "                 Class     Images  Instances      Box(P          R      mAP50  mAP50-95): 100%|██████████| 15/15 [00:02<00:00,  6.53it/s]"
     ]
    },
    {
     "name": "stdout",
     "output_type": "stream",
     "text": [
      "                   all        473       1082      0.373      0.175      0.166      0.116\n"
     ]
    },
    {
     "name": "stderr",
     "output_type": "stream",
     "text": [
      "\n"
     ]
    },
    {
     "name": "stdout",
     "output_type": "stream",
     "text": [
      "\n",
      "      Epoch    GPU_mem   box_loss   cls_loss   dfl_loss  Instances       Size\n"
     ]
    },
    {
     "name": "stderr",
     "output_type": "stream",
     "text": [
      "     60/100      2.22G       1.97      3.608      1.942         34        640: 100%|██████████| 119/119 [00:14<00:00,  8.45it/s]\n",
      "                 Class     Images  Instances      Box(P          R      mAP50  mAP50-95): 100%|██████████| 15/15 [00:02<00:00,  6.65it/s]\n"
     ]
    },
    {
     "name": "stdout",
     "output_type": "stream",
     "text": [
      "                   all        473       1082      0.358      0.168      0.156      0.113\n",
      "\n",
      "      Epoch    GPU_mem   box_loss   cls_loss   dfl_loss  Instances       Size\n"
     ]
    },
    {
     "name": "stderr",
     "output_type": "stream",
     "text": [
      "     61/100      2.24G       1.95      3.584      1.942         15        640: 100%|██████████| 119/119 [00:14<00:00,  8.49it/s]\n",
      "                 Class     Images  Instances      Box(P          R      mAP50  mAP50-95): 100%|██████████| 15/15 [00:02<00:00,  6.79it/s]"
     ]
    },
    {
     "name": "stdout",
     "output_type": "stream",
     "text": [
      "                   all        473       1082      0.378      0.158      0.153      0.105\n"
     ]
    },
    {
     "name": "stderr",
     "output_type": "stream",
     "text": [
      "\n"
     ]
    },
    {
     "name": "stdout",
     "output_type": "stream",
     "text": [
      "\n",
      "      Epoch    GPU_mem   box_loss   cls_loss   dfl_loss  Instances       Size\n"
     ]
    },
    {
     "name": "stderr",
     "output_type": "stream",
     "text": [
      "     62/100      2.23G       1.98      3.599      1.948         10        640: 100%|██████████| 119/119 [00:13<00:00,  8.51it/s]\n",
      "                 Class     Images  Instances      Box(P          R      mAP50  mAP50-95): 100%|██████████| 15/15 [00:02<00:00,  6.93it/s]"
     ]
    },
    {
     "name": "stdout",
     "output_type": "stream",
     "text": [
      "                   all        473       1082      0.382       0.18      0.188      0.138\n"
     ]
    },
    {
     "name": "stderr",
     "output_type": "stream",
     "text": [
      "\n"
     ]
    },
    {
     "name": "stdout",
     "output_type": "stream",
     "text": [
      "\n",
      "      Epoch    GPU_mem   box_loss   cls_loss   dfl_loss  Instances       Size\n"
     ]
    },
    {
     "name": "stderr",
     "output_type": "stream",
     "text": [
      "     63/100      2.25G      1.951      3.582      1.944         16        640: 100%|██████████| 119/119 [00:14<00:00,  8.44it/s]\n",
      "                 Class     Images  Instances      Box(P          R      mAP50  mAP50-95): 100%|██████████| 15/15 [00:02<00:00,  6.70it/s]"
     ]
    },
    {
     "name": "stdout",
     "output_type": "stream",
     "text": [
      "                   all        473       1082      0.382       0.17      0.164      0.114\n"
     ]
    },
    {
     "name": "stderr",
     "output_type": "stream",
     "text": [
      "\n"
     ]
    },
    {
     "name": "stdout",
     "output_type": "stream",
     "text": [
      "\n",
      "      Epoch    GPU_mem   box_loss   cls_loss   dfl_loss  Instances       Size\n"
     ]
    },
    {
     "name": "stderr",
     "output_type": "stream",
     "text": [
      "     64/100      2.25G       1.93      3.511      1.922         14        640: 100%|██████████| 119/119 [00:14<00:00,  8.31it/s]\n",
      "                 Class     Images  Instances      Box(P          R      mAP50  mAP50-95): 100%|██████████| 15/15 [00:02<00:00,  6.81it/s]"
     ]
    },
    {
     "name": "stdout",
     "output_type": "stream",
     "text": [
      "                   all        473       1082      0.359      0.185      0.163      0.118\n"
     ]
    },
    {
     "name": "stderr",
     "output_type": "stream",
     "text": [
      "\n"
     ]
    },
    {
     "name": "stdout",
     "output_type": "stream",
     "text": [
      "\n",
      "      Epoch    GPU_mem   box_loss   cls_loss   dfl_loss  Instances       Size\n"
     ]
    },
    {
     "name": "stderr",
     "output_type": "stream",
     "text": [
      "     65/100      2.21G      1.936      3.551      1.925         19        640: 100%|██████████| 119/119 [00:13<00:00,  8.50it/s]\n",
      "                 Class     Images  Instances      Box(P          R      mAP50  mAP50-95): 100%|██████████| 15/15 [00:02<00:00,  6.67it/s]"
     ]
    },
    {
     "name": "stdout",
     "output_type": "stream",
     "text": [
      "                   all        473       1082      0.453      0.185      0.185      0.131\n"
     ]
    },
    {
     "name": "stderr",
     "output_type": "stream",
     "text": [
      "\n"
     ]
    },
    {
     "name": "stdout",
     "output_type": "stream",
     "text": [
      "\n",
      "      Epoch    GPU_mem   box_loss   cls_loss   dfl_loss  Instances       Size\n"
     ]
    },
    {
     "name": "stderr",
     "output_type": "stream",
     "text": [
      "     66/100      2.24G      1.905      3.497      1.898         10        640: 100%|██████████| 119/119 [00:14<00:00,  8.19it/s]\n",
      "                 Class     Images  Instances      Box(P          R      mAP50  mAP50-95): 100%|██████████| 15/15 [00:02<00:00,  7.14it/s]"
     ]
    },
    {
     "name": "stdout",
     "output_type": "stream",
     "text": [
      "                   all        473       1082      0.368      0.202      0.178      0.125\n"
     ]
    },
    {
     "name": "stderr",
     "output_type": "stream",
     "text": [
      "\n"
     ]
    },
    {
     "name": "stdout",
     "output_type": "stream",
     "text": [
      "\n",
      "      Epoch    GPU_mem   box_loss   cls_loss   dfl_loss  Instances       Size\n"
     ]
    },
    {
     "name": "stderr",
     "output_type": "stream",
     "text": [
      "     67/100      2.29G      1.915      3.538      1.912         12        640: 100%|██████████| 119/119 [00:14<00:00,  8.47it/s]\n",
      "                 Class     Images  Instances      Box(P          R      mAP50  mAP50-95): 100%|██████████| 15/15 [00:02<00:00,  6.94it/s]"
     ]
    },
    {
     "name": "stdout",
     "output_type": "stream",
     "text": [
      "                   all        473       1082      0.381      0.206      0.196      0.144\n"
     ]
    },
    {
     "name": "stderr",
     "output_type": "stream",
     "text": [
      "\n"
     ]
    },
    {
     "name": "stdout",
     "output_type": "stream",
     "text": [
      "\n",
      "      Epoch    GPU_mem   box_loss   cls_loss   dfl_loss  Instances       Size\n"
     ]
    },
    {
     "name": "stderr",
     "output_type": "stream",
     "text": [
      "     68/100      2.25G      1.938      3.539      1.934         13        640: 100%|██████████| 119/119 [00:14<00:00,  8.47it/s]\n",
      "                 Class     Images  Instances      Box(P          R      mAP50  mAP50-95): 100%|██████████| 15/15 [00:02<00:00,  7.00it/s]"
     ]
    },
    {
     "name": "stdout",
     "output_type": "stream",
     "text": [
      "                   all        473       1082      0.331      0.175      0.166       0.12\n"
     ]
    },
    {
     "name": "stderr",
     "output_type": "stream",
     "text": [
      "\n"
     ]
    },
    {
     "name": "stdout",
     "output_type": "stream",
     "text": [
      "\n",
      "      Epoch    GPU_mem   box_loss   cls_loss   dfl_loss  Instances       Size\n"
     ]
    },
    {
     "name": "stderr",
     "output_type": "stream",
     "text": [
      "     69/100      2.21G      1.908      3.528      1.917          6        640: 100%|██████████| 119/119 [00:14<00:00,  8.50it/s]\n",
      "                 Class     Images  Instances      Box(P          R      mAP50  mAP50-95): 100%|██████████| 15/15 [00:02<00:00,  7.24it/s]"
     ]
    },
    {
     "name": "stdout",
     "output_type": "stream",
     "text": [
      "                   all        473       1082      0.405      0.186      0.179      0.129\n"
     ]
    },
    {
     "name": "stderr",
     "output_type": "stream",
     "text": [
      "\n"
     ]
    },
    {
     "name": "stdout",
     "output_type": "stream",
     "text": [
      "\n",
      "      Epoch    GPU_mem   box_loss   cls_loss   dfl_loss  Instances       Size\n"
     ]
    },
    {
     "name": "stderr",
     "output_type": "stream",
     "text": [
      "     70/100      2.25G      1.935      3.507      1.935          7        640: 100%|██████████| 119/119 [00:14<00:00,  8.42it/s]\n",
      "                 Class     Images  Instances      Box(P          R      mAP50  mAP50-95): 100%|██████████| 15/15 [00:02<00:00,  6.93it/s]"
     ]
    },
    {
     "name": "stdout",
     "output_type": "stream",
     "text": [
      "                   all        473       1082      0.368      0.194      0.185      0.132\n"
     ]
    },
    {
     "name": "stderr",
     "output_type": "stream",
     "text": [
      "\n"
     ]
    },
    {
     "name": "stdout",
     "output_type": "stream",
     "text": [
      "\n",
      "      Epoch    GPU_mem   box_loss   cls_loss   dfl_loss  Instances       Size\n"
     ]
    },
    {
     "name": "stderr",
     "output_type": "stream",
     "text": [
      "     71/100      2.25G      1.921      3.475      1.903         14        640: 100%|██████████| 119/119 [00:14<00:00,  8.46it/s]\n",
      "                 Class     Images  Instances      Box(P          R      mAP50  mAP50-95): 100%|██████████| 15/15 [00:02<00:00,  6.88it/s]"
     ]
    },
    {
     "name": "stdout",
     "output_type": "stream",
     "text": [
      "                   all        473       1082      0.317      0.188      0.175      0.126\n"
     ]
    },
    {
     "name": "stderr",
     "output_type": "stream",
     "text": [
      "\n"
     ]
    },
    {
     "name": "stdout",
     "output_type": "stream",
     "text": [
      "\n",
      "      Epoch    GPU_mem   box_loss   cls_loss   dfl_loss  Instances       Size\n"
     ]
    },
    {
     "name": "stderr",
     "output_type": "stream",
     "text": [
      "     72/100      2.24G        1.9      3.448      1.898          4        640: 100%|██████████| 119/119 [00:14<00:00,  8.43it/s]\n",
      "                 Class     Images  Instances      Box(P          R      mAP50  mAP50-95): 100%|██████████| 15/15 [00:02<00:00,  7.00it/s]"
     ]
    },
    {
     "name": "stdout",
     "output_type": "stream",
     "text": [
      "                   all        473       1082       0.42      0.193      0.183      0.136\n"
     ]
    },
    {
     "name": "stderr",
     "output_type": "stream",
     "text": [
      "\n"
     ]
    },
    {
     "name": "stdout",
     "output_type": "stream",
     "text": [
      "\n",
      "      Epoch    GPU_mem   box_loss   cls_loss   dfl_loss  Instances       Size\n"
     ]
    },
    {
     "name": "stderr",
     "output_type": "stream",
     "text": [
      "     73/100      2.24G       1.87      3.403      1.873         14        640: 100%|██████████| 119/119 [00:14<00:00,  8.42it/s]\n",
      "                 Class     Images  Instances      Box(P          R      mAP50  mAP50-95): 100%|██████████| 15/15 [00:02<00:00,  6.89it/s]"
     ]
    },
    {
     "name": "stdout",
     "output_type": "stream",
     "text": [
      "                   all        473       1082      0.386      0.167      0.167      0.122\n"
     ]
    },
    {
     "name": "stderr",
     "output_type": "stream",
     "text": [
      "\n"
     ]
    },
    {
     "name": "stdout",
     "output_type": "stream",
     "text": [
      "\n",
      "      Epoch    GPU_mem   box_loss   cls_loss   dfl_loss  Instances       Size\n"
     ]
    },
    {
     "name": "stderr",
     "output_type": "stream",
     "text": [
      "     74/100      2.29G      1.899      3.446      1.906          5        640: 100%|██████████| 119/119 [00:14<00:00,  8.48it/s]\n",
      "                 Class     Images  Instances      Box(P          R      mAP50  mAP50-95): 100%|██████████| 15/15 [00:02<00:00,  7.06it/s]"
     ]
    },
    {
     "name": "stdout",
     "output_type": "stream",
     "text": [
      "                   all        473       1082      0.427      0.153       0.16      0.115\n"
     ]
    },
    {
     "name": "stderr",
     "output_type": "stream",
     "text": [
      "\n"
     ]
    },
    {
     "name": "stdout",
     "output_type": "stream",
     "text": [
      "\n",
      "      Epoch    GPU_mem   box_loss   cls_loss   dfl_loss  Instances       Size\n"
     ]
    },
    {
     "name": "stderr",
     "output_type": "stream",
     "text": [
      "     75/100      2.22G      1.892      3.406      1.888         18        640: 100%|██████████| 119/119 [00:13<00:00,  8.60it/s]\n",
      "                 Class     Images  Instances      Box(P          R      mAP50  mAP50-95): 100%|██████████| 15/15 [00:02<00:00,  7.18it/s]"
     ]
    },
    {
     "name": "stdout",
     "output_type": "stream",
     "text": [
      "                   all        473       1082      0.468      0.175      0.204      0.151\n"
     ]
    },
    {
     "name": "stderr",
     "output_type": "stream",
     "text": [
      "\n"
     ]
    },
    {
     "name": "stdout",
     "output_type": "stream",
     "text": [
      "\n",
      "      Epoch    GPU_mem   box_loss   cls_loss   dfl_loss  Instances       Size\n"
     ]
    },
    {
     "name": "stderr",
     "output_type": "stream",
     "text": [
      "     76/100      2.23G      1.944      3.531      1.933         11        640: 100%|██████████| 119/119 [00:13<00:00,  8.55it/s]\n",
      "                 Class     Images  Instances      Box(P          R      mAP50  mAP50-95): 100%|██████████| 15/15 [00:02<00:00,  7.02it/s]"
     ]
    },
    {
     "name": "stdout",
     "output_type": "stream",
     "text": [
      "                   all        473       1082      0.376      0.188      0.177      0.132\n"
     ]
    },
    {
     "name": "stderr",
     "output_type": "stream",
     "text": [
      "\n"
     ]
    },
    {
     "name": "stdout",
     "output_type": "stream",
     "text": [
      "\n",
      "      Epoch    GPU_mem   box_loss   cls_loss   dfl_loss  Instances       Size\n"
     ]
    },
    {
     "name": "stderr",
     "output_type": "stream",
     "text": [
      "     77/100      2.22G      1.884      3.401      1.881         31        640: 100%|██████████| 119/119 [00:13<00:00,  8.54it/s]\n",
      "                 Class     Images  Instances      Box(P          R      mAP50  mAP50-95): 100%|██████████| 15/15 [00:02<00:00,  7.15it/s]"
     ]
    },
    {
     "name": "stdout",
     "output_type": "stream",
     "text": [
      "                   all        473       1082      0.343        0.2      0.192      0.138\n"
     ]
    },
    {
     "name": "stderr",
     "output_type": "stream",
     "text": [
      "\n"
     ]
    },
    {
     "name": "stdout",
     "output_type": "stream",
     "text": [
      "\n",
      "      Epoch    GPU_mem   box_loss   cls_loss   dfl_loss  Instances       Size\n"
     ]
    },
    {
     "name": "stderr",
     "output_type": "stream",
     "text": [
      "     78/100      2.25G      1.884      3.419      1.886         15        640: 100%|██████████| 119/119 [00:13<00:00,  8.60it/s]\n",
      "                 Class     Images  Instances      Box(P          R      mAP50  mAP50-95): 100%|██████████| 15/15 [00:02<00:00,  7.13it/s]"
     ]
    },
    {
     "name": "stdout",
     "output_type": "stream",
     "text": [
      "                   all        473       1082      0.394      0.203      0.192       0.14\n"
     ]
    },
    {
     "name": "stderr",
     "output_type": "stream",
     "text": [
      "\n"
     ]
    },
    {
     "name": "stdout",
     "output_type": "stream",
     "text": [
      "\n",
      "      Epoch    GPU_mem   box_loss   cls_loss   dfl_loss  Instances       Size\n"
     ]
    },
    {
     "name": "stderr",
     "output_type": "stream",
     "text": [
      "     79/100      2.24G      1.887      3.423      1.894         16        640: 100%|██████████| 119/119 [00:13<00:00,  8.54it/s]\n",
      "                 Class     Images  Instances      Box(P          R      mAP50  mAP50-95): 100%|██████████| 15/15 [00:02<00:00,  6.88it/s]"
     ]
    },
    {
     "name": "stdout",
     "output_type": "stream",
     "text": [
      "                   all        473       1082      0.389      0.191      0.186      0.135\n"
     ]
    },
    {
     "name": "stderr",
     "output_type": "stream",
     "text": [
      "\n"
     ]
    },
    {
     "name": "stdout",
     "output_type": "stream",
     "text": [
      "\n",
      "      Epoch    GPU_mem   box_loss   cls_loss   dfl_loss  Instances       Size\n"
     ]
    },
    {
     "name": "stderr",
     "output_type": "stream",
     "text": [
      "     80/100      2.24G      1.898      3.414      1.903         18        640: 100%|██████████| 119/119 [00:14<00:00,  8.37it/s]\n",
      "                 Class     Images  Instances      Box(P          R      mAP50  mAP50-95): 100%|██████████| 15/15 [00:02<00:00,  6.50it/s]"
     ]
    },
    {
     "name": "stdout",
     "output_type": "stream",
     "text": [
      "                   all        473       1082      0.386      0.171      0.171      0.124\n"
     ]
    },
    {
     "name": "stderr",
     "output_type": "stream",
     "text": [
      "\n"
     ]
    },
    {
     "name": "stdout",
     "output_type": "stream",
     "text": [
      "\n",
      "      Epoch    GPU_mem   box_loss   cls_loss   dfl_loss  Instances       Size\n"
     ]
    },
    {
     "name": "stderr",
     "output_type": "stream",
     "text": [
      "     81/100      2.23G      1.877      3.416      1.879         10        640: 100%|██████████| 119/119 [00:14<00:00,  8.43it/s]\n",
      "                 Class     Images  Instances      Box(P          R      mAP50  mAP50-95): 100%|██████████| 15/15 [00:02<00:00,  6.91it/s]"
     ]
    },
    {
     "name": "stdout",
     "output_type": "stream",
     "text": [
      "                   all        473       1082      0.352      0.176      0.174      0.124\n"
     ]
    },
    {
     "name": "stderr",
     "output_type": "stream",
     "text": [
      "\n"
     ]
    },
    {
     "name": "stdout",
     "output_type": "stream",
     "text": [
      "\n",
      "      Epoch    GPU_mem   box_loss   cls_loss   dfl_loss  Instances       Size\n"
     ]
    },
    {
     "name": "stderr",
     "output_type": "stream",
     "text": [
      "     82/100      2.25G       1.86      3.349      1.866         17        640: 100%|██████████| 119/119 [00:14<00:00,  8.30it/s]\n",
      "                 Class     Images  Instances      Box(P          R      mAP50  mAP50-95): 100%|██████████| 15/15 [00:02<00:00,  6.72it/s]"
     ]
    },
    {
     "name": "stdout",
     "output_type": "stream",
     "text": [
      "                   all        473       1082      0.389      0.178      0.175       0.13\n"
     ]
    },
    {
     "name": "stderr",
     "output_type": "stream",
     "text": [
      "\n"
     ]
    },
    {
     "name": "stdout",
     "output_type": "stream",
     "text": [
      "\n",
      "      Epoch    GPU_mem   box_loss   cls_loss   dfl_loss  Instances       Size\n"
     ]
    },
    {
     "name": "stderr",
     "output_type": "stream",
     "text": [
      "     83/100      2.24G      1.885      3.435      1.889         15        640: 100%|██████████| 119/119 [00:14<00:00,  8.23it/s]\n",
      "                 Class     Images  Instances      Box(P          R      mAP50  mAP50-95): 100%|██████████| 15/15 [00:02<00:00,  6.75it/s]"
     ]
    },
    {
     "name": "stdout",
     "output_type": "stream",
     "text": [
      "                   all        473       1082      0.375      0.185      0.186      0.139\n"
     ]
    },
    {
     "name": "stderr",
     "output_type": "stream",
     "text": [
      "\n"
     ]
    },
    {
     "name": "stdout",
     "output_type": "stream",
     "text": [
      "\n",
      "      Epoch    GPU_mem   box_loss   cls_loss   dfl_loss  Instances       Size\n"
     ]
    },
    {
     "name": "stderr",
     "output_type": "stream",
     "text": [
      "     84/100      2.22G      1.871       3.38      1.882         14        640: 100%|██████████| 119/119 [00:14<00:00,  8.33it/s]\n",
      "                 Class     Images  Instances      Box(P          R      mAP50  mAP50-95): 100%|██████████| 15/15 [00:02<00:00,  6.80it/s]"
     ]
    },
    {
     "name": "stdout",
     "output_type": "stream",
     "text": [
      "                   all        473       1082      0.442      0.182      0.189      0.138\n"
     ]
    },
    {
     "name": "stderr",
     "output_type": "stream",
     "text": [
      "\n"
     ]
    },
    {
     "name": "stdout",
     "output_type": "stream",
     "text": [
      "\n",
      "      Epoch    GPU_mem   box_loss   cls_loss   dfl_loss  Instances       Size\n"
     ]
    },
    {
     "name": "stderr",
     "output_type": "stream",
     "text": [
      "     85/100      2.23G      1.874      3.404      1.876         22        640: 100%|██████████| 119/119 [00:14<00:00,  8.48it/s]\n",
      "                 Class     Images  Instances      Box(P          R      mAP50  mAP50-95): 100%|██████████| 15/15 [00:02<00:00,  6.64it/s]"
     ]
    },
    {
     "name": "stdout",
     "output_type": "stream",
     "text": [
      "                   all        473       1082      0.385      0.163       0.16      0.114\n"
     ]
    },
    {
     "name": "stderr",
     "output_type": "stream",
     "text": [
      "\n"
     ]
    },
    {
     "name": "stdout",
     "output_type": "stream",
     "text": [
      "\n",
      "      Epoch    GPU_mem   box_loss   cls_loss   dfl_loss  Instances       Size\n"
     ]
    },
    {
     "name": "stderr",
     "output_type": "stream",
     "text": [
      "     86/100      2.24G      1.886      3.404      1.889         24        640: 100%|██████████| 119/119 [00:14<00:00,  8.44it/s]\n",
      "                 Class     Images  Instances      Box(P          R      mAP50  mAP50-95): 100%|██████████| 15/15 [00:02<00:00,  6.50it/s]"
     ]
    },
    {
     "name": "stdout",
     "output_type": "stream",
     "text": [
      "                   all        473       1082      0.401      0.168       0.18       0.13\n"
     ]
    },
    {
     "name": "stderr",
     "output_type": "stream",
     "text": [
      "\n"
     ]
    },
    {
     "name": "stdout",
     "output_type": "stream",
     "text": [
      "\n",
      "      Epoch    GPU_mem   box_loss   cls_loss   dfl_loss  Instances       Size\n"
     ]
    },
    {
     "name": "stderr",
     "output_type": "stream",
     "text": [
      "     87/100      2.24G      1.883      3.369      1.876         19        640: 100%|██████████| 119/119 [00:14<00:00,  8.49it/s]\n",
      "                 Class     Images  Instances      Box(P          R      mAP50  mAP50-95): 100%|██████████| 15/15 [00:02<00:00,  6.58it/s]"
     ]
    },
    {
     "name": "stdout",
     "output_type": "stream",
     "text": [
      "                   all        473       1082      0.278      0.188      0.184      0.134\n"
     ]
    },
    {
     "name": "stderr",
     "output_type": "stream",
     "text": [
      "\n"
     ]
    },
    {
     "name": "stdout",
     "output_type": "stream",
     "text": [
      "\n",
      "      Epoch    GPU_mem   box_loss   cls_loss   dfl_loss  Instances       Size\n"
     ]
    },
    {
     "name": "stderr",
     "output_type": "stream",
     "text": [
      "     88/100      2.23G      1.854      3.388       1.87          6        640: 100%|██████████| 119/119 [00:14<00:00,  8.47it/s]\n",
      "                 Class     Images  Instances      Box(P          R      mAP50  mAP50-95): 100%|██████████| 15/15 [00:02<00:00,  6.58it/s]"
     ]
    },
    {
     "name": "stdout",
     "output_type": "stream",
     "text": [
      "                   all        473       1082      0.407      0.193      0.183      0.133\n"
     ]
    },
    {
     "name": "stderr",
     "output_type": "stream",
     "text": [
      "\n"
     ]
    },
    {
     "name": "stdout",
     "output_type": "stream",
     "text": [
      "\n",
      "      Epoch    GPU_mem   box_loss   cls_loss   dfl_loss  Instances       Size\n"
     ]
    },
    {
     "name": "stderr",
     "output_type": "stream",
     "text": [
      "     89/100      2.24G      1.862      3.366      1.869         13        640: 100%|██████████| 119/119 [00:14<00:00,  8.01it/s]\n",
      "                 Class     Images  Instances      Box(P          R      mAP50  mAP50-95): 100%|██████████| 15/15 [00:02<00:00,  6.86it/s]"
     ]
    },
    {
     "name": "stdout",
     "output_type": "stream",
     "text": [
      "                   all        473       1082      0.402      0.191      0.169       0.12\n"
     ]
    },
    {
     "name": "stderr",
     "output_type": "stream",
     "text": [
      "\n"
     ]
    },
    {
     "name": "stdout",
     "output_type": "stream",
     "text": [
      "\n",
      "      Epoch    GPU_mem   box_loss   cls_loss   dfl_loss  Instances       Size\n"
     ]
    },
    {
     "name": "stderr",
     "output_type": "stream",
     "text": [
      "     90/100      2.24G      1.855      3.313      1.861         12        640: 100%|██████████| 119/119 [00:14<00:00,  8.44it/s]\n",
      "                 Class     Images  Instances      Box(P          R      mAP50  mAP50-95): 100%|██████████| 15/15 [00:02<00:00,  7.18it/s]"
     ]
    },
    {
     "name": "stdout",
     "output_type": "stream",
     "text": [
      "                   all        473       1082      0.437      0.183      0.171      0.122\n"
     ]
    },
    {
     "name": "stderr",
     "output_type": "stream",
     "text": [
      "\n"
     ]
    },
    {
     "name": "stdout",
     "output_type": "stream",
     "text": [
      "Closing dataloader mosaic\n",
      "\u001b[34m\u001b[1malbumentations: \u001b[0mBlur(p=0.01, blur_limit=(3, 7)), MedianBlur(p=0.01, blur_limit=(3, 7)), ToGray(p=0.01, num_output_channels=3, method='weighted_average'), CLAHE(p=0.01, clip_limit=(1.0, 4.0), tile_grid_size=(8, 8))\n",
      "\n",
      "      Epoch    GPU_mem   box_loss   cls_loss   dfl_loss  Instances       Size\n"
     ]
    },
    {
     "name": "stderr",
     "output_type": "stream",
     "text": [
      "     91/100      2.23G      1.861      3.474      1.976          7        640: 100%|██████████| 119/119 [00:16<00:00,  7.36it/s]\n",
      "                 Class     Images  Instances      Box(P          R      mAP50  mAP50-95): 100%|██████████| 15/15 [00:02<00:00,  7.27it/s]"
     ]
    },
    {
     "name": "stdout",
     "output_type": "stream",
     "text": [
      "                   all        473       1082      0.439      0.174      0.179      0.131\n"
     ]
    },
    {
     "name": "stderr",
     "output_type": "stream",
     "text": [
      "\n"
     ]
    },
    {
     "name": "stdout",
     "output_type": "stream",
     "text": [
      "\n",
      "      Epoch    GPU_mem   box_loss   cls_loss   dfl_loss  Instances       Size\n"
     ]
    },
    {
     "name": "stderr",
     "output_type": "stream",
     "text": [
      "     92/100      2.25G      1.808      3.395      1.942          6        640: 100%|██████████| 119/119 [00:14<00:00,  8.16it/s]\n",
      "                 Class     Images  Instances      Box(P          R      mAP50  mAP50-95): 100%|██████████| 15/15 [00:02<00:00,  7.36it/s]"
     ]
    },
    {
     "name": "stdout",
     "output_type": "stream",
     "text": [
      "                   all        473       1082      0.416      0.179      0.184      0.137\n"
     ]
    },
    {
     "name": "stderr",
     "output_type": "stream",
     "text": [
      "\n"
     ]
    },
    {
     "name": "stdout",
     "output_type": "stream",
     "text": [
      "\n",
      "      Epoch    GPU_mem   box_loss   cls_loss   dfl_loss  Instances       Size\n"
     ]
    },
    {
     "name": "stderr",
     "output_type": "stream",
     "text": [
      "     93/100      2.22G      1.834      3.372      1.953          8        640: 100%|██████████| 119/119 [00:14<00:00,  8.16it/s]\n",
      "                 Class     Images  Instances      Box(P          R      mAP50  mAP50-95): 100%|██████████| 15/15 [00:02<00:00,  7.19it/s]"
     ]
    },
    {
     "name": "stdout",
     "output_type": "stream",
     "text": [
      "                   all        473       1082      0.393      0.182      0.189      0.139\n"
     ]
    },
    {
     "name": "stderr",
     "output_type": "stream",
     "text": [
      "\n"
     ]
    },
    {
     "name": "stdout",
     "output_type": "stream",
     "text": [
      "\n",
      "      Epoch    GPU_mem   box_loss   cls_loss   dfl_loss  Instances       Size\n"
     ]
    },
    {
     "name": "stderr",
     "output_type": "stream",
     "text": [
      "     94/100      2.23G      1.813      3.353      1.942          4        640: 100%|██████████| 119/119 [00:14<00:00,  8.47it/s]\n",
      "                 Class     Images  Instances      Box(P          R      mAP50  mAP50-95): 100%|██████████| 15/15 [00:02<00:00,  7.03it/s]"
     ]
    },
    {
     "name": "stdout",
     "output_type": "stream",
     "text": [
      "                   all        473       1082      0.433      0.176      0.177      0.129\n"
     ]
    },
    {
     "name": "stderr",
     "output_type": "stream",
     "text": [
      "\n"
     ]
    },
    {
     "name": "stdout",
     "output_type": "stream",
     "text": [
      "\n",
      "      Epoch    GPU_mem   box_loss   cls_loss   dfl_loss  Instances       Size\n"
     ]
    },
    {
     "name": "stderr",
     "output_type": "stream",
     "text": [
      "     95/100      2.23G      1.818      3.324      1.942          5        640: 100%|██████████| 119/119 [00:13<00:00,  8.50it/s]\n",
      "                 Class     Images  Instances      Box(P          R      mAP50  mAP50-95): 100%|██████████| 15/15 [00:02<00:00,  6.99it/s]"
     ]
    },
    {
     "name": "stdout",
     "output_type": "stream",
     "text": [
      "                   all        473       1082      0.399      0.187      0.175      0.129\n"
     ]
    },
    {
     "name": "stderr",
     "output_type": "stream",
     "text": [
      "\n"
     ]
    },
    {
     "name": "stdout",
     "output_type": "stream",
     "text": [
      "\n",
      "      Epoch    GPU_mem   box_loss   cls_loss   dfl_loss  Instances       Size\n"
     ]
    },
    {
     "name": "stderr",
     "output_type": "stream",
     "text": [
      "     96/100       2.2G      1.793      3.294      1.934          8        640: 100%|██████████| 119/119 [00:14<00:00,  8.11it/s]\n",
      "                 Class     Images  Instances      Box(P          R      mAP50  mAP50-95): 100%|██████████| 15/15 [00:02<00:00,  7.00it/s]"
     ]
    },
    {
     "name": "stdout",
     "output_type": "stream",
     "text": [
      "                   all        473       1082      0.309      0.188      0.178      0.131\n"
     ]
    },
    {
     "name": "stderr",
     "output_type": "stream",
     "text": [
      "\n"
     ]
    },
    {
     "name": "stdout",
     "output_type": "stream",
     "text": [
      "\n",
      "      Epoch    GPU_mem   box_loss   cls_loss   dfl_loss  Instances       Size\n"
     ]
    },
    {
     "name": "stderr",
     "output_type": "stream",
     "text": [
      "     97/100      2.21G      1.785      3.302      1.921         13        640: 100%|██████████| 119/119 [00:13<00:00,  8.56it/s]\n",
      "                 Class     Images  Instances      Box(P          R      mAP50  mAP50-95): 100%|██████████| 15/15 [00:02<00:00,  6.97it/s]"
     ]
    },
    {
     "name": "stdout",
     "output_type": "stream",
     "text": [
      "                   all        473       1082      0.344      0.173      0.173       0.13\n"
     ]
    },
    {
     "name": "stderr",
     "output_type": "stream",
     "text": [
      "\n"
     ]
    },
    {
     "name": "stdout",
     "output_type": "stream",
     "text": [
      "\n",
      "      Epoch    GPU_mem   box_loss   cls_loss   dfl_loss  Instances       Size\n"
     ]
    },
    {
     "name": "stderr",
     "output_type": "stream",
     "text": [
      "     98/100      2.23G      1.791      3.304       1.93          6        640: 100%|██████████| 119/119 [00:14<00:00,  8.45it/s]\n",
      "                 Class     Images  Instances      Box(P          R      mAP50  mAP50-95): 100%|██████████| 15/15 [00:02<00:00,  6.39it/s]"
     ]
    },
    {
     "name": "stdout",
     "output_type": "stream",
     "text": [
      "                   all        473       1082      0.315      0.171      0.184      0.137\n"
     ]
    },
    {
     "name": "stderr",
     "output_type": "stream",
     "text": [
      "\n"
     ]
    },
    {
     "name": "stdout",
     "output_type": "stream",
     "text": [
      "\n",
      "      Epoch    GPU_mem   box_loss   cls_loss   dfl_loss  Instances       Size\n"
     ]
    },
    {
     "name": "stderr",
     "output_type": "stream",
     "text": [
      "     99/100       2.2G      1.773      3.251       1.91         12        640: 100%|██████████| 119/119 [00:14<00:00,  8.19it/s]\n",
      "                 Class     Images  Instances      Box(P          R      mAP50  mAP50-95): 100%|██████████| 15/15 [00:02<00:00,  6.90it/s]"
     ]
    },
    {
     "name": "stdout",
     "output_type": "stream",
     "text": [
      "                   all        473       1082      0.404      0.172      0.182      0.135\n"
     ]
    },
    {
     "name": "stderr",
     "output_type": "stream",
     "text": [
      "\n"
     ]
    },
    {
     "name": "stdout",
     "output_type": "stream",
     "text": [
      "\n",
      "      Epoch    GPU_mem   box_loss   cls_loss   dfl_loss  Instances       Size\n"
     ]
    },
    {
     "name": "stderr",
     "output_type": "stream",
     "text": [
      "    100/100       2.2G      1.782      3.269      1.917         12        640: 100%|██████████| 119/119 [00:13<00:00,  8.54it/s]\n",
      "                 Class     Images  Instances      Box(P          R      mAP50  mAP50-95): 100%|██████████| 15/15 [00:02<00:00,  6.99it/s]\n"
     ]
    },
    {
     "name": "stdout",
     "output_type": "stream",
     "text": [
      "                   all        473       1082      0.416       0.17      0.185      0.138\n",
      "\n",
      "100 epochs completed in 0.477 hours.\n",
      "Optimizer stripped from runs\\train\\it2\\it211\\weights\\last.pt, 6.3MB\n",
      "Optimizer stripped from runs\\train\\it2\\it211\\weights\\best.pt, 6.3MB\n",
      "\n",
      "Validating runs\\train\\it2\\it211\\weights\\best.pt...\n",
      "Ultralytics 8.3.21  Python-3.9.20 torch-2.5.0 CUDA:0 (NVIDIA GeForce RTX 4060 Laptop GPU, 8188MiB)\n",
      "Model summary (fused): 168 layers, 3,013,643 parameters, 0 gradients, 8.1 GFLOPs\n"
     ]
    },
    {
     "name": "stderr",
     "output_type": "stream",
     "text": [
      "                 Class     Images  Instances      Box(P          R      mAP50  mAP50-95): 100%|██████████| 15/15 [00:02<00:00,  6.54it/s]\n"
     ]
    },
    {
     "name": "stdout",
     "output_type": "stream",
     "text": [
      "                   all        473       1082      0.425      0.225      0.222      0.163\n",
      "          Oscillatoria         18         43      0.214      0.093      0.146       0.09\n",
      "        Ankistrodesmus         10         10          0          0    0.00497    0.00321\n",
      "           Microcystis        106        199      0.416      0.161      0.161      0.108\n",
      "            Gomphonema         18         19      0.579      0.508      0.623      0.489\n",
      "         Sphaerocystis          4          4      0.222        0.5      0.229      0.116\n",
      "             Cosmarium          6          6          0          0      0.162      0.147\n",
      "             Cocconeis          4          4          1          0     0.0323     0.0258\n",
      "             Tribonema         12         15      0.151        0.4      0.179      0.126\n",
      "             Chlorella         25         28      0.579      0.344       0.37      0.277\n",
      "            Tetraedron          4          8          1          0      0.011    0.00307\n",
      "        Ankistrodesmus         16         16      0.395      0.438      0.354      0.205\n",
      "            Brachionus         23         27       0.32      0.519      0.426      0.323\n",
      "               Chaenea          2          2          1          0          0          0\n",
      "            Pediastrum         21         22      0.781      0.318      0.549      0.362\n",
      "             Spirulina         13         14          1          0    0.00179   0.000179\n",
      "           Actinastrum         30         48      0.483      0.208      0.305      0.183\n",
      "              Navicula         14         14      0.243      0.253      0.121      0.089\n",
      "           Scenedesmus         30         34      0.323      0.206      0.152     0.0883\n",
      "            Golenkinia         40         63      0.478     0.0317     0.0307     0.0155\n",
      "            Pinnularia          5          5          0          0     0.0515     0.0266\n",
      "           Staurastrum          5          5          0          0          0          0\n",
      "            Phormidium        138        259      0.426      0.371      0.322        0.2\n",
      "            Fragilaria         11         11      0.195      0.441      0.373      0.319\n",
      "          Anabaenopsis          9         12          1          0      0.317      0.274\n",
      "        Coelosphaerium         29         32      0.116     0.0625     0.0437     0.0303\n",
      "            Crucigenia          3          3          1          0          0          0\n",
      "            Achnanthes          5          5          0          0     0.0393     0.0248\n",
      "               Synedra         34         41       0.11     0.0976     0.0874     0.0643\n",
      "              Ceratium          7          7      0.894      0.429      0.645      0.615\n",
      "             Pompholyx         11         11          1          0      0.215      0.153\n",
      "          Merismopedia          4          5          0          0   0.000704   0.000423\n",
      "             Spirogyra         20         29      0.381      0.759      0.674      0.384\n",
      "            Coelastrum          7          7          0          0     0.0739     0.0537\n",
      "          Raphidiopsis          3          4      0.994        0.5      0.516      0.465\n",
      "        Gomphosphaeria          8         10      0.275        0.3      0.163      0.066\n",
      "               Euglena         11         11      0.304      0.545      0.383      0.303\n",
      "              Euclanis          3          3      0.337      0.527      0.328      0.271\n",
      "             Keratella         13         13      0.147     0.0338      0.127     0.0967\n",
      "         diversicornis         24         26      0.244      0.805      0.434      0.334\n",
      "             Surirella          7          7      0.386      0.143      0.217      0.191\n",
      "Speed: 0.2ms preprocess, 1.1ms inference, 0.0ms loss, 1.1ms postprocess per image\n",
      "Results saved to \u001b[1mruns\\train\\it2\\it211\u001b[0m\n",
      "Ultralytics 8.3.21  Python-3.9.20 torch-2.5.0 CUDA:0 (NVIDIA GeForce RTX 4060 Laptop GPU, 8188MiB)\n",
      "Model summary (fused): 168 layers, 3,013,643 parameters, 0 gradients, 8.1 GFLOPs\n"
     ]
    },
    {
     "name": "stderr",
     "output_type": "stream",
     "text": [
      "\u001b[34m\u001b[1mval: \u001b[0mScanning D:\\KULIAH\\SEMESTER 5\\RSBP\\Bacteri\\Detection-of-bacteria-in-water-using-Yolo-images\\Detect\\Detection-of-bacteria-in-water-using-Yolo-images\\temp\\labels\\val.cache... 473 images, 5 backgrounds, 0 corrupt: 100%|██████████| 473/473 [00:00<?, ?it/s]\n",
      "                 Class     Images  Instances      Box(P          R      mAP50  mAP50-95): 100%|██████████| 30/30 [00:03<00:00,  9.43it/s]\n"
     ]
    },
    {
     "name": "stdout",
     "output_type": "stream",
     "text": [
      "                   all        473       1082      0.423       0.22      0.221      0.162\n",
      "          Oscillatoria         18         43      0.214      0.093      0.146     0.0897\n",
      "        Ankistrodesmus         10         10          0          0    0.00499    0.00323\n",
      "           Microcystis        106        199      0.415      0.161      0.161      0.108\n",
      "            Gomphonema         18         19      0.579      0.506      0.623       0.49\n",
      "         Sphaerocystis          4          4      0.166      0.356      0.229      0.121\n",
      "             Cosmarium          6          6          0          0      0.162      0.148\n",
      "             Cocconeis          4          4          1          0     0.0323     0.0258\n",
      "             Tribonema         12         15      0.151        0.4      0.175      0.124\n",
      "             Chlorella         25         28      0.575      0.339      0.369      0.273\n",
      "            Tetraedron          4          8          1          0     0.0104    0.00294\n",
      "        Ankistrodesmus         16         16      0.396      0.438      0.354      0.205\n",
      "            Brachionus         23         27       0.32      0.519      0.427      0.323\n",
      "               Chaenea          2          2          1          0          0          0\n",
      "            Pediastrum         21         22      0.779      0.318      0.549      0.362\n",
      "             Spirulina         13         14          1          0    0.00178   0.000178\n",
      "           Actinastrum         30         48      0.484      0.208      0.305      0.184\n",
      "              Navicula         14         14      0.242      0.252      0.121      0.089\n",
      "           Scenedesmus         30         34      0.323      0.206      0.151     0.0911\n",
      "            Golenkinia         40         63      0.494     0.0312     0.0307     0.0155\n",
      "            Pinnularia          5          5          0          0     0.0508     0.0263\n",
      "           Staurastrum          5          5          0          0          0          0\n",
      "            Phormidium        138        259      0.426      0.371      0.322        0.2\n",
      "            Fragilaria         11         11      0.196      0.443      0.373      0.319\n",
      "          Anabaenopsis          9         12          1          0       0.31      0.268\n",
      "        Coelosphaerium         29         32      0.117     0.0625     0.0438     0.0304\n",
      "            Crucigenia          3          3          1          0          0          0\n",
      "            Achnanthes          5          5          0          0     0.0366     0.0229\n",
      "               Synedra         34         41      0.111     0.0976     0.0873     0.0642\n",
      "              Ceratium          7          7      0.896      0.429      0.645      0.615\n",
      "             Pompholyx         11         11          1          0      0.215      0.153\n",
      "          Merismopedia          4          5          0          0   0.000706   0.000424\n",
      "             Spirogyra         20         29      0.375      0.759      0.664      0.378\n",
      "            Coelastrum          7          7          0          0      0.074     0.0537\n",
      "          Raphidiopsis          3          4      0.995        0.5      0.516      0.465\n",
      "        Gomphosphaeria          8         10      0.279        0.3      0.163     0.0661\n",
      "               Euglena         11         11      0.304      0.545      0.384      0.302\n",
      "              Euclanis          3          3      0.324      0.499      0.328      0.251\n",
      "             Keratella         13         13      0.137     0.0316      0.126     0.0973\n",
      "         diversicornis         24         26      0.248        0.8      0.436      0.335\n",
      "             Surirella          7          7      0.388      0.143      0.217      0.191\n",
      "Speed: 0.4ms preprocess, 2.4ms inference, 0.0ms loss, 1.3ms postprocess per image\n",
      "Results saved to \u001b[1mruns\\train\\it2\\it2112\u001b[0m\n",
      "Ultralytics 8.3.21  Python-3.9.20 torch-2.5.0 CPU (13th Gen Intel Core(TM) i9-13900HX)\n",
      "\n",
      "\u001b[34m\u001b[1mPyTorch:\u001b[0m starting from 'runs\\train\\it2\\it211\\weights\\best.pt' with input shape (1, 3, 640, 640) BCHW and output shape(s) (1, 45, 8400) (6.0 MB)\n",
      "\n",
      "\u001b[34m\u001b[1mONNX:\u001b[0m starting export with onnx 1.17.0 opset 19...\n",
      "\u001b[34m\u001b[1mONNX:\u001b[0m slimming with onnxslim 0.1.39...\n",
      "\u001b[34m\u001b[1mONNX:\u001b[0m export success  1.0s, saved as 'runs\\train\\it2\\it211\\weights\\best.onnx' (11.7 MB)\n",
      "\n",
      "Export complete (1.1s)\n",
      "Results saved to \u001b[1mD:\\KULIAH\\SEMESTER 5\\RSBP\\Bacteri\\Detection-of-bacteria-in-water-using-Yolo-images\\Detect\\Detection-of-bacteria-in-water-using-Yolo-images\\workspace\\runs\\train\\it2\\it211\\weights\u001b[0m\n",
      "Predict:         yolo predict task=detect model=runs\\train\\it2\\it211\\weights\\best.onnx imgsz=640  \n",
      "Validate:        yolo val task=detect model=runs\\train\\it2\\it211\\weights\\best.onnx imgsz=640 data=../data.yaml  \n",
      "Visualize:       https://netron.app\n"
     ]
    }
   ],
   "source": [
    "from ultralytics import YOLO\n",
    "\n",
    "name = 'it2'\n",
    "def main():\n",
    "    # Inisialisasi model YOLOv8\n",
    "    model = YOLO('yolov8n.pt')  # Pre-trained model weights untuk YOLOv8\n",
    "    \n",
    "    # Tambahkan `class_weights` sebagai parameter dinamis\n",
    "    model.train(\n",
    "        data='../data.yaml',\n",
    "        epochs=100,\n",
    "        imgsz=640,\n",
    "        batch=16,\n",
    "        name=name,\n",
    "        workers=12,\n",
    "        project=f'runs/train/{name}',\n",
    "        device=0,\n",
    "        label_smoothing=0.1,\n",
    "        weight_decay=0.0005,  # Regularisasi weight decay\n",
    "    )\n",
    "\n",
    "    # Evaluasi model setelah pelatihan\n",
    "    model.val()\n",
    "\n",
    "    # Export model ke format lain (misal: TorchScript, ONNX, CoreML, TensorRT)\n",
    "    model.export(format='onnx')  # atau format lain yang diinginkan\n",
    "\n",
    "if __name__ == '__main__':\n",
    "    main()"
   ]
  },
  {
   "cell_type": "code",
   "execution_count": null,
   "metadata": {},
   "outputs": [
    {
     "name": "stdout",
     "output_type": "stream",
     "text": [
      "True\n"
     ]
    }
   ],
   "source": [
    "import shutil\n",
    "import os\n",
    "import datetime\n",
    "\n",
    "source_dir = os.getcwd()\n",
    "destination_dir = f'runs/train/{name}'\n",
    "\n",
    "os.makedirs(destination_dir, exist_ok=True)\n",
    "\n",
    "for filename in os.listdir(source_dir):\n",
    "    file_path = os.path.join(source_dir, filename)\n",
    "    if os.path.isfile(file_path):\n",
    "        shutil.move(file_path, destination_dir)"
   ]
  }
 ],
 "metadata": {
  "kernelspec": {
   "display_name": "bacteri",
   "language": "python",
   "name": "python3"
  },
  "language_info": {
   "codemirror_mode": {
    "name": "ipython",
    "version": 3
   },
   "file_extension": ".py",
   "mimetype": "text/x-python",
   "name": "python",
   "nbconvert_exporter": "python",
   "pygments_lexer": "ipython3",
   "version": "3.9.20"
  }
 },
 "nbformat": 4,
 "nbformat_minor": 2
}
