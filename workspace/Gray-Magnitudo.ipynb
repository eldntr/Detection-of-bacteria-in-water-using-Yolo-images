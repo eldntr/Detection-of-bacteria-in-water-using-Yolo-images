{
 "cells": [
  {
   "cell_type": "code",
   "execution_count": 1,
   "metadata": {},
   "outputs": [
    {
     "name": "stdout",
     "output_type": "stream",
     "text": [
      "Requirement already satisfied: onnxruntime in c:\\users\\feers\\anaconda3\\envs\\bacteri\\lib\\site-packages (1.19.2)\n",
      "Requirement already satisfied: coloredlogs in c:\\users\\feers\\anaconda3\\envs\\bacteri\\lib\\site-packages (from onnxruntime) (15.0.1)\n",
      "Requirement already satisfied: flatbuffers in c:\\users\\feers\\anaconda3\\envs\\bacteri\\lib\\site-packages (from onnxruntime) (24.3.25)\n",
      "Requirement already satisfied: numpy>=1.21.6 in c:\\users\\feers\\anaconda3\\envs\\bacteri\\lib\\site-packages (from onnxruntime) (2.0.1)\n",
      "Requirement already satisfied: packaging in c:\\users\\feers\\anaconda3\\envs\\bacteri\\lib\\site-packages (from onnxruntime) (24.1)\n",
      "Requirement already satisfied: protobuf in c:\\users\\feers\\anaconda3\\envs\\bacteri\\lib\\site-packages (from onnxruntime) (5.28.3)\n",
      "Requirement already satisfied: sympy in c:\\users\\feers\\anaconda3\\envs\\bacteri\\lib\\site-packages (from onnxruntime) (1.13.1)\n",
      "Requirement already satisfied: humanfriendly>=9.1 in c:\\users\\feers\\anaconda3\\envs\\bacteri\\lib\\site-packages (from coloredlogs->onnxruntime) (10.0)\n",
      "Requirement already satisfied: mpmath<1.4,>=1.1.0 in c:\\users\\feers\\anaconda3\\envs\\bacteri\\lib\\site-packages (from sympy->onnxruntime) (1.3.0)\n",
      "Requirement already satisfied: pyreadline3 in c:\\users\\feers\\anaconda3\\envs\\bacteri\\lib\\site-packages (from humanfriendly>=9.1->coloredlogs->onnxruntime) (3.5.4)\n",
      "Note: you may need to restart the kernel to use updated packages.\n",
      "Requirement already satisfied: scikit-image in c:\\users\\feers\\anaconda3\\envs\\bacteri\\lib\\site-packages (0.24.0)\n",
      "Requirement already satisfied: numpy>=1.23 in c:\\users\\feers\\anaconda3\\envs\\bacteri\\lib\\site-packages (from scikit-image) (2.0.1)\n",
      "Requirement already satisfied: scipy>=1.9 in c:\\users\\feers\\anaconda3\\envs\\bacteri\\lib\\site-packages (from scikit-image) (1.13.1)\n",
      "Requirement already satisfied: networkx>=2.8 in c:\\users\\feers\\anaconda3\\envs\\bacteri\\lib\\site-packages (from scikit-image) (3.2.1)\n",
      "Requirement already satisfied: pillow>=9.1 in c:\\users\\feers\\anaconda3\\envs\\bacteri\\lib\\site-packages (from scikit-image) (10.4.0)\n",
      "Requirement already satisfied: imageio>=2.33 in c:\\users\\feers\\anaconda3\\envs\\bacteri\\lib\\site-packages (from scikit-image) (2.36.0)\n",
      "Requirement already satisfied: tifffile>=2022.8.12 in c:\\users\\feers\\anaconda3\\envs\\bacteri\\lib\\site-packages (from scikit-image) (2024.8.30)\n",
      "Requirement already satisfied: packaging>=21 in c:\\users\\feers\\anaconda3\\envs\\bacteri\\lib\\site-packages (from scikit-image) (24.1)\n",
      "Requirement already satisfied: lazy-loader>=0.4 in c:\\users\\feers\\anaconda3\\envs\\bacteri\\lib\\site-packages (from scikit-image) (0.4)\n",
      "Note: you may need to restart the kernel to use updated packages.\n"
     ]
    }
   ],
   "source": [
    "%pip install onnxruntime\n",
    "\n",
    "%pip install -U scikit-image"
   ]
  },
  {
   "cell_type": "code",
   "execution_count": 2,
   "metadata": {},
   "outputs": [
    {
     "name": "stdout",
     "output_type": "stream",
     "text": [
      "Collecting git+https://github.com/albumentations-team/albumentations\n",
      "  Cloning https://github.com/albumentations-team/albumentations to c:\\users\\feers\\appdata\\local\\temp\\pip-req-build-d14quvu4\n",
      "  Resolved https://github.com/albumentations-team/albumentations to commit f5ae3f5a9d8b77182c8a726deeadfc5dd1e93b8c\n",
      "  Installing build dependencies: started\n",
      "  Installing build dependencies: finished with status 'done'\n",
      "  Getting requirements to build wheel: started\n",
      "  Getting requirements to build wheel: finished with status 'done'\n",
      "  Preparing metadata (pyproject.toml): started\n",
      "  Preparing metadata (pyproject.toml): finished with status 'done'\n",
      "Requirement already satisfied: numpy>=1.24.4 in c:\\users\\feers\\anaconda3\\envs\\bacteri\\lib\\site-packages (from albumentations==1.4.21) (2.0.1)\n",
      "Requirement already satisfied: scipy>=1.10.0 in c:\\users\\feers\\anaconda3\\envs\\bacteri\\lib\\site-packages (from albumentations==1.4.21) (1.13.1)\n",
      "Requirement already satisfied: PyYAML in c:\\users\\feers\\anaconda3\\envs\\bacteri\\lib\\site-packages (from albumentations==1.4.21) (6.0.2)\n",
      "Requirement already satisfied: typing-extensions>=4.9.0 in c:\\users\\feers\\anaconda3\\envs\\bacteri\\lib\\site-packages (from albumentations==1.4.21) (4.11.0)\n",
      "Requirement already satisfied: pydantic>=2.9.2 in c:\\users\\feers\\anaconda3\\envs\\bacteri\\lib\\site-packages (from albumentations==1.4.21) (2.9.2)\n",
      "Requirement already satisfied: albucore==0.0.21 in c:\\users\\feers\\anaconda3\\envs\\bacteri\\lib\\site-packages (from albumentations==1.4.21) (0.0.21)\n",
      "Requirement already satisfied: eval-type-backport in c:\\users\\feers\\anaconda3\\envs\\bacteri\\lib\\site-packages (from albumentations==1.4.21) (0.2.0)\n",
      "Requirement already satisfied: opencv-python-headless>=4.9.0.80 in c:\\users\\feers\\anaconda3\\envs\\bacteri\\lib\\site-packages (from albumentations==1.4.21) (4.10.0.84)\n",
      "Requirement already satisfied: stringzilla>=3.10.4 in c:\\users\\feers\\anaconda3\\envs\\bacteri\\lib\\site-packages (from albucore==0.0.21->albumentations==1.4.21) (3.10.10)\n",
      "Requirement already satisfied: simsimd>=5.9.2 in c:\\users\\feers\\anaconda3\\envs\\bacteri\\lib\\site-packages (from albucore==0.0.21->albumentations==1.4.21) (6.0.5)\n",
      "Requirement already satisfied: annotated-types>=0.6.0 in c:\\users\\feers\\anaconda3\\envs\\bacteri\\lib\\site-packages (from pydantic>=2.9.2->albumentations==1.4.21) (0.7.0)\n",
      "Requirement already satisfied: pydantic-core==2.23.4 in c:\\users\\feers\\anaconda3\\envs\\bacteri\\lib\\site-packages (from pydantic>=2.9.2->albumentations==1.4.21) (2.23.4)\n",
      "Note: you may need to restart the kernel to use updated packages.\n"
     ]
    },
    {
     "name": "stderr",
     "output_type": "stream",
     "text": [
      "  Running command git clone --filter=blob:none --quiet https://github.com/albumentations-team/albumentations 'C:\\Users\\feers\\AppData\\Local\\Temp\\pip-req-build-d14quvu4'\n"
     ]
    }
   ],
   "source": [
    "%pip install -U git+https://github.com/albumentations-team/albumentations"
   ]
  },
  {
   "cell_type": "code",
   "execution_count": null,
   "metadata": {},
   "outputs": [
    {
     "name": "stdout",
     "output_type": "stream",
     "text": [
      "WARNING  Python>=3.10 is required, but Python==3.9.20 is currently installed \n",
      "New https://pypi.org/project/ultralytics/8.3.38 available  Update with 'pip install -U ultralytics'\n",
      "Ultralytics 8.3.21  Python-3.9.20 torch-2.5.0 CUDA:0 (NVIDIA GeForce RTX 4060 Laptop GPU, 8188MiB)\n",
      "\u001b[34m\u001b[1mengine\\trainer: \u001b[0mtask=detect, mode=train, model=yolov8m.pt, data=../data.yaml, epochs=100, time=None, patience=100, batch=16, imgsz=640, save=True, save_period=-1, cache=False, device=0, workers=16, project=runs/train/it2, name=it234, exist_ok=False, pretrained=True, optimizer=auto, verbose=True, seed=0, deterministic=True, single_cls=False, rect=False, cos_lr=False, close_mosaic=10, resume=False, amp=True, fraction=1.0, profile=False, freeze=None, multi_scale=False, overlap_mask=True, mask_ratio=4, dropout=0.0, val=True, split=val, save_json=False, save_hybrid=False, conf=None, iou=0.7, max_det=300, half=False, dnn=False, plots=True, source=None, vid_stride=1, stream_buffer=False, visualize=False, augment=False, agnostic_nms=False, classes=None, retina_masks=False, embed=None, show=False, save_frames=False, save_txt=False, save_conf=False, save_crop=False, show_labels=True, show_conf=True, show_boxes=True, line_width=None, format=torchscript, keras=False, optimize=False, int8=False, dynamic=False, simplify=True, opset=None, workspace=4, nms=False, lr0=0.01, lrf=0.01, momentum=0.937, weight_decay=0.0005, warmup_epochs=3.0, warmup_momentum=0.8, warmup_bias_lr=0.1, box=7.5, cls=0.5, dfl=1.5, pose=12.0, kobj=1.0, label_smoothing=0.0, nbs=64, hsv_h=0.015, hsv_s=0.7, hsv_v=0.4, degrees=0.0, translate=0.1, scale=0.5, shear=0.0, perspective=0.0, flipud=0.0, fliplr=0.5, bgr=0.0, mosaic=1.0, mixup=0.0, copy_paste=0.0, copy_paste_mode=flip, auto_augment=randaugment, erasing=0.4, crop_fraction=1.0, cfg=None, tracker=botsort.yaml, save_dir=runs\\train\\it2\\it234\n",
      "Overriding model.yaml nc=80 with nc=41\n",
      "\n",
      "                   from  n    params  module                                       arguments                     \n",
      "  0                  -1  1      1392  ultralytics.nn.modules.conv.Conv             [3, 48, 3, 2]                 \n",
      "  1                  -1  1     41664  ultralytics.nn.modules.conv.Conv             [48, 96, 3, 2]                \n",
      "  2                  -1  2    111360  ultralytics.nn.modules.block.C2f             [96, 96, 2, True]             \n",
      "  3                  -1  1    166272  ultralytics.nn.modules.conv.Conv             [96, 192, 3, 2]               \n",
      "  4                  -1  4    813312  ultralytics.nn.modules.block.C2f             [192, 192, 4, True]           \n",
      "  5                  -1  1    664320  ultralytics.nn.modules.conv.Conv             [192, 384, 3, 2]              \n",
      "  6                  -1  4   3248640  ultralytics.nn.modules.block.C2f             [384, 384, 4, True]           \n",
      "  7                  -1  1   1991808  ultralytics.nn.modules.conv.Conv             [384, 576, 3, 2]              \n",
      "  8                  -1  2   3985920  ultralytics.nn.modules.block.C2f             [576, 576, 2, True]           \n",
      "  9                  -1  1    831168  ultralytics.nn.modules.block.SPPF            [576, 576, 5]                 \n",
      " 10                  -1  1         0  torch.nn.modules.upsampling.Upsample         [None, 2, 'nearest']          \n",
      " 11             [-1, 6]  1         0  ultralytics.nn.modules.conv.Concat           [1]                           \n",
      " 12                  -1  2   1993728  ultralytics.nn.modules.block.C2f             [960, 384, 2]                 \n",
      " 13                  -1  1         0  torch.nn.modules.upsampling.Upsample         [None, 2, 'nearest']          \n",
      " 14             [-1, 4]  1         0  ultralytics.nn.modules.conv.Concat           [1]                           \n",
      " 15                  -1  2    517632  ultralytics.nn.modules.block.C2f             [576, 192, 2]                 \n",
      " 16                  -1  1    332160  ultralytics.nn.modules.conv.Conv             [192, 192, 3, 2]              \n",
      " 17            [-1, 12]  1         0  ultralytics.nn.modules.conv.Concat           [1]                           \n",
      " 18                  -1  2   1846272  ultralytics.nn.modules.block.C2f             [576, 384, 2]                 \n",
      " 19                  -1  1   1327872  ultralytics.nn.modules.conv.Conv             [384, 384, 3, 2]              \n",
      " 20             [-1, 9]  1         0  ultralytics.nn.modules.conv.Concat           [1]                           \n",
      " 21                  -1  2   4207104  ultralytics.nn.modules.block.C2f             [960, 576, 2]                 \n",
      " 22        [15, 18, 21]  1   3799435  ultralytics.nn.modules.head.Detect           [41, [192, 384, 576]]         \n",
      "Model summary: 295 layers, 25,880,059 parameters, 25,880,043 gradients, 79.2 GFLOPs\n",
      "\n",
      "Transferred 469/475 items from pretrained weights\n",
      "Freezing layer 'model.22.dfl.conv.weight'\n",
      "\u001b[34m\u001b[1mAMP: \u001b[0mrunning Automatic Mixed Precision (AMP) checks...\n",
      "\u001b[34m\u001b[1mAMP: \u001b[0mchecks passed \n"
     ]
    },
    {
     "name": "stderr",
     "output_type": "stream",
     "text": [
      "\u001b[34m\u001b[1mtrain: \u001b[0mScanning D:\\KULIAH\\SEMESTER 5\\RSBP\\Bacteri\\Detection-of-bacteria-in-water-using-Yolo-images\\Detect\\Detection-of-bacteria-in-water-using-Yolo-images\\temp\\labels\\train... 1879 images, 0 backgrounds, 0 corrupt: 100%|██████████| 1879/1879 [00:04<00:00, 404.23it/s]\n"
     ]
    },
    {
     "name": "stdout",
     "output_type": "stream",
     "text": [
      "\u001b[34m\u001b[1mtrain: \u001b[0mNew cache created: D:\\KULIAH\\SEMESTER 5\\RSBP\\Bacteri\\Detection-of-bacteria-in-water-using-Yolo-images\\Detect\\Detection-of-bacteria-in-water-using-Yolo-images\\temp\\labels\\train.cache\n",
      "\u001b[34m\u001b[1malbumentations: \u001b[0mBlur(p=0.01, blur_limit=(3, 7)), MedianBlur(p=0.01, blur_limit=(3, 7)), ToGray(p=0.01, num_output_channels=3, method='weighted_average'), CLAHE(p=0.01, clip_limit=(1.0, 4.0), tile_grid_size=(8, 8))\n"
     ]
    },
    {
     "name": "stderr",
     "output_type": "stream",
     "text": [
      "\u001b[34m\u001b[1mval: \u001b[0mScanning D:\\KULIAH\\SEMESTER 5\\RSBP\\Bacteri\\Detection-of-bacteria-in-water-using-Yolo-images\\Detect\\Detection-of-bacteria-in-water-using-Yolo-images\\temp\\labels\\val... 460 images, 0 backgrounds, 0 corrupt: 100%|██████████| 460/460 [00:01<00:00, 285.15it/s]"
     ]
    },
    {
     "name": "stdout",
     "output_type": "stream",
     "text": [
      "\u001b[34m\u001b[1mval: \u001b[0mNew cache created: D:\\KULIAH\\SEMESTER 5\\RSBP\\Bacteri\\Detection-of-bacteria-in-water-using-Yolo-images\\Detect\\Detection-of-bacteria-in-water-using-Yolo-images\\temp\\labels\\val.cache\n"
     ]
    },
    {
     "name": "stderr",
     "output_type": "stream",
     "text": [
      "\n"
     ]
    },
    {
     "name": "stdout",
     "output_type": "stream",
     "text": [
      "Plotting labels to runs\\train\\it2\\it234\\labels.jpg... \n",
      "\u001b[34m\u001b[1moptimizer:\u001b[0m 'optimizer=auto' found, ignoring 'lr0=0.01' and 'momentum=0.937' and determining best 'optimizer', 'lr0' and 'momentum' automatically... \n",
      "\u001b[34m\u001b[1moptimizer:\u001b[0m AdamW(lr=0.000222, momentum=0.9) with parameter groups 77 weight(decay=0.0), 84 weight(decay=0.0005), 83 bias(decay=0.0)\n",
      "Image sizes 640 train, 640 val\n",
      "Using 16 dataloader workers\n",
      "Logging results to \u001b[1mruns\\train\\it2\\it234\u001b[0m\n",
      "Starting training for 100 epochs...\n",
      "\n",
      "      Epoch    GPU_mem   box_loss   cls_loss   dfl_loss  Instances       Size\n"
     ]
    },
    {
     "name": "stderr",
     "output_type": "stream",
     "text": [
      "      1/100       6.9G      1.034       3.57      1.212         25        640: 100%|██████████| 118/118 [00:55<00:00,  2.11it/s]\n",
      "                 Class     Images  Instances      Box(P          R      mAP50  mAP50-95): 100%|██████████| 15/15 [00:16<00:00,  1.10s/it]\n"
     ]
    },
    {
     "name": "stdout",
     "output_type": "stream",
     "text": [
      "                   all        460       1016       0.56      0.309      0.345      0.298\n",
      "\n",
      "      Epoch    GPU_mem   box_loss   cls_loss   dfl_loss  Instances       Size\n"
     ]
    },
    {
     "name": "stderr",
     "output_type": "stream",
     "text": [
      "      2/100      7.17G     0.9117      2.037      1.128         34        640: 100%|██████████| 118/118 [00:54<00:00,  2.16it/s]\n",
      "                 Class     Images  Instances      Box(P          R      mAP50  mAP50-95): 100%|██████████| 15/15 [00:18<00:00,  1.22s/it]"
     ]
    },
    {
     "name": "stdout",
     "output_type": "stream",
     "text": [
      "                   all        460       1016      0.483      0.642      0.632      0.538\n"
     ]
    },
    {
     "name": "stderr",
     "output_type": "stream",
     "text": [
      "\n"
     ]
    },
    {
     "name": "stdout",
     "output_type": "stream",
     "text": [
      "\n",
      "      Epoch    GPU_mem   box_loss   cls_loss   dfl_loss  Instances       Size\n"
     ]
    },
    {
     "name": "stderr",
     "output_type": "stream",
     "text": [
      "      3/100      7.21G     0.8934      1.709      1.128         17        640: 100%|██████████| 118/118 [00:53<00:00,  2.19it/s]\n",
      "                 Class     Images  Instances      Box(P          R      mAP50  mAP50-95): 100%|██████████| 15/15 [00:50<00:00,  3.40s/it]"
     ]
    },
    {
     "name": "stdout",
     "output_type": "stream",
     "text": [
      "                   all        460       1016      0.628      0.573      0.622      0.524\n"
     ]
    },
    {
     "name": "stderr",
     "output_type": "stream",
     "text": [
      "\n"
     ]
    },
    {
     "name": "stdout",
     "output_type": "stream",
     "text": [
      "\n",
      "      Epoch    GPU_mem   box_loss   cls_loss   dfl_loss  Instances       Size\n"
     ]
    },
    {
     "name": "stderr",
     "output_type": "stream",
     "text": [
      "      4/100      7.08G     0.8896      1.502      1.125         40        640: 100%|██████████| 118/118 [00:58<00:00,  2.02it/s]\n",
      "                 Class     Images  Instances      Box(P          R      mAP50  mAP50-95): 100%|██████████| 15/15 [00:07<00:00,  1.95it/s]"
     ]
    },
    {
     "name": "stdout",
     "output_type": "stream",
     "text": [
      "                   all        460       1016      0.683      0.665      0.726      0.611\n"
     ]
    },
    {
     "name": "stderr",
     "output_type": "stream",
     "text": [
      "\n"
     ]
    },
    {
     "name": "stdout",
     "output_type": "stream",
     "text": [
      "\n",
      "      Epoch    GPU_mem   box_loss   cls_loss   dfl_loss  Instances       Size\n"
     ]
    },
    {
     "name": "stderr",
     "output_type": "stream",
     "text": [
      "      5/100      7.17G     0.8657      1.365      1.113         33        640: 100%|██████████| 118/118 [00:52<00:00,  2.24it/s]\n",
      "                 Class     Images  Instances      Box(P          R      mAP50  mAP50-95): 100%|██████████| 15/15 [00:11<00:00,  1.26it/s]"
     ]
    },
    {
     "name": "stdout",
     "output_type": "stream",
     "text": [
      "                   all        460       1016      0.716      0.676      0.747       0.64\n"
     ]
    },
    {
     "name": "stderr",
     "output_type": "stream",
     "text": [
      "\n"
     ]
    },
    {
     "name": "stdout",
     "output_type": "stream",
     "text": [
      "\n",
      "      Epoch    GPU_mem   box_loss   cls_loss   dfl_loss  Instances       Size\n"
     ]
    },
    {
     "name": "stderr",
     "output_type": "stream",
     "text": [
      "      6/100      7.09G      0.845      1.263      1.099         25        640: 100%|██████████| 118/118 [00:53<00:00,  2.21it/s]\n",
      "                 Class     Images  Instances      Box(P          R      mAP50  mAP50-95): 100%|██████████| 15/15 [00:10<00:00,  1.49it/s]"
     ]
    },
    {
     "name": "stdout",
     "output_type": "stream",
     "text": [
      "                   all        460       1016       0.72      0.701      0.762      0.661\n"
     ]
    },
    {
     "name": "stderr",
     "output_type": "stream",
     "text": [
      "\n"
     ]
    },
    {
     "name": "stdout",
     "output_type": "stream",
     "text": [
      "\n",
      "      Epoch    GPU_mem   box_loss   cls_loss   dfl_loss  Instances       Size\n"
     ]
    },
    {
     "name": "stderr",
     "output_type": "stream",
     "text": [
      "      7/100      7.18G     0.8109      1.175      1.089         18        640: 100%|██████████| 118/118 [00:51<00:00,  2.27it/s]\n",
      "                 Class     Images  Instances      Box(P          R      mAP50  mAP50-95): 100%|██████████| 15/15 [00:12<00:00,  1.22it/s]"
     ]
    },
    {
     "name": "stdout",
     "output_type": "stream",
     "text": [
      "                   all        460       1016       0.73       0.73      0.784      0.679\n"
     ]
    },
    {
     "name": "stderr",
     "output_type": "stream",
     "text": [
      "\n"
     ]
    },
    {
     "name": "stdout",
     "output_type": "stream",
     "text": [
      "\n",
      "      Epoch    GPU_mem   box_loss   cls_loss   dfl_loss  Instances       Size\n"
     ]
    },
    {
     "name": "stderr",
     "output_type": "stream",
     "text": [
      "      8/100      7.08G     0.7909      1.104      1.077         30        640: 100%|██████████| 118/118 [00:53<00:00,  2.21it/s]\n",
      "                 Class     Images  Instances      Box(P          R      mAP50  mAP50-95): 100%|██████████| 15/15 [00:09<00:00,  1.52it/s]"
     ]
    },
    {
     "name": "stdout",
     "output_type": "stream",
     "text": [
      "                   all        460       1016      0.736      0.729      0.787      0.686\n"
     ]
    },
    {
     "name": "stderr",
     "output_type": "stream",
     "text": [
      "\n"
     ]
    },
    {
     "name": "stdout",
     "output_type": "stream",
     "text": [
      "\n",
      "      Epoch    GPU_mem   box_loss   cls_loss   dfl_loss  Instances       Size\n"
     ]
    },
    {
     "name": "stderr",
     "output_type": "stream",
     "text": [
      "      9/100      7.18G     0.7879      1.087      1.076         16        640: 100%|██████████| 118/118 [00:51<00:00,  2.29it/s]\n",
      "                 Class     Images  Instances      Box(P          R      mAP50  mAP50-95): 100%|██████████| 15/15 [00:12<00:00,  1.21it/s]"
     ]
    },
    {
     "name": "stdout",
     "output_type": "stream",
     "text": [
      "                   all        460       1016      0.783      0.718      0.795      0.691\n"
     ]
    },
    {
     "name": "stderr",
     "output_type": "stream",
     "text": [
      "\n"
     ]
    },
    {
     "name": "stdout",
     "output_type": "stream",
     "text": [
      "\n",
      "      Epoch    GPU_mem   box_loss   cls_loss   dfl_loss  Instances       Size\n"
     ]
    },
    {
     "name": "stderr",
     "output_type": "stream",
     "text": [
      "     10/100      7.09G     0.7759      1.024      1.067         20        640: 100%|██████████| 118/118 [00:53<00:00,  2.22it/s]\n",
      "                 Class     Images  Instances      Box(P          R      mAP50  mAP50-95): 100%|██████████| 15/15 [00:10<00:00,  1.48it/s]"
     ]
    },
    {
     "name": "stdout",
     "output_type": "stream",
     "text": [
      "                   all        460       1016      0.745      0.792      0.829      0.717\n"
     ]
    },
    {
     "name": "stderr",
     "output_type": "stream",
     "text": [
      "\n"
     ]
    },
    {
     "name": "stdout",
     "output_type": "stream",
     "text": [
      "\n",
      "      Epoch    GPU_mem   box_loss   cls_loss   dfl_loss  Instances       Size\n"
     ]
    },
    {
     "name": "stderr",
     "output_type": "stream",
     "text": [
      "     11/100      7.17G     0.7618     0.9698      1.052         33        640: 100%|██████████| 118/118 [00:51<00:00,  2.29it/s]\n",
      "                 Class     Images  Instances      Box(P          R      mAP50  mAP50-95): 100%|██████████| 15/15 [00:12<00:00,  1.20it/s]"
     ]
    },
    {
     "name": "stdout",
     "output_type": "stream",
     "text": [
      "                   all        460       1016      0.799      0.722      0.784      0.684\n"
     ]
    },
    {
     "name": "stderr",
     "output_type": "stream",
     "text": [
      "\n"
     ]
    },
    {
     "name": "stdout",
     "output_type": "stream",
     "text": [
      "\n",
      "      Epoch    GPU_mem   box_loss   cls_loss   dfl_loss  Instances       Size\n"
     ]
    },
    {
     "name": "stderr",
     "output_type": "stream",
     "text": [
      "     12/100      7.09G     0.7659       0.95      1.066         21        640: 100%|██████████| 118/118 [00:54<00:00,  2.17it/s]\n",
      "                 Class     Images  Instances      Box(P          R      mAP50  mAP50-95): 100%|██████████| 15/15 [00:07<00:00,  2.05it/s]"
     ]
    },
    {
     "name": "stdout",
     "output_type": "stream",
     "text": [
      "                   all        460       1016      0.776      0.769      0.819      0.716\n"
     ]
    },
    {
     "name": "stderr",
     "output_type": "stream",
     "text": [
      "\n"
     ]
    },
    {
     "name": "stdout",
     "output_type": "stream",
     "text": [
      "\n",
      "      Epoch    GPU_mem   box_loss   cls_loss   dfl_loss  Instances       Size\n"
     ]
    },
    {
     "name": "stderr",
     "output_type": "stream",
     "text": [
      "     13/100      7.19G     0.7466     0.9294      1.049         29        640: 100%|██████████| 118/118 [00:51<00:00,  2.28it/s]\n",
      "                 Class     Images  Instances      Box(P          R      mAP50  mAP50-95): 100%|██████████| 15/15 [00:11<00:00,  1.35it/s]"
     ]
    },
    {
     "name": "stdout",
     "output_type": "stream",
     "text": [
      "                   all        460       1016      0.804       0.77      0.842      0.738\n"
     ]
    },
    {
     "name": "stderr",
     "output_type": "stream",
     "text": [
      "\n"
     ]
    },
    {
     "name": "stdout",
     "output_type": "stream",
     "text": [
      "\n",
      "      Epoch    GPU_mem   box_loss   cls_loss   dfl_loss  Instances       Size\n"
     ]
    },
    {
     "name": "stderr",
     "output_type": "stream",
     "text": [
      "     14/100      7.09G     0.7268     0.8956      1.043         35        640: 100%|██████████| 118/118 [00:51<00:00,  2.28it/s]\n",
      "                 Class     Images  Instances      Box(P          R      mAP50  mAP50-95): 100%|██████████| 15/15 [00:07<00:00,  1.92it/s]"
     ]
    },
    {
     "name": "stdout",
     "output_type": "stream",
     "text": [
      "                   all        460       1016      0.823      0.773      0.824      0.723\n"
     ]
    },
    {
     "name": "stderr",
     "output_type": "stream",
     "text": [
      "\n"
     ]
    },
    {
     "name": "stdout",
     "output_type": "stream",
     "text": [
      "\n",
      "      Epoch    GPU_mem   box_loss   cls_loss   dfl_loss  Instances       Size\n"
     ]
    },
    {
     "name": "stderr",
     "output_type": "stream",
     "text": [
      "     15/100      7.17G     0.7274     0.8743      1.046         23        640: 100%|██████████| 118/118 [00:51<00:00,  2.28it/s]\n",
      "                 Class     Images  Instances      Box(P          R      mAP50  mAP50-95): 100%|██████████| 15/15 [00:10<00:00,  1.38it/s]"
     ]
    },
    {
     "name": "stdout",
     "output_type": "stream",
     "text": [
      "                   all        460       1016      0.813       0.77      0.847      0.747\n"
     ]
    },
    {
     "name": "stderr",
     "output_type": "stream",
     "text": [
      "\n"
     ]
    },
    {
     "name": "stdout",
     "output_type": "stream",
     "text": [
      "\n",
      "      Epoch    GPU_mem   box_loss   cls_loss   dfl_loss  Instances       Size\n"
     ]
    },
    {
     "name": "stderr",
     "output_type": "stream",
     "text": [
      "     16/100      7.11G     0.7068     0.8261      1.028         35        640: 100%|██████████| 118/118 [00:51<00:00,  2.30it/s]\n",
      "                 Class     Images  Instances      Box(P          R      mAP50  mAP50-95): 100%|██████████| 15/15 [00:07<00:00,  1.93it/s]"
     ]
    },
    {
     "name": "stdout",
     "output_type": "stream",
     "text": [
      "                   all        460       1016      0.762      0.831       0.85      0.748\n"
     ]
    },
    {
     "name": "stderr",
     "output_type": "stream",
     "text": [
      "\n"
     ]
    },
    {
     "name": "stdout",
     "output_type": "stream",
     "text": [
      "\n",
      "      Epoch    GPU_mem   box_loss   cls_loss   dfl_loss  Instances       Size\n"
     ]
    },
    {
     "name": "stderr",
     "output_type": "stream",
     "text": [
      "     17/100      7.18G     0.6963      0.799      1.023         15        640: 100%|██████████| 118/118 [00:51<00:00,  2.29it/s]\n",
      "                 Class     Images  Instances      Box(P          R      mAP50  mAP50-95): 100%|██████████| 15/15 [00:10<00:00,  1.45it/s]"
     ]
    },
    {
     "name": "stdout",
     "output_type": "stream",
     "text": [
      "                   all        460       1016      0.859       0.79      0.849      0.753\n"
     ]
    },
    {
     "name": "stderr",
     "output_type": "stream",
     "text": [
      "\n"
     ]
    },
    {
     "name": "stdout",
     "output_type": "stream",
     "text": [
      "\n",
      "      Epoch    GPU_mem   box_loss   cls_loss   dfl_loss  Instances       Size\n"
     ]
    },
    {
     "name": "stderr",
     "output_type": "stream",
     "text": [
      "     18/100      7.09G     0.7099     0.8041      1.028         18        640: 100%|██████████| 118/118 [00:51<00:00,  2.30it/s]\n",
      "                 Class     Images  Instances      Box(P          R      mAP50  mAP50-95): 100%|██████████| 15/15 [00:06<00:00,  2.33it/s]"
     ]
    },
    {
     "name": "stdout",
     "output_type": "stream",
     "text": [
      "                   all        460       1016      0.822      0.778       0.85      0.754\n"
     ]
    },
    {
     "name": "stderr",
     "output_type": "stream",
     "text": [
      "\n"
     ]
    },
    {
     "name": "stdout",
     "output_type": "stream",
     "text": [
      "\n",
      "      Epoch    GPU_mem   box_loss   cls_loss   dfl_loss  Instances       Size\n"
     ]
    },
    {
     "name": "stderr",
     "output_type": "stream",
     "text": [
      "     19/100       7.2G     0.6957     0.7893      1.026         41        640: 100%|██████████| 118/118 [00:51<00:00,  2.29it/s]\n",
      "                 Class     Images  Instances      Box(P          R      mAP50  mAP50-95): 100%|██████████| 15/15 [00:17<00:00,  1.18s/it]"
     ]
    },
    {
     "name": "stdout",
     "output_type": "stream",
     "text": [
      "                   all        460       1016      0.816      0.792      0.847      0.748\n"
     ]
    },
    {
     "name": "stderr",
     "output_type": "stream",
     "text": [
      "\n"
     ]
    },
    {
     "name": "stdout",
     "output_type": "stream",
     "text": [
      "\n",
      "      Epoch    GPU_mem   box_loss   cls_loss   dfl_loss  Instances       Size\n"
     ]
    },
    {
     "name": "stderr",
     "output_type": "stream",
     "text": [
      "     20/100      7.09G     0.6854     0.7572      1.017         33        640: 100%|██████████| 118/118 [00:52<00:00,  2.25it/s]\n",
      "                 Class     Images  Instances      Box(P          R      mAP50  mAP50-95): 100%|██████████| 15/15 [00:07<00:00,  1.94it/s]"
     ]
    },
    {
     "name": "stdout",
     "output_type": "stream",
     "text": [
      "                   all        460       1016      0.823      0.815      0.858      0.761\n"
     ]
    },
    {
     "name": "stderr",
     "output_type": "stream",
     "text": [
      "\n"
     ]
    },
    {
     "name": "stdout",
     "output_type": "stream",
     "text": [
      "\n",
      "      Epoch    GPU_mem   box_loss   cls_loss   dfl_loss  Instances       Size\n"
     ]
    },
    {
     "name": "stderr",
     "output_type": "stream",
     "text": [
      "     21/100      7.18G     0.6677     0.7315      1.009         18        640: 100%|██████████| 118/118 [00:51<00:00,  2.28it/s]\n",
      "                 Class     Images  Instances      Box(P          R      mAP50  mAP50-95): 100%|██████████| 15/15 [00:10<00:00,  1.42it/s]"
     ]
    },
    {
     "name": "stdout",
     "output_type": "stream",
     "text": [
      "                   all        460       1016      0.849      0.812      0.865      0.771\n"
     ]
    },
    {
     "name": "stderr",
     "output_type": "stream",
     "text": [
      "\n"
     ]
    },
    {
     "name": "stdout",
     "output_type": "stream",
     "text": [
      "\n",
      "      Epoch    GPU_mem   box_loss   cls_loss   dfl_loss  Instances       Size\n"
     ]
    },
    {
     "name": "stderr",
     "output_type": "stream",
     "text": [
      "     22/100      7.09G     0.6752     0.7352      1.017         38        640: 100%|██████████| 118/118 [00:51<00:00,  2.29it/s]\n",
      "                 Class     Images  Instances      Box(P          R      mAP50  mAP50-95): 100%|██████████| 15/15 [00:08<00:00,  1.71it/s]"
     ]
    },
    {
     "name": "stdout",
     "output_type": "stream",
     "text": [
      "                   all        460       1016       0.82      0.832      0.852      0.755\n"
     ]
    },
    {
     "name": "stderr",
     "output_type": "stream",
     "text": [
      "\n"
     ]
    },
    {
     "name": "stdout",
     "output_type": "stream",
     "text": [
      "\n",
      "      Epoch    GPU_mem   box_loss   cls_loss   dfl_loss  Instances       Size\n"
     ]
    },
    {
     "name": "stderr",
     "output_type": "stream",
     "text": [
      "     23/100      7.19G     0.6687     0.7284      1.015         29        640: 100%|██████████| 118/118 [00:51<00:00,  2.29it/s]\n",
      "                 Class     Images  Instances      Box(P          R      mAP50  mAP50-95): 100%|██████████| 15/15 [00:06<00:00,  2.30it/s]"
     ]
    },
    {
     "name": "stdout",
     "output_type": "stream",
     "text": [
      "                   all        460       1016      0.865      0.794      0.853       0.76\n"
     ]
    },
    {
     "name": "stderr",
     "output_type": "stream",
     "text": [
      "\n"
     ]
    },
    {
     "name": "stdout",
     "output_type": "stream",
     "text": [
      "\n",
      "      Epoch    GPU_mem   box_loss   cls_loss   dfl_loss  Instances       Size\n"
     ]
    },
    {
     "name": "stderr",
     "output_type": "stream",
     "text": [
      "     24/100      7.09G     0.6572     0.7098      1.008         20        640: 100%|██████████| 118/118 [00:51<00:00,  2.29it/s]\n",
      "                 Class     Images  Instances      Box(P          R      mAP50  mAP50-95): 100%|██████████| 15/15 [00:07<00:00,  1.99it/s]"
     ]
    },
    {
     "name": "stdout",
     "output_type": "stream",
     "text": [
      "                   all        460       1016       0.86      0.823      0.863      0.765\n"
     ]
    },
    {
     "name": "stderr",
     "output_type": "stream",
     "text": [
      "\n"
     ]
    },
    {
     "name": "stdout",
     "output_type": "stream",
     "text": [
      "\n",
      "      Epoch    GPU_mem   box_loss   cls_loss   dfl_loss  Instances       Size\n"
     ]
    },
    {
     "name": "stderr",
     "output_type": "stream",
     "text": [
      "     25/100      7.15G     0.6628     0.7045      1.016         35        640: 100%|██████████| 118/118 [00:51<00:00,  2.28it/s]\n",
      "                 Class     Images  Instances      Box(P          R      mAP50  mAP50-95): 100%|██████████| 15/15 [00:09<00:00,  1.64it/s]"
     ]
    },
    {
     "name": "stdout",
     "output_type": "stream",
     "text": [
      "                   all        460       1016      0.815      0.816      0.858      0.761\n"
     ]
    },
    {
     "name": "stderr",
     "output_type": "stream",
     "text": [
      "\n"
     ]
    },
    {
     "name": "stdout",
     "output_type": "stream",
     "text": [
      "\n",
      "      Epoch    GPU_mem   box_loss   cls_loss   dfl_loss  Instances       Size\n"
     ]
    },
    {
     "name": "stderr",
     "output_type": "stream",
     "text": [
      "     26/100      7.11G      0.651     0.6963      1.003         23        640: 100%|██████████| 118/118 [00:51<00:00,  2.29it/s]\n",
      "                 Class     Images  Instances      Box(P          R      mAP50  mAP50-95): 100%|██████████| 15/15 [00:07<00:00,  2.00it/s]"
     ]
    },
    {
     "name": "stdout",
     "output_type": "stream",
     "text": [
      "                   all        460       1016       0.84      0.817      0.861      0.771\n"
     ]
    },
    {
     "name": "stderr",
     "output_type": "stream",
     "text": [
      "\n"
     ]
    },
    {
     "name": "stdout",
     "output_type": "stream",
     "text": [
      "\n",
      "      Epoch    GPU_mem   box_loss   cls_loss   dfl_loss  Instances       Size\n"
     ]
    },
    {
     "name": "stderr",
     "output_type": "stream",
     "text": [
      "     27/100      7.18G     0.6478     0.6727      1.005         18        640: 100%|██████████| 118/118 [00:51<00:00,  2.29it/s]\n",
      "                 Class     Images  Instances      Box(P          R      mAP50  mAP50-95): 100%|██████████| 15/15 [00:09<00:00,  1.66it/s]"
     ]
    },
    {
     "name": "stdout",
     "output_type": "stream",
     "text": [
      "                   all        460       1016      0.859      0.812      0.868      0.773\n"
     ]
    },
    {
     "name": "stderr",
     "output_type": "stream",
     "text": [
      "\n"
     ]
    },
    {
     "name": "stdout",
     "output_type": "stream",
     "text": [
      "\n",
      "      Epoch    GPU_mem   box_loss   cls_loss   dfl_loss  Instances       Size\n"
     ]
    },
    {
     "name": "stderr",
     "output_type": "stream",
     "text": [
      "     28/100      7.09G     0.6459     0.6772      1.002         20        640: 100%|██████████| 118/118 [00:51<00:00,  2.30it/s]\n",
      "                 Class     Images  Instances      Box(P          R      mAP50  mAP50-95): 100%|██████████| 15/15 [00:06<00:00,  2.36it/s]"
     ]
    },
    {
     "name": "stdout",
     "output_type": "stream",
     "text": [
      "                   all        460       1016      0.868      0.805      0.863      0.774\n"
     ]
    },
    {
     "name": "stderr",
     "output_type": "stream",
     "text": [
      "\n"
     ]
    },
    {
     "name": "stdout",
     "output_type": "stream",
     "text": [
      "\n",
      "      Epoch    GPU_mem   box_loss   cls_loss   dfl_loss  Instances       Size\n"
     ]
    },
    {
     "name": "stderr",
     "output_type": "stream",
     "text": [
      "     29/100      7.18G     0.6424     0.6438     0.9996         32        640: 100%|██████████| 118/118 [00:51<00:00,  2.29it/s]\n",
      "                 Class     Images  Instances      Box(P          R      mAP50  mAP50-95): 100%|██████████| 15/15 [00:08<00:00,  1.68it/s]"
     ]
    },
    {
     "name": "stdout",
     "output_type": "stream",
     "text": [
      "                   all        460       1016      0.855      0.818      0.862      0.775\n"
     ]
    },
    {
     "name": "stderr",
     "output_type": "stream",
     "text": [
      "\n"
     ]
    },
    {
     "name": "stdout",
     "output_type": "stream",
     "text": [
      "\n",
      "      Epoch    GPU_mem   box_loss   cls_loss   dfl_loss  Instances       Size\n"
     ]
    },
    {
     "name": "stderr",
     "output_type": "stream",
     "text": [
      "     30/100      7.08G     0.6277     0.6254     0.9953         10        640: 100%|██████████| 118/118 [00:51<00:00,  2.29it/s]\n",
      "                 Class     Images  Instances      Box(P          R      mAP50  mAP50-95): 100%|██████████| 15/15 [00:07<00:00,  1.91it/s]"
     ]
    },
    {
     "name": "stdout",
     "output_type": "stream",
     "text": [
      "                   all        460       1016      0.837      0.812      0.856       0.77\n"
     ]
    },
    {
     "name": "stderr",
     "output_type": "stream",
     "text": [
      "\n"
     ]
    },
    {
     "name": "stdout",
     "output_type": "stream",
     "text": [
      "\n",
      "      Epoch    GPU_mem   box_loss   cls_loss   dfl_loss  Instances       Size\n"
     ]
    },
    {
     "name": "stderr",
     "output_type": "stream",
     "text": [
      "     31/100      7.18G     0.6243     0.6401     0.9927         24        640: 100%|██████████| 118/118 [00:51<00:00,  2.29it/s]\n",
      "                 Class     Images  Instances      Box(P          R      mAP50  mAP50-95): 100%|██████████| 15/15 [00:22<00:00,  1.52s/it]"
     ]
    },
    {
     "name": "stdout",
     "output_type": "stream",
     "text": [
      "                   all        460       1016      0.826      0.831      0.862      0.777\n"
     ]
    },
    {
     "name": "stderr",
     "output_type": "stream",
     "text": [
      "\n"
     ]
    },
    {
     "name": "stdout",
     "output_type": "stream",
     "text": [
      "\n",
      "      Epoch    GPU_mem   box_loss   cls_loss   dfl_loss  Instances       Size\n"
     ]
    },
    {
     "name": "stderr",
     "output_type": "stream",
     "text": [
      "     32/100      7.09G     0.6234     0.6247      0.989         17        640: 100%|██████████| 118/118 [00:52<00:00,  2.25it/s]\n",
      "                 Class     Images  Instances      Box(P          R      mAP50  mAP50-95): 100%|██████████| 15/15 [00:07<00:00,  1.93it/s]"
     ]
    },
    {
     "name": "stdout",
     "output_type": "stream",
     "text": [
      "                   all        460       1016      0.855      0.819      0.859      0.775\n"
     ]
    },
    {
     "name": "stderr",
     "output_type": "stream",
     "text": [
      "\n"
     ]
    },
    {
     "name": "stdout",
     "output_type": "stream",
     "text": [
      "\n",
      "      Epoch    GPU_mem   box_loss   cls_loss   dfl_loss  Instances       Size\n"
     ]
    },
    {
     "name": "stderr",
     "output_type": "stream",
     "text": [
      "     33/100      7.22G     0.6188     0.6223     0.9886         31        640: 100%|██████████| 118/118 [00:51<00:00,  2.28it/s]\n",
      "                 Class     Images  Instances      Box(P          R      mAP50  mAP50-95): 100%|██████████| 15/15 [00:10<00:00,  1.39it/s]"
     ]
    },
    {
     "name": "stdout",
     "output_type": "stream",
     "text": [
      "                   all        460       1016       0.85      0.816      0.853      0.771\n"
     ]
    },
    {
     "name": "stderr",
     "output_type": "stream",
     "text": [
      "\n"
     ]
    },
    {
     "name": "stdout",
     "output_type": "stream",
     "text": [
      "\n",
      "      Epoch    GPU_mem   box_loss   cls_loss   dfl_loss  Instances       Size\n"
     ]
    },
    {
     "name": "stderr",
     "output_type": "stream",
     "text": [
      "     34/100      7.09G     0.6152     0.5942     0.9868         35        640: 100%|██████████| 118/118 [00:52<00:00,  2.25it/s]\n",
      "                 Class     Images  Instances      Box(P          R      mAP50  mAP50-95): 100%|██████████| 15/15 [00:07<00:00,  1.92it/s]"
     ]
    },
    {
     "name": "stdout",
     "output_type": "stream",
     "text": [
      "                   all        460       1016      0.842      0.816      0.862      0.774\n"
     ]
    },
    {
     "name": "stderr",
     "output_type": "stream",
     "text": [
      "\n"
     ]
    },
    {
     "name": "stdout",
     "output_type": "stream",
     "text": [
      "\n",
      "      Epoch    GPU_mem   box_loss   cls_loss   dfl_loss  Instances       Size\n"
     ]
    },
    {
     "name": "stderr",
     "output_type": "stream",
     "text": [
      "     35/100      7.18G     0.6022     0.5809     0.9753         28        640: 100%|██████████| 118/118 [00:51<00:00,  2.30it/s]\n",
      "                 Class     Images  Instances      Box(P          R      mAP50  mAP50-95): 100%|██████████| 15/15 [00:09<00:00,  1.54it/s]"
     ]
    },
    {
     "name": "stdout",
     "output_type": "stream",
     "text": [
      "                   all        460       1016      0.844      0.833      0.872      0.789\n"
     ]
    },
    {
     "name": "stderr",
     "output_type": "stream",
     "text": [
      "\n"
     ]
    },
    {
     "name": "stdout",
     "output_type": "stream",
     "text": [
      "\n",
      "      Epoch    GPU_mem   box_loss   cls_loss   dfl_loss  Instances       Size\n"
     ]
    },
    {
     "name": "stderr",
     "output_type": "stream",
     "text": [
      "     36/100      7.08G     0.6019     0.5771       0.98         22        640: 100%|██████████| 118/118 [00:51<00:00,  2.30it/s]\n",
      "                 Class     Images  Instances      Box(P          R      mAP50  mAP50-95): 100%|██████████| 15/15 [00:07<00:00,  2.00it/s]"
     ]
    },
    {
     "name": "stdout",
     "output_type": "stream",
     "text": [
      "                   all        460       1016      0.881      0.797      0.875       0.79\n"
     ]
    },
    {
     "name": "stderr",
     "output_type": "stream",
     "text": [
      "\n"
     ]
    },
    {
     "name": "stdout",
     "output_type": "stream",
     "text": [
      "\n",
      "      Epoch    GPU_mem   box_loss   cls_loss   dfl_loss  Instances       Size\n"
     ]
    },
    {
     "name": "stderr",
     "output_type": "stream",
     "text": [
      "     37/100       7.2G     0.5991     0.5691     0.9776         25        640: 100%|██████████| 118/118 [00:51<00:00,  2.28it/s]\n",
      "                 Class     Images  Instances      Box(P          R      mAP50  mAP50-95): 100%|██████████| 15/15 [00:11<00:00,  1.31it/s]"
     ]
    },
    {
     "name": "stdout",
     "output_type": "stream",
     "text": [
      "                   all        460       1016      0.893      0.812      0.885      0.795\n"
     ]
    },
    {
     "name": "stderr",
     "output_type": "stream",
     "text": [
      "\n"
     ]
    },
    {
     "name": "stdout",
     "output_type": "stream",
     "text": [
      "\n",
      "      Epoch    GPU_mem   box_loss   cls_loss   dfl_loss  Instances       Size\n"
     ]
    },
    {
     "name": "stderr",
     "output_type": "stream",
     "text": [
      "     38/100      7.08G     0.5957     0.5547     0.9745         28        640: 100%|██████████| 118/118 [00:51<00:00,  2.31it/s]\n",
      "                 Class     Images  Instances      Box(P          R      mAP50  mAP50-95): 100%|██████████| 15/15 [00:07<00:00,  1.97it/s]"
     ]
    },
    {
     "name": "stdout",
     "output_type": "stream",
     "text": [
      "                   all        460       1016      0.871      0.818       0.87      0.785\n"
     ]
    },
    {
     "name": "stderr",
     "output_type": "stream",
     "text": [
      "\n"
     ]
    },
    {
     "name": "stdout",
     "output_type": "stream",
     "text": [
      "\n",
      "      Epoch    GPU_mem   box_loss   cls_loss   dfl_loss  Instances       Size\n"
     ]
    },
    {
     "name": "stderr",
     "output_type": "stream",
     "text": [
      "     39/100      7.18G     0.5913     0.5661     0.9751         27        640: 100%|██████████| 118/118 [00:51<00:00,  2.28it/s]\n",
      "                 Class     Images  Instances      Box(P          R      mAP50  mAP50-95): 100%|██████████| 15/15 [00:06<00:00,  2.29it/s]"
     ]
    },
    {
     "name": "stdout",
     "output_type": "stream",
     "text": [
      "                   all        460       1016      0.865      0.834      0.879      0.793\n"
     ]
    },
    {
     "name": "stderr",
     "output_type": "stream",
     "text": [
      "\n"
     ]
    },
    {
     "name": "stdout",
     "output_type": "stream",
     "text": [
      "\n",
      "      Epoch    GPU_mem   box_loss   cls_loss   dfl_loss  Instances       Size\n"
     ]
    },
    {
     "name": "stderr",
     "output_type": "stream",
     "text": [
      "     40/100      7.09G     0.5862     0.5688     0.9744         23        640: 100%|██████████| 118/118 [00:51<00:00,  2.30it/s]\n",
      "                 Class     Images  Instances      Box(P          R      mAP50  mAP50-95): 100%|██████████| 15/15 [00:07<00:00,  1.99it/s]"
     ]
    },
    {
     "name": "stdout",
     "output_type": "stream",
     "text": [
      "                   all        460       1016      0.862      0.823      0.875      0.791\n"
     ]
    },
    {
     "name": "stderr",
     "output_type": "stream",
     "text": [
      "\n"
     ]
    },
    {
     "name": "stdout",
     "output_type": "stream",
     "text": [
      "\n",
      "      Epoch    GPU_mem   box_loss   cls_loss   dfl_loss  Instances       Size\n"
     ]
    },
    {
     "name": "stderr",
     "output_type": "stream",
     "text": [
      "     41/100      7.18G     0.5844     0.5497     0.9676         29        640: 100%|██████████| 118/118 [00:51<00:00,  2.29it/s]\n",
      "                 Class     Images  Instances      Box(P          R      mAP50  mAP50-95): 100%|██████████| 15/15 [00:10<00:00,  1.45it/s]"
     ]
    },
    {
     "name": "stdout",
     "output_type": "stream",
     "text": [
      "                   all        460       1016      0.857      0.821      0.874      0.789\n"
     ]
    },
    {
     "name": "stderr",
     "output_type": "stream",
     "text": [
      "\n"
     ]
    },
    {
     "name": "stdout",
     "output_type": "stream",
     "text": [
      "\n",
      "      Epoch    GPU_mem   box_loss   cls_loss   dfl_loss  Instances       Size\n"
     ]
    },
    {
     "name": "stderr",
     "output_type": "stream",
     "text": [
      "     42/100      7.15G     0.5804     0.5398     0.9711         36        640: 100%|██████████| 118/118 [00:51<00:00,  2.30it/s]\n",
      "                 Class     Images  Instances      Box(P          R      mAP50  mAP50-95): 100%|██████████| 15/15 [00:09<00:00,  1.61it/s]"
     ]
    },
    {
     "name": "stdout",
     "output_type": "stream",
     "text": [
      "                   all        460       1016      0.882      0.826      0.877      0.796\n"
     ]
    },
    {
     "name": "stderr",
     "output_type": "stream",
     "text": [
      "\n"
     ]
    },
    {
     "name": "stdout",
     "output_type": "stream",
     "text": [
      "\n",
      "      Epoch    GPU_mem   box_loss   cls_loss   dfl_loss  Instances       Size\n"
     ]
    },
    {
     "name": "stderr",
     "output_type": "stream",
     "text": [
      "     43/100      7.17G     0.5744     0.5365      0.966         33        640: 100%|██████████| 118/118 [00:51<00:00,  2.29it/s]\n",
      "                 Class     Images  Instances      Box(P          R      mAP50  mAP50-95): 100%|██████████| 15/15 [00:13<00:00,  1.15it/s]"
     ]
    },
    {
     "name": "stdout",
     "output_type": "stream",
     "text": [
      "                   all        460       1016      0.858      0.823      0.872      0.791\n"
     ]
    },
    {
     "name": "stderr",
     "output_type": "stream",
     "text": [
      "\n"
     ]
    },
    {
     "name": "stdout",
     "output_type": "stream",
     "text": [
      "\n",
      "      Epoch    GPU_mem   box_loss   cls_loss   dfl_loss  Instances       Size\n"
     ]
    },
    {
     "name": "stderr",
     "output_type": "stream",
     "text": [
      "     44/100      7.09G     0.5672     0.5318     0.9628         27        640: 100%|██████████| 118/118 [00:51<00:00,  2.29it/s]\n",
      "                 Class     Images  Instances      Box(P          R      mAP50  mAP50-95): 100%|██████████| 15/15 [00:07<00:00,  1.96it/s]"
     ]
    },
    {
     "name": "stdout",
     "output_type": "stream",
     "text": [
      "                   all        460       1016       0.85      0.838       0.87       0.79\n"
     ]
    },
    {
     "name": "stderr",
     "output_type": "stream",
     "text": [
      "\n"
     ]
    },
    {
     "name": "stdout",
     "output_type": "stream",
     "text": [
      "\n",
      "      Epoch    GPU_mem   box_loss   cls_loss   dfl_loss  Instances       Size\n"
     ]
    },
    {
     "name": "stderr",
     "output_type": "stream",
     "text": [
      "     45/100      7.24G     0.5574     0.5205     0.9608         31        640: 100%|██████████| 118/118 [00:51<00:00,  2.29it/s]\n",
      "                 Class     Images  Instances      Box(P          R      mAP50  mAP50-95): 100%|██████████| 15/15 [00:10<00:00,  1.40it/s]"
     ]
    },
    {
     "name": "stdout",
     "output_type": "stream",
     "text": [
      "                   all        460       1016      0.857      0.833      0.872      0.792\n"
     ]
    },
    {
     "name": "stderr",
     "output_type": "stream",
     "text": [
      "\n"
     ]
    },
    {
     "name": "stdout",
     "output_type": "stream",
     "text": [
      "\n",
      "      Epoch    GPU_mem   box_loss   cls_loss   dfl_loss  Instances       Size\n"
     ]
    },
    {
     "name": "stderr",
     "output_type": "stream",
     "text": [
      "     46/100      7.06G     0.5672     0.5105     0.9616         30        640: 100%|██████████| 118/118 [00:51<00:00,  2.29it/s]\n",
      "                 Class     Images  Instances      Box(P          R      mAP50  mAP50-95): 100%|██████████| 15/15 [00:06<00:00,  2.34it/s]"
     ]
    },
    {
     "name": "stdout",
     "output_type": "stream",
     "text": [
      "                   all        460       1016      0.837      0.829      0.869      0.782\n"
     ]
    },
    {
     "name": "stderr",
     "output_type": "stream",
     "text": [
      "\n"
     ]
    },
    {
     "name": "stdout",
     "output_type": "stream",
     "text": [
      "\n",
      "      Epoch    GPU_mem   box_loss   cls_loss   dfl_loss  Instances       Size\n"
     ]
    },
    {
     "name": "stderr",
     "output_type": "stream",
     "text": [
      "     47/100      7.18G     0.5601     0.5066     0.9604         30        640: 100%|██████████| 118/118 [00:51<00:00,  2.29it/s]\n",
      "                 Class     Images  Instances      Box(P          R      mAP50  mAP50-95): 100%|██████████| 15/15 [00:07<00:00,  2.07it/s]"
     ]
    },
    {
     "name": "stdout",
     "output_type": "stream",
     "text": [
      "                   all        460       1016      0.879      0.817      0.871      0.786\n"
     ]
    },
    {
     "name": "stderr",
     "output_type": "stream",
     "text": [
      "\n"
     ]
    },
    {
     "name": "stdout",
     "output_type": "stream",
     "text": [
      "\n",
      "      Epoch    GPU_mem   box_loss   cls_loss   dfl_loss  Instances       Size\n"
     ]
    },
    {
     "name": "stderr",
     "output_type": "stream",
     "text": [
      "     48/100      7.09G     0.5549     0.5056     0.9571         25        640: 100%|██████████| 118/118 [00:51<00:00,  2.30it/s]\n",
      "                 Class     Images  Instances      Box(P          R      mAP50  mAP50-95): 100%|██████████| 15/15 [00:07<00:00,  1.99it/s]"
     ]
    },
    {
     "name": "stdout",
     "output_type": "stream",
     "text": [
      "                   all        460       1016      0.853      0.839      0.876      0.795\n"
     ]
    },
    {
     "name": "stderr",
     "output_type": "stream",
     "text": [
      "\n"
     ]
    },
    {
     "name": "stdout",
     "output_type": "stream",
     "text": [
      "\n",
      "      Epoch    GPU_mem   box_loss   cls_loss   dfl_loss  Instances       Size\n"
     ]
    },
    {
     "name": "stderr",
     "output_type": "stream",
     "text": [
      "     49/100      7.18G     0.5605     0.5022     0.9637         37        640: 100%|██████████| 118/118 [00:51<00:00,  2.27it/s]\n",
      "                 Class     Images  Instances      Box(P          R      mAP50  mAP50-95): 100%|██████████| 15/15 [00:10<00:00,  1.45it/s]"
     ]
    },
    {
     "name": "stdout",
     "output_type": "stream",
     "text": [
      "                   all        460       1016      0.888      0.826      0.877      0.798\n"
     ]
    },
    {
     "name": "stderr",
     "output_type": "stream",
     "text": [
      "\n"
     ]
    },
    {
     "name": "stdout",
     "output_type": "stream",
     "text": [
      "\n",
      "      Epoch    GPU_mem   box_loss   cls_loss   dfl_loss  Instances       Size\n"
     ]
    },
    {
     "name": "stderr",
     "output_type": "stream",
     "text": [
      "     50/100      7.09G     0.5706     0.5165     0.9646         25        640: 100%|██████████| 118/118 [00:51<00:00,  2.31it/s]\n",
      "                 Class     Images  Instances      Box(P          R      mAP50  mAP50-95): 100%|██████████| 15/15 [00:07<00:00,  1.96it/s]"
     ]
    },
    {
     "name": "stdout",
     "output_type": "stream",
     "text": [
      "                   all        460       1016       0.85      0.839      0.874      0.792\n"
     ]
    },
    {
     "name": "stderr",
     "output_type": "stream",
     "text": [
      "\n"
     ]
    },
    {
     "name": "stdout",
     "output_type": "stream",
     "text": [
      "\n",
      "      Epoch    GPU_mem   box_loss   cls_loss   dfl_loss  Instances       Size\n"
     ]
    },
    {
     "name": "stderr",
     "output_type": "stream",
     "text": [
      "     51/100      7.18G     0.5462     0.4912     0.9473         32        640: 100%|██████████| 118/118 [00:51<00:00,  2.29it/s]\n",
      "                 Class     Images  Instances      Box(P          R      mAP50  mAP50-95): 100%|██████████| 15/15 [00:08<00:00,  1.75it/s]"
     ]
    },
    {
     "name": "stdout",
     "output_type": "stream",
     "text": [
      "                   all        460       1016      0.865      0.831      0.869      0.785\n"
     ]
    },
    {
     "name": "stderr",
     "output_type": "stream",
     "text": [
      "\n"
     ]
    },
    {
     "name": "stdout",
     "output_type": "stream",
     "text": [
      "\n",
      "      Epoch    GPU_mem   box_loss   cls_loss   dfl_loss  Instances       Size\n"
     ]
    },
    {
     "name": "stderr",
     "output_type": "stream",
     "text": [
      "     52/100      7.08G     0.5379     0.4755     0.9473         24        640: 100%|██████████| 118/118 [00:52<00:00,  2.23it/s]\n",
      "                 Class     Images  Instances      Box(P          R      mAP50  mAP50-95): 100%|██████████| 15/15 [00:07<00:00,  2.00it/s]"
     ]
    },
    {
     "name": "stdout",
     "output_type": "stream",
     "text": [
      "                   all        460       1016      0.863      0.824      0.867      0.798\n"
     ]
    },
    {
     "name": "stderr",
     "output_type": "stream",
     "text": [
      "\n"
     ]
    },
    {
     "name": "stdout",
     "output_type": "stream",
     "text": [
      "\n",
      "      Epoch    GPU_mem   box_loss   cls_loss   dfl_loss  Instances       Size\n"
     ]
    },
    {
     "name": "stderr",
     "output_type": "stream",
     "text": [
      "     53/100      7.19G     0.5508     0.4991      0.957         21        640: 100%|██████████| 118/118 [00:51<00:00,  2.29it/s]\n",
      "                 Class     Images  Instances      Box(P          R      mAP50  mAP50-95): 100%|██████████| 15/15 [00:10<00:00,  1.44it/s]"
     ]
    },
    {
     "name": "stdout",
     "output_type": "stream",
     "text": [
      "                   all        460       1016      0.886      0.822      0.873      0.798\n"
     ]
    },
    {
     "name": "stderr",
     "output_type": "stream",
     "text": [
      "\n"
     ]
    },
    {
     "name": "stdout",
     "output_type": "stream",
     "text": [
      "\n",
      "      Epoch    GPU_mem   box_loss   cls_loss   dfl_loss  Instances       Size\n"
     ]
    },
    {
     "name": "stderr",
     "output_type": "stream",
     "text": [
      "     54/100      7.08G     0.5506     0.4917     0.9536         11        640: 100%|██████████| 118/118 [00:51<00:00,  2.30it/s]\n",
      "                 Class     Images  Instances      Box(P          R      mAP50  mAP50-95): 100%|██████████| 15/15 [00:07<00:00,  1.93it/s]"
     ]
    },
    {
     "name": "stdout",
     "output_type": "stream",
     "text": [
      "                   all        460       1016      0.878      0.837      0.872      0.791\n"
     ]
    },
    {
     "name": "stderr",
     "output_type": "stream",
     "text": [
      "\n"
     ]
    },
    {
     "name": "stdout",
     "output_type": "stream",
     "text": [
      "\n",
      "      Epoch    GPU_mem   box_loss   cls_loss   dfl_loss  Instances       Size\n"
     ]
    },
    {
     "name": "stderr",
     "output_type": "stream",
     "text": [
      "     55/100       7.2G     0.5337     0.4692     0.9405         13        640: 100%|██████████| 118/118 [00:51<00:00,  2.28it/s]\n",
      "                 Class     Images  Instances      Box(P          R      mAP50  mAP50-95): 100%|██████████| 15/15 [00:06<00:00,  2.15it/s]"
     ]
    },
    {
     "name": "stdout",
     "output_type": "stream",
     "text": [
      "                   all        460       1016      0.899      0.831      0.881        0.8\n"
     ]
    },
    {
     "name": "stderr",
     "output_type": "stream",
     "text": [
      "\n"
     ]
    },
    {
     "name": "stdout",
     "output_type": "stream",
     "text": [
      "\n",
      "      Epoch    GPU_mem   box_loss   cls_loss   dfl_loss  Instances       Size\n"
     ]
    },
    {
     "name": "stderr",
     "output_type": "stream",
     "text": [
      "     56/100      7.08G     0.5288     0.4687      0.942         24        640: 100%|██████████| 118/118 [00:51<00:00,  2.29it/s]\n",
      "                 Class     Images  Instances      Box(P          R      mAP50  mAP50-95): 100%|██████████| 15/15 [00:07<00:00,  2.01it/s]"
     ]
    },
    {
     "name": "stdout",
     "output_type": "stream",
     "text": [
      "                   all        460       1016      0.881      0.839      0.884      0.807\n"
     ]
    },
    {
     "name": "stderr",
     "output_type": "stream",
     "text": [
      "\n"
     ]
    },
    {
     "name": "stdout",
     "output_type": "stream",
     "text": [
      "\n",
      "      Epoch    GPU_mem   box_loss   cls_loss   dfl_loss  Instances       Size\n"
     ]
    },
    {
     "name": "stderr",
     "output_type": "stream",
     "text": [
      "     57/100      7.19G     0.5312     0.4592     0.9481         13        640: 100%|██████████| 118/118 [00:51<00:00,  2.30it/s]\n",
      "                 Class     Images  Instances      Box(P          R      mAP50  mAP50-95): 100%|██████████| 15/15 [00:10<00:00,  1.46it/s]"
     ]
    },
    {
     "name": "stdout",
     "output_type": "stream",
     "text": [
      "                   all        460       1016      0.878      0.831      0.877      0.796\n"
     ]
    },
    {
     "name": "stderr",
     "output_type": "stream",
     "text": [
      "\n"
     ]
    },
    {
     "name": "stdout",
     "output_type": "stream",
     "text": [
      "\n",
      "      Epoch    GPU_mem   box_loss   cls_loss   dfl_loss  Instances       Size\n"
     ]
    },
    {
     "name": "stderr",
     "output_type": "stream",
     "text": [
      "     58/100      7.09G      0.529      0.455     0.9445         22        640: 100%|██████████| 118/118 [00:51<00:00,  2.29it/s]\n",
      "                 Class     Images  Instances      Box(P          R      mAP50  mAP50-95): 100%|██████████| 15/15 [00:07<00:00,  1.93it/s]"
     ]
    },
    {
     "name": "stdout",
     "output_type": "stream",
     "text": [
      "                   all        460       1016      0.878      0.836      0.876      0.794\n"
     ]
    },
    {
     "name": "stderr",
     "output_type": "stream",
     "text": [
      "\n"
     ]
    },
    {
     "name": "stdout",
     "output_type": "stream",
     "text": [
      "\n",
      "      Epoch    GPU_mem   box_loss   cls_loss   dfl_loss  Instances       Size\n"
     ]
    },
    {
     "name": "stderr",
     "output_type": "stream",
     "text": [
      "     59/100      7.18G     0.5284     0.4619      0.957         23        640: 100%|██████████| 118/118 [00:51<00:00,  2.29it/s]\n",
      "                 Class     Images  Instances      Box(P          R      mAP50  mAP50-95): 100%|██████████| 15/15 [00:07<00:00,  2.01it/s]"
     ]
    },
    {
     "name": "stdout",
     "output_type": "stream",
     "text": [
      "                   all        460       1016      0.863      0.841      0.876        0.8\n"
     ]
    },
    {
     "name": "stderr",
     "output_type": "stream",
     "text": [
      "\n"
     ]
    },
    {
     "name": "stdout",
     "output_type": "stream",
     "text": [
      "\n",
      "      Epoch    GPU_mem   box_loss   cls_loss   dfl_loss  Instances       Size\n"
     ]
    },
    {
     "name": "stderr",
     "output_type": "stream",
     "text": [
      "     60/100       7.1G     0.5285     0.4655     0.9432         34        640: 100%|██████████| 118/118 [00:51<00:00,  2.29it/s]\n",
      "                 Class     Images  Instances      Box(P          R      mAP50  mAP50-95): 100%|██████████| 15/15 [00:07<00:00,  2.00it/s]"
     ]
    },
    {
     "name": "stdout",
     "output_type": "stream",
     "text": [
      "                   all        460       1016      0.893      0.822      0.882      0.802\n"
     ]
    },
    {
     "name": "stderr",
     "output_type": "stream",
     "text": [
      "\n"
     ]
    },
    {
     "name": "stdout",
     "output_type": "stream",
     "text": [
      "\n",
      "      Epoch    GPU_mem   box_loss   cls_loss   dfl_loss  Instances       Size\n"
     ]
    },
    {
     "name": "stderr",
     "output_type": "stream",
     "text": [
      "     61/100      7.17G     0.5016     0.4454     0.9303         36        640: 100%|██████████| 118/118 [00:51<00:00,  2.27it/s]\n",
      "                 Class     Images  Instances      Box(P          R      mAP50  mAP50-95): 100%|██████████| 15/15 [00:10<00:00,  1.48it/s]"
     ]
    },
    {
     "name": "stdout",
     "output_type": "stream",
     "text": [
      "                   all        460       1016      0.898      0.822      0.882      0.804\n"
     ]
    },
    {
     "name": "stderr",
     "output_type": "stream",
     "text": [
      "\n"
     ]
    },
    {
     "name": "stdout",
     "output_type": "stream",
     "text": [
      "\n",
      "      Epoch    GPU_mem   box_loss   cls_loss   dfl_loss  Instances       Size\n"
     ]
    },
    {
     "name": "stderr",
     "output_type": "stream",
     "text": [
      "     62/100      7.08G     0.5197     0.4533     0.9426         24        640: 100%|██████████| 118/118 [00:51<00:00,  2.30it/s]\n",
      "                 Class     Images  Instances      Box(P          R      mAP50  mAP50-95): 100%|██████████| 15/15 [00:07<00:00,  1.94it/s]"
     ]
    },
    {
     "name": "stdout",
     "output_type": "stream",
     "text": [
      "                   all        460       1016       0.89      0.835      0.874      0.797\n"
     ]
    },
    {
     "name": "stderr",
     "output_type": "stream",
     "text": [
      "\n"
     ]
    },
    {
     "name": "stdout",
     "output_type": "stream",
     "text": [
      "\n",
      "      Epoch    GPU_mem   box_loss   cls_loss   dfl_loss  Instances       Size\n"
     ]
    },
    {
     "name": "stderr",
     "output_type": "stream",
     "text": [
      "     63/100      7.17G     0.5153     0.4529      0.944         19        640: 100%|██████████| 118/118 [00:51<00:00,  2.29it/s]\n",
      "                 Class     Images  Instances      Box(P          R      mAP50  mAP50-95): 100%|██████████| 15/15 [00:10<00:00,  1.47it/s]"
     ]
    },
    {
     "name": "stdout",
     "output_type": "stream",
     "text": [
      "                   all        460       1016      0.896      0.819      0.871      0.789\n"
     ]
    },
    {
     "name": "stderr",
     "output_type": "stream",
     "text": [
      "\n"
     ]
    },
    {
     "name": "stdout",
     "output_type": "stream",
     "text": [
      "\n",
      "      Epoch    GPU_mem   box_loss   cls_loss   dfl_loss  Instances       Size\n"
     ]
    },
    {
     "name": "stderr",
     "output_type": "stream",
     "text": [
      "     64/100      7.08G     0.5112     0.4393     0.9406         26        640: 100%|██████████| 118/118 [00:51<00:00,  2.29it/s]\n",
      "                 Class     Images  Instances      Box(P          R      mAP50  mAP50-95): 100%|██████████| 15/15 [00:07<00:00,  2.00it/s]"
     ]
    },
    {
     "name": "stdout",
     "output_type": "stream",
     "text": [
      "                   all        460       1016      0.887      0.827      0.878      0.801\n"
     ]
    },
    {
     "name": "stderr",
     "output_type": "stream",
     "text": [
      "\n"
     ]
    },
    {
     "name": "stdout",
     "output_type": "stream",
     "text": [
      "\n",
      "      Epoch    GPU_mem   box_loss   cls_loss   dfl_loss  Instances       Size\n"
     ]
    },
    {
     "name": "stderr",
     "output_type": "stream",
     "text": [
      "     65/100      7.17G     0.5031     0.4285     0.9345         53        640: 100%|██████████| 118/118 [00:51<00:00,  2.29it/s]\n",
      "                 Class     Images  Instances      Box(P          R      mAP50  mAP50-95): 100%|██████████| 15/15 [00:10<00:00,  1.45it/s]"
     ]
    },
    {
     "name": "stdout",
     "output_type": "stream",
     "text": [
      "                   all        460       1016      0.891      0.838      0.868      0.794\n"
     ]
    },
    {
     "name": "stderr",
     "output_type": "stream",
     "text": [
      "\n"
     ]
    },
    {
     "name": "stdout",
     "output_type": "stream",
     "text": [
      "\n",
      "      Epoch    GPU_mem   box_loss   cls_loss   dfl_loss  Instances       Size\n"
     ]
    },
    {
     "name": "stderr",
     "output_type": "stream",
     "text": [
      "     66/100      7.08G     0.4914     0.4258      0.925         20        640: 100%|██████████| 118/118 [00:51<00:00,  2.29it/s]\n",
      "                 Class     Images  Instances      Box(P          R      mAP50  mAP50-95): 100%|██████████| 15/15 [00:08<00:00,  1.82it/s]"
     ]
    },
    {
     "name": "stdout",
     "output_type": "stream",
     "text": [
      "                   all        460       1016      0.888      0.833      0.876      0.803\n"
     ]
    },
    {
     "name": "stderr",
     "output_type": "stream",
     "text": [
      "\n"
     ]
    },
    {
     "name": "stdout",
     "output_type": "stream",
     "text": [
      "\n",
      "      Epoch    GPU_mem   box_loss   cls_loss   dfl_loss  Instances       Size\n"
     ]
    },
    {
     "name": "stderr",
     "output_type": "stream",
     "text": [
      "     67/100      7.18G     0.4976     0.4151     0.9283         35        640: 100%|██████████| 118/118 [00:51<00:00,  2.28it/s]\n",
      "                 Class     Images  Instances      Box(P          R      mAP50  mAP50-95): 100%|██████████| 15/15 [00:10<00:00,  1.47it/s]"
     ]
    },
    {
     "name": "stdout",
     "output_type": "stream",
     "text": [
      "                   all        460       1016      0.889      0.829      0.873        0.8\n"
     ]
    },
    {
     "name": "stderr",
     "output_type": "stream",
     "text": [
      "\n"
     ]
    },
    {
     "name": "stdout",
     "output_type": "stream",
     "text": [
      "\n",
      "      Epoch    GPU_mem   box_loss   cls_loss   dfl_loss  Instances       Size\n"
     ]
    },
    {
     "name": "stderr",
     "output_type": "stream",
     "text": [
      "     68/100      7.09G     0.4911     0.4181     0.9299         28        640: 100%|██████████| 118/118 [00:51<00:00,  2.29it/s]\n",
      "                 Class     Images  Instances      Box(P          R      mAP50  mAP50-95): 100%|██████████| 15/15 [00:07<00:00,  2.02it/s]"
     ]
    },
    {
     "name": "stdout",
     "output_type": "stream",
     "text": [
      "                   all        460       1016      0.882       0.84      0.873      0.798\n"
     ]
    },
    {
     "name": "stderr",
     "output_type": "stream",
     "text": [
      "\n"
     ]
    },
    {
     "name": "stdout",
     "output_type": "stream",
     "text": [
      "\n",
      "      Epoch    GPU_mem   box_loss   cls_loss   dfl_loss  Instances       Size\n"
     ]
    },
    {
     "name": "stderr",
     "output_type": "stream",
     "text": [
      "     69/100      7.19G     0.4778     0.4001     0.9266         32        640: 100%|██████████| 118/118 [00:51<00:00,  2.28it/s]\n",
      "                 Class     Images  Instances      Box(P          R      mAP50  mAP50-95): 100%|██████████| 15/15 [00:10<00:00,  1.38it/s]"
     ]
    },
    {
     "name": "stdout",
     "output_type": "stream",
     "text": [
      "                   all        460       1016      0.895      0.824      0.871      0.798\n"
     ]
    },
    {
     "name": "stderr",
     "output_type": "stream",
     "text": [
      "\n"
     ]
    },
    {
     "name": "stdout",
     "output_type": "stream",
     "text": [
      "\n",
      "      Epoch    GPU_mem   box_loss   cls_loss   dfl_loss  Instances       Size\n"
     ]
    },
    {
     "name": "stderr",
     "output_type": "stream",
     "text": [
      "     70/100      7.08G     0.4913     0.4235     0.9361         38        640: 100%|██████████| 118/118 [00:51<00:00,  2.30it/s]\n",
      "                 Class     Images  Instances      Box(P          R      mAP50  mAP50-95): 100%|██████████| 15/15 [00:07<00:00,  1.99it/s]"
     ]
    },
    {
     "name": "stdout",
     "output_type": "stream",
     "text": [
      "                   all        460       1016      0.903      0.833      0.878      0.804\n"
     ]
    },
    {
     "name": "stderr",
     "output_type": "stream",
     "text": [
      "\n"
     ]
    },
    {
     "name": "stdout",
     "output_type": "stream",
     "text": [
      "\n",
      "      Epoch    GPU_mem   box_loss   cls_loss   dfl_loss  Instances       Size\n"
     ]
    },
    {
     "name": "stderr",
     "output_type": "stream",
     "text": [
      "     71/100      7.18G     0.4746     0.3999     0.9218         18        640: 100%|██████████| 118/118 [00:51<00:00,  2.30it/s]\n",
      "                 Class     Images  Instances      Box(P          R      mAP50  mAP50-95): 100%|██████████| 15/15 [00:07<00:00,  2.07it/s]"
     ]
    },
    {
     "name": "stdout",
     "output_type": "stream",
     "text": [
      "                   all        460       1016      0.903      0.827      0.878      0.803\n"
     ]
    },
    {
     "name": "stderr",
     "output_type": "stream",
     "text": [
      "\n"
     ]
    },
    {
     "name": "stdout",
     "output_type": "stream",
     "text": [
      "\n",
      "      Epoch    GPU_mem   box_loss   cls_loss   dfl_loss  Instances       Size\n"
     ]
    },
    {
     "name": "stderr",
     "output_type": "stream",
     "text": [
      "     72/100      7.08G     0.4897      0.413     0.9302         25        640: 100%|██████████| 118/118 [00:51<00:00,  2.29it/s]\n",
      "                 Class     Images  Instances      Box(P          R      mAP50  mAP50-95): 100%|██████████| 15/15 [00:07<00:00,  1.98it/s]"
     ]
    },
    {
     "name": "stdout",
     "output_type": "stream",
     "text": [
      "                   all        460       1016      0.872      0.837      0.878      0.804\n"
     ]
    },
    {
     "name": "stderr",
     "output_type": "stream",
     "text": [
      "\n"
     ]
    },
    {
     "name": "stdout",
     "output_type": "stream",
     "text": [
      "\n",
      "      Epoch    GPU_mem   box_loss   cls_loss   dfl_loss  Instances       Size\n"
     ]
    },
    {
     "name": "stderr",
     "output_type": "stream",
     "text": [
      "     73/100      7.18G     0.4764     0.3925     0.9251         20        640: 100%|██████████| 118/118 [00:51<00:00,  2.29it/s]\n",
      "                 Class     Images  Instances      Box(P          R      mAP50  mAP50-95): 100%|██████████| 15/15 [00:10<00:00,  1.38it/s]"
     ]
    },
    {
     "name": "stdout",
     "output_type": "stream",
     "text": [
      "                   all        460       1016      0.902      0.816      0.872      0.802\n"
     ]
    },
    {
     "name": "stderr",
     "output_type": "stream",
     "text": [
      "\n"
     ]
    },
    {
     "name": "stdout",
     "output_type": "stream",
     "text": [
      "\n",
      "      Epoch    GPU_mem   box_loss   cls_loss   dfl_loss  Instances       Size\n"
     ]
    },
    {
     "name": "stderr",
     "output_type": "stream",
     "text": [
      "     74/100      7.08G     0.4788     0.4001     0.9235         14        640: 100%|██████████| 118/118 [00:51<00:00,  2.29it/s]\n",
      "                 Class     Images  Instances      Box(P          R      mAP50  mAP50-95): 100%|██████████| 15/15 [00:07<00:00,  1.90it/s]"
     ]
    },
    {
     "name": "stdout",
     "output_type": "stream",
     "text": [
      "                   all        460       1016      0.897      0.826      0.873      0.804\n"
     ]
    },
    {
     "name": "stderr",
     "output_type": "stream",
     "text": [
      "\n"
     ]
    },
    {
     "name": "stdout",
     "output_type": "stream",
     "text": [
      "\n",
      "      Epoch    GPU_mem   box_loss   cls_loss   dfl_loss  Instances       Size\n"
     ]
    },
    {
     "name": "stderr",
     "output_type": "stream",
     "text": [
      "     75/100       7.2G     0.4707     0.3977     0.9216         25        640: 100%|██████████| 118/118 [00:51<00:00,  2.29it/s]\n",
      "                 Class     Images  Instances      Box(P          R      mAP50  mAP50-95): 100%|██████████| 15/15 [00:10<00:00,  1.46it/s]"
     ]
    },
    {
     "name": "stdout",
     "output_type": "stream",
     "text": [
      "                   all        460       1016      0.886      0.831      0.873      0.803\n"
     ]
    },
    {
     "name": "stderr",
     "output_type": "stream",
     "text": [
      "\n"
     ]
    },
    {
     "name": "stdout",
     "output_type": "stream",
     "text": [
      "\n",
      "      Epoch    GPU_mem   box_loss   cls_loss   dfl_loss  Instances       Size\n"
     ]
    },
    {
     "name": "stderr",
     "output_type": "stream",
     "text": [
      "     76/100      7.09G     0.4621     0.3939     0.9114         26        640: 100%|██████████| 118/118 [00:51<00:00,  2.29it/s]\n",
      "                 Class     Images  Instances      Box(P          R      mAP50  mAP50-95): 100%|██████████| 15/15 [00:07<00:00,  2.01it/s]"
     ]
    },
    {
     "name": "stdout",
     "output_type": "stream",
     "text": [
      "                   all        460       1016      0.895      0.832      0.877      0.802\n"
     ]
    },
    {
     "name": "stderr",
     "output_type": "stream",
     "text": [
      "\n"
     ]
    },
    {
     "name": "stdout",
     "output_type": "stream",
     "text": [
      "\n",
      "      Epoch    GPU_mem   box_loss   cls_loss   dfl_loss  Instances       Size\n"
     ]
    },
    {
     "name": "stderr",
     "output_type": "stream",
     "text": [
      "     77/100      7.15G     0.4666     0.3889     0.9164         41        640: 100%|██████████| 118/118 [00:51<00:00,  2.29it/s]\n",
      "                 Class     Images  Instances      Box(P          R      mAP50  mAP50-95): 100%|██████████| 15/15 [00:10<00:00,  1.41it/s]"
     ]
    },
    {
     "name": "stdout",
     "output_type": "stream",
     "text": [
      "                   all        460       1016      0.907      0.822      0.881      0.811\n"
     ]
    },
    {
     "name": "stderr",
     "output_type": "stream",
     "text": [
      "\n"
     ]
    },
    {
     "name": "stdout",
     "output_type": "stream",
     "text": [
      "\n",
      "      Epoch    GPU_mem   box_loss   cls_loss   dfl_loss  Instances       Size\n"
     ]
    },
    {
     "name": "stderr",
     "output_type": "stream",
     "text": [
      "     78/100      7.08G      0.456     0.3854     0.9141         29        640: 100%|██████████| 118/118 [00:51<00:00,  2.29it/s]\n",
      "                 Class     Images  Instances      Box(P          R      mAP50  mAP50-95): 100%|██████████| 15/15 [00:07<00:00,  1.92it/s]"
     ]
    },
    {
     "name": "stdout",
     "output_type": "stream",
     "text": [
      "                   all        460       1016      0.891      0.835      0.884      0.812\n"
     ]
    },
    {
     "name": "stderr",
     "output_type": "stream",
     "text": [
      "\n"
     ]
    },
    {
     "name": "stdout",
     "output_type": "stream",
     "text": [
      "\n",
      "      Epoch    GPU_mem   box_loss   cls_loss   dfl_loss  Instances       Size\n"
     ]
    },
    {
     "name": "stderr",
     "output_type": "stream",
     "text": [
      "     79/100       7.2G     0.4627     0.3819     0.9194         34        640: 100%|██████████| 118/118 [00:51<00:00,  2.29it/s]\n",
      "                 Class     Images  Instances      Box(P          R      mAP50  mAP50-95): 100%|██████████| 15/15 [00:12<00:00,  1.21it/s]"
     ]
    },
    {
     "name": "stdout",
     "output_type": "stream",
     "text": [
      "                   all        460       1016      0.869      0.857       0.89      0.815\n"
     ]
    },
    {
     "name": "stderr",
     "output_type": "stream",
     "text": [
      "\n"
     ]
    },
    {
     "name": "stdout",
     "output_type": "stream",
     "text": [
      "\n",
      "      Epoch    GPU_mem   box_loss   cls_loss   dfl_loss  Instances       Size\n"
     ]
    },
    {
     "name": "stderr",
     "output_type": "stream",
     "text": [
      "     80/100      7.11G     0.4523     0.3801     0.9173         21        640: 100%|██████████| 118/118 [00:52<00:00,  2.26it/s]\n",
      "                 Class     Images  Instances      Box(P          R      mAP50  mAP50-95): 100%|██████████| 15/15 [00:10<00:00,  1.42it/s]"
     ]
    },
    {
     "name": "stdout",
     "output_type": "stream",
     "text": [
      "                   all        460       1016      0.883      0.849      0.881      0.806\n"
     ]
    },
    {
     "name": "stderr",
     "output_type": "stream",
     "text": [
      "\n"
     ]
    },
    {
     "name": "stdout",
     "output_type": "stream",
     "text": [
      "\n",
      "      Epoch    GPU_mem   box_loss   cls_loss   dfl_loss  Instances       Size\n"
     ]
    },
    {
     "name": "stderr",
     "output_type": "stream",
     "text": [
      "     81/100      7.18G      0.459     0.3847     0.9177         30        640: 100%|██████████| 118/118 [00:51<00:00,  2.28it/s]\n",
      "                 Class     Images  Instances      Box(P          R      mAP50  mAP50-95): 100%|██████████| 15/15 [00:12<00:00,  1.18it/s]"
     ]
    },
    {
     "name": "stdout",
     "output_type": "stream",
     "text": [
      "                   all        460       1016      0.893      0.843      0.886      0.813\n"
     ]
    },
    {
     "name": "stderr",
     "output_type": "stream",
     "text": [
      "\n"
     ]
    },
    {
     "name": "stdout",
     "output_type": "stream",
     "text": [
      "\n",
      "      Epoch    GPU_mem   box_loss   cls_loss   dfl_loss  Instances       Size\n"
     ]
    },
    {
     "name": "stderr",
     "output_type": "stream",
     "text": [
      "     82/100      7.09G     0.4572     0.3771     0.9188         22        640: 100%|██████████| 118/118 [00:52<00:00,  2.27it/s]\n",
      "                 Class     Images  Instances      Box(P          R      mAP50  mAP50-95): 100%|██████████| 15/15 [00:09<00:00,  1.52it/s]"
     ]
    },
    {
     "name": "stdout",
     "output_type": "stream",
     "text": [
      "                   all        460       1016      0.886      0.842      0.886      0.815\n"
     ]
    },
    {
     "name": "stderr",
     "output_type": "stream",
     "text": [
      "\n"
     ]
    },
    {
     "name": "stdout",
     "output_type": "stream",
     "text": [
      "\n",
      "      Epoch    GPU_mem   box_loss   cls_loss   dfl_loss  Instances       Size\n"
     ]
    },
    {
     "name": "stderr",
     "output_type": "stream",
     "text": [
      "     83/100      7.19G     0.4514     0.3751      0.916         18        640: 100%|██████████| 118/118 [00:51<00:00,  2.30it/s]\n",
      "                 Class     Images  Instances      Box(P          R      mAP50  mAP50-95): 100%|██████████| 15/15 [00:08<00:00,  1.69it/s]"
     ]
    },
    {
     "name": "stdout",
     "output_type": "stream",
     "text": [
      "                   all        460       1016      0.901      0.832      0.881       0.81\n"
     ]
    },
    {
     "name": "stderr",
     "output_type": "stream",
     "text": [
      "\n"
     ]
    },
    {
     "name": "stdout",
     "output_type": "stream",
     "text": [
      "\n",
      "      Epoch    GPU_mem   box_loss   cls_loss   dfl_loss  Instances       Size\n"
     ]
    },
    {
     "name": "stderr",
     "output_type": "stream",
     "text": [
      "     84/100      7.09G      0.445     0.3797      0.909         32        640: 100%|██████████| 118/118 [00:53<00:00,  2.20it/s]\n",
      "                 Class     Images  Instances      Box(P          R      mAP50  mAP50-95): 100%|██████████| 15/15 [00:10<00:00,  1.46it/s]"
     ]
    },
    {
     "name": "stdout",
     "output_type": "stream",
     "text": [
      "                   all        460       1016      0.893      0.832       0.88      0.809\n"
     ]
    },
    {
     "name": "stderr",
     "output_type": "stream",
     "text": [
      "\n"
     ]
    },
    {
     "name": "stdout",
     "output_type": "stream",
     "text": [
      "\n",
      "      Epoch    GPU_mem   box_loss   cls_loss   dfl_loss  Instances       Size\n"
     ]
    },
    {
     "name": "stderr",
     "output_type": "stream",
     "text": [
      "     85/100      7.17G     0.4434     0.3625     0.9127         11        640: 100%|██████████| 118/118 [00:51<00:00,  2.29it/s]\n",
      "                 Class     Images  Instances      Box(P          R      mAP50  mAP50-95): 100%|██████████| 15/15 [00:10<00:00,  1.37it/s]"
     ]
    },
    {
     "name": "stdout",
     "output_type": "stream",
     "text": [
      "                   all        460       1016      0.894      0.843       0.88      0.808\n"
     ]
    },
    {
     "name": "stderr",
     "output_type": "stream",
     "text": [
      "\n"
     ]
    },
    {
     "name": "stdout",
     "output_type": "stream",
     "text": [
      "\n",
      "      Epoch    GPU_mem   box_loss   cls_loss   dfl_loss  Instances       Size\n"
     ]
    },
    {
     "name": "stderr",
     "output_type": "stream",
     "text": [
      "     86/100      7.09G     0.4362     0.3608     0.9033         29        640: 100%|██████████| 118/118 [00:51<00:00,  2.30it/s]\n",
      "                 Class     Images  Instances      Box(P          R      mAP50  mAP50-95): 100%|██████████| 15/15 [00:07<00:00,  2.00it/s]"
     ]
    },
    {
     "name": "stdout",
     "output_type": "stream",
     "text": [
      "                   all        460       1016      0.904      0.825      0.876      0.806\n"
     ]
    },
    {
     "name": "stderr",
     "output_type": "stream",
     "text": [
      "\n"
     ]
    },
    {
     "name": "stdout",
     "output_type": "stream",
     "text": [
      "\n",
      "      Epoch    GPU_mem   box_loss   cls_loss   dfl_loss  Instances       Size\n"
     ]
    },
    {
     "name": "stderr",
     "output_type": "stream",
     "text": [
      "     87/100      7.18G     0.4361     0.3579     0.9096         32        640: 100%|██████████| 118/118 [00:51<00:00,  2.29it/s]\n",
      "                 Class     Images  Instances      Box(P          R      mAP50  mAP50-95): 100%|██████████| 15/15 [00:10<00:00,  1.48it/s]"
     ]
    },
    {
     "name": "stdout",
     "output_type": "stream",
     "text": [
      "                   all        460       1016      0.879      0.848      0.878      0.807\n"
     ]
    },
    {
     "name": "stderr",
     "output_type": "stream",
     "text": [
      "\n"
     ]
    },
    {
     "name": "stdout",
     "output_type": "stream",
     "text": [
      "\n",
      "      Epoch    GPU_mem   box_loss   cls_loss   dfl_loss  Instances       Size\n"
     ]
    },
    {
     "name": "stderr",
     "output_type": "stream",
     "text": [
      "     88/100      7.08G     0.4409     0.3606     0.9107         23        640: 100%|██████████| 118/118 [00:51<00:00,  2.29it/s]\n",
      "                 Class     Images  Instances      Box(P          R      mAP50  mAP50-95): 100%|██████████| 15/15 [00:07<00:00,  2.01it/s]"
     ]
    },
    {
     "name": "stdout",
     "output_type": "stream",
     "text": [
      "                   all        460       1016      0.905      0.832      0.878      0.809\n"
     ]
    },
    {
     "name": "stderr",
     "output_type": "stream",
     "text": [
      "\n"
     ]
    },
    {
     "name": "stdout",
     "output_type": "stream",
     "text": [
      "\n",
      "      Epoch    GPU_mem   box_loss   cls_loss   dfl_loss  Instances       Size\n"
     ]
    },
    {
     "name": "stderr",
     "output_type": "stream",
     "text": [
      "     89/100      7.19G     0.4343      0.364     0.9083         29        640: 100%|██████████| 118/118 [00:51<00:00,  2.29it/s]\n",
      "                 Class     Images  Instances      Box(P          R      mAP50  mAP50-95): 100%|██████████| 15/15 [00:10<00:00,  1.45it/s]"
     ]
    },
    {
     "name": "stdout",
     "output_type": "stream",
     "text": [
      "                   all        460       1016      0.893      0.836      0.882      0.811\n"
     ]
    },
    {
     "name": "stderr",
     "output_type": "stream",
     "text": [
      "\n"
     ]
    },
    {
     "name": "stdout",
     "output_type": "stream",
     "text": [
      "\n",
      "      Epoch    GPU_mem   box_loss   cls_loss   dfl_loss  Instances       Size\n"
     ]
    },
    {
     "name": "stderr",
     "output_type": "stream",
     "text": [
      "     90/100      7.11G     0.4355     0.3609     0.9077         20        640: 100%|██████████| 118/118 [00:51<00:00,  2.27it/s]\n",
      "                 Class     Images  Instances      Box(P          R      mAP50  mAP50-95): 100%|██████████| 15/15 [00:09<00:00,  1.65it/s]"
     ]
    },
    {
     "name": "stdout",
     "output_type": "stream",
     "text": [
      "                   all        460       1016      0.894      0.837      0.883      0.811\n"
     ]
    },
    {
     "name": "stderr",
     "output_type": "stream",
     "text": [
      "\n"
     ]
    },
    {
     "name": "stdout",
     "output_type": "stream",
     "text": [
      "Closing dataloader mosaic\n",
      "\u001b[34m\u001b[1malbumentations: \u001b[0mBlur(p=0.01, blur_limit=(3, 7)), MedianBlur(p=0.01, blur_limit=(3, 7)), ToGray(p=0.01, num_output_channels=3, method='weighted_average'), CLAHE(p=0.01, clip_limit=(1.0, 4.0), tile_grid_size=(8, 8))\n",
      "\n",
      "      Epoch    GPU_mem   box_loss   cls_loss   dfl_loss  Instances       Size\n"
     ]
    },
    {
     "name": "stderr",
     "output_type": "stream",
     "text": [
      "     91/100      7.18G     0.3861     0.2854     0.8658         12        640: 100%|██████████| 118/118 [00:56<00:00,  2.08it/s]\n",
      "                 Class     Images  Instances      Box(P          R      mAP50  mAP50-95): 100%|██████████| 15/15 [00:16<00:00,  1.12s/it]"
     ]
    },
    {
     "name": "stdout",
     "output_type": "stream",
     "text": [
      "                   all        460       1016      0.884      0.828      0.871      0.803\n"
     ]
    },
    {
     "name": "stderr",
     "output_type": "stream",
     "text": [
      "\n"
     ]
    },
    {
     "name": "stdout",
     "output_type": "stream",
     "text": [
      "\n",
      "      Epoch    GPU_mem   box_loss   cls_loss   dfl_loss  Instances       Size\n"
     ]
    },
    {
     "name": "stderr",
     "output_type": "stream",
     "text": [
      "     92/100      7.09G     0.3761     0.2669     0.8703          9        640: 100%|██████████| 118/118 [00:57<00:00,  2.06it/s]\n",
      "                 Class     Images  Instances      Box(P          R      mAP50  mAP50-95): 100%|██████████| 15/15 [00:12<00:00,  1.21it/s]"
     ]
    },
    {
     "name": "stdout",
     "output_type": "stream",
     "text": [
      "                   all        460       1016      0.887      0.839      0.877      0.809\n"
     ]
    },
    {
     "name": "stderr",
     "output_type": "stream",
     "text": [
      "\n"
     ]
    },
    {
     "name": "stdout",
     "output_type": "stream",
     "text": [
      "\n",
      "      Epoch    GPU_mem   box_loss   cls_loss   dfl_loss  Instances       Size\n"
     ]
    },
    {
     "name": "stderr",
     "output_type": "stream",
     "text": [
      "     93/100      7.18G     0.3675     0.2669     0.8633          8        640: 100%|██████████| 118/118 [00:55<00:00,  2.12it/s]\n",
      "                 Class     Images  Instances      Box(P          R      mAP50  mAP50-95): 100%|██████████| 15/15 [00:16<00:00,  1.08s/it]"
     ]
    },
    {
     "name": "stdout",
     "output_type": "stream",
     "text": [
      "                   all        460       1016        0.9       0.84      0.879      0.813\n"
     ]
    },
    {
     "name": "stderr",
     "output_type": "stream",
     "text": [
      "\n"
     ]
    },
    {
     "name": "stdout",
     "output_type": "stream",
     "text": [
      "\n",
      "      Epoch    GPU_mem   box_loss   cls_loss   dfl_loss  Instances       Size\n"
     ]
    },
    {
     "name": "stderr",
     "output_type": "stream",
     "text": [
      "     94/100      7.07G     0.3576      0.258     0.8606         18        640: 100%|██████████| 118/118 [00:56<00:00,  2.10it/s]\n",
      "                 Class     Images  Instances      Box(P          R      mAP50  mAP50-95): 100%|██████████| 15/15 [00:47<00:00,  3.14s/it]"
     ]
    },
    {
     "name": "stdout",
     "output_type": "stream",
     "text": [
      "                   all        460       1016      0.892      0.838      0.883      0.812\n"
     ]
    },
    {
     "name": "stderr",
     "output_type": "stream",
     "text": [
      "\n"
     ]
    },
    {
     "name": "stdout",
     "output_type": "stream",
     "text": [
      "\n",
      "      Epoch    GPU_mem   box_loss   cls_loss   dfl_loss  Instances       Size\n"
     ]
    },
    {
     "name": "stderr",
     "output_type": "stream",
     "text": [
      "     95/100      7.18G      0.373     0.2686      0.861         15        640: 100%|██████████| 118/118 [00:52<00:00,  2.26it/s]\n",
      "                 Class     Images  Instances      Box(P          R      mAP50  mAP50-95): 100%|██████████| 15/15 [00:07<00:00,  1.99it/s]"
     ]
    },
    {
     "name": "stdout",
     "output_type": "stream",
     "text": [
      "                   all        460       1016      0.905      0.832      0.877       0.81\n"
     ]
    },
    {
     "name": "stderr",
     "output_type": "stream",
     "text": [
      "\n"
     ]
    },
    {
     "name": "stdout",
     "output_type": "stream",
     "text": [
      "\n",
      "      Epoch    GPU_mem   box_loss   cls_loss   dfl_loss  Instances       Size\n"
     ]
    },
    {
     "name": "stderr",
     "output_type": "stream",
     "text": [
      "     96/100      7.08G     0.3596     0.2525     0.8651         11        640: 100%|██████████| 118/118 [00:53<00:00,  2.20it/s]\n",
      "                 Class     Images  Instances      Box(P          R      mAP50  mAP50-95): 100%|██████████| 15/15 [00:08<00:00,  1.68it/s]"
     ]
    },
    {
     "name": "stdout",
     "output_type": "stream",
     "text": [
      "                   all        460       1016      0.903      0.834      0.875      0.809\n"
     ]
    },
    {
     "name": "stderr",
     "output_type": "stream",
     "text": [
      "\n"
     ]
    },
    {
     "name": "stdout",
     "output_type": "stream",
     "text": [
      "\n",
      "      Epoch    GPU_mem   box_loss   cls_loss   dfl_loss  Instances       Size\n"
     ]
    },
    {
     "name": "stderr",
     "output_type": "stream",
     "text": [
      "     97/100      7.17G     0.3641     0.2615     0.8645         12        640: 100%|██████████| 118/118 [00:52<00:00,  2.26it/s]\n",
      "                 Class     Images  Instances      Box(P          R      mAP50  mAP50-95): 100%|██████████| 15/15 [00:13<00:00,  1.11it/s]"
     ]
    },
    {
     "name": "stdout",
     "output_type": "stream",
     "text": [
      "                   all        460       1016      0.907      0.829      0.878      0.811\n"
     ]
    },
    {
     "name": "stderr",
     "output_type": "stream",
     "text": [
      "\n"
     ]
    },
    {
     "name": "stdout",
     "output_type": "stream",
     "text": [
      "\n",
      "      Epoch    GPU_mem   box_loss   cls_loss   dfl_loss  Instances       Size\n"
     ]
    },
    {
     "name": "stderr",
     "output_type": "stream",
     "text": [
      "     98/100      7.06G     0.3474     0.2498     0.8511         19        640: 100%|██████████| 118/118 [00:55<00:00,  2.11it/s]\n",
      "                 Class     Images  Instances      Box(P          R      mAP50  mAP50-95): 100%|██████████| 15/15 [00:14<00:00,  1.05it/s]"
     ]
    },
    {
     "name": "stdout",
     "output_type": "stream",
     "text": [
      "                   all        460       1016      0.904      0.829      0.877      0.811\n"
     ]
    },
    {
     "name": "stderr",
     "output_type": "stream",
     "text": [
      "\n"
     ]
    },
    {
     "name": "stdout",
     "output_type": "stream",
     "text": [
      "\n",
      "      Epoch    GPU_mem   box_loss   cls_loss   dfl_loss  Instances       Size\n"
     ]
    },
    {
     "name": "stderr",
     "output_type": "stream",
     "text": [
      "     99/100      7.16G      0.356     0.2571     0.8592         14        640: 100%|██████████| 118/118 [00:56<00:00,  2.10it/s]\n",
      "                 Class     Images  Instances      Box(P          R      mAP50  mAP50-95): 100%|██████████| 15/15 [00:17<00:00,  1.16s/it]"
     ]
    },
    {
     "name": "stdout",
     "output_type": "stream",
     "text": [
      "                   all        460       1016      0.906      0.827      0.876      0.812\n"
     ]
    },
    {
     "name": "stderr",
     "output_type": "stream",
     "text": [
      "\n"
     ]
    },
    {
     "name": "stdout",
     "output_type": "stream",
     "text": [
      "\n",
      "      Epoch    GPU_mem   box_loss   cls_loss   dfl_loss  Instances       Size\n"
     ]
    },
    {
     "name": "stderr",
     "output_type": "stream",
     "text": [
      "    100/100      7.09G      0.353     0.2518     0.8516          9        640: 100%|██████████| 118/118 [00:56<00:00,  2.10it/s]\n",
      "                 Class     Images  Instances      Box(P          R      mAP50  mAP50-95): 100%|██████████| 15/15 [00:11<00:00,  1.29it/s]"
     ]
    },
    {
     "name": "stdout",
     "output_type": "stream",
     "text": [
      "                   all        460       1016      0.904       0.83      0.877      0.813\n"
     ]
    },
    {
     "name": "stderr",
     "output_type": "stream",
     "text": [
      "\n"
     ]
    },
    {
     "name": "stdout",
     "output_type": "stream",
     "text": [
      "\n",
      "100 epochs completed in 1.792 hours.\n",
      "Optimizer stripped from runs\\train\\it2\\it234\\weights\\last.pt, 52.1MB\n",
      "Optimizer stripped from runs\\train\\it2\\it234\\weights\\best.pt, 52.1MB\n",
      "\n",
      "Validating runs\\train\\it2\\it234\\weights\\best.pt...\n",
      "Ultralytics 8.3.21  Python-3.9.20 torch-2.5.0 CUDA:0 (NVIDIA GeForce RTX 4060 Laptop GPU, 8188MiB)\n",
      "Model summary (fused): 218 layers, 25,863,499 parameters, 0 gradients, 78.8 GFLOPs\n"
     ]
    },
    {
     "name": "stderr",
     "output_type": "stream",
     "text": [
      "                 Class     Images  Instances      Box(P          R      mAP50  mAP50-95): 100%|██████████| 15/15 [00:09<00:00,  1.63it/s]\n"
     ]
    },
    {
     "name": "stdout",
     "output_type": "stream",
     "text": [
      "                   all        460       1016      0.882      0.846      0.889      0.816\n",
      "          Oscillatoria         12         38      0.782      0.567      0.731       0.57\n",
      "        Ankistrodesmus          3          3      0.198      0.333      0.375       0.34\n",
      "           Microcystis         88        151      0.843       0.64      0.746      0.609\n",
      "            Gomphonema         23         25      0.989          1      0.995      0.968\n",
      "         Sphaerocystis         13         13      0.992          1      0.995      0.974\n",
      "             Cosmarium          8          8      0.716          1      0.982      0.878\n",
      "             Cocconeis          1          1          1          1      0.995      0.995\n",
      "             Tribonema          9         14      0.775      0.493      0.549      0.475\n",
      "             Chlorella         31         35      0.853      0.499      0.683      0.572\n",
      "            Tetraedron          4          8      0.973          1      0.995       0.83\n",
      "        Ankistrodesmus         12         12      0.908          1      0.957      0.875\n",
      "            Brachionus         25         28      0.952      0.893      0.976      0.951\n",
      "               Chaenea          4          6      0.988      0.833      0.854        0.7\n",
      "            Pediastrum         19         20          1      0.961      0.995      0.977\n",
      "             Spirulina         10         10      0.721        0.7      0.786       0.66\n",
      "           Actinastrum         30         52      0.934       0.82      0.926      0.752\n",
      "              Navicula         17         19       0.96      0.947      0.988      0.972\n",
      "           Scenedesmus         26         28      0.952      0.929      0.945      0.857\n",
      "            Golenkinia         24         35      0.864      0.725      0.779      0.531\n",
      "            Pinnularia          6          6      0.823          1      0.972      0.972\n",
      "           Staurastrum          2          2      0.946          1      0.995      0.951\n",
      "            Phormidium        146        255      0.897      0.773      0.877       0.74\n",
      "            Fragilaria         10         10       0.97        0.9      0.917      0.865\n",
      "          Anabaenopsis          7          7      0.959          1      0.995      0.925\n",
      "        Coelosphaerium         28         34      0.829      0.715      0.853      0.771\n",
      "            Crucigenia          3          3      0.712          1      0.995      0.953\n",
      "            Achnanthes          4          4       0.92       0.75      0.801      0.801\n",
      "               Synedra         45         57      0.818      0.632      0.766      0.684\n",
      "              Ceratium          4          4       0.93          1      0.995      0.971\n",
      "             Pompholyx          6          6      0.821      0.833      0.848      0.808\n",
      "          Merismopedia          6          7      0.963          1      0.995      0.904\n",
      "             Spirogyra         13         20      0.845        0.9      0.918      0.882\n",
      "            Coelastrum          5          5      0.948          1      0.995      0.937\n",
      "          Raphidiopsis          2          5          1       0.71      0.962      0.882\n",
      "        Gomphosphaeria         16         21      0.783       0.81      0.887      0.868\n",
      "               Euglena         17         17          1      0.938      0.982      0.955\n",
      "              Euclanis          3          3      0.934          1      0.995      0.995\n",
      "             Keratella         13         13          1      0.966      0.995       0.91\n",
      "         diversicornis         18         18      0.982          1      0.995       0.96\n",
      "             Surirella          9          9      0.805      0.921      0.963      0.776\n",
      "             Characium          2          4      0.888        0.5      0.515      0.463\n",
      "Speed: 0.2ms preprocess, 16.0ms inference, 0.0ms loss, 0.9ms postprocess per image\n",
      "Results saved to \u001b[1mruns\\train\\it2\\it234\u001b[0m\n",
      "Ultralytics 8.3.21  Python-3.9.20 torch-2.5.0 CUDA:0 (NVIDIA GeForce RTX 4060 Laptop GPU, 8188MiB)\n",
      "Model summary (fused): 218 layers, 25,863,499 parameters, 0 gradients, 78.8 GFLOPs\n"
     ]
    },
    {
     "name": "stderr",
     "output_type": "stream",
     "text": [
      "\u001b[34m\u001b[1mval: \u001b[0mScanning D:\\KULIAH\\SEMESTER 5\\RSBP\\Bacteri\\Detection-of-bacteria-in-water-using-Yolo-images\\Detect\\Detection-of-bacteria-in-water-using-Yolo-images\\temp\\labels\\val.cache... 460 images, 0 backgrounds, 0 corrupt: 100%|██████████| 460/460 [00:00<?, ?it/s]\n",
      "                 Class     Images  Instances      Box(P          R      mAP50  mAP50-95): 100%|██████████| 29/29 [00:15<00:00,  1.87it/s]\n"
     ]
    },
    {
     "name": "stdout",
     "output_type": "stream",
     "text": [
      "                   all        460       1016      0.889      0.842       0.89      0.816\n",
      "          Oscillatoria         12         38      0.778      0.553      0.727      0.568\n",
      "        Ankistrodesmus          3          3      0.251      0.333      0.375       0.34\n",
      "           Microcystis         88        151      0.839      0.622      0.747       0.61\n",
      "            Gomphonema         23         25      0.991          1      0.995      0.968\n",
      "         Sphaerocystis         13         13      0.995          1      0.995      0.974\n",
      "             Cosmarium          8          8       0.72          1      0.982      0.864\n",
      "             Cocconeis          1          1          1          1      0.995      0.995\n",
      "             Tribonema          9         14      0.771      0.481      0.548      0.474\n",
      "             Chlorella         31         35       0.85      0.485      0.684      0.575\n",
      "            Tetraedron          4          8      0.978          1      0.995      0.841\n",
      "        Ankistrodesmus         12         12      0.911          1      0.957      0.868\n",
      "            Brachionus         25         28      0.956      0.893      0.973       0.95\n",
      "               Chaenea          4          6      0.992      0.833      0.854        0.7\n",
      "            Pediastrum         19         20          1      0.958      0.995      0.977\n",
      "             Spirulina         10         10      0.749        0.7      0.785      0.659\n",
      "           Actinastrum         30         52      0.934      0.816      0.926      0.742\n",
      "              Navicula         17         19      0.986      0.947      0.988      0.969\n",
      "           Scenedesmus         26         28      0.954      0.929      0.946      0.858\n",
      "            Golenkinia         24         35      0.855      0.675       0.78       0.53\n",
      "            Pinnularia          6          6      0.828          1      0.972      0.972\n",
      "           Staurastrum          2          2      0.962          1      0.995      0.951\n",
      "            Phormidium        146        255      0.917      0.769      0.877      0.741\n",
      "            Fragilaria         10         10      0.975        0.9      0.917      0.865\n",
      "          Anabaenopsis          7          7      0.964          1      0.995      0.925\n",
      "        Coelosphaerium         28         34      0.828      0.707      0.852      0.767\n",
      "            Crucigenia          3          3      0.718          1      0.995      0.953\n",
      "            Achnanthes          4          4      0.929       0.75      0.794      0.794\n",
      "               Synedra         45         57       0.84      0.632      0.766      0.686\n",
      "              Ceratium          4          4       0.94          1      0.995      0.971\n",
      "             Pompholyx          6          6      0.831      0.833      0.848      0.808\n",
      "          Merismopedia          6          7      0.968          1      0.995      0.904\n",
      "             Spirogyra         13         20      0.847        0.9      0.918      0.882\n",
      "            Coelastrum          5          5      0.955          1      0.995      0.961\n",
      "          Raphidiopsis          2          5          1      0.694      0.995      0.891\n",
      "        Gomphosphaeria         16         21       0.79       0.81       0.89      0.877\n",
      "               Euglena         17         17          1      0.928      0.985      0.947\n",
      "              Euclanis          3          3      0.944          1      0.995      0.995\n",
      "             Keratella         13         13          1      0.949      0.995       0.91\n",
      "         diversicornis         18         18      0.985          1      0.995       0.96\n",
      "             Surirella          9          9      0.804      0.911      0.963      0.776\n",
      "             Characium          2          4      0.903        0.5      0.515      0.463\n",
      "Speed: 0.3ms preprocess, 28.6ms inference, 0.0ms loss, 1.1ms postprocess per image\n",
      "Results saved to \u001b[1mruns\\train\\it2\\it2342\u001b[0m\n",
      "Ultralytics 8.3.21  Python-3.9.20 torch-2.5.0 CPU (13th Gen Intel Core(TM) i9-13900HX)\n",
      "\n",
      "\u001b[34m\u001b[1mPyTorch:\u001b[0m starting from 'runs\\train\\it2\\it234\\weights\\best.pt' with input shape (1, 3, 640, 640) BCHW and output shape(s) (1, 45, 8400) (49.7 MB)\n",
      "\n",
      "\u001b[34m\u001b[1mONNX:\u001b[0m starting export with onnx 1.17.0 opset 19...\n",
      "\u001b[34m\u001b[1mONNX:\u001b[0m slimming with onnxslim 0.1.39...\n",
      "\u001b[34m\u001b[1mONNX:\u001b[0m export success  3.1s, saved as 'runs\\train\\it2\\it234\\weights\\best.onnx' (98.9 MB)\n",
      "\n",
      "Export complete (3.6s)\n",
      "Results saved to \u001b[1mD:\\KULIAH\\SEMESTER 5\\RSBP\\Bacteri\\Detection-of-bacteria-in-water-using-Yolo-images\\Detect\\Detection-of-bacteria-in-water-using-Yolo-images\\workspace\\runs\\train\\it2\\it234\\weights\u001b[0m\n",
      "Predict:         yolo predict task=detect model=runs\\train\\it2\\it234\\weights\\best.onnx imgsz=640  \n",
      "Validate:        yolo val task=detect model=runs\\train\\it2\\it234\\weights\\best.onnx imgsz=640 data=../data.yaml  \n",
      "Visualize:       https://netron.app\n"
     ]
    },
    {
     "ename": "",
     "evalue": "",
     "output_type": "error",
     "traceback": [
      "\u001b[1;31mThe Kernel crashed while executing code in the current cell or a previous cell. \n",
      "\u001b[1;31mPlease review the code in the cell(s) to identify a possible cause of the failure. \n",
      "\u001b[1;31mClick <a href='https://aka.ms/vscodeJupyterKernelCrash'>here</a> for more info. \n",
      "\u001b[1;31mView Jupyter <a href='command:jupyter.viewOutput'>log</a> for further details."
     ]
    }
   ],
   "source": [
    "from ultralytics import YOLO\n",
    "\n",
    "name = 'it2'\n",
    "def main():\n",
    "    # Inisialisasi model YOLOv8\n",
    "    model = YOLO('yolov8m.pt')  # Pre-trained model weights untuk YOLOv8\n",
    "    \n",
    "    # Tambahkan `class_weights` sebagai parameter dinamis\n",
    "    model.train(\n",
    "        data='../data.yaml',\n",
    "        epochs=100,\n",
    "        imgsz=640,\n",
    "        batch=16,\n",
    "        name=name,\n",
    "        workers=16,\n",
    "        project=f'runs/train/{name}',\n",
    "        device=0,\n",
    "        augment=False\n",
    "    )\n",
    "\n",
    "    # Evaluasi model setelah pelatihan\n",
    "    model.val()\n",
    "\n",
    "    # Export model ke format lain (misal: TorchScript, ONNX, CoreML, TensorRT)\n",
    "    model.export(format='onnx')  # atau format lain yang diinginkan\n",
    "\n",
    "if __name__ == '__main__':\n",
    "    main()"
   ]
  },
  {
   "cell_type": "code",
   "execution_count": null,
   "metadata": {},
   "outputs": [
    {
     "name": "stdout",
     "output_type": "stream",
     "text": [
      "Processed Image saved to: D:\\KULIAH\\SEMESTER 5\\RSBP\\Bacteri\\Detection-of-bacteria-in-water-using-Yolo-images\\Detect\\Detection-of-bacteria-in-water-using-Yolo-images\\temp\\images/train\\EMDS7-G035-041-0400.png\n",
      "Processed Image saved to: D:\\KULIAH\\SEMESTER 5\\RSBP\\Bacteri\\Detection-of-bacteria-in-water-using-Yolo-images\\Detect\\Detection-of-bacteria-in-water-using-Yolo-images\\temp\\images/train\\EMDS7-G029-008-0400.png\n",
      "Processed Image saved to: D:\\KULIAH\\SEMESTER 5\\RSBP\\Bacteri\\Detection-of-bacteria-in-water-using-Yolo-images\\Detect\\Detection-of-bacteria-in-water-using-Yolo-images\\temp\\images/train\\EMDS7-G018-082-0400.png\n",
      "Processed Image saved to: D:\\KULIAH\\SEMESTER 5\\RSBP\\Bacteri\\Detection-of-bacteria-in-water-using-Yolo-images\\Detect\\Detection-of-bacteria-in-water-using-Yolo-images\\temp\\images/train\\EMDS7-G038-015-0400.png\n",
      "Processed Image saved to: D:\\KULIAH\\SEMESTER 5\\RSBP\\Bacteri\\Detection-of-bacteria-in-water-using-Yolo-images\\Detect\\Detection-of-bacteria-in-water-using-Yolo-images\\temp\\images/train\\EMDS7-G003-134-0400.png\n",
      "Processed Image saved to: D:\\KULIAH\\SEMESTER 5\\RSBP\\Bacteri\\Detection-of-bacteria-in-water-using-Yolo-images\\Detect\\Detection-of-bacteria-in-water-using-Yolo-images\\temp\\images/train\\EMDS7-G022-255-0400.png\n",
      "Processed Image saved to: D:\\KULIAH\\SEMESTER 5\\RSBP\\Bacteri\\Detection-of-bacteria-in-water-using-Yolo-images\\Detect\\Detection-of-bacteria-in-water-using-Yolo-images\\temp\\images/train\\EMDS7-G010-018-0400.png\n",
      "Processed Image saved to: D:\\KULIAH\\SEMESTER 5\\RSBP\\Bacteri\\Detection-of-bacteria-in-water-using-Yolo-images\\Detect\\Detection-of-bacteria-in-water-using-Yolo-images\\temp\\images/train\\EMDS7-G003-282-0400.png\n",
      "Processed Image saved to: D:\\KULIAH\\SEMESTER 5\\RSBP\\Bacteri\\Detection-of-bacteria-in-water-using-Yolo-images\\Detect\\Detection-of-bacteria-in-water-using-Yolo-images\\temp\\images/train\\EMDS7-G003-145-0400.png\n",
      "Processed Image saved to: D:\\KULIAH\\SEMESTER 5\\RSBP\\Bacteri\\Detection-of-bacteria-in-water-using-Yolo-images\\Detect\\Detection-of-bacteria-in-water-using-Yolo-images\\temp\\images/train\\EMDS7-G003-175-0400.png\n",
      "Processed Image saved to: D:\\KULIAH\\SEMESTER 5\\RSBP\\Bacteri\\Detection-of-bacteria-in-water-using-Yolo-images\\Detect\\Detection-of-bacteria-in-water-using-Yolo-images\\temp\\images/train\\EMDS7-G015-004-0400.png\n",
      "Processed Image saved to: D:\\KULIAH\\SEMESTER 5\\RSBP\\Bacteri\\Detection-of-bacteria-in-water-using-Yolo-images\\Detect\\Detection-of-bacteria-in-water-using-Yolo-images\\temp\\images/train\\EMDS7-G022-057-0400.png\n",
      "Processed Image saved to: D:\\KULIAH\\SEMESTER 5\\RSBP\\Bacteri\\Detection-of-bacteria-in-water-using-Yolo-images\\Detect\\Detection-of-bacteria-in-water-using-Yolo-images\\temp\\images/train\\EMDS7-G018-030-0400.png\n",
      "Processed Image saved to: D:\\KULIAH\\SEMESTER 5\\RSBP\\Bacteri\\Detection-of-bacteria-in-water-using-Yolo-images\\Detect\\Detection-of-bacteria-in-water-using-Yolo-images\\temp\\images/train\\EMDS7-G033-005-0400.png\n",
      "Processed Image saved to: D:\\KULIAH\\SEMESTER 5\\RSBP\\Bacteri\\Detection-of-bacteria-in-water-using-Yolo-images\\Detect\\Detection-of-bacteria-in-water-using-Yolo-images\\temp\\images/train\\EMDS7-G003-125-0400.png\n",
      "Processed Image saved to: D:\\KULIAH\\SEMESTER 5\\RSBP\\Bacteri\\Detection-of-bacteria-in-water-using-Yolo-images\\Detect\\Detection-of-bacteria-in-water-using-Yolo-images\\temp\\images/train\\EMDS7-G012-062-0400.png\n",
      "Processed Image saved to: D:\\KULIAH\\SEMESTER 5\\RSBP\\Bacteri\\Detection-of-bacteria-in-water-using-Yolo-images\\Detect\\Detection-of-bacteria-in-water-using-Yolo-images\\temp\\images/train\\EMDS7-G016-017-0400.png\n",
      "Processed Image saved to: D:\\KULIAH\\SEMESTER 5\\RSBP\\Bacteri\\Detection-of-bacteria-in-water-using-Yolo-images\\Detect\\Detection-of-bacteria-in-water-using-Yolo-images\\temp\\images/train\\EMDS7-G022-102-0400.png\n",
      "Processed Image saved to: D:\\KULIAH\\SEMESTER 5\\RSBP\\Bacteri\\Detection-of-bacteria-in-water-using-Yolo-images\\Detect\\Detection-of-bacteria-in-water-using-Yolo-images\\temp\\images/train\\EMDS7-G028-011-0400.png\n",
      "Processed Image saved to: D:\\KULIAH\\SEMESTER 5\\RSBP\\Bacteri\\Detection-of-bacteria-in-water-using-Yolo-images\\Detect\\Detection-of-bacteria-in-water-using-Yolo-images\\temp\\images/train\\EMDS7-G001-009-0400.png\n",
      "Processed Image saved to: D:\\KULIAH\\SEMESTER 5\\RSBP\\Bacteri\\Detection-of-bacteria-in-water-using-Yolo-images\\Detect\\Detection-of-bacteria-in-water-using-Yolo-images\\temp\\images/train\\EMDS7-G003-054-0400.png\n",
      "Processed Image saved to: D:\\KULIAH\\SEMESTER 5\\RSBP\\Bacteri\\Detection-of-bacteria-in-water-using-Yolo-images\\Detect\\Detection-of-bacteria-in-water-using-Yolo-images\\temp\\images/train\\EMDS7-G023-001-0400.png\n",
      "Processed Image saved to: D:\\KULIAH\\SEMESTER 5\\RSBP\\Bacteri\\Detection-of-bacteria-in-water-using-Yolo-images\\Detect\\Detection-of-bacteria-in-water-using-Yolo-images\\temp\\images/train\\EMDS7-G019-037-0400.png\n",
      "Processed Image saved to: D:\\KULIAH\\SEMESTER 5\\RSBP\\Bacteri\\Detection-of-bacteria-in-water-using-Yolo-images\\Detect\\Detection-of-bacteria-in-water-using-Yolo-images\\temp\\images/train\\EMDS7-G014-055-0400.png\n",
      "Processed Image saved to: D:\\KULIAH\\SEMESTER 5\\RSBP\\Bacteri\\Detection-of-bacteria-in-water-using-Yolo-images\\Detect\\Detection-of-bacteria-in-water-using-Yolo-images\\temp\\images/train\\EMDS7-G009-021-0400.png\n",
      "Processed Image saved to: D:\\KULIAH\\SEMESTER 5\\RSBP\\Bacteri\\Detection-of-bacteria-in-water-using-Yolo-images\\Detect\\Detection-of-bacteria-in-water-using-Yolo-images\\temp\\images/train\\EMDS7-G024-008-0400.png\n",
      "Processed Image saved to: D:\\KULIAH\\SEMESTER 5\\RSBP\\Bacteri\\Detection-of-bacteria-in-water-using-Yolo-images\\Detect\\Detection-of-bacteria-in-water-using-Yolo-images\\temp\\images/train\\EMDS7-G036-044-0400.png\n",
      "Processed Image saved to: D:\\KULIAH\\SEMESTER 5\\RSBP\\Bacteri\\Detection-of-bacteria-in-water-using-Yolo-images\\Detect\\Detection-of-bacteria-in-water-using-Yolo-images\\temp\\images/train\\EMDS7-G022-228-0400.png\n",
      "Processed Image saved to: D:\\KULIAH\\SEMESTER 5\\RSBP\\Bacteri\\Detection-of-bacteria-in-water-using-Yolo-images\\Detect\\Detection-of-bacteria-in-water-using-Yolo-images\\temp\\images/train\\EMDS7-G039-047-0400.png\n"
     ]
    }
   ],
   "source": [
    "import os\n",
    "import random\n",
    "import shutil\n",
    "import albumentations as A\n",
    "import cv2\n",
    "import numpy as np\n",
    "import xml.etree.ElementTree as ET\n",
    "from concurrent.futures import ThreadPoolExecutor, as_completed\n",
    "\n",
    "def image_processing(img):\n",
    "    \"\"\"Pertebal gambar grayscale menggunakan dilasi.\"\"\"\n",
    "    # Konversi ke grayscale jika gambar berwarna\n",
    "    if len(img.shape) == 3:  # Jika memiliki 3 channel (RGB/BGR)\n",
    "        gray = cv2.cvtColor(img, cv2.COLOR_BGR2GRAY)\n",
    "    else:\n",
    "        gray = img\n",
    "    # Image preprocessing - Gaussian Blur untuk mengurangi noise awal\n",
    "    horizontal_filter = np.array([[-1, 0, 1],\n",
    "                                   [-2, 0, 2],\n",
    "                                   [-1, 0, 1]])\n",
    "    vertical_filter = np.transpose(horizontal_filter)\n",
    "\n",
    "    # Menghitung gradien horizontal dan vertikal\n",
    "    grad_x = cv2.filter2D(gray, cv2.CV_64F, horizontal_filter)\n",
    "    grad_y = cv2.filter2D(gray, cv2.CV_64F, vertical_filter)\n",
    "\n",
    "    # Menggabungkan gradien\n",
    "    gradient_magnitude = np.sqrt(grad_x ** 2 + grad_y ** 2)\n",
    "\n",
    "    # Normalisasi hasil ke rentang 0-255\n",
    "    gradient_magnitude = (gradient_magnitude / gradient_magnitude.max()) * 255\n",
    "    result = gradient_magnitude.astype(np.uint8)\n",
    "\n",
    "    return result\n",
    "\n",
    "# Path ke folder data\n",
    "images_dir = \"D:\\KULIAH\\SEMESTER 5\\RSBP\\Bacteri\\Detection-of-bacteria-in-water-using-Yolo-images\\Detect\\Detection-of-bacteria-in-water-using-Yolo-images\\EMDS7\"\n",
    "labels_dir = \"D:\\KULIAH\\SEMESTER 5\\RSBP\\Bacteri\\Detection-of-bacteria-in-water-using-Yolo-images\\Detect\\Detection-of-bacteria-in-water-using-Yolo-images\\EMDS7xml\"\n",
    "output_dir = \"D:\\KULIAH\\SEMESTER 5\\RSBP\\Bacteri\\Detection-of-bacteria-in-water-using-Yolo-images\\Detect\\Detection-of-bacteria-in-water-using-Yolo-images\\\\temp\"\n",
    "sample_output_dir = \"D:\\KULIAH\\SEMESTER 5\\RSBP\\Bacteri\\Detection-of-bacteria-in-water-using-Yolo-images\\Detect\\Detection-of-bacteria-in-water-using-Yolo-images\\sample_output\"\n",
    "\n",
    "train_val_split = 0.8  # Rasio data train/validation\n",
    "\n",
    "# Cek apakah path gambar dan label ada\n",
    "if not os.path.exists(images_dir):\n",
    "    raise FileNotFoundError(f\"Path gambar tidak ditemukan: {images_dir}\")\n",
    "if not os.path.exists(labels_dir):\n",
    "    raise FileNotFoundError(f\"Path label tidak ditemukan: {labels_dir}\")\n",
    "\n",
    "# Remove output directory if it exists and create fresh output folders\n",
    "if os.path.exists(output_dir):\n",
    "    shutil.rmtree(output_dir)\n",
    "\n",
    "if os.path.exists(sample_output_dir):\n",
    "    shutil.rmtree(sample_output_dir)\n",
    "\n",
    "# Buat ulang folder output yang fresh\n",
    "os.makedirs(os.path.join(output_dir, 'images/train'), exist_ok=True)\n",
    "os.makedirs(os.path.join(output_dir, 'images/val'), exist_ok=True)\n",
    "os.makedirs(os.path.join(output_dir, 'labels/train'), exist_ok=True)\n",
    "os.makedirs(os.path.join(output_dir, 'labels/val'), exist_ok=True)\n",
    "os.makedirs(sample_output_dir, exist_ok=True)\n",
    "\n",
    "# Daftar semua gambar dan annotations\n",
    "image_files = [f for f in os.listdir(images_dir) if f.endswith('.png')]\n",
    "label_files = [f.replace('.png', '.xml') for f in image_files]\n",
    "\n",
    "# Shuffle data for randomness\n",
    "data = list(zip(image_files, label_files))\n",
    "random.shuffle(data)\n",
    "\n",
    "# Split data into training and validation sets\n",
    "split_index = int(train_val_split * len(data))\n",
    "train_data = data[:split_index]\n",
    "val_data = data[split_index:]\n",
    "\n",
    "class_mapping = {\n",
    "    'G001': 0,  'G002': 1,  'G003': 2,  'G004': 3,  'G005': 4,  'G006': 5,  'G007': 6,  'G008': 7,  'G009': 8,  'G010': 9,\n",
    "    'G011': 10, 'G012': 11, 'G013': 12, 'G014': 13, 'G015': 14, 'G016': 15, 'G017': 16, 'G018': 17, 'G019': 18, 'G020': 19,\n",
    "    'G021': 20, 'G022': 21, 'G023': 22, 'G024': 23, 'G025': 24, 'G026': 25, 'G027': 26, 'G028': 27, 'G029': 28, 'G030': 29,\n",
    "    'G031': 30, 'G032': 31, 'G033': 32, 'G034': 33, 'G035': 34, 'G036': 35, 'G037': 36, 'G038': 37, 'G039': 38, 'G040': 39,\n",
    "    'G041': 40, 'G042': 41, 'G043': 42, 'G044': 43, 'G045': 44, 'G046': 45, 'G047': 46, 'G048': 47, 'G049': 48, 'G050': 49,\n",
    "    'G051': 50, 'G052': 51, 'G053': 52\n",
    "}\n",
    "\n",
    "# Augmentasi gambar dan bounding box tanpa mirroring, mengisi area kosong dengan putih\n",
    "augmentor = A.Compose([\n",
    "    A.Resize(1024, 1024, p=0)\n",
    "], bbox_params=A.BboxParams(format='yolo', label_fields=['class_labels']))\n",
    "\n",
    "def draw_bboxes(image, bboxes, class_labels):\n",
    "    \"\"\"Gambar bounding box pada gambar.\"\"\"\n",
    "    for bbox, class_id in zip(bboxes, class_labels):\n",
    "        x_center, y_center, width, height = bbox\n",
    "        img_h, img_w = image.shape[:2]\n",
    "        xmin = int((x_center - width / 2) * img_w)\n",
    "        ymin = int((y_center - height / 2) * img_h)\n",
    "        xmax = int((x_center + width / 2) * img_w)\n",
    "        ymax = int((y_center + height / 2) * img_h)\n",
    "        cv2.rectangle(image, (xmin, ymin), (xmax, ymax), (0, 255, 0), 2)\n",
    "        cv2.putText(image, str(class_id), (xmin, ymin - 10), cv2.FONT_HERSHEY_SIMPLEX, 0.9, (255, 255, 0), 2)\n",
    "\n",
    "def convert_xml_to_txt(xml_path, txt_output_path, augment=False, img=None):\n",
    "    \"\"\"Fungsi ini akan mengonversi format XML ke format YOLO (txt).\"\"\"\n",
    "    tree = ET.parse(xml_path)\n",
    "    root = tree.getroot()\n",
    "    width = int(root.find('size/width').text)\n",
    "    height = int(root.find('size/height').text)\n",
    "    bboxes = []\n",
    "    class_labels = []\n",
    "\n",
    "    for obj in root.findall('object'):\n",
    "        class_name = obj.find('name').text\n",
    "        class_id = class_mapping.get(class_name, -1)\n",
    "        if class_id == -1:\n",
    "            continue\n",
    "        bndbox = obj.find('bndbox')\n",
    "        xmin = int(bndbox.find('xmin').text)\n",
    "        ymin = int(bndbox.find('ymin').text)\n",
    "        xmax = int(bndbox.find('xmax').text)\n",
    "        ymax = int(bndbox.find('ymax').text)\n",
    "        x_center = (xmin + xmax) / 2.0 / width\n",
    "        y_center = (ymin + ymax) / 2.0 / height\n",
    "        box_width = (xmax - xmin) / width\n",
    "        box_height = (ymax - ymin) / height\n",
    "        bboxes.append([x_center, y_center, box_width, box_height])\n",
    "        class_labels.append(class_id)\n",
    "\n",
    "    # Pastikan setidaknya ada satu kelas yang valid\n",
    "    if not class_labels:\n",
    "        return None, None, None\n",
    "\n",
    "    if augment and img is not None:\n",
    "        augmented = augmentor(image=img, bboxes=bboxes, class_labels=class_labels)\n",
    "        img = augmented['image']\n",
    "        bboxes = augmented['bboxes']\n",
    "        class_labels = augmented['class_labels']\n",
    "    \n",
    "    with open(txt_output_path, 'w') as txt_file:\n",
    "        for bbox, label in zip(bboxes, class_labels):\n",
    "            txt_file.write(f\"{label} {' '.join(map(str, bbox))}\\n\")\n",
    "\n",
    "    return img, bboxes, class_labels\n",
    "\n",
    "def process_data(img_file, lbl_file, img_dest_folder, lbl_dest_folder, sample_output_count=15, sample_counter=0):\n",
    "    img_src_path = os.path.join(images_dir, img_file)\n",
    "    lbl_src_path = os.path.join(labels_dir, lbl_file)\n",
    "    img = cv2.imread(img_src_path)\n",
    "    \n",
    "    # Terapkan pemrosesan gambar\n",
    "    processed_img = image_processing(img)\n",
    "    \n",
    "    img_dest_path = os.path.join(img_dest_folder, img_file)\n",
    "    lbl_dest_path = os.path.join(lbl_dest_folder, lbl_file.replace('.xml', '.txt'))\n",
    "    \n",
    "    # Konversi XML ke TXT dan simpan gambar yang diproses\n",
    "    processed_img, bboxes, class_labels = convert_xml_to_txt(lbl_src_path, lbl_dest_path, img=processed_img)\n",
    "    \n",
    "    # Jika tidak ada kelas yang valid, lewati gambar ini\n",
    "    if processed_img is None:\n",
    "        print(f\"Skipping image {img_file} due to no valid classes.\")\n",
    "        return\n",
    "    \n",
    "    # Simpan gambar yang diproses\n",
    "    cv2.imwrite(img_dest_path, processed_img)\n",
    "    \n",
    "    # Simpan contoh gambar dengan bounding box jika diperlukan\n",
    "    if sample_counter < sample_output_count:\n",
    "        sample_img = processed_img.copy()\n",
    "        draw_bboxes(sample_img, bboxes, class_labels)\n",
    "        cv2.imwrite(os.path.join(sample_output_dir, f\"{img_file.replace('.png', '_sample.png')}\"), sample_img)\n",
    "        sample_counter += 1\n",
    "    \n",
    "    print(f\"Processed Image saved to: {img_dest_path}\")\n",
    "\n",
    "def copy_and_convert_data(data, img_dest_folder, lbl_dest_folder, sample_output_count=30):\n",
    "    sample_counter = 0\n",
    "    with ThreadPoolExecutor() as executor:\n",
    "        futures = []\n",
    "        for img_file, lbl_file in data:\n",
    "            futures.append(executor.submit(process_data, img_file, lbl_file, img_dest_folder, lbl_dest_folder, sample_output_count, sample_counter))\n",
    "        for future in as_completed(futures):\n",
    "            future.result()\n",
    "\n",
    "copy_and_convert_data(train_data, os.path.join(output_dir, 'images/train'), os.path.join(output_dir, 'labels/train'))\n",
    "copy_and_convert_data(val_data, os.path.join(output_dir, 'images/val'), os.path.join(output_dir, 'labels/val'))\n",
    "\n",
    "print(\"Data berhasil diproses dan dikonversi ke format YOLO! Contoh gambar disimpan di folder sample_output.\")"
   ]
  },
  {
   "cell_type": "code",
   "execution_count": null,
   "metadata": {},
   "outputs": [],
   "source": [
    "from ultralytics import YOLO\n",
    "\n",
    "name = 'it2'\n",
    "def main():\n",
    "    # Inisialisasi model YOLOv8\n",
    "    model = YOLO('yolov8m.pt')  # Pre-trained model weights untuk YOLOv8\n",
    "    \n",
    "    # Tambahkan `class_weights` sebagai parameter dinamis\n",
    "    model.train(\n",
    "        data='../data.yaml',\n",
    "        epochs=100,\n",
    "        imgsz=640,\n",
    "        batch=16,\n",
    "        name=name,\n",
    "        workers=16,\n",
    "        project=f'runs/train/{name}',\n",
    "        device=0,\n",
    "        augment=False\n",
    "    )\n",
    "\n",
    "    # Evaluasi model setelah pelatihan\n",
    "    model.val()\n",
    "\n",
    "    # Export model ke format lain (misal: TorchScript, ONNX, CoreML, TensorRT)\n",
    "    model.export(format='onnx')  # atau format lain yang diinginkan\n",
    "\n",
    "if __name__ == '__main__':\n",
    "    main()"
   ]
  }
 ],
 "metadata": {
  "kernelspec": {
   "display_name": "bacteri",
   "language": "python",
   "name": "python3"
  },
  "language_info": {
   "codemirror_mode": {
    "name": "ipython",
    "version": 3
   },
   "file_extension": ".py",
   "mimetype": "text/x-python",
   "name": "python",
   "nbconvert_exporter": "python",
   "pygments_lexer": "ipython3",
   "version": "3.9.20"
  }
 },
 "nbformat": 4,
 "nbformat_minor": 2
}
