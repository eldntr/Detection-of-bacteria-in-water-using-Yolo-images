{
 "cells": [
  {
   "cell_type": "code",
   "execution_count": 1,
   "metadata": {},
   "outputs": [
    {
     "name": "stdout",
     "output_type": "stream",
     "text": [
      "Requirement already satisfied: onnxruntime in c:\\users\\feers\\anaconda3\\envs\\bacteri\\lib\\site-packages (1.19.2)\n",
      "Requirement already satisfied: coloredlogs in c:\\users\\feers\\anaconda3\\envs\\bacteri\\lib\\site-packages (from onnxruntime) (15.0.1)\n",
      "Requirement already satisfied: flatbuffers in c:\\users\\feers\\anaconda3\\envs\\bacteri\\lib\\site-packages (from onnxruntime) (24.3.25)\n",
      "Requirement already satisfied: numpy>=1.21.6 in c:\\users\\feers\\anaconda3\\envs\\bacteri\\lib\\site-packages (from onnxruntime) (2.0.1)\n",
      "Requirement already satisfied: packaging in c:\\users\\feers\\anaconda3\\envs\\bacteri\\lib\\site-packages (from onnxruntime) (24.1)\n",
      "Requirement already satisfied: protobuf in c:\\users\\feers\\anaconda3\\envs\\bacteri\\lib\\site-packages (from onnxruntime) (5.28.3)\n",
      "Requirement already satisfied: sympy in c:\\users\\feers\\anaconda3\\envs\\bacteri\\lib\\site-packages (from onnxruntime) (1.13.1)\n",
      "Requirement already satisfied: humanfriendly>=9.1 in c:\\users\\feers\\anaconda3\\envs\\bacteri\\lib\\site-packages (from coloredlogs->onnxruntime) (10.0)\n",
      "Requirement already satisfied: mpmath<1.4,>=1.1.0 in c:\\users\\feers\\anaconda3\\envs\\bacteri\\lib\\site-packages (from sympy->onnxruntime) (1.3.0)\n",
      "Requirement already satisfied: pyreadline3 in c:\\users\\feers\\anaconda3\\envs\\bacteri\\lib\\site-packages (from humanfriendly>=9.1->coloredlogs->onnxruntime) (3.5.4)\n",
      "Note: you may need to restart the kernel to use updated packages.\n",
      "Requirement already satisfied: scikit-image in c:\\users\\feers\\anaconda3\\envs\\bacteri\\lib\\site-packages (0.24.0)\n",
      "Requirement already satisfied: numpy>=1.23 in c:\\users\\feers\\anaconda3\\envs\\bacteri\\lib\\site-packages (from scikit-image) (2.0.1)\n",
      "Requirement already satisfied: scipy>=1.9 in c:\\users\\feers\\anaconda3\\envs\\bacteri\\lib\\site-packages (from scikit-image) (1.13.1)\n",
      "Requirement already satisfied: networkx>=2.8 in c:\\users\\feers\\anaconda3\\envs\\bacteri\\lib\\site-packages (from scikit-image) (3.2.1)\n",
      "Requirement already satisfied: pillow>=9.1 in c:\\users\\feers\\anaconda3\\envs\\bacteri\\lib\\site-packages (from scikit-image) (10.4.0)\n",
      "Requirement already satisfied: imageio>=2.33 in c:\\users\\feers\\anaconda3\\envs\\bacteri\\lib\\site-packages (from scikit-image) (2.36.0)\n",
      "Requirement already satisfied: tifffile>=2022.8.12 in c:\\users\\feers\\anaconda3\\envs\\bacteri\\lib\\site-packages (from scikit-image) (2024.8.30)\n",
      "Requirement already satisfied: packaging>=21 in c:\\users\\feers\\anaconda3\\envs\\bacteri\\lib\\site-packages (from scikit-image) (24.1)\n",
      "Requirement already satisfied: lazy-loader>=0.4 in c:\\users\\feers\\anaconda3\\envs\\bacteri\\lib\\site-packages (from scikit-image) (0.4)\n",
      "Note: you may need to restart the kernel to use updated packages.\n"
     ]
    }
   ],
   "source": [
    "%pip install onnxruntime\n",
    "\n",
    "%pip install -U scikit-image"
   ]
  },
  {
   "cell_type": "code",
   "execution_count": 2,
   "metadata": {},
   "outputs": [
    {
     "name": "stdout",
     "output_type": "stream",
     "text": [
      "Collecting git+https://github.com/albumentations-team/albumentations\n",
      "  Cloning https://github.com/albumentations-team/albumentations to c:\\users\\feers\\appdata\\local\\temp\\pip-req-build-d14quvu4\n",
      "  Resolved https://github.com/albumentations-team/albumentations to commit f5ae3f5a9d8b77182c8a726deeadfc5dd1e93b8c\n",
      "  Installing build dependencies: started\n",
      "  Installing build dependencies: finished with status 'done'\n",
      "  Getting requirements to build wheel: started\n",
      "  Getting requirements to build wheel: finished with status 'done'\n",
      "  Preparing metadata (pyproject.toml): started\n",
      "  Preparing metadata (pyproject.toml): finished with status 'done'\n",
      "Requirement already satisfied: numpy>=1.24.4 in c:\\users\\feers\\anaconda3\\envs\\bacteri\\lib\\site-packages (from albumentations==1.4.21) (2.0.1)\n",
      "Requirement already satisfied: scipy>=1.10.0 in c:\\users\\feers\\anaconda3\\envs\\bacteri\\lib\\site-packages (from albumentations==1.4.21) (1.13.1)\n",
      "Requirement already satisfied: PyYAML in c:\\users\\feers\\anaconda3\\envs\\bacteri\\lib\\site-packages (from albumentations==1.4.21) (6.0.2)\n",
      "Requirement already satisfied: typing-extensions>=4.9.0 in c:\\users\\feers\\anaconda3\\envs\\bacteri\\lib\\site-packages (from albumentations==1.4.21) (4.11.0)\n",
      "Requirement already satisfied: pydantic>=2.9.2 in c:\\users\\feers\\anaconda3\\envs\\bacteri\\lib\\site-packages (from albumentations==1.4.21) (2.9.2)\n",
      "Requirement already satisfied: albucore==0.0.21 in c:\\users\\feers\\anaconda3\\envs\\bacteri\\lib\\site-packages (from albumentations==1.4.21) (0.0.21)\n",
      "Requirement already satisfied: eval-type-backport in c:\\users\\feers\\anaconda3\\envs\\bacteri\\lib\\site-packages (from albumentations==1.4.21) (0.2.0)\n",
      "Requirement already satisfied: opencv-python-headless>=4.9.0.80 in c:\\users\\feers\\anaconda3\\envs\\bacteri\\lib\\site-packages (from albumentations==1.4.21) (4.10.0.84)\n",
      "Requirement already satisfied: stringzilla>=3.10.4 in c:\\users\\feers\\anaconda3\\envs\\bacteri\\lib\\site-packages (from albucore==0.0.21->albumentations==1.4.21) (3.10.10)\n",
      "Requirement already satisfied: simsimd>=5.9.2 in c:\\users\\feers\\anaconda3\\envs\\bacteri\\lib\\site-packages (from albucore==0.0.21->albumentations==1.4.21) (6.0.5)\n",
      "Requirement already satisfied: annotated-types>=0.6.0 in c:\\users\\feers\\anaconda3\\envs\\bacteri\\lib\\site-packages (from pydantic>=2.9.2->albumentations==1.4.21) (0.7.0)\n",
      "Requirement already satisfied: pydantic-core==2.23.4 in c:\\users\\feers\\anaconda3\\envs\\bacteri\\lib\\site-packages (from pydantic>=2.9.2->albumentations==1.4.21) (2.23.4)\n",
      "Note: you may need to restart the kernel to use updated packages.\n"
     ]
    },
    {
     "name": "stderr",
     "output_type": "stream",
     "text": [
      "  Running command git clone --filter=blob:none --quiet https://github.com/albumentations-team/albumentations 'C:\\Users\\feers\\AppData\\Local\\Temp\\pip-req-build-d14quvu4'\n"
     ]
    }
   ],
   "source": [
    "%pip install -U git+https://github.com/albumentations-team/albumentations"
   ]
  },
  {
   "cell_type": "code",
   "execution_count": 1,
   "metadata": {},
   "outputs": [],
   "source": [
    "import os\n",
    "os.environ[\"KMP_DUPLICATE_LIB_OK\"] = \"TRUE\""
   ]
  },
  {
   "cell_type": "code",
   "execution_count": 1,
   "metadata": {},
   "outputs": [
    {
     "name": "stdout",
     "output_type": "stream",
     "text": [
      "Processed Image saved to: D:\\KULIAH\\SEMESTER 5\\RSBP\\Bacteri\\Detection-of-bacteria-in-water-using-Yolo-images\\Detect\\Detection-of-bacteria-in-water-using-Yolo-images\\temp\\images/train\\EMDS7-G017-067-0400.png\n",
      "Processed Image saved to: D:\\KULIAH\\SEMESTER 5\\RSBP\\Bacteri\\Detection-of-bacteria-in-water-using-Yolo-images\\Detect\\Detection-of-bacteria-in-water-using-Yolo-images\\temp\\images/train\\EMDS7-G032-027-0400.png\n",
      "Processed Image saved to: D:\\KULIAH\\SEMESTER 5\\RSBP\\Bacteri\\Detection-of-bacteria-in-water-using-Yolo-images\\Detect\\Detection-of-bacteria-in-water-using-Yolo-images\\temp\\images/train\\EMDS7-G038-017-0400.png\n",
      "Processed Image saved to: D:\\KULIAH\\SEMESTER 5\\RSBP\\Bacteri\\Detection-of-bacteria-in-water-using-Yolo-images\\Detect\\Detection-of-bacteria-in-water-using-Yolo-images\\temp\\images/train\\EMDS7-G035-049-0400.png\n",
      "Processed Image saved to: D:\\KULIAH\\SEMESTER 5\\RSBP\\Bacteri\\Detection-of-bacteria-in-water-using-Yolo-images\\Detect\\Detection-of-bacteria-in-water-using-Yolo-images\\temp\\images/train\\EMDS7-G022-116-0400.png\n",
      "Processed Image saved to: D:\\KULIAH\\SEMESTER 5\\RSBP\\Bacteri\\Detection-of-bacteria-in-water-using-Yolo-images\\Detect\\Detection-of-bacteria-in-water-using-Yolo-images\\temp\\images/train\\EMDS7-G039-028-0400.png\n",
      "Processed Image saved to: D:\\KULIAH\\SEMESTER 5\\RSBP\\Bacteri\\Detection-of-bacteria-in-water-using-Yolo-images\\Detect\\Detection-of-bacteria-in-water-using-Yolo-images\\temp\\images/train\\EMDS7-G033-029-0400.png\n",
      "Processed Image saved to: D:\\KULIAH\\SEMESTER 5\\RSBP\\Bacteri\\Detection-of-bacteria-in-water-using-Yolo-images\\Detect\\Detection-of-bacteria-in-water-using-Yolo-images\\temp\\images/train\\EMDS7-G003-041-0400.png\n",
      "Processed Image saved to: D:\\KULIAH\\SEMESTER 5\\RSBP\\Bacteri\\Detection-of-bacteria-in-water-using-Yolo-images\\Detect\\Detection-of-bacteria-in-water-using-Yolo-images\\temp\\images/train\\EMDS7-G022-121-0400.png\n",
      "Processed Image saved to: D:\\KULIAH\\SEMESTER 5\\RSBP\\Bacteri\\Detection-of-bacteria-in-water-using-Yolo-images\\Detect\\Detection-of-bacteria-in-water-using-Yolo-images\\temp\\images/train\\EMDS7-G022-157-0400.png\n",
      "Processed Image saved to: D:\\KULIAH\\SEMESTER 5\\RSBP\\Bacteri\\Detection-of-bacteria-in-water-using-Yolo-images\\Detect\\Detection-of-bacteria-in-water-using-Yolo-images\\temp\\images/train\\EMDS7-G022-210-0400.png\n",
      "Processed Image saved to: D:\\KULIAH\\SEMESTER 5\\RSBP\\Bacteri\\Detection-of-bacteria-in-water-using-Yolo-images\\Detect\\Detection-of-bacteria-in-water-using-Yolo-images\\temp\\images/train\\EMDS7-G008-045-0400.png\n",
      "Processed Image saved to: D:\\KULIAH\\SEMESTER 5\\RSBP\\Bacteri\\Detection-of-bacteria-in-water-using-Yolo-images\\Detect\\Detection-of-bacteria-in-water-using-Yolo-images\\temp\\images/train\\EMDS7-G014-088-0400.png\n",
      "Processed Image saved to: D:\\KULIAH\\SEMESTER 5\\RSBP\\Bacteri\\Detection-of-bacteria-in-water-using-Yolo-images\\Detect\\Detection-of-bacteria-in-water-using-Yolo-images\\temp\\images/train\\EMDS7-G004-027-0400.png\n",
      "Processed Image saved to: D:\\KULIAH\\SEMESTER 5\\RSBP\\Bacteri\\Detection-of-bacteria-in-water-using-Yolo-images\\Detect\\Detection-of-bacteria-in-water-using-Yolo-images\\temp\\images/train\\EMDS7-G038-050-0400.png\n",
      "Processed Image saved to: D:\\KULIAH\\SEMESTER 5\\RSBP\\Bacteri\\Detection-of-bacteria-in-water-using-Yolo-images\\Detect\\Detection-of-bacteria-in-water-using-Yolo-images\\temp\\images/train\\EMDS7-G002-005-0400.png\n",
      "Processed Image saved to: D:\\KULIAH\\SEMESTER 5\\RSBP\\Bacteri\\Detection-of-bacteria-in-water-using-Yolo-images\\Detect\\Detection-of-bacteria-in-water-using-Yolo-images\\temp\\images/train\\EMDS7-G030-027-0400.png\n",
      "Processed Image saved to: D:\\KULIAH\\SEMESTER 5\\RSBP\\Bacteri\\Detection-of-bacteria-in-water-using-Yolo-images\\Detect\\Detection-of-bacteria-in-water-using-Yolo-images\\temp\\images/train\\EMDS7-G022-109-0400.png\n",
      "Processed Image saved to: D:\\KULIAH\\SEMESTER 5\\RSBP\\Bacteri\\Detection-of-bacteria-in-water-using-Yolo-images\\Detect\\Detection-of-bacteria-in-water-using-Yolo-images\\temp\\images/train\\EMDS7-G003-260-0400.png\n",
      "Processed Image saved to: D:\\KULIAH\\SEMESTER 5\\RSBP\\Bacteri\\Detection-of-bacteria-in-water-using-Yolo-images\\Detect\\Detection-of-bacteria-in-water-using-Yolo-images\\temp\\images/train\\EMDS7-G012-035-0400.png\n",
      "Processed Image saved to: D:\\KULIAH\\SEMESTER 5\\RSBP\\Bacteri\\Detection-of-bacteria-in-water-using-Yolo-images\\Detect\\Detection-of-bacteria-in-water-using-Yolo-images\\temp\\images/train\\EMDS7-G011-049-0400.png\n",
      "Processed Image saved to: D:\\KULIAH\\SEMESTER 5\\RSBP\\Bacteri\\Detection-of-bacteria-in-water-using-Yolo-images\\Detect\\Detection-of-bacteria-in-water-using-Yolo-images\\temp\\images/train\\EMDS7-G026-007-0400.png\n",
      "Processed Image saved to: D:\\KULIAH\\SEMESTER 5\\RSBP\\Bacteri\\Detection-of-bacteria-in-water-using-Yolo-images\\Detect\\Detection-of-bacteria-in-water-using-Yolo-images\\temp\\images/train\\EMDS7-G001-034-0400.png\n",
      "Processed Image saved to: D:\\KULIAH\\SEMESTER 5\\RSBP\\Bacteri\\Detection-of-bacteria-in-water-using-Yolo-images\\Detect\\Detection-of-bacteria-in-water-using-Yolo-images\\temp\\images/train\\EMDS7-G022-024-0400.png\n",
      "Processed Image saved to: D:\\KULIAH\\SEMESTER 5\\RSBP\\Bacteri\\Detection-of-bacteria-in-water-using-Yolo-images\\Detect\\Detection-of-bacteria-in-water-using-Yolo-images\\temp\\images/train\\EMDS7-G011-018-0400.png\n",
      "Processed Image saved to: D:\\KULIAH\\SEMESTER 5\\RSBP\\Bacteri\\Detection-of-bacteria-in-water-using-Yolo-images\\Detect\\Detection-of-bacteria-in-water-using-Yolo-images\\temp\\images/train\\EMDS7-G004-044-0400.png\n",
      "Processed Image saved to: D:\\KULIAH\\SEMESTER 5\\RSBP\\Bacteri\\Detection-of-bacteria-in-water-using-Yolo-images\\Detect\\Detection-of-bacteria-in-water-using-Yolo-images\\temp\\images/train\\EMDS7-G019-042-0400.png\n",
      "Processed Image saved to: D:\\KULIAH\\SEMESTER 5\\RSBP\\Bacteri\\Detection-of-bacteria-in-water-using-Yolo-images\\Detect\\Detection-of-bacteria-in-water-using-Yolo-images\\temp\\images/train\\EMDS7-G036-003-0400.png\n",
      "Processed Image saved to: D:\\KULIAH\\SEMESTER 5\\RSBP\\Bacteri\\Detection-of-bacteria-in-water-using-Yolo-images\\Detect\\Detection-of-bacteria-in-water-using-Yolo-images\\temp\\images/train\\EMDS7-G009-067-0400.png\n",
      "Processed Image saved to: D:\\KULIAH\\SEMESTER 5\\RSBP\\Bacteri\\Detection-of-bacteria-in-water-using-Yolo-images\\Detect\\Detection-of-bacteria-in-water-using-Yolo-images\\temp\\images/train\\EMDS7-G011-001-0400.png\n",
      "Processed Image saved to: D:\\KULIAH\\SEMESTER 5\\RSBP\\Bacteri\\Detection-of-bacteria-in-water-using-Yolo-images\\Detect\\Detection-of-bacteria-in-water-using-Yolo-images\\temp\\images/train\\EMDS7-G018-049-0400.png\n",
      "Processed Image saved to: D:\\KULIAH\\SEMESTER 5\\RSBP\\Bacteri\\Detection-of-bacteria-in-water-using-Yolo-images\\Detect\\Detection-of-bacteria-in-water-using-Yolo-images\\temp\\images/train\\EMDS7-G036-020-0400.png\n",
      "Processed Image saved to: D:\\KULIAH\\SEMESTER 5\\RSBP\\Bacteri\\Detection-of-bacteria-in-water-using-Yolo-images\\Detect\\Detection-of-bacteria-in-water-using-Yolo-images\\temp\\images/train\\EMDS7-G022-158-0400.png\n",
      "Processed Image saved to: D:\\KULIAH\\SEMESTER 5\\RSBP\\Bacteri\\Detection-of-bacteria-in-water-using-Yolo-images\\Detect\\Detection-of-bacteria-in-water-using-Yolo-images\\temp\\images/train\\EMDS7-G012-110-0400.png\n",
      "Processed Image saved to: D:\\KULIAH\\SEMESTER 5\\RSBP\\Bacteri\\Detection-of-bacteria-in-water-using-Yolo-images\\Detect\\Detection-of-bacteria-in-water-using-Yolo-images\\temp\\images/train\\EMDS7-G012-030-0400.png\n",
      "Processed Image saved to: D:\\KULIAH\\SEMESTER 5\\RSBP\\Bacteri\\Detection-of-bacteria-in-water-using-Yolo-images\\Detect\\Detection-of-bacteria-in-water-using-Yolo-images\\temp\\images/train\\EMDS7-G003-105-0400.png\n",
      "Processed Image saved to: D:\\KULIAH\\SEMESTER 5\\RSBP\\Bacteri\\Detection-of-bacteria-in-water-using-Yolo-images\\Detect\\Detection-of-bacteria-in-water-using-Yolo-images\\temp\\images/train\\EMDS7-G022-168-0400.png\n",
      "Processed Image saved to: D:\\KULIAH\\SEMESTER 5\\RSBP\\Bacteri\\Detection-of-bacteria-in-water-using-Yolo-images\\Detect\\Detection-of-bacteria-in-water-using-Yolo-images\\temp\\images/train\\EMDS7-G003-241-0400.png\n",
      "Processed Image saved to: D:\\KULIAH\\SEMESTER 5\\RSBP\\Bacteri\\Detection-of-bacteria-in-water-using-Yolo-images\\Detect\\Detection-of-bacteria-in-water-using-Yolo-images\\temp\\images/train\\EMDS7-G022-061-0400.png\n",
      "Processed Image saved to: D:\\KULIAH\\SEMESTER 5\\RSBP\\Bacteri\\Detection-of-bacteria-in-water-using-Yolo-images\\Detect\\Detection-of-bacteria-in-water-using-Yolo-images\\temp\\images/train\\EMDS7-G017-072-0400.png\n",
      "Processed Image saved to: D:\\KULIAH\\SEMESTER 5\\RSBP\\Bacteri\\Detection-of-bacteria-in-water-using-Yolo-images\\Detect\\Detection-of-bacteria-in-water-using-Yolo-images\\temp\\images/train\\EMDS7-G003-235-0400.png\n",
      "Processed Image saved to: D:\\KULIAH\\SEMESTER 5\\RSBP\\Bacteri\\Detection-of-bacteria-in-water-using-Yolo-images\\Detect\\Detection-of-bacteria-in-water-using-Yolo-images\\temp\\images/train\\EMDS7-G011-064-0400.png\n",
      "Processed Image saved to: D:\\KULIAH\\SEMESTER 5\\RSBP\\Bacteri\\Detection-of-bacteria-in-water-using-Yolo-images\\Detect\\Detection-of-bacteria-in-water-using-Yolo-images\\temp\\images/train\\EMDS7-G009-079-0400.png\n",
      "Processed Image saved to: D:\\KULIAH\\SEMESTER 5\\RSBP\\Bacteri\\Detection-of-bacteria-in-water-using-Yolo-images\\Detect\\Detection-of-bacteria-in-water-using-Yolo-images\\temp\\images/train\\EMDS7-G003-048-0400.png\n",
      "Processed Image saved to: D:\\KULIAH\\SEMESTER 5\\RSBP\\Bacteri\\Detection-of-bacteria-in-water-using-Yolo-images\\Detect\\Detection-of-bacteria-in-water-using-Yolo-images\\temp\\images/train\\EMDS7-G039-029-0400.png\n",
      "Processed Image saved to: D:\\KULIAH\\SEMESTER 5\\RSBP\\Bacteri\\Detection-of-bacteria-in-water-using-Yolo-images\\Detect\\Detection-of-bacteria-in-water-using-Yolo-images\\temp\\images/train\\EMDS7-G039-034-0400.png\n",
      "Processed Image saved to: D:\\KULIAH\\SEMESTER 5\\RSBP\\Bacteri\\Detection-of-bacteria-in-water-using-Yolo-images\\Detect\\Detection-of-bacteria-in-water-using-Yolo-images\\temp\\images/train\\EMDS7-G022-141-0400.png\n",
      "Processed Image saved to: D:\\KULIAH\\SEMESTER 5\\RSBP\\Bacteri\\Detection-of-bacteria-in-water-using-Yolo-images\\Detect\\Detection-of-bacteria-in-water-using-Yolo-images\\temp\\images/train\\EMDS7-G038-048-0400.png\n",
      "Processed Image saved to: D:\\KULIAH\\SEMESTER 5\\RSBP\\Bacteri\\Detection-of-bacteria-in-water-using-Yolo-images\\Detect\\Detection-of-bacteria-in-water-using-Yolo-images\\temp\\images/train\\EMDS7-G039-035-0400.png\n",
      "Processed Image saved to: D:\\KULIAH\\SEMESTER 5\\RSBP\\Bacteri\\Detection-of-bacteria-in-water-using-Yolo-images\\Detect\\Detection-of-bacteria-in-water-using-Yolo-images\\temp\\images/train\\EMDS7-G012-006-0400.png\n",
      "Processed Image saved to: D:\\KULIAH\\SEMESTER 5\\RSBP\\Bacteri\\Detection-of-bacteria-in-water-using-Yolo-images\\Detect\\Detection-of-bacteria-in-water-using-Yolo-images\\temp\\images/train\\EMDS7-G029-016-0400.png\n",
      "Processed Image saved to: D:\\KULIAH\\SEMESTER 5\\RSBP\\Bacteri\\Detection-of-bacteria-in-water-using-Yolo-images\\Detect\\Detection-of-bacteria-in-water-using-Yolo-images\\temp\\images/train\\EMDS7-G003-084-0400.png\n",
      "Processed Image saved to: D:\\KULIAH\\SEMESTER 5\\RSBP\\Bacteri\\Detection-of-bacteria-in-water-using-Yolo-images\\Detect\\Detection-of-bacteria-in-water-using-Yolo-images\\temp\\images/train\\EMDS7-G017-006-0400.png\n",
      "Processed Image saved to: D:\\KULIAH\\SEMESTER 5\\RSBP\\Bacteri\\Detection-of-bacteria-in-water-using-Yolo-images\\Detect\\Detection-of-bacteria-in-water-using-Yolo-images\\temp\\images/train\\EMDS7-G032-082-0400.png\n",
      "Processed Image saved to: D:\\KULIAH\\SEMESTER 5\\RSBP\\Bacteri\\Detection-of-bacteria-in-water-using-Yolo-images\\Detect\\Detection-of-bacteria-in-water-using-Yolo-images\\temp\\images/train\\EMDS7-G012-066-0400.png\n",
      "Processed Image saved to: D:\\KULIAH\\SEMESTER 5\\RSBP\\Bacteri\\Detection-of-bacteria-in-water-using-Yolo-images\\Detect\\Detection-of-bacteria-in-water-using-Yolo-images\\temp\\images/train\\EMDS7-G004-085-0400.png\n",
      "Processed Image saved to: D:\\KULIAH\\SEMESTER 5\\RSBP\\Bacteri\\Detection-of-bacteria-in-water-using-Yolo-images\\Detect\\Detection-of-bacteria-in-water-using-Yolo-images\\temp\\images/train\\EMDS7-G022-223-0400.png\n",
      "Processed Image saved to: D:\\KULIAH\\SEMESTER 5\\RSBP\\Bacteri\\Detection-of-bacteria-in-water-using-Yolo-images\\Detect\\Detection-of-bacteria-in-water-using-Yolo-images\\temp\\images/train\\EMDS7-G037-005-0400.png\n",
      "Processed Image saved to: D:\\KULIAH\\SEMESTER 5\\RSBP\\Bacteri\\Detection-of-bacteria-in-water-using-Yolo-images\\Detect\\Detection-of-bacteria-in-water-using-Yolo-images\\temp\\images/train\\EMDS7-G017-037-0400.png\n",
      "Processed Image saved to: D:\\KULIAH\\SEMESTER 5\\RSBP\\Bacteri\\Detection-of-bacteria-in-water-using-Yolo-images\\Detect\\Detection-of-bacteria-in-water-using-Yolo-images\\temp\\images/train\\EMDS7-G001-015-0400.png\n",
      "Processed Image saved to: D:\\KULIAH\\SEMESTER 5\\RSBP\\Bacteri\\Detection-of-bacteria-in-water-using-Yolo-images\\Detect\\Detection-of-bacteria-in-water-using-Yolo-images\\temp\\images/train\\EMDS7-G011-060-0400.png\n",
      "Processed Image saved to: D:\\KULIAH\\SEMESTER 5\\RSBP\\Bacteri\\Detection-of-bacteria-in-water-using-Yolo-images\\Detect\\Detection-of-bacteria-in-water-using-Yolo-images\\temp\\images/train\\EMDS7-G018-053-0400.png\n",
      "Processed Image saved to: D:\\KULIAH\\SEMESTER 5\\RSBP\\Bacteri\\Detection-of-bacteria-in-water-using-Yolo-images\\Detect\\Detection-of-bacteria-in-water-using-Yolo-images\\temp\\images/train\\EMDS7-G010-023-0400.png\n",
      "Processed Image saved to: D:\\KULIAH\\SEMESTER 5\\RSBP\\Bacteri\\Detection-of-bacteria-in-water-using-Yolo-images\\Detect\\Detection-of-bacteria-in-water-using-Yolo-images\\temp\\images/train\\EMDS7-G008-042-0400.png\n",
      "Processed Image saved to: D:\\KULIAH\\SEMESTER 5\\RSBP\\Bacteri\\Detection-of-bacteria-in-water-using-Yolo-images\\Detect\\Detection-of-bacteria-in-water-using-Yolo-images\\temp\\images/train\\EMDS7-G018-001-0400.png\n",
      "Processed Image saved to: D:\\KULIAH\\SEMESTER 5\\RSBP\\Bacteri\\Detection-of-bacteria-in-water-using-Yolo-images\\Detect\\Detection-of-bacteria-in-water-using-Yolo-images\\temp\\images/train\\EMDS7-G009-045-0400.png\n",
      "Processed Image saved to: D:\\KULIAH\\SEMESTER 5\\RSBP\\Bacteri\\Detection-of-bacteria-in-water-using-Yolo-images\\Detect\\Detection-of-bacteria-in-water-using-Yolo-images\\temp\\images/train\\EMDS7-G028-044-0400.png\n",
      "Processed Image saved to: D:\\KULIAH\\SEMESTER 5\\RSBP\\Bacteri\\Detection-of-bacteria-in-water-using-Yolo-images\\Detect\\Detection-of-bacteria-in-water-using-Yolo-images\\temp\\images/train\\EMDS7-G011-020-0400.png\n",
      "Processed Image saved to: D:\\KULIAH\\SEMESTER 5\\RSBP\\Bacteri\\Detection-of-bacteria-in-water-using-Yolo-images\\Detect\\Detection-of-bacteria-in-water-using-Yolo-images\\temp\\images/train\\EMDS7-G003-210-0400.png\n",
      "Processed Image saved to: D:\\KULIAH\\SEMESTER 5\\RSBP\\Bacteri\\Detection-of-bacteria-in-water-using-Yolo-images\\Detect\\Detection-of-bacteria-in-water-using-Yolo-images\\temp\\images/train\\EMDS7-G032-053-0400.png\n",
      "Processed Image saved to: D:\\KULIAH\\SEMESTER 5\\RSBP\\Bacteri\\Detection-of-bacteria-in-water-using-Yolo-images\\Detect\\Detection-of-bacteria-in-water-using-Yolo-images\\temp\\images/train\\EMDS7-G022-140-0400.png\n",
      "Processed Image saved to: D:\\KULIAH\\SEMESTER 5\\RSBP\\Bacteri\\Detection-of-bacteria-in-water-using-Yolo-images\\Detect\\Detection-of-bacteria-in-water-using-Yolo-images\\temp\\images/train\\EMDS7-G028-030-0400.png\n",
      "Processed Image saved to: D:\\KULIAH\\SEMESTER 5\\RSBP\\Bacteri\\Detection-of-bacteria-in-water-using-Yolo-images\\Detect\\Detection-of-bacteria-in-water-using-Yolo-images\\temp\\images/train\\EMDS7-G038-014-0400.png\n",
      "Processed Image saved to: D:\\KULIAH\\SEMESTER 5\\RSBP\\Bacteri\\Detection-of-bacteria-in-water-using-Yolo-images\\Detect\\Detection-of-bacteria-in-water-using-Yolo-images\\temp\\images/train\\EMDS7-G020-032-0400.png\n",
      "Processed Image saved to: D:\\KULIAH\\SEMESTER 5\\RSBP\\Bacteri\\Detection-of-bacteria-in-water-using-Yolo-images\\Detect\\Detection-of-bacteria-in-water-using-Yolo-images\\temp\\images/train\\EMDS7-G008-024-0400.png\n",
      "Processed Image saved to: D:\\KULIAH\\SEMESTER 5\\RSBP\\Bacteri\\Detection-of-bacteria-in-water-using-Yolo-images\\Detect\\Detection-of-bacteria-in-water-using-Yolo-images\\temp\\images/train\\EMDS7-G019-006-0400.png\n",
      "Processed Image saved to: D:\\KULIAH\\SEMESTER 5\\RSBP\\Bacteri\\Detection-of-bacteria-in-water-using-Yolo-images\\Detect\\Detection-of-bacteria-in-water-using-Yolo-images\\temp\\images/train\\EMDS7-G004-017-0400.png\n",
      "Processed Image saved to: D:\\KULIAH\\SEMESTER 5\\RSBP\\Bacteri\\Detection-of-bacteria-in-water-using-Yolo-images\\Detect\\Detection-of-bacteria-in-water-using-Yolo-images\\temp\\images/train\\EMDS7-G016-005-0400.png\n",
      "Processed Image saved to: D:\\KULIAH\\SEMESTER 5\\RSBP\\Bacteri\\Detection-of-bacteria-in-water-using-Yolo-images\\Detect\\Detection-of-bacteria-in-water-using-Yolo-images\\temp\\images/train\\EMDS7-G036-025-0400.png\n",
      "Processed Image saved to: D:\\KULIAH\\SEMESTER 5\\RSBP\\Bacteri\\Detection-of-bacteria-in-water-using-Yolo-images\\Detect\\Detection-of-bacteria-in-water-using-Yolo-images\\temp\\images/train\\EMDS7-G018-048-0400.png\n",
      "Processed Image saved to: D:\\KULIAH\\SEMESTER 5\\RSBP\\Bacteri\\Detection-of-bacteria-in-water-using-Yolo-images\\Detect\\Detection-of-bacteria-in-water-using-Yolo-images\\temp\\images/train\\EMDS7-G023-035-0400.png\n",
      "Processed Image saved to: D:\\KULIAH\\SEMESTER 5\\RSBP\\Bacteri\\Detection-of-bacteria-in-water-using-Yolo-images\\Detect\\Detection-of-bacteria-in-water-using-Yolo-images\\temp\\images/train\\EMDS7-G008-023-0400.png\n",
      "Processed Image saved to: D:\\KULIAH\\SEMESTER 5\\RSBP\\Bacteri\\Detection-of-bacteria-in-water-using-Yolo-images\\Detect\\Detection-of-bacteria-in-water-using-Yolo-images\\temp\\images/train\\EMDS7-G036-017-0400.png\n",
      "Processed Image saved to: D:\\KULIAH\\SEMESTER 5\\RSBP\\Bacteri\\Detection-of-bacteria-in-water-using-Yolo-images\\Detect\\Detection-of-bacteria-in-water-using-Yolo-images\\temp\\images/train\\EMDS7-G017-031-0400.png\n",
      "Skipping image EMDS7-G025-006-0400.png due to no valid classes.\n",
      "Processed Image saved to: D:\\KULIAH\\SEMESTER 5\\RSBP\\Bacteri\\Detection-of-bacteria-in-water-using-Yolo-images\\Detect\\Detection-of-bacteria-in-water-using-Yolo-images\\temp\\images/train\\EMDS7-G025-023-0400.png\n",
      "Processed Image saved to: D:\\KULIAH\\SEMESTER 5\\RSBP\\Bacteri\\Detection-of-bacteria-in-water-using-Yolo-images\\Detect\\Detection-of-bacteria-in-water-using-Yolo-images\\temp\\images/train\\EMDS7-G003-011-0400.png\n",
      "Processed Image saved to: D:\\KULIAH\\SEMESTER 5\\RSBP\\Bacteri\\Detection-of-bacteria-in-water-using-Yolo-images\\Detect\\Detection-of-bacteria-in-water-using-Yolo-images\\temp\\images/train\\EMDS7-G014-060-0400.png\n",
      "Processed Image saved to: D:\\KULIAH\\SEMESTER 5\\RSBP\\Bacteri\\Detection-of-bacteria-in-water-using-Yolo-images\\Detect\\Detection-of-bacteria-in-water-using-Yolo-images\\temp\\images/train\\EMDS7-G005-008-0400.png\n",
      "Processed Image saved to: D:\\KULIAH\\SEMESTER 5\\RSBP\\Bacteri\\Detection-of-bacteria-in-water-using-Yolo-images\\Detect\\Detection-of-bacteria-in-water-using-Yolo-images\\temp\\images/train\\EMDS7-G030-049-0400.png\n",
      "Processed Image saved to: D:\\KULIAH\\SEMESTER 5\\RSBP\\Bacteri\\Detection-of-bacteria-in-water-using-Yolo-images\\Detect\\Detection-of-bacteria-in-water-using-Yolo-images\\temp\\images/train\\EMDS7-G003-158-0400.png\n",
      "Processed Image saved to: D:\\KULIAH\\SEMESTER 5\\RSBP\\Bacteri\\Detection-of-bacteria-in-water-using-Yolo-images\\Detect\\Detection-of-bacteria-in-water-using-Yolo-images\\temp\\images/train\\EMDS7-G021-007-0400.png\n",
      "Processed Image saved to: D:\\KULIAH\\SEMESTER 5\\RSBP\\Bacteri\\Detection-of-bacteria-in-water-using-Yolo-images\\Detect\\Detection-of-bacteria-in-water-using-Yolo-images\\temp\\images/train\\EMDS7-G018-047-0400.png\n",
      "Processed Image saved to: D:\\KULIAH\\SEMESTER 5\\RSBP\\Bacteri\\Detection-of-bacteria-in-water-using-Yolo-images\\Detect\\Detection-of-bacteria-in-water-using-Yolo-images\\temp\\images/train\\EMDS7-G025-047-0400.png\n",
      "Processed Image saved to: D:\\KULIAH\\SEMESTER 5\\RSBP\\Bacteri\\Detection-of-bacteria-in-water-using-Yolo-images\\Detect\\Detection-of-bacteria-in-water-using-Yolo-images\\temp\\images/train\\EMDS7-G036-039-0400.png\n",
      "Processed Image saved to: D:\\KULIAH\\SEMESTER 5\\RSBP\\Bacteri\\Detection-of-bacteria-in-water-using-Yolo-images\\Detect\\Detection-of-bacteria-in-water-using-Yolo-images\\temp\\images/train\\EMDS7-G022-037-0400.png\n",
      "Processed Image saved to: D:\\KULIAH\\SEMESTER 5\\RSBP\\Bacteri\\Detection-of-bacteria-in-water-using-Yolo-images\\Detect\\Detection-of-bacteria-in-water-using-Yolo-images\\temp\\images/train\\EMDS7-G003-160-0400.png\n",
      "Processed Image saved to: D:\\KULIAH\\SEMESTER 5\\RSBP\\Bacteri\\Detection-of-bacteria-in-water-using-Yolo-images\\Detect\\Detection-of-bacteria-in-water-using-Yolo-images\\temp\\images/train\\EMDS7-G018-032-0400.png\n",
      "Processed Image saved to: D:\\KULIAH\\SEMESTER 5\\RSBP\\Bacteri\\Detection-of-bacteria-in-water-using-Yolo-images\\Detect\\Detection-of-bacteria-in-water-using-Yolo-images\\temp\\images/train\\EMDS7-G003-122-0400.png\n",
      "Processed Image saved to: D:\\KULIAH\\SEMESTER 5\\RSBP\\Bacteri\\Detection-of-bacteria-in-water-using-Yolo-images\\Detect\\Detection-of-bacteria-in-water-using-Yolo-images\\temp\\images/train\\EMDS7-G001-016-0400.png\n",
      "Processed Image saved to: D:\\KULIAH\\SEMESTER 5\\RSBP\\Bacteri\\Detection-of-bacteria-in-water-using-Yolo-images\\Detect\\Detection-of-bacteria-in-water-using-Yolo-images\\temp\\images/train\\EMDS7-G004-009-0400.png\n",
      "Processed Image saved to: D:\\KULIAH\\SEMESTER 5\\RSBP\\Bacteri\\Detection-of-bacteria-in-water-using-Yolo-images\\Detect\\Detection-of-bacteria-in-water-using-Yolo-images\\temp\\images/train\\EMDS7-G010-008-0400.png\n",
      "Skipping image EMDS7-G022-234-0400.png due to no valid classes.\n",
      "Processed Image saved to: D:\\KULIAH\\SEMESTER 5\\RSBP\\Bacteri\\Detection-of-bacteria-in-water-using-Yolo-images\\Detect\\Detection-of-bacteria-in-water-using-Yolo-images\\temp\\images/train\\EMDS7-G003-218-0400.png\n",
      "Processed Image saved to: D:\\KULIAH\\SEMESTER 5\\RSBP\\Bacteri\\Detection-of-bacteria-in-water-using-Yolo-images\\Detect\\Detection-of-bacteria-in-water-using-Yolo-images\\temp\\images/train\\EMDS7-G032-034-0400.png\n",
      "Processed Image saved to: D:\\KULIAH\\SEMESTER 5\\RSBP\\Bacteri\\Detection-of-bacteria-in-water-using-Yolo-images\\Detect\\Detection-of-bacteria-in-water-using-Yolo-images\\temp\\images/train\\EMDS7-G018-029-0400.png\n",
      "Processed Image saved to: D:\\KULIAH\\SEMESTER 5\\RSBP\\Bacteri\\Detection-of-bacteria-in-water-using-Yolo-images\\Detect\\Detection-of-bacteria-in-water-using-Yolo-images\\temp\\images/train\\EMDS7-G038-005-0400.png\n",
      "Skipping image EMDS7-G022-204-0400.png due to no valid classes.\n",
      "Processed Image saved to: D:\\KULIAH\\SEMESTER 5\\RSBP\\Bacteri\\Detection-of-bacteria-in-water-using-Yolo-images\\Detect\\Detection-of-bacteria-in-water-using-Yolo-images\\temp\\images/train\\EMDS7-G003-094-0400.png\n",
      "Processed Image saved to: D:\\KULIAH\\SEMESTER 5\\RSBP\\Bacteri\\Detection-of-bacteria-in-water-using-Yolo-images\\Detect\\Detection-of-bacteria-in-water-using-Yolo-images\\temp\\images/train\\EMDS7-G032-037-0400.png\n",
      "Processed Image saved to: D:\\KULIAH\\SEMESTER 5\\RSBP\\Bacteri\\Detection-of-bacteria-in-water-using-Yolo-images\\Detect\\Detection-of-bacteria-in-water-using-Yolo-images\\temp\\images/train\\EMDS7-G024-016-0400.png\n",
      "Processed Image saved to: D:\\KULIAH\\SEMESTER 5\\RSBP\\Bacteri\\Detection-of-bacteria-in-water-using-Yolo-images\\Detect\\Detection-of-bacteria-in-water-using-Yolo-images\\temp\\images/train\\EMDS7-G028-022-0400.png\n",
      "Processed Image saved to: D:\\KULIAH\\SEMESTER 5\\RSBP\\Bacteri\\Detection-of-bacteria-in-water-using-Yolo-images\\Detect\\Detection-of-bacteria-in-water-using-Yolo-images\\temp\\images/train\\EMDS7-G030-035-0400.png\n",
      "Processed Image saved to: D:\\KULIAH\\SEMESTER 5\\RSBP\\Bacteri\\Detection-of-bacteria-in-water-using-Yolo-images\\Detect\\Detection-of-bacteria-in-water-using-Yolo-images\\temp\\images/train\\EMDS7-G030-028-0400.png\n",
      "Processed Image saved to: D:\\KULIAH\\SEMESTER 5\\RSBP\\Bacteri\\Detection-of-bacteria-in-water-using-Yolo-images\\Detect\\Detection-of-bacteria-in-water-using-Yolo-images\\temp\\images/train\\EMDS7-G005-039-0400.png\n",
      "Processed Image saved to: D:\\KULIAH\\SEMESTER 5\\RSBP\\Bacteri\\Detection-of-bacteria-in-water-using-Yolo-images\\Detect\\Detection-of-bacteria-in-water-using-Yolo-images\\temp\\images/train\\EMDS7-G015-016-0400.png\n",
      "Processed Image saved to: D:\\KULIAH\\SEMESTER 5\\RSBP\\Bacteri\\Detection-of-bacteria-in-water-using-Yolo-images\\Detect\\Detection-of-bacteria-in-water-using-Yolo-images\\temp\\images/train\\EMDS7-G018-063-0400.png\n",
      "Processed Image saved to: D:\\KULIAH\\SEMESTER 5\\RSBP\\Bacteri\\Detection-of-bacteria-in-water-using-Yolo-images\\Detect\\Detection-of-bacteria-in-water-using-Yolo-images\\temp\\images/train\\EMDS7-G033-020-0400.png\n",
      "Processed Image saved to: D:\\KULIAH\\SEMESTER 5\\RSBP\\Bacteri\\Detection-of-bacteria-in-water-using-Yolo-images\\Detect\\Detection-of-bacteria-in-water-using-Yolo-images\\temp\\images/train\\EMDS7-G031-016-0400.png\n",
      "Processed Image saved to: D:\\KULIAH\\SEMESTER 5\\RSBP\\Bacteri\\Detection-of-bacteria-in-water-using-Yolo-images\\Detect\\Detection-of-bacteria-in-water-using-Yolo-images\\temp\\images/train\\EMDS7-G014-018-0400.png\n",
      "Processed Image saved to: D:\\KULIAH\\SEMESTER 5\\RSBP\\Bacteri\\Detection-of-bacteria-in-water-using-Yolo-images\\Detect\\Detection-of-bacteria-in-water-using-Yolo-images\\temp\\images/train\\EMDS7-G004-056-0400.png\n",
      "Processed Image saved to: D:\\KULIAH\\SEMESTER 5\\RSBP\\Bacteri\\Detection-of-bacteria-in-water-using-Yolo-images\\Detect\\Detection-of-bacteria-in-water-using-Yolo-images\\temp\\images/train\\EMDS7-G020-024-0400.png\n",
      "Processed Image saved to: D:\\KULIAH\\SEMESTER 5\\RSBP\\Bacteri\\Detection-of-bacteria-in-water-using-Yolo-images\\Detect\\Detection-of-bacteria-in-water-using-Yolo-images\\temp\\images/train\\EMDS7-G003-175-0400.png\n",
      "Processed Image saved to: D:\\KULIAH\\SEMESTER 5\\RSBP\\Bacteri\\Detection-of-bacteria-in-water-using-Yolo-images\\Detect\\Detection-of-bacteria-in-water-using-Yolo-images\\temp\\images/train\\EMDS7-G032-035-0400.png\n",
      "Processed Image saved to: D:\\KULIAH\\SEMESTER 5\\RSBP\\Bacteri\\Detection-of-bacteria-in-water-using-Yolo-images\\Detect\\Detection-of-bacteria-in-water-using-Yolo-images\\temp\\images/train\\EMDS7-G030-013-0400.png\n",
      "Processed Image saved to: D:\\KULIAH\\SEMESTER 5\\RSBP\\Bacteri\\Detection-of-bacteria-in-water-using-Yolo-images\\Detect\\Detection-of-bacteria-in-water-using-Yolo-images\\temp\\images/train\\EMDS7-G003-130-0400.png\n",
      "Processed Image saved to: D:\\KULIAH\\SEMESTER 5\\RSBP\\Bacteri\\Detection-of-bacteria-in-water-using-Yolo-images\\Detect\\Detection-of-bacteria-in-water-using-Yolo-images\\temp\\images/train\\EMDS7-G008-025-0400.png\n",
      "Processed Image saved to: D:\\KULIAH\\SEMESTER 5\\RSBP\\Bacteri\\Detection-of-bacteria-in-water-using-Yolo-images\\Detect\\Detection-of-bacteria-in-water-using-Yolo-images\\temp\\images/train\\EMDS7-G030-009-0400.png\n",
      "Processed Image saved to: D:\\KULIAH\\SEMESTER 5\\RSBP\\Bacteri\\Detection-of-bacteria-in-water-using-Yolo-images\\Detect\\Detection-of-bacteria-in-water-using-Yolo-images\\temp\\images/train\\EMDS7-G019-029-0400.png\n",
      "Processed Image saved to: D:\\KULIAH\\SEMESTER 5\\RSBP\\Bacteri\\Detection-of-bacteria-in-water-using-Yolo-images\\Detect\\Detection-of-bacteria-in-water-using-Yolo-images\\temp\\images/train\\EMDS7-G036-042-0400.png\n",
      "Processed Image saved to: D:\\KULIAH\\SEMESTER 5\\RSBP\\Bacteri\\Detection-of-bacteria-in-water-using-Yolo-images\\Detect\\Detection-of-bacteria-in-water-using-Yolo-images\\temp\\images/train\\EMDS7-G003-243-0400.png\n",
      "Processed Image saved to: D:\\KULIAH\\SEMESTER 5\\RSBP\\Bacteri\\Detection-of-bacteria-in-water-using-Yolo-images\\Detect\\Detection-of-bacteria-in-water-using-Yolo-images\\temp\\images/train\\EMDS7-G017-057-0400.png\n",
      "Processed Image saved to: D:\\KULIAH\\SEMESTER 5\\RSBP\\Bacteri\\Detection-of-bacteria-in-water-using-Yolo-images\\Detect\\Detection-of-bacteria-in-water-using-Yolo-images\\temp\\images/train\\EMDS7-G003-117-0400.png\n",
      "Processed Image saved to: D:\\KULIAH\\SEMESTER 5\\RSBP\\Bacteri\\Detection-of-bacteria-in-water-using-Yolo-images\\Detect\\Detection-of-bacteria-in-water-using-Yolo-images\\temp\\images/train\\EMDS7-G019-021-0400.png\n",
      "Processed Image saved to: D:\\KULIAH\\SEMESTER 5\\RSBP\\Bacteri\\Detection-of-bacteria-in-water-using-Yolo-images\\Detect\\Detection-of-bacteria-in-water-using-Yolo-images\\temp\\images/train\\EMDS7-G009-026-0400.png\n",
      "Processed Image saved to: D:\\KULIAH\\SEMESTER 5\\RSBP\\Bacteri\\Detection-of-bacteria-in-water-using-Yolo-images\\Detect\\Detection-of-bacteria-in-water-using-Yolo-images\\temp\\images/train\\EMDS7-G039-031-0400.png\n",
      "Processed Image saved to: D:\\KULIAH\\SEMESTER 5\\RSBP\\Bacteri\\Detection-of-bacteria-in-water-using-Yolo-images\\Detect\\Detection-of-bacteria-in-water-using-Yolo-images\\temp\\images/train\\EMDS7-G039-036-0400.png\n",
      "Processed Image saved to: D:\\KULIAH\\SEMESTER 5\\RSBP\\Bacteri\\Detection-of-bacteria-in-water-using-Yolo-images\\Detect\\Detection-of-bacteria-in-water-using-Yolo-images\\temp\\images/train\\EMDS7-G032-019-0400.png\n",
      "Processed Image saved to: D:\\KULIAH\\SEMESTER 5\\RSBP\\Bacteri\\Detection-of-bacteria-in-water-using-Yolo-images\\Detect\\Detection-of-bacteria-in-water-using-Yolo-images\\temp\\images/train\\EMDS7-G014-073-0400.png\n",
      "Processed Image saved to: D:\\KULIAH\\SEMESTER 5\\RSBP\\Bacteri\\Detection-of-bacteria-in-water-using-Yolo-images\\Detect\\Detection-of-bacteria-in-water-using-Yolo-images\\temp\\images/train\\EMDS7-G036-068-0400.png\n",
      "Processed Image saved to: D:\\KULIAH\\SEMESTER 5\\RSBP\\Bacteri\\Detection-of-bacteria-in-water-using-Yolo-images\\Detect\\Detection-of-bacteria-in-water-using-Yolo-images\\temp\\images/train\\EMDS7-G035-027-0400.png\n",
      "Processed Image saved to: D:\\KULIAH\\SEMESTER 5\\RSBP\\Bacteri\\Detection-of-bacteria-in-water-using-Yolo-images\\Detect\\Detection-of-bacteria-in-water-using-Yolo-images\\temp\\images/train\\EMDS7-G022-029-0400.png\n",
      "Processed Image saved to: D:\\KULIAH\\SEMESTER 5\\RSBP\\Bacteri\\Detection-of-bacteria-in-water-using-Yolo-images\\Detect\\Detection-of-bacteria-in-water-using-Yolo-images\\temp\\images/train\\EMDS7-G018-086-0400.png\n",
      "Processed Image saved to: D:\\KULIAH\\SEMESTER 5\\RSBP\\Bacteri\\Detection-of-bacteria-in-water-using-Yolo-images\\Detect\\Detection-of-bacteria-in-water-using-Yolo-images\\temp\\images/train\\EMDS7-G036-049-0400.png\n",
      "Processed Image saved to: D:\\KULIAH\\SEMESTER 5\\RSBP\\Bacteri\\Detection-of-bacteria-in-water-using-Yolo-images\\Detect\\Detection-of-bacteria-in-water-using-Yolo-images\\temp\\images/train\\EMDS7-G022-096-0400.png\n",
      "Processed Image saved to: D:\\KULIAH\\SEMESTER 5\\RSBP\\Bacteri\\Detection-of-bacteria-in-water-using-Yolo-images\\Detect\\Detection-of-bacteria-in-water-using-Yolo-images\\temp\\images/train\\EMDS7-G003-159-0400.png\n",
      "Processed Image saved to: D:\\KULIAH\\SEMESTER 5\\RSBP\\Bacteri\\Detection-of-bacteria-in-water-using-Yolo-images\\Detect\\Detection-of-bacteria-in-water-using-Yolo-images\\temp\\images/train\\EMDS7-G018-007-0400.png\n",
      "Processed Image saved to: D:\\KULIAH\\SEMESTER 5\\RSBP\\Bacteri\\Detection-of-bacteria-in-water-using-Yolo-images\\Detect\\Detection-of-bacteria-in-water-using-Yolo-images\\temp\\images/train\\EMDS7-G018-038-0400.png\n",
      "Processed Image saved to: D:\\KULIAH\\SEMESTER 5\\RSBP\\Bacteri\\Detection-of-bacteria-in-water-using-Yolo-images\\Detect\\Detection-of-bacteria-in-water-using-Yolo-images\\temp\\images/train\\EMDS7-G014-052-0400.png\n",
      "Processed Image saved to: D:\\KULIAH\\SEMESTER 5\\RSBP\\Bacteri\\Detection-of-bacteria-in-water-using-Yolo-images\\Detect\\Detection-of-bacteria-in-water-using-Yolo-images\\temp\\images/train\\EMDS7-G039-002-0400.png\n",
      "Processed Image saved to: D:\\KULIAH\\SEMESTER 5\\RSBP\\Bacteri\\Detection-of-bacteria-in-water-using-Yolo-images\\Detect\\Detection-of-bacteria-in-water-using-Yolo-images\\temp\\images/train\\EMDS7-G012-094-0400.png\n",
      "Processed Image saved to: D:\\KULIAH\\SEMESTER 5\\RSBP\\Bacteri\\Detection-of-bacteria-in-water-using-Yolo-images\\Detect\\Detection-of-bacteria-in-water-using-Yolo-images\\temp\\images/train\\EMDS7-G038-040-0400.png\n",
      "Processed Image saved to: D:\\KULIAH\\SEMESTER 5\\RSBP\\Bacteri\\Detection-of-bacteria-in-water-using-Yolo-images\\Detect\\Detection-of-bacteria-in-water-using-Yolo-images\\temp\\images/train\\EMDS7-G036-067-0400.png\n",
      "Processed Image saved to: D:\\KULIAH\\SEMESTER 5\\RSBP\\Bacteri\\Detection-of-bacteria-in-water-using-Yolo-images\\Detect\\Detection-of-bacteria-in-water-using-Yolo-images\\temp\\images/train\\EMDS7-G014-066-0400.png\n",
      "Processed Image saved to: D:\\KULIAH\\SEMESTER 5\\RSBP\\Bacteri\\Detection-of-bacteria-in-water-using-Yolo-images\\Detect\\Detection-of-bacteria-in-water-using-Yolo-images\\temp\\images/train\\EMDS7-G014-095-0400.png\n",
      "Processed Image saved to: D:\\KULIAH\\SEMESTER 5\\RSBP\\Bacteri\\Detection-of-bacteria-in-water-using-Yolo-images\\Detect\\Detection-of-bacteria-in-water-using-Yolo-images\\temp\\images/train\\EMDS7-G003-288-0400.png\n",
      "Processed Image saved to: D:\\KULIAH\\SEMESTER 5\\RSBP\\Bacteri\\Detection-of-bacteria-in-water-using-Yolo-images\\Detect\\Detection-of-bacteria-in-water-using-Yolo-images\\temp\\images/train\\EMDS7-G032-028-0400.png\n",
      "Processed Image saved to: D:\\KULIAH\\SEMESTER 5\\RSBP\\Bacteri\\Detection-of-bacteria-in-water-using-Yolo-images\\Detect\\Detection-of-bacteria-in-water-using-Yolo-images\\temp\\images/train\\EMDS7-G041-003-0400.png\n",
      "Processed Image saved to: D:\\KULIAH\\SEMESTER 5\\RSBP\\Bacteri\\Detection-of-bacteria-in-water-using-Yolo-images\\Detect\\Detection-of-bacteria-in-water-using-Yolo-images\\temp\\images/train\\EMDS7-G003-221-0400.png\n",
      "Processed Image saved to: D:\\KULIAH\\SEMESTER 5\\RSBP\\Bacteri\\Detection-of-bacteria-in-water-using-Yolo-images\\Detect\\Detection-of-bacteria-in-water-using-Yolo-images\\temp\\images/train\\EMDS7-G025-005-0400.png\n",
      "Processed Image saved to: D:\\KULIAH\\SEMESTER 5\\RSBP\\Bacteri\\Detection-of-bacteria-in-water-using-Yolo-images\\Detect\\Detection-of-bacteria-in-water-using-Yolo-images\\temp\\images/train\\EMDS7-G011-054-0400.png\n",
      "Processed Image saved to: D:\\KULIAH\\SEMESTER 5\\RSBP\\Bacteri\\Detection-of-bacteria-in-water-using-Yolo-images\\Detect\\Detection-of-bacteria-in-water-using-Yolo-images\\temp\\images/train\\EMDS7-G014-085-0400.png\n",
      "Processed Image saved to: D:\\KULIAH\\SEMESTER 5\\RSBP\\Bacteri\\Detection-of-bacteria-in-water-using-Yolo-images\\Detect\\Detection-of-bacteria-in-water-using-Yolo-images\\temp\\images/train\\EMDS7-G014-014-0400.png\n",
      "Processed Image saved to: D:\\KULIAH\\SEMESTER 5\\RSBP\\Bacteri\\Detection-of-bacteria-in-water-using-Yolo-images\\Detect\\Detection-of-bacteria-in-water-using-Yolo-images\\temp\\images/train\\EMDS7-G022-270-0400.png\n",
      "Processed Image saved to: D:\\KULIAH\\SEMESTER 5\\RSBP\\Bacteri\\Detection-of-bacteria-in-water-using-Yolo-images\\Detect\\Detection-of-bacteria-in-water-using-Yolo-images\\temp\\images/train\\EMDS7-G006-0011-0400.png\n",
      "Processed Image saved to: D:\\KULIAH\\SEMESTER 5\\RSBP\\Bacteri\\Detection-of-bacteria-in-water-using-Yolo-images\\Detect\\Detection-of-bacteria-in-water-using-Yolo-images\\temp\\images/train\\EMDS7-G011-057-0400.png\n",
      "Processed Image saved to: D:\\KULIAH\\SEMESTER 5\\RSBP\\Bacteri\\Detection-of-bacteria-in-water-using-Yolo-images\\Detect\\Detection-of-bacteria-in-water-using-Yolo-images\\temp\\images/train\\EMDS7-G023-032-0400.png\n",
      "Processed Image saved to: D:\\KULIAH\\SEMESTER 5\\RSBP\\Bacteri\\Detection-of-bacteria-in-water-using-Yolo-images\\Detect\\Detection-of-bacteria-in-water-using-Yolo-images\\temp\\images/train\\EMDS7-G025-062-0400.png\n",
      "Processed Image saved to: D:\\KULIAH\\SEMESTER 5\\RSBP\\Bacteri\\Detection-of-bacteria-in-water-using-Yolo-images\\Detect\\Detection-of-bacteria-in-water-using-Yolo-images\\temp\\images/train\\EMDS7-G028-026-0400.png\n",
      "Processed Image saved to: D:\\KULIAH\\SEMESTER 5\\RSBP\\Bacteri\\Detection-of-bacteria-in-water-using-Yolo-images\\Detect\\Detection-of-bacteria-in-water-using-Yolo-images\\temp\\images/train\\EMDS7-G010-002-0400.png\n",
      "Processed Image saved to: D:\\KULIAH\\SEMESTER 5\\RSBP\\Bacteri\\Detection-of-bacteria-in-water-using-Yolo-images\\Detect\\Detection-of-bacteria-in-water-using-Yolo-images\\temp\\images/train\\EMDS7-G012-065-0400.png\n",
      "Processed Image saved to: D:\\KULIAH\\SEMESTER 5\\RSBP\\Bacteri\\Detection-of-bacteria-in-water-using-Yolo-images\\Detect\\Detection-of-bacteria-in-water-using-Yolo-images\\temp\\images/train\\EMDS7-G030-021-0400.png\n",
      "Processed Image saved to: D:\\KULIAH\\SEMESTER 5\\RSBP\\Bacteri\\Detection-of-bacteria-in-water-using-Yolo-images\\Detect\\Detection-of-bacteria-in-water-using-Yolo-images\\temp\\images/train\\EMDS7-G022-171-0400.png\n",
      "Processed Image saved to: D:\\KULIAH\\SEMESTER 5\\RSBP\\Bacteri\\Detection-of-bacteria-in-water-using-Yolo-images\\Detect\\Detection-of-bacteria-in-water-using-Yolo-images\\temp\\images/train\\EMDS7-G029-011-0400.png\n",
      "Processed Image saved to: D:\\KULIAH\\SEMESTER 5\\RSBP\\Bacteri\\Detection-of-bacteria-in-water-using-Yolo-images\\Detect\\Detection-of-bacteria-in-water-using-Yolo-images\\temp\\images/train\\EMDS7-G011-059-0400.png\n",
      "Processed Image saved to: D:\\KULIAH\\SEMESTER 5\\RSBP\\Bacteri\\Detection-of-bacteria-in-water-using-Yolo-images\\Detect\\Detection-of-bacteria-in-water-using-Yolo-images\\temp\\images/train\\EMDS7-G003-278-0400.png\n",
      "Processed Image saved to: D:\\KULIAH\\SEMESTER 5\\RSBP\\Bacteri\\Detection-of-bacteria-in-water-using-Yolo-images\\Detect\\Detection-of-bacteria-in-water-using-Yolo-images\\temp\\images/train\\EMDS7-G039-055-0400.png\n",
      "Processed Image saved to: D:\\KULIAH\\SEMESTER 5\\RSBP\\Bacteri\\Detection-of-bacteria-in-water-using-Yolo-images\\Detect\\Detection-of-bacteria-in-water-using-Yolo-images\\temp\\images/train\\EMDS7-G009-043-0400.png\n",
      "Processed Image saved to: D:\\KULIAH\\SEMESTER 5\\RSBP\\Bacteri\\Detection-of-bacteria-in-water-using-Yolo-images\\Detect\\Detection-of-bacteria-in-water-using-Yolo-images\\temp\\images/train\\EMDS7-G005-053-0400.png\n",
      "Processed Image saved to: D:\\KULIAH\\SEMESTER 5\\RSBP\\Bacteri\\Detection-of-bacteria-in-water-using-Yolo-images\\Detect\\Detection-of-bacteria-in-water-using-Yolo-images\\temp\\images/train\\EMDS7-G022-131-0400.png\n",
      "Processed Image saved to: D:\\KULIAH\\SEMESTER 5\\RSBP\\Bacteri\\Detection-of-bacteria-in-water-using-Yolo-images\\Detect\\Detection-of-bacteria-in-water-using-Yolo-images\\temp\\images/train\\EMDS7-G032-005-0400.png\n",
      "Processed Image saved to: D:\\KULIAH\\SEMESTER 5\\RSBP\\Bacteri\\Detection-of-bacteria-in-water-using-Yolo-images\\Detect\\Detection-of-bacteria-in-water-using-Yolo-images\\temp\\images/train\\EMDS7-G035-052-0400.png\n",
      "Processed Image saved to: D:\\KULIAH\\SEMESTER 5\\RSBP\\Bacteri\\Detection-of-bacteria-in-water-using-Yolo-images\\Detect\\Detection-of-bacteria-in-water-using-Yolo-images\\temp\\images/train\\EMDS7-G004-071-0400.png\n",
      "Processed Image saved to: D:\\KULIAH\\SEMESTER 5\\RSBP\\Bacteri\\Detection-of-bacteria-in-water-using-Yolo-images\\Detect\\Detection-of-bacteria-in-water-using-Yolo-images\\temp\\images/train\\EMDS7-G003-029-0400.png\n",
      "Processed Image saved to: D:\\KULIAH\\SEMESTER 5\\RSBP\\Bacteri\\Detection-of-bacteria-in-water-using-Yolo-images\\Detect\\Detection-of-bacteria-in-water-using-Yolo-images\\temp\\images/train\\EMDS7-G009-014-0400.png\n",
      "Processed Image saved to: D:\\KULIAH\\SEMESTER 5\\RSBP\\Bacteri\\Detection-of-bacteria-in-water-using-Yolo-images\\Detect\\Detection-of-bacteria-in-water-using-Yolo-images\\temp\\images/train\\EMDS7-G027-018-0400.png\n",
      "Processed Image saved to: D:\\KULIAH\\SEMESTER 5\\RSBP\\Bacteri\\Detection-of-bacteria-in-water-using-Yolo-images\\Detect\\Detection-of-bacteria-in-water-using-Yolo-images\\temp\\images/train\\EMDS7-G020-022-0400.png\n",
      "Processed Image saved to: D:\\KULIAH\\SEMESTER 5\\RSBP\\Bacteri\\Detection-of-bacteria-in-water-using-Yolo-images\\Detect\\Detection-of-bacteria-in-water-using-Yolo-images\\temp\\images/train\\EMDS7-G013-001-0400.png\n",
      "Processed Image saved to: D:\\KULIAH\\SEMESTER 5\\RSBP\\Bacteri\\Detection-of-bacteria-in-water-using-Yolo-images\\Detect\\Detection-of-bacteria-in-water-using-Yolo-images\\temp\\images/train\\EMDS7-G040-006-0400.png\n",
      "Processed Image saved to: D:\\KULIAH\\SEMESTER 5\\RSBP\\Bacteri\\Detection-of-bacteria-in-water-using-Yolo-images\\Detect\\Detection-of-bacteria-in-water-using-Yolo-images\\temp\\images/train\\EMDS7-G038-049-0400.png\n",
      "Processed Image saved to: D:\\KULIAH\\SEMESTER 5\\RSBP\\Bacteri\\Detection-of-bacteria-in-water-using-Yolo-images\\Detect\\Detection-of-bacteria-in-water-using-Yolo-images\\temp\\images/train\\EMDS7-G003-044-0400.png\n",
      "Processed Image saved to: D:\\KULIAH\\SEMESTER 5\\RSBP\\Bacteri\\Detection-of-bacteria-in-water-using-Yolo-images\\Detect\\Detection-of-bacteria-in-water-using-Yolo-images\\temp\\images/train\\EMDS7-G022-087-0400.png\n",
      "Processed Image saved to: D:\\KULIAH\\SEMESTER 5\\RSBP\\Bacteri\\Detection-of-bacteria-in-water-using-Yolo-images\\Detect\\Detection-of-bacteria-in-water-using-Yolo-images\\temp\\images/train\\EMDS7-G035-013-0400.png\n",
      "Processed Image saved to: D:\\KULIAH\\SEMESTER 5\\RSBP\\Bacteri\\Detection-of-bacteria-in-water-using-Yolo-images\\Detect\\Detection-of-bacteria-in-water-using-Yolo-images\\temp\\images/train\\EMDS7-G024-011-0400.png\n",
      "Processed Image saved to: D:\\KULIAH\\SEMESTER 5\\RSBP\\Bacteri\\Detection-of-bacteria-in-water-using-Yolo-images\\Detect\\Detection-of-bacteria-in-water-using-Yolo-images\\temp\\images/train\\EMDS7-G022-089-0400.png\n",
      "Processed Image saved to: D:\\KULIAH\\SEMESTER 5\\RSBP\\Bacteri\\Detection-of-bacteria-in-water-using-Yolo-images\\Detect\\Detection-of-bacteria-in-water-using-Yolo-images\\temp\\images/train\\EMDS7-G038-047-0400.png\n",
      "Processed Image saved to: D:\\KULIAH\\SEMESTER 5\\RSBP\\Bacteri\\Detection-of-bacteria-in-water-using-Yolo-images\\Detect\\Detection-of-bacteria-in-water-using-Yolo-images\\temp\\images/train\\EMDS7-G005-010-0400.png\n",
      "Processed Image saved to: D:\\KULIAH\\SEMESTER 5\\RSBP\\Bacteri\\Detection-of-bacteria-in-water-using-Yolo-images\\Detect\\Detection-of-bacteria-in-water-using-Yolo-images\\temp\\images/train\\EMDS7-G017-053-0400.png\n",
      "Processed Image saved to: D:\\KULIAH\\SEMESTER 5\\RSBP\\Bacteri\\Detection-of-bacteria-in-water-using-Yolo-images\\Detect\\Detection-of-bacteria-in-water-using-Yolo-images\\temp\\images/train\\EMDS7-G009-073-0400.png\n",
      "Processed Image saved to: D:\\KULIAH\\SEMESTER 5\\RSBP\\Bacteri\\Detection-of-bacteria-in-water-using-Yolo-images\\Detect\\Detection-of-bacteria-in-water-using-Yolo-images\\temp\\images/train\\EMDS7-G025-028-0400.png\n",
      "Processed Image saved to: D:\\KULIAH\\SEMESTER 5\\RSBP\\Bacteri\\Detection-of-bacteria-in-water-using-Yolo-images\\Detect\\Detection-of-bacteria-in-water-using-Yolo-images\\temp\\images/train\\EMDS7-G014-089-0400.png\n",
      "Processed Image saved to: D:\\KULIAH\\SEMESTER 5\\RSBP\\Bacteri\\Detection-of-bacteria-in-water-using-Yolo-images\\Detect\\Detection-of-bacteria-in-water-using-Yolo-images\\temp\\images/train\\EMDS7-G030-017-0400.png\n",
      "Processed Image saved to: D:\\KULIAH\\SEMESTER 5\\RSBP\\Bacteri\\Detection-of-bacteria-in-water-using-Yolo-images\\Detect\\Detection-of-bacteria-in-water-using-Yolo-images\\temp\\images/train\\EMDS7-G032-088-0400.png\n",
      "Processed Image saved to: D:\\KULIAH\\SEMESTER 5\\RSBP\\Bacteri\\Detection-of-bacteria-in-water-using-Yolo-images\\Detect\\Detection-of-bacteria-in-water-using-Yolo-images\\temp\\images/train\\EMDS7-G003-154-0400.png\n",
      "Processed Image saved to: D:\\KULIAH\\SEMESTER 5\\RSBP\\Bacteri\\Detection-of-bacteria-in-water-using-Yolo-images\\Detect\\Detection-of-bacteria-in-water-using-Yolo-images\\temp\\images/train\\EMDS7-G020-021-0400.png\n",
      "Processed Image saved to: D:\\KULIAH\\SEMESTER 5\\RSBP\\Bacteri\\Detection-of-bacteria-in-water-using-Yolo-images\\Detect\\Detection-of-bacteria-in-water-using-Yolo-images\\temp\\images/train\\EMDS7-G017-071-0400.png\n",
      "Processed Image saved to: D:\\KULIAH\\SEMESTER 5\\RSBP\\Bacteri\\Detection-of-bacteria-in-water-using-Yolo-images\\Detect\\Detection-of-bacteria-in-water-using-Yolo-images\\temp\\images/train\\EMDS7-G030-041-0400.png\n",
      "Processed Image saved to: D:\\KULIAH\\SEMESTER 5\\RSBP\\Bacteri\\Detection-of-bacteria-in-water-using-Yolo-images\\Detect\\Detection-of-bacteria-in-water-using-Yolo-images\\temp\\images/train\\EMDS7-G003-230-0400.png\n",
      "Processed Image saved to: D:\\KULIAH\\SEMESTER 5\\RSBP\\Bacteri\\Detection-of-bacteria-in-water-using-Yolo-images\\Detect\\Detection-of-bacteria-in-water-using-Yolo-images\\temp\\images/train\\EMDS7-G006-014-0400.png\n",
      "Processed Image saved to: D:\\KULIAH\\SEMESTER 5\\RSBP\\Bacteri\\Detection-of-bacteria-in-water-using-Yolo-images\\Detect\\Detection-of-bacteria-in-water-using-Yolo-images\\temp\\images/train\\EMDS7-G014-043-0400.png\n",
      "Processed Image saved to: D:\\KULIAH\\SEMESTER 5\\RSBP\\Bacteri\\Detection-of-bacteria-in-water-using-Yolo-images\\Detect\\Detection-of-bacteria-in-water-using-Yolo-images\\temp\\images/train\\EMDS7-G018-061-0400.png\n",
      "Processed Image saved to: D:\\KULIAH\\SEMESTER 5\\RSBP\\Bacteri\\Detection-of-bacteria-in-water-using-Yolo-images\\Detect\\Detection-of-bacteria-in-water-using-Yolo-images\\temp\\images/train\\EMDS7-G008-038-0400.png\n",
      "Processed Image saved to: D:\\KULIAH\\SEMESTER 5\\RSBP\\Bacteri\\Detection-of-bacteria-in-water-using-Yolo-images\\Detect\\Detection-of-bacteria-in-water-using-Yolo-images\\temp\\images/train\\EMDS7-G030-001-0400.png\n",
      "Processed Image saved to: D:\\KULIAH\\SEMESTER 5\\RSBP\\Bacteri\\Detection-of-bacteria-in-water-using-Yolo-images\\Detect\\Detection-of-bacteria-in-water-using-Yolo-images\\temp\\images/train\\EMDS7-G018-072-0400.png\n",
      "Processed Image saved to: D:\\KULIAH\\SEMESTER 5\\RSBP\\Bacteri\\Detection-of-bacteria-in-water-using-Yolo-images\\Detect\\Detection-of-bacteria-in-water-using-Yolo-images\\temp\\images/train\\EMDS7-G018-044-0400.png\n",
      "Processed Image saved to: D:\\KULIAH\\SEMESTER 5\\RSBP\\Bacteri\\Detection-of-bacteria-in-water-using-Yolo-images\\Detect\\Detection-of-bacteria-in-water-using-Yolo-images\\temp\\images/train\\EMDS7-G017-061-0400.png\n",
      "Processed Image saved to: D:\\KULIAH\\SEMESTER 5\\RSBP\\Bacteri\\Detection-of-bacteria-in-water-using-Yolo-images\\Detect\\Detection-of-bacteria-in-water-using-Yolo-images\\temp\\images/train\\EMDS7-G028-004-0400.png\n",
      "Processed Image saved to: D:\\KULIAH\\SEMESTER 5\\RSBP\\Bacteri\\Detection-of-bacteria-in-water-using-Yolo-images\\Detect\\Detection-of-bacteria-in-water-using-Yolo-images\\temp\\images/train\\EMDS7-G022-118-0400.png\n",
      "Processed Image saved to: D:\\KULIAH\\SEMESTER 5\\RSBP\\Bacteri\\Detection-of-bacteria-in-water-using-Yolo-images\\Detect\\Detection-of-bacteria-in-water-using-Yolo-images\\temp\\images/train\\EMDS7-G001-030-0400.png\n",
      "Processed Image saved to: D:\\KULIAH\\SEMESTER 5\\RSBP\\Bacteri\\Detection-of-bacteria-in-water-using-Yolo-images\\Detect\\Detection-of-bacteria-in-water-using-Yolo-images\\temp\\images/train\\EMDS7-G033-009-0400.png\n",
      "Processed Image saved to: D:\\KULIAH\\SEMESTER 5\\RSBP\\Bacteri\\Detection-of-bacteria-in-water-using-Yolo-images\\Detect\\Detection-of-bacteria-in-water-using-Yolo-images\\temp\\images/train\\EMDS7-G003-056-0400.png\n",
      "Processed Image saved to: D:\\KULIAH\\SEMESTER 5\\RSBP\\Bacteri\\Detection-of-bacteria-in-water-using-Yolo-images\\Detect\\Detection-of-bacteria-in-water-using-Yolo-images\\temp\\images/train\\EMDS7-G014-029-0400.png\n",
      "Processed Image saved to: D:\\KULIAH\\SEMESTER 5\\RSBP\\Bacteri\\Detection-of-bacteria-in-water-using-Yolo-images\\Detect\\Detection-of-bacteria-in-water-using-Yolo-images\\temp\\images/train\\EMDS7-G022-232-0400.png\n",
      "Processed Image saved to: D:\\KULIAH\\SEMESTER 5\\RSBP\\Bacteri\\Detection-of-bacteria-in-water-using-Yolo-images\\Detect\\Detection-of-bacteria-in-water-using-Yolo-images\\temp\\images/train\\EMDS7-G022-261-0400.png\n",
      "Processed Image saved to: D:\\KULIAH\\SEMESTER 5\\RSBP\\Bacteri\\Detection-of-bacteria-in-water-using-Yolo-images\\Detect\\Detection-of-bacteria-in-water-using-Yolo-images\\temp\\images/train\\EMDS7-G018-051-0400.png\n",
      "Processed Image saved to: D:\\KULIAH\\SEMESTER 5\\RSBP\\Bacteri\\Detection-of-bacteria-in-water-using-Yolo-images\\Detect\\Detection-of-bacteria-in-water-using-Yolo-images\\temp\\images/train\\EMDS7-G012-008-0400.png\n",
      "Skipping image EMDS7-G022-258-0400.png due to no valid classes.\n",
      "Processed Image saved to: D:\\KULIAH\\SEMESTER 5\\RSBP\\Bacteri\\Detection-of-bacteria-in-water-using-Yolo-images\\Detect\\Detection-of-bacteria-in-water-using-Yolo-images\\temp\\images/train\\EMDS7-G010-001-0400.png\n",
      "Processed Image saved to: D:\\KULIAH\\SEMESTER 5\\RSBP\\Bacteri\\Detection-of-bacteria-in-water-using-Yolo-images\\Detect\\Detection-of-bacteria-in-water-using-Yolo-images\\temp\\images/train\\EMDS7-G031-030-0400.png\n",
      "Processed Image saved to: D:\\KULIAH\\SEMESTER 5\\RSBP\\Bacteri\\Detection-of-bacteria-in-water-using-Yolo-images\\Detect\\Detection-of-bacteria-in-water-using-Yolo-images\\temp\\images/train\\EMDS7-G023-055-0400.pngProcessed Image saved to: D:\\KULIAH\\SEMESTER 5\\RSBP\\Bacteri\\Detection-of-bacteria-in-water-using-Yolo-images\\Detect\\Detection-of-bacteria-in-water-using-Yolo-images\\temp\\images/train\\EMDS7-G004-047-0400.png\n",
      "\n",
      "Processed Image saved to: D:\\KULIAH\\SEMESTER 5\\RSBP\\Bacteri\\Detection-of-bacteria-in-water-using-Yolo-images\\Detect\\Detection-of-bacteria-in-water-using-Yolo-images\\temp\\images/train\\EMDS7-G022-191-0400.png\n",
      "Processed Image saved to: D:\\KULIAH\\SEMESTER 5\\RSBP\\Bacteri\\Detection-of-bacteria-in-water-using-Yolo-images\\Detect\\Detection-of-bacteria-in-water-using-Yolo-images\\temp\\images/train\\EMDS7-G003-025-0400.png\n",
      "Processed Image saved to: D:\\KULIAH\\SEMESTER 5\\RSBP\\Bacteri\\Detection-of-bacteria-in-water-using-Yolo-images\\Detect\\Detection-of-bacteria-in-water-using-Yolo-images\\temp\\images/train\\EMDS7-G033-010-0400.png\n",
      "Processed Image saved to: D:\\KULIAH\\SEMESTER 5\\RSBP\\Bacteri\\Detection-of-bacteria-in-water-using-Yolo-images\\Detect\\Detection-of-bacteria-in-water-using-Yolo-images\\temp\\images/train\\EMDS7-G038-062-0400.png\n",
      "Processed Image saved to: D:\\KULIAH\\SEMESTER 5\\RSBP\\Bacteri\\Detection-of-bacteria-in-water-using-Yolo-images\\Detect\\Detection-of-bacteria-in-water-using-Yolo-images\\temp\\images/train\\EMDS7-G003-002-0400.png\n",
      "Processed Image saved to: D:\\KULIAH\\SEMESTER 5\\RSBP\\Bacteri\\Detection-of-bacteria-in-water-using-Yolo-images\\Detect\\Detection-of-bacteria-in-water-using-Yolo-images\\temp\\images/train\\EMDS7-G027-015-0400.png\n",
      "Processed Image saved to: D:\\KULIAH\\SEMESTER 5\\RSBP\\Bacteri\\Detection-of-bacteria-in-water-using-Yolo-images\\Detect\\Detection-of-bacteria-in-water-using-Yolo-images\\temp\\images/train\\EMDS7-G030-036-0400.png\n",
      "Processed Image saved to: D:\\KULIAH\\SEMESTER 5\\RSBP\\Bacteri\\Detection-of-bacteria-in-water-using-Yolo-images\\Detect\\Detection-of-bacteria-in-water-using-Yolo-images\\temp\\images/train\\EMDS7-G003-195-0400.png\n",
      "Processed Image saved to: D:\\KULIAH\\SEMESTER 5\\RSBP\\Bacteri\\Detection-of-bacteria-in-water-using-Yolo-images\\Detect\\Detection-of-bacteria-in-water-using-Yolo-images\\temp\\images/train\\EMDS7-G022-060-0400.png\n",
      "Processed Image saved to: D:\\KULIAH\\SEMESTER 5\\RSBP\\Bacteri\\Detection-of-bacteria-in-water-using-Yolo-images\\Detect\\Detection-of-bacteria-in-water-using-Yolo-images\\temp\\images/train\\EMDS7-G009-013-0400.png\n",
      "Processed Image saved to: D:\\KULIAH\\SEMESTER 5\\RSBP\\Bacteri\\Detection-of-bacteria-in-water-using-Yolo-images\\Detect\\Detection-of-bacteria-in-water-using-Yolo-images\\temp\\images/train\\EMDS7-G022-152-0400.png\n",
      "Processed Image saved to: D:\\KULIAH\\SEMESTER 5\\RSBP\\Bacteri\\Detection-of-bacteria-in-water-using-Yolo-images\\Detect\\Detection-of-bacteria-in-water-using-Yolo-images\\temp\\images/train\\EMDS7-G015-009-0400.png\n",
      "Processed Image saved to: D:\\KULIAH\\SEMESTER 5\\RSBP\\Bacteri\\Detection-of-bacteria-in-water-using-Yolo-images\\Detect\\Detection-of-bacteria-in-water-using-Yolo-images\\temp\\images/train\\EMDS7-G039-045-0400.png\n",
      "Processed Image saved to: D:\\KULIAH\\SEMESTER 5\\RSBP\\Bacteri\\Detection-of-bacteria-in-water-using-Yolo-images\\Detect\\Detection-of-bacteria-in-water-using-Yolo-images\\temp\\images/train\\EMDS7-G015-003-0400.png\n",
      "Processed Image saved to: D:\\KULIAH\\SEMESTER 5\\RSBP\\Bacteri\\Detection-of-bacteria-in-water-using-Yolo-images\\Detect\\Detection-of-bacteria-in-water-using-Yolo-images\\temp\\images/train\\EMDS7-G037-013-0400.png\n",
      "Processed Image saved to: D:\\KULIAH\\SEMESTER 5\\RSBP\\Bacteri\\Detection-of-bacteria-in-water-using-Yolo-images\\Detect\\Detection-of-bacteria-in-water-using-Yolo-images\\temp\\images/train\\EMDS7-G022-164-0400.png\n",
      "Processed Image saved to: D:\\KULIAH\\SEMESTER 5\\RSBP\\Bacteri\\Detection-of-bacteria-in-water-using-Yolo-images\\Detect\\Detection-of-bacteria-in-water-using-Yolo-images\\temp\\images/train\\EMDS7-G004-024-0400.png\n",
      "Processed Image saved to: D:\\KULIAH\\SEMESTER 5\\RSBP\\Bacteri\\Detection-of-bacteria-in-water-using-Yolo-images\\Detect\\Detection-of-bacteria-in-water-using-Yolo-images\\temp\\images/train\\EMDS7-G022-163-0400.png\n",
      "Processed Image saved to: D:\\KULIAH\\SEMESTER 5\\RSBP\\Bacteri\\Detection-of-bacteria-in-water-using-Yolo-images\\Detect\\Detection-of-bacteria-in-water-using-Yolo-images\\temp\\images/train\\EMDS7-G018-075-0400.png\n",
      "Processed Image saved to: D:\\KULIAH\\SEMESTER 5\\RSBP\\Bacteri\\Detection-of-bacteria-in-water-using-Yolo-images\\Detect\\Detection-of-bacteria-in-water-using-Yolo-images\\temp\\images/train\\EMDS7-G012-090-0400.png\n",
      "Processed Image saved to: D:\\KULIAH\\SEMESTER 5\\RSBP\\Bacteri\\Detection-of-bacteria-in-water-using-Yolo-images\\Detect\\Detection-of-bacteria-in-water-using-Yolo-images\\temp\\images/train\\EMDS7-G036-029-0400.png\n",
      "Processed Image saved to: D:\\KULIAH\\SEMESTER 5\\RSBP\\Bacteri\\Detection-of-bacteria-in-water-using-Yolo-images\\Detect\\Detection-of-bacteria-in-water-using-Yolo-images\\temp\\images/train\\EMDS7-G018-066-0400.png\n",
      "Processed Image saved to: D:\\KULIAH\\SEMESTER 5\\RSBP\\Bacteri\\Detection-of-bacteria-in-water-using-Yolo-images\\Detect\\Detection-of-bacteria-in-water-using-Yolo-images\\temp\\images/train\\EMDS7-G017-003-0400.png\n",
      "Processed Image saved to: D:\\KULIAH\\SEMESTER 5\\RSBP\\Bacteri\\Detection-of-bacteria-in-water-using-Yolo-images\\Detect\\Detection-of-bacteria-in-water-using-Yolo-images\\temp\\images/train\\EMDS7-G020-017-0400.png\n",
      "Processed Image saved to: D:\\KULIAH\\SEMESTER 5\\RSBP\\Bacteri\\Detection-of-bacteria-in-water-using-Yolo-images\\Detect\\Detection-of-bacteria-in-water-using-Yolo-images\\temp\\images/train\\EMDS7-G031-025-0400.png\n",
      "Processed Image saved to: D:\\KULIAH\\SEMESTER 5\\RSBP\\Bacteri\\Detection-of-bacteria-in-water-using-Yolo-images\\Detect\\Detection-of-bacteria-in-water-using-Yolo-images\\temp\\images/train\\EMDS7-G028-059-0400.png\n",
      "Processed Image saved to: D:\\KULIAH\\SEMESTER 5\\RSBP\\Bacteri\\Detection-of-bacteria-in-water-using-Yolo-images\\Detect\\Detection-of-bacteria-in-water-using-Yolo-images\\temp\\images/train\\EMDS7-G015-005-0400.png\n",
      "Processed Image saved to: D:\\KULIAH\\SEMESTER 5\\RSBP\\Bacteri\\Detection-of-bacteria-in-water-using-Yolo-images\\Detect\\Detection-of-bacteria-in-water-using-Yolo-images\\temp\\images/train\\EMDS7-G012-050-0400.png\n",
      "Processed Image saved to: D:\\KULIAH\\SEMESTER 5\\RSBP\\Bacteri\\Detection-of-bacteria-in-water-using-Yolo-images\\Detect\\Detection-of-bacteria-in-water-using-Yolo-images\\temp\\images/train\\EMDS7-G025-050-0400.png\n",
      "Processed Image saved to: D:\\KULIAH\\SEMESTER 5\\RSBP\\Bacteri\\Detection-of-bacteria-in-water-using-Yolo-images\\Detect\\Detection-of-bacteria-in-water-using-Yolo-images\\temp\\images/train\\EMDS7-G014-015-0400.png\n",
      "Processed Image saved to: D:\\KULIAH\\SEMESTER 5\\RSBP\\Bacteri\\Detection-of-bacteria-in-water-using-Yolo-images\\Detect\\Detection-of-bacteria-in-water-using-Yolo-images\\temp\\images/train\\EMDS7-G004-084-0400.png\n",
      "Processed Image saved to: D:\\KULIAH\\SEMESTER 5\\RSBP\\Bacteri\\Detection-of-bacteria-in-water-using-Yolo-images\\Detect\\Detection-of-bacteria-in-water-using-Yolo-images\\temp\\images/train\\EMDS7-G007-001-0400.png\n",
      "Processed Image saved to: D:\\KULIAH\\SEMESTER 5\\RSBP\\Bacteri\\Detection-of-bacteria-in-water-using-Yolo-images\\Detect\\Detection-of-bacteria-in-water-using-Yolo-images\\temp\\images/train\\EMDS7-G003-144-0400.png\n",
      "Processed Image saved to: D:\\KULIAH\\SEMESTER 5\\RSBP\\Bacteri\\Detection-of-bacteria-in-water-using-Yolo-images\\Detect\\Detection-of-bacteria-in-water-using-Yolo-images\\temp\\images/train\\EMDS7-G012-019-0400.png\n",
      "Processed Image saved to: D:\\KULIAH\\SEMESTER 5\\RSBP\\Bacteri\\Detection-of-bacteria-in-water-using-Yolo-images\\Detect\\Detection-of-bacteria-in-water-using-Yolo-images\\temp\\images/train\\EMDS7-G040-004-0400.png\n",
      "Processed Image saved to: D:\\KULIAH\\SEMESTER 5\\RSBP\\Bacteri\\Detection-of-bacteria-in-water-using-Yolo-images\\Detect\\Detection-of-bacteria-in-water-using-Yolo-images\\temp\\images/train\\EMDS7-G003-143-0400.png\n",
      "Processed Image saved to: D:\\KULIAH\\SEMESTER 5\\RSBP\\Bacteri\\Detection-of-bacteria-in-water-using-Yolo-images\\Detect\\Detection-of-bacteria-in-water-using-Yolo-images\\temp\\images/train\\EMDS7-G039-089-0400.png\n",
      "Processed Image saved to: D:\\KULIAH\\SEMESTER 5\\RSBP\\Bacteri\\Detection-of-bacteria-in-water-using-Yolo-images\\Detect\\Detection-of-bacteria-in-water-using-Yolo-images\\temp\\images/train\\EMDS7-G012-026-0400.png\n",
      "Processed Image saved to: D:\\KULIAH\\SEMESTER 5\\RSBP\\Bacteri\\Detection-of-bacteria-in-water-using-Yolo-images\\Detect\\Detection-of-bacteria-in-water-using-Yolo-images\\temp\\images/train\\EMDS7-G026-001-0400.png\n",
      "Processed Image saved to: D:\\KULIAH\\SEMESTER 5\\RSBP\\Bacteri\\Detection-of-bacteria-in-water-using-Yolo-images\\Detect\\Detection-of-bacteria-in-water-using-Yolo-images\\temp\\images/train\\EMDS7-G025-015-0400.png\n",
      "Processed Image saved to: D:\\KULIAH\\SEMESTER 5\\RSBP\\Bacteri\\Detection-of-bacteria-in-water-using-Yolo-images\\Detect\\Detection-of-bacteria-in-water-using-Yolo-images\\temp\\images/train\\EMDS7-G009-055-0400.png\n",
      "Processed Image saved to: D:\\KULIAH\\SEMESTER 5\\RSBP\\Bacteri\\Detection-of-bacteria-in-water-using-Yolo-images\\Detect\\Detection-of-bacteria-in-water-using-Yolo-images\\temp\\images/train\\EMDS7-G008-015-0400.png\n",
      "Processed Image saved to: D:\\KULIAH\\SEMESTER 5\\RSBP\\Bacteri\\Detection-of-bacteria-in-water-using-Yolo-images\\Detect\\Detection-of-bacteria-in-water-using-Yolo-images\\temp\\images/train\\EMDS7-G003-245-0400.png\n",
      "Processed Image saved to: D:\\KULIAH\\SEMESTER 5\\RSBP\\Bacteri\\Detection-of-bacteria-in-water-using-Yolo-images\\Detect\\Detection-of-bacteria-in-water-using-Yolo-images\\temp\\images/train\\EMDS7-G030-037-0400.png\n",
      "Processed Image saved to: D:\\KULIAH\\SEMESTER 5\\RSBP\\Bacteri\\Detection-of-bacteria-in-water-using-Yolo-images\\Detect\\Detection-of-bacteria-in-water-using-Yolo-images\\temp\\images/train\\EMDS7-G001-012-0400.png\n",
      "Processed Image saved to: D:\\KULIAH\\SEMESTER 5\\RSBP\\Bacteri\\Detection-of-bacteria-in-water-using-Yolo-images\\Detect\\Detection-of-bacteria-in-water-using-Yolo-images\\temp\\images/train\\EMDS7-G003-110-0400.png\n",
      "Processed Image saved to: D:\\KULIAH\\SEMESTER 5\\RSBP\\Bacteri\\Detection-of-bacteria-in-water-using-Yolo-images\\Detect\\Detection-of-bacteria-in-water-using-Yolo-images\\temp\\images/train\\EMDS7-G003-021-0400.png\n",
      "Processed Image saved to: D:\\KULIAH\\SEMESTER 5\\RSBP\\Bacteri\\Detection-of-bacteria-in-water-using-Yolo-images\\Detect\\Detection-of-bacteria-in-water-using-Yolo-images\\temp\\images/train\\EMDS7-G039-023-0400.png\n",
      "Processed Image saved to: D:\\KULIAH\\SEMESTER 5\\RSBP\\Bacteri\\Detection-of-bacteria-in-water-using-Yolo-images\\Detect\\Detection-of-bacteria-in-water-using-Yolo-images\\temp\\images/train\\EMDS7-G028-074-0400.png\n",
      "Processed Image saved to: D:\\KULIAH\\SEMESTER 5\\RSBP\\Bacteri\\Detection-of-bacteria-in-water-using-Yolo-images\\Detect\\Detection-of-bacteria-in-water-using-Yolo-images\\temp\\images/train\\EMDS7-G012-022-0400.png\n",
      "Skipping image EMDS7-G022-192-0400.png due to no valid classes.\n",
      "Processed Image saved to: D:\\KULIAH\\SEMESTER 5\\RSBP\\Bacteri\\Detection-of-bacteria-in-water-using-Yolo-images\\Detect\\Detection-of-bacteria-in-water-using-Yolo-images\\temp\\images/train\\EMDS7-G025-069-0400.png\n",
      "Processed Image saved to: D:\\KULIAH\\SEMESTER 5\\RSBP\\Bacteri\\Detection-of-bacteria-in-water-using-Yolo-images\\Detect\\Detection-of-bacteria-in-water-using-Yolo-images\\temp\\images/train\\EMDS7-G022-161-0400.png\n",
      "Processed Image saved to: D:\\KULIAH\\SEMESTER 5\\RSBP\\Bacteri\\Detection-of-bacteria-in-water-using-Yolo-images\\Detect\\Detection-of-bacteria-in-water-using-Yolo-images\\temp\\images/train\\EMDS7-G023-025-0400.png\n",
      "Processed Image saved to: D:\\KULIAH\\SEMESTER 5\\RSBP\\Bacteri\\Detection-of-bacteria-in-water-using-Yolo-images\\Detect\\Detection-of-bacteria-in-water-using-Yolo-images\\temp\\images/train\\EMDS7-G027-014-0400.png\n",
      "Processed Image saved to: D:\\KULIAH\\SEMESTER 5\\RSBP\\Bacteri\\Detection-of-bacteria-in-water-using-Yolo-images\\Detect\\Detection-of-bacteria-in-water-using-Yolo-images\\temp\\images/train\\EMDS7-G001-011-0400.png\n",
      "Processed Image saved to: D:\\KULIAH\\SEMESTER 5\\RSBP\\Bacteri\\Detection-of-bacteria-in-water-using-Yolo-images\\Detect\\Detection-of-bacteria-in-water-using-Yolo-images\\temp\\images/train\\EMDS7-G004-033-0400.png\n",
      "Processed Image saved to: D:\\KULIAH\\SEMESTER 5\\RSBP\\Bacteri\\Detection-of-bacteria-in-water-using-Yolo-images\\Detect\\Detection-of-bacteria-in-water-using-Yolo-images\\temp\\images/train\\EMDS7-G012-100-0400.png\n",
      "Processed Image saved to: D:\\KULIAH\\SEMESTER 5\\RSBP\\Bacteri\\Detection-of-bacteria-in-water-using-Yolo-images\\Detect\\Detection-of-bacteria-in-water-using-Yolo-images\\temp\\images/train\\EMDS7-G017-025-0400.png\n",
      "Processed Image saved to: D:\\KULIAH\\SEMESTER 5\\RSBP\\Bacteri\\Detection-of-bacteria-in-water-using-Yolo-images\\Detect\\Detection-of-bacteria-in-water-using-Yolo-images\\temp\\images/train\\EMDS7-G023-038-0400.png\n",
      "Processed Image saved to: D:\\KULIAH\\SEMESTER 5\\RSBP\\Bacteri\\Detection-of-bacteria-in-water-using-Yolo-images\\Detect\\Detection-of-bacteria-in-water-using-Yolo-images\\temp\\images/train\\EMDS7-G036-034-0400.png\n",
      "Processed Image saved to: D:\\KULIAH\\SEMESTER 5\\RSBP\\Bacteri\\Detection-of-bacteria-in-water-using-Yolo-images\\Detect\\Detection-of-bacteria-in-water-using-Yolo-images\\temp\\images/train\\EMDS7-G003-207-0400.png\n",
      "Processed Image saved to: D:\\KULIAH\\SEMESTER 5\\RSBP\\Bacteri\\Detection-of-bacteria-in-water-using-Yolo-images\\Detect\\Detection-of-bacteria-in-water-using-Yolo-images\\temp\\images/train\\EMDS7-G036-061-0400.png\n",
      "Processed Image saved to: D:\\KULIAH\\SEMESTER 5\\RSBP\\Bacteri\\Detection-of-bacteria-in-water-using-Yolo-images\\Detect\\Detection-of-bacteria-in-water-using-Yolo-images\\temp\\images/train\\EMDS7-G002-004-0400.png\n",
      "Processed Image saved to: D:\\KULIAH\\SEMESTER 5\\RSBP\\Bacteri\\Detection-of-bacteria-in-water-using-Yolo-images\\Detect\\Detection-of-bacteria-in-water-using-Yolo-images\\temp\\images/train\\EMDS7-G038-056-0400.png\n",
      "Processed Image saved to: D:\\KULIAH\\SEMESTER 5\\RSBP\\Bacteri\\Detection-of-bacteria-in-water-using-Yolo-images\\Detect\\Detection-of-bacteria-in-water-using-Yolo-images\\temp\\images/train\\EMDS7-G019-033-0400.png\n",
      "Processed Image saved to: D:\\KULIAH\\SEMESTER 5\\RSBP\\Bacteri\\Detection-of-bacteria-in-water-using-Yolo-images\\Detect\\Detection-of-bacteria-in-water-using-Yolo-images\\temp\\images/train\\EMDS7-G025-008-0400.png\n",
      "Processed Image saved to: D:\\KULIAH\\SEMESTER 5\\RSBP\\Bacteri\\Detection-of-bacteria-in-water-using-Yolo-images\\Detect\\Detection-of-bacteria-in-water-using-Yolo-images\\temp\\images/train\\EMDS7-G012-081-0400.png\n",
      "Processed Image saved to: D:\\KULIAH\\SEMESTER 5\\RSBP\\Bacteri\\Detection-of-bacteria-in-water-using-Yolo-images\\Detect\\Detection-of-bacteria-in-water-using-Yolo-images\\temp\\images/train\\EMDS7-G039-032-0400.png\n",
      "Processed Image saved to: D:\\KULIAH\\SEMESTER 5\\RSBP\\Bacteri\\Detection-of-bacteria-in-water-using-Yolo-images\\Detect\\Detection-of-bacteria-in-water-using-Yolo-images\\temp\\images/train\\EMDS7-G025-074-0400.png\n",
      "Processed Image saved to: D:\\KULIAH\\SEMESTER 5\\RSBP\\Bacteri\\Detection-of-bacteria-in-water-using-Yolo-images\\Detect\\Detection-of-bacteria-in-water-using-Yolo-images\\temp\\images/train\\EMDS7-G036-019-0400.png\n",
      "Processed Image saved to: D:\\KULIAH\\SEMESTER 5\\RSBP\\Bacteri\\Detection-of-bacteria-in-water-using-Yolo-images\\Detect\\Detection-of-bacteria-in-water-using-Yolo-images\\temp\\images/train\\EMDS7-G016-016-0400.png\n",
      "Processed Image saved to: D:\\KULIAH\\SEMESTER 5\\RSBP\\Bacteri\\Detection-of-bacteria-in-water-using-Yolo-images\\Detect\\Detection-of-bacteria-in-water-using-Yolo-images\\temp\\images/train\\EMDS7-G004-065-0400.png\n",
      "Processed Image saved to: D:\\KULIAH\\SEMESTER 5\\RSBP\\Bacteri\\Detection-of-bacteria-in-water-using-Yolo-images\\Detect\\Detection-of-bacteria-in-water-using-Yolo-images\\temp\\images/train\\EMDS7-G033-024-0400.png\n",
      "Processed Image saved to: D:\\KULIAH\\SEMESTER 5\\RSBP\\Bacteri\\Detection-of-bacteria-in-water-using-Yolo-images\\Detect\\Detection-of-bacteria-in-water-using-Yolo-images\\temp\\images/train\\EMDS7-G035-017-0400.png\n",
      "Processed Image saved to: D:\\KULIAH\\SEMESTER 5\\RSBP\\Bacteri\\Detection-of-bacteria-in-water-using-Yolo-images\\Detect\\Detection-of-bacteria-in-water-using-Yolo-images\\temp\\images/train\\EMDS7-G036-062-0400.png\n",
      "Processed Image saved to: D:\\KULIAH\\SEMESTER 5\\RSBP\\Bacteri\\Detection-of-bacteria-in-water-using-Yolo-images\\Detect\\Detection-of-bacteria-in-water-using-Yolo-images\\temp\\images/train\\EMDS7-G011-040-0400.png\n",
      "Processed Image saved to: D:\\KULIAH\\SEMESTER 5\\RSBP\\Bacteri\\Detection-of-bacteria-in-water-using-Yolo-images\\Detect\\Detection-of-bacteria-in-water-using-Yolo-images\\temp\\images/train\\EMDS7-G012-069-0400.png\n",
      "Processed Image saved to: D:\\KULIAH\\SEMESTER 5\\RSBP\\Bacteri\\Detection-of-bacteria-in-water-using-Yolo-images\\Detect\\Detection-of-bacteria-in-water-using-Yolo-images\\temp\\images/train\\EMDS7-G039-016-0400.png\n",
      "Processed Image saved to: D:\\KULIAH\\SEMESTER 5\\RSBP\\Bacteri\\Detection-of-bacteria-in-water-using-Yolo-images\\Detect\\Detection-of-bacteria-in-water-using-Yolo-images\\temp\\images/train\\EMDS7-G011-050-0400.png\n",
      "Processed Image saved to: D:\\KULIAH\\SEMESTER 5\\RSBP\\Bacteri\\Detection-of-bacteria-in-water-using-Yolo-images\\Detect\\Detection-of-bacteria-in-water-using-Yolo-images\\temp\\images/train\\EMDS7-G003-239-0400.png\n",
      "Processed Image saved to: D:\\KULIAH\\SEMESTER 5\\RSBP\\Bacteri\\Detection-of-bacteria-in-water-using-Yolo-images\\Detect\\Detection-of-bacteria-in-water-using-Yolo-images\\temp\\images/train\\EMDS7-G038-037-0400.png\n",
      "Processed Image saved to: D:\\KULIAH\\SEMESTER 5\\RSBP\\Bacteri\\Detection-of-bacteria-in-water-using-Yolo-images\\Detect\\Detection-of-bacteria-in-water-using-Yolo-images\\temp\\images/train\\EMDS7-G038-041-0400.png\n",
      "Processed Image saved to: D:\\KULIAH\\SEMESTER 5\\RSBP\\Bacteri\\Detection-of-bacteria-in-water-using-Yolo-images\\Detect\\Detection-of-bacteria-in-water-using-Yolo-images\\temp\\images/train\\EMDS7-G014-072-0400.png\n",
      "Processed Image saved to: D:\\KULIAH\\SEMESTER 5\\RSBP\\Bacteri\\Detection-of-bacteria-in-water-using-Yolo-images\\Detect\\Detection-of-bacteria-in-water-using-Yolo-images\\temp\\images/train\\EMDS7-G003-074-0400.png\n",
      "Processed Image saved to: D:\\KULIAH\\SEMESTER 5\\RSBP\\Bacteri\\Detection-of-bacteria-in-water-using-Yolo-images\\Detect\\Detection-of-bacteria-in-water-using-Yolo-images\\temp\\images/train\\EMDS7-G038-051-0400.png\n",
      "Processed Image saved to: D:\\KULIAH\\SEMESTER 5\\RSBP\\Bacteri\\Detection-of-bacteria-in-water-using-Yolo-images\\Detect\\Detection-of-bacteria-in-water-using-Yolo-images\\temp\\images/train\\EMDS7-G028-003-0400.png\n",
      "Processed Image saved to: D:\\KULIAH\\SEMESTER 5\\RSBP\\Bacteri\\Detection-of-bacteria-in-water-using-Yolo-images\\Detect\\Detection-of-bacteria-in-water-using-Yolo-images\\temp\\images/train\\EMDS7-G028-020-0400.png\n",
      "Processed Image saved to: D:\\KULIAH\\SEMESTER 5\\RSBP\\Bacteri\\Detection-of-bacteria-in-water-using-Yolo-images\\Detect\\Detection-of-bacteria-in-water-using-Yolo-images\\temp\\images/train\\EMDS7-G025-061-0400.png\n",
      "Processed Image saved to: D:\\KULIAH\\SEMESTER 5\\RSBP\\Bacteri\\Detection-of-bacteria-in-water-using-Yolo-images\\Detect\\Detection-of-bacteria-in-water-using-Yolo-images\\temp\\images/train\\EMDS7-G022-028-0400.png\n",
      "Processed Image saved to: D:\\KULIAH\\SEMESTER 5\\RSBP\\Bacteri\\Detection-of-bacteria-in-water-using-Yolo-images\\Detect\\Detection-of-bacteria-in-water-using-Yolo-images\\temp\\images/train\\EMDS7-G022-211-0400.png\n",
      "Processed Image saved to: D:\\KULIAH\\SEMESTER 5\\RSBP\\Bacteri\\Detection-of-bacteria-in-water-using-Yolo-images\\Detect\\Detection-of-bacteria-in-water-using-Yolo-images\\temp\\images/train\\EMDS7-G018-013-0400.png\n",
      "Processed Image saved to: D:\\KULIAH\\SEMESTER 5\\RSBP\\Bacteri\\Detection-of-bacteria-in-water-using-Yolo-images\\Detect\\Detection-of-bacteria-in-water-using-Yolo-images\\temp\\images/train\\EMDS7-G017-050-0400.png\n",
      "Processed Image saved to: D:\\KULIAH\\SEMESTER 5\\RSBP\\Bacteri\\Detection-of-bacteria-in-water-using-Yolo-images\\Detect\\Detection-of-bacteria-in-water-using-Yolo-images\\temp\\images/train\\EMDS7-G025-018-0400.png\n",
      "Processed Image saved to: D:\\KULIAH\\SEMESTER 5\\RSBP\\Bacteri\\Detection-of-bacteria-in-water-using-Yolo-images\\Detect\\Detection-of-bacteria-in-water-using-Yolo-images\\temp\\images/train\\EMDS7-G035-047-0400.png\n",
      "Processed Image saved to: D:\\KULIAH\\SEMESTER 5\\RSBP\\Bacteri\\Detection-of-bacteria-in-water-using-Yolo-images\\Detect\\Detection-of-bacteria-in-water-using-Yolo-images\\temp\\images/train\\EMDS7-G014-093-0400.png\n",
      "Processed Image saved to: D:\\KULIAH\\SEMESTER 5\\RSBP\\Bacteri\\Detection-of-bacteria-in-water-using-Yolo-images\\Detect\\Detection-of-bacteria-in-water-using-Yolo-images\\temp\\images/train\\EMDS7-G024-004-0400.png\n",
      "Processed Image saved to: D:\\KULIAH\\SEMESTER 5\\RSBP\\Bacteri\\Detection-of-bacteria-in-water-using-Yolo-images\\Detect\\Detection-of-bacteria-in-water-using-Yolo-images\\temp\\images/train\\EMDS7-G008-044-0400.png\n",
      "Processed Image saved to: D:\\KULIAH\\SEMESTER 5\\RSBP\\Bacteri\\Detection-of-bacteria-in-water-using-Yolo-images\\Detect\\Detection-of-bacteria-in-water-using-Yolo-images\\temp\\images/train\\EMDS7-G034-008-0400.png\n",
      "Processed Image saved to: D:\\KULIAH\\SEMESTER 5\\RSBP\\Bacteri\\Detection-of-bacteria-in-water-using-Yolo-images\\Detect\\Detection-of-bacteria-in-water-using-Yolo-images\\temp\\images/train\\EMDS7-G018-033-0400.png\n",
      "Processed Image saved to: D:\\KULIAH\\SEMESTER 5\\RSBP\\Bacteri\\Detection-of-bacteria-in-water-using-Yolo-images\\Detect\\Detection-of-bacteria-in-water-using-Yolo-images\\temp\\images/train\\EMDS7-G032-051-0400.png\n",
      "Processed Image saved to: D:\\KULIAH\\SEMESTER 5\\RSBP\\Bacteri\\Detection-of-bacteria-in-water-using-Yolo-images\\Detect\\Detection-of-bacteria-in-water-using-Yolo-images\\temp\\images/train\\EMDS7-G022-044-0400.png\n",
      "Processed Image saved to: D:\\KULIAH\\SEMESTER 5\\RSBP\\Bacteri\\Detection-of-bacteria-in-water-using-Yolo-images\\Detect\\Detection-of-bacteria-in-water-using-Yolo-images\\temp\\images/train\\EMDS7-G038-015-0400.png\n",
      "Processed Image saved to: D:\\KULIAH\\SEMESTER 5\\RSBP\\Bacteri\\Detection-of-bacteria-in-water-using-Yolo-images\\Detect\\Detection-of-bacteria-in-water-using-Yolo-images\\temp\\images/train\\EMDS7-G017-047-0400.png\n",
      "Processed Image saved to: D:\\KULIAH\\SEMESTER 5\\RSBP\\Bacteri\\Detection-of-bacteria-in-water-using-Yolo-images\\Detect\\Detection-of-bacteria-in-water-using-Yolo-images\\temp\\images/train\\EMDS7-G038-045-0400.png\n",
      "Processed Image saved to: D:\\KULIAH\\SEMESTER 5\\RSBP\\Bacteri\\Detection-of-bacteria-in-water-using-Yolo-images\\Detect\\Detection-of-bacteria-in-water-using-Yolo-images\\temp\\images/train\\EMDS7-G031-023-0400.png\n",
      "Processed Image saved to: D:\\KULIAH\\SEMESTER 5\\RSBP\\Bacteri\\Detection-of-bacteria-in-water-using-Yolo-images\\Detect\\Detection-of-bacteria-in-water-using-Yolo-images\\temp\\images/train\\EMDS7-G025-032-0400.png\n",
      "Processed Image saved to: D:\\KULIAH\\SEMESTER 5\\RSBP\\Bacteri\\Detection-of-bacteria-in-water-using-Yolo-images\\Detect\\Detection-of-bacteria-in-water-using-Yolo-images\\temp\\images/train\\EMDS7-G022-112-0400.png\n",
      "Processed Image saved to: D:\\KULIAH\\SEMESTER 5\\RSBP\\Bacteri\\Detection-of-bacteria-in-water-using-Yolo-images\\Detect\\Detection-of-bacteria-in-water-using-Yolo-images\\temp\\images/train\\EMDS7-G027-009-0400.png\n",
      "Processed Image saved to: D:\\KULIAH\\SEMESTER 5\\RSBP\\Bacteri\\Detection-of-bacteria-in-water-using-Yolo-images\\Detect\\Detection-of-bacteria-in-water-using-Yolo-images\\temp\\images/train\\EMDS7-G020-012-0400.png\n",
      "Processed Image saved to: D:\\KULIAH\\SEMESTER 5\\RSBP\\Bacteri\\Detection-of-bacteria-in-water-using-Yolo-images\\Detect\\Detection-of-bacteria-in-water-using-Yolo-images\\temp\\images/train\\EMDS7-G019-017-0400.png\n",
      "Processed Image saved to: D:\\KULIAH\\SEMESTER 5\\RSBP\\Bacteri\\Detection-of-bacteria-in-water-using-Yolo-images\\Detect\\Detection-of-bacteria-in-water-using-Yolo-images\\temp\\images/train\\EMDS7-G036-006-0400.png\n",
      "Processed Image saved to: D:\\KULIAH\\SEMESTER 5\\RSBP\\Bacteri\\Detection-of-bacteria-in-water-using-Yolo-images\\Detect\\Detection-of-bacteria-in-water-using-Yolo-images\\temp\\images/train\\EMDS7-G022-183-0400.png\n",
      "Processed Image saved to: D:\\KULIAH\\SEMESTER 5\\RSBP\\Bacteri\\Detection-of-bacteria-in-water-using-Yolo-images\\Detect\\Detection-of-bacteria-in-water-using-Yolo-images\\temp\\images/train\\EMDS7-G003-304-0400.png\n",
      "Processed Image saved to: D:\\KULIAH\\SEMESTER 5\\RSBP\\Bacteri\\Detection-of-bacteria-in-water-using-Yolo-images\\Detect\\Detection-of-bacteria-in-water-using-Yolo-images\\temp\\images/train\\EMDS7-G004-066-0400.png\n",
      "Processed Image saved to: D:\\KULIAH\\SEMESTER 5\\RSBP\\Bacteri\\Detection-of-bacteria-in-water-using-Yolo-images\\Detect\\Detection-of-bacteria-in-water-using-Yolo-images\\temp\\images/train\\EMDS7-G028-033-0400.png\n",
      "Processed Image saved to: D:\\KULIAH\\SEMESTER 5\\RSBP\\Bacteri\\Detection-of-bacteria-in-water-using-Yolo-images\\Detect\\Detection-of-bacteria-in-water-using-Yolo-images\\temp\\images/train\\EMDS7-G004-083-0400.png\n",
      "Processed Image saved to: D:\\KULIAH\\SEMESTER 5\\RSBP\\Bacteri\\Detection-of-bacteria-in-water-using-Yolo-images\\Detect\\Detection-of-bacteria-in-water-using-Yolo-images\\temp\\images/train\\EMDS7-G018-019-0400.png\n",
      "Processed Image saved to: D:\\KULIAH\\SEMESTER 5\\RSBP\\Bacteri\\Detection-of-bacteria-in-water-using-Yolo-images\\Detect\\Detection-of-bacteria-in-water-using-Yolo-images\\temp\\images/train\\EMDS7-G024-001-0400.png\n",
      "Processed Image saved to: D:\\KULIAH\\SEMESTER 5\\RSBP\\Bacteri\\Detection-of-bacteria-in-water-using-Yolo-images\\Detect\\Detection-of-bacteria-in-water-using-Yolo-images\\temp\\images/train\\EMDS7-G003-108-0400.png\n",
      "Processed Image saved to: D:\\KULIAH\\SEMESTER 5\\RSBP\\Bacteri\\Detection-of-bacteria-in-water-using-Yolo-images\\Detect\\Detection-of-bacteria-in-water-using-Yolo-images\\temp\\images/train\\EMDS7-G003-264-0400.png\n",
      "Processed Image saved to: D:\\KULIAH\\SEMESTER 5\\RSBP\\Bacteri\\Detection-of-bacteria-in-water-using-Yolo-images\\Detect\\Detection-of-bacteria-in-water-using-Yolo-images\\temp\\images/train\\EMDS7-G015-017-0400.png\n",
      "Processed Image saved to: D:\\KULIAH\\SEMESTER 5\\RSBP\\Bacteri\\Detection-of-bacteria-in-water-using-Yolo-images\\Detect\\Detection-of-bacteria-in-water-using-Yolo-images\\temp\\images/train\\EMDS7-G020-002-0400.png\n",
      "Processed Image saved to: D:\\KULIAH\\SEMESTER 5\\RSBP\\Bacteri\\Detection-of-bacteria-in-water-using-Yolo-images\\Detect\\Detection-of-bacteria-in-water-using-Yolo-images\\temp\\images/train\\EMDS7-G012-004-0400.png\n",
      "Processed Image saved to: D:\\KULIAH\\SEMESTER 5\\RSBP\\Bacteri\\Detection-of-bacteria-in-water-using-Yolo-images\\Detect\\Detection-of-bacteria-in-water-using-Yolo-images\\temp\\images/train\\EMDS7-G019-057-0400.png\n",
      "Processed Image saved to: D:\\KULIAH\\SEMESTER 5\\RSBP\\Bacteri\\Detection-of-bacteria-in-water-using-Yolo-images\\Detect\\Detection-of-bacteria-in-water-using-Yolo-images\\temp\\images/train\\EMDS7-G009-072-0400.png\n",
      "Processed Image saved to: D:\\KULIAH\\SEMESTER 5\\RSBP\\Bacteri\\Detection-of-bacteria-in-water-using-Yolo-images\\Detect\\Detection-of-bacteria-in-water-using-Yolo-images\\temp\\images/train\\EMDS7-G011-038-0400.png\n",
      "Processed Image saved to: D:\\KULIAH\\SEMESTER 5\\RSBP\\Bacteri\\Detection-of-bacteria-in-water-using-Yolo-images\\Detect\\Detection-of-bacteria-in-water-using-Yolo-images\\temp\\images/train\\EMDS7-G012-083-0400.png\n",
      "Processed Image saved to: D:\\KULIAH\\SEMESTER 5\\RSBP\\Bacteri\\Detection-of-bacteria-in-water-using-Yolo-images\\Detect\\Detection-of-bacteria-in-water-using-Yolo-images\\temp\\images/train\\EMDS7-G035-011-0400.png\n",
      "Processed Image saved to: D:\\KULIAH\\SEMESTER 5\\RSBP\\Bacteri\\Detection-of-bacteria-in-water-using-Yolo-images\\Detect\\Detection-of-bacteria-in-water-using-Yolo-images\\temp\\images/train\\EMDS7-G015-014-0400.png\n",
      "Processed Image saved to: D:\\KULIAH\\SEMESTER 5\\RSBP\\Bacteri\\Detection-of-bacteria-in-water-using-Yolo-images\\Detect\\Detection-of-bacteria-in-water-using-Yolo-images\\temp\\images/train\\EMDS7-G018-018-0400.png\n",
      "Processed Image saved to: D:\\KULIAH\\SEMESTER 5\\RSBP\\Bacteri\\Detection-of-bacteria-in-water-using-Yolo-images\\Detect\\Detection-of-bacteria-in-water-using-Yolo-images\\temp\\images/train\\EMDS7-G022-215-0400.png\n",
      "Processed Image saved to: D:\\KULIAH\\SEMESTER 5\\RSBP\\Bacteri\\Detection-of-bacteria-in-water-using-Yolo-images\\Detect\\Detection-of-bacteria-in-water-using-Yolo-images\\temp\\images/train\\EMDS7-G007-006-0400.png\n",
      "Processed Image saved to: D:\\KULIAH\\SEMESTER 5\\RSBP\\Bacteri\\Detection-of-bacteria-in-water-using-Yolo-images\\Detect\\Detection-of-bacteria-in-water-using-Yolo-images\\temp\\images/train\\EMDS7-G035-014-0400.png\n",
      "Processed Image saved to: D:\\KULIAH\\SEMESTER 5\\RSBP\\Bacteri\\Detection-of-bacteria-in-water-using-Yolo-images\\Detect\\Detection-of-bacteria-in-water-using-Yolo-images\\temp\\images/train\\EMDS7-G022-045-0400.png\n",
      "Processed Image saved to: D:\\KULIAH\\SEMESTER 5\\RSBP\\Bacteri\\Detection-of-bacteria-in-water-using-Yolo-images\\Detect\\Detection-of-bacteria-in-water-using-Yolo-images\\temp\\images/train\\EMDS7-G018-012-0400.png\n",
      "Processed Image saved to: D:\\KULIAH\\SEMESTER 5\\RSBP\\Bacteri\\Detection-of-bacteria-in-water-using-Yolo-images\\Detect\\Detection-of-bacteria-in-water-using-Yolo-images\\temp\\images/train\\EMDS7-G036-043-0400.png\n",
      "Processed Image saved to: D:\\KULIAH\\SEMESTER 5\\RSBP\\Bacteri\\Detection-of-bacteria-in-water-using-Yolo-images\\Detect\\Detection-of-bacteria-in-water-using-Yolo-images\\temp\\images/train\\EMDS7-G024-007-0400.png\n",
      "Processed Image saved to: D:\\KULIAH\\SEMESTER 5\\RSBP\\Bacteri\\Detection-of-bacteria-in-water-using-Yolo-images\\Detect\\Detection-of-bacteria-in-water-using-Yolo-images\\temp\\images/train\\EMDS7-G004-036-0400.png\n",
      "Processed Image saved to: D:\\KULIAH\\SEMESTER 5\\RSBP\\Bacteri\\Detection-of-bacteria-in-water-using-Yolo-images\\Detect\\Detection-of-bacteria-in-water-using-Yolo-images\\temp\\images/train\\EMDS7-G029-002-0400.png\n",
      "Processed Image saved to: D:\\KULIAH\\SEMESTER 5\\RSBP\\Bacteri\\Detection-of-bacteria-in-water-using-Yolo-images\\Detect\\Detection-of-bacteria-in-water-using-Yolo-images\\temp\\images/train\\EMDS7-G031-010-0400.png\n",
      "Processed Image saved to: D:\\KULIAH\\SEMESTER 5\\RSBP\\Bacteri\\Detection-of-bacteria-in-water-using-Yolo-images\\Detect\\Detection-of-bacteria-in-water-using-Yolo-images\\temp\\images/train\\EMDS7-G022-070-0400.png\n",
      "Processed Image saved to: D:\\KULIAH\\SEMESTER 5\\RSBP\\Bacteri\\Detection-of-bacteria-in-water-using-Yolo-images\\Detect\\Detection-of-bacteria-in-water-using-Yolo-images\\temp\\images/train\\EMDS7-G018-009-0400.png\n",
      "Processed Image saved to: D:\\KULIAH\\SEMESTER 5\\RSBP\\Bacteri\\Detection-of-bacteria-in-water-using-Yolo-images\\Detect\\Detection-of-bacteria-in-water-using-Yolo-images\\temp\\images/train\\EMDS7-G036-074-0400.png\n",
      "Processed Image saved to: D:\\KULIAH\\SEMESTER 5\\RSBP\\Bacteri\\Detection-of-bacteria-in-water-using-Yolo-images\\Detect\\Detection-of-bacteria-in-water-using-Yolo-images\\temp\\images/train\\EMDS7-G005-043-0400.png\n",
      "Processed Image saved to: D:\\KULIAH\\SEMESTER 5\\RSBP\\Bacteri\\Detection-of-bacteria-in-water-using-Yolo-images\\Detect\\Detection-of-bacteria-in-water-using-Yolo-images\\temp\\images/train\\EMDS7-G015-006-0400.png\n",
      "Processed Image saved to: D:\\KULIAH\\SEMESTER 5\\RSBP\\Bacteri\\Detection-of-bacteria-in-water-using-Yolo-images\\Detect\\Detection-of-bacteria-in-water-using-Yolo-images\\temp\\images/train\\EMDS7-G017-046-0400.png\n",
      "Processed Image saved to: D:\\KULIAH\\SEMESTER 5\\RSBP\\Bacteri\\Detection-of-bacteria-in-water-using-Yolo-images\\Detect\\Detection-of-bacteria-in-water-using-Yolo-images\\temp\\images/train\\EMDS7-G022-015-0400.png\n",
      "Processed Image saved to: D:\\KULIAH\\SEMESTER 5\\RSBP\\Bacteri\\Detection-of-bacteria-in-water-using-Yolo-images\\Detect\\Detection-of-bacteria-in-water-using-Yolo-images\\temp\\images/train\\EMDS7-G007-007-0400.png\n",
      "Processed Image saved to: D:\\KULIAH\\SEMESTER 5\\RSBP\\Bacteri\\Detection-of-bacteria-in-water-using-Yolo-images\\Detect\\Detection-of-bacteria-in-water-using-Yolo-images\\temp\\images/train\\EMDS7-G017-007-0400.png\n",
      "Processed Image saved to: D:\\KULIAH\\SEMESTER 5\\RSBP\\Bacteri\\Detection-of-bacteria-in-water-using-Yolo-images\\Detect\\Detection-of-bacteria-in-water-using-Yolo-images\\temp\\images/train\\EMDS7-G014-068-0400.png\n",
      "Processed Image saved to: D:\\KULIAH\\SEMESTER 5\\RSBP\\Bacteri\\Detection-of-bacteria-in-water-using-Yolo-images\\Detect\\Detection-of-bacteria-in-water-using-Yolo-images\\temp\\images/train\\EMDS7-G006-003-0400.png\n",
      "Processed Image saved to: D:\\KULIAH\\SEMESTER 5\\RSBP\\Bacteri\\Detection-of-bacteria-in-water-using-Yolo-images\\Detect\\Detection-of-bacteria-in-water-using-Yolo-images\\temp\\images/train\\EMDS7-G039-025-0400.png\n",
      "Processed Image saved to: D:\\KULIAH\\SEMESTER 5\\RSBP\\Bacteri\\Detection-of-bacteria-in-water-using-Yolo-images\\Detect\\Detection-of-bacteria-in-water-using-Yolo-images\\temp\\images/train\\EMDS7-G020-018-0400.png\n",
      "Processed Image saved to: D:\\KULIAH\\SEMESTER 5\\RSBP\\Bacteri\\Detection-of-bacteria-in-water-using-Yolo-images\\Detect\\Detection-of-bacteria-in-water-using-Yolo-images\\temp\\images/train\\EMDS7-G003-148-0400.png\n",
      "Processed Image saved to: D:\\KULIAH\\SEMESTER 5\\RSBP\\Bacteri\\Detection-of-bacteria-in-water-using-Yolo-images\\Detect\\Detection-of-bacteria-in-water-using-Yolo-images\\temp\\images/train\\EMDS7-G022-042-0400.png\n",
      "Processed Image saved to: D:\\KULIAH\\SEMESTER 5\\RSBP\\Bacteri\\Detection-of-bacteria-in-water-using-Yolo-images\\Detect\\Detection-of-bacteria-in-water-using-Yolo-images\\temp\\images/train\\EMDS7-G003-185-0400.png\n",
      "Processed Image saved to: D:\\KULIAH\\SEMESTER 5\\RSBP\\Bacteri\\Detection-of-bacteria-in-water-using-Yolo-images\\Detect\\Detection-of-bacteria-in-water-using-Yolo-images\\temp\\images/train\\EMDS7-G001-036-0400.png\n",
      "Processed Image saved to: D:\\KULIAH\\SEMESTER 5\\RSBP\\Bacteri\\Detection-of-bacteria-in-water-using-Yolo-images\\Detect\\Detection-of-bacteria-in-water-using-Yolo-images\\temp\\images/train\\EMDS7-G023-039-0400.png\n",
      "Processed Image saved to: D:\\KULIAH\\SEMESTER 5\\RSBP\\Bacteri\\Detection-of-bacteria-in-water-using-Yolo-images\\Detect\\Detection-of-bacteria-in-water-using-Yolo-images\\temp\\images/train\\EMDS7-G018-083-0400.png\n",
      "Processed Image saved to: D:\\KULIAH\\SEMESTER 5\\RSBP\\Bacteri\\Detection-of-bacteria-in-water-using-Yolo-images\\Detect\\Detection-of-bacteria-in-water-using-Yolo-images\\temp\\images/train\\EMDS7-G003-199-0400.png\n",
      "Processed Image saved to: D:\\KULIAH\\SEMESTER 5\\RSBP\\Bacteri\\Detection-of-bacteria-in-water-using-Yolo-images\\Detect\\Detection-of-bacteria-in-water-using-Yolo-images\\temp\\images/train\\EMDS7-G011-025-0400.png\n",
      "Processed Image saved to: D:\\KULIAH\\SEMESTER 5\\RSBP\\Bacteri\\Detection-of-bacteria-in-water-using-Yolo-images\\Detect\\Detection-of-bacteria-in-water-using-Yolo-images\\temp\\images/train\\EMDS7-G003-031-0400.png\n",
      "Processed Image saved to: D:\\KULIAH\\SEMESTER 5\\RSBP\\Bacteri\\Detection-of-bacteria-in-water-using-Yolo-images\\Detect\\Detection-of-bacteria-in-water-using-Yolo-images\\temp\\images/train\\EMDS7-G006-004-0400.png\n",
      "Processed Image saved to: D:\\KULIAH\\SEMESTER 5\\RSBP\\Bacteri\\Detection-of-bacteria-in-water-using-Yolo-images\\Detect\\Detection-of-bacteria-in-water-using-Yolo-images\\temp\\images/train\\EMDS7-G014-005-0400.png\n",
      "Processed Image saved to: D:\\KULIAH\\SEMESTER 5\\RSBP\\Bacteri\\Detection-of-bacteria-in-water-using-Yolo-images\\Detect\\Detection-of-bacteria-in-water-using-Yolo-images\\temp\\images/train\\EMDS7-G036-057-0400.png\n",
      "Processed Image saved to: D:\\KULIAH\\SEMESTER 5\\RSBP\\Bacteri\\Detection-of-bacteria-in-water-using-Yolo-images\\Detect\\Detection-of-bacteria-in-water-using-Yolo-images\\temp\\images/train\\EMDS7-G003-214-0400.png\n",
      "Processed Image saved to: D:\\KULIAH\\SEMESTER 5\\RSBP\\Bacteri\\Detection-of-bacteria-in-water-using-Yolo-images\\Detect\\Detection-of-bacteria-in-water-using-Yolo-images\\temp\\images/train\\EMDS7-G003-141-0400.png\n",
      "Processed Image saved to: D:\\KULIAH\\SEMESTER 5\\RSBP\\Bacteri\\Detection-of-bacteria-in-water-using-Yolo-images\\Detect\\Detection-of-bacteria-in-water-using-Yolo-images\\temp\\images/train\\EMDS7-G003-225-0400.png\n",
      "Processed Image saved to: D:\\KULIAH\\SEMESTER 5\\RSBP\\Bacteri\\Detection-of-bacteria-in-water-using-Yolo-images\\Detect\\Detection-of-bacteria-in-water-using-Yolo-images\\temp\\images/train\\EMDS7-G022-003-0400.png\n",
      "Processed Image saved to: D:\\KULIAH\\SEMESTER 5\\RSBP\\Bacteri\\Detection-of-bacteria-in-water-using-Yolo-images\\Detect\\Detection-of-bacteria-in-water-using-Yolo-images\\temp\\images/train\\EMDS7-G004-037-0400.png\n",
      "Processed Image saved to: D:\\KULIAH\\SEMESTER 5\\RSBP\\Bacteri\\Detection-of-bacteria-in-water-using-Yolo-images\\Detect\\Detection-of-bacteria-in-water-using-Yolo-images\\temp\\images/train\\EMDS7-G004-005-0400.png\n",
      "Processed Image saved to: D:\\KULIAH\\SEMESTER 5\\RSBP\\Bacteri\\Detection-of-bacteria-in-water-using-Yolo-images\\Detect\\Detection-of-bacteria-in-water-using-Yolo-images\\temp\\images/train\\EMDS7-G020-004-0400.png\n",
      "Processed Image saved to: D:\\KULIAH\\SEMESTER 5\\RSBP\\Bacteri\\Detection-of-bacteria-in-water-using-Yolo-images\\Detect\\Detection-of-bacteria-in-water-using-Yolo-images\\temp\\images/train\\EMDS7-G035-028-0400.png\n",
      "Processed Image saved to: D:\\KULIAH\\SEMESTER 5\\RSBP\\Bacteri\\Detection-of-bacteria-in-water-using-Yolo-images\\Detect\\Detection-of-bacteria-in-water-using-Yolo-images\\temp\\images/train\\EMDS7-G028-040-0400.png\n",
      "Processed Image saved to: D:\\KULIAH\\SEMESTER 5\\RSBP\\Bacteri\\Detection-of-bacteria-in-water-using-Yolo-images\\Detect\\Detection-of-bacteria-in-water-using-Yolo-images\\temp\\images/train\\EMDS7-G027-001-0400.png\n",
      "Processed Image saved to: D:\\KULIAH\\SEMESTER 5\\RSBP\\Bacteri\\Detection-of-bacteria-in-water-using-Yolo-images\\Detect\\Detection-of-bacteria-in-water-using-Yolo-images\\temp\\images/train\\EMDS7-G036-071-0400.png\n",
      "Processed Image saved to: D:\\KULIAH\\SEMESTER 5\\RSBP\\Bacteri\\Detection-of-bacteria-in-water-using-Yolo-images\\Detect\\Detection-of-bacteria-in-water-using-Yolo-images\\temp\\images/train\\EMDS7-G022-034-0400.pngProcessed Image saved to: D:\\KULIAH\\SEMESTER 5\\RSBP\\Bacteri\\Detection-of-bacteria-in-water-using-Yolo-images\\Detect\\Detection-of-bacteria-in-water-using-Yolo-images\\temp\\images/train\\EMDS7-G003-125-0400.png\n",
      "\n",
      "Processed Image saved to: D:\\KULIAH\\SEMESTER 5\\RSBP\\Bacteri\\Detection-of-bacteria-in-water-using-Yolo-images\\Detect\\Detection-of-bacteria-in-water-using-Yolo-images\\temp\\images/train\\EMDS7-G019-043-0400.png\n",
      "Processed Image saved to: D:\\KULIAH\\SEMESTER 5\\RSBP\\Bacteri\\Detection-of-bacteria-in-water-using-Yolo-images\\Detect\\Detection-of-bacteria-in-water-using-Yolo-images\\temp\\images/train\\EMDS7-G030-047-0400.png\n",
      "Processed Image saved to: D:\\KULIAH\\SEMESTER 5\\RSBP\\Bacteri\\Detection-of-bacteria-in-water-using-Yolo-images\\Detect\\Detection-of-bacteria-in-water-using-Yolo-images\\temp\\images/train\\EMDS7-G005-051-0400.png\n",
      "Processed Image saved to: D:\\KULIAH\\SEMESTER 5\\RSBP\\Bacteri\\Detection-of-bacteria-in-water-using-Yolo-images\\Detect\\Detection-of-bacteria-in-water-using-Yolo-images\\temp\\images/train\\EMDS7-G003-152-0400.png\n",
      "Processed Image saved to: D:\\KULIAH\\SEMESTER 5\\RSBP\\Bacteri\\Detection-of-bacteria-in-water-using-Yolo-images\\Detect\\Detection-of-bacteria-in-water-using-Yolo-images\\temp\\images/train\\EMDS7-G009-071-0400.png\n",
      "Processed Image saved to: D:\\KULIAH\\SEMESTER 5\\RSBP\\Bacteri\\Detection-of-bacteria-in-water-using-Yolo-images\\Detect\\Detection-of-bacteria-in-water-using-Yolo-images\\temp\\images/train\\EMDS7-G032-047-0400.png\n",
      "Processed Image saved to: D:\\KULIAH\\SEMESTER 5\\RSBP\\Bacteri\\Detection-of-bacteria-in-water-using-Yolo-images\\Detect\\Detection-of-bacteria-in-water-using-Yolo-images\\temp\\images/train\\EMDS7-G008-021-0400.png\n",
      "Processed Image saved to: D:\\KULIAH\\SEMESTER 5\\RSBP\\Bacteri\\Detection-of-bacteria-in-water-using-Yolo-images\\Detect\\Detection-of-bacteria-in-water-using-Yolo-images\\temp\\images/train\\EMDS7-G029-009-0400.png\n",
      "Processed Image saved to: D:\\KULIAH\\SEMESTER 5\\RSBP\\Bacteri\\Detection-of-bacteria-in-water-using-Yolo-images\\Detect\\Detection-of-bacteria-in-water-using-Yolo-images\\temp\\images/train\\EMDS7-G010-021-0400.png\n",
      "Processed Image saved to: D:\\KULIAH\\SEMESTER 5\\RSBP\\Bacteri\\Detection-of-bacteria-in-water-using-Yolo-images\\Detect\\Detection-of-bacteria-in-water-using-Yolo-images\\temp\\images/train\\EMDS7-G004-086-0400.png\n",
      "Processed Image saved to: D:\\KULIAH\\SEMESTER 5\\RSBP\\Bacteri\\Detection-of-bacteria-in-water-using-Yolo-images\\Detect\\Detection-of-bacteria-in-water-using-Yolo-images\\temp\\images/train\\EMDS7-G036-059-0400.png\n",
      "Processed Image saved to: D:\\KULIAH\\SEMESTER 5\\RSBP\\Bacteri\\Detection-of-bacteria-in-water-using-Yolo-images\\Detect\\Detection-of-bacteria-in-water-using-Yolo-images\\temp\\images/train\\EMDS7-G009-047-0400.png\n",
      "Processed Image saved to: D:\\KULIAH\\SEMESTER 5\\RSBP\\Bacteri\\Detection-of-bacteria-in-water-using-Yolo-images\\Detect\\Detection-of-bacteria-in-water-using-Yolo-images\\temp\\images/train\\EMDS7-G022-022-0400.png\n",
      "Processed Image saved to: D:\\KULIAH\\SEMESTER 5\\RSBP\\Bacteri\\Detection-of-bacteria-in-water-using-Yolo-images\\Detect\\Detection-of-bacteria-in-water-using-Yolo-images\\temp\\images/train\\EMDS7-G011-014-0400.png\n",
      "Processed Image saved to: D:\\KULIAH\\SEMESTER 5\\RSBP\\Bacteri\\Detection-of-bacteria-in-water-using-Yolo-images\\Detect\\Detection-of-bacteria-in-water-using-Yolo-images\\temp\\images/train\\EMDS7-G032-044-0400.png\n",
      "Processed Image saved to: D:\\KULIAH\\SEMESTER 5\\RSBP\\Bacteri\\Detection-of-bacteria-in-water-using-Yolo-images\\Detect\\Detection-of-bacteria-in-water-using-Yolo-images\\temp\\images/train\\EMDS7-G003-115-0400.png\n",
      "Processed Image saved to: D:\\KULIAH\\SEMESTER 5\\RSBP\\Bacteri\\Detection-of-bacteria-in-water-using-Yolo-images\\Detect\\Detection-of-bacteria-in-water-using-Yolo-images\\temp\\images/train\\EMDS7-G004-021-0400.png\n",
      "Processed Image saved to: D:\\KULIAH\\SEMESTER 5\\RSBP\\Bacteri\\Detection-of-bacteria-in-water-using-Yolo-images\\Detect\\Detection-of-bacteria-in-water-using-Yolo-images\\temp\\images/train\\EMDS7-G014-027-0400.png\n",
      "Processed Image saved to: D:\\KULIAH\\SEMESTER 5\\RSBP\\Bacteri\\Detection-of-bacteria-in-water-using-Yolo-images\\Detect\\Detection-of-bacteria-in-water-using-Yolo-images\\temp\\images/train\\EMDS7-G032-030-0400.png\n",
      "Skipping image EMDS7-G011-062-0400.png due to no valid classes.\n",
      "Processed Image saved to: D:\\KULIAH\\SEMESTER 5\\RSBP\\Bacteri\\Detection-of-bacteria-in-water-using-Yolo-images\\Detect\\Detection-of-bacteria-in-water-using-Yolo-images\\temp\\images/train\\EMDS7-G019-018-0400.png\n",
      "Processed Image saved to: D:\\KULIAH\\SEMESTER 5\\RSBP\\Bacteri\\Detection-of-bacteria-in-water-using-Yolo-images\\Detect\\Detection-of-bacteria-in-water-using-Yolo-images\\temp\\images/train\\EMDS7-G005-046-0400.png\n",
      "Processed Image saved to: D:\\KULIAH\\SEMESTER 5\\RSBP\\Bacteri\\Detection-of-bacteria-in-water-using-Yolo-images\\Detect\\Detection-of-bacteria-in-water-using-Yolo-images\\temp\\images/train\\EMDS7-G022-127-0400.png\n",
      "Processed Image saved to: D:\\KULIAH\\SEMESTER 5\\RSBP\\Bacteri\\Detection-of-bacteria-in-water-using-Yolo-images\\Detect\\Detection-of-bacteria-in-water-using-Yolo-images\\temp\\images/train\\EMDS7-G003-066-0400.png\n",
      "Processed Image saved to: D:\\KULIAH\\SEMESTER 5\\RSBP\\Bacteri\\Detection-of-bacteria-in-water-using-Yolo-images\\Detect\\Detection-of-bacteria-in-water-using-Yolo-images\\temp\\images/train\\EMDS7-G040-012-0400.png\n",
      "Processed Image saved to: D:\\KULIAH\\SEMESTER 5\\RSBP\\Bacteri\\Detection-of-bacteria-in-water-using-Yolo-images\\Detect\\Detection-of-bacteria-in-water-using-Yolo-images\\temp\\images/train\\EMDS7-G036-033-0400.png\n",
      "Processed Image saved to: D:\\KULIAH\\SEMESTER 5\\RSBP\\Bacteri\\Detection-of-bacteria-in-water-using-Yolo-images\\Detect\\Detection-of-bacteria-in-water-using-Yolo-images\\temp\\images/train\\EMDS7-G022-179-0400.png\n",
      "Processed Image saved to: D:\\KULIAH\\SEMESTER 5\\RSBP\\Bacteri\\Detection-of-bacteria-in-water-using-Yolo-images\\Detect\\Detection-of-bacteria-in-water-using-Yolo-images\\temp\\images/train\\EMDS7-G029-019-0400.png\n",
      "Processed Image saved to: D:\\KULIAH\\SEMESTER 5\\RSBP\\Bacteri\\Detection-of-bacteria-in-water-using-Yolo-images\\Detect\\Detection-of-bacteria-in-water-using-Yolo-images\\temp\\images/train\\EMDS7-G025-019-0400.png\n",
      "Processed Image saved to: D:\\KULIAH\\SEMESTER 5\\RSBP\\Bacteri\\Detection-of-bacteria-in-water-using-Yolo-images\\Detect\\Detection-of-bacteria-in-water-using-Yolo-images\\temp\\images/train\\EMDS7-G035-019-0400.png\n",
      "Processed Image saved to: D:\\KULIAH\\SEMESTER 5\\RSBP\\Bacteri\\Detection-of-bacteria-in-water-using-Yolo-images\\Detect\\Detection-of-bacteria-in-water-using-Yolo-images\\temp\\images/train\\EMDS7-G022-129-0400.png\n",
      "Processed Image saved to: D:\\KULIAH\\SEMESTER 5\\RSBP\\Bacteri\\Detection-of-bacteria-in-water-using-Yolo-images\\Detect\\Detection-of-bacteria-in-water-using-Yolo-images\\temp\\images/train\\EMDS7-G003-274-0400.png\n",
      "Processed Image saved to: D:\\KULIAH\\SEMESTER 5\\RSBP\\Bacteri\\Detection-of-bacteria-in-water-using-Yolo-images\\Detect\\Detection-of-bacteria-in-water-using-Yolo-images\\temp\\images/train\\EMDS7-G004-064-0400.png\n",
      "Processed Image saved to: D:\\KULIAH\\SEMESTER 5\\RSBP\\Bacteri\\Detection-of-bacteria-in-water-using-Yolo-images\\Detect\\Detection-of-bacteria-in-water-using-Yolo-images\\temp\\images/train\\EMDS7-G039-033-0400.png\n",
      "Processed Image saved to: D:\\KULIAH\\SEMESTER 5\\RSBP\\Bacteri\\Detection-of-bacteria-in-water-using-Yolo-images\\Detect\\Detection-of-bacteria-in-water-using-Yolo-images\\temp\\images/train\\EMDS7-G011-037-0400.png\n",
      "Processed Image saved to: D:\\KULIAH\\SEMESTER 5\\RSBP\\Bacteri\\Detection-of-bacteria-in-water-using-Yolo-images\\Detect\\Detection-of-bacteria-in-water-using-Yolo-images\\temp\\images/train\\EMDS7-G008-047-0400.png\n",
      "Processed Image saved to: D:\\KULIAH\\SEMESTER 5\\RSBP\\Bacteri\\Detection-of-bacteria-in-water-using-Yolo-images\\Detect\\Detection-of-bacteria-in-water-using-Yolo-images\\temp\\images/train\\EMDS7-G005-038-0400.png\n",
      "Processed Image saved to: D:\\KULIAH\\SEMESTER 5\\RSBP\\Bacteri\\Detection-of-bacteria-in-water-using-Yolo-images\\Detect\\Detection-of-bacteria-in-water-using-Yolo-images\\temp\\images/train\\EMDS7-G003-213-0400.png\n",
      "Processed Image saved to: D:\\KULIAH\\SEMESTER 5\\RSBP\\Bacteri\\Detection-of-bacteria-in-water-using-Yolo-images\\Detect\\Detection-of-bacteria-in-water-using-Yolo-images\\temp\\images/train\\EMDS7-G035-025-0400.png\n",
      "Processed Image saved to: D:\\KULIAH\\SEMESTER 5\\RSBP\\Bacteri\\Detection-of-bacteria-in-water-using-Yolo-images\\Detect\\Detection-of-bacteria-in-water-using-Yolo-images\\temp\\images/train\\EMDS7-G004-048-0400.png\n",
      "Processed Image saved to: D:\\KULIAH\\SEMESTER 5\\RSBP\\Bacteri\\Detection-of-bacteria-in-water-using-Yolo-images\\Detect\\Detection-of-bacteria-in-water-using-Yolo-images\\temp\\images/train\\EMDS7-G003-146-0400.png\n",
      "Processed Image saved to: D:\\KULIAH\\SEMESTER 5\\RSBP\\Bacteri\\Detection-of-bacteria-in-water-using-Yolo-images\\Detect\\Detection-of-bacteria-in-water-using-Yolo-images\\temp\\images/train\\EMDS7-G036-075-0400.png\n",
      "Processed Image saved to: D:\\KULIAH\\SEMESTER 5\\RSBP\\Bacteri\\Detection-of-bacteria-in-water-using-Yolo-images\\Detect\\Detection-of-bacteria-in-water-using-Yolo-images\\temp\\images/train\\EMDS7-G020-031-0400.png\n",
      "Processed Image saved to: D:\\KULIAH\\SEMESTER 5\\RSBP\\Bacteri\\Detection-of-bacteria-in-water-using-Yolo-images\\Detect\\Detection-of-bacteria-in-water-using-Yolo-images\\temp\\images/train\\EMDS7-G003-083-0400.png\n",
      "Processed Image saved to: D:\\KULIAH\\SEMESTER 5\\RSBP\\Bacteri\\Detection-of-bacteria-in-water-using-Yolo-images\\Detect\\Detection-of-bacteria-in-water-using-Yolo-images\\temp\\images/train\\EMDS7-G015-013-0400.png\n",
      "Processed Image saved to: D:\\KULIAH\\SEMESTER 5\\RSBP\\Bacteri\\Detection-of-bacteria-in-water-using-Yolo-images\\Detect\\Detection-of-bacteria-in-water-using-Yolo-images\\temp\\images/train\\EMDS7-G004-001-0400.png\n",
      "Processed Image saved to: D:\\KULIAH\\SEMESTER 5\\RSBP\\Bacteri\\Detection-of-bacteria-in-water-using-Yolo-images\\Detect\\Detection-of-bacteria-in-water-using-Yolo-images\\temp\\images/train\\EMDS7-G039-062-0400.png\n",
      "Processed Image saved to: D:\\KULIAH\\SEMESTER 5\\RSBP\\Bacteri\\Detection-of-bacteria-in-water-using-Yolo-images\\Detect\\Detection-of-bacteria-in-water-using-Yolo-images\\temp\\images/train\\EMDS7-G022-082-0400.png\n",
      "Processed Image saved to: D:\\KULIAH\\SEMESTER 5\\RSBP\\Bacteri\\Detection-of-bacteria-in-water-using-Yolo-images\\Detect\\Detection-of-bacteria-in-water-using-Yolo-images\\temp\\images/train\\EMDS7-G004-010-0400.png\n",
      "Processed Image saved to: D:\\KULIAH\\SEMESTER 5\\RSBP\\Bacteri\\Detection-of-bacteria-in-water-using-Yolo-images\\Detect\\Detection-of-bacteria-in-water-using-Yolo-images\\temp\\images/train\\EMDS7-G032-001-0400.png\n",
      "Processed Image saved to: D:\\KULIAH\\SEMESTER 5\\RSBP\\Bacteri\\Detection-of-bacteria-in-water-using-Yolo-images\\Detect\\Detection-of-bacteria-in-water-using-Yolo-images\\temp\\images/train\\EMDS7-G003-071-0400.png\n",
      "Processed Image saved to: D:\\KULIAH\\SEMESTER 5\\RSBP\\Bacteri\\Detection-of-bacteria-in-water-using-Yolo-images\\Detect\\Detection-of-bacteria-in-water-using-Yolo-images\\temp\\images/train\\EMDS7-G037-007-0400.png\n",
      "Processed Image saved to: D:\\KULIAH\\SEMESTER 5\\RSBP\\Bacteri\\Detection-of-bacteria-in-water-using-Yolo-images\\Detect\\Detection-of-bacteria-in-water-using-Yolo-images\\temp\\images/train\\EMDS7-G032-066-0400.png\n",
      "Processed Image saved to: D:\\KULIAH\\SEMESTER 5\\RSBP\\Bacteri\\Detection-of-bacteria-in-water-using-Yolo-images\\Detect\\Detection-of-bacteria-in-water-using-Yolo-images\\temp\\images/train\\EMDS7-G022-219-0400.png\n",
      "Processed Image saved to: D:\\KULIAH\\SEMESTER 5\\RSBP\\Bacteri\\Detection-of-bacteria-in-water-using-Yolo-images\\Detect\\Detection-of-bacteria-in-water-using-Yolo-images\\temp\\images/train\\EMDS7-G009-030-0400.png\n",
      "Processed Image saved to: D:\\KULIAH\\SEMESTER 5\\RSBP\\Bacteri\\Detection-of-bacteria-in-water-using-Yolo-images\\Detect\\Detection-of-bacteria-in-water-using-Yolo-images\\temp\\images/train\\EMDS7-G032-038-0400.png\n",
      "Processed Image saved to: D:\\KULIAH\\SEMESTER 5\\RSBP\\Bacteri\\Detection-of-bacteria-in-water-using-Yolo-images\\Detect\\Detection-of-bacteria-in-water-using-Yolo-images\\temp\\images/train\\EMDS7-G032-060-0400.png\n",
      "Processed Image saved to: D:\\KULIAH\\SEMESTER 5\\RSBP\\Bacteri\\Detection-of-bacteria-in-water-using-Yolo-images\\Detect\\Detection-of-bacteria-in-water-using-Yolo-images\\temp\\images/train\\EMDS7-G003-017-0400.png\n",
      "Processed Image saved to: D:\\KULIAH\\SEMESTER 5\\RSBP\\Bacteri\\Detection-of-bacteria-in-water-using-Yolo-images\\Detect\\Detection-of-bacteria-in-water-using-Yolo-images\\temp\\images/train\\EMDS7-G039-027-0400.png\n",
      "Processed Image saved to: D:\\KULIAH\\SEMESTER 5\\RSBP\\Bacteri\\Detection-of-bacteria-in-water-using-Yolo-images\\Detect\\Detection-of-bacteria-in-water-using-Yolo-images\\temp\\images/train\\EMDS7-G003-020-0400.png\n",
      "Processed Image saved to: D:\\KULIAH\\SEMESTER 5\\RSBP\\Bacteri\\Detection-of-bacteria-in-water-using-Yolo-images\\Detect\\Detection-of-bacteria-in-water-using-Yolo-images\\temp\\images/train\\EMDS7-G018-081-0400.png\n",
      "Processed Image saved to: D:\\KULIAH\\SEMESTER 5\\RSBP\\Bacteri\\Detection-of-bacteria-in-water-using-Yolo-images\\Detect\\Detection-of-bacteria-in-water-using-Yolo-images\\temp\\images/train\\EMDS7-G018-024-0400.png\n",
      "Processed Image saved to: D:\\KULIAH\\SEMESTER 5\\RSBP\\Bacteri\\Detection-of-bacteria-in-water-using-Yolo-images\\Detect\\Detection-of-bacteria-in-water-using-Yolo-images\\temp\\images/train\\EMDS7-G036-052-0400.png\n",
      "Processed Image saved to: D:\\KULIAH\\SEMESTER 5\\RSBP\\Bacteri\\Detection-of-bacteria-in-water-using-Yolo-images\\Detect\\Detection-of-bacteria-in-water-using-Yolo-images\\temp\\images/train\\EMDS7-G029-018-0400.png\n",
      "Processed Image saved to: D:\\KULIAH\\SEMESTER 5\\RSBP\\Bacteri\\Detection-of-bacteria-in-water-using-Yolo-images\\Detect\\Detection-of-bacteria-in-water-using-Yolo-images\\temp\\images/train\\EMDS7-G003-246-0400.png\n",
      "Processed Image saved to: D:\\KULIAH\\SEMESTER 5\\RSBP\\Bacteri\\Detection-of-bacteria-in-water-using-Yolo-images\\Detect\\Detection-of-bacteria-in-water-using-Yolo-images\\temp\\images/train\\EMDS7-G031-004-0400.png\n",
      "Processed Image saved to: D:\\KULIAH\\SEMESTER 5\\RSBP\\Bacteri\\Detection-of-bacteria-in-water-using-Yolo-images\\Detect\\Detection-of-bacteria-in-water-using-Yolo-images\\temp\\images/train\\EMDS7-G022-002-0400.png\n",
      "Processed Image saved to: D:\\KULIAH\\SEMESTER 5\\RSBP\\Bacteri\\Detection-of-bacteria-in-water-using-Yolo-images\\Detect\\Detection-of-bacteria-in-water-using-Yolo-images\\temp\\images/train\\EMDS7-G003-178-0400.png\n",
      "Processed Image saved to: D:\\KULIAH\\SEMESTER 5\\RSBP\\Bacteri\\Detection-of-bacteria-in-water-using-Yolo-images\\Detect\\Detection-of-bacteria-in-water-using-Yolo-images\\temp\\images/train\\EMDS7-G028-001-0400.png\n",
      "Processed Image saved to: D:\\KULIAH\\SEMESTER 5\\RSBP\\Bacteri\\Detection-of-bacteria-in-water-using-Yolo-images\\Detect\\Detection-of-bacteria-in-water-using-Yolo-images\\temp\\images/train\\EMDS7-G022-135-0400.png\n",
      "Processed Image saved to: D:\\KULIAH\\SEMESTER 5\\RSBP\\Bacteri\\Detection-of-bacteria-in-water-using-Yolo-images\\Detect\\Detection-of-bacteria-in-water-using-Yolo-images\\temp\\images/train\\EMDS7-G003-270-0400.png\n",
      "Processed Image saved to: D:\\KULIAH\\SEMESTER 5\\RSBP\\Bacteri\\Detection-of-bacteria-in-water-using-Yolo-images\\Detect\\Detection-of-bacteria-in-water-using-Yolo-images\\temp\\images/train\\EMDS7-G023-052-0400.png\n",
      "Processed Image saved to: D:\\KULIAH\\SEMESTER 5\\RSBP\\Bacteri\\Detection-of-bacteria-in-water-using-Yolo-images\\Detect\\Detection-of-bacteria-in-water-using-Yolo-images\\temp\\images/train\\EMDS7-G008-010-0400.png\n",
      "Processed Image saved to: D:\\KULIAH\\SEMESTER 5\\RSBP\\Bacteri\\Detection-of-bacteria-in-water-using-Yolo-images\\Detect\\Detection-of-bacteria-in-water-using-Yolo-images\\temp\\images/train\\EMDS7-G022-241-0400.png\n",
      "Processed Image saved to: D:\\KULIAH\\SEMESTER 5\\RSBP\\Bacteri\\Detection-of-bacteria-in-water-using-Yolo-images\\Detect\\Detection-of-bacteria-in-water-using-Yolo-images\\temp\\images/train\\EMDS7-G030-015-0400.png\n",
      "Processed Image saved to: D:\\KULIAH\\SEMESTER 5\\RSBP\\Bacteri\\Detection-of-bacteria-in-water-using-Yolo-images\\Detect\\Detection-of-bacteria-in-water-using-Yolo-images\\temp\\images/train\\EMDS7-G003-176-0400.png\n",
      "Processed Image saved to: D:\\KULIAH\\SEMESTER 5\\RSBP\\Bacteri\\Detection-of-bacteria-in-water-using-Yolo-images\\Detect\\Detection-of-bacteria-in-water-using-Yolo-images\\temp\\images/train\\EMDS7-G025-041-0400.png\n",
      "Processed Image saved to: D:\\KULIAH\\SEMESTER 5\\RSBP\\Bacteri\\Detection-of-bacteria-in-water-using-Yolo-images\\Detect\\Detection-of-bacteria-in-water-using-Yolo-images\\temp\\images/train\\EMDS7-G029-020-0400.png\n",
      "Processed Image saved to: D:\\KULIAH\\SEMESTER 5\\RSBP\\Bacteri\\Detection-of-bacteria-in-water-using-Yolo-images\\Detect\\Detection-of-bacteria-in-water-using-Yolo-images\\temp\\images/train\\EMDS7-G036-041-0400.png\n",
      "Processed Image saved to: D:\\KULIAH\\SEMESTER 5\\RSBP\\Bacteri\\Detection-of-bacteria-in-water-using-Yolo-images\\Detect\\Detection-of-bacteria-in-water-using-Yolo-images\\temp\\images/train\\EMDS7-G023-012-0400.png\n",
      "Processed Image saved to: D:\\KULIAH\\SEMESTER 5\\RSBP\\Bacteri\\Detection-of-bacteria-in-water-using-Yolo-images\\Detect\\Detection-of-bacteria-in-water-using-Yolo-images\\temp\\images/train\\EMDS7-G023-026-0400.png\n",
      "Processed Image saved to: D:\\KULIAH\\SEMESTER 5\\RSBP\\Bacteri\\Detection-of-bacteria-in-water-using-Yolo-images\\Detect\\Detection-of-bacteria-in-water-using-Yolo-images\\temp\\images/train\\EMDS7-G035-009-0400.png\n",
      "Processed Image saved to: D:\\KULIAH\\SEMESTER 5\\RSBP\\Bacteri\\Detection-of-bacteria-in-water-using-Yolo-images\\Detect\\Detection-of-bacteria-in-water-using-Yolo-images\\temp\\images/train\\EMDS7-G003-184-0400.png\n",
      "Processed Image saved to: D:\\KULIAH\\SEMESTER 5\\RSBP\\Bacteri\\Detection-of-bacteria-in-water-using-Yolo-images\\Detect\\Detection-of-bacteria-in-water-using-Yolo-images\\temp\\images/train\\EMDS7-G003-032-0400.png\n",
      "Processed Image saved to: D:\\KULIAH\\SEMESTER 5\\RSBP\\Bacteri\\Detection-of-bacteria-in-water-using-Yolo-images\\Detect\\Detection-of-bacteria-in-water-using-Yolo-images\\temp\\images/train\\EMDS7-G011-002-0400.png\n",
      "Processed Image saved to: D:\\KULIAH\\SEMESTER 5\\RSBP\\Bacteri\\Detection-of-bacteria-in-water-using-Yolo-images\\Detect\\Detection-of-bacteria-in-water-using-Yolo-images\\temp\\images/train\\EMDS7-G005-031-0400.png\n",
      "Processed Image saved to: D:\\KULIAH\\SEMESTER 5\\RSBP\\Bacteri\\Detection-of-bacteria-in-water-using-Yolo-images\\Detect\\Detection-of-bacteria-in-water-using-Yolo-images\\temp\\images/train\\EMDS7-G028-052-0400.png\n",
      "Processed Image saved to: D:\\KULIAH\\SEMESTER 5\\RSBP\\Bacteri\\Detection-of-bacteria-in-water-using-Yolo-images\\Detect\\Detection-of-bacteria-in-water-using-Yolo-images\\temp\\images/train\\EMDS7-G014-051-0400.png\n",
      "Processed Image saved to: D:\\KULIAH\\SEMESTER 5\\RSBP\\Bacteri\\Detection-of-bacteria-in-water-using-Yolo-images\\Detect\\Detection-of-bacteria-in-water-using-Yolo-images\\temp\\images/train\\EMDS7-G022-246-0400.png\n",
      "Processed Image saved to: D:\\KULIAH\\SEMESTER 5\\RSBP\\Bacteri\\Detection-of-bacteria-in-water-using-Yolo-images\\Detect\\Detection-of-bacteria-in-water-using-Yolo-images\\temp\\images/train\\EMDS7-G003-150-0400.png\n",
      "Processed Image saved to: D:\\KULIAH\\SEMESTER 5\\RSBP\\Bacteri\\Detection-of-bacteria-in-water-using-Yolo-images\\Detect\\Detection-of-bacteria-in-water-using-Yolo-images\\temp\\images/train\\EMDS7-G031-012-0400.png\n",
      "Processed Image saved to: D:\\KULIAH\\SEMESTER 5\\RSBP\\Bacteri\\Detection-of-bacteria-in-water-using-Yolo-images\\Detect\\Detection-of-bacteria-in-water-using-Yolo-images\\temp\\images/train\\EMDS7-G004-055-0400.png\n",
      "Processed Image saved to: D:\\KULIAH\\SEMESTER 5\\RSBP\\Bacteri\\Detection-of-bacteria-in-water-using-Yolo-images\\Detect\\Detection-of-bacteria-in-water-using-Yolo-images\\temp\\images/train\\EMDS7-G019-056-0400.png\n",
      "Processed Image saved to: D:\\KULIAH\\SEMESTER 5\\RSBP\\Bacteri\\Detection-of-bacteria-in-water-using-Yolo-images\\Detect\\Detection-of-bacteria-in-water-using-Yolo-images\\temp\\images/train\\EMDS7-G018-079-0400.png\n",
      "Processed Image saved to: D:\\KULIAH\\SEMESTER 5\\RSBP\\Bacteri\\Detection-of-bacteria-in-water-using-Yolo-images\\Detect\\Detection-of-bacteria-in-water-using-Yolo-images\\temp\\images/train\\EMDS7-G022-083-0400.png\n",
      "Processed Image saved to: D:\\KULIAH\\SEMESTER 5\\RSBP\\Bacteri\\Detection-of-bacteria-in-water-using-Yolo-images\\Detect\\Detection-of-bacteria-in-water-using-Yolo-images\\temp\\images/train\\EMDS7-G024-018-0400.png\n",
      "Processed Image saved to: D:\\KULIAH\\SEMESTER 5\\RSBP\\Bacteri\\Detection-of-bacteria-in-water-using-Yolo-images\\Detect\\Detection-of-bacteria-in-water-using-Yolo-images\\temp\\images/train\\EMDS7-G036-065-0400.png\n",
      "Processed Image saved to: D:\\KULIAH\\SEMESTER 5\\RSBP\\Bacteri\\Detection-of-bacteria-in-water-using-Yolo-images\\Detect\\Detection-of-bacteria-in-water-using-Yolo-images\\temp\\images/train\\EMDS7-G029-023-0400.png\n",
      "Processed Image saved to: D:\\KULIAH\\SEMESTER 5\\RSBP\\Bacteri\\Detection-of-bacteria-in-water-using-Yolo-images\\Detect\\Detection-of-bacteria-in-water-using-Yolo-images\\temp\\images/train\\EMDS7-G004-076-0400.png\n",
      "Processed Image saved to: D:\\KULIAH\\SEMESTER 5\\RSBP\\Bacteri\\Detection-of-bacteria-in-water-using-Yolo-images\\Detect\\Detection-of-bacteria-in-water-using-Yolo-images\\temp\\images/train\\EMDS7-G029-022-0400.png\n",
      "Processed Image saved to: D:\\KULIAH\\SEMESTER 5\\RSBP\\Bacteri\\Detection-of-bacteria-in-water-using-Yolo-images\\Detect\\Detection-of-bacteria-in-water-using-Yolo-images\\temp\\images/train\\EMDS7-G003-223-0400.png\n",
      "Processed Image saved to: D:\\KULIAH\\SEMESTER 5\\RSBP\\Bacteri\\Detection-of-bacteria-in-water-using-Yolo-images\\Detect\\Detection-of-bacteria-in-water-using-Yolo-images\\temp\\images/train\\EMDS7-G015-010-0400.png\n",
      "Processed Image saved to: D:\\KULIAH\\SEMESTER 5\\RSBP\\Bacteri\\Detection-of-bacteria-in-water-using-Yolo-images\\Detect\\Detection-of-bacteria-in-water-using-Yolo-images\\temp\\images/train\\EMDS7-G022-265-0400.png\n",
      "Processed Image saved to: D:\\KULIAH\\SEMESTER 5\\RSBP\\Bacteri\\Detection-of-bacteria-in-water-using-Yolo-images\\Detect\\Detection-of-bacteria-in-water-using-Yolo-images\\temp\\images/train\\EMDS7-G012-106-0400.png\n",
      "Processed Image saved to: D:\\KULIAH\\SEMESTER 5\\RSBP\\Bacteri\\Detection-of-bacteria-in-water-using-Yolo-images\\Detect\\Detection-of-bacteria-in-water-using-Yolo-images\\temp\\images/train\\EMDS7-G025-064-0400.png\n",
      "Processed Image saved to: D:\\KULIAH\\SEMESTER 5\\RSBP\\Bacteri\\Detection-of-bacteria-in-water-using-Yolo-images\\Detect\\Detection-of-bacteria-in-water-using-Yolo-images\\temp\\images/train\\EMDS7-G003-271-0400.png\n",
      "Processed Image saved to: D:\\KULIAH\\SEMESTER 5\\RSBP\\Bacteri\\Detection-of-bacteria-in-water-using-Yolo-images\\Detect\\Detection-of-bacteria-in-water-using-Yolo-images\\temp\\images/train\\EMDS7-G004-046-0400.png\n",
      "Processed Image saved to: D:\\KULIAH\\SEMESTER 5\\RSBP\\Bacteri\\Detection-of-bacteria-in-water-using-Yolo-images\\Detect\\Detection-of-bacteria-in-water-using-Yolo-images\\temp\\images/train\\EMDS7-G014-081-0400.png\n",
      "Processed Image saved to: D:\\KULIAH\\SEMESTER 5\\RSBP\\Bacteri\\Detection-of-bacteria-in-water-using-Yolo-images\\Detect\\Detection-of-bacteria-in-water-using-Yolo-images\\temp\\images/train\\EMDS7-G014-032-0400.png\n",
      "Processed Image saved to: D:\\KULIAH\\SEMESTER 5\\RSBP\\Bacteri\\Detection-of-bacteria-in-water-using-Yolo-images\\Detect\\Detection-of-bacteria-in-water-using-Yolo-images\\temp\\images/train\\EMDS7-G005-007-0400.png\n",
      "Processed Image saved to: D:\\KULIAH\\SEMESTER 5\\RSBP\\Bacteri\\Detection-of-bacteria-in-water-using-Yolo-images\\Detect\\Detection-of-bacteria-in-water-using-Yolo-images\\temp\\images/train\\EMDS7-G016-010-0400.png\n",
      "Processed Image saved to: D:\\KULIAH\\SEMESTER 5\\RSBP\\Bacteri\\Detection-of-bacteria-in-water-using-Yolo-images\\Detect\\Detection-of-bacteria-in-water-using-Yolo-images\\temp\\images/train\\EMDS7-G031-033-0400.png\n",
      "Processed Image saved to: D:\\KULIAH\\SEMESTER 5\\RSBP\\Bacteri\\Detection-of-bacteria-in-water-using-Yolo-images\\Detect\\Detection-of-bacteria-in-water-using-Yolo-images\\temp\\images/train\\EMDS7-G022-217-0400.png\n",
      "Processed Image saved to: D:\\KULIAH\\SEMESTER 5\\RSBP\\Bacteri\\Detection-of-bacteria-in-water-using-Yolo-images\\Detect\\Detection-of-bacteria-in-water-using-Yolo-images\\temp\\images/train\\EMDS7-G005-011-0400.png\n",
      "Processed Image saved to: D:\\KULIAH\\SEMESTER 5\\RSBP\\Bacteri\\Detection-of-bacteria-in-water-using-Yolo-images\\Detect\\Detection-of-bacteria-in-water-using-Yolo-images\\temp\\images/train\\EMDS7-G003-138-0400.png\n",
      "Processed Image saved to: D:\\KULIAH\\SEMESTER 5\\RSBP\\Bacteri\\Detection-of-bacteria-in-water-using-Yolo-images\\Detect\\Detection-of-bacteria-in-water-using-Yolo-images\\temp\\images/train\\EMDS7-G013-004-0400.png\n",
      "Processed Image saved to: D:\\KULIAH\\SEMESTER 5\\RSBP\\Bacteri\\Detection-of-bacteria-in-water-using-Yolo-images\\Detect\\Detection-of-bacteria-in-water-using-Yolo-images\\temp\\images/train\\EMDS7-G022-239-0400.png\n",
      "Processed Image saved to: D:\\KULIAH\\SEMESTER 5\\RSBP\\Bacteri\\Detection-of-bacteria-in-water-using-Yolo-images\\Detect\\Detection-of-bacteria-in-water-using-Yolo-images\\temp\\images/train\\EMDS7-G017-005-0400.png\n",
      "Processed Image saved to: D:\\KULIAH\\SEMESTER 5\\RSBP\\Bacteri\\Detection-of-bacteria-in-water-using-Yolo-images\\Detect\\Detection-of-bacteria-in-water-using-Yolo-images\\temp\\images/train\\EMDS7-G022-072-0400.png\n",
      "Processed Image saved to: D:\\KULIAH\\SEMESTER 5\\RSBP\\Bacteri\\Detection-of-bacteria-in-water-using-Yolo-images\\Detect\\Detection-of-bacteria-in-water-using-Yolo-images\\temp\\images/train\\EMDS7-G022-079-0400.png\n",
      "Processed Image saved to: D:\\KULIAH\\SEMESTER 5\\RSBP\\Bacteri\\Detection-of-bacteria-in-water-using-Yolo-images\\Detect\\Detection-of-bacteria-in-water-using-Yolo-images\\temp\\images/train\\EMDS7-G035-032-0400.png\n",
      "Processed Image saved to: D:\\KULIAH\\SEMESTER 5\\RSBP\\Bacteri\\Detection-of-bacteria-in-water-using-Yolo-images\\Detect\\Detection-of-bacteria-in-water-using-Yolo-images\\temp\\images/train\\EMDS7-G022-063-0400.png\n",
      "Processed Image saved to: D:\\KULIAH\\SEMESTER 5\\RSBP\\Bacteri\\Detection-of-bacteria-in-water-using-Yolo-images\\Detect\\Detection-of-bacteria-in-water-using-Yolo-images\\temp\\images/train\\EMDS7-G015-004-0400.png\n",
      "Processed Image saved to: D:\\KULIAH\\SEMESTER 5\\RSBP\\Bacteri\\Detection-of-bacteria-in-water-using-Yolo-images\\Detect\\Detection-of-bacteria-in-water-using-Yolo-images\\temp\\images/train\\EMDS7-G003-250-0400.png\n",
      "Processed Image saved to: D:\\KULIAH\\SEMESTER 5\\RSBP\\Bacteri\\Detection-of-bacteria-in-water-using-Yolo-images\\Detect\\Detection-of-bacteria-in-water-using-Yolo-images\\temp\\images/train\\EMDS7-G022-222-0400.png\n",
      "Processed Image saved to: D:\\KULIAH\\SEMESTER 5\\RSBP\\Bacteri\\Detection-of-bacteria-in-water-using-Yolo-images\\Detect\\Detection-of-bacteria-in-water-using-Yolo-images\\temp\\images/train\\EMDS7-G011-022-0400.png\n",
      "Processed Image saved to: D:\\KULIAH\\SEMESTER 5\\RSBP\\Bacteri\\Detection-of-bacteria-in-water-using-Yolo-images\\Detect\\Detection-of-bacteria-in-water-using-Yolo-images\\temp\\images/train\\EMDS7-G022-075-0400.png\n",
      "Processed Image saved to: D:\\KULIAH\\SEMESTER 5\\RSBP\\Bacteri\\Detection-of-bacteria-in-water-using-Yolo-images\\Detect\\Detection-of-bacteria-in-water-using-Yolo-images\\temp\\images/train\\EMDS7-G019-030-0400.png\n",
      "Processed Image saved to: D:\\KULIAH\\SEMESTER 5\\RSBP\\Bacteri\\Detection-of-bacteria-in-water-using-Yolo-images\\Detect\\Detection-of-bacteria-in-water-using-Yolo-images\\temp\\images/train\\EMDS7-G040-020-0400.png\n",
      "Processed Image saved to: D:\\KULIAH\\SEMESTER 5\\RSBP\\Bacteri\\Detection-of-bacteria-in-water-using-Yolo-images\\Detect\\Detection-of-bacteria-in-water-using-Yolo-images\\temp\\images/train\\EMDS7-G040-022-0400.png\n",
      "Processed Image saved to: D:\\KULIAH\\SEMESTER 5\\RSBP\\Bacteri\\Detection-of-bacteria-in-water-using-Yolo-images\\Detect\\Detection-of-bacteria-in-water-using-Yolo-images\\temp\\images/train\\EMDS7-G018-069-0400.png\n",
      "Processed Image saved to: D:\\KULIAH\\SEMESTER 5\\RSBP\\Bacteri\\Detection-of-bacteria-in-water-using-Yolo-images\\Detect\\Detection-of-bacteria-in-water-using-Yolo-images\\temp\\images/train\\EMDS7-G012-010-0400.png\n",
      "Processed Image saved to: D:\\KULIAH\\SEMESTER 5\\RSBP\\Bacteri\\Detection-of-bacteria-in-water-using-Yolo-images\\Detect\\Detection-of-bacteria-in-water-using-Yolo-images\\temp\\images/train\\EMDS7-G028-055-0400.png\n",
      "Processed Image saved to: D:\\KULIAH\\SEMESTER 5\\RSBP\\Bacteri\\Detection-of-bacteria-in-water-using-Yolo-images\\Detect\\Detection-of-bacteria-in-water-using-Yolo-images\\temp\\images/train\\EMDS7-G003-174-0400.pngProcessed Image saved to: D:\\KULIAH\\SEMESTER 5\\RSBP\\Bacteri\\Detection-of-bacteria-in-water-using-Yolo-images\\Detect\\Detection-of-bacteria-in-water-using-Yolo-images\\temp\\images/train\\EMDS7-G014-034-0400.png\n",
      "\n",
      "Processed Image saved to: D:\\KULIAH\\SEMESTER 5\\RSBP\\Bacteri\\Detection-of-bacteria-in-water-using-Yolo-images\\Detect\\Detection-of-bacteria-in-water-using-Yolo-images\\temp\\images/train\\EMDS7-G036-001-0400.png\n",
      "Processed Image saved to: D:\\KULIAH\\SEMESTER 5\\RSBP\\Bacteri\\Detection-of-bacteria-in-water-using-Yolo-images\\Detect\\Detection-of-bacteria-in-water-using-Yolo-images\\temp\\images/train\\EMDS7-G005-022-0400.png\n",
      "Skipping image EMDS7-G022-190-0400.png due to no valid classes.\n",
      "Processed Image saved to: D:\\KULIAH\\SEMESTER 5\\RSBP\\Bacteri\\Detection-of-bacteria-in-water-using-Yolo-images\\Detect\\Detection-of-bacteria-in-water-using-Yolo-images\\temp\\images/train\\EMDS7-G022-245-0400.png\n",
      "Processed Image saved to: D:\\KULIAH\\SEMESTER 5\\RSBP\\Bacteri\\Detection-of-bacteria-in-water-using-Yolo-images\\Detect\\Detection-of-bacteria-in-water-using-Yolo-images\\temp\\images/train\\EMDS7-G032-068-0400.png\n",
      "Processed Image saved to: D:\\KULIAH\\SEMESTER 5\\RSBP\\Bacteri\\Detection-of-bacteria-in-water-using-Yolo-images\\Detect\\Detection-of-bacteria-in-water-using-Yolo-images\\temp\\images/train\\EMDS7-G025-051-0400.png\n",
      "Processed Image saved to: D:\\KULIAH\\SEMESTER 5\\RSBP\\Bacteri\\Detection-of-bacteria-in-water-using-Yolo-images\\Detect\\Detection-of-bacteria-in-water-using-Yolo-images\\temp\\images/train\\EMDS7-G038-039-0400.png\n",
      "Processed Image saved to: D:\\KULIAH\\SEMESTER 5\\RSBP\\Bacteri\\Detection-of-bacteria-in-water-using-Yolo-images\\Detect\\Detection-of-bacteria-in-water-using-Yolo-images\\temp\\images/train\\EMDS7-G038-013-0400.png\n",
      "Processed Image saved to: D:\\KULIAH\\SEMESTER 5\\RSBP\\Bacteri\\Detection-of-bacteria-in-water-using-Yolo-images\\Detect\\Detection-of-bacteria-in-water-using-Yolo-images\\temp\\images/train\\EMDS7-G010-009-0400.png\n",
      "Processed Image saved to: D:\\KULIAH\\SEMESTER 5\\RSBP\\Bacteri\\Detection-of-bacteria-in-water-using-Yolo-images\\Detect\\Detection-of-bacteria-in-water-using-Yolo-images\\temp\\images/train\\EMDS7-G025-055-0400.png\n",
      "Processed Image saved to: D:\\KULIAH\\SEMESTER 5\\RSBP\\Bacteri\\Detection-of-bacteria-in-water-using-Yolo-images\\Detect\\Detection-of-bacteria-in-water-using-Yolo-images\\temp\\images/train\\EMDS7-G011-035-0400.png\n",
      "Processed Image saved to: D:\\KULIAH\\SEMESTER 5\\RSBP\\Bacteri\\Detection-of-bacteria-in-water-using-Yolo-images\\Detect\\Detection-of-bacteria-in-water-using-Yolo-images\\temp\\images/train\\EMDS7-G014-042-0400.png\n",
      "Processed Image saved to: D:\\KULIAH\\SEMESTER 5\\RSBP\\Bacteri\\Detection-of-bacteria-in-water-using-Yolo-images\\Detect\\Detection-of-bacteria-in-water-using-Yolo-images\\temp\\images/train\\EMDS7-G011-039-0400.png\n",
      "Processed Image saved to: D:\\KULIAH\\SEMESTER 5\\RSBP\\Bacteri\\Detection-of-bacteria-in-water-using-Yolo-images\\Detect\\Detection-of-bacteria-in-water-using-Yolo-images\\temp\\images/train\\EMDS7-G009-021-0400.png\n",
      "Processed Image saved to: D:\\KULIAH\\SEMESTER 5\\RSBP\\Bacteri\\Detection-of-bacteria-in-water-using-Yolo-images\\Detect\\Detection-of-bacteria-in-water-using-Yolo-images\\temp\\images/train\\EMDS7-G018-068-0400.png\n",
      "Processed Image saved to: D:\\KULIAH\\SEMESTER 5\\RSBP\\Bacteri\\Detection-of-bacteria-in-water-using-Yolo-images\\Detect\\Detection-of-bacteria-in-water-using-Yolo-images\\temp\\images/train\\EMDS7-G003-181-0400.png\n",
      "Processed Image saved to: D:\\KULIAH\\SEMESTER 5\\RSBP\\Bacteri\\Detection-of-bacteria-in-water-using-Yolo-images\\Detect\\Detection-of-bacteria-in-water-using-Yolo-images\\temp\\images/train\\EMDS7-G030-042-0400.png\n",
      "Processed Image saved to: D:\\KULIAH\\SEMESTER 5\\RSBP\\Bacteri\\Detection-of-bacteria-in-water-using-Yolo-images\\Detect\\Detection-of-bacteria-in-water-using-Yolo-images\\temp\\images/train\\EMDS7-G022-046-0400.png\n",
      "Processed Image saved to: D:\\KULIAH\\SEMESTER 5\\RSBP\\Bacteri\\Detection-of-bacteria-in-water-using-Yolo-images\\Detect\\Detection-of-bacteria-in-water-using-Yolo-images\\temp\\images/train\\EMDS7-G014-016-0400.png\n",
      "Processed Image saved to: D:\\KULIAH\\SEMESTER 5\\RSBP\\Bacteri\\Detection-of-bacteria-in-water-using-Yolo-images\\Detect\\Detection-of-bacteria-in-water-using-Yolo-images\\temp\\images/train\\EMDS7-G008-014-0400.png\n",
      "Processed Image saved to: D:\\KULIAH\\SEMESTER 5\\RSBP\\Bacteri\\Detection-of-bacteria-in-water-using-Yolo-images\\Detect\\Detection-of-bacteria-in-water-using-Yolo-images\\temp\\images/train\\EMDS7-G014-049-0400.png\n",
      "Processed Image saved to: D:\\KULIAH\\SEMESTER 5\\RSBP\\Bacteri\\Detection-of-bacteria-in-water-using-Yolo-images\\Detect\\Detection-of-bacteria-in-water-using-Yolo-images\\temp\\images/train\\EMDS7-G022-166-0400.png\n",
      "Processed Image saved to: D:\\KULIAH\\SEMESTER 5\\RSBP\\Bacteri\\Detection-of-bacteria-in-water-using-Yolo-images\\Detect\\Detection-of-bacteria-in-water-using-Yolo-images\\temp\\images/train\\EMDS7-G036-073-0400.png\n",
      "Processed Image saved to: D:\\KULIAH\\SEMESTER 5\\RSBP\\Bacteri\\Detection-of-bacteria-in-water-using-Yolo-images\\Detect\\Detection-of-bacteria-in-water-using-Yolo-images\\temp\\images/train\\EMDS7-G039-038-0400.png\n",
      "Processed Image saved to: D:\\KULIAH\\SEMESTER 5\\RSBP\\Bacteri\\Detection-of-bacteria-in-water-using-Yolo-images\\Detect\\Detection-of-bacteria-in-water-using-Yolo-images\\temp\\images/train\\EMDS7-G030-019-0400.png\n",
      "Processed Image saved to: D:\\KULIAH\\SEMESTER 5\\RSBP\\Bacteri\\Detection-of-bacteria-in-water-using-Yolo-images\\Detect\\Detection-of-bacteria-in-water-using-Yolo-images\\temp\\images/train\\EMDS7-G012-041-0400.png\n",
      "Processed Image saved to: D:\\KULIAH\\SEMESTER 5\\RSBP\\Bacteri\\Detection-of-bacteria-in-water-using-Yolo-images\\Detect\\Detection-of-bacteria-in-water-using-Yolo-images\\temp\\images/train\\EMDS7-G022-136-0400.png\n",
      "Processed Image saved to: D:\\KULIAH\\SEMESTER 5\\RSBP\\Bacteri\\Detection-of-bacteria-in-water-using-Yolo-images\\Detect\\Detection-of-bacteria-in-water-using-Yolo-images\\temp\\images/train\\EMDS7-G032-086-0400.png\n",
      "Processed Image saved to: D:\\KULIAH\\SEMESTER 5\\RSBP\\Bacteri\\Detection-of-bacteria-in-water-using-Yolo-images\\Detect\\Detection-of-bacteria-in-water-using-Yolo-images\\temp\\images/train\\EMDS7-G028-077-0400.png\n",
      "Processed Image saved to: D:\\KULIAH\\SEMESTER 5\\RSBP\\Bacteri\\Detection-of-bacteria-in-water-using-Yolo-images\\Detect\\Detection-of-bacteria-in-water-using-Yolo-images\\temp\\images/train\\EMDS7-G008-036-0400.png\n",
      "Processed Image saved to: D:\\KULIAH\\SEMESTER 5\\RSBP\\Bacteri\\Detection-of-bacteria-in-water-using-Yolo-images\\Detect\\Detection-of-bacteria-in-water-using-Yolo-images\\temp\\images/train\\EMDS7-G022-005-0400.png\n",
      "Processed Image saved to: D:\\KULIAH\\SEMESTER 5\\RSBP\\Bacteri\\Detection-of-bacteria-in-water-using-Yolo-images\\Detect\\Detection-of-bacteria-in-water-using-Yolo-images\\temp\\images/train\\EMDS7-G022-088-0400.png\n",
      "Processed Image saved to: D:\\KULIAH\\SEMESTER 5\\RSBP\\Bacteri\\Detection-of-bacteria-in-water-using-Yolo-images\\Detect\\Detection-of-bacteria-in-water-using-Yolo-images\\temp\\images/train\\EMDS7-G019-014-0400.png\n",
      "Processed Image saved to: D:\\KULIAH\\SEMESTER 5\\RSBP\\Bacteri\\Detection-of-bacteria-in-water-using-Yolo-images\\Detect\\Detection-of-bacteria-in-water-using-Yolo-images\\temp\\images/train\\EMDS7-G009-027-0400.png\n",
      "Processed Image saved to: D:\\KULIAH\\SEMESTER 5\\RSBP\\Bacteri\\Detection-of-bacteria-in-water-using-Yolo-images\\Detect\\Detection-of-bacteria-in-water-using-Yolo-images\\temp\\images/train\\EMDS7-G036-040-0400.png\n",
      "Processed Image saved to: D:\\KULIAH\\SEMESTER 5\\RSBP\\Bacteri\\Detection-of-bacteria-in-water-using-Yolo-images\\Detect\\Detection-of-bacteria-in-water-using-Yolo-images\\temp\\images/train\\EMDS7-G012-038-0400.png\n",
      "Processed Image saved to: D:\\KULIAH\\SEMESTER 5\\RSBP\\Bacteri\\Detection-of-bacteria-in-water-using-Yolo-images\\Detect\\Detection-of-bacteria-in-water-using-Yolo-images\\temp\\images/train\\EMDS7-G039-001-0400.png\n",
      "Processed Image saved to: D:\\KULIAH\\SEMESTER 5\\RSBP\\Bacteri\\Detection-of-bacteria-in-water-using-Yolo-images\\Detect\\Detection-of-bacteria-in-water-using-Yolo-images\\temp\\images/train\\EMDS7-G012-064-0400.png\n",
      "Processed Image saved to: D:\\KULIAH\\SEMESTER 5\\RSBP\\Bacteri\\Detection-of-bacteria-in-water-using-Yolo-images\\Detect\\Detection-of-bacteria-in-water-using-Yolo-images\\temp\\images/train\\EMDS7-G022-084-0400.png\n",
      "Processed Image saved to: D:\\KULIAH\\SEMESTER 5\\RSBP\\Bacteri\\Detection-of-bacteria-in-water-using-Yolo-images\\Detect\\Detection-of-bacteria-in-water-using-Yolo-images\\temp\\images/train\\EMDS7-G039-082-0400.png\n",
      "Processed Image saved to: D:\\KULIAH\\SEMESTER 5\\RSBP\\Bacteri\\Detection-of-bacteria-in-water-using-Yolo-images\\Detect\\Detection-of-bacteria-in-water-using-Yolo-images\\temp\\images/train\\EMDS7-G036-079-0400.png\n",
      "Processed Image saved to: D:\\KULIAH\\SEMESTER 5\\RSBP\\Bacteri\\Detection-of-bacteria-in-water-using-Yolo-images\\Detect\\Detection-of-bacteria-in-water-using-Yolo-images\\temp\\images/train\\EMDS7-G003-046-0400.png\n",
      "Processed Image saved to: D:\\KULIAH\\SEMESTER 5\\RSBP\\Bacteri\\Detection-of-bacteria-in-water-using-Yolo-images\\Detect\\Detection-of-bacteria-in-water-using-Yolo-images\\temp\\images/train\\EMDS7-G003-279-0400.png\n",
      "Processed Image saved to: D:\\KULIAH\\SEMESTER 5\\RSBP\\Bacteri\\Detection-of-bacteria-in-water-using-Yolo-images\\Detect\\Detection-of-bacteria-in-water-using-Yolo-images\\temp\\images/train\\EMDS7-G030-016-0400.png\n",
      "Processed Image saved to: D:\\KULIAH\\SEMESTER 5\\RSBP\\Bacteri\\Detection-of-bacteria-in-water-using-Yolo-images\\Detect\\Detection-of-bacteria-in-water-using-Yolo-images\\temp\\images/train\\EMDS7-G025-046-0400.png\n",
      "Processed Image saved to: D:\\KULIAH\\SEMESTER 5\\RSBP\\Bacteri\\Detection-of-bacteria-in-water-using-Yolo-images\\Detect\\Detection-of-bacteria-in-water-using-Yolo-images\\temp\\images/train\\EMDS7-G018-022-0400.png\n",
      "Processed Image saved to: D:\\KULIAH\\SEMESTER 5\\RSBP\\Bacteri\\Detection-of-bacteria-in-water-using-Yolo-images\\Detect\\Detection-of-bacteria-in-water-using-Yolo-images\\temp\\images/train\\EMDS7-G025-072-0400.png\n",
      "Processed Image saved to: D:\\KULIAH\\SEMESTER 5\\RSBP\\Bacteri\\Detection-of-bacteria-in-water-using-Yolo-images\\Detect\\Detection-of-bacteria-in-water-using-Yolo-images\\temp\\images/train\\EMDS7-G022-155-0400.png\n",
      "Processed Image saved to: D:\\KULIAH\\SEMESTER 5\\RSBP\\Bacteri\\Detection-of-bacteria-in-water-using-Yolo-images\\Detect\\Detection-of-bacteria-in-water-using-Yolo-images\\temp\\images/train\\EMDS7-G020-030-0400.png\n",
      "Processed Image saved to: D:\\KULIAH\\SEMESTER 5\\RSBP\\Bacteri\\Detection-of-bacteria-in-water-using-Yolo-images\\Detect\\Detection-of-bacteria-in-water-using-Yolo-images\\temp\\images/train\\EMDS7-G016-023-0400.png\n",
      "Processed Image saved to: D:\\KULIAH\\SEMESTER 5\\RSBP\\Bacteri\\Detection-of-bacteria-in-water-using-Yolo-images\\Detect\\Detection-of-bacteria-in-water-using-Yolo-images\\temp\\images/train\\EMDS7-G008-030-0400.png\n",
      "Processed Image saved to: D:\\KULIAH\\SEMESTER 5\\RSBP\\Bacteri\\Detection-of-bacteria-in-water-using-Yolo-images\\Detect\\Detection-of-bacteria-in-water-using-Yolo-images\\temp\\images/train\\EMDS7-G028-034-0400.png\n",
      "Processed Image saved to: D:\\KULIAH\\SEMESTER 5\\RSBP\\Bacteri\\Detection-of-bacteria-in-water-using-Yolo-images\\Detect\\Detection-of-bacteria-in-water-using-Yolo-images\\temp\\images/train\\EMDS7-G005-054-0400.png\n",
      "Processed Image saved to: D:\\KULIAH\\SEMESTER 5\\RSBP\\Bacteri\\Detection-of-bacteria-in-water-using-Yolo-images\\Detect\\Detection-of-bacteria-in-water-using-Yolo-images\\temp\\images/train\\EMDS7-G038-016-0400.png\n",
      "Processed Image saved to: D:\\KULIAH\\SEMESTER 5\\RSBP\\Bacteri\\Detection-of-bacteria-in-water-using-Yolo-images\\Detect\\Detection-of-bacteria-in-water-using-Yolo-images\\temp\\images/train\\EMDS7-G035-023-0400.png\n",
      "Processed Image saved to: D:\\KULIAH\\SEMESTER 5\\RSBP\\Bacteri\\Detection-of-bacteria-in-water-using-Yolo-images\\Detect\\Detection-of-bacteria-in-water-using-Yolo-images\\temp\\images/train\\EMDS7-G014-076-0400.png\n",
      "Processed Image saved to: D:\\KULIAH\\SEMESTER 5\\RSBP\\Bacteri\\Detection-of-bacteria-in-water-using-Yolo-images\\Detect\\Detection-of-bacteria-in-water-using-Yolo-images\\temp\\images/train\\EMDS7-G012-051-0400.png\n",
      "Processed Image saved to: D:\\KULIAH\\SEMESTER 5\\RSBP\\Bacteri\\Detection-of-bacteria-in-water-using-Yolo-images\\Detect\\Detection-of-bacteria-in-water-using-Yolo-images\\temp\\images/train\\EMDS7-G022-266-0400.png\n",
      "Processed Image saved to: D:\\KULIAH\\SEMESTER 5\\RSBP\\Bacteri\\Detection-of-bacteria-in-water-using-Yolo-images\\Detect\\Detection-of-bacteria-in-water-using-Yolo-images\\temp\\images/train\\EMDS7-G014-061-0400.png\n",
      "Processed Image saved to: D:\\KULIAH\\SEMESTER 5\\RSBP\\Bacteri\\Detection-of-bacteria-in-water-using-Yolo-images\\Detect\\Detection-of-bacteria-in-water-using-Yolo-images\\temp\\images/train\\EMDS7-G014-036-0400.png\n",
      "Processed Image saved to: D:\\KULIAH\\SEMESTER 5\\RSBP\\Bacteri\\Detection-of-bacteria-in-water-using-Yolo-images\\Detect\\Detection-of-bacteria-in-water-using-Yolo-images\\temp\\images/train\\EMDS7-G008-048-0400.png\n",
      "Processed Image saved to: D:\\KULIAH\\SEMESTER 5\\RSBP\\Bacteri\\Detection-of-bacteria-in-water-using-Yolo-images\\Detect\\Detection-of-bacteria-in-water-using-Yolo-images\\temp\\images/train\\EMDS7-G025-014-0400.png\n",
      "Processed Image saved to: D:\\KULIAH\\SEMESTER 5\\RSBP\\Bacteri\\Detection-of-bacteria-in-water-using-Yolo-images\\Detect\\Detection-of-bacteria-in-water-using-Yolo-images\\temp\\images/train\\EMDS7-G032-067-0400.png\n",
      "Processed Image saved to: D:\\KULIAH\\SEMESTER 5\\RSBP\\Bacteri\\Detection-of-bacteria-in-water-using-Yolo-images\\Detect\\Detection-of-bacteria-in-water-using-Yolo-images\\temp\\images/train\\EMDS7-G003-003-0400.png\n",
      "Processed Image saved to: D:\\KULIAH\\SEMESTER 5\\RSBP\\Bacteri\\Detection-of-bacteria-in-water-using-Yolo-images\\Detect\\Detection-of-bacteria-in-water-using-Yolo-images\\temp\\images/train\\EMDS7-G003-206-0400.png\n",
      "Processed Image saved to: D:\\KULIAH\\SEMESTER 5\\RSBP\\Bacteri\\Detection-of-bacteria-in-water-using-Yolo-images\\Detect\\Detection-of-bacteria-in-water-using-Yolo-images\\temp\\images/train\\EMDS7-G022-133-0400.png\n",
      "Processed Image saved to: D:\\KULIAH\\SEMESTER 5\\RSBP\\Bacteri\\Detection-of-bacteria-in-water-using-Yolo-images\\Detect\\Detection-of-bacteria-in-water-using-Yolo-images\\temp\\images/train\\EMDS7-G012-075-0400.png\n",
      "Processed Image saved to: D:\\KULIAH\\SEMESTER 5\\RSBP\\Bacteri\\Detection-of-bacteria-in-water-using-Yolo-images\\Detect\\Detection-of-bacteria-in-water-using-Yolo-images\\temp\\images/train\\EMDS7-G003-167-0400.png\n",
      "Processed Image saved to: D:\\KULIAH\\SEMESTER 5\\RSBP\\Bacteri\\Detection-of-bacteria-in-water-using-Yolo-images\\Detect\\Detection-of-bacteria-in-water-using-Yolo-images\\temp\\images/train\\EMDS7-G012-111-0400.png\n",
      "Processed Image saved to: D:\\KULIAH\\SEMESTER 5\\RSBP\\Bacteri\\Detection-of-bacteria-in-water-using-Yolo-images\\Detect\\Detection-of-bacteria-in-water-using-Yolo-images\\temp\\images/train\\EMDS7-G016-008-0400.png\n",
      "Processed Image saved to: D:\\KULIAH\\SEMESTER 5\\RSBP\\Bacteri\\Detection-of-bacteria-in-water-using-Yolo-images\\Detect\\Detection-of-bacteria-in-water-using-Yolo-images\\temp\\images/train\\EMDS7-G011-051-0400.png\n",
      "Processed Image saved to: D:\\KULIAH\\SEMESTER 5\\RSBP\\Bacteri\\Detection-of-bacteria-in-water-using-Yolo-images\\Detect\\Detection-of-bacteria-in-water-using-Yolo-images\\temp\\images/train\\EMDS7-G001-004-0400.png\n",
      "Processed Image saved to: D:\\KULIAH\\SEMESTER 5\\RSBP\\Bacteri\\Detection-of-bacteria-in-water-using-Yolo-images\\Detect\\Detection-of-bacteria-in-water-using-Yolo-images\\temp\\images/train\\EMDS7-G005-009-0400.png\n",
      "Processed Image saved to: D:\\KULIAH\\SEMESTER 5\\RSBP\\Bacteri\\Detection-of-bacteria-in-water-using-Yolo-images\\Detect\\Detection-of-bacteria-in-water-using-Yolo-images\\temp\\images/train\\EMDS7-G023-037-0400.png\n",
      "Processed Image saved to: D:\\KULIAH\\SEMESTER 5\\RSBP\\Bacteri\\Detection-of-bacteria-in-water-using-Yolo-images\\Detect\\Detection-of-bacteria-in-water-using-Yolo-images\\temp\\images/train\\EMDS7-G018-016-0400.png\n",
      "Processed Image saved to: D:\\KULIAH\\SEMESTER 5\\RSBP\\Bacteri\\Detection-of-bacteria-in-water-using-Yolo-images\\Detect\\Detection-of-bacteria-in-water-using-Yolo-images\\temp\\images/train\\EMDS7-G022-018-0400.png\n",
      "Processed Image saved to: D:\\KULIAH\\SEMESTER 5\\RSBP\\Bacteri\\Detection-of-bacteria-in-water-using-Yolo-images\\Detect\\Detection-of-bacteria-in-water-using-Yolo-images\\temp\\images/train\\EMDS7-G014-019-0400.png\n",
      "Processed Image saved to: D:\\KULIAH\\SEMESTER 5\\RSBP\\Bacteri\\Detection-of-bacteria-in-water-using-Yolo-images\\Detect\\Detection-of-bacteria-in-water-using-Yolo-images\\temp\\images/train\\EMDS7-G010-005-0400.png\n",
      "Processed Image saved to: D:\\KULIAH\\SEMESTER 5\\RSBP\\Bacteri\\Detection-of-bacteria-in-water-using-Yolo-images\\Detect\\Detection-of-bacteria-in-water-using-Yolo-images\\temp\\images/train\\EMDS7-G022-243-0400.png\n",
      "Processed Image saved to: D:\\KULIAH\\SEMESTER 5\\RSBP\\Bacteri\\Detection-of-bacteria-in-water-using-Yolo-images\\Detect\\Detection-of-bacteria-in-water-using-Yolo-images\\temp\\images/train\\EMDS7-G030-030-0400.png\n",
      "Processed Image saved to: D:\\KULIAH\\SEMESTER 5\\RSBP\\Bacteri\\Detection-of-bacteria-in-water-using-Yolo-images\\Detect\\Detection-of-bacteria-in-water-using-Yolo-images\\temp\\images/train\\EMDS7-G022-086-0400.png\n",
      "Processed Image saved to: D:\\KULIAH\\SEMESTER 5\\RSBP\\Bacteri\\Detection-of-bacteria-in-water-using-Yolo-images\\Detect\\Detection-of-bacteria-in-water-using-Yolo-images\\temp\\images/train\\EMDS7-G028-063-0400.png\n",
      "Processed Image saved to: D:\\KULIAH\\SEMESTER 5\\RSBP\\Bacteri\\Detection-of-bacteria-in-water-using-Yolo-images\\Detect\\Detection-of-bacteria-in-water-using-Yolo-images\\temp\\images/train\\EMDS7-G039-017-0400.png\n",
      "Processed Image saved to: D:\\KULIAH\\SEMESTER 5\\RSBP\\Bacteri\\Detection-of-bacteria-in-water-using-Yolo-images\\Detect\\Detection-of-bacteria-in-water-using-Yolo-images\\temp\\images/train\\EMDS7-G040-002-0400.png\n",
      "Processed Image saved to: D:\\KULIAH\\SEMESTER 5\\RSBP\\Bacteri\\Detection-of-bacteria-in-water-using-Yolo-images\\Detect\\Detection-of-bacteria-in-water-using-Yolo-images\\temp\\images/train\\EMDS7-G022-012-0400.png\n",
      "Processed Image saved to: D:\\KULIAH\\SEMESTER 5\\RSBP\\Bacteri\\Detection-of-bacteria-in-water-using-Yolo-images\\Detect\\Detection-of-bacteria-in-water-using-Yolo-images\\temp\\images/train\\EMDS7-G035-034-0400.png\n",
      "Processed Image saved to: D:\\KULIAH\\SEMESTER 5\\RSBP\\Bacteri\\Detection-of-bacteria-in-water-using-Yolo-images\\Detect\\Detection-of-bacteria-in-water-using-Yolo-images\\temp\\images/train\\EMDS7-G028-072-0400.png\n",
      "Processed Image saved to: D:\\KULIAH\\SEMESTER 5\\RSBP\\Bacteri\\Detection-of-bacteria-in-water-using-Yolo-images\\Detect\\Detection-of-bacteria-in-water-using-Yolo-images\\temp\\images/train\\EMDS7-G022-093-0400.png\n",
      "Processed Image saved to: D:\\KULIAH\\SEMESTER 5\\RSBP\\Bacteri\\Detection-of-bacteria-in-water-using-Yolo-images\\Detect\\Detection-of-bacteria-in-water-using-Yolo-images\\temp\\images/train\\EMDS7-G003-019-0400.png\n",
      "Processed Image saved to: D:\\KULIAH\\SEMESTER 5\\RSBP\\Bacteri\\Detection-of-bacteria-in-water-using-Yolo-images\\Detect\\Detection-of-bacteria-in-water-using-Yolo-images\\temp\\images/train\\EMDS7-G025-073-0400.png\n",
      "Processed Image saved to: D:\\KULIAH\\SEMESTER 5\\RSBP\\Bacteri\\Detection-of-bacteria-in-water-using-Yolo-images\\Detect\\Detection-of-bacteria-in-water-using-Yolo-images\\temp\\images/train\\EMDS7-G028-054-0400.png\n",
      "Processed Image saved to: D:\\KULIAH\\SEMESTER 5\\RSBP\\Bacteri\\Detection-of-bacteria-in-water-using-Yolo-images\\Detect\\Detection-of-bacteria-in-water-using-Yolo-images\\temp\\images/train\\EMDS7-G024-002-0400.png\n",
      "Processed Image saved to: D:\\KULIAH\\SEMESTER 5\\RSBP\\Bacteri\\Detection-of-bacteria-in-water-using-Yolo-images\\Detect\\Detection-of-bacteria-in-water-using-Yolo-images\\temp\\images/train\\EMDS7-G034-002-0400.png\n",
      "Processed Image saved to: D:\\KULIAH\\SEMESTER 5\\RSBP\\Bacteri\\Detection-of-bacteria-in-water-using-Yolo-images\\Detect\\Detection-of-bacteria-in-water-using-Yolo-images\\temp\\images/train\\EMDS7-G025-017-0400.png\n",
      "Processed Image saved to: D:\\KULIAH\\SEMESTER 5\\RSBP\\Bacteri\\Detection-of-bacteria-in-water-using-Yolo-images\\Detect\\Detection-of-bacteria-in-water-using-Yolo-images\\temp\\images/train\\EMDS7-G006-007-0400.png\n",
      "Processed Image saved to: D:\\KULIAH\\SEMESTER 5\\RSBP\\Bacteri\\Detection-of-bacteria-in-water-using-Yolo-images\\Detect\\Detection-of-bacteria-in-water-using-Yolo-images\\temp\\images/train\\EMDS7-G032-029-0400.png\n",
      "Processed Image saved to: D:\\KULIAH\\SEMESTER 5\\RSBP\\Bacteri\\Detection-of-bacteria-in-water-using-Yolo-images\\Detect\\Detection-of-bacteria-in-water-using-Yolo-images\\temp\\images/train\\EMDS7-G008-032-0400.png\n",
      "Processed Image saved to: D:\\KULIAH\\SEMESTER 5\\RSBP\\Bacteri\\Detection-of-bacteria-in-water-using-Yolo-images\\Detect\\Detection-of-bacteria-in-water-using-Yolo-images\\temp\\images/train\\EMDS7-G028-051-0400.png\n",
      "Processed Image saved to: D:\\KULIAH\\SEMESTER 5\\RSBP\\Bacteri\\Detection-of-bacteria-in-water-using-Yolo-images\\Detect\\Detection-of-bacteria-in-water-using-Yolo-images\\temp\\images/train\\EMDS7-G004-082-0400.png\n",
      "Processed Image saved to: D:\\KULIAH\\SEMESTER 5\\RSBP\\Bacteri\\Detection-of-bacteria-in-water-using-Yolo-images\\Detect\\Detection-of-bacteria-in-water-using-Yolo-images\\temp\\images/train\\EMDS7-G017-042-0400.png\n",
      "Processed Image saved to: D:\\KULIAH\\SEMESTER 5\\RSBP\\Bacteri\\Detection-of-bacteria-in-water-using-Yolo-images\\Detect\\Detection-of-bacteria-in-water-using-Yolo-images\\temp\\images/train\\EMDS7-G003-090-0400.png\n",
      "Processed Image saved to: D:\\KULIAH\\SEMESTER 5\\RSBP\\Bacteri\\Detection-of-bacteria-in-water-using-Yolo-images\\Detect\\Detection-of-bacteria-in-water-using-Yolo-images\\temp\\images/train\\EMDS7-G037-004-0400.png\n",
      "Processed Image saved to: D:\\KULIAH\\SEMESTER 5\\RSBP\\Bacteri\\Detection-of-bacteria-in-water-using-Yolo-images\\Detect\\Detection-of-bacteria-in-water-using-Yolo-images\\temp\\images/train\\EMDS7-G018-017-0400.png\n",
      "Processed Image saved to: D:\\KULIAH\\SEMESTER 5\\RSBP\\Bacteri\\Detection-of-bacteria-in-water-using-Yolo-images\\Detect\\Detection-of-bacteria-in-water-using-Yolo-images\\temp\\images/train\\EMDS7-G039-014-0400.png\n",
      "Processed Image saved to: D:\\KULIAH\\SEMESTER 5\\RSBP\\Bacteri\\Detection-of-bacteria-in-water-using-Yolo-images\\Detect\\Detection-of-bacteria-in-water-using-Yolo-images\\temp\\images/train\\EMDS7-G014-041-0400.png\n",
      "Processed Image saved to: D:\\KULIAH\\SEMESTER 5\\RSBP\\Bacteri\\Detection-of-bacteria-in-water-using-Yolo-images\\Detect\\Detection-of-bacteria-in-water-using-Yolo-images\\temp\\images/train\\EMDS7-G017-062-0400.png\n",
      "Processed Image saved to: D:\\KULIAH\\SEMESTER 5\\RSBP\\Bacteri\\Detection-of-bacteria-in-water-using-Yolo-images\\Detect\\Detection-of-bacteria-in-water-using-Yolo-images\\temp\\images/train\\EMDS7-G014-054-0400.png\n",
      "Processed Image saved to: D:\\KULIAH\\SEMESTER 5\\RSBP\\Bacteri\\Detection-of-bacteria-in-water-using-Yolo-images\\Detect\\Detection-of-bacteria-in-water-using-Yolo-images\\temp\\images/train\\EMDS7-G022-233-0400.png\n",
      "Processed Image saved to: D:\\KULIAH\\SEMESTER 5\\RSBP\\Bacteri\\Detection-of-bacteria-in-water-using-Yolo-images\\Detect\\Detection-of-bacteria-in-water-using-Yolo-images\\temp\\images/train\\EMDS7-G025-011-0400.png\n",
      "Processed Image saved to: D:\\KULIAH\\SEMESTER 5\\RSBP\\Bacteri\\Detection-of-bacteria-in-water-using-Yolo-images\\Detect\\Detection-of-bacteria-in-water-using-Yolo-images\\temp\\images/train\\EMDS7-G040-010-0400.png\n",
      "Processed Image saved to: D:\\KULIAH\\SEMESTER 5\\RSBP\\Bacteri\\Detection-of-bacteria-in-water-using-Yolo-images\\Detect\\Detection-of-bacteria-in-water-using-Yolo-images\\temp\\images/train\\EMDS7-G009-064-0400.png\n",
      "Processed Image saved to: D:\\KULIAH\\SEMESTER 5\\RSBP\\Bacteri\\Detection-of-bacteria-in-water-using-Yolo-images\\Detect\\Detection-of-bacteria-in-water-using-Yolo-images\\temp\\images/train\\EMDS7-G035-006-0400.png\n",
      "Processed Image saved to: D:\\KULIAH\\SEMESTER 5\\RSBP\\Bacteri\\Detection-of-bacteria-in-water-using-Yolo-images\\Detect\\Detection-of-bacteria-in-water-using-Yolo-images\\temp\\images/train\\EMDS7-G030-011-0400.png\n",
      "Processed Image saved to: D:\\KULIAH\\SEMESTER 5\\RSBP\\Bacteri\\Detection-of-bacteria-in-water-using-Yolo-images\\Detect\\Detection-of-bacteria-in-water-using-Yolo-images\\temp\\images/train\\EMDS7-G003-109-0400.png\n",
      "Processed Image saved to: D:\\KULIAH\\SEMESTER 5\\RSBP\\Bacteri\\Detection-of-bacteria-in-water-using-Yolo-images\\Detect\\Detection-of-bacteria-in-water-using-Yolo-images\\temp\\images/train\\EMDS7-G011-003-0400.png\n",
      "Processed Image saved to: D:\\KULIAH\\SEMESTER 5\\RSBP\\Bacteri\\Detection-of-bacteria-in-water-using-Yolo-images\\Detect\\Detection-of-bacteria-in-water-using-Yolo-images\\temp\\images/train\\EMDS7-G004-051-0400.png\n",
      "Processed Image saved to: D:\\KULIAH\\SEMESTER 5\\RSBP\\Bacteri\\Detection-of-bacteria-in-water-using-Yolo-images\\Detect\\Detection-of-bacteria-in-water-using-Yolo-images\\temp\\images/train\\EMDS7-G012-039-0400.png\n",
      "Processed Image saved to: D:\\KULIAH\\SEMESTER 5\\RSBP\\Bacteri\\Detection-of-bacteria-in-water-using-Yolo-images\\Detect\\Detection-of-bacteria-in-water-using-Yolo-images\\temp\\images/train\\EMDS7-G012-085-0400.png\n",
      "Processed Image saved to: D:\\KULIAH\\SEMESTER 5\\RSBP\\Bacteri\\Detection-of-bacteria-in-water-using-Yolo-images\\Detect\\Detection-of-bacteria-in-water-using-Yolo-images\\temp\\images/train\\EMDS7-G017-074-0400.png\n",
      "Processed Image saved to: D:\\KULIAH\\SEMESTER 5\\RSBP\\Bacteri\\Detection-of-bacteria-in-water-using-Yolo-images\\Detect\\Detection-of-bacteria-in-water-using-Yolo-images\\temp\\images/train\\EMDS7-G039-066-0400.png\n",
      "Processed Image saved to: D:\\KULIAH\\SEMESTER 5\\RSBP\\Bacteri\\Detection-of-bacteria-in-water-using-Yolo-images\\Detect\\Detection-of-bacteria-in-water-using-Yolo-images\\temp\\images/train\\EMDS7-G039-049-0400.png\n",
      "Processed Image saved to: D:\\KULIAH\\SEMESTER 5\\RSBP\\Bacteri\\Detection-of-bacteria-in-water-using-Yolo-images\\Detect\\Detection-of-bacteria-in-water-using-Yolo-images\\temp\\images/train\\EMDS7-G011-010-0400.png\n",
      "Processed Image saved to: D:\\KULIAH\\SEMESTER 5\\RSBP\\Bacteri\\Detection-of-bacteria-in-water-using-Yolo-images\\Detect\\Detection-of-bacteria-in-water-using-Yolo-images\\temp\\images/train\\EMDS7-G003-101-0400.png\n",
      "Processed Image saved to: D:\\KULIAH\\SEMESTER 5\\RSBP\\Bacteri\\Detection-of-bacteria-in-water-using-Yolo-images\\Detect\\Detection-of-bacteria-in-water-using-Yolo-images\\temp\\images/train\\EMDS7-G018-028-0400.png\n",
      "Processed Image saved to: D:\\KULIAH\\SEMESTER 5\\RSBP\\Bacteri\\Detection-of-bacteria-in-water-using-Yolo-images\\Detect\\Detection-of-bacteria-in-water-using-Yolo-images\\temp\\images/train\\EMDS7-G011-008-0400.png\n",
      "Processed Image saved to: D:\\KULIAH\\SEMESTER 5\\RSBP\\Bacteri\\Detection-of-bacteria-in-water-using-Yolo-images\\Detect\\Detection-of-bacteria-in-water-using-Yolo-images\\temp\\images/train\\EMDS7-G039-085-0400.png\n",
      "Processed Image saved to: D:\\KULIAH\\SEMESTER 5\\RSBP\\Bacteri\\Detection-of-bacteria-in-water-using-Yolo-images\\Detect\\Detection-of-bacteria-in-water-using-Yolo-images\\temp\\images/train\\EMDS7-G001-031-0400.png\n",
      "Processed Image saved to: D:\\KULIAH\\SEMESTER 5\\RSBP\\Bacteri\\Detection-of-bacteria-in-water-using-Yolo-images\\Detect\\Detection-of-bacteria-in-water-using-Yolo-images\\temp\\images/train\\EMDS7-G011-034-0400.png\n",
      "Processed Image saved to: D:\\KULIAH\\SEMESTER 5\\RSBP\\Bacteri\\Detection-of-bacteria-in-water-using-Yolo-images\\Detect\\Detection-of-bacteria-in-water-using-Yolo-images\\temp\\images/train\\EMDS7-G001-040-0400.png\n",
      "Processed Image saved to: D:\\KULIAH\\SEMESTER 5\\RSBP\\Bacteri\\Detection-of-bacteria-in-water-using-Yolo-images\\Detect\\Detection-of-bacteria-in-water-using-Yolo-images\\temp\\images/train\\EMDS7-G017-030-0400.png\n",
      "Processed Image saved to: D:\\KULIAH\\SEMESTER 5\\RSBP\\Bacteri\\Detection-of-bacteria-in-water-using-Yolo-images\\Detect\\Detection-of-bacteria-in-water-using-Yolo-images\\temp\\images/train\\EMDS7-G012-049-0400.png\n",
      "Processed Image saved to: D:\\KULIAH\\SEMESTER 5\\RSBP\\Bacteri\\Detection-of-bacteria-in-water-using-Yolo-images\\Detect\\Detection-of-bacteria-in-water-using-Yolo-images\\temp\\images/train\\EMDS7-G004-008-0400.png\n",
      "Processed Image saved to: D:\\KULIAH\\SEMESTER 5\\RSBP\\Bacteri\\Detection-of-bacteria-in-water-using-Yolo-images\\Detect\\Detection-of-bacteria-in-water-using-Yolo-images\\temp\\images/train\\EMDS7-G015-015-0400.png\n",
      "Processed Image saved to: D:\\KULIAH\\SEMESTER 5\\RSBP\\Bacteri\\Detection-of-bacteria-in-water-using-Yolo-images\\Detect\\Detection-of-bacteria-in-water-using-Yolo-images\\temp\\images/train\\EMDS7-G016-014-0400.png\n",
      "Processed Image saved to: D:\\KULIAH\\SEMESTER 5\\RSBP\\Bacteri\\Detection-of-bacteria-in-water-using-Yolo-images\\Detect\\Detection-of-bacteria-in-water-using-Yolo-images\\temp\\images/train\\EMDS7-G018-036-0400.png\n",
      "Processed Image saved to: D:\\KULIAH\\SEMESTER 5\\RSBP\\Bacteri\\Detection-of-bacteria-in-water-using-Yolo-images\\Detect\\Detection-of-bacteria-in-water-using-Yolo-images\\temp\\images/train\\EMDS7-G035-005-0400.png\n",
      "Processed Image saved to: D:\\KULIAH\\SEMESTER 5\\RSBP\\Bacteri\\Detection-of-bacteria-in-water-using-Yolo-images\\Detect\\Detection-of-bacteria-in-water-using-Yolo-images\\temp\\images/train\\EMDS7-G022-094-0400.png\n",
      "Processed Image saved to: D:\\KULIAH\\SEMESTER 5\\RSBP\\Bacteri\\Detection-of-bacteria-in-water-using-Yolo-images\\Detect\\Detection-of-bacteria-in-water-using-Yolo-images\\temp\\images/train\\EMDS7-G022-146-0400.png\n",
      "Processed Image saved to: D:\\KULIAH\\SEMESTER 5\\RSBP\\Bacteri\\Detection-of-bacteria-in-water-using-Yolo-images\\Detect\\Detection-of-bacteria-in-water-using-Yolo-images\\temp\\images/train\\EMDS7-G001-023-0400.png\n",
      "Processed Image saved to: D:\\KULIAH\\SEMESTER 5\\RSBP\\Bacteri\\Detection-of-bacteria-in-water-using-Yolo-images\\Detect\\Detection-of-bacteria-in-water-using-Yolo-images\\temp\\images/train\\EMDS7-G023-011-0400.png\n",
      "Processed Image saved to: D:\\KULIAH\\SEMESTER 5\\RSBP\\Bacteri\\Detection-of-bacteria-in-water-using-Yolo-images\\Detect\\Detection-of-bacteria-in-water-using-Yolo-images\\temp\\images/train\\EMDS7-G032-008-0400.png\n",
      "Processed Image saved to: D:\\KULIAH\\SEMESTER 5\\RSBP\\Bacteri\\Detection-of-bacteria-in-water-using-Yolo-images\\Detect\\Detection-of-bacteria-in-water-using-Yolo-images\\temp\\images/train\\EMDS7-G007-010-0400.png\n",
      "Processed Image saved to: D:\\KULIAH\\SEMESTER 5\\RSBP\\Bacteri\\Detection-of-bacteria-in-water-using-Yolo-images\\Detect\\Detection-of-bacteria-in-water-using-Yolo-images\\temp\\images/train\\EMDS7-G009-053-0400.png\n",
      "Processed Image saved to: D:\\KULIAH\\SEMESTER 5\\RSBP\\Bacteri\\Detection-of-bacteria-in-water-using-Yolo-images\\Detect\\Detection-of-bacteria-in-water-using-Yolo-images\\temp\\images/train\\EMDS7-G003-170-0400.png\n",
      "Processed Image saved to: D:\\KULIAH\\SEMESTER 5\\RSBP\\Bacteri\\Detection-of-bacteria-in-water-using-Yolo-images\\Detect\\Detection-of-bacteria-in-water-using-Yolo-images\\temp\\images/train\\EMDS7-G035-020-0400.png\n",
      "Processed Image saved to: D:\\KULIAH\\SEMESTER 5\\RSBP\\Bacteri\\Detection-of-bacteria-in-water-using-Yolo-images\\Detect\\Detection-of-bacteria-in-water-using-Yolo-images\\temp\\images/train\\EMDS7-G024-014-0400.png\n",
      "Processed Image saved to: D:\\KULIAH\\SEMESTER 5\\RSBP\\Bacteri\\Detection-of-bacteria-in-water-using-Yolo-images\\Detect\\Detection-of-bacteria-in-water-using-Yolo-images\\temp\\images/train\\EMDS7-G022-262-0400.png\n",
      "Processed Image saved to: D:\\KULIAH\\SEMESTER 5\\RSBP\\Bacteri\\Detection-of-bacteria-in-water-using-Yolo-images\\Detect\\Detection-of-bacteria-in-water-using-Yolo-images\\temp\\images/train\\EMDS7-G034-005-0400.png\n",
      "Processed Image saved to: D:\\KULIAH\\SEMESTER 5\\RSBP\\Bacteri\\Detection-of-bacteria-in-water-using-Yolo-images\\Detect\\Detection-of-bacteria-in-water-using-Yolo-images\\temp\\images/train\\EMDS7-G028-018-0400.png\n",
      "Processed Image saved to: D:\\KULIAH\\SEMESTER 5\\RSBP\\Bacteri\\Detection-of-bacteria-in-water-using-Yolo-images\\Detect\\Detection-of-bacteria-in-water-using-Yolo-images\\temp\\images/train\\EMDS7-G035-001-0400.png\n",
      "Processed Image saved to: D:\\KULIAH\\SEMESTER 5\\RSBP\\Bacteri\\Detection-of-bacteria-in-water-using-Yolo-images\\Detect\\Detection-of-bacteria-in-water-using-Yolo-images\\temp\\images/train\\EMDS7-G006-013-0400.png\n",
      "Processed Image saved to: D:\\KULIAH\\SEMESTER 5\\RSBP\\Bacteri\\Detection-of-bacteria-in-water-using-Yolo-images\\Detect\\Detection-of-bacteria-in-water-using-Yolo-images\\temp\\images/train\\EMDS7-G014-075-0400.png\n",
      "Processed Image saved to: D:\\KULIAH\\SEMESTER 5\\RSBP\\Bacteri\\Detection-of-bacteria-in-water-using-Yolo-images\\Detect\\Detection-of-bacteria-in-water-using-Yolo-images\\temp\\images/train\\EMDS7-G005-036-0400.png\n",
      "Processed Image saved to: D:\\KULIAH\\SEMESTER 5\\RSBP\\Bacteri\\Detection-of-bacteria-in-water-using-Yolo-images\\Detect\\Detection-of-bacteria-in-water-using-Yolo-images\\temp\\images/train\\EMDS7-G022-198-0400.png\n",
      "Processed Image saved to: D:\\KULIAH\\SEMESTER 5\\RSBP\\Bacteri\\Detection-of-bacteria-in-water-using-Yolo-images\\Detect\\Detection-of-bacteria-in-water-using-Yolo-images\\temp\\images/train\\EMDS7-G012-052-0400.png\n",
      "Processed Image saved to: D:\\KULIAH\\SEMESTER 5\\RSBP\\Bacteri\\Detection-of-bacteria-in-water-using-Yolo-images\\Detect\\Detection-of-bacteria-in-water-using-Yolo-images\\temp\\images/train\\EMDS7-G020-027-0400.png\n",
      "Processed Image saved to: D:\\KULIAH\\SEMESTER 5\\RSBP\\Bacteri\\Detection-of-bacteria-in-water-using-Yolo-images\\Detect\\Detection-of-bacteria-in-water-using-Yolo-images\\temp\\images/train\\EMDS7-G020-014-0400.png\n",
      "Processed Image saved to: D:\\KULIAH\\SEMESTER 5\\RSBP\\Bacteri\\Detection-of-bacteria-in-water-using-Yolo-images\\Detect\\Detection-of-bacteria-in-water-using-Yolo-images\\temp\\images/train\\EMDS7-G022-080-0400.png\n",
      "Processed Image saved to: D:\\KULIAH\\SEMESTER 5\\RSBP\\Bacteri\\Detection-of-bacteria-in-water-using-Yolo-images\\Detect\\Detection-of-bacteria-in-water-using-Yolo-images\\temp\\images/train\\EMDS7-G022-259-0400.png\n",
      "Processed Image saved to: D:\\KULIAH\\SEMESTER 5\\RSBP\\Bacteri\\Detection-of-bacteria-in-water-using-Yolo-images\\Detect\\Detection-of-bacteria-in-water-using-Yolo-images\\temp\\images/train\\EMDS7-G026-005-0400.png\n",
      "Processed Image saved to: D:\\KULIAH\\SEMESTER 5\\RSBP\\Bacteri\\Detection-of-bacteria-in-water-using-Yolo-images\\Detect\\Detection-of-bacteria-in-water-using-Yolo-images\\temp\\images/train\\EMDS7-G019-019-0400.png\n",
      "Processed Image saved to: D:\\KULIAH\\SEMESTER 5\\RSBP\\Bacteri\\Detection-of-bacteria-in-water-using-Yolo-images\\Detect\\Detection-of-bacteria-in-water-using-Yolo-images\\temp\\images/train\\EMDS7-G038-010-0400.png\n",
      "Processed Image saved to: D:\\KULIAH\\SEMESTER 5\\RSBP\\Bacteri\\Detection-of-bacteria-in-water-using-Yolo-images\\Detect\\Detection-of-bacteria-in-water-using-Yolo-images\\temp\\images/train\\EMDS7-G023-050-0400.png\n",
      "Processed Image saved to: D:\\KULIAH\\SEMESTER 5\\RSBP\\Bacteri\\Detection-of-bacteria-in-water-using-Yolo-images\\Detect\\Detection-of-bacteria-in-water-using-Yolo-images\\temp\\images/train\\EMDS7-G032-076-0400.png\n",
      "Processed Image saved to: D:\\KULIAH\\SEMESTER 5\\RSBP\\Bacteri\\Detection-of-bacteria-in-water-using-Yolo-images\\Detect\\Detection-of-bacteria-in-water-using-Yolo-images\\temp\\images/train\\EMDS7-G018-004-0400.png\n",
      "Processed Image saved to: D:\\KULIAH\\SEMESTER 5\\RSBP\\Bacteri\\Detection-of-bacteria-in-water-using-Yolo-images\\Detect\\Detection-of-bacteria-in-water-using-Yolo-images\\temp\\images/train\\EMDS7-G003-292-0400.png\n",
      "Processed Image saved to: D:\\KULIAH\\SEMESTER 5\\RSBP\\Bacteri\\Detection-of-bacteria-in-water-using-Yolo-images\\Detect\\Detection-of-bacteria-in-water-using-Yolo-images\\temp\\images/train\\EMDS7-G022-160-0400.png\n",
      "Processed Image saved to: D:\\KULIAH\\SEMESTER 5\\RSBP\\Bacteri\\Detection-of-bacteria-in-water-using-Yolo-images\\Detect\\Detection-of-bacteria-in-water-using-Yolo-images\\temp\\images/train\\EMDS7-G039-008-0400.png\n",
      "Processed Image saved to: D:\\KULIAH\\SEMESTER 5\\RSBP\\Bacteri\\Detection-of-bacteria-in-water-using-Yolo-images\\Detect\\Detection-of-bacteria-in-water-using-Yolo-images\\temp\\images/train\\EMDS7-G003-035-0400.png\n",
      "Processed Image saved to: D:\\KULIAH\\SEMESTER 5\\RSBP\\Bacteri\\Detection-of-bacteria-in-water-using-Yolo-images\\Detect\\Detection-of-bacteria-in-water-using-Yolo-images\\temp\\images/train\\EMDS7-G003-168-0400.png\n",
      "Processed Image saved to: D:\\KULIAH\\SEMESTER 5\\RSBP\\Bacteri\\Detection-of-bacteria-in-water-using-Yolo-images\\Detect\\Detection-of-bacteria-in-water-using-Yolo-images\\temp\\images/train\\EMDS7-G003-202-0400.png\n",
      "Processed Image saved to: D:\\KULIAH\\SEMESTER 5\\RSBP\\Bacteri\\Detection-of-bacteria-in-water-using-Yolo-images\\Detect\\Detection-of-bacteria-in-water-using-Yolo-images\\temp\\images/train\\EMDS7-G032-049-0400.png\n",
      "Processed Image saved to: D:\\KULIAH\\SEMESTER 5\\RSBP\\Bacteri\\Detection-of-bacteria-in-water-using-Yolo-images\\Detect\\Detection-of-bacteria-in-water-using-Yolo-images\\temp\\images/train\\EMDS7-G014-026-0400.png\n",
      "Processed Image saved to: D:\\KULIAH\\SEMESTER 5\\RSBP\\Bacteri\\Detection-of-bacteria-in-water-using-Yolo-images\\Detect\\Detection-of-bacteria-in-water-using-Yolo-images\\temp\\images/train\\EMDS7-G022-139-0400.png\n",
      "Processed Image saved to: D:\\KULIAH\\SEMESTER 5\\RSBP\\Bacteri\\Detection-of-bacteria-in-water-using-Yolo-images\\Detect\\Detection-of-bacteria-in-water-using-Yolo-images\\temp\\images/train\\EMDS7-G022-143-0400.pngProcessed Image saved to: D:\\KULIAH\\SEMESTER 5\\RSBP\\Bacteri\\Detection-of-bacteria-in-water-using-Yolo-images\\Detect\\Detection-of-bacteria-in-water-using-Yolo-images\\temp\\images/train\\EMDS7-G004-054-0400.png\n",
      "\n",
      "Processed Image saved to: D:\\KULIAH\\SEMESTER 5\\RSBP\\Bacteri\\Detection-of-bacteria-in-water-using-Yolo-images\\Detect\\Detection-of-bacteria-in-water-using-Yolo-images\\temp\\images/train\\EMDS7-G004-042-0400.png\n",
      "Processed Image saved to: D:\\KULIAH\\SEMESTER 5\\RSBP\\Bacteri\\Detection-of-bacteria-in-water-using-Yolo-images\\Detect\\Detection-of-bacteria-in-water-using-Yolo-images\\temp\\images/train\\EMDS7-G019-009-0400.png\n",
      "Processed Image saved to: D:\\KULIAH\\SEMESTER 5\\RSBP\\Bacteri\\Detection-of-bacteria-in-water-using-Yolo-images\\Detect\\Detection-of-bacteria-in-water-using-Yolo-images\\temp\\images/train\\EMDS7-G036-018-0400.png\n",
      "Processed Image saved to: D:\\KULIAH\\SEMESTER 5\\RSBP\\Bacteri\\Detection-of-bacteria-in-water-using-Yolo-images\\Detect\\Detection-of-bacteria-in-water-using-Yolo-images\\temp\\images/train\\EMDS7-G011-063-0400.png\n",
      "Processed Image saved to: D:\\KULIAH\\SEMESTER 5\\RSBP\\Bacteri\\Detection-of-bacteria-in-water-using-Yolo-images\\Detect\\Detection-of-bacteria-in-water-using-Yolo-images\\temp\\images/train\\EMDS7-G039-079-0400.png\n",
      "Processed Image saved to: D:\\KULIAH\\SEMESTER 5\\RSBP\\Bacteri\\Detection-of-bacteria-in-water-using-Yolo-images\\Detect\\Detection-of-bacteria-in-water-using-Yolo-images\\temp\\images/train\\EMDS7-G036-064-0400.png\n",
      "Processed Image saved to: D:\\KULIAH\\SEMESTER 5\\RSBP\\Bacteri\\Detection-of-bacteria-in-water-using-Yolo-images\\Detect\\Detection-of-bacteria-in-water-using-Yolo-images\\temp\\images/train\\EMDS7-G004-049-0400.png\n",
      "Processed Image saved to: D:\\KULIAH\\SEMESTER 5\\RSBP\\Bacteri\\Detection-of-bacteria-in-water-using-Yolo-images\\Detect\\Detection-of-bacteria-in-water-using-Yolo-images\\temp\\images/train\\EMDS7-G039-006-0400.png\n",
      "Processed Image saved to: D:\\KULIAH\\SEMESTER 5\\RSBP\\Bacteri\\Detection-of-bacteria-in-water-using-Yolo-images\\Detect\\Detection-of-bacteria-in-water-using-Yolo-images\\temp\\images/train\\EMDS7-G003-192-0400.png\n",
      "Processed Image saved to: D:\\KULIAH\\SEMESTER 5\\RSBP\\Bacteri\\Detection-of-bacteria-in-water-using-Yolo-images\\Detect\\Detection-of-bacteria-in-water-using-Yolo-images\\temp\\images/train\\EMDS7-G003-104-0400.png\n",
      "Processed Image saved to: D:\\KULIAH\\SEMESTER 5\\RSBP\\Bacteri\\Detection-of-bacteria-in-water-using-Yolo-images\\Detect\\Detection-of-bacteria-in-water-using-Yolo-images\\temp\\images/train\\EMDS7-G040-018-0400.png\n",
      "Processed Image saved to: D:\\KULIAH\\SEMESTER 5\\RSBP\\Bacteri\\Detection-of-bacteria-in-water-using-Yolo-images\\Detect\\Detection-of-bacteria-in-water-using-Yolo-images\\temp\\images/train\\EMDS7-G010-013-0400.png\n",
      "Processed Image saved to: D:\\KULIAH\\SEMESTER 5\\RSBP\\Bacteri\\Detection-of-bacteria-in-water-using-Yolo-images\\Detect\\Detection-of-bacteria-in-water-using-Yolo-images\\temp\\images/train\\EMDS7-G039-003-0400.png\n",
      "Processed Image saved to: D:\\KULIAH\\SEMESTER 5\\RSBP\\Bacteri\\Detection-of-bacteria-in-water-using-Yolo-images\\Detect\\Detection-of-bacteria-in-water-using-Yolo-images\\temp\\images/train\\EMDS7-G025-035-0400.png\n",
      "Processed Image saved to: D:\\KULIAH\\SEMESTER 5\\RSBP\\Bacteri\\Detection-of-bacteria-in-water-using-Yolo-images\\Detect\\Detection-of-bacteria-in-water-using-Yolo-images\\temp\\images/train\\EMDS7-G028-047-0400.png\n",
      "Processed Image saved to: D:\\KULIAH\\SEMESTER 5\\RSBP\\Bacteri\\Detection-of-bacteria-in-water-using-Yolo-images\\Detect\\Detection-of-bacteria-in-water-using-Yolo-images\\temp\\images/train\\EMDS7-G004-015-0400.png\n",
      "Processed Image saved to: D:\\KULIAH\\SEMESTER 5\\RSBP\\Bacteri\\Detection-of-bacteria-in-water-using-Yolo-images\\Detect\\Detection-of-bacteria-in-water-using-Yolo-images\\temp\\images/train\\EMDS7-G012-072-0400.png\n",
      "Processed Image saved to: D:\\KULIAH\\SEMESTER 5\\RSBP\\Bacteri\\Detection-of-bacteria-in-water-using-Yolo-images\\Detect\\Detection-of-bacteria-in-water-using-Yolo-images\\temp\\images/train\\EMDS7-G030-032-0400.png\n",
      "Processed Image saved to: D:\\KULIAH\\SEMESTER 5\\RSBP\\Bacteri\\Detection-of-bacteria-in-water-using-Yolo-images\\Detect\\Detection-of-bacteria-in-water-using-Yolo-images\\temp\\images/train\\EMDS7-G029-015-0400.png\n",
      "Processed Image saved to: D:\\KULIAH\\SEMESTER 5\\RSBP\\Bacteri\\Detection-of-bacteria-in-water-using-Yolo-images\\Detect\\Detection-of-bacteria-in-water-using-Yolo-images\\temp\\images/train\\EMDS7-G022-237-0400.png\n",
      "Processed Image saved to: D:\\KULIAH\\SEMESTER 5\\RSBP\\Bacteri\\Detection-of-bacteria-in-water-using-Yolo-images\\Detect\\Detection-of-bacteria-in-water-using-Yolo-images\\temp\\images/train\\EMDS7-G022-213-0400.png\n",
      "Processed Image saved to: D:\\KULIAH\\SEMESTER 5\\RSBP\\Bacteri\\Detection-of-bacteria-in-water-using-Yolo-images\\Detect\\Detection-of-bacteria-in-water-using-Yolo-images\\temp\\images/train\\EMDS7-G039-044-0400.png\n",
      "Processed Image saved to: D:\\KULIAH\\SEMESTER 5\\RSBP\\Bacteri\\Detection-of-bacteria-in-water-using-Yolo-images\\Detect\\Detection-of-bacteria-in-water-using-Yolo-images\\temp\\images/train\\EMDS7-G003-151-0400.png\n",
      "Processed Image saved to: D:\\KULIAH\\SEMESTER 5\\RSBP\\Bacteri\\Detection-of-bacteria-in-water-using-Yolo-images\\Detect\\Detection-of-bacteria-in-water-using-Yolo-images\\temp\\images/train\\EMDS7-G003-153-0400.png\n",
      "Processed Image saved to: D:\\KULIAH\\SEMESTER 5\\RSBP\\Bacteri\\Detection-of-bacteria-in-water-using-Yolo-images\\Detect\\Detection-of-bacteria-in-water-using-Yolo-images\\temp\\images/train\\EMDS7-G006-016-0400.png\n",
      "Processed Image saved to: D:\\KULIAH\\SEMESTER 5\\RSBP\\Bacteri\\Detection-of-bacteria-in-water-using-Yolo-images\\Detect\\Detection-of-bacteria-in-water-using-Yolo-images\\temp\\images/train\\EMDS7-G014-003-0400.png\n",
      "Processed Image saved to: D:\\KULIAH\\SEMESTER 5\\RSBP\\Bacteri\\Detection-of-bacteria-in-water-using-Yolo-images\\Detect\\Detection-of-bacteria-in-water-using-Yolo-images\\temp\\images/train\\EMDS7-G010-003-0400.png\n",
      "Processed Image saved to: D:\\KULIAH\\SEMESTER 5\\RSBP\\Bacteri\\Detection-of-bacteria-in-water-using-Yolo-images\\Detect\\Detection-of-bacteria-in-water-using-Yolo-images\\temp\\images/train\\EMDS7-G012-014-0400.png\n",
      "Processed Image saved to: D:\\KULIAH\\SEMESTER 5\\RSBP\\Bacteri\\Detection-of-bacteria-in-water-using-Yolo-images\\Detect\\Detection-of-bacteria-in-water-using-Yolo-images\\temp\\images/train\\EMDS7-G011-036-0400.png\n",
      "Processed Image saved to: D:\\KULIAH\\SEMESTER 5\\RSBP\\Bacteri\\Detection-of-bacteria-in-water-using-Yolo-images\\Detect\\Detection-of-bacteria-in-water-using-Yolo-images\\temp\\images/train\\EMDS7-G003-191-0400.png\n",
      "Processed Image saved to: D:\\KULIAH\\SEMESTER 5\\RSBP\\Bacteri\\Detection-of-bacteria-in-water-using-Yolo-images\\Detect\\Detection-of-bacteria-in-water-using-Yolo-images\\temp\\images/train\\EMDS7-G003-007-0400.png\n",
      "Processed Image saved to: D:\\KULIAH\\SEMESTER 5\\RSBP\\Bacteri\\Detection-of-bacteria-in-water-using-Yolo-images\\Detect\\Detection-of-bacteria-in-water-using-Yolo-images\\temp\\images/train\\EMDS7-G022-014-0400.png\n",
      "Processed Image saved to: D:\\KULIAH\\SEMESTER 5\\RSBP\\Bacteri\\Detection-of-bacteria-in-water-using-Yolo-images\\Detect\\Detection-of-bacteria-in-water-using-Yolo-images\\temp\\images/train\\EMDS7-G031-021-0400.png\n",
      "Processed Image saved to: D:\\KULIAH\\SEMESTER 5\\RSBP\\Bacteri\\Detection-of-bacteria-in-water-using-Yolo-images\\Detect\\Detection-of-bacteria-in-water-using-Yolo-images\\temp\\images/train\\EMDS7-G031-008-0400.png\n",
      "Processed Image saved to: D:\\KULIAH\\SEMESTER 5\\RSBP\\Bacteri\\Detection-of-bacteria-in-water-using-Yolo-images\\Detect\\Detection-of-bacteria-in-water-using-Yolo-images\\temp\\images/train\\EMDS7-G012-067-0400.png\n",
      "Processed Image saved to: D:\\KULIAH\\SEMESTER 5\\RSBP\\Bacteri\\Detection-of-bacteria-in-water-using-Yolo-images\\Detect\\Detection-of-bacteria-in-water-using-Yolo-images\\temp\\images/train\\EMDS7-G016-001-0400.png\n",
      "Processed Image saved to: D:\\KULIAH\\SEMESTER 5\\RSBP\\Bacteri\\Detection-of-bacteria-in-water-using-Yolo-images\\Detect\\Detection-of-bacteria-in-water-using-Yolo-images\\temp\\images/train\\EMDS7-G012-073-0400.png\n",
      "Processed Image saved to: D:\\KULIAH\\SEMESTER 5\\RSBP\\Bacteri\\Detection-of-bacteria-in-water-using-Yolo-images\\Detect\\Detection-of-bacteria-in-water-using-Yolo-images\\temp\\images/train\\EMDS7-G025-076-0400.png\n",
      "Processed Image saved to: D:\\KULIAH\\SEMESTER 5\\RSBP\\Bacteri\\Detection-of-bacteria-in-water-using-Yolo-images\\Detect\\Detection-of-bacteria-in-water-using-Yolo-images\\temp\\images/train\\EMDS7-G022-224-0400.png\n",
      "Processed Image saved to: D:\\KULIAH\\SEMESTER 5\\RSBP\\Bacteri\\Detection-of-bacteria-in-water-using-Yolo-images\\Detect\\Detection-of-bacteria-in-water-using-Yolo-images\\temp\\images/train\\EMDS7-G022-047-0400.png\n",
      "Processed Image saved to: D:\\KULIAH\\SEMESTER 5\\RSBP\\Bacteri\\Detection-of-bacteria-in-water-using-Yolo-images\\Detect\\Detection-of-bacteria-in-water-using-Yolo-images\\temp\\images/train\\EMDS7-G031-031-0400.png\n",
      "Processed Image saved to: D:\\KULIAH\\SEMESTER 5\\RSBP\\Bacteri\\Detection-of-bacteria-in-water-using-Yolo-images\\Detect\\Detection-of-bacteria-in-water-using-Yolo-images\\temp\\images/train\\EMDS7-G005-033-0400.png\n",
      "Processed Image saved to: D:\\KULIAH\\SEMESTER 5\\RSBP\\Bacteri\\Detection-of-bacteria-in-water-using-Yolo-images\\Detect\\Detection-of-bacteria-in-water-using-Yolo-images\\temp\\images/train\\EMDS7-G022-051-0400.png\n",
      "Processed Image saved to: D:\\KULIAH\\SEMESTER 5\\RSBP\\Bacteri\\Detection-of-bacteria-in-water-using-Yolo-images\\Detect\\Detection-of-bacteria-in-water-using-Yolo-images\\temp\\images/train\\EMDS7-G035-044-0400.png\n",
      "Processed Image saved to: D:\\KULIAH\\SEMESTER 5\\RSBP\\Bacteri\\Detection-of-bacteria-in-water-using-Yolo-images\\Detect\\Detection-of-bacteria-in-water-using-Yolo-images\\temp\\images/train\\EMDS7-G017-044-0400.png\n",
      "Processed Image saved to: D:\\KULIAH\\SEMESTER 5\\RSBP\\Bacteri\\Detection-of-bacteria-in-water-using-Yolo-images\\Detect\\Detection-of-bacteria-in-water-using-Yolo-images\\temp\\images/train\\EMDS7-G009-076-0400.png\n",
      "Processed Image saved to: D:\\KULIAH\\SEMESTER 5\\RSBP\\Bacteri\\Detection-of-bacteria-in-water-using-Yolo-images\\Detect\\Detection-of-bacteria-in-water-using-Yolo-images\\temp\\images/train\\EMDS7-G039-004-0400.png\n",
      "Processed Image saved to: D:\\KULIAH\\SEMESTER 5\\RSBP\\Bacteri\\Detection-of-bacteria-in-water-using-Yolo-images\\Detect\\Detection-of-bacteria-in-water-using-Yolo-images\\temp\\images/train\\EMDS7-G011-016-0400.png\n",
      "Processed Image saved to: D:\\KULIAH\\SEMESTER 5\\RSBP\\Bacteri\\Detection-of-bacteria-in-water-using-Yolo-images\\Detect\\Detection-of-bacteria-in-water-using-Yolo-images\\temp\\images/train\\EMDS7-G012-033-0400.png\n",
      "Processed Image saved to: D:\\KULIAH\\SEMESTER 5\\RSBP\\Bacteri\\Detection-of-bacteria-in-water-using-Yolo-images\\Detect\\Detection-of-bacteria-in-water-using-Yolo-images\\temp\\images/train\\EMDS7-G032-077-0400.png\n",
      "Processed Image saved to: D:\\KULIAH\\SEMESTER 5\\RSBP\\Bacteri\\Detection-of-bacteria-in-water-using-Yolo-images\\Detect\\Detection-of-bacteria-in-water-using-Yolo-images\\temp\\images/train\\EMDS7-G036-056-0400.png\n",
      "Processed Image saved to: D:\\KULIAH\\SEMESTER 5\\RSBP\\Bacteri\\Detection-of-bacteria-in-water-using-Yolo-images\\Detect\\Detection-of-bacteria-in-water-using-Yolo-images\\temp\\images/train\\EMDS7-G019-025-0400.png\n",
      "Processed Image saved to: D:\\KULIAH\\SEMESTER 5\\RSBP\\Bacteri\\Detection-of-bacteria-in-water-using-Yolo-images\\Detect\\Detection-of-bacteria-in-water-using-Yolo-images\\temp\\images/train\\EMDS7-G039-059-0400.png\n",
      "Processed Image saved to: D:\\KULIAH\\SEMESTER 5\\RSBP\\Bacteri\\Detection-of-bacteria-in-water-using-Yolo-images\\Detect\\Detection-of-bacteria-in-water-using-Yolo-images\\temp\\images/train\\EMDS7-G001-035-0400.png\n",
      "Processed Image saved to: D:\\KULIAH\\SEMESTER 5\\RSBP\\Bacteri\\Detection-of-bacteria-in-water-using-Yolo-images\\Detect\\Detection-of-bacteria-in-water-using-Yolo-images\\temp\\images/train\\EMDS7-G003-124-0400.png\n",
      "Processed Image saved to: D:\\KULIAH\\SEMESTER 5\\RSBP\\Bacteri\\Detection-of-bacteria-in-water-using-Yolo-images\\Detect\\Detection-of-bacteria-in-water-using-Yolo-images\\temp\\images/train\\EMDS7-G025-070-0400.png\n",
      "Processed Image saved to: D:\\KULIAH\\SEMESTER 5\\RSBP\\Bacteri\\Detection-of-bacteria-in-water-using-Yolo-images\\Detect\\Detection-of-bacteria-in-water-using-Yolo-images\\temp\\images/train\\EMDS7-G019-054-0400.png\n",
      "Processed Image saved to: D:\\KULIAH\\SEMESTER 5\\RSBP\\Bacteri\\Detection-of-bacteria-in-water-using-Yolo-images\\Detect\\Detection-of-bacteria-in-water-using-Yolo-images\\temp\\images/train\\EMDS7-G039-047-0400.png\n",
      "Processed Image saved to: D:\\KULIAH\\SEMESTER 5\\RSBP\\Bacteri\\Detection-of-bacteria-in-water-using-Yolo-images\\Detect\\Detection-of-bacteria-in-water-using-Yolo-images\\temp\\images/train\\EMDS7-G020-029-0400.png\n",
      "Processed Image saved to: D:\\KULIAH\\SEMESTER 5\\RSBP\\Bacteri\\Detection-of-bacteria-in-water-using-Yolo-images\\Detect\\Detection-of-bacteria-in-water-using-Yolo-images\\temp\\images/train\\EMDS7-G012-113-0400.png\n",
      "Processed Image saved to: D:\\KULIAH\\SEMESTER 5\\RSBP\\Bacteri\\Detection-of-bacteria-in-water-using-Yolo-images\\Detect\\Detection-of-bacteria-in-water-using-Yolo-images\\temp\\images/train\\EMDS7-G032-056-0400.png\n",
      "Processed Image saved to: D:\\KULIAH\\SEMESTER 5\\RSBP\\Bacteri\\Detection-of-bacteria-in-water-using-Yolo-images\\Detect\\Detection-of-bacteria-in-water-using-Yolo-images\\temp\\images/train\\EMDS7-G011-030-0400.png\n",
      "Processed Image saved to: D:\\KULIAH\\SEMESTER 5\\RSBP\\Bacteri\\Detection-of-bacteria-in-water-using-Yolo-images\\Detect\\Detection-of-bacteria-in-water-using-Yolo-images\\temp\\images/train\\EMDS7-G022-069-0400.png\n",
      "Processed Image saved to: D:\\KULIAH\\SEMESTER 5\\RSBP\\Bacteri\\Detection-of-bacteria-in-water-using-Yolo-images\\Detect\\Detection-of-bacteria-in-water-using-Yolo-images\\temp\\images/train\\EMDS7-G003-061-0400.png\n",
      "Processed Image saved to: D:\\KULIAH\\SEMESTER 5\\RSBP\\Bacteri\\Detection-of-bacteria-in-water-using-Yolo-images\\Detect\\Detection-of-bacteria-in-water-using-Yolo-images\\temp\\images/train\\EMDS7-G009-046-0400.png\n",
      "Processed Image saved to: D:\\KULIAH\\SEMESTER 5\\RSBP\\Bacteri\\Detection-of-bacteria-in-water-using-Yolo-images\\Detect\\Detection-of-bacteria-in-water-using-Yolo-images\\temp\\images/train\\EMDS7-G022-207-0400.png\n",
      "Processed Image saved to: D:\\KULIAH\\SEMESTER 5\\RSBP\\Bacteri\\Detection-of-bacteria-in-water-using-Yolo-images\\Detect\\Detection-of-bacteria-in-water-using-Yolo-images\\temp\\images/train\\EMDS7-G003-156-0400.png\n",
      "Processed Image saved to: D:\\KULIAH\\SEMESTER 5\\RSBP\\Bacteri\\Detection-of-bacteria-in-water-using-Yolo-images\\Detect\\Detection-of-bacteria-in-water-using-Yolo-images\\temp\\images/train\\EMDS7-G039-015-0400.png\n",
      "Processed Image saved to: D:\\KULIAH\\SEMESTER 5\\RSBP\\Bacteri\\Detection-of-bacteria-in-water-using-Yolo-images\\Detect\\Detection-of-bacteria-in-water-using-Yolo-images\\temp\\images/train\\EMDS7-G032-054-0400.png\n",
      "Processed Image saved to: D:\\KULIAH\\SEMESTER 5\\RSBP\\Bacteri\\Detection-of-bacteria-in-water-using-Yolo-images\\Detect\\Detection-of-bacteria-in-water-using-Yolo-images\\temp\\images/train\\EMDS7-G022-188-0400.png\n",
      "Processed Image saved to: D:\\KULIAH\\SEMESTER 5\\RSBP\\Bacteri\\Detection-of-bacteria-in-water-using-Yolo-images\\Detect\\Detection-of-bacteria-in-water-using-Yolo-images\\temp\\images/train\\EMDS7-G003-036-0400.png\n",
      "Processed Image saved to: D:\\KULIAH\\SEMESTER 5\\RSBP\\Bacteri\\Detection-of-bacteria-in-water-using-Yolo-images\\Detect\\Detection-of-bacteria-in-water-using-Yolo-images\\temp\\images/train\\EMDS7-G022-193-0400.png\n",
      "Processed Image saved to: D:\\KULIAH\\SEMESTER 5\\RSBP\\Bacteri\\Detection-of-bacteria-in-water-using-Yolo-images\\Detect\\Detection-of-bacteria-in-water-using-Yolo-images\\temp\\images/train\\EMDS7-G022-189-0400.png\n",
      "Processed Image saved to: D:\\KULIAH\\SEMESTER 5\\RSBP\\Bacteri\\Detection-of-bacteria-in-water-using-Yolo-images\\Detect\\Detection-of-bacteria-in-water-using-Yolo-images\\temp\\images/train\\EMDS7-G035-038-0400.png\n",
      "Processed Image saved to: D:\\KULIAH\\SEMESTER 5\\RSBP\\Bacteri\\Detection-of-bacteria-in-water-using-Yolo-images\\Detect\\Detection-of-bacteria-in-water-using-Yolo-images\\temp\\images/train\\EMDS7-G003-186-0400.png\n",
      "Processed Image saved to: D:\\KULIAH\\SEMESTER 5\\RSBP\\Bacteri\\Detection-of-bacteria-in-water-using-Yolo-images\\Detect\\Detection-of-bacteria-in-water-using-Yolo-images\\temp\\images/train\\EMDS7-G001-029-0400.png\n",
      "Processed Image saved to: D:\\KULIAH\\SEMESTER 5\\RSBP\\Bacteri\\Detection-of-bacteria-in-water-using-Yolo-images\\Detect\\Detection-of-bacteria-in-water-using-Yolo-images\\temp\\images/train\\EMDS7-G012-047-0400.png\n",
      "Processed Image saved to: D:\\KULIAH\\SEMESTER 5\\RSBP\\Bacteri\\Detection-of-bacteria-in-water-using-Yolo-images\\Detect\\Detection-of-bacteria-in-water-using-Yolo-images\\temp\\images/train\\EMDS7-G035-008-0400.png\n",
      "Processed Image saved to: D:\\KULIAH\\SEMESTER 5\\RSBP\\Bacteri\\Detection-of-bacteria-in-water-using-Yolo-images\\Detect\\Detection-of-bacteria-in-water-using-Yolo-images\\temp\\images/train\\EMDS7-G019-041-0400.png\n",
      "Processed Image saved to: D:\\KULIAH\\SEMESTER 5\\RSBP\\Bacteri\\Detection-of-bacteria-in-water-using-Yolo-images\\Detect\\Detection-of-bacteria-in-water-using-Yolo-images\\temp\\images/train\\EMDS7-G006-002-0400.png\n",
      "Processed Image saved to: D:\\KULIAH\\SEMESTER 5\\RSBP\\Bacteri\\Detection-of-bacteria-in-water-using-Yolo-images\\Detect\\Detection-of-bacteria-in-water-using-Yolo-images\\temp\\images/train\\EMDS7-G023-024-0400.png\n",
      "Processed Image saved to: D:\\KULIAH\\SEMESTER 5\\RSBP\\Bacteri\\Detection-of-bacteria-in-water-using-Yolo-images\\Detect\\Detection-of-bacteria-in-water-using-Yolo-images\\temp\\images/train\\EMDS7-G017-029-0400.png\n",
      "Processed Image saved to: D:\\KULIAH\\SEMESTER 5\\RSBP\\Bacteri\\Detection-of-bacteria-in-water-using-Yolo-images\\Detect\\Detection-of-bacteria-in-water-using-Yolo-images\\temp\\images/train\\EMDS7-G004-011-0400.png\n",
      "Processed Image saved to: D:\\KULIAH\\SEMESTER 5\\RSBP\\Bacteri\\Detection-of-bacteria-in-water-using-Yolo-images\\Detect\\Detection-of-bacteria-in-water-using-Yolo-images\\temp\\images/train\\EMDS7-G019-008-0400.png\n",
      "Processed Image saved to: D:\\KULIAH\\SEMESTER 5\\RSBP\\Bacteri\\Detection-of-bacteria-in-water-using-Yolo-images\\Detect\\Detection-of-bacteria-in-water-using-Yolo-images\\temp\\images/train\\EMDS7-G030-002-0400.png\n",
      "Processed Image saved to: D:\\KULIAH\\SEMESTER 5\\RSBP\\Bacteri\\Detection-of-bacteria-in-water-using-Yolo-images\\Detect\\Detection-of-bacteria-in-water-using-Yolo-images\\temp\\images/train\\EMDS7-G020-007-0400.png\n",
      "Processed Image saved to: D:\\KULIAH\\SEMESTER 5\\RSBP\\Bacteri\\Detection-of-bacteria-in-water-using-Yolo-images\\Detect\\Detection-of-bacteria-in-water-using-Yolo-images\\temp\\images/train\\EMDS7-G017-024-0400.png\n",
      "Processed Image saved to: D:\\KULIAH\\SEMESTER 5\\RSBP\\Bacteri\\Detection-of-bacteria-in-water-using-Yolo-images\\Detect\\Detection-of-bacteria-in-water-using-Yolo-images\\temp\\images/train\\EMDS7-G003-224-0400.png\n",
      "Processed Image saved to: D:\\KULIAH\\SEMESTER 5\\RSBP\\Bacteri\\Detection-of-bacteria-in-water-using-Yolo-images\\Detect\\Detection-of-bacteria-in-water-using-Yolo-images\\temp\\images/train\\EMDS7-G022-209-0400.png\n",
      "Processed Image saved to: D:\\KULIAH\\SEMESTER 5\\RSBP\\Bacteri\\Detection-of-bacteria-in-water-using-Yolo-images\\Detect\\Detection-of-bacteria-in-water-using-Yolo-images\\temp\\images/train\\EMDS7-G018-011-0400.png\n",
      "Processed Image saved to: D:\\KULIAH\\SEMESTER 5\\RSBP\\Bacteri\\Detection-of-bacteria-in-water-using-Yolo-images\\Detect\\Detection-of-bacteria-in-water-using-Yolo-images\\temp\\images/train\\EMDS7-G039-022-0400.png\n",
      "Processed Image saved to: D:\\KULIAH\\SEMESTER 5\\RSBP\\Bacteri\\Detection-of-bacteria-in-water-using-Yolo-images\\Detect\\Detection-of-bacteria-in-water-using-Yolo-images\\temp\\images/train\\EMDS7-G038-034-0400.png\n",
      "Processed Image saved to: D:\\KULIAH\\SEMESTER 5\\RSBP\\Bacteri\\Detection-of-bacteria-in-water-using-Yolo-images\\Detect\\Detection-of-bacteria-in-water-using-Yolo-images\\temp\\images/train\\EMDS7-G024-020-0400.png\n",
      "Processed Image saved to: D:\\KULIAH\\SEMESTER 5\\RSBP\\Bacteri\\Detection-of-bacteria-in-water-using-Yolo-images\\Detect\\Detection-of-bacteria-in-water-using-Yolo-images\\temp\\images/train\\EMDS7-G028-048-0400.png\n",
      "Processed Image saved to: D:\\KULIAH\\SEMESTER 5\\RSBP\\Bacteri\\Detection-of-bacteria-in-water-using-Yolo-images\\Detect\\Detection-of-bacteria-in-water-using-Yolo-images\\temp\\images/train\\EMDS7-G017-054-0400.png\n",
      "Processed Image saved to: D:\\KULIAH\\SEMESTER 5\\RSBP\\Bacteri\\Detection-of-bacteria-in-water-using-Yolo-images\\Detect\\Detection-of-bacteria-in-water-using-Yolo-images\\temp\\images/train\\EMDS7-G018-005-0400.png\n",
      "Processed Image saved to: D:\\KULIAH\\SEMESTER 5\\RSBP\\Bacteri\\Detection-of-bacteria-in-water-using-Yolo-images\\Detect\\Detection-of-bacteria-in-water-using-Yolo-images\\temp\\images/train\\EMDS7-G036-069-0400.png\n",
      "Processed Image saved to: D:\\KULIAH\\SEMESTER 5\\RSBP\\Bacteri\\Detection-of-bacteria-in-water-using-Yolo-images\\Detect\\Detection-of-bacteria-in-water-using-Yolo-images\\temp\\images/train\\EMDS7-G022-184-0400.png\n",
      "Processed Image saved to: D:\\KULIAH\\SEMESTER 5\\RSBP\\Bacteri\\Detection-of-bacteria-in-water-using-Yolo-images\\Detect\\Detection-of-bacteria-in-water-using-Yolo-images\\temp\\images/train\\EMDS7-G035-029-0400.png\n",
      "Processed Image saved to: D:\\KULIAH\\SEMESTER 5\\RSBP\\Bacteri\\Detection-of-bacteria-in-water-using-Yolo-images\\Detect\\Detection-of-bacteria-in-water-using-Yolo-images\\temp\\images/train\\EMDS7-G032-064-0400.png\n",
      "Processed Image saved to: D:\\KULIAH\\SEMESTER 5\\RSBP\\Bacteri\\Detection-of-bacteria-in-water-using-Yolo-images\\Detect\\Detection-of-bacteria-in-water-using-Yolo-images\\temp\\images/train\\EMDS7-G030-022-0400.png\n",
      "Processed Image saved to: D:\\KULIAH\\SEMESTER 5\\RSBP\\Bacteri\\Detection-of-bacteria-in-water-using-Yolo-images\\Detect\\Detection-of-bacteria-in-water-using-Yolo-images\\temp\\images/train\\EMDS7-G018-041-0400.png\n",
      "Processed Image saved to: D:\\KULIAH\\SEMESTER 5\\RSBP\\Bacteri\\Detection-of-bacteria-in-water-using-Yolo-images\\Detect\\Detection-of-bacteria-in-water-using-Yolo-images\\temp\\images/train\\EMDS7-G007-004-0400.png\n",
      "Processed Image saved to: D:\\KULIAH\\SEMESTER 5\\RSBP\\Bacteri\\Detection-of-bacteria-in-water-using-Yolo-images\\Detect\\Detection-of-bacteria-in-water-using-Yolo-images\\temp\\images/train\\EMDS7-G031-007-0400.png\n",
      "Processed Image saved to: D:\\KULIAH\\SEMESTER 5\\RSBP\\Bacteri\\Detection-of-bacteria-in-water-using-Yolo-images\\Detect\\Detection-of-bacteria-in-water-using-Yolo-images\\temp\\images/train\\EMDS7-G016-013-0400.png\n",
      "Processed Image saved to: D:\\KULIAH\\SEMESTER 5\\RSBP\\Bacteri\\Detection-of-bacteria-in-water-using-Yolo-images\\Detect\\Detection-of-bacteria-in-water-using-Yolo-images\\temp\\images/train\\EMDS7-G018-026-0400.png\n",
      "Processed Image saved to: D:\\KULIAH\\SEMESTER 5\\RSBP\\Bacteri\\Detection-of-bacteria-in-water-using-Yolo-images\\Detect\\Detection-of-bacteria-in-water-using-Yolo-images\\temp\\images/train\\EMDS7-G022-091-0400.png\n",
      "Processed Image saved to: D:\\KULIAH\\SEMESTER 5\\RSBP\\Bacteri\\Detection-of-bacteria-in-water-using-Yolo-images\\Detect\\Detection-of-bacteria-in-water-using-Yolo-images\\temp\\images/train\\EMDS7-G032-045-0400.png\n",
      "Processed Image saved to: D:\\KULIAH\\SEMESTER 5\\RSBP\\Bacteri\\Detection-of-bacteria-in-water-using-Yolo-images\\Detect\\Detection-of-bacteria-in-water-using-Yolo-images\\temp\\images/train\\EMDS7-G003-231-0400.png\n",
      "Processed Image saved to: D:\\KULIAH\\SEMESTER 5\\RSBP\\Bacteri\\Detection-of-bacteria-in-water-using-Yolo-images\\Detect\\Detection-of-bacteria-in-water-using-Yolo-images\\temp\\images/train\\EMDS7-G003-233-0400.png\n",
      "Processed Image saved to: D:\\KULIAH\\SEMESTER 5\\RSBP\\Bacteri\\Detection-of-bacteria-in-water-using-Yolo-images\\Detect\\Detection-of-bacteria-in-water-using-Yolo-images\\temp\\images/train\\EMDS7-G022-170-0400.png\n",
      "Processed Image saved to: D:\\KULIAH\\SEMESTER 5\\RSBP\\Bacteri\\Detection-of-bacteria-in-water-using-Yolo-images\\Detect\\Detection-of-bacteria-in-water-using-Yolo-images\\temp\\images/train\\EMDS7-G012-082-0400.png\n",
      "Processed Image saved to: D:\\KULIAH\\SEMESTER 5\\RSBP\\Bacteri\\Detection-of-bacteria-in-water-using-Yolo-images\\Detect\\Detection-of-bacteria-in-water-using-Yolo-images\\temp\\images/train\\EMDS7-G039-077-0400.png\n",
      "Processed Image saved to: D:\\KULIAH\\SEMESTER 5\\RSBP\\Bacteri\\Detection-of-bacteria-in-water-using-Yolo-images\\Detect\\Detection-of-bacteria-in-water-using-Yolo-images\\temp\\images/train\\EMDS7-G033-018-0400.png\n",
      "Processed Image saved to: D:\\KULIAH\\SEMESTER 5\\RSBP\\Bacteri\\Detection-of-bacteria-in-water-using-Yolo-images\\Detect\\Detection-of-bacteria-in-water-using-Yolo-images\\temp\\images/train\\EMDS7-G012-013-0400.png\n",
      "Processed Image saved to: D:\\KULIAH\\SEMESTER 5\\RSBP\\Bacteri\\Detection-of-bacteria-in-water-using-Yolo-images\\Detect\\Detection-of-bacteria-in-water-using-Yolo-images\\temp\\images/train\\EMDS7-G003-113-0400.png\n",
      "Processed Image saved to: D:\\KULIAH\\SEMESTER 5\\RSBP\\Bacteri\\Detection-of-bacteria-in-water-using-Yolo-images\\Detect\\Detection-of-bacteria-in-water-using-Yolo-images\\temp\\images/train\\EMDS7-G019-047-0400.png\n",
      "Processed Image saved to: D:\\KULIAH\\SEMESTER 5\\RSBP\\Bacteri\\Detection-of-bacteria-in-water-using-Yolo-images\\Detect\\Detection-of-bacteria-in-water-using-Yolo-images\\temp\\images/train\\EMDS7-G039-081-0400.png\n",
      "Processed Image saved to: D:\\KULIAH\\SEMESTER 5\\RSBP\\Bacteri\\Detection-of-bacteria-in-water-using-Yolo-images\\Detect\\Detection-of-bacteria-in-water-using-Yolo-images\\temp\\images/train\\EMDS7-G019-022-0400.png\n",
      "Processed Image saved to: D:\\KULIAH\\SEMESTER 5\\RSBP\\Bacteri\\Detection-of-bacteria-in-water-using-Yolo-images\\Detect\\Detection-of-bacteria-in-water-using-Yolo-images\\temp\\images/train\\EMDS7-G008-020-0400.png\n",
      "Processed Image saved to: D:\\KULIAH\\SEMESTER 5\\RSBP\\Bacteri\\Detection-of-bacteria-in-water-using-Yolo-images\\Detect\\Detection-of-bacteria-in-water-using-Yolo-images\\temp\\images/train\\EMDS7-G032-074-0400.png\n",
      "Processed Image saved to: D:\\KULIAH\\SEMESTER 5\\RSBP\\Bacteri\\Detection-of-bacteria-in-water-using-Yolo-images\\Detect\\Detection-of-bacteria-in-water-using-Yolo-images\\temp\\images/train\\EMDS7-G003-263-0400.png\n",
      "Processed Image saved to: D:\\KULIAH\\SEMESTER 5\\RSBP\\Bacteri\\Detection-of-bacteria-in-water-using-Yolo-images\\Detect\\Detection-of-bacteria-in-water-using-Yolo-images\\temp\\images/train\\EMDS7-G028-069-0400.png\n",
      "Processed Image saved to: D:\\KULIAH\\SEMESTER 5\\RSBP\\Bacteri\\Detection-of-bacteria-in-water-using-Yolo-images\\Detect\\Detection-of-bacteria-in-water-using-Yolo-images\\temp\\images/train\\EMDS7-G028-062-0400.png\n",
      "Processed Image saved to: D:\\KULIAH\\SEMESTER 5\\RSBP\\Bacteri\\Detection-of-bacteria-in-water-using-Yolo-images\\Detect\\Detection-of-bacteria-in-water-using-Yolo-images\\temp\\images/train\\EMDS7-G011-033-0400.png\n",
      "Processed Image saved to: D:\\KULIAH\\SEMESTER 5\\RSBP\\Bacteri\\Detection-of-bacteria-in-water-using-Yolo-images\\Detect\\Detection-of-bacteria-in-water-using-Yolo-images\\temp\\images/train\\EMDS7-G022-201-0400.pngProcessed Image saved to: D:\\KULIAH\\SEMESTER 5\\RSBP\\Bacteri\\Detection-of-bacteria-in-water-using-Yolo-images\\Detect\\Detection-of-bacteria-in-water-using-Yolo-images\\temp\\images/train\\EMDS7-G020-028-0400.png\n",
      "\n",
      "Processed Image saved to: D:\\KULIAH\\SEMESTER 5\\RSBP\\Bacteri\\Detection-of-bacteria-in-water-using-Yolo-images\\Detect\\Detection-of-bacteria-in-water-using-Yolo-images\\temp\\images/train\\EMDS7-G012-037-0400.png\n",
      "Processed Image saved to: D:\\KULIAH\\SEMESTER 5\\RSBP\\Bacteri\\Detection-of-bacteria-in-water-using-Yolo-images\\Detect\\Detection-of-bacteria-in-water-using-Yolo-images\\temp\\images/train\\EMDS7-G011-043-0400.png\n",
      "Processed Image saved to: D:\\KULIAH\\SEMESTER 5\\RSBP\\Bacteri\\Detection-of-bacteria-in-water-using-Yolo-images\\Detect\\Detection-of-bacteria-in-water-using-Yolo-images\\temp\\images/train\\EMDS7-G019-045-0400.png\n",
      "Processed Image saved to: D:\\KULIAH\\SEMESTER 5\\RSBP\\Bacteri\\Detection-of-bacteria-in-water-using-Yolo-images\\Detect\\Detection-of-bacteria-in-water-using-Yolo-images\\temp\\images/train\\EMDS7-G032-052-0400.png\n",
      "Processed Image saved to: D:\\KULIAH\\SEMESTER 5\\RSBP\\Bacteri\\Detection-of-bacteria-in-water-using-Yolo-images\\Detect\\Detection-of-bacteria-in-water-using-Yolo-images\\temp\\images/train\\EMDS7-G039-013-0400.png\n",
      "Processed Image saved to: D:\\KULIAH\\SEMESTER 5\\RSBP\\Bacteri\\Detection-of-bacteria-in-water-using-Yolo-images\\Detect\\Detection-of-bacteria-in-water-using-Yolo-images\\temp\\images/train\\EMDS7-G038-028-0400.png\n",
      "Processed Image saved to: D:\\KULIAH\\SEMESTER 5\\RSBP\\Bacteri\\Detection-of-bacteria-in-water-using-Yolo-images\\Detect\\Detection-of-bacteria-in-water-using-Yolo-images\\temp\\images/train\\EMDS7-G003-189-0400.png\n",
      "Processed Image saved to: D:\\KULIAH\\SEMESTER 5\\RSBP\\Bacteri\\Detection-of-bacteria-in-water-using-Yolo-images\\Detect\\Detection-of-bacteria-in-water-using-Yolo-images\\temp\\images/train\\EMDS7-G022-186-0400.png\n",
      "Processed Image saved to: D:\\KULIAH\\SEMESTER 5\\RSBP\\Bacteri\\Detection-of-bacteria-in-water-using-Yolo-images\\Detect\\Detection-of-bacteria-in-water-using-Yolo-images\\temp\\images/train\\EMDS7-G018-055-0400.png\n",
      "Processed Image saved to: D:\\KULIAH\\SEMESTER 5\\RSBP\\Bacteri\\Detection-of-bacteria-in-water-using-Yolo-images\\Detect\\Detection-of-bacteria-in-water-using-Yolo-images\\temp\\images/train\\EMDS7-G009-035-0400.png\n",
      "Processed Image saved to: D:\\KULIAH\\SEMESTER 5\\RSBP\\Bacteri\\Detection-of-bacteria-in-water-using-Yolo-images\\Detect\\Detection-of-bacteria-in-water-using-Yolo-images\\temp\\images/train\\EMDS7-G004-050-0400.png\n",
      "Processed Image saved to: D:\\KULIAH\\SEMESTER 5\\RSBP\\Bacteri\\Detection-of-bacteria-in-water-using-Yolo-images\\Detect\\Detection-of-bacteria-in-water-using-Yolo-images\\temp\\images/train\\EMDS7-G035-051-0400.png\n",
      "Processed Image saved to: D:\\KULIAH\\SEMESTER 5\\RSBP\\Bacteri\\Detection-of-bacteria-in-water-using-Yolo-images\\Detect\\Detection-of-bacteria-in-water-using-Yolo-images\\temp\\images/train\\EMDS7-G017-009-0400.png\n",
      "Processed Image saved to: D:\\KULIAH\\SEMESTER 5\\RSBP\\Bacteri\\Detection-of-bacteria-in-water-using-Yolo-images\\Detect\\Detection-of-bacteria-in-water-using-Yolo-images\\temp\\images/train\\EMDS7-G011-047-0400.png\n",
      "Processed Image saved to: D:\\KULIAH\\SEMESTER 5\\RSBP\\Bacteri\\Detection-of-bacteria-in-water-using-Yolo-images\\Detect\\Detection-of-bacteria-in-water-using-Yolo-images\\temp\\images/train\\EMDS7-G021-002-0400.png\n",
      "Processed Image saved to: D:\\KULIAH\\SEMESTER 5\\RSBP\\Bacteri\\Detection-of-bacteria-in-water-using-Yolo-images\\Detect\\Detection-of-bacteria-in-water-using-Yolo-images\\temp\\images/train\\EMDS7-G032-010-0400.png\n",
      "Processed Image saved to: D:\\KULIAH\\SEMESTER 5\\RSBP\\Bacteri\\Detection-of-bacteria-in-water-using-Yolo-images\\Detect\\Detection-of-bacteria-in-water-using-Yolo-images\\temp\\images/train\\EMDS7-G009-023-0400.png\n",
      "Processed Image saved to: D:\\KULIAH\\SEMESTER 5\\RSBP\\Bacteri\\Detection-of-bacteria-in-water-using-Yolo-images\\Detect\\Detection-of-bacteria-in-water-using-Yolo-images\\temp\\images/train\\EMDS7-G001-002-0400.png\n",
      "Processed Image saved to: D:\\KULIAH\\SEMESTER 5\\RSBP\\Bacteri\\Detection-of-bacteria-in-water-using-Yolo-images\\Detect\\Detection-of-bacteria-in-water-using-Yolo-images\\temp\\images/train\\EMDS7-G019-028-0400.png\n",
      "Processed Image saved to: D:\\KULIAH\\SEMESTER 5\\RSBP\\Bacteri\\Detection-of-bacteria-in-water-using-Yolo-images\\Detect\\Detection-of-bacteria-in-water-using-Yolo-images\\temp\\images/train\\EMDS7-G039-061-0400.png\n",
      "Processed Image saved to: D:\\KULIAH\\SEMESTER 5\\RSBP\\Bacteri\\Detection-of-bacteria-in-water-using-Yolo-images\\Detect\\Detection-of-bacteria-in-water-using-Yolo-images\\temp\\images/train\\EMDS7-G011-007-0400.png\n",
      "Processed Image saved to: D:\\KULIAH\\SEMESTER 5\\RSBP\\Bacteri\\Detection-of-bacteria-in-water-using-Yolo-images\\Detect\\Detection-of-bacteria-in-water-using-Yolo-images\\temp\\images/train\\EMDS7-G019-027-0400.png\n",
      "Processed Image saved to: D:\\KULIAH\\SEMESTER 5\\RSBP\\Bacteri\\Detection-of-bacteria-in-water-using-Yolo-images\\Detect\\Detection-of-bacteria-in-water-using-Yolo-images\\temp\\images/train\\EMDS7-G017-020-0400.png\n",
      "Processed Image saved to: D:\\KULIAH\\SEMESTER 5\\RSBP\\Bacteri\\Detection-of-bacteria-in-water-using-Yolo-images\\Detect\\Detection-of-bacteria-in-water-using-Yolo-images\\temp\\images/train\\EMDS7-G004-069-0400.png\n",
      "Processed Image saved to: D:\\KULIAH\\SEMESTER 5\\RSBP\\Bacteri\\Detection-of-bacteria-in-water-using-Yolo-images\\Detect\\Detection-of-bacteria-in-water-using-Yolo-images\\temp\\images/train\\EMDS7-G005-004-0400.png\n",
      "Processed Image saved to: D:\\KULIAH\\SEMESTER 5\\RSBP\\Bacteri\\Detection-of-bacteria-in-water-using-Yolo-images\\Detect\\Detection-of-bacteria-in-water-using-Yolo-images\\temp\\images/train\\EMDS7-G019-037-0400.png\n",
      "Processed Image saved to: D:\\KULIAH\\SEMESTER 5\\RSBP\\Bacteri\\Detection-of-bacteria-in-water-using-Yolo-images\\Detect\\Detection-of-bacteria-in-water-using-Yolo-images\\temp\\images/train\\EMDS7-G036-050-0400.png\n",
      "Processed Image saved to: D:\\KULIAH\\SEMESTER 5\\RSBP\\Bacteri\\Detection-of-bacteria-in-water-using-Yolo-images\\Detect\\Detection-of-bacteria-in-water-using-Yolo-images\\temp\\images/train\\EMDS7-G012-103-0400.png\n",
      "Processed Image saved to: D:\\KULIAH\\SEMESTER 5\\RSBP\\Bacteri\\Detection-of-bacteria-in-water-using-Yolo-images\\Detect\\Detection-of-bacteria-in-water-using-Yolo-images\\temp\\images/train\\EMDS7-G003-198-0400.png\n",
      "Processed Image saved to: D:\\KULIAH\\SEMESTER 5\\RSBP\\Bacteri\\Detection-of-bacteria-in-water-using-Yolo-images\\Detect\\Detection-of-bacteria-in-water-using-Yolo-images\\temp\\images/train\\EMDS7-G003-076-0400.png\n",
      "Processed Image saved to: D:\\KULIAH\\SEMESTER 5\\RSBP\\Bacteri\\Detection-of-bacteria-in-water-using-Yolo-images\\Detect\\Detection-of-bacteria-in-water-using-Yolo-images\\temp\\images/train\\EMDS7-G013-006-0400.png\n",
      "Processed Image saved to: D:\\KULIAH\\SEMESTER 5\\RSBP\\Bacteri\\Detection-of-bacteria-in-water-using-Yolo-images\\Detect\\Detection-of-bacteria-in-water-using-Yolo-images\\temp\\images/train\\EMDS7-G036-051-0400.png\n",
      "Processed Image saved to: D:\\KULIAH\\SEMESTER 5\\RSBP\\Bacteri\\Detection-of-bacteria-in-water-using-Yolo-images\\Detect\\Detection-of-bacteria-in-water-using-Yolo-images\\temp\\images/train\\EMDS7-G022-054-0400.png\n",
      "Processed Image saved to: D:\\KULIAH\\SEMESTER 5\\RSBP\\Bacteri\\Detection-of-bacteria-in-water-using-Yolo-images\\Detect\\Detection-of-bacteria-in-water-using-Yolo-images\\temp\\images/train\\EMDS7-G003-087-0400.png\n",
      "Processed Image saved to: D:\\KULIAH\\SEMESTER 5\\RSBP\\Bacteri\\Detection-of-bacteria-in-water-using-Yolo-images\\Detect\\Detection-of-bacteria-in-water-using-Yolo-images\\temp\\images/train\\EMDS7-G040-001-0400.png\n",
      "Processed Image saved to: D:\\KULIAH\\SEMESTER 5\\RSBP\\Bacteri\\Detection-of-bacteria-in-water-using-Yolo-images\\Detect\\Detection-of-bacteria-in-water-using-Yolo-images\\temp\\images/train\\EMDS7-G019-003-0400.png\n",
      "Processed Image saved to: D:\\KULIAH\\SEMESTER 5\\RSBP\\Bacteri\\Detection-of-bacteria-in-water-using-Yolo-images\\Detect\\Detection-of-bacteria-in-water-using-Yolo-images\\temp\\images/train\\EMDS7-G004-034-0400.png\n",
      "Processed Image saved to: D:\\KULIAH\\SEMESTER 5\\RSBP\\Bacteri\\Detection-of-bacteria-in-water-using-Yolo-images\\Detect\\Detection-of-bacteria-in-water-using-Yolo-images\\temp\\images/train\\EMDS7-G022-020-0400.png\n",
      "Processed Image saved to: D:\\KULIAH\\SEMESTER 5\\RSBP\\Bacteri\\Detection-of-bacteria-in-water-using-Yolo-images\\Detect\\Detection-of-bacteria-in-water-using-Yolo-images\\temp\\images/train\\EMDS7-G006-001-0400.png\n",
      "Processed Image saved to: D:\\KULIAH\\SEMESTER 5\\RSBP\\Bacteri\\Detection-of-bacteria-in-water-using-Yolo-images\\Detect\\Detection-of-bacteria-in-water-using-Yolo-images\\temp\\images/train\\EMDS7-G028-017-0400.png\n",
      "Processed Image saved to: D:\\KULIAH\\SEMESTER 5\\RSBP\\Bacteri\\Detection-of-bacteria-in-water-using-Yolo-images\\Detect\\Detection-of-bacteria-in-water-using-Yolo-images\\temp\\images/train\\EMDS7-G018-054-0400.png\n",
      "Processed Image saved to: D:\\KULIAH\\SEMESTER 5\\RSBP\\Bacteri\\Detection-of-bacteria-in-water-using-Yolo-images\\Detect\\Detection-of-bacteria-in-water-using-Yolo-images\\temp\\images/train\\EMDS7-G012-020-0400.png\n",
      "Processed Image saved to: D:\\KULIAH\\SEMESTER 5\\RSBP\\Bacteri\\Detection-of-bacteria-in-water-using-Yolo-images\\Detect\\Detection-of-bacteria-in-water-using-Yolo-images\\temp\\images/train\\EMDS7-G022-138-0400.png\n",
      "Processed Image saved to: D:\\KULIAH\\SEMESTER 5\\RSBP\\Bacteri\\Detection-of-bacteria-in-water-using-Yolo-images\\Detect\\Detection-of-bacteria-in-water-using-Yolo-images\\temp\\images/train\\EMDS7-G028-035-0400.png\n",
      "Processed Image saved to: D:\\KULIAH\\SEMESTER 5\\RSBP\\Bacteri\\Detection-of-bacteria-in-water-using-Yolo-images\\Detect\\Detection-of-bacteria-in-water-using-Yolo-images\\temp\\images/train\\EMDS7-G034-009-0400.png\n",
      "Processed Image saved to: D:\\KULIAH\\SEMESTER 5\\RSBP\\Bacteri\\Detection-of-bacteria-in-water-using-Yolo-images\\Detect\\Detection-of-bacteria-in-water-using-Yolo-images\\temp\\images/train\\EMDS7-G028-019-0400.png\n",
      "Skipping image EMDS7-G022-264-0400.png due to no valid classes.Processed Image saved to: D:\\KULIAH\\SEMESTER 5\\RSBP\\Bacteri\\Detection-of-bacteria-in-water-using-Yolo-images\\Detect\\Detection-of-bacteria-in-water-using-Yolo-images\\temp\\images/train\\EMDS7-G004-077-0400.png\n",
      "\n",
      "Processed Image saved to: D:\\KULIAH\\SEMESTER 5\\RSBP\\Bacteri\\Detection-of-bacteria-in-water-using-Yolo-images\\Detect\\Detection-of-bacteria-in-water-using-Yolo-images\\temp\\images/train\\EMDS7-G005-047-0400.png\n",
      "Processed Image saved to: D:\\KULIAH\\SEMESTER 5\\RSBP\\Bacteri\\Detection-of-bacteria-in-water-using-Yolo-images\\Detect\\Detection-of-bacteria-in-water-using-Yolo-images\\temp\\images/train\\EMDS7-G003-127-0400.png\n",
      "Processed Image saved to: D:\\KULIAH\\SEMESTER 5\\RSBP\\Bacteri\\Detection-of-bacteria-in-water-using-Yolo-images\\Detect\\Detection-of-bacteria-in-water-using-Yolo-images\\temp\\images/train\\EMDS7-G017-056-0400.png\n",
      "Processed Image saved to: D:\\KULIAH\\SEMESTER 5\\RSBP\\Bacteri\\Detection-of-bacteria-in-water-using-Yolo-images\\Detect\\Detection-of-bacteria-in-water-using-Yolo-images\\temp\\images/train\\EMDS7-G003-297-0400.png\n",
      "Processed Image saved to: D:\\KULIAH\\SEMESTER 5\\RSBP\\Bacteri\\Detection-of-bacteria-in-water-using-Yolo-images\\Detect\\Detection-of-bacteria-in-water-using-Yolo-images\\temp\\images/train\\EMDS7-G022-113-0400.png\n",
      "Processed Image saved to: D:\\KULIAH\\SEMESTER 5\\RSBP\\Bacteri\\Detection-of-bacteria-in-water-using-Yolo-images\\Detect\\Detection-of-bacteria-in-water-using-Yolo-images\\temp\\images/train\\EMDS7-G003-242-0400.png\n",
      "Processed Image saved to: D:\\KULIAH\\SEMESTER 5\\RSBP\\Bacteri\\Detection-of-bacteria-in-water-using-Yolo-images\\Detect\\Detection-of-bacteria-in-water-using-Yolo-images\\temp\\images/train\\EMDS7-G004-052-0400.png\n",
      "Processed Image saved to: D:\\KULIAH\\SEMESTER 5\\RSBP\\Bacteri\\Detection-of-bacteria-in-water-using-Yolo-images\\Detect\\Detection-of-bacteria-in-water-using-Yolo-images\\temp\\images/train\\EMDS7-G022-268-0400.png\n",
      "Processed Image saved to: D:\\KULIAH\\SEMESTER 5\\RSBP\\Bacteri\\Detection-of-bacteria-in-water-using-Yolo-images\\Detect\\Detection-of-bacteria-in-water-using-Yolo-images\\temp\\images/train\\EMDS7-G029-004-0400.png\n",
      "Processed Image saved to: D:\\KULIAH\\SEMESTER 5\\RSBP\\Bacteri\\Detection-of-bacteria-in-water-using-Yolo-images\\Detect\\Detection-of-bacteria-in-water-using-Yolo-images\\temp\\images/train\\EMDS7-G003-073-0400.png\n",
      "Processed Image saved to: D:\\KULIAH\\SEMESTER 5\\RSBP\\Bacteri\\Detection-of-bacteria-in-water-using-Yolo-images\\Detect\\Detection-of-bacteria-in-water-using-Yolo-images\\temp\\images/train\\EMDS7-G028-010-0400.png\n",
      "Processed Image saved to: D:\\KULIAH\\SEMESTER 5\\RSBP\\Bacteri\\Detection-of-bacteria-in-water-using-Yolo-images\\Detect\\Detection-of-bacteria-in-water-using-Yolo-images\\temp\\images/train\\EMDS7-G017-049-0400.png\n",
      "Processed Image saved to: D:\\KULIAH\\SEMESTER 5\\RSBP\\Bacteri\\Detection-of-bacteria-in-water-using-Yolo-images\\Detect\\Detection-of-bacteria-in-water-using-Yolo-images\\temp\\images/train\\EMDS7-G031-029-0400.png\n",
      "Processed Image saved to: D:\\KULIAH\\SEMESTER 5\\RSBP\\Bacteri\\Detection-of-bacteria-in-water-using-Yolo-images\\Detect\\Detection-of-bacteria-in-water-using-Yolo-images\\temp\\images/train\\EMDS7-G039-088-0400.png\n",
      "Processed Image saved to: D:\\KULIAH\\SEMESTER 5\\RSBP\\Bacteri\\Detection-of-bacteria-in-water-using-Yolo-images\\Detect\\Detection-of-bacteria-in-water-using-Yolo-images\\temp\\images/train\\EMDS7-G038-046-0400.png\n",
      "Processed Image saved to: D:\\KULIAH\\SEMESTER 5\\RSBP\\Bacteri\\Detection-of-bacteria-in-water-using-Yolo-images\\Detect\\Detection-of-bacteria-in-water-using-Yolo-images\\temp\\images/train\\EMDS7-G018-076-0400.png\n",
      "Processed Image saved to: D:\\KULIAH\\SEMESTER 5\\RSBP\\Bacteri\\Detection-of-bacteria-in-water-using-Yolo-images\\Detect\\Detection-of-bacteria-in-water-using-Yolo-images\\temp\\images/train\\EMDS7-G023-023-0400.png\n",
      "Processed Image saved to: D:\\KULIAH\\SEMESTER 5\\RSBP\\Bacteri\\Detection-of-bacteria-in-water-using-Yolo-images\\Detect\\Detection-of-bacteria-in-water-using-Yolo-images\\temp\\images/train\\EMDS7-G010-006-0400.png\n",
      "Processed Image saved to: D:\\KULIAH\\SEMESTER 5\\RSBP\\Bacteri\\Detection-of-bacteria-in-water-using-Yolo-images\\Detect\\Detection-of-bacteria-in-water-using-Yolo-images\\temp\\images/train\\EMDS7-G003-232-0400.png\n",
      "Processed Image saved to: D:\\KULIAH\\SEMESTER 5\\RSBP\\Bacteri\\Detection-of-bacteria-in-water-using-Yolo-images\\Detect\\Detection-of-bacteria-in-water-using-Yolo-images\\temp\\images/train\\EMDS7-G003-058-0400.png\n",
      "Processed Image saved to: D:\\KULIAH\\SEMESTER 5\\RSBP\\Bacteri\\Detection-of-bacteria-in-water-using-Yolo-images\\Detect\\Detection-of-bacteria-in-water-using-Yolo-images\\temp\\images/train\\EMDS7-G003-080-0400.png\n",
      "Processed Image saved to: D:\\KULIAH\\SEMESTER 5\\RSBP\\Bacteri\\Detection-of-bacteria-in-water-using-Yolo-images\\Detect\\Detection-of-bacteria-in-water-using-Yolo-images\\temp\\images/train\\EMDS7-G032-080-0400.png\n",
      "Processed Image saved to: D:\\KULIAH\\SEMESTER 5\\RSBP\\Bacteri\\Detection-of-bacteria-in-water-using-Yolo-images\\Detect\\Detection-of-bacteria-in-water-using-Yolo-images\\temp\\images/train\\EMDS7-G015-001-0400.png\n",
      "Processed Image saved to: D:\\KULIAH\\SEMESTER 5\\RSBP\\Bacteri\\Detection-of-bacteria-in-water-using-Yolo-images\\Detect\\Detection-of-bacteria-in-water-using-Yolo-images\\temp\\images/train\\EMDS7-G009-050-0400.png\n",
      "Processed Image saved to: D:\\KULIAH\\SEMESTER 5\\RSBP\\Bacteri\\Detection-of-bacteria-in-water-using-Yolo-images\\Detect\\Detection-of-bacteria-in-water-using-Yolo-images\\temp\\images/train\\EMDS7-G030-005-0400.png\n",
      "Processed Image saved to: D:\\KULIAH\\SEMESTER 5\\RSBP\\Bacteri\\Detection-of-bacteria-in-water-using-Yolo-images\\Detect\\Detection-of-bacteria-in-water-using-Yolo-images\\temp\\images/train\\EMDS7-G003-166-0400.png\n",
      "Processed Image saved to: D:\\KULIAH\\SEMESTER 5\\RSBP\\Bacteri\\Detection-of-bacteria-in-water-using-Yolo-images\\Detect\\Detection-of-bacteria-in-water-using-Yolo-images\\temp\\images/train\\EMDS7-G005-012-0400.png\n",
      "Processed Image saved to: D:\\KULIAH\\SEMESTER 5\\RSBP\\Bacteri\\Detection-of-bacteria-in-water-using-Yolo-images\\Detect\\Detection-of-bacteria-in-water-using-Yolo-images\\temp\\images/train\\EMDS7-G003-203-0400.png\n",
      "Processed Image saved to: D:\\KULIAH\\SEMESTER 5\\RSBP\\Bacteri\\Detection-of-bacteria-in-water-using-Yolo-images\\Detect\\Detection-of-bacteria-in-water-using-Yolo-images\\temp\\images/train\\EMDS7-G039-019-0400.png\n",
      "Processed Image saved to: D:\\KULIAH\\SEMESTER 5\\RSBP\\Bacteri\\Detection-of-bacteria-in-water-using-Yolo-images\\Detect\\Detection-of-bacteria-in-water-using-Yolo-images\\temp\\images/train\\EMDS7-G019-001-0400.png\n",
      "Processed Image saved to: D:\\KULIAH\\SEMESTER 5\\RSBP\\Bacteri\\Detection-of-bacteria-in-water-using-Yolo-images\\Detect\\Detection-of-bacteria-in-water-using-Yolo-images\\temp\\images/train\\EMDS7-G033-011-0400.png\n",
      "Processed Image saved to: D:\\KULIAH\\SEMESTER 5\\RSBP\\Bacteri\\Detection-of-bacteria-in-water-using-Yolo-images\\Detect\\Detection-of-bacteria-in-water-using-Yolo-images\\temp\\images/train\\EMDS7-G012-112-0400.png\n",
      "Skipping image EMDS7-G022-269-0400.png due to no valid classes.\n",
      "Processed Image saved to: D:\\KULIAH\\SEMESTER 5\\RSBP\\Bacteri\\Detection-of-bacteria-in-water-using-Yolo-images\\Detect\\Detection-of-bacteria-in-water-using-Yolo-images\\temp\\images/train\\EMDS7-G035-010-0400.png\n",
      "Processed Image saved to: D:\\KULIAH\\SEMESTER 5\\RSBP\\Bacteri\\Detection-of-bacteria-in-water-using-Yolo-images\\Detect\\Detection-of-bacteria-in-water-using-Yolo-images\\temp\\images/train\\EMDS7-G009-028-0400.png\n",
      "Processed Image saved to: D:\\KULIAH\\SEMESTER 5\\RSBP\\Bacteri\\Detection-of-bacteria-in-water-using-Yolo-images\\Detect\\Detection-of-bacteria-in-water-using-Yolo-images\\temp\\images/train\\EMDS7-G038-024-0400.png\n",
      "Processed Image saved to: D:\\KULIAH\\SEMESTER 5\\RSBP\\Bacteri\\Detection-of-bacteria-in-water-using-Yolo-images\\Detect\\Detection-of-bacteria-in-water-using-Yolo-images\\temp\\images/train\\EMDS7-G018-052-0400.png\n",
      "Processed Image saved to: D:\\KULIAH\\SEMESTER 5\\RSBP\\Bacteri\\Detection-of-bacteria-in-water-using-Yolo-images\\Detect\\Detection-of-bacteria-in-water-using-Yolo-images\\temp\\images/train\\EMDS7-G038-019-0400.png\n",
      "Processed Image saved to: D:\\KULIAH\\SEMESTER 5\\RSBP\\Bacteri\\Detection-of-bacteria-in-water-using-Yolo-images\\Detect\\Detection-of-bacteria-in-water-using-Yolo-images\\temp\\images/train\\EMDS7-G003-289-0400.png\n",
      "Processed Image saved to: D:\\KULIAH\\SEMESTER 5\\RSBP\\Bacteri\\Detection-of-bacteria-in-water-using-Yolo-images\\Detect\\Detection-of-bacteria-in-water-using-Yolo-images\\temp\\images/train\\EMDS7-G015-002-0400.png\n",
      "Processed Image saved to: D:\\KULIAH\\SEMESTER 5\\RSBP\\Bacteri\\Detection-of-bacteria-in-water-using-Yolo-images\\Detect\\Detection-of-bacteria-in-water-using-Yolo-images\\temp\\images/train\\EMDS7-G011-044-0400.png\n",
      "Processed Image saved to: D:\\KULIAH\\SEMESTER 5\\RSBP\\Bacteri\\Detection-of-bacteria-in-water-using-Yolo-images\\Detect\\Detection-of-bacteria-in-water-using-Yolo-images\\temp\\images/train\\EMDS7-G010-016-0400.png\n",
      "Processed Image saved to: D:\\KULIAH\\SEMESTER 5\\RSBP\\Bacteri\\Detection-of-bacteria-in-water-using-Yolo-images\\Detect\\Detection-of-bacteria-in-water-using-Yolo-images\\temp\\images/train\\EMDS7-G003-287-0400.png\n",
      "Processed Image saved to: D:\\KULIAH\\SEMESTER 5\\RSBP\\Bacteri\\Detection-of-bacteria-in-water-using-Yolo-images\\Detect\\Detection-of-bacteria-in-water-using-Yolo-images\\temp\\images/train\\EMDS7-G039-010-0400.png\n",
      "Processed Image saved to: D:\\KULIAH\\SEMESTER 5\\RSBP\\Bacteri\\Detection-of-bacteria-in-water-using-Yolo-images\\Detect\\Detection-of-bacteria-in-water-using-Yolo-images\\temp\\images/train\\EMDS7-G019-016-0400.png\n",
      "Processed Image saved to: D:\\KULIAH\\SEMESTER 5\\RSBP\\Bacteri\\Detection-of-bacteria-in-water-using-Yolo-images\\Detect\\Detection-of-bacteria-in-water-using-Yolo-images\\temp\\images/train\\EMDS7-G003-103-0400.png\n",
      "Processed Image saved to: D:\\KULIAH\\SEMESTER 5\\RSBP\\Bacteri\\Detection-of-bacteria-in-water-using-Yolo-images\\Detect\\Detection-of-bacteria-in-water-using-Yolo-images\\temp\\images/train\\EMDS7-G009-077-0400.png\n",
      "Processed Image saved to: D:\\KULIAH\\SEMESTER 5\\RSBP\\Bacteri\\Detection-of-bacteria-in-water-using-Yolo-images\\Detect\\Detection-of-bacteria-in-water-using-Yolo-images\\temp\\images/train\\EMDS7-G021-004-0400.png\n",
      "Processed Image saved to: D:\\KULIAH\\SEMESTER 5\\RSBP\\Bacteri\\Detection-of-bacteria-in-water-using-Yolo-images\\Detect\\Detection-of-bacteria-in-water-using-Yolo-images\\temp\\images/train\\EMDS7-G014-047-0400.png\n",
      "Processed Image saved to: D:\\KULIAH\\SEMESTER 5\\RSBP\\Bacteri\\Detection-of-bacteria-in-water-using-Yolo-images\\Detect\\Detection-of-bacteria-in-water-using-Yolo-images\\temp\\images/train\\EMDS7-G003-096-0400.png\n",
      "Processed Image saved to: D:\\KULIAH\\SEMESTER 5\\RSBP\\Bacteri\\Detection-of-bacteria-in-water-using-Yolo-images\\Detect\\Detection-of-bacteria-in-water-using-Yolo-images\\temp\\images/train\\EMDS7-G009-007-0400.png\n",
      "Processed Image saved to: D:\\KULIAH\\SEMESTER 5\\RSBP\\Bacteri\\Detection-of-bacteria-in-water-using-Yolo-images\\Detect\\Detection-of-bacteria-in-water-using-Yolo-images\\temp\\images/train\\EMDS7-G028-066-0400.png\n",
      "Processed Image saved to: D:\\KULIAH\\SEMESTER 5\\RSBP\\Bacteri\\Detection-of-bacteria-in-water-using-Yolo-images\\Detect\\Detection-of-bacteria-in-water-using-Yolo-images\\temp\\images/train\\EMDS7-G020-008-0400.png\n",
      "Processed Image saved to: D:\\KULIAH\\SEMESTER 5\\RSBP\\Bacteri\\Detection-of-bacteria-in-water-using-Yolo-images\\Detect\\Detection-of-bacteria-in-water-using-Yolo-images\\temp\\images/train\\EMDS7-G011-053-0400.png\n",
      "Processed Image saved to: D:\\KULIAH\\SEMESTER 5\\RSBP\\Bacteri\\Detection-of-bacteria-in-water-using-Yolo-images\\Detect\\Detection-of-bacteria-in-water-using-Yolo-images\\temp\\images/train\\EMDS7-G032-079-0400.png\n",
      "Processed Image saved to: D:\\KULIAH\\SEMESTER 5\\RSBP\\Bacteri\\Detection-of-bacteria-in-water-using-Yolo-images\\Detect\\Detection-of-bacteria-in-water-using-Yolo-images\\temp\\images/train\\EMDS7-G018-015-0400.png\n",
      "Processed Image saved to: D:\\KULIAH\\SEMESTER 5\\RSBP\\Bacteri\\Detection-of-bacteria-in-water-using-Yolo-images\\Detect\\Detection-of-bacteria-in-water-using-Yolo-images\\temp\\images/train\\EMDS7-G009-022-0400.png\n",
      "Processed Image saved to: D:\\KULIAH\\SEMESTER 5\\RSBP\\Bacteri\\Detection-of-bacteria-in-water-using-Yolo-images\\Detect\\Detection-of-bacteria-in-water-using-Yolo-images\\temp\\images/train\\EMDS7-G007-012-0400.png\n",
      "Processed Image saved to: D:\\KULIAH\\SEMESTER 5\\RSBP\\Bacteri\\Detection-of-bacteria-in-water-using-Yolo-images\\Detect\\Detection-of-bacteria-in-water-using-Yolo-images\\temp\\images/train\\EMDS7-G022-025-0400.png\n",
      "Processed Image saved to: D:\\KULIAH\\SEMESTER 5\\RSBP\\Bacteri\\Detection-of-bacteria-in-water-using-Yolo-images\\Detect\\Detection-of-bacteria-in-water-using-Yolo-images\\temp\\images/train\\EMDS7-G022-007-0400.png\n",
      "Processed Image saved to: D:\\KULIAH\\SEMESTER 5\\RSBP\\Bacteri\\Detection-of-bacteria-in-water-using-Yolo-images\\Detect\\Detection-of-bacteria-in-water-using-Yolo-images\\temp\\images/train\\EMDS7-G036-047-0400.png\n",
      "Processed Image saved to: D:\\KULIAH\\SEMESTER 5\\RSBP\\Bacteri\\Detection-of-bacteria-in-water-using-Yolo-images\\Detect\\Detection-of-bacteria-in-water-using-Yolo-images\\temp\\images/train\\EMDS7-G008-003-0400.png\n",
      "Processed Image saved to: D:\\KULIAH\\SEMESTER 5\\RSBP\\Bacteri\\Detection-of-bacteria-in-water-using-Yolo-images\\Detect\\Detection-of-bacteria-in-water-using-Yolo-images\\temp\\images/train\\EMDS7-G008-006-0400.png\n",
      "Processed Image saved to: D:\\KULIAH\\SEMESTER 5\\RSBP\\Bacteri\\Detection-of-bacteria-in-water-using-Yolo-images\\Detect\\Detection-of-bacteria-in-water-using-Yolo-images\\temp\\images/train\\EMDS7-G003-133-0400.png\n",
      "Processed Image saved to: D:\\KULIAH\\SEMESTER 5\\RSBP\\Bacteri\\Detection-of-bacteria-in-water-using-Yolo-images\\Detect\\Detection-of-bacteria-in-water-using-Yolo-images\\temp\\images/train\\EMDS7-G041-001-0400.png\n",
      "Processed Image saved to: D:\\KULIAH\\SEMESTER 5\\RSBP\\Bacteri\\Detection-of-bacteria-in-water-using-Yolo-images\\Detect\\Detection-of-bacteria-in-water-using-Yolo-images\\temp\\images/train\\EMDS7-G022-108-0400.png\n",
      "Processed Image saved to: D:\\KULIAH\\SEMESTER 5\\RSBP\\Bacteri\\Detection-of-bacteria-in-water-using-Yolo-images\\Detect\\Detection-of-bacteria-in-water-using-Yolo-images\\temp\\images/train\\EMDS7-G036-063-0400.png\n",
      "Processed Image saved to: D:\\KULIAH\\SEMESTER 5\\RSBP\\Bacteri\\Detection-of-bacteria-in-water-using-Yolo-images\\Detect\\Detection-of-bacteria-in-water-using-Yolo-images\\temp\\images/train\\EMDS7-G012-044-0400.png\n",
      "Processed Image saved to: D:\\KULIAH\\SEMESTER 5\\RSBP\\Bacteri\\Detection-of-bacteria-in-water-using-Yolo-images\\Detect\\Detection-of-bacteria-in-water-using-Yolo-images\\temp\\images/train\\EMDS7-G024-013-0400.png\n",
      "Processed Image saved to: D:\\KULIAH\\SEMESTER 5\\RSBP\\Bacteri\\Detection-of-bacteria-in-water-using-Yolo-images\\Detect\\Detection-of-bacteria-in-water-using-Yolo-images\\temp\\images/train\\EMDS7-G017-045-0400.png\n",
      "Processed Image saved to: D:\\KULIAH\\SEMESTER 5\\RSBP\\Bacteri\\Detection-of-bacteria-in-water-using-Yolo-images\\Detect\\Detection-of-bacteria-in-water-using-Yolo-images\\temp\\images/train\\EMDS7-G039-039-0400.png\n",
      "Processed Image saved to: D:\\KULIAH\\SEMESTER 5\\RSBP\\Bacteri\\Detection-of-bacteria-in-water-using-Yolo-images\\Detect\\Detection-of-bacteria-in-water-using-Yolo-images\\temp\\images/train\\EMDS7-G012-002-0400.png\n",
      "Processed Image saved to: D:\\KULIAH\\SEMESTER 5\\RSBP\\Bacteri\\Detection-of-bacteria-in-water-using-Yolo-images\\Detect\\Detection-of-bacteria-in-water-using-Yolo-images\\temp\\images/train\\EMDS7-G008-019-0400.png\n",
      "Processed Image saved to: D:\\KULIAH\\SEMESTER 5\\RSBP\\Bacteri\\Detection-of-bacteria-in-water-using-Yolo-images\\Detect\\Detection-of-bacteria-in-water-using-Yolo-images\\temp\\images/train\\EMDS7-G001-028-0400.png\n",
      "Processed Image saved to: D:\\KULIAH\\SEMESTER 5\\RSBP\\Bacteri\\Detection-of-bacteria-in-water-using-Yolo-images\\Detect\\Detection-of-bacteria-in-water-using-Yolo-images\\temp\\images/train\\EMDS7-G023-044-0400.png\n",
      "Processed Image saved to: D:\\KULIAH\\SEMESTER 5\\RSBP\\Bacteri\\Detection-of-bacteria-in-water-using-Yolo-images\\Detect\\Detection-of-bacteria-in-water-using-Yolo-images\\temp\\images/train\\EMDS7-G003-215-0400.png\n",
      "Processed Image saved to: D:\\KULIAH\\SEMESTER 5\\RSBP\\Bacteri\\Detection-of-bacteria-in-water-using-Yolo-images\\Detect\\Detection-of-bacteria-in-water-using-Yolo-images\\temp\\images/train\\EMDS7-G039-042-0400.png\n",
      "Processed Image saved to: D:\\KULIAH\\SEMESTER 5\\RSBP\\Bacteri\\Detection-of-bacteria-in-water-using-Yolo-images\\Detect\\Detection-of-bacteria-in-water-using-Yolo-images\\temp\\images/train\\EMDS7-G004-040-0400.png\n",
      "Processed Image saved to: D:\\KULIAH\\SEMESTER 5\\RSBP\\Bacteri\\Detection-of-bacteria-in-water-using-Yolo-images\\Detect\\Detection-of-bacteria-in-water-using-Yolo-images\\temp\\images/train\\EMDS7-G005-037-0400.png\n",
      "Processed Image saved to: D:\\KULIAH\\SEMESTER 5\\RSBP\\Bacteri\\Detection-of-bacteria-in-water-using-Yolo-images\\Detect\\Detection-of-bacteria-in-water-using-Yolo-images\\temp\\images/train\\EMDS7-G022-174-0400.png\n",
      "Processed Image saved to: D:\\KULIAH\\SEMESTER 5\\RSBP\\Bacteri\\Detection-of-bacteria-in-water-using-Yolo-images\\Detect\\Detection-of-bacteria-in-water-using-Yolo-images\\temp\\images/train\\EMDS7-G027-002-0400.png\n",
      "Processed Image saved to: D:\\KULIAH\\SEMESTER 5\\RSBP\\Bacteri\\Detection-of-bacteria-in-water-using-Yolo-images\\Detect\\Detection-of-bacteria-in-water-using-Yolo-images\\temp\\images/train\\EMDS7-G004-019-0400.png\n",
      "Processed Image saved to: D:\\KULIAH\\SEMESTER 5\\RSBP\\Bacteri\\Detection-of-bacteria-in-water-using-Yolo-images\\Detect\\Detection-of-bacteria-in-water-using-Yolo-images\\temp\\images/train\\EMDS7-G007-013-0400.png\n",
      "Processed Image saved to: D:\\KULIAH\\SEMESTER 5\\RSBP\\Bacteri\\Detection-of-bacteria-in-water-using-Yolo-images\\Detect\\Detection-of-bacteria-in-water-using-Yolo-images\\temp\\images/train\\EMDS7-G018-071-0400.png\n",
      "Processed Image saved to: D:\\KULIAH\\SEMESTER 5\\RSBP\\Bacteri\\Detection-of-bacteria-in-water-using-Yolo-images\\Detect\\Detection-of-bacteria-in-water-using-Yolo-images\\temp\\images/train\\EMDS7-G012-078-0400.png\n",
      "Processed Image saved to: D:\\KULIAH\\SEMESTER 5\\RSBP\\Bacteri\\Detection-of-bacteria-in-water-using-Yolo-images\\Detect\\Detection-of-bacteria-in-water-using-Yolo-images\\temp\\images/train\\EMDS7-G009-061-0400.png\n",
      "Processed Image saved to: D:\\KULIAH\\SEMESTER 5\\RSBP\\Bacteri\\Detection-of-bacteria-in-water-using-Yolo-images\\Detect\\Detection-of-bacteria-in-water-using-Yolo-images\\temp\\images/train\\EMDS7-G003-027-0400.png\n",
      "Processed Image saved to: D:\\KULIAH\\SEMESTER 5\\RSBP\\Bacteri\\Detection-of-bacteria-in-water-using-Yolo-images\\Detect\\Detection-of-bacteria-in-water-using-Yolo-images\\temp\\images/train\\EMDS7-G022-238-0400.png\n",
      "Processed Image saved to: D:\\KULIAH\\SEMESTER 5\\RSBP\\Bacteri\\Detection-of-bacteria-in-water-using-Yolo-images\\Detect\\Detection-of-bacteria-in-water-using-Yolo-images\\temp\\images/train\\EMDS7-G003-283-0400.png\n",
      "Processed Image saved to: D:\\KULIAH\\SEMESTER 5\\RSBP\\Bacteri\\Detection-of-bacteria-in-water-using-Yolo-images\\Detect\\Detection-of-bacteria-in-water-using-Yolo-images\\temp\\images/train\\EMDS7-G003-009-0400.png\n",
      "Processed Image saved to: D:\\KULIAH\\SEMESTER 5\\RSBP\\Bacteri\\Detection-of-bacteria-in-water-using-Yolo-images\\Detect\\Detection-of-bacteria-in-water-using-Yolo-images\\temp\\images/train\\EMDS7-G023-053-0400.png\n",
      "Processed Image saved to: D:\\KULIAH\\SEMESTER 5\\RSBP\\Bacteri\\Detection-of-bacteria-in-water-using-Yolo-images\\Detect\\Detection-of-bacteria-in-water-using-Yolo-images\\temp\\images/train\\EMDS7-G003-097-0400.png\n",
      "Processed Image saved to: D:\\KULIAH\\SEMESTER 5\\RSBP\\Bacteri\\Detection-of-bacteria-in-water-using-Yolo-images\\Detect\\Detection-of-bacteria-in-water-using-Yolo-images\\temp\\images/train\\EMDS7-G038-061-0400.png\n",
      "Processed Image saved to: D:\\KULIAH\\SEMESTER 5\\RSBP\\Bacteri\\Detection-of-bacteria-in-water-using-Yolo-images\\Detect\\Detection-of-bacteria-in-water-using-Yolo-images\\temp\\images/train\\EMDS7-G003-265-0400.png\n",
      "Processed Image saved to: D:\\KULIAH\\SEMESTER 5\\RSBP\\Bacteri\\Detection-of-bacteria-in-water-using-Yolo-images\\Detect\\Detection-of-bacteria-in-water-using-Yolo-images\\temp\\images/train\\EMDS7-G012-056-0400.png\n",
      "Processed Image saved to: D:\\KULIAH\\SEMESTER 5\\RSBP\\Bacteri\\Detection-of-bacteria-in-water-using-Yolo-images\\Detect\\Detection-of-bacteria-in-water-using-Yolo-images\\temp\\images/train\\EMDS7-G018-070-0400.png\n",
      "Processed Image saved to: D:\\KULIAH\\SEMESTER 5\\RSBP\\Bacteri\\Detection-of-bacteria-in-water-using-Yolo-images\\Detect\\Detection-of-bacteria-in-water-using-Yolo-images\\temp\\images/train\\EMDS7-G036-066-0400.png\n",
      "Processed Image saved to: D:\\KULIAH\\SEMESTER 5\\RSBP\\Bacteri\\Detection-of-bacteria-in-water-using-Yolo-images\\Detect\\Detection-of-bacteria-in-water-using-Yolo-images\\temp\\images/train\\EMDS7-G001-010-0400.png\n",
      "Processed Image saved to: D:\\KULIAH\\SEMESTER 5\\RSBP\\Bacteri\\Detection-of-bacteria-in-water-using-Yolo-images\\Detect\\Detection-of-bacteria-in-water-using-Yolo-images\\temp\\images/train\\EMDS7-G010-010-0400.png\n",
      "Processed Image saved to: D:\\KULIAH\\SEMESTER 5\\RSBP\\Bacteri\\Detection-of-bacteria-in-water-using-Yolo-images\\Detect\\Detection-of-bacteria-in-water-using-Yolo-images\\temp\\images/train\\EMDS7-G009-025-0400.png\n",
      "Processed Image saved to: D:\\KULIAH\\SEMESTER 5\\RSBP\\Bacteri\\Detection-of-bacteria-in-water-using-Yolo-images\\Detect\\Detection-of-bacteria-in-water-using-Yolo-images\\temp\\images/train\\EMDS7-G028-049-0400.png\n",
      "Processed Image saved to: D:\\KULIAH\\SEMESTER 5\\RSBP\\Bacteri\\Detection-of-bacteria-in-water-using-Yolo-images\\Detect\\Detection-of-bacteria-in-water-using-Yolo-images\\temp\\images/train\\EMDS7-G024-017-0400.png\n",
      "Processed Image saved to: D:\\KULIAH\\SEMESTER 5\\RSBP\\Bacteri\\Detection-of-bacteria-in-water-using-Yolo-images\\Detect\\Detection-of-bacteria-in-water-using-Yolo-images\\temp\\images/train\\EMDS7-G017-064-0400.png\n",
      "Processed Image saved to: D:\\KULIAH\\SEMESTER 5\\RSBP\\Bacteri\\Detection-of-bacteria-in-water-using-Yolo-images\\Detect\\Detection-of-bacteria-in-water-using-Yolo-images\\temp\\images/train\\EMDS7-G032-011-0400.png\n",
      "Processed Image saved to: D:\\KULIAH\\SEMESTER 5\\RSBP\\Bacteri\\Detection-of-bacteria-in-water-using-Yolo-images\\Detect\\Detection-of-bacteria-in-water-using-Yolo-images\\temp\\images/train\\EMDS7-G022-111-0400.png\n",
      "Processed Image saved to: D:\\KULIAH\\SEMESTER 5\\RSBP\\Bacteri\\Detection-of-bacteria-in-water-using-Yolo-images\\Detect\\Detection-of-bacteria-in-water-using-Yolo-images\\temp\\images/train\\EMDS7-G028-028-0400.png\n",
      "Processed Image saved to: D:\\KULIAH\\SEMESTER 5\\RSBP\\Bacteri\\Detection-of-bacteria-in-water-using-Yolo-images\\Detect\\Detection-of-bacteria-in-water-using-Yolo-images\\temp\\images/train\\EMDS7-G003-149-0400.png\n",
      "Processed Image saved to: D:\\KULIAH\\SEMESTER 5\\RSBP\\Bacteri\\Detection-of-bacteria-in-water-using-Yolo-images\\Detect\\Detection-of-bacteria-in-water-using-Yolo-images\\temp\\images/train\\EMDS7-G019-012-0400.png\n",
      "Processed Image saved to: D:\\KULIAH\\SEMESTER 5\\RSBP\\Bacteri\\Detection-of-bacteria-in-water-using-Yolo-images\\Detect\\Detection-of-bacteria-in-water-using-Yolo-images\\temp\\images/train\\EMDS7-G014-006-0400.png\n",
      "Processed Image saved to: D:\\KULIAH\\SEMESTER 5\\RSBP\\Bacteri\\Detection-of-bacteria-in-water-using-Yolo-images\\Detect\\Detection-of-bacteria-in-water-using-Yolo-images\\temp\\images/train\\EMDS7-G023-003-0400.png\n",
      "Processed Image saved to: D:\\KULIAH\\SEMESTER 5\\RSBP\\Bacteri\\Detection-of-bacteria-in-water-using-Yolo-images\\Detect\\Detection-of-bacteria-in-water-using-Yolo-images\\temp\\images/train\\EMDS7-G005-005-0400.png\n",
      "Processed Image saved to: D:\\KULIAH\\SEMESTER 5\\RSBP\\Bacteri\\Detection-of-bacteria-in-water-using-Yolo-images\\Detect\\Detection-of-bacteria-in-water-using-Yolo-images\\temp\\images/train\\EMDS7-G012-032-0400.png\n",
      "Processed Image saved to: D:\\KULIAH\\SEMESTER 5\\RSBP\\Bacteri\\Detection-of-bacteria-in-water-using-Yolo-images\\Detect\\Detection-of-bacteria-in-water-using-Yolo-images\\temp\\images/train\\EMDS7-G022-104-0400.png\n",
      "Processed Image saved to: D:\\KULIAH\\SEMESTER 5\\RSBP\\Bacteri\\Detection-of-bacteria-in-water-using-Yolo-images\\Detect\\Detection-of-bacteria-in-water-using-Yolo-images\\temp\\images/train\\EMDS7-G003-012-0400.png\n",
      "Processed Image saved to: D:\\KULIAH\\SEMESTER 5\\RSBP\\Bacteri\\Detection-of-bacteria-in-water-using-Yolo-images\\Detect\\Detection-of-bacteria-in-water-using-Yolo-images\\temp\\images/train\\EMDS7-G040-011-0400.png\n",
      "Processed Image saved to: D:\\KULIAH\\SEMESTER 5\\RSBP\\Bacteri\\Detection-of-bacteria-in-water-using-Yolo-images\\Detect\\Detection-of-bacteria-in-water-using-Yolo-images\\temp\\images/train\\EMDS7-G022-110-0400.png\n",
      "Processed Image saved to: D:\\KULIAH\\SEMESTER 5\\RSBP\\Bacteri\\Detection-of-bacteria-in-water-using-Yolo-images\\Detect\\Detection-of-bacteria-in-water-using-Yolo-images\\temp\\images/train\\EMDS7-G035-031-0400.png\n",
      "Processed Image saved to: D:\\KULIAH\\SEMESTER 5\\RSBP\\Bacteri\\Detection-of-bacteria-in-water-using-Yolo-images\\Detect\\Detection-of-bacteria-in-water-using-Yolo-images\\temp\\images/train\\EMDS7-G019-048-0400.png\n",
      "Processed Image saved to: D:\\KULIAH\\SEMESTER 5\\RSBP\\Bacteri\\Detection-of-bacteria-in-water-using-Yolo-images\\Detect\\Detection-of-bacteria-in-water-using-Yolo-images\\temp\\images/train\\EMDS7-G036-032-0400.png\n",
      "Processed Image saved to: D:\\KULIAH\\SEMESTER 5\\RSBP\\Bacteri\\Detection-of-bacteria-in-water-using-Yolo-images\\Detect\\Detection-of-bacteria-in-water-using-Yolo-images\\temp\\images/train\\EMDS7-G006-005-0400.png\n",
      "Processed Image saved to: D:\\KULIAH\\SEMESTER 5\\RSBP\\Bacteri\\Detection-of-bacteria-in-water-using-Yolo-images\\Detect\\Detection-of-bacteria-in-water-using-Yolo-images\\temp\\images/train\\EMDS7-G031-011-0400.png\n",
      "Processed Image saved to: D:\\KULIAH\\SEMESTER 5\\RSBP\\Bacteri\\Detection-of-bacteria-in-water-using-Yolo-images\\Detect\\Detection-of-bacteria-in-water-using-Yolo-images\\temp\\images/train\\EMDS7-G003-004-0400.png\n",
      "Processed Image saved to: D:\\KULIAH\\SEMESTER 5\\RSBP\\Bacteri\\Detection-of-bacteria-in-water-using-Yolo-images\\Detect\\Detection-of-bacteria-in-water-using-Yolo-images\\temp\\images/train\\EMDS7-G022-009-0400.png\n",
      "Processed Image saved to: D:\\KULIAH\\SEMESTER 5\\RSBP\\Bacteri\\Detection-of-bacteria-in-water-using-Yolo-images\\Detect\\Detection-of-bacteria-in-water-using-Yolo-images\\temp\\images/train\\EMDS7-G022-027-0400.png\n",
      "Processed Image saved to: D:\\KULIAH\\SEMESTER 5\\RSBP\\Bacteri\\Detection-of-bacteria-in-water-using-Yolo-images\\Detect\\Detection-of-bacteria-in-water-using-Yolo-images\\temp\\images/train\\EMDS7-G004-070-0400.png\n",
      "Processed Image saved to: D:\\KULIAH\\SEMESTER 5\\RSBP\\Bacteri\\Detection-of-bacteria-in-water-using-Yolo-images\\Detect\\Detection-of-bacteria-in-water-using-Yolo-images\\temp\\images/train\\EMDS7-G003-267-0400.png\n",
      "Processed Image saved to: D:\\KULIAH\\SEMESTER 5\\RSBP\\Bacteri\\Detection-of-bacteria-in-water-using-Yolo-images\\Detect\\Detection-of-bacteria-in-water-using-Yolo-images\\temp\\images/train\\EMDS7-G036-045-0400.png\n",
      "Processed Image saved to: D:\\KULIAH\\SEMESTER 5\\RSBP\\Bacteri\\Detection-of-bacteria-in-water-using-Yolo-images\\Detect\\Detection-of-bacteria-in-water-using-Yolo-images\\temp\\images/train\\EMDS7-G009-019-0400.png\n",
      "Processed Image saved to: D:\\KULIAH\\SEMESTER 5\\RSBP\\Bacteri\\Detection-of-bacteria-in-water-using-Yolo-images\\Detect\\Detection-of-bacteria-in-water-using-Yolo-images\\temp\\images/train\\EMDS7-G039-030-0400.png\n",
      "Processed Image saved to: D:\\KULIAH\\SEMESTER 5\\RSBP\\Bacteri\\Detection-of-bacteria-in-water-using-Yolo-images\\Detect\\Detection-of-bacteria-in-water-using-Yolo-images\\temp\\images/train\\EMDS7-G038-002-0400.png\n",
      "Processed Image saved to: D:\\KULIAH\\SEMESTER 5\\RSBP\\Bacteri\\Detection-of-bacteria-in-water-using-Yolo-images\\Detect\\Detection-of-bacteria-in-water-using-Yolo-images\\temp\\images/train\\EMDS7-G031-013-0400.png\n",
      "Processed Image saved to: D:\\KULIAH\\SEMESTER 5\\RSBP\\Bacteri\\Detection-of-bacteria-in-water-using-Yolo-images\\Detect\\Detection-of-bacteria-in-water-using-Yolo-images\\temp\\images/train\\EMDS7-G005-017-0400.png\n",
      "Processed Image saved to: D:\\KULIAH\\SEMESTER 5\\RSBP\\Bacteri\\Detection-of-bacteria-in-water-using-Yolo-images\\Detect\\Detection-of-bacteria-in-water-using-Yolo-images\\temp\\images/train\\EMDS7-G023-016-0400.png\n",
      "Processed Image saved to: D:\\KULIAH\\SEMESTER 5\\RSBP\\Bacteri\\Detection-of-bacteria-in-water-using-Yolo-images\\Detect\\Detection-of-bacteria-in-water-using-Yolo-images\\temp\\images/train\\EMDS7-G008-040-0400.png\n",
      "Processed Image saved to: D:\\KULIAH\\SEMESTER 5\\RSBP\\Bacteri\\Detection-of-bacteria-in-water-using-Yolo-images\\Detect\\Detection-of-bacteria-in-water-using-Yolo-images\\temp\\images/train\\EMDS7-G035-012-0400.png\n",
      "Processed Image saved to: D:\\KULIAH\\SEMESTER 5\\RSBP\\Bacteri\\Detection-of-bacteria-in-water-using-Yolo-images\\Detect\\Detection-of-bacteria-in-water-using-Yolo-images\\temp\\images/train\\EMDS7-G023-004-0400.png\n",
      "Processed Image saved to: D:\\KULIAH\\SEMESTER 5\\RSBP\\Bacteri\\Detection-of-bacteria-in-water-using-Yolo-images\\Detect\\Detection-of-bacteria-in-water-using-Yolo-images\\temp\\images/train\\EMDS7-G019-038-0400.png\n",
      "Processed Image saved to: D:\\KULIAH\\SEMESTER 5\\RSBP\\Bacteri\\Detection-of-bacteria-in-water-using-Yolo-images\\Detect\\Detection-of-bacteria-in-water-using-Yolo-images\\temp\\images/train\\EMDS7-G004-062-0400.png\n",
      "Skipping image EMDS7-G022-236-0400.png due to no valid classes.\n",
      "Processed Image saved to: D:\\KULIAH\\SEMESTER 5\\RSBP\\Bacteri\\Detection-of-bacteria-in-water-using-Yolo-images\\Detect\\Detection-of-bacteria-in-water-using-Yolo-images\\temp\\images/train\\EMDS7-G032-070-0400.png\n",
      "Processed Image saved to: D:\\KULIAH\\SEMESTER 5\\RSBP\\Bacteri\\Detection-of-bacteria-in-water-using-Yolo-images\\Detect\\Detection-of-bacteria-in-water-using-Yolo-images\\temp\\images/train\\EMDS7-G008-034-0400.png\n",
      "Processed Image saved to: D:\\KULIAH\\SEMESTER 5\\RSBP\\Bacteri\\Detection-of-bacteria-in-water-using-Yolo-images\\Detect\\Detection-of-bacteria-in-water-using-Yolo-images\\temp\\images/train\\EMDS7-G014-002-0400.png\n",
      "Processed Image saved to: D:\\KULIAH\\SEMESTER 5\\RSBP\\Bacteri\\Detection-of-bacteria-in-water-using-Yolo-images\\Detect\\Detection-of-bacteria-in-water-using-Yolo-images\\temp\\images/train\\EMDS7-G012-012-0400.png\n",
      "Processed Image saved to: D:\\KULIAH\\SEMESTER 5\\RSBP\\Bacteri\\Detection-of-bacteria-in-water-using-Yolo-images\\Detect\\Detection-of-bacteria-in-water-using-Yolo-images\\temp\\images/train\\EMDS7-G037-014-0400.png\n",
      "Processed Image saved to: D:\\KULIAH\\SEMESTER 5\\RSBP\\Bacteri\\Detection-of-bacteria-in-water-using-Yolo-images\\Detect\\Detection-of-bacteria-in-water-using-Yolo-images\\temp\\images/train\\EMDS7-G025-048-0400.png\n",
      "Processed Image saved to: D:\\KULIAH\\SEMESTER 5\\RSBP\\Bacteri\\Detection-of-bacteria-in-water-using-Yolo-images\\Detect\\Detection-of-bacteria-in-water-using-Yolo-images\\temp\\images/train\\EMDS7-G001-026-0400.png\n",
      "Processed Image saved to: D:\\KULIAH\\SEMESTER 5\\RSBP\\Bacteri\\Detection-of-bacteria-in-water-using-Yolo-images\\Detect\\Detection-of-bacteria-in-water-using-Yolo-images\\temp\\images/train\\EMDS7-G022-263-0400.png\n",
      "Processed Image saved to: D:\\KULIAH\\SEMESTER 5\\RSBP\\Bacteri\\Detection-of-bacteria-in-water-using-Yolo-images\\Detect\\Detection-of-bacteria-in-water-using-Yolo-images\\temp\\images/train\\EMDS7-G006-006-0400.png\n",
      "Processed Image saved to: D:\\KULIAH\\SEMESTER 5\\RSBP\\Bacteri\\Detection-of-bacteria-in-water-using-Yolo-images\\Detect\\Detection-of-bacteria-in-water-using-Yolo-images\\temp\\images/train\\EMDS7-G038-004-0400.png\n",
      "Processed Image saved to: D:\\KULIAH\\SEMESTER 5\\RSBP\\Bacteri\\Detection-of-bacteria-in-water-using-Yolo-images\\Detect\\Detection-of-bacteria-in-water-using-Yolo-images\\temp\\images/train\\EMDS7-G018-062-0400.png\n",
      "Processed Image saved to: D:\\KULIAH\\SEMESTER 5\\RSBP\\Bacteri\\Detection-of-bacteria-in-water-using-Yolo-images\\Detect\\Detection-of-bacteria-in-water-using-Yolo-images\\temp\\images/train\\EMDS7-G041-005-0400.png\n",
      "Processed Image saved to: D:\\KULIAH\\SEMESTER 5\\RSBP\\Bacteri\\Detection-of-bacteria-in-water-using-Yolo-images\\Detect\\Detection-of-bacteria-in-water-using-Yolo-images\\temp\\images/train\\EMDS7-G022-273-0400.png\n",
      "Processed Image saved to: D:\\KULIAH\\SEMESTER 5\\RSBP\\Bacteri\\Detection-of-bacteria-in-water-using-Yolo-images\\Detect\\Detection-of-bacteria-in-water-using-Yolo-images\\temp\\images/train\\EMDS7-G014-037-0400.png\n",
      "Processed Image saved to: D:\\KULIAH\\SEMESTER 5\\RSBP\\Bacteri\\Detection-of-bacteria-in-water-using-Yolo-images\\Detect\\Detection-of-bacteria-in-water-using-Yolo-images\\temp\\images/train\\EMDS7-G004-018-0400.png\n",
      "Processed Image saved to: D:\\KULIAH\\SEMESTER 5\\RSBP\\Bacteri\\Detection-of-bacteria-in-water-using-Yolo-images\\Detect\\Detection-of-bacteria-in-water-using-Yolo-images\\temp\\images/train\\EMDS7-G022-153-0400.png\n",
      "Processed Image saved to: D:\\KULIAH\\SEMESTER 5\\RSBP\\Bacteri\\Detection-of-bacteria-in-water-using-Yolo-images\\Detect\\Detection-of-bacteria-in-water-using-Yolo-images\\temp\\images/train\\EMDS7-G035-050-0400.png\n",
      "Processed Image saved to: D:\\KULIAH\\SEMESTER 5\\RSBP\\Bacteri\\Detection-of-bacteria-in-water-using-Yolo-images\\Detect\\Detection-of-bacteria-in-water-using-Yolo-images\\temp\\images/train\\EMDS7-G018-037-0400.png\n",
      "Processed Image saved to: D:\\KULIAH\\SEMESTER 5\\RSBP\\Bacteri\\Detection-of-bacteria-in-water-using-Yolo-images\\Detect\\Detection-of-bacteria-in-water-using-Yolo-images\\temp\\images/train\\EMDS7-G022-145-0400.png\n",
      "Processed Image saved to: D:\\KULIAH\\SEMESTER 5\\RSBP\\Bacteri\\Detection-of-bacteria-in-water-using-Yolo-images\\Detect\\Detection-of-bacteria-in-water-using-Yolo-images\\temp\\images/train\\EMDS7-G028-029-0400.png\n",
      "Processed Image saved to: D:\\KULIAH\\SEMESTER 5\\RSBP\\Bacteri\\Detection-of-bacteria-in-water-using-Yolo-images\\Detect\\Detection-of-bacteria-in-water-using-Yolo-images\\temp\\images/train\\EMDS7-G035-036-0400.png\n",
      "Processed Image saved to: D:\\KULIAH\\SEMESTER 5\\RSBP\\Bacteri\\Detection-of-bacteria-in-water-using-Yolo-images\\Detect\\Detection-of-bacteria-in-water-using-Yolo-images\\temp\\images/train\\EMDS7-G038-032-0400.png\n",
      "Processed Image saved to: D:\\KULIAH\\SEMESTER 5\\RSBP\\Bacteri\\Detection-of-bacteria-in-water-using-Yolo-images\\Detect\\Detection-of-bacteria-in-water-using-Yolo-images\\temp\\images/train\\EMDS7-G005-015-0400.png\n",
      "Processed Image saved to: D:\\KULIAH\\SEMESTER 5\\RSBP\\Bacteri\\Detection-of-bacteria-in-water-using-Yolo-images\\Detect\\Detection-of-bacteria-in-water-using-Yolo-images\\temp\\images/train\\EMDS7-G003-065-0400.png\n",
      "Processed Image saved to: D:\\KULIAH\\SEMESTER 5\\RSBP\\Bacteri\\Detection-of-bacteria-in-water-using-Yolo-images\\Detect\\Detection-of-bacteria-in-water-using-Yolo-images\\temp\\images/train\\EMDS7-G032-087-0400.png\n",
      "Processed Image saved to: D:\\KULIAH\\SEMESTER 5\\RSBP\\Bacteri\\Detection-of-bacteria-in-water-using-Yolo-images\\Detect\\Detection-of-bacteria-in-water-using-Yolo-images\\temp\\images/train\\EMDS7-G036-028-0400.png\n",
      "Processed Image saved to: D:\\KULIAH\\SEMESTER 5\\RSBP\\Bacteri\\Detection-of-bacteria-in-water-using-Yolo-images\\Detect\\Detection-of-bacteria-in-water-using-Yolo-images\\temp\\images/train\\EMDS7-G022-124-0400.png\n",
      "Processed Image saved to: D:\\KULIAH\\SEMESTER 5\\RSBP\\Bacteri\\Detection-of-bacteria-in-water-using-Yolo-images\\Detect\\Detection-of-bacteria-in-water-using-Yolo-images\\temp\\images/train\\EMDS7-G003-219-0400.png\n",
      "Processed Image saved to: D:\\KULIAH\\SEMESTER 5\\RSBP\\Bacteri\\Detection-of-bacteria-in-water-using-Yolo-images\\Detect\\Detection-of-bacteria-in-water-using-Yolo-images\\temp\\images/train\\EMDS7-G028-021-0400.png\n",
      "Processed Image saved to: D:\\KULIAH\\SEMESTER 5\\RSBP\\Bacteri\\Detection-of-bacteria-in-water-using-Yolo-images\\Detect\\Detection-of-bacteria-in-water-using-Yolo-images\\temp\\images/train\\EMDS7-G025-033-0400.png\n",
      "Processed Image saved to: D:\\KULIAH\\SEMESTER 5\\RSBP\\Bacteri\\Detection-of-bacteria-in-water-using-Yolo-images\\Detect\\Detection-of-bacteria-in-water-using-Yolo-images\\temp\\images/train\\EMDS7-G003-216-0400.png\n",
      "Processed Image saved to: D:\\KULIAH\\SEMESTER 5\\RSBP\\Bacteri\\Detection-of-bacteria-in-water-using-Yolo-images\\Detect\\Detection-of-bacteria-in-water-using-Yolo-images\\temp\\images/train\\EMDS7-G005-034-0400.png\n",
      "Processed Image saved to: D:\\KULIAH\\SEMESTER 5\\RSBP\\Bacteri\\Detection-of-bacteria-in-water-using-Yolo-images\\Detect\\Detection-of-bacteria-in-water-using-Yolo-images\\temp\\images/train\\EMDS7-G022-021-0400.png\n",
      "Processed Image saved to: D:\\KULIAH\\SEMESTER 5\\RSBP\\Bacteri\\Detection-of-bacteria-in-water-using-Yolo-images\\Detect\\Detection-of-bacteria-in-water-using-Yolo-images\\temp\\images/train\\EMDS7-G035-055-0400.png\n",
      "Processed Image saved to: D:\\KULIAH\\SEMESTER 5\\RSBP\\Bacteri\\Detection-of-bacteria-in-water-using-Yolo-images\\Detect\\Detection-of-bacteria-in-water-using-Yolo-images\\temp\\images/train\\EMDS7-G036-014-0400.png\n",
      "Processed Image saved to: D:\\KULIAH\\SEMESTER 5\\RSBP\\Bacteri\\Detection-of-bacteria-in-water-using-Yolo-images\\Detect\\Detection-of-bacteria-in-water-using-Yolo-images\\temp\\images/train\\EMDS7-G037-012-0400.png\n",
      "Processed Image saved to: D:\\KULIAH\\SEMESTER 5\\RSBP\\Bacteri\\Detection-of-bacteria-in-water-using-Yolo-images\\Detect\\Detection-of-bacteria-in-water-using-Yolo-images\\temp\\images/train\\EMDS7-G022-242-0400.png\n",
      "Processed Image saved to: D:\\KULIAH\\SEMESTER 5\\RSBP\\Bacteri\\Detection-of-bacteria-in-water-using-Yolo-images\\Detect\\Detection-of-bacteria-in-water-using-Yolo-images\\temp\\images/train\\EMDS7-G022-123-0400.png\n",
      "Processed Image saved to: D:\\KULIAH\\SEMESTER 5\\RSBP\\Bacteri\\Detection-of-bacteria-in-water-using-Yolo-images\\Detect\\Detection-of-bacteria-in-water-using-Yolo-images\\temp\\images/train\\EMDS7-G030-012-0400.png\n",
      "Processed Image saved to: D:\\KULIAH\\SEMESTER 5\\RSBP\\Bacteri\\Detection-of-bacteria-in-water-using-Yolo-images\\Detect\\Detection-of-bacteria-in-water-using-Yolo-images\\temp\\images/train\\EMDS7-G035-039-0400.png\n",
      "Processed Image saved to: D:\\KULIAH\\SEMESTER 5\\RSBP\\Bacteri\\Detection-of-bacteria-in-water-using-Yolo-images\\Detect\\Detection-of-bacteria-in-water-using-Yolo-images\\temp\\images/train\\EMDS7-G003-013-0400.png\n",
      "Processed Image saved to: D:\\KULIAH\\SEMESTER 5\\RSBP\\Bacteri\\Detection-of-bacteria-in-water-using-Yolo-images\\Detect\\Detection-of-bacteria-in-water-using-Yolo-images\\temp\\images/train\\EMDS7-G039-005-0400.png\n",
      "Processed Image saved to: D:\\KULIAH\\SEMESTER 5\\RSBP\\Bacteri\\Detection-of-bacteria-in-water-using-Yolo-images\\Detect\\Detection-of-bacteria-in-water-using-Yolo-images\\temp\\images/train\\EMDS7-G018-020-0400.png\n",
      "Processed Image saved to: D:\\KULIAH\\SEMESTER 5\\RSBP\\Bacteri\\Detection-of-bacteria-in-water-using-Yolo-images\\Detect\\Detection-of-bacteria-in-water-using-Yolo-images\\temp\\images/train\\EMDS7-G038-026-0400.png\n",
      "Processed Image saved to: D:\\KULIAH\\SEMESTER 5\\RSBP\\Bacteri\\Detection-of-bacteria-in-water-using-Yolo-images\\Detect\\Detection-of-bacteria-in-water-using-Yolo-images\\temp\\images/train\\EMDS7-G022-206-0400.png\n",
      "Processed Image saved to: D:\\KULIAH\\SEMESTER 5\\RSBP\\Bacteri\\Detection-of-bacteria-in-water-using-Yolo-images\\Detect\\Detection-of-bacteria-in-water-using-Yolo-images\\temp\\images/train\\EMDS7-G014-008-0400.png\n",
      "Processed Image saved to: D:\\KULIAH\\SEMESTER 5\\RSBP\\Bacteri\\Detection-of-bacteria-in-water-using-Yolo-images\\Detect\\Detection-of-bacteria-in-water-using-Yolo-images\\temp\\images/train\\EMDS7-G022-156-0400.png\n",
      "Processed Image saved to: D:\\KULIAH\\SEMESTER 5\\RSBP\\Bacteri\\Detection-of-bacteria-in-water-using-Yolo-images\\Detect\\Detection-of-bacteria-in-water-using-Yolo-images\\temp\\images/train\\EMDS7-G012-009-0400.png\n",
      "Processed Image saved to: D:\\KULIAH\\SEMESTER 5\\RSBP\\Bacteri\\Detection-of-bacteria-in-water-using-Yolo-images\\Detect\\Detection-of-bacteria-in-water-using-Yolo-images\\temp\\images/train\\EMDS7-G018-025-0400.png\n",
      "Processed Image saved to: D:\\KULIAH\\SEMESTER 5\\RSBP\\Bacteri\\Detection-of-bacteria-in-water-using-Yolo-images\\Detect\\Detection-of-bacteria-in-water-using-Yolo-images\\temp\\images/train\\EMDS7-G031-020-0400.png\n",
      "Processed Image saved to: D:\\KULIAH\\SEMESTER 5\\RSBP\\Bacteri\\Detection-of-bacteria-in-water-using-Yolo-images\\Detect\\Detection-of-bacteria-in-water-using-Yolo-images\\temp\\images/train\\EMDS7-G001-014-0400.png\n",
      "Processed Image saved to: D:\\KULIAH\\SEMESTER 5\\RSBP\\Bacteri\\Detection-of-bacteria-in-water-using-Yolo-images\\Detect\\Detection-of-bacteria-in-water-using-Yolo-images\\temp\\images/train\\EMDS7-G003-005-0400.png\n",
      "Processed Image saved to: D:\\KULIAH\\SEMESTER 5\\RSBP\\Bacteri\\Detection-of-bacteria-in-water-using-Yolo-images\\Detect\\Detection-of-bacteria-in-water-using-Yolo-images\\temp\\images/train\\EMDS7-G019-039-0400.png\n",
      "Processed Image saved to: D:\\KULIAH\\SEMESTER 5\\RSBP\\Bacteri\\Detection-of-bacteria-in-water-using-Yolo-images\\Detect\\Detection-of-bacteria-in-water-using-Yolo-images\\temp\\images/train\\EMDS7-G039-040-0400.png\n",
      "Processed Image saved to: D:\\KULIAH\\SEMESTER 5\\RSBP\\Bacteri\\Detection-of-bacteria-in-water-using-Yolo-images\\Detect\\Detection-of-bacteria-in-water-using-Yolo-images\\temp\\images/train\\EMDS7-G033-022-0400.png\n",
      "Processed Image saved to: D:\\KULIAH\\SEMESTER 5\\RSBP\\Bacteri\\Detection-of-bacteria-in-water-using-Yolo-images\\Detect\\Detection-of-bacteria-in-water-using-Yolo-images\\temp\\images/train\\EMDS7-G035-003-0400.png\n",
      "Processed Image saved to: D:\\KULIAH\\SEMESTER 5\\RSBP\\Bacteri\\Detection-of-bacteria-in-water-using-Yolo-images\\Detect\\Detection-of-bacteria-in-water-using-Yolo-images\\temp\\images/train\\EMDS7-G020-016-0400.png\n",
      "Processed Image saved to: D:\\KULIAH\\SEMESTER 5\\RSBP\\Bacteri\\Detection-of-bacteria-in-water-using-Yolo-images\\Detect\\Detection-of-bacteria-in-water-using-Yolo-images\\temp\\images/train\\EMDS7-G011-052-0400.png\n",
      "Processed Image saved to: D:\\KULIAH\\SEMESTER 5\\RSBP\\Bacteri\\Detection-of-bacteria-in-water-using-Yolo-images\\Detect\\Detection-of-bacteria-in-water-using-Yolo-images\\temp\\images/train\\EMDS7-G008-011-0400.png\n",
      "Processed Image saved to: D:\\KULIAH\\SEMESTER 5\\RSBP\\Bacteri\\Detection-of-bacteria-in-water-using-Yolo-images\\Detect\\Detection-of-bacteria-in-water-using-Yolo-images\\temp\\images/train\\EMDS7-G040-015-0400.png\n",
      "Processed Image saved to: D:\\KULIAH\\SEMESTER 5\\RSBP\\Bacteri\\Detection-of-bacteria-in-water-using-Yolo-images\\Detect\\Detection-of-bacteria-in-water-using-Yolo-images\\temp\\images/train\\EMDS7-G025-059-0400.png\n",
      "Processed Image saved to: D:\\KULIAH\\SEMESTER 5\\RSBP\\Bacteri\\Detection-of-bacteria-in-water-using-Yolo-images\\Detect\\Detection-of-bacteria-in-water-using-Yolo-images\\temp\\images/train\\EMDS7-G017-051-0400.png\n",
      "Processed Image saved to: D:\\KULIAH\\SEMESTER 5\\RSBP\\Bacteri\\Detection-of-bacteria-in-water-using-Yolo-images\\Detect\\Detection-of-bacteria-in-water-using-Yolo-images\\temp\\images/train\\EMDS7-G009-033-0400.png\n",
      "Processed Image saved to: D:\\KULIAH\\SEMESTER 5\\RSBP\\Bacteri\\Detection-of-bacteria-in-water-using-Yolo-images\\Detect\\Detection-of-bacteria-in-water-using-Yolo-images\\temp\\images/train\\EMDS7-G028-067-0400.png\n",
      "Processed Image saved to: D:\\KULIAH\\SEMESTER 5\\RSBP\\Bacteri\\Detection-of-bacteria-in-water-using-Yolo-images\\Detect\\Detection-of-bacteria-in-water-using-Yolo-images\\temp\\images/train\\EMDS7-G008-049-0400.png\n",
      "Processed Image saved to: D:\\KULIAH\\SEMESTER 5\\RSBP\\Bacteri\\Detection-of-bacteria-in-water-using-Yolo-images\\Detect\\Detection-of-bacteria-in-water-using-Yolo-images\\temp\\images/train\\EMDS7-G030-023-0400.png\n",
      "Processed Image saved to: D:\\KULIAH\\SEMESTER 5\\RSBP\\Bacteri\\Detection-of-bacteria-in-water-using-Yolo-images\\Detect\\Detection-of-bacteria-in-water-using-Yolo-images\\temp\\images/train\\EMDS7-G022-272-0400.png\n",
      "Processed Image saved to: D:\\KULIAH\\SEMESTER 5\\RSBP\\Bacteri\\Detection-of-bacteria-in-water-using-Yolo-images\\Detect\\Detection-of-bacteria-in-water-using-Yolo-images\\temp\\images/train\\EMDS7-G003-204-0400.png\n",
      "Processed Image saved to: D:\\KULIAH\\SEMESTER 5\\RSBP\\Bacteri\\Detection-of-bacteria-in-water-using-Yolo-images\\Detect\\Detection-of-bacteria-in-water-using-Yolo-images\\temp\\images/train\\EMDS7-G035-016-0400.png\n",
      "Processed Image saved to: D:\\KULIAH\\SEMESTER 5\\RSBP\\Bacteri\\Detection-of-bacteria-in-water-using-Yolo-images\\Detect\\Detection-of-bacteria-in-water-using-Yolo-images\\temp\\images/train\\EMDS7-G009-054-0400.png\n",
      "Processed Image saved to: D:\\KULIAH\\SEMESTER 5\\RSBP\\Bacteri\\Detection-of-bacteria-in-water-using-Yolo-images\\Detect\\Detection-of-bacteria-in-water-using-Yolo-images\\temp\\images/train\\EMDS7-G023-019-0400.png\n",
      "Processed Image saved to: D:\\KULIAH\\SEMESTER 5\\RSBP\\Bacteri\\Detection-of-bacteria-in-water-using-Yolo-images\\Detect\\Detection-of-bacteria-in-water-using-Yolo-images\\temp\\images/train\\EMDS7-G005-044-0400.png\n",
      "Processed Image saved to: D:\\KULIAH\\SEMESTER 5\\RSBP\\Bacteri\\Detection-of-bacteria-in-water-using-Yolo-images\\Detect\\Detection-of-bacteria-in-water-using-Yolo-images\\temp\\images/train\\EMDS7-G022-231-0400.png\n",
      "Processed Image saved to: D:\\KULIAH\\SEMESTER 5\\RSBP\\Bacteri\\Detection-of-bacteria-in-water-using-Yolo-images\\Detect\\Detection-of-bacteria-in-water-using-Yolo-images\\temp\\images/train\\EMDS7-G024-019-0400.png\n",
      "Processed Image saved to: D:\\KULIAH\\SEMESTER 5\\RSBP\\Bacteri\\Detection-of-bacteria-in-water-using-Yolo-images\\Detect\\Detection-of-bacteria-in-water-using-Yolo-images\\temp\\images/train\\EMDS7-G003-119-0400.png\n",
      "Processed Image saved to: D:\\KULIAH\\SEMESTER 5\\RSBP\\Bacteri\\Detection-of-bacteria-in-water-using-Yolo-images\\Detect\\Detection-of-bacteria-in-water-using-Yolo-images\\temp\\images/train\\EMDS7-G005-032-0400.png\n",
      "Processed Image saved to: D:\\KULIAH\\SEMESTER 5\\RSBP\\Bacteri\\Detection-of-bacteria-in-water-using-Yolo-images\\Detect\\Detection-of-bacteria-in-water-using-Yolo-images\\temp\\images/train\\EMDS7-G022-033-0400.png\n",
      "Processed Image saved to: D:\\KULIAH\\SEMESTER 5\\RSBP\\Bacteri\\Detection-of-bacteria-in-water-using-Yolo-images\\Detect\\Detection-of-bacteria-in-water-using-Yolo-images\\temp\\images/train\\EMDS7-G009-003-0400.png\n",
      "Processed Image saved to: D:\\KULIAH\\SEMESTER 5\\RSBP\\Bacteri\\Detection-of-bacteria-in-water-using-Yolo-images\\Detect\\Detection-of-bacteria-in-water-using-Yolo-images\\temp\\images/train\\EMDS7-G023-049-0400.png\n",
      "Processed Image saved to: D:\\KULIAH\\SEMESTER 5\\RSBP\\Bacteri\\Detection-of-bacteria-in-water-using-Yolo-images\\Detect\\Detection-of-bacteria-in-water-using-Yolo-images\\temp\\images/train\\EMDS7-G019-040-0400.png\n",
      "Processed Image saved to: D:\\KULIAH\\SEMESTER 5\\RSBP\\Bacteri\\Detection-of-bacteria-in-water-using-Yolo-images\\Detect\\Detection-of-bacteria-in-water-using-Yolo-images\\temp\\images/train\\EMDS7-G022-147-0400.png\n",
      "Processed Image saved to: D:\\KULIAH\\SEMESTER 5\\RSBP\\Bacteri\\Detection-of-bacteria-in-water-using-Yolo-images\\Detect\\Detection-of-bacteria-in-water-using-Yolo-images\\temp\\images/train\\EMDS7-G014-025-0400.png\n",
      "Processed Image saved to: D:\\KULIAH\\SEMESTER 5\\RSBP\\Bacteri\\Detection-of-bacteria-in-water-using-Yolo-images\\Detect\\Detection-of-bacteria-in-water-using-Yolo-images\\temp\\images/train\\EMDS7-G004-030-0400.png\n",
      "Processed Image saved to: D:\\KULIAH\\SEMESTER 5\\RSBP\\Bacteri\\Detection-of-bacteria-in-water-using-Yolo-images\\Detect\\Detection-of-bacteria-in-water-using-Yolo-images\\temp\\images/train\\EMDS7-G033-016-0400.png\n",
      "Processed Image saved to: D:\\KULIAH\\SEMESTER 5\\RSBP\\Bacteri\\Detection-of-bacteria-in-water-using-Yolo-images\\Detect\\Detection-of-bacteria-in-water-using-Yolo-images\\temp\\images/train\\EMDS7-G012-101-0400.png\n",
      "Processed Image saved to: D:\\KULIAH\\SEMESTER 5\\RSBP\\Bacteri\\Detection-of-bacteria-in-water-using-Yolo-images\\Detect\\Detection-of-bacteria-in-water-using-Yolo-images\\temp\\images/train\\EMDS7-G003-067-0400.png\n",
      "Processed Image saved to: D:\\KULIAH\\SEMESTER 5\\RSBP\\Bacteri\\Detection-of-bacteria-in-water-using-Yolo-images\\Detect\\Detection-of-bacteria-in-water-using-Yolo-images\\temp\\images/train\\EMDS7-G025-067-0400.png\n",
      "Processed Image saved to: D:\\KULIAH\\SEMESTER 5\\RSBP\\Bacteri\\Detection-of-bacteria-in-water-using-Yolo-images\\Detect\\Detection-of-bacteria-in-water-using-Yolo-images\\temp\\images/train\\EMDS7-G004-043-0400.png\n",
      "Processed Image saved to: D:\\KULIAH\\SEMESTER 5\\RSBP\\Bacteri\\Detection-of-bacteria-in-water-using-Yolo-images\\Detect\\Detection-of-bacteria-in-water-using-Yolo-images\\temp\\images/train\\EMDS7-G003-064-0400.png\n",
      "Processed Image saved to: D:\\KULIAH\\SEMESTER 5\\RSBP\\Bacteri\\Detection-of-bacteria-in-water-using-Yolo-images\\Detect\\Detection-of-bacteria-in-water-using-Yolo-images\\temp\\images/train\\EMDS7-G022-071-0400.png\n",
      "Processed Image saved to: D:\\KULIAH\\SEMESTER 5\\RSBP\\Bacteri\\Detection-of-bacteria-in-water-using-Yolo-images\\Detect\\Detection-of-bacteria-in-water-using-Yolo-images\\temp\\images/train\\EMDS7-G023-046-0400.png\n",
      "Processed Image saved to: D:\\KULIAH\\SEMESTER 5\\RSBP\\Bacteri\\Detection-of-bacteria-in-water-using-Yolo-images\\Detect\\Detection-of-bacteria-in-water-using-Yolo-images\\temp\\images/train\\EMDS7-G036-007-0400.png\n",
      "Processed Image saved to: D:\\KULIAH\\SEMESTER 5\\RSBP\\Bacteri\\Detection-of-bacteria-in-water-using-Yolo-images\\Detect\\Detection-of-bacteria-in-water-using-Yolo-images\\temp\\images/train\\EMDS7-G020-013-0400.png\n",
      "Processed Image saved to: D:\\KULIAH\\SEMESTER 5\\RSBP\\Bacteri\\Detection-of-bacteria-in-water-using-Yolo-images\\Detect\\Detection-of-bacteria-in-water-using-Yolo-images\\temp\\images/train\\EMDS7-G022-203-0400.png\n",
      "Processed Image saved to: D:\\KULIAH\\SEMESTER 5\\RSBP\\Bacteri\\Detection-of-bacteria-in-water-using-Yolo-images\\Detect\\Detection-of-bacteria-in-water-using-Yolo-images\\temp\\images/train\\EMDS7-G008-012-0400.png\n",
      "Processed Image saved to: D:\\KULIAH\\SEMESTER 5\\RSBP\\Bacteri\\Detection-of-bacteria-in-water-using-Yolo-images\\Detect\\Detection-of-bacteria-in-water-using-Yolo-images\\temp\\images/train\\EMDS7-G014-084-0400.png\n",
      "Processed Image saved to: D:\\KULIAH\\SEMESTER 5\\RSBP\\Bacteri\\Detection-of-bacteria-in-water-using-Yolo-images\\Detect\\Detection-of-bacteria-in-water-using-Yolo-images\\temp\\images/train\\EMDS7-G014-007-0400.png\n",
      "Processed Image saved to: D:\\KULIAH\\SEMESTER 5\\RSBP\\Bacteri\\Detection-of-bacteria-in-water-using-Yolo-images\\Detect\\Detection-of-bacteria-in-water-using-Yolo-images\\temp\\images/train\\EMDS7-G005-006-0400.png\n",
      "Processed Image saved to: D:\\KULIAH\\SEMESTER 5\\RSBP\\Bacteri\\Detection-of-bacteria-in-water-using-Yolo-images\\Detect\\Detection-of-bacteria-in-water-using-Yolo-images\\temp\\images/train\\EMDS7-G020-026-0400.png\n",
      "Processed Image saved to: D:\\KULIAH\\SEMESTER 5\\RSBP\\Bacteri\\Detection-of-bacteria-in-water-using-Yolo-images\\Detect\\Detection-of-bacteria-in-water-using-Yolo-images\\temp\\images/train\\EMDS7-G028-041-0400.png\n",
      "Processed Image saved to: D:\\KULIAH\\SEMESTER 5\\RSBP\\Bacteri\\Detection-of-bacteria-in-water-using-Yolo-images\\Detect\\Detection-of-bacteria-in-water-using-Yolo-images\\temp\\images/train\\EMDS7-G019-034-0400.png\n",
      "Processed Image saved to: D:\\KULIAH\\SEMESTER 5\\RSBP\\Bacteri\\Detection-of-bacteria-in-water-using-Yolo-images\\Detect\\Detection-of-bacteria-in-water-using-Yolo-images\\temp\\images/train\\EMDS7-G014-070-0400.png\n",
      "Processed Image saved to: D:\\KULIAH\\SEMESTER 5\\RSBP\\Bacteri\\Detection-of-bacteria-in-water-using-Yolo-images\\Detect\\Detection-of-bacteria-in-water-using-Yolo-images\\temp\\images/train\\EMDS7-G011-013-0400.png\n",
      "Processed Image saved to: D:\\KULIAH\\SEMESTER 5\\RSBP\\Bacteri\\Detection-of-bacteria-in-water-using-Yolo-images\\Detect\\Detection-of-bacteria-in-water-using-Yolo-images\\temp\\images/train\\EMDS7-G009-056-0400.png\n",
      "Processed Image saved to: D:\\KULIAH\\SEMESTER 5\\RSBP\\Bacteri\\Detection-of-bacteria-in-water-using-Yolo-images\\Detect\\Detection-of-bacteria-in-water-using-Yolo-images\\temp\\images/train\\EMDS7-G005-050-0400.png\n",
      "Skipping image EMDS7-G029-010-0400.png due to no valid classes.\n",
      "Processed Image saved to: D:\\KULIAH\\SEMESTER 5\\RSBP\\Bacteri\\Detection-of-bacteria-in-water-using-Yolo-images\\Detect\\Detection-of-bacteria-in-water-using-Yolo-images\\temp\\images/train\\EMDS7-G027-017-0400.png\n",
      "Processed Image saved to: D:\\KULIAH\\SEMESTER 5\\RSBP\\Bacteri\\Detection-of-bacteria-in-water-using-Yolo-images\\Detect\\Detection-of-bacteria-in-water-using-Yolo-images\\temp\\images/train\\EMDS7-G039-037-0400.png\n",
      "Processed Image saved to: D:\\KULIAH\\SEMESTER 5\\RSBP\\Bacteri\\Detection-of-bacteria-in-water-using-Yolo-images\\Detect\\Detection-of-bacteria-in-water-using-Yolo-images\\temp\\images/train\\EMDS7-G025-021-0400.png\n",
      "Processed Image saved to: D:\\KULIAH\\SEMESTER 5\\RSBP\\Bacteri\\Detection-of-bacteria-in-water-using-Yolo-images\\Detect\\Detection-of-bacteria-in-water-using-Yolo-images\\temp\\images/train\\EMDS7-G022-132-0400.png\n",
      "Processed Image saved to: D:\\KULIAH\\SEMESTER 5\\RSBP\\Bacteri\\Detection-of-bacteria-in-water-using-Yolo-images\\Detect\\Detection-of-bacteria-in-water-using-Yolo-images\\temp\\images/train\\EMDS7-G004-002-0400.png\n",
      "Processed Image saved to: D:\\KULIAH\\SEMESTER 5\\RSBP\\Bacteri\\Detection-of-bacteria-in-water-using-Yolo-images\\Detect\\Detection-of-bacteria-in-water-using-Yolo-images\\temp\\images/train\\EMDS7-G003-116-0400.png\n",
      "Processed Image saved to: D:\\KULIAH\\SEMESTER 5\\RSBP\\Bacteri\\Detection-of-bacteria-in-water-using-Yolo-images\\Detect\\Detection-of-bacteria-in-water-using-Yolo-images\\temp\\images/train\\EMDS7-G008-039-0400.png\n",
      "Processed Image saved to: D:\\KULIAH\\SEMESTER 5\\RSBP\\Bacteri\\Detection-of-bacteria-in-water-using-Yolo-images\\Detect\\Detection-of-bacteria-in-water-using-Yolo-images\\temp\\images/train\\EMDS7-G017-014-0400.png\n",
      "Processed Image saved to: D:\\KULIAH\\SEMESTER 5\\RSBP\\Bacteri\\Detection-of-bacteria-in-water-using-Yolo-images\\Detect\\Detection-of-bacteria-in-water-using-Yolo-images\\temp\\images/train\\EMDS7-G033-015-0400.png\n",
      "Processed Image saved to: D:\\KULIAH\\SEMESTER 5\\RSBP\\Bacteri\\Detection-of-bacteria-in-water-using-Yolo-images\\Detect\\Detection-of-bacteria-in-water-using-Yolo-images\\temp\\images/train\\EMDS7-G022-074-0400.png\n",
      "Processed Image saved to: D:\\KULIAH\\SEMESTER 5\\RSBP\\Bacteri\\Detection-of-bacteria-in-water-using-Yolo-images\\Detect\\Detection-of-bacteria-in-water-using-Yolo-images\\temp\\images/train\\EMDS7-G032-083-0400.png\n",
      "Processed Image saved to: D:\\KULIAH\\SEMESTER 5\\RSBP\\Bacteri\\Detection-of-bacteria-in-water-using-Yolo-images\\Detect\\Detection-of-bacteria-in-water-using-Yolo-images\\temp\\images/train\\EMDS7-G003-040-0400.png\n",
      "Processed Image saved to: D:\\KULIAH\\SEMESTER 5\\RSBP\\Bacteri\\Detection-of-bacteria-in-water-using-Yolo-images\\Detect\\Detection-of-bacteria-in-water-using-Yolo-images\\temp\\images/train\\EMDS7-G023-018-0400.png\n",
      "Processed Image saved to: D:\\KULIAH\\SEMESTER 5\\RSBP\\Bacteri\\Detection-of-bacteria-in-water-using-Yolo-images\\Detect\\Detection-of-bacteria-in-water-using-Yolo-images\\temp\\images/train\\EMDS7-G018-042-0400.png\n",
      "Processed Image saved to: D:\\KULIAH\\SEMESTER 5\\RSBP\\Bacteri\\Detection-of-bacteria-in-water-using-Yolo-images\\Detect\\Detection-of-bacteria-in-water-using-Yolo-images\\temp\\images/train\\EMDS7-G019-023-0400.png\n",
      "Processed Image saved to: D:\\KULIAH\\SEMESTER 5\\RSBP\\Bacteri\\Detection-of-bacteria-in-water-using-Yolo-images\\Detect\\Detection-of-bacteria-in-water-using-Yolo-images\\temp\\images/train\\EMDS7-G022-049-0400.png\n",
      "Processed Image saved to: D:\\KULIAH\\SEMESTER 5\\RSBP\\Bacteri\\Detection-of-bacteria-in-water-using-Yolo-images\\Detect\\Detection-of-bacteria-in-water-using-Yolo-images\\temp\\images/train\\EMDS7-G038-025-0400.png\n",
      "Processed Image saved to: D:\\KULIAH\\SEMESTER 5\\RSBP\\Bacteri\\Detection-of-bacteria-in-water-using-Yolo-images\\Detect\\Detection-of-bacteria-in-water-using-Yolo-images\\temp\\images/train\\EMDS7-G007-008-0400.png\n",
      "Processed Image saved to: D:\\KULIAH\\SEMESTER 5\\RSBP\\Bacteri\\Detection-of-bacteria-in-water-using-Yolo-images\\Detect\\Detection-of-bacteria-in-water-using-Yolo-images\\temp\\images/train\\EMDS7-G036-037-0400.png\n",
      "Processed Image saved to: D:\\KULIAH\\SEMESTER 5\\RSBP\\Bacteri\\Detection-of-bacteria-in-water-using-Yolo-images\\Detect\\Detection-of-bacteria-in-water-using-Yolo-images\\temp\\images/train\\EMDS7-G035-030-0400.png\n",
      "Processed Image saved to: D:\\KULIAH\\SEMESTER 5\\RSBP\\Bacteri\\Detection-of-bacteria-in-water-using-Yolo-images\\Detect\\Detection-of-bacteria-in-water-using-Yolo-images\\temp\\images/train\\EMDS7-G003-075-0400.png\n",
      "Processed Image saved to: D:\\KULIAH\\SEMESTER 5\\RSBP\\Bacteri\\Detection-of-bacteria-in-water-using-Yolo-images\\Detect\\Detection-of-bacteria-in-water-using-Yolo-images\\temp\\images/train\\EMDS7-G010-025-0400.png\n",
      "Processed Image saved to: D:\\KULIAH\\SEMESTER 5\\RSBP\\Bacteri\\Detection-of-bacteria-in-water-using-Yolo-images\\Detect\\Detection-of-bacteria-in-water-using-Yolo-images\\temp\\images/train\\EMDS7-G012-099-0400.png\n",
      "Processed Image saved to: D:\\KULIAH\\SEMESTER 5\\RSBP\\Bacteri\\Detection-of-bacteria-in-water-using-Yolo-images\\Detect\\Detection-of-bacteria-in-water-using-Yolo-images\\temp\\images/train\\EMDS7-G022-205-0400.png\n",
      "Processed Image saved to: D:\\KULIAH\\SEMESTER 5\\RSBP\\Bacteri\\Detection-of-bacteria-in-water-using-Yolo-images\\Detect\\Detection-of-bacteria-in-water-using-Yolo-images\\temp\\images/train\\EMDS7-G033-028-0400.png\n",
      "Processed Image saved to: D:\\KULIAH\\SEMESTER 5\\RSBP\\Bacteri\\Detection-of-bacteria-in-water-using-Yolo-images\\Detect\\Detection-of-bacteria-in-water-using-Yolo-images\\temp\\images/train\\EMDS7-G026-003-0400.png\n",
      "Processed Image saved to: D:\\KULIAH\\SEMESTER 5\\RSBP\\Bacteri\\Detection-of-bacteria-in-water-using-Yolo-images\\Detect\\Detection-of-bacteria-in-water-using-Yolo-images\\temp\\images/train\\EMDS7-G008-028-0400.png\n",
      "Processed Image saved to: D:\\KULIAH\\SEMESTER 5\\RSBP\\Bacteri\\Detection-of-bacteria-in-water-using-Yolo-images\\Detect\\Detection-of-bacteria-in-water-using-Yolo-images\\temp\\images/train\\EMDS7-G001-003-0400.png\n",
      "Processed Image saved to: D:\\KULIAH\\SEMESTER 5\\RSBP\\Bacteri\\Detection-of-bacteria-in-water-using-Yolo-images\\Detect\\Detection-of-bacteria-in-water-using-Yolo-images\\temp\\images/train\\EMDS7-G027-012-0400.png\n",
      "Processed Image saved to: D:\\KULIAH\\SEMESTER 5\\RSBP\\Bacteri\\Detection-of-bacteria-in-water-using-Yolo-images\\Detect\\Detection-of-bacteria-in-water-using-Yolo-images\\temp\\images/train\\EMDS7-G017-010-0400.png\n",
      "Processed Image saved to: D:\\KULIAH\\SEMESTER 5\\RSBP\\Bacteri\\Detection-of-bacteria-in-water-using-Yolo-images\\Detect\\Detection-of-bacteria-in-water-using-Yolo-images\\temp\\images/train\\EMDS7-G017-027-0400.png\n",
      "Processed Image saved to: D:\\KULIAH\\SEMESTER 5\\RSBP\\Bacteri\\Detection-of-bacteria-in-water-using-Yolo-images\\Detect\\Detection-of-bacteria-in-water-using-Yolo-images\\temp\\images/train\\EMDS7-G035-056-0400.png\n",
      "Processed Image saved to: D:\\KULIAH\\SEMESTER 5\\RSBP\\Bacteri\\Detection-of-bacteria-in-water-using-Yolo-images\\Detect\\Detection-of-bacteria-in-water-using-Yolo-images\\temp\\images/train\\EMDS7-G008-002-0400.png\n",
      "Processed Image saved to: D:\\KULIAH\\SEMESTER 5\\RSBP\\Bacteri\\Detection-of-bacteria-in-water-using-Yolo-images\\Detect\\Detection-of-bacteria-in-water-using-Yolo-images\\temp\\images/train\\EMDS7-G012-027-0400.png\n",
      "Processed Image saved to: D:\\KULIAH\\SEMESTER 5\\RSBP\\Bacteri\\Detection-of-bacteria-in-water-using-Yolo-images\\Detect\\Detection-of-bacteria-in-water-using-Yolo-images\\temp\\images/train\\EMDS7-G029-005-0400.png\n",
      "Processed Image saved to: D:\\KULIAH\\SEMESTER 5\\RSBP\\Bacteri\\Detection-of-bacteria-in-water-using-Yolo-images\\Detect\\Detection-of-bacteria-in-water-using-Yolo-images\\temp\\images/train\\EMDS7-G017-063-0400.png\n",
      "Processed Image saved to: D:\\KULIAH\\SEMESTER 5\\RSBP\\Bacteri\\Detection-of-bacteria-in-water-using-Yolo-images\\Detect\\Detection-of-bacteria-in-water-using-Yolo-images\\temp\\images/train\\EMDS7-G035-002-0400.png\n",
      "Processed Image saved to: D:\\KULIAH\\SEMESTER 5\\RSBP\\Bacteri\\Detection-of-bacteria-in-water-using-Yolo-images\\Detect\\Detection-of-bacteria-in-water-using-Yolo-images\\temp\\images/train\\EMDS7-G027-006-0400.png\n",
      "Processed Image saved to: D:\\KULIAH\\SEMESTER 5\\RSBP\\Bacteri\\Detection-of-bacteria-in-water-using-Yolo-images\\Detect\\Detection-of-bacteria-in-water-using-Yolo-images\\temp\\images/train\\EMDS7-G022-013-0400.png\n",
      "Processed Image saved to: D:\\KULIAH\\SEMESTER 5\\RSBP\\Bacteri\\Detection-of-bacteria-in-water-using-Yolo-images\\Detect\\Detection-of-bacteria-in-water-using-Yolo-images\\temp\\images/train\\EMDS7-G016-012-0400.png\n",
      "Processed Image saved to: D:\\KULIAH\\SEMESTER 5\\RSBP\\Bacteri\\Detection-of-bacteria-in-water-using-Yolo-images\\Detect\\Detection-of-bacteria-in-water-using-Yolo-images\\temp\\images/train\\EMDS7-G008-018-0400.png\n",
      "Processed Image saved to: D:\\KULIAH\\SEMESTER 5\\RSBP\\Bacteri\\Detection-of-bacteria-in-water-using-Yolo-images\\Detect\\Detection-of-bacteria-in-water-using-Yolo-images\\temp\\images/train\\EMDS7-G025-009-0400.png\n",
      "Processed Image saved to: D:\\KULIAH\\SEMESTER 5\\RSBP\\Bacteri\\Detection-of-bacteria-in-water-using-Yolo-images\\Detect\\Detection-of-bacteria-in-water-using-Yolo-images\\temp\\images/train\\EMDS7-G003-180-0400.png\n",
      "Processed Image saved to: D:\\KULIAH\\SEMESTER 5\\RSBP\\Bacteri\\Detection-of-bacteria-in-water-using-Yolo-images\\Detect\\Detection-of-bacteria-in-water-using-Yolo-images\\temp\\images/train\\EMDS7-G020-034-0400.png\n",
      "Processed Image saved to: D:\\KULIAH\\SEMESTER 5\\RSBP\\Bacteri\\Detection-of-bacteria-in-water-using-Yolo-images\\Detect\\Detection-of-bacteria-in-water-using-Yolo-images\\temp\\images/train\\EMDS7-G038-023-0400.png\n",
      "Processed Image saved to: D:\\KULIAH\\SEMESTER 5\\RSBP\\Bacteri\\Detection-of-bacteria-in-water-using-Yolo-images\\Detect\\Detection-of-bacteria-in-water-using-Yolo-images\\temp\\images/train\\EMDS7-G003-095-0400.png\n",
      "Processed Image saved to: D:\\KULIAH\\SEMESTER 5\\RSBP\\Bacteri\\Detection-of-bacteria-in-water-using-Yolo-images\\Detect\\Detection-of-bacteria-in-water-using-Yolo-images\\temp\\images/train\\EMDS7-G003-006-0400.png\n",
      "Processed Image saved to: D:\\KULIAH\\SEMESTER 5\\RSBP\\Bacteri\\Detection-of-bacteria-in-water-using-Yolo-images\\Detect\\Detection-of-bacteria-in-water-using-Yolo-images\\temp\\images/train\\EMDS7-G003-208-0400.png\n",
      "Processed Image saved to: D:\\KULIAH\\SEMESTER 5\\RSBP\\Bacteri\\Detection-of-bacteria-in-water-using-Yolo-images\\Detect\\Detection-of-bacteria-in-water-using-Yolo-images\\temp\\images/train\\EMDS7-G030-018-0400.png\n",
      "Processed Image saved to: D:\\KULIAH\\SEMESTER 5\\RSBP\\Bacteri\\Detection-of-bacteria-in-water-using-Yolo-images\\Detect\\Detection-of-bacteria-in-water-using-Yolo-images\\temp\\images/train\\EMDS7-G004-045-0400.png\n",
      "Processed Image saved to: D:\\KULIAH\\SEMESTER 5\\RSBP\\Bacteri\\Detection-of-bacteria-in-water-using-Yolo-images\\Detect\\Detection-of-bacteria-in-water-using-Yolo-images\\temp\\images/train\\EMDS7-G039-065-0400.png\n",
      "Processed Image saved to: D:\\KULIAH\\SEMESTER 5\\RSBP\\Bacteri\\Detection-of-bacteria-in-water-using-Yolo-images\\Detect\\Detection-of-bacteria-in-water-using-Yolo-images\\temp\\images/train\\EMDS7-G003-128-0400.png\n",
      "Processed Image saved to: D:\\KULIAH\\SEMESTER 5\\RSBP\\Bacteri\\Detection-of-bacteria-in-water-using-Yolo-images\\Detect\\Detection-of-bacteria-in-water-using-Yolo-images\\temp\\images/train\\EMDS7-G036-080-0400.png\n",
      "Processed Image saved to: D:\\KULIAH\\SEMESTER 5\\RSBP\\Bacteri\\Detection-of-bacteria-in-water-using-Yolo-images\\Detect\\Detection-of-bacteria-in-water-using-Yolo-images\\temp\\images/train\\EMDS7-G022-097-0400.png\n",
      "Processed Image saved to: D:\\KULIAH\\SEMESTER 5\\RSBP\\Bacteri\\Detection-of-bacteria-in-water-using-Yolo-images\\Detect\\Detection-of-bacteria-in-water-using-Yolo-images\\temp\\images/train\\EMDS7-G039-041-0400.png\n",
      "Processed Image saved to: D:\\KULIAH\\SEMESTER 5\\RSBP\\Bacteri\\Detection-of-bacteria-in-water-using-Yolo-images\\Detect\\Detection-of-bacteria-in-water-using-Yolo-images\\temp\\images/train\\EMDS7-G036-055-0400.png\n",
      "Processed Image saved to: D:\\KULIAH\\SEMESTER 5\\RSBP\\Bacteri\\Detection-of-bacteria-in-water-using-Yolo-images\\Detect\\Detection-of-bacteria-in-water-using-Yolo-images\\temp\\images/train\\EMDS7-G009-080-0400.png\n",
      "Processed Image saved to: D:\\KULIAH\\SEMESTER 5\\RSBP\\Bacteri\\Detection-of-bacteria-in-water-using-Yolo-images\\Detect\\Detection-of-bacteria-in-water-using-Yolo-images\\temp\\images/train\\EMDS7-G019-011-0400.png\n",
      "Processed Image saved to: D:\\KULIAH\\SEMESTER 5\\RSBP\\Bacteri\\Detection-of-bacteria-in-water-using-Yolo-images\\Detect\\Detection-of-bacteria-in-water-using-Yolo-images\\temp\\images/train\\EMDS7-G003-008-0400.png\n",
      "Processed Image saved to: D:\\KULIAH\\SEMESTER 5\\RSBP\\Bacteri\\Detection-of-bacteria-in-water-using-Yolo-images\\Detect\\Detection-of-bacteria-in-water-using-Yolo-images\\temp\\images/train\\EMDS7-G023-005-0400.png\n",
      "Processed Image saved to: D:\\KULIAH\\SEMESTER 5\\RSBP\\Bacteri\\Detection-of-bacteria-in-water-using-Yolo-images\\Detect\\Detection-of-bacteria-in-water-using-Yolo-images\\temp\\images/train\\EMDS7-G033-017-0400.png\n",
      "Processed Image saved to: D:\\KULIAH\\SEMESTER 5\\RSBP\\Bacteri\\Detection-of-bacteria-in-water-using-Yolo-images\\Detect\\Detection-of-bacteria-in-water-using-Yolo-images\\temp\\images/train\\EMDS7-G032-014-0400.png\n",
      "Processed Image saved to: D:\\KULIAH\\SEMESTER 5\\RSBP\\Bacteri\\Detection-of-bacteria-in-water-using-Yolo-images\\Detect\\Detection-of-bacteria-in-water-using-Yolo-images\\temp\\images/train\\EMDS7-G019-036-0400.png\n",
      "Processed Image saved to: D:\\KULIAH\\SEMESTER 5\\RSBP\\Bacteri\\Detection-of-bacteria-in-water-using-Yolo-images\\Detect\\Detection-of-bacteria-in-water-using-Yolo-images\\temp\\images/train\\EMDS7-G028-061-0400.png\n",
      "Processed Image saved to: D:\\KULIAH\\SEMESTER 5\\RSBP\\Bacteri\\Detection-of-bacteria-in-water-using-Yolo-images\\Detect\\Detection-of-bacteria-in-water-using-Yolo-images\\temp\\images/train\\EMDS7-G003-047-0400.png\n",
      "Processed Image saved to: D:\\KULIAH\\SEMESTER 5\\RSBP\\Bacteri\\Detection-of-bacteria-in-water-using-Yolo-images\\Detect\\Detection-of-bacteria-in-water-using-Yolo-images\\temp\\images/train\\EMDS7-G035-043-0400.pngProcessed Image saved to: D:\\KULIAH\\SEMESTER 5\\RSBP\\Bacteri\\Detection-of-bacteria-in-water-using-Yolo-images\\Detect\\Detection-of-bacteria-in-water-using-Yolo-images\\temp\\images/train\\EMDS7-G012-007-0400.png\n",
      "Processed Image saved to: D:\\KULIAH\\SEMESTER 5\\RSBP\\Bacteri\\Detection-of-bacteria-in-water-using-Yolo-images\\Detect\\Detection-of-bacteria-in-water-using-Yolo-images\\temp\\images/train\\EMDS7-G038-036-0400.png\n",
      "\n",
      "Processed Image saved to: D:\\KULIAH\\SEMESTER 5\\RSBP\\Bacteri\\Detection-of-bacteria-in-water-using-Yolo-images\\Detect\\Detection-of-bacteria-in-water-using-Yolo-images\\temp\\images/train\\EMDS7-G030-045-0400.png\n",
      "Processed Image saved to: D:\\KULIAH\\SEMESTER 5\\RSBP\\Bacteri\\Detection-of-bacteria-in-water-using-Yolo-images\\Detect\\Detection-of-bacteria-in-water-using-Yolo-images\\temp\\images/train\\EMDS7-G022-202-0400.png\n",
      "Processed Image saved to: D:\\KULIAH\\SEMESTER 5\\RSBP\\Bacteri\\Detection-of-bacteria-in-water-using-Yolo-images\\Detect\\Detection-of-bacteria-in-water-using-Yolo-images\\temp\\images/train\\EMDS7-G036-035-0400.png\n",
      "Processed Image saved to: D:\\KULIAH\\SEMESTER 5\\RSBP\\Bacteri\\Detection-of-bacteria-in-water-using-Yolo-images\\Detect\\Detection-of-bacteria-in-water-using-Yolo-images\\temp\\images/train\\EMDS7-G023-042-0400.png\n",
      "Processed Image saved to: D:\\KULIAH\\SEMESTER 5\\RSBP\\Bacteri\\Detection-of-bacteria-in-water-using-Yolo-images\\Detect\\Detection-of-bacteria-in-water-using-Yolo-images\\temp\\images/train\\EMDS7-G038-065-0400.png\n",
      "Processed Image saved to: D:\\KULIAH\\SEMESTER 5\\RSBP\\Bacteri\\Detection-of-bacteria-in-water-using-Yolo-images\\Detect\\Detection-of-bacteria-in-water-using-Yolo-images\\temp\\images/train\\EMDS7-G023-045-0400.png\n",
      "Processed Image saved to: D:\\KULIAH\\SEMESTER 5\\RSBP\\Bacteri\\Detection-of-bacteria-in-water-using-Yolo-images\\Detect\\Detection-of-bacteria-in-water-using-Yolo-images\\temp\\images/train\\EMDS7-G006-008-0400.png\n",
      "Processed Image saved to: D:\\KULIAH\\SEMESTER 5\\RSBP\\Bacteri\\Detection-of-bacteria-in-water-using-Yolo-images\\Detect\\Detection-of-bacteria-in-water-using-Yolo-images\\temp\\images/train\\EMDS7-G009-036-0400.png\n",
      "Processed Image saved to: D:\\KULIAH\\SEMESTER 5\\RSBP\\Bacteri\\Detection-of-bacteria-in-water-using-Yolo-images\\Detect\\Detection-of-bacteria-in-water-using-Yolo-images\\temp\\images/train\\EMDS7-G017-019-0400.png\n",
      "Processed Image saved to: D:\\KULIAH\\SEMESTER 5\\RSBP\\Bacteri\\Detection-of-bacteria-in-water-using-Yolo-images\\Detect\\Detection-of-bacteria-in-water-using-Yolo-images\\temp\\images/train\\EMDS7-G003-045-0400.png\n",
      "Processed Image saved to: D:\\KULIAH\\SEMESTER 5\\RSBP\\Bacteri\\Detection-of-bacteria-in-water-using-Yolo-images\\Detect\\Detection-of-bacteria-in-water-using-Yolo-images\\temp\\images/train\\EMDS7-G003-139-0400.png\n",
      "Processed Image saved to: D:\\KULIAH\\SEMESTER 5\\RSBP\\Bacteri\\Detection-of-bacteria-in-water-using-Yolo-images\\Detect\\Detection-of-bacteria-in-water-using-Yolo-images\\temp\\images/train\\EMDS7-G005-048-0400.png\n",
      "Processed Image saved to: D:\\KULIAH\\SEMESTER 5\\RSBP\\Bacteri\\Detection-of-bacteria-in-water-using-Yolo-images\\Detect\\Detection-of-bacteria-in-water-using-Yolo-images\\temp\\images/train\\EMDS7-G003-190-0400.png\n",
      "Processed Image saved to: D:\\KULIAH\\SEMESTER 5\\RSBP\\Bacteri\\Detection-of-bacteria-in-water-using-Yolo-images\\Detect\\Detection-of-bacteria-in-water-using-Yolo-images\\temp\\images/train\\EMDS7-G010-019-0400.png\n",
      "Processed Image saved to: D:\\KULIAH\\SEMESTER 5\\RSBP\\Bacteri\\Detection-of-bacteria-in-water-using-Yolo-images\\Detect\\Detection-of-bacteria-in-water-using-Yolo-images\\temp\\images/train\\EMDS7-G014-011-0400.png\n",
      "Processed Image saved to: D:\\KULIAH\\SEMESTER 5\\RSBP\\Bacteri\\Detection-of-bacteria-in-water-using-Yolo-images\\Detect\\Detection-of-bacteria-in-water-using-Yolo-images\\temp\\images/train\\EMDS7-G038-052-0400.png\n",
      "Processed Image saved to: D:\\KULIAH\\SEMESTER 5\\RSBP\\Bacteri\\Detection-of-bacteria-in-water-using-Yolo-images\\Detect\\Detection-of-bacteria-in-water-using-Yolo-images\\temp\\images/train\\EMDS7-G038-006-0400.png\n",
      "Processed Image saved to: D:\\KULIAH\\SEMESTER 5\\RSBP\\Bacteri\\Detection-of-bacteria-in-water-using-Yolo-images\\Detect\\Detection-of-bacteria-in-water-using-Yolo-images\\temp\\images/train\\EMDS7-G012-093-0400.png\n",
      "Processed Image saved to: D:\\KULIAH\\SEMESTER 5\\RSBP\\Bacteri\\Detection-of-bacteria-in-water-using-Yolo-images\\Detect\\Detection-of-bacteria-in-water-using-Yolo-images\\temp\\images/train\\EMDS7-G022-041-0400.png\n",
      "Processed Image saved to: D:\\KULIAH\\SEMESTER 5\\RSBP\\Bacteri\\Detection-of-bacteria-in-water-using-Yolo-images\\Detect\\Detection-of-bacteria-in-water-using-Yolo-images\\temp\\images/train\\EMDS7-G003-134-0400.png\n",
      "Processed Image saved to: D:\\KULIAH\\SEMESTER 5\\RSBP\\Bacteri\\Detection-of-bacteria-in-water-using-Yolo-images\\Detect\\Detection-of-bacteria-in-water-using-Yolo-images\\temp\\images/train\\EMDS7-G032-063-0400.png\n",
      "Processed Image saved to: D:\\KULIAH\\SEMESTER 5\\RSBP\\Bacteri\\Detection-of-bacteria-in-water-using-Yolo-images\\Detect\\Detection-of-bacteria-in-water-using-Yolo-images\\temp\\images/train\\EMDS7-G012-015-0400.png\n",
      "Processed Image saved to: D:\\KULIAH\\SEMESTER 5\\RSBP\\Bacteri\\Detection-of-bacteria-in-water-using-Yolo-images\\Detect\\Detection-of-bacteria-in-water-using-Yolo-images\\temp\\images/train\\EMDS7-G009-034-0400.png\n",
      "Processed Image saved to: D:\\KULIAH\\SEMESTER 5\\RSBP\\Bacteri\\Detection-of-bacteria-in-water-using-Yolo-images\\Detect\\Detection-of-bacteria-in-water-using-Yolo-images\\temp\\images/train\\EMDS7-G025-025-0400.png\n",
      "Processed Image saved to: D:\\KULIAH\\SEMESTER 5\\RSBP\\Bacteri\\Detection-of-bacteria-in-water-using-Yolo-images\\Detect\\Detection-of-bacteria-in-water-using-Yolo-images\\temp\\images/train\\EMDS7-G024-015-0400.png\n",
      "Processed Image saved to: D:\\KULIAH\\SEMESTER 5\\RSBP\\Bacteri\\Detection-of-bacteria-in-water-using-Yolo-images\\Detect\\Detection-of-bacteria-in-water-using-Yolo-images\\temp\\images/train\\EMDS7-G022-267-0400.png\n",
      "Processed Image saved to: D:\\KULIAH\\SEMESTER 5\\RSBP\\Bacteri\\Detection-of-bacteria-in-water-using-Yolo-images\\Detect\\Detection-of-bacteria-in-water-using-Yolo-images\\temp\\images/train\\EMDS7-G032-085-0400.png\n",
      "Processed Image saved to: D:\\KULIAH\\SEMESTER 5\\RSBP\\Bacteri\\Detection-of-bacteria-in-water-using-Yolo-images\\Detect\\Detection-of-bacteria-in-water-using-Yolo-images\\temp\\images/train\\EMDS7-G015-011-0400.png\n",
      "Processed Image saved to: D:\\KULIAH\\SEMESTER 5\\RSBP\\Bacteri\\Detection-of-bacteria-in-water-using-Yolo-images\\Detect\\Detection-of-bacteria-in-water-using-Yolo-images\\temp\\images/train\\EMDS7-G004-081-0400.png\n",
      "Skipping image EMDS7-G022-244-0400.png due to no valid classes.\n",
      "Processed Image saved to: D:\\KULIAH\\SEMESTER 5\\RSBP\\Bacteri\\Detection-of-bacteria-in-water-using-Yolo-images\\Detect\\Detection-of-bacteria-in-water-using-Yolo-images\\temp\\images/train\\EMDS7-G038-060-0400.png\n",
      "Processed Image saved to: D:\\KULIAH\\SEMESTER 5\\RSBP\\Bacteri\\Detection-of-bacteria-in-water-using-Yolo-images\\Detect\\Detection-of-bacteria-in-water-using-Yolo-images\\temp\\images/train\\EMDS7-G032-065-0400.png\n",
      "Processed Image saved to: D:\\KULIAH\\SEMESTER 5\\RSBP\\Bacteri\\Detection-of-bacteria-in-water-using-Yolo-images\\Detect\\Detection-of-bacteria-in-water-using-Yolo-images\\temp\\images/train\\EMDS7-G012-021-0400.png\n",
      "Processed Image saved to: D:\\KULIAH\\SEMESTER 5\\RSBP\\Bacteri\\Detection-of-bacteria-in-water-using-Yolo-images\\Detect\\Detection-of-bacteria-in-water-using-Yolo-images\\temp\\images/train\\EMDS7-G022-103-0400.png\n",
      "Processed Image saved to: D:\\KULIAH\\SEMESTER 5\\RSBP\\Bacteri\\Detection-of-bacteria-in-water-using-Yolo-images\\Detect\\Detection-of-bacteria-in-water-using-Yolo-images\\temp\\images/train\\EMDS7-G003-085-0400.png\n",
      "Processed Image saved to: D:\\KULIAH\\SEMESTER 5\\RSBP\\Bacteri\\Detection-of-bacteria-in-water-using-Yolo-images\\Detect\\Detection-of-bacteria-in-water-using-Yolo-images\\temp\\images/train\\EMDS7-G032-073-0400.png\n",
      "Processed Image saved to: D:\\KULIAH\\SEMESTER 5\\RSBP\\Bacteri\\Detection-of-bacteria-in-water-using-Yolo-images\\Detect\\Detection-of-bacteria-in-water-using-Yolo-images\\temp\\images/train\\EMDS7-G038-022-0400.png\n",
      "Processed Image saved to: D:\\KULIAH\\SEMESTER 5\\RSBP\\Bacteri\\Detection-of-bacteria-in-water-using-Yolo-images\\Detect\\Detection-of-bacteria-in-water-using-Yolo-images\\temp\\images/train\\EMDS7-G022-176-0400.png\n",
      "Processed Image saved to: D:\\KULIAH\\SEMESTER 5\\RSBP\\Bacteri\\Detection-of-bacteria-in-water-using-Yolo-images\\Detect\\Detection-of-bacteria-in-water-using-Yolo-images\\temp\\images/train\\EMDS7-G028-013-0400.png\n",
      "Processed Image saved to: D:\\KULIAH\\SEMESTER 5\\RSBP\\Bacteri\\Detection-of-bacteria-in-water-using-Yolo-images\\Detect\\Detection-of-bacteria-in-water-using-Yolo-images\\temp\\images/train\\EMDS7-G003-068-0400.png\n",
      "Processed Image saved to: D:\\KULIAH\\SEMESTER 5\\RSBP\\Bacteri\\Detection-of-bacteria-in-water-using-Yolo-images\\Detect\\Detection-of-bacteria-in-water-using-Yolo-images\\temp\\images/train\\EMDS7-G024-009-0400.png\n",
      "Processed Image saved to: D:\\KULIAH\\SEMESTER 5\\RSBP\\Bacteri\\Detection-of-bacteria-in-water-using-Yolo-images\\Detect\\Detection-of-bacteria-in-water-using-Yolo-images\\temp\\images/train\\EMDS7-G007-005-0400.png\n",
      "Processed Image saved to: D:\\KULIAH\\SEMESTER 5\\RSBP\\Bacteri\\Detection-of-bacteria-in-water-using-Yolo-images\\Detect\\Detection-of-bacteria-in-water-using-Yolo-images\\temp\\images/train\\EMDS7-G010-022-0400.png\n",
      "Processed Image saved to: D:\\KULIAH\\SEMESTER 5\\RSBP\\Bacteri\\Detection-of-bacteria-in-water-using-Yolo-images\\Detect\\Detection-of-bacteria-in-water-using-Yolo-images\\temp\\images/train\\EMDS7-G022-255-0400.png\n",
      "Processed Image saved to: D:\\KULIAH\\SEMESTER 5\\RSBP\\Bacteri\\Detection-of-bacteria-in-water-using-Yolo-images\\Detect\\Detection-of-bacteria-in-water-using-Yolo-images\\temp\\images/train\\EMDS7-G003-137-0400.png\n",
      "Processed Image saved to: D:\\KULIAH\\SEMESTER 5\\RSBP\\Bacteri\\Detection-of-bacteria-in-water-using-Yolo-images\\Detect\\Detection-of-bacteria-in-water-using-Yolo-images\\temp\\images/train\\EMDS7-G003-262-0400.png\n",
      "Processed Image saved to: D:\\KULIAH\\SEMESTER 5\\RSBP\\Bacteri\\Detection-of-bacteria-in-water-using-Yolo-images\\Detect\\Detection-of-bacteria-in-water-using-Yolo-images\\temp\\images/train\\EMDS7-G014-039-0400.png\n",
      "Skipping image EMDS7-G022-256-0400.png due to no valid classes.\n",
      "Processed Image saved to: D:\\KULIAH\\SEMESTER 5\\RSBP\\Bacteri\\Detection-of-bacteria-in-water-using-Yolo-images\\Detect\\Detection-of-bacteria-in-water-using-Yolo-images\\temp\\images/train\\EMDS7-G003-001-0400.png\n",
      "Processed Image saved to: D:\\KULIAH\\SEMESTER 5\\RSBP\\Bacteri\\Detection-of-bacteria-in-water-using-Yolo-images\\Detect\\Detection-of-bacteria-in-water-using-Yolo-images\\temp\\images/train\\EMDS7-G022-151-0400.pngProcessed Image saved to: D:\\KULIAH\\SEMESTER 5\\RSBP\\Bacteri\\Detection-of-bacteria-in-water-using-Yolo-images\\Detect\\Detection-of-bacteria-in-water-using-Yolo-images\\temp\\images/train\\EMDS7-G034-001-0400.png\n",
      "Processed Image saved to: D:\\KULIAH\\SEMESTER 5\\RSBP\\Bacteri\\Detection-of-bacteria-in-water-using-Yolo-images\\Detect\\Detection-of-bacteria-in-water-using-Yolo-images\\temp\\images/train\\EMDS7-G003-078-0400.png\n",
      "Processed Image saved to: D:\\KULIAH\\SEMESTER 5\\RSBP\\Bacteri\\Detection-of-bacteria-in-water-using-Yolo-images\\Detect\\Detection-of-bacteria-in-water-using-Yolo-images\\temp\\images/train\\EMDS7-G036-038-0400.png\n",
      "\n",
      "Processed Image saved to: D:\\KULIAH\\SEMESTER 5\\RSBP\\Bacteri\\Detection-of-bacteria-in-water-using-Yolo-images\\Detect\\Detection-of-bacteria-in-water-using-Yolo-images\\temp\\images/train\\EMDS7-G032-012-0400.png\n",
      "Processed Image saved to: D:\\KULIAH\\SEMESTER 5\\RSBP\\Bacteri\\Detection-of-bacteria-in-water-using-Yolo-images\\Detect\\Detection-of-bacteria-in-water-using-Yolo-images\\temp\\images/train\\EMDS7-G002-002-0400.png\n",
      "Processed Image saved to: D:\\KULIAH\\SEMESTER 5\\RSBP\\Bacteri\\Detection-of-bacteria-in-water-using-Yolo-images\\Detect\\Detection-of-bacteria-in-water-using-Yolo-images\\temp\\images/train\\EMDS7-G019-035-0400.png\n",
      "Processed Image saved to: D:\\KULIAH\\SEMESTER 5\\RSBP\\Bacteri\\Detection-of-bacteria-in-water-using-Yolo-images\\Detect\\Detection-of-bacteria-in-water-using-Yolo-images\\temp\\images/train\\EMDS7-G033-005-0400.png\n",
      "Processed Image saved to: D:\\KULIAH\\SEMESTER 5\\RSBP\\Bacteri\\Detection-of-bacteria-in-water-using-Yolo-images\\Detect\\Detection-of-bacteria-in-water-using-Yolo-images\\temp\\images/train\\EMDS7-G030-003-0400.png\n",
      "Processed Image saved to: D:\\KULIAH\\SEMESTER 5\\RSBP\\Bacteri\\Detection-of-bacteria-in-water-using-Yolo-images\\Detect\\Detection-of-bacteria-in-water-using-Yolo-images\\temp\\images/train\\EMDS7-G031-028-0400.png\n",
      "Processed Image saved to: D:\\KULIAH\\SEMESTER 5\\RSBP\\Bacteri\\Detection-of-bacteria-in-water-using-Yolo-images\\Detect\\Detection-of-bacteria-in-water-using-Yolo-images\\temp\\images/train\\EMDS7-G005-019-0400.png\n",
      "Processed Image saved to: D:\\KULIAH\\SEMESTER 5\\RSBP\\Bacteri\\Detection-of-bacteria-in-water-using-Yolo-images\\Detect\\Detection-of-bacteria-in-water-using-Yolo-images\\temp\\images/train\\EMDS7-G009-012-0400.png\n",
      "Processed Image saved to: D:\\KULIAH\\SEMESTER 5\\RSBP\\Bacteri\\Detection-of-bacteria-in-water-using-Yolo-images\\Detect\\Detection-of-bacteria-in-water-using-Yolo-images\\temp\\images/train\\EMDS7-G003-051-0400.png\n",
      "Processed Image saved to: D:\\KULIAH\\SEMESTER 5\\RSBP\\Bacteri\\Detection-of-bacteria-in-water-using-Yolo-images\\Detect\\Detection-of-bacteria-in-water-using-Yolo-images\\temp\\images/train\\EMDS7-G003-098-0400.png\n",
      "Processed Image saved to: D:\\KULIAH\\SEMESTER 5\\RSBP\\Bacteri\\Detection-of-bacteria-in-water-using-Yolo-images\\Detect\\Detection-of-bacteria-in-water-using-Yolo-images\\temp\\images/train\\EMDS7-G025-034-0400.png\n",
      "Processed Image saved to: D:\\KULIAH\\SEMESTER 5\\RSBP\\Bacteri\\Detection-of-bacteria-in-water-using-Yolo-images\\Detect\\Detection-of-bacteria-in-water-using-Yolo-images\\temp\\images/train\\EMDS7-G028-002-0400.png\n",
      "Processed Image saved to: D:\\KULIAH\\SEMESTER 5\\RSBP\\Bacteri\\Detection-of-bacteria-in-water-using-Yolo-images\\Detect\\Detection-of-bacteria-in-water-using-Yolo-images\\temp\\images/train\\EMDS7-G025-056-0400.png\n",
      "Processed Image saved to: D:\\KULIAH\\SEMESTER 5\\RSBP\\Bacteri\\Detection-of-bacteria-in-water-using-Yolo-images\\Detect\\Detection-of-bacteria-in-water-using-Yolo-images\\temp\\images/train\\EMDS7-G005-021-0400.png\n",
      "Processed Image saved to: D:\\KULIAH\\SEMESTER 5\\RSBP\\Bacteri\\Detection-of-bacteria-in-water-using-Yolo-images\\Detect\\Detection-of-bacteria-in-water-using-Yolo-images\\temp\\images/train\\EMDS7-G001-006-0400.png\n",
      "Processed Image saved to: D:\\KULIAH\\SEMESTER 5\\RSBP\\Bacteri\\Detection-of-bacteria-in-water-using-Yolo-images\\Detect\\Detection-of-bacteria-in-water-using-Yolo-images\\temp\\images/train\\EMDS7-G035-045-0400.png\n",
      "Processed Image saved to: D:\\KULIAH\\SEMESTER 5\\RSBP\\Bacteri\\Detection-of-bacteria-in-water-using-Yolo-images\\Detect\\Detection-of-bacteria-in-water-using-Yolo-images\\temp\\images/train\\EMDS7-G024-003-0400.png\n",
      "Processed Image saved to: D:\\KULIAH\\SEMESTER 5\\RSBP\\Bacteri\\Detection-of-bacteria-in-water-using-Yolo-images\\Detect\\Detection-of-bacteria-in-water-using-Yolo-images\\temp\\images/train\\EMDS7-G018-064-0400.png\n",
      "Processed Image saved to: D:\\KULIAH\\SEMESTER 5\\RSBP\\Bacteri\\Detection-of-bacteria-in-water-using-Yolo-images\\Detect\\Detection-of-bacteria-in-water-using-Yolo-images\\temp\\images/train\\EMDS7-G022-090-0400.png\n",
      "Processed Image saved to: D:\\KULIAH\\SEMESTER 5\\RSBP\\Bacteri\\Detection-of-bacteria-in-water-using-Yolo-images\\Detect\\Detection-of-bacteria-in-water-using-Yolo-images\\temp\\images/train\\EMDS7-G004-068-0400.png\n",
      "Processed Image saved to: D:\\KULIAH\\SEMESTER 5\\RSBP\\Bacteri\\Detection-of-bacteria-in-water-using-Yolo-images\\Detect\\Detection-of-bacteria-in-water-using-Yolo-images\\temp\\images/train\\EMDS7-G019-026-0400.png\n",
      "Processed Image saved to: D:\\KULIAH\\SEMESTER 5\\RSBP\\Bacteri\\Detection-of-bacteria-in-water-using-Yolo-images\\Detect\\Detection-of-bacteria-in-water-using-Yolo-images\\temp\\images/train\\EMDS7-G028-037-0400.png\n",
      "Processed Image saved to: D:\\KULIAH\\SEMESTER 5\\RSBP\\Bacteri\\Detection-of-bacteria-in-water-using-Yolo-images\\Detect\\Detection-of-bacteria-in-water-using-Yolo-images\\temp\\images/train\\EMDS7-G009-058-0400.png\n",
      "Processed Image saved to: D:\\KULIAH\\SEMESTER 5\\RSBP\\Bacteri\\Detection-of-bacteria-in-water-using-Yolo-images\\Detect\\Detection-of-bacteria-in-water-using-Yolo-images\\temp\\images/train\\EMDS7-G011-048-0400.png\n",
      "Processed Image saved to: D:\\KULIAH\\SEMESTER 5\\RSBP\\Bacteri\\Detection-of-bacteria-in-water-using-Yolo-images\\Detect\\Detection-of-bacteria-in-water-using-Yolo-images\\temp\\images/train\\EMDS7-G038-027-0400.png\n",
      "Processed Image saved to: D:\\KULIAH\\SEMESTER 5\\RSBP\\Bacteri\\Detection-of-bacteria-in-water-using-Yolo-images\\Detect\\Detection-of-bacteria-in-water-using-Yolo-images\\temp\\images/train\\EMDS7-G017-058-0400.png\n",
      "Processed Image saved to: D:\\KULIAH\\SEMESTER 5\\RSBP\\Bacteri\\Detection-of-bacteria-in-water-using-Yolo-images\\Detect\\Detection-of-bacteria-in-water-using-Yolo-images\\temp\\images/train\\EMDS7-G014-038-0400.png\n",
      "Processed Image saved to: D:\\KULIAH\\SEMESTER 5\\RSBP\\Bacteri\\Detection-of-bacteria-in-water-using-Yolo-images\\Detect\\Detection-of-bacteria-in-water-using-Yolo-images\\temp\\images/train\\EMDS7-G038-001-0400.png\n",
      "Processed Image saved to: D:\\KULIAH\\SEMESTER 5\\RSBP\\Bacteri\\Detection-of-bacteria-in-water-using-Yolo-images\\Detect\\Detection-of-bacteria-in-water-using-Yolo-images\\temp\\images/train\\EMDS7-G018-058-0400.png\n",
      "Processed Image saved to: D:\\KULIAH\\SEMESTER 5\\RSBP\\Bacteri\\Detection-of-bacteria-in-water-using-Yolo-images\\Detect\\Detection-of-bacteria-in-water-using-Yolo-images\\temp\\images/train\\EMDS7-G003-183-0400.png\n",
      "Processed Image saved to: D:\\KULIAH\\SEMESTER 5\\RSBP\\Bacteri\\Detection-of-bacteria-in-water-using-Yolo-images\\Detect\\Detection-of-bacteria-in-water-using-Yolo-images\\temp\\images/train\\EMDS7-G036-023-0400.png\n",
      "Processed Image saved to: D:\\KULIAH\\SEMESTER 5\\RSBP\\Bacteri\\Detection-of-bacteria-in-water-using-Yolo-images\\Detect\\Detection-of-bacteria-in-water-using-Yolo-images\\temp\\images/train\\EMDS7-G036-046-0400.png\n",
      "Processed Image saved to: D:\\KULIAH\\SEMESTER 5\\RSBP\\Bacteri\\Detection-of-bacteria-in-water-using-Yolo-images\\Detect\\Detection-of-bacteria-in-water-using-Yolo-images\\temp\\images/train\\EMDS7-G022-050-0400.png\n",
      "Processed Image saved to: D:\\KULIAH\\SEMESTER 5\\RSBP\\Bacteri\\Detection-of-bacteria-in-water-using-Yolo-images\\Detect\\Detection-of-bacteria-in-water-using-Yolo-images\\temp\\images/train\\EMDS7-G005-018-0400.png\n",
      "Processed Image saved to: D:\\KULIAH\\SEMESTER 5\\RSBP\\Bacteri\\Detection-of-bacteria-in-water-using-Yolo-images\\Detect\\Detection-of-bacteria-in-water-using-Yolo-images\\temp\\images/train\\EMDS7-G028-045-0400.png\n",
      "Processed Image saved to: D:\\KULIAH\\SEMESTER 5\\RSBP\\Bacteri\\Detection-of-bacteria-in-water-using-Yolo-images\\Detect\\Detection-of-bacteria-in-water-using-Yolo-images\\temp\\images/train\\EMDS7-G028-068-0400.png\n",
      "Processed Image saved to: D:\\KULIAH\\SEMESTER 5\\RSBP\\Bacteri\\Detection-of-bacteria-in-water-using-Yolo-images\\Detect\\Detection-of-bacteria-in-water-using-Yolo-images\\temp\\images/train\\EMDS7-G038-055-0400.pngProcessed Image saved to: D:\\KULIAH\\SEMESTER 5\\RSBP\\Bacteri\\Detection-of-bacteria-in-water-using-Yolo-images\\Detect\\Detection-of-bacteria-in-water-using-Yolo-images\\temp\\images/train\\EMDS7-G031-019-0400.png\n",
      "\n",
      "Processed Image saved to: D:\\KULIAH\\SEMESTER 5\\RSBP\\Bacteri\\Detection-of-bacteria-in-water-using-Yolo-images\\Detect\\Detection-of-bacteria-in-water-using-Yolo-images\\temp\\images/train\\EMDS7-G022-276-0400.png\n",
      "Processed Image saved to: D:\\KULIAH\\SEMESTER 5\\RSBP\\Bacteri\\Detection-of-bacteria-in-water-using-Yolo-images\\Detect\\Detection-of-bacteria-in-water-using-Yolo-images\\temp\\images/train\\EMDS7-G031-002-0400.png\n",
      "Processed Image saved to: D:\\KULIAH\\SEMESTER 5\\RSBP\\Bacteri\\Detection-of-bacteria-in-water-using-Yolo-images\\Detect\\Detection-of-bacteria-in-water-using-Yolo-images\\temp\\images/train\\EMDS7-G003-238-0400.png\n",
      "Processed Image saved to: D:\\KULIAH\\SEMESTER 5\\RSBP\\Bacteri\\Detection-of-bacteria-in-water-using-Yolo-images\\Detect\\Detection-of-bacteria-in-water-using-Yolo-images\\temp\\images/train\\EMDS7-G028-011-0400.png\n",
      "Processed Image saved to: D:\\KULIAH\\SEMESTER 5\\RSBP\\Bacteri\\Detection-of-bacteria-in-water-using-Yolo-images\\Detect\\Detection-of-bacteria-in-water-using-Yolo-images\\temp\\images/train\\EMDS7-G013-003-0400.png\n",
      "Processed Image saved to: D:\\KULIAH\\SEMESTER 5\\RSBP\\Bacteri\\Detection-of-bacteria-in-water-using-Yolo-images\\Detect\\Detection-of-bacteria-in-water-using-Yolo-images\\temp\\images/train\\EMDS7-G034-006-0400.png\n",
      "Processed Image saved to: D:\\KULIAH\\SEMESTER 5\\RSBP\\Bacteri\\Detection-of-bacteria-in-water-using-Yolo-images\\Detect\\Detection-of-bacteria-in-water-using-Yolo-images\\temp\\images/train\\EMDS7-G003-018-0400.png\n",
      "Processed Image saved to: D:\\KULIAH\\SEMESTER 5\\RSBP\\Bacteri\\Detection-of-bacteria-in-water-using-Yolo-images\\Detect\\Detection-of-bacteria-in-water-using-Yolo-images\\temp\\images/train\\EMDS7-G032-071-0400.png\n",
      "Processed Image saved to: D:\\KULIAH\\SEMESTER 5\\RSBP\\Bacteri\\Detection-of-bacteria-in-water-using-Yolo-images\\Detect\\Detection-of-bacteria-in-water-using-Yolo-images\\temp\\images/train\\EMDS7-G014-044-0400.png\n",
      "Processed Image saved to: D:\\KULIAH\\SEMESTER 5\\RSBP\\Bacteri\\Detection-of-bacteria-in-water-using-Yolo-images\\Detect\\Detection-of-bacteria-in-water-using-Yolo-images\\temp\\images/train\\EMDS7-G009-024-0400.png\n",
      "Processed Image saved to: D:\\KULIAH\\SEMESTER 5\\RSBP\\Bacteri\\Detection-of-bacteria-in-water-using-Yolo-images\\Detect\\Detection-of-bacteria-in-water-using-Yolo-images\\temp\\images/train\\EMDS7-G003-014-0400.png\n",
      "Processed Image saved to: D:\\KULIAH\\SEMESTER 5\\RSBP\\Bacteri\\Detection-of-bacteria-in-water-using-Yolo-images\\Detect\\Detection-of-bacteria-in-water-using-Yolo-images\\temp\\images/train\\EMDS7-G012-031-0400.png\n",
      "Processed Image saved to: D:\\KULIAH\\SEMESTER 5\\RSBP\\Bacteri\\Detection-of-bacteria-in-water-using-Yolo-images\\Detect\\Detection-of-bacteria-in-water-using-Yolo-images\\temp\\images/train\\EMDS7-G007-002-0400.png\n",
      "Processed Image saved to: D:\\KULIAH\\SEMESTER 5\\RSBP\\Bacteri\\Detection-of-bacteria-in-water-using-Yolo-images\\Detect\\Detection-of-bacteria-in-water-using-Yolo-images\\temp\\images/train\\EMDS7-G011-021-0400.png\n",
      "Processed Image saved to: D:\\KULIAH\\SEMESTER 5\\RSBP\\Bacteri\\Detection-of-bacteria-in-water-using-Yolo-images\\Detect\\Detection-of-bacteria-in-water-using-Yolo-images\\temp\\images/train\\EMDS7-G023-002-0400.png\n",
      "Processed Image saved to: D:\\KULIAH\\SEMESTER 5\\RSBP\\Bacteri\\Detection-of-bacteria-in-water-using-Yolo-images\\Detect\\Detection-of-bacteria-in-water-using-Yolo-images\\temp\\images/train\\EMDS7-G008-035-0400.png\n",
      "Processed Image saved to: D:\\KULIAH\\SEMESTER 5\\RSBP\\Bacteri\\Detection-of-bacteria-in-water-using-Yolo-images\\Detect\\Detection-of-bacteria-in-water-using-Yolo-images\\temp\\images/train\\EMDS7-G031-027-0400.png\n",
      "Processed Image saved to: D:\\KULIAH\\SEMESTER 5\\RSBP\\Bacteri\\Detection-of-bacteria-in-water-using-Yolo-images\\Detect\\Detection-of-bacteria-in-water-using-Yolo-images\\temp\\images/train\\EMDS7-G003-303-0400.png\n",
      "Processed Image saved to: D:\\KULIAH\\SEMESTER 5\\RSBP\\Bacteri\\Detection-of-bacteria-in-water-using-Yolo-images\\Detect\\Detection-of-bacteria-in-water-using-Yolo-images\\temp\\images/train\\EMDS7-G041-002-0400.png\n",
      "Processed Image saved to: D:\\KULIAH\\SEMESTER 5\\RSBP\\Bacteri\\Detection-of-bacteria-in-water-using-Yolo-images\\Detect\\Detection-of-bacteria-in-water-using-Yolo-images\\temp\\images/train\\EMDS7-G022-274-0400.png\n",
      "Processed Image saved to: D:\\KULIAH\\SEMESTER 5\\RSBP\\Bacteri\\Detection-of-bacteria-in-water-using-Yolo-images\\Detect\\Detection-of-bacteria-in-water-using-Yolo-images\\temp\\images/train\\EMDS7-G022-098-0400.png\n",
      "Processed Image saved to: D:\\KULIAH\\SEMESTER 5\\RSBP\\Bacteri\\Detection-of-bacteria-in-water-using-Yolo-images\\Detect\\Detection-of-bacteria-in-water-using-Yolo-images\\temp\\images/train\\EMDS7-G016-007-0400.png\n",
      "Processed Image saved to: D:\\KULIAH\\SEMESTER 5\\RSBP\\Bacteri\\Detection-of-bacteria-in-water-using-Yolo-images\\Detect\\Detection-of-bacteria-in-water-using-Yolo-images\\temp\\images/train\\EMDS7-G003-072-0400.png\n",
      "Processed Image saved to: D:\\KULIAH\\SEMESTER 5\\RSBP\\Bacteri\\Detection-of-bacteria-in-water-using-Yolo-images\\Detect\\Detection-of-bacteria-in-water-using-Yolo-images\\temp\\images/train\\EMDS7-G014-033-0400.png\n",
      "Processed Image saved to: D:\\KULIAH\\SEMESTER 5\\RSBP\\Bacteri\\Detection-of-bacteria-in-water-using-Yolo-images\\Detect\\Detection-of-bacteria-in-water-using-Yolo-images\\temp\\images/train\\EMDS7-G039-024-0400.png\n",
      "Processed Image saved to: D:\\KULIAH\\SEMESTER 5\\RSBP\\Bacteri\\Detection-of-bacteria-in-water-using-Yolo-images\\Detect\\Detection-of-bacteria-in-water-using-Yolo-images\\temp\\images/train\\EMDS7-G003-111-0400.png\n",
      "Processed Image saved to: D:\\KULIAH\\SEMESTER 5\\RSBP\\Bacteri\\Detection-of-bacteria-in-water-using-Yolo-images\\Detect\\Detection-of-bacteria-in-water-using-Yolo-images\\temp\\images/train\\EMDS7-G033-023-0400.png\n",
      "Processed Image saved to: D:\\KULIAH\\SEMESTER 5\\RSBP\\Bacteri\\Detection-of-bacteria-in-water-using-Yolo-images\\Detect\\Detection-of-bacteria-in-water-using-Yolo-images\\temp\\images/train\\EMDS7-G028-053-0400.png\n",
      "Processed Image saved to: D:\\KULIAH\\SEMESTER 5\\RSBP\\Bacteri\\Detection-of-bacteria-in-water-using-Yolo-images\\Detect\\Detection-of-bacteria-in-water-using-Yolo-images\\temp\\images/train\\EMDS7-G004-053-0400.png\n",
      "Processed Image saved to: D:\\KULIAH\\SEMESTER 5\\RSBP\\Bacteri\\Detection-of-bacteria-in-water-using-Yolo-images\\Detect\\Detection-of-bacteria-in-water-using-Yolo-images\\temp\\images/train\\EMDS7-G028-071-0400.png\n",
      "Processed Image saved to: D:\\KULIAH\\SEMESTER 5\\RSBP\\Bacteri\\Detection-of-bacteria-in-water-using-Yolo-images\\Detect\\Detection-of-bacteria-in-water-using-Yolo-images\\temp\\images/train\\EMDS7-G017-002-0400.png\n",
      "Processed Image saved to: D:\\KULIAH\\SEMESTER 5\\RSBP\\Bacteri\\Detection-of-bacteria-in-water-using-Yolo-images\\Detect\\Detection-of-bacteria-in-water-using-Yolo-images\\temp\\images/train\\EMDS7-G001-008-0400.png\n",
      "Processed Image saved to: D:\\KULIAH\\SEMESTER 5\\RSBP\\Bacteri\\Detection-of-bacteria-in-water-using-Yolo-images\\Detect\\Detection-of-bacteria-in-water-using-Yolo-images\\temp\\images/train\\EMDS7-G005-041-0400.png\n",
      "Processed Image saved to: D:\\KULIAH\\SEMESTER 5\\RSBP\\Bacteri\\Detection-of-bacteria-in-water-using-Yolo-images\\Detect\\Detection-of-bacteria-in-water-using-Yolo-images\\temp\\images/train\\EMDS7-G019-005-0400.png\n",
      "Processed Image saved to: D:\\KULIAH\\SEMESTER 5\\RSBP\\Bacteri\\Detection-of-bacteria-in-water-using-Yolo-images\\Detect\\Detection-of-bacteria-in-water-using-Yolo-images\\temp\\images/train\\EMDS7-G003-299-0400.png\n",
      "Processed Image saved to: D:\\KULIAH\\SEMESTER 5\\RSBP\\Bacteri\\Detection-of-bacteria-in-water-using-Yolo-images\\Detect\\Detection-of-bacteria-in-water-using-Yolo-images\\temp\\images/train\\EMDS7-G032-089-0400.png\n",
      "Processed Image saved to: D:\\KULIAH\\SEMESTER 5\\RSBP\\Bacteri\\Detection-of-bacteria-in-water-using-Yolo-images\\Detect\\Detection-of-bacteria-in-water-using-Yolo-images\\temp\\images/train\\EMDS7-G012-108-0400.png\n",
      "Processed Image saved to: D:\\KULIAH\\SEMESTER 5\\RSBP\\Bacteri\\Detection-of-bacteria-in-water-using-Yolo-images\\Detect\\Detection-of-bacteria-in-water-using-Yolo-images\\temp\\images/train\\EMDS7-G004-026-0400.png\n",
      "Processed Image saved to: D:\\KULIAH\\SEMESTER 5\\RSBP\\Bacteri\\Detection-of-bacteria-in-water-using-Yolo-images\\Detect\\Detection-of-bacteria-in-water-using-Yolo-images\\temp\\images/train\\EMDS7-G022-062-0400.png\n",
      "Processed Image saved to: D:\\KULIAH\\SEMESTER 5\\RSBP\\Bacteri\\Detection-of-bacteria-in-water-using-Yolo-images\\Detect\\Detection-of-bacteria-in-water-using-Yolo-images\\temp\\images/train\\EMDS7-G035-042-0400.png\n",
      "Processed Image saved to: D:\\KULIAH\\SEMESTER 5\\RSBP\\Bacteri\\Detection-of-bacteria-in-water-using-Yolo-images\\Detect\\Detection-of-bacteria-in-water-using-Yolo-images\\temp\\images/train\\EMDS7-G039-011-0400.png\n",
      "Processed Image saved to: D:\\KULIAH\\SEMESTER 5\\RSBP\\Bacteri\\Detection-of-bacteria-in-water-using-Yolo-images\\Detect\\Detection-of-bacteria-in-water-using-Yolo-images\\temp\\images/train\\EMDS7-G022-117-0400.png\n",
      "Processed Image saved to: D:\\KULIAH\\SEMESTER 5\\RSBP\\Bacteri\\Detection-of-bacteria-in-water-using-Yolo-images\\Detect\\Detection-of-bacteria-in-water-using-Yolo-images\\temp\\images/train\\EMDS7-G040-003-0400.png\n",
      "Processed Image saved to: D:\\KULIAH\\SEMESTER 5\\RSBP\\Bacteri\\Detection-of-bacteria-in-water-using-Yolo-images\\Detect\\Detection-of-bacteria-in-water-using-Yolo-images\\temp\\images/train\\EMDS7-G012-053-0400.png\n",
      "Processed Image saved to: D:\\KULIAH\\SEMESTER 5\\RSBP\\Bacteri\\Detection-of-bacteria-in-water-using-Yolo-images\\Detect\\Detection-of-bacteria-in-water-using-Yolo-images\\temp\\images/train\\EMDS7-G022-125-0400.png\n",
      "Processed Image saved to: D:\\KULIAH\\SEMESTER 5\\RSBP\\Bacteri\\Detection-of-bacteria-in-water-using-Yolo-images\\Detect\\Detection-of-bacteria-in-water-using-Yolo-images\\temp\\images/train\\EMDS7-G006-010-0400.png\n",
      "Processed Image saved to: D:\\KULIAH\\SEMESTER 5\\RSBP\\Bacteri\\Detection-of-bacteria-in-water-using-Yolo-images\\Detect\\Detection-of-bacteria-in-water-using-Yolo-images\\temp\\images/train\\EMDS7-G022-130-0400.png\n",
      "Processed Image saved to: D:\\KULIAH\\SEMESTER 5\\RSBP\\Bacteri\\Detection-of-bacteria-in-water-using-Yolo-images\\Detect\\Detection-of-bacteria-in-water-using-Yolo-images\\temp\\images/train\\EMDS7-G017-035-0400.png\n",
      "Processed Image saved to: D:\\KULIAH\\SEMESTER 5\\RSBP\\Bacteri\\Detection-of-bacteria-in-water-using-Yolo-images\\Detect\\Detection-of-bacteria-in-water-using-Yolo-images\\temp\\images/train\\EMDS7-G022-194-0400.png\n",
      "Processed Image saved to: D:\\KULIAH\\SEMESTER 5\\RSBP\\Bacteri\\Detection-of-bacteria-in-water-using-Yolo-images\\Detect\\Detection-of-bacteria-in-water-using-Yolo-images\\temp\\images/train\\EMDS7-G022-105-0400.png\n",
      "Processed Image saved to: D:\\KULIAH\\SEMESTER 5\\RSBP\\Bacteri\\Detection-of-bacteria-in-water-using-Yolo-images\\Detect\\Detection-of-bacteria-in-water-using-Yolo-images\\temp\\images/train\\EMDS7-G014-071-0400.png\n",
      "Processed Image saved to: D:\\KULIAH\\SEMESTER 5\\RSBP\\Bacteri\\Detection-of-bacteria-in-water-using-Yolo-images\\Detect\\Detection-of-bacteria-in-water-using-Yolo-images\\temp\\images/train\\EMDS7-G012-059-0400.png\n",
      "Processed Image saved to: D:\\KULIAH\\SEMESTER 5\\RSBP\\Bacteri\\Detection-of-bacteria-in-water-using-Yolo-images\\Detect\\Detection-of-bacteria-in-water-using-Yolo-images\\temp\\images/train\\EMDS7-G038-058-0400.png\n",
      "Processed Image saved to: D:\\KULIAH\\SEMESTER 5\\RSBP\\Bacteri\\Detection-of-bacteria-in-water-using-Yolo-images\\Detect\\Detection-of-bacteria-in-water-using-Yolo-images\\temp\\images/train\\EMDS7-G005-052-0400.png\n",
      "Processed Image saved to: D:\\KULIAH\\SEMESTER 5\\RSBP\\Bacteri\\Detection-of-bacteria-in-water-using-Yolo-images\\Detect\\Detection-of-bacteria-in-water-using-Yolo-images\\temp\\images/train\\EMDS7-G022-181-0400.png\n",
      "Processed Image saved to: D:\\KULIAH\\SEMESTER 5\\RSBP\\Bacteri\\Detection-of-bacteria-in-water-using-Yolo-images\\Detect\\Detection-of-bacteria-in-water-using-Yolo-images\\temp\\images/train\\EMDS7-G032-081-0400.png\n",
      "Processed Image saved to: D:\\KULIAH\\SEMESTER 5\\RSBP\\Bacteri\\Detection-of-bacteria-in-water-using-Yolo-images\\Detect\\Detection-of-bacteria-in-water-using-Yolo-images\\temp\\images/train\\EMDS7-G022-185-0400.png\n",
      "Processed Image saved to: D:\\KULIAH\\SEMESTER 5\\RSBP\\Bacteri\\Detection-of-bacteria-in-water-using-Yolo-images\\Detect\\Detection-of-bacteria-in-water-using-Yolo-images\\temp\\images/train\\EMDS7-G018-002-0400.png\n",
      "Processed Image saved to: D:\\KULIAH\\SEMESTER 5\\RSBP\\Bacteri\\Detection-of-bacteria-in-water-using-Yolo-images\\Detect\\Detection-of-bacteria-in-water-using-Yolo-images\\temp\\images/train\\EMDS7-G003-059-0400.png\n",
      "Processed Image saved to: D:\\KULIAH\\SEMESTER 5\\RSBP\\Bacteri\\Detection-of-bacteria-in-water-using-Yolo-images\\Detect\\Detection-of-bacteria-in-water-using-Yolo-images\\temp\\images/train\\EMDS7-G019-058-0400.png\n",
      "Processed Image saved to: D:\\KULIAH\\SEMESTER 5\\RSBP\\Bacteri\\Detection-of-bacteria-in-water-using-Yolo-images\\Detect\\Detection-of-bacteria-in-water-using-Yolo-images\\temp\\images/train\\EMDS7-G039-071-0400.png\n",
      "Processed Image saved to: D:\\KULIAH\\SEMESTER 5\\RSBP\\Bacteri\\Detection-of-bacteria-in-water-using-Yolo-images\\Detect\\Detection-of-bacteria-in-water-using-Yolo-images\\temp\\images/train\\EMDS7-G012-107-0400.png\n",
      "Processed Image saved to: D:\\KULIAH\\SEMESTER 5\\RSBP\\Bacteri\\Detection-of-bacteria-in-water-using-Yolo-images\\Detect\\Detection-of-bacteria-in-water-using-Yolo-images\\temp\\images/train\\EMDS7-G018-030-0400.png\n",
      "Processed Image saved to: D:\\KULIAH\\SEMESTER 5\\RSBP\\Bacteri\\Detection-of-bacteria-in-water-using-Yolo-images\\Detect\\Detection-of-bacteria-in-water-using-Yolo-images\\temp\\images/train\\EMDS7-G018-031-0400.png\n",
      "Processed Image saved to: D:\\KULIAH\\SEMESTER 5\\RSBP\\Bacteri\\Detection-of-bacteria-in-water-using-Yolo-images\\Detect\\Detection-of-bacteria-in-water-using-Yolo-images\\temp\\images/train\\EMDS7-G018-046-0400.png\n",
      "Processed Image saved to: D:\\KULIAH\\SEMESTER 5\\RSBP\\Bacteri\\Detection-of-bacteria-in-water-using-Yolo-images\\Detect\\Detection-of-bacteria-in-water-using-Yolo-images\\temp\\images/train\\EMDS7-G036-022-0400.png\n",
      "Processed Image saved to: D:\\KULIAH\\SEMESTER 5\\RSBP\\Bacteri\\Detection-of-bacteria-in-water-using-Yolo-images\\Detect\\Detection-of-bacteria-in-water-using-Yolo-images\\temp\\images/train\\EMDS7-G025-007-0400.png\n",
      "Processed Image saved to: D:\\KULIAH\\SEMESTER 5\\RSBP\\Bacteri\\Detection-of-bacteria-in-water-using-Yolo-images\\Detect\\Detection-of-bacteria-in-water-using-Yolo-images\\temp\\images/train\\EMDS7-G026-004-0400.png\n",
      "Processed Image saved to: D:\\KULIAH\\SEMESTER 5\\RSBP\\Bacteri\\Detection-of-bacteria-in-water-using-Yolo-images\\Detect\\Detection-of-bacteria-in-water-using-Yolo-images\\temp\\images/train\\EMDS7-G025-029-0400.png\n",
      "Processed Image saved to: D:\\KULIAH\\SEMESTER 5\\RSBP\\Bacteri\\Detection-of-bacteria-in-water-using-Yolo-images\\Detect\\Detection-of-bacteria-in-water-using-Yolo-images\\temp\\images/train\\EMDS7-G038-011-0400.png\n",
      "Processed Image saved to: D:\\KULIAH\\SEMESTER 5\\RSBP\\Bacteri\\Detection-of-bacteria-in-water-using-Yolo-images\\Detect\\Detection-of-bacteria-in-water-using-Yolo-images\\temp\\images/train\\EMDS7-G028-015-0400.png\n",
      "Processed Image saved to: D:\\KULIAH\\SEMESTER 5\\RSBP\\Bacteri\\Detection-of-bacteria-in-water-using-Yolo-images\\Detect\\Detection-of-bacteria-in-water-using-Yolo-images\\temp\\images/train\\EMDS7-G022-039-0400.png\n",
      "Processed Image saved to: D:\\KULIAH\\SEMESTER 5\\RSBP\\Bacteri\\Detection-of-bacteria-in-water-using-Yolo-images\\Detect\\Detection-of-bacteria-in-water-using-Yolo-images\\temp\\images/train\\EMDS7-G032-004-0400.png\n",
      "Processed Image saved to: D:\\KULIAH\\SEMESTER 5\\RSBP\\Bacteri\\Detection-of-bacteria-in-water-using-Yolo-images\\Detect\\Detection-of-bacteria-in-water-using-Yolo-images\\temp\\images/train\\EMDS7-G020-023-0400.png\n",
      "Processed Image saved to: D:\\KULIAH\\SEMESTER 5\\RSBP\\Bacteri\\Detection-of-bacteria-in-water-using-Yolo-images\\Detect\\Detection-of-bacteria-in-water-using-Yolo-images\\temp\\images/train\\EMDS7-G032-016-0400.png\n",
      "Processed Image saved to: D:\\KULIAH\\SEMESTER 5\\RSBP\\Bacteri\\Detection-of-bacteria-in-water-using-Yolo-images\\Detect\\Detection-of-bacteria-in-water-using-Yolo-images\\temp\\images/train\\EMDS7-G026-008-0400.png\n",
      "Processed Image saved to: D:\\KULIAH\\SEMESTER 5\\RSBP\\Bacteri\\Detection-of-bacteria-in-water-using-Yolo-images\\Detect\\Detection-of-bacteria-in-water-using-Yolo-images\\temp\\images/train\\EMDS7-G003-258-0400.png\n",
      "Processed Image saved to: D:\\KULIAH\\SEMESTER 5\\RSBP\\Bacteri\\Detection-of-bacteria-in-water-using-Yolo-images\\Detect\\Detection-of-bacteria-in-water-using-Yolo-images\\temp\\images/train\\EMDS7-G019-046-0400.png\n",
      "Processed Image saved to: D:\\KULIAH\\SEMESTER 5\\RSBP\\Bacteri\\Detection-of-bacteria-in-water-using-Yolo-images\\Detect\\Detection-of-bacteria-in-water-using-Yolo-images\\temp\\images/train\\EMDS7-G017-008-0400.png\n",
      "Processed Image saved to: D:\\KULIAH\\SEMESTER 5\\RSBP\\Bacteri\\Detection-of-bacteria-in-water-using-Yolo-images\\Detect\\Detection-of-bacteria-in-water-using-Yolo-images\\temp\\images/train\\EMDS7-G018-050-0400.png\n",
      "Processed Image saved to: D:\\KULIAH\\SEMESTER 5\\RSBP\\Bacteri\\Detection-of-bacteria-in-water-using-Yolo-images\\Detect\\Detection-of-bacteria-in-water-using-Yolo-images\\temp\\images/train\\EMDS7-G024-012-0400.png\n",
      "Processed Image saved to: D:\\KULIAH\\SEMESTER 5\\RSBP\\Bacteri\\Detection-of-bacteria-in-water-using-Yolo-images\\Detect\\Detection-of-bacteria-in-water-using-Yolo-images\\temp\\images/train\\EMDS7-G005-013-0400.png\n",
      "Processed Image saved to: D:\\KULIAH\\SEMESTER 5\\RSBP\\Bacteri\\Detection-of-bacteria-in-water-using-Yolo-images\\Detect\\Detection-of-bacteria-in-water-using-Yolo-images\\temp\\images/train\\EMDS7-G023-041-0400.png\n",
      "Processed Image saved to: D:\\KULIAH\\SEMESTER 5\\RSBP\\Bacteri\\Detection-of-bacteria-in-water-using-Yolo-images\\Detect\\Detection-of-bacteria-in-water-using-Yolo-images\\temp\\images/train\\EMDS7-G018-065-0400.png\n",
      "Processed Image saved to: D:\\KULIAH\\SEMESTER 5\\RSBP\\Bacteri\\Detection-of-bacteria-in-water-using-Yolo-images\\Detect\\Detection-of-bacteria-in-water-using-Yolo-images\\temp\\images/train\\EMDS7-G025-037-0400.png\n",
      "Processed Image saved to: D:\\KULIAH\\SEMESTER 5\\RSBP\\Bacteri\\Detection-of-bacteria-in-water-using-Yolo-images\\Detect\\Detection-of-bacteria-in-water-using-Yolo-images\\temp\\images/train\\EMDS7-G040-013-0400.png\n",
      "Processed Image saved to: D:\\KULIAH\\SEMESTER 5\\RSBP\\Bacteri\\Detection-of-bacteria-in-water-using-Yolo-images\\Detect\\Detection-of-bacteria-in-water-using-Yolo-images\\temp\\images/train\\EMDS7-G009-042-0400.png\n",
      "Processed Image saved to: D:\\KULIAH\\SEMESTER 5\\RSBP\\Bacteri\\Detection-of-bacteria-in-water-using-Yolo-images\\Detect\\Detection-of-bacteria-in-water-using-Yolo-images\\temp\\images/train\\EMDS7-G009-063-0400.png\n",
      "Processed Image saved to: D:\\KULIAH\\SEMESTER 5\\RSBP\\Bacteri\\Detection-of-bacteria-in-water-using-Yolo-images\\Detect\\Detection-of-bacteria-in-water-using-Yolo-images\\temp\\images/train\\EMDS7-G028-043-0400.png\n",
      "Processed Image saved to: D:\\KULIAH\\SEMESTER 5\\RSBP\\Bacteri\\Detection-of-bacteria-in-water-using-Yolo-images\\Detect\\Detection-of-bacteria-in-water-using-Yolo-images\\temp\\images/train\\EMDS7-G012-095-0400.png\n",
      "Processed Image saved to: D:\\KULIAH\\SEMESTER 5\\RSBP\\Bacteri\\Detection-of-bacteria-in-water-using-Yolo-images\\Detect\\Detection-of-bacteria-in-water-using-Yolo-images\\temp\\images/train\\EMDS7-G018-073-0400.png\n",
      "Processed Image saved to: D:\\KULIAH\\SEMESTER 5\\RSBP\\Bacteri\\Detection-of-bacteria-in-water-using-Yolo-images\\Detect\\Detection-of-bacteria-in-water-using-Yolo-images\\temp\\images/train\\EMDS7-G009-049-0400.png\n",
      "Processed Image saved to: D:\\KULIAH\\SEMESTER 5\\RSBP\\Bacteri\\Detection-of-bacteria-in-water-using-Yolo-images\\Detect\\Detection-of-bacteria-in-water-using-Yolo-images\\temp\\images/train\\EMDS7-G030-026-0400.png\n",
      "Processed Image saved to: D:\\KULIAH\\SEMESTER 5\\RSBP\\Bacteri\\Detection-of-bacteria-in-water-using-Yolo-images\\Detect\\Detection-of-bacteria-in-water-using-Yolo-images\\temp\\images/train\\EMDS7-G003-248-0400.png\n",
      "Processed Image saved to: D:\\KULIAH\\SEMESTER 5\\RSBP\\Bacteri\\Detection-of-bacteria-in-water-using-Yolo-images\\Detect\\Detection-of-bacteria-in-water-using-Yolo-images\\temp\\images/train\\EMDS7-G025-024-0400.png\n",
      "Processed Image saved to: D:\\KULIAH\\SEMESTER 5\\RSBP\\Bacteri\\Detection-of-bacteria-in-water-using-Yolo-images\\Detect\\Detection-of-bacteria-in-water-using-Yolo-images\\temp\\images/train\\EMDS7-G022-036-0400.png\n",
      "Processed Image saved to: D:\\KULIAH\\SEMESTER 5\\RSBP\\Bacteri\\Detection-of-bacteria-in-water-using-Yolo-images\\Detect\\Detection-of-bacteria-in-water-using-Yolo-images\\temp\\images/train\\EMDS7-G017-015-0400.png\n",
      "Processed Image saved to: D:\\KULIAH\\SEMESTER 5\\RSBP\\Bacteri\\Detection-of-bacteria-in-water-using-Yolo-images\\Detect\\Detection-of-bacteria-in-water-using-Yolo-images\\temp\\images/train\\EMDS7-G019-060-0400.png\n",
      "Processed Image saved to: D:\\KULIAH\\SEMESTER 5\\RSBP\\Bacteri\\Detection-of-bacteria-in-water-using-Yolo-images\\Detect\\Detection-of-bacteria-in-water-using-Yolo-images\\temp\\images/train\\EMDS7-G017-023-0400.png\n",
      "Processed Image saved to: D:\\KULIAH\\SEMESTER 5\\RSBP\\Bacteri\\Detection-of-bacteria-in-water-using-Yolo-images\\Detect\\Detection-of-bacteria-in-water-using-Yolo-images\\temp\\images/train\\EMDS7-G011-042-0400.png\n",
      "Processed Image saved to: D:\\KULIAH\\SEMESTER 5\\RSBP\\Bacteri\\Detection-of-bacteria-in-water-using-Yolo-images\\Detect\\Detection-of-bacteria-in-water-using-Yolo-images\\temp\\images/train\\EMDS7-G036-026-0400.png\n",
      "Processed Image saved to: D:\\KULIAH\\SEMESTER 5\\RSBP\\Bacteri\\Detection-of-bacteria-in-water-using-Yolo-images\\Detect\\Detection-of-bacteria-in-water-using-Yolo-images\\temp\\images/train\\EMDS7-G028-024-0400.png\n",
      "Processed Image saved to: D:\\KULIAH\\SEMESTER 5\\RSBP\\Bacteri\\Detection-of-bacteria-in-water-using-Yolo-images\\Detect\\Detection-of-bacteria-in-water-using-Yolo-images\\temp\\images/train\\EMDS7-G028-027-0400.png\n",
      "Processed Image saved to: D:\\KULIAH\\SEMESTER 5\\RSBP\\Bacteri\\Detection-of-bacteria-in-water-using-Yolo-images\\Detect\\Detection-of-bacteria-in-water-using-Yolo-images\\temp\\images/train\\EMDS7-G003-259-0400.png\n",
      "Processed Image saved to: D:\\KULIAH\\SEMESTER 5\\RSBP\\Bacteri\\Detection-of-bacteria-in-water-using-Yolo-images\\Detect\\Detection-of-bacteria-in-water-using-Yolo-images\\temp\\images/train\\EMDS7-G032-017-0400.png\n",
      "Processed Image saved to: D:\\KULIAH\\SEMESTER 5\\RSBP\\Bacteri\\Detection-of-bacteria-in-water-using-Yolo-images\\Detect\\Detection-of-bacteria-in-water-using-Yolo-images\\temp\\images/train\\EMDS7-G006-015-0400.png\n",
      "Processed Image saved to: D:\\KULIAH\\SEMESTER 5\\RSBP\\Bacteri\\Detection-of-bacteria-in-water-using-Yolo-images\\Detect\\Detection-of-bacteria-in-water-using-Yolo-images\\temp\\images/train\\EMDS7-G036-011-0400.png\n",
      "Processed Image saved to: D:\\KULIAH\\SEMESTER 5\\RSBP\\Bacteri\\Detection-of-bacteria-in-water-using-Yolo-images\\Detect\\Detection-of-bacteria-in-water-using-Yolo-images\\temp\\images/train\\EMDS7-G004-060-0400.png\n",
      "Processed Image saved to: D:\\KULIAH\\SEMESTER 5\\RSBP\\Bacteri\\Detection-of-bacteria-in-water-using-Yolo-images\\Detect\\Detection-of-bacteria-in-water-using-Yolo-images\\temp\\images/train\\EMDS7-G009-001-0400.png\n",
      "Processed Image saved to: D:\\KULIAH\\SEMESTER 5\\RSBP\\Bacteri\\Detection-of-bacteria-in-water-using-Yolo-images\\Detect\\Detection-of-bacteria-in-water-using-Yolo-images\\temp\\images/train\\EMDS7-G023-027-0400.png\n",
      "Processed Image saved to: D:\\KULIAH\\SEMESTER 5\\RSBP\\Bacteri\\Detection-of-bacteria-in-water-using-Yolo-images\\Detect\\Detection-of-bacteria-in-water-using-Yolo-images\\temp\\images/train\\EMDS7-G006-012-0400.png\n",
      "Processed Image saved to: D:\\KULIAH\\SEMESTER 5\\RSBP\\Bacteri\\Detection-of-bacteria-in-water-using-Yolo-images\\Detect\\Detection-of-bacteria-in-water-using-Yolo-images\\temp\\images/train\\EMDS7-G003-171-0400.png\n",
      "Processed Image saved to: D:\\KULIAH\\SEMESTER 5\\RSBP\\Bacteri\\Detection-of-bacteria-in-water-using-Yolo-images\\Detect\\Detection-of-bacteria-in-water-using-Yolo-images\\temp\\images/train\\EMDS7-G039-020-0400.png\n",
      "Processed Image saved to: D:\\KULIAH\\SEMESTER 5\\RSBP\\Bacteri\\Detection-of-bacteria-in-water-using-Yolo-images\\Detect\\Detection-of-bacteria-in-water-using-Yolo-images\\temp\\images/train\\EMDS7-G025-003-0400.png\n",
      "Processed Image saved to: D:\\KULIAH\\SEMESTER 5\\RSBP\\Bacteri\\Detection-of-bacteria-in-water-using-Yolo-images\\Detect\\Detection-of-bacteria-in-water-using-Yolo-images\\temp\\images/train\\EMDS7-G003-237-0400.png\n",
      "Processed Image saved to: D:\\KULIAH\\SEMESTER 5\\RSBP\\Bacteri\\Detection-of-bacteria-in-water-using-Yolo-images\\Detect\\Detection-of-bacteria-in-water-using-Yolo-images\\temp\\images/train\\EMDS7-G006-017-0400.png\n",
      "Processed Image saved to: D:\\KULIAH\\SEMESTER 5\\RSBP\\Bacteri\\Detection-of-bacteria-in-water-using-Yolo-images\\Detect\\Detection-of-bacteria-in-water-using-Yolo-images\\temp\\images/train\\EMDS7-G009-020-0400.png\n",
      "Processed Image saved to: D:\\KULIAH\\SEMESTER 5\\RSBP\\Bacteri\\Detection-of-bacteria-in-water-using-Yolo-images\\Detect\\Detection-of-bacteria-in-water-using-Yolo-images\\temp\\images/train\\EMDS7-G038-030-0400.png\n",
      "Processed Image saved to: D:\\KULIAH\\SEMESTER 5\\RSBP\\Bacteri\\Detection-of-bacteria-in-water-using-Yolo-images\\Detect\\Detection-of-bacteria-in-water-using-Yolo-images\\temp\\images/train\\EMDS7-G030-008-0400.png\n",
      "Processed Image saved to: D:\\KULIAH\\SEMESTER 5\\RSBP\\Bacteri\\Detection-of-bacteria-in-water-using-Yolo-images\\Detect\\Detection-of-bacteria-in-water-using-Yolo-images\\temp\\images/train\\EMDS7-G036-010-0400.png\n",
      "Processed Image saved to: D:\\KULIAH\\SEMESTER 5\\RSBP\\Bacteri\\Detection-of-bacteria-in-water-using-Yolo-images\\Detect\\Detection-of-bacteria-in-water-using-Yolo-images\\temp\\images/train\\EMDS7-G012-092-0400.png\n",
      "Processed Image saved to: D:\\KULIAH\\SEMESTER 5\\RSBP\\Bacteri\\Detection-of-bacteria-in-water-using-Yolo-images\\Detect\\Detection-of-bacteria-in-water-using-Yolo-images\\temp\\images/train\\EMDS7-G012-046-0400.png\n",
      "Processed Image saved to: D:\\KULIAH\\SEMESTER 5\\RSBP\\Bacteri\\Detection-of-bacteria-in-water-using-Yolo-images\\Detect\\Detection-of-bacteria-in-water-using-Yolo-images\\temp\\images/train\\EMDS7-G003-129-0400.png\n",
      "Processed Image saved to: D:\\KULIAH\\SEMESTER 5\\RSBP\\Bacteri\\Detection-of-bacteria-in-water-using-Yolo-images\\Detect\\Detection-of-bacteria-in-water-using-Yolo-images\\temp\\images/train\\EMDS7-G003-106-0400.png\n",
      "Processed Image saved to: D:\\KULIAH\\SEMESTER 5\\RSBP\\Bacteri\\Detection-of-bacteria-in-water-using-Yolo-images\\Detect\\Detection-of-bacteria-in-water-using-Yolo-images\\temp\\images/train\\EMDS7-G028-032-0400.png\n",
      "Processed Image saved to: D:\\KULIAH\\SEMESTER 5\\RSBP\\Bacteri\\Detection-of-bacteria-in-water-using-Yolo-images\\Detect\\Detection-of-bacteria-in-water-using-Yolo-images\\temp\\images/train\\EMDS7-G020-019-0400.png\n",
      "Processed Image saved to: D:\\KULIAH\\SEMESTER 5\\RSBP\\Bacteri\\Detection-of-bacteria-in-water-using-Yolo-images\\Detect\\Detection-of-bacteria-in-water-using-Yolo-images\\temp\\images/train\\EMDS7-G031-022-0400.png\n",
      "Processed Image saved to: D:\\KULIAH\\SEMESTER 5\\RSBP\\Bacteri\\Detection-of-bacteria-in-water-using-Yolo-images\\Detect\\Detection-of-bacteria-in-water-using-Yolo-images\\temp\\images/train\\EMDS7-G011-006-0400.png\n",
      "Processed Image saved to: D:\\KULIAH\\SEMESTER 5\\RSBP\\Bacteri\\Detection-of-bacteria-in-water-using-Yolo-images\\Detect\\Detection-of-bacteria-in-water-using-Yolo-images\\temp\\images/train\\EMDS7-G018-014-0400.png\n",
      "Processed Image saved to: D:\\KULIAH\\SEMESTER 5\\RSBP\\Bacteri\\Detection-of-bacteria-in-water-using-Yolo-images\\Detect\\Detection-of-bacteria-in-water-using-Yolo-images\\temp\\images/train\\EMDS7-G030-033-0400.png\n",
      "Processed Image saved to: D:\\KULIAH\\SEMESTER 5\\RSBP\\Bacteri\\Detection-of-bacteria-in-water-using-Yolo-images\\Detect\\Detection-of-bacteria-in-water-using-Yolo-images\\temp\\images/train\\EMDS7-G032-023-0400.png\n",
      "Processed Image saved to: D:\\KULIAH\\SEMESTER 5\\RSBP\\Bacteri\\Detection-of-bacteria-in-water-using-Yolo-images\\Detect\\Detection-of-bacteria-in-water-using-Yolo-images\\temp\\images/train\\EMDS7-G033-027-0400.png\n",
      "Processed Image saved to: D:\\KULIAH\\SEMESTER 5\\RSBP\\Bacteri\\Detection-of-bacteria-in-water-using-Yolo-images\\Detect\\Detection-of-bacteria-in-water-using-Yolo-images\\temp\\images/train\\EMDS7-G003-228-0400.png\n",
      "Processed Image saved to: D:\\KULIAH\\SEMESTER 5\\RSBP\\Bacteri\\Detection-of-bacteria-in-water-using-Yolo-images\\Detect\\Detection-of-bacteria-in-water-using-Yolo-images\\temp\\images/train\\EMDS7-G012-097-0400.png\n",
      "Processed Image saved to: D:\\KULIAH\\SEMESTER 5\\RSBP\\Bacteri\\Detection-of-bacteria-in-water-using-Yolo-images\\Detect\\Detection-of-bacteria-in-water-using-Yolo-images\\temp\\images/train\\EMDS7-G019-032-0400.png\n",
      "Processed Image saved to: D:\\KULIAH\\SEMESTER 5\\RSBP\\Bacteri\\Detection-of-bacteria-in-water-using-Yolo-images\\Detect\\Detection-of-bacteria-in-water-using-Yolo-images\\temp\\images/train\\EMDS7-G004-023-0400.png\n",
      "Processed Image saved to: D:\\KULIAH\\SEMESTER 5\\RSBP\\Bacteri\\Detection-of-bacteria-in-water-using-Yolo-images\\Detect\\Detection-of-bacteria-in-water-using-Yolo-images\\temp\\images/train\\EMDS7-G025-020-0400.png\n",
      "Processed Image saved to: D:\\KULIAH\\SEMESTER 5\\RSBP\\Bacteri\\Detection-of-bacteria-in-water-using-Yolo-images\\Detect\\Detection-of-bacteria-in-water-using-Yolo-images\\temp\\images/train\\EMDS7-G030-014-0400.png\n",
      "Processed Image saved to: D:\\KULIAH\\SEMESTER 5\\RSBP\\Bacteri\\Detection-of-bacteria-in-water-using-Yolo-images\\Detect\\Detection-of-bacteria-in-water-using-Yolo-images\\temp\\images/train\\EMDS7-G022-187-0400.png\n",
      "Processed Image saved to: D:\\KULIAH\\SEMESTER 5\\RSBP\\Bacteri\\Detection-of-bacteria-in-water-using-Yolo-images\\Detect\\Detection-of-bacteria-in-water-using-Yolo-images\\temp\\images/train\\EMDS7-G038-044-0400.png\n",
      "Processed Image saved to: D:\\KULIAH\\SEMESTER 5\\RSBP\\Bacteri\\Detection-of-bacteria-in-water-using-Yolo-images\\Detect\\Detection-of-bacteria-in-water-using-Yolo-images\\temp\\images/train\\EMDS7-G012-074-0400.png\n",
      "Processed Image saved to: D:\\KULIAH\\SEMESTER 5\\RSBP\\Bacteri\\Detection-of-bacteria-in-water-using-Yolo-images\\Detect\\Detection-of-bacteria-in-water-using-Yolo-images\\temp\\images/train\\EMDS7-G012-091-0400.png\n",
      "Processed Image saved to: D:\\KULIAH\\SEMESTER 5\\RSBP\\Bacteri\\Detection-of-bacteria-in-water-using-Yolo-images\\Detect\\Detection-of-bacteria-in-water-using-Yolo-images\\temp\\images/train\\EMDS7-G011-046-0400.png\n",
      "Processed Image saved to: D:\\KULIAH\\SEMESTER 5\\RSBP\\Bacteri\\Detection-of-bacteria-in-water-using-Yolo-images\\Detect\\Detection-of-bacteria-in-water-using-Yolo-images\\temp\\images/train\\EMDS7-G035-048-0400.png\n",
      "Processed Image saved to: D:\\KULIAH\\SEMESTER 5\\RSBP\\Bacteri\\Detection-of-bacteria-in-water-using-Yolo-images\\Detect\\Detection-of-bacteria-in-water-using-Yolo-images\\temp\\images/train\\EMDS7-G010-024-0400.pngProcessed Image saved to: D:\\KULIAH\\SEMESTER 5\\RSBP\\Bacteri\\Detection-of-bacteria-in-water-using-Yolo-images\\Detect\\Detection-of-bacteria-in-water-using-Yolo-images\\temp\\images/train\\EMDS7-G014-069-0400.png\n",
      "\n",
      "Processed Image saved to: D:\\KULIAH\\SEMESTER 5\\RSBP\\Bacteri\\Detection-of-bacteria-in-water-using-Yolo-images\\Detect\\Detection-of-bacteria-in-water-using-Yolo-images\\temp\\images/train\\EMDS7-G031-015-0400.png\n",
      "Processed Image saved to: D:\\KULIAH\\SEMESTER 5\\RSBP\\Bacteri\\Detection-of-bacteria-in-water-using-Yolo-images\\Detect\\Detection-of-bacteria-in-water-using-Yolo-images\\temp\\images/train\\EMDS7-G014-059-0400.png\n",
      "Processed Image saved to: D:\\KULIAH\\SEMESTER 5\\RSBP\\Bacteri\\Detection-of-bacteria-in-water-using-Yolo-images\\Detect\\Detection-of-bacteria-in-water-using-Yolo-images\\temp\\images/train\\EMDS7-G018-040-0400.png\n",
      "Processed Image saved to: D:\\KULIAH\\SEMESTER 5\\RSBP\\Bacteri\\Detection-of-bacteria-in-water-using-Yolo-images\\Detect\\Detection-of-bacteria-in-water-using-Yolo-images\\temp\\images/train\\EMDS7-G029-007-0400.png\n",
      "Processed Image saved to: D:\\KULIAH\\SEMESTER 5\\RSBP\\Bacteri\\Detection-of-bacteria-in-water-using-Yolo-images\\Detect\\Detection-of-bacteria-in-water-using-Yolo-images\\temp\\images/train\\EMDS7-G003-301-0400.png\n",
      "Processed Image saved to: D:\\KULIAH\\SEMESTER 5\\RSBP\\Bacteri\\Detection-of-bacteria-in-water-using-Yolo-images\\Detect\\Detection-of-bacteria-in-water-using-Yolo-images\\temp\\images/train\\EMDS7-G004-067-0400.png\n",
      "Processed Image saved to: D:\\KULIAH\\SEMESTER 5\\RSBP\\Bacteri\\Detection-of-bacteria-in-water-using-Yolo-images\\Detect\\Detection-of-bacteria-in-water-using-Yolo-images\\temp\\images/train\\EMDS7-G003-291-0400.png\n",
      "Processed Image saved to: D:\\KULIAH\\SEMESTER 5\\RSBP\\Bacteri\\Detection-of-bacteria-in-water-using-Yolo-images\\Detect\\Detection-of-bacteria-in-water-using-Yolo-images\\temp\\images/train\\EMDS7-G003-290-0400.png\n",
      "Processed Image saved to: D:\\KULIAH\\SEMESTER 5\\RSBP\\Bacteri\\Detection-of-bacteria-in-water-using-Yolo-images\\Detect\\Detection-of-bacteria-in-water-using-Yolo-images\\temp\\images/train\\EMDS7-G003-268-0400.png\n",
      "Processed Image saved to: D:\\KULIAH\\SEMESTER 5\\RSBP\\Bacteri\\Detection-of-bacteria-in-water-using-Yolo-images\\Detect\\Detection-of-bacteria-in-water-using-Yolo-images\\temp\\images/train\\EMDS7-G037-003-0400.png\n",
      "Processed Image saved to: D:\\KULIAH\\SEMESTER 5\\RSBP\\Bacteri\\Detection-of-bacteria-in-water-using-Yolo-images\\Detect\\Detection-of-bacteria-in-water-using-Yolo-images\\temp\\images/train\\EMDS7-G022-114-0400.png\n",
      "Processed Image saved to: D:\\KULIAH\\SEMESTER 5\\RSBP\\Bacteri\\Detection-of-bacteria-in-water-using-Yolo-images\\Detect\\Detection-of-bacteria-in-water-using-Yolo-images\\temp\\images/train\\EMDS7-G018-080-0400.png\n",
      "Processed Image saved to: D:\\KULIAH\\SEMESTER 5\\RSBP\\Bacteri\\Detection-of-bacteria-in-water-using-Yolo-images\\Detect\\Detection-of-bacteria-in-water-using-Yolo-images\\temp\\images/train\\EMDS7-G003-272-0400.png\n",
      "Processed Image saved to: D:\\KULIAH\\SEMESTER 5\\RSBP\\Bacteri\\Detection-of-bacteria-in-water-using-Yolo-images\\Detect\\Detection-of-bacteria-in-water-using-Yolo-images\\temp\\images/train\\EMDS7-G039-064-0400.png\n",
      "Processed Image saved to: D:\\KULIAH\\SEMESTER 5\\RSBP\\Bacteri\\Detection-of-bacteria-in-water-using-Yolo-images\\Detect\\Detection-of-bacteria-in-water-using-Yolo-images\\temp\\images/train\\EMDS7-G003-165-0400.png\n",
      "Processed Image saved to: D:\\KULIAH\\SEMESTER 5\\RSBP\\Bacteri\\Detection-of-bacteria-in-water-using-Yolo-images\\Detect\\Detection-of-bacteria-in-water-using-Yolo-images\\temp\\images/train\\EMDS7-G037-001-0400.png\n",
      "Processed Image saved to: D:\\KULIAH\\SEMESTER 5\\RSBP\\Bacteri\\Detection-of-bacteria-in-water-using-Yolo-images\\Detect\\Detection-of-bacteria-in-water-using-Yolo-images\\temp\\images/train\\EMDS7-G035-024-0400.png\n",
      "Processed Image saved to: D:\\KULIAH\\SEMESTER 5\\RSBP\\Bacteri\\Detection-of-bacteria-in-water-using-Yolo-images\\Detect\\Detection-of-bacteria-in-water-using-Yolo-images\\temp\\images/train\\EMDS7-G017-069-0400.png\n",
      "Processed Image saved to: D:\\KULIAH\\SEMESTER 5\\RSBP\\Bacteri\\Detection-of-bacteria-in-water-using-Yolo-images\\Detect\\Detection-of-bacteria-in-water-using-Yolo-images\\temp\\images/train\\EMDS7-G003-277-0400.png\n",
      "Processed Image saved to: D:\\KULIAH\\SEMESTER 5\\RSBP\\Bacteri\\Detection-of-bacteria-in-water-using-Yolo-images\\Detect\\Detection-of-bacteria-in-water-using-Yolo-images\\temp\\images/train\\EMDS7-G004-075-0400.png\n",
      "Processed Image saved to: D:\\KULIAH\\SEMESTER 5\\RSBP\\Bacteri\\Detection-of-bacteria-in-water-using-Yolo-images\\Detect\\Detection-of-bacteria-in-water-using-Yolo-images\\temp\\images/train\\EMDS7-G011-015-0400.png\n",
      "Processed Image saved to: D:\\KULIAH\\SEMESTER 5\\RSBP\\Bacteri\\Detection-of-bacteria-in-water-using-Yolo-images\\Detect\\Detection-of-bacteria-in-water-using-Yolo-images\\temp\\images/train\\EMDS7-G031-024-0400.png\n",
      "Processed Image saved to: D:\\KULIAH\\SEMESTER 5\\RSBP\\Bacteri\\Detection-of-bacteria-in-water-using-Yolo-images\\Detect\\Detection-of-bacteria-in-water-using-Yolo-images\\temp\\images/train\\EMDS7-G003-275-0400.png\n",
      "Processed Image saved to: D:\\KULIAH\\SEMESTER 5\\RSBP\\Bacteri\\Detection-of-bacteria-in-water-using-Yolo-images\\Detect\\Detection-of-bacteria-in-water-using-Yolo-images\\temp\\images/train\\EMDS7-G004-078-0400.png\n",
      "Processed Image saved to: D:\\KULIAH\\SEMESTER 5\\RSBP\\Bacteri\\Detection-of-bacteria-in-water-using-Yolo-images\\Detect\\Detection-of-bacteria-in-water-using-Yolo-images\\temp\\images/train\\EMDS7-G032-024-0400.png\n",
      "Processed Image saved to: D:\\KULIAH\\SEMESTER 5\\RSBP\\Bacteri\\Detection-of-bacteria-in-water-using-Yolo-images\\Detect\\Detection-of-bacteria-in-water-using-Yolo-images\\temp\\images/train\\EMDS7-G028-039-0400.png\n",
      "Processed Image saved to: D:\\KULIAH\\SEMESTER 5\\RSBP\\Bacteri\\Detection-of-bacteria-in-water-using-Yolo-images\\Detect\\Detection-of-bacteria-in-water-using-Yolo-images\\temp\\images/train\\EMDS7-G005-003-0400.png\n",
      "Processed Image saved to: D:\\KULIAH\\SEMESTER 5\\RSBP\\Bacteri\\Detection-of-bacteria-in-water-using-Yolo-images\\Detect\\Detection-of-bacteria-in-water-using-Yolo-images\\temp\\images/train\\EMDS7-G029-012-0400.png\n",
      "Processed Image saved to: D:\\KULIAH\\SEMESTER 5\\RSBP\\Bacteri\\Detection-of-bacteria-in-water-using-Yolo-images\\Detect\\Detection-of-bacteria-in-water-using-Yolo-images\\temp\\images/train\\EMDS7-G003-050-0400.png\n",
      "Processed Image saved to: D:\\KULIAH\\SEMESTER 5\\RSBP\\Bacteri\\Detection-of-bacteria-in-water-using-Yolo-images\\Detect\\Detection-of-bacteria-in-water-using-Yolo-images\\temp\\images/train\\EMDS7-G039-076-0400.png\n",
      "Processed Image saved to: D:\\KULIAH\\SEMESTER 5\\RSBP\\Bacteri\\Detection-of-bacteria-in-water-using-Yolo-images\\Detect\\Detection-of-bacteria-in-water-using-Yolo-images\\temp\\images/train\\EMDS7-G028-016-0400.png\n",
      "Processed Image saved to: D:\\KULIAH\\SEMESTER 5\\RSBP\\Bacteri\\Detection-of-bacteria-in-water-using-Yolo-images\\Detect\\Detection-of-bacteria-in-water-using-Yolo-images\\temp\\images/train\\EMDS7-G004-080-0400.png\n",
      "Processed Image saved to: D:\\KULIAH\\SEMESTER 5\\RSBP\\Bacteri\\Detection-of-bacteria-in-water-using-Yolo-images\\Detect\\Detection-of-bacteria-in-water-using-Yolo-images\\temp\\images/train\\EMDS7-G014-045-0400.png\n",
      "Processed Image saved to: D:\\KULIAH\\SEMESTER 5\\RSBP\\Bacteri\\Detection-of-bacteria-in-water-using-Yolo-images\\Detect\\Detection-of-bacteria-in-water-using-Yolo-images\\temp\\images/train\\EMDS7-G017-048-0400.png\n",
      "Processed Image saved to: D:\\KULIAH\\SEMESTER 5\\RSBP\\Bacteri\\Detection-of-bacteria-in-water-using-Yolo-images\\Detect\\Detection-of-bacteria-in-water-using-Yolo-images\\temp\\images/train\\EMDS7-G011-045-0400.png\n",
      "Processed Image saved to: D:\\KULIAH\\SEMESTER 5\\RSBP\\Bacteri\\Detection-of-bacteria-in-water-using-Yolo-images\\Detect\\Detection-of-bacteria-in-water-using-Yolo-images\\temp\\images/train\\EMDS7-G018-045-0400.png\n",
      "Processed Image saved to: D:\\KULIAH\\SEMESTER 5\\RSBP\\Bacteri\\Detection-of-bacteria-in-water-using-Yolo-images\\Detect\\Detection-of-bacteria-in-water-using-Yolo-images\\temp\\images/train\\EMDS7-G014-031-0400.png\n",
      "Processed Image saved to: D:\\KULIAH\\SEMESTER 5\\RSBP\\Bacteri\\Detection-of-bacteria-in-water-using-Yolo-images\\Detect\\Detection-of-bacteria-in-water-using-Yolo-images\\temp\\images/train\\EMDS7-G003-295-0400.png\n",
      "Processed Image saved to: D:\\KULIAH\\SEMESTER 5\\RSBP\\Bacteri\\Detection-of-bacteria-in-water-using-Yolo-images\\Detect\\Detection-of-bacteria-in-water-using-Yolo-images\\temp\\images/train\\EMDS7-G003-236-0400.png\n",
      "Processed Image saved to: D:\\KULIAH\\SEMESTER 5\\RSBP\\Bacteri\\Detection-of-bacteria-in-water-using-Yolo-images\\Detect\\Detection-of-bacteria-in-water-using-Yolo-images\\temp\\images/train\\EMDS7-G003-205-0400.png\n",
      "Processed Image saved to: D:\\KULIAH\\SEMESTER 5\\RSBP\\Bacteri\\Detection-of-bacteria-in-water-using-Yolo-images\\Detect\\Detection-of-bacteria-in-water-using-Yolo-images\\temp\\images/train\\EMDS7-G035-033-0400.png\n",
      "Processed Image saved to: D:\\KULIAH\\SEMESTER 5\\RSBP\\Bacteri\\Detection-of-bacteria-in-water-using-Yolo-images\\Detect\\Detection-of-bacteria-in-water-using-Yolo-images\\temp\\images/train\\EMDS7-G012-029-0400.png\n",
      "Processed Image saved to: D:\\KULIAH\\SEMESTER 5\\RSBP\\Bacteri\\Detection-of-bacteria-in-water-using-Yolo-images\\Detect\\Detection-of-bacteria-in-water-using-Yolo-images\\temp\\images/train\\EMDS7-G003-039-0400.png\n",
      "Processed Image saved to: D:\\KULIAH\\SEMESTER 5\\RSBP\\Bacteri\\Detection-of-bacteria-in-water-using-Yolo-images\\Detect\\Detection-of-bacteria-in-water-using-Yolo-images\\temp\\images/train\\EMDS7-G014-091-0400.png\n",
      "Processed Image saved to: D:\\KULIAH\\SEMESTER 5\\RSBP\\Bacteri\\Detection-of-bacteria-in-water-using-Yolo-images\\Detect\\Detection-of-bacteria-in-water-using-Yolo-images\\temp\\images/train\\EMDS7-G038-008-0400.png\n",
      "Processed Image saved to: D:\\KULIAH\\SEMESTER 5\\RSBP\\Bacteri\\Detection-of-bacteria-in-water-using-Yolo-images\\Detect\\Detection-of-bacteria-in-water-using-Yolo-images\\temp\\images/train\\EMDS7-G003-161-0400.png\n",
      "Processed Image saved to: D:\\KULIAH\\SEMESTER 5\\RSBP\\Bacteri\\Detection-of-bacteria-in-water-using-Yolo-images\\Detect\\Detection-of-bacteria-in-water-using-Yolo-images\\temp\\images/train\\EMDS7-G003-028-0400.png\n",
      "Processed Image saved to: D:\\KULIAH\\SEMESTER 5\\RSBP\\Bacteri\\Detection-of-bacteria-in-water-using-Yolo-images\\Detect\\Detection-of-bacteria-in-water-using-Yolo-images\\temp\\images/train\\EMDS7-G039-078-0400.png\n",
      "Processed Image saved to: D:\\KULIAH\\SEMESTER 5\\RSBP\\Bacteri\\Detection-of-bacteria-in-water-using-Yolo-images\\Detect\\Detection-of-bacteria-in-water-using-Yolo-images\\temp\\images/train\\EMDS7-G038-054-0400.png\n",
      "Processed Image saved to: D:\\KULIAH\\SEMESTER 5\\RSBP\\Bacteri\\Detection-of-bacteria-in-water-using-Yolo-images\\Detect\\Detection-of-bacteria-in-water-using-Yolo-images\\temp\\images/train\\EMDS7-G004-039-0400.png\n",
      "Processed Image saved to: D:\\KULIAH\\SEMESTER 5\\RSBP\\Bacteri\\Detection-of-bacteria-in-water-using-Yolo-images\\Detect\\Detection-of-bacteria-in-water-using-Yolo-images\\temp\\images/train\\EMDS7-G032-007-0400.png\n",
      "Processed Image saved to: D:\\KULIAH\\SEMESTER 5\\RSBP\\Bacteri\\Detection-of-bacteria-in-water-using-Yolo-images\\Detect\\Detection-of-bacteria-in-water-using-Yolo-images\\temp\\images/train\\EMDS7-G019-013-0400.png\n",
      "Processed Image saved to: D:\\KULIAH\\SEMESTER 5\\RSBP\\Bacteri\\Detection-of-bacteria-in-water-using-Yolo-images\\Detect\\Detection-of-bacteria-in-water-using-Yolo-images\\temp\\images/train\\EMDS7-G022-017-0400.png\n",
      "Processed Image saved to: D:\\KULIAH\\SEMESTER 5\\RSBP\\Bacteri\\Detection-of-bacteria-in-water-using-Yolo-images\\Detect\\Detection-of-bacteria-in-water-using-Yolo-images\\temp\\images/train\\EMDS7-G012-062-0400.png\n",
      "Processed Image saved to: D:\\KULIAH\\SEMESTER 5\\RSBP\\Bacteri\\Detection-of-bacteria-in-water-using-Yolo-images\\Detect\\Detection-of-bacteria-in-water-using-Yolo-images\\temp\\images/train\\EMDS7-G017-070-0400.png\n",
      "Processed Image saved to: D:\\KULIAH\\SEMESTER 5\\RSBP\\Bacteri\\Detection-of-bacteria-in-water-using-Yolo-images\\Detect\\Detection-of-bacteria-in-water-using-Yolo-images\\temp\\images/train\\EMDS7-G017-039-0400.png\n",
      "Processed Image saved to: D:\\KULIAH\\SEMESTER 5\\RSBP\\Bacteri\\Detection-of-bacteria-in-water-using-Yolo-images\\Detect\\Detection-of-bacteria-in-water-using-Yolo-images\\temp\\images/train\\EMDS7-G033-019-0400.png\n",
      "Processed Image saved to: D:\\KULIAH\\SEMESTER 5\\RSBP\\Bacteri\\Detection-of-bacteria-in-water-using-Yolo-images\\Detect\\Detection-of-bacteria-in-water-using-Yolo-images\\temp\\images/train\\EMDS7-G030-029-0400.png\n",
      "Processed Image saved to: D:\\KULIAH\\SEMESTER 5\\RSBP\\Bacteri\\Detection-of-bacteria-in-water-using-Yolo-images\\Detect\\Detection-of-bacteria-in-water-using-Yolo-images\\temp\\images/train\\EMDS7-G003-212-0400.png\n",
      "Processed Image saved to: D:\\KULIAH\\SEMESTER 5\\RSBP\\Bacteri\\Detection-of-bacteria-in-water-using-Yolo-images\\Detect\\Detection-of-bacteria-in-water-using-Yolo-images\\temp\\images/train\\EMDS7-G035-022-0400.png\n",
      "Processed Image saved to: D:\\KULIAH\\SEMESTER 5\\RSBP\\Bacteri\\Detection-of-bacteria-in-water-using-Yolo-images\\Detect\\Detection-of-bacteria-in-water-using-Yolo-images\\temp\\images/train\\EMDS7-G003-247-0400.png\n",
      "Processed Image saved to: D:\\KULIAH\\SEMESTER 5\\RSBP\\Bacteri\\Detection-of-bacteria-in-water-using-Yolo-images\\Detect\\Detection-of-bacteria-in-water-using-Yolo-images\\temp\\images/train\\EMDS7-G022-107-0400.png\n",
      "Processed Image saved to: D:\\KULIAH\\SEMESTER 5\\RSBP\\Bacteri\\Detection-of-bacteria-in-water-using-Yolo-images\\Detect\\Detection-of-bacteria-in-water-using-Yolo-images\\temp\\images/train\\EMDS7-G010-007-0400.png\n",
      "Processed Image saved to: D:\\KULIAH\\SEMESTER 5\\RSBP\\Bacteri\\Detection-of-bacteria-in-water-using-Yolo-images\\Detect\\Detection-of-bacteria-in-water-using-Yolo-images\\temp\\images/train\\EMDS7-G001-001-0400.png\n",
      "Processed Image saved to: D:\\KULIAH\\SEMESTER 5\\RSBP\\Bacteri\\Detection-of-bacteria-in-water-using-Yolo-images\\Detect\\Detection-of-bacteria-in-water-using-Yolo-images\\temp\\images/train\\EMDS7-G014-040-0400.png\n",
      "Processed Image saved to: D:\\KULIAH\\SEMESTER 5\\RSBP\\Bacteri\\Detection-of-bacteria-in-water-using-Yolo-images\\Detect\\Detection-of-bacteria-in-water-using-Yolo-images\\temp\\images/train\\EMDS7-G032-036-0400.png\n",
      "Processed Image saved to: D:\\KULIAH\\SEMESTER 5\\RSBP\\Bacteri\\Detection-of-bacteria-in-water-using-Yolo-images\\Detect\\Detection-of-bacteria-in-water-using-Yolo-images\\temp\\images/train\\EMDS7-G003-055-0400.png\n",
      "Processed Image saved to: D:\\KULIAH\\SEMESTER 5\\RSBP\\Bacteri\\Detection-of-bacteria-in-water-using-Yolo-images\\Detect\\Detection-of-bacteria-in-water-using-Yolo-images\\temp\\images/train\\EMDS7-G038-064-0400.png\n",
      "Processed Image saved to: D:\\KULIAH\\SEMESTER 5\\RSBP\\Bacteri\\Detection-of-bacteria-in-water-using-Yolo-images\\Detect\\Detection-of-bacteria-in-water-using-Yolo-images\\temp\\images/train\\EMDS7-G003-034-0400.png\n",
      "Processed Image saved to: D:\\KULIAH\\SEMESTER 5\\RSBP\\Bacteri\\Detection-of-bacteria-in-water-using-Yolo-images\\Detect\\Detection-of-bacteria-in-water-using-Yolo-images\\temp\\images/train\\EMDS7-G039-048-0400.png\n",
      "Processed Image saved to: D:\\KULIAH\\SEMESTER 5\\RSBP\\Bacteri\\Detection-of-bacteria-in-water-using-Yolo-images\\Detect\\Detection-of-bacteria-in-water-using-Yolo-images\\temp\\images/train\\EMDS7-G030-039-0400.png\n",
      "Processed Image saved to: D:\\KULIAH\\SEMESTER 5\\RSBP\\Bacteri\\Detection-of-bacteria-in-water-using-Yolo-images\\Detect\\Detection-of-bacteria-in-water-using-Yolo-images\\temp\\images/train\\EMDS7-G012-057-0400.png\n",
      "Processed Image saved to: D:\\KULIAH\\SEMESTER 5\\RSBP\\Bacteri\\Detection-of-bacteria-in-water-using-Yolo-images\\Detect\\Detection-of-bacteria-in-water-using-Yolo-images\\temp\\images/train\\EMDS7-G038-042-0400.png\n",
      "Processed Image saved to: D:\\KULIAH\\SEMESTER 5\\RSBP\\Bacteri\\Detection-of-bacteria-in-water-using-Yolo-images\\Detect\\Detection-of-bacteria-in-water-using-Yolo-images\\temp\\images/train\\EMDS7-G003-112-0400.png\n",
      "Processed Image saved to: D:\\KULIAH\\SEMESTER 5\\RSBP\\Bacteri\\Detection-of-bacteria-in-water-using-Yolo-images\\Detect\\Detection-of-bacteria-in-water-using-Yolo-images\\temp\\images/train\\EMDS7-G023-043-0400.png\n",
      "Processed Image saved to: D:\\KULIAH\\SEMESTER 5\\RSBP\\Bacteri\\Detection-of-bacteria-in-water-using-Yolo-images\\Detect\\Detection-of-bacteria-in-water-using-Yolo-images\\temp\\images/train\\EMDS7-G009-057-0400.png\n",
      "Processed Image saved to: D:\\KULIAH\\SEMESTER 5\\RSBP\\Bacteri\\Detection-of-bacteria-in-water-using-Yolo-images\\Detect\\Detection-of-bacteria-in-water-using-Yolo-images\\temp\\images/train\\EMDS7-G040-017-0400.png\n",
      "Processed Image saved to: D:\\KULIAH\\SEMESTER 5\\RSBP\\Bacteri\\Detection-of-bacteria-in-water-using-Yolo-images\\Detect\\Detection-of-bacteria-in-water-using-Yolo-images\\temp\\images/train\\EMDS7-G014-022-0400.png\n",
      "Processed Image saved to: D:\\KULIAH\\SEMESTER 5\\RSBP\\Bacteri\\Detection-of-bacteria-in-water-using-Yolo-images\\Detect\\Detection-of-bacteria-in-water-using-Yolo-images\\temp\\images/train\\EMDS7-G017-041-0400.png\n",
      "Processed Image saved to: D:\\KULIAH\\SEMESTER 5\\RSBP\\Bacteri\\Detection-of-bacteria-in-water-using-Yolo-images\\Detect\\Detection-of-bacteria-in-water-using-Yolo-images\\temp\\images/train\\EMDS7-G007-003-0400.png\n",
      "Processed Image saved to: D:\\KULIAH\\SEMESTER 5\\RSBP\\Bacteri\\Detection-of-bacteria-in-water-using-Yolo-images\\Detect\\Detection-of-bacteria-in-water-using-Yolo-images\\temp\\images/train\\EMDS7-G028-006-0400.png\n",
      "Processed Image saved to: D:\\KULIAH\\SEMESTER 5\\RSBP\\Bacteri\\Detection-of-bacteria-in-water-using-Yolo-images\\Detect\\Detection-of-bacteria-in-water-using-Yolo-images\\temp\\images/train\\EMDS7-G012-088-0400.png\n",
      "Processed Image saved to: D:\\KULIAH\\SEMESTER 5\\RSBP\\Bacteri\\Detection-of-bacteria-in-water-using-Yolo-images\\Detect\\Detection-of-bacteria-in-water-using-Yolo-images\\temp\\images/train\\EMDS7-G003-280-0400.png\n",
      "Processed Image saved to: D:\\KULIAH\\SEMESTER 5\\RSBP\\Bacteri\\Detection-of-bacteria-in-water-using-Yolo-images\\Detect\\Detection-of-bacteria-in-water-using-Yolo-images\\temp\\images/train\\EMDS7-G004-022-0400.png\n",
      "Processed Image saved to: D:\\KULIAH\\SEMESTER 5\\RSBP\\Bacteri\\Detection-of-bacteria-in-water-using-Yolo-images\\Detect\\Detection-of-bacteria-in-water-using-Yolo-images\\temp\\images/train\\EMDS7-G031-001-0400.png\n",
      "Processed Image saved to: D:\\KULIAH\\SEMESTER 5\\RSBP\\Bacteri\\Detection-of-bacteria-in-water-using-Yolo-images\\Detect\\Detection-of-bacteria-in-water-using-Yolo-images\\temp\\images/train\\EMDS7-G022-115-0400.png\n",
      "Processed Image saved to: D:\\KULIAH\\SEMESTER 5\\RSBP\\Bacteri\\Detection-of-bacteria-in-water-using-Yolo-images\\Detect\\Detection-of-bacteria-in-water-using-Yolo-images\\temp\\images/train\\EMDS7-G012-048-0400.png\n",
      "Processed Image saved to: D:\\KULIAH\\SEMESTER 5\\RSBP\\Bacteri\\Detection-of-bacteria-in-water-using-Yolo-images\\Detect\\Detection-of-bacteria-in-water-using-Yolo-images\\temp\\images/train\\EMDS7-G032-026-0400.png\n",
      "Processed Image saved to: D:\\KULIAH\\SEMESTER 5\\RSBP\\Bacteri\\Detection-of-bacteria-in-water-using-Yolo-images\\Detect\\Detection-of-bacteria-in-water-using-Yolo-images\\temp\\images/train\\EMDS7-G012-005-0400.png\n",
      "Processed Image saved to: D:\\KULIAH\\SEMESTER 5\\RSBP\\Bacteri\\Detection-of-bacteria-in-water-using-Yolo-images\\Detect\\Detection-of-bacteria-in-water-using-Yolo-images\\temp\\images/train\\EMDS7-G036-072-0400.png\n",
      "Processed Image saved to: D:\\KULIAH\\SEMESTER 5\\RSBP\\Bacteri\\Detection-of-bacteria-in-water-using-Yolo-images\\Detect\\Detection-of-bacteria-in-water-using-Yolo-images\\temp\\images/train\\EMDS7-G025-022-0400.png\n",
      "Processed Image saved to: D:\\KULIAH\\SEMESTER 5\\RSBP\\Bacteri\\Detection-of-bacteria-in-water-using-Yolo-images\\Detect\\Detection-of-bacteria-in-water-using-Yolo-images\\temp\\images/train\\EMDS7-G040-008-0400.png\n",
      "Processed Image saved to: D:\\KULIAH\\SEMESTER 5\\RSBP\\Bacteri\\Detection-of-bacteria-in-water-using-Yolo-images\\Detect\\Detection-of-bacteria-in-water-using-Yolo-images\\temp\\images/train\\EMDS7-G003-069-0400.png\n",
      "Processed Image saved to: D:\\KULIAH\\SEMESTER 5\\RSBP\\Bacteri\\Detection-of-bacteria-in-water-using-Yolo-images\\Detect\\Detection-of-bacteria-in-water-using-Yolo-images\\temp\\images/train\\EMDS7-G001-017-0400.png\n",
      "Processed Image saved to: D:\\KULIAH\\SEMESTER 5\\RSBP\\Bacteri\\Detection-of-bacteria-in-water-using-Yolo-images\\Detect\\Detection-of-bacteria-in-water-using-Yolo-images\\temp\\images/train\\EMDS7-G004-063-0400.png\n",
      "Processed Image saved to: D:\\KULIAH\\SEMESTER 5\\RSBP\\Bacteri\\Detection-of-bacteria-in-water-using-Yolo-images\\Detect\\Detection-of-bacteria-in-water-using-Yolo-images\\temp\\images/train\\EMDS7-G022-142-0400.png\n",
      "Processed Image saved to: D:\\KULIAH\\SEMESTER 5\\RSBP\\Bacteri\\Detection-of-bacteria-in-water-using-Yolo-images\\Detect\\Detection-of-bacteria-in-water-using-Yolo-images\\temp\\images/train\\EMDS7-G001-005-0400.png\n",
      "Processed Image saved to: D:\\KULIAH\\SEMESTER 5\\RSBP\\Bacteri\\Detection-of-bacteria-in-water-using-Yolo-images\\Detect\\Detection-of-bacteria-in-water-using-Yolo-images\\temp\\images/train\\EMDS7-G014-077-0400.png\n",
      "Processed Image saved to: D:\\KULIAH\\SEMESTER 5\\RSBP\\Bacteri\\Detection-of-bacteria-in-water-using-Yolo-images\\Detect\\Detection-of-bacteria-in-water-using-Yolo-images\\temp\\images/train\\EMDS7-G018-003-0400.png\n",
      "Processed Image saved to: D:\\KULIAH\\SEMESTER 5\\RSBP\\Bacteri\\Detection-of-bacteria-in-water-using-Yolo-images\\Detect\\Detection-of-bacteria-in-water-using-Yolo-images\\temp\\images/train\\EMDS7-G022-040-0400.png\n",
      "Processed Image saved to: D:\\KULIAH\\SEMESTER 5\\RSBP\\Bacteri\\Detection-of-bacteria-in-water-using-Yolo-images\\Detect\\Detection-of-bacteria-in-water-using-Yolo-images\\temp\\images/train\\EMDS7-G025-010-0400.png\n",
      "Processed Image saved to: D:\\KULIAH\\SEMESTER 5\\RSBP\\Bacteri\\Detection-of-bacteria-in-water-using-Yolo-images\\Detect\\Detection-of-bacteria-in-water-using-Yolo-images\\temp\\images/train\\EMDS7-G036-054-0400.pngProcessed Image saved to: D:\\KULIAH\\SEMESTER 5\\RSBP\\Bacteri\\Detection-of-bacteria-in-water-using-Yolo-images\\Detect\\Detection-of-bacteria-in-water-using-Yolo-images\\temp\\images/train\\EMDS7-G003-162-0400.png\n",
      "Skipping image EMDS7-G022-214-0400.png due to no valid classes.\n",
      "\n",
      "Processed Image saved to: D:\\KULIAH\\SEMESTER 5\\RSBP\\Bacteri\\Detection-of-bacteria-in-water-using-Yolo-images\\Detect\\Detection-of-bacteria-in-water-using-Yolo-images\\temp\\images/train\\EMDS7-G003-053-0400.png\n",
      "Processed Image saved to: D:\\KULIAH\\SEMESTER 5\\RSBP\\Bacteri\\Detection-of-bacteria-in-water-using-Yolo-images\\Detect\\Detection-of-bacteria-in-water-using-Yolo-images\\temp\\images/train\\EMDS7-G028-025-0400.png\n",
      "Processed Image saved to: D:\\KULIAH\\SEMESTER 5\\RSBP\\Bacteri\\Detection-of-bacteria-in-water-using-Yolo-images\\Detect\\Detection-of-bacteria-in-water-using-Yolo-images\\temp\\images/train\\EMDS7-G025-066-0400.png\n",
      "Processed Image saved to: D:\\KULIAH\\SEMESTER 5\\RSBP\\Bacteri\\Detection-of-bacteria-in-water-using-Yolo-images\\Detect\\Detection-of-bacteria-in-water-using-Yolo-images\\temp\\images/train\\EMDS7-G033-008-0400.png\n",
      "Processed Image saved to: D:\\KULIAH\\SEMESTER 5\\RSBP\\Bacteri\\Detection-of-bacteria-in-water-using-Yolo-images\\Detect\\Detection-of-bacteria-in-water-using-Yolo-images\\temp\\images/train\\EMDS7-G009-062-0400.png\n",
      "Processed Image saved to: D:\\KULIAH\\SEMESTER 5\\RSBP\\Bacteri\\Detection-of-bacteria-in-water-using-Yolo-images\\Detect\\Detection-of-bacteria-in-water-using-Yolo-images\\temp\\images/train\\EMDS7-G003-294-0400.png\n",
      "Processed Image saved to: D:\\KULIAH\\SEMESTER 5\\RSBP\\Bacteri\\Detection-of-bacteria-in-water-using-Yolo-images\\Detect\\Detection-of-bacteria-in-water-using-Yolo-images\\temp\\images/train\\EMDS7-G039-046-0400.png\n",
      "Processed Image saved to: D:\\KULIAH\\SEMESTER 5\\RSBP\\Bacteri\\Detection-of-bacteria-in-water-using-Yolo-images\\Detect\\Detection-of-bacteria-in-water-using-Yolo-images\\temp\\images/train\\EMDS7-G022-052-0400.png\n",
      "Processed Image saved to: D:\\KULIAH\\SEMESTER 5\\RSBP\\Bacteri\\Detection-of-bacteria-in-water-using-Yolo-images\\Detect\\Detection-of-bacteria-in-water-using-Yolo-images\\temp\\images/train\\EMDS7-G030-043-0400.png\n",
      "Processed Image saved to: D:\\KULIAH\\SEMESTER 5\\RSBP\\Bacteri\\Detection-of-bacteria-in-water-using-Yolo-images\\Detect\\Detection-of-bacteria-in-water-using-Yolo-images\\temp\\images/train\\EMDS7-G017-017-0400.png\n",
      "Processed Image saved to: D:\\KULIAH\\SEMESTER 5\\RSBP\\Bacteri\\Detection-of-bacteria-in-water-using-Yolo-images\\Detect\\Detection-of-bacteria-in-water-using-Yolo-images\\temp\\images/train\\EMDS7-G012-086-0400.png\n",
      "Processed Image saved to: D:\\KULIAH\\SEMESTER 5\\RSBP\\Bacteri\\Detection-of-bacteria-in-water-using-Yolo-images\\Detect\\Detection-of-bacteria-in-water-using-Yolo-images\\temp\\images/train\\EMDS7-G003-300-0400.png\n",
      "Processed Image saved to: D:\\KULIAH\\SEMESTER 5\\RSBP\\Bacteri\\Detection-of-bacteria-in-water-using-Yolo-images\\Detect\\Detection-of-bacteria-in-water-using-Yolo-images\\temp\\images/train\\EMDS7-G028-076-0400.png\n",
      "Processed Image saved to: D:\\KULIAH\\SEMESTER 5\\RSBP\\Bacteri\\Detection-of-bacteria-in-water-using-Yolo-images\\Detect\\Detection-of-bacteria-in-water-using-Yolo-images\\temp\\images/train\\EMDS7-G023-040-0400.png\n",
      "Processed Image saved to: D:\\KULIAH\\SEMESTER 5\\RSBP\\Bacteri\\Detection-of-bacteria-in-water-using-Yolo-images\\Detect\\Detection-of-bacteria-in-water-using-Yolo-images\\temp\\images/train\\EMDS7-G023-009-0400.png\n",
      "Processed Image saved to: D:\\KULIAH\\SEMESTER 5\\RSBP\\Bacteri\\Detection-of-bacteria-in-water-using-Yolo-images\\Detect\\Detection-of-bacteria-in-water-using-Yolo-images\\temp\\images/train\\EMDS7-G001-019-0400.png\n",
      "Processed Image saved to: D:\\KULIAH\\SEMESTER 5\\RSBP\\Bacteri\\Detection-of-bacteria-in-water-using-Yolo-images\\Detect\\Detection-of-bacteria-in-water-using-Yolo-images\\temp\\images/train\\EMDS7-G004-028-0400.png\n",
      "Processed Image saved to: D:\\KULIAH\\SEMESTER 5\\RSBP\\Bacteri\\Detection-of-bacteria-in-water-using-Yolo-images\\Detect\\Detection-of-bacteria-in-water-using-Yolo-images\\temp\\images/train\\EMDS7-G032-015-0400.png\n",
      "Processed Image saved to: D:\\KULIAH\\SEMESTER 5\\RSBP\\Bacteri\\Detection-of-bacteria-in-water-using-Yolo-images\\Detect\\Detection-of-bacteria-in-water-using-Yolo-images\\temp\\images/train\\EMDS7-G016-003-0400.png\n",
      "Processed Image saved to: D:\\KULIAH\\SEMESTER 5\\RSBP\\Bacteri\\Detection-of-bacteria-in-water-using-Yolo-images\\Detect\\Detection-of-bacteria-in-water-using-Yolo-images\\temp\\images/train\\EMDS7-G004-074-0400.png\n",
      "Processed Image saved to: D:\\KULIAH\\SEMESTER 5\\RSBP\\Bacteri\\Detection-of-bacteria-in-water-using-Yolo-images\\Detect\\Detection-of-bacteria-in-water-using-Yolo-images\\temp\\images/train\\EMDS7-G012-018-0400.png\n",
      "Processed Image saved to: D:\\KULIAH\\SEMESTER 5\\RSBP\\Bacteri\\Detection-of-bacteria-in-water-using-Yolo-images\\Detect\\Detection-of-bacteria-in-water-using-Yolo-images\\temp\\images/train\\EMDS7-G038-003-0400.png\n",
      "Processed Image saved to: D:\\KULIAH\\SEMESTER 5\\RSBP\\Bacteri\\Detection-of-bacteria-in-water-using-Yolo-images\\Detect\\Detection-of-bacteria-in-water-using-Yolo-images\\temp\\images/train\\EMDS7-G018-008-0400.png\n",
      "Processed Image saved to: D:\\KULIAH\\SEMESTER 5\\RSBP\\Bacteri\\Detection-of-bacteria-in-water-using-Yolo-images\\Detect\\Detection-of-bacteria-in-water-using-Yolo-images\\temp\\images/train\\EMDS7-G017-075-0400.png\n",
      "Processed Image saved to: D:\\KULIAH\\SEMESTER 5\\RSBP\\Bacteri\\Detection-of-bacteria-in-water-using-Yolo-images\\Detect\\Detection-of-bacteria-in-water-using-Yolo-images\\temp\\images/train\\EMDS7-G034-004-0400.png\n",
      "Processed Image saved to: D:\\KULIAH\\SEMESTER 5\\RSBP\\Bacteri\\Detection-of-bacteria-in-water-using-Yolo-images\\Detect\\Detection-of-bacteria-in-water-using-Yolo-images\\temp\\images/train\\EMDS7-G003-252-0400.png\n",
      "Processed Image saved to: D:\\KULIAH\\SEMESTER 5\\RSBP\\Bacteri\\Detection-of-bacteria-in-water-using-Yolo-images\\Detect\\Detection-of-bacteria-in-water-using-Yolo-images\\temp\\images/train\\EMDS7-G004-041-0400.png\n",
      "Processed Image saved to: D:\\KULIAH\\SEMESTER 5\\RSBP\\Bacteri\\Detection-of-bacteria-in-water-using-Yolo-images\\Detect\\Detection-of-bacteria-in-water-using-Yolo-images\\temp\\images/train\\EMDS7-G036-081-0400.png\n",
      "Processed Image saved to: D:\\KULIAH\\SEMESTER 5\\RSBP\\Bacteri\\Detection-of-bacteria-in-water-using-Yolo-images\\Detect\\Detection-of-bacteria-in-water-using-Yolo-images\\temp\\images/train\\EMDS7-G009-037-0400.png\n",
      "Processed Image saved to: D:\\KULIAH\\SEMESTER 5\\RSBP\\Bacteri\\Detection-of-bacteria-in-water-using-Yolo-images\\Detect\\Detection-of-bacteria-in-water-using-Yolo-images\\temp\\images/train\\EMDS7-G022-126-0400.png\n",
      "Processed Image saved to: D:\\KULIAH\\SEMESTER 5\\RSBP\\Bacteri\\Detection-of-bacteria-in-water-using-Yolo-images\\Detect\\Detection-of-bacteria-in-water-using-Yolo-images\\temp\\images/train\\EMDS7-G009-059-0400.png\n",
      "Processed Image saved to: D:\\KULIAH\\SEMESTER 5\\RSBP\\Bacteri\\Detection-of-bacteria-in-water-using-Yolo-images\\Detect\\Detection-of-bacteria-in-water-using-Yolo-images\\temp\\images/train\\EMDS7-G040-019-0400.png\n",
      "Processed Image saved to: D:\\KULIAH\\SEMESTER 5\\RSBP\\Bacteri\\Detection-of-bacteria-in-water-using-Yolo-images\\Detect\\Detection-of-bacteria-in-water-using-Yolo-images\\temp\\images/train\\EMDS7-G032-013-0400.png\n",
      "Processed Image saved to: D:\\KULIAH\\SEMESTER 5\\RSBP\\Bacteri\\Detection-of-bacteria-in-water-using-Yolo-images\\Detect\\Detection-of-bacteria-in-water-using-Yolo-images\\temp\\images/train\\EMDS7-G022-001-0400.png\n",
      "Processed Image saved to: D:\\KULIAH\\SEMESTER 5\\RSBP\\Bacteri\\Detection-of-bacteria-in-water-using-Yolo-images\\Detect\\Detection-of-bacteria-in-water-using-Yolo-images\\temp\\images/train\\EMDS7-G039-056-0400.png\n",
      "Processed Image saved to: D:\\KULIAH\\SEMESTER 5\\RSBP\\Bacteri\\Detection-of-bacteria-in-water-using-Yolo-images\\Detect\\Detection-of-bacteria-in-water-using-Yolo-images\\temp\\images/train\\EMDS7-G032-022-0400.png\n",
      "Processed Image saved to: D:\\KULIAH\\SEMESTER 5\\RSBP\\Bacteri\\Detection-of-bacteria-in-water-using-Yolo-images\\Detect\\Detection-of-bacteria-in-water-using-Yolo-images\\temp\\images/train\\EMDS7-G005-014-0400.png\n",
      "Processed Image saved to: D:\\KULIAH\\SEMESTER 5\\RSBP\\Bacteri\\Detection-of-bacteria-in-water-using-Yolo-images\\Detect\\Detection-of-bacteria-in-water-using-Yolo-images\\temp\\images/train\\EMDS7-G025-045-0400.png\n",
      "Processed Image saved to: D:\\KULIAH\\SEMESTER 5\\RSBP\\Bacteri\\Detection-of-bacteria-in-water-using-Yolo-images\\Detect\\Detection-of-bacteria-in-water-using-Yolo-images\\temp\\images/train\\EMDS7-G039-052-0400.png\n",
      "Processed Image saved to: D:\\KULIAH\\SEMESTER 5\\RSBP\\Bacteri\\Detection-of-bacteria-in-water-using-Yolo-images\\Detect\\Detection-of-bacteria-in-water-using-Yolo-images\\temp\\images/train\\EMDS7-G039-012-0400.png\n",
      "Processed Image saved to: D:\\KULIAH\\SEMESTER 5\\RSBP\\Bacteri\\Detection-of-bacteria-in-water-using-Yolo-images\\Detect\\Detection-of-bacteria-in-water-using-Yolo-images\\temp\\images/train\\EMDS7-G022-078-0400.png\n",
      "Processed Image saved to: D:\\KULIAH\\SEMESTER 5\\RSBP\\Bacteri\\Detection-of-bacteria-in-water-using-Yolo-images\\Detect\\Detection-of-bacteria-in-water-using-Yolo-images\\temp\\images/train\\EMDS7-G005-042-0400.png\n",
      "Processed Image saved to: D:\\KULIAH\\SEMESTER 5\\RSBP\\Bacteri\\Detection-of-bacteria-in-water-using-Yolo-images\\Detect\\Detection-of-bacteria-in-water-using-Yolo-images\\temp\\images/train\\EMDS7-G036-060-0400.png\n",
      "Processed Image saved to: D:\\KULIAH\\SEMESTER 5\\RSBP\\Bacteri\\Detection-of-bacteria-in-water-using-Yolo-images\\Detect\\Detection-of-bacteria-in-water-using-Yolo-images\\temp\\images/train\\EMDS7-G002-003-0400.png\n",
      "Processed Image saved to: D:\\KULIAH\\SEMESTER 5\\RSBP\\Bacteri\\Detection-of-bacteria-in-water-using-Yolo-images\\Detect\\Detection-of-bacteria-in-water-using-Yolo-images\\temp\\images/train\\EMDS7-G020-010-0400.png\n",
      "Processed Image saved to: D:\\KULIAH\\SEMESTER 5\\RSBP\\Bacteri\\Detection-of-bacteria-in-water-using-Yolo-images\\Detect\\Detection-of-bacteria-in-water-using-Yolo-images\\temp\\images/train\\EMDS7-G028-065-0400.png\n",
      "Processed Image saved to: D:\\KULIAH\\SEMESTER 5\\RSBP\\Bacteri\\Detection-of-bacteria-in-water-using-Yolo-images\\Detect\\Detection-of-bacteria-in-water-using-Yolo-images\\temp\\images/train\\EMDS7-G010-017-0400.png\n",
      "Processed Image saved to: D:\\KULIAH\\SEMESTER 5\\RSBP\\Bacteri\\Detection-of-bacteria-in-water-using-Yolo-images\\Detect\\Detection-of-bacteria-in-water-using-Yolo-images\\temp\\images/train\\EMDS7-G003-226-0400.png\n",
      "Processed Image saved to: D:\\KULIAH\\SEMESTER 5\\RSBP\\Bacteri\\Detection-of-bacteria-in-water-using-Yolo-images\\Detect\\Detection-of-bacteria-in-water-using-Yolo-images\\temp\\images/train\\EMDS7-G004-059-0400.png\n",
      "Processed Image saved to: D:\\KULIAH\\SEMESTER 5\\RSBP\\Bacteri\\Detection-of-bacteria-in-water-using-Yolo-images\\Detect\\Detection-of-bacteria-in-water-using-Yolo-images\\temp\\images/train\\EMDS7-G017-022-0400.png\n",
      "Processed Image saved to: D:\\KULIAH\\SEMESTER 5\\RSBP\\Bacteri\\Detection-of-bacteria-in-water-using-Yolo-images\\Detect\\Detection-of-bacteria-in-water-using-Yolo-images\\temp\\images/train\\EMDS7-G027-013-0400.png\n",
      "Processed Image saved to: D:\\KULIAH\\SEMESTER 5\\RSBP\\Bacteri\\Detection-of-bacteria-in-water-using-Yolo-images\\Detect\\Detection-of-bacteria-in-water-using-Yolo-images\\temp\\images/train\\EMDS7-G032-057-0400.png\n",
      "Processed Image saved to: D:\\KULIAH\\SEMESTER 5\\RSBP\\Bacteri\\Detection-of-bacteria-in-water-using-Yolo-images\\Detect\\Detection-of-bacteria-in-water-using-Yolo-images\\temp\\images/train\\EMDS7-G017-013-0400.png\n",
      "Processed Image saved to: D:\\KULIAH\\SEMESTER 5\\RSBP\\Bacteri\\Detection-of-bacteria-in-water-using-Yolo-images\\Detect\\Detection-of-bacteria-in-water-using-Yolo-images\\temp\\images/train\\EMDS7-G019-044-0400.png\n",
      "Processed Image saved to: D:\\KULIAH\\SEMESTER 5\\RSBP\\Bacteri\\Detection-of-bacteria-in-water-using-Yolo-images\\Detect\\Detection-of-bacteria-in-water-using-Yolo-images\\temp\\images/train\\EMDS7-G007-011-0400.png\n",
      "Processed Image saved to: D:\\KULIAH\\SEMESTER 5\\RSBP\\Bacteri\\Detection-of-bacteria-in-water-using-Yolo-images\\Detect\\Detection-of-bacteria-in-water-using-Yolo-images\\temp\\images/train\\EMDS7-G005-002-0400.png\n",
      "Processed Image saved to: D:\\KULIAH\\SEMESTER 5\\RSBP\\Bacteri\\Detection-of-bacteria-in-water-using-Yolo-images\\Detect\\Detection-of-bacteria-in-water-using-Yolo-images\\temp\\images/train\\EMDS7-G001-025-0400.png\n",
      "Processed Image saved to: D:\\KULIAH\\SEMESTER 5\\RSBP\\Bacteri\\Detection-of-bacteria-in-water-using-Yolo-images\\Detect\\Detection-of-bacteria-in-water-using-Yolo-images\\temp\\images/train\\EMDS7-G003-249-0400.png\n",
      "Processed Image saved to: D:\\KULIAH\\SEMESTER 5\\RSBP\\Bacteri\\Detection-of-bacteria-in-water-using-Yolo-images\\Detect\\Detection-of-bacteria-in-water-using-Yolo-images\\temp\\images/train\\EMDS7-G002-001-0400.png\n",
      "Processed Image saved to: D:\\KULIAH\\SEMESTER 5\\RSBP\\Bacteri\\Detection-of-bacteria-in-water-using-Yolo-images\\Detect\\Detection-of-bacteria-in-water-using-Yolo-images\\temp\\images/train\\EMDS7-G022-175-0400.png\n",
      "Processed Image saved to: D:\\KULIAH\\SEMESTER 5\\RSBP\\Bacteri\\Detection-of-bacteria-in-water-using-Yolo-images\\Detect\\Detection-of-bacteria-in-water-using-Yolo-images\\temp\\images/train\\EMDS7-G033-007-0400.png\n",
      "Processed Image saved to: D:\\KULIAH\\SEMESTER 5\\RSBP\\Bacteri\\Detection-of-bacteria-in-water-using-Yolo-images\\Detect\\Detection-of-bacteria-in-water-using-Yolo-images\\temp\\images/train\\EMDS7-G030-034-0400.png\n",
      "Processed Image saved to: D:\\KULIAH\\SEMESTER 5\\RSBP\\Bacteri\\Detection-of-bacteria-in-water-using-Yolo-images\\Detect\\Detection-of-bacteria-in-water-using-Yolo-images\\temp\\images/train\\EMDS7-G021-003-0400.png\n",
      "Processed Image saved to: D:\\KULIAH\\SEMESTER 5\\RSBP\\Bacteri\\Detection-of-bacteria-in-water-using-Yolo-images\\Detect\\Detection-of-bacteria-in-water-using-Yolo-images\\temp\\images/train\\EMDS7-G003-022-0400.png\n",
      "Processed Image saved to: D:\\KULIAH\\SEMESTER 5\\RSBP\\Bacteri\\Detection-of-bacteria-in-water-using-Yolo-images\\Detect\\Detection-of-bacteria-in-water-using-Yolo-images\\temp\\images/train\\EMDS7-G011-026-0400.png\n",
      "Processed Image saved to: D:\\KULIAH\\SEMESTER 5\\RSBP\\Bacteri\\Detection-of-bacteria-in-water-using-Yolo-images\\Detect\\Detection-of-bacteria-in-water-using-Yolo-images\\temp\\images/train\\EMDS7-G034-003-0400.png\n",
      "Processed Image saved to: D:\\KULIAH\\SEMESTER 5\\RSBP\\Bacteri\\Detection-of-bacteria-in-water-using-Yolo-images\\Detect\\Detection-of-bacteria-in-water-using-Yolo-images\\temp\\images/train\\EMDS7-G022-173-0400.png\n",
      "Processed Image saved to: D:\\KULIAH\\SEMESTER 5\\RSBP\\Bacteri\\Detection-of-bacteria-in-water-using-Yolo-images\\Detect\\Detection-of-bacteria-in-water-using-Yolo-images\\temp\\images/train\\EMDS7-G014-090-0400.png\n",
      "Processed Image saved to: D:\\KULIAH\\SEMESTER 5\\RSBP\\Bacteri\\Detection-of-bacteria-in-water-using-Yolo-images\\Detect\\Detection-of-bacteria-in-water-using-Yolo-images\\temp\\images/train\\EMDS7-G003-089-0400.png\n",
      "Processed Image saved to: D:\\KULIAH\\SEMESTER 5\\RSBP\\Bacteri\\Detection-of-bacteria-in-water-using-Yolo-images\\Detect\\Detection-of-bacteria-in-water-using-Yolo-images\\temp\\images/train\\EMDS7-G011-028-0400.png\n",
      "Processed Image saved to: D:\\KULIAH\\SEMESTER 5\\RSBP\\Bacteri\\Detection-of-bacteria-in-water-using-Yolo-images\\Detect\\Detection-of-bacteria-in-water-using-Yolo-images\\temp\\images/train\\EMDS7-G004-087-0400.png\n",
      "Processed Image saved to: D:\\KULIAH\\SEMESTER 5\\RSBP\\Bacteri\\Detection-of-bacteria-in-water-using-Yolo-images\\Detect\\Detection-of-bacteria-in-water-using-Yolo-images\\temp\\images/train\\EMDS7-G025-039-0400.png\n",
      "Processed Image saved to: D:\\KULIAH\\SEMESTER 5\\RSBP\\Bacteri\\Detection-of-bacteria-in-water-using-Yolo-images\\Detect\\Detection-of-bacteria-in-water-using-Yolo-images\\temp\\images/train\\EMDS7-G019-053-0400.png\n",
      "Processed Image saved to: D:\\KULIAH\\SEMESTER 5\\RSBP\\Bacteri\\Detection-of-bacteria-in-water-using-Yolo-images\\Detect\\Detection-of-bacteria-in-water-using-Yolo-images\\temp\\images/train\\EMDS7-G038-059-0400.png\n",
      "Processed Image saved to: D:\\KULIAH\\SEMESTER 5\\RSBP\\Bacteri\\Detection-of-bacteria-in-water-using-Yolo-images\\Detect\\Detection-of-bacteria-in-water-using-Yolo-images\\temp\\images/train\\EMDS7-G010-020-0400.png\n",
      "Processed Image saved to: D:\\KULIAH\\SEMESTER 5\\RSBP\\Bacteri\\Detection-of-bacteria-in-water-using-Yolo-images\\Detect\\Detection-of-bacteria-in-water-using-Yolo-images\\temp\\images/train\\EMDS7-G022-026-0400.png\n",
      "Processed Image saved to: D:\\KULIAH\\SEMESTER 5\\RSBP\\Bacteri\\Detection-of-bacteria-in-water-using-Yolo-images\\Detect\\Detection-of-bacteria-in-water-using-Yolo-images\\temp\\images/train\\EMDS7-G025-001-0400.png\n",
      "Processed Image saved to: D:\\KULIAH\\SEMESTER 5\\RSBP\\Bacteri\\Detection-of-bacteria-in-water-using-Yolo-images\\Detect\\Detection-of-bacteria-in-water-using-Yolo-images\\temp\\images/train\\EMDS7-G003-145-0400.png\n",
      "Processed Image saved to: D:\\KULIAH\\SEMESTER 5\\RSBP\\Bacteri\\Detection-of-bacteria-in-water-using-Yolo-images\\Detect\\Detection-of-bacteria-in-water-using-Yolo-images\\temp\\images/train\\EMDS7-G008-046-0400.png\n",
      "Processed Image saved to: D:\\KULIAH\\SEMESTER 5\\RSBP\\Bacteri\\Detection-of-bacteria-in-water-using-Yolo-images\\Detect\\Detection-of-bacteria-in-water-using-Yolo-images\\temp\\images/train\\EMDS7-G014-094-0400.png\n",
      "Processed Image saved to: D:\\KULIAH\\SEMESTER 5\\RSBP\\Bacteri\\Detection-of-bacteria-in-water-using-Yolo-images\\Detect\\Detection-of-bacteria-in-water-using-Yolo-images\\temp\\images/train\\EMDS7-G005-049-0400.png\n",
      "Processed Image saved to: D:\\KULIAH\\SEMESTER 5\\RSBP\\Bacteri\\Detection-of-bacteria-in-water-using-Yolo-images\\Detect\\Detection-of-bacteria-in-water-using-Yolo-images\\temp\\images/train\\EMDS7-G003-147-0400.png\n",
      "Processed Image saved to: D:\\KULIAH\\SEMESTER 5\\RSBP\\Bacteri\\Detection-of-bacteria-in-water-using-Yolo-images\\Detect\\Detection-of-bacteria-in-water-using-Yolo-images\\temp\\images/train\\EMDS7-G003-063-0400.png\n",
      "Processed Image saved to: D:\\KULIAH\\SEMESTER 5\\RSBP\\Bacteri\\Detection-of-bacteria-in-water-using-Yolo-images\\Detect\\Detection-of-bacteria-in-water-using-Yolo-images\\temp\\images/train\\EMDS7-G036-053-0400.png\n",
      "Processed Image saved to: D:\\KULIAH\\SEMESTER 5\\RSBP\\Bacteri\\Detection-of-bacteria-in-water-using-Yolo-images\\Detect\\Detection-of-bacteria-in-water-using-Yolo-images\\temp\\images/train\\EMDS7-G013-002-0400.png\n",
      "Processed Image saved to: D:\\KULIAH\\SEMESTER 5\\RSBP\\Bacteri\\Detection-of-bacteria-in-water-using-Yolo-images\\Detect\\Detection-of-bacteria-in-water-using-Yolo-images\\temp\\images/train\\EMDS7-G003-054-0400.png\n",
      "Processed Image saved to: D:\\KULIAH\\SEMESTER 5\\RSBP\\Bacteri\\Detection-of-bacteria-in-water-using-Yolo-images\\Detect\\Detection-of-bacteria-in-water-using-Yolo-images\\temp\\images/train\\EMDS7-G003-188-0400.png\n",
      "Processed Image saved to: D:\\KULIAH\\SEMESTER 5\\RSBP\\Bacteri\\Detection-of-bacteria-in-water-using-Yolo-images\\Detect\\Detection-of-bacteria-in-water-using-Yolo-images\\temp\\images/train\\EMDS7-G022-221-0400.png\n",
      "Processed Image saved to: D:\\KULIAH\\SEMESTER 5\\RSBP\\Bacteri\\Detection-of-bacteria-in-water-using-Yolo-images\\Detect\\Detection-of-bacteria-in-water-using-Yolo-images\\temp\\images/train\\EMDS7-G019-050-0400.png\n",
      "Processed Image saved to: D:\\KULIAH\\SEMESTER 5\\RSBP\\Bacteri\\Detection-of-bacteria-in-water-using-Yolo-images\\Detect\\Detection-of-bacteria-in-water-using-Yolo-images\\temp\\images/train\\EMDS7-G024-010-0400.png\n",
      "Processed Image saved to: D:\\KULIAH\\SEMESTER 5\\RSBP\\Bacteri\\Detection-of-bacteria-in-water-using-Yolo-images\\Detect\\Detection-of-bacteria-in-water-using-Yolo-images\\temp\\images/train\\EMDS7-G019-002-0400.png\n",
      "Processed Image saved to: D:\\KULIAH\\SEMESTER 5\\RSBP\\Bacteri\\Detection-of-bacteria-in-water-using-Yolo-images\\Detect\\Detection-of-bacteria-in-water-using-Yolo-images\\temp\\images/train\\EMDS7-G022-030-0400.png\n",
      "Processed Image saved to: D:\\KULIAH\\SEMESTER 5\\RSBP\\Bacteri\\Detection-of-bacteria-in-water-using-Yolo-images\\Detect\\Detection-of-bacteria-in-water-using-Yolo-images\\temp\\images/train\\EMDS7-G014-017-0400.png\n",
      "Processed Image saved to: D:\\KULIAH\\SEMESTER 5\\RSBP\\Bacteri\\Detection-of-bacteria-in-water-using-Yolo-images\\Detect\\Detection-of-bacteria-in-water-using-Yolo-images\\temp\\images/train\\EMDS7-G020-003-0400.png\n",
      "Processed Image saved to: D:\\KULIAH\\SEMESTER 5\\RSBP\\Bacteri\\Detection-of-bacteria-in-water-using-Yolo-images\\Detect\\Detection-of-bacteria-in-water-using-Yolo-images\\temp\\images/train\\EMDS7-G022-073-0400.png\n",
      "Processed Image saved to: D:\\KULIAH\\SEMESTER 5\\RSBP\\Bacteri\\Detection-of-bacteria-in-water-using-Yolo-images\\Detect\\Detection-of-bacteria-in-water-using-Yolo-images\\temp\\images/train\\EMDS7-G003-194-0400.png\n",
      "Processed Image saved to: D:\\KULIAH\\SEMESTER 5\\RSBP\\Bacteri\\Detection-of-bacteria-in-water-using-Yolo-images\\Detect\\Detection-of-bacteria-in-water-using-Yolo-images\\temp\\images/train\\EMDS7-G030-020-0400.png\n",
      "Processed Image saved to: D:\\KULIAH\\SEMESTER 5\\RSBP\\Bacteri\\Detection-of-bacteria-in-water-using-Yolo-images\\Detect\\Detection-of-bacteria-in-water-using-Yolo-images\\temp\\images/train\\EMDS7-G037-008-0400.png\n",
      "Processed Image saved to: D:\\KULIAH\\SEMESTER 5\\RSBP\\Bacteri\\Detection-of-bacteria-in-water-using-Yolo-images\\Detect\\Detection-of-bacteria-in-water-using-Yolo-images\\temp\\images/train\\EMDS7-G022-059-0400.png\n",
      "Processed Image saved to: D:\\KULIAH\\SEMESTER 5\\RSBP\\Bacteri\\Detection-of-bacteria-in-water-using-Yolo-images\\Detect\\Detection-of-bacteria-in-water-using-Yolo-images\\temp\\images/train\\EMDS7-G004-006-0400.png\n",
      "Processed Image saved to: D:\\KULIAH\\SEMESTER 5\\RSBP\\Bacteri\\Detection-of-bacteria-in-water-using-Yolo-images\\Detect\\Detection-of-bacteria-in-water-using-Yolo-images\\temp\\images/train\\EMDS7-G039-054-0400.png\n",
      "Processed Image saved to: D:\\KULIAH\\SEMESTER 5\\RSBP\\Bacteri\\Detection-of-bacteria-in-water-using-Yolo-images\\Detect\\Detection-of-bacteria-in-water-using-Yolo-images\\temp\\images/train\\EMDS7-G003-255-0400.png\n",
      "Processed Image saved to: D:\\KULIAH\\SEMESTER 5\\RSBP\\Bacteri\\Detection-of-bacteria-in-water-using-Yolo-images\\Detect\\Detection-of-bacteria-in-water-using-Yolo-images\\temp\\images/train\\EMDS7-G001-007-0400.png\n",
      "Processed Image saved to: D:\\KULIAH\\SEMESTER 5\\RSBP\\Bacteri\\Detection-of-bacteria-in-water-using-Yolo-images\\Detect\\Detection-of-bacteria-in-water-using-Yolo-images\\temp\\images/train\\EMDS7-G009-005-0400.png\n",
      "Processed Image saved to: D:\\KULIAH\\SEMESTER 5\\RSBP\\Bacteri\\Detection-of-bacteria-in-water-using-Yolo-images\\Detect\\Detection-of-bacteria-in-water-using-Yolo-images\\temp\\images/train\\EMDS7-G023-015-0400.png\n",
      "Processed Image saved to: D:\\KULIAH\\SEMESTER 5\\RSBP\\Bacteri\\Detection-of-bacteria-in-water-using-Yolo-images\\Detect\\Detection-of-bacteria-in-water-using-Yolo-images\\temp\\images/train\\EMDS7-G038-033-0400.png\n",
      "Processed Image saved to: D:\\KULIAH\\SEMESTER 5\\RSBP\\Bacteri\\Detection-of-bacteria-in-water-using-Yolo-images\\Detect\\Detection-of-bacteria-in-water-using-Yolo-images\\temp\\images/train\\EMDS7-G003-209-0400.png\n",
      "Processed Image saved to: D:\\KULIAH\\SEMESTER 5\\RSBP\\Bacteri\\Detection-of-bacteria-in-water-using-Yolo-images\\Detect\\Detection-of-bacteria-in-water-using-Yolo-images\\temp\\images/train\\EMDS7-G024-021-0400.png\n",
      "Processed Image saved to: D:\\KULIAH\\SEMESTER 5\\RSBP\\Bacteri\\Detection-of-bacteria-in-water-using-Yolo-images\\Detect\\Detection-of-bacteria-in-water-using-Yolo-images\\temp\\images/train\\EMDS7-G004-038-0400.png\n",
      "Processed Image saved to: D:\\KULIAH\\SEMESTER 5\\RSBP\\Bacteri\\Detection-of-bacteria-in-water-using-Yolo-images\\Detect\\Detection-of-bacteria-in-water-using-Yolo-images\\temp\\images/train\\EMDS7-G017-034-0400.png\n",
      "Processed Image saved to: D:\\KULIAH\\SEMESTER 5\\RSBP\\Bacteri\\Detection-of-bacteria-in-water-using-Yolo-images\\Detect\\Detection-of-bacteria-in-water-using-Yolo-images\\temp\\images/train\\EMDS7-G003-107-0400.png\n",
      "Processed Image saved to: D:\\KULIAH\\SEMESTER 5\\RSBP\\Bacteri\\Detection-of-bacteria-in-water-using-Yolo-images\\Detect\\Detection-of-bacteria-in-water-using-Yolo-images\\temp\\images/train\\EMDS7-G008-043-0400.png\n",
      "Skipping image EMDS7-G022-196-0400.png due to no valid classes.\n",
      "Processed Image saved to: D:\\KULIAH\\SEMESTER 5\\RSBP\\Bacteri\\Detection-of-bacteria-in-water-using-Yolo-images\\Detect\\Detection-of-bacteria-in-water-using-Yolo-images\\temp\\images/train\\EMDS7-G022-150-0400.png\n",
      "Processed Image saved to: D:\\KULIAH\\SEMESTER 5\\RSBP\\Bacteri\\Detection-of-bacteria-in-water-using-Yolo-images\\Detect\\Detection-of-bacteria-in-water-using-Yolo-images\\temp\\images/train\\EMDS7-G003-200-0400.png\n",
      "Processed Image saved to: D:\\KULIAH\\SEMESTER 5\\RSBP\\Bacteri\\Detection-of-bacteria-in-water-using-Yolo-images\\Detect\\Detection-of-bacteria-in-water-using-Yolo-images\\temp\\images/train\\EMDS7-G014-004-0400.png\n",
      "Processed Image saved to: D:\\KULIAH\\SEMESTER 5\\RSBP\\Bacteri\\Detection-of-bacteria-in-water-using-Yolo-images\\Detect\\Detection-of-bacteria-in-water-using-Yolo-images\\temp\\images/train\\EMDS7-G039-084-0400.png\n",
      "Processed Image saved to: D:\\KULIAH\\SEMESTER 5\\RSBP\\Bacteri\\Detection-of-bacteria-in-water-using-Yolo-images\\Detect\\Detection-of-bacteria-in-water-using-Yolo-images\\temp\\images/train\\EMDS7-G014-086-0400.png\n",
      "Processed Image saved to: D:\\KULIAH\\SEMESTER 5\\RSBP\\Bacteri\\Detection-of-bacteria-in-water-using-Yolo-images\\Detect\\Detection-of-bacteria-in-water-using-Yolo-images\\temp\\images/train\\EMDS7-G022-019-0400.png\n",
      "Processed Image saved to: D:\\KULIAH\\SEMESTER 5\\RSBP\\Bacteri\\Detection-of-bacteria-in-water-using-Yolo-images\\Detect\\Detection-of-bacteria-in-water-using-Yolo-images\\temp\\images/train\\EMDS7-G033-026-0400.png\n",
      "Processed Image saved to: D:\\KULIAH\\SEMESTER 5\\RSBP\\Bacteri\\Detection-of-bacteria-in-water-using-Yolo-images\\Detect\\Detection-of-bacteria-in-water-using-Yolo-images\\temp\\images/train\\EMDS7-G008-008-0400.png\n",
      "Processed Image saved to: D:\\KULIAH\\SEMESTER 5\\RSBP\\Bacteri\\Detection-of-bacteria-in-water-using-Yolo-images\\Detect\\Detection-of-bacteria-in-water-using-Yolo-images\\temp\\images/train\\EMDS7-G001-020-0400.png\n",
      "Processed Image saved to: D:\\KULIAH\\SEMESTER 5\\RSBP\\Bacteri\\Detection-of-bacteria-in-water-using-Yolo-images\\Detect\\Detection-of-bacteria-in-water-using-Yolo-images\\temp\\images/train\\EMDS7-G008-009-0400.png\n",
      "Processed Image saved to: D:\\KULIAH\\SEMESTER 5\\RSBP\\Bacteri\\Detection-of-bacteria-in-water-using-Yolo-images\\Detect\\Detection-of-bacteria-in-water-using-Yolo-images\\temp\\images/train\\EMDS7-G009-008-0400.png\n",
      "Processed Image saved to: D:\\KULIAH\\SEMESTER 5\\RSBP\\Bacteri\\Detection-of-bacteria-in-water-using-Yolo-images\\Detect\\Detection-of-bacteria-in-water-using-Yolo-images\\temp\\images/train\\EMDS7-G026-002-0400.png\n",
      "Processed Image saved to: D:\\KULIAH\\SEMESTER 5\\RSBP\\Bacteri\\Detection-of-bacteria-in-water-using-Yolo-images\\Detect\\Detection-of-bacteria-in-water-using-Yolo-images\\temp\\images/train\\EMDS7-G022-016-0400.png\n",
      "Processed Image saved to: D:\\KULIAH\\SEMESTER 5\\RSBP\\Bacteri\\Detection-of-bacteria-in-water-using-Yolo-images\\Detect\\Detection-of-bacteria-in-water-using-Yolo-images\\temp\\images/train\\EMDS7-G022-172-0400.png\n",
      "Processed Image saved to: D:\\KULIAH\\SEMESTER 5\\RSBP\\Bacteri\\Detection-of-bacteria-in-water-using-Yolo-images\\Detect\\Detection-of-bacteria-in-water-using-Yolo-images\\temp\\images/train\\EMDS7-G035-054-0400.png\n",
      "Processed Image saved to: D:\\KULIAH\\SEMESTER 5\\RSBP\\Bacteri\\Detection-of-bacteria-in-water-using-Yolo-images\\Detect\\Detection-of-bacteria-in-water-using-Yolo-images\\temp\\images/train\\EMDS7-G025-043-0400.png\n",
      "Processed Image saved to: D:\\KULIAH\\SEMESTER 5\\RSBP\\Bacteri\\Detection-of-bacteria-in-water-using-Yolo-images\\Detect\\Detection-of-bacteria-in-water-using-Yolo-images\\temp\\images/train\\EMDS7-G003-254-0400.png\n",
      "Processed Image saved to: D:\\KULIAH\\SEMESTER 5\\RSBP\\Bacteri\\Detection-of-bacteria-in-water-using-Yolo-images\\Detect\\Detection-of-bacteria-in-water-using-Yolo-images\\temp\\images/train\\EMDS7-G005-030-0400.png\n",
      "Processed Image saved to: D:\\KULIAH\\SEMESTER 5\\RSBP\\Bacteri\\Detection-of-bacteria-in-water-using-Yolo-images\\Detect\\Detection-of-bacteria-in-water-using-Yolo-images\\temp\\images/train\\EMDS7-G023-014-0400.png\n",
      "Processed Image saved to: D:\\KULIAH\\SEMESTER 5\\RSBP\\Bacteri\\Detection-of-bacteria-in-water-using-Yolo-images\\Detect\\Detection-of-bacteria-in-water-using-Yolo-images\\temp\\images/train\\EMDS7-G032-009-0400.png\n",
      "Processed Image saved to: D:\\KULIAH\\SEMESTER 5\\RSBP\\Bacteri\\Detection-of-bacteria-in-water-using-Yolo-images\\Detect\\Detection-of-bacteria-in-water-using-Yolo-images\\temp\\images/train\\EMDS7-G027-008-0400.png\n",
      "Processed Image saved to: D:\\KULIAH\\SEMESTER 5\\RSBP\\Bacteri\\Detection-of-bacteria-in-water-using-Yolo-images\\Detect\\Detection-of-bacteria-in-water-using-Yolo-images\\temp\\images/train\\EMDS7-G039-083-0400.png\n",
      "Processed Image saved to: D:\\KULIAH\\SEMESTER 5\\RSBP\\Bacteri\\Detection-of-bacteria-in-water-using-Yolo-images\\Detect\\Detection-of-bacteria-in-water-using-Yolo-images\\temp\\images/train\\EMDS7-G022-180-0400.png\n",
      "Processed Image saved to: D:\\KULIAH\\SEMESTER 5\\RSBP\\Bacteri\\Detection-of-bacteria-in-water-using-Yolo-images\\Detect\\Detection-of-bacteria-in-water-using-Yolo-images\\temp\\images/train\\EMDS7-G003-284-0400.png\n",
      "Processed Image saved to: D:\\KULIAH\\SEMESTER 5\\RSBP\\Bacteri\\Detection-of-bacteria-in-water-using-Yolo-images\\Detect\\Detection-of-bacteria-in-water-using-Yolo-images\\temp\\images/train\\EMDS7-G012-025-0400.png\n",
      "Processed Image saved to: D:\\KULIAH\\SEMESTER 5\\RSBP\\Bacteri\\Detection-of-bacteria-in-water-using-Yolo-images\\Detect\\Detection-of-bacteria-in-water-using-Yolo-images\\temp\\images/train\\EMDS7-G012-036-0400.png\n",
      "Processed Image saved to: D:\\KULIAH\\SEMESTER 5\\RSBP\\Bacteri\\Detection-of-bacteria-in-water-using-Yolo-images\\Detect\\Detection-of-bacteria-in-water-using-Yolo-images\\temp\\images/train\\EMDS7-G001-039-0400.png\n",
      "Processed Image saved to: D:\\KULIAH\\SEMESTER 5\\RSBP\\Bacteri\\Detection-of-bacteria-in-water-using-Yolo-images\\Detect\\Detection-of-bacteria-in-water-using-Yolo-images\\temp\\images/train\\EMDS7-G009-032-0400.png\n",
      "Processed Image saved to: D:\\KULIAH\\SEMESTER 5\\RSBP\\Bacteri\\Detection-of-bacteria-in-water-using-Yolo-images\\Detect\\Detection-of-bacteria-in-water-using-Yolo-images\\temp\\images/train\\EMDS7-G004-020-0400.png\n",
      "Processed Image saved to: D:\\KULIAH\\SEMESTER 5\\RSBP\\Bacteri\\Detection-of-bacteria-in-water-using-Yolo-images\\Detect\\Detection-of-bacteria-in-water-using-Yolo-images\\temp\\images/train\\EMDS7-G004-058-0400.png\n",
      "Processed Image saved to: D:\\KULIAH\\SEMESTER 5\\RSBP\\Bacteri\\Detection-of-bacteria-in-water-using-Yolo-images\\Detect\\Detection-of-bacteria-in-water-using-Yolo-images\\temp\\images/train\\EMDS7-G035-015-0400.png\n",
      "Processed Image saved to: D:\\KULIAH\\SEMESTER 5\\RSBP\\Bacteri\\Detection-of-bacteria-in-water-using-Yolo-images\\Detect\\Detection-of-bacteria-in-water-using-Yolo-images\\temp\\images/train\\EMDS7-G022-227-0400.png\n",
      "Processed Image saved to: D:\\KULIAH\\SEMESTER 5\\RSBP\\Bacteri\\Detection-of-bacteria-in-water-using-Yolo-images\\Detect\\Detection-of-bacteria-in-water-using-Yolo-images\\temp\\images/train\\EMDS7-G022-154-0400.png\n",
      "Processed Image saved to: D:\\KULIAH\\SEMESTER 5\\RSBP\\Bacteri\\Detection-of-bacteria-in-water-using-Yolo-images\\Detect\\Detection-of-bacteria-in-water-using-Yolo-images\\temp\\images/train\\EMDS7-G003-163-0400.png\n",
      "Processed Image saved to: D:\\KULIAH\\SEMESTER 5\\RSBP\\Bacteri\\Detection-of-bacteria-in-water-using-Yolo-images\\Detect\\Detection-of-bacteria-in-water-using-Yolo-images\\temp\\images/train\\EMDS7-G003-173-0400.png\n",
      "Processed Image saved to: D:\\KULIAH\\SEMESTER 5\\RSBP\\Bacteri\\Detection-of-bacteria-in-water-using-Yolo-images\\Detect\\Detection-of-bacteria-in-water-using-Yolo-images\\temp\\images/train\\EMDS7-G018-082-0400.png\n",
      "Processed Image saved to: D:\\KULIAH\\SEMESTER 5\\RSBP\\Bacteri\\Detection-of-bacteria-in-water-using-Yolo-images\\Detect\\Detection-of-bacteria-in-water-using-Yolo-images\\temp\\images/train\\EMDS7-G023-048-0400.png\n",
      "Skipping image EMDS7-G022-218-0400.png due to no valid classes.\n",
      "Processed Image saved to: D:\\KULIAH\\SEMESTER 5\\RSBP\\Bacteri\\Detection-of-bacteria-in-water-using-Yolo-images\\Detect\\Detection-of-bacteria-in-water-using-Yolo-images\\temp\\images/train\\EMDS7-G021-008-0400.png\n",
      "Processed Image saved to: D:\\KULIAH\\SEMESTER 5\\RSBP\\Bacteri\\Detection-of-bacteria-in-water-using-Yolo-images\\Detect\\Detection-of-bacteria-in-water-using-Yolo-images\\temp\\images/train\\EMDS7-G022-275-0400.png\n",
      "Processed Image saved to: D:\\KULIAH\\SEMESTER 5\\RSBP\\Bacteri\\Detection-of-bacteria-in-water-using-Yolo-images\\Detect\\Detection-of-bacteria-in-water-using-Yolo-images\\temp\\images/train\\EMDS7-G003-060-0400.png\n",
      "Processed Image saved to: D:\\KULIAH\\SEMESTER 5\\RSBP\\Bacteri\\Detection-of-bacteria-in-water-using-Yolo-images\\Detect\\Detection-of-bacteria-in-water-using-Yolo-images\\temp\\images/train\\EMDS7-G025-071-0400.png\n",
      "Processed Image saved to: D:\\KULIAH\\SEMESTER 5\\RSBP\\Bacteri\\Detection-of-bacteria-in-water-using-Yolo-images\\Detect\\Detection-of-bacteria-in-water-using-Yolo-images\\temp\\images/train\\EMDS7-G012-011-0400.png\n",
      "Processed Image saved to: D:\\KULIAH\\SEMESTER 5\\RSBP\\Bacteri\\Detection-of-bacteria-in-water-using-Yolo-images\\Detect\\Detection-of-bacteria-in-water-using-Yolo-images\\temp\\images/train\\EMDS7-G019-055-0400.png\n",
      "Processed Image saved to: D:\\KULIAH\\SEMESTER 5\\RSBP\\Bacteri\\Detection-of-bacteria-in-water-using-Yolo-images\\Detect\\Detection-of-bacteria-in-water-using-Yolo-images\\temp\\images/train\\EMDS7-G012-042-0400.png\n",
      "Processed Image saved to: D:\\KULIAH\\SEMESTER 5\\RSBP\\Bacteri\\Detection-of-bacteria-in-water-using-Yolo-images\\Detect\\Detection-of-bacteria-in-water-using-Yolo-images\\temp\\images/train\\EMDS7-G032-018-0400.png\n",
      "Processed Image saved to: D:\\KULIAH\\SEMESTER 5\\RSBP\\Bacteri\\Detection-of-bacteria-in-water-using-Yolo-images\\Detect\\Detection-of-bacteria-in-water-using-Yolo-images\\temp\\images/train\\EMDS7-G018-043-0400.png\n",
      "Processed Image saved to: D:\\KULIAH\\SEMESTER 5\\RSBP\\Bacteri\\Detection-of-bacteria-in-water-using-Yolo-images\\Detect\\Detection-of-bacteria-in-water-using-Yolo-images\\temp\\images/train\\EMDS7-G030-004-0400.png\n",
      "Processed Image saved to: D:\\KULIAH\\SEMESTER 5\\RSBP\\Bacteri\\Detection-of-bacteria-in-water-using-Yolo-images\\Detect\\Detection-of-bacteria-in-water-using-Yolo-images\\temp\\images/train\\EMDS7-G022-159-0400.png\n",
      "Processed Image saved to: D:\\KULIAH\\SEMESTER 5\\RSBP\\Bacteri\\Detection-of-bacteria-in-water-using-Yolo-images\\Detect\\Detection-of-bacteria-in-water-using-Yolo-images\\temp\\images/train\\EMDS7-G038-012-0400.png\n",
      "Processed Image saved to: D:\\KULIAH\\SEMESTER 5\\RSBP\\Bacteri\\Detection-of-bacteria-in-water-using-Yolo-images\\Detect\\Detection-of-bacteria-in-water-using-Yolo-images\\temp\\images/train\\EMDS7-G019-052-0400.png\n",
      "Processed Image saved to: D:\\KULIAH\\SEMESTER 5\\RSBP\\Bacteri\\Detection-of-bacteria-in-water-using-Yolo-images\\Detect\\Detection-of-bacteria-in-water-using-Yolo-images\\temp\\images/train\\EMDS7-G018-006-0400.png\n",
      "Processed Image saved to: D:\\KULIAH\\SEMESTER 5\\RSBP\\Bacteri\\Detection-of-bacteria-in-water-using-Yolo-images\\Detect\\Detection-of-bacteria-in-water-using-Yolo-images\\temp\\images/train\\EMDS7-G022-099-0400.png\n",
      "Processed Image saved to: D:\\KULIAH\\SEMESTER 5\\RSBP\\Bacteri\\Detection-of-bacteria-in-water-using-Yolo-images\\Detect\\Detection-of-bacteria-in-water-using-Yolo-images\\temp\\images/train\\EMDS7-G016-020-0400.png\n",
      "Processed Image saved to: D:\\KULIAH\\SEMESTER 5\\RSBP\\Bacteri\\Detection-of-bacteria-in-water-using-Yolo-images\\Detect\\Detection-of-bacteria-in-water-using-Yolo-images\\temp\\images/train\\EMDS7-G003-100-0400.png\n",
      "Processed Image saved to: D:\\KULIAH\\SEMESTER 5\\RSBP\\Bacteri\\Detection-of-bacteria-in-water-using-Yolo-images\\Detect\\Detection-of-bacteria-in-water-using-Yolo-images\\temp\\images/train\\EMDS7-G003-177-0400.png\n",
      "Processed Image saved to: D:\\KULIAH\\SEMESTER 5\\RSBP\\Bacteri\\Detection-of-bacteria-in-water-using-Yolo-images\\Detect\\Detection-of-bacteria-in-water-using-Yolo-images\\temp\\images/train\\EMDS7-G031-009-0400.png\n",
      "Processed Image saved to: D:\\KULIAH\\SEMESTER 5\\RSBP\\Bacteri\\Detection-of-bacteria-in-water-using-Yolo-images\\Detect\\Detection-of-bacteria-in-water-using-Yolo-images\\temp\\images/train\\EMDS7-G036-031-0400.png\n",
      "Processed Image saved to: D:\\KULIAH\\SEMESTER 5\\RSBP\\Bacteri\\Detection-of-bacteria-in-water-using-Yolo-images\\Detect\\Detection-of-bacteria-in-water-using-Yolo-images\\temp\\images/train\\EMDS7-G003-092-0400.png\n",
      "Processed Image saved to: D:\\KULIAH\\SEMESTER 5\\RSBP\\Bacteri\\Detection-of-bacteria-in-water-using-Yolo-images\\Detect\\Detection-of-bacteria-in-water-using-Yolo-images\\temp\\images/train\\EMDS7-G036-078-0400.png\n",
      "Processed Image saved to: D:\\KULIAH\\SEMESTER 5\\RSBP\\Bacteri\\Detection-of-bacteria-in-water-using-Yolo-images\\Detect\\Detection-of-bacteria-in-water-using-Yolo-images\\temp\\images/train\\EMDS7-G022-137-0400.png\n",
      "Processed Image saved to: D:\\KULIAH\\SEMESTER 5\\RSBP\\Bacteri\\Detection-of-bacteria-in-water-using-Yolo-images\\Detect\\Detection-of-bacteria-in-water-using-Yolo-images\\temp\\images/train\\EMDS7-G032-025-0400.png\n",
      "Processed Image saved to: D:\\KULIAH\\SEMESTER 5\\RSBP\\Bacteri\\Detection-of-bacteria-in-water-using-Yolo-images\\Detect\\Detection-of-bacteria-in-water-using-Yolo-images\\temp\\images/train\\EMDS7-G033-012-0400.png\n",
      "Processed Image saved to: D:\\KULIAH\\SEMESTER 5\\RSBP\\Bacteri\\Detection-of-bacteria-in-water-using-Yolo-images\\Detect\\Detection-of-bacteria-in-water-using-Yolo-images\\temp\\images/train\\EMDS7-G003-093-0400.png\n",
      "Processed Image saved to: D:\\KULIAH\\SEMESTER 5\\RSBP\\Bacteri\\Detection-of-bacteria-in-water-using-Yolo-images\\Detect\\Detection-of-bacteria-in-water-using-Yolo-images\\temp\\images/train\\EMDS7-G022-240-0400.png\n",
      "Processed Image saved to: D:\\KULIAH\\SEMESTER 5\\RSBP\\Bacteri\\Detection-of-bacteria-in-water-using-Yolo-images\\Detect\\Detection-of-bacteria-in-water-using-Yolo-images\\temp\\images/train\\EMDS7-G014-083-0400.png\n",
      "Processed Image saved to: D:\\KULIAH\\SEMESTER 5\\RSBP\\Bacteri\\Detection-of-bacteria-in-water-using-Yolo-images\\Detect\\Detection-of-bacteria-in-water-using-Yolo-images\\temp\\images/train\\EMDS7-G036-044-0400.png\n",
      "Processed Image saved to: D:\\KULIAH\\SEMESTER 5\\RSBP\\Bacteri\\Detection-of-bacteria-in-water-using-Yolo-images\\Detect\\Detection-of-bacteria-in-water-using-Yolo-images\\temp\\images/train\\EMDS7-G003-140-0400.png\n",
      "Processed Image saved to: D:\\KULIAH\\SEMESTER 5\\RSBP\\Bacteri\\Detection-of-bacteria-in-water-using-Yolo-images\\Detect\\Detection-of-bacteria-in-water-using-Yolo-images\\temp\\images/train\\EMDS7-G006-009-0400.png\n",
      "Processed Image saved to: D:\\KULIAH\\SEMESTER 5\\RSBP\\Bacteri\\Detection-of-bacteria-in-water-using-Yolo-images\\Detect\\Detection-of-bacteria-in-water-using-Yolo-images\\temp\\images/train\\EMDS7-G025-049-0400.png\n",
      "Processed Image saved to: D:\\KULIAH\\SEMESTER 5\\RSBP\\Bacteri\\Detection-of-bacteria-in-water-using-Yolo-images\\Detect\\Detection-of-bacteria-in-water-using-Yolo-images\\temp\\images/train\\EMDS7-G022-178-0400.png\n",
      "Skipping image EMDS7-G022-208-0400.png due to no valid classes.\n",
      "Processed Image saved to: D:\\KULIAH\\SEMESTER 5\\RSBP\\Bacteri\\Detection-of-bacteria-in-water-using-Yolo-images\\Detect\\Detection-of-bacteria-in-water-using-Yolo-images\\temp\\images/train\\EMDS7-G025-004-0400.png\n",
      "Processed Image saved to: D:\\KULIAH\\SEMESTER 5\\RSBP\\Bacteri\\Detection-of-bacteria-in-water-using-Yolo-images\\Detect\\Detection-of-bacteria-in-water-using-Yolo-images\\temp\\images/train\\EMDS7-G027-004-0400.png\n",
      "Processed Image saved to: D:\\KULIAH\\SEMESTER 5\\RSBP\\Bacteri\\Detection-of-bacteria-in-water-using-Yolo-images\\Detect\\Detection-of-bacteria-in-water-using-Yolo-images\\temp\\images/train\\EMDS7-G014-024-0400.png\n",
      "Processed Image saved to: D:\\KULIAH\\SEMESTER 5\\RSBP\\Bacteri\\Detection-of-bacteria-in-water-using-Yolo-images\\Detect\\Detection-of-bacteria-in-water-using-Yolo-images\\temp\\images/train\\EMDS7-G005-025-0400.png\n",
      "Processed Image saved to: D:\\KULIAH\\SEMESTER 5\\RSBP\\Bacteri\\Detection-of-bacteria-in-water-using-Yolo-images\\Detect\\Detection-of-bacteria-in-water-using-Yolo-images\\temp\\images/train\\EMDS7-G008-033-0400.png\n",
      "Processed Image saved to: D:\\KULIAH\\SEMESTER 5\\RSBP\\Bacteri\\Detection-of-bacteria-in-water-using-Yolo-images\\Detect\\Detection-of-bacteria-in-water-using-Yolo-images\\temp\\images/train\\EMDS7-G035-004-0400.png\n",
      "Processed Image saved to: D:\\KULIAH\\SEMESTER 5\\RSBP\\Bacteri\\Detection-of-bacteria-in-water-using-Yolo-images\\Detect\\Detection-of-bacteria-in-water-using-Yolo-images\\temp\\images/train\\EMDS7-G023-029-0400.png\n",
      "Processed Image saved to: D:\\KULIAH\\SEMESTER 5\\RSBP\\Bacteri\\Detection-of-bacteria-in-water-using-Yolo-images\\Detect\\Detection-of-bacteria-in-water-using-Yolo-images\\temp\\images/train\\EMDS7-G011-024-0400.png\n",
      "Processed Image saved to: D:\\KULIAH\\SEMESTER 5\\RSBP\\Bacteri\\Detection-of-bacteria-in-water-using-Yolo-images\\Detect\\Detection-of-bacteria-in-water-using-Yolo-images\\temp\\images/train\\EMDS7-G036-012-0400.png\n",
      "Processed Image saved to: D:\\KULIAH\\SEMESTER 5\\RSBP\\Bacteri\\Detection-of-bacteria-in-water-using-Yolo-images\\Detect\\Detection-of-bacteria-in-water-using-Yolo-images\\temp\\images/train\\EMDS7-G003-220-0400.png\n",
      "Processed Image saved to: D:\\KULIAH\\SEMESTER 5\\RSBP\\Bacteri\\Detection-of-bacteria-in-water-using-Yolo-images\\Detect\\Detection-of-bacteria-in-water-using-Yolo-images\\temp\\images/train\\EMDS7-G024-006-0400.png\n",
      "Processed Image saved to: D:\\KULIAH\\SEMESTER 5\\RSBP\\Bacteri\\Detection-of-bacteria-in-water-using-Yolo-images\\Detect\\Detection-of-bacteria-in-water-using-Yolo-images\\temp\\images/train\\EMDS7-G025-002-0400.png\n",
      "Processed Image saved to: D:\\KULIAH\\SEMESTER 5\\RSBP\\Bacteri\\Detection-of-bacteria-in-water-using-Yolo-images\\Detect\\Detection-of-bacteria-in-water-using-Yolo-images\\temp\\images/train\\EMDS7-G022-248-0400.png\n",
      "Skipping image EMDS7-G022-212-0400.png due to no valid classes.\n",
      "Processed Image saved to: D:\\KULIAH\\SEMESTER 5\\RSBP\\Bacteri\\Detection-of-bacteria-in-water-using-Yolo-images\\Detect\\Detection-of-bacteria-in-water-using-Yolo-images\\temp\\images/train\\EMDS7-G012-061-0400.png\n",
      "Processed Image saved to: D:\\KULIAH\\SEMESTER 5\\RSBP\\Bacteri\\Detection-of-bacteria-in-water-using-Yolo-images\\Detect\\Detection-of-bacteria-in-water-using-Yolo-images\\temp\\images/train\\EMDS7-G013-005-0400.png\n",
      "Processed Image saved to: D:\\KULIAH\\SEMESTER 5\\RSBP\\Bacteri\\Detection-of-bacteria-in-water-using-Yolo-images\\Detect\\Detection-of-bacteria-in-water-using-Yolo-images\\temp\\images/train\\EMDS7-G039-087-0400.png\n",
      "Processed Image saved to: D:\\KULIAH\\SEMESTER 5\\RSBP\\Bacteri\\Detection-of-bacteria-in-water-using-Yolo-images\\Detect\\Detection-of-bacteria-in-water-using-Yolo-images\\temp\\images/train\\EMDS7-G004-012-0400.png\n",
      "Processed Image saved to: D:\\KULIAH\\SEMESTER 5\\RSBP\\Bacteri\\Detection-of-bacteria-in-water-using-Yolo-images\\Detect\\Detection-of-bacteria-in-water-using-Yolo-images\\temp\\images/train\\EMDS7-G017-060-0400.png\n",
      "Processed Image saved to: D:\\KULIAH\\SEMESTER 5\\RSBP\\Bacteri\\Detection-of-bacteria-in-water-using-Yolo-images\\Detect\\Detection-of-bacteria-in-water-using-Yolo-images\\temp\\images/train\\EMDS7-G014-020-0400.png\n",
      "Processed Image saved to: D:\\KULIAH\\SEMESTER 5\\RSBP\\Bacteri\\Detection-of-bacteria-in-water-using-Yolo-images\\Detect\\Detection-of-bacteria-in-water-using-Yolo-images\\temp\\images/train\\EMDS7-G030-031-0400.png\n",
      "Processed Image saved to: D:\\KULIAH\\SEMESTER 5\\RSBP\\Bacteri\\Detection-of-bacteria-in-water-using-Yolo-images\\Detect\\Detection-of-bacteria-in-water-using-Yolo-images\\temp\\images/train\\EMDS7-G003-234-0400.png\n",
      "Processed Image saved to: D:\\KULIAH\\SEMESTER 5\\RSBP\\Bacteri\\Detection-of-bacteria-in-water-using-Yolo-images\\Detect\\Detection-of-bacteria-in-water-using-Yolo-images\\temp\\images/train\\EMDS7-G038-063-0400.png\n",
      "Processed Image saved to: D:\\KULIAH\\SEMESTER 5\\RSBP\\Bacteri\\Detection-of-bacteria-in-water-using-Yolo-images\\Detect\\Detection-of-bacteria-in-water-using-Yolo-images\\temp\\images/train\\EMDS7-G035-046-0400.png\n",
      "Processed Image saved to: D:\\KULIAH\\SEMESTER 5\\RSBP\\Bacteri\\Detection-of-bacteria-in-water-using-Yolo-images\\Detect\\Detection-of-bacteria-in-water-using-Yolo-images\\temp\\images/train\\EMDS7-G039-063-0400.png\n",
      "Processed Image saved to: D:\\KULIAH\\SEMESTER 5\\RSBP\\Bacteri\\Detection-of-bacteria-in-water-using-Yolo-images\\Detect\\Detection-of-bacteria-in-water-using-Yolo-images\\temp\\images/train\\EMDS7-G017-004-0400.png\n",
      "Processed Image saved to: D:\\KULIAH\\SEMESTER 5\\RSBP\\Bacteri\\Detection-of-bacteria-in-water-using-Yolo-images\\Detect\\Detection-of-bacteria-in-water-using-Yolo-images\\temp\\images/train\\EMDS7-G009-060-0400.png\n",
      "Processed Image saved to: D:\\KULIAH\\SEMESTER 5\\RSBP\\Bacteri\\Detection-of-bacteria-in-water-using-Yolo-images\\Detect\\Detection-of-bacteria-in-water-using-Yolo-images\\temp\\images/train\\EMDS7-G032-020-0400.png\n",
      "Processed Image saved to: D:\\KULIAH\\SEMESTER 5\\RSBP\\Bacteri\\Detection-of-bacteria-in-water-using-Yolo-images\\Detect\\Detection-of-bacteria-in-water-using-Yolo-images\\temp\\images/train\\EMDS7-G031-018-0400.png\n",
      "Processed Image saved to: D:\\KULIAH\\SEMESTER 5\\RSBP\\Bacteri\\Detection-of-bacteria-in-water-using-Yolo-images\\Detect\\Detection-of-bacteria-in-water-using-Yolo-images\\temp\\images/train\\EMDS7-G022-057-0400.png\n",
      "Processed Image saved to: D:\\KULIAH\\SEMESTER 5\\RSBP\\Bacteri\\Detection-of-bacteria-in-water-using-Yolo-images\\Detect\\Detection-of-bacteria-in-water-using-Yolo-images\\temp\\images/train\\EMDS7-G019-010-0400.png\n",
      "Processed Image saved to: D:\\KULIAH\\SEMESTER 5\\RSBP\\Bacteri\\Detection-of-bacteria-in-water-using-Yolo-images\\Detect\\Detection-of-bacteria-in-water-using-Yolo-images\\temp\\images/train\\EMDS7-G016-004-0400.png\n",
      "Processed Image saved to: D:\\KULIAH\\SEMESTER 5\\RSBP\\Bacteri\\Detection-of-bacteria-in-water-using-Yolo-images\\Detect\\Detection-of-bacteria-in-water-using-Yolo-images\\temp\\images/train\\EMDS7-G017-036-0400.png\n",
      "Processed Image saved to: D:\\KULIAH\\SEMESTER 5\\RSBP\\Bacteri\\Detection-of-bacteria-in-water-using-Yolo-images\\Detect\\Detection-of-bacteria-in-water-using-Yolo-images\\temp\\images/train\\EMDS7-G022-065-0400.png\n",
      "Processed Image saved to: D:\\KULIAH\\SEMESTER 5\\RSBP\\Bacteri\\Detection-of-bacteria-in-water-using-Yolo-images\\Detect\\Detection-of-bacteria-in-water-using-Yolo-images\\temp\\images/train\\EMDS7-G020-006-0400.png\n",
      "Processed Image saved to: D:\\KULIAH\\SEMESTER 5\\RSBP\\Bacteri\\Detection-of-bacteria-in-water-using-Yolo-images\\Detect\\Detection-of-bacteria-in-water-using-Yolo-images\\temp\\images/train\\EMDS7-G015-018-0400.png\n",
      "Processed Image saved to: D:\\KULIAH\\SEMESTER 5\\RSBP\\Bacteri\\Detection-of-bacteria-in-water-using-Yolo-images\\Detect\\Detection-of-bacteria-in-water-using-Yolo-images\\temp\\images/train\\EMDS7-G017-059-0400.png\n",
      "Processed Image saved to: D:\\KULIAH\\SEMESTER 5\\RSBP\\Bacteri\\Detection-of-bacteria-in-water-using-Yolo-images\\Detect\\Detection-of-bacteria-in-water-using-Yolo-images\\temp\\images/train\\EMDS7-G039-086-0400.png\n",
      "Processed Image saved to: D:\\KULIAH\\SEMESTER 5\\RSBP\\Bacteri\\Detection-of-bacteria-in-water-using-Yolo-images\\Detect\\Detection-of-bacteria-in-water-using-Yolo-images\\temp\\images/train\\EMDS7-G003-102-0400.png\n",
      "Processed Image saved to: D:\\KULIAH\\SEMESTER 5\\RSBP\\Bacteri\\Detection-of-bacteria-in-water-using-Yolo-images\\Detect\\Detection-of-bacteria-in-water-using-Yolo-images\\temp\\images/train\\EMDS7-G003-077-0400.png\n",
      "Processed Image saved to: D:\\KULIAH\\SEMESTER 5\\RSBP\\Bacteri\\Detection-of-bacteria-in-water-using-Yolo-images\\Detect\\Detection-of-bacteria-in-water-using-Yolo-images\\temp\\images/train\\EMDS7-G040-014-0400.png\n",
      "Processed Image saved to: D:\\KULIAH\\SEMESTER 5\\RSBP\\Bacteri\\Detection-of-bacteria-in-water-using-Yolo-images\\Detect\\Detection-of-bacteria-in-water-using-Yolo-images\\temp\\images/train\\EMDS7-G009-075-0400.png\n",
      "Processed Image saved to: D:\\KULIAH\\SEMESTER 5\\RSBP\\Bacteri\\Detection-of-bacteria-in-water-using-Yolo-images\\Detect\\Detection-of-bacteria-in-water-using-Yolo-images\\temp\\images/train\\EMDS7-G003-253-0400.png\n",
      "Skipping image EMDS7-G022-200-0400.png due to no valid classes.\n",
      "Processed Image saved to: D:\\KULIAH\\SEMESTER 5\\RSBP\\Bacteri\\Detection-of-bacteria-in-water-using-Yolo-images\\Detect\\Detection-of-bacteria-in-water-using-Yolo-images\\temp\\images/train\\EMDS7-G022-195-0400.png\n",
      "Processed Image saved to: D:\\KULIAH\\SEMESTER 5\\RSBP\\Bacteri\\Detection-of-bacteria-in-water-using-Yolo-images\\Detect\\Detection-of-bacteria-in-water-using-Yolo-images\\temp\\images/train\\EMDS7-G025-060-0400.png\n",
      "Processed Image saved to: D:\\KULIAH\\SEMESTER 5\\RSBP\\Bacteri\\Detection-of-bacteria-in-water-using-Yolo-images\\Detect\\Detection-of-bacteria-in-water-using-Yolo-images\\temp\\images/train\\EMDS7-G009-009-0400.png\n",
      "Processed Image saved to: D:\\KULIAH\\SEMESTER 5\\RSBP\\Bacteri\\Detection-of-bacteria-in-water-using-Yolo-images\\Detect\\Detection-of-bacteria-in-water-using-Yolo-images\\temp\\images/train\\EMDS7-G025-044-0400.png\n",
      "Processed Image saved to: D:\\KULIAH\\SEMESTER 5\\RSBP\\Bacteri\\Detection-of-bacteria-in-water-using-Yolo-images\\Detect\\Detection-of-bacteria-in-water-using-Yolo-images\\temp\\images/train\\EMDS7-G033-021-0400.png\n",
      "Processed Image saved to: D:\\KULIAH\\SEMESTER 5\\RSBP\\Bacteri\\Detection-of-bacteria-in-water-using-Yolo-images\\Detect\\Detection-of-bacteria-in-water-using-Yolo-images\\temp\\images/train\\EMDS7-G012-016-0400.png\n",
      "Processed Image saved to: D:\\KULIAH\\SEMESTER 5\\RSBP\\Bacteri\\Detection-of-bacteria-in-water-using-Yolo-images\\Detect\\Detection-of-bacteria-in-water-using-Yolo-images\\temp\\images/train\\EMDS7-G028-057-0400.png\n",
      "Processed Image saved to: D:\\KULIAH\\SEMESTER 5\\RSBP\\Bacteri\\Detection-of-bacteria-in-water-using-Yolo-images\\Detect\\Detection-of-bacteria-in-water-using-Yolo-images\\temp\\images/train\\EMDS7-G009-068-0400.png\n",
      "Processed Image saved to: D:\\KULIAH\\SEMESTER 5\\RSBP\\Bacteri\\Detection-of-bacteria-in-water-using-Yolo-images\\Detect\\Detection-of-bacteria-in-water-using-Yolo-images\\temp\\images/train\\EMDS7-G005-016-0400.png\n",
      "Processed Image saved to: D:\\KULIAH\\SEMESTER 5\\RSBP\\Bacteri\\Detection-of-bacteria-in-water-using-Yolo-images\\Detect\\Detection-of-bacteria-in-water-using-Yolo-images\\temp\\images/train\\EMDS7-G037-006-0400.png\n",
      "Processed Image saved to: D:\\KULIAH\\SEMESTER 5\\RSBP\\Bacteri\\Detection-of-bacteria-in-water-using-Yolo-images\\Detect\\Detection-of-bacteria-in-water-using-Yolo-images\\temp\\images/train\\EMDS7-G014-058-0400.png\n",
      "Processed Image saved to: D:\\KULIAH\\SEMESTER 5\\RSBP\\Bacteri\\Detection-of-bacteria-in-water-using-Yolo-images\\Detect\\Detection-of-bacteria-in-water-using-Yolo-images\\temp\\images/train\\EMDS7-G035-026-0400.png\n",
      "Processed Image saved to: D:\\KULIAH\\SEMESTER 5\\RSBP\\Bacteri\\Detection-of-bacteria-in-water-using-Yolo-images\\Detect\\Detection-of-bacteria-in-water-using-Yolo-images\\temp\\images/train\\EMDS7-G038-018-0400.png\n",
      "Processed Image saved to: D:\\KULIAH\\SEMESTER 5\\RSBP\\Bacteri\\Detection-of-bacteria-in-water-using-Yolo-images\\Detect\\Detection-of-bacteria-in-water-using-Yolo-images\\temp\\images/train\\EMDS7-G022-148-0400.png\n",
      "Processed Image saved to: D:\\KULIAH\\SEMESTER 5\\RSBP\\Bacteri\\Detection-of-bacteria-in-water-using-Yolo-images\\Detect\\Detection-of-bacteria-in-water-using-Yolo-images\\temp\\images/train\\EMDS7-G028-075-0400.png\n",
      "Processed Image saved to: D:\\KULIAH\\SEMESTER 5\\RSBP\\Bacteri\\Detection-of-bacteria-in-water-using-Yolo-images\\Detect\\Detection-of-bacteria-in-water-using-Yolo-images\\temp\\images/train\\EMDS7-G030-046-0400.png\n",
      "Processed Image saved to: D:\\KULIAH\\SEMESTER 5\\RSBP\\Bacteri\\Detection-of-bacteria-in-water-using-Yolo-images\\Detect\\Detection-of-bacteria-in-water-using-Yolo-images\\temp\\images/train\\EMDS7-G022-085-0400.png\n",
      "Processed Image saved to: D:\\KULIAH\\SEMESTER 5\\RSBP\\Bacteri\\Detection-of-bacteria-in-water-using-Yolo-images\\Detect\\Detection-of-bacteria-in-water-using-Yolo-images\\temp\\images/train\\EMDS7-G022-253-0400.png\n",
      "Processed Image saved to: D:\\KULIAH\\SEMESTER 5\\RSBP\\Bacteri\\Detection-of-bacteria-in-water-using-Yolo-images\\Detect\\Detection-of-bacteria-in-water-using-Yolo-images\\temp\\images/train\\EMDS7-G032-059-0400.png\n",
      "Processed Image saved to: D:\\KULIAH\\SEMESTER 5\\RSBP\\Bacteri\\Detection-of-bacteria-in-water-using-Yolo-images\\Detect\\Detection-of-bacteria-in-water-using-Yolo-images\\temp\\images/train\\EMDS7-G017-065-0400.png\n",
      "Processed Image saved to: D:\\KULIAH\\SEMESTER 5\\RSBP\\Bacteri\\Detection-of-bacteria-in-water-using-Yolo-images\\Detect\\Detection-of-bacteria-in-water-using-Yolo-images\\temp\\images/train\\EMDS7-G012-028-0400.png\n",
      "Processed Image saved to: D:\\KULIAH\\SEMESTER 5\\RSBP\\Bacteri\\Detection-of-bacteria-in-water-using-Yolo-images\\Detect\\Detection-of-bacteria-in-water-using-Yolo-images\\temp\\images/train\\EMDS7-G003-285-0400.png\n",
      "Processed Image saved to: D:\\KULIAH\\SEMESTER 5\\RSBP\\Bacteri\\Detection-of-bacteria-in-water-using-Yolo-images\\Detect\\Detection-of-bacteria-in-water-using-Yolo-images\\temp\\images/train\\EMDS7-G018-035-0400.png\n",
      "Processed Image saved to: D:\\KULIAH\\SEMESTER 5\\RSBP\\Bacteri\\Detection-of-bacteria-in-water-using-Yolo-images\\Detect\\Detection-of-bacteria-in-water-using-Yolo-images\\temp\\images/train\\EMDS7-G004-003-0400.png\n",
      "Processed Image saved to: D:\\KULIAH\\SEMESTER 5\\RSBP\\Bacteri\\Detection-of-bacteria-in-water-using-Yolo-images\\Detect\\Detection-of-bacteria-in-water-using-Yolo-images\\temp\\images/train\\EMDS7-G012-071-0400.png\n",
      "Processed Image saved to: D:\\KULIAH\\SEMESTER 5\\RSBP\\Bacteri\\Detection-of-bacteria-in-water-using-Yolo-images\\Detect\\Detection-of-bacteria-in-water-using-Yolo-images\\temp\\images/train\\EMDS7-G022-004-0400.png\n",
      "Processed Image saved to: D:\\KULIAH\\SEMESTER 5\\RSBP\\Bacteri\\Detection-of-bacteria-in-water-using-Yolo-images\\Detect\\Detection-of-bacteria-in-water-using-Yolo-images\\temp\\images/train\\EMDS7-G032-072-0400.png\n",
      "Skipping image EMDS7-G022-216-0400.png due to no valid classes.\n",
      "Processed Image saved to: D:\\KULIAH\\SEMESTER 5\\RSBP\\Bacteri\\Detection-of-bacteria-in-water-using-Yolo-images\\Detect\\Detection-of-bacteria-in-water-using-Yolo-images\\temp\\images/train\\EMDS7-G008-013-0400.png\n",
      "Processed Image saved to: D:\\KULIAH\\SEMESTER 5\\RSBP\\Bacteri\\Detection-of-bacteria-in-water-using-Yolo-images\\Detect\\Detection-of-bacteria-in-water-using-Yolo-images\\temp\\images/train\\EMDS7-G022-038-0400.png\n",
      "Processed Image saved to: D:\\KULIAH\\SEMESTER 5\\RSBP\\Bacteri\\Detection-of-bacteria-in-water-using-Yolo-images\\Detect\\Detection-of-bacteria-in-water-using-Yolo-images\\temp\\images/train\\EMDS7-G023-008-0400.png\n",
      "Processed Image saved to: D:\\KULIAH\\SEMESTER 5\\RSBP\\Bacteri\\Detection-of-bacteria-in-water-using-Yolo-images\\Detect\\Detection-of-bacteria-in-water-using-Yolo-images\\temp\\images/train\\EMDS7-G020-035-0400.png\n",
      "Processed Image saved to: D:\\KULIAH\\SEMESTER 5\\RSBP\\Bacteri\\Detection-of-bacteria-in-water-using-Yolo-images\\Detect\\Detection-of-bacteria-in-water-using-Yolo-images\\temp\\images/train\\EMDS7-G039-070-0400.png\n",
      "Processed Image saved to: D:\\KULIAH\\SEMESTER 5\\RSBP\\Bacteri\\Detection-of-bacteria-in-water-using-Yolo-images\\Detect\\Detection-of-bacteria-in-water-using-Yolo-images\\temp\\images/train\\EMDS7-G025-012-0400.png\n",
      "Processed Image saved to: D:\\KULIAH\\SEMESTER 5\\RSBP\\Bacteri\\Detection-of-bacteria-in-water-using-Yolo-images\\Detect\\Detection-of-bacteria-in-water-using-Yolo-images\\temp\\images/train\\EMDS7-G039-057-0400.png\n",
      "Processed Image saved to: D:\\KULIAH\\SEMESTER 5\\RSBP\\Bacteri\\Detection-of-bacteria-in-water-using-Yolo-images\\Detect\\Detection-of-bacteria-in-water-using-Yolo-images\\temp\\images/train\\EMDS7-G011-004-0400.png\n",
      "Processed Image saved to: D:\\KULIAH\\SEMESTER 5\\RSBP\\Bacteri\\Detection-of-bacteria-in-water-using-Yolo-images\\Detect\\Detection-of-bacteria-in-water-using-Yolo-images\\temp\\images/train\\EMDS7-G031-026-0400.png\n",
      "Processed Image saved to: D:\\KULIAH\\SEMESTER 5\\RSBP\\Bacteri\\Detection-of-bacteria-in-water-using-Yolo-images\\Detect\\Detection-of-bacteria-in-water-using-Yolo-images\\temp\\images/train\\EMDS7-G039-072-0400.png\n",
      "Processed Image saved to: D:\\KULIAH\\SEMESTER 5\\RSBP\\Bacteri\\Detection-of-bacteria-in-water-using-Yolo-images\\Detect\\Detection-of-bacteria-in-water-using-Yolo-images\\temp\\images/train\\EMDS7-G039-068-0400.png\n",
      "Processed Image saved to: D:\\KULIAH\\SEMESTER 5\\RSBP\\Bacteri\\Detection-of-bacteria-in-water-using-Yolo-images\\Detect\\Detection-of-bacteria-in-water-using-Yolo-images\\temp\\images/train\\EMDS7-G032-046-0400.png\n",
      "Processed Image saved to: D:\\KULIAH\\SEMESTER 5\\RSBP\\Bacteri\\Detection-of-bacteria-in-water-using-Yolo-images\\Detect\\Detection-of-bacteria-in-water-using-Yolo-images\\temp\\images/train\\EMDS7-G025-036-0400.png\n",
      "Processed Image saved to: D:\\KULIAH\\SEMESTER 5\\RSBP\\Bacteri\\Detection-of-bacteria-in-water-using-Yolo-images\\Detect\\Detection-of-bacteria-in-water-using-Yolo-images\\temp\\images/train\\EMDS7-G016-006-0400.png\n",
      "Processed Image saved to: D:\\KULIAH\\SEMESTER 5\\RSBP\\Bacteri\\Detection-of-bacteria-in-water-using-Yolo-images\\Detect\\Detection-of-bacteria-in-water-using-Yolo-images\\temp\\images/train\\EMDS7-G005-045-0400.png\n",
      "Processed Image saved to: D:\\KULIAH\\SEMESTER 5\\RSBP\\Bacteri\\Detection-of-bacteria-in-water-using-Yolo-images\\Detect\\Detection-of-bacteria-in-water-using-Yolo-images\\temp\\images/train\\EMDS7-G003-240-0400.png\n",
      "Processed Image saved to: D:\\KULIAH\\SEMESTER 5\\RSBP\\Bacteri\\Detection-of-bacteria-in-water-using-Yolo-images\\Detect\\Detection-of-bacteria-in-water-using-Yolo-images\\temp\\images/train\\EMDS7-G009-051-0400.png\n",
      "Processed Image saved to: D:\\KULIAH\\SEMESTER 5\\RSBP\\Bacteri\\Detection-of-bacteria-in-water-using-Yolo-images\\Detect\\Detection-of-bacteria-in-water-using-Yolo-images\\temp\\images/train\\EMDS7-G007-014-0400.png\n",
      "Processed Image saved to: D:\\KULIAH\\SEMESTER 5\\RSBP\\Bacteri\\Detection-of-bacteria-in-water-using-Yolo-images\\Detect\\Detection-of-bacteria-in-water-using-Yolo-images\\temp\\images/train\\EMDS7-G039-075-0400.png\n",
      "Processed Image saved to: D:\\KULIAH\\SEMESTER 5\\RSBP\\Bacteri\\Detection-of-bacteria-in-water-using-Yolo-images\\Detect\\Detection-of-bacteria-in-water-using-Yolo-images\\temp\\images/train\\EMDS7-G022-011-0400.png\n",
      "Processed Image saved to: D:\\KULIAH\\SEMESTER 5\\RSBP\\Bacteri\\Detection-of-bacteria-in-water-using-Yolo-images\\Detect\\Detection-of-bacteria-in-water-using-Yolo-images\\temp\\images/train\\EMDS7-G020-033-0400.png\n",
      "Processed Image saved to: D:\\KULIAH\\SEMESTER 5\\RSBP\\Bacteri\\Detection-of-bacteria-in-water-using-Yolo-images\\Detect\\Detection-of-bacteria-in-water-using-Yolo-images\\temp\\images/train\\EMDS7-G010-004-0400.png\n",
      "Processed Image saved to: D:\\KULIAH\\SEMESTER 5\\RSBP\\Bacteri\\Detection-of-bacteria-in-water-using-Yolo-images\\Detect\\Detection-of-bacteria-in-water-using-Yolo-images\\temp\\images/train\\EMDS7-G014-023-0400.png\n",
      "Processed Image saved to: D:\\KULIAH\\SEMESTER 5\\RSBP\\Bacteri\\Detection-of-bacteria-in-water-using-Yolo-images\\Detect\\Detection-of-bacteria-in-water-using-Yolo-images\\temp\\images/train\\EMDS7-G003-082-0400.png\n",
      "Processed Image saved to: D:\\KULIAH\\SEMESTER 5\\RSBP\\Bacteri\\Detection-of-bacteria-in-water-using-Yolo-images\\Detect\\Detection-of-bacteria-in-water-using-Yolo-images\\temp\\images/train\\EMDS7-G036-048-0400.png\n",
      "Processed Image saved to: D:\\KULIAH\\SEMESTER 5\\RSBP\\Bacteri\\Detection-of-bacteria-in-water-using-Yolo-images\\Detect\\Detection-of-bacteria-in-water-using-Yolo-images\\temp\\images/train\\EMDS7-G038-057-0400.png\n",
      "Processed Image saved to: D:\\KULIAH\\SEMESTER 5\\RSBP\\Bacteri\\Detection-of-bacteria-in-water-using-Yolo-images\\Detect\\Detection-of-bacteria-in-water-using-Yolo-images\\temp\\images/train\\EMDS7-G004-016-0400.png\n",
      "Processed Image saved to: D:\\KULIAH\\SEMESTER 5\\RSBP\\Bacteri\\Detection-of-bacteria-in-water-using-Yolo-images\\Detect\\Detection-of-bacteria-in-water-using-Yolo-images\\temp\\images/train\\EMDS7-G032-006-0400.png\n",
      "Processed Image saved to: D:\\KULIAH\\SEMESTER 5\\RSBP\\Bacteri\\Detection-of-bacteria-in-water-using-Yolo-images\\Detect\\Detection-of-bacteria-in-water-using-Yolo-images\\temp\\images/train\\EMDS7-G003-251-0400.png\n",
      "Processed Image saved to: D:\\KULIAH\\SEMESTER 5\\RSBP\\Bacteri\\Detection-of-bacteria-in-water-using-Yolo-images\\Detect\\Detection-of-bacteria-in-water-using-Yolo-images\\temp\\images/train\\EMDS7-G003-132-0400.png\n",
      "Processed Image saved to: D:\\KULIAH\\SEMESTER 5\\RSBP\\Bacteri\\Detection-of-bacteria-in-water-using-Yolo-images\\Detect\\Detection-of-bacteria-in-water-using-Yolo-images\\temp\\images/train\\EMDS7-G032-058-0400.png\n",
      "Processed Image saved to: D:\\KULIAH\\SEMESTER 5\\RSBP\\Bacteri\\Detection-of-bacteria-in-water-using-Yolo-images\\Detect\\Detection-of-bacteria-in-water-using-Yolo-images\\temp\\images/train\\EMDS7-G008-026-0400.png\n",
      "Processed Image saved to: D:\\KULIAH\\SEMESTER 5\\RSBP\\Bacteri\\Detection-of-bacteria-in-water-using-Yolo-images\\Detect\\Detection-of-bacteria-in-water-using-Yolo-images\\temp\\images/train\\EMDS7-G003-088-0400.png\n",
      "Processed Image saved to: D:\\KULIAH\\SEMESTER 5\\RSBP\\Bacteri\\Detection-of-bacteria-in-water-using-Yolo-images\\Detect\\Detection-of-bacteria-in-water-using-Yolo-images\\temp\\images/train\\EMDS7-G012-087-0400.png\n",
      "Processed Image saved to: D:\\KULIAH\\SEMESTER 5\\RSBP\\Bacteri\\Detection-of-bacteria-in-water-using-Yolo-images\\Detect\\Detection-of-bacteria-in-water-using-Yolo-images\\temp\\images/train\\EMDS7-G019-051-0400.png\n",
      "Processed Image saved to: D:\\KULIAH\\SEMESTER 5\\RSBP\\Bacteri\\Detection-of-bacteria-in-water-using-Yolo-images\\Detect\\Detection-of-bacteria-in-water-using-Yolo-images\\temp\\images/train\\EMDS7-G035-007-0400.png\n",
      "Processed Image saved to: D:\\KULIAH\\SEMESTER 5\\RSBP\\Bacteri\\Detection-of-bacteria-in-water-using-Yolo-images\\Detect\\Detection-of-bacteria-in-water-using-Yolo-images\\temp\\images/train\\EMDS7-G011-023-0400.png\n",
      "Processed Image saved to: D:\\KULIAH\\SEMESTER 5\\RSBP\\Bacteri\\Detection-of-bacteria-in-water-using-Yolo-images\\Detect\\Detection-of-bacteria-in-water-using-Yolo-images\\temp\\images/train\\EMDS7-G036-036-0400.png\n",
      "Processed Image saved to: D:\\KULIAH\\SEMESTER 5\\RSBP\\Bacteri\\Detection-of-bacteria-in-water-using-Yolo-images\\Detect\\Detection-of-bacteria-in-water-using-Yolo-images\\temp\\images/train\\EMDS7-G027-003-0400.png\n",
      "Processed Image saved to: D:\\KULIAH\\SEMESTER 5\\RSBP\\Bacteri\\Detection-of-bacteria-in-water-using-Yolo-images\\Detect\\Detection-of-bacteria-in-water-using-Yolo-images\\temp\\images/train\\EMDS7-G020-036-0400.png\n",
      "Processed Image saved to: D:\\KULIAH\\SEMESTER 5\\RSBP\\Bacteri\\Detection-of-bacteria-in-water-using-Yolo-images\\Detect\\Detection-of-bacteria-in-water-using-Yolo-images\\temp\\images/train\\EMDS7-G003-227-0400.png\n",
      "Processed Image saved to: D:\\KULIAH\\SEMESTER 5\\RSBP\\Bacteri\\Detection-of-bacteria-in-water-using-Yolo-images\\Detect\\Detection-of-bacteria-in-water-using-Yolo-images\\temp\\images/train\\EMDS7-G035-040-0400.png\n",
      "Processed Image saved to: D:\\KULIAH\\SEMESTER 5\\RSBP\\Bacteri\\Detection-of-bacteria-in-water-using-Yolo-images\\Detect\\Detection-of-bacteria-in-water-using-Yolo-images\\temp\\images/train\\EMDS7-G001-032-0400.png\n",
      "Processed Image saved to: D:\\KULIAH\\SEMESTER 5\\RSBP\\Bacteri\\Detection-of-bacteria-in-water-using-Yolo-images\\Detect\\Detection-of-bacteria-in-water-using-Yolo-images\\temp\\images/train\\EMDS7-G001-041-0400.png\n",
      "Processed Image saved to: D:\\KULIAH\\SEMESTER 5\\RSBP\\Bacteri\\Detection-of-bacteria-in-water-using-Yolo-images\\Detect\\Detection-of-bacteria-in-water-using-Yolo-images\\temp\\images/train\\EMDS7-G023-031-0400.png\n",
      "Processed Image saved to: D:\\KULIAH\\SEMESTER 5\\RSBP\\Bacteri\\Detection-of-bacteria-in-water-using-Yolo-images\\Detect\\Detection-of-bacteria-in-water-using-Yolo-images\\temp\\images/train\\EMDS7-G009-016-0400.png\n",
      "Processed Image saved to: D:\\KULIAH\\SEMESTER 5\\RSBP\\Bacteri\\Detection-of-bacteria-in-water-using-Yolo-images\\Detect\\Detection-of-bacteria-in-water-using-Yolo-images\\temp\\images/train\\EMDS7-G028-023-0400.png\n",
      "Processed Image saved to: D:\\KULIAH\\SEMESTER 5\\RSBP\\Bacteri\\Detection-of-bacteria-in-water-using-Yolo-images\\Detect\\Detection-of-bacteria-in-water-using-Yolo-images\\temp\\images/train\\EMDS7-G012-017-0400.png\n",
      "Processed Image saved to: D:\\KULIAH\\SEMESTER 5\\RSBP\\Bacteri\\Detection-of-bacteria-in-water-using-Yolo-images\\Detect\\Detection-of-bacteria-in-water-using-Yolo-images\\temp\\images/train\\EMDS7-G040-009-0400.png\n",
      "Processed Image saved to: D:\\KULIAH\\SEMESTER 5\\RSBP\\Bacteri\\Detection-of-bacteria-in-water-using-Yolo-images\\Detect\\Detection-of-bacteria-in-water-using-Yolo-images\\temp\\images/train\\EMDS7-G003-302-0400.png\n",
      "Processed Image saved to: D:\\KULIAH\\SEMESTER 5\\RSBP\\Bacteri\\Detection-of-bacteria-in-water-using-Yolo-images\\Detect\\Detection-of-bacteria-in-water-using-Yolo-images\\temp\\images/train\\EMDS7-G017-011-0400.png\n",
      "Processed Image saved to: D:\\KULIAH\\SEMESTER 5\\RSBP\\Bacteri\\Detection-of-bacteria-in-water-using-Yolo-images\\Detect\\Detection-of-bacteria-in-water-using-Yolo-images\\temp\\images/train\\EMDS7-G014-001-0400.png\n",
      "Processed Image saved to: D:\\KULIAH\\SEMESTER 5\\RSBP\\Bacteri\\Detection-of-bacteria-in-water-using-Yolo-images\\Detect\\Detection-of-bacteria-in-water-using-Yolo-images\\temp\\images/train\\EMDS7-G004-035-0400.png\n",
      "Processed Image saved to: D:\\KULIAH\\SEMESTER 5\\RSBP\\Bacteri\\Detection-of-bacteria-in-water-using-Yolo-images\\Detect\\Detection-of-bacteria-in-water-using-Yolo-images\\temp\\images/train\\EMDS7-G033-002-0400.png\n",
      "Processed Image saved to: D:\\KULIAH\\SEMESTER 5\\RSBP\\Bacteri\\Detection-of-bacteria-in-water-using-Yolo-images\\Detect\\Detection-of-bacteria-in-water-using-Yolo-images\\temp\\images/train\\EMDS7-G010-014-0400.png\n",
      "Processed Image saved to: D:\\KULIAH\\SEMESTER 5\\RSBP\\Bacteri\\Detection-of-bacteria-in-water-using-Yolo-images\\Detect\\Detection-of-bacteria-in-water-using-Yolo-images\\temp\\images/train\\EMDS7-G023-034-0400.png\n",
      "Processed Image saved to: D:\\KULIAH\\SEMESTER 5\\RSBP\\Bacteri\\Detection-of-bacteria-in-water-using-Yolo-images\\Detect\\Detection-of-bacteria-in-water-using-Yolo-images\\temp\\images/train\\EMDS7-G014-063-0400.png\n",
      "Processed Image saved to: D:\\KULIAH\\SEMESTER 5\\RSBP\\Bacteri\\Detection-of-bacteria-in-water-using-Yolo-images\\Detect\\Detection-of-bacteria-in-water-using-Yolo-images\\temp\\images/train\\EMDS7-G018-023-0400.png\n",
      "Processed Image saved to: D:\\KULIAH\\SEMESTER 5\\RSBP\\Bacteri\\Detection-of-bacteria-in-water-using-Yolo-images\\Detect\\Detection-of-bacteria-in-water-using-Yolo-images\\temp\\images/train\\EMDS7-G028-073-0400.png\n",
      "Processed Image saved to: D:\\KULIAH\\SEMESTER 5\\RSBP\\Bacteri\\Detection-of-bacteria-in-water-using-Yolo-images\\Detect\\Detection-of-bacteria-in-water-using-Yolo-images\\temp\\images/train\\EMDS7-G036-076-0400.png\n",
      "Processed Image saved to: D:\\KULIAH\\SEMESTER 5\\RSBP\\Bacteri\\Detection-of-bacteria-in-water-using-Yolo-images\\Detect\\Detection-of-bacteria-in-water-using-Yolo-images\\temp\\images/train\\EMDS7-G038-053-0400.png\n",
      "Processed Image saved to: D:\\KULIAH\\SEMESTER 5\\RSBP\\Bacteri\\Detection-of-bacteria-in-water-using-Yolo-images\\Detect\\Detection-of-bacteria-in-water-using-Yolo-images\\temp\\images/train\\EMDS7-G003-306-0400.png\n",
      "Processed Image saved to: D:\\KULIAH\\SEMESTER 5\\RSBP\\Bacteri\\Detection-of-bacteria-in-water-using-Yolo-images\\Detect\\Detection-of-bacteria-in-water-using-Yolo-images\\temp\\images/train\\EMDS7-G003-229-0400.png\n",
      "Processed Image saved to: D:\\KULIAH\\SEMESTER 5\\RSBP\\Bacteri\\Detection-of-bacteria-in-water-using-Yolo-images\\Detect\\Detection-of-bacteria-in-water-using-Yolo-images\\temp\\images/train\\EMDS7-G003-016-0400.png\n",
      "Processed Image saved to: D:\\KULIAH\\SEMESTER 5\\RSBP\\Bacteri\\Detection-of-bacteria-in-water-using-Yolo-images\\Detect\\Detection-of-bacteria-in-water-using-Yolo-images\\temp\\images/train\\EMDS7-G003-164-0400.png\n",
      "Processed Image saved to: D:\\KULIAH\\SEMESTER 5\\RSBP\\Bacteri\\Detection-of-bacteria-in-water-using-Yolo-images\\Detect\\Detection-of-bacteria-in-water-using-Yolo-images\\temp\\images/train\\EMDS7-G012-043-0400.png\n",
      "Processed Image saved to: D:\\KULIAH\\SEMESTER 5\\RSBP\\Bacteri\\Detection-of-bacteria-in-water-using-Yolo-images\\Detect\\Detection-of-bacteria-in-water-using-Yolo-images\\temp\\images/train\\EMDS7-G003-042-0400.png\n",
      "Processed Image saved to: D:\\KULIAH\\SEMESTER 5\\RSBP\\Bacteri\\Detection-of-bacteria-in-water-using-Yolo-images\\Detect\\Detection-of-bacteria-in-water-using-Yolo-images\\temp\\images/train\\EMDS7-G003-024-0400.png\n",
      "Processed Image saved to: D:\\KULIAH\\SEMESTER 5\\RSBP\\Bacteri\\Detection-of-bacteria-in-water-using-Yolo-images\\Detect\\Detection-of-bacteria-in-water-using-Yolo-images\\temp\\images/train\\EMDS7-G022-064-0400.png\n",
      "Processed Image saved to: D:\\KULIAH\\SEMESTER 5\\RSBP\\Bacteri\\Detection-of-bacteria-in-water-using-Yolo-images\\Detect\\Detection-of-bacteria-in-water-using-Yolo-images\\temp\\images/train\\EMDS7-G014-057-0400.png\n",
      "Processed Image saved to: D:\\KULIAH\\SEMESTER 5\\RSBP\\Bacteri\\Detection-of-bacteria-in-water-using-Yolo-images\\Detect\\Detection-of-bacteria-in-water-using-Yolo-images\\temp\\images/train\\EMDS7-G036-005-0400.png\n",
      "Processed Image saved to: D:\\KULIAH\\SEMESTER 5\\RSBP\\Bacteri\\Detection-of-bacteria-in-water-using-Yolo-images\\Detect\\Detection-of-bacteria-in-water-using-Yolo-images\\temp\\images/train\\EMDS7-G036-021-0400.png\n",
      "Processed Image saved to: D:\\KULIAH\\SEMESTER 5\\RSBP\\Bacteri\\Detection-of-bacteria-in-water-using-Yolo-images\\Detect\\Detection-of-bacteria-in-water-using-Yolo-images\\temp\\images/train\\EMDS7-G026-009-0400.png\n",
      "Processed Image saved to: D:\\KULIAH\\SEMESTER 5\\RSBP\\Bacteri\\Detection-of-bacteria-in-water-using-Yolo-images\\Detect\\Detection-of-bacteria-in-water-using-Yolo-images\\temp\\images/train\\EMDS7-G028-056-0400.png\n",
      "Processed Image saved to: D:\\KULIAH\\SEMESTER 5\\RSBP\\Bacteri\\Detection-of-bacteria-in-water-using-Yolo-images\\Detect\\Detection-of-bacteria-in-water-using-Yolo-images\\temp\\images/train\\EMDS7-G021-009-0400.png\n",
      "Processed Image saved to: D:\\KULIAH\\SEMESTER 5\\RSBP\\Bacteri\\Detection-of-bacteria-in-water-using-Yolo-images\\Detect\\Detection-of-bacteria-in-water-using-Yolo-images\\temp\\images/train\\EMDS7-G018-039-0400.png\n",
      "Processed Image saved to: D:\\KULIAH\\SEMESTER 5\\RSBP\\Bacteri\\Detection-of-bacteria-in-water-using-Yolo-images\\Detect\\Detection-of-bacteria-in-water-using-Yolo-images\\temp\\images/train\\EMDS7-G036-027-0400.png\n",
      "Processed Image saved to: D:\\KULIAH\\SEMESTER 5\\RSBP\\Bacteri\\Detection-of-bacteria-in-water-using-Yolo-images\\Detect\\Detection-of-bacteria-in-water-using-Yolo-images\\temp\\images/train\\EMDS7-G028-008-0400.png\n",
      "Processed Image saved to: D:\\KULIAH\\SEMESTER 5\\RSBP\\Bacteri\\Detection-of-bacteria-in-water-using-Yolo-images\\Detect\\Detection-of-bacteria-in-water-using-Yolo-images\\temp\\images/train\\EMDS7-G011-012-0400.png\n",
      "Processed Image saved to: D:\\KULIAH\\SEMESTER 5\\RSBP\\Bacteri\\Detection-of-bacteria-in-water-using-Yolo-images\\Detect\\Detection-of-bacteria-in-water-using-Yolo-images\\temp\\images/train\\EMDS7-G036-030-0400.png\n",
      "Processed Image saved to: D:\\KULIAH\\SEMESTER 5\\RSBP\\Bacteri\\Detection-of-bacteria-in-water-using-Yolo-images\\Detect\\Detection-of-bacteria-in-water-using-Yolo-images\\temp\\images/train\\EMDS7-G004-073-0400.png\n",
      "Processed Image saved to: D:\\KULIAH\\SEMESTER 5\\RSBP\\Bacteri\\Detection-of-bacteria-in-water-using-Yolo-images\\Detect\\Detection-of-bacteria-in-water-using-Yolo-images\\temp\\images/train\\EMDS7-G022-010-0400.png\n",
      "Processed Image saved to: D:\\KULIAH\\SEMESTER 5\\RSBP\\Bacteri\\Detection-of-bacteria-in-water-using-Yolo-images\\Detect\\Detection-of-bacteria-in-water-using-Yolo-images\\temp\\images/train\\EMDS7-G005-023-0400.png\n",
      "Processed Image saved to: D:\\KULIAH\\SEMESTER 5\\RSBP\\Bacteri\\Detection-of-bacteria-in-water-using-Yolo-images\\Detect\\Detection-of-bacteria-in-water-using-Yolo-images\\temp\\images/train\\EMDS7-G026-006-0400.png\n",
      "Processed Image saved to: D:\\KULIAH\\SEMESTER 5\\RSBP\\Bacteri\\Detection-of-bacteria-in-water-using-Yolo-images\\Detect\\Detection-of-bacteria-in-water-using-Yolo-images\\temp\\images/train\\EMDS7-G009-041-0400.png\n",
      "Skipping image EMDS7-G029-013-0400.png due to no valid classes.\n",
      "Skipping image EMDS7-G022-257-0400.png due to no valid classes.\n",
      "Processed Image saved to: D:\\KULIAH\\SEMESTER 5\\RSBP\\Bacteri\\Detection-of-bacteria-in-water-using-Yolo-images\\Detect\\Detection-of-bacteria-in-water-using-Yolo-images\\temp\\images/val\\EMDS7-G022-149-0400.png\n",
      "Processed Image saved to: D:\\KULIAH\\SEMESTER 5\\RSBP\\Bacteri\\Detection-of-bacteria-in-water-using-Yolo-images\\Detect\\Detection-of-bacteria-in-water-using-Yolo-images\\temp\\images/val\\EMDS7-G022-197-0400.png\n",
      "Processed Image saved to: D:\\KULIAH\\SEMESTER 5\\RSBP\\Bacteri\\Detection-of-bacteria-in-water-using-Yolo-images\\Detect\\Detection-of-bacteria-in-water-using-Yolo-images\\temp\\images/val\\EMDS7-G030-010-0400.png\n",
      "Processed Image saved to: D:\\KULIAH\\SEMESTER 5\\RSBP\\Bacteri\\Detection-of-bacteria-in-water-using-Yolo-images\\Detect\\Detection-of-bacteria-in-water-using-Yolo-images\\temp\\images/val\\EMDS7-G036-058-0400.png\n",
      "Processed Image saved to: D:\\KULIAH\\SEMESTER 5\\RSBP\\Bacteri\\Detection-of-bacteria-in-water-using-Yolo-images\\Detect\\Detection-of-bacteria-in-water-using-Yolo-images\\temp\\images/val\\EMDS7-G035-035-0400.png\n",
      "Processed Image saved to: D:\\KULIAH\\SEMESTER 5\\RSBP\\Bacteri\\Detection-of-bacteria-in-water-using-Yolo-images\\Detect\\Detection-of-bacteria-in-water-using-Yolo-images\\temp\\images/val\\EMDS7-G001-037-0400.png\n",
      "Processed Image saved to: D:\\KULIAH\\SEMESTER 5\\RSBP\\Bacteri\\Detection-of-bacteria-in-water-using-Yolo-images\\Detect\\Detection-of-bacteria-in-water-using-Yolo-images\\temp\\images/val\\EMDS7-G012-055-0400.png\n",
      "Processed Image saved to: D:\\KULIAH\\SEMESTER 5\\RSBP\\Bacteri\\Detection-of-bacteria-in-water-using-Yolo-images\\Detect\\Detection-of-bacteria-in-water-using-Yolo-images\\temp\\images/val\\EMDS7-G003-197-0400.png\n",
      "Processed Image saved to: D:\\KULIAH\\SEMESTER 5\\RSBP\\Bacteri\\Detection-of-bacteria-in-water-using-Yolo-images\\Detect\\Detection-of-bacteria-in-water-using-Yolo-images\\temp\\images/val\\EMDS7-G032-043-0400.png\n",
      "Processed Image saved to: D:\\KULIAH\\SEMESTER 5\\RSBP\\Bacteri\\Detection-of-bacteria-in-water-using-Yolo-images\\Detect\\Detection-of-bacteria-in-water-using-Yolo-images\\temp\\images/val\\EMDS7-G025-058-0400.png\n",
      "Processed Image saved to: D:\\KULIAH\\SEMESTER 5\\RSBP\\Bacteri\\Detection-of-bacteria-in-water-using-Yolo-images\\Detect\\Detection-of-bacteria-in-water-using-Yolo-images\\temp\\images/val\\EMDS7-G012-024-0400.png\n",
      "Processed Image saved to: D:\\KULIAH\\SEMESTER 5\\RSBP\\Bacteri\\Detection-of-bacteria-in-water-using-Yolo-images\\Detect\\Detection-of-bacteria-in-water-using-Yolo-images\\temp\\images/val\\EMDS7-G038-038-0400.png\n",
      "Processed Image saved to: D:\\KULIAH\\SEMESTER 5\\RSBP\\Bacteri\\Detection-of-bacteria-in-water-using-Yolo-images\\Detect\\Detection-of-bacteria-in-water-using-Yolo-images\\temp\\images/val\\EMDS7-G009-038-0400.png\n",
      "Processed Image saved to: D:\\KULIAH\\SEMESTER 5\\RSBP\\Bacteri\\Detection-of-bacteria-in-water-using-Yolo-images\\Detect\\Detection-of-bacteria-in-water-using-Yolo-images\\temp\\images/val\\EMDS7-G022-235-0400.png\n",
      "Processed Image saved to: D:\\KULIAH\\SEMESTER 5\\RSBP\\Bacteri\\Detection-of-bacteria-in-water-using-Yolo-images\\Detect\\Detection-of-bacteria-in-water-using-Yolo-images\\temp\\images/val\\EMDS7-G012-084-0400.png\n",
      "Processed Image saved to: D:\\KULIAH\\SEMESTER 5\\RSBP\\Bacteri\\Detection-of-bacteria-in-water-using-Yolo-images\\Detect\\Detection-of-bacteria-in-water-using-Yolo-images\\temp\\images/val\\EMDS7-G032-041-0400.png\n",
      "Processed Image saved to: D:\\KULIAH\\SEMESTER 5\\RSBP\\Bacteri\\Detection-of-bacteria-in-water-using-Yolo-images\\Detect\\Detection-of-bacteria-in-water-using-Yolo-images\\temp\\images/val\\EMDS7-G012-003-0400.png\n",
      "Processed Image saved to: D:\\KULIAH\\SEMESTER 5\\RSBP\\Bacteri\\Detection-of-bacteria-in-water-using-Yolo-images\\Detect\\Detection-of-bacteria-in-water-using-Yolo-images\\temp\\images/val\\EMDS7-G036-013-0400.png\n",
      "Processed Image saved to: D:\\KULIAH\\SEMESTER 5\\RSBP\\Bacteri\\Detection-of-bacteria-in-water-using-Yolo-images\\Detect\\Detection-of-bacteria-in-water-using-Yolo-images\\temp\\images/val\\EMDS7-G023-017-0400.png\n",
      "Processed Image saved to: D:\\KULIAH\\SEMESTER 5\\RSBP\\Bacteri\\Detection-of-bacteria-in-water-using-Yolo-images\\Detect\\Detection-of-bacteria-in-water-using-Yolo-images\\temp\\images/val\\EMDS7-G022-032-0400.png\n",
      "Processed Image saved to: D:\\KULIAH\\SEMESTER 5\\RSBP\\Bacteri\\Detection-of-bacteria-in-water-using-Yolo-images\\Detect\\Detection-of-bacteria-in-water-using-Yolo-images\\temp\\images/val\\EMDS7-G032-003-0400.png\n",
      "Processed Image saved to: D:\\KULIAH\\SEMESTER 5\\RSBP\\Bacteri\\Detection-of-bacteria-in-water-using-Yolo-images\\Detect\\Detection-of-bacteria-in-water-using-Yolo-images\\temp\\images/val\\EMDS7-G003-136-0400.png\n",
      "Processed Image saved to: D:\\KULIAH\\SEMESTER 5\\RSBP\\Bacteri\\Detection-of-bacteria-in-water-using-Yolo-images\\Detect\\Detection-of-bacteria-in-water-using-Yolo-images\\temp\\images/val\\EMDS7-G003-282-0400.png\n",
      "Processed Image saved to: D:\\KULIAH\\SEMESTER 5\\RSBP\\Bacteri\\Detection-of-bacteria-in-water-using-Yolo-images\\Detect\\Detection-of-bacteria-in-water-using-Yolo-images\\temp\\images/val\\EMDS7-G023-036-0400.png\n",
      "Processed Image saved to: D:\\KULIAH\\SEMESTER 5\\RSBP\\Bacteri\\Detection-of-bacteria-in-water-using-Yolo-images\\Detect\\Detection-of-bacteria-in-water-using-Yolo-images\\temp\\images/val\\EMDS7-G011-056-0400.png\n",
      "Processed Image saved to: D:\\KULIAH\\SEMESTER 5\\RSBP\\Bacteri\\Detection-of-bacteria-in-water-using-Yolo-images\\Detect\\Detection-of-bacteria-in-water-using-Yolo-images\\temp\\images/val\\EMDS7-G024-005-0400.png\n",
      "Processed Image saved to: D:\\KULIAH\\SEMESTER 5\\RSBP\\Bacteri\\Detection-of-bacteria-in-water-using-Yolo-images\\Detect\\Detection-of-bacteria-in-water-using-Yolo-images\\temp\\images/val\\EMDS7-G004-061-0400.png\n",
      "Processed Image saved to: D:\\KULIAH\\SEMESTER 5\\RSBP\\Bacteri\\Detection-of-bacteria-in-water-using-Yolo-images\\Detect\\Detection-of-bacteria-in-water-using-Yolo-images\\temp\\images/val\\EMDS7-G008-017-0400.png\n",
      "Processed Image saved to: D:\\KULIAH\\SEMESTER 5\\RSBP\\Bacteri\\Detection-of-bacteria-in-water-using-Yolo-images\\Detect\\Detection-of-bacteria-in-water-using-Yolo-images\\temp\\images/val\\EMDS7-G032-040-0400.png\n",
      "Processed Image saved to: D:\\KULIAH\\SEMESTER 5\\RSBP\\Bacteri\\Detection-of-bacteria-in-water-using-Yolo-images\\Detect\\Detection-of-bacteria-in-water-using-Yolo-images\\temp\\images/val\\EMDS7-G032-033-0400.png\n",
      "Processed Image saved to: D:\\KULIAH\\SEMESTER 5\\RSBP\\Bacteri\\Detection-of-bacteria-in-water-using-Yolo-images\\Detect\\Detection-of-bacteria-in-water-using-Yolo-images\\temp\\images/val\\EMDS7-G014-046-0400.png\n",
      "Processed Image saved to: D:\\KULIAH\\SEMESTER 5\\RSBP\\Bacteri\\Detection-of-bacteria-in-water-using-Yolo-images\\Detect\\Detection-of-bacteria-in-water-using-Yolo-images\\temp\\images/val\\EMDS7-G011-032-0400.png\n",
      "Processed Image saved to: D:\\KULIAH\\SEMESTER 5\\RSBP\\Bacteri\\Detection-of-bacteria-in-water-using-Yolo-images\\Detect\\Detection-of-bacteria-in-water-using-Yolo-images\\temp\\images/val\\EMDS7-G009-065-0400.png\n",
      "Processed Image saved to: D:\\KULIAH\\SEMESTER 5\\RSBP\\Bacteri\\Detection-of-bacteria-in-water-using-Yolo-images\\Detect\\Detection-of-bacteria-in-water-using-Yolo-images\\temp\\images/val\\EMDS7-G003-010-0400.png\n",
      "Processed Image saved to: D:\\KULIAH\\SEMESTER 5\\RSBP\\Bacteri\\Detection-of-bacteria-in-water-using-Yolo-images\\Detect\\Detection-of-bacteria-in-water-using-Yolo-images\\temp\\images/val\\EMDS7-G014-048-0400.png\n",
      "Processed Image saved to: D:\\KULIAH\\SEMESTER 5\\RSBP\\Bacteri\\Detection-of-bacteria-in-water-using-Yolo-images\\Detect\\Detection-of-bacteria-in-water-using-Yolo-images\\temp\\images/val\\EMDS7-G018-021-0400.png\n",
      "Processed Image saved to: D:\\KULIAH\\SEMESTER 5\\RSBP\\Bacteri\\Detection-of-bacteria-in-water-using-Yolo-images\\Detect\\Detection-of-bacteria-in-water-using-Yolo-images\\temp\\images/val\\EMDS7-G023-007-0400.png\n",
      "Processed Image saved to: D:\\KULIAH\\SEMESTER 5\\RSBP\\Bacteri\\Detection-of-bacteria-in-water-using-Yolo-images\\Detect\\Detection-of-bacteria-in-water-using-Yolo-images\\temp\\images/val\\EMDS7-G033-001-0400.png\n",
      "Processed Image saved to: D:\\KULIAH\\SEMESTER 5\\RSBP\\Bacteri\\Detection-of-bacteria-in-water-using-Yolo-images\\Detect\\Detection-of-bacteria-in-water-using-Yolo-images\\temp\\images/val\\EMDS7-G004-014-0400.png\n",
      "Processed Image saved to: D:\\KULIAH\\SEMESTER 5\\RSBP\\Bacteri\\Detection-of-bacteria-in-water-using-Yolo-images\\Detect\\Detection-of-bacteria-in-water-using-Yolo-images\\temp\\images/val\\EMDS7-G037-011-0400.png\n",
      "Processed Image saved to: D:\\KULIAH\\SEMESTER 5\\RSBP\\Bacteri\\Detection-of-bacteria-in-water-using-Yolo-images\\Detect\\Detection-of-bacteria-in-water-using-Yolo-images\\temp\\images/val\\EMDS7-G003-142-0400.png\n",
      "Processed Image saved to: D:\\KULIAH\\SEMESTER 5\\RSBP\\Bacteri\\Detection-of-bacteria-in-water-using-Yolo-images\\Detect\\Detection-of-bacteria-in-water-using-Yolo-images\\temp\\images/val\\EMDS7-G004-072-0400.png\n",
      "Processed Image saved to: D:\\KULIAH\\SEMESTER 5\\RSBP\\Bacteri\\Detection-of-bacteria-in-water-using-Yolo-images\\Detect\\Detection-of-bacteria-in-water-using-Yolo-images\\temp\\images/val\\EMDS7-G031-017-0400.png\n",
      "Processed Image saved to: D:\\KULIAH\\SEMESTER 5\\RSBP\\Bacteri\\Detection-of-bacteria-in-water-using-Yolo-images\\Detect\\Detection-of-bacteria-in-water-using-Yolo-images\\temp\\images/val\\EMDS7-G020-005-0400.png\n",
      "Processed Image saved to: D:\\KULIAH\\SEMESTER 5\\RSBP\\Bacteri\\Detection-of-bacteria-in-water-using-Yolo-images\\Detect\\Detection-of-bacteria-in-water-using-Yolo-images\\temp\\images/val\\EMDS7-G036-070-0400.png\n",
      "Processed Image saved to: D:\\KULIAH\\SEMESTER 5\\RSBP\\Bacteri\\Detection-of-bacteria-in-water-using-Yolo-images\\Detect\\Detection-of-bacteria-in-water-using-Yolo-images\\temp\\images/val\\EMDS7-G005-028-0400.png\n",
      "Processed Image saved to: D:\\KULIAH\\SEMESTER 5\\RSBP\\Bacteri\\Detection-of-bacteria-in-water-using-Yolo-images\\Detect\\Detection-of-bacteria-in-water-using-Yolo-images\\temp\\images/val\\EMDS7-G014-074-0400.png\n",
      "Processed Image saved to: D:\\KULIAH\\SEMESTER 5\\RSBP\\Bacteri\\Detection-of-bacteria-in-water-using-Yolo-images\\Detect\\Detection-of-bacteria-in-water-using-Yolo-images\\temp\\images/val\\EMDS7-G009-011-0400.png\n",
      "Processed Image saved to: D:\\KULIAH\\SEMESTER 5\\RSBP\\Bacteri\\Detection-of-bacteria-in-water-using-Yolo-images\\Detect\\Detection-of-bacteria-in-water-using-Yolo-images\\temp\\images/val\\EMDS7-G038-007-0400.png\n",
      "Processed Image saved to: D:\\KULIAH\\SEMESTER 5\\RSBP\\Bacteri\\Detection-of-bacteria-in-water-using-Yolo-images\\Detect\\Detection-of-bacteria-in-water-using-Yolo-images\\temp\\images/val\\EMDS7-G017-026-0400.png\n",
      "Processed Image saved to: D:\\KULIAH\\SEMESTER 5\\RSBP\\Bacteri\\Detection-of-bacteria-in-water-using-Yolo-images\\Detect\\Detection-of-bacteria-in-water-using-Yolo-images\\temp\\images/val\\EMDS7-G005-029-0400.png\n",
      "Processed Image saved to: D:\\KULIAH\\SEMESTER 5\\RSBP\\Bacteri\\Detection-of-bacteria-in-water-using-Yolo-images\\Detect\\Detection-of-bacteria-in-water-using-Yolo-images\\temp\\images/val\\EMDS7-G038-009-0400.png\n",
      "Processed Image saved to: D:\\KULIAH\\SEMESTER 5\\RSBP\\Bacteri\\Detection-of-bacteria-in-water-using-Yolo-images\\Detect\\Detection-of-bacteria-in-water-using-Yolo-images\\temp\\images/val\\EMDS7-G003-211-0400.png\n",
      "Processed Image saved to: D:\\KULIAH\\SEMESTER 5\\RSBP\\Bacteri\\Detection-of-bacteria-in-water-using-Yolo-images\\Detect\\Detection-of-bacteria-in-water-using-Yolo-images\\temp\\images/val\\EMDS7-G029-014-0400.png\n",
      "Processed Image saved to: D:\\KULIAH\\SEMESTER 5\\RSBP\\Bacteri\\Detection-of-bacteria-in-water-using-Yolo-images\\Detect\\Detection-of-bacteria-in-water-using-Yolo-images\\temp\\images/val\\EMDS7-G012-040-0400.png\n",
      "Processed Image saved to: D:\\KULIAH\\SEMESTER 5\\RSBP\\Bacteri\\Detection-of-bacteria-in-water-using-Yolo-images\\Detect\\Detection-of-bacteria-in-water-using-Yolo-images\\temp\\images/val\\EMDS7-G022-058-0400.png\n",
      "Processed Image saved to: D:\\KULIAH\\SEMESTER 5\\RSBP\\Bacteri\\Detection-of-bacteria-in-water-using-Yolo-images\\Detect\\Detection-of-bacteria-in-water-using-Yolo-images\\temp\\images/val\\EMDS7-G003-201-0400.png\n",
      "Processed Image saved to: D:\\KULIAH\\SEMESTER 5\\RSBP\\Bacteri\\Detection-of-bacteria-in-water-using-Yolo-images\\Detect\\Detection-of-bacteria-in-water-using-Yolo-images\\temp\\images/val\\EMDS7-G036-008-0400.png\n",
      "Processed Image saved to: D:\\KULIAH\\SEMESTER 5\\RSBP\\Bacteri\\Detection-of-bacteria-in-water-using-Yolo-images\\Detect\\Detection-of-bacteria-in-water-using-Yolo-images\\temp\\images/val\\EMDS7-G028-036-0400.png\n",
      "Processed Image saved to: D:\\KULIAH\\SEMESTER 5\\RSBP\\Bacteri\\Detection-of-bacteria-in-water-using-Yolo-images\\Detect\\Detection-of-bacteria-in-water-using-Yolo-images\\temp\\images/val\\EMDS7-G008-029-0400.png\n",
      "Processed Image saved to: D:\\KULIAH\\SEMESTER 5\\RSBP\\Bacteri\\Detection-of-bacteria-in-water-using-Yolo-images\\Detect\\Detection-of-bacteria-in-water-using-Yolo-images\\temp\\images/val\\EMDS7-G003-257-0400.png\n",
      "Processed Image saved to: D:\\KULIAH\\SEMESTER 5\\RSBP\\Bacteri\\Detection-of-bacteria-in-water-using-Yolo-images\\Detect\\Detection-of-bacteria-in-water-using-Yolo-images\\temp\\images/val\\EMDS7-G022-101-0400.png\n",
      "Processed Image saved to: D:\\KULIAH\\SEMESTER 5\\RSBP\\Bacteri\\Detection-of-bacteria-in-water-using-Yolo-images\\Detect\\Detection-of-bacteria-in-water-using-Yolo-images\\temp\\images/val\\EMDS7-G040-016-0400.png\n",
      "Processed Image saved to: D:\\KULIAH\\SEMESTER 5\\RSBP\\Bacteri\\Detection-of-bacteria-in-water-using-Yolo-images\\Detect\\Detection-of-bacteria-in-water-using-Yolo-images\\temp\\images/val\\EMDS7-G025-077-0400.png\n",
      "Processed Image saved to: D:\\KULIAH\\SEMESTER 5\\RSBP\\Bacteri\\Detection-of-bacteria-in-water-using-Yolo-images\\Detect\\Detection-of-bacteria-in-water-using-Yolo-images\\temp\\images/val\\EMDS7-G025-057-0400.png\n",
      "Processed Image saved to: D:\\KULIAH\\SEMESTER 5\\RSBP\\Bacteri\\Detection-of-bacteria-in-water-using-Yolo-images\\Detect\\Detection-of-bacteria-in-water-using-Yolo-images\\temp\\images/val\\EMDS7-G039-021-0400.png\n",
      "Processed Image saved to: D:\\KULIAH\\SEMESTER 5\\RSBP\\Bacteri\\Detection-of-bacteria-in-water-using-Yolo-images\\Detect\\Detection-of-bacteria-in-water-using-Yolo-images\\temp\\images/val\\EMDS7-G003-114-0400.png\n",
      "Processed Image saved to: D:\\KULIAH\\SEMESTER 5\\RSBP\\Bacteri\\Detection-of-bacteria-in-water-using-Yolo-images\\Detect\\Detection-of-bacteria-in-water-using-Yolo-images\\temp\\images/val\\EMDS7-G003-261-0400.png\n",
      "Processed Image saved to: D:\\KULIAH\\SEMESTER 5\\RSBP\\Bacteri\\Detection-of-bacteria-in-water-using-Yolo-images\\Detect\\Detection-of-bacteria-in-water-using-Yolo-images\\temp\\images/val\\EMDS7-G022-254-0400.png\n",
      "Processed Image saved to: D:\\KULIAH\\SEMESTER 5\\RSBP\\Bacteri\\Detection-of-bacteria-in-water-using-Yolo-images\\Detect\\Detection-of-bacteria-in-water-using-Yolo-images\\temp\\images/val\\EMDS7-G029-008-0400.png\n",
      "Processed Image saved to: D:\\KULIAH\\SEMESTER 5\\RSBP\\Bacteri\\Detection-of-bacteria-in-water-using-Yolo-images\\Detect\\Detection-of-bacteria-in-water-using-Yolo-images\\temp\\images/val\\EMDS7-G025-038-0400.png\n",
      "Skipping image EMDS7-G011-058-0400.png due to no valid classes.\n",
      "Processed Image saved to: D:\\KULIAH\\SEMESTER 5\\RSBP\\Bacteri\\Detection-of-bacteria-in-water-using-Yolo-images\\Detect\\Detection-of-bacteria-in-water-using-Yolo-images\\temp\\images/val\\EMDS7-G019-007-0400.png\n",
      "Processed Image saved to: D:\\KULIAH\\SEMESTER 5\\RSBP\\Bacteri\\Detection-of-bacteria-in-water-using-Yolo-images\\Detect\\Detection-of-bacteria-in-water-using-Yolo-images\\temp\\images/val\\EMDS7-G029-006-0400.png\n",
      "Processed Image saved to: D:\\KULIAH\\SEMESTER 5\\RSBP\\Bacteri\\Detection-of-bacteria-in-water-using-Yolo-images\\Detect\\Detection-of-bacteria-in-water-using-Yolo-images\\temp\\images/val\\EMDS7-G022-228-0400.png\n",
      "Processed Image saved to: D:\\KULIAH\\SEMESTER 5\\RSBP\\Bacteri\\Detection-of-bacteria-in-water-using-Yolo-images\\Detect\\Detection-of-bacteria-in-water-using-Yolo-images\\temp\\images/val\\EMDS7-G032-039-0400.png\n",
      "Processed Image saved to: D:\\KULIAH\\SEMESTER 5\\RSBP\\Bacteri\\Detection-of-bacteria-in-water-using-Yolo-images\\Detect\\Detection-of-bacteria-in-water-using-Yolo-images\\temp\\images/val\\EMDS7-G022-162-0400.png\n",
      "Processed Image saved to: D:\\KULIAH\\SEMESTER 5\\RSBP\\Bacteri\\Detection-of-bacteria-in-water-using-Yolo-images\\Detect\\Detection-of-bacteria-in-water-using-Yolo-images\\temp\\images/val\\EMDS7-G001-038-0400.png\n",
      "Processed Image saved to: D:\\KULIAH\\SEMESTER 5\\RSBP\\Bacteri\\Detection-of-bacteria-in-water-using-Yolo-images\\Detect\\Detection-of-bacteria-in-water-using-Yolo-images\\temp\\images/val\\EMDS7-G030-048-0400.png\n",
      "Processed Image saved to: D:\\KULIAH\\SEMESTER 5\\RSBP\\Bacteri\\Detection-of-bacteria-in-water-using-Yolo-images\\Detect\\Detection-of-bacteria-in-water-using-Yolo-images\\temp\\images/val\\EMDS7-G030-007-0400.png\n",
      "Processed Image saved to: D:\\KULIAH\\SEMESTER 5\\RSBP\\Bacteri\\Detection-of-bacteria-in-water-using-Yolo-images\\Detect\\Detection-of-bacteria-in-water-using-Yolo-images\\temp\\images/val\\EMDS7-G011-041-0400.png\n",
      "Processed Image saved to: D:\\KULIAH\\SEMESTER 5\\RSBP\\Bacteri\\Detection-of-bacteria-in-water-using-Yolo-images\\Detect\\Detection-of-bacteria-in-water-using-Yolo-images\\temp\\images/val\\EMDS7-G039-080-0400.png\n",
      "Processed Image saved to: D:\\KULIAH\\SEMESTER 5\\RSBP\\Bacteri\\Detection-of-bacteria-in-water-using-Yolo-images\\Detect\\Detection-of-bacteria-in-water-using-Yolo-images\\temp\\images/val\\EMDS7-G017-032-0400.png\n",
      "Processed Image saved to: D:\\KULIAH\\SEMESTER 5\\RSBP\\Bacteri\\Detection-of-bacteria-in-water-using-Yolo-images\\Detect\\Detection-of-bacteria-in-water-using-Yolo-images\\temp\\images/val\\EMDS7-G038-029-0400.png\n",
      "Processed Image saved to: D:\\KULIAH\\SEMESTER 5\\RSBP\\Bacteri\\Detection-of-bacteria-in-water-using-Yolo-images\\Detect\\Detection-of-bacteria-in-water-using-Yolo-images\\temp\\images/val\\EMDS7-G003-182-0400.png\n",
      "Processed Image saved to: D:\\KULIAH\\SEMESTER 5\\RSBP\\Bacteri\\Detection-of-bacteria-in-water-using-Yolo-images\\Detect\\Detection-of-bacteria-in-water-using-Yolo-images\\temp\\images/val\\EMDS7-G022-251-0400.png\n",
      "Processed Image saved to: D:\\KULIAH\\SEMESTER 5\\RSBP\\Bacteri\\Detection-of-bacteria-in-water-using-Yolo-images\\Detect\\Detection-of-bacteria-in-water-using-Yolo-images\\temp\\images/val\\EMDS7-G014-064-0400.png\n",
      "Processed Image saved to: D:\\KULIAH\\SEMESTER 5\\RSBP\\Bacteri\\Detection-of-bacteria-in-water-using-Yolo-images\\Detect\\Detection-of-bacteria-in-water-using-Yolo-images\\temp\\images/val\\EMDS7-G036-077-0400.png\n",
      "Processed Image saved to: D:\\KULIAH\\SEMESTER 5\\RSBP\\Bacteri\\Detection-of-bacteria-in-water-using-Yolo-images\\Detect\\Detection-of-bacteria-in-water-using-Yolo-images\\temp\\images/val\\EMDS7-G003-305-0400.png\n",
      "Processed Image saved to: D:\\KULIAH\\SEMESTER 5\\RSBP\\Bacteri\\Detection-of-bacteria-in-water-using-Yolo-images\\Detect\\Detection-of-bacteria-in-water-using-Yolo-images\\temp\\images/val\\EMDS7-G018-085-0400.png\n",
      "Processed Image saved to: D:\\KULIAH\\SEMESTER 5\\RSBP\\Bacteri\\Detection-of-bacteria-in-water-using-Yolo-images\\Detect\\Detection-of-bacteria-in-water-using-Yolo-images\\temp\\images/val\\EMDS7-G014-082-0400.png\n",
      "Processed Image saved to: D:\\KULIAH\\SEMESTER 5\\RSBP\\Bacteri\\Detection-of-bacteria-in-water-using-Yolo-images\\Detect\\Detection-of-bacteria-in-water-using-Yolo-images\\temp\\images/val\\EMDS7-G036-016-0400.png\n",
      "Processed Image saved to: D:\\KULIAH\\SEMESTER 5\\RSBP\\Bacteri\\Detection-of-bacteria-in-water-using-Yolo-images\\Detect\\Detection-of-bacteria-in-water-using-Yolo-images\\temp\\images/val\\EMDS7-G022-053-0400.png\n",
      "Processed Image saved to: D:\\KULIAH\\SEMESTER 5\\RSBP\\Bacteri\\Detection-of-bacteria-in-water-using-Yolo-images\\Detect\\Detection-of-bacteria-in-water-using-Yolo-images\\temp\\images/val\\EMDS7-G003-121-0400.png\n",
      "Processed Image saved to: D:\\KULIAH\\SEMESTER 5\\RSBP\\Bacteri\\Detection-of-bacteria-in-water-using-Yolo-images\\Detect\\Detection-of-bacteria-in-water-using-Yolo-images\\temp\\images/val\\EMDS7-G012-089-0400.png\n",
      "Processed Image saved to: D:\\KULIAH\\SEMESTER 5\\RSBP\\Bacteri\\Detection-of-bacteria-in-water-using-Yolo-images\\Detect\\Detection-of-bacteria-in-water-using-Yolo-images\\temp\\images/val\\EMDS7-G022-102-0400.png\n",
      "Processed Image saved to: D:\\KULIAH\\SEMESTER 5\\RSBP\\Bacteri\\Detection-of-bacteria-in-water-using-Yolo-images\\Detect\\Detection-of-bacteria-in-water-using-Yolo-images\\temp\\images/val\\EMDS7-G009-006-0400.png\n",
      "Processed Image saved to: D:\\KULIAH\\SEMESTER 5\\RSBP\\Bacteri\\Detection-of-bacteria-in-water-using-Yolo-images\\Detect\\Detection-of-bacteria-in-water-using-Yolo-images\\temp\\images/val\\EMDS7-G032-062-0400.png\n",
      "Processed Image saved to: D:\\KULIAH\\SEMESTER 5\\RSBP\\Bacteri\\Detection-of-bacteria-in-water-using-Yolo-images\\Detect\\Detection-of-bacteria-in-water-using-Yolo-images\\temp\\images/val\\EMDS7-G032-002-0400.png\n",
      "Processed Image saved to: D:\\KULIAH\\SEMESTER 5\\RSBP\\Bacteri\\Detection-of-bacteria-in-water-using-Yolo-images\\Detect\\Detection-of-bacteria-in-water-using-Yolo-images\\temp\\images/val\\EMDS7-G009-002-0400.png\n",
      "Processed Image saved to: D:\\KULIAH\\SEMESTER 5\\RSBP\\Bacteri\\Detection-of-bacteria-in-water-using-Yolo-images\\Detect\\Detection-of-bacteria-in-water-using-Yolo-images\\temp\\images/val\\EMDS7-G022-023-0400.png\n",
      "Processed Image saved to: D:\\KULIAH\\SEMESTER 5\\RSBP\\Bacteri\\Detection-of-bacteria-in-water-using-Yolo-images\\Detect\\Detection-of-bacteria-in-water-using-Yolo-images\\temp\\images/val\\EMDS7-G014-010-0400.png\n",
      "Processed Image saved to: D:\\KULIAH\\SEMESTER 5\\RSBP\\Bacteri\\Detection-of-bacteria-in-water-using-Yolo-images\\Detect\\Detection-of-bacteria-in-water-using-Yolo-images\\temp\\images/val\\EMDS7-G005-027-0400.png\n",
      "Processed Image saved to: D:\\KULIAH\\SEMESTER 5\\RSBP\\Bacteri\\Detection-of-bacteria-in-water-using-Yolo-images\\Detect\\Detection-of-bacteria-in-water-using-Yolo-images\\temp\\images/val\\EMDS7-G012-104-0400.png\n",
      "Processed Image saved to: D:\\KULIAH\\SEMESTER 5\\RSBP\\Bacteri\\Detection-of-bacteria-in-water-using-Yolo-images\\Detect\\Detection-of-bacteria-in-water-using-Yolo-images\\temp\\images/val\\EMDS7-G032-055-0400.png\n",
      "Processed Image saved to: D:\\KULIAH\\SEMESTER 5\\RSBP\\Bacteri\\Detection-of-bacteria-in-water-using-Yolo-images\\Detect\\Detection-of-bacteria-in-water-using-Yolo-images\\temp\\images/val\\EMDS7-G011-011-0400.png\n",
      "Processed Image saved to: D:\\KULIAH\\SEMESTER 5\\RSBP\\Bacteri\\Detection-of-bacteria-in-water-using-Yolo-images\\Detect\\Detection-of-bacteria-in-water-using-Yolo-images\\temp\\images/val\\EMDS7-G009-052-0400.png\n",
      "Processed Image saved to: D:\\KULIAH\\SEMESTER 5\\RSBP\\Bacteri\\Detection-of-bacteria-in-water-using-Yolo-images\\Detect\\Detection-of-bacteria-in-water-using-Yolo-images\\temp\\images/val\\EMDS7-G003-120-0400.png\n",
      "Processed Image saved to: D:\\KULIAH\\SEMESTER 5\\RSBP\\Bacteri\\Detection-of-bacteria-in-water-using-Yolo-images\\Detect\\Detection-of-bacteria-in-water-using-Yolo-images\\temp\\images/val\\EMDS7-G035-057-0400.png\n",
      "Processed Image saved to: D:\\KULIAH\\SEMESTER 5\\RSBP\\Bacteri\\Detection-of-bacteria-in-water-using-Yolo-images\\Detect\\Detection-of-bacteria-in-water-using-Yolo-images\\temp\\images/val\\EMDS7-G025-075-0400.png\n",
      "Processed Image saved to: D:\\KULIAH\\SEMESTER 5\\RSBP\\Bacteri\\Detection-of-bacteria-in-water-using-Yolo-images\\Detect\\Detection-of-bacteria-in-water-using-Yolo-images\\temp\\images/val\\EMDS7-G001-027-0400.png\n",
      "Processed Image saved to: D:\\KULIAH\\SEMESTER 5\\RSBP\\Bacteri\\Detection-of-bacteria-in-water-using-Yolo-images\\Detect\\Detection-of-bacteria-in-water-using-Yolo-images\\temp\\images/val\\EMDS7-G014-080-0400.png\n",
      "Processed Image saved to: D:\\KULIAH\\SEMESTER 5\\RSBP\\Bacteri\\Detection-of-bacteria-in-water-using-Yolo-images\\Detect\\Detection-of-bacteria-in-water-using-Yolo-images\\temp\\images/val\\EMDS7-G022-169-0400.png\n",
      "Processed Image saved to: D:\\KULIAH\\SEMESTER 5\\RSBP\\Bacteri\\Detection-of-bacteria-in-water-using-Yolo-images\\Detect\\Detection-of-bacteria-in-water-using-Yolo-images\\temp\\images/val\\EMDS7-G032-050-0400.png\n",
      "Processed Image saved to: D:\\KULIAH\\SEMESTER 5\\RSBP\\Bacteri\\Detection-of-bacteria-in-water-using-Yolo-images\\Detect\\Detection-of-bacteria-in-water-using-Yolo-images\\temp\\images/val\\EMDS7-G003-081-0400.png\n",
      "Processed Image saved to: D:\\KULIAH\\SEMESTER 5\\RSBP\\Bacteri\\Detection-of-bacteria-in-water-using-Yolo-images\\Detect\\Detection-of-bacteria-in-water-using-Yolo-images\\temp\\images/val\\EMDS7-G017-016-0400.png\n",
      "Processed Image saved to: D:\\KULIAH\\SEMESTER 5\\RSBP\\Bacteri\\Detection-of-bacteria-in-water-using-Yolo-images\\Detect\\Detection-of-bacteria-in-water-using-Yolo-images\\temp\\images/val\\EMDS7-G009-031-0400.png\n",
      "Processed Image saved to: D:\\KULIAH\\SEMESTER 5\\RSBP\\Bacteri\\Detection-of-bacteria-in-water-using-Yolo-images\\Detect\\Detection-of-bacteria-in-water-using-Yolo-images\\temp\\images/val\\EMDS7-G018-059-0400.png\n",
      "Processed Image saved to: D:\\KULIAH\\SEMESTER 5\\RSBP\\Bacteri\\Detection-of-bacteria-in-water-using-Yolo-images\\Detect\\Detection-of-bacteria-in-water-using-Yolo-images\\temp\\images/val\\EMDS7-G007-009-0400.png\n",
      "Processed Image saved to: D:\\KULIAH\\SEMESTER 5\\RSBP\\Bacteri\\Detection-of-bacteria-in-water-using-Yolo-images\\Detect\\Detection-of-bacteria-in-water-using-Yolo-images\\temp\\images/val\\EMDS7-G028-009-0400.png\n",
      "Processed Image saved to: D:\\KULIAH\\SEMESTER 5\\RSBP\\Bacteri\\Detection-of-bacteria-in-water-using-Yolo-images\\Detect\\Detection-of-bacteria-in-water-using-Yolo-images\\temp\\images/val\\EMDS7-G029-017-0400.png\n",
      "Processed Image saved to: D:\\KULIAH\\SEMESTER 5\\RSBP\\Bacteri\\Detection-of-bacteria-in-water-using-Yolo-images\\Detect\\Detection-of-bacteria-in-water-using-Yolo-images\\temp\\images/val\\EMDS7-G032-042-0400.png\n",
      "Processed Image saved to: D:\\KULIAH\\SEMESTER 5\\RSBP\\Bacteri\\Detection-of-bacteria-in-water-using-Yolo-images\\Detect\\Detection-of-bacteria-in-water-using-Yolo-images\\temp\\images/val\\EMDS7-G012-096-0400.png\n",
      "Processed Image saved to: D:\\KULIAH\\SEMESTER 5\\RSBP\\Bacteri\\Detection-of-bacteria-in-water-using-Yolo-images\\Detect\\Detection-of-bacteria-in-water-using-Yolo-images\\temp\\images/val\\EMDS7-G028-070-0400.png\n",
      "Processed Image saved to: D:\\KULIAH\\SEMESTER 5\\RSBP\\Bacteri\\Detection-of-bacteria-in-water-using-Yolo-images\\Detect\\Detection-of-bacteria-in-water-using-Yolo-images\\temp\\images/val\\EMDS7-G014-012-0400.png\n",
      "Processed Image saved to: D:\\KULIAH\\SEMESTER 5\\RSBP\\Bacteri\\Detection-of-bacteria-in-water-using-Yolo-images\\Detect\\Detection-of-bacteria-in-water-using-Yolo-images\\temp\\images/val\\EMDS7-G039-053-0400.png\n",
      "Processed Image saved to: D:\\KULIAH\\SEMESTER 5\\RSBP\\Bacteri\\Detection-of-bacteria-in-water-using-Yolo-images\\Detect\\Detection-of-bacteria-in-water-using-Yolo-images\\temp\\images/val\\EMDS7-G033-013-0400.png\n",
      "Processed Image saved to: D:\\KULIAH\\SEMESTER 5\\RSBP\\Bacteri\\Detection-of-bacteria-in-water-using-Yolo-images\\Detect\\Detection-of-bacteria-in-water-using-Yolo-images\\temp\\images/val\\EMDS7-G003-057-0400.png\n",
      "Processed Image saved to: D:\\KULIAH\\SEMESTER 5\\RSBP\\Bacteri\\Detection-of-bacteria-in-water-using-Yolo-images\\Detect\\Detection-of-bacteria-in-water-using-Yolo-images\\temp\\images/val\\EMDS7-G009-070-0400.png\n",
      "Processed Image saved to: D:\\KULIAH\\SEMESTER 5\\RSBP\\Bacteri\\Detection-of-bacteria-in-water-using-Yolo-images\\Detect\\Detection-of-bacteria-in-water-using-Yolo-images\\temp\\images/val\\EMDS7-G023-033-0400.png\n",
      "Processed Image saved to: D:\\KULIAH\\SEMESTER 5\\RSBP\\Bacteri\\Detection-of-bacteria-in-water-using-Yolo-images\\Detect\\Detection-of-bacteria-in-water-using-Yolo-images\\temp\\images/val\\EMDS7-G028-038-0400.png\n",
      "Processed Image saved to: D:\\KULIAH\\SEMESTER 5\\RSBP\\Bacteri\\Detection-of-bacteria-in-water-using-Yolo-images\\Detect\\Detection-of-bacteria-in-water-using-Yolo-images\\temp\\images/val\\EMDS7-G024-022-0400.png\n",
      "Processed Image saved to: D:\\KULIAH\\SEMESTER 5\\RSBP\\Bacteri\\Detection-of-bacteria-in-water-using-Yolo-images\\Detect\\Detection-of-bacteria-in-water-using-Yolo-images\\temp\\images/val\\EMDS7-G014-055-0400.png\n",
      "Processed Image saved to: D:\\KULIAH\\SEMESTER 5\\RSBP\\Bacteri\\Detection-of-bacteria-in-water-using-Yolo-images\\Detect\\Detection-of-bacteria-in-water-using-Yolo-images\\temp\\images/val\\EMDS7-G040-021-0400.png\n",
      "Processed Image saved to: D:\\KULIAH\\SEMESTER 5\\RSBP\\Bacteri\\Detection-of-bacteria-in-water-using-Yolo-images\\Detect\\Detection-of-bacteria-in-water-using-Yolo-images\\temp\\images/val\\EMDS7-G023-051-0400.png\n",
      "Processed Image saved to: D:\\KULIAH\\SEMESTER 5\\RSBP\\Bacteri\\Detection-of-bacteria-in-water-using-Yolo-images\\Detect\\Detection-of-bacteria-in-water-using-Yolo-images\\temp\\images/val\\EMDS7-G017-073-0400.png\n",
      "Processed Image saved to: D:\\KULIAH\\SEMESTER 5\\RSBP\\Bacteri\\Detection-of-bacteria-in-water-using-Yolo-images\\Detect\\Detection-of-bacteria-in-water-using-Yolo-images\\temp\\images/val\\EMDS7-G028-050-0400.png\n",
      "Processed Image saved to: D:\\KULIAH\\SEMESTER 5\\RSBP\\Bacteri\\Detection-of-bacteria-in-water-using-Yolo-images\\Detect\\Detection-of-bacteria-in-water-using-Yolo-images\\temp\\images/val\\EMDS7-G022-165-0400.png\n",
      "Processed Image saved to: D:\\KULIAH\\SEMESTER 5\\RSBP\\Bacteri\\Detection-of-bacteria-in-water-using-Yolo-images\\Detect\\Detection-of-bacteria-in-water-using-Yolo-images\\temp\\images/val\\EMDS7-G030-040-0400.png\n",
      "Processed Image saved to: D:\\KULIAH\\SEMESTER 5\\RSBP\\Bacteri\\Detection-of-bacteria-in-water-using-Yolo-images\\Detect\\Detection-of-bacteria-in-water-using-Yolo-images\\temp\\images/val\\EMDS7-G031-014-0400.png\n",
      "Processed Image saved to: D:\\KULIAH\\SEMESTER 5\\RSBP\\Bacteri\\Detection-of-bacteria-in-water-using-Yolo-images\\Detect\\Detection-of-bacteria-in-water-using-Yolo-images\\temp\\images/val\\EMDS7-G009-074-0400.png\n",
      "Processed Image saved to: D:\\KULIAH\\SEMESTER 5\\RSBP\\Bacteri\\Detection-of-bacteria-in-water-using-Yolo-images\\Detect\\Detection-of-bacteria-in-water-using-Yolo-images\\temp\\images/val\\EMDS7-G025-053-0400.png\n",
      "Processed Image saved to: D:\\KULIAH\\SEMESTER 5\\RSBP\\Bacteri\\Detection-of-bacteria-in-water-using-Yolo-images\\Detect\\Detection-of-bacteria-in-water-using-Yolo-images\\temp\\images/val\\EMDS7-G034-007-0400.png\n",
      "Processed Image saved to: D:\\KULIAH\\SEMESTER 5\\RSBP\\Bacteri\\Detection-of-bacteria-in-water-using-Yolo-images\\Detect\\Detection-of-bacteria-in-water-using-Yolo-images\\temp\\images/val\\EMDS7-G005-035-0400.png\n",
      "Processed Image saved to: D:\\KULIAH\\SEMESTER 5\\RSBP\\Bacteri\\Detection-of-bacteria-in-water-using-Yolo-images\\Detect\\Detection-of-bacteria-in-water-using-Yolo-images\\temp\\images/val\\EMDS7-G003-070-0400.png\n",
      "Processed Image saved to: D:\\KULIAH\\SEMESTER 5\\RSBP\\Bacteri\\Detection-of-bacteria-in-water-using-Yolo-images\\Detect\\Detection-of-bacteria-in-water-using-Yolo-images\\temp\\images/val\\EMDS7-G035-058-0400.png\n",
      "Processed Image saved to: D:\\KULIAH\\SEMESTER 5\\RSBP\\Bacteri\\Detection-of-bacteria-in-water-using-Yolo-images\\Detect\\Detection-of-bacteria-in-water-using-Yolo-images\\temp\\images/val\\EMDS7-G009-017-0400.png\n",
      "Processed Image saved to: D:\\KULIAH\\SEMESTER 5\\RSBP\\Bacteri\\Detection-of-bacteria-in-water-using-Yolo-images\\Detect\\Detection-of-bacteria-in-water-using-Yolo-images\\temp\\images/val\\EMDS7-G032-032-0400.png\n",
      "Processed Image saved to: D:\\KULIAH\\SEMESTER 5\\RSBP\\Bacteri\\Detection-of-bacteria-in-water-using-Yolo-images\\Detect\\Detection-of-bacteria-in-water-using-Yolo-images\\temp\\images/val\\EMDS7-G039-074-0400.png\n",
      "Processed Image saved to: D:\\KULIAH\\SEMESTER 5\\RSBP\\Bacteri\\Detection-of-bacteria-in-water-using-Yolo-images\\Detect\\Detection-of-bacteria-in-water-using-Yolo-images\\temp\\images/val\\EMDS7-G001-009-0400.png\n",
      "Processed Image saved to: D:\\KULIAH\\SEMESTER 5\\RSBP\\Bacteri\\Detection-of-bacteria-in-water-using-Yolo-images\\Detect\\Detection-of-bacteria-in-water-using-Yolo-images\\temp\\images/val\\EMDS7-G017-012-0400.png\n",
      "Processed Image saved to: D:\\KULIAH\\SEMESTER 5\\RSBP\\Bacteri\\Detection-of-bacteria-in-water-using-Yolo-images\\Detect\\Detection-of-bacteria-in-water-using-Yolo-images\\temp\\images/val\\EMDS7-G039-018-0400.png\n",
      "Skipping image EMDS7-G022-260-0400.png due to no valid classes.\n",
      "Processed Image saved to: D:\\KULIAH\\SEMESTER 5\\RSBP\\Bacteri\\Detection-of-bacteria-in-water-using-Yolo-images\\Detect\\Detection-of-bacteria-in-water-using-Yolo-images\\temp\\images/val\\EMDS7-G025-013-0400.png\n",
      "Processed Image saved to: D:\\KULIAH\\SEMESTER 5\\RSBP\\Bacteri\\Detection-of-bacteria-in-water-using-Yolo-images\\Detect\\Detection-of-bacteria-in-water-using-Yolo-images\\temp\\images/val\\EMDS7-G025-065-0400.png\n",
      "Processed Image saved to: D:\\KULIAH\\SEMESTER 5\\RSBP\\Bacteri\\Detection-of-bacteria-in-water-using-Yolo-images\\Detect\\Detection-of-bacteria-in-water-using-Yolo-images\\temp\\images/val\\EMDS7-G022-066-0400.png\n",
      "Processed Image saved to: D:\\KULIAH\\SEMESTER 5\\RSBP\\Bacteri\\Detection-of-bacteria-in-water-using-Yolo-images\\Detect\\Detection-of-bacteria-in-water-using-Yolo-images\\temp\\images/val\\EMDS7-G005-026-0400.png\n",
      "Processed Image saved to: D:\\KULIAH\\SEMESTER 5\\RSBP\\Bacteri\\Detection-of-bacteria-in-water-using-Yolo-images\\Detect\\Detection-of-bacteria-in-water-using-Yolo-images\\temp\\images/val\\EMDS7-G028-042-0400.png\n",
      "Processed Image saved to: D:\\KULIAH\\SEMESTER 5\\RSBP\\Bacteri\\Detection-of-bacteria-in-water-using-Yolo-images\\Detect\\Detection-of-bacteria-in-water-using-Yolo-images\\temp\\images/val\\EMDS7-G025-054-0400.png\n",
      "Processed Image saved to: D:\\KULIAH\\SEMESTER 5\\RSBP\\Bacteri\\Detection-of-bacteria-in-water-using-Yolo-images\\Detect\\Detection-of-bacteria-in-water-using-Yolo-images\\temp\\images/val\\EMDS7-G037-002-0400.png\n",
      "Processed Image saved to: D:\\KULIAH\\SEMESTER 5\\RSBP\\Bacteri\\Detection-of-bacteria-in-water-using-Yolo-images\\Detect\\Detection-of-bacteria-in-water-using-Yolo-images\\temp\\images/val\\EMDS7-G022-247-0400.png\n",
      "Processed Image saved to: D:\\KULIAH\\SEMESTER 5\\RSBP\\Bacteri\\Detection-of-bacteria-in-water-using-Yolo-images\\Detect\\Detection-of-bacteria-in-water-using-Yolo-images\\temp\\images/val\\EMDS7-G022-081-0400.png\n",
      "Processed Image saved to: D:\\KULIAH\\SEMESTER 5\\RSBP\\Bacteri\\Detection-of-bacteria-in-water-using-Yolo-images\\Detect\\Detection-of-bacteria-in-water-using-Yolo-images\\temp\\images/val\\EMDS7-G003-222-0400.png\n",
      "Processed Image saved to: D:\\KULIAH\\SEMESTER 5\\RSBP\\Bacteri\\Detection-of-bacteria-in-water-using-Yolo-images\\Detect\\Detection-of-bacteria-in-water-using-Yolo-images\\temp\\images/val\\EMDS7-G003-049-0400.png\n",
      "Processed Image saved to: D:\\KULIAH\\SEMESTER 5\\RSBP\\Bacteri\\Detection-of-bacteria-in-water-using-Yolo-images\\Detect\\Detection-of-bacteria-in-water-using-Yolo-images\\temp\\images/val\\EMDS7-G003-033-0400.png\n",
      "Processed Image saved to: D:\\KULIAH\\SEMESTER 5\\RSBP\\Bacteri\\Detection-of-bacteria-in-water-using-Yolo-images\\Detect\\Detection-of-bacteria-in-water-using-Yolo-images\\temp\\images/val\\EMDS7-G040-005-0400.png\n",
      "Processed Image saved to: D:\\KULIAH\\SEMESTER 5\\RSBP\\Bacteri\\Detection-of-bacteria-in-water-using-Yolo-images\\Detect\\Detection-of-bacteria-in-water-using-Yolo-images\\temp\\images/val\\EMDS7-G033-003-0400.png\n",
      "Processed Image saved to: D:\\KULIAH\\SEMESTER 5\\RSBP\\Bacteri\\Detection-of-bacteria-in-water-using-Yolo-images\\Detect\\Detection-of-bacteria-in-water-using-Yolo-images\\temp\\images/val\\EMDS7-G022-229-0400.png\n",
      "Processed Image saved to: D:\\KULIAH\\SEMESTER 5\\RSBP\\Bacteri\\Detection-of-bacteria-in-water-using-Yolo-images\\Detect\\Detection-of-bacteria-in-water-using-Yolo-images\\temp\\images/val\\EMDS7-G017-068-0400.png\n",
      "Processed Image saved to: D:\\KULIAH\\SEMESTER 5\\RSBP\\Bacteri\\Detection-of-bacteria-in-water-using-Yolo-images\\Detect\\Detection-of-bacteria-in-water-using-Yolo-images\\temp\\images/val\\EMDS7-G003-155-0400.png\n",
      "Processed Image saved to: D:\\KULIAH\\SEMESTER 5\\RSBP\\Bacteri\\Detection-of-bacteria-in-water-using-Yolo-images\\Detect\\Detection-of-bacteria-in-water-using-Yolo-images\\temp\\images/val\\EMDS7-G018-034-0400.png\n",
      "Processed Image saved to: D:\\KULIAH\\SEMESTER 5\\RSBP\\Bacteri\\Detection-of-bacteria-in-water-using-Yolo-images\\Detect\\Detection-of-bacteria-in-water-using-Yolo-images\\temp\\images/val\\EMDS7-G039-050-0400.png\n",
      "Processed Image saved to: D:\\KULIAH\\SEMESTER 5\\RSBP\\Bacteri\\Detection-of-bacteria-in-water-using-Yolo-images\\Detect\\Detection-of-bacteria-in-water-using-Yolo-images\\temp\\images/val\\EMDS7-G022-250-0400.png\n",
      "Processed Image saved to: D:\\KULIAH\\SEMESTER 5\\RSBP\\Bacteri\\Detection-of-bacteria-in-water-using-Yolo-images\\Detect\\Detection-of-bacteria-in-water-using-Yolo-images\\temp\\images/val\\EMDS7-G022-225-0400.png\n",
      "Processed Image saved to: D:\\KULIAH\\SEMESTER 5\\RSBP\\Bacteri\\Detection-of-bacteria-in-water-using-Yolo-images\\Detect\\Detection-of-bacteria-in-water-using-Yolo-images\\temp\\images/val\\EMDS7-G014-087-0400.png\n",
      "Processed Image saved to: D:\\KULIAH\\SEMESTER 5\\RSBP\\Bacteri\\Detection-of-bacteria-in-water-using-Yolo-images\\Detect\\Detection-of-bacteria-in-water-using-Yolo-images\\temp\\images/val\\EMDS7-G023-028-0400.png\n",
      "Processed Image saved to: D:\\KULIAH\\SEMESTER 5\\RSBP\\Bacteri\\Detection-of-bacteria-in-water-using-Yolo-images\\Detect\\Detection-of-bacteria-in-water-using-Yolo-images\\temp\\images/val\\EMDS7-G012-102-0400.png\n",
      "Processed Image saved to: D:\\KULIAH\\SEMESTER 5\\RSBP\\Bacteri\\Detection-of-bacteria-in-water-using-Yolo-images\\Detect\\Detection-of-bacteria-in-water-using-Yolo-images\\temp\\images/val\\EMDS7-G012-076-0400.png\n",
      "Processed Image saved to: D:\\KULIAH\\SEMESTER 5\\RSBP\\Bacteri\\Detection-of-bacteria-in-water-using-Yolo-images\\Detect\\Detection-of-bacteria-in-water-using-Yolo-images\\temp\\images/val\\EMDS7-G003-193-0400.png\n",
      "Processed Image saved to: D:\\KULIAH\\SEMESTER 5\\RSBP\\Bacteri\\Detection-of-bacteria-in-water-using-Yolo-images\\Detect\\Detection-of-bacteria-in-water-using-Yolo-images\\temp\\images/val\\EMDS7-G003-244-0400.png\n",
      "Processed Image saved to: D:\\KULIAH\\SEMESTER 5\\RSBP\\Bacteri\\Detection-of-bacteria-in-water-using-Yolo-images\\Detect\\Detection-of-bacteria-in-water-using-Yolo-images\\temp\\images/val\\EMDS7-G022-068-0400.png\n",
      "Processed Image saved to: D:\\KULIAH\\SEMESTER 5\\RSBP\\Bacteri\\Detection-of-bacteria-in-water-using-Yolo-images\\Detect\\Detection-of-bacteria-in-water-using-Yolo-images\\temp\\images/val\\EMDS7-G019-024-0400.png\n",
      "Processed Image saved to: D:\\KULIAH\\SEMESTER 5\\RSBP\\Bacteri\\Detection-of-bacteria-in-water-using-Yolo-images\\Detect\\Detection-of-bacteria-in-water-using-Yolo-images\\temp\\images/val\\EMDS7-G012-023-0400.png\n",
      "Processed Image saved to: D:\\KULIAH\\SEMESTER 5\\RSBP\\Bacteri\\Detection-of-bacteria-in-water-using-Yolo-images\\Detect\\Detection-of-bacteria-in-water-using-Yolo-images\\temp\\images/val\\EMDS7-G019-049-0400.png\n",
      "Processed Image saved to: D:\\KULIAH\\SEMESTER 5\\RSBP\\Bacteri\\Detection-of-bacteria-in-water-using-Yolo-images\\Detect\\Detection-of-bacteria-in-water-using-Yolo-images\\temp\\images/val\\EMDS7-G012-001-0400.png\n",
      "Processed Image saved to: D:\\KULIAH\\SEMESTER 5\\RSBP\\Bacteri\\Detection-of-bacteria-in-water-using-Yolo-images\\Detect\\Detection-of-bacteria-in-water-using-Yolo-images\\temp\\images/val\\EMDS7-G017-021-0400.png\n",
      "Processed Image saved to: D:\\KULIAH\\SEMESTER 5\\RSBP\\Bacteri\\Detection-of-bacteria-in-water-using-Yolo-images\\Detect\\Detection-of-bacteria-in-water-using-Yolo-images\\temp\\images/val\\EMDS7-G018-060-0400.png\n",
      "Processed Image saved to: D:\\KULIAH\\SEMESTER 5\\RSBP\\Bacteri\\Detection-of-bacteria-in-water-using-Yolo-images\\Detect\\Detection-of-bacteria-in-water-using-Yolo-images\\temp\\images/val\\EMDS7-G010-018-0400.png\n",
      "Processed Image saved to: D:\\KULIAH\\SEMESTER 5\\RSBP\\Bacteri\\Detection-of-bacteria-in-water-using-Yolo-images\\Detect\\Detection-of-bacteria-in-water-using-Yolo-images\\temp\\images/val\\EMDS7-G001-033-0400.png\n",
      "Processed Image saved to: D:\\KULIAH\\SEMESTER 5\\RSBP\\Bacteri\\Detection-of-bacteria-in-water-using-Yolo-images\\Detect\\Detection-of-bacteria-in-water-using-Yolo-images\\temp\\images/val\\EMDS7-G022-077-0400.png\n",
      "Processed Image saved to: D:\\KULIAH\\SEMESTER 5\\RSBP\\Bacteri\\Detection-of-bacteria-in-water-using-Yolo-images\\Detect\\Detection-of-bacteria-in-water-using-Yolo-images\\temp\\images/val\\EMDS7-G009-039-0400.png\n",
      "Processed Image saved to: D:\\KULIAH\\SEMESTER 5\\RSBP\\Bacteri\\Detection-of-bacteria-in-water-using-Yolo-images\\Detect\\Detection-of-bacteria-in-water-using-Yolo-images\\temp\\images/val\\EMDS7-G003-256-0400.png\n",
      "Processed Image saved to: D:\\KULIAH\\SEMESTER 5\\RSBP\\Bacteri\\Detection-of-bacteria-in-water-using-Yolo-images\\Detect\\Detection-of-bacteria-in-water-using-Yolo-images\\temp\\images/val\\EMDS7-G015-008-0400.png\n",
      "Processed Image saved to: D:\\KULIAH\\SEMESTER 5\\RSBP\\Bacteri\\Detection-of-bacteria-in-water-using-Yolo-images\\Detect\\Detection-of-bacteria-in-water-using-Yolo-images\\temp\\images/val\\EMDS7-G012-079-0400.png\n",
      "Processed Image saved to: D:\\KULIAH\\SEMESTER 5\\RSBP\\Bacteri\\Detection-of-bacteria-in-water-using-Yolo-images\\Detect\\Detection-of-bacteria-in-water-using-Yolo-images\\temp\\images/val\\EMDS7-G033-006-0400.png\n",
      "Processed Image saved to: D:\\KULIAH\\SEMESTER 5\\RSBP\\Bacteri\\Detection-of-bacteria-in-water-using-Yolo-images\\Detect\\Detection-of-bacteria-in-water-using-Yolo-images\\temp\\images/val\\EMDS7-G031-005-0400.png\n",
      "Processed Image saved to: D:\\KULIAH\\SEMESTER 5\\RSBP\\Bacteri\\Detection-of-bacteria-in-water-using-Yolo-images\\Detect\\Detection-of-bacteria-in-water-using-Yolo-images\\temp\\images/val\\EMDS7-G030-025-0400.png\n",
      "Processed Image saved to: D:\\KULIAH\\SEMESTER 5\\RSBP\\Bacteri\\Detection-of-bacteria-in-water-using-Yolo-images\\Detect\\Detection-of-bacteria-in-water-using-Yolo-images\\temp\\images/val\\EMDS7-G008-016-0400.png\n",
      "Processed Image saved to: D:\\KULIAH\\SEMESTER 5\\RSBP\\Bacteri\\Detection-of-bacteria-in-water-using-Yolo-images\\Detect\\Detection-of-bacteria-in-water-using-Yolo-images\\temp\\images/val\\EMDS7-G017-038-0400.png\n",
      "Processed Image saved to: D:\\KULIAH\\SEMESTER 5\\RSBP\\Bacteri\\Detection-of-bacteria-in-water-using-Yolo-images\\Detect\\Detection-of-bacteria-in-water-using-Yolo-images\\temp\\images/val\\EMDS7-G024-008-0400.png\n",
      "Processed Image saved to: D:\\KULIAH\\SEMESTER 5\\RSBP\\Bacteri\\Detection-of-bacteria-in-water-using-Yolo-images\\Detect\\Detection-of-bacteria-in-water-using-Yolo-images\\temp\\images/val\\EMDS7-G038-031-0400.png\n",
      "Processed Image saved to: D:\\KULIAH\\SEMESTER 5\\RSBP\\Bacteri\\Detection-of-bacteria-in-water-using-Yolo-images\\Detect\\Detection-of-bacteria-in-water-using-Yolo-images\\temp\\images/val\\EMDS7-G017-040-0400.png\n",
      "Processed Image saved to: D:\\KULIAH\\SEMESTER 5\\RSBP\\Bacteri\\Detection-of-bacteria-in-water-using-Yolo-images\\Detect\\Detection-of-bacteria-in-water-using-Yolo-images\\temp\\images/val\\EMDS7-G012-034-0400.png\n",
      "Processed Image saved to: D:\\KULIAH\\SEMESTER 5\\RSBP\\Bacteri\\Detection-of-bacteria-in-water-using-Yolo-images\\Detect\\Detection-of-bacteria-in-water-using-Yolo-images\\temp\\images/val\\EMDS7-G020-020-0400.png\n",
      "Processed Image saved to: D:\\KULIAH\\SEMESTER 5\\RSBP\\Bacteri\\Detection-of-bacteria-in-water-using-Yolo-images\\Detect\\Detection-of-bacteria-in-water-using-Yolo-images\\temp\\images/val\\EMDS7-G029-021-0400.png\n",
      "Processed Image saved to: D:\\KULIAH\\SEMESTER 5\\RSBP\\Bacteri\\Detection-of-bacteria-in-water-using-Yolo-images\\Detect\\Detection-of-bacteria-in-water-using-Yolo-images\\temp\\images/val\\EMDS7-G014-030-0400.png\n",
      "Processed Image saved to: D:\\KULIAH\\SEMESTER 5\\RSBP\\Bacteri\\Detection-of-bacteria-in-water-using-Yolo-images\\Detect\\Detection-of-bacteria-in-water-using-Yolo-images\\temp\\images/val\\EMDS7-G018-077-0400.png\n",
      "Processed Image saved to: D:\\KULIAH\\SEMESTER 5\\RSBP\\Bacteri\\Detection-of-bacteria-in-water-using-Yolo-images\\Detect\\Detection-of-bacteria-in-water-using-Yolo-images\\temp\\images/val\\EMDS7-G017-033-0400.png\n",
      "Processed Image saved to: D:\\KULIAH\\SEMESTER 5\\RSBP\\Bacteri\\Detection-of-bacteria-in-water-using-Yolo-images\\Detect\\Detection-of-bacteria-in-water-using-Yolo-images\\temp\\images/val\\EMDS7-G022-252-0400.png\n",
      "Processed Image saved to: D:\\KULIAH\\SEMESTER 5\\RSBP\\Bacteri\\Detection-of-bacteria-in-water-using-Yolo-images\\Detect\\Detection-of-bacteria-in-water-using-Yolo-images\\temp\\images/val\\EMDS7-G027-005-0400.png\n",
      "Processed Image saved to: D:\\KULIAH\\SEMESTER 5\\RSBP\\Bacteri\\Detection-of-bacteria-in-water-using-Yolo-images\\Detect\\Detection-of-bacteria-in-water-using-Yolo-images\\temp\\images/val\\EMDS7-G014-035-0400.png\n",
      "Processed Image saved to: D:\\KULIAH\\SEMESTER 5\\RSBP\\Bacteri\\Detection-of-bacteria-in-water-using-Yolo-images\\Detect\\Detection-of-bacteria-in-water-using-Yolo-images\\temp\\images/val\\EMDS7-G003-217-0400.png\n",
      "Processed Image saved to: D:\\KULIAH\\SEMESTER 5\\RSBP\\Bacteri\\Detection-of-bacteria-in-water-using-Yolo-images\\Detect\\Detection-of-bacteria-in-water-using-Yolo-images\\temp\\images/val\\EMDS7-G003-196-0400.png\n",
      "Processed Image saved to: D:\\KULIAH\\SEMESTER 5\\RSBP\\Bacteri\\Detection-of-bacteria-in-water-using-Yolo-images\\Detect\\Detection-of-bacteria-in-water-using-Yolo-images\\temp\\images/val\\EMDS7-G030-038-0400.png\n",
      "Processed Image saved to: D:\\KULIAH\\SEMESTER 5\\RSBP\\Bacteri\\Detection-of-bacteria-in-water-using-Yolo-images\\Detect\\Detection-of-bacteria-in-water-using-Yolo-images\\temp\\images/val\\EMDS7-G036-004-0400.png\n",
      "Processed Image saved to: D:\\KULIAH\\SEMESTER 5\\RSBP\\Bacteri\\Detection-of-bacteria-in-water-using-Yolo-images\\Detect\\Detection-of-bacteria-in-water-using-Yolo-images\\temp\\images/val\\EMDS7-G012-109-0400.png\n",
      "Processed Image saved to: D:\\KULIAH\\SEMESTER 5\\RSBP\\Bacteri\\Detection-of-bacteria-in-water-using-Yolo-images\\Detect\\Detection-of-bacteria-in-water-using-Yolo-images\\temp\\images/val\\EMDS7-G003-266-0400.png\n",
      "Processed Image saved to: D:\\KULIAH\\SEMESTER 5\\RSBP\\Bacteri\\Detection-of-bacteria-in-water-using-Yolo-images\\Detect\\Detection-of-bacteria-in-water-using-Yolo-images\\temp\\images/val\\EMDS7-G025-016-0400.png\n",
      "Processed Image saved to: D:\\KULIAH\\SEMESTER 5\\RSBP\\Bacteri\\Detection-of-bacteria-in-water-using-Yolo-images\\Detect\\Detection-of-bacteria-in-water-using-Yolo-images\\temp\\images/val\\EMDS7-G030-044-0400.png\n",
      "Processed Image saved to: D:\\KULIAH\\SEMESTER 5\\RSBP\\Bacteri\\Detection-of-bacteria-in-water-using-Yolo-images\\Detect\\Detection-of-bacteria-in-water-using-Yolo-images\\temp\\images/val\\EMDS7-G022-119-0400.png\n",
      "Processed Image saved to: D:\\KULIAH\\SEMESTER 5\\RSBP\\Bacteri\\Detection-of-bacteria-in-water-using-Yolo-images\\Detect\\Detection-of-bacteria-in-water-using-Yolo-images\\temp\\images/val\\EMDS7-G039-073-0400.png\n",
      "Processed Image saved to: D:\\KULIAH\\SEMESTER 5\\RSBP\\Bacteri\\Detection-of-bacteria-in-water-using-Yolo-images\\Detect\\Detection-of-bacteria-in-water-using-Yolo-images\\temp\\images/val\\EMDS7-G003-118-0400.png\n",
      "Processed Image saved to: D:\\KULIAH\\SEMESTER 5\\RSBP\\Bacteri\\Detection-of-bacteria-in-water-using-Yolo-images\\Detect\\Detection-of-bacteria-in-water-using-Yolo-images\\temp\\images/val\\EMDS7-G012-080-0400.png\n",
      "Processed Image saved to: D:\\KULIAH\\SEMESTER 5\\RSBP\\Bacteri\\Detection-of-bacteria-in-water-using-Yolo-images\\Detect\\Detection-of-bacteria-in-water-using-Yolo-images\\temp\\images/val\\EMDS7-G023-047-0400.png\n",
      "Skipping image EMDS7-G022-249-0400.png due to no valid classes.\n",
      "Processed Image saved to: D:\\KULIAH\\SEMESTER 5\\RSBP\\Bacteri\\Detection-of-bacteria-in-water-using-Yolo-images\\Detect\\Detection-of-bacteria-in-water-using-Yolo-images\\temp\\images/val\\EMDS7-G003-179-0400.png\n",
      "Processed Image saved to: D:\\KULIAH\\SEMESTER 5\\RSBP\\Bacteri\\Detection-of-bacteria-in-water-using-Yolo-images\\Detect\\Detection-of-bacteria-in-water-using-Yolo-images\\temp\\images/val\\EMDS7-G009-044-0400.png\n",
      "Processed Image saved to: D:\\KULIAH\\SEMESTER 5\\RSBP\\Bacteri\\Detection-of-bacteria-in-water-using-Yolo-images\\Detect\\Detection-of-bacteria-in-water-using-Yolo-images\\temp\\images/val\\EMDS7-G003-126-0400.png\n",
      "Processed Image saved to: D:\\KULIAH\\SEMESTER 5\\RSBP\\Bacteri\\Detection-of-bacteria-in-water-using-Yolo-images\\Detect\\Detection-of-bacteria-in-water-using-Yolo-images\\temp\\images/val\\EMDS7-G009-066-0400.png\n",
      "Processed Image saved to: D:\\KULIAH\\SEMESTER 5\\RSBP\\Bacteri\\Detection-of-bacteria-in-water-using-Yolo-images\\Detect\\Detection-of-bacteria-in-water-using-Yolo-images\\temp\\images/val\\EMDS7-G020-025-0400.png\n",
      "Processed Image saved to: D:\\KULIAH\\SEMESTER 5\\RSBP\\Bacteri\\Detection-of-bacteria-in-water-using-Yolo-images\\Detect\\Detection-of-bacteria-in-water-using-Yolo-images\\temp\\images/val\\EMDS7-G003-015-0400.png\n",
      "Processed Image saved to: D:\\KULIAH\\SEMESTER 5\\RSBP\\Bacteri\\Detection-of-bacteria-in-water-using-Yolo-images\\Detect\\Detection-of-bacteria-in-water-using-Yolo-images\\temp\\images/val\\EMDS7-G003-052-0400.png\n",
      "Processed Image saved to: D:\\KULIAH\\SEMESTER 5\\RSBP\\Bacteri\\Detection-of-bacteria-in-water-using-Yolo-images\\Detect\\Detection-of-bacteria-in-water-using-Yolo-images\\temp\\images/val\\EMDS7-G014-056-0400.png\n",
      "Processed Image saved to: D:\\KULIAH\\SEMESTER 5\\RSBP\\Bacteri\\Detection-of-bacteria-in-water-using-Yolo-images\\Detect\\Detection-of-bacteria-in-water-using-Yolo-images\\temp\\images/val\\EMDS7-G039-026-0400.png\n",
      "Processed Image saved to: D:\\KULIAH\\SEMESTER 5\\RSBP\\Bacteri\\Detection-of-bacteria-in-water-using-Yolo-images\\Detect\\Detection-of-bacteria-in-water-using-Yolo-images\\temp\\images/val\\EMDS7-G019-059-0400.png\n",
      "Processed Image saved to: D:\\KULIAH\\SEMESTER 5\\RSBP\\Bacteri\\Detection-of-bacteria-in-water-using-Yolo-images\\Detect\\Detection-of-bacteria-in-water-using-Yolo-images\\temp\\images/val\\EMDS7-G014-078-0400.png\n",
      "Processed Image saved to: D:\\KULIAH\\SEMESTER 5\\RSBP\\Bacteri\\Detection-of-bacteria-in-water-using-Yolo-images\\Detect\\Detection-of-bacteria-in-water-using-Yolo-images\\temp\\images/val\\EMDS7-G009-018-0400.png\n",
      "Processed Image saved to: D:\\KULIAH\\SEMESTER 5\\RSBP\\Bacteri\\Detection-of-bacteria-in-water-using-Yolo-images\\Detect\\Detection-of-bacteria-in-water-using-Yolo-images\\temp\\images/val\\EMDS7-G021-006-0400.png\n",
      "Processed Image saved to: D:\\KULIAH\\SEMESTER 5\\RSBP\\Bacteri\\Detection-of-bacteria-in-water-using-Yolo-images\\Detect\\Detection-of-bacteria-in-water-using-Yolo-images\\temp\\images/val\\EMDS7-G032-078-0400.png\n",
      "Processed Image saved to: D:\\KULIAH\\SEMESTER 5\\RSBP\\Bacteri\\Detection-of-bacteria-in-water-using-Yolo-images\\Detect\\Detection-of-bacteria-in-water-using-Yolo-images\\temp\\images/val\\EMDS7-G020-011-0400.png\n",
      "Processed Image saved to: D:\\KULIAH\\SEMESTER 5\\RSBP\\Bacteri\\Detection-of-bacteria-in-water-using-Yolo-images\\Detect\\Detection-of-bacteria-in-water-using-Yolo-images\\temp\\images/val\\EMDS7-G036-015-0400.png\n",
      "Processed Image saved to: D:\\KULIAH\\SEMESTER 5\\RSBP\\Bacteri\\Detection-of-bacteria-in-water-using-Yolo-images\\Detect\\Detection-of-bacteria-in-water-using-Yolo-images\\temp\\images/val\\EMDS7-G020-001-0400.png\n",
      "Processed Image saved to: D:\\KULIAH\\SEMESTER 5\\RSBP\\Bacteri\\Detection-of-bacteria-in-water-using-Yolo-images\\Detect\\Detection-of-bacteria-in-water-using-Yolo-images\\temp\\images/val\\EMDS7-G001-024-0400.png\n",
      "Skipping image EMDS7-G022-230-0400.png due to no valid classes.\n",
      "Processed Image saved to: D:\\KULIAH\\SEMESTER 5\\RSBP\\Bacteri\\Detection-of-bacteria-in-water-using-Yolo-images\\Detect\\Detection-of-bacteria-in-water-using-Yolo-images\\temp\\images/val\\EMDS7-G022-167-0400.png\n",
      "Processed Image saved to: D:\\KULIAH\\SEMESTER 5\\RSBP\\Bacteri\\Detection-of-bacteria-in-water-using-Yolo-images\\Detect\\Detection-of-bacteria-in-water-using-Yolo-images\\temp\\images/val\\EMDS7-G039-051-0400.png\n",
      "Processed Image saved to: D:\\KULIAH\\SEMESTER 5\\RSBP\\Bacteri\\Detection-of-bacteria-in-water-using-Yolo-images\\Detect\\Detection-of-bacteria-in-water-using-Yolo-images\\temp\\images/val\\EMDS7-G012-063-0400.png\n",
      "Processed Image saved to: D:\\KULIAH\\SEMESTER 5\\RSBP\\Bacteri\\Detection-of-bacteria-in-water-using-Yolo-images\\Detect\\Detection-of-bacteria-in-water-using-Yolo-images\\temp\\images/val\\EMDS7-G019-004-0400.png\n",
      "Processed Image saved to: D:\\KULIAH\\SEMESTER 5\\RSBP\\Bacteri\\Detection-of-bacteria-in-water-using-Yolo-images\\Detect\\Detection-of-bacteria-in-water-using-Yolo-images\\temp\\images/val\\EMDS7-G016-009-0400.png\n",
      "Processed Image saved to: D:\\KULIAH\\SEMESTER 5\\RSBP\\Bacteri\\Detection-of-bacteria-in-water-using-Yolo-images\\Detect\\Detection-of-bacteria-in-water-using-Yolo-images\\temp\\images/val\\EMDS7-G035-018-0400.png\n",
      "Processed Image saved to: D:\\KULIAH\\SEMESTER 5\\RSBP\\Bacteri\\Detection-of-bacteria-in-water-using-Yolo-images\\Detect\\Detection-of-bacteria-in-water-using-Yolo-images\\temp\\images/val\\EMDS7-G004-004-0400.png\n",
      "Processed Image saved to: D:\\KULIAH\\SEMESTER 5\\RSBP\\Bacteri\\Detection-of-bacteria-in-water-using-Yolo-images\\Detect\\Detection-of-bacteria-in-water-using-Yolo-images\\temp\\images/val\\EMDS7-G003-307-0400.png\n",
      "Processed Image saved to: D:\\KULIAH\\SEMESTER 5\\RSBP\\Bacteri\\Detection-of-bacteria-in-water-using-Yolo-images\\Detect\\Detection-of-bacteria-in-water-using-Yolo-images\\temp\\images/val\\EMDS7-G016-011-0400.png\n",
      "Processed Image saved to: D:\\KULIAH\\SEMESTER 5\\RSBP\\Bacteri\\Detection-of-bacteria-in-water-using-Yolo-images\\Detect\\Detection-of-bacteria-in-water-using-Yolo-images\\temp\\images/val\\EMDS7-G017-018-0400.png\n",
      "Processed Image saved to: D:\\KULIAH\\SEMESTER 5\\RSBP\\Bacteri\\Detection-of-bacteria-in-water-using-Yolo-images\\Detect\\Detection-of-bacteria-in-water-using-Yolo-images\\temp\\images/val\\EMDS7-G027-010-0400.png\n",
      "Processed Image saved to: D:\\KULIAH\\SEMESTER 5\\RSBP\\Bacteri\\Detection-of-bacteria-in-water-using-Yolo-images\\Detect\\Detection-of-bacteria-in-water-using-Yolo-images\\temp\\images/val\\EMDS7-G008-022-0400.png\n",
      "Processed Image saved to: D:\\KULIAH\\SEMESTER 5\\RSBP\\Bacteri\\Detection-of-bacteria-in-water-using-Yolo-images\\Detect\\Detection-of-bacteria-in-water-using-Yolo-images\\temp\\images/val\\EMDS7-G014-067-0400.png\n",
      "Processed Image saved to: D:\\KULIAH\\SEMESTER 5\\RSBP\\Bacteri\\Detection-of-bacteria-in-water-using-Yolo-images\\Detect\\Detection-of-bacteria-in-water-using-Yolo-images\\temp\\images/val\\EMDS7-G017-043-0400.png\n",
      "Processed Image saved to: D:\\KULIAH\\SEMESTER 5\\RSBP\\Bacteri\\Detection-of-bacteria-in-water-using-Yolo-images\\Detect\\Detection-of-bacteria-in-water-using-Yolo-images\\temp\\images/val\\EMDS7-G033-004-0400.png\n",
      "Processed Image saved to: D:\\KULIAH\\SEMESTER 5\\RSBP\\Bacteri\\Detection-of-bacteria-in-water-using-Yolo-images\\Detect\\Detection-of-bacteria-in-water-using-Yolo-images\\temp\\images/val\\EMDS7-G011-031-0400.png\n",
      "Processed Image saved to: D:\\KULIAH\\SEMESTER 5\\RSBP\\Bacteri\\Detection-of-bacteria-in-water-using-Yolo-images\\Detect\\Detection-of-bacteria-in-water-using-Yolo-images\\temp\\images/val\\EMDS7-G012-054-0400.png\n",
      "Processed Image saved to: D:\\KULIAH\\SEMESTER 5\\RSBP\\Bacteri\\Detection-of-bacteria-in-water-using-Yolo-images\\Detect\\Detection-of-bacteria-in-water-using-Yolo-images\\temp\\images/val\\EMDS7-G036-009-0400.png\n",
      "Processed Image saved to: D:\\KULIAH\\SEMESTER 5\\RSBP\\Bacteri\\Detection-of-bacteria-in-water-using-Yolo-images\\Detect\\Detection-of-bacteria-in-water-using-Yolo-images\\temp\\images/val\\EMDS7-G016-017-0400.png\n",
      "Processed Image saved to: D:\\KULIAH\\SEMESTER 5\\RSBP\\Bacteri\\Detection-of-bacteria-in-water-using-Yolo-images\\Detect\\Detection-of-bacteria-in-water-using-Yolo-images\\temp\\images/val\\EMDS7-G022-048-0400.png\n",
      "Processed Image saved to: D:\\KULIAH\\SEMESTER 5\\RSBP\\Bacteri\\Detection-of-bacteria-in-water-using-Yolo-images\\Detect\\Detection-of-bacteria-in-water-using-Yolo-images\\temp\\images/val\\EMDS7-G039-009-0400.png\n",
      "Processed Image saved to: D:\\KULIAH\\SEMESTER 5\\RSBP\\Bacteri\\Detection-of-bacteria-in-water-using-Yolo-images\\Detect\\Detection-of-bacteria-in-water-using-Yolo-images\\temp\\images/val\\EMDS7-G038-020-0400.png\n",
      "Processed Image saved to: D:\\KULIAH\\SEMESTER 5\\RSBP\\Bacteri\\Detection-of-bacteria-in-water-using-Yolo-images\\Detect\\Detection-of-bacteria-in-water-using-Yolo-images\\temp\\images/val\\EMDS7-G003-123-0400.png\n",
      "Processed Image saved to: D:\\KULIAH\\SEMESTER 5\\RSBP\\Bacteri\\Detection-of-bacteria-in-water-using-Yolo-images\\Detect\\Detection-of-bacteria-in-water-using-Yolo-images\\temp\\images/val\\EMDS7-G023-001-0400.png\n",
      "Processed Image saved to: D:\\KULIAH\\SEMESTER 5\\RSBP\\Bacteri\\Detection-of-bacteria-in-water-using-Yolo-images\\Detect\\Detection-of-bacteria-in-water-using-Yolo-images\\temp\\images/val\\EMDS7-G028-031-0400.png\n",
      "Processed Image saved to: D:\\KULIAH\\SEMESTER 5\\RSBP\\Bacteri\\Detection-of-bacteria-in-water-using-Yolo-images\\Detect\\Detection-of-bacteria-in-water-using-Yolo-images\\temp\\images/val\\EMDS7-G025-068-0400.png\n",
      "Processed Image saved to: D:\\KULIAH\\SEMESTER 5\\RSBP\\Bacteri\\Detection-of-bacteria-in-water-using-Yolo-images\\Detect\\Detection-of-bacteria-in-water-using-Yolo-images\\temp\\images/val\\EMDS7-G001-021-0400.png\n",
      "Processed Image saved to: D:\\KULIAH\\SEMESTER 5\\RSBP\\Bacteri\\Detection-of-bacteria-in-water-using-Yolo-images\\Detect\\Detection-of-bacteria-in-water-using-Yolo-images\\temp\\images/val\\EMDS7-G011-029-0400.png\n",
      "Processed Image saved to: D:\\KULIAH\\SEMESTER 5\\RSBP\\Bacteri\\Detection-of-bacteria-in-water-using-Yolo-images\\Detect\\Detection-of-bacteria-in-water-using-Yolo-images\\temp\\images/val\\EMDS7-G035-053-0400.pngProcessed Image saved to: D:\\KULIAH\\SEMESTER 5\\RSBP\\Bacteri\\Detection-of-bacteria-in-water-using-Yolo-images\\Detect\\Detection-of-bacteria-in-water-using-Yolo-images\\temp\\images/val\\EMDS7-G039-067-0400.png\n",
      "\n",
      "Processed Image saved to: D:\\KULIAH\\SEMESTER 5\\RSBP\\Bacteri\\Detection-of-bacteria-in-water-using-Yolo-images\\Detect\\Detection-of-bacteria-in-water-using-Yolo-images\\temp\\images/val\\EMDS7-G014-050-0400.png\n",
      "Processed Image saved to: D:\\KULIAH\\SEMESTER 5\\RSBP\\Bacteri\\Detection-of-bacteria-in-water-using-Yolo-images\\Detect\\Detection-of-bacteria-in-water-using-Yolo-images\\temp\\images/val\\EMDS7-G004-029-0400.png\n",
      "Processed Image saved to: D:\\KULIAH\\SEMESTER 5\\RSBP\\Bacteri\\Detection-of-bacteria-in-water-using-Yolo-images\\Detect\\Detection-of-bacteria-in-water-using-Yolo-images\\temp\\images/val\\EMDS7-G032-031-0400.png\n",
      "Processed Image saved to: D:\\KULIAH\\SEMESTER 5\\RSBP\\Bacteri\\Detection-of-bacteria-in-water-using-Yolo-images\\Detect\\Detection-of-bacteria-in-water-using-Yolo-images\\temp\\images/val\\EMDS7-G012-060-0400.png\n",
      "Processed Image saved to: D:\\KULIAH\\SEMESTER 5\\RSBP\\Bacteri\\Detection-of-bacteria-in-water-using-Yolo-images\\Detect\\Detection-of-bacteria-in-water-using-Yolo-images\\temp\\images/val\\EMDS7-G028-007-0400.png\n",
      "Processed Image saved to: D:\\KULIAH\\SEMESTER 5\\RSBP\\Bacteri\\Detection-of-bacteria-in-water-using-Yolo-images\\Detect\\Detection-of-bacteria-in-water-using-Yolo-images\\temp\\images/val\\EMDS7-G003-086-0400.png\n",
      "Processed Image saved to: D:\\KULIAH\\SEMESTER 5\\RSBP\\Bacteri\\Detection-of-bacteria-in-water-using-Yolo-images\\Detect\\Detection-of-bacteria-in-water-using-Yolo-images\\temp\\images/val\\EMDS7-G027-016-0400.png\n",
      "Processed Image saved to: D:\\KULIAH\\SEMESTER 5\\RSBP\\Bacteri\\Detection-of-bacteria-in-water-using-Yolo-images\\Detect\\Detection-of-bacteria-in-water-using-Yolo-images\\temp\\images/val\\EMDS7-G022-076-0400.png\n",
      "Processed Image saved to: D:\\KULIAH\\SEMESTER 5\\RSBP\\Bacteri\\Detection-of-bacteria-in-water-using-Yolo-images\\Detect\\Detection-of-bacteria-in-water-using-Yolo-images\\temp\\images/val\\EMDS7-G003-091-0400.png\n",
      "Processed Image saved to: D:\\KULIAH\\SEMESTER 5\\RSBP\\Bacteri\\Detection-of-bacteria-in-water-using-Yolo-images\\Detect\\Detection-of-bacteria-in-water-using-Yolo-images\\temp\\images/val\\EMDS7-G022-122-0400.png\n",
      "Processed Image saved to: D:\\KULIAH\\SEMESTER 5\\RSBP\\Bacteri\\Detection-of-bacteria-in-water-using-Yolo-images\\Detect\\Detection-of-bacteria-in-water-using-Yolo-images\\temp\\images/val\\EMDS7-G011-061-0400.png\n",
      "Processed Image saved to: D:\\KULIAH\\SEMESTER 5\\RSBP\\Bacteri\\Detection-of-bacteria-in-water-using-Yolo-images\\Detect\\Detection-of-bacteria-in-water-using-Yolo-images\\temp\\images/val\\EMDS7-G029-003-0400.png\n",
      "Processed Image saved to: D:\\KULIAH\\SEMESTER 5\\RSBP\\Bacteri\\Detection-of-bacteria-in-water-using-Yolo-images\\Detect\\Detection-of-bacteria-in-water-using-Yolo-images\\temp\\images/val\\EMDS7-G014-053-0400.png\n",
      "Processed Image saved to: D:\\KULIAH\\SEMESTER 5\\RSBP\\Bacteri\\Detection-of-bacteria-in-water-using-Yolo-images\\Detect\\Detection-of-bacteria-in-water-using-Yolo-images\\temp\\images/val\\EMDS7-G005-055-0400.png\n",
      "Processed Image saved to: D:\\KULIAH\\SEMESTER 5\\RSBP\\Bacteri\\Detection-of-bacteria-in-water-using-Yolo-images\\Detect\\Detection-of-bacteria-in-water-using-Yolo-images\\temp\\images/val\\EMDS7-G028-005-0400.png\n",
      "Processed Image saved to: D:\\KULIAH\\SEMESTER 5\\RSBP\\Bacteri\\Detection-of-bacteria-in-water-using-Yolo-images\\Detect\\Detection-of-bacteria-in-water-using-Yolo-images\\temp\\images/val\\EMDS7-G018-067-0400.png\n",
      "Processed Image saved to: D:\\KULIAH\\SEMESTER 5\\RSBP\\Bacteri\\Detection-of-bacteria-in-water-using-Yolo-images\\Detect\\Detection-of-bacteria-in-water-using-Yolo-images\\temp\\images/val\\EMDS7-G033-014-0400.png\n",
      "Processed Image saved to: D:\\KULIAH\\SEMESTER 5\\RSBP\\Bacteri\\Detection-of-bacteria-in-water-using-Yolo-images\\Detect\\Detection-of-bacteria-in-water-using-Yolo-images\\temp\\images/val\\EMDS7-G014-021-0400.png\n",
      "Processed Image saved to: D:\\KULIAH\\SEMESTER 5\\RSBP\\Bacteri\\Detection-of-bacteria-in-water-using-Yolo-images\\Detect\\Detection-of-bacteria-in-water-using-Yolo-images\\temp\\images/val\\EMDS7-G028-046-0400.png\n",
      "Processed Image saved to: D:\\KULIAH\\SEMESTER 5\\RSBP\\Bacteri\\Detection-of-bacteria-in-water-using-Yolo-images\\Detect\\Detection-of-bacteria-in-water-using-Yolo-images\\temp\\images/val\\EMDS7-G023-054-0400.png\n",
      "Processed Image saved to: D:\\KULIAH\\SEMESTER 5\\RSBP\\Bacteri\\Detection-of-bacteria-in-water-using-Yolo-images\\Detect\\Detection-of-bacteria-in-water-using-Yolo-images\\temp\\images/val\\EMDS7-G003-276-0400.png\n",
      "Processed Image saved to: D:\\KULIAH\\SEMESTER 5\\RSBP\\Bacteri\\Detection-of-bacteria-in-water-using-Yolo-images\\Detect\\Detection-of-bacteria-in-water-using-Yolo-images\\temp\\images/val\\EMDS7-G022-199-0400.png\n",
      "Processed Image saved to: D:\\KULIAH\\SEMESTER 5\\RSBP\\Bacteri\\Detection-of-bacteria-in-water-using-Yolo-images\\Detect\\Detection-of-bacteria-in-water-using-Yolo-images\\temp\\images/val\\EMDS7-G025-042-0400.png\n",
      "Processed Image saved to: D:\\KULIAH\\SEMESTER 5\\RSBP\\Bacteri\\Detection-of-bacteria-in-water-using-Yolo-images\\Detect\\Detection-of-bacteria-in-water-using-Yolo-images\\temp\\images/val\\EMDS7-G003-281-0400.png\n",
      "Processed Image saved to: D:\\KULIAH\\SEMESTER 5\\RSBP\\Bacteri\\Detection-of-bacteria-in-water-using-Yolo-images\\Detect\\Detection-of-bacteria-in-water-using-Yolo-images\\temp\\images/val\\EMDS7-G036-024-0400.png\n",
      "Processed Image saved to: D:\\KULIAH\\SEMESTER 5\\RSBP\\Bacteri\\Detection-of-bacteria-in-water-using-Yolo-images\\Detect\\Detection-of-bacteria-in-water-using-Yolo-images\\temp\\images/val\\EMDS7-G009-029-0400.png\n",
      "Processed Image saved to: D:\\KULIAH\\SEMESTER 5\\RSBP\\Bacteri\\Detection-of-bacteria-in-water-using-Yolo-images\\Detect\\Detection-of-bacteria-in-water-using-Yolo-images\\temp\\images/val\\EMDS7-G003-172-0400.png\n",
      "Processed Image saved to: D:\\KULIAH\\SEMESTER 5\\RSBP\\Bacteri\\Detection-of-bacteria-in-water-using-Yolo-images\\Detect\\Detection-of-bacteria-in-water-using-Yolo-images\\temp\\images/val\\EMDS7-G022-182-0400.png\n",
      "Processed Image saved to: D:\\KULIAH\\SEMESTER 5\\RSBP\\Bacteri\\Detection-of-bacteria-in-water-using-Yolo-images\\Detect\\Detection-of-bacteria-in-water-using-Yolo-images\\temp\\images/val\\EMDS7-G008-001-0400.png\n",
      "Processed Image saved to: D:\\KULIAH\\SEMESTER 5\\RSBP\\Bacteri\\Detection-of-bacteria-in-water-using-Yolo-images\\Detect\\Detection-of-bacteria-in-water-using-Yolo-images\\temp\\images/val\\EMDS7-G032-075-0400.png\n",
      "Processed Image saved to: D:\\KULIAH\\SEMESTER 5\\RSBP\\Bacteri\\Detection-of-bacteria-in-water-using-Yolo-images\\Detect\\Detection-of-bacteria-in-water-using-Yolo-images\\temp\\images/val\\EMDS7-G008-007-0400.png\n",
      "Processed Image saved to: D:\\KULIAH\\SEMESTER 5\\RSBP\\Bacteri\\Detection-of-bacteria-in-water-using-Yolo-images\\Detect\\Detection-of-bacteria-in-water-using-Yolo-images\\temp\\images/val\\EMDS7-G032-069-0400.png\n",
      "Processed Image saved to: D:\\KULIAH\\SEMESTER 5\\RSBP\\Bacteri\\Detection-of-bacteria-in-water-using-Yolo-images\\Detect\\Detection-of-bacteria-in-water-using-Yolo-images\\temp\\images/val\\EMDS7-G010-012-0400.png\n",
      "Processed Image saved to: D:\\KULIAH\\SEMESTER 5\\RSBP\\Bacteri\\Detection-of-bacteria-in-water-using-Yolo-images\\Detect\\Detection-of-bacteria-in-water-using-Yolo-images\\temp\\images/val\\EMDS7-G017-066-0400.png\n",
      "Processed Image saved to: D:\\KULIAH\\SEMESTER 5\\RSBP\\Bacteri\\Detection-of-bacteria-in-water-using-Yolo-images\\Detect\\Detection-of-bacteria-in-water-using-Yolo-images\\temp\\images/val\\EMDS7-G039-069-0400.png\n",
      "Processed Image saved to: D:\\KULIAH\\SEMESTER 5\\RSBP\\Bacteri\\Detection-of-bacteria-in-water-using-Yolo-images\\Detect\\Detection-of-bacteria-in-water-using-Yolo-images\\temp\\images/val\\EMDS7-G022-120-0400.png\n",
      "Processed Image saved to: D:\\KULIAH\\SEMESTER 5\\RSBP\\Bacteri\\Detection-of-bacteria-in-water-using-Yolo-images\\Detect\\Detection-of-bacteria-in-water-using-Yolo-images\\temp\\images/val\\EMDS7-G004-007-0400.png\n",
      "Processed Image saved to: D:\\KULIAH\\SEMESTER 5\\RSBP\\Bacteri\\Detection-of-bacteria-in-water-using-Yolo-images\\Detect\\Detection-of-bacteria-in-water-using-Yolo-images\\temp\\images/val\\EMDS7-G003-030-0400.png\n",
      "Processed Image saved to: D:\\KULIAH\\SEMESTER 5\\RSBP\\Bacteri\\Detection-of-bacteria-in-water-using-Yolo-images\\Detect\\Detection-of-bacteria-in-water-using-Yolo-images\\temp\\images/val\\EMDS7-G009-069-0400.png\n",
      "Processed Image saved to: D:\\KULIAH\\SEMESTER 5\\RSBP\\Bacteri\\Detection-of-bacteria-in-water-using-Yolo-images\\Detect\\Detection-of-bacteria-in-water-using-Yolo-images\\temp\\images/val\\EMDS7-G033-025-0400.png\n",
      "Processed Image saved to: D:\\KULIAH\\SEMESTER 5\\RSBP\\Bacteri\\Detection-of-bacteria-in-water-using-Yolo-images\\Detect\\Detection-of-bacteria-in-water-using-Yolo-images\\temp\\images/val\\EMDS7-G009-004-0400.png\n",
      "Processed Image saved to: D:\\KULIAH\\SEMESTER 5\\RSBP\\Bacteri\\Detection-of-bacteria-in-water-using-Yolo-images\\Detect\\Detection-of-bacteria-in-water-using-Yolo-images\\temp\\images/val\\EMDS7-G027-011-0400.png\n",
      "Processed Image saved to: D:\\KULIAH\\SEMESTER 5\\RSBP\\Bacteri\\Detection-of-bacteria-in-water-using-Yolo-images\\Detect\\Detection-of-bacteria-in-water-using-Yolo-images\\temp\\images/val\\EMDS7-G004-032-0400.png\n",
      "Processed Image saved to: D:\\KULIAH\\SEMESTER 5\\RSBP\\Bacteri\\Detection-of-bacteria-in-water-using-Yolo-images\\Detect\\Detection-of-bacteria-in-water-using-Yolo-images\\temp\\images/val\\EMDS7-G022-067-0400.png\n",
      "Processed Image saved to: D:\\KULIAH\\SEMESTER 5\\RSBP\\Bacteri\\Detection-of-bacteria-in-water-using-Yolo-images\\Detect\\Detection-of-bacteria-in-water-using-Yolo-images\\temp\\images/val\\EMDS7-G025-040-0400.png\n",
      "Processed Image saved to: D:\\KULIAH\\SEMESTER 5\\RSBP\\Bacteri\\Detection-of-bacteria-in-water-using-Yolo-images\\Detect\\Detection-of-bacteria-in-water-using-Yolo-images\\temp\\images/val\\EMDS7-G009-040-0400.png\n",
      "Processed Image saved to: D:\\KULIAH\\SEMESTER 5\\RSBP\\Bacteri\\Detection-of-bacteria-in-water-using-Yolo-images\\Detect\\Detection-of-bacteria-in-water-using-Yolo-images\\temp\\images/val\\EMDS7-G019-015-0400.png\n",
      "Processed Image saved to: D:\\KULIAH\\SEMESTER 5\\RSBP\\Bacteri\\Detection-of-bacteria-in-water-using-Yolo-images\\Detect\\Detection-of-bacteria-in-water-using-Yolo-images\\temp\\images/val\\EMDS7-G025-027-0400.png\n",
      "Processed Image saved to: D:\\KULIAH\\SEMESTER 5\\RSBP\\Bacteri\\Detection-of-bacteria-in-water-using-Yolo-images\\Detect\\Detection-of-bacteria-in-water-using-Yolo-images\\temp\\images/val\\EMDS7-G022-035-0400.png\n",
      "Processed Image saved to: D:\\KULIAH\\SEMESTER 5\\RSBP\\Bacteri\\Detection-of-bacteria-in-water-using-Yolo-images\\Detect\\Detection-of-bacteria-in-water-using-Yolo-images\\temp\\images/val\\EMDS7-G032-048-0400.png\n",
      "Processed Image saved to: D:\\KULIAH\\SEMESTER 5\\RSBP\\Bacteri\\Detection-of-bacteria-in-water-using-Yolo-images\\Detect\\Detection-of-bacteria-in-water-using-Yolo-images\\temp\\images/val\\EMDS7-G001-022-0400.pngProcessed Image saved to: D:\\KULIAH\\SEMESTER 5\\RSBP\\Bacteri\\Detection-of-bacteria-in-water-using-Yolo-images\\Detect\\Detection-of-bacteria-in-water-using-Yolo-images\\temp\\images/val\\EMDS7-G016-019-0400.png\n",
      "Processed Image saved to: D:\\KULIAH\\SEMESTER 5\\RSBP\\Bacteri\\Detection-of-bacteria-in-water-using-Yolo-images\\Detect\\Detection-of-bacteria-in-water-using-Yolo-images\\temp\\images/val\\EMDS7-G022-008-0400.png\n",
      "\n",
      "Processed Image saved to: D:\\KULIAH\\SEMESTER 5\\RSBP\\Bacteri\\Detection-of-bacteria-in-water-using-Yolo-images\\Detect\\Detection-of-bacteria-in-water-using-Yolo-images\\temp\\images/val\\EMDS7-G003-062-0400.png\n",
      "Processed Image saved to: D:\\KULIAH\\SEMESTER 5\\RSBP\\Bacteri\\Detection-of-bacteria-in-water-using-Yolo-images\\Detect\\Detection-of-bacteria-in-water-using-Yolo-images\\temp\\images/val\\EMDS7-G012-070-0400.png\n",
      "Processed Image saved to: D:\\KULIAH\\SEMESTER 5\\RSBP\\Bacteri\\Detection-of-bacteria-in-water-using-Yolo-images\\Detect\\Detection-of-bacteria-in-water-using-Yolo-images\\temp\\images/val\\EMDS7-G028-060-0400.png\n",
      "Processed Image saved to: D:\\KULIAH\\SEMESTER 5\\RSBP\\Bacteri\\Detection-of-bacteria-in-water-using-Yolo-images\\Detect\\Detection-of-bacteria-in-water-using-Yolo-images\\temp\\images/val\\EMDS7-G023-010-0400.png\n",
      "Processed Image saved to: D:\\KULIAH\\SEMESTER 5\\RSBP\\Bacteri\\Detection-of-bacteria-in-water-using-Yolo-images\\Detect\\Detection-of-bacteria-in-water-using-Yolo-images\\temp\\images/val\\EMDS7-G003-131-0400.png\n",
      "Processed Image saved to: D:\\KULIAH\\SEMESTER 5\\RSBP\\Bacteri\\Detection-of-bacteria-in-water-using-Yolo-images\\Detect\\Detection-of-bacteria-in-water-using-Yolo-images\\temp\\images/val\\EMDS7-G030-006-0400.png\n",
      "Processed Image saved to: D:\\KULIAH\\SEMESTER 5\\RSBP\\Bacteri\\Detection-of-bacteria-in-water-using-Yolo-images\\Detect\\Detection-of-bacteria-in-water-using-Yolo-images\\temp\\images/val\\EMDS7-G023-022-0400.png\n",
      "Processed Image saved to: D:\\KULIAH\\SEMESTER 5\\RSBP\\Bacteri\\Detection-of-bacteria-in-water-using-Yolo-images\\Detect\\Detection-of-bacteria-in-water-using-Yolo-images\\temp\\images/val\\EMDS7-G003-157-0400.png\n",
      "Processed Image saved to: D:\\KULIAH\\SEMESTER 5\\RSBP\\Bacteri\\Detection-of-bacteria-in-water-using-Yolo-images\\Detect\\Detection-of-bacteria-in-water-using-Yolo-images\\temp\\images/val\\EMDS7-G003-026-0400.png\n",
      "Processed Image saved to: D:\\KULIAH\\SEMESTER 5\\RSBP\\Bacteri\\Detection-of-bacteria-in-water-using-Yolo-images\\Detect\\Detection-of-bacteria-in-water-using-Yolo-images\\temp\\images/val\\EMDS7-G012-098-0400.png\n",
      "Processed Image saved to: D:\\KULIAH\\SEMESTER 5\\RSBP\\Bacteri\\Detection-of-bacteria-in-water-using-Yolo-images\\Detect\\Detection-of-bacteria-in-water-using-Yolo-images\\temp\\images/val\\EMDS7-G022-043-0400.png\n",
      "Processed Image saved to: D:\\KULIAH\\SEMESTER 5\\RSBP\\Bacteri\\Detection-of-bacteria-in-water-using-Yolo-images\\Detect\\Detection-of-bacteria-in-water-using-Yolo-images\\temp\\images/val\\EMDS7-G003-293-0400.png\n",
      "Processed Image saved to: D:\\KULIAH\\SEMESTER 5\\RSBP\\Bacteri\\Detection-of-bacteria-in-water-using-Yolo-images\\Detect\\Detection-of-bacteria-in-water-using-Yolo-images\\temp\\images/val\\EMDS7-G021-005-0400.png\n",
      "Processed Image saved to: D:\\KULIAH\\SEMESTER 5\\RSBP\\Bacteri\\Detection-of-bacteria-in-water-using-Yolo-images\\Detect\\Detection-of-bacteria-in-water-using-Yolo-images\\temp\\images/val\\EMDS7-G019-020-0400.png\n",
      "Processed Image saved to: D:\\KULIAH\\SEMESTER 5\\RSBP\\Bacteri\\Detection-of-bacteria-in-water-using-Yolo-images\\Detect\\Detection-of-bacteria-in-water-using-Yolo-images\\temp\\images/val\\EMDS7-G012-077-0400.png\n",
      "Processed Image saved to: D:\\KULIAH\\SEMESTER 5\\RSBP\\Bacteri\\Detection-of-bacteria-in-water-using-Yolo-images\\Detect\\Detection-of-bacteria-in-water-using-Yolo-images\\temp\\images/val\\EMDS7-G016-021-0400.png\n",
      "Processed Image saved to: D:\\KULIAH\\SEMESTER 5\\RSBP\\Bacteri\\Detection-of-bacteria-in-water-using-Yolo-images\\Detect\\Detection-of-bacteria-in-water-using-Yolo-images\\temp\\images/val\\EMDS7-G009-078-0400.png\n",
      "Processed Image saved to: D:\\KULIAH\\SEMESTER 5\\RSBP\\Bacteri\\Detection-of-bacteria-in-water-using-Yolo-images\\Detect\\Detection-of-bacteria-in-water-using-Yolo-images\\temp\\images/val\\EMDS7-G022-095-0400.png\n",
      "Processed Image saved to: D:\\KULIAH\\SEMESTER 5\\RSBP\\Bacteri\\Detection-of-bacteria-in-water-using-Yolo-images\\Detect\\Detection-of-bacteria-in-water-using-Yolo-images\\temp\\images/val\\EMDS7-G005-040-0400.png\n",
      "Processed Image saved to: D:\\KULIAH\\SEMESTER 5\\RSBP\\Bacteri\\Detection-of-bacteria-in-water-using-Yolo-images\\Detect\\Detection-of-bacteria-in-water-using-Yolo-images\\temp\\images/val\\EMDS7-G003-037-0400.png\n",
      "Processed Image saved to: D:\\KULIAH\\SEMESTER 5\\RSBP\\Bacteri\\Detection-of-bacteria-in-water-using-Yolo-images\\Detect\\Detection-of-bacteria-in-water-using-Yolo-images\\temp\\images/val\\EMDS7-G008-031-0400.png\n",
      "Processed Image saved to: D:\\KULIAH\\SEMESTER 5\\RSBP\\Bacteri\\Detection-of-bacteria-in-water-using-Yolo-images\\Detect\\Detection-of-bacteria-in-water-using-Yolo-images\\temp\\images/val\\EMDS7-G025-031-0400.png\n",
      "Processed Image saved to: D:\\KULIAH\\SEMESTER 5\\RSBP\\Bacteri\\Detection-of-bacteria-in-water-using-Yolo-images\\Detect\\Detection-of-bacteria-in-water-using-Yolo-images\\temp\\images/val\\EMDS7-G018-010-0400.png\n",
      "Processed Image saved to: D:\\KULIAH\\SEMESTER 5\\RSBP\\Bacteri\\Detection-of-bacteria-in-water-using-Yolo-images\\Detect\\Detection-of-bacteria-in-water-using-Yolo-images\\temp\\images/val\\EMDS7-G022-055-0400.png\n",
      "Processed Image saved to: D:\\KULIAH\\SEMESTER 5\\RSBP\\Bacteri\\Detection-of-bacteria-in-water-using-Yolo-images\\Detect\\Detection-of-bacteria-in-water-using-Yolo-images\\temp\\images/val\\EMDS7-G025-052-0400.png\n",
      "Processed Image saved to: D:\\KULIAH\\SEMESTER 5\\RSBP\\Bacteri\\Detection-of-bacteria-in-water-using-Yolo-images\\Detect\\Detection-of-bacteria-in-water-using-Yolo-images\\temp\\images/val\\EMDS7-G016-002-0400.png\n",
      "Processed Image saved to: D:\\KULIAH\\SEMESTER 5\\RSBP\\Bacteri\\Detection-of-bacteria-in-water-using-Yolo-images\\Detect\\Detection-of-bacteria-in-water-using-Yolo-images\\temp\\images/val\\EMDS7-G001-018-0400.png\n",
      "Processed Image saved to: D:\\KULIAH\\SEMESTER 5\\RSBP\\Bacteri\\Detection-of-bacteria-in-water-using-Yolo-images\\Detect\\Detection-of-bacteria-in-water-using-Yolo-images\\temp\\images/val\\EMDS7-G003-286-0400.png\n",
      "Processed Image saved to: D:\\KULIAH\\SEMESTER 5\\RSBP\\Bacteri\\Detection-of-bacteria-in-water-using-Yolo-images\\Detect\\Detection-of-bacteria-in-water-using-Yolo-images\\temp\\images/val\\EMDS7-G022-056-0400.png\n",
      "Processed Image saved to: D:\\KULIAH\\SEMESTER 5\\RSBP\\Bacteri\\Detection-of-bacteria-in-water-using-Yolo-images\\Detect\\Detection-of-bacteria-in-water-using-Yolo-images\\temp\\images/val\\EMDS7-G009-015-0400.png\n",
      "Processed Image saved to: D:\\KULIAH\\SEMESTER 5\\RSBP\\Bacteri\\Detection-of-bacteria-in-water-using-Yolo-images\\Detect\\Detection-of-bacteria-in-water-using-Yolo-images\\temp\\images/val\\EMDS7-G003-043-0400.png\n",
      "Processed Image saved to: D:\\KULIAH\\SEMESTER 5\\RSBP\\Bacteri\\Detection-of-bacteria-in-water-using-Yolo-images\\Detect\\Detection-of-bacteria-in-water-using-Yolo-images\\temp\\images/val\\EMDS7-G022-271-0400.png\n",
      "Processed Image saved to: D:\\KULIAH\\SEMESTER 5\\RSBP\\Bacteri\\Detection-of-bacteria-in-water-using-Yolo-images\\Detect\\Detection-of-bacteria-in-water-using-Yolo-images\\temp\\images/val\\EMDS7-G022-177-0400.png\n",
      "Processed Image saved to: D:\\KULIAH\\SEMESTER 5\\RSBP\\Bacteri\\Detection-of-bacteria-in-water-using-Yolo-images\\Detect\\Detection-of-bacteria-in-water-using-Yolo-images\\temp\\images/val\\EMDS7-G003-298-0400.png\n",
      "Processed Image saved to: D:\\KULIAH\\SEMESTER 5\\RSBP\\Bacteri\\Detection-of-bacteria-in-water-using-Yolo-images\\Detect\\Detection-of-bacteria-in-water-using-Yolo-images\\temp\\images/val\\EMDS7-G037-010-0400.png\n",
      "Processed Image saved to: D:\\KULIAH\\SEMESTER 5\\RSBP\\Bacteri\\Detection-of-bacteria-in-water-using-Yolo-images\\Detect\\Detection-of-bacteria-in-water-using-Yolo-images\\temp\\images/val\\EMDS7-G028-064-0400.png\n",
      "Processed Image saved to: D:\\KULIAH\\SEMESTER 5\\RSBP\\Bacteri\\Detection-of-bacteria-in-water-using-Yolo-images\\Detect\\Detection-of-bacteria-in-water-using-Yolo-images\\temp\\images/val\\EMDS7-G016-015-0400.png\n",
      "Processed Image saved to: D:\\KULIAH\\SEMESTER 5\\RSBP\\Bacteri\\Detection-of-bacteria-in-water-using-Yolo-images\\Detect\\Detection-of-bacteria-in-water-using-Yolo-images\\temp\\images/val\\EMDS7-G039-007-0400.png\n",
      "Processed Image saved to: D:\\KULIAH\\SEMESTER 5\\RSBP\\Bacteri\\Detection-of-bacteria-in-water-using-Yolo-images\\Detect\\Detection-of-bacteria-in-water-using-Yolo-images\\temp\\images/val\\EMDS7-G014-013-0400.png\n",
      "Processed Image saved to: D:\\KULIAH\\SEMESTER 5\\RSBP\\Bacteri\\Detection-of-bacteria-in-water-using-Yolo-images\\Detect\\Detection-of-bacteria-in-water-using-Yolo-images\\temp\\images/val\\EMDS7-G003-038-0400.png\n",
      "Processed Image saved to: D:\\KULIAH\\SEMESTER 5\\RSBP\\Bacteri\\Detection-of-bacteria-in-water-using-Yolo-images\\Detect\\Detection-of-bacteria-in-water-using-Yolo-images\\temp\\images/val\\EMDS7-G030-024-0400.png\n",
      "Processed Image saved to: D:\\KULIAH\\SEMESTER 5\\RSBP\\Bacteri\\Detection-of-bacteria-in-water-using-Yolo-images\\Detect\\Detection-of-bacteria-in-water-using-Yolo-images\\temp\\images/val\\EMDS7-G011-009-0400.png\n",
      "Processed Image saved to: D:\\KULIAH\\SEMESTER 5\\RSBP\\Bacteri\\Detection-of-bacteria-in-water-using-Yolo-images\\Detect\\Detection-of-bacteria-in-water-using-Yolo-images\\temp\\images/val\\EMDS7-G023-020-0400.png\n",
      "Processed Image saved to: D:\\KULIAH\\SEMESTER 5\\RSBP\\Bacteri\\Detection-of-bacteria-in-water-using-Yolo-images\\Detect\\Detection-of-bacteria-in-water-using-Yolo-images\\temp\\images/val\\EMDS7-G025-030-0400.png\n",
      "Processed Image saved to: D:\\KULIAH\\SEMESTER 5\\RSBP\\Bacteri\\Detection-of-bacteria-in-water-using-Yolo-images\\Detect\\Detection-of-bacteria-in-water-using-Yolo-images\\temp\\images/val\\EMDS7-G025-063-0400.png\n",
      "Processed Image saved to: D:\\KULIAH\\SEMESTER 5\\RSBP\\Bacteri\\Detection-of-bacteria-in-water-using-Yolo-images\\Detect\\Detection-of-bacteria-in-water-using-Yolo-images\\temp\\images/val\\EMDS7-G010-011-0400.png\n",
      "Processed Image saved to: D:\\KULIAH\\SEMESTER 5\\RSBP\\Bacteri\\Detection-of-bacteria-in-water-using-Yolo-images\\Detect\\Detection-of-bacteria-in-water-using-Yolo-images\\temp\\images/val\\EMDS7-G028-058-0400.png\n",
      "Processed Image saved to: D:\\KULIAH\\SEMESTER 5\\RSBP\\Bacteri\\Detection-of-bacteria-in-water-using-Yolo-images\\Detect\\Detection-of-bacteria-in-water-using-Yolo-images\\temp\\images/val\\EMDS7-G008-027-0400.png\n",
      "Processed Image saved to: D:\\KULIAH\\SEMESTER 5\\RSBP\\Bacteri\\Detection-of-bacteria-in-water-using-Yolo-images\\Detect\\Detection-of-bacteria-in-water-using-Yolo-images\\temp\\images/val\\EMDS7-G005-001-0400.png\n",
      "Processed Image saved to: D:\\KULIAH\\SEMESTER 5\\RSBP\\Bacteri\\Detection-of-bacteria-in-water-using-Yolo-images\\Detect\\Detection-of-bacteria-in-water-using-Yolo-images\\temp\\images/val\\EMDS7-G017-052-0400.png\n",
      "Processed Image saved to: D:\\KULIAH\\SEMESTER 5\\RSBP\\Bacteri\\Detection-of-bacteria-in-water-using-Yolo-images\\Detect\\Detection-of-bacteria-in-water-using-Yolo-images\\temp\\images/val\\EMDS7-G011-017-0400.png\n",
      "Processed Image saved to: D:\\KULIAH\\SEMESTER 5\\RSBP\\Bacteri\\Detection-of-bacteria-in-water-using-Yolo-images\\Detect\\Detection-of-bacteria-in-water-using-Yolo-images\\temp\\images/val\\EMDS7-G022-144-0400.png\n",
      "Processed Image saved to: D:\\KULIAH\\SEMESTER 5\\RSBP\\Bacteri\\Detection-of-bacteria-in-water-using-Yolo-images\\Detect\\Detection-of-bacteria-in-water-using-Yolo-images\\temp\\images/val\\EMDS7-G022-092-0400.png\n",
      "Processed Image saved to: D:\\KULIAH\\SEMESTER 5\\RSBP\\Bacteri\\Detection-of-bacteria-in-water-using-Yolo-images\\Detect\\Detection-of-bacteria-in-water-using-Yolo-images\\temp\\images/val\\EMDS7-G022-128-0400.png\n",
      "Processed Image saved to: D:\\KULIAH\\SEMESTER 5\\RSBP\\Bacteri\\Detection-of-bacteria-in-water-using-Yolo-images\\Detect\\Detection-of-bacteria-in-water-using-Yolo-images\\temp\\images/val\\EMDS7-G019-031-0400.png\n",
      "Processed Image saved to: D:\\KULIAH\\SEMESTER 5\\RSBP\\Bacteri\\Detection-of-bacteria-in-water-using-Yolo-images\\Detect\\Detection-of-bacteria-in-water-using-Yolo-images\\temp\\images/val\\EMDS7-G025-026-0400.png\n",
      "Processed Image saved to: D:\\KULIAH\\SEMESTER 5\\RSBP\\Bacteri\\Detection-of-bacteria-in-water-using-Yolo-images\\Detect\\Detection-of-bacteria-in-water-using-Yolo-images\\temp\\images/val\\EMDS7-G009-048-0400.png\n",
      "Processed Image saved to: D:\\KULIAH\\SEMESTER 5\\RSBP\\Bacteri\\Detection-of-bacteria-in-water-using-Yolo-images\\Detect\\Detection-of-bacteria-in-water-using-Yolo-images\\temp\\images/val\\EMDS7-G022-134-0400.png\n",
      "Processed Image saved to: D:\\KULIAH\\SEMESTER 5\\RSBP\\Bacteri\\Detection-of-bacteria-in-water-using-Yolo-images\\Detect\\Detection-of-bacteria-in-water-using-Yolo-images\\temp\\images/val\\EMDS7-G031-003-0400.png\n",
      "Processed Image saved to: D:\\KULIAH\\SEMESTER 5\\RSBP\\Bacteri\\Detection-of-bacteria-in-water-using-Yolo-images\\Detect\\Detection-of-bacteria-in-water-using-Yolo-images\\temp\\images/val\\EMDS7-G004-025-0400.png\n",
      "Processed Image saved to: D:\\KULIAH\\SEMESTER 5\\RSBP\\Bacteri\\Detection-of-bacteria-in-water-using-Yolo-images\\Detect\\Detection-of-bacteria-in-water-using-Yolo-images\\temp\\images/val\\EMDS7-G022-006-0400.png\n",
      "Processed Image saved to: D:\\KULIAH\\SEMESTER 5\\RSBP\\Bacteri\\Detection-of-bacteria-in-water-using-Yolo-images\\Detect\\Detection-of-bacteria-in-water-using-Yolo-images\\temp\\images/val\\EMDS7-G014-062-0400.png\n",
      "Processed Image saved to: D:\\KULIAH\\SEMESTER 5\\RSBP\\Bacteri\\Detection-of-bacteria-in-water-using-Yolo-images\\Detect\\Detection-of-bacteria-in-water-using-Yolo-images\\temp\\images/val\\EMDS7-G022-220-0400.png\n",
      "Processed Image saved to: D:\\KULIAH\\SEMESTER 5\\RSBP\\Bacteri\\Detection-of-bacteria-in-water-using-Yolo-images\\Detect\\Detection-of-bacteria-in-water-using-Yolo-images\\temp\\images/val\\EMDS7-G005-024-0400.png\n",
      "Processed Image saved to: D:\\KULIAH\\SEMESTER 5\\RSBP\\Bacteri\\Detection-of-bacteria-in-water-using-Yolo-images\\Detect\\Detection-of-bacteria-in-water-using-Yolo-images\\temp\\images/val\\EMDS7-G015-012-0400.png\n",
      "Processed Image saved to: D:\\KULIAH\\SEMESTER 5\\RSBP\\Bacteri\\Detection-of-bacteria-in-water-using-Yolo-images\\Detect\\Detection-of-bacteria-in-water-using-Yolo-images\\temp\\images/val\\EMDS7-G017-055-0400.png\n",
      "Processed Image saved to: D:\\KULIAH\\SEMESTER 5\\RSBP\\Bacteri\\Detection-of-bacteria-in-water-using-Yolo-images\\Detect\\Detection-of-bacteria-in-water-using-Yolo-images\\temp\\images/val\\EMDS7-G028-012-0400.png\n",
      "Processed Image saved to: D:\\KULIAH\\SEMESTER 5\\RSBP\\Bacteri\\Detection-of-bacteria-in-water-using-Yolo-images\\Detect\\Detection-of-bacteria-in-water-using-Yolo-images\\temp\\images/val\\EMDS7-G028-014-0400.png\n",
      "Processed Image saved to: D:\\KULIAH\\SEMESTER 5\\RSBP\\Bacteri\\Detection-of-bacteria-in-water-using-Yolo-images\\Detect\\Detection-of-bacteria-in-water-using-Yolo-images\\temp\\images/val\\EMDS7-G003-269-0400.png\n",
      "Processed Image saved to: D:\\KULIAH\\SEMESTER 5\\RSBP\\Bacteri\\Detection-of-bacteria-in-water-using-Yolo-images\\Detect\\Detection-of-bacteria-in-water-using-Yolo-images\\temp\\images/val\\EMDS7-G003-169-0400.png\n",
      "Processed Image saved to: D:\\KULIAH\\SEMESTER 5\\RSBP\\Bacteri\\Detection-of-bacteria-in-water-using-Yolo-images\\Detect\\Detection-of-bacteria-in-water-using-Yolo-images\\temp\\images/val\\EMDS7-G003-079-0400.png\n",
      "Processed Image saved to: D:\\KULIAH\\SEMESTER 5\\RSBP\\Bacteri\\Detection-of-bacteria-in-water-using-Yolo-images\\Detect\\Detection-of-bacteria-in-water-using-Yolo-images\\temp\\images/val\\EMDS7-G039-058-0400.png\n",
      "Processed Image saved to: D:\\KULIAH\\SEMESTER 5\\RSBP\\Bacteri\\Detection-of-bacteria-in-water-using-Yolo-images\\Detect\\Detection-of-bacteria-in-water-using-Yolo-images\\temp\\images/val\\EMDS7-G017-028-0400.png\n",
      "Processed Image saved to: D:\\KULIAH\\SEMESTER 5\\RSBP\\Bacteri\\Detection-of-bacteria-in-water-using-Yolo-images\\Detect\\Detection-of-bacteria-in-water-using-Yolo-images\\temp\\images/val\\EMDS7-G032-021-0400.png\n",
      "Processed Image saved to: D:\\KULIAH\\SEMESTER 5\\RSBP\\Bacteri\\Detection-of-bacteria-in-water-using-Yolo-images\\Detect\\Detection-of-bacteria-in-water-using-Yolo-images\\temp\\images/val\\EMDS7-G012-045-0400.png\n",
      "Processed Image saved to: D:\\KULIAH\\SEMESTER 5\\RSBP\\Bacteri\\Detection-of-bacteria-in-water-using-Yolo-images\\Detect\\Detection-of-bacteria-in-water-using-Yolo-images\\temp\\images/val\\EMDS7-G016-018-0400.png\n",
      "Processed Image saved to: D:\\KULIAH\\SEMESTER 5\\RSBP\\Bacteri\\Detection-of-bacteria-in-water-using-Yolo-images\\Detect\\Detection-of-bacteria-in-water-using-Yolo-images\\temp\\images/val\\EMDS7-G022-106-0400.png\n",
      "Processed Image saved to: D:\\KULIAH\\SEMESTER 5\\RSBP\\Bacteri\\Detection-of-bacteria-in-water-using-Yolo-images\\Detect\\Detection-of-bacteria-in-water-using-Yolo-images\\temp\\images/val\\EMDS7-G003-135-0400.png\n",
      "Processed Image saved to: D:\\KULIAH\\SEMESTER 5\\RSBP\\Bacteri\\Detection-of-bacteria-in-water-using-Yolo-images\\Detect\\Detection-of-bacteria-in-water-using-Yolo-images\\temp\\images/val\\EMDS7-G012-105-0400.png\n",
      "Processed Image saved to: D:\\KULIAH\\SEMESTER 5\\RSBP\\Bacteri\\Detection-of-bacteria-in-water-using-Yolo-images\\Detect\\Detection-of-bacteria-in-water-using-Yolo-images\\temp\\images/val\\EMDS7-G003-187-0400.png\n",
      "Processed Image saved to: D:\\KULIAH\\SEMESTER 5\\RSBP\\Bacteri\\Detection-of-bacteria-in-water-using-Yolo-images\\Detect\\Detection-of-bacteria-in-water-using-Yolo-images\\temp\\images/val\\EMDS7-G027-007-0400.png\n",
      "Processed Image saved to: D:\\KULIAH\\SEMESTER 5\\RSBP\\Bacteri\\Detection-of-bacteria-in-water-using-Yolo-images\\Detect\\Detection-of-bacteria-in-water-using-Yolo-images\\temp\\images/val\\EMDS7-G041-004-0400.png\n",
      "Processed Image saved to: D:\\KULIAH\\SEMESTER 5\\RSBP\\Bacteri\\Detection-of-bacteria-in-water-using-Yolo-images\\Detect\\Detection-of-bacteria-in-water-using-Yolo-images\\temp\\images/val\\EMDS7-G020-009-0400.png\n",
      "Processed Image saved to: D:\\KULIAH\\SEMESTER 5\\RSBP\\Bacteri\\Detection-of-bacteria-in-water-using-Yolo-images\\Detect\\Detection-of-bacteria-in-water-using-Yolo-images\\temp\\images/val\\EMDS7-G014-009-0400.png\n",
      "Processed Image saved to: D:\\KULIAH\\SEMESTER 5\\RSBP\\Bacteri\\Detection-of-bacteria-in-water-using-Yolo-images\\Detect\\Detection-of-bacteria-in-water-using-Yolo-images\\temp\\images/val\\EMDS7-G022-100-0400.png\n",
      "Processed Image saved to: D:\\KULIAH\\SEMESTER 5\\RSBP\\Bacteri\\Detection-of-bacteria-in-water-using-Yolo-images\\Detect\\Detection-of-bacteria-in-water-using-Yolo-images\\temp\\images/val\\EMDS7-G014-079-0400.png\n",
      "Processed Image saved to: D:\\KULIAH\\SEMESTER 5\\RSBP\\Bacteri\\Detection-of-bacteria-in-water-using-Yolo-images\\Detect\\Detection-of-bacteria-in-water-using-Yolo-images\\temp\\images/val\\EMDS7-G008-004-0400.png\n",
      "Processed Image saved to: D:\\KULIAH\\SEMESTER 5\\RSBP\\Bacteri\\Detection-of-bacteria-in-water-using-Yolo-images\\Detect\\Detection-of-bacteria-in-water-using-Yolo-images\\temp\\images/val\\EMDS7-G018-084-0400.png\n",
      "Processed Image saved to: D:\\KULIAH\\SEMESTER 5\\RSBP\\Bacteri\\Detection-of-bacteria-in-water-using-Yolo-images\\Detect\\Detection-of-bacteria-in-water-using-Yolo-images\\temp\\images/val\\EMDS7-G020-015-0400.png\n",
      "Processed Image saved to: D:\\KULIAH\\SEMESTER 5\\RSBP\\Bacteri\\Detection-of-bacteria-in-water-using-Yolo-images\\Detect\\Detection-of-bacteria-in-water-using-Yolo-images\\temp\\images/val\\EMDS7-G004-079-0400.png\n",
      "Processed Image saved to: D:\\KULIAH\\SEMESTER 5\\RSBP\\Bacteri\\Detection-of-bacteria-in-water-using-Yolo-images\\Detect\\Detection-of-bacteria-in-water-using-Yolo-images\\temp\\images/val\\EMDS7-G021-001-0400.png\n",
      "Processed Image saved to: D:\\KULIAH\\SEMESTER 5\\RSBP\\Bacteri\\Detection-of-bacteria-in-water-using-Yolo-images\\Detect\\Detection-of-bacteria-in-water-using-Yolo-images\\temp\\images/val\\EMDS7-G015-007-0400.png\n",
      "Processed Image saved to: D:\\KULIAH\\SEMESTER 5\\RSBP\\Bacteri\\Detection-of-bacteria-in-water-using-Yolo-images\\Detect\\Detection-of-bacteria-in-water-using-Yolo-images\\temp\\images/val\\EMDS7-G003-099-0400.png\n",
      "Processed Image saved to: D:\\KULIAH\\SEMESTER 5\\RSBP\\Bacteri\\Detection-of-bacteria-in-water-using-Yolo-images\\Detect\\Detection-of-bacteria-in-water-using-Yolo-images\\temp\\images/val\\EMDS7-G009-010-0400.png\n",
      "Processed Image saved to: D:\\KULIAH\\SEMESTER 5\\RSBP\\Bacteri\\Detection-of-bacteria-in-water-using-Yolo-images\\Detect\\Detection-of-bacteria-in-water-using-Yolo-images\\temp\\images/val\\EMDS7-G012-068-0400.png\n",
      "Processed Image saved to: D:\\KULIAH\\SEMESTER 5\\RSBP\\Bacteri\\Detection-of-bacteria-in-water-using-Yolo-images\\Detect\\Detection-of-bacteria-in-water-using-Yolo-images\\temp\\images/val\\EMDS7-G037-009-0400.png\n",
      "Processed Image saved to: D:\\KULIAH\\SEMESTER 5\\RSBP\\Bacteri\\Detection-of-bacteria-in-water-using-Yolo-images\\Detect\\Detection-of-bacteria-in-water-using-Yolo-images\\temp\\images/val\\EMDS7-G004-013-0400.png\n",
      "Processed Image saved to: D:\\KULIAH\\SEMESTER 5\\RSBP\\Bacteri\\Detection-of-bacteria-in-water-using-Yolo-images\\Detect\\Detection-of-bacteria-in-water-using-Yolo-images\\temp\\images/val\\EMDS7-G018-078-0400.png\n",
      "Processed Image saved to: D:\\KULIAH\\SEMESTER 5\\RSBP\\Bacteri\\Detection-of-bacteria-in-water-using-Yolo-images\\Detect\\Detection-of-bacteria-in-water-using-Yolo-images\\temp\\images/val\\EMDS7-G003-296-0400.png\n",
      "Processed Image saved to: D:\\KULIAH\\SEMESTER 5\\RSBP\\Bacteri\\Detection-of-bacteria-in-water-using-Yolo-images\\Detect\\Detection-of-bacteria-in-water-using-Yolo-images\\temp\\images/val\\EMDS7-G039-060-0400.png\n",
      "Processed Image saved to: D:\\KULIAH\\SEMESTER 5\\RSBP\\Bacteri\\Detection-of-bacteria-in-water-using-Yolo-images\\Detect\\Detection-of-bacteria-in-water-using-Yolo-images\\temp\\images/val\\EMDS7-G012-058-0400.png\n",
      "Processed Image saved to: D:\\KULIAH\\SEMESTER 5\\RSBP\\Bacteri\\Detection-of-bacteria-in-water-using-Yolo-images\\Detect\\Detection-of-bacteria-in-water-using-Yolo-images\\temp\\images/val\\EMDS7-G014-092-0400.png\n",
      "Processed Image saved to: D:\\KULIAH\\SEMESTER 5\\RSBP\\Bacteri\\Detection-of-bacteria-in-water-using-Yolo-images\\Detect\\Detection-of-bacteria-in-water-using-Yolo-images\\temp\\images/val\\EMDS7-G035-037-0400.png\n",
      "Processed Image saved to: D:\\KULIAH\\SEMESTER 5\\RSBP\\Bacteri\\Detection-of-bacteria-in-water-using-Yolo-images\\Detect\\Detection-of-bacteria-in-water-using-Yolo-images\\temp\\images/val\\EMDS7-G003-273-0400.png\n",
      "Processed Image saved to: D:\\KULIAH\\SEMESTER 5\\RSBP\\Bacteri\\Detection-of-bacteria-in-water-using-Yolo-images\\Detect\\Detection-of-bacteria-in-water-using-Yolo-images\\temp\\images/val\\EMDS7-G017-001-0400.png\n",
      "Processed Image saved to: D:\\KULIAH\\SEMESTER 5\\RSBP\\Bacteri\\Detection-of-bacteria-in-water-using-Yolo-images\\Detect\\Detection-of-bacteria-in-water-using-Yolo-images\\temp\\images/val\\EMDS7-G016-022-0400.png\n",
      "Processed Image saved to: D:\\KULIAH\\SEMESTER 5\\RSBP\\Bacteri\\Detection-of-bacteria-in-water-using-Yolo-images\\Detect\\Detection-of-bacteria-in-water-using-Yolo-images\\temp\\images/val\\EMDS7-G022-031-0400.png\n",
      "Processed Image saved to: D:\\KULIAH\\SEMESTER 5\\RSBP\\Bacteri\\Detection-of-bacteria-in-water-using-Yolo-images\\Detect\\Detection-of-bacteria-in-water-using-Yolo-images\\temp\\images/val\\EMDS7-G038-035-0400.png\n",
      "Processed Image saved to: D:\\KULIAH\\SEMESTER 5\\RSBP\\Bacteri\\Detection-of-bacteria-in-water-using-Yolo-images\\Detect\\Detection-of-bacteria-in-water-using-Yolo-images\\temp\\images/val\\EMDS7-G003-023-0400.png\n",
      "Processed Image saved to: D:\\KULIAH\\SEMESTER 5\\RSBP\\Bacteri\\Detection-of-bacteria-in-water-using-Yolo-images\\Detect\\Detection-of-bacteria-in-water-using-Yolo-images\\temp\\images/val\\EMDS7-G038-043-0400.png\n",
      "Processed Image saved to: D:\\KULIAH\\SEMESTER 5\\RSBP\\Bacteri\\Detection-of-bacteria-in-water-using-Yolo-images\\Detect\\Detection-of-bacteria-in-water-using-Yolo-images\\temp\\images/val\\EMDS7-G018-056-0400.png\n",
      "Processed Image saved to: D:\\KULIAH\\SEMESTER 5\\RSBP\\Bacteri\\Detection-of-bacteria-in-water-using-Yolo-images\\Detect\\Detection-of-bacteria-in-water-using-Yolo-images\\temp\\images/val\\EMDS7-G011-027-0400.png\n",
      "Processed Image saved to: D:\\KULIAH\\SEMESTER 5\\RSBP\\Bacteri\\Detection-of-bacteria-in-water-using-Yolo-images\\Detect\\Detection-of-bacteria-in-water-using-Yolo-images\\temp\\images/val\\EMDS7-G029-001-0400.png\n",
      "Processed Image saved to: D:\\KULIAH\\SEMESTER 5\\RSBP\\Bacteri\\Detection-of-bacteria-in-water-using-Yolo-images\\Detect\\Detection-of-bacteria-in-water-using-Yolo-images\\temp\\images/val\\EMDS7-G039-043-0400.png\n",
      "Processed Image saved to: D:\\KULIAH\\SEMESTER 5\\RSBP\\Bacteri\\Detection-of-bacteria-in-water-using-Yolo-images\\Detect\\Detection-of-bacteria-in-water-using-Yolo-images\\temp\\images/val\\EMDS7-G023-006-0400.png\n",
      "Processed Image saved to: D:\\KULIAH\\SEMESTER 5\\RSBP\\Bacteri\\Detection-of-bacteria-in-water-using-Yolo-images\\Detect\\Detection-of-bacteria-in-water-using-Yolo-images\\temp\\images/val\\EMDS7-G036-002-0400.png\n",
      "Processed Image saved to: D:\\KULIAH\\SEMESTER 5\\RSBP\\Bacteri\\Detection-of-bacteria-in-water-using-Yolo-images\\Detect\\Detection-of-bacteria-in-water-using-Yolo-images\\temp\\images/val\\EMDS7-G008-037-0400.png\n",
      "Processed Image saved to: D:\\KULIAH\\SEMESTER 5\\RSBP\\Bacteri\\Detection-of-bacteria-in-water-using-Yolo-images\\Detect\\Detection-of-bacteria-in-water-using-Yolo-images\\temp\\images/val\\EMDS7-G011-055-0400.png\n",
      "Processed Image saved to: D:\\KULIAH\\SEMESTER 5\\RSBP\\Bacteri\\Detection-of-bacteria-in-water-using-Yolo-images\\Detect\\Detection-of-bacteria-in-water-using-Yolo-images\\temp\\images/val\\EMDS7-G018-027-0400.png\n",
      "Processed Image saved to: D:\\KULIAH\\SEMESTER 5\\RSBP\\Bacteri\\Detection-of-bacteria-in-water-using-Yolo-images\\Detect\\Detection-of-bacteria-in-water-using-Yolo-images\\temp\\images/val\\EMDS7-G005-020-0400.png\n",
      "Processed Image saved to: D:\\KULIAH\\SEMESTER 5\\RSBP\\Bacteri\\Detection-of-bacteria-in-water-using-Yolo-images\\Detect\\Detection-of-bacteria-in-water-using-Yolo-images\\temp\\images/val\\EMDS7-G032-061-0400.png\n",
      "Processed Image saved to: D:\\KULIAH\\SEMESTER 5\\RSBP\\Bacteri\\Detection-of-bacteria-in-water-using-Yolo-images\\Detect\\Detection-of-bacteria-in-water-using-Yolo-images\\temp\\images/val\\EMDS7-G040-007-0400.png\n",
      "Processed Image saved to: D:\\KULIAH\\SEMESTER 5\\RSBP\\Bacteri\\Detection-of-bacteria-in-water-using-Yolo-images\\Detect\\Detection-of-bacteria-in-water-using-Yolo-images\\temp\\images/val\\EMDS7-G035-041-0400.png\n",
      "Processed Image saved to: D:\\KULIAH\\SEMESTER 5\\RSBP\\Bacteri\\Detection-of-bacteria-in-water-using-Yolo-images\\Detect\\Detection-of-bacteria-in-water-using-Yolo-images\\temp\\images/val\\EMDS7-G035-021-0400.png\n",
      "Processed Image saved to: D:\\KULIAH\\SEMESTER 5\\RSBP\\Bacteri\\Detection-of-bacteria-in-water-using-Yolo-images\\Detect\\Detection-of-bacteria-in-water-using-Yolo-images\\temp\\images/val\\EMDS7-G011-005-0400.png\n",
      "Processed Image saved to: D:\\KULIAH\\SEMESTER 5\\RSBP\\Bacteri\\Detection-of-bacteria-in-water-using-Yolo-images\\Detect\\Detection-of-bacteria-in-water-using-Yolo-images\\temp\\images/val\\EMDS7-G032-084-0400.png\n",
      "Processed Image saved to: D:\\KULIAH\\SEMESTER 5\\RSBP\\Bacteri\\Detection-of-bacteria-in-water-using-Yolo-images\\Detect\\Detection-of-bacteria-in-water-using-Yolo-images\\temp\\images/val\\EMDS7-G022-226-0400.png\n",
      "Processed Image saved to: D:\\KULIAH\\SEMESTER 5\\RSBP\\Bacteri\\Detection-of-bacteria-in-water-using-Yolo-images\\Detect\\Detection-of-bacteria-in-water-using-Yolo-images\\temp\\images/val\\EMDS7-G038-021-0400.png\n",
      "Processed Image saved to: D:\\KULIAH\\SEMESTER 5\\RSBP\\Bacteri\\Detection-of-bacteria-in-water-using-Yolo-images\\Detect\\Detection-of-bacteria-in-water-using-Yolo-images\\temp\\images/val\\EMDS7-G018-074-0400.png\n",
      "Processed Image saved to: D:\\KULIAH\\SEMESTER 5\\RSBP\\Bacteri\\Detection-of-bacteria-in-water-using-Yolo-images\\Detect\\Detection-of-bacteria-in-water-using-Yolo-images\\temp\\images/val\\EMDS7-G008-041-0400.png\n",
      "Processed Image saved to: D:\\KULIAH\\SEMESTER 5\\RSBP\\Bacteri\\Detection-of-bacteria-in-water-using-Yolo-images\\Detect\\Detection-of-bacteria-in-water-using-Yolo-images\\temp\\images/val\\EMDS7-G023-021-0400.png\n",
      "Processed Image saved to: D:\\KULIAH\\SEMESTER 5\\RSBP\\Bacteri\\Detection-of-bacteria-in-water-using-Yolo-images\\Detect\\Detection-of-bacteria-in-water-using-Yolo-images\\temp\\images/val\\EMDS7-G004-031-0400.png\n",
      "Processed Image saved to: D:\\KULIAH\\SEMESTER 5\\RSBP\\Bacteri\\Detection-of-bacteria-in-water-using-Yolo-images\\Detect\\Detection-of-bacteria-in-water-using-Yolo-images\\temp\\images/val\\EMDS7-G004-057-0400.png\n",
      "Processed Image saved to: D:\\KULIAH\\SEMESTER 5\\RSBP\\Bacteri\\Detection-of-bacteria-in-water-using-Yolo-images\\Detect\\Detection-of-bacteria-in-water-using-Yolo-images\\temp\\images/val\\EMDS7-G011-019-0400.png\n",
      "Processed Image saved to: D:\\KULIAH\\SEMESTER 5\\RSBP\\Bacteri\\Detection-of-bacteria-in-water-using-Yolo-images\\Detect\\Detection-of-bacteria-in-water-using-Yolo-images\\temp\\images/val\\EMDS7-G010-015-0400.png\n",
      "Processed Image saved to: D:\\KULIAH\\SEMESTER 5\\RSBP\\Bacteri\\Detection-of-bacteria-in-water-using-Yolo-images\\Detect\\Detection-of-bacteria-in-water-using-Yolo-images\\temp\\images/val\\EMDS7-G014-065-0400.png\n",
      "Processed Image saved to: D:\\KULIAH\\SEMESTER 5\\RSBP\\Bacteri\\Detection-of-bacteria-in-water-using-Yolo-images\\Detect\\Detection-of-bacteria-in-water-using-Yolo-images\\temp\\images/val\\EMDS7-G001-013-0400.png\n",
      "Processed Image saved to: D:\\KULIAH\\SEMESTER 5\\RSBP\\Bacteri\\Detection-of-bacteria-in-water-using-Yolo-images\\Detect\\Detection-of-bacteria-in-water-using-Yolo-images\\temp\\images/val\\EMDS7-G008-005-0400.png\n",
      "Processed Image saved to: D:\\KULIAH\\SEMESTER 5\\RSBP\\Bacteri\\Detection-of-bacteria-in-water-using-Yolo-images\\Detect\\Detection-of-bacteria-in-water-using-Yolo-images\\temp\\images/val\\EMDS7-G023-030-0400.png\n",
      "Processed Image saved to: D:\\KULIAH\\SEMESTER 5\\RSBP\\Bacteri\\Detection-of-bacteria-in-water-using-Yolo-images\\Detect\\Detection-of-bacteria-in-water-using-Yolo-images\\temp\\images/val\\EMDS7-G018-057-0400.png\n",
      "Processed Image saved to: D:\\KULIAH\\SEMESTER 5\\RSBP\\Bacteri\\Detection-of-bacteria-in-water-using-Yolo-images\\Detect\\Detection-of-bacteria-in-water-using-Yolo-images\\temp\\images/val\\EMDS7-G031-006-0400.png\n",
      "Processed Image saved to: D:\\KULIAH\\SEMESTER 5\\RSBP\\Bacteri\\Detection-of-bacteria-in-water-using-Yolo-images\\Detect\\Detection-of-bacteria-in-water-using-Yolo-images\\temp\\images/val\\EMDS7-G031-032-0400.png\n",
      "Processed Image saved to: D:\\KULIAH\\SEMESTER 5\\RSBP\\Bacteri\\Detection-of-bacteria-in-water-using-Yolo-images\\Detect\\Detection-of-bacteria-in-water-using-Yolo-images\\temp\\images/val\\EMDS7-G023-013-0400.png\n",
      "Processed Image saved to: D:\\KULIAH\\SEMESTER 5\\RSBP\\Bacteri\\Detection-of-bacteria-in-water-using-Yolo-images\\Detect\\Detection-of-bacteria-in-water-using-Yolo-images\\temp\\images/val\\EMDS7-G014-028-0400.png\n",
      "Data berhasil diproses dan dikonversi ke format YOLO! Contoh gambar disimpan di folder sample_output.\n"
     ]
    }
   ],
   "source": [
    "import os\n",
    "import random\n",
    "import shutil\n",
    "import albumentations as A\n",
    "import cv2\n",
    "import numpy as np\n",
    "import xml.etree.ElementTree as ET\n",
    "from concurrent.futures import ThreadPoolExecutor, as_completed\n",
    "\n",
    "def image_processing(img, threshold_value=127, kernel_size=3, dilate_iterations=1):\n",
    "    \"\"\"\n",
    "    Proses gambar menggunakan grayscale thresholding dan dilasi.\n",
    "    \n",
    "    Parameters:\n",
    "        img (numpy.ndarray): Input gambar.\n",
    "        threshold_value (int): Nilai threshold (0-255).\n",
    "        kernel_size (int): Ukuran kernel untuk dilasi.\n",
    "        dilate_iterations (int): Jumlah iterasi untuk dilasi.\n",
    "    \n",
    "    Returns:\n",
    "        numpy.ndarray: Gambar hasil thresholding dan dilasi.\n",
    "    \"\"\"\n",
    "    # Konversi gambar ke grayscale\n",
    "    if len(img.shape) == 3:  # Jika memiliki 3 channel (RGB/BGR)\n",
    "        gray_img = cv2.cvtColor(img, cv2.COLOR_BGR2GRAY)\n",
    "    else:\n",
    "        gray_img = img\n",
    "\n",
    "    # Thresholding\n",
    "    _, binary_img = cv2.threshold(gray_img, threshold_value, 255, cv2.THRESH_BINARY)\n",
    "\n",
    "    # Kernel untuk dilasi\n",
    "    kernel = np.ones((kernel_size, kernel_size), np.uint8)\n",
    "\n",
    "    # Dilasi\n",
    "    dilated_img = cv2.dilate(binary_img, kernel, iterations=dilate_iterations)\n",
    "\n",
    "    return dilated_img\n",
    "\n",
    "# Path ke folder data\n",
    "images_dir = \"D:\\KULIAH\\SEMESTER 5\\RSBP\\Bacteri\\Detection-of-bacteria-in-water-using-Yolo-images\\Detect\\Detection-of-bacteria-in-water-using-Yolo-images\\EMDS7\"\n",
    "labels_dir = \"D:\\KULIAH\\SEMESTER 5\\RSBP\\Bacteri\\Detection-of-bacteria-in-water-using-Yolo-images\\Detect\\Detection-of-bacteria-in-water-using-Yolo-images\\EMDS7xml\"\n",
    "output_dir = \"D:\\KULIAH\\SEMESTER 5\\RSBP\\Bacteri\\Detection-of-bacteria-in-water-using-Yolo-images\\Detect\\Detection-of-bacteria-in-water-using-Yolo-images\\\\temp\"\n",
    "sample_output_dir = \"D:\\KULIAH\\SEMESTER 5\\RSBP\\Bacteri\\Detection-of-bacteria-in-water-using-Yolo-images\\Detect\\Detection-of-bacteria-in-water-using-Yolo-images\\sample_output\"\n",
    "\n",
    "train_val_split = 0.8  # Rasio data train/validation\n",
    "\n",
    "# Cek apakah path gambar dan label ada\n",
    "if not os.path.exists(images_dir):\n",
    "    raise FileNotFoundError(f\"Path gambar tidak ditemukan: {images_dir}\")\n",
    "if not os.path.exists(labels_dir):\n",
    "    raise FileNotFoundError(f\"Path label tidak ditemukan: {labels_dir}\")\n",
    "\n",
    "# Remove output directory if it exists and create fresh output folders\n",
    "if os.path.exists(output_dir):\n",
    "    shutil.rmtree(output_dir)\n",
    "\n",
    "if os.path.exists(sample_output_dir):\n",
    "    shutil.rmtree(sample_output_dir)\n",
    "\n",
    "# Buat ulang folder output yang fresh\n",
    "os.makedirs(os.path.join(output_dir, 'images/train'), exist_ok=True)\n",
    "os.makedirs(os.path.join(output_dir, 'images/val'), exist_ok=True)\n",
    "os.makedirs(os.path.join(output_dir, 'labels/train'), exist_ok=True)\n",
    "os.makedirs(os.path.join(output_dir, 'labels/val'), exist_ok=True)\n",
    "os.makedirs(sample_output_dir, exist_ok=True)\n",
    "\n",
    "# Daftar semua gambar dan annotations\n",
    "image_files = [f for f in os.listdir(images_dir) if f.endswith('.png')]\n",
    "label_files = [f.replace('.png', '.xml') for f in image_files]\n",
    "\n",
    "# Shuffle data for randomness\n",
    "data = list(zip(image_files, label_files))\n",
    "random.shuffle(data)\n",
    "\n",
    "# Split data into training and validation sets\n",
    "split_index = int(train_val_split * len(data))\n",
    "train_data = data[:split_index]\n",
    "val_data = data[split_index:]\n",
    "\n",
    "class_mapping = {\n",
    "    'G001': 0,  'G002': 1,  'G003': 2,  'G004': 3,  'G005': 4,  'G006': 5,  'G007': 6,  'G008': 7,  'G009': 8,  'G010': 9,\n",
    "    'G011': 10, 'G012': 11, 'G013': 12, 'G014': 13, 'G015': 14, 'G016': 15, 'G017': 16, 'G018': 17, 'G019': 18, 'G020': 19,\n",
    "    'G021': 20, 'G022': 21, 'G023': 22, 'G024': 23, 'G025': 24, 'G026': 25, 'G027': 26, 'G028': 27, 'G029': 28, 'G030': 29,\n",
    "    'G031': 30, 'G032': 31, 'G033': 32, 'G034': 33, 'G035': 34, 'G036': 35, 'G037': 36, 'G038': 37, 'G039': 38, 'G040': 39,\n",
    "    'G041': 40, 'G042': 41, 'G043': 42, 'G044': 43, 'G045': 44, 'G046': 45, 'G047': 46, 'G048': 47, 'G049': 48, 'G050': 49,\n",
    "    'G051': 50, 'G052': 51, 'G053': 52\n",
    "}\n",
    "\n",
    "# Augmentasi gambar dan bounding box tanpa mirroring, mengisi area kosong dengan putih\n",
    "augmentor = A.Compose([\n",
    "    A.Resize(1024, 1024, p=0)\n",
    "], bbox_params=A.BboxParams(format='yolo', label_fields=['class_labels']))\n",
    "\n",
    "def draw_bboxes(image, bboxes, class_labels):\n",
    "    \"\"\"Gambar bounding box pada gambar.\"\"\"\n",
    "    for bbox, class_id in zip(bboxes, class_labels):\n",
    "        x_center, y_center, width, height = bbox\n",
    "        img_h, img_w = image.shape[:2]\n",
    "        xmin = int((x_center - width / 2) * img_w)\n",
    "        ymin = int((y_center - height / 2) * img_h)\n",
    "        xmax = int((x_center + width / 2) * img_w)\n",
    "        ymax = int((y_center + height / 2) * img_h)\n",
    "        cv2.rectangle(image, (xmin, ymin), (xmax, ymax), (0, 255, 0), 2)\n",
    "        cv2.putText(image, str(class_id), (xmin, ymin - 10), cv2.FONT_HERSHEY_SIMPLEX, 0.9, (255, 255, 0), 2)\n",
    "\n",
    "def convert_xml_to_txt(xml_path, txt_output_path, augment=False, img=None):\n",
    "    \"\"\"Fungsi ini akan mengonversi format XML ke format YOLO (txt).\"\"\"\n",
    "    tree = ET.parse(xml_path)\n",
    "    root = tree.getroot()\n",
    "    width = int(root.find('size/width').text)\n",
    "    height = int(root.find('size/height').text)\n",
    "    bboxes = []\n",
    "    class_labels = []\n",
    "\n",
    "    for obj in root.findall('object'):\n",
    "        class_name = obj.find('name').text\n",
    "        class_id = class_mapping.get(class_name, -1)\n",
    "        if class_id == -1:\n",
    "            continue\n",
    "        bndbox = obj.find('bndbox')\n",
    "        xmin = int(bndbox.find('xmin').text)\n",
    "        ymin = int(bndbox.find('ymin').text)\n",
    "        xmax = int(bndbox.find('xmax').text)\n",
    "        ymax = int(bndbox.find('ymax').text)\n",
    "        x_center = (xmin + xmax) / 2.0 / width\n",
    "        y_center = (ymin + ymax) / 2.0 / height\n",
    "        box_width = (xmax - xmin) / width\n",
    "        box_height = (ymax - ymin) / height\n",
    "        bboxes.append([x_center, y_center, box_width, box_height])\n",
    "        class_labels.append(class_id)\n",
    "\n",
    "    # Pastikan setidaknya ada satu kelas yang valid\n",
    "    if not class_labels:\n",
    "        return None, None, None\n",
    "\n",
    "    if augment and img is not None:\n",
    "        augmented = augmentor(image=img, bboxes=bboxes, class_labels=class_labels)\n",
    "        img = augmented['image']\n",
    "        bboxes = augmented['bboxes']\n",
    "        class_labels = augmented['class_labels']\n",
    "    \n",
    "    with open(txt_output_path, 'w') as txt_file:\n",
    "        for bbox, label in zip(bboxes, class_labels):\n",
    "            txt_file.write(f\"{label} {' '.join(map(str, bbox))}\\n\")\n",
    "\n",
    "    return img, bboxes, class_labels\n",
    "\n",
    "def process_data(img_file, lbl_file, img_dest_folder, lbl_dest_folder, sample_output_count=15, sample_counter=0):\n",
    "    img_src_path = os.path.join(images_dir, img_file)\n",
    "    lbl_src_path = os.path.join(labels_dir, lbl_file)\n",
    "    img = cv2.imread(img_src_path)\n",
    "    \n",
    "    # Terapkan pemrosesan gambar\n",
    "    processed_img = image_processing(img)\n",
    "    \n",
    "    img_dest_path = os.path.join(img_dest_folder, img_file)\n",
    "    lbl_dest_path = os.path.join(lbl_dest_folder, lbl_file.replace('.xml', '.txt'))\n",
    "    \n",
    "    # Konversi XML ke TXT dan simpan gambar yang diproses\n",
    "    processed_img, bboxes, class_labels = convert_xml_to_txt(lbl_src_path, lbl_dest_path, img=processed_img)\n",
    "    \n",
    "    # Jika tidak ada kelas yang valid, lewati gambar ini\n",
    "    if processed_img is None:\n",
    "        print(f\"Skipping image {img_file} due to no valid classes.\")\n",
    "        return\n",
    "    \n",
    "    # Simpan gambar yang diproses\n",
    "    cv2.imwrite(img_dest_path, processed_img)\n",
    "    \n",
    "    # Simpan contoh gambar dengan bounding box jika diperlukan\n",
    "    if sample_counter < sample_output_count:\n",
    "        sample_img = processed_img.copy()\n",
    "        draw_bboxes(sample_img, bboxes, class_labels)\n",
    "        cv2.imwrite(os.path.join(sample_output_dir, f\"{img_file.replace('.png', '_sample.png')}\"), sample_img)\n",
    "        sample_counter += 1\n",
    "    \n",
    "    print(f\"Processed Image saved to: {img_dest_path}\")\n",
    "\n",
    "def copy_and_convert_data(data, img_dest_folder, lbl_dest_folder, sample_output_count=30):\n",
    "    sample_counter = 0\n",
    "    with ThreadPoolExecutor() as executor:\n",
    "        futures = []\n",
    "        for img_file, lbl_file in data:\n",
    "            futures.append(executor.submit(process_data, img_file, lbl_file, img_dest_folder, lbl_dest_folder, sample_output_count, sample_counter))\n",
    "        for future in as_completed(futures):\n",
    "            future.result()\n",
    "\n",
    "copy_and_convert_data(train_data, os.path.join(output_dir, 'images/train'), os.path.join(output_dir, 'labels/train'))\n",
    "copy_and_convert_data(val_data, os.path.join(output_dir, 'images/val'), os.path.join(output_dir, 'labels/val'))\n",
    "\n",
    "print(\"Data berhasil diproses dan dikonversi ke format YOLO! Contoh gambar disimpan di folder sample_output.\")"
   ]
  },
  {
   "cell_type": "code",
   "execution_count": 2,
   "metadata": {},
   "outputs": [],
   "source": [
    "import os\n",
    "os.environ[\"KMP_DUPLICATE_LIB_OK\"] = \"TRUE\""
   ]
  },
  {
   "cell_type": "code",
   "execution_count": 3,
   "metadata": {},
   "outputs": [
    {
     "name": "stdout",
     "output_type": "stream",
     "text": [
      "WARNING  Python>=3.10 is required, but Python==3.9.20 is currently installed \n",
      "New https://pypi.org/project/ultralytics/8.3.38 available  Update with 'pip install -U ultralytics'\n",
      "Ultralytics 8.3.21  Python-3.9.20 torch-2.5.0 CUDA:0 (NVIDIA GeForce RTX 4060 Laptop GPU, 8188MiB)\n",
      "\u001b[34m\u001b[1mengine\\trainer: \u001b[0mtask=detect, mode=train, model=yolov8m.pt, data=../data.yaml, epochs=100, time=None, patience=100, batch=16, imgsz=640, save=True, save_period=-1, cache=False, device=0, workers=16, project=runs/train/it2, name=it236, exist_ok=False, pretrained=True, optimizer=auto, verbose=True, seed=0, deterministic=True, single_cls=False, rect=False, cos_lr=False, close_mosaic=10, resume=False, amp=True, fraction=1.0, profile=False, freeze=None, multi_scale=False, overlap_mask=True, mask_ratio=4, dropout=0.0, val=True, split=val, save_json=False, save_hybrid=False, conf=None, iou=0.7, max_det=300, half=False, dnn=False, plots=True, source=None, vid_stride=1, stream_buffer=False, visualize=False, augment=False, agnostic_nms=False, classes=None, retina_masks=False, embed=None, show=False, save_frames=False, save_txt=False, save_conf=False, save_crop=False, show_labels=True, show_conf=True, show_boxes=True, line_width=None, format=torchscript, keras=False, optimize=False, int8=False, dynamic=False, simplify=True, opset=None, workspace=4, nms=False, lr0=0.01, lrf=0.01, momentum=0.937, weight_decay=0.0005, warmup_epochs=3.0, warmup_momentum=0.8, warmup_bias_lr=0.1, box=7.5, cls=0.5, dfl=1.5, pose=12.0, kobj=1.0, label_smoothing=0.0, nbs=64, hsv_h=0.015, hsv_s=0.7, hsv_v=0.4, degrees=0.0, translate=0.1, scale=0.5, shear=0.0, perspective=0.0, flipud=0.0, fliplr=0.5, bgr=0.0, mosaic=1.0, mixup=0.0, copy_paste=0.0, copy_paste_mode=flip, auto_augment=randaugment, erasing=0.4, crop_fraction=1.0, cfg=None, tracker=botsort.yaml, save_dir=runs\\train\\it2\\it236\n",
      "Overriding model.yaml nc=80 with nc=41\n",
      "\n",
      "                   from  n    params  module                                       arguments                     \n",
      "  0                  -1  1      1392  ultralytics.nn.modules.conv.Conv             [3, 48, 3, 2]                 \n",
      "  1                  -1  1     41664  ultralytics.nn.modules.conv.Conv             [48, 96, 3, 2]                \n",
      "  2                  -1  2    111360  ultralytics.nn.modules.block.C2f             [96, 96, 2, True]             \n",
      "  3                  -1  1    166272  ultralytics.nn.modules.conv.Conv             [96, 192, 3, 2]               \n",
      "  4                  -1  4    813312  ultralytics.nn.modules.block.C2f             [192, 192, 4, True]           \n",
      "  5                  -1  1    664320  ultralytics.nn.modules.conv.Conv             [192, 384, 3, 2]              \n",
      "  6                  -1  4   3248640  ultralytics.nn.modules.block.C2f             [384, 384, 4, True]           \n",
      "  7                  -1  1   1991808  ultralytics.nn.modules.conv.Conv             [384, 576, 3, 2]              \n",
      "  8                  -1  2   3985920  ultralytics.nn.modules.block.C2f             [576, 576, 2, True]           \n",
      "  9                  -1  1    831168  ultralytics.nn.modules.block.SPPF            [576, 576, 5]                 \n",
      " 10                  -1  1         0  torch.nn.modules.upsampling.Upsample         [None, 2, 'nearest']          \n",
      " 11             [-1, 6]  1         0  ultralytics.nn.modules.conv.Concat           [1]                           \n",
      " 12                  -1  2   1993728  ultralytics.nn.modules.block.C2f             [960, 384, 2]                 \n",
      " 13                  -1  1         0  torch.nn.modules.upsampling.Upsample         [None, 2, 'nearest']          \n",
      " 14             [-1, 4]  1         0  ultralytics.nn.modules.conv.Concat           [1]                           \n",
      " 15                  -1  2    517632  ultralytics.nn.modules.block.C2f             [576, 192, 2]                 \n",
      " 16                  -1  1    332160  ultralytics.nn.modules.conv.Conv             [192, 192, 3, 2]              \n",
      " 17            [-1, 12]  1         0  ultralytics.nn.modules.conv.Concat           [1]                           \n",
      " 18                  -1  2   1846272  ultralytics.nn.modules.block.C2f             [576, 384, 2]                 \n",
      " 19                  -1  1   1327872  ultralytics.nn.modules.conv.Conv             [384, 384, 3, 2]              \n",
      " 20             [-1, 9]  1         0  ultralytics.nn.modules.conv.Concat           [1]                           \n",
      " 21                  -1  2   4207104  ultralytics.nn.modules.block.C2f             [960, 576, 2]                 \n",
      " 22        [15, 18, 21]  1   3799435  ultralytics.nn.modules.head.Detect           [41, [192, 384, 576]]         \n",
      "Model summary: 295 layers, 25,880,059 parameters, 25,880,043 gradients, 79.2 GFLOPs\n",
      "\n",
      "Transferred 469/475 items from pretrained weights\n",
      "Freezing layer 'model.22.dfl.conv.weight'\n",
      "\u001b[34m\u001b[1mAMP: \u001b[0mrunning Automatic Mixed Precision (AMP) checks...\n",
      "\u001b[34m\u001b[1mAMP: \u001b[0mchecks passed \n"
     ]
    },
    {
     "name": "stderr",
     "output_type": "stream",
     "text": [
      "\u001b[34m\u001b[1mtrain: \u001b[0mScanning D:\\KULIAH\\SEMESTER 5\\RSBP\\Bacteri\\Detection-of-bacteria-in-water-using-Yolo-images\\Detect\\Detection-of-bacteria-in-water-using-Yolo-images\\temp\\labels\\train... 1872 images, 0 backgrounds, 0 corrupt: 100%|██████████| 1872/1872 [00:04<00:00, 465.25it/s]"
     ]
    },
    {
     "name": "stdout",
     "output_type": "stream",
     "text": [
      "\u001b[34m\u001b[1mtrain: \u001b[0mNew cache created: D:\\KULIAH\\SEMESTER 5\\RSBP\\Bacteri\\Detection-of-bacteria-in-water-using-Yolo-images\\Detect\\Detection-of-bacteria-in-water-using-Yolo-images\\temp\\labels\\train.cache\n"
     ]
    },
    {
     "name": "stderr",
     "output_type": "stream",
     "text": [
      "\n"
     ]
    },
    {
     "name": "stdout",
     "output_type": "stream",
     "text": [
      "\u001b[34m\u001b[1malbumentations: \u001b[0mBlur(p=0.01, blur_limit=(3, 7)), MedianBlur(p=0.01, blur_limit=(3, 7)), ToGray(p=0.01, num_output_channels=3, method='weighted_average'), CLAHE(p=0.01, clip_limit=(1.0, 4.0), tile_grid_size=(8, 8))\n"
     ]
    },
    {
     "name": "stderr",
     "output_type": "stream",
     "text": [
      "\u001b[34m\u001b[1mval: \u001b[0mScanning D:\\KULIAH\\SEMESTER 5\\RSBP\\Bacteri\\Detection-of-bacteria-in-water-using-Yolo-images\\Detect\\Detection-of-bacteria-in-water-using-Yolo-images\\temp\\labels\\val... 467 images, 0 backgrounds, 0 corrupt: 100%|██████████| 467/467 [00:01<00:00, 402.42it/s]"
     ]
    },
    {
     "name": "stdout",
     "output_type": "stream",
     "text": [
      "\u001b[34m\u001b[1mval: \u001b[0mNew cache created: D:\\KULIAH\\SEMESTER 5\\RSBP\\Bacteri\\Detection-of-bacteria-in-water-using-Yolo-images\\Detect\\Detection-of-bacteria-in-water-using-Yolo-images\\temp\\labels\\val.cache\n"
     ]
    },
    {
     "name": "stderr",
     "output_type": "stream",
     "text": [
      "\n"
     ]
    },
    {
     "name": "stdout",
     "output_type": "stream",
     "text": [
      "Plotting labels to runs\\train\\it2\\it236\\labels.jpg... \n",
      "\u001b[34m\u001b[1moptimizer:\u001b[0m 'optimizer=auto' found, ignoring 'lr0=0.01' and 'momentum=0.937' and determining best 'optimizer', 'lr0' and 'momentum' automatically... \n",
      "\u001b[34m\u001b[1moptimizer:\u001b[0m AdamW(lr=0.000222, momentum=0.9) with parameter groups 77 weight(decay=0.0), 84 weight(decay=0.0005), 83 bias(decay=0.0)\n",
      "Image sizes 640 train, 640 val\n",
      "Using 16 dataloader workers\n",
      "Logging results to \u001b[1mruns\\train\\it2\\it236\u001b[0m\n",
      "Starting training for 100 epochs...\n",
      "\n",
      "      Epoch    GPU_mem   box_loss   cls_loss   dfl_loss  Instances       Size\n"
     ]
    },
    {
     "name": "stderr",
     "output_type": "stream",
     "text": [
      "      1/100       6.9G      1.504      4.118      1.487         69        640: 100%|██████████| 117/117 [00:54<00:00,  2.16it/s]\n",
      "                 Class     Images  Instances      Box(P          R      mAP50  mAP50-95): 100%|██████████| 15/15 [00:12<00:00,  1.17it/s]"
     ]
    },
    {
     "name": "stdout",
     "output_type": "stream",
     "text": [
      "                   all        467       1106      0.372      0.273      0.173      0.122\n"
     ]
    },
    {
     "name": "stderr",
     "output_type": "stream",
     "text": [
      "\n"
     ]
    },
    {
     "name": "stdout",
     "output_type": "stream",
     "text": [
      "\n",
      "      Epoch    GPU_mem   box_loss   cls_loss   dfl_loss  Instances       Size\n"
     ]
    },
    {
     "name": "stderr",
     "output_type": "stream",
     "text": [
      "      2/100      7.12G      1.296       2.71      1.356         69        640: 100%|██████████| 117/117 [00:51<00:00,  2.28it/s]\n",
      "                 Class     Images  Instances      Box(P          R      mAP50  mAP50-95): 100%|██████████| 15/15 [00:15<00:00,  1.05s/it]\n"
     ]
    },
    {
     "name": "stdout",
     "output_type": "stream",
     "text": [
      "                   all        467       1106      0.558       0.32       0.35      0.261\n",
      "\n",
      "      Epoch    GPU_mem   box_loss   cls_loss   dfl_loss  Instances       Size\n"
     ]
    },
    {
     "name": "stderr",
     "output_type": "stream",
     "text": [
      "      3/100       7.2G      1.264      2.353      1.354         65        640: 100%|██████████| 117/117 [00:54<00:00,  2.16it/s]\n",
      "                 Class     Images  Instances      Box(P          R      mAP50  mAP50-95): 100%|██████████| 15/15 [00:31<00:00,  2.08s/it]"
     ]
    },
    {
     "name": "stdout",
     "output_type": "stream",
     "text": [
      "                   all        467       1106      0.517      0.315      0.332      0.235\n"
     ]
    },
    {
     "name": "stderr",
     "output_type": "stream",
     "text": [
      "\n"
     ]
    },
    {
     "name": "stdout",
     "output_type": "stream",
     "text": [
      "\n",
      "      Epoch    GPU_mem   box_loss   cls_loss   dfl_loss  Instances       Size\n"
     ]
    },
    {
     "name": "stderr",
     "output_type": "stream",
     "text": [
      "      4/100      7.18G      1.289      2.239       1.39         58        640: 100%|██████████| 117/117 [00:55<00:00,  2.09it/s]\n",
      "                 Class     Images  Instances      Box(P          R      mAP50  mAP50-95): 100%|██████████| 15/15 [00:20<00:00,  1.33s/it]"
     ]
    },
    {
     "name": "stdout",
     "output_type": "stream",
     "text": [
      "                   all        467       1106      0.492      0.389       0.38      0.272\n"
     ]
    },
    {
     "name": "stderr",
     "output_type": "stream",
     "text": [
      "\n"
     ]
    },
    {
     "name": "stdout",
     "output_type": "stream",
     "text": [
      "\n",
      "      Epoch    GPU_mem   box_loss   cls_loss   dfl_loss  Instances       Size\n"
     ]
    },
    {
     "name": "stderr",
     "output_type": "stream",
     "text": [
      "      5/100      7.09G      1.243      2.042      1.353         61        640: 100%|██████████| 117/117 [00:54<00:00,  2.13it/s]\n",
      "                 Class     Images  Instances      Box(P          R      mAP50  mAP50-95): 100%|██████████| 15/15 [00:13<00:00,  1.09it/s]"
     ]
    },
    {
     "name": "stdout",
     "output_type": "stream",
     "text": [
      "                   all        467       1106      0.602      0.343      0.444      0.334\n"
     ]
    },
    {
     "name": "stderr",
     "output_type": "stream",
     "text": [
      "\n"
     ]
    },
    {
     "name": "stdout",
     "output_type": "stream",
     "text": [
      "\n",
      "      Epoch    GPU_mem   box_loss   cls_loss   dfl_loss  Instances       Size\n"
     ]
    },
    {
     "name": "stderr",
     "output_type": "stream",
     "text": [
      "      6/100      7.19G      1.208      1.952      1.333         55        640: 100%|██████████| 117/117 [00:52<00:00,  2.25it/s]\n",
      "                 Class     Images  Instances      Box(P          R      mAP50  mAP50-95): 100%|██████████| 15/15 [00:12<00:00,  1.17it/s]\n"
     ]
    },
    {
     "name": "stdout",
     "output_type": "stream",
     "text": [
      "                   all        467       1106      0.676      0.386       0.48      0.362\n",
      "\n",
      "      Epoch    GPU_mem   box_loss   cls_loss   dfl_loss  Instances       Size\n"
     ]
    },
    {
     "name": "stderr",
     "output_type": "stream",
     "text": [
      "      7/100       7.2G      1.171      1.812      1.307         64        640: 100%|██████████| 117/117 [00:53<00:00,  2.19it/s]\n",
      "                 Class     Images  Instances      Box(P          R      mAP50  mAP50-95): 100%|██████████| 15/15 [00:14<00:00,  1.05it/s]"
     ]
    },
    {
     "name": "stdout",
     "output_type": "stream",
     "text": [
      "                   all        467       1106      0.645      0.449      0.509       0.38\n"
     ]
    },
    {
     "name": "stderr",
     "output_type": "stream",
     "text": [
      "\n"
     ]
    },
    {
     "name": "stdout",
     "output_type": "stream",
     "text": [
      "\n",
      "      Epoch    GPU_mem   box_loss   cls_loss   dfl_loss  Instances       Size\n"
     ]
    },
    {
     "name": "stderr",
     "output_type": "stream",
     "text": [
      "      8/100      7.15G      1.135      1.694      1.292         75        640: 100%|██████████| 117/117 [00:55<00:00,  2.12it/s]\n",
      "                 Class     Images  Instances      Box(P          R      mAP50  mAP50-95): 100%|██████████| 15/15 [00:28<00:00,  1.92s/it]"
     ]
    },
    {
     "name": "stdout",
     "output_type": "stream",
     "text": [
      "                   all        467       1106       0.64      0.464      0.539      0.412\n"
     ]
    },
    {
     "name": "stderr",
     "output_type": "stream",
     "text": [
      "\n"
     ]
    },
    {
     "name": "stdout",
     "output_type": "stream",
     "text": [
      "\n",
      "      Epoch    GPU_mem   box_loss   cls_loss   dfl_loss  Instances       Size\n"
     ]
    },
    {
     "name": "stderr",
     "output_type": "stream",
     "text": [
      "      9/100      7.09G      1.127      1.652      1.285         43        640: 100%|██████████| 117/117 [00:50<00:00,  2.32it/s]\n",
      "                 Class     Images  Instances      Box(P          R      mAP50  mAP50-95): 100%|██████████| 15/15 [00:13<00:00,  1.12it/s]"
     ]
    },
    {
     "name": "stdout",
     "output_type": "stream",
     "text": [
      "                   all        467       1106      0.609      0.536      0.578       0.44\n"
     ]
    },
    {
     "name": "stderr",
     "output_type": "stream",
     "text": [
      "\n"
     ]
    },
    {
     "name": "stdout",
     "output_type": "stream",
     "text": [
      "\n",
      "      Epoch    GPU_mem   box_loss   cls_loss   dfl_loss  Instances       Size\n"
     ]
    },
    {
     "name": "stderr",
     "output_type": "stream",
     "text": [
      "     10/100       7.2G      1.109      1.618       1.28         54        640: 100%|██████████| 117/117 [00:52<00:00,  2.23it/s]\n",
      "                 Class     Images  Instances      Box(P          R      mAP50  mAP50-95): 100%|██████████| 15/15 [00:12<00:00,  1.17it/s]"
     ]
    },
    {
     "name": "stdout",
     "output_type": "stream",
     "text": [
      "                   all        467       1106       0.66      0.503      0.583      0.435\n"
     ]
    },
    {
     "name": "stderr",
     "output_type": "stream",
     "text": [
      "\n"
     ]
    },
    {
     "name": "stdout",
     "output_type": "stream",
     "text": [
      "\n",
      "      Epoch    GPU_mem   box_loss   cls_loss   dfl_loss  Instances       Size\n"
     ]
    },
    {
     "name": "stderr",
     "output_type": "stream",
     "text": [
      "     11/100      7.19G      1.073      1.528      1.253         59        640: 100%|██████████| 117/117 [00:50<00:00,  2.31it/s]\n",
      "                 Class     Images  Instances      Box(P          R      mAP50  mAP50-95): 100%|██████████| 15/15 [00:12<00:00,  1.21it/s]"
     ]
    },
    {
     "name": "stdout",
     "output_type": "stream",
     "text": [
      "                   all        467       1106       0.64      0.545      0.571       0.45\n"
     ]
    },
    {
     "name": "stderr",
     "output_type": "stream",
     "text": [
      "\n"
     ]
    },
    {
     "name": "stdout",
     "output_type": "stream",
     "text": [
      "\n",
      "      Epoch    GPU_mem   box_loss   cls_loss   dfl_loss  Instances       Size\n"
     ]
    },
    {
     "name": "stderr",
     "output_type": "stream",
     "text": [
      "     12/100      7.18G      1.052      1.467      1.241         42        640: 100%|██████████| 117/117 [00:50<00:00,  2.30it/s]\n",
      "                 Class     Images  Instances      Box(P          R      mAP50  mAP50-95): 100%|██████████| 15/15 [00:09<00:00,  1.55it/s]"
     ]
    },
    {
     "name": "stdout",
     "output_type": "stream",
     "text": [
      "                   all        467       1106      0.739        0.5      0.609      0.484\n"
     ]
    },
    {
     "name": "stderr",
     "output_type": "stream",
     "text": [
      "\n"
     ]
    },
    {
     "name": "stdout",
     "output_type": "stream",
     "text": [
      "\n",
      "      Epoch    GPU_mem   box_loss   cls_loss   dfl_loss  Instances       Size\n"
     ]
    },
    {
     "name": "stderr",
     "output_type": "stream",
     "text": [
      "     13/100      7.08G      1.043      1.457      1.238         74        640: 100%|██████████| 117/117 [00:51<00:00,  2.29it/s]\n",
      "                 Class     Images  Instances      Box(P          R      mAP50  mAP50-95): 100%|██████████| 15/15 [00:08<00:00,  1.70it/s]"
     ]
    },
    {
     "name": "stdout",
     "output_type": "stream",
     "text": [
      "                   all        467       1106      0.671      0.573      0.644        0.5\n"
     ]
    },
    {
     "name": "stderr",
     "output_type": "stream",
     "text": [
      "\n"
     ]
    },
    {
     "name": "stdout",
     "output_type": "stream",
     "text": [
      "\n",
      "      Epoch    GPU_mem   box_loss   cls_loss   dfl_loss  Instances       Size\n"
     ]
    },
    {
     "name": "stderr",
     "output_type": "stream",
     "text": [
      "     14/100      7.19G      1.029      1.414      1.227         75        640: 100%|██████████| 117/117 [00:53<00:00,  2.17it/s]\n",
      "                 Class     Images  Instances      Box(P          R      mAP50  mAP50-95): 100%|██████████| 15/15 [00:14<00:00,  1.01it/s]"
     ]
    },
    {
     "name": "stdout",
     "output_type": "stream",
     "text": [
      "                   all        467       1106      0.801      0.535      0.665      0.525\n"
     ]
    },
    {
     "name": "stderr",
     "output_type": "stream",
     "text": [
      "\n"
     ]
    },
    {
     "name": "stdout",
     "output_type": "stream",
     "text": [
      "\n",
      "      Epoch    GPU_mem   box_loss   cls_loss   dfl_loss  Instances       Size\n"
     ]
    },
    {
     "name": "stderr",
     "output_type": "stream",
     "text": [
      "     15/100      7.16G      1.022       1.36      1.233         81        640: 100%|██████████| 117/117 [00:55<00:00,  2.10it/s]\n",
      "                 Class     Images  Instances      Box(P          R      mAP50  mAP50-95): 100%|██████████| 15/15 [00:17<00:00,  1.14s/it]"
     ]
    },
    {
     "name": "stdout",
     "output_type": "stream",
     "text": [
      "                   all        467       1106      0.688       0.57      0.647      0.504\n"
     ]
    },
    {
     "name": "stderr",
     "output_type": "stream",
     "text": [
      "\n"
     ]
    },
    {
     "name": "stdout",
     "output_type": "stream",
     "text": [
      "\n",
      "      Epoch    GPU_mem   box_loss   cls_loss   dfl_loss  Instances       Size\n"
     ]
    },
    {
     "name": "stderr",
     "output_type": "stream",
     "text": [
      "     16/100      7.18G      1.003       1.31      1.212         52        640: 100%|██████████| 117/117 [00:52<00:00,  2.21it/s]\n",
      "                 Class     Images  Instances      Box(P          R      mAP50  mAP50-95): 100%|██████████| 15/15 [00:11<00:00,  1.27it/s]"
     ]
    },
    {
     "name": "stdout",
     "output_type": "stream",
     "text": [
      "                   all        467       1106      0.736      0.587      0.683      0.533\n"
     ]
    },
    {
     "name": "stderr",
     "output_type": "stream",
     "text": [
      "\n"
     ]
    },
    {
     "name": "stdout",
     "output_type": "stream",
     "text": [
      "\n",
      "      Epoch    GPU_mem   box_loss   cls_loss   dfl_loss  Instances       Size\n"
     ]
    },
    {
     "name": "stderr",
     "output_type": "stream",
     "text": [
      "     17/100      7.09G     0.9794      1.261      1.199         70        640: 100%|██████████| 117/117 [00:52<00:00,  2.21it/s]\n",
      "                 Class     Images  Instances      Box(P          R      mAP50  mAP50-95): 100%|██████████| 15/15 [00:08<00:00,  1.78it/s]"
     ]
    },
    {
     "name": "stdout",
     "output_type": "stream",
     "text": [
      "                   all        467       1106      0.719      0.565      0.669      0.523\n"
     ]
    },
    {
     "name": "stderr",
     "output_type": "stream",
     "text": [
      "\n"
     ]
    },
    {
     "name": "stdout",
     "output_type": "stream",
     "text": [
      "\n",
      "      Epoch    GPU_mem   box_loss   cls_loss   dfl_loss  Instances       Size\n"
     ]
    },
    {
     "name": "stderr",
     "output_type": "stream",
     "text": [
      "     18/100      7.17G     0.9744      1.243      1.197         73        640: 100%|██████████| 117/117 [00:51<00:00,  2.28it/s]\n",
      "                 Class     Images  Instances      Box(P          R      mAP50  mAP50-95): 100%|██████████| 15/15 [00:10<00:00,  1.36it/s]"
     ]
    },
    {
     "name": "stdout",
     "output_type": "stream",
     "text": [
      "                   all        467       1106      0.743      0.636      0.708      0.544\n"
     ]
    },
    {
     "name": "stderr",
     "output_type": "stream",
     "text": [
      "\n"
     ]
    },
    {
     "name": "stdout",
     "output_type": "stream",
     "text": [
      "\n",
      "      Epoch    GPU_mem   box_loss   cls_loss   dfl_loss  Instances       Size\n"
     ]
    },
    {
     "name": "stderr",
     "output_type": "stream",
     "text": [
      "     19/100      7.18G     0.9616      1.224      1.196         47        640: 100%|██████████| 117/117 [00:50<00:00,  2.30it/s]\n",
      "                 Class     Images  Instances      Box(P          R      mAP50  mAP50-95): 100%|██████████| 15/15 [00:12<00:00,  1.16it/s]"
     ]
    },
    {
     "name": "stdout",
     "output_type": "stream",
     "text": [
      "                   all        467       1106      0.663      0.616      0.698      0.547\n"
     ]
    },
    {
     "name": "stderr",
     "output_type": "stream",
     "text": [
      "\n"
     ]
    },
    {
     "name": "stdout",
     "output_type": "stream",
     "text": [
      "\n",
      "      Epoch    GPU_mem   box_loss   cls_loss   dfl_loss  Instances       Size\n"
     ]
    },
    {
     "name": "stderr",
     "output_type": "stream",
     "text": [
      "     20/100      7.17G     0.9476      1.167      1.178         57        640: 100%|██████████| 117/117 [00:51<00:00,  2.26it/s]\n",
      "                 Class     Images  Instances      Box(P          R      mAP50  mAP50-95): 100%|██████████| 15/15 [00:14<00:00,  1.01it/s]"
     ]
    },
    {
     "name": "stdout",
     "output_type": "stream",
     "text": [
      "                   all        467       1106      0.752      0.612       0.68      0.525\n"
     ]
    },
    {
     "name": "stderr",
     "output_type": "stream",
     "text": [
      "\n"
     ]
    },
    {
     "name": "stdout",
     "output_type": "stream",
     "text": [
      "\n",
      "      Epoch    GPU_mem   box_loss   cls_loss   dfl_loss  Instances       Size\n"
     ]
    },
    {
     "name": "stderr",
     "output_type": "stream",
     "text": [
      "     21/100      7.08G     0.9327      1.164      1.178         48        640: 100%|██████████| 117/117 [00:52<00:00,  2.22it/s]\n",
      "                 Class     Images  Instances      Box(P          R      mAP50  mAP50-95): 100%|██████████| 15/15 [00:05<00:00,  2.62it/s]"
     ]
    },
    {
     "name": "stdout",
     "output_type": "stream",
     "text": [
      "                   all        467       1106      0.758      0.668      0.717      0.562\n"
     ]
    },
    {
     "name": "stderr",
     "output_type": "stream",
     "text": [
      "\n"
     ]
    },
    {
     "name": "stdout",
     "output_type": "stream",
     "text": [
      "\n",
      "      Epoch    GPU_mem   box_loss   cls_loss   dfl_loss  Instances       Size\n"
     ]
    },
    {
     "name": "stderr",
     "output_type": "stream",
     "text": [
      "     22/100      7.19G     0.9205      1.121      1.168         72        640: 100%|██████████| 117/117 [00:50<00:00,  2.29it/s]\n",
      "                 Class     Images  Instances      Box(P          R      mAP50  mAP50-95): 100%|██████████| 15/15 [00:08<00:00,  1.71it/s]"
     ]
    },
    {
     "name": "stdout",
     "output_type": "stream",
     "text": [
      "                   all        467       1106      0.801      0.618      0.706      0.544\n"
     ]
    },
    {
     "name": "stderr",
     "output_type": "stream",
     "text": [
      "\n"
     ]
    },
    {
     "name": "stdout",
     "output_type": "stream",
     "text": [
      "\n",
      "      Epoch    GPU_mem   box_loss   cls_loss   dfl_loss  Instances       Size\n"
     ]
    },
    {
     "name": "stderr",
     "output_type": "stream",
     "text": [
      "     23/100      7.16G     0.9269      1.116      1.163         53        640: 100%|██████████| 117/117 [00:50<00:00,  2.30it/s]\n",
      "                 Class     Images  Instances      Box(P          R      mAP50  mAP50-95): 100%|██████████| 15/15 [00:08<00:00,  1.70it/s]\n"
     ]
    },
    {
     "name": "stdout",
     "output_type": "stream",
     "text": [
      "                   all        467       1106       0.83      0.637      0.738        0.6\n",
      "\n",
      "      Epoch    GPU_mem   box_loss   cls_loss   dfl_loss  Instances       Size\n"
     ]
    },
    {
     "name": "stderr",
     "output_type": "stream",
     "text": [
      "     24/100      7.14G     0.9048       1.08      1.161         57        640: 100%|██████████| 117/117 [00:50<00:00,  2.30it/s]\n",
      "                 Class     Images  Instances      Box(P          R      mAP50  mAP50-95): 100%|██████████| 15/15 [00:09<00:00,  1.65it/s]"
     ]
    },
    {
     "name": "stdout",
     "output_type": "stream",
     "text": [
      "                   all        467       1106      0.651      0.678      0.718      0.563\n"
     ]
    },
    {
     "name": "stderr",
     "output_type": "stream",
     "text": [
      "\n"
     ]
    },
    {
     "name": "stdout",
     "output_type": "stream",
     "text": [
      "\n",
      "      Epoch    GPU_mem   box_loss   cls_loss   dfl_loss  Instances       Size\n"
     ]
    },
    {
     "name": "stderr",
     "output_type": "stream",
     "text": [
      "     25/100      7.08G     0.8646      1.033      1.141         44        640: 100%|██████████| 117/117 [00:51<00:00,  2.29it/s]\n",
      "                 Class     Images  Instances      Box(P          R      mAP50  mAP50-95): 100%|██████████| 15/15 [00:08<00:00,  1.68it/s]"
     ]
    },
    {
     "name": "stdout",
     "output_type": "stream",
     "text": [
      "                   all        467       1106      0.771      0.714      0.745      0.601\n"
     ]
    },
    {
     "name": "stderr",
     "output_type": "stream",
     "text": [
      "\n"
     ]
    },
    {
     "name": "stdout",
     "output_type": "stream",
     "text": [
      "\n",
      "      Epoch    GPU_mem   box_loss   cls_loss   dfl_loss  Instances       Size\n"
     ]
    },
    {
     "name": "stderr",
     "output_type": "stream",
     "text": [
      "     26/100      7.18G     0.8854      1.042      1.143         40        640: 100%|██████████| 117/117 [00:51<00:00,  2.29it/s]\n",
      "                 Class     Images  Instances      Box(P          R      mAP50  mAP50-95): 100%|██████████| 15/15 [00:11<00:00,  1.32it/s]"
     ]
    },
    {
     "name": "stdout",
     "output_type": "stream",
     "text": [
      "                   all        467       1106      0.831      0.649      0.744        0.6\n"
     ]
    },
    {
     "name": "stderr",
     "output_type": "stream",
     "text": [
      "\n"
     ]
    },
    {
     "name": "stdout",
     "output_type": "stream",
     "text": [
      "\n",
      "      Epoch    GPU_mem   box_loss   cls_loss   dfl_loss  Instances       Size\n"
     ]
    },
    {
     "name": "stderr",
     "output_type": "stream",
     "text": [
      "     27/100      7.19G     0.8658          1      1.128         58        640: 100%|██████████| 117/117 [00:55<00:00,  2.11it/s]\n",
      "                 Class     Images  Instances      Box(P          R      mAP50  mAP50-95): 100%|██████████| 15/15 [00:13<00:00,  1.14it/s]"
     ]
    },
    {
     "name": "stdout",
     "output_type": "stream",
     "text": [
      "                   all        467       1106      0.729      0.693      0.729      0.592\n"
     ]
    },
    {
     "name": "stderr",
     "output_type": "stream",
     "text": [
      "\n"
     ]
    },
    {
     "name": "stdout",
     "output_type": "stream",
     "text": [
      "\n",
      "      Epoch    GPU_mem   box_loss   cls_loss   dfl_loss  Instances       Size\n"
     ]
    },
    {
     "name": "stderr",
     "output_type": "stream",
     "text": [
      "     28/100      7.16G     0.8768     0.9902       1.14         41        640: 100%|██████████| 117/117 [00:56<00:00,  2.09it/s]\n",
      "                 Class     Images  Instances      Box(P          R      mAP50  mAP50-95): 100%|██████████| 15/15 [00:09<00:00,  1.56it/s]"
     ]
    },
    {
     "name": "stdout",
     "output_type": "stream",
     "text": [
      "                   all        467       1106      0.817      0.652      0.742        0.6\n"
     ]
    },
    {
     "name": "stderr",
     "output_type": "stream",
     "text": [
      "\n"
     ]
    },
    {
     "name": "stdout",
     "output_type": "stream",
     "text": [
      "\n",
      "      Epoch    GPU_mem   box_loss   cls_loss   dfl_loss  Instances       Size\n"
     ]
    },
    {
     "name": "stderr",
     "output_type": "stream",
     "text": [
      "     29/100      7.08G     0.8806     0.9816      1.144         47        640: 100%|██████████| 117/117 [00:52<00:00,  2.24it/s]\n",
      "                 Class     Images  Instances      Box(P          R      mAP50  mAP50-95): 100%|██████████| 15/15 [00:08<00:00,  1.73it/s]"
     ]
    },
    {
     "name": "stdout",
     "output_type": "stream",
     "text": [
      "                   all        467       1106      0.718      0.678      0.741       0.59\n"
     ]
    },
    {
     "name": "stderr",
     "output_type": "stream",
     "text": [
      "\n"
     ]
    },
    {
     "name": "stdout",
     "output_type": "stream",
     "text": [
      "\n",
      "      Epoch    GPU_mem   box_loss   cls_loss   dfl_loss  Instances       Size\n"
     ]
    },
    {
     "name": "stderr",
     "output_type": "stream",
     "text": [
      "     30/100      7.21G     0.8566     0.9756       1.13         57        640: 100%|██████████| 117/117 [00:51<00:00,  2.29it/s]\n",
      "                 Class     Images  Instances      Box(P          R      mAP50  mAP50-95): 100%|██████████| 15/15 [00:11<00:00,  1.28it/s]"
     ]
    },
    {
     "name": "stdout",
     "output_type": "stream",
     "text": [
      "                   all        467       1106      0.773      0.651       0.74      0.593\n"
     ]
    },
    {
     "name": "stderr",
     "output_type": "stream",
     "text": [
      "\n"
     ]
    },
    {
     "name": "stdout",
     "output_type": "stream",
     "text": [
      "\n",
      "      Epoch    GPU_mem   box_loss   cls_loss   dfl_loss  Instances       Size\n"
     ]
    },
    {
     "name": "stderr",
     "output_type": "stream",
     "text": [
      "     31/100      7.21G     0.8548     0.9466      1.133         63        640: 100%|██████████| 117/117 [00:51<00:00,  2.29it/s]\n",
      "                 Class     Images  Instances      Box(P          R      mAP50  mAP50-95): 100%|██████████| 15/15 [00:10<00:00,  1.41it/s]"
     ]
    },
    {
     "name": "stdout",
     "output_type": "stream",
     "text": [
      "                   all        467       1106      0.802      0.656      0.754      0.606\n"
     ]
    },
    {
     "name": "stderr",
     "output_type": "stream",
     "text": [
      "\n"
     ]
    },
    {
     "name": "stdout",
     "output_type": "stream",
     "text": [
      "\n",
      "      Epoch    GPU_mem   box_loss   cls_loss   dfl_loss  Instances       Size\n"
     ]
    },
    {
     "name": "stderr",
     "output_type": "stream",
     "text": [
      "     32/100      7.16G     0.8391     0.9294      1.113         57        640: 100%|██████████| 117/117 [00:51<00:00,  2.29it/s]\n",
      "                 Class     Images  Instances      Box(P          R      mAP50  mAP50-95): 100%|██████████| 15/15 [00:07<00:00,  1.92it/s]"
     ]
    },
    {
     "name": "stdout",
     "output_type": "stream",
     "text": [
      "                   all        467       1106      0.808       0.66      0.756      0.601\n"
     ]
    },
    {
     "name": "stderr",
     "output_type": "stream",
     "text": [
      "\n"
     ]
    },
    {
     "name": "stdout",
     "output_type": "stream",
     "text": [
      "\n",
      "      Epoch    GPU_mem   box_loss   cls_loss   dfl_loss  Instances       Size\n"
     ]
    },
    {
     "name": "stderr",
     "output_type": "stream",
     "text": [
      "     33/100      7.08G      0.848     0.9376      1.123         58        640: 100%|██████████| 117/117 [00:51<00:00,  2.27it/s]\n",
      "                 Class     Images  Instances      Box(P          R      mAP50  mAP50-95): 100%|██████████| 15/15 [00:08<00:00,  1.68it/s]"
     ]
    },
    {
     "name": "stdout",
     "output_type": "stream",
     "text": [
      "                   all        467       1106      0.747      0.698      0.749      0.594\n"
     ]
    },
    {
     "name": "stderr",
     "output_type": "stream",
     "text": [
      "\n"
     ]
    },
    {
     "name": "stdout",
     "output_type": "stream",
     "text": [
      "\n",
      "      Epoch    GPU_mem   box_loss   cls_loss   dfl_loss  Instances       Size\n"
     ]
    },
    {
     "name": "stderr",
     "output_type": "stream",
     "text": [
      "     34/100       7.2G     0.8318     0.8985      1.111         44        640: 100%|██████████| 117/117 [00:51<00:00,  2.28it/s]\n",
      "                 Class     Images  Instances      Box(P          R      mAP50  mAP50-95): 100%|██████████| 15/15 [00:12<00:00,  1.24it/s]\n"
     ]
    },
    {
     "name": "stdout",
     "output_type": "stream",
     "text": [
      "                   all        467       1106        0.8      0.644      0.738      0.594\n",
      "\n",
      "      Epoch    GPU_mem   box_loss   cls_loss   dfl_loss  Instances       Size\n"
     ]
    },
    {
     "name": "stderr",
     "output_type": "stream",
     "text": [
      "     35/100      7.17G     0.8225     0.8779        1.1         50        640: 100%|██████████| 117/117 [00:51<00:00,  2.27it/s]\n",
      "                 Class     Images  Instances      Box(P          R      mAP50  mAP50-95): 100%|██████████| 15/15 [00:11<00:00,  1.35it/s]"
     ]
    },
    {
     "name": "stdout",
     "output_type": "stream",
     "text": [
      "                   all        467       1106      0.844      0.674      0.747      0.615\n"
     ]
    },
    {
     "name": "stderr",
     "output_type": "stream",
     "text": [
      "\n"
     ]
    },
    {
     "name": "stdout",
     "output_type": "stream",
     "text": [
      "\n",
      "      Epoch    GPU_mem   box_loss   cls_loss   dfl_loss  Instances       Size\n"
     ]
    },
    {
     "name": "stderr",
     "output_type": "stream",
     "text": [
      "     36/100      7.18G     0.8192     0.8649      1.103         67        640: 100%|██████████| 117/117 [00:51<00:00,  2.28it/s]\n",
      "                 Class     Images  Instances      Box(P          R      mAP50  mAP50-95): 100%|██████████| 15/15 [00:09<00:00,  1.56it/s]"
     ]
    },
    {
     "name": "stdout",
     "output_type": "stream",
     "text": [
      "                   all        467       1106      0.804      0.685       0.73      0.599\n"
     ]
    },
    {
     "name": "stderr",
     "output_type": "stream",
     "text": [
      "\n"
     ]
    },
    {
     "name": "stdout",
     "output_type": "stream",
     "text": [
      "\n",
      "      Epoch    GPU_mem   box_loss   cls_loss   dfl_loss  Instances       Size\n"
     ]
    },
    {
     "name": "stderr",
     "output_type": "stream",
     "text": [
      "     37/100      7.11G     0.8169     0.8897      1.098         51        640: 100%|██████████| 117/117 [00:50<00:00,  2.29it/s]\n",
      "                 Class     Images  Instances      Box(P          R      mAP50  mAP50-95): 100%|██████████| 15/15 [00:07<00:00,  2.06it/s]"
     ]
    },
    {
     "name": "stdout",
     "output_type": "stream",
     "text": [
      "                   all        467       1106      0.702        0.7      0.738      0.597\n"
     ]
    },
    {
     "name": "stderr",
     "output_type": "stream",
     "text": [
      "\n"
     ]
    },
    {
     "name": "stdout",
     "output_type": "stream",
     "text": [
      "\n",
      "      Epoch    GPU_mem   box_loss   cls_loss   dfl_loss  Instances       Size\n"
     ]
    },
    {
     "name": "stderr",
     "output_type": "stream",
     "text": [
      "     38/100      7.17G      0.818     0.8849      1.104         56        640: 100%|██████████| 117/117 [00:51<00:00,  2.28it/s]\n",
      "                 Class     Images  Instances      Box(P          R      mAP50  mAP50-95): 100%|██████████| 15/15 [00:10<00:00,  1.47it/s]"
     ]
    },
    {
     "name": "stdout",
     "output_type": "stream",
     "text": [
      "                   all        467       1106      0.768      0.715       0.76      0.618\n"
     ]
    },
    {
     "name": "stderr",
     "output_type": "stream",
     "text": [
      "\n"
     ]
    },
    {
     "name": "stdout",
     "output_type": "stream",
     "text": [
      "\n",
      "      Epoch    GPU_mem   box_loss   cls_loss   dfl_loss  Instances       Size\n"
     ]
    },
    {
     "name": "stderr",
     "output_type": "stream",
     "text": [
      "     39/100      7.17G      0.804     0.8878      1.095         59        640: 100%|██████████| 117/117 [00:51<00:00,  2.27it/s]\n",
      "                 Class     Images  Instances      Box(P          R      mAP50  mAP50-95): 100%|██████████| 15/15 [00:10<00:00,  1.42it/s]"
     ]
    },
    {
     "name": "stdout",
     "output_type": "stream",
     "text": [
      "                   all        467       1106      0.785      0.688      0.749      0.609\n"
     ]
    },
    {
     "name": "stderr",
     "output_type": "stream",
     "text": [
      "\n"
     ]
    },
    {
     "name": "stdout",
     "output_type": "stream",
     "text": [
      "\n",
      "      Epoch    GPU_mem   box_loss   cls_loss   dfl_loss  Instances       Size\n"
     ]
    },
    {
     "name": "stderr",
     "output_type": "stream",
     "text": [
      "     40/100      7.18G     0.7803     0.8178      1.079         52        640: 100%|██████████| 117/117 [00:51<00:00,  2.27it/s]\n",
      "                 Class     Images  Instances      Box(P          R      mAP50  mAP50-95): 100%|██████████| 15/15 [00:05<00:00,  2.51it/s]"
     ]
    },
    {
     "name": "stdout",
     "output_type": "stream",
     "text": [
      "                   all        467       1106      0.789      0.686      0.763       0.62\n"
     ]
    },
    {
     "name": "stderr",
     "output_type": "stream",
     "text": [
      "\n"
     ]
    },
    {
     "name": "stdout",
     "output_type": "stream",
     "text": [
      "\n",
      "      Epoch    GPU_mem   box_loss   cls_loss   dfl_loss  Instances       Size\n"
     ]
    },
    {
     "name": "stderr",
     "output_type": "stream",
     "text": [
      "     41/100      7.08G     0.7817     0.8201      1.079         64        640: 100%|██████████| 117/117 [00:51<00:00,  2.27it/s]\n",
      "                 Class     Images  Instances      Box(P          R      mAP50  mAP50-95): 100%|██████████| 15/15 [00:07<00:00,  2.07it/s]"
     ]
    },
    {
     "name": "stdout",
     "output_type": "stream",
     "text": [
      "                   all        467       1106      0.813      0.681      0.763      0.619\n"
     ]
    },
    {
     "name": "stderr",
     "output_type": "stream",
     "text": [
      "\n"
     ]
    },
    {
     "name": "stdout",
     "output_type": "stream",
     "text": [
      "\n",
      "      Epoch    GPU_mem   box_loss   cls_loss   dfl_loss  Instances       Size\n"
     ]
    },
    {
     "name": "stderr",
     "output_type": "stream",
     "text": [
      "     42/100      7.18G     0.7822      0.811      1.081         62        640: 100%|██████████| 117/117 [00:51<00:00,  2.29it/s]\n",
      "                 Class     Images  Instances      Box(P          R      mAP50  mAP50-95): 100%|██████████| 15/15 [00:09<00:00,  1.51it/s]"
     ]
    },
    {
     "name": "stdout",
     "output_type": "stream",
     "text": [
      "                   all        467       1106      0.747      0.735      0.758      0.635\n"
     ]
    },
    {
     "name": "stderr",
     "output_type": "stream",
     "text": [
      "\n"
     ]
    },
    {
     "name": "stdout",
     "output_type": "stream",
     "text": [
      "\n",
      "      Epoch    GPU_mem   box_loss   cls_loss   dfl_loss  Instances       Size\n"
     ]
    },
    {
     "name": "stderr",
     "output_type": "stream",
     "text": [
      "     43/100      7.17G     0.7649     0.7682      1.071         55        640: 100%|██████████| 117/117 [00:51<00:00,  2.27it/s]\n",
      "                 Class     Images  Instances      Box(P          R      mAP50  mAP50-95): 100%|██████████| 15/15 [00:10<00:00,  1.42it/s]"
     ]
    },
    {
     "name": "stdout",
     "output_type": "stream",
     "text": [
      "                   all        467       1106      0.846      0.715      0.771      0.638\n"
     ]
    },
    {
     "name": "stderr",
     "output_type": "stream",
     "text": [
      "\n"
     ]
    },
    {
     "name": "stdout",
     "output_type": "stream",
     "text": [
      "\n",
      "      Epoch    GPU_mem   box_loss   cls_loss   dfl_loss  Instances       Size\n"
     ]
    },
    {
     "name": "stderr",
     "output_type": "stream",
     "text": [
      "     44/100      7.18G     0.7536     0.7622      1.068         54        640: 100%|██████████| 117/117 [00:51<00:00,  2.29it/s]\n",
      "                 Class     Images  Instances      Box(P          R      mAP50  mAP50-95): 100%|██████████| 15/15 [00:05<00:00,  2.81it/s]"
     ]
    },
    {
     "name": "stdout",
     "output_type": "stream",
     "text": [
      "                   all        467       1106      0.852      0.705      0.764      0.626\n"
     ]
    },
    {
     "name": "stderr",
     "output_type": "stream",
     "text": [
      "\n"
     ]
    },
    {
     "name": "stdout",
     "output_type": "stream",
     "text": [
      "\n",
      "      Epoch    GPU_mem   box_loss   cls_loss   dfl_loss  Instances       Size\n"
     ]
    },
    {
     "name": "stderr",
     "output_type": "stream",
     "text": [
      "     45/100      7.08G     0.7716     0.7819      1.068         47        640: 100%|██████████| 117/117 [00:51<00:00,  2.27it/s]\n",
      "                 Class     Images  Instances      Box(P          R      mAP50  mAP50-95): 100%|██████████| 15/15 [00:07<00:00,  2.03it/s]"
     ]
    },
    {
     "name": "stdout",
     "output_type": "stream",
     "text": [
      "                   all        467       1106      0.866      0.666      0.752      0.616\n"
     ]
    },
    {
     "name": "stderr",
     "output_type": "stream",
     "text": [
      "\n"
     ]
    },
    {
     "name": "stdout",
     "output_type": "stream",
     "text": [
      "\n",
      "      Epoch    GPU_mem   box_loss   cls_loss   dfl_loss  Instances       Size\n"
     ]
    },
    {
     "name": "stderr",
     "output_type": "stream",
     "text": [
      "     46/100      7.18G     0.7541     0.7641      1.065         62        640: 100%|██████████| 117/117 [00:51<00:00,  2.29it/s]\n",
      "                 Class     Images  Instances      Box(P          R      mAP50  mAP50-95): 100%|██████████| 15/15 [00:09<00:00,  1.55it/s]"
     ]
    },
    {
     "name": "stdout",
     "output_type": "stream",
     "text": [
      "                   all        467       1106      0.816      0.682      0.759      0.615\n"
     ]
    },
    {
     "name": "stderr",
     "output_type": "stream",
     "text": [
      "\n"
     ]
    },
    {
     "name": "stdout",
     "output_type": "stream",
     "text": [
      "\n",
      "      Epoch    GPU_mem   box_loss   cls_loss   dfl_loss  Instances       Size\n"
     ]
    },
    {
     "name": "stderr",
     "output_type": "stream",
     "text": [
      "     47/100      7.18G     0.7526     0.7455      1.061         75        640: 100%|██████████| 117/117 [00:51<00:00,  2.28it/s]\n",
      "                 Class     Images  Instances      Box(P          R      mAP50  mAP50-95): 100%|██████████| 15/15 [00:10<00:00,  1.47it/s]"
     ]
    },
    {
     "name": "stdout",
     "output_type": "stream",
     "text": [
      "                   all        467       1106      0.853      0.683      0.764      0.632\n"
     ]
    },
    {
     "name": "stderr",
     "output_type": "stream",
     "text": [
      "\n"
     ]
    },
    {
     "name": "stdout",
     "output_type": "stream",
     "text": [
      "\n",
      "      Epoch    GPU_mem   box_loss   cls_loss   dfl_loss  Instances       Size\n"
     ]
    },
    {
     "name": "stderr",
     "output_type": "stream",
     "text": [
      "     48/100      7.18G     0.7538     0.7376      1.075         53        640: 100%|██████████| 117/117 [00:51<00:00,  2.28it/s]\n",
      "                 Class     Images  Instances      Box(P          R      mAP50  mAP50-95): 100%|██████████| 15/15 [00:07<00:00,  2.07it/s]"
     ]
    },
    {
     "name": "stdout",
     "output_type": "stream",
     "text": [
      "                   all        467       1106      0.835      0.694      0.763      0.629\n"
     ]
    },
    {
     "name": "stderr",
     "output_type": "stream",
     "text": [
      "\n"
     ]
    },
    {
     "name": "stdout",
     "output_type": "stream",
     "text": [
      "\n",
      "      Epoch    GPU_mem   box_loss   cls_loss   dfl_loss  Instances       Size\n"
     ]
    },
    {
     "name": "stderr",
     "output_type": "stream",
     "text": [
      "     49/100      7.08G     0.7418     0.7278      1.053         81        640: 100%|██████████| 117/117 [00:51<00:00,  2.26it/s]\n",
      "                 Class     Images  Instances      Box(P          R      mAP50  mAP50-95): 100%|██████████| 15/15 [00:07<00:00,  2.06it/s]"
     ]
    },
    {
     "name": "stdout",
     "output_type": "stream",
     "text": [
      "                   all        467       1106      0.764      0.741      0.756      0.631\n"
     ]
    },
    {
     "name": "stderr",
     "output_type": "stream",
     "text": [
      "\n"
     ]
    },
    {
     "name": "stdout",
     "output_type": "stream",
     "text": [
      "\n",
      "      Epoch    GPU_mem   box_loss   cls_loss   dfl_loss  Instances       Size\n"
     ]
    },
    {
     "name": "stderr",
     "output_type": "stream",
     "text": [
      "     50/100      7.17G     0.7374     0.7286      1.053         73        640: 100%|██████████| 117/117 [00:51<00:00,  2.28it/s]\n",
      "                 Class     Images  Instances      Box(P          R      mAP50  mAP50-95): 100%|██████████| 15/15 [00:09<00:00,  1.56it/s]"
     ]
    },
    {
     "name": "stdout",
     "output_type": "stream",
     "text": [
      "                   all        467       1106      0.822       0.69      0.767      0.635\n"
     ]
    },
    {
     "name": "stderr",
     "output_type": "stream",
     "text": [
      "\n"
     ]
    },
    {
     "name": "stdout",
     "output_type": "stream",
     "text": [
      "\n",
      "      Epoch    GPU_mem   box_loss   cls_loss   dfl_loss  Instances       Size\n"
     ]
    },
    {
     "name": "stderr",
     "output_type": "stream",
     "text": [
      "     51/100      7.17G     0.7087      0.687       1.04         55        640: 100%|██████████| 117/117 [00:51<00:00,  2.27it/s]\n",
      "                 Class     Images  Instances      Box(P          R      mAP50  mAP50-95): 100%|██████████| 15/15 [00:11<00:00,  1.36it/s]"
     ]
    },
    {
     "name": "stdout",
     "output_type": "stream",
     "text": [
      "                   all        467       1106       0.83      0.696      0.765      0.634\n"
     ]
    },
    {
     "name": "stderr",
     "output_type": "stream",
     "text": [
      "\n"
     ]
    },
    {
     "name": "stdout",
     "output_type": "stream",
     "text": [
      "\n",
      "      Epoch    GPU_mem   box_loss   cls_loss   dfl_loss  Instances       Size\n"
     ]
    },
    {
     "name": "stderr",
     "output_type": "stream",
     "text": [
      "     52/100      7.16G     0.7219     0.7057      1.048         65        640: 100%|██████████| 117/117 [00:51<00:00,  2.27it/s]\n",
      "                 Class     Images  Instances      Box(P          R      mAP50  mAP50-95): 100%|██████████| 15/15 [00:08<00:00,  1.83it/s]"
     ]
    },
    {
     "name": "stdout",
     "output_type": "stream",
     "text": [
      "                   all        467       1106      0.769      0.721       0.76      0.615\n"
     ]
    },
    {
     "name": "stderr",
     "output_type": "stream",
     "text": [
      "\n"
     ]
    },
    {
     "name": "stdout",
     "output_type": "stream",
     "text": [
      "\n",
      "      Epoch    GPU_mem   box_loss   cls_loss   dfl_loss  Instances       Size\n"
     ]
    },
    {
     "name": "stderr",
     "output_type": "stream",
     "text": [
      "     53/100      7.08G     0.7204     0.7119       1.05         60        640: 100%|██████████| 117/117 [00:51<00:00,  2.26it/s]\n",
      "                 Class     Images  Instances      Box(P          R      mAP50  mAP50-95): 100%|██████████| 15/15 [00:07<00:00,  2.10it/s]"
     ]
    },
    {
     "name": "stdout",
     "output_type": "stream",
     "text": [
      "                   all        467       1106      0.784       0.74      0.773      0.641\n"
     ]
    },
    {
     "name": "stderr",
     "output_type": "stream",
     "text": [
      "\n"
     ]
    },
    {
     "name": "stdout",
     "output_type": "stream",
     "text": [
      "\n",
      "      Epoch    GPU_mem   box_loss   cls_loss   dfl_loss  Instances       Size\n"
     ]
    },
    {
     "name": "stderr",
     "output_type": "stream",
     "text": [
      "     54/100      7.18G      0.728      0.713      1.051         61        640: 100%|██████████| 117/117 [00:51<00:00,  2.27it/s]\n",
      "                 Class     Images  Instances      Box(P          R      mAP50  mAP50-95): 100%|██████████| 15/15 [00:10<00:00,  1.48it/s]"
     ]
    },
    {
     "name": "stdout",
     "output_type": "stream",
     "text": [
      "                   all        467       1106      0.761      0.722      0.771      0.629\n"
     ]
    },
    {
     "name": "stderr",
     "output_type": "stream",
     "text": [
      "\n"
     ]
    },
    {
     "name": "stdout",
     "output_type": "stream",
     "text": [
      "\n",
      "      Epoch    GPU_mem   box_loss   cls_loss   dfl_loss  Instances       Size\n"
     ]
    },
    {
     "name": "stderr",
     "output_type": "stream",
     "text": [
      "     55/100      7.14G     0.7043      0.663      1.034         69        640: 100%|██████████| 117/117 [00:51<00:00,  2.28it/s]\n",
      "                 Class     Images  Instances      Box(P          R      mAP50  mAP50-95): 100%|██████████| 15/15 [00:08<00:00,  1.74it/s]"
     ]
    },
    {
     "name": "stdout",
     "output_type": "stream",
     "text": [
      "                   all        467       1106      0.834      0.698      0.772      0.633\n"
     ]
    },
    {
     "name": "stderr",
     "output_type": "stream",
     "text": [
      "\n"
     ]
    },
    {
     "name": "stdout",
     "output_type": "stream",
     "text": [
      "\n",
      "      Epoch    GPU_mem   box_loss   cls_loss   dfl_loss  Instances       Size\n"
     ]
    },
    {
     "name": "stderr",
     "output_type": "stream",
     "text": [
      "     56/100      7.24G     0.7215     0.6963      1.046         52        640: 100%|██████████| 117/117 [00:51<00:00,  2.28it/s]\n",
      "                 Class     Images  Instances      Box(P          R      mAP50  mAP50-95): 100%|██████████| 15/15 [00:29<00:00,  1.99s/it]"
     ]
    },
    {
     "name": "stdout",
     "output_type": "stream",
     "text": [
      "                   all        467       1106      0.798      0.734      0.772      0.629\n"
     ]
    },
    {
     "name": "stderr",
     "output_type": "stream",
     "text": [
      "\n"
     ]
    },
    {
     "name": "stdout",
     "output_type": "stream",
     "text": [
      "\n",
      "      Epoch    GPU_mem   box_loss   cls_loss   dfl_loss  Instances       Size\n"
     ]
    },
    {
     "name": "stderr",
     "output_type": "stream",
     "text": [
      "     57/100      7.04G     0.7149      0.671       1.05         57        640: 100%|██████████| 117/117 [00:51<00:00,  2.28it/s]\n",
      "                 Class     Images  Instances      Box(P          R      mAP50  mAP50-95): 100%|██████████| 15/15 [00:07<00:00,  2.06it/s]"
     ]
    },
    {
     "name": "stdout",
     "output_type": "stream",
     "text": [
      "                   all        467       1106       0.77      0.742      0.774      0.639\n"
     ]
    },
    {
     "name": "stderr",
     "output_type": "stream",
     "text": [
      "\n"
     ]
    },
    {
     "name": "stdout",
     "output_type": "stream",
     "text": [
      "\n",
      "      Epoch    GPU_mem   box_loss   cls_loss   dfl_loss  Instances       Size\n"
     ]
    },
    {
     "name": "stderr",
     "output_type": "stream",
     "text": [
      "     58/100       7.2G     0.7052     0.6753       1.04         47        640: 100%|██████████| 117/117 [00:50<00:00,  2.30it/s]\n",
      "                 Class     Images  Instances      Box(P          R      mAP50  mAP50-95): 100%|██████████| 15/15 [00:09<00:00,  1.54it/s]"
     ]
    },
    {
     "name": "stdout",
     "output_type": "stream",
     "text": [
      "                   all        467       1106        0.8      0.715      0.764      0.619\n"
     ]
    },
    {
     "name": "stderr",
     "output_type": "stream",
     "text": [
      "\n"
     ]
    },
    {
     "name": "stdout",
     "output_type": "stream",
     "text": [
      "\n",
      "      Epoch    GPU_mem   box_loss   cls_loss   dfl_loss  Instances       Size\n"
     ]
    },
    {
     "name": "stderr",
     "output_type": "stream",
     "text": [
      "     59/100      7.18G     0.6909     0.6525      1.037         76        640: 100%|██████████| 117/117 [00:51<00:00,  2.28it/s]\n",
      "                 Class     Images  Instances      Box(P          R      mAP50  mAP50-95): 100%|██████████| 15/15 [00:10<00:00,  1.43it/s]"
     ]
    },
    {
     "name": "stdout",
     "output_type": "stream",
     "text": [
      "                   all        467       1106      0.844      0.705      0.771      0.631\n"
     ]
    },
    {
     "name": "stderr",
     "output_type": "stream",
     "text": [
      "\n"
     ]
    },
    {
     "name": "stdout",
     "output_type": "stream",
     "text": [
      "\n",
      "      Epoch    GPU_mem   box_loss   cls_loss   dfl_loss  Instances       Size\n"
     ]
    },
    {
     "name": "stderr",
     "output_type": "stream",
     "text": [
      "     60/100      7.19G      0.682     0.6579      1.035         48        640: 100%|██████████| 117/117 [00:51<00:00,  2.28it/s]\n",
      "                 Class     Images  Instances      Box(P          R      mAP50  mAP50-95): 100%|██████████| 15/15 [00:07<00:00,  2.02it/s]"
     ]
    },
    {
     "name": "stdout",
     "output_type": "stream",
     "text": [
      "                   all        467       1106      0.856      0.712      0.769      0.626\n"
     ]
    },
    {
     "name": "stderr",
     "output_type": "stream",
     "text": [
      "\n"
     ]
    },
    {
     "name": "stdout",
     "output_type": "stream",
     "text": [
      "\n",
      "      Epoch    GPU_mem   box_loss   cls_loss   dfl_loss  Instances       Size\n"
     ]
    },
    {
     "name": "stderr",
     "output_type": "stream",
     "text": [
      "     61/100      7.08G     0.6999     0.6746      1.033         69        640: 100%|██████████| 117/117 [00:51<00:00,  2.29it/s]\n",
      "                 Class     Images  Instances      Box(P          R      mAP50  mAP50-95): 100%|██████████| 15/15 [00:07<00:00,  2.07it/s]"
     ]
    },
    {
     "name": "stdout",
     "output_type": "stream",
     "text": [
      "                   all        467       1106      0.853       0.71      0.771      0.646\n"
     ]
    },
    {
     "name": "stderr",
     "output_type": "stream",
     "text": [
      "\n"
     ]
    },
    {
     "name": "stdout",
     "output_type": "stream",
     "text": [
      "\n",
      "      Epoch    GPU_mem   box_loss   cls_loss   dfl_loss  Instances       Size\n"
     ]
    },
    {
     "name": "stderr",
     "output_type": "stream",
     "text": [
      "     62/100      7.18G     0.6869     0.6489      1.035         51        640: 100%|██████████| 117/117 [00:51<00:00,  2.28it/s]\n",
      "                 Class     Images  Instances      Box(P          R      mAP50  mAP50-95): 100%|██████████| 15/15 [00:08<00:00,  1.74it/s]"
     ]
    },
    {
     "name": "stdout",
     "output_type": "stream",
     "text": [
      "                   all        467       1106      0.812      0.741      0.773      0.647\n"
     ]
    },
    {
     "name": "stderr",
     "output_type": "stream",
     "text": [
      "\n"
     ]
    },
    {
     "name": "stdout",
     "output_type": "stream",
     "text": [
      "\n",
      "      Epoch    GPU_mem   box_loss   cls_loss   dfl_loss  Instances       Size\n"
     ]
    },
    {
     "name": "stderr",
     "output_type": "stream",
     "text": [
      "     63/100      7.16G      0.679     0.6352      1.017         81        640: 100%|██████████| 117/117 [00:51<00:00,  2.28it/s]\n",
      "                 Class     Images  Instances      Box(P          R      mAP50  mAP50-95): 100%|██████████| 15/15 [00:09<00:00,  1.54it/s]"
     ]
    },
    {
     "name": "stdout",
     "output_type": "stream",
     "text": [
      "                   all        467       1106      0.831      0.716      0.766       0.63\n"
     ]
    },
    {
     "name": "stderr",
     "output_type": "stream",
     "text": [
      "\n"
     ]
    },
    {
     "name": "stdout",
     "output_type": "stream",
     "text": [
      "\n",
      "      Epoch    GPU_mem   box_loss   cls_loss   dfl_loss  Instances       Size\n"
     ]
    },
    {
     "name": "stderr",
     "output_type": "stream",
     "text": [
      "     64/100      7.18G     0.6616     0.6226      1.013         52        640: 100%|██████████| 117/117 [00:51<00:00,  2.28it/s]\n",
      "                 Class     Images  Instances      Box(P          R      mAP50  mAP50-95): 100%|██████████| 15/15 [00:22<00:00,  1.52s/it]"
     ]
    },
    {
     "name": "stdout",
     "output_type": "stream",
     "text": [
      "                   all        467       1106      0.832       0.73      0.772      0.633\n"
     ]
    },
    {
     "name": "stderr",
     "output_type": "stream",
     "text": [
      "\n"
     ]
    },
    {
     "name": "stdout",
     "output_type": "stream",
     "text": [
      "\n",
      "      Epoch    GPU_mem   box_loss   cls_loss   dfl_loss  Instances       Size\n"
     ]
    },
    {
     "name": "stderr",
     "output_type": "stream",
     "text": [
      "     65/100      7.08G     0.6803     0.6377      1.017         63        640: 100%|██████████| 117/117 [00:51<00:00,  2.29it/s]\n",
      "                 Class     Images  Instances      Box(P          R      mAP50  mAP50-95): 100%|██████████| 15/15 [00:07<00:00,  2.07it/s]"
     ]
    },
    {
     "name": "stdout",
     "output_type": "stream",
     "text": [
      "                   all        467       1106      0.856      0.684      0.768      0.635\n"
     ]
    },
    {
     "name": "stderr",
     "output_type": "stream",
     "text": [
      "\n"
     ]
    },
    {
     "name": "stdout",
     "output_type": "stream",
     "text": [
      "\n",
      "      Epoch    GPU_mem   box_loss   cls_loss   dfl_loss  Instances       Size\n"
     ]
    },
    {
     "name": "stderr",
     "output_type": "stream",
     "text": [
      "     66/100      7.17G     0.6582     0.6063      1.011         45        640: 100%|██████████| 117/117 [00:51<00:00,  2.29it/s]\n",
      "                 Class     Images  Instances      Box(P          R      mAP50  mAP50-95): 100%|██████████| 15/15 [00:08<00:00,  1.79it/s]"
     ]
    },
    {
     "name": "stdout",
     "output_type": "stream",
     "text": [
      "                   all        467       1106       0.89      0.655      0.775      0.651\n"
     ]
    },
    {
     "name": "stderr",
     "output_type": "stream",
     "text": [
      "\n"
     ]
    },
    {
     "name": "stdout",
     "output_type": "stream",
     "text": [
      "\n",
      "      Epoch    GPU_mem   box_loss   cls_loss   dfl_loss  Instances       Size\n"
     ]
    },
    {
     "name": "stderr",
     "output_type": "stream",
     "text": [
      "     67/100      7.18G     0.6579     0.5983      1.009         70        640: 100%|██████████| 117/117 [00:51<00:00,  2.29it/s]\n",
      "                 Class     Images  Instances      Box(P          R      mAP50  mAP50-95): 100%|██████████| 15/15 [00:09<00:00,  1.53it/s]"
     ]
    },
    {
     "name": "stdout",
     "output_type": "stream",
     "text": [
      "                   all        467       1106      0.864      0.698      0.776      0.652\n"
     ]
    },
    {
     "name": "stderr",
     "output_type": "stream",
     "text": [
      "\n"
     ]
    },
    {
     "name": "stdout",
     "output_type": "stream",
     "text": [
      "\n",
      "      Epoch    GPU_mem   box_loss   cls_loss   dfl_loss  Instances       Size\n"
     ]
    },
    {
     "name": "stderr",
     "output_type": "stream",
     "text": [
      "     68/100      7.17G      0.664     0.6316      1.018         46        640: 100%|██████████| 117/117 [00:51<00:00,  2.28it/s]\n",
      "                 Class     Images  Instances      Box(P          R      mAP50  mAP50-95): 100%|██████████| 15/15 [00:07<00:00,  1.88it/s]"
     ]
    },
    {
     "name": "stdout",
     "output_type": "stream",
     "text": [
      "                   all        467       1106      0.874       0.69      0.768      0.639\n"
     ]
    },
    {
     "name": "stderr",
     "output_type": "stream",
     "text": [
      "\n"
     ]
    },
    {
     "name": "stdout",
     "output_type": "stream",
     "text": [
      "\n",
      "      Epoch    GPU_mem   box_loss   cls_loss   dfl_loss  Instances       Size\n"
     ]
    },
    {
     "name": "stderr",
     "output_type": "stream",
     "text": [
      "     69/100      7.08G     0.6543     0.5955      1.017         74        640: 100%|██████████| 117/117 [00:51<00:00,  2.28it/s]\n",
      "                 Class     Images  Instances      Box(P          R      mAP50  mAP50-95): 100%|██████████| 15/15 [00:06<00:00,  2.39it/s]"
     ]
    },
    {
     "name": "stdout",
     "output_type": "stream",
     "text": [
      "                   all        467       1106      0.835      0.707      0.769      0.643\n"
     ]
    },
    {
     "name": "stderr",
     "output_type": "stream",
     "text": [
      "\n"
     ]
    },
    {
     "name": "stdout",
     "output_type": "stream",
     "text": [
      "\n",
      "      Epoch    GPU_mem   box_loss   cls_loss   dfl_loss  Instances       Size\n"
     ]
    },
    {
     "name": "stderr",
     "output_type": "stream",
     "text": [
      "     70/100      7.18G     0.6474     0.5991      1.008         77        640: 100%|██████████| 117/117 [00:51<00:00,  2.29it/s]\n",
      "                 Class     Images  Instances      Box(P          R      mAP50  mAP50-95): 100%|██████████| 15/15 [00:09<00:00,  1.55it/s]"
     ]
    },
    {
     "name": "stdout",
     "output_type": "stream",
     "text": [
      "                   all        467       1106      0.864      0.694      0.766       0.64\n"
     ]
    },
    {
     "name": "stderr",
     "output_type": "stream",
     "text": [
      "\n"
     ]
    },
    {
     "name": "stdout",
     "output_type": "stream",
     "text": [
      "\n",
      "      Epoch    GPU_mem   box_loss   cls_loss   dfl_loss  Instances       Size\n"
     ]
    },
    {
     "name": "stderr",
     "output_type": "stream",
     "text": [
      "     71/100      7.17G     0.6383     0.5757      1.007         52        640: 100%|██████████| 117/117 [00:51<00:00,  2.28it/s]\n",
      "                 Class     Images  Instances      Box(P          R      mAP50  mAP50-95): 100%|██████████| 15/15 [00:09<00:00,  1.54it/s]"
     ]
    },
    {
     "name": "stdout",
     "output_type": "stream",
     "text": [
      "                   all        467       1106      0.741      0.752      0.767      0.634\n"
     ]
    },
    {
     "name": "stderr",
     "output_type": "stream",
     "text": [
      "\n"
     ]
    },
    {
     "name": "stdout",
     "output_type": "stream",
     "text": [
      "\n",
      "      Epoch    GPU_mem   box_loss   cls_loss   dfl_loss  Instances       Size\n"
     ]
    },
    {
     "name": "stderr",
     "output_type": "stream",
     "text": [
      "     72/100      7.17G     0.6292     0.5684     0.9989         61        640: 100%|██████████| 117/117 [00:51<00:00,  2.29it/s]\n",
      "                 Class     Images  Instances      Box(P          R      mAP50  mAP50-95): 100%|██████████| 15/15 [00:08<00:00,  1.86it/s]"
     ]
    },
    {
     "name": "stdout",
     "output_type": "stream",
     "text": [
      "                   all        467       1106      0.851      0.695      0.769      0.641\n"
     ]
    },
    {
     "name": "stderr",
     "output_type": "stream",
     "text": [
      "\n"
     ]
    },
    {
     "name": "stdout",
     "output_type": "stream",
     "text": [
      "\n",
      "      Epoch    GPU_mem   box_loss   cls_loss   dfl_loss  Instances       Size\n"
     ]
    },
    {
     "name": "stderr",
     "output_type": "stream",
     "text": [
      "     73/100      7.08G      0.641     0.5933      1.007         51        640: 100%|██████████| 117/117 [00:51<00:00,  2.28it/s]\n",
      "                 Class     Images  Instances      Box(P          R      mAP50  mAP50-95): 100%|██████████| 15/15 [00:07<00:00,  2.02it/s]"
     ]
    },
    {
     "name": "stdout",
     "output_type": "stream",
     "text": [
      "                   all        467       1106       0.83      0.708      0.769      0.643\n"
     ]
    },
    {
     "name": "stderr",
     "output_type": "stream",
     "text": [
      "\n"
     ]
    },
    {
     "name": "stdout",
     "output_type": "stream",
     "text": [
      "\n",
      "      Epoch    GPU_mem   box_loss   cls_loss   dfl_loss  Instances       Size\n"
     ]
    },
    {
     "name": "stderr",
     "output_type": "stream",
     "text": [
      "     74/100      7.18G     0.6372     0.5888      1.003         69        640: 100%|██████████| 117/117 [00:51<00:00,  2.27it/s]\n",
      "                 Class     Images  Instances      Box(P          R      mAP50  mAP50-95): 100%|██████████| 15/15 [00:12<00:00,  1.21it/s]"
     ]
    },
    {
     "name": "stdout",
     "output_type": "stream",
     "text": [
      "                   all        467       1106      0.779      0.758      0.778      0.651\n"
     ]
    },
    {
     "name": "stderr",
     "output_type": "stream",
     "text": [
      "\n"
     ]
    },
    {
     "name": "stdout",
     "output_type": "stream",
     "text": [
      "\n",
      "      Epoch    GPU_mem   box_loss   cls_loss   dfl_loss  Instances       Size\n"
     ]
    },
    {
     "name": "stderr",
     "output_type": "stream",
     "text": [
      "     75/100      7.17G     0.6265      0.556     0.9923         44        640: 100%|██████████| 117/117 [00:51<00:00,  2.28it/s]\n",
      "                 Class     Images  Instances      Box(P          R      mAP50  mAP50-95): 100%|██████████| 15/15 [00:10<00:00,  1.39it/s]"
     ]
    },
    {
     "name": "stdout",
     "output_type": "stream",
     "text": [
      "                   all        467       1106      0.868      0.691      0.773      0.644\n"
     ]
    },
    {
     "name": "stderr",
     "output_type": "stream",
     "text": [
      "\n"
     ]
    },
    {
     "name": "stdout",
     "output_type": "stream",
     "text": [
      "\n",
      "      Epoch    GPU_mem   box_loss   cls_loss   dfl_loss  Instances       Size\n"
     ]
    },
    {
     "name": "stderr",
     "output_type": "stream",
     "text": [
      "     76/100      7.16G     0.6118     0.5577      0.993         61        640: 100%|██████████| 117/117 [00:51<00:00,  2.28it/s]\n",
      "                 Class     Images  Instances      Box(P          R      mAP50  mAP50-95): 100%|██████████| 15/15 [00:05<00:00,  2.68it/s]"
     ]
    },
    {
     "name": "stdout",
     "output_type": "stream",
     "text": [
      "                   all        467       1106      0.872      0.684       0.77       0.64\n"
     ]
    },
    {
     "name": "stderr",
     "output_type": "stream",
     "text": [
      "\n"
     ]
    },
    {
     "name": "stdout",
     "output_type": "stream",
     "text": [
      "\n",
      "      Epoch    GPU_mem   box_loss   cls_loss   dfl_loss  Instances       Size\n"
     ]
    },
    {
     "name": "stderr",
     "output_type": "stream",
     "text": [
      "     77/100      7.08G      0.627     0.5854     0.9987         84        640: 100%|██████████| 117/117 [00:51<00:00,  2.29it/s]\n",
      "                 Class     Images  Instances      Box(P          R      mAP50  mAP50-95): 100%|██████████| 15/15 [00:06<00:00,  2.29it/s]"
     ]
    },
    {
     "name": "stdout",
     "output_type": "stream",
     "text": [
      "                   all        467       1106      0.752      0.751      0.773      0.649\n"
     ]
    },
    {
     "name": "stderr",
     "output_type": "stream",
     "text": [
      "\n"
     ]
    },
    {
     "name": "stdout",
     "output_type": "stream",
     "text": [
      "\n",
      "      Epoch    GPU_mem   box_loss   cls_loss   dfl_loss  Instances       Size\n"
     ]
    },
    {
     "name": "stderr",
     "output_type": "stream",
     "text": [
      "     78/100      7.18G     0.6027     0.5395      0.991         52        640: 100%|██████████| 117/117 [00:51<00:00,  2.28it/s]\n",
      "                 Class     Images  Instances      Box(P          R      mAP50  mAP50-95): 100%|██████████| 15/15 [00:08<00:00,  1.67it/s]"
     ]
    },
    {
     "name": "stdout",
     "output_type": "stream",
     "text": [
      "                   all        467       1106        0.8      0.739      0.765      0.641\n"
     ]
    },
    {
     "name": "stderr",
     "output_type": "stream",
     "text": [
      "\n"
     ]
    },
    {
     "name": "stdout",
     "output_type": "stream",
     "text": [
      "\n",
      "      Epoch    GPU_mem   box_loss   cls_loss   dfl_loss  Instances       Size\n"
     ]
    },
    {
     "name": "stderr",
     "output_type": "stream",
     "text": [
      "     79/100      7.19G        0.6     0.5388     0.9831         44        640: 100%|██████████| 117/117 [00:51<00:00,  2.29it/s]\n",
      "                 Class     Images  Instances      Box(P          R      mAP50  mAP50-95): 100%|██████████| 15/15 [00:09<00:00,  1.62it/s]"
     ]
    },
    {
     "name": "stdout",
     "output_type": "stream",
     "text": [
      "                   all        467       1106      0.808      0.737      0.776      0.647\n"
     ]
    },
    {
     "name": "stderr",
     "output_type": "stream",
     "text": [
      "\n"
     ]
    },
    {
     "name": "stdout",
     "output_type": "stream",
     "text": [
      "\n",
      "      Epoch    GPU_mem   box_loss   cls_loss   dfl_loss  Instances       Size\n"
     ]
    },
    {
     "name": "stderr",
     "output_type": "stream",
     "text": [
      "     80/100      7.17G     0.6123     0.5578     0.9913         77        640: 100%|██████████| 117/117 [00:51<00:00,  2.28it/s]\n",
      "                 Class     Images  Instances      Box(P          R      mAP50  mAP50-95): 100%|██████████| 15/15 [00:08<00:00,  1.75it/s]"
     ]
    },
    {
     "name": "stdout",
     "output_type": "stream",
     "text": [
      "                   all        467       1106      0.817      0.735      0.771      0.647\n"
     ]
    },
    {
     "name": "stderr",
     "output_type": "stream",
     "text": [
      "\n"
     ]
    },
    {
     "name": "stdout",
     "output_type": "stream",
     "text": [
      "\n",
      "      Epoch    GPU_mem   box_loss   cls_loss   dfl_loss  Instances       Size\n"
     ]
    },
    {
     "name": "stderr",
     "output_type": "stream",
     "text": [
      "     81/100      7.09G      0.602     0.5364     0.9854         55        640: 100%|██████████| 117/117 [00:50<00:00,  2.30it/s]\n",
      "                 Class     Images  Instances      Box(P          R      mAP50  mAP50-95): 100%|██████████| 15/15 [00:06<00:00,  2.44it/s]"
     ]
    },
    {
     "name": "stdout",
     "output_type": "stream",
     "text": [
      "                   all        467       1106      0.836      0.741      0.776      0.652\n"
     ]
    },
    {
     "name": "stderr",
     "output_type": "stream",
     "text": [
      "\n"
     ]
    },
    {
     "name": "stdout",
     "output_type": "stream",
     "text": [
      "\n",
      "      Epoch    GPU_mem   box_loss   cls_loss   dfl_loss  Instances       Size\n"
     ]
    },
    {
     "name": "stderr",
     "output_type": "stream",
     "text": [
      "     82/100       7.2G     0.5871     0.5305      0.979         57        640: 100%|██████████| 117/117 [00:51<00:00,  2.28it/s]\n",
      "                 Class     Images  Instances      Box(P          R      mAP50  mAP50-95): 100%|██████████| 15/15 [00:10<00:00,  1.37it/s]"
     ]
    },
    {
     "name": "stdout",
     "output_type": "stream",
     "text": [
      "                   all        467       1106      0.825      0.724      0.778      0.645\n"
     ]
    },
    {
     "name": "stderr",
     "output_type": "stream",
     "text": [
      "\n"
     ]
    },
    {
     "name": "stdout",
     "output_type": "stream",
     "text": [
      "\n",
      "      Epoch    GPU_mem   box_loss   cls_loss   dfl_loss  Instances       Size\n"
     ]
    },
    {
     "name": "stderr",
     "output_type": "stream",
     "text": [
      "     83/100      7.17G     0.6007     0.5472      0.987         50        640: 100%|██████████| 117/117 [00:51<00:00,  2.28it/s]\n",
      "                 Class     Images  Instances      Box(P          R      mAP50  mAP50-95): 100%|██████████| 15/15 [00:08<00:00,  1.69it/s]"
     ]
    },
    {
     "name": "stdout",
     "output_type": "stream",
     "text": [
      "                   all        467       1106      0.809      0.744      0.776      0.647\n"
     ]
    },
    {
     "name": "stderr",
     "output_type": "stream",
     "text": [
      "\n"
     ]
    },
    {
     "name": "stdout",
     "output_type": "stream",
     "text": [
      "\n",
      "      Epoch    GPU_mem   box_loss   cls_loss   dfl_loss  Instances       Size\n"
     ]
    },
    {
     "name": "stderr",
     "output_type": "stream",
     "text": [
      "     84/100       7.2G     0.5808     0.5202     0.9741         47        640: 100%|██████████| 117/117 [00:51<00:00,  2.29it/s]\n",
      "                 Class     Images  Instances      Box(P          R      mAP50  mAP50-95): 100%|██████████| 15/15 [00:08<00:00,  1.78it/s]"
     ]
    },
    {
     "name": "stdout",
     "output_type": "stream",
     "text": [
      "                   all        467       1106      0.783      0.742      0.776      0.643\n"
     ]
    },
    {
     "name": "stderr",
     "output_type": "stream",
     "text": [
      "\n"
     ]
    },
    {
     "name": "stdout",
     "output_type": "stream",
     "text": [
      "\n",
      "      Epoch    GPU_mem   box_loss   cls_loss   dfl_loss  Instances       Size\n"
     ]
    },
    {
     "name": "stderr",
     "output_type": "stream",
     "text": [
      "     85/100      7.11G     0.5869     0.5237     0.9735         67        640: 100%|██████████| 117/117 [00:51<00:00,  2.28it/s]\n",
      "                 Class     Images  Instances      Box(P          R      mAP50  mAP50-95): 100%|██████████| 15/15 [00:07<00:00,  2.02it/s]"
     ]
    },
    {
     "name": "stdout",
     "output_type": "stream",
     "text": [
      "                   all        467       1106      0.787      0.749      0.785      0.654\n"
     ]
    },
    {
     "name": "stderr",
     "output_type": "stream",
     "text": [
      "\n"
     ]
    },
    {
     "name": "stdout",
     "output_type": "stream",
     "text": [
      "\n",
      "      Epoch    GPU_mem   box_loss   cls_loss   dfl_loss  Instances       Size\n"
     ]
    },
    {
     "name": "stderr",
     "output_type": "stream",
     "text": [
      "     86/100      7.17G     0.5819     0.5319     0.9765         73        640: 100%|██████████| 117/117 [00:51<00:00,  2.28it/s]\n",
      "                 Class     Images  Instances      Box(P          R      mAP50  mAP50-95): 100%|██████████| 15/15 [00:08<00:00,  1.73it/s]"
     ]
    },
    {
     "name": "stdout",
     "output_type": "stream",
     "text": [
      "                   all        467       1106      0.895       0.69      0.784      0.651\n"
     ]
    },
    {
     "name": "stderr",
     "output_type": "stream",
     "text": [
      "\n"
     ]
    },
    {
     "name": "stdout",
     "output_type": "stream",
     "text": [
      "\n",
      "      Epoch    GPU_mem   box_loss   cls_loss   dfl_loss  Instances       Size\n"
     ]
    },
    {
     "name": "stderr",
     "output_type": "stream",
     "text": [
      "     87/100      7.16G     0.5702     0.5214     0.9721         58        640: 100%|██████████| 117/117 [00:51<00:00,  2.28it/s]\n",
      "                 Class     Images  Instances      Box(P          R      mAP50  mAP50-95): 100%|██████████| 15/15 [00:08<00:00,  1.71it/s]"
     ]
    },
    {
     "name": "stdout",
     "output_type": "stream",
     "text": [
      "                   all        467       1106      0.844      0.735      0.782      0.651\n"
     ]
    },
    {
     "name": "stderr",
     "output_type": "stream",
     "text": [
      "\n"
     ]
    },
    {
     "name": "stdout",
     "output_type": "stream",
     "text": [
      "\n",
      "      Epoch    GPU_mem   box_loss   cls_loss   dfl_loss  Instances       Size\n"
     ]
    },
    {
     "name": "stderr",
     "output_type": "stream",
     "text": [
      "     88/100      7.18G      0.567     0.5099     0.9702         55        640: 100%|██████████| 117/117 [00:51<00:00,  2.28it/s]\n",
      "                 Class     Images  Instances      Box(P          R      mAP50  mAP50-95): 100%|██████████| 15/15 [00:05<00:00,  2.73it/s]"
     ]
    },
    {
     "name": "stdout",
     "output_type": "stream",
     "text": [
      "                   all        467       1106      0.816      0.737      0.776      0.651\n"
     ]
    },
    {
     "name": "stderr",
     "output_type": "stream",
     "text": [
      "\n"
     ]
    },
    {
     "name": "stdout",
     "output_type": "stream",
     "text": [
      "\n",
      "      Epoch    GPU_mem   box_loss   cls_loss   dfl_loss  Instances       Size\n"
     ]
    },
    {
     "name": "stderr",
     "output_type": "stream",
     "text": [
      "     89/100      7.07G      0.578     0.5348     0.9799         48        640: 100%|██████████| 117/117 [00:51<00:00,  2.26it/s]\n",
      "                 Class     Images  Instances      Box(P          R      mAP50  mAP50-95): 100%|██████████| 15/15 [00:06<00:00,  2.41it/s]"
     ]
    },
    {
     "name": "stdout",
     "output_type": "stream",
     "text": [
      "                   all        467       1106      0.793      0.743      0.778      0.653\n"
     ]
    },
    {
     "name": "stderr",
     "output_type": "stream",
     "text": [
      "\n"
     ]
    },
    {
     "name": "stdout",
     "output_type": "stream",
     "text": [
      "\n",
      "      Epoch    GPU_mem   box_loss   cls_loss   dfl_loss  Instances       Size\n"
     ]
    },
    {
     "name": "stderr",
     "output_type": "stream",
     "text": [
      "     90/100      7.18G     0.5573     0.5041     0.9619         64        640: 100%|██████████| 117/117 [00:51<00:00,  2.28it/s]\n",
      "                 Class     Images  Instances      Box(P          R      mAP50  mAP50-95): 100%|██████████| 15/15 [00:08<00:00,  1.70it/s]"
     ]
    },
    {
     "name": "stdout",
     "output_type": "stream",
     "text": [
      "                   all        467       1106      0.851       0.73      0.774      0.653\n"
     ]
    },
    {
     "name": "stderr",
     "output_type": "stream",
     "text": [
      "\n"
     ]
    },
    {
     "name": "stdout",
     "output_type": "stream",
     "text": [
      "Closing dataloader mosaic\n",
      "\u001b[34m\u001b[1malbumentations: \u001b[0mBlur(p=0.01, blur_limit=(3, 7)), MedianBlur(p=0.01, blur_limit=(3, 7)), ToGray(p=0.01, num_output_channels=3, method='weighted_average'), CLAHE(p=0.01, clip_limit=(1.0, 4.0), tile_grid_size=(8, 8))\n",
      "\n",
      "      Epoch    GPU_mem   box_loss   cls_loss   dfl_loss  Instances       Size\n"
     ]
    },
    {
     "name": "stderr",
     "output_type": "stream",
     "text": [
      "     91/100      7.14G      0.498     0.3994     0.9329         25        640: 100%|██████████| 117/117 [00:56<00:00,  2.06it/s]\n",
      "                 Class     Images  Instances      Box(P          R      mAP50  mAP50-95): 100%|██████████| 15/15 [00:17<00:00,  1.18s/it]"
     ]
    },
    {
     "name": "stdout",
     "output_type": "stream",
     "text": [
      "                   all        467       1106      0.857      0.725      0.773      0.651\n"
     ]
    },
    {
     "name": "stderr",
     "output_type": "stream",
     "text": [
      "\n"
     ]
    },
    {
     "name": "stdout",
     "output_type": "stream",
     "text": [
      "\n",
      "      Epoch    GPU_mem   box_loss   cls_loss   dfl_loss  Instances       Size\n"
     ]
    },
    {
     "name": "stderr",
     "output_type": "stream",
     "text": [
      "     92/100      7.15G     0.4735     0.3608     0.9177         42        640: 100%|██████████| 117/117 [00:53<00:00,  2.17it/s]\n",
      "                 Class     Images  Instances      Box(P          R      mAP50  mAP50-95): 100%|██████████| 15/15 [00:10<00:00,  1.48it/s]"
     ]
    },
    {
     "name": "stdout",
     "output_type": "stream",
     "text": [
      "                   all        467       1106      0.852      0.733      0.778      0.659\n"
     ]
    },
    {
     "name": "stderr",
     "output_type": "stream",
     "text": [
      "\n"
     ]
    },
    {
     "name": "stdout",
     "output_type": "stream",
     "text": [
      "\n",
      "      Epoch    GPU_mem   box_loss   cls_loss   dfl_loss  Instances       Size\n"
     ]
    },
    {
     "name": "stderr",
     "output_type": "stream",
     "text": [
      "     93/100      7.08G     0.4656     0.3618     0.9159         27        640: 100%|██████████| 117/117 [00:53<00:00,  2.17it/s]\n",
      "                 Class     Images  Instances      Box(P          R      mAP50  mAP50-95): 100%|██████████| 15/15 [00:09<00:00,  1.55it/s]"
     ]
    },
    {
     "name": "stdout",
     "output_type": "stream",
     "text": [
      "                   all        467       1106      0.838      0.734      0.778      0.655\n"
     ]
    },
    {
     "name": "stderr",
     "output_type": "stream",
     "text": [
      "\n"
     ]
    },
    {
     "name": "stdout",
     "output_type": "stream",
     "text": [
      "\n",
      "      Epoch    GPU_mem   box_loss   cls_loss   dfl_loss  Instances       Size\n"
     ]
    },
    {
     "name": "stderr",
     "output_type": "stream",
     "text": [
      "     94/100      7.16G     0.4655     0.3524     0.9138         35        640: 100%|██████████| 117/117 [00:53<00:00,  2.18it/s]\n",
      "                 Class     Images  Instances      Box(P          R      mAP50  mAP50-95): 100%|██████████| 15/15 [00:14<00:00,  1.00it/s]"
     ]
    },
    {
     "name": "stdout",
     "output_type": "stream",
     "text": [
      "                   all        467       1106      0.838      0.737      0.783      0.663\n"
     ]
    },
    {
     "name": "stderr",
     "output_type": "stream",
     "text": [
      "\n"
     ]
    },
    {
     "name": "stdout",
     "output_type": "stream",
     "text": [
      "\n",
      "      Epoch    GPU_mem   box_loss   cls_loss   dfl_loss  Instances       Size\n"
     ]
    },
    {
     "name": "stderr",
     "output_type": "stream",
     "text": [
      "     95/100      7.17G     0.4782     0.3869     0.9256         27        640: 100%|██████████| 117/117 [00:53<00:00,  2.18it/s]\n",
      "                 Class     Images  Instances      Box(P          R      mAP50  mAP50-95): 100%|██████████| 15/15 [00:13<00:00,  1.15it/s]"
     ]
    },
    {
     "name": "stdout",
     "output_type": "stream",
     "text": [
      "                   all        467       1106      0.827      0.746      0.781       0.66\n"
     ]
    },
    {
     "name": "stderr",
     "output_type": "stream",
     "text": [
      "\n"
     ]
    },
    {
     "name": "stdout",
     "output_type": "stream",
     "text": [
      "\n",
      "      Epoch    GPU_mem   box_loss   cls_loss   dfl_loss  Instances       Size\n"
     ]
    },
    {
     "name": "stderr",
     "output_type": "stream",
     "text": [
      "     96/100      7.17G     0.4574      0.346     0.9075         34        640: 100%|██████████| 117/117 [00:55<00:00,  2.09it/s]\n",
      "                 Class     Images  Instances      Box(P          R      mAP50  mAP50-95): 100%|██████████| 15/15 [00:30<00:00,  2.03s/it]"
     ]
    },
    {
     "name": "stdout",
     "output_type": "stream",
     "text": [
      "                   all        467       1106      0.837      0.742      0.786      0.663\n"
     ]
    },
    {
     "name": "stderr",
     "output_type": "stream",
     "text": [
      "\n"
     ]
    },
    {
     "name": "stdout",
     "output_type": "stream",
     "text": [
      "\n",
      "      Epoch    GPU_mem   box_loss   cls_loss   dfl_loss  Instances       Size\n"
     ]
    },
    {
     "name": "stderr",
     "output_type": "stream",
     "text": [
      "     97/100      7.08G     0.4585     0.3643     0.9179         32        640: 100%|██████████| 117/117 [00:55<00:00,  2.11it/s]\n",
      "                 Class     Images  Instances      Box(P          R      mAP50  mAP50-95): 100%|██████████| 15/15 [00:10<00:00,  1.41it/s]"
     ]
    },
    {
     "name": "stdout",
     "output_type": "stream",
     "text": [
      "                   all        467       1106      0.852      0.733      0.784      0.661\n"
     ]
    },
    {
     "name": "stderr",
     "output_type": "stream",
     "text": [
      "\n"
     ]
    },
    {
     "name": "stdout",
     "output_type": "stream",
     "text": [
      "\n",
      "      Epoch    GPU_mem   box_loss   cls_loss   dfl_loss  Instances       Size\n"
     ]
    },
    {
     "name": "stderr",
     "output_type": "stream",
     "text": [
      "     98/100      7.16G     0.4446     0.3406     0.9064         36        640: 100%|██████████| 117/117 [00:53<00:00,  2.18it/s]\n",
      "                 Class     Images  Instances      Box(P          R      mAP50  mAP50-95): 100%|██████████| 15/15 [00:09<00:00,  1.51it/s]"
     ]
    },
    {
     "name": "stdout",
     "output_type": "stream",
     "text": [
      "                   all        467       1106      0.864      0.729      0.783      0.665\n"
     ]
    },
    {
     "name": "stderr",
     "output_type": "stream",
     "text": [
      "\n"
     ]
    },
    {
     "name": "stdout",
     "output_type": "stream",
     "text": [
      "\n",
      "      Epoch    GPU_mem   box_loss   cls_loss   dfl_loss  Instances       Size\n"
     ]
    },
    {
     "name": "stderr",
     "output_type": "stream",
     "text": [
      "     99/100      7.17G     0.4499     0.3513     0.9106         49        640: 100%|██████████| 117/117 [00:54<00:00,  2.14it/s]\n",
      "                 Class     Images  Instances      Box(P          R      mAP50  mAP50-95): 100%|██████████| 15/15 [00:11<00:00,  1.33it/s]"
     ]
    },
    {
     "name": "stdout",
     "output_type": "stream",
     "text": [
      "                   all        467       1106      0.862      0.733      0.783      0.665\n"
     ]
    },
    {
     "name": "stderr",
     "output_type": "stream",
     "text": [
      "\n"
     ]
    },
    {
     "name": "stdout",
     "output_type": "stream",
     "text": [
      "\n",
      "      Epoch    GPU_mem   box_loss   cls_loss   dfl_loss  Instances       Size\n"
     ]
    },
    {
     "name": "stderr",
     "output_type": "stream",
     "text": [
      "    100/100      7.16G     0.4375     0.3385      0.898         23        640: 100%|██████████| 117/117 [00:55<00:00,  2.12it/s]\n",
      "                 Class     Images  Instances      Box(P          R      mAP50  mAP50-95): 100%|██████████| 15/15 [00:25<00:00,  1.72s/it]"
     ]
    },
    {
     "name": "stdout",
     "output_type": "stream",
     "text": [
      "                   all        467       1106      0.865      0.733      0.785      0.666\n"
     ]
    },
    {
     "name": "stderr",
     "output_type": "stream",
     "text": [
      "\n"
     ]
    },
    {
     "name": "stdout",
     "output_type": "stream",
     "text": [
      "\n",
      "100 epochs completed in 1.799 hours.\n",
      "Optimizer stripped from runs\\train\\it2\\it236\\weights\\last.pt, 52.1MB\n",
      "Optimizer stripped from runs\\train\\it2\\it236\\weights\\best.pt, 52.1MB\n",
      "\n",
      "Validating runs\\train\\it2\\it236\\weights\\best.pt...\n",
      "Ultralytics 8.3.21  Python-3.9.20 torch-2.5.0 CUDA:0 (NVIDIA GeForce RTX 4060 Laptop GPU, 8188MiB)\n",
      "Model summary (fused): 218 layers, 25,863,499 parameters, 0 gradients, 78.8 GFLOPs\n"
     ]
    },
    {
     "name": "stderr",
     "output_type": "stream",
     "text": [
      "                 Class     Images  Instances      Box(P          R      mAP50  mAP50-95): 100%|██████████| 15/15 [00:04<00:00,  3.41it/s]\n"
     ]
    },
    {
     "name": "stdout",
     "output_type": "stream",
     "text": [
      "                   all        467       1106      0.865      0.733      0.785      0.666\n",
      "          Oscillatoria         15         46       0.75      0.478       0.53      0.401\n",
      "        Ankistrodesmus         14         14      0.332      0.143      0.193      0.169\n",
      "           Microcystis         96        174       0.75      0.672      0.661      0.516\n",
      "            Gomphonema         17         17          1      0.912      0.992      0.885\n",
      "         Sphaerocystis          9          9          1      0.947      0.995      0.831\n",
      "             Cosmarium          3          3      0.756      0.333       0.41      0.283\n",
      "             Cocconeis          1          1      0.782          1      0.995      0.895\n",
      "             Tribonema         16         20      0.907      0.487      0.593      0.551\n",
      "             Chlorella         40         43        0.9      0.628      0.708      0.575\n",
      "            Tetraedron          4         10      0.949          1      0.995      0.889\n",
      "        Ankistrodesmus         14         14      0.907      0.857      0.942       0.73\n",
      "            Brachionus         29         32      0.966      0.893       0.97      0.885\n",
      "               Chaenea          3          3          1          0          0          0\n",
      "            Pediastrum         25         26      0.985          1      0.995      0.828\n",
      "             Spirulina         14         16          1      0.366      0.469      0.358\n",
      "           Actinastrum         26         45      0.937      0.662      0.726      0.548\n",
      "              Navicula         20         22      0.938      0.818      0.852      0.805\n",
      "           Scenedesmus         27         29      0.893      0.586      0.735      0.497\n",
      "            Golenkinia         40         57      0.769      0.579      0.651      0.346\n",
      "            Pinnularia          7          7      0.955          1      0.995      0.937\n",
      "           Staurastrum          3          3      0.897          1      0.995       0.86\n",
      "            Phormidium        138        279      0.822      0.685      0.738      0.572\n",
      "            Fragilaria         18         18      0.942      0.895       0.98      0.929\n",
      "          Anabaenopsis          6          6      0.961      0.667      0.814      0.767\n",
      "        Coelosphaerium         27         32       0.79      0.589      0.679      0.562\n",
      "            Crucigenia          1          1      0.952          1      0.995      0.497\n",
      "            Achnanthes          5          5      0.776          1      0.995      0.969\n",
      "               Synedra         33         42       0.61      0.405      0.457      0.357\n",
      "              Ceratium          7          8      0.944      0.875      0.931      0.885\n",
      "             Pompholyx          9          9        0.9      0.998      0.984      0.929\n",
      "          Merismopedia          6          8      0.869        0.5      0.741      0.527\n",
      "             Spirogyra         21         29       0.84      0.862      0.895      0.863\n",
      "            Coelastrum          7          7      0.786      0.714      0.786      0.707\n",
      "          Raphidiopsis          1          4      0.891          1      0.995      0.835\n",
      "        Gomphosphaeria          9         15      0.731      0.467      0.528      0.484\n",
      "               Euglena         11         11          1      0.972      0.995      0.903\n",
      "              Euclanis          4          4      0.906          1      0.995      0.995\n",
      "             Keratella         10         10      0.702        0.7      0.788      0.674\n",
      "         diversicornis         16         16      0.972      0.875      0.938      0.887\n",
      "             Surirella          8          8       0.87      0.839      0.861      0.656\n",
      "             Characium          1          3       0.82      0.667      0.676      0.509\n",
      "Speed: 0.2ms preprocess, 6.2ms inference, 0.0ms loss, 0.6ms postprocess per image\n",
      "Results saved to \u001b[1mruns\\train\\it2\\it236\u001b[0m\n",
      "Ultralytics 8.3.21  Python-3.9.20 torch-2.5.0 CUDA:0 (NVIDIA GeForce RTX 4060 Laptop GPU, 8188MiB)\n",
      "Model summary (fused): 218 layers, 25,863,499 parameters, 0 gradients, 78.8 GFLOPs\n"
     ]
    },
    {
     "name": "stderr",
     "output_type": "stream",
     "text": [
      "\u001b[34m\u001b[1mval: \u001b[0mScanning D:\\KULIAH\\SEMESTER 5\\RSBP\\Bacteri\\Detection-of-bacteria-in-water-using-Yolo-images\\Detect\\Detection-of-bacteria-in-water-using-Yolo-images\\temp\\labels\\val.cache... 467 images, 0 backgrounds, 0 corrupt: 100%|██████████| 467/467 [00:00<?, ?it/s]\n",
      "                 Class     Images  Instances      Box(P          R      mAP50  mAP50-95): 100%|██████████| 30/30 [00:09<00:00,  3.31it/s]\n"
     ]
    },
    {
     "name": "stdout",
     "output_type": "stream",
     "text": [
      "                   all        467       1106      0.865      0.733      0.785      0.665\n",
      "          Oscillatoria         15         46      0.749      0.478      0.528      0.396\n",
      "        Ankistrodesmus         14         14      0.333      0.143      0.193      0.169\n",
      "           Microcystis         96        174       0.75      0.672      0.661      0.516\n",
      "            Gomphonema         17         17          1      0.912      0.992      0.879\n",
      "         Sphaerocystis          9          9          1      0.947      0.995      0.827\n",
      "             Cosmarium          3          3      0.755      0.333       0.41      0.283\n",
      "             Cocconeis          1          1      0.782          1      0.995      0.895\n",
      "             Tribonema         16         20      0.907      0.488      0.595      0.549\n",
      "             Chlorella         40         43      0.901      0.628      0.709      0.571\n",
      "            Tetraedron          4         10      0.949          1      0.995      0.879\n",
      "        Ankistrodesmus         14         14      0.907      0.857      0.942       0.73\n",
      "            Brachionus         29         32      0.966      0.894      0.971       0.89\n",
      "               Chaenea          3          3          1          0          0          0\n",
      "            Pediastrum         25         26      0.985          1      0.995      0.828\n",
      "             Spirulina         14         16          1      0.366      0.469      0.358\n",
      "           Actinastrum         26         45      0.937      0.662      0.726       0.55\n",
      "              Navicula         20         22      0.938      0.818      0.852      0.805\n",
      "           Scenedesmus         27         29      0.893      0.586      0.734      0.492\n",
      "            Golenkinia         40         57      0.785      0.577       0.65       0.35\n",
      "            Pinnularia          7          7      0.955          1      0.995       0.92\n",
      "           Staurastrum          3          3      0.897          1      0.995       0.86\n",
      "            Phormidium        138        279      0.822      0.685      0.738      0.571\n",
      "            Fragilaria         18         18      0.942      0.895       0.98      0.929\n",
      "          Anabaenopsis          6          6       0.96      0.667      0.814      0.742\n",
      "        Coelosphaerium         27         32       0.79      0.589       0.68      0.561\n",
      "            Crucigenia          1          1      0.952          1      0.995      0.497\n",
      "            Achnanthes          5          5      0.776          1      0.995      0.969\n",
      "               Synedra         33         42      0.607      0.405      0.457      0.363\n",
      "              Ceratium          7          8      0.944      0.875      0.931      0.897\n",
      "             Pompholyx          9          9        0.9      0.998      0.984      0.929\n",
      "          Merismopedia          6          8      0.869        0.5      0.741      0.527\n",
      "             Spirogyra         21         29       0.84      0.862      0.895      0.863\n",
      "            Coelastrum          7          7      0.786      0.714      0.786      0.707\n",
      "          Raphidiopsis          1          4       0.89          1      0.995      0.835\n",
      "        Gomphosphaeria          9         15      0.733      0.467      0.528      0.491\n",
      "               Euglena         11         11          1      0.972      0.995      0.903\n",
      "              Euclanis          4          4      0.906          1      0.995      0.995\n",
      "             Keratella         10         10      0.702        0.7      0.788      0.674\n",
      "         diversicornis         16         16      0.972      0.875      0.938      0.887\n",
      "             Surirella          8          8       0.87      0.839      0.861      0.657\n",
      "             Characium          1          3       0.82      0.667      0.676      0.509\n",
      "Speed: 0.3ms preprocess, 14.1ms inference, 0.0ms loss, 1.5ms postprocess per image\n",
      "Results saved to \u001b[1mruns\\train\\it2\\it2362\u001b[0m\n",
      "Ultralytics 8.3.21  Python-3.9.20 torch-2.5.0 CPU (13th Gen Intel Core(TM) i9-13900HX)\n",
      "\n",
      "\u001b[34m\u001b[1mPyTorch:\u001b[0m starting from 'runs\\train\\it2\\it236\\weights\\best.pt' with input shape (1, 3, 640, 640) BCHW and output shape(s) (1, 45, 8400) (49.7 MB)\n",
      "\n",
      "\u001b[34m\u001b[1mONNX:\u001b[0m starting export with onnx 1.17.0 opset 19...\n",
      "\u001b[34m\u001b[1mONNX:\u001b[0m slimming with onnxslim 0.1.39...\n",
      "\u001b[34m\u001b[1mONNX:\u001b[0m export success  3.4s, saved as 'runs\\train\\it2\\it236\\weights\\best.onnx' (98.9 MB)\n",
      "\n",
      "Export complete (4.0s)\n",
      "Results saved to \u001b[1mD:\\KULIAH\\SEMESTER 5\\RSBP\\Bacteri\\Detection-of-bacteria-in-water-using-Yolo-images\\Detect\\Detection-of-bacteria-in-water-using-Yolo-images\\workspace\\runs\\train\\it2\\it236\\weights\u001b[0m\n",
      "Predict:         yolo predict task=detect model=runs\\train\\it2\\it236\\weights\\best.onnx imgsz=640  \n",
      "Validate:        yolo val task=detect model=runs\\train\\it2\\it236\\weights\\best.onnx imgsz=640 data=../data.yaml  \n",
      "Visualize:       https://netron.app\n"
     ]
    }
   ],
   "source": [
    "from ultralytics import YOLO\n",
    "\n",
    "name = 'it2'\n",
    "def main():\n",
    "    # Inisialisasi model YOLOv8\n",
    "    model = YOLO('yolov8m.pt')  # Pre-trained model weights untuk YOLOv8\n",
    "    \n",
    "    # Tambahkan `class_weights` sebagai parameter dinamis\n",
    "    model.train(\n",
    "        data='../data.yaml',\n",
    "        epochs=100,\n",
    "        imgsz=640,\n",
    "        batch=16,\n",
    "        name=name,\n",
    "        workers=16,\n",
    "        project=f'runs/train/{name}',\n",
    "        device=0,\n",
    "        augment=False\n",
    "    )\n",
    "\n",
    "    # Evaluasi model setelah pelatihan\n",
    "    model.val()\n",
    "\n",
    "    # Export model ke format lain (misal: TorchScript, ONNX, CoreML, TensorRT)\n",
    "    model.export(format='onnx')  # atau format lain yang diinginkan\n",
    "\n",
    "if __name__ == '__main__':\n",
    "    main()"
   ]
  },
  {
   "cell_type": "code",
   "execution_count": null,
   "metadata": {},
   "outputs": [
    {
     "name": "stdout",
     "output_type": "stream",
     "text": [
      "True\n"
     ]
    }
   ],
   "source": [
    "import shutil\n",
    "import os\n",
    "import datetime\n",
    "\n",
    "source_dir = os.getcwd()\n",
    "destination_dir = f'runs/train/{name}'\n",
    "\n",
    "os.makedirs(destination_dir, exist_ok=True)\n",
    "\n",
    "for filename in os.listdir(source_dir):\n",
    "    file_path = os.path.join(source_dir, filename)\n",
    "    if os.path.isfile(file_path):\n",
    "        shutil.move(file_path, destination_dir)"
   ]
  }
 ],
 "metadata": {
  "kernelspec": {
   "display_name": "bacteri",
   "language": "python",
   "name": "python3"
  },
  "language_info": {
   "codemirror_mode": {
    "name": "ipython",
    "version": 3
   },
   "file_extension": ".py",
   "mimetype": "text/x-python",
   "name": "python",
   "nbconvert_exporter": "python",
   "pygments_lexer": "ipython3",
   "version": "3.9.20"
  }
 },
 "nbformat": 4,
 "nbformat_minor": 2
}
